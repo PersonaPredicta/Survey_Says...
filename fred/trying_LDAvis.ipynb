{
 "cells": [
  {
   "cell_type": "code",
   "execution_count": 1,
   "metadata": {},
   "outputs": [],
   "source": [
    "import pyLDAvis\n",
    "import pyLDAvis.sklearn\n",
    "pyLDAvis.enable_notebook()"
   ]
  },
  {
   "cell_type": "code",
   "execution_count": 53,
   "metadata": {},
   "outputs": [],
   "source": [
    "import seaborn as sns"
   ]
  },
  {
   "cell_type": "code",
   "execution_count": 2,
   "metadata": {},
   "outputs": [
    {
     "name": "stderr",
     "output_type": "stream",
     "text": [
      "/usr/local/anaconda3/lib/python3.7/site-packages/nltk/decorators.py:68: DeprecationWarning: `formatargspec` is deprecated since Python 3.5. Use `signature` and the `Signature` object directly\n",
      "  regargs, varargs, varkwargs, defaults, formatvalue=lambda value: \"\"\n",
      "/usr/local/anaconda3/lib/python3.7/site-packages/nltk/lm/counter.py:15: DeprecationWarning: Using or importing the ABCs from 'collections' instead of from 'collections.abc' is deprecated, and in 3.8 it will stop working\n",
      "  from collections import Sequence, defaultdict\n",
      "/usr/local/anaconda3/lib/python3.7/site-packages/nltk/lm/vocabulary.py:13: DeprecationWarning: Using or importing the ABCs from 'collections' instead of from 'collections.abc' is deprecated, and in 3.8 it will stop working\n",
      "  from collections import Counter, Iterable\n"
     ]
    }
   ],
   "source": [
    "import nlp, wrangle"
   ]
  },
  {
   "cell_type": "code",
   "execution_count": 35,
   "metadata": {},
   "outputs": [],
   "source": [
    "import numpy as np"
   ]
  },
  {
   "cell_type": "code",
   "execution_count": 37,
   "metadata": {},
   "outputs": [],
   "source": [
    "import pandas as pd"
   ]
  },
  {
   "cell_type": "code",
   "execution_count": 3,
   "metadata": {},
   "outputs": [],
   "source": [
    "df = wrangle.wrangle_data()"
   ]
  },
  {
   "cell_type": "code",
   "execution_count": 75,
   "metadata": {},
   "outputs": [],
   "source": [
    "test_drive = df.recommendations.dropna()"
   ]
  },
  {
   "cell_type": "code",
   "execution_count": 54,
   "metadata": {},
   "outputs": [],
   "source": [
    "sentiments = nlp.create_sentiment_df(test_drive)"
   ]
  },
  {
   "cell_type": "code",
   "execution_count": 57,
   "metadata": {},
   "outputs": [
    {
     "data": {
      "text/plain": [
       "<matplotlib.axes._subplots.AxesSubplot at 0x1a2894da20>"
      ]
     },
     "execution_count": 57,
     "metadata": {},
     "output_type": "execute_result"
    },
    {
     "data": {
      "image/png": "[encoded data removed]",
      "text/plain": [
       "<Figure size 432x288 with 1 Axes>"
      ]
     },
     "metadata": {
      "needs_background": "light"
     },
     "output_type": "display_data"
    }
   ],
   "source": [
    "sns.distplot(sentiments.polarity)"
   ]
  },
  {
   "cell_type": "code",
   "execution_count": 58,
   "metadata": {},
   "outputs": [
    {
     "data": {
      "text/plain": [
       "<matplotlib.axes._subplots.AxesSubplot at 0x1a28715ba8>"
      ]
     },
     "execution_count": 58,
     "metadata": {},
     "output_type": "execute_result"
    },
    {
     "data": {
      "image/png": "[encoded data removed]",
      "text/plain": [
       "<Figure size 432x288 with 1 Axes>"
      ]
     },
     "metadata": {
      "needs_background": "light"
     },
     "output_type": "display_data"
    }
   ],
   "source": [
    "sns.distplot(sentiments.subjectivity)"
   ]
  },
  {
   "cell_type": "code",
   "execution_count": 7,
   "metadata": {},
   "outputs": [],
   "source": [
    "doc_term_matrix, count_vect = nlp.create_wordcount_matrix(test_drive)"
   ]
  },
  {
   "cell_type": "code",
   "execution_count": 13,
   "metadata": {},
   "outputs": [],
   "source": [
    "from sklearn.decomposition import LatentDirichletAllocation, NMF"
   ]
  },
  {
   "cell_type": "code",
   "execution_count": 18,
   "metadata": {},
   "outputs": [],
   "source": [
    "lda_tf = LatentDirichletAllocation(n_components=5, random_state=0)"
   ]
  },
  {
   "cell_type": "code",
   "execution_count": 19,
   "metadata": {},
   "outputs": [
    {
     "data": {
      "text/plain": [
       "LatentDirichletAllocation(batch_size=128, doc_topic_prior=None,\n",
       "                          evaluate_every=-1, learning_decay=0.7,\n",
       "                          learning_method='batch', learning_offset=10.0,\n",
       "                          max_doc_update_iter=100, max_iter=10,\n",
       "                          mean_change_tol=0.001, n_components=5, n_jobs=None,\n",
       "                          perp_tol=0.1, random_state=0, topic_word_prior=None,\n",
       "                          total_samples=1000000.0, verbose=0)"
      ]
     },
     "execution_count": 19,
     "metadata": {},
     "output_type": "execute_result"
    }
   ],
   "source": [
    "lda_tf.fit(doc_term_matrix)"
   ]
  },
  {
   "cell_type": "code",
   "execution_count": 20,
   "metadata": {},
   "outputs": [
    {
     "name": "stderr",
     "output_type": "stream",
     "text": [
      "/usr/local/anaconda3/lib/python3.7/site-packages/pyLDAvis/_prepare.py:257: FutureWarning: Sorting because non-concatenation axis is not aligned. A future version\n",
      "of pandas will change to not sort by default.\n",
      "\n",
      "To accept the future behavior, pass 'sort=False'.\n",
      "\n",
      "To retain the current behavior and silence the warning, pass 'sort=True'.\n",
      "\n",
      "  return pd.concat([default_term_info] + list(topic_dfs))\n"
     ]
    },
    {
     "data": {
      "text/html": [
       "\n",
       "<link rel=\"stylesheet\" type=\"text/css\" href=\"https://cdn.rawgit.com/bmabey/pyLDAvis/files/ldavis.v1.0.0.css\">\n",
       "\n",
       "\n",
       "<div id=\"ldavis_el221611123447800168340542380\"></div>\n",
       "<script type=\"text/javascript\">\n",
       "\n",
       "var ldavis_el221611123447800168340542380_data = {\"mdsDat\": {\"x\": [-0.01543441674005246, -0.04446562795551418, 0.12411768899650062, 0.010212079489783662, -0.07442972379071759], \"y\": [0.08419533034644847, -0.062279853924931294, -0.04464178070028177, 0.06808149144396845, -0.045355187165203974], \"topics\": [1, 2, 3, 4, 5], \"cluster\": [1, 1, 1, 1, 1], \"Freq\": [22.609726062756273, 20.750091769362896, 20.361626942095068, 20.10989587148088, 16.16865935430487]}, \"tinfo\": {\"Category\": [\"Default\", \"Default\", \"Default\", \"Default\", \"Default\", \"Default\", \"Default\", \"Default\", \"Default\", \"Default\", \"Default\", \"Default\", \"Default\", \"Default\", \"Default\", \"Default\", \"Default\", \"Default\", \"Default\", \"Default\", \"Default\", \"Default\", \"Default\", \"Default\", \"Default\", \"Default\", \"Default\", \"Default\", \"Default\", \"Default\", \"Topic1\", \"Topic1\", \"Topic1\", \"Topic1\", \"Topic1\", \"Topic1\", \"Topic1\", \"Topic1\", \"Topic1\", \"Topic1\", \"Topic1\", \"Topic1\", \"Topic1\", \"Topic1\", \"Topic1\", \"Topic1\", \"Topic1\", \"Topic1\", \"Topic1\", \"Topic1\", \"Topic1\", \"Topic1\", \"Topic1\", \"Topic1\", \"Topic1\", \"Topic1\", \"Topic1\", \"Topic1\", \"Topic1\", \"Topic1\", \"Topic1\", \"Topic1\", \"Topic1\", \"Topic1\", \"Topic1\", \"Topic1\", \"Topic1\", \"Topic1\", \"Topic1\", \"Topic1\", \"Topic1\", \"Topic1\", \"Topic1\", \"Topic1\", \"Topic1\", \"Topic1\", \"Topic1\", \"Topic1\", \"Topic1\", \"Topic1\", \"Topic1\", \"Topic1\", \"Topic1\", \"Topic1\", \"Topic1\", \"Topic1\", \"Topic1\", \"Topic1\", \"Topic1\", \"Topic1\", \"Topic1\", \"Topic1\", \"Topic1\", \"Topic1\", \"Topic1\", \"Topic1\", \"Topic1\", \"Topic2\", \"Topic2\", \"Topic2\", \"Topic2\", \"Topic2\", \"Topic2\", \"Topic2\", \"Topic2\", \"Topic2\", \"Topic2\", \"Topic2\", \"Topic2\", \"Topic2\", \"Topic2\", \"Topic2\", \"Topic2\", \"Topic2\", \"Topic2\", \"Topic2\", \"Topic2\", \"Topic2\", \"Topic2\", \"Topic2\", \"Topic2\", \"Topic2\", \"Topic2\", \"Topic2\", \"Topic2\", \"Topic2\", \"Topic2\", \"Topic2\", \"Topic2\", \"Topic2\", \"Topic2\", \"Topic2\", \"Topic2\", \"Topic2\", \"Topic2\", \"Topic2\", \"Topic2\", \"Topic2\", \"Topic2\", \"Topic2\", \"Topic2\", \"Topic2\", \"Topic2\", \"Topic2\", \"Topic2\", \"Topic2\", \"Topic2\", \"Topic2\", \"Topic2\", \"Topic2\", \"Topic2\", \"Topic2\", \"Topic2\", \"Topic2\", \"Topic2\", \"Topic2\", \"Topic2\", \"Topic2\", \"Topic2\", \"Topic2\", \"Topic2\", \"Topic2\", \"Topic2\", \"Topic2\", \"Topic2\", \"Topic2\", \"Topic2\", \"Topic2\", \"Topic2\", \"Topic2\", \"Topic2\", \"Topic2\", \"Topic2\", \"Topic2\", \"Topic3\", \"Topic3\", \"Topic3\", \"Topic3\", \"Topic3\", \"Topic3\", \"Topic3\", \"Topic3\", \"Topic3\", \"Topic3\", \"Topic3\", \"Topic3\", \"Topic3\", \"Topic3\", \"Topic3\", \"Topic3\", \"Topic3\", \"Topic3\", \"Topic3\", \"Topic3\", \"Topic3\", \"Topic3\", \"Topic3\", \"Topic3\", \"Topic3\", \"Topic3\", \"Topic3\", \"Topic3\", \"Topic3\", \"Topic3\", \"Topic3\", \"Topic3\", \"Topic3\", \"Topic3\", \"Topic3\", \"Topic3\", \"Topic3\", \"Topic3\", \"Topic3\", \"Topic3\", \"Topic3\", \"Topic3\", \"Topic3\", \"Topic3\", \"Topic3\", \"Topic3\", \"Topic3\", \"Topic3\", \"Topic3\", \"Topic3\", \"Topic3\", \"Topic3\", \"Topic3\", \"Topic3\", \"Topic3\", \"Topic3\", \"Topic3\", \"Topic3\", \"Topic3\", \"Topic3\", \"Topic3\", \"Topic3\", \"Topic3\", \"Topic3\", \"Topic3\", \"Topic3\", \"Topic3\", \"Topic3\", \"Topic3\", \"Topic3\", \"Topic4\", \"Topic4\", \"Topic4\", \"Topic4\", \"Topic4\", \"Topic4\", \"Topic4\", \"Topic4\", \"Topic4\", \"Topic4\", \"Topic4\", \"Topic4\", \"Topic4\", \"Topic4\", \"Topic4\", \"Topic4\", \"Topic4\", \"Topic4\", \"Topic4\", \"Topic4\", \"Topic4\", \"Topic4\", \"Topic4\", \"Topic4\", \"Topic4\", \"Topic4\", \"Topic4\", \"Topic4\", \"Topic4\", \"Topic4\", \"Topic4\", \"Topic4\", \"Topic4\", \"Topic4\", \"Topic4\", \"Topic4\", \"Topic4\", \"Topic4\", \"Topic4\", \"Topic4\", \"Topic4\", \"Topic4\", \"Topic4\", \"Topic4\", \"Topic4\", \"Topic4\", \"Topic4\", \"Topic4\", \"Topic4\", \"Topic4\", \"Topic4\", \"Topic4\", \"Topic4\", \"Topic4\", \"Topic4\", \"Topic4\", \"Topic4\", \"Topic4\", \"Topic4\", \"Topic4\", \"Topic4\", \"Topic4\", \"Topic4\", \"Topic4\", \"Topic4\", \"Topic4\", \"Topic4\", \"Topic4\", \"Topic4\", \"Topic4\", \"Topic5\", \"Topic5\", \"Topic5\", \"Topic5\", \"Topic5\", \"Topic5\", \"Topic5\", \"Topic5\", \"Topic5\", \"Topic5\", \"Topic5\", \"Topic5\", \"Topic5\", \"Topic5\", \"Topic5\", \"Topic5\", \"Topic5\", \"Topic5\", \"Topic5\", \"Topic5\", \"Topic5\", \"Topic5\", \"Topic5\", \"Topic5\", \"Topic5\", \"Topic5\", \"Topic5\", \"Topic5\", \"Topic5\", \"Topic5\", \"Topic5\", \"Topic5\", \"Topic5\", \"Topic5\", \"Topic5\", \"Topic5\", \"Topic5\", \"Topic5\", \"Topic5\", \"Topic5\", \"Topic5\", \"Topic5\", \"Topic5\", \"Topic5\", \"Topic5\", \"Topic5\", \"Topic5\", \"Topic5\", \"Topic5\", \"Topic5\", \"Topic5\", \"Topic5\", \"Topic5\", \"Topic5\", \"Topic5\", \"Topic5\", \"Topic5\", \"Topic5\", \"Topic5\", \"Topic5\", \"Topic5\", \"Topic5\", \"Topic5\", \"Topic5\", \"Topic5\"], \"Freq\": [40.0, 204.0, 25.0, 29.0, 28.0, 125.0, 122.0, 14.0, 15.0, 26.0, 42.0, 32.0, 9.0, 21.0, 40.0, 24.0, 34.0, 20.0, 51.0, 31.0, 11.0, 13.0, 60.0, 19.0, 31.0, 16.0, 24.0, 8.0, 20.0, 9.0, 5.437391027609953, 5.436917198263827, 4.558272285753837, 4.557955743666138, 4.557075947341462, 3.6829889543857273, 6.314930904588415, 2.8071934529351465, 2.8071922879616715, 2.8060131159833976, 2.806001998149835, 2.8044511818323117, 2.8035507152125647, 2.7949893930017087, 7.583315504332336, 4.561742575795242, 4.55885206152283, 2.5824796811634685, 1.929945441115871, 1.9299446777205485, 1.9299405448323492, 1.9299397064777843, 1.929939628093976, 1.9299384334098018, 1.9299376127982864, 1.9299259895598915, 1.9299226419917266, 1.929921336359797, 1.9299172609710484, 1.9299135234666962, 7.459775658499868, 3.680417016487621, 3.5737329724690734, 21.799519888060324, 20.35670992433035, 24.462509980454698, 5.761205312807, 16.990360290512655, 6.0704832298227736, 12.1799876315356, 15.254498370842278, 5.97244598491323, 15.947427647657607, 8.072601937493, 53.2152213948241, 35.23794127603715, 6.975994546769059, 14.885897450936652, 8.029475617959559, 12.770356177047804, 11.770573001694313, 6.0311795864616835, 15.991014606560114, 20.184440846348753, 11.967456041442338, 22.807782679504385, 15.734465852564776, 8.556658087637485, 10.398550639973038, 9.872766853049868, 9.998347695198431, 9.01350922239504, 8.60692427020521, 7.791389055323794, 7.29267279971247, 8.674401568155199, 7.462168190189162, 4.54470620431406, 7.123256956297908, 2.819427292257369, 2.819424404585792, 2.81942294973608, 2.819418801031021, 2.818571895234921, 2.8179567962566314, 2.8176166989078286, 2.814597237149487, 2.8123524495144085, 2.8101310253054446, 2.8063458560420673, 3.4294012489541, 3.945946005000937, 1.9383572942967948, 1.938357163867467, 1.9383567633871348, 1.9383566220730022, 1.938356447946961, 1.938355123858045, 1.9383545693413067, 1.9383537305520908, 1.9383533739243664, 1.938352028352704, 1.9383504157291116, 1.9383483515682012, 1.938347873579275, 1.9383478410977424, 1.9382846967862344, 7.152572550879621, 3.700944536649916, 3.70072308679722, 3.702549016036378, 3.701635726470648, 3.7012550504738813, 3.700866034251898, 3.699524979963509, 4.581806134833918, 81.55232334246529, 8.994636602410297, 7.213346577721247, 8.032882421307022, 11.14812149416134, 5.258350846038466, 22.82486941619833, 5.618704113620901, 34.53149883283491, 11.005849409379554, 10.899734803675265, 5.990049068232277, 26.31800645580529, 6.341286343085685, 6.80406557658121, 4.912915605322031, 5.173062252865991, 10.573030849215654, 10.811512364908445, 13.35040208334835, 9.718607678508818, 4.583512775778563, 4.5783833506878215, 12.1386082043797, 4.574879695167504, 6.400437828239044, 14.986497535462187, 7.945103035744927, 12.504732328036551, 11.063886721060586, 7.567640532334493, 7.323633165469057, 12.828996377120864, 7.832882503374771, 7.038553429156784, 7.71757653157256, 7.519805779034606, 6.501382705723132, 3.6522963470639, 3.6522295119413717, 3.6510633394579224, 3.650823949985216, 3.6503437171805193, 2.7840571323445915, 2.784056330895392, 2.784054867225358, 2.77987122307135, 2.7786847485389385, 2.7785851626192053, 18.80569297244272, 1.9140375085031154, 1.9140375085031154, 1.9140373603613645, 1.914037325994831, 1.914036583091607, 1.9140365071721326, 1.914036257607273, 1.9140330307985718, 1.914018396727534, 1.9140166865559585, 1.913321738936776, 1.911954898687264, 1.9119546522772641, 1.9116527559393877, 1.9099371090817898, 1.9099318541916854, 1.909931572647961, 11.483142074821, 8.571459063523791, 3.652800898832144, 3.654452998641274, 3.652290525817527, 3.6515896493223727, 5.325261625378, 3.647261448907447, 23.65779894229959, 7.047033735994017, 4.9511346327022006, 11.032862745770709, 7.575495538947414, 7.750981999203205, 10.850929578501901, 15.538701582550074, 45.80854335124082, 6.016226614984521, 8.661360169011113, 37.174636110457115, 34.25827450262845, 6.095543077513996, 7.542074470639884, 11.842871035765253, 7.136851102612259, 18.417857269047943, 22.539768942320432, 6.91153796230999, 5.193199191522592, 7.6439279795987956, 9.933992943031082, 9.000798468971043, 8.580838264413527, 9.00595826641785, 9.037259100670166, 17.342479458670876, 10.279596540080313, 8.147667438082415, 8.138615279787759, 8.345256042122474, 7.1232884392698566, 8.88854646397672, 4.531465928977819, 4.531279091072367, 4.530474038751295, 4.529643606858855, 3.660729569551458, 2.7895033071936237, 2.7895006772506408, 2.7876225020479373, 2.7872665366325013, 2.783645523342185, 2.7250724853941404, 1.9177811588792564, 1.9177807946575207, 1.9177791039094896, 1.9177789342112013, 1.9177766249915076, 1.9177726282402467, 1.9177698926457047, 1.9177244243374911, 1.9177136415102454, 1.917655387387084, 1.9176545170464685, 1.9176510764425942, 1.916950468982047, 1.916809995890864, 1.916801337520368, 1.9168006679676346, 1.9160277333792577, 1.9159933537014124, 7.137376186466219, 3.6623047997085654, 5.187464854546866, 9.774689536646626, 4.532169076580843, 6.690835628938959, 7.148606924814389, 3.476680585615802, 4.408746482454746, 14.55494185858811, 5.405038730165412, 7.806861716165621, 6.253884243146948, 3.660891260034319, 14.422880603212935, 28.413653098314633, 6.682863181338661, 9.986972956137185, 33.80128207702415, 17.836506459806444, 36.65445227394928, 10.473012212630984, 25.204626180776067, 6.7242702164571515, 16.61905493151718, 11.43362176658746, 12.034624463829607, 7.834447054928247, 8.794989718408027, 9.016985951126118, 10.240973239543782, 7.7745860982553605, 8.592877127884512, 8.516786689943366, 12.68516010825768, 7.509479586662504, 8.37671378774579, 8.685427592665924, 7.480244191199409, 7.003494225358173, 4.472628067410273, 2.752278746138455, 4.477767984560686, 1.893213424995996, 1.8932128563440442, 1.8932126937045775, 1.8932114329926257, 1.8932084620782232, 1.8932084620782232, 1.893208014348164, 1.8932063063678475, 1.8932058615385412, 1.8931910491740591, 1.8931907044544747, 1.8931877460962285, 1.8914720326508496, 1.8914718834565165, 1.8914701102167542, 1.8914689809719345, 1.890108580750412, 1.8893545006542485, 1.889171209045416, 10.339902129453899, 3.6047300736361176, 1.6757938150308591, 2.7539575972678203, 2.7542653694484764, 2.754634002323286, 5.254913531996132, 4.113332675999372, 15.935640298411336, 13.009872241461059, 5.763665888404083, 13.038005361723437, 10.317723376584183, 8.588837697260645, 5.061321657029935, 6.93289076033198, 28.05333752369288, 15.140856351559819, 8.096528014130064, 3.388826641535333, 14.252746417052558, 3.348268022862448, 5.530230270159435, 7.067567032580824, 7.925146553037375, 6.203037593067914, 8.24044691958286, 4.892510425278882, 16.407688044066255, 7.498830255855726, 4.489758544677246, 6.656685597182667, 5.098115515436912, 14.333708402517507, 6.066945634707905, 16.175331443896923, 7.604121092132085, 7.127086285169506, 6.977922718676956, 9.018341179017446, 7.570208453184392, 6.595237580558244, 5.755485809039217], \"Term\": [\"good\", \"research\", \"events\", \"ux\", \"different\", \"make\", \"conference\", \"learning\", \"fun\", \"way\", \"experience\", \"think\", \"uxr\", \"level\", \"speakers\", \"design\", \"topics\", \"networking\", \"talks\", \"great\", \"money\", \"hands\", \"just\", \"real\", \"need\", \"pay\", \"sessions\", \"building\", \"provide\", \"levels\", \"north\", \"code\", \"care\", \"hold\", \"hope\", \"leadership\", \"live\", \"question\", \"heard\", \"table\", \"prioritize\", \"voices\", \"trust\", \"practices\", \"levels\", \"mid\", \"terms\", \"development\", \"human\", \"allergies\", \"recognize\", \"careful\", \"purpose\", \"pricing\", \"lodging\", \"bay\", \"biz\", \"original\", \"issue\", \"iterate\", \"diversity\", \"compelling\", \"america\", \"experience\", \"speakers\", \"talks\", \"non\", \"topics\", \"keynote\", \"interesting\", \"day\", \"important\", \"focus\", \"idea\", \"research\", \"conference\", \"days\", \"good\", \"food\", \"new\", \"great\", \"specific\", \"researchers\", \"don\", \"attend\", \"people\", \"conferences\", \"level\", \"learn\", \"work\", \"workshops\", \"really\", \"love\", \"talk\", \"content\", \"make\", \"like\", \"apart\", \"building\", \"addition\", \"house\", \"20\", \"versus\", \"generative\", \"selling\", \"junior\", \"longer\", \"old\", \"awesome\", \"order\", \"listen\", \"stakeholders\", \"common\", \"deeply\", \"shouldn\", \"focusing\", \"felt\", \"sets\", \"emphasize\", \"pms\", \"choice\", \"curate\", \"agency\", \"phds\", \"maintaining\", \"applied\", \"toronto\", \"did\", \"city\", \"qual\", \"support\", \"skill\", \"conducting\", \"minute\", \"break\", \"didn\", \"research\", \"better\", \"practice\", \"hands\", \"use\", \"teams\", \"just\", \"instead\", \"people\", \"sure\", \"attendees\", \"team\", \"make\", \"right\", \"interested\", \"presenters\", \"experiences\", \"think\", \"learn\", \"like\", \"great\", \"job\", \"track\", \"talks\", \"price\", \"include\", \"don\", \"consider\", \"conferences\", \"researchers\", \"sessions\", \"methods\", \"conference\", \"need\", \"help\", \"workshops\", \"experience\", \"design\", \"structured\", \"yes\", \"cities\", \"goes\", \"agenda\", \"mixed\", \"wish\", \"forget\", \"means\", \"travelling\", \"usually\", \"events\", \"speed\", \"dating\", \"participant\", \"innovative\", \"awful\", \"scale\", \"aspect\", \"road\", \"purchase\", \"art\", \"base\", \"dives\", \"conversations\", \"walk\", \"inspiration\", \"seniority\", \"culture\", \"fun\", \"create\", \"famous\", \"inclusive\", \"easily\", \"bunch\", \"lots\", \"sharing\", \"good\", \"cost\", \"social\", \"networking\", \"outside\", \"place\", \"provide\", \"think\", \"conference\", \"remote\", \"location\", \"make\", \"people\", \"stuff\", \"maybe\", \"event\", \"group\", \"conferences\", \"don\", \"let\", \"online\", \"doing\", \"learn\", \"really\", \"lot\", \"new\", \"work\", \"research\", \"like\", \"want\", \"time\", \"just\", \"topics\", \"uxr\", \"success\", \"collective\", \"broad\", \"insight\", \"oh\", \"academics\", \"game\", \"crowd\", \"worth\", \"discounted\", \"controversial\", \"approaches\", \"spending\", \"fancy\", \"http\", \"weeds\", \"unconferences\", \"valley\", \"normal\", \"months\", \"www\", \"takes\", \"com\", \"truly\", \"suspect\", \"demand\", \"scaling\", \"registration\", \"asking\", \"say\", \"pull\", \"insights\", \"pay\", \"ll\", \"money\", \"share\", \"strive\", \"free\", \"need\", \"actually\", \"field\", \"tech\", \"major\", \"attend\", \"don\", \"look\", \"sessions\", \"people\", \"just\", \"research\", \"ux\", \"make\", \"industry\", \"conferences\", \"time\", \"speakers\", \"small\", \"love\", \"want\", \"experience\", \"big\", \"really\", \"work\", \"conference\", \"help\", \"topics\", \"like\", \"ve\", \"sure\", \"maturity\", \"term\", \"virtual\", \"problems\", \"require\", \"trend\", \"planned\", \"reasonably\", \"priced\", \"presenter\", \"geographic\", \"join\", \"submissions\", \"peer\", \"sounds\", \"sitting\", \"throw\", \"ideal\", \"webinar\", \"currently\", \"immersive\", \"communities\", \"learning\", \"panels\", \"expertise\", \"today\", \"generic\", \"uxpa\", \"engage\", \"locations\", \"different\", \"way\", \"multiple\", \"ux\", \"design\", \"real\", \"questions\", \"bring\", \"make\", \"researchers\", \"level\", \"epic\", \"like\", \"access\", \"able\", \"world\", \"methods\", \"researcher\", \"know\", \"audience\", \"conference\", \"talk\", \"experienced\", \"consider\", \"mix\", \"people\", \"feel\", \"research\", \"time\", \"great\", \"event\", \"don\", \"talks\", \"workshops\", \"just\"], \"Total\": [40.0, 204.0, 25.0, 29.0, 28.0, 125.0, 122.0, 14.0, 15.0, 26.0, 42.0, 32.0, 9.0, 21.0, 40.0, 24.0, 34.0, 20.0, 51.0, 31.0, 11.0, 13.0, 60.0, 19.0, 31.0, 16.0, 24.0, 8.0, 20.0, 9.0, 6.135606382994562, 6.135606390463086, 5.258342501851871, 5.258341592422678, 5.258389874514559, 4.381126646121896, 7.873437346323761, 3.5038709780441706, 3.5038709688763903, 3.5038612497596664, 3.503861163952109, 3.5038828136325564, 3.5038175852008897, 3.503911144996602, 9.618672566487845, 6.118923515237028, 6.130046711311592, 3.5047819201537402, 2.6266215956148695, 2.6266215896017555, 2.6266215567423, 2.6266215497149994, 2.626621546745323, 2.6266215407331286, 2.626621533897947, 2.626621436857838, 2.6266214122180815, 2.6266214077365047, 2.6266213764679787, 2.6266213406833008, 10.502369885011385, 5.241648384956912, 5.250226799853716, 42.89023547324618, 40.22323151662908, 51.60943721746115, 9.632056083590586, 34.984375042344496, 10.464695926897909, 24.475577606148704, 32.33012481521729, 10.518303668746825, 38.44023854947137, 15.758096684771205, 204.93980791380648, 122.96832915672277, 13.102371567259862, 40.99307415924286, 16.602647248271502, 33.201398514193315, 31.466448272337622, 11.337398934017855, 54.05644618295893, 95.14270160146346, 38.39260820095509, 139.73254649450942, 68.127122177338, 21.79236275375612, 35.01262874130974, 34.003370826754704, 37.53073318054582, 31.425091539938304, 27.97590060021848, 30.502809940740356, 25.293802599705806, 125.42500783888656, 54.0303408233363, 5.276746024336288, 8.797496167758933, 3.5153415052956762, 3.515341464772025, 3.5153414485506334, 3.5153413903870634, 3.515337812981343, 3.5153350869703788, 3.51533362833387, 3.5153059519089225, 3.5153106777686047, 3.515258672757026, 3.5150369090451496, 4.393030197338729, 5.274724569326809, 2.6342686276779412, 2.634268625161278, 2.634268620396941, 2.634268618377351, 2.634268615987785, 2.634268598007203, 2.634268590679482, 2.634268578299181, 2.6342685737350613, 2.634268556390379, 2.634268531519018, 2.6342685086108917, 2.634268500084291, 2.6342684911802547, 2.634267645935056, 10.536254082159891, 5.2569775075945016, 5.256984059104505, 5.2681554406606645, 5.273665526505095, 5.273661558077269, 5.273626172951607, 5.273616013561244, 7.017533165235851, 204.93980791380648, 15.751883798066878, 12.25497122714265, 13.975644011225228, 21.030295997824332, 8.77836526460232, 60.335102768249335, 9.626760234622282, 139.73254649450942, 27.117360154381434, 27.08461439376051, 11.385399326330575, 125.42500783888656, 13.12821673343004, 14.916762811695847, 8.784465855701624, 9.636687451189955, 32.34841159500382, 35.01262874130974, 54.0303408233363, 31.466448272337622, 7.885342463204825, 7.878050721316701, 51.60943721746115, 7.909077690493983, 15.765208939120797, 95.14270160146346, 25.297415268933257, 68.127122177338, 54.05644618295893, 24.436045762291194, 23.537185639461967, 122.96832915672277, 31.487393027799467, 24.47216926952112, 37.53073318054582, 42.89023547324618, 24.33889886571419, 4.3522132913598455, 4.352213438859497, 4.352185695314584, 4.352230701566709, 4.3521895156910055, 3.4821795847269095, 3.4821795865608696, 3.4821795896796086, 3.4821615630396066, 3.4821713692663545, 3.482225040057666, 25.253922406271254, 2.6121606720492614, 2.6121606720492614, 2.612160672495724, 2.612160671787723, 2.6121606737413465, 2.6121606737236767, 2.612160673731194, 2.6121606823365844, 2.612160709674649, 2.612160714497063, 2.612169771830307, 2.6121380134923253, 2.612138014371689, 2.6121908133036937, 2.612194758120819, 2.6121947758618456, 2.612194778201612, 15.70664204036592, 13.042179498652787, 5.21275180238635, 5.223934479976462, 5.223907954832144, 5.223937527100682, 7.845875699168942, 5.223990551022949, 40.99307415924286, 11.313675806257075, 7.8337252209589545, 20.099795042248925, 13.081170717250421, 13.945918762886139, 20.92075865635252, 32.34841159500382, 122.96832915672277, 10.456470933205273, 16.552073104393124, 125.42500783888656, 139.73254649450942, 11.307848392495144, 15.682032395608209, 31.35662782649711, 14.848997922134789, 68.127122177338, 95.14270160146346, 14.838014208873782, 9.588721492178989, 20.05428788698506, 35.01262874130974, 31.425091539938304, 29.687296389071914, 33.201398514193315, 34.003370826754704, 204.93980791380648, 54.0303408233363, 31.408058866155454, 36.570334895543674, 60.335102768249335, 34.984375042344496, 9.589344747261368, 5.230725298001707, 5.230738128397594, 5.230731649112786, 5.230710400715467, 4.359007308917017, 3.4872838622875406, 3.4872838618522666, 3.4872857885681086, 3.4873078373681685, 3.4872882446106233, 3.4876924910555056, 2.615563519099455, 2.6155635193795663, 2.61556351732491, 2.6155635203957344, 2.6155635180200627, 2.6155635155196433, 2.6155635213865165, 2.615563843045698, 2.6155634939067953, 2.6155643295836497, 2.615564329215076, 2.6155643303244616, 2.6155530230587885, 2.6155738924693135, 2.6155738941374422, 2.615573890946431, 2.615582126608129, 2.6155406327901733, 10.48148215520341, 5.21957075015897, 7.849460540792527, 16.550348292689467, 6.981824175408769, 11.282274404332968, 12.205732760854241, 5.237416261252416, 6.9859970102754, 31.487393027799467, 9.561307407868142, 15.701447340170374, 12.204411336390518, 6.099046177185911, 38.39260820095509, 95.14270160146346, 13.993654112433637, 24.436045762291194, 139.73254649450942, 60.335102768249335, 204.93980791380648, 29.510200037083223, 125.42500783888656, 14.826816171878907, 68.127122177338, 36.570334895543674, 40.22323151662908, 20.084710313136945, 27.97590060021848, 31.408058866155454, 42.89023547324618, 23.60979071085335, 31.425091539938304, 34.003370826754704, 122.96832915672277, 24.47216926952112, 34.984375042344496, 54.0303408233363, 26.179140230699986, 27.117360154381434, 5.174919219122906, 3.4538095332824326, 6.0465678722928615, 2.593228084413374, 2.5932280934566316, 2.5932280964703613, 2.5932281173128366, 2.5932281676956057, 2.5932281676956057, 2.593228175329276, 2.5932282021177615, 2.593228209228087, 2.593228458706409, 2.5932284643905192, 2.5932285191892532, 2.5932493887862647, 2.5932493910257, 2.5932494201427523, 2.5932494393884102, 2.5932741901887875, 2.593270614434255, 2.5932725715092175, 14.702765066974557, 5.195528405402745, 2.5956387820696376, 4.325500432765841, 4.331020382315667, 4.334832851057522, 8.658475311915984, 6.920834110749829, 28.611095637697606, 26.915645294395674, 10.395700058930515, 29.510200037083223, 24.33889886571419, 19.12349830731311, 10.417384837605685, 16.500809171421587, 125.42500783888656, 54.05644618295893, 21.79236275375612, 6.059002908410395, 54.0303408233363, 6.073976561963157, 13.039681298717584, 19.138161828977076, 23.537185639461967, 17.4259614347984, 28.75689210726715, 13.063962519861267, 122.96832915672277, 30.502809940740356, 11.306435765777, 25.297415268933257, 14.791398637776975, 139.73254649450942, 21.77286121523706, 204.93980791380648, 36.570334895543674, 31.466448272337622, 31.35662782649711, 95.14270160146346, 51.60943721746115, 37.53073318054582, 60.335102768249335], \"loglift\": [30.0, 29.0, 28.0, 27.0, 26.0, 25.0, 24.0, 23.0, 22.0, 21.0, 20.0, 19.0, 18.0, 17.0, 16.0, 15.0, 14.0, 13.0, 12.0, 11.0, 10.0, 9.0, 8.0, 7.0, 6.0, 5.0, 4.0, 3.0, 2.0, 1.0, 1.366, 1.3659, 1.3439, 1.3438, 1.3436, 1.3132, 1.2662, 1.2651, 1.2651, 1.2647, 1.2647, 1.2641, 1.2638, 1.2607, 1.249, 1.1931, 1.1907, 1.1814, 1.1786, 1.1786, 1.1786, 1.1786, 1.1786, 1.1786, 1.1786, 1.1786, 1.1786, 1.1786, 1.1786, 1.1786, 1.1447, 1.1332, 1.1021, 0.81, 0.8058, 0.7402, 0.9728, 0.7645, 0.9422, 0.7889, 0.7357, 0.9208, 0.607, 0.8179, 0.1384, 0.237, 0.8565, 0.4738, 0.7603, 0.5313, 0.5035, 0.8556, 0.2688, -0.0637, 0.3211, -0.3258, 0.0213, 0.5519, 0.2727, 0.2501, 0.164, 0.2379, 0.308, 0.122, 0.2431, -1.1845, -0.4929, 1.4233, 1.3615, 1.352, 1.352, 1.352, 1.352, 1.3517, 1.3515, 1.3514, 1.3503, 1.3495, 1.3487, 1.3475, 1.325, 1.2824, 1.2659, 1.2659, 1.2659, 1.2659, 1.2659, 1.2659, 1.2659, 1.2659, 1.2659, 1.2659, 1.2659, 1.2659, 1.2658, 1.2658, 1.2658, 1.1853, 1.2217, 1.2216, 1.22, 1.2187, 1.2186, 1.2185, 1.2181, 1.1463, 0.6511, 1.0123, 1.0426, 1.0188, 0.9379, 1.0601, 0.6006, 1.0342, 0.1748, 0.6709, 0.6624, 0.9304, 0.0112, 0.8449, 0.7877, 0.9915, 0.9505, 0.4544, 0.3975, 0.1746, 0.3977, 1.0301, 1.0299, 0.1253, 1.0252, 0.6712, -0.2756, 0.4145, -0.1226, -0.0137, 0.4004, 0.4051, -0.6876, 0.1814, 0.3265, -0.009, -0.1685, 0.2526, 1.4162, 1.4162, 1.4159, 1.4158, 1.4157, 1.3678, 1.3678, 1.3678, 1.3663, 1.3658, 1.3658, 1.2967, 1.2806, 1.2806, 1.2806, 1.2806, 1.2806, 1.2806, 1.2806, 1.2806, 1.2805, 1.2805, 1.2802, 1.2795, 1.2795, 1.2793, 1.2784, 1.2784, 1.2784, 1.2783, 1.1718, 1.2359, 1.2342, 1.2336, 1.2334, 1.204, 1.2322, 1.0418, 1.1181, 1.1327, 0.9917, 1.0453, 1.0042, 0.935, 0.8583, 0.6041, 1.0388, 0.9439, 0.3754, 0.1857, 0.9736, 0.8595, 0.6178, 0.8589, 0.2835, 0.1514, 0.8275, 0.9783, 0.627, 0.3318, 0.3412, 0.3503, 0.2868, 0.2664, -0.878, -0.0679, 0.2422, 0.0889, -0.3867, -0.0, 1.5281, 1.4605, 1.4604, 1.4602, 1.4601, 1.4294, 1.3807, 1.3807, 1.38, 1.3799, 1.3786, 1.3572, 1.2936, 1.2936, 1.2936, 1.2936, 1.2936, 1.2936, 1.2936, 1.2936, 1.2936, 1.2936, 1.2936, 1.2936, 1.2932, 1.2931, 1.2931, 1.2931, 1.2927, 1.2927, 1.2197, 1.2496, 1.1898, 1.0773, 1.1718, 1.0815, 1.069, 1.1942, 1.1436, 0.8323, 1.0336, 0.9052, 0.9354, 1.0935, 0.6249, 0.3955, 0.8649, 0.7092, 0.1847, 0.3853, -0.1172, 0.568, -0.0007, 0.8132, 0.1931, 0.4413, 0.3973, 0.6625, 0.4468, 0.356, 0.1717, 0.4932, 0.3073, 0.2195, -0.6675, 0.4226, 0.1745, -0.2239, 0.3513, 0.2502, 1.6762, 1.595, 1.5217, 1.5075, 1.5075, 1.5075, 1.5075, 1.5075, 1.5075, 1.5075, 1.5075, 1.5075, 1.5075, 1.5075, 1.5075, 1.5065, 1.5065, 1.5065, 1.5065, 1.5058, 1.5054, 1.5053, 1.4701, 1.4565, 1.3845, 1.3706, 1.3694, 1.3687, 1.3227, 1.3018, 1.2369, 1.0951, 1.2323, 1.0052, 0.9639, 1.0216, 1.1002, 0.955, 0.3245, 0.5495, 0.832, 1.241, 0.4895, 1.2265, 0.9643, 0.8259, 0.7336, 0.7892, 0.5723, 0.8399, -0.1921, 0.419, 0.8985, 0.487, 0.7569, -0.455, 0.5443, -0.7171, 0.2515, 0.3371, 0.3194, -0.534, -0.0974, 0.0833, -0.5277], \"logprob\": [30.0, 29.0, 28.0, 27.0, 26.0, 25.0, 24.0, 23.0, 22.0, 21.0, 20.0, 19.0, 18.0, 17.0, 16.0, 15.0, 14.0, 13.0, 12.0, 11.0, 10.0, 9.0, 8.0, 7.0, 6.0, 5.0, 4.0, 3.0, 2.0, 1.0, -5.7063, -5.7064, -5.8827, -5.8827, -5.8829, -6.0959, -5.5567, -6.3674, -6.3674, -6.3679, -6.3679, -6.3684, -6.3687, -6.3718, -5.3737, -5.8819, -5.8825, -6.4509, -6.7421, -6.7421, -6.7421, -6.7421, -6.7421, -6.7421, -6.7421, -6.7421, -6.7421, -6.7421, -6.7421, -6.7421, -5.3901, -6.0966, -6.126, -4.3177, -4.3862, -4.2025, -5.6485, -4.567, -5.5962, -4.8998, -4.6747, -5.6125, -4.6303, -5.3111, -3.4253, -3.8375, -5.4571, -4.6992, -5.3165, -4.8525, -4.934, -5.6027, -4.6276, -4.3947, -4.9174, -4.2725, -4.6438, -5.2529, -5.058, -5.1098, -5.0972, -5.2009, -5.2471, -5.3466, -5.4127, -5.2392, -5.3898, -5.7998, -5.3504, -6.2773, -6.2773, -6.2773, -6.2773, -6.2776, -6.2778, -6.2779, -6.279, -6.2798, -6.2806, -6.2819, -6.0814, -5.9411, -6.6519, -6.6519, -6.6519, -6.6519, -6.6519, -6.6519, -6.652, -6.652, -6.652, -6.652, -6.652, -6.652, -6.652, -6.652, -6.652, -5.3463, -6.0052, -6.0053, -6.0048, -6.005, -6.0051, -6.0052, -6.0056, -5.7917, -2.9125, -5.1172, -5.3379, -5.2302, -4.9025, -5.654, -4.1859, -5.5877, -3.7719, -4.9154, -4.9251, -5.5237, -4.0435, -5.4667, -5.3963, -5.7219, -5.6703, -4.9555, -4.9332, -4.7222, -5.0397, -5.7913, -5.7924, -4.8174, -5.7932, -5.4574, -4.6066, -5.2412, -4.7877, -4.9101, -5.2899, -5.3227, -4.7621, -5.2555, -5.3624, -5.2703, -5.2962, -5.4418, -5.9995, -5.9996, -5.9999, -5.9999, -6.0001, -6.271, -6.271, -6.271, -6.2725, -6.2729, -6.2729, -4.3607, -6.6457, -6.6457, -6.6457, -6.6457, -6.6457, -6.6457, -6.6457, -6.6457, -6.6457, -6.6457, -6.6461, -6.6468, -6.6468, -6.6469, -6.6478, -6.6478, -6.6478, -4.854, -5.1465, -5.9994, -5.9989, -5.9995, -5.9997, -5.6224, -6.0009, -4.1312, -5.3423, -5.6953, -4.894, -5.27, -5.2471, -4.9106, -4.5516, -3.4704, -5.5004, -5.136, -3.6793, -3.761, -5.4873, -5.2744, -4.8232, -5.3296, -4.3816, -4.1796, -5.3617, -5.6475, -5.261, -4.9989, -5.0976, -5.1454, -5.097, -5.0935, -4.4417, -4.9647, -5.1972, -5.1983, -5.1732, -5.3315, -5.0977, -5.7714, -5.7714, -5.7716, -5.7718, -5.9848, -6.2566, -6.2566, -6.2573, -6.2574, -6.2587, -6.28, -6.6313, -6.6313, -6.6313, -6.6313, -6.6313, -6.6313, -6.6313, -6.6313, -6.6313, -6.6313, -6.6313, -6.6313, -6.6317, -6.6318, -6.6318, -6.6318, -6.6322, -6.6322, -5.3171, -5.9844, -5.6362, -5.0027, -5.7713, -5.3817, -5.3155, -6.0364, -5.7989, -4.6045, -5.5951, -5.2274, -5.4492, -5.9847, -4.6136, -3.9356, -5.3829, -4.9812, -3.762, -4.4012, -3.6809, -4.9336, -4.0554, -5.3767, -4.4719, -4.8459, -4.7947, -5.2239, -5.1083, -5.0833, -4.9561, -5.2316, -5.1315, -5.1404, -4.742, -5.2663, -5.157, -5.1208, -5.2702, -5.336, -5.5663, -6.0519, -5.5652, -6.426, -6.426, -6.426, -6.426, -6.426, -6.426, -6.426, -6.426, -6.426, -6.426, -6.4261, -6.4261, -6.427, -6.427, -6.427, -6.427, -6.4277, -6.4281, -6.4282, -4.7283, -5.7821, -6.548, -6.0513, -6.0512, -6.051, -5.4052, -5.6501, -4.2958, -4.4986, -5.3127, -4.4964, -4.7305, -4.9139, -5.4427, -5.128, -3.7302, -4.3469, -4.9729, -5.8438, -4.4074, -5.8559, -5.3541, -5.1088, -4.9943, -5.2393, -4.9553, -5.4766, -4.2666, -5.0496, -5.5625, -5.1687, -5.4354, -4.4017, -5.2615, -4.2808, -5.0356, -5.1004, -5.1216, -4.8651, -5.0401, -5.178, -5.3142]}, \"token.table\": {\"Topic\": [2, 1, 2, 4, 5, 4, 1, 5, 1, 4, 5, 2, 2, 3, 1, 1, 3, 2, 2, 4, 3, 4, 3, 1, 2, 3, 4, 5, 1, 2, 3, 4, 5, 1, 2, 3, 5, 2, 3, 3, 1, 1, 2, 3, 5, 1, 2, 3, 4, 1, 1, 2, 1, 2, 3, 4, 5, 4, 1, 2, 3, 4, 1, 1, 2, 3, 2, 5, 1, 4, 4, 2, 5, 1, 5, 1, 2, 1, 2, 3, 4, 5, 1, 2, 3, 4, 5, 1, 2, 3, 5, 1, 2, 3, 4, 5, 4, 3, 1, 3, 4, 5, 1, 3, 4, 5, 4, 3, 2, 5, 3, 1, 2, 3, 4, 5, 1, 3, 4, 5, 2, 4, 2, 3, 4, 5, 1, 2, 4, 2, 3, 1, 2, 3, 4, 5, 4, 1, 3, 3, 2, 3, 4, 5, 1, 2, 3, 4, 5, 3, 4, 2, 2, 3, 5, 3, 4, 5, 1, 2, 3, 4, 5, 2, 3, 4, 1, 2, 4, 5, 1, 2, 3, 4, 5, 2, 3, 4, 5, 3, 5, 4, 1, 2, 3, 4, 5, 2, 1, 2, 3, 4, 5, 1, 2, 3, 4, 5, 2, 1, 2, 3, 4, 5, 3, 1, 4, 2, 3, 4, 2, 1, 5, 5, 3, 1, 3, 5, 1, 2, 4, 5, 1, 2, 3, 4, 2, 3, 5, 1, 1, 2, 3, 4, 5, 1, 1, 2, 4, 1, 1, 2, 4, 5, 5, 5, 1, 2, 3, 4, 1, 2, 3, 4, 5, 3, 4, 1, 2, 4, 5, 3, 4, 1, 3, 4, 3, 2, 4, 5, 1, 2, 3, 4, 1, 2, 3, 4, 5, 1, 1, 1, 2, 3, 5, 5, 2, 1, 2, 3, 4, 5, 1, 4, 5, 1, 2, 3, 4, 5, 1, 1, 2, 3, 4, 5, 2, 3, 5, 1, 2, 3, 4, 1, 2, 5, 1, 5, 1, 2, 3, 4, 5, 2, 1, 5, 2, 3, 4, 2, 3, 4, 5, 3, 4, 5, 1, 2, 1, 2, 4, 1, 2, 3, 4, 5, 2, 3, 4, 1, 2, 3, 4, 5, 2, 3, 4, 1, 2, 3, 4, 5, 5, 1, 3, 4, 5, 3, 1, 2, 3, 4, 5, 1, 5, 1, 2, 1, 2, 3, 5, 3, 4, 5, 4, 2, 3, 4, 5, 1, 2, 3, 4, 5, 1, 2, 3, 1, 2, 3, 4, 5, 1, 2, 3, 4, 1, 4, 2, 2, 3, 4, 2, 1, 1, 3, 4, 2, 5, 3, 1, 3, 4, 5, 5, 1, 2, 3, 4, 5, 2, 1, 3, 4, 5, 2, 1, 2, 4, 5, 1, 5, 1, 2, 4, 1, 2, 5, 1, 1, 5, 1, 2, 3, 5, 4, 5, 3, 1, 2, 5, 1, 2, 3, 4, 5, 1, 2, 4, 5, 1, 2, 3, 4, 5, 5, 1, 4, 2, 3, 4, 5, 5, 1, 2, 3, 4, 5, 1, 2, 4, 5, 1, 2, 3, 4, 5, 2, 4, 5, 3, 1, 2, 4, 3, 4, 2, 3, 1, 2, 3, 4, 5, 2, 1, 3, 4, 3, 4, 2, 5, 1, 2, 1, 2, 3, 4, 5, 1, 3, 5, 5, 1, 2, 3, 4, 5, 1, 2, 5, 3, 4, 1, 2, 1, 4, 3, 3, 4, 5, 5, 4, 2, 4, 1, 2, 3, 4, 5, 4, 1, 4, 1, 2, 3, 4, 5, 1, 2, 3, 4, 5, 1, 2, 4, 5, 1, 2, 4, 1, 4, 5, 5, 1, 4, 1, 2, 3, 4, 5, 1, 2, 3, 4, 5, 4, 5, 1, 2, 3, 4, 2, 2, 3, 5, 3, 5, 4, 1, 4, 1, 2, 3, 4, 5, 3, 1, 2, 4, 5, 2, 5, 4, 4, 1, 2, 3, 4, 5, 2, 4, 5, 1, 3, 1, 2, 3, 4, 5, 1, 2, 3, 5, 5, 4, 3, 1, 2, 3, 4, 5, 1, 2, 3, 4, 5, 2, 3, 4, 5, 4, 4, 3], \"Freq\": [0.8534021641729547, 0.07668899086501042, 0.23006697259503125, 0.23006697259503125, 0.4601339451900625, 0.8602683688709244, 0.3292735787827249, 0.49391036817408734, 0.10458820717102821, 0.5229410358551411, 0.31376462151308465, 0.8534021503972398, 0.7592240411598148, 0.9190776241656637, 0.7614343870154654, 0.7618718490621109, 0.19046796226552773, 0.9475536584364799, 0.7592240527858731, 0.7646535767132144, 0.7656496741951322, 0.7646602675281191, 0.7656496861440044, 0.3125601661963012, 0.05209336103271687, 0.1562800830981506, 0.3646535272290181, 0.10418672206543374, 0.11076399155570443, 0.40613463570424957, 0.03692133051856814, 0.25844931362997703, 0.18460665259284073, 0.0765464535342696, 0.382732267671348, 0.1530929070685392, 0.382732267671348, 0.8534222597186831, 0.7656496861410287, 0.7656470194120005, 0.7614344312945799, 0.06348447035412509, 0.5713602331871258, 0.19045341106237526, 0.19045341106237526, 0.21177654902724383, 0.21177654902724383, 0.25413185883269257, 0.3388424784435901, 0.7614344384374284, 0.18962321060700538, 0.7584928424280215, 0.12120617717729142, 0.12120617717729142, 0.18180926576593712, 0.18180926576593712, 0.42422162012051995, 0.9558892207456443, 0.11366870538287932, 0.7956809376801552, 0.7657059410164933, 0.1914264852541233, 0.9508699743767378, 0.7614343985782837, 0.759224028992705, 0.9190784309378768, 0.7608934971133875, 0.19022337427834687, 0.814915377846235, 0.9558880366912424, 0.7646533395536478, 0.7592240134457976, 0.7712262960603682, 0.7631187188136583, 0.19077967970341458, 0.18962157297871637, 0.7584862919148655, 0.28462613292397104, 0.10571827794318925, 0.3740800604143619, 0.10571827794318925, 0.13011480362238675, 0.2348550692975299, 0.19081974380424302, 0.2642119529597211, 0.2495335111286255, 0.07339220915547809, 0.19764865093313702, 0.31623784149301926, 0.23717838111976444, 0.27670811130639184, 0.27674763303803984, 0.11860612844487421, 0.15814150459316562, 0.27674763303803984, 0.15814150459316562, 0.8601675771857078, 0.76565632788016, 0.08838860306099154, 0.6187202214269407, 0.17677720612198308, 0.08838860306099154, 0.07667430126255328, 0.6900687113629795, 0.07667430126255328, 0.15334860252510657, 0.8602678936823845, 0.7656396899227083, 0.7592240339916257, 0.7712258146734581, 0.7656496866369953, 0.46396356604660344, 0.15465452201553448, 0.15465452201553448, 0.09279271320932068, 0.12372361761242759, 0.534254425930918, 0.228966182541822, 0.152644121694548, 0.076322060847274, 0.7592240141711265, 0.7646505436083484, 0.28760545161148543, 0.1232594792620652, 0.20543246543677532, 0.41086493087355064, 0.8559733724797355, 0.6643727405788821, 0.2847311745338066, 0.7125010858188022, 0.28500043432752087, 0.10485442563923485, 0.10485442563923485, 0.03495147521307828, 0.1747573760653914, 0.5592236034092525, 0.860267287809175, 0.6665162317307216, 0.2856498135988807, 0.7656563281379145, 0.29918788609262525, 0.3989171814568337, 0.19945859072841685, 0.14959394304631263, 0.21021055386651294, 0.1576579153998847, 0.24174213694648986, 0.2942947754131181, 0.09459474923993082, 0.7657102756376054, 0.19142756890940135, 0.7592240241091441, 0.11549377505572812, 0.23098755011145625, 0.5774688752786405, 0.16504365736677856, 0.16504365736677856, 0.49513097210033563, 0.1594559219717778, 0.1594559219717778, 0.3826942127322667, 0.06378236878871113, 0.22323829076048893, 0.039597809160594875, 0.7523583740513026, 0.19798904580297436, 0.5129372631615192, 0.18652264114964334, 0.23315330143705418, 0.06994599043111625, 0.35378080969667214, 0.08844520242416803, 0.08844520242416803, 0.08844520242416803, 0.35378080969667214, 0.5188504893746027, 0.3113102936247616, 0.10377009787492052, 0.7705232383703622, 0.7673490224815301, 0.19183725562038254, 0.7646535772319982, 0.09185747248507523, 0.22964368121268808, 0.18371494497015045, 0.22964368121268808, 0.2755724174552257, 0.759224016815024, 0.19106518876924422, 0.1273767925128295, 0.06368839625641474, 0.509507170051318, 0.1273767925128295, 0.4162305075034461, 0.1560864403137923, 0.18210084703275767, 0.1300720335948269, 0.1300720335948269, 0.7592240161263258, 0.48185086874220484, 0.060231358592775605, 0.24092543437110242, 0.18069407577832683, 0.060231358592775605, 0.8615293734106421, 0.2862869819523665, 0.572573963904733, 0.2546693296835847, 0.7003406566298579, 0.860268368978301, 0.8534030467631539, 0.23089247145619066, 0.692677414368572, 0.771239491521301, 0.9190689267827843, 0.36591547005551656, 0.5854647520888265, 0.04878872934073554, 0.3813585790217476, 0.3177988158514563, 0.0953396447554369, 0.22245917109601943, 0.3367230587692861, 0.06734461175385723, 0.47141228227700055, 0.06734461175385723, 0.5724244259208667, 0.07155305324010834, 0.28621221296043337, 0.8561959120777869, 0.16345097796384575, 0.28603921143673006, 0.16345097796384575, 0.3269019559276915, 0.08172548898192288, 0.9508701388295218, 0.9508614080201855, 0.8534021602349672, 0.7646535763342502, 0.7614343852723168, 0.507675524527736, 0.190378321697901, 0.253837762263868, 0.063459440565967, 0.7712331812224621, 0.7712268780851156, 0.5704341868192948, 0.19014472893976495, 0.09507236446988247, 0.09507236446988247, 0.31715405861781387, 0.3805848703413766, 0.06343081172356277, 0.06343081172356277, 0.12686162344712554, 0.7657063876532432, 0.1914265969133108, 0.13489072615557712, 0.20233608923336568, 0.47211754154451996, 0.20233608923336568, 0.7656496867136547, 0.9558931037963964, 0.12739728989057816, 0.12739728989057816, 0.6369864494528908, 0.7656396958084303, 0.6232626401581318, 0.20775421338604394, 0.20775421338604394, 0.33519337024516, 0.46927071834322404, 0.13407734809806401, 0.06703867404903201, 0.4902846499927088, 0.1634282166642363, 0.1225711624981772, 0.04085705416605907, 0.1634282166642363, 0.7614344488010688, 0.7614344591747325, 0.1268175738297068, 0.634087869148534, 0.1268175738297068, 0.1268175738297068, 0.7712394894066533, 0.8534040626527623, 0.0994445973357558, 0.3812042897870639, 0.13259279644767438, 0.2983337920072674, 0.0994445973357558, 0.5733563633299572, 0.0955593938883262, 0.2866781816649786, 0.2086456345010851, 0.2086456345010851, 0.17387136208423756, 0.13909708966739007, 0.27819417933478013, 0.9130071607358662, 0.28561123113276765, 0.3141723542460444, 0.28561123113276765, 0.0856833693398303, 0.028561123113276764, 0.13602883477288313, 0.13602883477288313, 0.6801441738644156, 0.20218338908220407, 0.06739446302740135, 0.47176124119180946, 0.20218338908220407, 0.41298872002526504, 0.2294381777918139, 0.36710108446690226, 0.8317155974175253, 0.20792889935438133, 0.1295568359061067, 0.24060555239705533, 0.18508119415158103, 0.1665730747364229, 0.2591136718122134, 0.6828999267561106, 0.7620559783588676, 0.12700932972647794, 0.14322904371069362, 0.14322904371069362, 0.7161452185534681, 0.24166157162140317, 0.5437385361481571, 0.06041539290535079, 0.1812461787160524, 0.1444912540883972, 0.1444912540883972, 0.5779650163535888, 0.7614344031635076, 0.8534107816051986, 0.42876577853020403, 0.07146096308836734, 0.5002267416185714, 0.20210664930096628, 0.20210664930096628, 0.30315997395144945, 0.23579109085112732, 0.10105332465048314, 0.12745549870308587, 0.6372774935154294, 0.12745549870308587, 0.32170546101846365, 0.21447030734564243, 0.10723515367282122, 0.32170546101846365, 0.07149010244854748, 0.7592240502196357, 0.32792012749160665, 0.6558402549832133, 0.07175602501505011, 0.20729518337681144, 0.2949969917285393, 0.19932229170847252, 0.22324096671348923, 0.7729589256618306, 0.31883622440419535, 0.5101379590467126, 0.06376724488083907, 0.12753448976167814, 0.8615338334219266, 0.21242981538188244, 0.2974017415346354, 0.08497192615275297, 0.04248596307637648, 0.33988770461101186, 0.8171371953823672, 0.16342743907647342, 0.1896228453068959, 0.7584913812275836, 0.33803429428438814, 0.13521371771375526, 0.20282057657063288, 0.33803429428438814, 0.8615293746359941, 0.620442275124211, 0.3545384429281206, 0.7646535840782267, 0.09619361797005113, 0.09619361797005113, 0.19238723594010226, 0.5771617078203067, 0.19055245363446707, 0.25406993817928947, 0.06351748454482237, 0.4763811340861677, 0.03175874227241118, 0.19900700437950578, 0.19900700437950578, 0.5472692620436409, 0.39154977144841085, 0.15059606594169647, 0.2710729186950537, 0.12047685275335719, 0.09035763956501788, 0.6229199610062229, 0.10381999350103716, 0.2076399870020743, 0.7646534820083368, 0.814915378838185, 0.9176401222859588, 0.8534096343098455, 0.10428919025499353, 0.5214459512749676, 0.31286757076498056, 0.85347610213713, 0.7614344397365981, 0.22933727147554428, 0.6115660572681181, 0.15289151431702952, 0.19247320425774525, 0.769892817030981, 0.7656496865061329, 0.06042168915814991, 0.24168675663259964, 0.604216891581499, 0.06042168915814991, 0.7712394135200331, 0.16460016350524143, 0.2504785096818891, 0.24332198083383516, 0.24332198083383516, 0.10019140387275564, 0.7592240477621791, 0.14341113224626983, 0.5736445289850793, 0.28682226449253967, 0.7712395167427255, 0.7592240276772776, 0.08159953878840386, 0.5711967715188271, 0.08159953878840386, 0.24479861636521158, 0.856186094868256, 0.7712394994883354, 0.3415119427042712, 0.5691865711737853, 0.11383731423475707, 0.37931097877641745, 0.6321849646273624, 0.7712395017586284, 0.7614344011820487, 0.8561983079878117, 0.7712395265271967, 0.0955988275976171, 0.1911976551952342, 0.525793551786894, 0.14339824139642565, 0.766346542937113, 0.19158663573427825, 0.7656496756086285, 0.7614343994391667, 0.7608925488507902, 0.19022313721269754, 0.8561959098375743, 0.19198676358582878, 0.09599338179291439, 0.19198676358582878, 0.47996690896457195, 0.31375012581801054, 0.10458337527267018, 0.15687506290900527, 0.4706251887270158, 0.28639534712450576, 0.09546511570816858, 0.28639534712450576, 0.28639534712450576, 0.06364341047211239, 0.7712395017586284, 0.7614343965411313, 0.7646481368924124, 0.19126912060252152, 0.5738073618075645, 0.09563456030126076, 0.09563456030126076, 0.7712395238376849, 0.2586125191563111, 0.40011748246825496, 0.08295118538976018, 0.18054081526006627, 0.07807170389624486, 0.22954257158014169, 0.2869282144751771, 0.17215692868510626, 0.34431385737021253, 0.2959869012817926, 0.20349099463123244, 0.11099508798067223, 0.11099508798067223, 0.2774877199516806, 0.45703084598850663, 0.3808590383237555, 0.0761718076647511, 0.765649683621681, 0.1908127085831199, 0.09540635429155996, 0.6678444800409197, 0.7656496861462079, 0.7646505445412254, 0.8534037085453182, 0.7656396906084987, 0.08184630277155261, 0.32738521108621044, 0.040923151385776305, 0.409231513857763, 0.2046157569288815, 0.7592240219972175, 0.08192871494017645, 0.24578614482052935, 0.5735010045812351, 0.7656981690398981, 0.19142454225997452, 0.7592240155442587, 0.7712331905478913, 0.18962143028867987, 0.7584857211547195, 0.1493673522409616, 0.19915646965461545, 0.19915646965461545, 0.3983129393092309, 0.04978911741365386, 0.12765318820789406, 0.6382659410394703, 0.12765318820789406, 0.7712393972226096, 0.49722509221397604, 0.0745837638320964, 0.0497225092213976, 0.2983350553283856, 0.0497225092213976, 0.5292219172068653, 0.08820365286781087, 0.3528146114712435, 0.7656496866369953, 0.7646535766313245, 0.1895833586866557, 0.7583334347466228, 0.19093384029797766, 0.572801520893933, 0.9190726033443557, 0.5306049207364784, 0.3537366138243189, 0.08843415345607973, 0.7712394152105165, 0.9558903813798344, 0.7592790389454361, 0.18981975973635903, 0.0737534918079721, 0.4056442049438465, 0.18438372951993023, 0.25813722132790234, 0.0737534918079721, 0.764650544096018, 0.8561982870200049, 0.7646533398779738, 0.26227091915604106, 0.16391932447252566, 0.22948705426153596, 0.0983515946835154, 0.22948705426153596, 0.46503122866606306, 0.23251561433303153, 0.07750520477767717, 0.07750520477767717, 0.15501040955535433, 0.17566357952633924, 0.5269907385790177, 0.08783178976316962, 0.17566357952633924, 0.11391642633422618, 0.5695821316711309, 0.22783285266845235, 0.3277503428676642, 0.4916255143014963, 0.1638751714338321, 0.8686060916476941, 0.8156544697732319, 0.16313089395464636, 0.06182683789979036, 0.340047608448847, 0.4946147031983229, 0.12365367579958073, 0.7712331898818826, 0.16406740646860027, 0.08203370323430013, 0.21875654195813368, 0.3007902451924338, 0.21875654195813368, 0.23118712286443427, 0.6935613685933028, 0.4859312187061649, 0.05716837867131352, 0.2000893253495973, 0.22867351468525407, 0.7592242963945612, 0.634674766242724, 0.25386990649708957, 0.12693495324854479, 0.8615314072357267, 0.771239522941386, 0.7646566452172616, 0.8562089569591553, 0.7646535777597635, 0.1426513445322102, 0.5230549299514374, 0.237752240887017, 0.0475504481774034, 0.0475504481774034, 0.8615181286360285, 0.16943294161736894, 0.033886588323473785, 0.3388658832347379, 0.4405256482051592, 0.23068940241975902, 0.6920682072592771, 0.9385417082403175, 0.7646535760445975, 0.2291901088853891, 0.19099175740449092, 0.07639670296179636, 0.2673884603662873, 0.19099175740449092, 0.8534021782930389, 0.16538307699848898, 0.6615323079939559, 0.856193017736752, 0.765640852044249, 0.2228727356195523, 0.12735584892545845, 0.2547116978509169, 0.2865506600822815, 0.09551688669409385, 0.14861245035179865, 0.14861245035179865, 0.1857655629397483, 0.48299046364334564, 0.7712331754987974, 0.764653577028772, 0.8615293741822523, 0.294088490548465, 0.05881769810969299, 0.26467964149361844, 0.26467964149361844, 0.1470442452742325, 0.26644829856890545, 0.21315863885512437, 0.15986897914134326, 0.1865138089982338, 0.1865138089982338, 0.2612581106106807, 0.20900648848854456, 0.15675486636640842, 0.365761354854953, 0.8602624545655442, 0.7646533397702222, 0.9190725721963224], \"Term\": [\"20\", \"able\", \"able\", \"able\", \"able\", \"academics\", \"access\", \"access\", \"actually\", \"actually\", \"actually\", \"addition\", \"agency\", \"agenda\", \"allergies\", \"america\", \"america\", \"apart\", \"applied\", \"approaches\", \"art\", \"asking\", \"aspect\", \"attend\", \"attend\", \"attend\", \"attend\", \"attend\", \"attendees\", \"attendees\", \"attendees\", \"attendees\", \"attendees\", \"audience\", \"audience\", \"audience\", \"audience\", \"awesome\", \"awful\", \"base\", \"bay\", \"better\", \"better\", \"better\", \"better\", \"big\", \"big\", \"big\", \"big\", \"biz\", \"break\", \"break\", \"bring\", \"bring\", \"bring\", \"bring\", \"bring\", \"broad\", \"building\", \"building\", \"bunch\", \"bunch\", \"care\", \"careful\", \"choice\", \"cities\", \"city\", \"city\", \"code\", \"collective\", \"com\", \"common\", \"communities\", \"compelling\", \"compelling\", \"conducting\", \"conducting\", \"conference\", \"conference\", \"conference\", \"conference\", \"conference\", \"conferences\", \"conferences\", \"conferences\", \"conferences\", \"conferences\", \"consider\", \"consider\", \"consider\", \"consider\", \"content\", \"content\", \"content\", \"content\", \"content\", \"controversial\", \"conversations\", \"cost\", \"cost\", \"cost\", \"cost\", \"create\", \"create\", \"create\", \"create\", \"crowd\", \"culture\", \"curate\", \"currently\", \"dating\", \"day\", \"day\", \"day\", \"day\", \"day\", \"days\", \"days\", \"days\", \"days\", \"deeply\", \"demand\", \"design\", \"design\", \"design\", \"design\", \"development\", \"did\", \"did\", \"didn\", \"didn\", \"different\", \"different\", \"different\", \"different\", \"different\", \"discounted\", \"diversity\", \"diversity\", \"dives\", \"doing\", \"doing\", \"doing\", \"doing\", \"don\", \"don\", \"don\", \"don\", \"don\", \"easily\", \"easily\", \"emphasize\", \"engage\", \"engage\", \"engage\", \"epic\", \"epic\", \"epic\", \"event\", \"event\", \"event\", \"event\", \"event\", \"events\", \"events\", \"events\", \"experience\", \"experience\", \"experience\", \"experience\", \"experienced\", \"experienced\", \"experienced\", \"experienced\", \"experienced\", \"experiences\", \"experiences\", \"experiences\", \"expertise\", \"famous\", \"famous\", \"fancy\", \"feel\", \"feel\", \"feel\", \"feel\", \"feel\", \"felt\", \"field\", \"field\", \"field\", \"field\", \"field\", \"focus\", \"focus\", \"focus\", \"focus\", \"focus\", \"focusing\", \"food\", \"food\", \"food\", \"food\", \"food\", \"forget\", \"free\", \"free\", \"fun\", \"fun\", \"game\", \"generative\", \"generic\", \"generic\", \"geographic\", \"goes\", \"good\", \"good\", \"good\", \"great\", \"great\", \"great\", \"great\", \"group\", \"group\", \"group\", \"group\", \"hands\", \"hands\", \"hands\", \"heard\", \"help\", \"help\", \"help\", \"help\", \"help\", \"hold\", \"hope\", \"house\", \"http\", \"human\", \"idea\", \"idea\", \"idea\", \"idea\", \"ideal\", \"immersive\", \"important\", \"important\", \"important\", \"important\", \"include\", \"include\", \"include\", \"include\", \"include\", \"inclusive\", \"inclusive\", \"industry\", \"industry\", \"industry\", \"industry\", \"innovative\", \"insight\", \"insights\", \"insights\", \"insights\", \"inspiration\", \"instead\", \"instead\", \"instead\", \"interested\", \"interested\", \"interested\", \"interested\", \"interesting\", \"interesting\", \"interesting\", \"interesting\", \"interesting\", \"issue\", \"iterate\", \"job\", \"job\", \"job\", \"job\", \"join\", \"junior\", \"just\", \"just\", \"just\", \"just\", \"just\", \"keynote\", \"keynote\", \"keynote\", \"know\", \"know\", \"know\", \"know\", \"know\", \"leadership\", \"learn\", \"learn\", \"learn\", \"learn\", \"learn\", \"learning\", \"learning\", \"learning\", \"let\", \"let\", \"let\", \"let\", \"level\", \"level\", \"level\", \"levels\", \"levels\", \"like\", \"like\", \"like\", \"like\", \"like\", \"listen\", \"live\", \"live\", \"ll\", \"ll\", \"ll\", \"location\", \"location\", \"location\", \"location\", \"locations\", \"locations\", \"locations\", \"lodging\", \"longer\", \"look\", \"look\", \"look\", \"lot\", \"lot\", \"lot\", \"lot\", \"lot\", \"lots\", \"lots\", \"lots\", \"love\", \"love\", \"love\", \"love\", \"love\", \"maintaining\", \"major\", \"major\", \"make\", \"make\", \"make\", \"make\", \"make\", \"maturity\", \"maybe\", \"maybe\", \"maybe\", \"maybe\", \"means\", \"methods\", \"methods\", \"methods\", \"methods\", \"methods\", \"mid\", \"mid\", \"minute\", \"minute\", \"mix\", \"mix\", \"mix\", \"mix\", \"mixed\", \"money\", \"money\", \"months\", \"multiple\", \"multiple\", \"multiple\", \"multiple\", \"need\", \"need\", \"need\", \"need\", \"need\", \"networking\", \"networking\", \"networking\", \"new\", \"new\", \"new\", \"new\", \"new\", \"non\", \"non\", \"non\", \"normal\", \"north\", \"oh\", \"old\", \"online\", \"online\", \"online\", \"order\", \"original\", \"outside\", \"outside\", \"outside\", \"panels\", \"panels\", \"participant\", \"pay\", \"pay\", \"pay\", \"pay\", \"peer\", \"people\", \"people\", \"people\", \"people\", \"people\", \"phds\", \"place\", \"place\", \"place\", \"planned\", \"pms\", \"practice\", \"practice\", \"practice\", \"practice\", \"practices\", \"presenter\", \"presenters\", \"presenters\", \"presenters\", \"price\", \"price\", \"priced\", \"pricing\", \"prioritize\", \"problems\", \"provide\", \"provide\", \"provide\", \"provide\", \"pull\", \"pull\", \"purchase\", \"purpose\", \"qual\", \"qual\", \"question\", \"questions\", \"questions\", \"questions\", \"questions\", \"real\", \"real\", \"real\", \"real\", \"really\", \"really\", \"really\", \"really\", \"really\", \"reasonably\", \"recognize\", \"registration\", \"remote\", \"remote\", \"remote\", \"remote\", \"require\", \"research\", \"research\", \"research\", \"research\", \"research\", \"researcher\", \"researcher\", \"researcher\", \"researcher\", \"researchers\", \"researchers\", \"researchers\", \"researchers\", \"researchers\", \"right\", \"right\", \"right\", \"road\", \"say\", \"say\", \"say\", \"scale\", \"scaling\", \"selling\", \"seniority\", \"sessions\", \"sessions\", \"sessions\", \"sessions\", \"sessions\", \"sets\", \"share\", \"share\", \"share\", \"sharing\", \"sharing\", \"shouldn\", \"sitting\", \"skill\", \"skill\", \"small\", \"small\", \"small\", \"small\", \"small\", \"social\", \"social\", \"social\", \"sounds\", \"speakers\", \"speakers\", \"speakers\", \"speakers\", \"speakers\", \"specific\", \"specific\", \"specific\", \"speed\", \"spending\", \"stakeholders\", \"stakeholders\", \"strive\", \"strive\", \"structured\", \"stuff\", \"stuff\", \"stuff\", \"submissions\", \"success\", \"support\", \"support\", \"sure\", \"sure\", \"sure\", \"sure\", \"sure\", \"suspect\", \"table\", \"takes\", \"talk\", \"talk\", \"talk\", \"talk\", \"talk\", \"talks\", \"talks\", \"talks\", \"talks\", \"talks\", \"team\", \"team\", \"team\", \"team\", \"teams\", \"teams\", \"teams\", \"tech\", \"tech\", \"tech\", \"term\", \"terms\", \"terms\", \"think\", \"think\", \"think\", \"think\", \"throw\", \"time\", \"time\", \"time\", \"time\", \"time\", \"today\", \"today\", \"topics\", \"topics\", \"topics\", \"topics\", \"toronto\", \"track\", \"track\", \"track\", \"travelling\", \"trend\", \"truly\", \"trust\", \"unconferences\", \"use\", \"use\", \"use\", \"use\", \"use\", \"usually\", \"ux\", \"ux\", \"ux\", \"ux\", \"uxpa\", \"uxpa\", \"uxr\", \"valley\", \"ve\", \"ve\", \"ve\", \"ve\", \"ve\", \"versus\", \"virtual\", \"virtual\", \"voices\", \"walk\", \"want\", \"want\", \"want\", \"want\", \"want\", \"way\", \"way\", \"way\", \"way\", \"webinar\", \"weeds\", \"wish\", \"work\", \"work\", \"work\", \"work\", \"work\", \"workshops\", \"workshops\", \"workshops\", \"workshops\", \"workshops\", \"world\", \"world\", \"world\", \"world\", \"worth\", \"www\", \"yes\"]}, \"R\": 30, \"lambda.step\": 0.01, \"plot.opts\": {\"xlab\": \"PC1\", \"ylab\": \"PC2\"}, \"topic.order\": [2, 4, 3, 1, 5]};\n",
       "\n",
       "function LDAvis_load_lib(url, callback){\n",
       "  var s = document.createElement('script');\n",
       "  s.src = url;\n",
       "  s.async = true;\n",
       "  s.onreadystatechange = s.onload = callback;\n",
       "  s.onerror = function(){console.warn(\"failed to load library \" + url);};\n",
       "  document.getElementsByTagName(\"head\")[0].appendChild(s);\n",
       "}\n",
       "\n",
       "if(typeof(LDAvis) !== \"undefined\"){\n",
       "   // already loaded: just create the visualization\n",
       "   !function(LDAvis){\n",
       "       new LDAvis(\"#\" + \"ldavis_el221611123447800168340542380\", ldavis_el221611123447800168340542380_data);\n",
       "   }(LDAvis);\n",
       "}else if(typeof define === \"function\" && define.amd){\n",
       "   // require.js is available: use it to load d3/LDAvis\n",
       "   require.config({paths: {d3: \"https://cdnjs.cloudflare.com/ajax/libs/d3/3.5.5/d3.min\"}});\n",
       "   require([\"d3\"], function(d3){\n",
       "      window.d3 = d3;\n",
       "      LDAvis_load_lib(\"https://cdn.rawgit.com/bmabey/pyLDAvis/files/ldavis.v1.0.0.js\", function(){\n",
       "        new LDAvis(\"#\" + \"ldavis_el221611123447800168340542380\", ldavis_el221611123447800168340542380_data);\n",
       "      });\n",
       "    });\n",
       "}else{\n",
       "    // require.js not available: dynamically load d3 & LDAvis\n",
       "    LDAvis_load_lib(\"https://cdnjs.cloudflare.com/ajax/libs/d3/3.5.5/d3.min.js\", function(){\n",
       "         LDAvis_load_lib(\"https://cdn.rawgit.com/bmabey/pyLDAvis/files/ldavis.v1.0.0.js\", function(){\n",
       "                 new LDAvis(\"#\" + \"ldavis_el221611123447800168340542380\", ldavis_el221611123447800168340542380_data);\n",
       "            })\n",
       "         });\n",
       "}\n",
       "</script>"
      ],
      "text/plain": [
       "PreparedData(topic_coordinates=              x         y  topics  cluster       Freq\n",
       "topic                                                \n",
       "1     -0.015434  0.084195       1        1  22.609726\n",
       "3     -0.044466 -0.062280       2        1  20.750092\n",
       "2      0.124118 -0.044642       3        1  20.361627\n",
       "0      0.010212  0.068081       4        1  20.109896\n",
       "4     -0.074430 -0.045355       5        1  16.168659, topic_info=     Category        Freq       Term       Total  loglift  logprob\n",
       "376   Default   40.000000       good   40.000000  30.0000  30.0000\n",
       "774   Default  204.000000   research  204.000000  29.0000  29.0000\n",
       "304   Default   25.000000     events   25.000000  28.0000  28.0000\n",
       "990   Default   29.000000         ux   29.000000  27.0000  27.0000\n",
       "257   Default   28.000000  different   28.000000  26.0000  26.0000\n",
       "...       ...         ...        ...         ...      ...      ...\n",
       "303    Topic5    6.977923      event   31.356628   0.3194  -5.1216\n",
       "275    Topic5    9.018341        don   95.142702  -0.5340  -4.8651\n",
       "913    Topic5    7.570208      talks   51.609437  -0.0974  -5.0401\n",
       "1042   Topic5    6.595238  workshops   37.530733   0.0833  -5.1780\n",
       "482    Topic5    5.755486       just   60.335103  -0.5277  -5.3142\n",
       "\n",
       "[379 rows x 6 columns], token_table=      Topic      Freq   Term\n",
       "term                        \n",
       "2         2  0.853402     20\n",
       "7         1  0.076689   able\n",
       "7         2  0.230067   able\n",
       "7         4  0.230067   able\n",
       "7         5  0.460134   able\n",
       "...     ...       ...    ...\n",
       "1043      4  0.156755  world\n",
       "1043      5  0.365761  world\n",
       "1045      4  0.860262  worth\n",
       "1050      4  0.764653    www\n",
       "1053      3  0.919073    yes\n",
       "\n",
       "[663 rows x 3 columns], R=30, lambda_step=0.01, plot_opts={'xlab': 'PC1', 'ylab': 'PC2'}, topic_order=[2, 4, 3, 1, 5])"
      ]
     },
     "execution_count": 20,
     "metadata": {},
     "output_type": "execute_result"
    }
   ],
   "source": [
    "pyLDAvis.sklearn.prepare(lda_tf, doc_term_matrix, count_vect)"
   ]
  },
  {
   "cell_type": "code",
   "execution_count": null,
   "metadata": {},
   "outputs": [],
   "source": [
    "#H is the "
   ]
  },
  {
   "cell_type": "code",
   "execution_count": 26,
   "metadata": {},
   "outputs": [],
   "source": [
    "def display_topics(H, W, feature_names, documents, no_top_words, no_top_documents):\n",
    "    for topic_idx, topic in enumerate(H):\n",
    "        print(f\"Topic {topic_idx}: \")\n",
    "        print(\" \".join([feature_names[i] for i in topic.argsort()[:-no_top_words - 1:-1]]))\n",
    "        top_doc_indices = np.argsort( W[:,topic_idx] )[::-1][0:no_top_documents]\n",
    "        for doc_index in top_doc_indices:\n",
    "            print(documents[doc_index])"
   ]
  },
  {
   "cell_type": "code",
   "execution_count": 42,
   "metadata": {},
   "outputs": [
    {
     "name": "stdout",
     "output_type": "stream",
     "text": [
      "Topic 0: \n",
      "[1.19514865 1.20072482 0.20000291 ... 4.19972791 0.20001917 0.20000406]\n",
      "Topic 1: \n",
      "[1.19998994 1.19925366 0.20000229 ... 3.88802964 0.20206477 0.20000368]\n",
      "Topic 2: \n",
      "[1.19991496 0.20000671 0.20000345 ... 2.61884509 4.19787369 2.19369421]\n",
      "Topic 3: \n",
      "[0.20494258 0.20000665 3.19998821 ... 2.09339157 0.20001879 0.20629295]\n",
      "Topic 4: \n",
      "[0.20000388 0.20000815 0.20000314 ... 0.2000058  0.20002357 0.20000511]\n"
     ]
    }
   ],
   "source": [
    "for topic_idx, topic in enumerate(lda_H):\n",
    "    print(f\"Topic {topic_idx}: \")\n",
    "#    print(\" \".join[])\n",
    "    print(topic)"
   ]
  },
  {
   "cell_type": "markdown",
   "metadata": {},
   "source": [
    "# H, Word:Topic Matrix"
   ]
  },
  {
   "cell_type": "code",
   "execution_count": 45,
   "metadata": {},
   "outputs": [
    {
     "data": {
      "text/plain": [
       "5"
      ]
     },
     "execution_count": 45,
     "metadata": {},
     "output_type": "execute_result"
    }
   ],
   "source": [
    "len(lda_H)"
   ]
  },
  {
   "cell_type": "code",
   "execution_count": 48,
   "metadata": {},
   "outputs": [
    {
     "data": {
      "text/plain": [
       "(5, 1055)"
      ]
     },
     "execution_count": 48,
     "metadata": {},
     "output_type": "execute_result"
    }
   ],
   "source": [
    "lda_H.shape"
   ]
  },
  {
   "cell_type": "code",
   "execution_count": 46,
   "metadata": {},
   "outputs": [
    {
     "data": {
      "text/plain": [
       "1055"
      ]
     },
     "execution_count": 46,
     "metadata": {},
     "output_type": "execute_result"
    }
   ],
   "source": [
    "len(lda_H[0])"
   ]
  },
  {
   "cell_type": "code",
   "execution_count": 27,
   "metadata": {},
   "outputs": [],
   "source": [
    "no_topics = 5"
   ]
  },
  {
   "cell_type": "code",
   "execution_count": 81,
   "metadata": {},
   "outputs": [],
   "source": [
    "no_top_words = 5\n",
    "no_top_documents = 5"
   ]
  },
  {
   "cell_type": "markdown",
   "metadata": {},
   "source": [
    "# W, Document:Topic Matrix"
   ]
  },
  {
   "cell_type": "code",
   "execution_count": 49,
   "metadata": {},
   "outputs": [
    {
     "data": {
      "text/plain": [
       "numpy.ndarray"
      ]
     },
     "execution_count": 49,
     "metadata": {},
     "output_type": "execute_result"
    }
   ],
   "source": [
    "type(lda_W)"
   ]
  },
  {
   "cell_type": "markdown",
   "metadata": {},
   "source": [
    "## FIX IT"
   ]
  },
  {
   "cell_type": "code",
   "execution_count": 183,
   "metadata": {},
   "outputs": [],
   "source": [
    "def find_top_documents_per_topic(lda_W, documents):\n",
    "    df_W = pd.DataFrame(lda_W, index=documents.index)\n",
    "    indeces = df_W.idxmax(axis=0)\n",
    "    counter = 0\n",
    "    for i in indeces:\n",
    "        print(f'Top Document for Topic {counter}: \\n')\n",
    "        print(documents[i] + '\\n')\n",
    "        counter += 1"
   ]
  },
  {
   "cell_type": "code",
   "execution_count": 184,
   "metadata": {},
   "outputs": [
    {
     "name": "stdout",
     "output_type": "stream",
     "text": [
      "Top Document for Topic 0: \n",
      "\n",
      "Instead of trying to create a general ideal conference for the masses, consider having a more focused theme with a message / goal for the target audience. \n",
      "\n",
      "Top Document for Topic 1: \n",
      "\n",
      "My goal is to provide constructive criticism, so apologies in advance for being blunt. I hope you can use it to succeed in your hypothetical plans. I've been bugged from end to end with the anchors you chose to use in your survey.\n",
      "I have no idea how you're going to understand the data you've collected, especially since I have no idea how i was supposed understand the question. What does neutral do in the middle? Why is something at best somewhat important, but can't be slightly important? I may be picky and perfectionist, but it bothers me a lot. So hypothetically, if you were to organise a conference on research, my advice would be to start by gaining credibility in the field. As someone who's never heard the name before, I don't know who you are, why you care and this survey doesn't seem to indicate you're an expert in the field, unfortunately - despite thanking people for proof-reading / pilot testing this survey... \n",
      "\n",
      "Top Document for Topic 2: \n",
      "\n",
      "Find fun ways to let researchers act as researchees in interesting ways. Floating between the two could be fun. Build empathy from both sides.\n",
      "\n",
      "I'd also consider bringing in some random topics. Opera. Bookbinding. NASA water systems. I read an article years back about a leading designer who was being asked about how he kept engaged with his craft. He said he studies \"other\" things. He'd take ballroom dancing, or read about physics, or any non-subject related topics. Inevitably he'd find inspiration in those topics while reflecting on design tasks.  We're creatures of analogy. Setting up learning experiences where we can let individuals connect the dots between seemingly unrelated topics can be exhilarating!  \n",
      "\n",
      "Think Mixed tastes: \n",
      "\n",
      "https://mcadenver.org/events/series/mixed-taste-dcpa-2019\n",
      "\n",
      "Top Document for Topic 3: \n",
      "\n",
      "Don't be afraid to mimic conferences that are doing things right.\n",
      "For instance, An Event Apart limits their attendees to a manageable size and highly curates their speakers.\n",
      "Front Utah did a great job with the welcoming committee and allowing for longer breaks between sessions (4 30-minute talks, and then a 30 minute break). They also did a great job of getting folks out into the surrounding city where they host (every swag bag had a $20 bill and a map of local restaurants w/in walking distance -- attendees were encouraged to group up and go find lunch).\n",
      "Lots of conferences use Slack for pre-conference introductions, a channel for each speaker, they handle Q&A through the Slack channels (which allows attendees to \"vote\" for their questions if they've already been asked)... it's an interesting use of a communication platform like that.\n",
      "\n",
      "Top Document for Topic 4: \n",
      "\n",
      "I've noticed there's a trend for Social Psychologists in an academic field, UX Designers wanting more of an impact into the research process, and even Product Managers being tasked with research (within a product context). Something that would attract all of audiences, not just those already with a UX Design background.\n",
      "\n",
      "I would actually appreciate vendors that gave demos of the tools. As a practitioner sometimes our view is either limited, or if we engage with a sales person we never hear the end of it. It's almost a low pressure way to get access to the same content.\n",
      "\n",
      "I recently attended a conference where there were no organized after conference activities and it was the worst. I was quite disappointed.\n",
      "\n",
      "I would prefer a shorter conference (2-3 days rather than a full week), and the option to mix and match sessions. Sometimes the full track suffers from weaker content and I can see my $ being wasted away. \n",
      "\n",
      "\n",
      "\n"
     ]
    }
   ],
   "source": [
    "find_top_documents_per_topic(lda_W, test_drive)"
   ]
  },
  {
   "cell_type": "code",
   "execution_count": 132,
   "metadata": {},
   "outputs": [],
   "source": [
    "x = pd.DataFrame(lda_W, index=test_drive.index)"
   ]
  },
  {
   "cell_type": "code",
   "execution_count": 165,
   "metadata": {},
   "outputs": [],
   "source": [
    "top_docs_indeces = x.idxmax(axis=0)"
   ]
  },
  {
   "cell_type": "code",
   "execution_count": 169,
   "metadata": {},
   "outputs": [
    {
     "name": "stdout",
     "output_type": "stream",
     "text": [
      "74\n",
      "136\n",
      "742\n",
      "307\n",
      "342\n"
     ]
    }
   ],
   "source": [
    "for i in top_docs_indeces:\n",
    "    print(i)"
   ]
  },
  {
   "cell_type": "code",
   "execution_count": 135,
   "metadata": {},
   "outputs": [
    {
     "data": {
      "text/plain": [
       "\"My goal is to provide constructive criticism, so apologies in advance for being blunt. I hope you can use it to succeed in your hypothetical plans. I've been bugged from end to end with the anchors you chose to use in your survey.\\nI have no idea how you're going to understand the data you've collected, especially since I have no idea how i was supposed understand the question. What does neutral do in the middle? Why is something at best somewhat important, but can't be slightly important? I may be picky and perfectionist, but it bothers me a lot. So hypothetically, if you were to organise a conference on research, my advice would be to start by gaining credibility in the field. As someone who's never heard the name before, I don't know who you are, why you care and this survey doesn't seem to indicate you're an expert in the field, unfortunately - despite thanking people for proof-reading / pilot testing this survey... \""
      ]
     },
     "execution_count": 135,
     "metadata": {},
     "output_type": "execute_result"
    }
   ],
   "source": [
    "test_drive[136]"
   ]
  },
  {
   "cell_type": "code",
   "execution_count": 125,
   "metadata": {},
   "outputs": [
    {
     "data": {
      "text/plain": [
       "'Mix of theory and heavy on practical, mixing talk lengths/formats could cover a lot of area and balance those nicely. \\n\\n(hi all!)'"
      ]
     },
     "execution_count": 125,
     "metadata": {},
     "output_type": "execute_result"
    }
   ],
   "source": [
    "test_drive.iloc[284]"
   ]
  },
  {
   "cell_type": "code",
   "execution_count": null,
   "metadata": {},
   "outputs": [],
   "source": []
  }
 ],
 "metadata": {
  "kernelspec": {
   "display_name": "Python 3.7.3 64-bit ('base': conda)",
   "language": "python",
   "name": "python37364bitbaseconda8d748c27f25b40b885a085ed8ed813f7"
  },
  "language_info": {
   "codemirror_mode": {
    "name": "ipython",
    "version": 3
   },
   "file_extension": ".py",
   "mimetype": "text/x-python",
   "name": "python",
   "nbconvert_exporter": "python",
   "pygments_lexer": "ipython3",
   "version": "3.7.3"
  }
 },
 "nbformat": 4,
 "nbformat_minor": 2
}

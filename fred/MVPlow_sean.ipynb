{
 "cells": [
  {
   "cell_type": "code",
   "execution_count": 1,
   "metadata": {},
   "outputs": [],
   "source": [
    "import sys\n",
    "sys.path.append('../')\n",
    "import wrangle\n",
    "import explore\n",
    "import nlp\n",
    "import matplotlib.pyplot as plt"
   ]
  },
  {
   "cell_type": "code",
   "execution_count": 2,
   "metadata": {},
   "outputs": [],
   "source": [
    "from sklearn.decomposition import LatentDirichletAllocation\n",
    "from sklearn.feature_extraction.text import CountVectorizer\n",
    "import pandas as pd\n",
    "import numpy as np"
   ]
  },
  {
   "cell_type": "code",
   "execution_count": 3,
   "metadata": {},
   "outputs": [],
   "source": [
    "def find_word_counts(input_column, max_df=.3, min_df=2, ngram_range=(1,3), stop_words='english'):\n",
    "    input_column = input_column.dropna().apply(nlp.basic_clean)\n",
    "    input_column = input_column.apply(nlp.lemmatize)\n",
    "    cv = CountVectorizer(max_df=max_df, min_df=min_df, stop_words=stop_words, ngram_range=ngram_range)   \n",
    "    cv_fit=cv.fit_transform(input_column)    \n",
    "    word_list = cv.get_feature_names()    \n",
    "    count_list = cv_fit.toarray().sum(axis=0)\n",
    "    word_counts = {'word_list': word_list, 'count_list': count_list}\n",
    "    df_word_count = pd.DataFrame(data=word_counts)\n",
    "    return df_word_count"
   ]
  },
  {
   "cell_type": "code",
   "execution_count": 4,
   "metadata": {},
   "outputs": [],
   "source": [
    "job_taxo_dict = {\n",
    "    1: \"UX Researcher\",\n",
    "    6: \"Reseaerch and Design Manager\",\n",
    "    2: \"UX Designer\",\n",
    "    5: \"Specialist\",\n",
    "    7: \"Consultant\",\n",
    "    8: \"Executive\",\n",
    "    4: \"Research Specialist\",\n",
    "    3: \"Academic\",\n",
    "    9: \"Other\"\n",
    "}"
   ]
  },
  {
   "cell_type": "code",
   "execution_count": 5,
   "metadata": {},
   "outputs": [],
   "source": [
    "pd.set_option('display.max_columns', None)\n",
    "\n",
    "df, data_dict = wrangle.wrangle_data()"
   ]
  },
  {
   "cell_type": "code",
   "execution_count": 6,
   "metadata": {},
   "outputs": [],
   "source": [
    "df = explore.add_target_to_df(df)\n",
    "\n",
    "targetB = df.targetb\n",
    "\n",
    "targetB = targetB.reset_index().drop('resp_id',axis=1)\n",
    "\n",
    "job_taxo = df.job_taxo.map(job_taxo_dict)\n",
    "\n",
    "job_taxo = job_taxo.reset_index().drop('resp_id',axis=1)\n",
    "\n",
    "big_df = pd.read_csv('topics.csv', index_col=False)\n",
    "\n",
    "big_df.drop('Unnamed: 0', axis=1,inplace=True)\n",
    "\n",
    "big_df['targetB'] = targetB\n",
    "\n",
    "big_df['job_taxo'] = job_taxo\n",
    "\n",
    "likely = big_df[big_df.targetB == 0]"
   ]
  },
  {
   "cell_type": "code",
   "execution_count": 7,
   "metadata": {},
   "outputs": [
    {
     "data": {
      "text/plain": [
       "(354, 33)"
      ]
     },
     "execution_count": 7,
     "metadata": {},
     "output_type": "execute_result"
    }
   ],
   "source": [
    "likely.shape"
   ]
  },
  {
   "cell_type": "code",
   "execution_count": 8,
   "metadata": {},
   "outputs": [],
   "source": [
    "stop_words = ['like', 'plus', 'real', 'love', 'big', 'avoiding', 'mean', 'content', 'people', 'problem', \n",
    "              'doing', 'using','research', 'work', 'don', 'make', 'conference', 'yes', 've', 'ha', '300']\n",
    "\n",
    "stopWords = nlp.set_stop_words(stop_words)"
   ]
  },
  {
   "cell_type": "markdown",
   "metadata": {},
   "source": [
    "# Respondents NOT Likely To Go"
   ]
  },
  {
   "cell_type": "markdown",
   "metadata": {},
   "source": [
    "## Sentiment"
   ]
  },
  {
   "cell_type": "code",
   "execution_count": 9,
   "metadata": {},
   "outputs": [
    {
     "data": {
      "text/plain": [
       "0.21702682130075124"
      ]
     },
     "execution_count": 9,
     "metadata": {},
     "output_type": "execute_result"
    }
   ],
   "source": [
    "likely.big_answer.apply(nlp.find_polarity).mean()"
   ]
  },
  {
   "cell_type": "code",
   "execution_count": 10,
   "metadata": {},
   "outputs": [
    {
     "data": {
      "text/plain": [
       "0.4313958863792966"
      ]
     },
     "execution_count": 10,
     "metadata": {},
     "output_type": "execute_result"
    }
   ],
   "source": [
    "likely.big_answer.apply(nlp.find_subjectivity).mean()"
   ]
  },
  {
   "cell_type": "markdown",
   "metadata": {},
   "source": [
    "## TOTAL KEYWORDS"
   ]
  },
  {
   "cell_type": "code",
   "execution_count": 11,
   "metadata": {},
   "outputs": [
    {
     "data": {
      "text/plain": [
       "['researchi',\n",
       " 'phd',\n",
       " 'library',\n",
       " 'information',\n",
       " 'science',\n",
       " 'teaching',\n",
       " 'involved',\n",
       " 'ux',\n",
       " 'architecture',\n",
       " 'interned',\n",
       " 'local',\n",
       " 'firm',\n",
       " 'doe',\n",
       " 'additionally',\n",
       " 'discipline',\n",
       " 'increasingly',\n",
       " 'data',\n",
       " 'getting',\n",
       " 'familiar',\n",
       " 'self']"
      ]
     },
     "execution_count": 11,
     "metadata": {},
     "output_type": "execute_result"
    }
   ],
   "source": [
    "nlp.show_column_keywords(likely.big_answer, max_df=.8, stop_words=stopWords, ngram_range=(1,3))"
   ]
  },
  {
   "cell_type": "code",
   "execution_count": 12,
   "metadata": {},
   "outputs": [
    {
     "data": {
      "text/html": [
       "<div>\n",
       "<style scoped>\n",
       "    .dataframe tbody tr th:only-of-type {\n",
       "        vertical-align: middle;\n",
       "    }\n",
       "\n",
       "    .dataframe tbody tr th {\n",
       "        vertical-align: top;\n",
       "    }\n",
       "\n",
       "    .dataframe thead th {\n",
       "        text-align: right;\n",
       "    }\n",
       "</style>\n",
       "<table border=\"1\" class=\"dataframe\">\n",
       "  <thead>\n",
       "    <tr style=\"text-align: right;\">\n",
       "      <th></th>\n",
       "      <th>word_list</th>\n",
       "      <th>count_list</th>\n",
       "    </tr>\n",
       "  </thead>\n",
       "  <tbody>\n",
       "    <tr>\n",
       "      <th>82</th>\n",
       "      <td>attendee experience timenananana</td>\n",
       "      <td>16</td>\n",
       "    </tr>\n",
       "    <tr>\n",
       "      <th>1286</th>\n",
       "      <td>wa great</td>\n",
       "      <td>16</td>\n",
       "    </tr>\n",
       "    <tr>\n",
       "      <th>990</th>\n",
       "      <td>service design</td>\n",
       "      <td>17</td>\n",
       "    </tr>\n",
       "    <tr>\n",
       "      <th>551</th>\n",
       "      <td>human factor</td>\n",
       "      <td>18</td>\n",
       "    </tr>\n",
       "    <tr>\n",
       "      <th>1193</th>\n",
       "      <td>topic covered</td>\n",
       "      <td>18</td>\n",
       "    </tr>\n",
       "    <tr>\n",
       "      <th>228</th>\n",
       "      <td>conduct researchmasters</td>\n",
       "      <td>19</td>\n",
       "    </tr>\n",
       "    <tr>\n",
       "      <th>1117</th>\n",
       "      <td>taught conduct researchmasters</td>\n",
       "      <td>19</td>\n",
       "    </tr>\n",
       "    <tr>\n",
       "      <th>19</th>\n",
       "      <td>500 attendeesmultitrack attendee</td>\n",
       "      <td>23</td>\n",
       "    </tr>\n",
       "    <tr>\n",
       "      <th>18</th>\n",
       "      <td>500 attendeesmultitrack</td>\n",
       "      <td>23</td>\n",
       "    </tr>\n",
       "    <tr>\n",
       "      <th>155</th>\n",
       "      <td>case study</td>\n",
       "      <td>32</td>\n",
       "    </tr>\n",
       "    <tr>\n",
       "      <th>14</th>\n",
       "      <td>50 attendeessingletrack</td>\n",
       "      <td>44</td>\n",
       "    </tr>\n",
       "    <tr>\n",
       "      <th>15</th>\n",
       "      <td>50 attendeessingletrack attendee</td>\n",
       "      <td>44</td>\n",
       "    </tr>\n",
       "    <tr>\n",
       "      <th>816</th>\n",
       "      <td>option available timeslotsnananana</td>\n",
       "      <td>45</td>\n",
       "    </tr>\n",
       "    <tr>\n",
       "      <th>104</th>\n",
       "      <td>available timeslotsnananana</td>\n",
       "      <td>45</td>\n",
       "    </tr>\n",
       "    <tr>\n",
       "      <th>13</th>\n",
       "      <td>50 attendeesmultitrack attendee</td>\n",
       "      <td>47</td>\n",
       "    </tr>\n",
       "    <tr>\n",
       "      <th>12</th>\n",
       "      <td>50 attendeesmultitrack</td>\n",
       "      <td>47</td>\n",
       "    </tr>\n",
       "    <tr>\n",
       "      <th>6</th>\n",
       "      <td>300500 attendeesmultitrack attendee</td>\n",
       "      <td>54</td>\n",
       "    </tr>\n",
       "    <tr>\n",
       "      <th>5</th>\n",
       "      <td>300500 attendeesmultitrack</td>\n",
       "      <td>54</td>\n",
       "    </tr>\n",
       "    <tr>\n",
       "      <th>210</th>\n",
       "      <td>conduct researchi</td>\n",
       "      <td>55</td>\n",
       "    </tr>\n",
       "    <tr>\n",
       "      <th>1112</th>\n",
       "      <td>taught conduct researchi</td>\n",
       "      <td>55</td>\n",
       "    </tr>\n",
       "  </tbody>\n",
       "</table>\n",
       "</div>"
      ],
      "text/plain": [
       "                                word_list  count_list\n",
       "82       attendee experience timenananana          16\n",
       "1286                             wa great          16\n",
       "990                        service design          17\n",
       "551                          human factor          18\n",
       "1193                        topic covered          18\n",
       "228               conduct researchmasters          19\n",
       "1117       taught conduct researchmasters          19\n",
       "19       500 attendeesmultitrack attendee          23\n",
       "18                500 attendeesmultitrack          23\n",
       "155                            case study          32\n",
       "14                50 attendeessingletrack          44\n",
       "15       50 attendeessingletrack attendee          44\n",
       "816    option available timeslotsnananana          45\n",
       "104           available timeslotsnananana          45\n",
       "13        50 attendeesmultitrack attendee          47\n",
       "12                 50 attendeesmultitrack          47\n",
       "6     300500 attendeesmultitrack attendee          54\n",
       "5              300500 attendeesmultitrack          54\n",
       "210                     conduct researchi          55\n",
       "1112             taught conduct researchi          55"
      ]
     },
     "execution_count": 12,
     "metadata": {},
     "output_type": "execute_result"
    }
   ],
   "source": [
    "big_answer_df = find_word_counts(likely.big_answer, max_df=.2, stop_words=stopWords, ngram_range=(2,3))\n",
    "big_answer_df.sort_values(by='count_list').tail(20)"
   ]
  },
  {
   "cell_type": "markdown",
   "metadata": {},
   "source": [
    "## Most Common Job Titles"
   ]
  },
  {
   "cell_type": "code",
   "execution_count": 58,
   "metadata": {},
   "outputs": [
    {
     "data": {
      "image/png": "[encoded data removed]",
      "text/plain": [
       "<Figure size 432x288 with 1 Axes>"
      ]
     },
     "metadata": {
      "needs_background": "light"
     },
     "output_type": "display_data"
    }
   ],
   "source": [
    "ax = likely.job_taxo.value_counts(ascending=True).tail(5).plot.barh(legend=False,\n",
    "                                                       color=\"#00297f\",\n",
    "                                                       title=\"Most Common Job Titles\")\n",
    "ax.yaxis.set_label_text(\"\")\n",
    "ax.spines['top'].set_visible(False)\n",
    "ax.spines['right'].set_visible(False)\n",
    "ax.spines['left'].set_visible(False)\n",
    "ax.spines['bottom'].set_visible(False)\n",
    "plt.savefig('../viz_files/most_com_title.png', transparent = True)"
   ]
  },
  {
   "cell_type": "markdown",
   "metadata": {},
   "source": [
    "## What does your company do?\n",
    "\n",
    "q5 primary industry"
   ]
  },
  {
   "cell_type": "markdown",
   "metadata": {},
   "source": [
    "### keywords"
   ]
  },
  {
   "cell_type": "code",
   "execution_count": 14,
   "metadata": {},
   "outputs": [
    {
     "data": {
      "text/plain": [
       "['higher',\n",
       " 'education',\n",
       " 'higher education',\n",
       " 'food',\n",
       " 'financial',\n",
       " 'banking',\n",
       " 'health',\n",
       " 'healthcare',\n",
       " 'tech',\n",
       " 'ux',\n",
       " 'consulting',\n",
       " 'ux consulting',\n",
       " 'technology',\n",
       " 'consultant',\n",
       " 'company',\n",
       " 'industry',\n",
       " 'design',\n",
       " 'cpg',\n",
       " 'independent',\n",
       " 'freelancer']"
      ]
     },
     "execution_count": 14,
     "metadata": {},
     "output_type": "execute_result"
    }
   ],
   "source": [
    "nlp.show_column_keywords(likely.prim_ind_text, max_df=.5, stop_words=stopWords, ngram_range=(1,3))"
   ]
  },
  {
   "cell_type": "code",
   "execution_count": 61,
   "metadata": {},
   "outputs": [
    {
     "data": {
      "text/html": [
       "<div>\n",
       "<style scoped>\n",
       "    .dataframe tbody tr th:only-of-type {\n",
       "        vertical-align: middle;\n",
       "    }\n",
       "\n",
       "    .dataframe tbody tr th {\n",
       "        vertical-align: top;\n",
       "    }\n",
       "\n",
       "    .dataframe thead th {\n",
       "        text-align: right;\n",
       "    }\n",
       "</style>\n",
       "<table border=\"1\" class=\"dataframe\">\n",
       "  <thead>\n",
       "    <tr style=\"text-align: right;\">\n",
       "      <th></th>\n",
       "      <th>word_list</th>\n",
       "      <th>count_list</th>\n",
       "    </tr>\n",
       "  </thead>\n",
       "  <tbody>\n",
       "    <tr>\n",
       "      <th>39</th>\n",
       "      <td>government</td>\n",
       "      <td>16</td>\n",
       "    </tr>\n",
       "    <tr>\n",
       "      <th>35</th>\n",
       "      <td>fintech</td>\n",
       "      <td>18</td>\n",
       "    </tr>\n",
       "    <tr>\n",
       "      <th>8</th>\n",
       "      <td>consulting</td>\n",
       "      <td>19</td>\n",
       "    </tr>\n",
       "    <tr>\n",
       "      <th>33</th>\n",
       "      <td>financial</td>\n",
       "      <td>19</td>\n",
       "    </tr>\n",
       "    <tr>\n",
       "      <th>76</th>\n",
       "      <td>software</td>\n",
       "      <td>21</td>\n",
       "    </tr>\n",
       "    <tr>\n",
       "      <th>79</th>\n",
       "      <td>tech</td>\n",
       "      <td>22</td>\n",
       "    </tr>\n",
       "    <tr>\n",
       "      <th>16</th>\n",
       "      <td>design</td>\n",
       "      <td>23</td>\n",
       "    </tr>\n",
       "    <tr>\n",
       "      <th>80</th>\n",
       "      <td>technology</td>\n",
       "      <td>24</td>\n",
       "    </tr>\n",
       "    <tr>\n",
       "      <th>42</th>\n",
       "      <td>healthcare</td>\n",
       "      <td>25</td>\n",
       "    </tr>\n",
       "    <tr>\n",
       "      <th>74</th>\n",
       "      <td>service</td>\n",
       "      <td>27</td>\n",
       "    </tr>\n",
       "  </tbody>\n",
       "</table>\n",
       "</div>"
      ],
      "text/plain": [
       "     word_list  count_list\n",
       "39  government          16\n",
       "35     fintech          18\n",
       "8   consulting          19\n",
       "33   financial          19\n",
       "76    software          21\n",
       "79        tech          22\n",
       "16      design          23\n",
       "80  technology          24\n",
       "42  healthcare          25\n",
       "74     service          27"
      ]
     },
     "execution_count": 61,
     "metadata": {},
     "output_type": "execute_result"
    }
   ],
   "source": [
    "#words\n",
    "prim_ind_df = find_word_counts(likely.prim_ind_text, max_df=.5, stop_words=stopWords, ngram_range=(1,3))\n",
    "prim_ind_df.sort_values(by='count_list').tail(10)"
   ]
  },
  {
   "cell_type": "code",
   "execution_count": 97,
   "metadata": {},
   "outputs": [
    {
     "data": {
      "image/png": "[encoded data removed]",
      "text/plain": [
       "<Figure size 432x288 with 1 Axes>"
      ]
     },
     "metadata": {
      "needs_background": "light"
     },
     "output_type": "display_data"
    }
   ],
   "source": [
    "ax = prim_ind_df.sort_values(by='count_list').tail(4).plot.barh(x='word_list', \n",
    "                                                                y='count_list', \n",
    "                                                                legend=False, \n",
    "                                                                color=\"#00297f\")\n",
    "ax.yaxis.set_label_text(\"\")\n",
    "ax.tick_params(labelsize = 20)\n",
    "ax.spines['top'].set_visible(False)\n",
    "ax.spines['right'].set_visible(False)\n",
    "ax.spines['left'].set_visible(False)\n",
    "ax.spines['bottom'].set_visible(False)\n",
    "plt.tight_layout()\n",
    "plt.savefig('../viz_files/most_com_industry.png', transparent = True)"
   ]
  },
  {
   "cell_type": "code",
   "execution_count": 17,
   "metadata": {},
   "outputs": [
    {
     "data": {
      "image/png": "[encoded data removed]",
      "text/plain": [
       "<Figure size 432x288 with 1 Axes>"
      ]
     },
     "metadata": {
      "needs_background": "light"
     },
     "output_type": "display_data"
    }
   ],
   "source": [
    "ax = prim_ind_df.sort_values(by='count_list').head(5).plot.barh(x='word_list', \n",
    "                                                                y='count_list', \n",
    "                                                                legend=False, \n",
    "                                                                color=\"#00297f\",\n",
    "                                                                title=\"Least Common Industries\")\n",
    "ax.yaxis.set_label_text(\"\")\n",
    "ax.spines['top'].set_visible(False)\n",
    "ax.spines['right'].set_visible(False)\n",
    "ax.spines['left'].set_visible(False)\n",
    "ax.spines['bottom'].set_visible(False)"
   ]
  },
  {
   "cell_type": "code",
   "execution_count": 18,
   "metadata": {},
   "outputs": [
    {
     "data": {
      "text/plain": [
       "['higher education',\n",
       " 'ux consulting',\n",
       " 'financial service',\n",
       " 'consulting industry',\n",
       " 'management consulting',\n",
       " 'software design',\n",
       " 'enterprise software',\n",
       " 'information technology',\n",
       " 'customer experience',\n",
       " 'software service',\n",
       " 'public sector',\n",
       " 'product design',\n",
       " 'estate tech',\n",
       " 'digital product',\n",
       " 'saas software',\n",
       " 'fashion retail']"
      ]
     },
     "execution_count": 18,
     "metadata": {},
     "output_type": "execute_result"
    }
   ],
   "source": [
    "nlp.show_column_keywords(likely.prim_ind_text, max_df=.5, stop_words=stopWords, ngram_range=(2,3))"
   ]
  },
  {
   "cell_type": "code",
   "execution_count": 19,
   "metadata": {},
   "outputs": [
    {
     "data": {
      "text/html": [
       "<div>\n",
       "<style scoped>\n",
       "    .dataframe tbody tr th:only-of-type {\n",
       "        vertical-align: middle;\n",
       "    }\n",
       "\n",
       "    .dataframe tbody tr th {\n",
       "        vertical-align: top;\n",
       "    }\n",
       "\n",
       "    .dataframe thead th {\n",
       "        text-align: right;\n",
       "    }\n",
       "</style>\n",
       "<table border=\"1\" class=\"dataframe\">\n",
       "  <thead>\n",
       "    <tr style=\"text-align: right;\">\n",
       "      <th></th>\n",
       "      <th>word_list</th>\n",
       "      <th>count_list</th>\n",
       "    </tr>\n",
       "  </thead>\n",
       "  <tbody>\n",
       "    <tr>\n",
       "      <th>7</th>\n",
       "      <td>higher education</td>\n",
       "      <td>3</td>\n",
       "    </tr>\n",
       "    <tr>\n",
       "      <th>10</th>\n",
       "      <td>product design</td>\n",
       "      <td>3</td>\n",
       "    </tr>\n",
       "    <tr>\n",
       "      <th>14</th>\n",
       "      <td>software service</td>\n",
       "      <td>3</td>\n",
       "    </tr>\n",
       "    <tr>\n",
       "      <th>3</th>\n",
       "      <td>enterprise software</td>\n",
       "      <td>4</td>\n",
       "    </tr>\n",
       "    <tr>\n",
       "      <th>6</th>\n",
       "      <td>financial service</td>\n",
       "      <td>15</td>\n",
       "    </tr>\n",
       "  </tbody>\n",
       "</table>\n",
       "</div>"
      ],
      "text/plain": [
       "              word_list  count_list\n",
       "7      higher education           3\n",
       "10       product design           3\n",
       "14     software service           3\n",
       "3   enterprise software           4\n",
       "6     financial service          15"
      ]
     },
     "execution_count": 19,
     "metadata": {},
     "output_type": "execute_result"
    }
   ],
   "source": [
    "#ngrams\n",
    "prim_ind_df = find_word_counts(likely.prim_ind_text, max_df=.5, stop_words=stopWords, ngram_range=(2,3))\n",
    "prim_ind_df.sort_values(by='count_list').tail(5)"
   ]
  },
  {
   "cell_type": "code",
   "execution_count": 20,
   "metadata": {},
   "outputs": [
    {
     "data": {
      "text/plain": [
       "fintech                52\n",
       "commerce/consulting    52\n",
       "tech                   46\n",
       "education              45\n",
       "misc                   43\n",
       "healthcare             40\n",
       "software               39\n",
       "government             37\n",
       "Name: prim_ind_topic_id, dtype: int64"
      ]
     },
     "execution_count": 20,
     "metadata": {},
     "output_type": "execute_result"
    }
   ],
   "source": [
    "likely[likely.prim_ind_text.notnull()].prim_ind_topic_id.value_counts()"
   ]
  },
  {
   "cell_type": "markdown",
   "metadata": {},
   "source": [
    "## What kind of research are you doing?\n",
    "\n",
    "q7 future_res"
   ]
  },
  {
   "cell_type": "markdown",
   "metadata": {},
   "source": [
    "### keywords"
   ]
  },
  {
   "cell_type": "code",
   "execution_count": 21,
   "metadata": {},
   "outputs": [
    {
     "data": {
      "text/plain": [
       "['think',\n",
       " 'focused',\n",
       " 'social',\n",
       " 'user',\n",
       " 'usability',\n",
       " 'study',\n",
       " 'ethnographic',\n",
       " 'customer',\n",
       " 'interview',\n",
       " 'user usability',\n",
       " 'usability study',\n",
       " 'service',\n",
       " 'design',\n",
       " 'thinking',\n",
       " 'learning',\n",
       " 'quant',\n",
       " 'method',\n",
       " 'qual',\n",
       " 'analysis',\n",
       " 'service design']"
      ]
     },
     "execution_count": 21,
     "metadata": {},
     "output_type": "execute_result"
    }
   ],
   "source": [
    "nlp.show_column_keywords(likely.future_res_text, max_df=.5, stop_words=stopWords, ngram_range=(1,3))"
   ]
  },
  {
   "cell_type": "code",
   "execution_count": 22,
   "metadata": {},
   "outputs": [
    {
     "data": {
      "text/html": [
       "<div>\n",
       "<style scoped>\n",
       "    .dataframe tbody tr th:only-of-type {\n",
       "        vertical-align: middle;\n",
       "    }\n",
       "\n",
       "    .dataframe tbody tr th {\n",
       "        vertical-align: top;\n",
       "    }\n",
       "\n",
       "    .dataframe thead th {\n",
       "        text-align: right;\n",
       "    }\n",
       "</style>\n",
       "<table border=\"1\" class=\"dataframe\">\n",
       "  <thead>\n",
       "    <tr style=\"text-align: right;\">\n",
       "      <th></th>\n",
       "      <th>word_list</th>\n",
       "      <th>count_list</th>\n",
       "    </tr>\n",
       "  </thead>\n",
       "  <tbody>\n",
       "    <tr>\n",
       "      <th>225</th>\n",
       "      <td>unmoderated</td>\n",
       "      <td>18</td>\n",
       "    </tr>\n",
       "    <tr>\n",
       "      <th>233</th>\n",
       "      <td>usability testing</td>\n",
       "      <td>21</td>\n",
       "    </tr>\n",
       "    <tr>\n",
       "      <th>42</th>\n",
       "      <td>diary</td>\n",
       "      <td>21</td>\n",
       "    </tr>\n",
       "    <tr>\n",
       "      <th>164</th>\n",
       "      <td>quantitative</td>\n",
       "      <td>22</td>\n",
       "    </tr>\n",
       "    <tr>\n",
       "      <th>237</th>\n",
       "      <td>user</td>\n",
       "      <td>22</td>\n",
       "    </tr>\n",
       "    <tr>\n",
       "      <th>35</th>\n",
       "      <td>data</td>\n",
       "      <td>25</td>\n",
       "    </tr>\n",
       "    <tr>\n",
       "      <th>122</th>\n",
       "      <td>method</td>\n",
       "      <td>26</td>\n",
       "    </tr>\n",
       "    <tr>\n",
       "      <th>230</th>\n",
       "      <td>usability</td>\n",
       "      <td>34</td>\n",
       "    </tr>\n",
       "    <tr>\n",
       "      <th>192</th>\n",
       "      <td>study</td>\n",
       "      <td>42</td>\n",
       "    </tr>\n",
       "    <tr>\n",
       "      <th>203</th>\n",
       "      <td>testing</td>\n",
       "      <td>56</td>\n",
       "    </tr>\n",
       "  </tbody>\n",
       "</table>\n",
       "</div>"
      ],
      "text/plain": [
       "             word_list  count_list\n",
       "225        unmoderated          18\n",
       "233  usability testing          21\n",
       "42               diary          21\n",
       "164       quantitative          22\n",
       "237               user          22\n",
       "35                data          25\n",
       "122             method          26\n",
       "230          usability          34\n",
       "192              study          42\n",
       "203            testing          56"
      ]
     },
     "execution_count": 22,
     "metadata": {},
     "output_type": "execute_result"
    }
   ],
   "source": [
    "#words\n",
    "future_res_text_df = find_word_counts(likely.future_res_text, max_df=.5, stop_words=stopWords, ngram_range=(1,3))\n",
    "future_res_text_df.sort_values(by='count_list').tail(10)"
   ]
  },
  {
   "cell_type": "code",
   "execution_count": 23,
   "metadata": {},
   "outputs": [
    {
     "data": {
      "text/plain": [
       "['user usability',\n",
       " 'usability study',\n",
       " 'service design',\n",
       " 'quant method',\n",
       " 'card sorting',\n",
       " 'unmoderated usability',\n",
       " 'usability testing',\n",
       " 'unmoderated usability testing',\n",
       " 'study survey',\n",
       " 'unmoderated usability study',\n",
       " 'data science',\n",
       " 'looking new',\n",
       " 'new way',\n",
       " 'looking new way',\n",
       " 'testing card',\n",
       " 'competitive analysis',\n",
       " 'testing card sorting',\n",
       " 'field study',\n",
       " 'diary study',\n",
       " 'multivariate testing']"
      ]
     },
     "execution_count": 23,
     "metadata": {},
     "output_type": "execute_result"
    }
   ],
   "source": [
    "nlp.show_column_keywords(likely.future_res_text, max_df=.5, stop_words=stopWords, ngram_range=(2,3))"
   ]
  },
  {
   "cell_type": "code",
   "execution_count": 24,
   "metadata": {},
   "outputs": [
    {
     "data": {
      "text/html": [
       "<div>\n",
       "<style scoped>\n",
       "    .dataframe tbody tr th:only-of-type {\n",
       "        vertical-align: middle;\n",
       "    }\n",
       "\n",
       "    .dataframe tbody tr th {\n",
       "        vertical-align: top;\n",
       "    }\n",
       "\n",
       "    .dataframe thead th {\n",
       "        text-align: right;\n",
       "    }\n",
       "</style>\n",
       "<table border=\"1\" class=\"dataframe\">\n",
       "  <thead>\n",
       "    <tr style=\"text-align: right;\">\n",
       "      <th></th>\n",
       "      <th>word_list</th>\n",
       "      <th>count_list</th>\n",
       "    </tr>\n",
       "  </thead>\n",
       "  <tbody>\n",
       "    <tr>\n",
       "      <th>59</th>\n",
       "      <td>unmoderated usability</td>\n",
       "      <td>7</td>\n",
       "    </tr>\n",
       "    <tr>\n",
       "      <th>0</th>\n",
       "      <td>ab testing</td>\n",
       "      <td>9</td>\n",
       "    </tr>\n",
       "    <tr>\n",
       "      <th>7</th>\n",
       "      <td>contextual inquiry</td>\n",
       "      <td>9</td>\n",
       "    </tr>\n",
       "    <tr>\n",
       "      <th>12</th>\n",
       "      <td>diary study</td>\n",
       "      <td>18</td>\n",
       "    </tr>\n",
       "    <tr>\n",
       "      <th>64</th>\n",
       "      <td>usability testing</td>\n",
       "      <td>21</td>\n",
       "    </tr>\n",
       "  </tbody>\n",
       "</table>\n",
       "</div>"
      ],
      "text/plain": [
       "                word_list  count_list\n",
       "59  unmoderated usability           7\n",
       "0              ab testing           9\n",
       "7      contextual inquiry           9\n",
       "12            diary study          18\n",
       "64      usability testing          21"
      ]
     },
     "execution_count": 24,
     "metadata": {},
     "output_type": "execute_result"
    }
   ],
   "source": [
    "#ngrams\n",
    "future_res_text_df = find_word_counts(likely.future_res_text, max_df=.5, stop_words=stopWords, ngram_range=(2,3))\n",
    "future_res_text_df.sort_values(by='count_list').tail(5)"
   ]
  },
  {
   "cell_type": "code",
   "execution_count": 74,
   "metadata": {},
   "outputs": [
    {
     "data": {
      "image/png": "[encoded data removed]",
      "text/plain": [
       "<Figure size 432x288 with 1 Axes>"
      ]
     },
     "metadata": {
      "needs_background": "light"
     },
     "output_type": "display_data"
    }
   ],
   "source": [
    "ax = future_res_text_df.sort_values(by='count_list').tail(5).plot.barh(x='word_list', \n",
    "                                                                       y='count_list',                                                                         \n",
    "                                                                       legend=False, \n",
    "                                                                       color=\"#00297f\",\n",
    "                                                                       title=\"Future Research Methods (# of Respondents)\")\n",
    "ax.yaxis.set_label_text(\"\")\n",
    "ax.spines['top'].set_visible(False)\n",
    "ax.spines['right'].set_visible(False)\n",
    "ax.spines['left'].set_visible(False)\n",
    "ax.spines['bottom'].set_visible(False)\n",
    "plt.tight_layout()\n",
    "plt.savefig('../viz_files/future_res.png', transparent = True)"
   ]
  },
  {
   "cell_type": "markdown",
   "metadata": {},
   "source": [
    "### topics"
   ]
  },
  {
   "cell_type": "code",
   "execution_count": 26,
   "metadata": {},
   "outputs": [
    {
     "data": {
      "text/plain": [
       "evaluative, quantitative, qualitative    74\n",
       "focus group                              56\n",
       "market research                          36\n",
       "journey mapping                          30\n",
       "misc                                     29\n",
       "moderate, unmoderate                     26\n",
       "card sort                                26\n",
       "inquiry                                  25\n",
       "Name: future_res_topic_id, dtype: int64"
      ]
     },
     "execution_count": 26,
     "metadata": {},
     "output_type": "execute_result"
    }
   ],
   "source": [
    "likely[likely.future_res_text.notnull()].future_res_topic_id.value_counts()"
   ]
  },
  {
   "cell_type": "markdown",
   "metadata": {},
   "source": [
    "## What kind of research are you doing?\n",
    "\n",
    "q6 types_res_used"
   ]
  },
  {
   "cell_type": "markdown",
   "metadata": {},
   "source": [
    "### keywords"
   ]
  },
  {
   "cell_type": "code",
   "execution_count": 27,
   "metadata": {},
   "outputs": [
    {
     "data": {
      "text/plain": [
       "['conduct',\n",
       " 'variety',\n",
       " 'mix',\n",
       " 'qualitative',\n",
       " 'quantitative',\n",
       " 'lot',\n",
       " 'online',\n",
       " 'mix qualitative',\n",
       " 'qualitative quantitative',\n",
       " 'mix qualitative quantitative',\n",
       " 'interview',\n",
       " 'workshop',\n",
       " 'brainstorming',\n",
       " 'market',\n",
       " 'interview workshop',\n",
       " 'ethnography',\n",
       " 'mixed',\n",
       " 'method',\n",
       " 'qual',\n",
       " 'quant']"
      ]
     },
     "execution_count": 27,
     "metadata": {},
     "output_type": "execute_result"
    }
   ],
   "source": [
    "nlp.show_column_keywords(likely.types_res_text, max_df=.5, stop_words=stopWords, ngram_range=(1,3))"
   ]
  },
  {
   "cell_type": "code",
   "execution_count": 28,
   "metadata": {},
   "outputs": [
    {
     "data": {
      "text/html": [
       "<div>\n",
       "<style scoped>\n",
       "    .dataframe tbody tr th:only-of-type {\n",
       "        vertical-align: middle;\n",
       "    }\n",
       "\n",
       "    .dataframe tbody tr th {\n",
       "        vertical-align: top;\n",
       "    }\n",
       "\n",
       "    .dataframe thead th {\n",
       "        text-align: right;\n",
       "    }\n",
       "</style>\n",
       "<table border=\"1\" class=\"dataframe\">\n",
       "  <thead>\n",
       "    <tr style=\"text-align: right;\">\n",
       "      <th></th>\n",
       "      <th>word_list</th>\n",
       "      <th>count_list</th>\n",
       "    </tr>\n",
       "  </thead>\n",
       "  <tbody>\n",
       "    <tr>\n",
       "      <th>66</th>\n",
       "      <td>contextual</td>\n",
       "      <td>43</td>\n",
       "    </tr>\n",
       "    <tr>\n",
       "      <th>450</th>\n",
       "      <td>test</td>\n",
       "      <td>52</td>\n",
       "    </tr>\n",
       "    <tr>\n",
       "      <th>408</th>\n",
       "      <td>study</td>\n",
       "      <td>61</td>\n",
       "    </tr>\n",
       "    <tr>\n",
       "      <th>336</th>\n",
       "      <td>qualitative</td>\n",
       "      <td>73</td>\n",
       "    </tr>\n",
       "    <tr>\n",
       "      <th>548</th>\n",
       "      <td>user</td>\n",
       "      <td>74</td>\n",
       "    </tr>\n",
       "    <tr>\n",
       "      <th>529</th>\n",
       "      <td>usability testing</td>\n",
       "      <td>93</td>\n",
       "    </tr>\n",
       "    <tr>\n",
       "      <th>424</th>\n",
       "      <td>survey</td>\n",
       "      <td>132</td>\n",
       "    </tr>\n",
       "    <tr>\n",
       "      <th>516</th>\n",
       "      <td>usability</td>\n",
       "      <td>156</td>\n",
       "    </tr>\n",
       "    <tr>\n",
       "      <th>460</th>\n",
       "      <td>testing</td>\n",
       "      <td>163</td>\n",
       "    </tr>\n",
       "    <tr>\n",
       "      <th>200</th>\n",
       "      <td>interview</td>\n",
       "      <td>166</td>\n",
       "    </tr>\n",
       "  </tbody>\n",
       "</table>\n",
       "</div>"
      ],
      "text/plain": [
       "             word_list  count_list\n",
       "66          contextual          43\n",
       "450               test          52\n",
       "408              study          61\n",
       "336        qualitative          73\n",
       "548               user          74\n",
       "529  usability testing          93\n",
       "424             survey         132\n",
       "516          usability         156\n",
       "460            testing         163\n",
       "200          interview         166"
      ]
     },
     "execution_count": 28,
     "metadata": {},
     "output_type": "execute_result"
    }
   ],
   "source": [
    "#words\n",
    "types_res_df = find_word_counts(likely.types_res_text, max_df=.5, stop_words=stopWords, ngram_range=(1,3))\n",
    "types_res_df.sort_values(by='count_list').tail(10)"
   ]
  },
  {
   "cell_type": "code",
   "execution_count": 29,
   "metadata": {},
   "outputs": [
    {
     "data": {
      "text/plain": [
       "['mix qualitative',\n",
       " 'qualitative quantitative',\n",
       " 'mix qualitative quantitative',\n",
       " 'interview workshop',\n",
       " 'mixed method',\n",
       " 'qual quant',\n",
       " 'quant survey',\n",
       " 'survey focus',\n",
       " 'focus group',\n",
       " 'design thinking',\n",
       " 'service design',\n",
       " 'design methodology',\n",
       " 'grounded theory',\n",
       " 'theory analysis',\n",
       " 'survey focus group',\n",
       " 'grounded theory analysis',\n",
       " 'product usability',\n",
       " 'usability testing',\n",
       " 'testing contextual',\n",
       " 'contextual inquiry']"
      ]
     },
     "execution_count": 29,
     "metadata": {},
     "output_type": "execute_result"
    }
   ],
   "source": [
    "nlp.show_column_keywords(likely.types_res_text, max_df=.5, stop_words=stopWords, ngram_range=(2,3))"
   ]
  },
  {
   "cell_type": "code",
   "execution_count": 30,
   "metadata": {},
   "outputs": [
    {
     "data": {
      "text/html": [
       "<div>\n",
       "<style scoped>\n",
       "    .dataframe tbody tr th:only-of-type {\n",
       "        vertical-align: middle;\n",
       "    }\n",
       "\n",
       "    .dataframe tbody tr th {\n",
       "        vertical-align: top;\n",
       "    }\n",
       "\n",
       "    .dataframe thead th {\n",
       "        text-align: right;\n",
       "    }\n",
       "</style>\n",
       "<table border=\"1\" class=\"dataframe\">\n",
       "  <thead>\n",
       "    <tr style=\"text-align: right;\">\n",
       "      <th></th>\n",
       "      <th>word_list</th>\n",
       "      <th>count_list</th>\n",
       "    </tr>\n",
       "  </thead>\n",
       "  <tbody>\n",
       "    <tr>\n",
       "      <th>278</th>\n",
       "      <td>testing survey</td>\n",
       "      <td>18</td>\n",
       "    </tr>\n",
       "    <tr>\n",
       "      <th>129</th>\n",
       "      <td>interview usability</td>\n",
       "      <td>18</td>\n",
       "    </tr>\n",
       "    <tr>\n",
       "      <th>125</th>\n",
       "      <td>interview survey</td>\n",
       "      <td>18</td>\n",
       "    </tr>\n",
       "    <tr>\n",
       "      <th>74</th>\n",
       "      <td>focus group</td>\n",
       "      <td>19</td>\n",
       "    </tr>\n",
       "    <tr>\n",
       "      <th>309</th>\n",
       "      <td>usability test</td>\n",
       "      <td>20</td>\n",
       "    </tr>\n",
       "    <tr>\n",
       "      <th>329</th>\n",
       "      <td>user interview</td>\n",
       "      <td>20</td>\n",
       "    </tr>\n",
       "    <tr>\n",
       "      <th>17</th>\n",
       "      <td>card sort</td>\n",
       "      <td>23</td>\n",
       "    </tr>\n",
       "    <tr>\n",
       "      <th>35</th>\n",
       "      <td>contextual inquiry</td>\n",
       "      <td>26</td>\n",
       "    </tr>\n",
       "    <tr>\n",
       "      <th>53</th>\n",
       "      <td>diary study</td>\n",
       "      <td>26</td>\n",
       "    </tr>\n",
       "    <tr>\n",
       "      <th>313</th>\n",
       "      <td>usability testing</td>\n",
       "      <td>93</td>\n",
       "    </tr>\n",
       "  </tbody>\n",
       "</table>\n",
       "</div>"
      ],
      "text/plain": [
       "               word_list  count_list\n",
       "278       testing survey          18\n",
       "129  interview usability          18\n",
       "125     interview survey          18\n",
       "74           focus group          19\n",
       "309       usability test          20\n",
       "329       user interview          20\n",
       "17             card sort          23\n",
       "35    contextual inquiry          26\n",
       "53           diary study          26\n",
       "313    usability testing          93"
      ]
     },
     "execution_count": 30,
     "metadata": {},
     "output_type": "execute_result"
    }
   ],
   "source": [
    "#ngrams\n",
    "types_res_df = find_word_counts(likely.types_res_text, max_df=.5, stop_words=stopWords, ngram_range=(2,3))\n",
    "types_res_df.sort_values(by='count_list').tail(10)"
   ]
  },
  {
   "cell_type": "code",
   "execution_count": 72,
   "metadata": {},
   "outputs": [
    {
     "data": {
      "image/png": "[encoded data removed]",
      "text/plain": [
       "<Figure size 432x288 with 1 Axes>"
      ]
     },
     "metadata": {
      "needs_background": "light"
     },
     "output_type": "display_data"
    }
   ],
   "source": [
    "ax = types_res_df.sort_values(by='count_list').tail(5).plot.barh(x='word_list',\n",
    "                                                                 y='count_list', \n",
    "                                                                 legend=False, \n",
    "                                                                 color=\"#00297f\",\n",
    "                                                                 title=\"Current Reasearch Methods (# of respondents)\")\n",
    "ax.yaxis.set_label_text(\"\")\n",
    "ax.spines['top'].set_visible(False)\n",
    "ax.spines['right'].set_visible(False)\n",
    "ax.spines['left'].set_visible(False)\n",
    "ax.spines['bottom'].set_visible(False)\n",
    "plt.tight_layout()\n",
    "plt.savefig('../viz_files/curr_res.png', transparent = True)"
   ]
  },
  {
   "cell_type": "markdown",
   "metadata": {},
   "source": [
    "### topics"
   ]
  },
  {
   "cell_type": "code",
   "execution_count": 32,
   "metadata": {},
   "outputs": [
    {
     "data": {
      "text/plain": [
       "ngram                      60\n",
       "focus group                55\n",
       "validation                 52\n",
       "market                     51\n",
       "qual/quant                 40\n",
       "testing                    37\n",
       "misc                       25\n",
       "generative/mixed method    22\n",
       "Name: types_res_topic_id, dtype: int64"
      ]
     },
     "execution_count": 32,
     "metadata": {},
     "output_type": "execute_result"
    }
   ],
   "source": [
    "likely[likely.types_res_text.notnull()].types_res_topic_id.value_counts()"
   ]
  },
  {
   "cell_type": "markdown",
   "metadata": {},
   "source": [
    "## What topics would they be most attracted to at a conference about research?\n",
    "\n",
    "q21 ideal_topics"
   ]
  },
  {
   "cell_type": "code",
   "execution_count": 33,
   "metadata": {},
   "outputs": [],
   "source": [
    "stop_words = ['like', 'plus', 'real', 'love', 'big', 'avoiding', 'mean', 'content', 'people', 'problem', \n",
    "              'doing', 'using','research', 'work', 'don', 'make', 'conference', 'good', 'best', 'self', 'report']"
   ]
  },
  {
   "cell_type": "code",
   "execution_count": 34,
   "metadata": {},
   "outputs": [],
   "source": [
    "stopWords = nlp.set_stop_words(stop_words)"
   ]
  },
  {
   "cell_type": "markdown",
   "metadata": {},
   "source": [
    "### keywords"
   ]
  },
  {
   "cell_type": "code",
   "execution_count": 35,
   "metadata": {},
   "outputs": [
    {
     "data": {
      "text/plain": [
       "['new',\n",
       " 'data',\n",
       " 'analysis',\n",
       " 'method',\n",
       " 'analysis method',\n",
       " 'buyin',\n",
       " 'enterprise',\n",
       " 'user',\n",
       " 'program',\n",
       " 'quant',\n",
       " 'qual',\n",
       " 'visualization',\n",
       " 'method qual',\n",
       " 'data visualization',\n",
       " 'topic',\n",
       " 'usability',\n",
       " 'study',\n",
       " 'test',\n",
       " 'methodology',\n",
       " 'example']"
      ]
     },
     "execution_count": 35,
     "metadata": {},
     "output_type": "execute_result"
    }
   ],
   "source": [
    "nlp.show_column_keywords(likely.ideal_topics_text, max_df=.5, stop_words=stopWords, ngram_range=(1,3))"
   ]
  },
  {
   "cell_type": "code",
   "execution_count": 36,
   "metadata": {},
   "outputs": [
    {
     "data": {
      "text/html": [
       "<div>\n",
       "<style scoped>\n",
       "    .dataframe tbody tr th:only-of-type {\n",
       "        vertical-align: middle;\n",
       "    }\n",
       "\n",
       "    .dataframe tbody tr th {\n",
       "        vertical-align: top;\n",
       "    }\n",
       "\n",
       "    .dataframe thead th {\n",
       "        text-align: right;\n",
       "    }\n",
       "</style>\n",
       "<table border=\"1\" class=\"dataframe\">\n",
       "  <thead>\n",
       "    <tr style=\"text-align: right;\">\n",
       "      <th></th>\n",
       "      <th>word_list</th>\n",
       "      <th>count_list</th>\n",
       "    </tr>\n",
       "  </thead>\n",
       "  <tbody>\n",
       "    <tr>\n",
       "      <th>375</th>\n",
       "      <td>researcher</td>\n",
       "      <td>25</td>\n",
       "    </tr>\n",
       "    <tr>\n",
       "      <th>68</th>\n",
       "      <td>case study</td>\n",
       "      <td>27</td>\n",
       "    </tr>\n",
       "    <tr>\n",
       "      <th>498</th>\n",
       "      <td>way</td>\n",
       "      <td>27</td>\n",
       "    </tr>\n",
       "    <tr>\n",
       "      <th>483</th>\n",
       "      <td>ux</td>\n",
       "      <td>29</td>\n",
       "    </tr>\n",
       "    <tr>\n",
       "      <th>67</th>\n",
       "      <td>case</td>\n",
       "      <td>32</td>\n",
       "    </tr>\n",
       "    <tr>\n",
       "      <th>426</th>\n",
       "      <td>study</td>\n",
       "      <td>34</td>\n",
       "    </tr>\n",
       "    <tr>\n",
       "      <th>440</th>\n",
       "      <td>team</td>\n",
       "      <td>34</td>\n",
       "    </tr>\n",
       "    <tr>\n",
       "      <th>108</th>\n",
       "      <td>data</td>\n",
       "      <td>34</td>\n",
       "    </tr>\n",
       "    <tr>\n",
       "      <th>293</th>\n",
       "      <td>new</td>\n",
       "      <td>36</td>\n",
       "    </tr>\n",
       "    <tr>\n",
       "      <th>278</th>\n",
       "      <td>method</td>\n",
       "      <td>66</td>\n",
       "    </tr>\n",
       "  </tbody>\n",
       "</table>\n",
       "</div>"
      ],
      "text/plain": [
       "      word_list  count_list\n",
       "375  researcher          25\n",
       "68   case study          27\n",
       "498         way          27\n",
       "483          ux          29\n",
       "67         case          32\n",
       "426       study          34\n",
       "440        team          34\n",
       "108        data          34\n",
       "293         new          36\n",
       "278      method          66"
      ]
     },
     "execution_count": 36,
     "metadata": {},
     "output_type": "execute_result"
    }
   ],
   "source": [
    "#words\n",
    "ideal_topics_df = find_word_counts(likely.ideal_topics_text, max_df=.5, stop_words=stopWords, ngram_range=(1,3))\n",
    "ideal_topics_df.sort_values(by='count_list').tail(10)"
   ]
  },
  {
   "cell_type": "code",
   "execution_count": 37,
   "metadata": {},
   "outputs": [
    {
     "data": {
      "text/plain": [
       "['analysis method',\n",
       " 'method qual',\n",
       " 'data visualization',\n",
       " 'methodology used',\n",
       " 'ab testing',\n",
       " 'new method',\n",
       " 'want learn',\n",
       " 'learn new',\n",
       " 'new interesting',\n",
       " 'analysis reporting',\n",
       " 'particularly interested',\n",
       " 'interested learning',\n",
       " 'managing project',\n",
       " 'particularly interested learning',\n",
       " 'bridge gap',\n",
       " 'case study',\n",
       " 'usability testing',\n",
       " 'small team',\n",
       " 'org structure',\n",
       " 'impact new']"
      ]
     },
     "execution_count": 37,
     "metadata": {},
     "output_type": "execute_result"
    }
   ],
   "source": [
    "nlp.show_column_keywords(likely.ideal_topics_text, max_df=.5, stop_words=stopWords, ngram_range=(2,3))"
   ]
  },
  {
   "cell_type": "code",
   "execution_count": 38,
   "metadata": {},
   "outputs": [
    {
     "data": {
      "text/html": [
       "<div>\n",
       "<style scoped>\n",
       "    .dataframe tbody tr th:only-of-type {\n",
       "        vertical-align: middle;\n",
       "    }\n",
       "\n",
       "    .dataframe tbody tr th {\n",
       "        vertical-align: top;\n",
       "    }\n",
       "\n",
       "    .dataframe thead th {\n",
       "        text-align: right;\n",
       "    }\n",
       "</style>\n",
       "<table border=\"1\" class=\"dataframe\">\n",
       "  <thead>\n",
       "    <tr style=\"text-align: right;\">\n",
       "      <th></th>\n",
       "      <th>word_list</th>\n",
       "      <th>count_list</th>\n",
       "    </tr>\n",
       "  </thead>\n",
       "  <tbody>\n",
       "    <tr>\n",
       "      <th>4</th>\n",
       "      <td>analysis method</td>\n",
       "      <td>4</td>\n",
       "    </tr>\n",
       "    <tr>\n",
       "      <th>68</th>\n",
       "      <td>quant qual</td>\n",
       "      <td>4</td>\n",
       "    </tr>\n",
       "    <tr>\n",
       "      <th>78</th>\n",
       "      <td>stakeholder management</td>\n",
       "      <td>4</td>\n",
       "    </tr>\n",
       "    <tr>\n",
       "      <th>47</th>\n",
       "      <td>new method</td>\n",
       "      <td>11</td>\n",
       "    </tr>\n",
       "    <tr>\n",
       "      <th>12</th>\n",
       "      <td>case study</td>\n",
       "      <td>27</td>\n",
       "    </tr>\n",
       "  </tbody>\n",
       "</table>\n",
       "</div>"
      ],
      "text/plain": [
       "                 word_list  count_list\n",
       "4          analysis method           4\n",
       "68              quant qual           4\n",
       "78  stakeholder management           4\n",
       "47              new method          11\n",
       "12              case study          27"
      ]
     },
     "execution_count": 38,
     "metadata": {},
     "output_type": "execute_result"
    }
   ],
   "source": [
    "#bi-grams\n",
    "ideal_topics_df = find_word_counts(likely.ideal_topics_text, max_df=.5, stop_words=stopWords, ngram_range=(2,3))\n",
    "ideal_topics_df.sort_values(by='count_list').tail(5)"
   ]
  },
  {
   "cell_type": "code",
   "execution_count": 39,
   "metadata": {},
   "outputs": [
    {
     "data": {
      "image/png": "[encoded data removed]",
      "text/plain": [
       "<Figure size 432x288 with 1 Axes>"
      ]
     },
     "metadata": {
      "needs_background": "light"
     },
     "output_type": "display_data"
    }
   ],
   "source": [
    "ax = ideal_topics_df.sort_values(by='count_list').tail(10).plot.barh(x='word_list', \n",
    "                                                                     y='count_list',\n",
    "                                                                     legend=False, \n",
    "                                                                     color=\"#00297f\",\n",
    "                                                                     title=\"Ideal Conference Topics\")\n",
    "ax.yaxis.set_label_text(\"\")\n",
    "ax.spines['top'].set_visible(False)\n",
    "ax.spines['right'].set_visible(False)\n",
    "ax.spines['left'].set_visible(False)\n",
    "ax.spines['bottom'].set_visible(False)"
   ]
  },
  {
   "cell_type": "markdown",
   "metadata": {},
   "source": [
    "### topics"
   ]
  },
  {
   "cell_type": "code",
   "execution_count": 40,
   "metadata": {},
   "outputs": [
    {
     "data": {
      "text/plain": [
       "new_method, mixed_method    76\n",
       "quant/qual/data             72\n",
       "ops/ai                      66\n",
       "case_study                  62\n",
       "Name: ideal_topics_topic_id, dtype: int64"
      ]
     },
     "execution_count": 40,
     "metadata": {},
     "output_type": "execute_result"
    }
   ],
   "source": [
    "likely[likely.ideal_topics_text.notnull()].ideal_topics_topic_id.value_counts()"
   ]
  },
  {
   "cell_type": "markdown",
   "metadata": {},
   "source": [
    "## Who would they expect to see at a conference about research?\n",
    "\n",
    "q22 Ideal Attendees"
   ]
  },
  {
   "cell_type": "code",
   "execution_count": 41,
   "metadata": {},
   "outputs": [],
   "source": [
    "stop_words = ['like', 'plus', 'real', 'love', 'big', 'avoiding', 'mean', 'content', 'people', 'problem', \n",
    "              'doing', 'using','research', 'work', 'don', 'make', 'conference']\n",
    "\n",
    "stopWords = nlp.set_stop_words(stop_words)"
   ]
  },
  {
   "cell_type": "code",
   "execution_count": 42,
   "metadata": {},
   "outputs": [
    {
     "data": {
      "text/plain": [
       "['mix',\n",
       " 'academic',\n",
       " 'professional',\n",
       " 'mix academic',\n",
       " 'academic professional',\n",
       " 'mix academic professional',\n",
       " 'google',\n",
       " 'apple',\n",
       " 'google apple',\n",
       " 'user',\n",
       " 'leader',\n",
       " 'arent',\n",
       " 'afraid',\n",
       " 'talk',\n",
       " 'topic',\n",
       " 'arent afraid',\n",
       " 'healthcare',\n",
       " 'trying',\n",
       " 'innovation',\n",
       " 'familiar']"
      ]
     },
     "execution_count": 42,
     "metadata": {},
     "output_type": "execute_result"
    }
   ],
   "source": [
    "nlp.show_column_keywords(likely.ideal_attendees_text, max_df=.5, stop_words=stopWords)"
   ]
  },
  {
   "cell_type": "code",
   "execution_count": 43,
   "metadata": {},
   "outputs": [
    {
     "data": {
      "text/html": [
       "<div>\n",
       "<style scoped>\n",
       "    .dataframe tbody tr th:only-of-type {\n",
       "        vertical-align: middle;\n",
       "    }\n",
       "\n",
       "    .dataframe tbody tr th {\n",
       "        vertical-align: top;\n",
       "    }\n",
       "\n",
       "    .dataframe thead th {\n",
       "        text-align: right;\n",
       "    }\n",
       "</style>\n",
       "<table border=\"1\" class=\"dataframe\">\n",
       "  <thead>\n",
       "    <tr style=\"text-align: right;\">\n",
       "      <th></th>\n",
       "      <th>word_list</th>\n",
       "      <th>count_list</th>\n",
       "    </tr>\n",
       "  </thead>\n",
       "  <tbody>\n",
       "    <tr>\n",
       "      <th>329</th>\n",
       "      <td>tech</td>\n",
       "      <td>14</td>\n",
       "    </tr>\n",
       "    <tr>\n",
       "      <th>3</th>\n",
       "      <td>academic</td>\n",
       "      <td>15</td>\n",
       "    </tr>\n",
       "    <tr>\n",
       "      <th>255</th>\n",
       "      <td>product</td>\n",
       "      <td>15</td>\n",
       "    </tr>\n",
       "    <tr>\n",
       "      <th>108</th>\n",
       "      <td>field</td>\n",
       "      <td>17</td>\n",
       "    </tr>\n",
       "    <tr>\n",
       "      <th>360</th>\n",
       "      <td>want</td>\n",
       "      <td>18</td>\n",
       "    </tr>\n",
       "    <tr>\n",
       "      <th>149</th>\n",
       "      <td>industry</td>\n",
       "      <td>24</td>\n",
       "    </tr>\n",
       "    <tr>\n",
       "      <th>237</th>\n",
       "      <td>organization</td>\n",
       "      <td>25</td>\n",
       "    </tr>\n",
       "    <tr>\n",
       "      <th>50</th>\n",
       "      <td>company</td>\n",
       "      <td>27</td>\n",
       "    </tr>\n",
       "    <tr>\n",
       "      <th>185</th>\n",
       "      <td>leader</td>\n",
       "      <td>30</td>\n",
       "    </tr>\n",
       "    <tr>\n",
       "      <th>273</th>\n",
       "      <td>researcher</td>\n",
       "      <td>45</td>\n",
       "    </tr>\n",
       "  </tbody>\n",
       "</table>\n",
       "</div>"
      ],
      "text/plain": [
       "        word_list  count_list\n",
       "329          tech          14\n",
       "3        academic          15\n",
       "255       product          15\n",
       "108         field          17\n",
       "360          want          18\n",
       "149      industry          24\n",
       "237  organization          25\n",
       "50        company          27\n",
       "185        leader          30\n",
       "273    researcher          45"
      ]
     },
     "execution_count": 43,
     "metadata": {},
     "output_type": "execute_result"
    }
   ],
   "source": [
    "#terms\n",
    "ideal_attendees_df = find_word_counts(likely.ideal_attendees_text, max_df=.5, stop_words=stopWords, ngram_range=(1,3))\n",
    "ideal_attendees_df.sort_values(by='count_list').tail(10)"
   ]
  },
  {
   "cell_type": "code",
   "execution_count": 44,
   "metadata": {},
   "outputs": [
    {
     "data": {
      "text/plain": [
       "['mix academic',\n",
       " 'academic professional',\n",
       " 'mix academic professional',\n",
       " 'google apple',\n",
       " 'arent afraid',\n",
       " 'learn lot',\n",
       " 'industry leader',\n",
       " 'indi young',\n",
       " 'steve portigal',\n",
       " 'public sector',\n",
       " 'speaking consulting',\n",
       " 'leader organization',\n",
       " 'case study',\n",
       " 'kate towsey',\n",
       " 'erika hall',\n",
       " 'wide variety',\n",
       " 'small large',\n",
       " 'jared spool',\n",
       " 'jan chipchase',\n",
       " 'nn group']"
      ]
     },
     "execution_count": 44,
     "metadata": {},
     "output_type": "execute_result"
    }
   ],
   "source": [
    "nlp.show_column_keywords(likely.ideal_attendees_text, max_df=.5, stop_words=stopWords, ngram_range=(2,3))"
   ]
  },
  {
   "cell_type": "code",
   "execution_count": 45,
   "metadata": {},
   "outputs": [
    {
     "data": {
      "text/html": [
       "<div>\n",
       "<style scoped>\n",
       "    .dataframe tbody tr th:only-of-type {\n",
       "        vertical-align: middle;\n",
       "    }\n",
       "\n",
       "    .dataframe tbody tr th {\n",
       "        vertical-align: top;\n",
       "    }\n",
       "\n",
       "    .dataframe thead th {\n",
       "        text-align: right;\n",
       "    }\n",
       "</style>\n",
       "<table border=\"1\" class=\"dataframe\">\n",
       "  <thead>\n",
       "    <tr style=\"text-align: right;\">\n",
       "      <th></th>\n",
       "      <th>word_list</th>\n",
       "      <th>count_list</th>\n",
       "    </tr>\n",
       "  </thead>\n",
       "  <tbody>\n",
       "    <tr>\n",
       "      <th>47</th>\n",
       "      <td>steve portigal</td>\n",
       "      <td>6</td>\n",
       "    </tr>\n",
       "    <tr>\n",
       "      <th>17</th>\n",
       "      <td>industry leader</td>\n",
       "      <td>6</td>\n",
       "    </tr>\n",
       "    <tr>\n",
       "      <th>19</th>\n",
       "      <td>jan chipchase</td>\n",
       "      <td>6</td>\n",
       "    </tr>\n",
       "    <tr>\n",
       "      <th>39</th>\n",
       "      <td>sam ladner</td>\n",
       "      <td>7</td>\n",
       "    </tr>\n",
       "    <tr>\n",
       "      <th>9</th>\n",
       "      <td>erika hall</td>\n",
       "      <td>8</td>\n",
       "    </tr>\n",
       "  </tbody>\n",
       "</table>\n",
       "</div>"
      ],
      "text/plain": [
       "          word_list  count_list\n",
       "47   steve portigal           6\n",
       "17  industry leader           6\n",
       "19    jan chipchase           6\n",
       "39       sam ladner           7\n",
       "9        erika hall           8"
      ]
     },
     "execution_count": 45,
     "metadata": {},
     "output_type": "execute_result"
    }
   ],
   "source": [
    "#bigrams\n",
    "ideal_attendees_df = find_word_counts(likely.ideal_attendees_text, max_df=.5, stop_words=stopWords, ngram_range=(2,3))\n",
    "ideal_attendees_df.sort_values(by='count_list').tail(5)"
   ]
  },
  {
   "cell_type": "code",
   "execution_count": 46,
   "metadata": {},
   "outputs": [
    {
     "data": {
      "image/png": "[encoded data removed]",
      "text/plain": [
       "<Figure size 432x288 with 1 Axes>"
      ]
     },
     "metadata": {
      "needs_background": "light"
     },
     "output_type": "display_data"
    }
   ],
   "source": [
    "ax = ideal_attendees_df.sort_values(by='count_list').tail(10).plot.barh(x='word_list', \n",
    "                                                                       y='count_list', \n",
    "                                                                       legend=False, \n",
    "                                                                       color=\"#00297f\",\n",
    "                                                                       title=\"Ideal Conference Attendees\")\n",
    "ax.yaxis.set_label_text(\"\")\n",
    "ax.spines['top'].set_visible(False)\n",
    "ax.spines['right'].set_visible(False)\n",
    "ax.spines['left'].set_visible(False)\n",
    "ax.spines['bottom'].set_visible(False)"
   ]
  },
  {
   "cell_type": "code",
   "execution_count": 47,
   "metadata": {},
   "outputs": [
    {
     "data": {
      "text/plain": [
       "industry, team, product    92\n",
       "indi young                 54\n",
       "experience, jared spool    46\n",
       "sam ladner, erika hall     44\n",
       "Name: ideal_attendees_topic_id, dtype: int64"
      ]
     },
     "execution_count": 47,
     "metadata": {},
     "output_type": "execute_result"
    }
   ],
   "source": [
    "likely[likely.ideal_attendees_text.notnull()].ideal_attendees_topic_id.value_counts()"
   ]
  },
  {
   "cell_type": "markdown",
   "metadata": {},
   "source": [
    "## What advice do they have for the Rosenfeld Media team in pursuing a conference?\n",
    "q23 recommendations"
   ]
  },
  {
   "cell_type": "code",
   "execution_count": 48,
   "metadata": {},
   "outputs": [
    {
     "data": {
      "text/plain": [
       "['actually',\n",
       " 'feel',\n",
       " 'biggest',\n",
       " 'area',\n",
       " 'series',\n",
       " 'unconferences',\n",
       " 'workshop',\n",
       " 'presentation',\n",
       " 'similar',\n",
       " 'thing',\n",
       " 've',\n",
       " 'seen',\n",
       " 'really',\n",
       " 'cool',\n",
       " 'design',\n",
       " 'thinking',\n",
       " 'community',\n",
       " 'attendee',\n",
       " 'use',\n",
       " 'single']"
      ]
     },
     "execution_count": 48,
     "metadata": {},
     "output_type": "execute_result"
    }
   ],
   "source": [
    "nlp.show_column_keywords(likely.recommendations_text, max_df=.9, stop_words=stopWords, ngram_range=(1,7))"
   ]
  },
  {
   "cell_type": "code",
   "execution_count": 49,
   "metadata": {},
   "outputs": [],
   "source": [
    "stop_words = ['like', 'plus', 'real', 'love', 'big', 'avoiding', 'mean', 'content', 'problem', \n",
    "              'doing', 'using', 'work', 'don', 'make', 'yes', 've', 'ha', 'day', 'way',\n",
    "              'research','conference','researcher','dont','just','people','make','talk',\n",
    "             'good', 'event', 'getting', 'nan', 'know', 'think', 'sure']\n",
    "\n",
    "stopWords = nlp.set_stop_words(stop_words)"
   ]
  },
  {
   "cell_type": "code",
   "execution_count": 50,
   "metadata": {},
   "outputs": [
    {
     "data": {
      "text/html": [
       "<div>\n",
       "<style scoped>\n",
       "    .dataframe tbody tr th:only-of-type {\n",
       "        vertical-align: middle;\n",
       "    }\n",
       "\n",
       "    .dataframe tbody tr th {\n",
       "        vertical-align: top;\n",
       "    }\n",
       "\n",
       "    .dataframe thead th {\n",
       "        text-align: right;\n",
       "    }\n",
       "</style>\n",
       "<table border=\"1\" class=\"dataframe\">\n",
       "  <thead>\n",
       "    <tr style=\"text-align: right;\">\n",
       "      <th></th>\n",
       "      <th>word_list</th>\n",
       "      <th>count_list</th>\n",
       "    </tr>\n",
       "  </thead>\n",
       "  <tbody>\n",
       "    <tr>\n",
       "      <th>286</th>\n",
       "      <td>location</td>\n",
       "      <td>14</td>\n",
       "    </tr>\n",
       "    <tr>\n",
       "      <th>182</th>\n",
       "      <td>feel</td>\n",
       "      <td>14</td>\n",
       "    </tr>\n",
       "    <tr>\n",
       "      <th>305</th>\n",
       "      <td>method</td>\n",
       "      <td>15</td>\n",
       "    </tr>\n",
       "    <tr>\n",
       "      <th>230</th>\n",
       "      <td>idea</td>\n",
       "      <td>15</td>\n",
       "    </tr>\n",
       "    <tr>\n",
       "      <th>203</th>\n",
       "      <td>great</td>\n",
       "      <td>16</td>\n",
       "    </tr>\n",
       "    <tr>\n",
       "      <th>400</th>\n",
       "      <td>really</td>\n",
       "      <td>17</td>\n",
       "    </tr>\n",
       "    <tr>\n",
       "      <th>269</th>\n",
       "      <td>learn</td>\n",
       "      <td>17</td>\n",
       "    </tr>\n",
       "    <tr>\n",
       "      <th>551</th>\n",
       "      <td>want</td>\n",
       "      <td>17</td>\n",
       "    </tr>\n",
       "    <tr>\n",
       "      <th>215</th>\n",
       "      <td>help</td>\n",
       "      <td>18</td>\n",
       "    </tr>\n",
       "    <tr>\n",
       "      <th>99</th>\n",
       "      <td>company</td>\n",
       "      <td>18</td>\n",
       "    </tr>\n",
       "    <tr>\n",
       "      <th>510</th>\n",
       "      <td>time</td>\n",
       "      <td>20</td>\n",
       "    </tr>\n",
       "    <tr>\n",
       "      <th>293</th>\n",
       "      <td>lot</td>\n",
       "      <td>20</td>\n",
       "    </tr>\n",
       "    <tr>\n",
       "      <th>561</th>\n",
       "      <td>workshop</td>\n",
       "      <td>21</td>\n",
       "    </tr>\n",
       "    <tr>\n",
       "      <th>321</th>\n",
       "      <td>new</td>\n",
       "      <td>21</td>\n",
       "    </tr>\n",
       "    <tr>\n",
       "      <th>515</th>\n",
       "      <td>topic</td>\n",
       "      <td>23</td>\n",
       "    </tr>\n",
       "    <tr>\n",
       "      <th>319</th>\n",
       "      <td>need</td>\n",
       "      <td>23</td>\n",
       "    </tr>\n",
       "    <tr>\n",
       "      <th>170</th>\n",
       "      <td>experience</td>\n",
       "      <td>24</td>\n",
       "    </tr>\n",
       "    <tr>\n",
       "      <th>186</th>\n",
       "      <td>focus</td>\n",
       "      <td>26</td>\n",
       "    </tr>\n",
       "    <tr>\n",
       "      <th>38</th>\n",
       "      <td>attend</td>\n",
       "      <td>26</td>\n",
       "    </tr>\n",
       "    <tr>\n",
       "      <th>454</th>\n",
       "      <td>speaker</td>\n",
       "      <td>26</td>\n",
       "    </tr>\n",
       "  </tbody>\n",
       "</table>\n",
       "</div>"
      ],
      "text/plain": [
       "      word_list  count_list\n",
       "286    location          14\n",
       "182        feel          14\n",
       "305      method          15\n",
       "230        idea          15\n",
       "203       great          16\n",
       "400      really          17\n",
       "269       learn          17\n",
       "551        want          17\n",
       "215        help          18\n",
       "99      company          18\n",
       "510        time          20\n",
       "293         lot          20\n",
       "561    workshop          21\n",
       "321         new          21\n",
       "515       topic          23\n",
       "319        need          23\n",
       "170  experience          24\n",
       "186       focus          26\n",
       "38       attend          26\n",
       "454     speaker          26"
      ]
     },
     "execution_count": 50,
     "metadata": {},
     "output_type": "execute_result"
    }
   ],
   "source": [
    "#words\n",
    "recommendations_df = find_word_counts(likely.recommendations_text, max_df=.5, stop_words=stopWords, ngram_range=(1,3))\n",
    "recommendations_df.sort_values(by='count_list').tail(20)"
   ]
  },
  {
   "cell_type": "code",
   "execution_count": 51,
   "metadata": {},
   "outputs": [
    {
     "data": {
      "image/png": "[encoded data removed]",
      "text/plain": [
       "<Figure size 432x288 with 1 Axes>"
      ]
     },
     "metadata": {
      "needs_background": "light"
     },
     "output_type": "display_data"
    }
   ],
   "source": [
    "ax = recommendations_df.sort_values(by='count_list').tail(10).plot.barh(x='word_list', \n",
    "                                                                       y='count_list', \n",
    "                                                                       legend=False, \n",
    "                                                                       color=\"#00297f\",\n",
    "                                                                       title=\"Recommendations for Conference\")\n",
    "ax.yaxis.set_label_text(\"\")\n",
    "ax.spines['top'].set_visible(False)\n",
    "ax.spines['right'].set_visible(False)\n",
    "ax.spines['left'].set_visible(False)\n",
    "ax.spines['bottom'].set_visible(False)"
   ]
  },
  {
   "cell_type": "code",
   "execution_count": 52,
   "metadata": {},
   "outputs": [
    {
     "data": {
      "text/plain": [
       "['workshop presentation',\n",
       " 'really cool',\n",
       " 'design thinking',\n",
       " 'thinking community',\n",
       " 'community attendee',\n",
       " 'thinking community attendee',\n",
       " 'thought leadership',\n",
       " 'subject matter',\n",
       " 'based experience',\n",
       " 'world outside',\n",
       " 'field ux',\n",
       " 'add value',\n",
       " 'll come',\n",
       " 'point view',\n",
       " 'expert field',\n",
       " 'broad range',\n",
       " 'easily accessible',\n",
       " 'north america',\n",
       " 'america europe',\n",
       " 'north america europe']"
      ]
     },
     "execution_count": 52,
     "metadata": {},
     "output_type": "execute_result"
    }
   ],
   "source": [
    "nlp.show_column_keywords(likely.recommendations_text, max_df=.9, stop_words=stopWords, ngram_range=(2,7))"
   ]
  },
  {
   "cell_type": "code",
   "execution_count": 53,
   "metadata": {},
   "outputs": [
    {
     "data": {
      "text/html": [
       "<div>\n",
       "<style scoped>\n",
       "    .dataframe tbody tr th:only-of-type {\n",
       "        vertical-align: middle;\n",
       "    }\n",
       "\n",
       "    .dataframe tbody tr th {\n",
       "        vertical-align: top;\n",
       "    }\n",
       "\n",
       "    .dataframe thead th {\n",
       "        text-align: right;\n",
       "    }\n",
       "</style>\n",
       "<table border=\"1\" class=\"dataframe\">\n",
       "  <thead>\n",
       "    <tr style=\"text-align: right;\">\n",
       "      <th></th>\n",
       "      <th>word_list</th>\n",
       "      <th>count_list</th>\n",
       "    </tr>\n",
       "  </thead>\n",
       "  <tbody>\n",
       "    <tr>\n",
       "      <th>4</th>\n",
       "      <td>attend want</td>\n",
       "      <td>3</td>\n",
       "    </tr>\n",
       "    <tr>\n",
       "      <th>1</th>\n",
       "      <td>actionable takeaway</td>\n",
       "      <td>3</td>\n",
       "    </tr>\n",
       "    <tr>\n",
       "      <th>42</th>\n",
       "      <td>point view</td>\n",
       "      <td>3</td>\n",
       "    </tr>\n",
       "    <tr>\n",
       "      <th>33</th>\n",
       "      <td>method interesting</td>\n",
       "      <td>3</td>\n",
       "    </tr>\n",
       "    <tr>\n",
       "      <th>9</th>\n",
       "      <td>case study</td>\n",
       "      <td>5</td>\n",
       "    </tr>\n",
       "  </tbody>\n",
       "</table>\n",
       "</div>"
      ],
      "text/plain": [
       "              word_list  count_list\n",
       "4           attend want           3\n",
       "1   actionable takeaway           3\n",
       "42           point view           3\n",
       "33   method interesting           3\n",
       "9            case study           5"
      ]
     },
     "execution_count": 53,
     "metadata": {},
     "output_type": "execute_result"
    }
   ],
   "source": [
    "#ngrams\n",
    "recommendations_df = find_word_counts(likely.recommendations_text, max_df=.5, stop_words=stopWords, ngram_range=(2,3))\n",
    "recommendations_df.sort_values(by='count_list').tail(5)"
   ]
  },
  {
   "cell_type": "code",
   "execution_count": 54,
   "metadata": {},
   "outputs": [
    {
     "data": {
      "text/plain": [
       "speaker, industry      66\n",
       "event, opportunity     50\n",
       "good, know             47\n",
       "group, career, city    43\n",
       "field, survery         26\n",
       "Name: recommendations_topic_id, dtype: int64"
      ]
     },
     "execution_count": 54,
     "metadata": {},
     "output_type": "execute_result"
    }
   ],
   "source": [
    "likely[likely.recommendations_text.notnull()].recommendations_topic_id.value_counts()"
   ]
  },
  {
   "cell_type": "markdown",
   "metadata": {},
   "source": [
    "## Top Documents per Topic"
   ]
  },
  {
   "cell_type": "code",
   "execution_count": 55,
   "metadata": {},
   "outputs": [
    {
     "data": {
      "text/plain": [
       "LatentDirichletAllocation(batch_size=128, doc_topic_prior=None,\n",
       "                          evaluate_every=-1, learning_decay=0.7,\n",
       "                          learning_method='batch', learning_offset=10.0,\n",
       "                          max_doc_update_iter=100, max_iter=10,\n",
       "                          mean_change_tol=0.001, n_components=4, n_jobs=None,\n",
       "                          perp_tol=0.1, random_state=42, topic_word_prior=None,\n",
       "                          total_samples=1000000.0, verbose=0)"
      ]
     },
     "execution_count": 55,
     "metadata": {},
     "output_type": "execute_result"
    }
   ],
   "source": [
    "doc_term_matrix, count_vect = nlp.create_wordcount_matrix(likely.recommendations_text, max_df=.3, ngram=(1,3), stop_words=stopWords)\n",
    "\n",
    "LDA = LatentDirichletAllocation(n_components=4, random_state=42)\n",
    "\n",
    "LDA.fit(doc_term_matrix)\n",
    "\n",
    "#nlp.find_top_documents_per_topic(LDA.transform(doc_term_matrix), likely.recommendations_text, 5)"
   ]
  },
  {
   "cell_type": "code",
   "execution_count": 56,
   "metadata": {},
   "outputs": [],
   "source": [
    "recommendations_dict = {0 : 'speaker, industry', \n",
    "                        1 : 'event, opportunity', \n",
    "                        2 : 'good, know', \n",
    "                        3 : 'field, survery', \n",
    "                        4 : 'group, career, city'}"
   ]
  },
  {
   "cell_type": "code",
   "execution_count": 57,
   "metadata": {},
   "outputs": [
    {
     "name": "stdout",
     "output_type": "stream",
     "text": [
      "Top 5 Documents for Topic 0: \n",
      "\n",
      "Document 1\n",
      "I've been in the field a little while and I'm most interested in topics that I haven't heard about before. I'm all for people getting their speaking / writing / thought leadership chops up but I am not interested in something I've already seen on Medium and elsewhere a dozen times. Novelty in subject matter and approach are what I find inspiring.\n",
      "\n",
      "Document 2\n",
      "Please make sure the workshops include diverse people from all backgrounds, don't make prerequisite to attending it very high, and don't let them be just 101s and they shouldn't feel rushed. In the workshops I attended the facilitators compressed their week long methods to fit into a 3 hour format rather and in the end we didn't feel like we learnt anything because it was so rushed. \n",
      "\n",
      "Make sure that people are able to deeply engage in it. \n",
      "\n",
      "Document 3\n",
      "I actually feel like the biggest contribution to this area might be an unconference, or series of unconferences, where workshops and presentations can get blended together. There's another similar thing I've seen where there is this really cool symposium that they have in the design thinking research community where they have a conference where all the attendees use a single set of research data to conduct a variety of studies. I thought that was a righteous idea. \n",
      "\n",
      "Document 4\n",
      "Make it inclusive and accessible.  Find ways to make everyone comfortable.  Establish a code of conduct and don't sway from it- make it safe.  Light snacks and/or refreshments are nice- freely available water if it's long.  \n",
      "\n",
      "Find some compelling big-time speakers but stack them as keynote/plenary, so they don't crowd out the more niche players.  Market the smaller names with specific interesting information.  \n",
      "\n",
      "One of the best conferences I went to offered some really helpful take-away such as a free professional head shot!  \n",
      "\n",
      "Oh and have plenty of clean, accessible bathroom facilities at various spots!  \n",
      "\n",
      "Document 5\n",
      "Tough to say. I would probably want to get involved with a conference that took on some of the massive delusions in the industry today such as over-reliance on tech, the digital delusion, a clear-eyed discussion of the state of online research, the \"big data\" crock, etc. The second largest gorilla in the room is the complete lack of training in our industry. How many people just decided one day to be an ethnographer? Where's the training for how to become more empathetic? How many have really taken a course on storytelling? \n",
      "\n",
      "But the biggest gorilla is the industry's refusal to come to grips with \"insight.\" To define it, understand how only humans have insights. That you can't \"gather insight.\" How people can become more insightful. To admit that 99.9% of what the \"insight\" industry sells its clients is just more data, sometimes useful knowledge. To admit that developing real insights is incredibly hard work that takes a long time and lots of money! And to realize that since we have commodified data collection the only place to go is to true insights.\n",
      "\n",
      "Anyway. I've blogged about a lot of this stuff here www.theinsightsguy.com\n",
      "\n",
      "Best of luck!\n",
      "\n",
      "Top 5 Documents for Topic 1: \n",
      "\n",
      "Document 1\n",
      "Don’t focus on the evening stuff - it excludes a lot of people who can’t or don’t want to do the social stuff. \n",
      "I like to learn new stuff - innovative or new methods always interesting. Ask for expressions of interest, I see the same people presenting the same thing at lots of conferences. Let other people have a chance! \n",
      "\n",
      "Document 2\n",
      "Follow a service design & delivery process. Always be discovering, prototyping, testing & iterating. Don’t be limited by geography. Don’t just think of a stack of people in a room. Give attendees pre work and homework. Give people options to pair in new ways. Bring real challenges for people to help with. Research takes time so give people time to apply the knowledge and bring back learnings to the group\n",
      "\n",
      "Document 3\n",
      "Let the audience know who this research is aimed at. Too often do I attend a product day or research conference where it is all about 'validation' research and 'hacks'. I understand these have a place, but I don't need to be told how to write a research question ... and far too often conferences focus only on this. It's really painful as a researcher with 10 years experience to continue to learn and broaden my research knowledge when all I can see is talks about the basics to non-researchers. <-- I understand there is a place for this, but it would be nice to have something more aimed towards experienced researchers in UX roles\n",
      "\n",
      "Document 4\n",
      "I tend to gravitate towards conferences that offer a mix of engagement (talks, workshops, etc).\n",
      "\n",
      "I attended the Qualtrics experience summit a couple of years ago and I would describe it as unexpected. There were plenty of talks to attend, but the keynote speakers really caught my attention (Lin Manuel Miranda, Tony Hawk, Alex Honnold, etc). These folks aren't \"industry leaders\", but they were able to talk about subjects that were analogous to the topic of experience. People are at the very core of what I do. While I do like to hear talks from leaders in the research industry, I also want to be inspired by others who are not—people who have great stories of human connection that have nothing to do with \"research\", while still being inspiring to researchers. Anthony Bourdain comes to mind.\n",
      "\n",
      "Document 5\n",
      "I'd like a lot of discussion around the business of research; I'd hope that it would be set up in a non-intimidating format where people could genuinely learn from each other and be able to have meaningful conversation that helps researchers to advance their own practices. If we had all of those brilliant heads in the room I mentioned above, I think a panel talking about the future of research would be fascinating as well. It would also be interesting to have a talk somewhere about remote research or the intersection of research roles and the remote workforce (that is just especially relevant to me). I would also hope that there was a nice blend of qual/quant, or maybe separate tracks for each that people could interweave between. If there is a design research focus, in particular, I think a nice balance of generative and evaluative would be important as well. And last but not least, it could be cool to explore via a workshop or something the areas of the world that we see ripe with opportunity for research to have an impact (outside of the traditional software product team scope).\n",
      "\n",
      "Top 5 Documents for Topic 2: \n",
      "\n",
      "Document 1\n",
      "Use only industry professionals who actively conduct research. Speak about cutting-edge methods or new applications of traditional methods. Topics such as negotiating with stakeholders, guiding stakeholders toward conducting the research they need instead of what they want, to use this as an apprenticeship of sorts for undergrads, to break down the traditional idea that only phds know how to conduct research (historically applied grad programs give more direction on this than traditional programs that funnel people into a PhD!).\n",
      "\n",
      "Document 2\n",
      "Make sure the presenters provide actionable takeaways, not just theory - I need to be able to take what I learn back to my job and use it.\n",
      "Food is important - don't skimp on snacks\n",
      "Don't start at an ungodly early hour. \n",
      "Location, location, location - both the physical building and the destination. Sometimes it's hard to say I need to fly across the country or stay in a $500/night hotel!\n",
      "Make it an accessible price point, and not just for directors, etc - junior level people can get as much if not more, but it's occasionally harder to make the case. \n",
      "\n",
      "Document 3\n",
      "My goal is to provide constructive criticism, so apologies in advance for being blunt. I hope you can use it to succeed in your hypothetical plans. I've been bugged from end to end with the anchors you chose to use in your survey.\n",
      "I have no idea how you're going to understand the data you've collected, especially since I have no idea how i was supposed understand the question. What does neutral do in the middle? Why is something at best somewhat important, but can't be slightly important? I may be picky and perfectionist, but it bothers me a lot. So hypothetically, if you were to organise a conference on research, my advice would be to start by gaining credibility in the field. As someone who's never heard the name before, I don't know who you are, why you care and this survey doesn't seem to indicate you're an expert in the field, unfortunately - despite thanking people for proof-reading / pilot testing this survey... \n",
      "\n",
      "Document 4\n",
      "Then this is an interestingly “hypothetical” survey! \n",
      "\n",
      "I would try to tailor content not only based on quality/quant, but based on the experience level of those who are attending. People starting out in research think and need different skill sets than those running large teams and years into their practice!\n",
      "\n",
      "Also, please PLEASE emphasize depth over breadth. Researchers want to learn deeply about something specific and actionable, not just hand-wavy things that we can’t directly take and apply in their everyday context. I would prefer long, well-thought out and curated presentations that I can take and run with in my organization over soundbite-driven panels any day! \n",
      "\n",
      "Document 5\n",
      "-Diversity in speaking experience and seniority level*** (I love when conferences open up spots specifically for unknowns or new speakers who are doing really cool work)\n",
      "-Diversity in race (just Asians does not count as diversity)\n",
      "-Diversity in organization type (Not just IDEO, Stanford and Big Four researchers. Invite independent consultants, startup people, \"boring\" traditional companies you don't usually associate with innovation, nonprofit people, gov't people)\n",
      "\n",
      "-Informality. I'd prefer a quick talk followed by extended Q&A/workshop over 45 minute talk\n",
      "\n",
      "-Prioritize social topics (e.g., researching for gov't or humanitarian work), new topics (e.g., new tech requires new research strategies), under-discussed topics (e.g., ethics, workplace culture), war stories (case studies of failure) vs. big name speakers. I also find motivational talks are rarely that impressive. If I'm going to sit through a talk I want to learn actionable takeaways that I can immediately apply to my own work. Inspiration is great and a good speaker will inspire but I do want to learn something.\n",
      "\n",
      "-Not too many talks in one day. Create breathers for reflection and networking.\n",
      "\n",
      "-Structured networking (small table discussion, pre-conference Slack channel, speednetworking)\n",
      "\n",
      "-Dry social events (yes, there are non-drinkers in tech) and options other than water for non-drinkers during meals\n",
      "\n",
      "Top 5 Documents for Topic 3: \n",
      "\n",
      "Document 1\n",
      "Please focus beyond the large company/client teams and major research orgs that can shell out big bucks to attend.  There are SO MANY smart independent (or small firm) genius that get overlooked or can't afford to attend. Seriously... I have to think about spending $1500-3000 to attend any conference vs. paying for my kids soccer program & uniform.  No Joke!   And I actually make a decent living that I don't have to/want to look for a FT insight position at a client.\n",
      "\n",
      "Document 2\n",
      "I like conferences that have a clear point of view. I also think that the quality of a conference is not necessarily determined by how much it cost by how much the organizers consider the details of the conference.diversity is extremely important. If I see another stage or another organizing group of a bunch of white men I swear... Are they even trying? I frequently find that if an organizing group is a homogeneous group the stage mirrors that group and I'm not interested in hearing about a single perspective from a bunch of people who are very very similar. The value of conferences for me wise in all of the diversity of perspectives and inclusion of people.\n",
      "\n",
      "Document 3\n",
      "Focus on creating an event in which there are lots of buyers and lots of networking events.  The buyers are interested in new research techniques.  The sellers are interested in making connections with the buyers.  I would love to learn about new research techniques, but I can do that outside of a conference.  I need to focus on building a stable client base and conferences are an outstanding way to meet buyers.  I have been extremely disappointed with some recent research conferences, specifically the Market Research Event, in which there were no good networking opportunities.\n",
      "\n",
      "Document 4\n",
      "don't go too broad. I don't get much value from overly broad talks or keynotes. As practitioners we are often challenged by the fluffiness of our work so we need to show actionable results and a decently defensible foundation-to-validation process that is actually repeatable and consistently yields results.\n",
      "\n",
      "The next evolution of UXR has to be bigger than just \"advocacy\", and has to show our methods work (as opposed to any number of past frameworks that are just rebranded for modern times). Conference workshops need to reflect that, and a focus on case studies for talks need to show that UXR can actually improve our chances for success beyond blind luck.\n",
      "\n",
      "Document 5\n",
      "I've noticed there's a trend for Social Psychologists in an academic field, UX Designers wanting more of an impact into the research process, and even Product Managers being tasked with research (within a product context). Something that would attract all of audiences, not just those already with a UX Design background.\n",
      "\n",
      "I would actually appreciate vendors that gave demos of the tools. As a practitioner sometimes our view is either limited, or if we engage with a sales person we never hear the end of it. It's almost a low pressure way to get access to the same content.\n",
      "\n",
      "I recently attended a conference where there were no organized after conference activities and it was the worst. I was quite disappointed.\n",
      "\n",
      "I would prefer a shorter conference (2-3 days rather than a full week), and the option to mix and match sessions. Sometimes the full track suffers from weaker content and I can see my $ being wasted away. \n",
      "\n",
      "\n",
      "\n"
     ]
    }
   ],
   "source": [
    "nlp.find_top_documents_per_topic(LDA.transform(doc_term_matrix), likely.recommendations_text, 5)"
   ]
  },
  {
   "cell_type": "code",
   "execution_count": null,
   "metadata": {},
   "outputs": [],
   "source": []
  }
 ],
 "metadata": {
  "kernelspec": {
   "display_name": "Python 3",
   "language": "python",
   "name": "python3"
  },
  "language_info": {
   "codemirror_mode": {
    "name": "ipython",
    "version": 3
   },
   "file_extension": ".py",
   "mimetype": "text/x-python",
   "name": "python",
   "nbconvert_exporter": "python",
   "pygments_lexer": "ipython3",
   "version": "3.7.3"
  }
 },
 "nbformat": 4,
 "nbformat_minor": 2
}

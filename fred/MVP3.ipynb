{
 "cells": [
  {
   "cell_type": "code",
   "execution_count": 1,
   "metadata": {},
   "outputs": [],
   "source": [
    "import sys\n",
    "sys.path.append('../')\n",
    "import wrangle\n",
    "\n",
    "import nlp"
   ]
  },
  {
   "cell_type": "code",
   "execution_count": 2,
   "metadata": {},
   "outputs": [],
   "source": [
    "from sklearn.decomposition import LatentDirichletAllocation\n",
    "from sklearn.feature_extraction.text import CountVectorizer\n",
    "import pandas as pd\n",
    "import numpy as np"
   ]
  },
  {
   "cell_type": "code",
   "execution_count": 3,
   "metadata": {},
   "outputs": [],
   "source": [
    "pd.set_option('display.max_columns', None)\n",
    "\n",
    "df, data_dict = wrangle.wrangle_data()"
   ]
  },
  {
   "cell_type": "code",
   "execution_count": 4,
   "metadata": {},
   "outputs": [],
   "source": [
    "big_df = pd.read_csv('topics.csv', index_col=False)"
   ]
  },
  {
   "cell_type": "code",
   "execution_count": 5,
   "metadata": {},
   "outputs": [],
   "source": [
    "big_df.drop('Unnamed: 0', axis=1,inplace=True)"
   ]
  },
  {
   "cell_type": "code",
   "execution_count": 6,
   "metadata": {},
   "outputs": [],
   "source": [
    "very_exp = big_df[big_df.persona_id == 3]"
   ]
  },
  {
   "cell_type": "code",
   "execution_count": 9,
   "metadata": {},
   "outputs": [],
   "source": [
    "stop_words = ['like', 'plus', 'real', 'love', 'big', 'avoiding', 'mean', 'content', 'people', 'problem', \n",
    "              'doing', 'using','research', 'work', 'don', 'make', 'conference', 'yes', 've', 'ha']\n",
    "\n",
    "stopWords = nlp.set_stop_words(stop_words)"
   ]
  },
  {
   "cell_type": "markdown",
   "metadata": {},
   "source": [
    "# Very Experienced"
   ]
  },
  {
   "cell_type": "code",
   "execution_count": 11,
   "metadata": {},
   "outputs": [
    {
     "data": {
      "text/plain": [
       "0.2179409012717598"
      ]
     },
     "execution_count": 11,
     "metadata": {},
     "output_type": "execute_result"
    }
   ],
   "source": [
    "very_exp.big_answer.apply(nlp.find_polarity).mean()"
   ]
  },
  {
   "cell_type": "code",
   "execution_count": 13,
   "metadata": {},
   "outputs": [
    {
     "data": {
      "text/plain": [
       "0.42419095496681525"
      ]
     },
     "execution_count": 13,
     "metadata": {},
     "output_type": "execute_result"
    }
   ],
   "source": [
    "very_exp.big_answer.apply(nlp.find_subjectivity).mean()"
   ]
  },
  {
   "cell_type": "markdown",
   "metadata": {},
   "source": [
    "## Total Keywords"
   ]
  },
  {
   "cell_type": "code",
   "execution_count": 10,
   "metadata": {},
   "outputs": [
    {
     "data": {
      "text/plain": [
       "['researchnaat',\n",
       " 'point',\n",
       " 'career',\n",
       " 'prioritize',\n",
       " 'event',\n",
       " 'speaking',\n",
       " 'try',\n",
       " 'stay',\n",
       " 'present',\n",
       " 'engaged',\n",
       " 'duration',\n",
       " 'executive',\n",
       " 'coaching',\n",
       " 'thing',\n",
       " 'method',\n",
       " 'focused',\n",
       " 'growth',\n",
       " 'focus',\n",
       " 'creating',\n",
       " 'motivation']"
      ]
     },
     "execution_count": 10,
     "metadata": {},
     "output_type": "execute_result"
    }
   ],
   "source": [
    "nlp.show_column_keywords(very_exp.big_answer, max_df=.8, stop_words=stopWords, ngram_range=(1,3))"
   ]
  },
  {
   "cell_type": "markdown",
   "metadata": {},
   "source": [
    "## What topics would they be most attracted to at a conference about research?\n",
    "\n",
    "q21 ideal_topics"
   ]
  },
  {
   "cell_type": "code",
   "execution_count": 15,
   "metadata": {},
   "outputs": [],
   "source": [
    "stop_words = ['like', 'plus', 'real', 'love', 'big', 'avoiding', 'mean']\n",
    "stopWords = nlp.set_stop_words(stop_words)"
   ]
  },
  {
   "cell_type": "markdown",
   "metadata": {},
   "source": [
    "### keywords"
   ]
  },
  {
   "cell_type": "code",
   "execution_count": 16,
   "metadata": {},
   "outputs": [
    {
     "data": {
      "text/plain": [
       "['ai',\n",
       " 'user',\n",
       " 'story',\n",
       " 'case',\n",
       " 'study',\n",
       " 'statistic',\n",
       " 'case study',\n",
       " 'presentation',\n",
       " 'action',\n",
       " 'agile',\n",
       " 'strategy',\n",
       " 'research action',\n",
       " 'action research',\n",
       " 'research strategy',\n",
       " 'research action research',\n",
       " 'scaling',\n",
       " 'scaling research',\n",
       " 'org',\n",
       " 'culture',\n",
       " 'impact']"
      ]
     },
     "execution_count": 16,
     "metadata": {},
     "output_type": "execute_result"
    }
   ],
   "source": [
    "#keys\n",
    "nlp.show_column_keywords(very_exp.ideal_topics_text, max_df=.5, stop_words=stopWords)"
   ]
  },
  {
   "cell_type": "code",
   "execution_count": 45,
   "metadata": {},
   "outputs": [
    {
     "data": {
      "text/plain": [
       "['case study',\n",
       " 'new technology',\n",
       " 'inside organization',\n",
       " 'best practice',\n",
       " 'different industry',\n",
       " 'data science',\n",
       " 'latest tool',\n",
       " 'topic covered',\n",
       " 'method ethic',\n",
       " 'mixed method',\n",
       " 'qualitative quantitative',\n",
       " 'new tool',\n",
       " 'compelling way',\n",
       " 'management leadership',\n",
       " 'advanced method',\n",
       " 'want hear',\n",
       " 'market ux',\n",
       " 'future ux',\n",
       " 'tool process',\n",
       " 'new method']"
      ]
     },
     "execution_count": 45,
     "metadata": {},
     "output_type": "execute_result"
    }
   ],
   "source": [
    "#ngrams\n",
    "nlp.show_column_keywords(very_exp.ideal_topics_text, max_df=.5, stop_words=stopWords, ngram_range=(2,3))"
   ]
  },
  {
   "cell_type": "markdown",
   "metadata": {},
   "source": [
    "### topics"
   ]
  },
  {
   "cell_type": "code",
   "execution_count": 20,
   "metadata": {},
   "outputs": [
    {
     "data": {
      "text/plain": [
       "case_study                  99\n",
       "quant/qual/data             50\n",
       "ops/ai                      44\n",
       "new_method, mixed_method    41\n",
       "Name: ideal_topics_topic_id, dtype: int64"
      ]
     },
     "execution_count": 20,
     "metadata": {},
     "output_type": "execute_result"
    }
   ],
   "source": [
    "very_exp.ideal_topics_topic_id.value_counts()"
   ]
  },
  {
   "cell_type": "markdown",
   "metadata": {},
   "source": [
    "## Who would they expect to see at a conference about research?\n",
    "\n",
    "q22 Ideal Attendees"
   ]
  },
  {
   "cell_type": "code",
   "execution_count": 23,
   "metadata": {},
   "outputs": [],
   "source": [
    "stop_words = ['like', 'plus', 'real', 'love', 'big', 'avoiding', 'mean', 'content', 'people', 'problem', \n",
    "              'doing', 'using','research', 'work', ]\n",
    "stopWords = nlp.set_stop_words(stop_words)"
   ]
  },
  {
   "cell_type": "code",
   "execution_count": 24,
   "metadata": {},
   "outputs": [
    {
     "data": {
      "text/plain": [
       "['industry',\n",
       " 'thought',\n",
       " 'leader',\n",
       " 'thought leader',\n",
       " 'trained',\n",
       " 'instead',\n",
       " 'type',\n",
       " 'new',\n",
       " 'doing',\n",
       " 'amazing',\n",
       " 'work',\n",
       " 'doing amazing',\n",
       " 'indie',\n",
       " 'young',\n",
       " 'strategy',\n",
       " 'using',\n",
       " 'startup',\n",
       " 'talk',\n",
       " 'large',\n",
       " 'inspirational']"
      ]
     },
     "execution_count": 24,
     "metadata": {},
     "output_type": "execute_result"
    }
   ],
   "source": [
    "nlp.show_column_keywords(very_exp.ideal_attendees_text, max_df=.5, stop_words=stopWords)"
   ]
  },
  {
   "cell_type": "code",
   "execution_count": 46,
   "metadata": {},
   "outputs": [
    {
     "data": {
      "text/plain": [
       "['thought leader',\n",
       " 'doing amazing',\n",
       " 'specific individual',\n",
       " 'natalie hanson',\n",
       " 'steve portigal',\n",
       " 'leader organization',\n",
       " 'different industry',\n",
       " 'industry leader',\n",
       " 'consultant inhouse',\n",
       " 'jared spool',\n",
       " 'nielsen norman',\n",
       " 'tomer sharon',\n",
       " 'sam ladner',\n",
       " 'data scientist',\n",
       " 'erika hall',\n",
       " 'senior researcher',\n",
       " 'researcher different',\n",
       " 'long time',\n",
       " 'working government',\n",
       " 'google facebook']"
      ]
     },
     "execution_count": 46,
     "metadata": {},
     "output_type": "execute_result"
    }
   ],
   "source": [
    "nlp.show_column_keywords(very_exp.ideal_attendees_text, max_df=.5, stop_words=stopWords, ngram_range=(2,4))"
   ]
  },
  {
   "cell_type": "code",
   "execution_count": 25,
   "metadata": {},
   "outputs": [
    {
     "data": {
      "text/plain": [
       "industry, team, product    134\n",
       "experience, jared spool     37\n",
       "indi young                  32\n",
       "sam ladner, erika hall      31\n",
       "Name: ideal_attendees_topic_id, dtype: int64"
      ]
     },
     "execution_count": 25,
     "metadata": {},
     "output_type": "execute_result"
    }
   ],
   "source": [
    "very_exp.ideal_attendees_topic_id.value_counts()"
   ]
  },
  {
   "cell_type": "markdown",
   "metadata": {},
   "source": [
    "## What advice do they have for the Rosenfeld Media team in pursuing a conference?\n",
    "q23 recommendations"
   ]
  },
  {
   "cell_type": "code",
   "execution_count": 34,
   "metadata": {},
   "outputs": [],
   "source": [
    "stop_words = ['like', 'plus', 'real', 'love', 'big', 'avoiding', 'mean', 'content', 'people', 'problem', \n",
    "              'doing', 'using','research', 'work', 'don', 'make', 'conference']"
   ]
  },
  {
   "cell_type": "code",
   "execution_count": 47,
   "metadata": {},
   "outputs": [
    {
     "data": {
      "text/plain": [
       "['don',\n",
       " 'make',\n",
       " 'work',\n",
       " 'fun',\n",
       " 'don make',\n",
       " 'come',\n",
       " 'really',\n",
       " 'workshop',\n",
       " 'think',\n",
       " 'opportunity',\n",
       " 'apply',\n",
       " 'presented',\n",
       " 'creative',\n",
       " 'way',\n",
       " 'build',\n",
       " 'activity',\n",
       " 'day',\n",
       " 'went',\n",
       " 'innovation',\n",
       " 'learning']"
      ]
     },
     "execution_count": 47,
     "metadata": {},
     "output_type": "execute_result"
    }
   ],
   "source": [
    "nlp.show_column_keywords(very_exp.recommendations_text, max_df=.9, stop_words=stopWords, ngram_range=(1,7))"
   ]
  },
  {
   "cell_type": "code",
   "execution_count": 44,
   "metadata": {},
   "outputs": [
    {
     "data": {
      "text/plain": [
       "['don make',\n",
       " 'year ago',\n",
       " 'make fun',\n",
       " 'attending conference',\n",
       " 'attend conference',\n",
       " 'conference wa',\n",
       " 'biggest challenge',\n",
       " 'conference offer',\n",
       " 'point view',\n",
       " 'conference attend',\n",
       " 'new speaker',\n",
       " 'senior practitioner',\n",
       " 'diverse speaker',\n",
       " 'broad range',\n",
       " 'think need',\n",
       " 'conference really',\n",
       " 'don just',\n",
       " 'make conference',\n",
       " 'conference feel',\n",
       " 'experienced practitioner']"
      ]
     },
     "execution_count": 44,
     "metadata": {},
     "output_type": "execute_result"
    }
   ],
   "source": [
    "nlp.show_column_keywords(very_exp.recommendations_text, max_df=.9, stop_words=stopWords, ngram_range=(2,7))"
   ]
  },
  {
   "cell_type": "code",
   "execution_count": 33,
   "metadata": {},
   "outputs": [
    {
     "data": {
      "text/plain": [
       "speaker, industry      114\n",
       "group, career, city     43\n",
       "good, know              32\n",
       "field, survery          24\n",
       "event, opportunity      21\n",
       "Name: recommendations_topic_id, dtype: int64"
      ]
     },
     "execution_count": 33,
     "metadata": {},
     "output_type": "execute_result"
    }
   ],
   "source": [
    "very_exp.recommendations_topic_id.value_counts()"
   ]
  },
  {
   "cell_type": "markdown",
   "metadata": {},
   "source": [
    "## Top Documents per Topic"
   ]
  },
  {
   "cell_type": "code",
   "execution_count": 40,
   "metadata": {},
   "outputs": [
    {
     "data": {
      "text/plain": [
       "LatentDirichletAllocation(batch_size=128, doc_topic_prior=None,\n",
       "                          evaluate_every=-1, learning_decay=0.7,\n",
       "                          learning_method='batch', learning_offset=10.0,\n",
       "                          max_doc_update_iter=100, max_iter=10,\n",
       "                          mean_change_tol=0.001, n_components=4, n_jobs=None,\n",
       "                          perp_tol=0.1, random_state=42, topic_word_prior=None,\n",
       "                          total_samples=1000000.0, verbose=0)"
      ]
     },
     "execution_count": 40,
     "metadata": {},
     "output_type": "execute_result"
    }
   ],
   "source": [
    "doc_term_matrix, count_vect = nlp.create_wordcount_matrix(very_exp.recommendations_text, max_df=.3, ngram=(1,3), stop_words=stopWords)\n",
    "\n",
    "LDA = LatentDirichletAllocation(n_components=4, random_state=42)\n",
    "\n",
    "LDA.fit(doc_term_matrix)"
   ]
  },
  {
   "cell_type": "code",
   "execution_count": null,
   "metadata": {},
   "outputs": [],
   "source": [
    "recommendations_dict = {0 : 'speaker, industry', \n",
    "                        1 : 'event, opportunity', \n",
    "                        2 : 'good, know', \n",
    "                        3 : 'field, survery', \n",
    "                        4 : 'group, career, city'}"
   ]
  },
  {
   "cell_type": "code",
   "execution_count": 42,
   "metadata": {},
   "outputs": [
    {
     "name": "stdout",
     "output_type": "stream",
     "text": [
      "Top 5 Documents for Topic 0: \n",
      "\n",
      "Document 1\n",
      "For planned conference programs (as opposed to peer-reviewed academic programs like at CHI), I'd try to focus on experienced researchers talking about real types of work they've done. Try to avoid regulars on the design conference circuit who seem to give the same canned talk everywhere.\n",
      "\n",
      "Document 2\n",
      "Don’t focus on the evening stuff - it excludes a lot of people who can’t or don’t want to do the social stuff. \n",
      "I like to learn new stuff - innovative or new methods always interesting. Ask for expressions of interest, I see the same people presenting the same thing at lots of conferences. Let other people have a chance! \n",
      "\n",
      "Document 3\n",
      "\"hypothetically\" ;)\n",
      "\n",
      "Given your author base, I can easily see Rosenfeld putting together an amazing lineup for a conference.  Your far greater challenge -- as you know, hence this survey -- is carving out your niche. I wish I had better advice about that.\n",
      "\n",
      "I feel that the \"techniques\" side is covered across a range of conferences. I feel like there are less conferences that really focus on the strategic (and possibly ops) side of research. Likewise there might be opportunities around more directly exploring the alchemic process of turning research into action.\n",
      "\n",
      "Document 4\n",
      "Don't make it too expensive, make it open in content so both novices/ students and field leaders/ experts can attend. Have a variety of topics covered, and record all sessions so that people who want to attend multiple sessions at the same time can later go back and watch the sessions they weren't abl to attend. \n",
      "\n",
      "Document 5\n",
      "Then this is an interestingly “hypothetical” survey! \n",
      "\n",
      "I would try to tailor content not only based on quality/quant, but based on the experience level of those who are attending. People starting out in research think and need different skill sets than those running large teams and years into their practice!\n",
      "\n",
      "Also, please PLEASE emphasize depth over breadth. Researchers want to learn deeply about something specific and actionable, not just hand-wavy things that we can’t directly take and apply in their everyday context. I would prefer long, well-thought out and curated presentations that I can take and run with in my organization over soundbite-driven panels any day! \n",
      "\n",
      "Top 5 Documents for Topic 1: \n",
      "\n",
      "Document 1\n",
      "Y’all know how to do conferences, so all I’ll say is give me a one pager that lists what I will learn so I can get my organization to pay for it. Oh, and introducing a little drama to make it memorable, like a challenging / provocative keynote or theme. Sometimes I feel like research discussions can get too tactical. Let’s inspire each other! \n",
      "\n",
      "Also, I’d be glad to help out however I could with the planning / promoting. :)\n",
      "\n",
      "Document 2\n",
      "I think more events for experienced practitioners would be nice. I’m not sure how’d you’d do that at a conference, but, in general, it’s nice to have space for people who are trying to advance research at their organization. A lot of events seem geared toward getting research off the ground or breaking into the business, which I also love, but sometimes it’s nice to have a conversation that goes beyond the basics. \n",
      "\n",
      "Document 3\n",
      "Host a Ted style conference with single track: shorter talks on very specific topic each, exploring research internally (DesignOps), externally (product) and triangulating various findings from different types of research.  I would also like to see workshops specializing in topics like improving your interviewing skills. Or tips for translating insights into product decisions. But that is more for beginners and to attract the right kind of clientele. Professionally, my biggest challenge is selling research within my org. I would love to see specific practical ways to do that with recalcitrant leadership that does not think that they need to do research before they build something.\n",
      "\n",
      "Document 4\n",
      "don't go too broad. I don't get much value from overly broad talks or keynotes. As practitioners we are often challenged by the fluffiness of our work so we need to show actionable results and a decently defensible foundation-to-validation process that is actually repeatable and consistently yields results.\n",
      "\n",
      "The next evolution of UXR has to be bigger than just \"advocacy\", and has to show our methods work (as opposed to any number of past frameworks that are just rebranded for modern times). Conference workshops need to reflect that, and a focus on case studies for talks need to show that UXR can actually improve our chances for success beyond blind luck.\n",
      "\n",
      "Document 5\n",
      "-Diversity in speaking experience and seniority level*** (I love when conferences open up spots specifically for unknowns or new speakers who are doing really cool work)\n",
      "-Diversity in race (just Asians does not count as diversity)\n",
      "-Diversity in organization type (Not just IDEO, Stanford and Big Four researchers. Invite independent consultants, startup people, \"boring\" traditional companies you don't usually associate with innovation, nonprofit people, gov't people)\n",
      "\n",
      "-Informality. I'd prefer a quick talk followed by extended Q&A/workshop over 45 minute talk\n",
      "\n",
      "-Prioritize social topics (e.g., researching for gov't or humanitarian work), new topics (e.g., new tech requires new research strategies), under-discussed topics (e.g., ethics, workplace culture), war stories (case studies of failure) vs. big name speakers. I also find motivational talks are rarely that impressive. If I'm going to sit through a talk I want to learn actionable takeaways that I can immediately apply to my own work. Inspiration is great and a good speaker will inspire but I do want to learn something.\n",
      "\n",
      "-Not too many talks in one day. Create breathers for reflection and networking.\n",
      "\n",
      "-Structured networking (small table discussion, pre-conference Slack channel, speednetworking)\n",
      "\n",
      "-Dry social events (yes, there are non-drinkers in tech) and options other than water for non-drinkers during meals\n",
      "\n",
      "Top 5 Documents for Topic 2: \n",
      "\n",
      "Document 1\n",
      "Be opinionated. I'd love to attend something that is not focused for folks starting out or methods. Content that is about the challenges of doing research from an experienced perspective. \n",
      "\n",
      "I'd love to see a panel about being critical about our work in a professional way. Bigger questions and issues. \n",
      "\n",
      "Document 2\n",
      "Steer clear of anyone who was presenting \"our way is the best way/only way\" to do research.  Provide access to people who understand the ups and downs of research, including \"i wasn't sure if i was asking the right questions\" type researchers.  I'd love to hear from people who know the pitfalls and doubts about it, and how they get through that.   Maybe even a few analogous scientific researchers who are looking at, say, worms and wondering, \"Am I testing the right thing?\" and how they approach that research to deal with doubt.\n",
      "\n",
      "Document 3\n",
      "Your questions are in the right direction - gotta have material that is compelling. \n",
      "\n",
      "There are plenty of \"famous\" researchers or people working to make a name for themselves, but they are frankly not always that interesting to hear from - I can read their book or blog - and often as \"experts\" they get geeked out on stuff that bores me quickly. \n",
      "\n",
      "I'd rather hear from real people in real companies working on real problems and innovating or struggling or thinking hard about their areas of growth, opportunity and learning for themselves and their companies.\n",
      "\n",
      "Document 4\n",
      "For the love of god, do not ask non-researchers to present actual research. It's so terribly disheartening to see poor-quality research presented from a stage. Have professionals do it. If you get researchers who know what they're doing, they may need coaching for how to present dramatically and with interest. I'd rather see someone who has contributed to the knowledge of the world who needs a little help with jazz hands than some 28-year-old who doesn't know what a p-value is pretend they've just invented \"technology studies.\"\n",
      "\n",
      "Document 5\n",
      "Ha ha ha. I wonder how this would be similar to or different from EPIC? I like the idea of a small, intimate conference that focuses on interactive sessions and workshops rather than papers (there is a place for that too, but I feel there are enough of those). I'd love a space where I can take my own challenges on my team and in terms of my experience and work on those so I have a game plan when I get back to my office--i.e. maybe some coaching in how to define challenges and possible approaches, with some solid materials on tech trends in digital products. \n",
      "\n",
      "I also see a space for retraining academics for this field--I get asked about this a lot and have written about it on my website (http://www.rachelfleming.net/faqs) and will be writing more, as this is a critical need right now. I want to get involved more in helping academics find new employment options. \n",
      "\n",
      "I'm not sure where you're based but having the conference be within the US would probably help with getting my company to pay for it. Advertising well in advance is also helpful because I have to decide about the conference I'm attending several months before. As for venue, I prefer retreat settings to a hotel or conference center, to set the tone of it being a transformational experience. \n",
      "\n",
      "Top 5 Documents for Topic 3: \n",
      "\n",
      "Document 1\n",
      "This goes in the face of all of my previous answers because I don't really like workshops, but I think opportunities to apply what's being presented are really impactful. If there are creative ways to build activities into the day, that would be fun. I went to the Innovation Learning Network in-person event a few years ago and they organized surprise field trips to local organizations who were doing innovation work; that was a cool non-workshop way to bring the conference topics to life. \n",
      "\n",
      "Document 2\n",
      "I tend to gravitate towards conferences that offer a mix of engagement (talks, workshops, etc).\n",
      "\n",
      "I attended the Qualtrics experience summit a couple of years ago and I would describe it as unexpected. There were plenty of talks to attend, but the keynote speakers really caught my attention (Lin Manuel Miranda, Tony Hawk, Alex Honnold, etc). These folks aren't \"industry leaders\", but they were able to talk about subjects that were analogous to the topic of experience. People are at the very core of what I do. While I do like to hear talks from leaders in the research industry, I also want to be inspired by others who are not—people who have great stories of human connection that have nothing to do with \"research\", while still being inspiring to researchers. Anthony Bourdain comes to mind.\n",
      "\n",
      "Document 3\n",
      "Consider that the audience may be in different maturity levels of the research practice at least for some sessions so you may have different tracks based on that to cover a wider range of people.\n",
      "\n",
      "At a certain level of maturity, co-working sessions can be more enlighting than workshops so it may be interesting to build some knowledge from the conference. Especially because product design research is a discipline that we are currently nailing and adapting to our needs and there are lots of topics that we should build together as a community. It is tricky in logistic terms but very catchy as well.\n",
      "\n",
      "To have different ways to assist to the conference so you can afford a broader audience (i.e: people that cannot attend due to the length of the event or its total price when it means travelling abroad to expensive cities such as SF or NYC).\n",
      "\n",
      "Document 4\n",
      "Have a lot of them rather than one, small, exclusive one. Go do it where the interested attendees are.\n",
      "Offer day-long or multiday workshops for the people who need to learn methods.\n",
      "Look into whether you could offer continuing education credits for people who need that.\n",
      "Ask attendees during registration to chip in to the scholarship funds for people who can't pay to go. Get some sponsorship for that.\n",
      "No plastic water bottles and as few as possible disposables\n",
      "No junk swag, no RM-logo t-shirts\n",
      "Recycle lanyards and badgeholders\n",
      "No photos without permission\n",
      "People can put what they want on their badges, but focus on first names\n",
      "Get someone to make a more usable Attendify and use that\n",
      "Start a Mattermost for attendees to talk and network in across all your conferences\n",
      "Publish videos of all the talks for free so you can help people not have to travel and so you can multiply the educational effectiveness over time and distance\n",
      "Breakfast worth waking up for\n",
      "Easy ways to hang out with each other in the evenings, such as dinner party lotteries, BOFs, geeky fun\n",
      "Sessions that start no earlier than 10 and quit no later than 6\n",
      "Long lunch break if people have to find it outside and do it during rush-lunch\n",
      "Coffee worth drinking\n",
      "An observational outing to a fascinating nearby place\n",
      "Gee, I better quit here before I end up on a committee or something\n",
      "\n",
      "Document 5\n",
      "I don't know what the ideal ratio is for most people  of talks to not-talks. My growing preference is \"anything but talks\". Sitting quietly to see people talk for 8 hours seems like an inefficient way to learn or spend your time, and doesn't suit my learning style.\n",
      "A mix of workshops, hands-on learning, lightning talks by new speakers with new perspectives to share, off-site activities / site visits, \"networking by doing stuff\"... that would be my sweet spot. Throw in a keynote or two maybe. \n",
      "I feel I am not alone in this view, especially when i talk to more senior practitioners. They are often not in the talk but outside, chatting. \n",
      "\n",
      "Other advice: I'm biased and maybe trying to sell my own agenda a bit here, but feel that there is a growing distaste for long-haul air travel. You're seeing that in Europe in the \"never fly\" movement. \n",
      "If you did multiple regional events (a bit like how An Event Apart does it), instead of a big International 1-time event, that could help environmentally-conscious folk make the decision more easily. \n",
      "Also, having a posted zero-waste approach (no vendor tchotckes!), carbon offset policy, etc can help ppl alleviate the guilt.  \n",
      "\n",
      "Remote events: I know Rosenfeld has done all-remote events in the past (I don't know how they went, I haven't seen any new ones posted). I'm curious about the potential of remote workshop events over just remote \"webinar\" talky events. I've been to a couple of remote design/participation events (facilitated by Jim Kalbach's MURAL), and I think they are on to something. \n",
      "\n"
     ]
    }
   ],
   "source": [
    "nlp.find_top_documents_per_topic(LDA.transform(doc_term_matrix), very_exp.recommendations_text, 5)"
   ]
  },
  {
   "cell_type": "code",
   "execution_count": null,
   "metadata": {},
   "outputs": [],
   "source": []
  }
 ],
 "metadata": {
  "kernelspec": {
   "display_name": "Python 3",
   "language": "python",
   "name": "python3"
  },
  "language_info": {
   "codemirror_mode": {
    "name": "ipython",
    "version": 3
   },
   "file_extension": ".py",
   "mimetype": "text/x-python",
   "name": "python",
   "nbconvert_exporter": "python",
   "pygments_lexer": "ipython3",
   "version": "3.7.3"
  }
 },
 "nbformat": 4,
 "nbformat_minor": 2
}

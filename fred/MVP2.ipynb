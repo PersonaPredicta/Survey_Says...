{
 "cells": [
  {
   "cell_type": "code",
   "execution_count": 1,
   "metadata": {},
   "outputs": [],
   "source": [
    "import sys\n",
    "sys.path.append('../')\n",
    "import wrangle\n",
    "\n",
    "import nlp"
   ]
  },
  {
   "cell_type": "code",
   "execution_count": 2,
   "metadata": {},
   "outputs": [],
   "source": [
    "from sklearn.decomposition import LatentDirichletAllocation\n",
    "from sklearn.feature_extraction.text import CountVectorizer\n",
    "import pandas as pd\n",
    "import numpy as np"
   ]
  },
  {
   "cell_type": "code",
   "execution_count": 3,
   "metadata": {},
   "outputs": [],
   "source": [
    "pd.set_option('display.max_columns', None)\n",
    "\n",
    "df, data_dict = wrangle.wrangle_data()"
   ]
  },
  {
   "cell_type": "code",
   "execution_count": 4,
   "metadata": {},
   "outputs": [],
   "source": [
    "big_df = pd.read_csv('topics.csv', index_col=False)"
   ]
  },
  {
   "cell_type": "code",
   "execution_count": 5,
   "metadata": {},
   "outputs": [],
   "source": [
    "big_df.drop('Unnamed: 0', axis=1,inplace=True)"
   ]
  },
  {
   "cell_type": "code",
   "execution_count": 6,
   "metadata": {},
   "outputs": [],
   "source": [
    "specs = big_df[big_df.persona_id == 2]"
   ]
  },
  {
   "cell_type": "code",
   "execution_count": 7,
   "metadata": {},
   "outputs": [
    {
     "data": {
      "text/plain": [
       "(123, 31)"
      ]
     },
     "execution_count": 7,
     "metadata": {},
     "output_type": "execute_result"
    }
   ],
   "source": [
    "specs.shape"
   ]
  },
  {
   "cell_type": "markdown",
   "metadata": {},
   "source": [
    "# Specialists"
   ]
  },
  {
   "cell_type": "markdown",
   "metadata": {},
   "source": [
    "## Sentiment"
   ]
  },
  {
   "cell_type": "code",
   "execution_count": 23,
   "metadata": {},
   "outputs": [
    {
     "data": {
      "text/plain": [
       "0.22268643436292426"
      ]
     },
     "execution_count": 23,
     "metadata": {},
     "output_type": "execute_result"
    }
   ],
   "source": [
    "specs.big_answer.apply(nlp.find_polarity).mean()"
   ]
  },
  {
   "cell_type": "code",
   "execution_count": 24,
   "metadata": {},
   "outputs": [
    {
     "data": {
      "text/plain": [
       "0.4324475374544341"
      ]
     },
     "execution_count": 24,
     "metadata": {},
     "output_type": "execute_result"
    }
   ],
   "source": [
    "specs.big_answer.apply(nlp.find_subjectivity).mean()"
   ]
  },
  {
   "cell_type": "markdown",
   "metadata": {},
   "source": [
    "## Total Keywords"
   ]
  },
  {
   "cell_type": "code",
   "execution_count": 26,
   "metadata": {},
   "outputs": [
    {
     "data": {
      "text/plain": [
       "['sort',\n",
       " 'psychology',\n",
       " 'professional',\n",
       " 'depending',\n",
       " 'connection',\n",
       " 'method',\n",
       " 'statistic',\n",
       " 'training',\n",
       " 'undergraduate',\n",
       " 'graduate',\n",
       " 'cost',\n",
       " 'timing',\n",
       " 'away',\n",
       " 'time',\n",
       " 'workshop',\n",
       " 'small',\n",
       " 'intimate',\n",
       " 'international',\n",
       " 'attend',\n",
       " 'chooses']"
      ]
     },
     "execution_count": 26,
     "metadata": {},
     "output_type": "execute_result"
    }
   ],
   "source": [
    "nlp.show_column_keywords(specs.big_answer, max_df=.8, stop_words=stopWords, ngram_range=(1,3))"
   ]
  },
  {
   "cell_type": "markdown",
   "metadata": {},
   "source": [
    "## What topics would they be most attracted to at a conference about research?\n",
    "\n",
    "q21 ideal_topics"
   ]
  },
  {
   "cell_type": "code",
   "execution_count": 22,
   "metadata": {},
   "outputs": [],
   "source": [
    "stop_words = ['like', 'plus', 'real', 'love', 'big', 'avoiding', 'mean', 'content', 'people', 'problem', \n",
    "              'doing', 'using','research', 'work', 'don', 'make', 'conference', 'yes', 've', 'ha']\n",
    "\n",
    "stopWords = nlp.set_stop_words(stop_words)"
   ]
  },
  {
   "cell_type": "markdown",
   "metadata": {},
   "source": [
    "### keywords"
   ]
  },
  {
   "cell_type": "code",
   "execution_count": 10,
   "metadata": {},
   "outputs": [
    {
     "data": {
      "text/plain": [
       "['design',\n",
       " 'innovative',\n",
       " 'method',\n",
       " 'nonresearchers',\n",
       " 'cycle',\n",
       " 'analysis',\n",
       " 'session',\n",
       " 'new',\n",
       " 'methodology',\n",
       " 'case',\n",
       " 'study',\n",
       " 'new methodology',\n",
       " 'case study',\n",
       " 'participant',\n",
       " 'recruitment',\n",
       " 'strategy',\n",
       " 'data',\n",
       " 'sharing',\n",
       " 'practice',\n",
       " 'managing']"
      ]
     },
     "execution_count": 10,
     "metadata": {},
     "output_type": "execute_result"
    }
   ],
   "source": [
    "#words\n",
    "nlp.show_column_keywords(specs.ideal_topics_text, max_df=.5, stop_words=stopWords, ngram_range=(1,3))"
   ]
  },
  {
   "cell_type": "code",
   "execution_count": 11,
   "metadata": {},
   "outputs": [
    {
     "data": {
      "text/plain": [
       "['new methodology',\n",
       " 'case study',\n",
       " 'qualitative data',\n",
       " 'analysis method',\n",
       " 'special consideration',\n",
       " 'application method',\n",
       " 'lesson learned',\n",
       " 'new method',\n",
       " 'qual quant',\n",
       " 'service design',\n",
       " 'new technique',\n",
       " 'business case']"
      ]
     },
     "execution_count": 11,
     "metadata": {},
     "output_type": "execute_result"
    }
   ],
   "source": [
    "#bi-grams\n",
    "nlp.show_column_keywords(specs.ideal_topics_text, max_df=.5, stop_words=stopWords, ngram_range=(2,3))"
   ]
  },
  {
   "cell_type": "markdown",
   "metadata": {},
   "source": [
    "### topics"
   ]
  },
  {
   "cell_type": "code",
   "execution_count": 12,
   "metadata": {},
   "outputs": [
    {
     "data": {
      "text/plain": [
       "case_study                  58\n",
       "quant/qual/data             23\n",
       "new_method, mixed_method    22\n",
       "ops/ai                      20\n",
       "Name: ideal_topics_topic_id, dtype: int64"
      ]
     },
     "execution_count": 12,
     "metadata": {},
     "output_type": "execute_result"
    }
   ],
   "source": [
    "specs.ideal_topics_topic_id.value_counts()"
   ]
  },
  {
   "cell_type": "markdown",
   "metadata": {},
   "source": [
    "## Who would they expect to see at a conference about research?\n",
    "\n",
    "q22 Ideal Attendees"
   ]
  },
  {
   "cell_type": "code",
   "execution_count": 11,
   "metadata": {},
   "outputs": [],
   "source": [
    "stop_words = ['like', 'plus', 'real', 'love', 'big', 'avoiding', 'mean', 'content', 'people', 'problem', \n",
    "              'doing', 'using','research', 'work', 'don', 'make', 'conference']"
   ]
  },
  {
   "cell_type": "code",
   "execution_count": 12,
   "metadata": {},
   "outputs": [],
   "source": [
    "stopWords = nlp.set_stop_words(stop_words)"
   ]
  },
  {
   "cell_type": "code",
   "execution_count": 13,
   "metadata": {},
   "outputs": [
    {
     "data": {
      "text/plain": [
       "['mix',\n",
       " 'academic',\n",
       " 'professional',\n",
       " 'company',\n",
       " 'researcher',\n",
       " 'public',\n",
       " 'policy',\n",
       " 'leading',\n",
       " 'known',\n",
       " 'skill',\n",
       " 'sam',\n",
       " 'ladner',\n",
       " 'sam ladner',\n",
       " 'walk',\n",
       " 'just',\n",
       " 'world',\n",
       " 'world just',\n",
       " 'industry',\n",
       " 'google',\n",
       " 'apple']"
      ]
     },
     "execution_count": 13,
     "metadata": {},
     "output_type": "execute_result"
    }
   ],
   "source": [
    "#terms\n",
    "nlp.show_column_keywords(specs.ideal_attendees_text, max_df=.5, stop_words=stopWords)"
   ]
  },
  {
   "cell_type": "code",
   "execution_count": 14,
   "metadata": {},
   "outputs": [
    {
     "data": {
      "text/plain": [
       "['sam ladner',\n",
       " 'world just',\n",
       " 'different field',\n",
       " 'steve portigal',\n",
       " 'working different',\n",
       " 'want hear',\n",
       " 'indi young',\n",
       " 'dana chisnell',\n",
       " 'jared spool',\n",
       " 'tech company',\n",
       " 'case study',\n",
       " 'different background',\n",
       " 'erika hall',\n",
       " 'thought leader',\n",
       " 'jan chipchase']"
      ]
     },
     "execution_count": 14,
     "metadata": {},
     "output_type": "execute_result"
    }
   ],
   "source": [
    "#bigrams\n",
    "nlp.show_column_keywords(specs.ideal_attendees_text, max_df=.5, stop_words=stopWords, ngram_range=(2,3))"
   ]
  },
  {
   "cell_type": "code",
   "execution_count": 16,
   "metadata": {},
   "outputs": [
    {
     "data": {
      "text/plain": [
       "industry, team, product    54\n",
       "experience, jared spool    16\n",
       "sam ladner, erika hall     15\n",
       "indi young                  9\n",
       "Name: ideal_attendees_topic_id, dtype: int64"
      ]
     },
     "execution_count": 16,
     "metadata": {},
     "output_type": "execute_result"
    }
   ],
   "source": [
    "specs.ideal_attendees_topic_id.value_counts()"
   ]
  },
  {
   "cell_type": "markdown",
   "metadata": {},
   "source": [
    "## What advice do they have for the Rosenfeld Media team in pursuing a conference?\n",
    "q23 recommendations"
   ]
  },
  {
   "cell_type": "code",
   "execution_count": 15,
   "metadata": {},
   "outputs": [
    {
     "data": {
      "text/plain": [
       "['dont',\n",
       " 'create',\n",
       " 'schedule',\n",
       " 'event',\n",
       " 'draw',\n",
       " 'crowd',\n",
       " 'looking',\n",
       " 'feel',\n",
       " 'biggest',\n",
       " 'area',\n",
       " 'unconference',\n",
       " 'series',\n",
       " 'unconferences',\n",
       " 'workshop',\n",
       " 'similar',\n",
       " 'thing',\n",
       " 've',\n",
       " 'really',\n",
       " 'cool',\n",
       " 'design']"
      ]
     },
     "execution_count": 15,
     "metadata": {},
     "output_type": "execute_result"
    }
   ],
   "source": [
    "#words\n",
    "nlp.show_column_keywords(specs.recommendations_text, max_df=.9, stop_words=stopWords, ngram_range=(1,7))"
   ]
  },
  {
   "cell_type": "code",
   "execution_count": 16,
   "metadata": {},
   "outputs": [
    {
     "data": {
      "text/plain": [
       "['north america',\n",
       " 'america europe',\n",
       " 'north america europe',\n",
       " 'seriously think',\n",
       " 'ux researcher',\n",
       " 'advice talk',\n",
       " 'networking event',\n",
       " 'speed dating',\n",
       " 'code conduct']"
      ]
     },
     "execution_count": 16,
     "metadata": {},
     "output_type": "execute_result"
    }
   ],
   "source": [
    "#ngrams\n",
    "nlp.show_column_keywords(specs.recommendations_text, max_df=.9, stop_words=stopWords, ngram_range=(2,7))"
   ]
  },
  {
   "cell_type": "code",
   "execution_count": 17,
   "metadata": {},
   "outputs": [
    {
     "data": {
      "text/plain": [
       "speaker, industry      69\n",
       "event, opportunity     16\n",
       "group, career, city    15\n",
       "good, know             14\n",
       "field, survery          9\n",
       "Name: recommendations_topic_id, dtype: int64"
      ]
     },
     "execution_count": 17,
     "metadata": {},
     "output_type": "execute_result"
    }
   ],
   "source": [
    "specs.recommendations_topic_id.value_counts()"
   ]
  },
  {
   "cell_type": "markdown",
   "metadata": {},
   "source": [
    "## Top Documents per Topic"
   ]
  },
  {
   "cell_type": "code",
   "execution_count": 18,
   "metadata": {},
   "outputs": [
    {
     "data": {
      "text/plain": [
       "LatentDirichletAllocation(batch_size=128, doc_topic_prior=None,\n",
       "                          evaluate_every=-1, learning_decay=0.7,\n",
       "                          learning_method='batch', learning_offset=10.0,\n",
       "                          max_doc_update_iter=100, max_iter=10,\n",
       "                          mean_change_tol=0.001, n_components=4, n_jobs=None,\n",
       "                          perp_tol=0.1, random_state=42, topic_word_prior=None,\n",
       "                          total_samples=1000000.0, verbose=0)"
      ]
     },
     "execution_count": 18,
     "metadata": {},
     "output_type": "execute_result"
    }
   ],
   "source": [
    "doc_term_matrix, count_vect = nlp.create_wordcount_matrix(specs.recommendations_text, max_df=.3, ngram=(1,3), stop_words=stopWords)\n",
    "\n",
    "LDA = LatentDirichletAllocation(n_components=4, random_state=42)\n",
    "\n",
    "LDA.fit(doc_term_matrix)"
   ]
  },
  {
   "cell_type": "code",
   "execution_count": 19,
   "metadata": {},
   "outputs": [],
   "source": [
    "recommendations_dict = {0 : 'speaker, industry', \n",
    "                        1 : 'event, opportunity', \n",
    "                        2 : 'good, know', \n",
    "                        3 : 'field, survery', \n",
    "                        4 : 'group, career, city'}"
   ]
  },
  {
   "cell_type": "code",
   "execution_count": 20,
   "metadata": {},
   "outputs": [
    {
     "name": "stdout",
     "output_type": "stream",
     "text": [
      "Top 5 Documents for Topic 0: \n",
      "\n",
      "Document 1\n",
      "I love the idea of a 2 day conference. The first day being full day workshop with a micro focus. And day 2 full of talks in a traditional conference setting.\n",
      "\n",
      "Document 2\n",
      "I'd look for diversity in speakers and a code of conduct. I know it's not something I look for when shopping, but it is still important. \n",
      "\n",
      "Document 3\n",
      "Always-available coffee is a MUST! Listening to even the most entertaining talks can get tiring when back to back. \n",
      "\n",
      "I hope you do put on an amazing conference, given all of the great feedback I'm sure you're getting. I also hope I can afford to come ;) Happy planning! \n",
      "\n",
      "Document 4\n",
      "As above. Don't just give the usual motley Crew another platform to perform. Go and find new things and people to excite the industry. I've been to events recently where there were people there from sexy brands like Tesla who had really nothing to say. If only we could clone Steve P!\n",
      "\n",
      "Document 5\n",
      "I don't know anything about Rosenfeld Media, but---\n",
      "\n",
      "I would say look into hybrids--pull in academics + industry + public sector...pull in people who aren't just doing flashy \"innovation\" and \"revolutionary\" stuff, pull in people on the ground doing research and who are experts at this. I've been to a lot of talks where they pull someone in to talk about research at a well known company (e.g., Airbnb or Uber or etc...) to draw a crowd, and while they have beautiful slides, the content is often subpar or all NDA-ed up that they can't really talk about anything. Get researchers out there in the field talking to people and making mistakes that they can share and others can learn from. \n",
      "\n",
      "\n",
      "\n",
      "Top 5 Documents for Topic 1: \n",
      "\n",
      "Document 1\n",
      "Diversity on all levels, including levels of experience. A code of conduct. Considerations for childcare and rooms for pumping/infant care clearly stated on the event site. A range of options and prices for lodging. If food is served, consideration for all kinds of diets and allergies. Giveaways that are sustainable and usable. I like sxsw and other conferences which allow people to vote on topics or specific talks to help guide the schedule.\n",
      "\n",
      "Document 2\n",
      "My best experiences with social events at conferences were smaller group settings rather than large parties/networking events. It would be nice to maybe do hangouts around certain topics with smaller groups. Once at a conference I was forced to do speed dating style networking as part of being a speaker - don't make people do that! It was awful!\n",
      "\n",
      "Document 3\n",
      "Use only industry professionals who actively conduct research. Speak about cutting-edge methods or new applications of traditional methods. Topics such as negotiating with stakeholders, guiding stakeholders toward conducting the research they need instead of what they want, to use this as an apprenticeship of sorts for undergrads, to break down the traditional idea that only phds know how to conduct research (historically applied grad programs give more direction on this than traditional programs that funnel people into a PhD!).\n",
      "\n",
      "Document 4\n",
      "Please make sure the workshops include diverse people from all backgrounds, don't make prerequisite to attending it very high, and don't let them be just 101s and they shouldn't feel rushed. In the workshops I attended the facilitators compressed their week long methods to fit into a 3 hour format rather and in the end we didn't feel like we learnt anything because it was so rushed. \n",
      "\n",
      "Make sure that people are able to deeply engage in it. \n",
      "\n",
      "Document 5\n",
      "Don't be afraid to mimic conferences that are doing things right.\n",
      "For instance, An Event Apart limits their attendees to a manageable size and highly curates their speakers.\n",
      "Front Utah did a great job with the welcoming committee and allowing for longer breaks between sessions (4 30-minute talks, and then a 30 minute break). They also did a great job of getting folks out into the surrounding city where they host (every swag bag had a $20 bill and a map of local restaurants w/in walking distance -- attendees were encouraged to group up and go find lunch).\n",
      "Lots of conferences use Slack for pre-conference introductions, a channel for each speaker, they handle Q&A through the Slack channels (which allows attendees to \"vote\" for their questions if they've already been asked)... it's an interesting use of a communication platform like that.\n",
      "\n",
      "Top 5 Documents for Topic 2: \n",
      "\n",
      "Document 1\n",
      "Go for it! (also, ignore my preferences on event size - small retreats won't pay the bills, even if they are the best value and experience for experienced attendees)\n",
      "\n",
      "Document 2\n",
      "Put together a draft conference agenda, go out to the community and research what options people desire the most, use the insights to inform a single track conference which you can take around the world to multiple locations so its accessible on a global scale. Keep it small and intimate, make it feel like a community event. Repeat each year. \n",
      "\n",
      "Document 3\n",
      "(Not about research, but about the user experience of attending conferences/workshops)\n",
      "Have coffee/water available at all times - paid is ok, availability is a must!\n",
      "Have a place for people to set down/store v their stuff. It's hard to meet and greet when you're balancing your coat, bag, a cup of coffee, your notebook and your business cards.\n",
      "\n",
      "Document 4\n",
      "I actually feel like the biggest contribution to this area might be an unconference, or series of unconferences, where workshops and presentations can get blended together. There's another similar thing I've seen where there is this really cool symposium that they have in the design thinking research community where they have a conference where all the attendees use a single set of research data to conduct a variety of studies. I thought that was a righteous idea. \n",
      "\n",
      "Document 5\n",
      "Good luck :)\n",
      "\n",
      "No seriously, think about who your target group is, and how to advertise. If it was too generic, I would not feel it's urgent/interesting enough to give up another conference for it (because that's probably what it would boil down to).\n",
      "\n",
      "Maybe co-locate with existing large conferences? In my area that would be CHI (Computer-Human Interaction), you could add a day on. That would increase my chances of going, because I would not get funding to travel to a conference if I can't present a paper there, and if it isn't high impact.\n",
      "\n",
      "You could consider going digital? But I've never attended such an event, don't know whether it would be as compelling.\n",
      "\n",
      "Top 5 Documents for Topic 3: \n",
      "\n",
      "Document 1\n",
      "This is too general and not specific enough. I don't want to attend a conference for researchers about research. I want to attend a conference about research challenges where we see the progression. Q/A is simply not enough unless it is an educational talk.  Honestly, I find that research is too separated from the reality of the people, the designers, and the front line teams dealing with it.\n",
      "\n",
      "Document 2\n",
      "The biggest challenges I’ve encountered in research are: getting buy-in on open ended inquiry (true generative research), proving the necessity of taking time for robust analysis, and designing outputs that adequately convey research findings without just gathering dust in a drawer. Would love to see how in-house research teams build research findings libraries while still maintaining a robust qualitative research cycle (not just a collection of usability studies). \n",
      "\n",
      "Document 3\n",
      "Follow a service design & delivery process. Always be discovering, prototyping, testing & iterating. Don’t be limited by geography. Don’t just think of a stack of people in a room. Give attendees pre work and homework. Give people options to pair in new ways. Bring real challenges for people to help with. Research takes time so give people time to apply the knowledge and bring back learnings to the group\n",
      "\n",
      "Document 4\n",
      "please do it!1!!!11!!!1!\n",
      "also advice - talks that are vague/high level are scientifically engineered to make me upset. I am pretty engaged in the research/design community (conferences, panels, workshops, in a bunch of  Slack communities, way too plugged in to Design Twitter) so when I go to conferences, I really want to be able to take deep dives and continue in-depth conversations that I've been having on-line, at the conference. \n",
      "I think RM does this exceptionally well, and if you created a research specific conference I would give you all my money.\n",
      "\n",
      "Document 5\n",
      "- When multi tracking: make the choices really distinct.\n",
      "Although it's often a preferred method, because you have a smaller chance of having to sit through something uninteresting, it can also give choice overload / decision paralysis.\n",
      "\n",
      "- Be really adamant about the speakers quality of speaking. This might sound obvious, but clearly it's not when you look at most conferences. And for such talks, delivery is everything. Otherwise I'll just read their article. I want to understand (literally) their words, be captivated. It's a skill anyone can learn but those who didn't, shouldn't be speaking before 300 people en taking their 20 minutes away.\n",
      "\n"
     ]
    }
   ],
   "source": [
    "nlp.find_top_documents_per_topic(LDA.transform(doc_term_matrix), specs.recommendations_text, 5)"
   ]
  },
  {
   "cell_type": "code",
   "execution_count": null,
   "metadata": {},
   "outputs": [],
   "source": []
  }
 ],
 "metadata": {
  "kernelspec": {
   "display_name": "Python 3",
   "language": "python",
   "name": "python3"
  },
  "language_info": {
   "codemirror_mode": {
    "name": "ipython",
    "version": 3
   },
   "file_extension": ".py",
   "mimetype": "text/x-python",
   "name": "python",
   "nbconvert_exporter": "python",
   "pygments_lexer": "ipython3",
   "version": "3.7.3"
  }
 },
 "nbformat": 4,
 "nbformat_minor": 2
}

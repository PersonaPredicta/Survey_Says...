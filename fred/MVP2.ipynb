{
 "cells": [
  {
   "cell_type": "code",
   "execution_count": 1,
   "metadata": {},
   "outputs": [],
   "source": [
    "import sys\n",
    "sys.path.append('../')\n",
    "import wrangle\n",
    "\n",
    "import nlp"
   ]
  },
  {
   "cell_type": "code",
   "execution_count": 2,
   "metadata": {},
   "outputs": [],
   "source": [
    "from sklearn.decomposition import LatentDirichletAllocation\n",
    "from sklearn.feature_extraction.text import CountVectorizer\n",
    "import pandas as pd\n",
    "import numpy as np"
   ]
  },
  {
   "cell_type": "code",
   "execution_count": 3,
   "metadata": {},
   "outputs": [],
   "source": [
    "pd.set_option('display.max_columns', None)\n",
    "\n",
    "df, data_dict = wrangle.wrangle_data()"
   ]
  },
  {
   "cell_type": "code",
   "execution_count": 4,
   "metadata": {},
   "outputs": [],
   "source": [
    "big_df = pd.read_csv('topics.csv', index_col=False)"
   ]
  },
  {
   "cell_type": "code",
   "execution_count": 5,
   "metadata": {},
   "outputs": [],
   "source": [
    "big_df.drop('Unnamed: 0', axis=1,inplace=True)"
   ]
  },
  {
   "cell_type": "code",
   "execution_count": 6,
   "metadata": {},
   "outputs": [],
   "source": [
    "specs = big_df[big_df.persona_id == 2]"
   ]
  },
  {
   "cell_type": "code",
   "execution_count": 7,
   "metadata": {},
   "outputs": [
    {
     "data": {
      "text/plain": [
       "(123, 31)"
      ]
     },
     "execution_count": 7,
     "metadata": {},
     "output_type": "execute_result"
    }
   ],
   "source": [
    "specs.shape"
   ]
  },
  {
   "cell_type": "markdown",
   "metadata": {},
   "source": [
    "# Moderately Experienced\n",
    "## What topics would they be most attracted to at a conference about research?\n",
    "\n",
    "q21 ideal_topics\n"
   ]
  },
  {
   "cell_type": "code",
   "execution_count": 8,
   "metadata": {},
   "outputs": [],
   "source": [
    "stop_words = ['like', 'plus', 'real', 'love', 'big', 'avoiding', 'mean', 'content', 'people', 'problem', \n",
    "              'doing', 'using','research', 'work', 'don', 'make', 'conference', 'good', 'best', 'self', 'report']"
   ]
  },
  {
   "cell_type": "code",
   "execution_count": 9,
   "metadata": {},
   "outputs": [],
   "source": [
    "stopWords = nlp.set_stop_words(stop_words)"
   ]
  },
  {
   "cell_type": "markdown",
   "metadata": {},
   "source": [
    "### keywords"
   ]
  },
  {
   "cell_type": "code",
   "execution_count": 10,
   "metadata": {},
   "outputs": [
    {
     "data": {
      "text/plain": [
       "['design',\n",
       " 'innovative',\n",
       " 'method',\n",
       " 'nonresearchers',\n",
       " 'cycle',\n",
       " 'analysis',\n",
       " 'session',\n",
       " 'new',\n",
       " 'methodology',\n",
       " 'case',\n",
       " 'study',\n",
       " 'new methodology',\n",
       " 'case study',\n",
       " 'participant',\n",
       " 'recruitment',\n",
       " 'strategy',\n",
       " 'data',\n",
       " 'sharing',\n",
       " 'practice',\n",
       " 'managing']"
      ]
     },
     "execution_count": 10,
     "metadata": {},
     "output_type": "execute_result"
    }
   ],
   "source": [
    "#words\n",
    "nlp.show_column_keywords(specs.ideal_topics_text, max_df=.5, stop_words=stopWords, ngram_range=(1,3))"
   ]
  },
  {
   "cell_type": "code",
   "execution_count": 11,
   "metadata": {},
   "outputs": [
    {
     "data": {
      "text/plain": [
       "['new methodology',\n",
       " 'case study',\n",
       " 'qualitative data',\n",
       " 'analysis method',\n",
       " 'special consideration',\n",
       " 'application method',\n",
       " 'lesson learned',\n",
       " 'new method',\n",
       " 'qual quant',\n",
       " 'service design',\n",
       " 'new technique',\n",
       " 'business case']"
      ]
     },
     "execution_count": 11,
     "metadata": {},
     "output_type": "execute_result"
    }
   ],
   "source": [
    "#bi-grams\n",
    "nlp.show_column_keywords(specs.ideal_topics_text, max_df=.5, stop_words=stopWords, ngram_range=(2,3))"
   ]
  },
  {
   "cell_type": "markdown",
   "metadata": {},
   "source": [
    "### topics"
   ]
  },
  {
   "cell_type": "code",
   "execution_count": 13,
   "metadata": {},
   "outputs": [
    {
     "data": {
      "text/plain": [
       "case_study                  43\n",
       "quant/qual/data             18\n",
       "ops/ai                      17\n",
       "new_method, mixed_method    16\n",
       "Name: ideal_topics_topic_id, dtype: int64"
      ]
     },
     "execution_count": 13,
     "metadata": {},
     "output_type": "execute_result"
    }
   ],
   "source": [
    "specs.ideal_topics_topic_id.value_counts()"
   ]
  },
  {
   "cell_type": "markdown",
   "metadata": {},
   "source": [
    "## Who would they expect to see at a conference about research?\n",
    "\n",
    "q22 Ideal Attendees"
   ]
  },
  {
   "cell_type": "code",
   "execution_count": 11,
   "metadata": {},
   "outputs": [],
   "source": [
    "stop_words = ['like', 'plus', 'real', 'love', 'big', 'avoiding', 'mean', 'content', 'people', 'problem', \n",
    "              'doing', 'using','research', 'work', 'don', 'make', 'conference']"
   ]
  },
  {
   "cell_type": "code",
   "execution_count": 12,
   "metadata": {},
   "outputs": [],
   "source": [
    "stopWords = nlp.set_stop_words(stop_words)"
   ]
  },
  {
   "cell_type": "code",
   "execution_count": 14,
   "metadata": {},
   "outputs": [
    {
     "data": {
      "text/plain": [
       "['kate',\n",
       " 'towsey',\n",
       " 'indi',\n",
       " 'young',\n",
       " 'erika',\n",
       " 'hall',\n",
       " 'kate towsey',\n",
       " 'indi young',\n",
       " 'erika hall',\n",
       " 'field',\n",
       " 'experienced',\n",
       " 'community',\n",
       " 'group',\n",
       " 'government',\n",
       " 'diversity',\n",
       " 'really',\n",
       " 'innovation',\n",
       " 'researcher',\n",
       " 'steve',\n",
       " 'portigal']"
      ]
     },
     "execution_count": 14,
     "metadata": {},
     "output_type": "execute_result"
    }
   ],
   "source": [
    "#terms\n",
    "nlp.show_column_keywords(specs.ideal_attendees_text, max_df=.5, stop_words=stopWords)"
   ]
  },
  {
   "cell_type": "code",
   "execution_count": 15,
   "metadata": {},
   "outputs": [
    {
     "data": {
      "text/plain": [
       "['kate towsey',\n",
       " 'indi young',\n",
       " 'erika hall',\n",
       " 'steve portigal',\n",
       " 'sam ladner',\n",
       " 'google microsoft',\n",
       " 'industry leader',\n",
       " 'senior researcher',\n",
       " 'tech company',\n",
       " 'company small',\n",
       " 'academic market',\n",
       " 'market researcher',\n",
       " 'academic market researcher',\n",
       " 'different perspective']"
      ]
     },
     "execution_count": 15,
     "metadata": {},
     "output_type": "execute_result"
    }
   ],
   "source": [
    "#bigrams\n",
    "nlp.show_column_keywords(specs.ideal_attendees_text, max_df=.5, stop_words=stopWords, ngram_range=(2,3))"
   ]
  },
  {
   "cell_type": "code",
   "execution_count": 16,
   "metadata": {},
   "outputs": [
    {
     "data": {
      "text/plain": [
       "industry, team, product    54\n",
       "experience, jared spool    16\n",
       "sam ladner, erika hall     15\n",
       "indi young                  9\n",
       "Name: ideal_attendees_topic_id, dtype: int64"
      ]
     },
     "execution_count": 16,
     "metadata": {},
     "output_type": "execute_result"
    }
   ],
   "source": [
    "specs.ideal_attendees_topic_id.value_counts()"
   ]
  },
  {
   "cell_type": "markdown",
   "metadata": {},
   "source": [
    "## What advice do they have for the Rosenfeld Media team in pursuing a conference?\n",
    "q23 recommendations"
   ]
  },
  {
   "cell_type": "code",
   "execution_count": 17,
   "metadata": {},
   "outputs": [
    {
     "data": {
      "text/plain": [
       "['host',\n",
       " 'event',\n",
       " 'comfortable',\n",
       " 'fall',\n",
       " 'attending',\n",
       " 'bring',\n",
       " 'everyday',\n",
       " 'collective',\n",
       " 'demand',\n",
       " 'learn',\n",
       " 've',\n",
       " 'job',\n",
       " 'community',\n",
       " 'attendee',\n",
       " 'experience',\n",
       " 'speaker',\n",
       " 'marginalized',\n",
       " 'group',\n",
       " 'previously',\n",
       " 'focus']"
      ]
     },
     "execution_count": 17,
     "metadata": {},
     "output_type": "execute_result"
    }
   ],
   "source": [
    "#words\n",
    "nlp.show_column_keywords(specs.recommendations_text, max_df=.9, stop_words=stopWords, ngram_range=(1,7))"
   ]
  },
  {
   "cell_type": "code",
   "execution_count": 18,
   "metadata": {},
   "outputs": [
    {
     "data": {
      "text/plain": [
       "['attendee experience', 'level experience']"
      ]
     },
     "execution_count": 18,
     "metadata": {},
     "output_type": "execute_result"
    }
   ],
   "source": [
    "#ngrams\n",
    "nlp.show_column_keywords(specs.recommendations_text, max_df=.9, stop_words=stopWords, ngram_range=(2,7))"
   ]
  },
  {
   "cell_type": "code",
   "execution_count": 19,
   "metadata": {},
   "outputs": [
    {
     "data": {
      "text/plain": [
       "speaker, industry      52\n",
       "event, opportunity     19\n",
       "field, survery          9\n",
       "good, know              8\n",
       "group, career, city     6\n",
       "Name: recommendations_topic_id, dtype: int64"
      ]
     },
     "execution_count": 19,
     "metadata": {},
     "output_type": "execute_result"
    }
   ],
   "source": [
    "specs.recommendations_topic_id.value_counts()"
   ]
  },
  {
   "cell_type": "markdown",
   "metadata": {},
   "source": [
    "## Top Documents per Topic"
   ]
  },
  {
   "cell_type": "code",
   "execution_count": 20,
   "metadata": {},
   "outputs": [
    {
     "data": {
      "text/plain": [
       "LatentDirichletAllocation(batch_size=128, doc_topic_prior=None,\n",
       "                          evaluate_every=-1, learning_decay=0.7,\n",
       "                          learning_method='batch', learning_offset=10.0,\n",
       "                          max_doc_update_iter=100, max_iter=10,\n",
       "                          mean_change_tol=0.001, n_components=4, n_jobs=None,\n",
       "                          perp_tol=0.1, random_state=42, topic_word_prior=None,\n",
       "                          total_samples=1000000.0, verbose=0)"
      ]
     },
     "execution_count": 20,
     "metadata": {},
     "output_type": "execute_result"
    }
   ],
   "source": [
    "doc_term_matrix, count_vect = nlp.create_wordcount_matrix(specs.recommendations_text, max_df=.3, ngram=(1,3), stop_words=stopWords)\n",
    "\n",
    "LDA = LatentDirichletAllocation(n_components=4, random_state=42)\n",
    "\n",
    "LDA.fit(doc_term_matrix)"
   ]
  },
  {
   "cell_type": "code",
   "execution_count": null,
   "metadata": {},
   "outputs": [],
   "source": [
    "recommendations_dict = {0 : 'speaker, industry', \n",
    "                        1 : 'event, opportunity', \n",
    "                        2 : 'good, know', \n",
    "                        3 : 'field, survery', \n",
    "                        4 : 'group, career, city'}"
   ]
  },
  {
   "cell_type": "code",
   "execution_count": 21,
   "metadata": {},
   "outputs": [
    {
     "name": "stdout",
     "output_type": "stream",
     "text": [
      "Top 5 Documents for Topic 0: \n",
      "\n",
      "Document 1\n",
      "Don’t put similar sessions at the same time\n",
      "\n",
      "Document 2\n",
      "Conferences are really hard and most people lose money for the first several years. But can be a nice revenue stream once you get them going. I do think your name is strong enough to get you up the profitability curve more quickly than normal. // Also, and this may be controversial, I'd love to see a conference that weeds out complete newbies and consists only of attendees who are serious practitioners. No idea how to make that work, though.\n",
      "\n",
      "\n",
      "\n",
      "\n",
      "\n",
      "Document 3\n",
      "I guess ask yourselves if the world needs another conference, and if so, how you can include marginalized people that wouldn't normally be able to attend. Not everyone in this industry makes a ton of money or has an employer willing to throw down a couple thousand bucks to send them to these things. And not only that, but how to make those people feel welcome.\n",
      "\n",
      "Document 4\n",
      "It would be great to have a forum or database of previously asked questions and answers that attendees can refer back to.  There is a barrage of info coming at us and it's a great way to reference back or find other questions that you might not have thought of at the time that someone else might have asked.  Would be nice to be able to add questions post-event as well.\n",
      "\n",
      "Document 5\n",
      "First, please do it. It is needed. UXR Collective's success demonstrates that there is significant untapped demand.\n",
      "2) Speaking of which, reach out to the UXR Collective and learn from them. They've done a fantastic job of fostering community while scaling dramatically, and--while I can't speak to the attendee experience in isolation--my experience as a speaker was wonderful.\n",
      "3) Please stress accessibility by paying speakers and offering heavily discounted tix for members of marginalized groups and discounted tix for freelancers.\n",
      "4) As mentioned previously, please focus (or provide a topic track) for advanced topics. I'm getting tired of attending networking conferences with superficial sessions. (That's more true of the emerging tech conferences I attend than the UXR conferences I've attended, but still.)\n",
      "I'm sure I could come up with some more, but I've spent a lot of time on this and have to get to a meeting. Also, I suspect I'm an outlier. But I'd be happy to help if you have additional questions--contact info below.\n",
      "\n",
      "Top 5 Documents for Topic 1: \n",
      "\n",
      "Document 1\n",
      "It shouldnt be boring.\n",
      "Engaging and hands on so theres some take away.\n",
      "I should learn some new process or get clarity at the end of the day\n",
      "\n",
      "Document 2\n",
      "Talk about something new, black CVs, tips for the everyday work. \n",
      "\n",
      "Avoid talking about how good research is. We allready know that\n",
      "\n",
      "Document 3\n",
      "Consider an EU location (for those of us whose training budget precludes us from travelling to US and further afield for training) \n",
      "Make sure you provide a good attendee experience \n",
      "\n",
      "Document 4\n",
      "provide tools and resources and support for networking and make it make sense to other business stakeholders to attend if they want.\n",
      "\n",
      "Document 5\n",
      "affordable in cost and location (e.g. not Boston or a place with exorbitant hotels), well timed so that it doesn't overlap with other major conferences, maybe some type of ongoing community email list or group connected to it (though probably not a new Slack channel since Mixed Methods and ResearchOps already exist)\n",
      "\n",
      "Top 5 Documents for Topic 2: \n",
      "\n",
      "Document 1\n",
      "You started pretty well just by doing research. I will just suggest going to some conferences, live the experience, talk to people and focus on details and experiences. Talks are just a small part of these kind of events. Good luck! \n",
      "\n",
      "Document 2\n",
      "Please don't make it too expensive, think of researchers outside the United States, think of how to make some conference talks videos available to people who can't make it to the conference.\n",
      "\n",
      "Consider having smaller conferences spread geographically rather than one big, expensive conference concentrated in one location on the one date.\n",
      "\n",
      "Consider having hands-on workshops for attendees, as well as networking events of some sort.\n",
      "\n",
      "Document 3\n",
      "I would be interested in attending. Again, choosing the right research method and just understanding how to describe research methods to stakeholders can be challenging. It would be great to see some pros in action whether they're discussing case studies or introducing methods to the audience. I'm also curious how you accommodate amateur researchers vs. experience researchers. Could you have multiple tracks depending on experience or what your audience is hoping to learn?\n",
      "\n",
      "Document 4\n",
      "Have a wide variety of topics, for people of various levels of experience (some topics are interesting to me but not applicable since I'm a junior researcher. For example, I would love to hear how someone leads a global research team, but that advice isn't immediately relevant to me since I'm far from being a supervisor.  Instead, I'd be interested to hear from someone who has been in research for 1-2 years, and built a research practice from the ground up. I would want to know how they did that since I'm trying to do that)\n",
      "\n",
      "Document 5\n",
      "Make it inclusive and accessible.  Find ways to make everyone comfortable.  Establish a code of conduct and don't sway from it- make it safe.  Light snacks and/or refreshments are nice- freely available water if it's long.  \n",
      "\n",
      "Find some compelling big-time speakers but stack them as keynote/plenary, so they don't crowd out the more niche players.  Market the smaller names with specific interesting information.  \n",
      "\n",
      "One of the best conferences I went to offered some really helpful take-away such as a free professional head shot!  \n",
      "\n",
      "Oh and have plenty of clean, accessible bathroom facilities at various spots!  \n",
      "\n",
      "Top 5 Documents for Topic 3: \n",
      "\n",
      "Document 1\n",
      "Don't make it $2000 to attend like IxDA :)\n",
      "\n",
      "Keep it short. 1 full day or 2 really solid days can be more than enough.\n",
      "\n",
      "Document 2\n",
      "Make it fun\n",
      "Do whatever is necessary to stop it being dominated by a hipster culture (it needs to be multicultural) \n",
      "Remove seniority/hierarchy\n",
      "Provide a safe place for wacky ideas\n",
      "\n",
      "Document 3\n",
      "Host the event somewhere where the weather is comfortable, and in the spring or fall. \n",
      "\n",
      "Also: why not in Tokyo? ;)\n",
      "\n",
      "Document 4\n",
      "Position yourselves around the other major research conferences (either in form or theme)\n",
      "\n",
      "Document 5\n",
      "1) Bring some real use case currently in the ideation phase like ideation community\n",
      "2) Virtual communities of speaker and audience \n",
      "3) Live or recorded session \n",
      "\n",
      "\n"
     ]
    }
   ],
   "source": [
    "nlp.find_top_documents_per_topic(LDA.transform(doc_term_matrix), specs.recommendations_text, 5)"
   ]
  },
  {
   "cell_type": "code",
   "execution_count": null,
   "metadata": {},
   "outputs": [],
   "source": []
  }
 ],
 "metadata": {
  "kernelspec": {
   "display_name": "Python 3",
   "language": "python",
   "name": "python3"
  },
  "language_info": {
   "codemirror_mode": {
    "name": "ipython",
    "version": 3
   },
   "file_extension": ".py",
   "mimetype": "text/x-python",
   "name": "python",
   "nbconvert_exporter": "python",
   "pygments_lexer": "ipython3",
   "version": "3.7.3"
  }
 },
 "nbformat": 4,
 "nbformat_minor": 2
}

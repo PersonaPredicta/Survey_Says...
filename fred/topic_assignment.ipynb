{
 "cells": [
  {
   "cell_type": "code",
   "execution_count": 1,
   "metadata": {},
   "outputs": [],
   "source": [
    "import sys\n",
    "sys.path.append('../')\n",
    "import wrangle\n",
    "import nlp"
   ]
  },
  {
   "cell_type": "code",
   "execution_count": 2,
   "metadata": {},
   "outputs": [],
   "source": [
    "from sklearn.decomposition import LatentDirichletAllocation\n",
    "from sklearn.feature_extraction.text import CountVectorizer\n",
    "import pandas as pd\n",
    "import numpy as np"
   ]
  },
  {
   "cell_type": "code",
   "execution_count": 3,
   "metadata": {},
   "outputs": [],
   "source": [
    "stop_words = ['like', 'plus', 'real', 'love', 'big', 'avoiding', 'mean', 'content', 'people', 'problem', \n",
    "              'doing', 'using','research', 'work', 'don', 'make', 'conference', 'yes', 've', 'ha']\n",
    "\n",
    "stopWords = nlp.set_stop_words(stop_words)"
   ]
  },
  {
   "cell_type": "code",
   "execution_count": 4,
   "metadata": {},
   "outputs": [],
   "source": [
    "big_df = pd.read_csv('topics.csv', index_col=False)\n",
    "\n",
    "big_df.drop('Unnamed: 0', axis=1,inplace=True)"
   ]
  },
  {
   "cell_type": "code",
   "execution_count": 5,
   "metadata": {},
   "outputs": [],
   "source": [
    "input_column = big_df.big_answer"
   ]
  },
  {
   "cell_type": "code",
   "execution_count": 12,
   "metadata": {},
   "outputs": [],
   "source": [
    "input_column = input_column.dropna().apply(nlp.basic_clean)\n",
    "input_column = input_column.apply(nlp.lemmatize)\n",
    "count_vect = CountVectorizer(max_df=.3, min_df=2, stop_words=stopWords, ngram_range=(1,3))\n",
    "count_vect.fit_transform(input_column)\n",
    "blob = list(count_vect.vocabulary_.keys())"
   ]
  },
  {
   "cell_type": "code",
   "execution_count": 19,
   "metadata": {},
   "outputs": [],
   "source": [
    "#texts=[\"dog cat fish\",\"dog cat cat\",\"fish bird\",\"bird\"]    \n",
    "\n",
    "cv = CountVectorizer(max_df=.3, min_df=2, stop_words=stopWords, ngram_range=(1,3))   \n",
    "cv_fit=cv.fit_transform(input_column)    \n",
    "word_list = cv.get_feature_names()    \n",
    "count_list = cv_fit.toarray().sum(axis=0) "
   ]
  },
  {
   "cell_type": "code",
   "execution_count": null,
   "metadata": {},
   "outputs": [],
   "source": [
    "def find_word_counts(input_column, max_df=.3, min_df=2, ngram_range=(1,3), stop_words='english'):\n",
    "    input_column = input_column.dropna().apply(basic_clean)\n",
    "    input_column = input_column.apply(lemmatize)\n",
    "    cv = CountVectorizer(max_df=.3, min_df=2, stop_words=stopWords, ngram_range=(1,3))   \n",
    "    cv_fit=cv.fit_transform(input_column)    \n",
    "    word_list = cv.get_feature_names()    \n",
    "    count_list = cv_fit.toarray().sum(axis=0)\n",
    "    word_counts = {'word_list': word_list, 'count_list': count_list}\n",
    "    df_word_count = pd.DataFrame(data=word_counts)\n",
    "    return df_word_count"
   ]
  },
  {
   "cell_type": "code",
   "execution_count": 24,
   "metadata": {},
   "outputs": [],
   "source": [
    "word_counts = {'word_list': word_list, 'count_list': count_list}"
   ]
  },
  {
   "cell_type": "code",
   "execution_count": 25,
   "metadata": {},
   "outputs": [],
   "source": [
    "df_test = pd.DataFrame(data=word_counts)"
   ]
  },
  {
   "cell_type": "code",
   "execution_count": 26,
   "metadata": {},
   "outputs": [
    {
     "data": {
      "text/html": [
       "<div>\n",
       "<style scoped>\n",
       "    .dataframe tbody tr th:only-of-type {\n",
       "        vertical-align: middle;\n",
       "    }\n",
       "\n",
       "    .dataframe tbody tr th {\n",
       "        vertical-align: top;\n",
       "    }\n",
       "\n",
       "    .dataframe thead th {\n",
       "        text-align: right;\n",
       "    }\n",
       "</style>\n",
       "<table border=\"1\" class=\"dataframe\">\n",
       "  <thead>\n",
       "    <tr style=\"text-align: right;\">\n",
       "      <th></th>\n",
       "      <th>word_list</th>\n",
       "      <th>count_list</th>\n",
       "    </tr>\n",
       "  </thead>\n",
       "  <tbody>\n",
       "    <tr>\n",
       "      <th>0</th>\n",
       "      <td>10</td>\n",
       "      <td>11</td>\n",
       "    </tr>\n",
       "    <tr>\n",
       "      <th>1</th>\n",
       "      <td>10 year</td>\n",
       "      <td>3</td>\n",
       "    </tr>\n",
       "    <tr>\n",
       "      <th>2</th>\n",
       "      <td>100</td>\n",
       "      <td>6</td>\n",
       "    </tr>\n",
       "    <tr>\n",
       "      <th>3</th>\n",
       "      <td>1000</td>\n",
       "      <td>3</td>\n",
       "    </tr>\n",
       "    <tr>\n",
       "      <th>4</th>\n",
       "      <td>101</td>\n",
       "      <td>3</td>\n",
       "    </tr>\n",
       "    <tr>\n",
       "      <th>...</th>\n",
       "      <td>...</td>\n",
       "      <td>...</td>\n",
       "    </tr>\n",
       "    <tr>\n",
       "      <th>6552</th>\n",
       "      <td>younger</td>\n",
       "      <td>2</td>\n",
       "    </tr>\n",
       "    <tr>\n",
       "      <th>6553</th>\n",
       "      <td>youtube</td>\n",
       "      <td>3</td>\n",
       "    </tr>\n",
       "    <tr>\n",
       "      <th>6554</th>\n",
       "      <td>yr</td>\n",
       "      <td>10</td>\n",
       "    </tr>\n",
       "    <tr>\n",
       "      <th>6555</th>\n",
       "      <td>zealand</td>\n",
       "      <td>4</td>\n",
       "    </tr>\n",
       "    <tr>\n",
       "      <th>6556</th>\n",
       "      <td>zoom</td>\n",
       "      <td>3</td>\n",
       "    </tr>\n",
       "  </tbody>\n",
       "</table>\n",
       "<p>6557 rows × 2 columns</p>\n",
       "</div>"
      ],
      "text/plain": [
       "     word_list  count_list\n",
       "0           10          11\n",
       "1      10 year           3\n",
       "2          100           6\n",
       "3         1000           3\n",
       "4          101           3\n",
       "...        ...         ...\n",
       "6552   younger           2\n",
       "6553   youtube           3\n",
       "6554        yr          10\n",
       "6555   zealand           4\n",
       "6556      zoom           3\n",
       "\n",
       "[6557 rows x 2 columns]"
      ]
     },
     "execution_count": 26,
     "metadata": {},
     "output_type": "execute_result"
    }
   ],
   "source": [
    "df_test"
   ]
  },
  {
   "cell_type": "code",
   "execution_count": 80,
   "metadata": {},
   "outputs": [],
   "source": [
    "stop_words = ['nan', 'Nan', 'NaN', 'NAN']\n",
    "stopWords = nlp.set_stop_words(stop_words)"
   ]
  },
  {
   "cell_type": "code",
   "execution_count": 75,
   "metadata": {},
   "outputs": [],
   "source": [
    "df, data_dict = wrangle.wrangle_data()"
   ]
  },
  {
   "cell_type": "code",
   "execution_count": 17,
   "metadata": {},
   "outputs": [],
   "source": [
    "df_qual = df.select_dtypes(include='object')"
   ]
  },
  {
   "cell_type": "code",
   "execution_count": 18,
   "metadata": {},
   "outputs": [
    {
     "name": "stdout",
     "output_type": "stream",
     "text": [
      "<class 'pandas.core.frame.DataFrame'>\n",
      "Int64Index: 726 entries, 284 to 2\n",
      "Data columns (total 13 columns):\n",
      "types_res_used            690 non-null object\n",
      "future_res                609 non-null object\n",
      "research_educ             726 non-null object\n",
      "research_educ_desc        540 non-null object\n",
      "how_pick_events           644 non-null object\n",
      "best_event                594 non-null object\n",
      "events_attend_recent      558 non-null object\n",
      "ideal_conference_size     726 non-null object\n",
      "ideal_structure           726 non-null object\n",
      "other_conference_types    258 non-null object\n",
      "ideal_topics              560 non-null object\n",
      "ideal_attendees           471 non-null object\n",
      "recommendations           494 non-null object\n",
      "dtypes: object(13)\n",
      "memory usage: 79.4+ KB\n"
     ]
    }
   ],
   "source": [
    "df_qual.info()"
   ]
  },
  {
   "cell_type": "markdown",
   "metadata": {},
   "source": [
    "# 5 primary_industry             726 non-null category"
   ]
  },
  {
   "cell_type": "code",
   "execution_count": 69,
   "metadata": {},
   "outputs": [],
   "source": [
    "def pair_topic_with_text(text_column, topic_column, prob_column, name):\n",
    "    text_column = text_column.reset_index()\n",
    "    test_df = pd.DataFrame()\n",
    "    test_df[name + '-text'] = text_column[text_column.columns[1]]\n",
    "    test_df[name + '-topic_id'] = topic_column\n",
    "    test_df[name + '-probability'] = prob_column\n",
    "    return test_df"
   ]
  },
  {
   "cell_type": "code",
   "execution_count": 70,
   "metadata": {},
   "outputs": [],
   "source": [
    "blob = pair_topic_with_text(primary_industry, primary_industry_topics, primary_industry_prob, 'primary_industry')"
   ]
  },
  {
   "cell_type": "code",
   "execution_count": 71,
   "metadata": {},
   "outputs": [
    {
     "data": {
      "text/html": [
       "<div>\n",
       "<style scoped>\n",
       "    .dataframe tbody tr th:only-of-type {\n",
       "        vertical-align: middle;\n",
       "    }\n",
       "\n",
       "    .dataframe tbody tr th {\n",
       "        vertical-align: top;\n",
       "    }\n",
       "\n",
       "    .dataframe thead th {\n",
       "        text-align: right;\n",
       "    }\n",
       "</style>\n",
       "<table border=\"1\" class=\"dataframe\">\n",
       "  <thead>\n",
       "    <tr style=\"text-align: right;\">\n",
       "      <th></th>\n",
       "      <th>primary_industry-text</th>\n",
       "      <th>primary_industry-topic_id</th>\n",
       "      <th>primary_industry-probability</th>\n",
       "    </tr>\n",
       "  </thead>\n",
       "  <tbody>\n",
       "    <tr>\n",
       "      <th>0</th>\n",
       "      <td>maritime</td>\n",
       "      <td>0</td>\n",
       "      <td>0.125000</td>\n",
       "    </tr>\n",
       "    <tr>\n",
       "      <th>1</th>\n",
       "      <td>Higher education</td>\n",
       "      <td>2</td>\n",
       "      <td>0.781100</td>\n",
       "    </tr>\n",
       "    <tr>\n",
       "      <th>2</th>\n",
       "      <td>University</td>\n",
       "      <td>0</td>\n",
       "      <td>0.562374</td>\n",
       "    </tr>\n",
       "    <tr>\n",
       "      <th>3</th>\n",
       "      <td>Ed Tech</td>\n",
       "      <td>6</td>\n",
       "      <td>0.781204</td>\n",
       "    </tr>\n",
       "    <tr>\n",
       "      <th>4</th>\n",
       "      <td>education</td>\n",
       "      <td>1</td>\n",
       "      <td>0.562474</td>\n",
       "    </tr>\n",
       "    <tr>\n",
       "      <th>...</th>\n",
       "      <td>...</td>\n",
       "      <td>...</td>\n",
       "      <td>...</td>\n",
       "    </tr>\n",
       "    <tr>\n",
       "      <th>721</th>\n",
       "      <td>SaaS</td>\n",
       "      <td>6</td>\n",
       "      <td>0.562365</td>\n",
       "    </tr>\n",
       "    <tr>\n",
       "      <th>722</th>\n",
       "      <td>family research + dna</td>\n",
       "      <td>5</td>\n",
       "      <td>0.562422</td>\n",
       "    </tr>\n",
       "    <tr>\n",
       "      <th>723</th>\n",
       "      <td>software industry</td>\n",
       "      <td>4</td>\n",
       "      <td>0.708303</td>\n",
       "    </tr>\n",
       "    <tr>\n",
       "      <th>724</th>\n",
       "      <td>Travel</td>\n",
       "      <td>6</td>\n",
       "      <td>0.562500</td>\n",
       "    </tr>\n",
       "    <tr>\n",
       "      <th>725</th>\n",
       "      <td>Higher Education</td>\n",
       "      <td>2</td>\n",
       "      <td>0.781100</td>\n",
       "    </tr>\n",
       "  </tbody>\n",
       "</table>\n",
       "<p>726 rows × 3 columns</p>\n",
       "</div>"
      ],
      "text/plain": [
       "     primary_industry-text  primary_industry-topic_id  \\\n",
       "0                 maritime                          0   \n",
       "1         Higher education                          2   \n",
       "2               University                          0   \n",
       "3                  Ed Tech                          6   \n",
       "4                education                          1   \n",
       "..                     ...                        ...   \n",
       "721                   SaaS                          6   \n",
       "722  family research + dna                          5   \n",
       "723      software industry                          4   \n",
       "724                 Travel                          6   \n",
       "725       Higher Education                          2   \n",
       "\n",
       "     primary_industry-probability  \n",
       "0                        0.125000  \n",
       "1                        0.781100  \n",
       "2                        0.562374  \n",
       "3                        0.781204  \n",
       "4                        0.562474  \n",
       "..                            ...  \n",
       "721                      0.562365  \n",
       "722                      0.562422  \n",
       "723                      0.708303  \n",
       "724                      0.562500  \n",
       "725                      0.781100  \n",
       "\n",
       "[726 rows x 3 columns]"
      ]
     },
     "execution_count": 71,
     "metadata": {},
     "output_type": "execute_result"
    }
   ],
   "source": [
    "blob"
   ]
  },
  {
   "cell_type": "code",
   "execution_count": 58,
   "metadata": {},
   "outputs": [
    {
     "data": {
      "text/plain": [
       "0                     misc\n",
       "1                education\n",
       "2                     misc\n",
       "3      commerce/consulting\n",
       "4                  fintech\n",
       "              ...         \n",
       "721    commerce/consulting\n",
       "722             healthcare\n",
       "723               software\n",
       "724    commerce/consulting\n",
       "725              education\n",
       "Name: topic_id, Length: 726, dtype: object"
      ]
     },
     "execution_count": 58,
     "metadata": {},
     "output_type": "execute_result"
    }
   ],
   "source": [
    "primary_industry = df.primary_industry.astype('str')\n",
    "\n",
    "primary_industry_topics, primary_industry_prob = nlp.assign_topic_column(primary_industry, ngram_range=(1,3), max_df=.3, stop_words=stopWords, n_components=8)\n",
    "\n",
    "primary_industry_df = nlp.pair_topic_with_text(primary_industry, primary_industry_topics, primary_industry_prob, 'prim_ind')\n",
    "\n",
    "primary_industry_df.prim_ind_topic_id.map(primary_industry_dict)"
   ]
  },
  {
   "cell_type": "code",
   "execution_count": 57,
   "metadata": {},
   "outputs": [],
   "source": [
    "primary_industry_dict = {\n",
    "    0:'misc',\n",
    "    1:'fintech',\n",
    "    2:'education',\n",
    "    3:'government',\n",
    "    4:'software',\n",
    "    5:'healthcare',\n",
    "    6:'commerce/consulting',\n",
    "    7:'tech'\n",
    "}"
   ]
  },
  {
   "cell_type": "code",
   "execution_count": null,
   "metadata": {},
   "outputs": [],
   "source": [
    "prima"
   ]
  },
  {
   "cell_type": "markdown",
   "metadata": {},
   "source": [
    "# 6 types_res_used            690 non-null object"
   ]
  },
  {
   "cell_type": "code",
   "execution_count": null,
   "metadata": {},
   "outputs": [],
   "source": [
    "types_res = df.types_res_used\n",
    "\n",
    "types_res_topics = nlp.assign_topic_column(types_res, ngram_range=(1,3), max_df=.3, stop_words=stopWords, n_components=8)\n",
    "\n",
    "types_res_probs = nlp.assign_topic_column_probability(types_res, ngram_range=(1,3), max_df=.3, stop_words=stopWords, n_components=8)\n",
    "\n",
    "types_res_df = nlp.pair_topic_with_text(types_res, types_res_topics, types_res_probs)"
   ]
  },
  {
   "cell_type": "code",
   "execution_count": null,
   "metadata": {},
   "outputs": [],
   "source": [
    "types_res_dict: {\n",
    "    0:\"evaluative, quantitative, qualitative\",\n",
    "    1:\"card sort\",\n",
    "    2:\"inquiry\",\n",
    "    3:\"moderate, unmoderate\",\n",
    "    4:\"focus group\",\n",
    "    5:\"market research\",\n",
    "    6:\"journey mapping\",\n",
    "    7:\"misc\"\n",
    "}"
   ]
  },
  {
   "cell_type": "code",
   "execution_count": 97,
   "metadata": {},
   "outputs": [
    {
     "data": {
      "text/plain": [
       "['qualitative',\n",
       " 'quantitative',\n",
       " 'qualitative quantitative',\n",
       " 'quantitative research',\n",
       " 'qualitative quantitative research',\n",
       " 'user',\n",
       " 'design',\n",
       " 'quant',\n",
       " 'qual',\n",
       " 'analytics',\n",
       " 'user research',\n",
       " 'research design',\n",
       " 'design research',\n",
       " 'research interview',\n",
       " 'interview survey',\n",
       " 'user testing',\n",
       " 'testing quant',\n",
       " 'quant qual',\n",
       " 'user research design',\n",
       " 'research design research']"
      ]
     },
     "execution_count": 97,
     "metadata": {},
     "output_type": "execute_result"
    }
   ],
   "source": [
    "type_res_keys = nlp.show_persona_keywords(types_res_used, max_df=.3, min_df=2, ngram_range=(1,3), n_keywords=20)\n",
    "type_res_keys"
   ]
  },
  {
   "cell_type": "markdown",
   "metadata": {},
   "source": [
    "# 7 future_res                609 non-null object"
   ]
  },
  {
   "cell_type": "code",
   "execution_count": null,
   "metadata": {},
   "outputs": [],
   "source": [
    "future_res = df.future_res\n",
    "\n",
    "future_res_topics, future_res_probs = nlp.assign_topic_column(future_res, ngram_range=(1,3), max_df=.3, stop_words=stopWords, n_components=8)\n",
    "\n",
    "future_res_df = nlp.pair_topic_with_text(future_res, future_res_topics, future_res_probs)"
   ]
  },
  {
   "cell_type": "code",
   "execution_count": null,
   "metadata": {},
   "outputs": [],
   "source": [
    "future_res_df"
   ]
  },
  {
   "cell_type": "code",
   "execution_count": null,
   "metadata": {},
   "outputs": [],
   "source": [
    "future_res_dict = {    \n",
    "    0:\"evaluative, quantitative, qualitative\",\n",
    "    1:\"card sort\",\n",
    "    2:\"inquiry\",\n",
    "    3:\"moderate, unmoderate\",\n",
    "    4:\"focus group\",\n",
    "    5:\"market research\",\n",
    "    6:\"journey mapping\",\n",
    "    7:\"misc\"\n",
    "        }"
   ]
  },
  {
   "cell_type": "markdown",
   "metadata": {},
   "source": [
    "# 10 research_educ_desc        540 non-null object"
   ]
  },
  {
   "cell_type": "code",
   "execution_count": null,
   "metadata": {},
   "outputs": [],
   "source": [
    "research_educ = df.research_educ_desc\n",
    "\n",
    "research_educ_topics, research_educ_probs  = nlp.assign_topic_column(research_educ, ngram_range=(1,3), max_df=.3, stop_words=stopWords, n_components=6)\n",
    "\n",
    "research_educ_df = nlp.pair_topic_with_text(research_educ, research_educ_topics, research_educ_probs)"
   ]
  },
  {
   "cell_type": "code",
   "execution_count": null,
   "metadata": {},
   "outputs": [],
   "source": [
    "research_educ_dict = {\n",
    "0:'masters, bachelors',\n",
    "1:'class, running study',\n",
    "2:'degree majors',\n",
    "3:'online, non-degree',\n",
    "4:'experimental, psychology',\n",
    "5:'master degree'\n",
    "    }"
   ]
  },
  {
   "cell_type": "code",
   "execution_count": null,
   "metadata": {},
   "outputs": [],
   "source": []
  },
  {
   "cell_type": "markdown",
   "metadata": {},
   "source": [
    "# 14 how_pick_events           644 non-null object"
   ]
  },
  {
   "cell_type": "code",
   "execution_count": null,
   "metadata": {},
   "outputs": [],
   "source": [
    "how_pick_events = df.how_pick_events\n",
    "\n",
    "how_pick_events_topics, how_pick_events_probs = nlp.assign_topic_column(how_pick_events, ngram_range=(1,3), max_df=.3, stop_words=stopWords, n_components=6)\n",
    "\n",
    "how_pick_events_probs #= nlp.assign_topic_column_probability(how_pick_events, ngram_range=(1,3), max_df=.3, stop_words=stopWords, n_components=6)\n",
    "\n",
    "how_pick_events_df = nlp.pair_topic_with_text(how_pick_events, how_pick_events_topics, how_pick_events_probs)"
   ]
  },
  {
   "cell_type": "code",
   "execution_count": null,
   "metadata": {},
   "outputs": [],
   "source": [
    "#MONEY\n",
    "how_pick_events_dict = {0:'pay', 1:'value, reputation', 2:'price', 3:'reputation, value', 4:'subject, feel, theme', 5:'misc'}"
   ]
  },
  {
   "cell_type": "markdown",
   "metadata": {},
   "source": [
    "# 16 events_attend_recent      558 non-null object"
   ]
  },
  {
   "cell_type": "code",
   "execution_count": 7,
   "metadata": {},
   "outputs": [],
   "source": [
    "events_attend_recent = df.events_attend_recent\n",
    "\n",
    "events_attend_recent_topics, events_attend_recent_probs  = nlp.assign_topic_column(events_attend_recent, ngram_range=(1,3), max_df=.3, stop_words=stopWords, n_components=7)\n",
    "\n",
    "events_attend_recent_df = nlp.pair_topic_with_text(events_attend_recent, events_attend_recent_topics, events_attend_recent_probs)"
   ]
  },
  {
   "cell_type": "code",
   "execution_count": 16,
   "metadata": {},
   "outputs": [
    {
     "data": {
      "text/plain": [
       "array(['Research Tuesdays (Czech),  UX/Design Conferences, ',\n",
       "       'Besides UX week in 2016 I attended and presented at the Pistoia Alliance UX conference in 2017 and have gone to a few UXPA-LA events.',\n",
       "       'none exclusive to research, but this is generally a big topic at any public health conference',\n",
       "       'BAD conference, researchers meet-ups, London research meet-ups.',\n",
       "       'none particularly for research (we are mostly  generalists in our company)',\n",
       "       'None that specialized, I usually go to events with mixed UX topics',\n",
       "       'IIEX NA, CX Talks, Local events, IIEX Behavior, Qual360, EPIC, Day Of Innovation',\n",
       "       'Online courses in JTBD.',\n",
       "       'Mainly content conferences with research talks included.',\n",
       "       \"UIE's Playbook.\", 'Some UX conferences in the UK and Copenhagen',\n",
       "       'research ops remote meetups, UX Mondays in Prague, Research Tuesdays in Prague, some UX conferences, meetups and barcamps in Berlin, Bratislava, Brno, Prague, and Vienna',\n",
       "       'Informal meetups / talks, Online events ',\n",
       "       \"Ladies that UX (I'm a man, but liked it!) , the Research Thing meetup\",\n",
       "       'some online webinars offered by companies offering tools.',\n",
       "       'UXPA International 2018, data analytics online course, meetups...',\n",
       "       'Svpg workshop, design leadership conference (an event apart), meetup',\n",
       "       'Online webnair',\n",
       "       'Personally, UX Week in San Francisco. Folks in my company have attended several other conferences recently that are more specifically research oriented.',\n",
       "       'Ila from ixda', 'local events with some research focus',\n",
       "       'EPIC (conference and online workshops), Strive, HCIC, research meetups in Chicago',\n",
       "       'UX Brighton in November, 2018', 'Conferences, meetups, webinars',\n",
       "       'UX playbook, Smart Scrum Product Ownership, Webinars, JTBD Online Course, Teresa Torres online course',\n",
       "       'Many conferences, several workshops',\n",
       "       'Mule Studio workshops on UX Research and presentation skills.',\n",
       "       'Designs Ops (2 yrs) UIE (3 yrs), HCI Intl (1 yr) Nielsen Norman (3 sessions) UX Strategy with Jared Spool',\n",
       "       \"Some meetups and panels around NYC, when I've been invited to talk. (As a parent of a little kid it's hard to go to an event just to show up and try to network!)\",\n",
       "       'Local talks/meetups, local events, online webinars. ',\n",
       "       'Only on specific methodologies, e.g. a workshop on ethnography.',\n",
       "       'Only conferences in HCI',\n",
       "       'Webinars, meetup on presenting findings',\n",
       "       'Mostly local meet-ups and local events.', 'Conference, workshops',\n",
       "       'Steve’s workshop in NY on interviewing, conferences in Utrecht and Vancouver, a bunch of meetups in NY',\n",
       "       'conferences, workshops',\n",
       "       'local meet-ups on UX topics, including workshop on UX strategy mapping',\n",
       "       'Research Thing meetup, UXPA UK, Research Ops - researcher skills workshop, User Researcher London, HCID London, ',\n",
       "       'Eventbrite: HR design thinking, NNGroup conference ',\n",
       "       'See above. The UX conference in Copenhagen is also great.',\n",
       "       'None specifically on research.. more general UX',\n",
       "       'UX Mondays (Local meetups in Prague), Interaction, EuroIA, WebExpo',\n",
       "       'Monthly meetups, occasional workshop , UX research Conference (strive)',\n",
       "       \"Nothing research specific - mostly UX specific. I watch a lot of content online and bought Sarah Doody's User Research Mastery Course.\",\n",
       "       'UX Spain and UX fighters',\n",
       "       'MWUX has a decent amount of research content',\n",
       "       'Not specifically dedicated to research, but at least 1 ux conference yearly and several meetups',\n",
       "       'Interaction (from IxDA), Norman Nielsen Conference. Service Design Network Conference.',\n",
       "       'not really research only but when I go to UX or web conferences, I pick research speaches. NNG, Exconf Bratislava, Doers Budapest, Webexpo  Prague, UX Salon Tel Aviv, UX Camp Europe in Berlin (best thing ever, mostly), and I have a ticket for UX Brighton ',\n",
       "       'Research specific - EPIC, Strive UXR Conference; General UX - UX London, UX Week, UX New Zealand, FLUPA UX Days, UX Australia',\n",
       "       'Qualtrics Experience Management conference; QRCA events; UXPA events; WIRe events; CO Ad Club events',\n",
       "       'UX Brighton', 'Grace hopper ixda indy design week',\n",
       "       'Nielsen Norman UX conference, UXPA events, Bentley UX certificate courses',\n",
       "       'Uxpa, Norman Nielsen workshop, Airbnb conference ',\n",
       "       'Uxinsight, nn/g workshop, qual360', 'None, they were general',\n",
       "       'Like 40 meetup or tech events, 6 conferences, 2 hackathon involving design thinking ',\n",
       "       'UX London, UX Brighton, UX bristol, UX Oxford, DConstruct ',\n",
       "       'Smaller meetups on research techniques(story mapping, design sprints, etc.',\n",
       "       'UX Immersion?',\n",
       "       'ux insights conference, design thinking shadowing ',\n",
       "       'JTBD events and workshops, User Research London, Top Tasks workshop, UX Brighton last year was fully dedicated to research, Good 19, Bad 19',\n",
       "       'Workshops, Conferences',\n",
       "       \"A few meetups and online webinars only, haven't had the chance to attend a proper conference or anything like that.\",\n",
       "       \"Google Design Sprint Conference. Nick Bowmast's book launch in SF. A researcher breakfast at Prezi. Internal events run by my company.\",\n",
       "       'Design Ops Conference 2018',\n",
       "       'UX meetups in Minneapolis, MN, and webinars ',\n",
       "       'Information Architecture Day, UX Research meetups in Vancouver',\n",
       "       'EPIC conference, internal conferences on research, local research meetups ',\n",
       "       'Generally one-day events and working groups',\n",
       "       'A workshop,  a few meetups, a UX conference. ',\n",
       "       'I think there was a Lean UX Remote conference with Cindy Alvarez?; Grace Hopper',\n",
       "       'BayCHI, UXPA, internal company events'], dtype=object)"
      ]
     },
     "execution_count": 16,
     "metadata": {},
     "output_type": "execute_result"
    }
   ],
   "source": [
    "events_attend_recent_df[events_attend_recent_df.topic_id == 2].text.values"
   ]
  },
  {
   "cell_type": "code",
   "execution_count": 12,
   "metadata": {},
   "outputs": [],
   "source": [
    "events_attend_recent_dict = {0:'london, user_research', 1:'service design, australia', 2:'webinar, brighton', 3:'toronto, strive', 4:'ia summit', 5:'local_meetups', 6:'urca, uxpa'}\n"
   ]
  },
  {
   "cell_type": "code",
   "execution_count": null,
   "metadata": {},
   "outputs": [],
   "source": [
    "dfs = [primary_industry_df, types_res_df, future_res_df, research_educ_df, how_pick_events_df, events_attend_recent_df, ideal_topics_df, ideal_attendees_df, recommendations_df]"
   ]
  },
  {
   "cell_type": "markdown",
   "metadata": {},
   "source": [
    "# 21 ideal_topics              560 non-null object"
   ]
  },
  {
   "cell_type": "code",
   "execution_count": 20,
   "metadata": {},
   "outputs": [],
   "source": [
    "ideal_topics = df.ideal_topics\n",
    "\n",
    "ideal_topics_topics, ideal_topics_probs  = nlp.assign_topic_column(ideal_topics, ngram_range=(1,3), max_df=.3, stop_words=stopWords, n_components=4)\n",
    "\n",
    "ideal_topics_df = nlp.pair_topic_with_text(ideal_topics, ideal_topics_topics, ideal_topics_probs)"
   ]
  },
  {
   "cell_type": "code",
   "execution_count": 30,
   "metadata": {},
   "outputs": [
    {
     "data": {
      "text/plain": [
       "array(['Sessions about new methodologies or cases studies',\n",
       "       'Sharing of methods or best practices.',\n",
       "       'Research ethics not as theory but as practice. Also ecological sustainability.',\n",
       "       'VR/AR Applications',\n",
       "       \"I would like to see research examples to get to understand the methods others use and why. I don't have any specifics top of mind, but I think direct examples from industry leaders give me the most to go off of.\",\n",
       "       'How to improve qualitative research crsft - moderation, reading boyd language, how to get to underlyinh needs/emotions\\nMethods, esp. new/emerging qual methods ',\n",
       "       'Research method selection with examples of various degrees of success/failure/ambiguity',\n",
       "       \"Selling research consulting, in a variety of venues/formats/situations. \\n\\nI'm not particularly interested in learning about methodologies or the like--those are too easy to research in other venues. I'd like more practical advice about managing research projects and ways to find clients.  Building a personal practice or brand is also a good one. \",\n",
       "       'Content that bridges the gap between “by the book” and academic research to research practices that are most successful in business.',\n",
       "       'Selling research so it gets done',\n",
       "       'Ethnographic research, Portigal style tales from the field\\nAnalyzing research, methods for making sense of the data collected\\nGDPR compliance, privacy and security of data, presentation and transfer of information  to clients with privacy in mind (ie who owns the research)',\n",
       "       'How to advocate for research in software dev projects, how to integrate research for the entire project lifespan, how to educate the developers so that they would request research in their next project as well?',\n",
       "       'Making it easier to do continuous research at a sustainable pace',\n",
       "       'case studies, deep dives. not-for-beginners kind of stuff',\n",
       "       'Methodologies,  field-specific best practices,  etc. ',\n",
       "       'case studies plus more about statistics',\n",
       "       'selling the research -- how are you successfully gaining buy-in.\\nPartnering w/ market research inside organizations.',\n",
       "       \"I'd love to hear lots of case studies of various types of research from various people- even attendees\",\n",
       "       'Best practices \\nReal Projects',\n",
       "       'Influencing leadership, becoming leadership, self management. Expanding global consciiuness',\n",
       "       'Ethics in research',\n",
       "       'applications of mixed methods; how to explain research better; case studies of the same.',\n",
       "       'Where you had to adapt to a situation and change the typical research method to match your situation',\n",
       "       'Research Operations, managing research projects.',\n",
       "       'How to get started in research.',\n",
       "       'best practices for different methodologies\\nreports\\nanalysis\\nremote collaboration',\n",
       "       'Design synthesis and making research actionable. Case studies. Promoting research in traditional organizations outside agencies. Learning about practicing research from industries outside design with more mature research practices, e.g. monitoring and evaluation programs in large NGOs/non-profits. Ways to advocate for exploratory research and not just evaluation ',\n",
       "       'We need more emphasis in our community on \"making the familiar strange\". There is not enough effort at decoding the mundane acts and phenomenon of life. A move in this direction would tamp down some of the hype that infects most conferences. Also, ethical conundrums, and ethical acts within power dynamics. HCD is signing its name to some very dark patterns. And celebrating those act on stage at design and research conferences around the world. Finally, let\\'s talk about Porter\\'s concept of creating shared value. Perhaps with the benefit of the UN SDG framework. Oh yeah, why not make some arrangements to take participants out into the field!  Imagine that. ',\n",
       "       \"I'm a supplier, so I'm primarily interested in how to build a stable client base.\",\n",
       "       \"Peer reviewed research studies.  We need to build a literature for ux. Too many of today's UX conferences focus on thought pieces or opinions.\",\n",
       "       'Emerging / innovative research approaches, research case studies, masterclasses ',\n",
       "       \"Honestly, more on talking about and selling research. Case studies that are useful. What lands well with people who don't understand the merit and uses of research in professional settings.\",\n",
       "       'Best practices, areas for future work',\n",
       "       '- I studied *this* in *this* way and had these results and *this* is what I learned about my methods and approach\\n\\n- What I did to overcome organizational barriers to conducting user research. ',\n",
       "       'Methods and case studies',\n",
       "       'Tactical/how to sessions.  Strategic application of research',\n",
       "       'Scrappy and fast methods',\n",
       "       'Advanced research sessions, very detailed case studies, fail experiencea... ',\n",
       "       'Analysis! Analysis in the age of distributed, remote teams, analysis methods and case studies, any way to prove the value of getting more time for analysis. ',\n",
       "       'Besides case studies, would want to see more about the analysis and socialization of research conducted and the impact on company',\n",
       "       'New techniques. Business cases for research. Managing research with little to no budget. How to select a good vendor to help with research. When to research (and when to not).',\n",
       "       'Recruitment',\n",
       "       'How to democratize research and support all disciplines doing it well. At my company everyone is expected to do research but not everyone can do it well.',\n",
       "       'I’d be particularly interested in learning the pitfalls of researching without a diverse team or participants.',\n",
       "       \"I think I'd like to see how people actually implement accessibility soup to nuts from the beginning of a startup project.\",\n",
       "       'Not sure.', 'Behavioural studies',\n",
       "       'How to manage research and agile.\\nHow to manage users database\\nHow to evangelize research in a organization\\nHow to build ux kpis\\nDifferent research approaches. Small x large organizations.\\nAvoid bias surveys, interviews, etc',\n",
       "       'Ethics, Ops, case studies',\n",
       "       'Practical application not just theory. Case studies and best practices.',\n",
       "       'Ethics in research, career path planning for researchers.',\n",
       "       'Different types of research methodologies and case studies, how research is evolving for the future, how will research be disrupted, how to champion research in a large organization',\n",
       "       'More advanced methods. I don’t want to hear about usability or interviews.',\n",
       "       'Emerging methods, ethics, sharing \"horror stories\", effective strategies for changing organization culture to be more research focused.',\n",
       "       'UXR Process and Exercises to help align Product',\n",
       "       \"I'd like to see if organizations are still focusing on usability.  In my recent roles there has no longer been an emphasis on this but rather on strategic research to identify opportunities.  It feels like market research and UX research are blending to some degree.  As someone with 15 years of experience I have started to see usability of products decrease as organizations more and more emphasize strategic research (evaluative methods seem to be just taken for granted or ignored completely).  I'd love to learn if some organizations are keeping a good balance and not ignoring one critical aspect of what we do.  I'd also love to talk about this more with others in terms of the future of UX Research in organizations.\",\n",
       "       'Ethics, building the case for qualitative research at your org, discussing the future of the field, design research applied to fields outside of software/technology ',\n",
       "       'Methods and case studies',\n",
       "       'Research integrated in organizations on a micro level',\n",
       "       'Case studies',\n",
       "       'Leadership in research and setting up a research practice.',\n",
       "       \"Larger more established research organizations process, advocating for research, structure of teams, emerging methods I haven't practiced or heard of\",\n",
       "       '\"How to get management to believe in conducting user research\"',\n",
       "       'Methodologies, what to do when _________, Research impact on organizations, Research management and leadership (why are there so many women researchers but so few women research leaders??)',\n",
       "       'How to recruit people KIDDING PLEASE NO. I love case studies. Vanessa Dilloff gave a great talk about her recent work for the North Face at People Nerds, and it was delightful.',\n",
       "       \"I'm interested in content for experienced researchers that's about doing the work, influencing, managing up to executives. Focused on start-ups and smaller companies. Not large public corps. \",\n",
       "       'Trends, case studies, practical applications of research; stuff for seasoned practitioners.',\n",
       "       'audience, consumer, user research.',\n",
       "       'Practical ways to get around problems\\nWar stories\\nInspiring case studies\\nTransferable truths about human behaviour ',\n",
       "       'Leading and advocating for research \\nHybrid design + research topics\\nCase studies',\n",
       "       'Why UX appears to be trying to replace Market Research. UX includes many of the types of research tools and processes market researchers have used for yours. Market Research needs to modernize and wake up to the focus on UX.',\n",
       "       'more case studies about research as a practitioners , ways to overcome challenges, the need for more mentors in this field and ResearchOps',\n",
       "       'Focus on implementable methods and practices to take back and try.',\n",
       "       'Crosspollination, i.e. research between different fields, away from silo-thinking, real work applied research examples. ',\n",
       "       'That if an attendee has a CoC complaint it is heard, documented, and investigated by an outside neutral vendor. That until the claim is validated the parties are protected from one another — and the community. That ANYONE found participating in public or back channel campaigns to tear others down are banned from participating in the community.\\n\\nAlso, how to heal when we’ve done tons of research, heard how people are struggling, and then the project ends or turns, and we’re left with the “stories of users flowing in our marrow,”…  unable to do anything further to help. ',\n",
       "       'Practical stuff',\n",
       "       'Qualitative vs quantitative. Examples of success and best practices in each. Ethnographic study case studies . Problem space vs solution space. Lean and how to do research in that mode. Research leadership and persuasion',\n",
       "       'Embedding research in existing processes, Best processes for embedding research, Research result analysis.',\n",
       "       'How to have impact as a sole researcher in an organization.',\n",
       "       '- Ethnographic research: case studies, tips and tricks\\n- How to teach basic research skills to others: what works, what to avoid\\n- How to think \"quantitative\": everything is tracked; what is meaningful?\\n- How to do field research on help systems, where the need is unpredictable?',\n",
       "       'Analyse and report.',\n",
       "       'Building research panels and infusing research culture in organizations',\n",
       "       'How to do longer research projects planning',\n",
       "       'Leadership, new and advanced methods, career advancement, inclusive research and design, ethics',\n",
       "       'Case studies about experiments with methods, things that didn’t work (failures and what people learned from them)',\n",
       "       'Thought provoking, \"real\" topics.  Challenges for our field. Examples of really cool ground breaking research projects. ',\n",
       "       \"I REALLY enjoyed Vivianne Castillo's talk about self-neglect and ethics in research she gave at Strive 2019. Holy cow!\\nFundamentals, advanced techniques, and addressing the difference between in-house research teams, freelance/consultant research, and the growing awareness that B2B and B2C research is in fact different (sorry, not sorry).\",\n",
       "       'Research Ops\\nCase studies of research that led to impact\\nFuture of research\\nDeepening methodology',\n",
       "       'More about creativity and different research methods',\n",
       "       'Accessibility research - including differently-abled people in your research.',\n",
       "       'Talks that feature case studies',\n",
       "       'Advanced research methods or “creative” research methods. I want to hear how other people “make it work” in their organization, and also how we can incorporate more advanced research and analysis methods into our day to day. ',\n",
       "       '- Maintaining good research (both into the problem and into the early concept) in a \"Lean Startup\"-world.\\n- In that same theme: what\\'s the deal with design sprints, from a research perspective. Is using the moderated usability testing-format really the best to gauge potential market adoption of a new concept? That\\'s not what the method is for. ',\n",
       "       \"method deep dives/use case: i) why did a researcher choose a given method for a scenario ii) what challenges were there iii) how did they address those challenges, and iv) what didn't work/did work and why?\",\n",
       "       'How to innovate qualitative research methods',\n",
       "       'i want to talk about research methods for generative research. i feel this area of ux is often done with much less methodical rigor as opposed to other forms of research, so i am interested in why, learning more about projective techniques for interviewing and why/how those work. ',\n",
       "       \"Not sure I'd really attend a conference about research. Only if it involved explaining to clients why research is important.\",\n",
       "       'Practical how-to’s\\nEthics\\nRecruiting research participants\\nResearch team of one',\n",
       "       \"Integrating research across large organizations. The politics of research. Permission / ownership. Building research cultures. How to encourage research with new teams without much experience while managing the risk of green researchers. Getting everyone into the field (I've had everyone from SVPs to frontline staff on field teams, but not consistently).\",\n",
       "       'Specific situation and specific challenge. Want relevancy and avoid too much talk that is general or caught up in my issues — should be about the client and user needs',\n",
       "       'Unusual or new methods, case studies, seeing how other professionals dealt with challenging topics',\n",
       "       'Executing research and short case studies',\n",
       "       'ethics, recruiting, synthesis & analysis',\n",
       "       'Balancing qualitative and quantitative research',\n",
       "       'Current UX trends for tools, failed and successful use cases, understand German network of UX communities',\n",
       "       \"Practical dos and don'ts, promoting research practice in organisations, sybnergies between different research dusciplines. \",\n",
       "       'Direct observing',\n",
       "       'Ethnography in practice - how to approach, how to conduct, what to look for, what to note, how to analyze, and how to make relevant through personas and scenarios.',\n",
       "       'research for one, research tools and how to use them, unbiased research, hear about more unusual types of research and hear cases studies about them',\n",
       "       \"Case studies are often the most valuable. I love hearing about people's real experiences.\\nHow-to and best practices are good (as long as they include real examples).\\n\\nA big interest for me right now is bringing quantitative and qualitative approaches together.\\n\\nAnd how to make the business case for research - alas, this is something I still need to do a lot of!\\n\",\n",
       "       'Latest methods. How to make sure you are performing the right kind of research.  How to frame your insights. Methods for improving questions.',\n",
       "       'talks that focus beyond success, explain the practice.',\n",
       "       'Research methods around designing for accessibility, ie, research with participants who have varying accessibility needs',\n",
       "       'Usability testing, interview practice sessions, community based research methods',\n",
       "       '\"Alternative\" or nontraditional, emerging, and agile-friendly methods; hybrid methods',\n",
       "       'real case studies, no theory since there are books for that',\n",
       "       'more intermediate and advanced topics on conducting research hands on. would like to see more hands on workshops.',\n",
       "       'Growing a team, advanced methods or analysis topics, case studies',\n",
       "       'How to keep your stakeholders informed and aligned?\\nAdvocating for research in your organization.\\nCase studies on research.\\n',\n",
       "       'research ops topics: case studies on research repository efforts, setting up a user panel, navigating the vendor management process, structuring teams for efficiency - examples across organizations, creating awesome research study templates to use across teams\\n\\nhow to align smaller sample UXR studies with larger sample marketing studies\\nhow to incorporate UX metrics into KPIs \\ncompelling visualizations to incorporate in research analysis deliverables to stakeholders (e.g., customer experience indexes)\\n',\n",
       "       'Research and analysis methods. Get people in the organization involved. Innovative reporting, recruitment, research, analysis etc',\n",
       "       'Actual research stuff (methodology), plus levelling up your organization',\n",
       "       'Research in Education (paths to support learning)',\n",
       "       'How to tackle research when your plate is too full but all the product teams have research needs (and hiring another researcher isn\\'t an option!), case studies of traditional methods and the result, case studies of new/innovative methods and the result, how to make research more \"lean\" ',\n",
       "       'Research Ethics and how to communicate them to non-researchers stakeholders\\nResearch Flops\\n',\n",
       "       \"How to align researchers. When to be precious about research. Which is worse - no research or bad research? How to manage up when research leaders don't agree. How to understand context. Reports or not? What do you need to bring back to those not at the conference to get them on the same page with you?\",\n",
       "       'Methods, dos and donts, learning, challenges. I don it want to hear anything high level because it’s a waste of time. I also don’t want to hear about a company self promoting.  ',\n",
       "       'User Research',\n",
       "       'How research stays relevant in organizations where politics abound and data is becoming more central to decision making. Crafting compelling narratives that move the organization in a better direction.',\n",
       "       'Aligning User Research with business and marketing.',\n",
       "       'Ethics, co research ',\n",
       "       'New forms of Research with practical advices\\nPersonal experiences with different kind of researches an reconmendations\\nRecommendations when to do what Kind of research-Bit not the und typical advices but some creative approaches\\nAdvices or practical activities for the analysis and synthesis phases \\nHow to conduct research for the Job to be done approach\\nHow to combine quantitative and qualitative research.\\nWhich kind of quantitative research is useful and how to conduct it',\n",
       "       \"Matching research methods to research needs, building a research roadmap, how to make research insights sticky in stakeholders and product teams' minds.\",\n",
       "       'Advancing the practice and methodologies within research',\n",
       "       'new research methods\\nchallenges of real user research practices ',\n",
       "       'Research methodologies, project case studies and career development advice. Anything and everything qualitative research',\n",
       "       'Research with cognitive access needs\\nAnalysis methods ',\n",
       "       'Best practices in research',\n",
       "       'Practical research applications in industry',\n",
       "       \"In-house research rather than stuff that's very focused on being a consultant/agency.\",\n",
       "       'how they built research practices in their organizations, strategies for research, how they approached difficult problems and solved through application of research, etc.',\n",
       "       '1) Research with disadvantaged or vulnerable populations, 2) How to start and formalize a research process in your company or organization, 3) Research ethics, 4) Research in government, or social and humanitarian sector, 5) Issues of power and inequality between researchers, users, and their organizations, 6) Innovative quantitative methods\\n',\n",
       "       'Participant recruitment strategies, research fails, research community building in your organization',\n",
       "       'Choice of methods - when which method, edge cases\\nCase studies\\n\\n',\n",
       "       'raising user research awareness in your organisation; interesting user research case studies; best research practices for small research teams;',\n",
       "       '- Effectivity od research reports - best practices to set (and communicate) the suitable format according to the client’s or colleague’s needs (inhouse research)\\n- Offering research insight and check-up during later stages of the design process to make sure it has been incorporated\\n- Experimenting with research methods, creative use and adjustments according to current needs of the project\\n- Synthesis workshops with the team - how to design the workshops, modelling techniques',\n",
       "       \"Field studies (what we learned and how our methods changed), international studies (how best to conduct studies when you don't speak the language). Social context methods for understanding the effects of products on groups. Usable privacy and security, ethics in UX research (Montiero), running a UX practice (Cooper), guerilla research (Chipchase), how to be a successful independent UXR consultant, which corners to cut (or not) when you have to do research fast and cheaply. Vigorous debate on the level of detail in deliverables. \"],\n",
       "      dtype=object)"
      ]
     },
     "execution_count": 30,
     "metadata": {},
     "output_type": "execute_result"
    }
   ],
   "source": [
    "ideal_topics_df[ideal_topics_df.topic_id == 3].text.values"
   ]
  },
  {
   "cell_type": "code",
   "execution_count": null,
   "metadata": {},
   "outputs": [],
   "source": []
  },
  {
   "cell_type": "code",
   "execution_count": 31,
   "metadata": {},
   "outputs": [],
   "source": [
    "q21_dict = {0 : 'case_study', 1 : 'quant/qual/data', 2 : 'ops/ai', 3 : 'new_method, mixed_method'}"
   ]
  },
  {
   "cell_type": "code",
   "execution_count": null,
   "metadata": {},
   "outputs": [],
   "source": []
  },
  {
   "cell_type": "code",
   "execution_count": null,
   "metadata": {},
   "outputs": [],
   "source": []
  },
  {
   "cell_type": "markdown",
   "metadata": {},
   "source": [
    "# 22 ideal_attendees           471 non-null object"
   ]
  },
  {
   "cell_type": "code",
   "execution_count": 33,
   "metadata": {},
   "outputs": [],
   "source": [
    "ideal_attendees = df.ideal_attendees\n",
    "\n",
    "ideal_attendees_topics, ideal_attendees_probs  = nlp.assign_topic_column(ideal_attendees, ngram_range=(1,3), max_df=.3, stop_words=stopWords, n_components=4)\n",
    "\n",
    "ideal_attendees_df = nlp.pair_topic_with_text(ideal_attendees, ideal_attendees_topics, ideal_attendees_probs)"
   ]
  },
  {
   "cell_type": "code",
   "execution_count": 38,
   "metadata": {},
   "outputs": [
    {
     "data": {
      "text/plain": [
       "array(['I like a mix, academics and professionals, quals and quants, etc. ',\n",
       "       'Steve Portigal\\n\\nDon Norman\\n\\nMad pow \\n\\n', 'Don Norman',\n",
       "       'Big names who do not give the same talk over and over, speakers who are invited not because of their organization, but because of their original work. ',\n",
       "       'I don’t know.',\n",
       "       'Established and mid-career professionals; digital agencies; UX research staff from large corporations',\n",
       "       'Lisa Reichelt, Kim Goodwin, Laura Klein... Heroes in the field are always inspiring\\nBut also;   A Philips researcher and her/his story about how research makes the difference for patience or doctors; or the free lance UXer who transformed the way of working at company x; or how ‘every user researcher/designer’  thinks research could be done much mor effective and efficient (concerning gathering data, deriving insights, re using research data, making valuable next steps...)... but we all re invent the wheel... ',\n",
       "       'Leisa\\nKate T\\nAbby C\\nSteph Marsh\\nKaty Arnold\\nSteve Portigal\\nDavid Whittle (Spotify)\\nBrigette Mesler\\nLots of awesome individuals in Gov.uk\\nPublic sector people \\nLess excited about people working at tech giants but I have seen some good individual speakers - particular coming out of Spotify/Shopify',\n",
       "       'Data journalist\\nExpert on bias\\nResearch AI, including AI/ML critics\\n',\n",
       "       'I like to see a couple of \"big names\" on the main stage but find I often get more out of the mid-career non-famous types in the smaller sessions. It\\'s always a delight to find out about someone new who\\'s doing amazing work but you might not have been aware of them. ',\n",
       "       'organizations that are well-know for over delivering UX experience, specific individuals',\n",
       "       'organizations who have successfully integrated qual/quant research...where they all get along :)',\n",
       "       'Abby Covert, Natalie Hanson, Steve Portigal, & Lou Rosenfeld :)',\n",
       "       'People with experience in research within a startup context',\n",
       "       'More in house, much less agency work. Academics in small doses. ',\n",
       "       'Consumer Insight Managers from the client side\\nResearchers collaborating with insights managers to present a case study',\n",
       "       'More diverse applications for research...so less web, less mobile, less B2B or B2C. \\nHow research has helped with deep, systemic \"wicked problems.\"\\n',\n",
       "       'Jared spool\\nSteve Portigal\\nResearch teams in bigger organisations e.g google, Facebook to understand how they meet the challenge of setting the landscape for others\\nAlso smaller agencies trying out new things to make it work on a budget ',\n",
       "       'DesignOps and AI people. I don’t care to see vendors, eye tracking, invision yet again.  They come all the time and I know we need to have the sponsors but they add very little value to the proceedings.',\n",
       "       'Steve Portigal, NNg peeps, Jared Spool, Mike Monteiro, Snook, ',\n",
       "       \"Research managers from places I'd like to work from :)\",\n",
       "       'Practitioners from a wide variety of practical backgrounds. Generalists, dedicated researchers, non-UXers who have embraced and now practice UXR...people at consultancies and in-house, small vs. large companies, private vs. public sector, consumer vs. professional products...representing a bunch of perspectives.',\n",
       "       'Jared Spool,  Tim Brown,  Nielsen Norman,  Steve Krug, Dan Saffer, Tomer Sharon',\n",
       "       'People who don\\'t always fit into traditional \"research\" roles but doing inspiring work. Journalists etc',\n",
       "       'I’m new to research groups.',\n",
       "       'People who have been practicing User Research for 15+ years. People who did not come to research through academia (I find academics most unhelpful and snooty). People whose companies have grown rapidly recently - they usually have great ideas about how to survive while growing.',\n",
       "       'Study Cases',\n",
       "       \"Anyone but the usual suspects, please.  A kitten dies every time the roster begins with Jared Spool. Just saying. In a conversation about the celebrity of Jan Chipchase someone pointed out doesn't the celebrity thing undermine the ability to perform research? Maybe not, but I think you feel the point. Please emphasize what we are getting up to, working on, or engaging in. And leave the cult of celebrity for other events. \",\n",
       "       'Marketers, data analysts, journalists, data visualisers, not-for-profits ',\n",
       "       \"-Steve Portigal (ofc), Sam Ladner, Erika Hall, myself, got to have Jerad Spool, Julie Zhou is really cool\\n\\n-I have a penchant for people conducting ethnographic research in academia at present (places like UCSD/Stanford)\\n\\n-Anybody who has written a research book I liked or that is well received \\n\\n-I'm a big fan of Christopher Noessel, slightly fangirl-ing, but AI + Design is an alluring topic\\n\\n-Any of the academic HCI greats (Don Norman, Bill Buxton, etc.).\\n\\n-Philosophy of mind people advancing cognitive science (Andy Clark)\",\n",
       "       'complementary services',\n",
       "       'I live in NZ. We welcome all international speakers at all times.',\n",
       "       'Those who have an interesting perspective, those who challenge the norm, those who are open to sharing new ways of working, those who are leaders in their field, a mix of qual and quant, a mix of MR, UX, DR, HCI, SI, CI, CX, etc as I work across all types of qual research needs',\n",
       "       'Any professional', 'Leah buley',\n",
       "       'Mix of established and new speakers',\n",
       "       'Anyone who is willing to talk honestly and without confidentiality problems about research experiences.',\n",
       "       'Jared Spool, Amy Bucher, John Hicks II',\n",
       "       'I\\'m not interested in people who only \"practice\" in academia. Not only does it uphold the Ivory Tower structural inequality, but rarely do they have anything *constructive* to add to the discussing and practice of practicing anthros.',\n",
       "       'Leaders who helped create the path and role.',\n",
       "       'I like to see a mix of qualified professionals (academic or research org leaders), practitioners who purely do research, but also people who work within organisations managing research as part of their role (case studies).',\n",
       "       'I’m quite open to seeing anyone, but I guess experience plays a big part for me... learning from people who have genuinely done the job as well as talk about it.',\n",
       "       'People who actual have experience doing the cycle of research. From preparing the research until presenting the report in small and large organizations. I dont care about titles, I care about experience.',\n",
       "       \"I don't have specific names or organizations that I would recommend. I do think that finding more seasoned people in the research industry with a lot of experience are extremely valuable. I feel like we're at a moment in time with research where everybody wants to start a research practice in larger companies but they're just aren't enough seasoned researchers out there to sort of lead these things. We have a bunch of more junior people trying to fill these rolls without necessarily the background or the experience to do so in a thoughtful and effective way.\",\n",
       "       \"To be honest - I'm less familiar with research individuals. I would love to see a range of expertise across categories (tech, healthcare, CPG, etc). \",\n",
       "       'it depends about actuality of UX research',\n",
       "       \"Senior researchers with a depth of experience doing research - not managers, directors who don't do the work anymore. \",\n",
       "       'Fellow user research managers',\n",
       "       'Sam Ladner, Indi Young, Kim Goodwin, Leisa Reichardt, Jan Chipchase',\n",
       "       \"I'd want to learn from people who work with insights in analogous spaces and bring some inspiration in.\",\n",
       "       'Diversity of roles/organizations\\nMore experienced people working in complex “mess” or constrained environments — from whom I’m likely to learn something new and get actionable ideas',\n",
       "       'Hidden gems. People doing amazing in companies no one has heard of, as well as some big names. ',\n",
       "       'Leah Buley\\nKim Goodwin ',\n",
       "       'Jared Spool\\nAnyone from IDEO--Tom and David Kelley\\nIrene Au\\nDon Norman\\nJakob Nielsen\\nAnyone from Nielsen Norman Group\\nJane Pyle\\nJay Melone\\nPhil Gilbert from IBM\\nJohn Maeda\\nSean Ellis',\n",
       "       'More people like Jan Chipchase, Jan-Christoph Zoels, that talk about what they do and how you can do the same. Less people that evangelise about the virtues of research.',\n",
       "       '- Diverse group of people\\n- Data scientists, ethnographers\\n- People doing experimental and unexpected work\\n- Super smart and thoughtful people with self awareness\\n- People who have overcome adversity as it relates to their practice \\n- People engaged in critical theory',\n",
       "       'No one in particular. Diversity would be nice, for example, an international audience.',\n",
       "       'Public sector service design types, research ethics',\n",
       "       'mix of academics and practioners',\n",
       "       'Whatever the topics - the opportunity to speak with leaders on challenges - have a dialogue about what is out in the world and their experience, a round table with lots of opinions and experience - learnings that you can take back to your work situation.',\n",
       "       'All the wonderful folks who have been around writing and speaking since before Research was so marvelously popular, before we started saying UX, back when we would annoy people at cocktail parties by explaining what information architecture was and then pressing them for adhoc feedback on login flows and page layouts. ',\n",
       "       'Jared Spool',\n",
       "       'Sam Ladner\\nAcademic anthropologists and ethnographers\\nInformation architects ',\n",
       "       'People with case studies (Rather than abstract talks). \\n\\nRanges in background (i.e. data, psychology, design). ',\n",
       "       'any organization that has *groups* of researchers that can speak, in depth, about a particular area',\n",
       "       'Good Great Studio\\nIdeo.org',\n",
       "       'Method leaders. People who are actually working in the field and known leaders. Less about the people who are always speaking (they have their place) but thought leaders who are applying craft are much more valuable in my eyes',\n",
       "       \"I want to see people who actually do the work, ceo's and vp's of research at agencies don't do shit when it comes to day to day research, and i don't want to hear from them...it'll be another sales pitch. I want to geek out on research topics by researchers. \",\n",
       "       'Alastair Somerville, the decolonization of codesign as a workshop (or pretty much anything else he does).\\nPublic sector folks.\\n',\n",
       "       \"I'd like to see people who have actual case studies and can walk through step-by-step how they did things. Theoretical and high level is good for C-levels, for persuasion, for rallying the troops, but I am the troops and I'd love really tactical information at this point.\",\n",
       "       'Steve Krug. Laura Klein. Jeff Patton. Don Norman.',\n",
       "       'good mix of academic, professional. Also small orgs – most speakers are from big orgs where research is much of a thing. ',\n",
       "       'Organizations that practice service / systems thinking beyond the digital interface',\n",
       "       'IDEO.org',\n",
       "       \"Organisations I follow and admire the work of. \\nPeople who have overcome challenges within their work. \\nA diversity within the key note speaker (not just white men who are from privileged backgrounds) - I say this because the small things that have helped people get to where they are, really shape and inform their way of thinking. I'm also conscious that in the research community there are less of these types. \",\n",
       "       \"I would probably be excited to see the folks who put out this survey and similarly experienced professionals who work in design or user research. It's cool to have representatives from a known company, but I don't think that is required. I'm excited by experience, knowledge, and people who have a passion for user research.\",\n",
       "       'Ethnographers and social scientists!',\n",
       "       'Leaders of the field (both local and nationally recognized), people doing interesting stuff with research and data. ',\n",
       "       'Well known anthropologists and sociologists',\n",
       "       'Gurus of research, success case studies ',\n",
       "       'people from normal organisations, not google or spotify!',\n",
       "       \"It's great to learn from people who have oodles of experience, are foundational to the industry, come from hot companies with big budgets doing amazing work, but you also don't want to hear from the same people over and over again. Diversity definitely enhances the conversation. Also, opportunities for attendees to contribute their perspectives as well as organized speakers. \",\n",
       "       'Researchers from a range of companies, small and large. ',\n",
       "       'People who have my same background -- graduate training in qualitative social science who are in large tech companies',\n",
       "       'Jared Spool, David Travis, Nielsen, Norman etc',\n",
       "       'I would expect leaders to have either academic training or deep experience in research practice. I avoid events where junior folks present their perspectives as I find it’s not helpful to me as a learner. (I wouldn’t mind mentoring in this situation.)',\n",
       "       'Representation from both large and small companies, a diverse set of leaders in the field.',\n",
       "       'I am sick and tired of ppl from huge companies, coming to the stage and presenting \"the one and only\" way of doing the research. There is a lot of talented people doing research in smaller companies,.',\n",
       "       'No one in particular',\n",
       "       'A mix of academics and professional practitioners\\nVUI/robotics researchers\\nExperienced presenters with normal job titles - User Experience Consultant / Information Architect / User Researcher - instead of Director of Thinking & Ideation or whatever \\n',\n",
       "       'African Americans working in research, people who work at  small organizations with small budgets (non-startups). ',\n",
       "       'I know who I don’t want. I don’t want to see recruiters (hr). Someone selling me something (I’d rather get free access or trial codes for tools and then make my decision). I don’t want to see pure market researchers or designers.\\nI want to be around anyone who does user research full time in any organization. I want to see leaders of research being social and not hiding away which they always do. I want to see evangelists of research known in the field.',\n",
       "       'experienced veterans from the field.',\n",
       "       \"Nielsen Norman Group, experienced researchers who are industry leaders, researchers who don't necessarily have a formal research background.\",\n",
       "       \"I'd love to see people with a mix of seniority, but it would only work if there were activities to break people out of their cliques. I'd love to see conversations between in-house and agencies about how their tactics for advocating for research differ. AirBnB is doing really cool things w UX research, so it'd be cool to talk to them...\",\n",
       "       'I\\'d like to see a diverse group of presenters from a demographic standpoint, a variety of \"experience levels\" offering their perspectives, and people from a range of organizations (e.g. in-house <> agency, qual <> quant, b2b <> b2c, etc).',\n",
       "       'Organizations that do comprehensive qualitative research. People such as Jan Chipchase, Sam Ladner or Indi young',\n",
       "       'Jared Spool is a favorite of mine, so is Mike Monteiro, but to be honest, I want to see a diverse set of speakers\\nArango, too!',\n",
       "       \"Steve Portigal, my interest in UX research pretty much started when I read his book. I'd also like to see companies with cool case studies, can't think of one at the moment.\",\n",
       "       'A few \"big names;\" diversity in backgrounds (e.g., non-traditional researchers and traditional); various user research tools to demo onsite',\n",
       "       \"People who practice research specifically. It's great that lots of designers do research too, but I want to meet more professionals who focus solely on research\",\n",
       "       'Others who have to apply research in their roles',\n",
       "       'Buxton. Spool. Rohrer.',\n",
       "       'people that research works with e.g. data analyst, product manager, customer support, designer, etc. ',\n",
       "       'big and small companies, seeing the scale at which UX research is being performed and how, to benchmark and gain perspective',\n",
       "       'Ppl from big corporates, but also research agencies, and small up and coming startups. Mostly ppl with several years of experience who are also engaging speakers'],\n",
       "      dtype=object)"
      ]
     },
     "execution_count": 38,
     "metadata": {},
     "output_type": "execute_result"
    }
   ],
   "source": [
    "ideal_attendees_df[ideal_attendees_df.topic_id == 3].text.values"
   ]
  },
  {
   "cell_type": "code",
   "execution_count": 39,
   "metadata": {},
   "outputs": [],
   "source": [
    "ideal_attendees_dict = {0: 'industry, team, product', 1 : 'experience, jared spool', 2 : 'sam ladner, erika hall', 3 : 'indi young'}"
   ]
  },
  {
   "cell_type": "code",
   "execution_count": null,
   "metadata": {},
   "outputs": [],
   "source": []
  },
  {
   "cell_type": "markdown",
   "metadata": {},
   "source": [
    "# 23 recommendations           494 non-null object"
   ]
  },
  {
   "cell_type": "code",
   "execution_count": 46,
   "metadata": {},
   "outputs": [],
   "source": [
    "recommend_stopwords = ['research','conference','researcher','don','dont','just','people','make','talk']\n",
    "\n",
    "recommend_stopWords = nlp.set_stop_words(recommend_stopwords)\n",
    "\n",
    "recommendations = df.recommendations\n",
    "\n",
    "recommendations_topics, recommendations_probs  = nlp.assign_topic_column(recommendations, ngram_range=(1,3), max_df=.3, stop_words=recommend_stopWords, n_components=5)\n",
    "\n",
    "recommendations_df = nlp.pair_topic_with_text(recommendations, recommendations_topics, recommendations_probs)"
   ]
  },
  {
   "cell_type": "code",
   "execution_count": 47,
   "metadata": {},
   "outputs": [
    {
     "data": {
      "text/plain": [
       "array([nan, nan, nan, 'Go ahead! Your prestige is a guaranty',\n",
       "       'It would be nice to have more conferences that bring together practitioners and researchers in academic positions, using similar research tools and strategies.',\n",
       "       nan,\n",
       "       'bring key opinion leader and young minds together for few days \\n',\n",
       "       'Have some really inspirational talks as well as informational. And have books to sell! (Of course!)',\n",
       "       'DO IT.', nan, nan,\n",
       "       \"Good luck :)\\n\\nNo seriously, think about who your target group is, and how to advertise. If it was too generic, I would not feel it's urgent/interesting enough to give up another conference for it (because that's probably what it would boil down to).\\n\\nMaybe co-locate with existing large conferences? In my area that would be CHI (Computer-Human Interaction), you could add a day on. That would increase my chances of going, because I would not get funding to travel to a conference if I can't present a paper there, and if it isn't high impact.\\n\\nYou could consider going digital? But I've never attended such an event, don't know whether it would be as compelling.\",\n",
       "       nan, nan,\n",
       "       'Be diverse in every aspect - and inclusive. No \"manels\"! Be creative and provide options for introverts and extroverts alike. Provide quiet spaces. Make sure the food is good and don\\'t forget the FUN :)',\n",
       "       nan,\n",
       "       \"(Not about research, but about the user experience of attending conferences/workshops)\\nHave coffee/water available at all times - paid is ok, availability is a must!\\nHave a place for people to set down/store v their stuff. It's hard to meet and greet when you're balancing your coat, bag, a cup of coffee, your notebook and your business cards.\",\n",
       "       nan, 'Go for it!!',\n",
       "       'No clue who you are. There are already way too many conferences so I would say don’t.',\n",
       "       'Please do it! :-)', nan, nan,\n",
       "       \"it's hard to please everyone, but a good mix of speakers and the time and place to interact with them is key\",\n",
       "       nan, nan,\n",
       "       '\\n- take care of the times and provide welcome kits with interesting material not only stamps or stikers',\n",
       "       nan, nan, nan, nan,\n",
       "       \"Please focus beyond the large company/client teams and major research orgs that can shell out big bucks to attend.  There are SO MANY smart independent (or small firm) genius that get overlooked or can't afford to attend. Seriously... I have to think about spending $1500-3000 to attend any conference vs. paying for my kids soccer program & uniform.  No Joke!   And I actually make a decent living that I don't have to/want to look for a FT insight position at a client.\",\n",
       "       nan, nan,\n",
       "       \"I'd say make it a series of smaller events that would work with multiple schedules and locations.\",\n",
       "       \"Allow streaming for people abroad. Even invest in translators for other language audiences. There is a huge market in Latin America that normally can afford attend for the high cost of travelling but there's a lot of companies that will be willing to pay online for high quality content.\\n\\nProvide guides, tools, road maps... Create networking or community beyond the conference.  \\n\\n\\n\\n\",\n",
       "       nan,\n",
       "       'Reminder that not all UX research projects begin with an app or digital experience in mind. Much of the solutions to today’s problems require behavior change that won’t be cured with a shiny toy. Analog methods are still very much relevant. Play is still very much a part of discovery.\\n\\nOther than that, pick a location that is convenient and not to expensive and that is near reasonably priced dining and accommodations and transportation hubs. Find ways to welcome all types of people, like activities that accommodate both introverts and extroverts, healthy food options that address various diets, time during breaks and comfortable hallways to network in, if possible offer a one day or two day pass. ',\n",
       "       nan, nan, 'Do not limit the speakers to your authors', nan, nan,\n",
       "       'Partner with one of several existing conferences.', nan, nan, nan,\n",
       "       nan, 'DO IT!\\n\\n\\n\\n', nan, nan,\n",
       "       'I volunteer to help run a workshop on \"from survival to thrival, how to lighten up and toughen up and fuel yourself and your career.\"\\nAlso make sure to design for difficult business or capitalist approaches that will try to tear you down.\\nTeach people how to narrate business cases for research. Give away a library of qualifications on when research changed the world.',\n",
       "       nan, 'Be Bold\\n;}',\n",
       "       'Find fun ways to let researchers act as researchees in interesting ways. Floating between the two could be fun. Build empathy from both sides.\\n\\nI\\'d also consider bringing in some random topics. Opera. Bookbinding. NASA water systems. I read an article years back about a leading designer who was being asked about how he kept engaged with his craft. He said he studies \"other\" things. He\\'d take ballroom dancing, or read about physics, or any non-subject related topics. Inevitably he\\'d find inspiration in those topics while reflecting on design tasks.  We\\'re creatures of analogy. Setting up learning experiences where we can let individuals connect the dots between seemingly unrelated topics can be exhilarating!  \\n\\nThink Mixed tastes: \\n\\nhttps://mcadenver.org/events/series/mixed-taste-dcpa-2019',\n",
       "       nan,\n",
       "       'Partner with EPIC (maybe). They sell out every year, so maybe you could offer something off-cycle and give them an “overflow” option\\n\\nMake it a remote conference. More people can attend',\n",
       "       nan,\n",
       "       \"don't undervalue talks on imperfect/pragmatic topics. I find a lot of research talks to be hyper-focussed on rigid process, or super indepth academic methods, neither of which I recognize from my day-to-day work, which makes it hard for me to relate to.\",\n",
       "       'Blend industry and academia. Diverse speakers... and organizers',\n",
       "       nan,\n",
       "       \"Quality of venue matters. Not in terms of fanciness but in terms of it being pleasant.\\n\\nQuality of catering matters. It's better to have no food that bad or basic food.\\n\\nDiverse speakers are more interesting that big names.\",\n",
       "       'Perhaps a bit off-topic for what you might be looking for here but having somewhere to sit to eat! A conference last week didn’t have this and it was awkward.\\n\\nI think being inclusive so allowing people to choose stickers with pronouns and having facilities that cater for all.\\n\\n',\n",
       "       'Host a Ted style conference with single track: shorter talks on very specific topic each, exploring research internally (DesignOps), externally (product) and triangulating various findings from different types of research.  I would also like to see workshops specializing in topics like improving your interviewing skills. Or tips for translating insights into product decisions. But that is more for beginners and to attract the right kind of clientele. Professionally, my biggest challenge is selling research within my org. I would love to see specific practical ways to do that with recalcitrant leadership that does not think that they need to do research before they build something.',\n",
       "       nan,\n",
       "       'Host the event somewhere where the weather is comfortable, and in the spring or fall. \\n\\nAlso: why not in Tokyo? ;)',\n",
       "       nan, nan, nan, nan, nan, nan, nan,\n",
       "       'Affordability is nice, but I can understand the costs of running a conference. 1 hour talks are great and a code of conduct and diversity/inclusion as well.',\n",
       "       'Get feedback from others who have run these kinds of events ... Jeff Sauro comes to mind.',\n",
       "       nan, nan, nan, nan, nan, nan, nan, nan, nan, nan, nan, nan,\n",
       "       \"Do consider the financial constraints of research entrepreneurs / small companies / freelancers! Without a fat corporate budget to fund attendance it is a substantial investment that is not always possible. \\n\\nApart from the standard 'early bird discount' consider other ways to subsidize attendance like volunteering. \",\n",
       "       'Tough to say. I would probably want to get involved with a conference that took on some of the massive delusions in the industry today such as over-reliance on tech, the digital delusion, a clear-eyed discussion of the state of online research, the \"big data\" crock, etc. The second largest gorilla in the room is the complete lack of training in our industry. How many people just decided one day to be an ethnographer? Where\\'s the training for how to become more empathetic? How many have really taken a course on storytelling? \\n\\nBut the biggest gorilla is the industry\\'s refusal to come to grips with \"insight.\" To define it, understand how only humans have insights. That you can\\'t \"gather insight.\" How people can become more insightful. To admit that 99.9% of what the \"insight\" industry sells its clients is just more data, sometimes useful knowledge. To admit that developing real insights is incredibly hard work that takes a long time and lots of money! And to realize that since we have commodified data collection the only place to go is to true insights.\\n\\nAnyway. I\\'ve blogged about a lot of this stuff here www.theinsightsguy.com\\n\\nBest of luck!',\n",
       "       'Keep it small and focused', nan,\n",
       "       'I\\'d love to be involved in that, as I\\'m pretty passionate about supporting and growing researchers.  \\n\\nI see a huge number of early-career folks who are struggling to get work in UX research roles, and we need to get them real-world experience (not just the General Assembly courses or an academic degree).  The world will benefit greatly from having more skilled researchers in it, but the current paths we have for gaining experience are fairly limited.  We need to grow more senior researchers and research strategists. We need to grow business acumen and help people gain strategies for dealing with organizations that don\\'t embrace research (or apply the results).  \\n\\nI would LOVE to have a \"Conspiracy\" session - to envision and map out how Research can move from a supportive role to one that drives the direction that companies invest in.  How might we change the power-structure over time (what types of events, people, actions need to be embraced to get us there as a \"field\".  I\\'d love to lead that conversation... :)',\n",
       "       nan, nan, nan,\n",
       "       'Keep it small and focused.  Allow for very interactive participant interactions. Be easy to get to, affordable and with delicious healthy food.  Give enough time for breaks and for participants to network with each other.  Follow-up within one week of the conference with a \"what worked, what didn\\'t work\" evaluation and include suggestions for future conferences.',\n",
       "       'Ensure there is a chance to network outside the conference as it is hard to get a chance to speak to everyone',\n",
       "       'Don’t  limit speakers to corporate types brought in to lure attendees by their name. Encourage an environment where people want to share ideas. An exchange not a speech.',\n",
       "       'do it!', nan, nan, nan,\n",
       "       \"Don't do research only using this survey :)\\n\\nSeriously: think about the possibility of doing a transcontinental event, switching location every year. It could be interesting. \\n\\nDon't focus on practical workshops, they're usually too short to be useful IMHO. Focus on sharing experiences.\\n\\n(and yes, this type of sharing could be done online without and event....)\",\n",
       "       'Code of Conduct.  Mix of speakers (the Usual Suspects + New Voices)',\n",
       "       \"I'd look for diversity in speakers and a code of conduct. I know it's not something I look for when shopping, but it is still important. \",\n",
       "       nan, nan,\n",
       "       'Diversity on all levels, including levels of experience. A code of conduct. Considerations for childcare and rooms for pumping/infant care clearly stated on the event site. A range of options and prices for lodging. If food is served, consideration for all kinds of diets and allergies. Giveaways that are sustainable and usable. I like sxsw and other conferences which allow people to vote on topics or specific talks to help guide the schedule.',\n",
       "       'Think about what sets you apart. Have the wow factor or better yet, the \"mystery\" factor. Did some research recently where the \"mystery\" factor was what got people engaged. Not sure how applicable it is to a research conference but it is something to consider.',\n",
       "       nan, nan, nan,\n",
       "       'Use only industry professionals who actively conduct research. Speak about cutting-edge methods or new applications of traditional methods. Topics such as negotiating with stakeholders, guiding stakeholders toward conducting the research they need instead of what they want, to use this as an apprenticeship of sorts for undergrads, to break down the traditional idea that only phds know how to conduct research (historically applied grad programs give more direction on this than traditional programs that funnel people into a PhD!).',\n",
       "       nan, '-', nan, 'Make it for ux-ers. Not just researchers.', nan,\n",
       "       nan,\n",
       "       'There\\'s a lot of grey area and sensitivity around \"who is a researcher\" just as there is with design, only it\\'s pointed inwards. Researchers with terminal degrees tend to gatekeep on Twitter, and that could make a conference feel toxic. find a way to balance that perspective with accessible talks that make less experienced research practitioners motivated to up-level.',\n",
       "       \"We need to de-silo ourselves. Bring people from different disciplines to comment on how research worked for them too. Also, people from nonprofits and other areas that don't always have full budgets for research that we can do in corporate settings. \",\n",
       "       nan, nan,\n",
       "       'Choose location well. Find speakers who have experience in different industries and backgrounds, not just those looking to promote their personal brand. Pay those speakers!',\n",
       "       \"Make sure your presenters are focused on teaching. Not just sharing their success stories.\\nRecord the sessions. They're great for multitrack situations and they're a nice bonus for the speakers.\",\n",
       "       nan,\n",
       "       'Make it at least two days. Ensure there are a lot of social activities to get people to meet and mingle. Preferably host the conference at a hotel (or encourage all guests to stay in the same place). Conferences that are in the same venue as most people staying are always far more valuable than those where everyone goes their seperate ways.',\n",
       "       \"I think it's a great idea! Get buy in early from some of the research leaders to help guide and promote the event.\",\n",
       "       \"Make it inclusive and accessible.  Find ways to make everyone comfortable.  Establish a code of conduct and don't sway from it- make it safe.  Light snacks and/or refreshments are nice- freely available water if it's long.  \\n\\nFind some compelling big-time speakers but stack them as keynote/plenary, so they don't crowd out the more niche players.  Market the smaller names with specific interesting information.  \\n\\nOne of the best conferences I went to offered some really helpful take-away such as a free professional head shot!  \\n\\nOh and have plenty of clean, accessible bathroom facilities at various spots!  \",\n",
       "       nan, nan,\n",
       "       '\"hypothetically\" ;)\\n\\nGiven your author base, I can easily see Rosenfeld putting together an amazing lineup for a conference.  Your far greater challenge -- as you know, hence this survey -- is carving out your niche. I wish I had better advice about that.\\n\\nI feel that the \"techniques\" side is covered across a range of conferences. I feel like there are less conferences that really focus on the strategic (and possibly ops) side of research. Likewise there might be opportunities around more directly exploring the alchemic process of turning research into action.',\n",
       "       nan, nan, nan, 'Please do it!\\n\\n',\n",
       "       'Have experienced but also inexperienced speakers but mentor them beforehand',\n",
       "       nan, nan,\n",
       "       'Pick a venue that is very easy to get to and is near a lot  of lodging and food options.',\n",
       "       \"Don't let rosenfeld authors / speakers recycle their talks. I don't want to see the same keynote or talk that's been done time and time again. Push the envelope, you're in a good position as thought leaders in literature to run an informative and comprehensive conference on research!\",\n",
       "       'Please host it in/near Philly so I can attend :)', nan, nan, nan,\n",
       "       nan, nan, nan, nan, nan,\n",
       "       'Try to schedule around the end of the year, when headcount is opening for us research leads (of course also avoiding the tricky holiday season). That way we are very excited to send either ourselves or our reports to the conference to both learn and recruit at the same time! :)\\n\\n',\n",
       "       nan,\n",
       "       \"Don't do things like make me choose between 3 amazing talks about the same topic area that are all at the same time. Do have some breaks -- it sucks having to rush from talk to talk all day or sneak out early to get a good seat at the next one. And, of course, have it near me to increase my likelihood of being able to attend (San Francisco, btw).\",\n",
       "       nan, nan, nan, nan, nan,\n",
       "       \"I don't think you need advice!  But, if forced, reach out to top researchers to get their input on topics.  Keep the focus on applications of research.  I haven't been to CHI in many years because it is mostly about pure research. \",\n",
       "       nan, nan,\n",
       "       'Bring in people who help research leaders to help us learn how to best approach building a research practice in a world where delivery transformation has changed the way Research is practiced. Also how to set up the infrastructure to support research in this model.',\n",
       "       nan, nan, nan, 'sorry ran out of time--', nan, nan,\n",
       "       'Include business owners and PMs (our internal customers) to described what worked. \\n\\nNot so much talking to ourselves\\n\\nInclude an experienced research track vs newbs\\n\\n\\n',\n",
       "       nan, nan,\n",
       "       \"Send a free invite? No, seriously just don't censor anything. Don't fall into the identity politics game. Find great research about controversial but relevant topics.\",\n",
       "       nan, nan, nan, nan, nan,\n",
       "       'Go for it. I believe that there is an untapped market for helping people to learn more about and to do good research.',\n",
       "       nan, nan,\n",
       "       '- Make sure at least one of the chairs is a full-time researcher \\n- Encourage advanced-level content submissions.\\n- And please do it! Since UXPA expanded to include UX design, their conference has become a little bit generic. It would be great to have a national conference primarily focused on research again.\\n\\nAlternatively, a retreat or unconference for experienced researchers would be really interesting and valuable.',\n",
       "       nan, nan,\n",
       "       'Multiple locations. Short - no more than a day. Reasonably priced - less than $500.',\n",
       "       nan, nan, nan, nan, 'Do it in LA.', nan,\n",
       "       'Host an event in the midwest! There is a growing tech scene here, specifically in Milwaukee, WI. Many large businesses are making investments in tech and startups here. We have 1,000+ startups. These businesses need to make investments in research if they want to grow and retain customers. ',\n",
       "       nan,\n",
       "       'Really try to get a mix of speakers who are seen as experts and those we haven’t heard from before. And please get a diverse group of people who don’t all work for Fortune 500 companies.',\n",
       "       nan, nan, nan,\n",
       "       'A lot of people do case studies but never really show the impact on the product or service to where you can feel confident that it would be a good method to try. I’d focus on sharing out new methods and interesting results. That’s what can spark ideas for others.',\n",
       "       nan, 'Hold it in Bay Area so my colleagues and I can all go  :)',\n",
       "       nan, 'DO IT!',\n",
       "       'Go for it. I read most a lot of your books and the level is never upsetting. Don’t fall in the trap of sponsoring talks which are mere adds in a talk form and give the micro and freedom to top researchers presenting high-quality content instead. I’d love to attend.',\n",
       "       nan,\n",
       "       'Make it a mix of workshops and talks and try to avoid the tired \"advocate for the user\", \"be empathetic\" user research rallying cries of yore. That stuff is boring and meaningless. Explore research ethics and design justice, informed consent, and what it means to scale user research in organisations and why it\\'s difficult.',\n",
       "       nan, nan, nan,\n",
       "       'How would you be different than the other conferences today like EPIC, UXPA, or Convey?  Can you connect to the local community in the city of the conference (beyond the catering) - opportunities to volunteer, bring local groups in, trips to museums?\\n',\n",
       "       nan, nan,\n",
       "       'Get the mix right of:\\n\\noverviews of trends etc. that people need to be aware of\\npractical advice that you can immediately take away and use\\nworkshops to teach a particular technique or skill\\nthat presenters, if \"teaching\" or demonstrating a technique etc, have a take-away that people can reference as a guide, good supporting material so that the teaching keeps on living',\n",
       "       'Mix of theory and heavy on practical, mixing talk lengths/formats could cover a lot of area and balance those nicely. \\n\\n(hi all!)',\n",
       "       nan, nan,\n",
       "       \"Oh please could we have speakers who've written via Rosenfeld media - you have a wealth of excellent research books!!\",\n",
       "       nan, nan, nan,\n",
       "       'Help to Remind us of how lucky we are that we get to learn from people in order to help them. And if we don’t feel that way to examine why not.',\n",
       "       nan, nan,\n",
       "       \"Let me speak.\\nDon't focus it on people who've written books\\nKeep it small\\nMake it a series\",\n",
       "       \"Don't underestimate the importance of having smooth and high functioning A/V tech ... this seems to get overlooked at a lot of conferences and it can be super disruptive if it fails.\",\n",
       "       'It depends on the focus. Methods are interesting, but the staging of research into organizations is always the key issue on the minds of anyone who wants to be effective',\n",
       "       nan, nan, nan, nan,\n",
       "       'Don’t limit yourself to “conferences” mindset!  Do design thinking/JTBD on what researchers truly want/need.  (You’ll need to ask some different questions than this survey.)',\n",
       "       nan,\n",
       "       'broad range, but relevant speakers\\nfun atmosphere - but not cheesy \\nfun location',\n",
       "       'I tend to gravitate towards conferences that offer a mix of engagement (talks, workshops, etc).\\n\\nI attended the Qualtrics experience summit a couple of years ago and I would describe it as unexpected. There were plenty of talks to attend, but the keynote speakers really caught my attention (Lin Manuel Miranda, Tony Hawk, Alex Honnold, etc). These folks aren\\'t \"industry leaders\", but they were able to talk about subjects that were analogous to the topic of experience. People are at the very core of what I do. While I do like to hear talks from leaders in the research industry, I also want to be inspired by others who are not—people who have great stories of human connection that have nothing to do with \"research\", while still being inspiring to researchers. Anthony Bourdain comes to mind.',\n",
       "       nan,\n",
       "       \"I'd suggest starting on the smaller side rather than a very large conference. Make it grow over time so the people who show up first see accomplishments.\\n\\n\\n\\nDo it in a geographic location that has a lot of researchers.\",\n",
       "       nan, nan, nan, nan, nan,\n",
       "       'Be careful how you navigate how you define research who is a researcher and welcome to attend. While I recognize that I do not have the experience or ability of a (captial-R) Researcher, I am delivering and conducting research – how do we create an event where researchers and those on the periphery of research can learn from each other to diversify our work?',\n",
       "       \"As above. Don't just give the usual motley Crew another platform to perform. Go and find new things and people to excite the industry. I've been to events recently where there were people there from sexy brands like Tesla who had really nothing to say. If only we could clone Steve P!\",\n",
       "       'I would like at the spaces in-between beyond where you tend not to look for ideas and people to speak.',\n",
       "       'A few, very interesting, traditional speeches \\n\\nThe rest should be more experiential.\\n\\nIt could be interesting to have specific workshops about new books.\\n\\nDo it in Europe ;)\\n\\n\\n\\n',\n",
       "       \"Be careful who you invite as speakers. If i see people speaking who i don't respect as leaders in UX research (or are not researchers) then i won't have faith in the conference and likely will not attend.\",\n",
       "       'right speakers, right topic, right format \\nbasically, the conference should count...it should not feel that the info could have been picked up by surfing the web for a few hours or by reading a book.',\n",
       "       nan,\n",
       "       'Leverage the content in your great books, and help us understand how to act on those techniques.',\n",
       "       \"This is too general and not specific enough. I don't want to attend a conference for researchers about research. I want to attend a conference about research challenges where we see the progression. Q/A is simply not enough unless it is an educational talk.  Honestly, I find that research is too separated from the reality of the people, the designers, and the front line teams dealing with it.\",\n",
       "       nan, nan, nan, nan,\n",
       "       'Be rigorous -- there is a lot of hyped opinion out there with no evidence., This would set you apart.',\n",
       "       nan, '-', nan, nan, nan, nan, nan, nan, nan,\n",
       "       'Define the term UX Research/ Service Design for yourself – as groundwork to understand/add  different types/disciplines of research that you use in product/service development.',\n",
       "       nan, 'Do it',\n",
       "       'That people have the chance to ve part of talks and workshops that could be free and streamed',\n",
       "       nan, nan, nan, nan, nan, nan, nan, nan, nan,\n",
       "       \"The two conferences I have attended in the past year have been on the smaller side (250-500 attendees), have been 1 or 2 days, and had built-in networking times with a social hour after. Both of these conferences (UX Burlington and Talk UX) were nicely intimate, and you could eat lunch with the speakers if you were lucky to sit at the same table as them. Lot's of food options for folks with food sensitivities and allergies is always appreciated! Most conferences default to the sandwich/wrap/salad option, but I always say conferences should consider a burrito bar. \",\n",
       "       'Mix different kinds of industry and different kinds of researchers.',\n",
       "       nan,\n",
       "       \"It would be great to have a forum or database of previously asked questions and answers that attendees can refer back to.  There is a barrage of info coming at us and it's a great way to reference back or find other questions that you might not have thought of at the time that someone else might have asked.  Would be nice to be able to add questions post-event as well.\",\n",
       "       nan, nan,\n",
       "       'Speakers who fail in research and then resolve the issue.',\n",
       "       'No platitudes. No hand waving. No cynicism [from the speakers]. Only good solid practical insightful talks. \\n\\nCome to New Zealand? ;-)',\n",
       "       'Do it!',\n",
       "       \"As above, try to have speakers who have practical experience of more 'normal' research rather than the sexier stuff that is sometimes interesting but not quite relevant.\",\n",
       "       nan, nan, nan, nan, nan,\n",
       "       'Find trends about up and coming research sectors, what technologies are in the horizon and how to tackle user research in those new domains.',\n",
       "       \"have plenty of networking opportunities. have a lunch that people can sign up for where they will be on a 'blind networking date' just to get the chance to sit down with another curious mind and trade notes about the industry\",\n",
       "       nan, '/', nan, nan,\n",
       "       \"include research ops as a topic area!\\n\\nmake it in a fun place in North America earlier next year when my company's budget freeze has lifted\",\n",
       "       '-', nan,\n",
       "       'Do another survey on specific research topics people are interested in - or do some other form of research to find this out :)',\n",
       "       nan,\n",
       "       'Less research methods and design thinking and more analysis and implementation\\n\\nCover Long term projects that are complex vs short term one time studies for a client',\n",
       "       nan, nan, nan,\n",
       "       \"Have a good app associated with the conference of it's large! It helps people feel connected and in the know . I usually need some lead time and a compelling agenda if I want to try to get work to pay for me to go to a conference.\",\n",
       "       nan, nan, nan, nan, nan, nan, nan,\n",
       "       'I find cramming in alot of information on a 1 day conference can be overly tiring and overwhelming. I think a 2 day conference is good with a good speak of quality talks over 2 days.',\n",
       "       nan, nan, nan,\n",
       "       \"I guess ask yourselves if the world needs another conference, and if so, how you can include marginalized people that wouldn't normally be able to attend. Not everyone in this industry makes a ton of money or has an employer willing to throw down a couple thousand bucks to send them to these things. And not only that, but how to make those people feel welcome.\",\n",
       "       nan, nan, nan, nan, nan, nan,\n",
       "       'Make it in a format that different profiles are able to attend: from master students to well-know experts.',\n",
       "       'would a roadshow be completely outbid the question? that is, rather than one big conference, small short regional meetings with same headliners but pulling in local experts and companies, maybe more people could afford to go since they wouldn’t be paying for flights and hotels, lmk if i can help in any way',\n",
       "       'Be brave.', nan, nan, nan, nan, nan,\n",
       "       'include a track for practical user research methods',\n",
       "       \"It should have a bunch of practical applications. I'm likely to attend a UXR conference if I feel like it'll help me make meaningful improvements to my existing processes.\",\n",
       "       nan,\n",
       "       'The deeper you go into the subject matter the better. A lot of research literature is either design adjacent or academic. Focusing on a research practitioners day-to-day, someone that is in a software company or an agency or a startup, would be super helpful. Anything that helps me grow my skills and competencies to ultimately be a better researcher.',\n",
       "       nan, nan, nan, nan, nan, nan, nan,\n",
       "       'Pay your speakers and do demand quality from them in return :)',\n",
       "       nan, nan, nan, nan, nan, 'Make it conversational.', nan, nan, nan,\n",
       "       nan, nan, nan, 'Good food..',\n",
       "       'Conference is a solution :) maybe from this research, you will find the needs of researchers can be better fulfilled by a different format (or an innovative format of a conference), so I would keep my mind open. I’m excited and wish you the best! \\n\\nAlso, if you could help facilitate the networking aspect of the conference, not in a directive way, but maybe to start people talking (find someone who... pair people up or something), I would be very grateful. The first steps are always hard for me, before I lose my shyness, so this would help tremendously. ',\n",
       "       nan,\n",
       "       'Just focus on delivering great speakers (new and old) , great topics and great workshops. ',\n",
       "       nan, nan,\n",
       "       'Research in agile, research on a shoestring budget, teaching research to STEM Lords, ',\n",
       "       nan, nan], dtype=object)"
      ]
     },
     "execution_count": 47,
     "metadata": {},
     "output_type": "execute_result"
    }
   ],
   "source": [
    "recommendations_df[recommendations_df.topic_id == 0].text.values"
   ]
  },
  {
   "cell_type": "code",
   "execution_count": 50,
   "metadata": {},
   "outputs": [],
   "source": [
    "recommendations_dict = {0 : 'speaker, industry', 1 : 'event, opportunity', 2 : 'good, know', 3 : 'field, survery', 4:'group, career, city'}"
   ]
  },
  {
   "cell_type": "markdown",
   "metadata": {},
   "source": [
    "# TEST"
   ]
  },
  {
   "cell_type": "code",
   "execution_count": 51,
   "metadata": {},
   "outputs": [
    {
     "data": {
      "text/plain": [
       "0      group, career, city\n",
       "1      group, career, city\n",
       "2      group, career, city\n",
       "3        speaker, industry\n",
       "4        speaker, industry\n",
       "              ...         \n",
       "721             good, know\n",
       "722             good, know\n",
       "723             good, know\n",
       "724    group, career, city\n",
       "725      speaker, industry\n",
       "Name: topic_id, Length: 726, dtype: object"
      ]
     },
     "execution_count": 51,
     "metadata": {},
     "output_type": "execute_result"
    }
   ],
   "source": [
    "recommendations_df.topic_id.map(recommendations_dict)"
   ]
  },
  {
   "cell_type": "code",
   "execution_count": null,
   "metadata": {},
   "outputs": [],
   "source": []
  },
  {
   "cell_type": "code",
   "execution_count": null,
   "metadata": {},
   "outputs": [],
   "source": []
  },
  {
   "cell_type": "code",
   "execution_count": null,
   "metadata": {},
   "outputs": [],
   "source": []
  },
  {
   "cell_type": "code",
   "execution_count": null,
   "metadata": {},
   "outputs": [],
   "source": []
  },
  {
   "cell_type": "code",
   "execution_count": null,
   "metadata": {},
   "outputs": [],
   "source": []
  },
  {
   "cell_type": "code",
   "execution_count": 9,
   "metadata": {},
   "outputs": [],
   "source": [
    "import pyLDAvis\n",
    "import pyLDAvis.sklearn\n",
    "pyLDAvis.enable_notebook()\n",
    "\n",
    "import warnings\n",
    "warnings.filterwarnings(\"ignore\")"
   ]
  },
  {
   "cell_type": "code",
   "execution_count": 90,
   "metadata": {},
   "outputs": [
    {
     "data": {
      "text/plain": [
       "LatentDirichletAllocation(batch_size=128, doc_topic_prior=None,\n",
       "                          evaluate_every=-1, learning_decay=0.7,\n",
       "                          learning_method='batch', learning_offset=10.0,\n",
       "                          max_doc_update_iter=100, max_iter=10,\n",
       "                          mean_change_tol=0.001, n_components=12, n_jobs=None,\n",
       "                          perp_tol=0.1, random_state=42, topic_word_prior=None,\n",
       "                          total_samples=1000000.0, verbose=0)"
      ]
     },
     "execution_count": 90,
     "metadata": {},
     "output_type": "execute_result"
    }
   ],
   "source": [
    "types_res_used = df.types_res_used.astype('str')\n",
    "types_res_used = types_res_used.fillna('nan')\n",
    "types_res_used = types_res_used.apply(nlp.basic_clean)\n",
    "types_res_used = types_res_used.apply(nlp.lemmatize)\n",
    "\n",
    "types_res_used_matrix, types_res_used_vector = nlp.create_wordcount_matrix(types_res_used, ngram=(1,3), max_df=.3, stop_words=stopWords)\n",
    "types_res_used_matrix, types_res_used_vector\n",
    "\n",
    "lda6 = LatentDirichletAllocation(n_components= 12, random_state = 42)\n",
    "\n",
    "lda6.fit(types_res_used_matrix)"
   ]
  },
  {
   "cell_type": "code",
   "execution_count": 91,
   "metadata": {},
   "outputs": [
    {
     "data": {
      "text/html": [
       "\n",
       "<link rel=\"stylesheet\" type=\"text/css\" href=\"https://cdn.rawgit.com/bmabey/pyLDAvis/files/ldavis.v1.0.0.css\">\n",
       "\n",
       "\n",
       "<div id=\"ldavis_el351921122812704564534655860\"></div>\n",
       "<script type=\"text/javascript\">\n",
       "\n",
       "var ldavis_el351921122812704564534655860_data = {\"mdsDat\": {\"x\": [0.20758851559239774, 0.03218374046896483, 0.0050431063426073265, -0.14023895685125679, 0.09896928247974499, 0.11257319095219574, -0.1314612781929108, -0.15886775204663153, 0.023565815353348726, 0.068782684964846, -0.09864443013553469, -0.019493918927770776], \"y\": [0.052359589743615195, 0.020413051528314123, 0.10684833459043533, 0.06420880368091013, 0.039094854162139626, 0.03709112942727395, -0.004226288236455667, 0.005553152466189866, -0.2975974914500019, -0.029959080416476012, 0.02000738740518837, -0.013793442901133376], \"topics\": [1, 2, 3, 4, 5, 6, 7, 8, 9, 10, 11, 12], \"cluster\": [1, 1, 1, 1, 1, 1, 1, 1, 1, 1, 1, 1], \"Freq\": [13.676677886565061, 11.290720810688796, 10.889830781973716, 10.505808012054487, 9.862213149298281, 8.87832427970359, 8.045328082149183, 6.904929290964946, 6.569152810590364, 6.351637578823696, 3.8229533713411006, 3.2024239458467845]}, \"tinfo\": {\"Category\": [\"Default\", \"Default\", \"Default\", \"Default\", \"Default\", \"Default\", \"Default\", \"Default\", \"Default\", \"Default\", \"Default\", \"Default\", \"Default\", \"Default\", \"Default\", \"Default\", \"Default\", \"Default\", \"Default\", \"Default\", \"Default\", \"Default\", \"Default\", \"Default\", \"Default\", \"Default\", \"Default\", \"Default\", \"Default\", \"Default\", \"Topic1\", \"Topic1\", \"Topic1\", \"Topic1\", \"Topic1\", \"Topic1\", \"Topic1\", \"Topic1\", \"Topic1\", \"Topic1\", \"Topic1\", \"Topic1\", \"Topic1\", \"Topic1\", \"Topic1\", \"Topic1\", \"Topic1\", \"Topic1\", \"Topic1\", \"Topic1\", \"Topic1\", \"Topic1\", \"Topic1\", \"Topic1\", \"Topic1\", \"Topic1\", \"Topic1\", \"Topic1\", \"Topic1\", \"Topic1\", \"Topic1\", \"Topic1\", \"Topic1\", \"Topic1\", \"Topic1\", \"Topic1\", \"Topic1\", \"Topic1\", \"Topic1\", \"Topic1\", \"Topic1\", \"Topic1\", \"Topic1\", \"Topic1\", \"Topic1\", \"Topic1\", \"Topic1\", \"Topic1\", \"Topic1\", \"Topic1\", \"Topic1\", \"Topic1\", \"Topic1\", \"Topic1\", \"Topic1\", \"Topic1\", \"Topic1\", \"Topic1\", \"Topic1\", \"Topic1\", \"Topic1\", \"Topic1\", \"Topic1\", \"Topic2\", \"Topic2\", \"Topic2\", \"Topic2\", \"Topic2\", \"Topic2\", \"Topic2\", \"Topic2\", \"Topic2\", \"Topic2\", \"Topic2\", \"Topic2\", \"Topic2\", \"Topic2\", \"Topic2\", \"Topic2\", \"Topic2\", \"Topic2\", \"Topic2\", \"Topic2\", \"Topic2\", \"Topic2\", \"Topic2\", \"Topic2\", \"Topic2\", \"Topic2\", \"Topic2\", \"Topic2\", \"Topic2\", \"Topic2\", \"Topic2\", \"Topic2\", \"Topic2\", \"Topic2\", \"Topic2\", \"Topic2\", \"Topic2\", \"Topic2\", \"Topic2\", \"Topic2\", \"Topic2\", \"Topic2\", \"Topic2\", \"Topic2\", \"Topic2\", \"Topic2\", \"Topic2\", \"Topic2\", \"Topic2\", \"Topic2\", \"Topic2\", \"Topic2\", \"Topic2\", \"Topic2\", \"Topic2\", \"Topic2\", \"Topic2\", \"Topic2\", \"Topic2\", \"Topic2\", \"Topic2\", \"Topic2\", \"Topic2\", \"Topic2\", \"Topic2\", \"Topic2\", \"Topic2\", \"Topic2\", \"Topic2\", \"Topic2\", \"Topic2\", \"Topic3\", \"Topic3\", \"Topic3\", \"Topic3\", \"Topic3\", \"Topic3\", \"Topic3\", \"Topic3\", \"Topic3\", \"Topic3\", \"Topic3\", \"Topic3\", \"Topic3\", \"Topic3\", \"Topic3\", \"Topic3\", \"Topic3\", \"Topic3\", \"Topic3\", \"Topic3\", \"Topic3\", \"Topic3\", \"Topic3\", \"Topic3\", \"Topic3\", \"Topic3\", \"Topic3\", \"Topic3\", \"Topic3\", \"Topic3\", \"Topic3\", \"Topic3\", \"Topic3\", \"Topic3\", \"Topic3\", \"Topic3\", \"Topic3\", \"Topic3\", \"Topic3\", \"Topic3\", \"Topic3\", \"Topic3\", \"Topic3\", \"Topic3\", \"Topic3\", \"Topic3\", \"Topic3\", \"Topic3\", \"Topic3\", \"Topic3\", \"Topic3\", \"Topic3\", \"Topic3\", \"Topic3\", \"Topic3\", \"Topic3\", \"Topic3\", \"Topic3\", \"Topic3\", \"Topic3\", \"Topic3\", \"Topic3\", \"Topic3\", \"Topic3\", \"Topic3\", \"Topic3\", \"Topic3\", \"Topic3\", \"Topic3\", \"Topic4\", \"Topic4\", \"Topic4\", \"Topic4\", \"Topic4\", \"Topic4\", \"Topic4\", \"Topic4\", \"Topic4\", \"Topic4\", \"Topic4\", \"Topic4\", \"Topic4\", \"Topic4\", \"Topic4\", \"Topic4\", \"Topic4\", \"Topic4\", \"Topic4\", \"Topic4\", \"Topic4\", \"Topic4\", \"Topic4\", \"Topic4\", \"Topic4\", \"Topic4\", \"Topic4\", \"Topic4\", \"Topic4\", \"Topic4\", \"Topic4\", \"Topic4\", \"Topic4\", \"Topic4\", \"Topic4\", \"Topic4\", \"Topic4\", \"Topic4\", \"Topic4\", \"Topic4\", \"Topic4\", \"Topic4\", \"Topic4\", \"Topic4\", \"Topic4\", \"Topic4\", \"Topic4\", \"Topic4\", \"Topic4\", \"Topic4\", \"Topic4\", \"Topic4\", \"Topic4\", \"Topic4\", \"Topic4\", \"Topic4\", \"Topic4\", \"Topic4\", \"Topic4\", \"Topic4\", \"Topic4\", \"Topic4\", \"Topic4\", \"Topic4\", \"Topic4\", \"Topic4\", \"Topic5\", \"Topic5\", \"Topic5\", \"Topic5\", \"Topic5\", \"Topic5\", \"Topic5\", \"Topic5\", \"Topic5\", \"Topic5\", \"Topic5\", \"Topic5\", \"Topic5\", \"Topic5\", \"Topic5\", \"Topic5\", \"Topic5\", \"Topic5\", \"Topic5\", \"Topic5\", \"Topic5\", \"Topic5\", \"Topic5\", \"Topic5\", \"Topic5\", \"Topic5\", \"Topic5\", \"Topic5\", \"Topic5\", \"Topic5\", \"Topic5\", \"Topic5\", \"Topic5\", \"Topic5\", \"Topic5\", \"Topic5\", \"Topic5\", \"Topic5\", \"Topic5\", \"Topic5\", \"Topic5\", \"Topic5\", \"Topic5\", \"Topic5\", \"Topic5\", \"Topic5\", \"Topic5\", \"Topic5\", \"Topic5\", \"Topic5\", \"Topic5\", \"Topic5\", \"Topic5\", \"Topic5\", \"Topic5\", \"Topic5\", \"Topic5\", \"Topic5\", \"Topic6\", \"Topic6\", \"Topic6\", \"Topic6\", \"Topic6\", \"Topic6\", \"Topic6\", \"Topic6\", \"Topic6\", \"Topic6\", \"Topic6\", \"Topic6\", \"Topic6\", \"Topic6\", \"Topic6\", \"Topic6\", \"Topic6\", \"Topic6\", \"Topic6\", \"Topic6\", \"Topic6\", \"Topic6\", \"Topic6\", \"Topic6\", \"Topic6\", \"Topic6\", \"Topic6\", \"Topic6\", \"Topic6\", \"Topic6\", \"Topic6\", \"Topic6\", \"Topic6\", \"Topic6\", \"Topic6\", \"Topic6\", \"Topic6\", \"Topic6\", \"Topic6\", \"Topic6\", \"Topic6\", \"Topic6\", \"Topic6\", \"Topic6\", \"Topic6\", \"Topic6\", \"Topic6\", \"Topic6\", \"Topic6\", \"Topic6\", \"Topic6\", \"Topic6\", \"Topic6\", \"Topic6\", \"Topic6\", \"Topic6\", \"Topic6\", \"Topic6\", \"Topic6\", \"Topic6\", \"Topic6\", \"Topic6\", \"Topic6\", \"Topic7\", \"Topic7\", \"Topic7\", \"Topic7\", \"Topic7\", \"Topic7\", \"Topic7\", \"Topic7\", \"Topic7\", \"Topic7\", \"Topic7\", \"Topic7\", \"Topic7\", \"Topic7\", \"Topic7\", \"Topic7\", \"Topic7\", \"Topic7\", \"Topic7\", \"Topic7\", \"Topic7\", \"Topic7\", \"Topic7\", \"Topic7\", \"Topic7\", \"Topic7\", \"Topic7\", \"Topic7\", \"Topic7\", \"Topic7\", \"Topic7\", \"Topic7\", \"Topic7\", \"Topic7\", \"Topic7\", \"Topic7\", \"Topic7\", \"Topic7\", \"Topic7\", \"Topic7\", \"Topic7\", \"Topic7\", \"Topic7\", \"Topic7\", \"Topic7\", \"Topic7\", \"Topic7\", \"Topic7\", \"Topic7\", \"Topic7\", \"Topic7\", \"Topic7\", \"Topic7\", \"Topic7\", \"Topic7\", \"Topic8\", \"Topic8\", \"Topic8\", \"Topic8\", \"Topic8\", \"Topic8\", \"Topic8\", \"Topic8\", \"Topic8\", \"Topic8\", \"Topic8\", \"Topic8\", \"Topic8\", \"Topic8\", \"Topic8\", \"Topic8\", \"Topic8\", \"Topic8\", \"Topic8\", \"Topic8\", \"Topic8\", \"Topic8\", \"Topic8\", \"Topic8\", \"Topic8\", \"Topic8\", \"Topic8\", \"Topic8\", \"Topic8\", \"Topic8\", \"Topic8\", \"Topic8\", \"Topic8\", \"Topic8\", \"Topic8\", \"Topic8\", \"Topic8\", \"Topic8\", \"Topic8\", \"Topic8\", \"Topic8\", \"Topic8\", \"Topic8\", \"Topic8\", \"Topic8\", \"Topic8\", \"Topic8\", \"Topic8\", \"Topic8\", \"Topic8\", \"Topic8\", \"Topic8\", \"Topic8\", \"Topic8\", \"Topic9\", \"Topic9\", \"Topic9\", \"Topic9\", \"Topic9\", \"Topic9\", \"Topic9\", \"Topic9\", \"Topic9\", \"Topic9\", \"Topic9\", \"Topic9\", \"Topic9\", \"Topic9\", \"Topic9\", \"Topic9\", \"Topic9\", \"Topic9\", \"Topic9\", \"Topic9\", \"Topic9\", \"Topic9\", \"Topic9\", \"Topic9\", \"Topic9\", \"Topic9\", \"Topic9\", \"Topic9\", \"Topic9\", \"Topic9\", \"Topic9\", \"Topic9\", \"Topic9\", \"Topic9\", \"Topic9\", \"Topic9\", \"Topic9\", \"Topic9\", \"Topic9\", \"Topic9\", \"Topic9\", \"Topic9\", \"Topic9\", \"Topic9\", \"Topic9\", \"Topic10\", \"Topic10\", \"Topic10\", \"Topic10\", \"Topic10\", \"Topic10\", \"Topic10\", \"Topic10\", \"Topic10\", \"Topic10\", \"Topic10\", \"Topic10\", \"Topic10\", \"Topic10\", \"Topic10\", \"Topic10\", \"Topic10\", \"Topic10\", \"Topic10\", \"Topic10\", \"Topic10\", \"Topic10\", \"Topic10\", \"Topic10\", \"Topic10\", \"Topic10\", \"Topic10\", \"Topic10\", \"Topic10\", \"Topic10\", \"Topic10\", \"Topic10\", \"Topic10\", \"Topic10\", \"Topic10\", \"Topic10\", \"Topic10\", \"Topic10\", \"Topic10\", \"Topic10\", \"Topic10\", \"Topic10\", \"Topic10\", \"Topic10\", \"Topic10\", \"Topic10\", \"Topic10\", \"Topic10\", \"Topic10\", \"Topic10\", \"Topic10\", \"Topic10\", \"Topic10\", \"Topic10\", \"Topic10\", \"Topic10\", \"Topic10\", \"Topic10\", \"Topic10\", \"Topic11\", \"Topic11\", \"Topic11\", \"Topic11\", \"Topic11\", \"Topic11\", \"Topic11\", \"Topic11\", \"Topic11\", \"Topic11\", \"Topic11\", \"Topic11\", \"Topic11\", \"Topic11\", \"Topic11\", \"Topic11\", \"Topic11\", \"Topic11\", \"Topic11\", \"Topic11\", \"Topic11\", \"Topic11\", \"Topic11\", \"Topic11\", \"Topic11\", \"Topic11\", \"Topic11\", \"Topic11\", \"Topic11\", \"Topic11\", \"Topic11\", \"Topic11\", \"Topic11\", \"Topic11\", \"Topic11\", \"Topic11\", \"Topic11\", \"Topic11\", \"Topic11\", \"Topic11\", \"Topic11\", \"Topic11\", \"Topic11\", \"Topic11\", \"Topic11\", \"Topic11\", \"Topic11\", \"Topic11\", \"Topic11\", \"Topic11\", \"Topic11\", \"Topic11\", \"Topic11\", \"Topic11\", \"Topic11\", \"Topic11\", \"Topic11\", \"Topic11\", \"Topic11\", \"Topic11\", \"Topic12\", \"Topic12\", \"Topic12\", \"Topic12\", \"Topic12\", \"Topic12\", \"Topic12\", \"Topic12\", \"Topic12\", \"Topic12\", \"Topic12\", \"Topic12\", \"Topic12\", \"Topic12\", \"Topic12\", \"Topic12\", \"Topic12\", \"Topic12\", \"Topic12\", \"Topic12\", \"Topic12\", \"Topic12\", \"Topic12\", \"Topic12\", \"Topic12\", \"Topic12\", \"Topic12\", \"Topic12\", \"Topic12\", \"Topic12\", \"Topic12\", \"Topic12\", \"Topic12\", \"Topic12\", \"Topic12\", \"Topic12\", \"Topic12\", \"Topic12\", \"Topic12\", \"Topic12\", \"Topic12\", \"Topic12\", \"Topic12\", \"Topic12\", \"Topic12\"], \"Freq\": [144.0, 48.0, 44.0, 48.0, 40.0, 39.0, 75.0, 41.0, 34.0, 140.0, 62.0, 27.0, 84.0, 36.0, 47.0, 35.0, 46.0, 19.0, 20.0, 76.0, 27.0, 39.0, 28.0, 45.0, 60.0, 44.0, 26.0, 51.0, 34.0, 26.0, 10.015996982813569, 6.401201797238846, 4.593796989431192, 3.6901038021389057, 3.6900974347604225, 3.688622635512996, 3.688622635512996, 16.15231283809496, 2.786405146558086, 2.786403215721499, 2.7864020727725065, 2.7864020727725065, 2.78638957415508, 2.7438765175503343, 19.821062503744564, 19.821062226990538, 8.465954423465979, 1.8827070546335352, 1.8827070546313993, 1.8827070546313993, 1.882706786145645, 1.8827062433898065, 1.8827057633110125, 1.8827055612026489, 1.8827054628896098, 1.8827054441105955, 1.8827048865758147, 1.8827047699787465, 1.8827047699787465, 1.8827041416761523, 18.604627069498182, 3.690105713090742, 3.690104450307718, 8.172642420740406, 3.6425377103155094, 5.296783251538833, 35.250601499754524, 11.374048819215645, 15.241201922519048, 6.024510009414664, 15.567116934711782, 15.314567383961032, 17.93238601531037, 26.705652147482844, 15.233769026157825, 17.914449401200017, 17.03310196703486, 15.770907429117583, 34.57454713974972, 6.6703173533015745, 26.256545240332354, 8.642206950846832, 14.127710103513932, 15.369539084419944, 7.067651496420574, 9.747765474434921, 12.166256233583763, 6.930709539802699, 8.668327847328687, 11.55775346585819, 7.817773962796453, 7.9013707860747395, 7.555745243121925, 5.367602063870181, 3.6029108609319764, 3.6029089470878954, 3.602908438054081, 6.175513049603268, 2.7205667620495704, 2.7205657452209038, 2.720565586834427, 2.7205645952447783, 2.7205645952447783, 2.7205645952447783, 2.72055531112734, 1.838220785185118, 1.8382207851842902, 1.8382207851808545, 1.8382207851808545, 1.8382207851721855, 1.8382207851304, 1.8382207851304, 1.8382201192547212, 1.838220142148392, 1.838220064652809, 1.8382193798194064, 1.8382193798045887, 1.8382191416900813, 1.838219096368555, 1.838219096368555, 1.8382186592895065, 1.8382184609812695, 1.8382184609812695, 1.8382184609812695, 1.8382184609812695, 3.6029104975311887, 1.8382184609812695, 7.6750912412679355, 17.628374076976627, 11.308228119189204, 3.6029101238481562, 3.602914031906146, 2.7205648883832367, 2.720560075618406, 38.583519206148715, 18.0570357734496, 2.7205600169181965, 2.7205468930520516, 2.7205664775983442, 6.863797104914756, 5.01832352050664, 2.6575276165205732, 20.80789621675418, 5.204572780996813, 4.48525785727312, 10.25049062707206, 5.367594848634186, 13.682004468117189, 19.724066496906627, 10.157628933239664, 17.89413540107749, 8.327523151553827, 7.303088123559022, 7.157792023802116, 5.4987682275577265, 5.498767820210754, 5.969659840283153, 5.670857631182037, 6.160522113658328, 6.165404280415977, 5.157570116294346, 6.209476568183269, 6.207334831797979, 5.890619583876351, 4.489119503258822, 4.489118925274662, 3.6060141711470974, 6.255332834823118, 2.722912206607397, 2.722900459473474, 2.722895795485422, 1.8398055450010347, 1.8398055450010347, 1.8398055449951753, 1.839805544993445, 1.8398055449815935, 1.839805544978553, 1.8398047691474988, 1.839804229158028, 1.8398041459877632, 1.8398039114211193, 1.8398038071549994, 1.8398034022328065, 1.839803122362424, 1.839802740009756, 1.8398019467685105, 1.839801946735271, 1.8398016637544967, 1.8398013516307539, 1.8398013516307539, 1.8398010276567673, 1.8398010276567673, 1.8398002481151114, 1.8398002078798377, 8.021551343357018, 3.606013490030007, 4.745117538820837, 22.252616732085137, 5.80668120342359, 26.80626034444965, 4.489125193702666, 3.6060124504110243, 4.263236064086677, 16.384215654432502, 9.232280620762145, 24.059939621898838, 2.722911018143068, 2.7229080849403804, 15.465793463169762, 2.7229128833211154, 2.7229128833211154, 3.4640988779947586, 23.707577328365826, 9.465220864195217, 6.1300451256375945, 4.7894954334831965, 10.074094929918312, 13.780339479105647, 3.6060185706252494, 3.6060178603747652, 3.5679406381590084, 13.753128529181447, 7.578535991508633, 17.08408221250738, 10.268938137114603, 7.040310329798428, 7.471530312086435, 11.56133291393165, 9.705228938206535, 8.36585020250558, 4.834761295985886, 5.1910099399372225, 4.707068091472641, 7.03160563063484, 6.973030772131834, 6.093831384264047, 2.682160099539573, 2.682160099539573, 2.682156849560127, 3.3064042337732333, 6.871694415343026, 5.672001772239229, 1.8122704910679315, 1.8122704910502383, 1.8122691244685674, 1.8122690731130544, 1.8122690731130544, 1.812268545863319, 1.8122685072868157, 1.8122680503920527, 1.8122680019030644, 1.812267693137374, 1.812267693137374, 1.812266745039604, 1.8122666568691221, 1.8122666059694568, 1.8122662538020597, 1.812264770356288, 1.8122575005770742, 1.8122575005770742, 1.8122575005770742, 1.8122458775897545, 1.8122322395281316, 19.827541026273295, 18.776561459769194, 3.5518813820593165, 88.75429718257467, 3.552048813124939, 40.656459873450885, 6.883996557070637, 7.542577159716098, 5.703111709514913, 3.2812276017761866, 5.291827450899049, 3.552053230373343, 2.6821599223486854, 2.6821568791963313, 2.682147298763629, 2.6821581279422593, 4.4043117140222945, 2.260850040694101, 6.200327431508895, 8.845145877145564, 2.998789901888941, 5.762480781549848, 5.224492837538509, 14.19276721655797, 10.874211524928207, 12.768273280991524, 6.6393387470458025, 10.25399128964131, 14.309665832658776, 15.811087016879467, 6.866204040694898, 13.342688648894606, 5.065529136351077, 4.7807478048580885, 5.878581861998806, 4.979808650403175, 19.994253996308682, 37.66626975860035, 5.26923410316592, 4.328599188797308, 3.5368884994836374, 2.6707125131238887, 2.6707123469333642, 2.670710756321455, 2.6707017035922958, 5.9483040369762445, 11.272500582426394, 4.403063916125984, 4.934443910746036, 1.804536020320396, 1.804536020320396, 1.8045355345342624, 1.8045355345342624, 1.8045355345342624, 1.804535135346249, 1.8045339188953036, 1.8045330955303942, 1.804531764270843, 1.8045312340481645, 1.8045296302257219, 1.8045291610767915, 1.8045203035177775, 1.8045190804462614, 1.804518391077783, 32.65806462875137, 4.403063348548081, 8.316150389582077, 8.316150153640093, 7.867778845830014, 4.16555737189291, 9.772296261065206, 11.553034398915967, 8.450761332519145, 10.161737550516726, 10.906846020088588, 3.986877594764752, 5.765696064627164, 5.080036683770168, 5.170302436408925, 3.494027124248626, 16.235358539319844, 15.498336565683484, 10.996263646959274, 9.01839273159602, 10.21213971015901, 6.370288924323389, 6.7063594684172285, 6.700450673074198, 6.763394507308544, 6.498754288821616, 6.432630699860589, 6.215264855427941, 5.875541825979845, 5.891499344891743, 4.4052912424432895, 3.538673476650566, 3.5386721122997686, 3.5386601844884096, 3.5386601844884096, 2.6720623124020095, 2.67206124665276, 2.6720577065270557, 1.8054483831068167, 1.8054483831068167, 1.805448383047981, 1.8054481291089488, 1.8054480546515912, 1.8054480546515912, 1.8054471146390654, 1.8054471146390654, 1.8054470697959804, 1.8054470697959804, 1.80544678513963, 1.805446753127938, 1.8054464341826721, 1.805445509116285, 1.805445509116285, 1.805445509116285, 1.8054451208205131, 1.8054451208205131, 1.805445022530545, 1.8054434313691048, 1.8054434313691048, 1.8054434313496668, 3.5386754810802374, 5.26272402478819, 3.5386807087244616, 6.941763281976453, 19.80396589876113, 18.91480940642231, 5.27190634013167, 5.271906340131668, 5.508242527722282, 2.672062775235877, 2.672064945748278, 2.672063754052994, 18.187285521128892, 8.471377542461266, 5.217116374004775, 11.501261968927556, 10.164083880124904, 4.67669959997226, 8.461779540301519, 14.287465997684494, 18.972429406944737, 7.882288551111316, 8.252811734406302, 6.603744232741987, 7.534634763872235, 7.582003430109655, 8.171324197675942, 5.133833039640849, 4.351025675290704, 5.072728378442271, 4.399964532973075, 3.845972539834246, 3.73363567286542, 40.121717363257495, 18.825394317503722, 36.59310754957551, 8.911801010050969, 5.185865139201606, 5.126201133362758, 4.277823558117317, 3.48092140358173, 7.654167312367079, 2.62845423932297, 2.628451912103168, 2.628450035130045, 2.62844898489634, 2.6085274725192185, 4.800218784600336, 1.7759825941440122, 1.7759825941238936, 1.775982594078092, 1.7759819738740104, 1.7759817697820257, 1.7759817697820257, 1.7759810526762734, 1.7759809466979053, 1.7759809186216056, 1.7759807337236428, 1.7759789276757192, 1.7759783491401935, 1.7759783533238942, 1.7759760468159702, 1.7759760560178763, 10.122607160278811, 5.06252180097431, 10.009592473966265, 5.185864318104274, 7.124975029635108, 2.628455400890247, 15.46281923784666, 22.375925743840536, 5.5070692466780615, 5.716107163973177, 4.819771789611451, 7.785564262779259, 3.206962980341708, 5.8746883824687615, 2.4486622667823594, 10.851991940917936, 5.5121806113766, 6.776974197431335, 5.270024095297917, 5.615513274213439, 4.33340042469134, 3.394407823671774, 3.90551764576442, 4.069819094981391, 3.6023771570486063, 7.6268062095593905, 6.787157985075501, 24.816607089355188, 5.947508064286321, 30.368219759862036, 4.26821119735363, 4.26821015718071, 4.26821015718071, 9.272895692233572, 5.080759884740635, 4.22768617512989, 1.7492678054810487, 1.7492672186483582, 1.7492671284443113, 1.749266598791208, 1.749266598791208, 1.7492665611896252, 1.7492665051165828, 1.7492658748398213, 1.7492658748398213, 1.7492657826005036, 1.7492646688323659, 1.7492646688323659, 1.7492646688323659, 1.7492645784403533, 1.7492637117196084, 1.7492591958218093, 1.7492566389307744, 1.7492566389307744, 1.749253499581132, 8.466459511457415, 11.756201519328659, 13.903160424195843, 2.5889095402849844, 2.54350956930477, 28.13106078563561, 4.268212557254509, 3.3504435241560304, 5.355014441501387, 10.711264385342343, 2.5889192947703705, 10.064059627242699, 5.432287528167702, 2.8310414504539483, 3.583705077112872, 3.1787763451653186, 9.927524448884936, 2.355975248071863, 4.775879535395832, 4.051145337915755, 7.127622217280729, 3.3869013653323075, 2.9709082795392363, 3.0598754506215795, 11.336514599463975, 11.336514599463973, 41.00414783114308, 42.64479696479955, 5.2711167327935815, 5.2711167327935815, 4.404632093708408, 4.404631775834893, 3.538146751115795, 3.538146751115795, 39.11195235593898, 3.3826779025394735, 3.3826779025394735, 2.6716561142992536, 7.870580767674014, 4.40463392402628, 1.8051770377202998, 1.8051770377202998, 1.8051765082783027, 1.805176141273723, 1.8051760938572419, 1.8051760938572419, 1.8051758802566626, 1.8051757197410958, 1.8051754655345915, 1.805174546407951, 1.805157100532992, 1.8051557422451885, 3.5381446686455607, 3.538148202391292, 6.229146043335772, 5.180089427625319, 3.9363328251115273, 5.233624157752922, 5.276074175562616, 3.811330609606206, 4.606946624237475, 8.854278912671102, 6.726806626056585, 2.4500880588454415, 4.087985243108766, 4.195150164409517, 4.238314487129184, 4.78142176886103, 4.378512111626081, 5.540147378331912, 5.540147351735116, 6.849986186848802, 2.629412285184577, 2.629412285184577, 2.6294120179625464, 2.629411905349351, 2.629411905349351, 2.6294115078852673, 2.6294111366859942, 2.629405810166301, 2.62940293094108, 1.77663053605489, 1.7766300605035243, 1.7766296832202144, 1.7766296593299908, 1.7766293722951791, 1.7766293722951791, 1.7766293722951791, 1.77662927340331, 1.7766291087439194, 1.7766286099829414, 1.7766286099829414, 1.7766281913909472, 1.7766281913909472, 1.7766278117639416, 1.7766275876964281, 1.7766274417781265, 1.7766275474064668, 1.7766195150910946, 6.893332907252927, 6.893333955573664, 10.844511858941086, 2.629413318427444, 2.6294064044518946, 6.025463167836755, 8.400434108897125, 4.26176491829277, 4.3111927168038005, 8.093410204431143, 12.47268639819119, 3.4821962207114474, 13.483360120520386, 3.0653341088662387, 3.430924107084786, 3.482138683240796, 6.533612666157073, 2.6294110860615745, 3.3551885742039604, 5.176687041472305, 4.491202964173695, 4.573742665899046, 3.150915165998751, 3.11611043470847, 3.0843511954639498, 3.009981177195585, 3.0868149124583346, 3.03702470928297, 2.6294152849129597, 1.663462898832283, 1.663462579865, 1.6634624099961663, 1.6634624099961663, 1.663460004145784, 1.6634566711516856, 1.6634456591013107, 3.260389689236883, 6.157162242803399, 2.4619305190867533, 1.6104811623112016, 5.377885929332106, 1.6634570626801402, 0.8650005819572458, 2.340012099979888, 0.8650014088551249, 4.387346034105527, 0.8650011392014186, 0.8650000106918979, 0.865000956281798, 0.8650007447592014, 0.8650007447592014, 0.8650002205103763, 0.8650008104024469, 0.8650008104024469, 0.8649999733524028, 0.8649999733524028, 0.8650010581374302, 0.8650010581374302, 0.8650012228034669, 2.32631471620347, 2.4390422172797876, 1.663463970552834, 1.6634606128244502, 2.4128530930616576, 2.461933032995266, 5.588716493170291, 1.6634643547895727, 1.663465937253523, 1.663462612148739, 2.094387710811354, 9.809520458691951, 2.032548815755185, 1.66346509076039, 12.422736943419466, 2.786104566048371, 3.8880334700265293, 5.026817441324169, 3.922661488552597, 4.112922501833567, 2.154447671060365, 2.5906257774859154, 2.0388016396634865, 1.810244528653786, 1.9339067000949466, 1.8094228090679843, 1.8695186578454566, 1.7710157099772819, 1.7517128442069017, 1.6801915687503866, 2.408526104245007, 2.40852567157148, 3.9310595267501096, 3.9310595266579043, 1.6273826679384673, 1.627382160938273, 1.6273819973390522, 1.6273819415567066, 1.6273815738653359, 1.6273815738653359, 1.6273815738653359, 1.627381381304783, 1.6273791643604996, 1.6273752637390018, 1.627375130486713, 1.6273709570762414, 1.627360700808344, 3.0364422974584175, 2.408526564100133, 1.4319808851858966, 1.6273812204223885, 1.6273826507574274, 1.6273707882006296, 2.408529188856471, 2.933734587947282, 5.330023868235535, 2.40852983140303, 2.4085259143388393, 1.6273837090882772, 1.6273908955201157, 10.021099450045755, 4.377298759793445, 8.192835289157573, 3.18968177219351, 2.9590333802300615, 2.372142427721016, 3.3807644834170247, 2.8055988956267655, 2.036136185000839, 2.2709135029046554, 1.759872425443872, 1.6845117958980402, 1.686537168701284, 1.6273852910426974, 1.6273845643537248], \"Term\": [\"qualitative\", \"focus\", \"focus group\", \"group\", \"generative\", \"evaluative\", \"quantitative\", \"qual\", \"market\", \"user\", \"card\", \"market research\", \"test\", \"sort\", \"quant\", \"card sort\", \"design\", \"generative evaluative\", \"qual quant\", \"contextual\", \"qualitative quantitative\", \"moderated\", \"qualitative research\", \"inquiry\", \"remote\", \"contextual inquiry\", \"ux\", \"method\", \"user research\", \"card sorting\", \"tree testing\", \"interview card sorting\", \"usability test interview\", \"tree testing card\", \"survey card sorting\", \"sorting tree\", \"card sorting tree\", \"usability testing survey\", \"ethno\", \"testing card sort\", \"study diary study\", \"study diary\", \"observation usability testing\", \"sorting tree testing\", \"sorting\", \"card sorting\", \"interview card\", \"study discovery\", \"heuristic evals\", \"evals\", \"diary study usability\", \"discovery workshop\", \"testing quant survey\", \"proxy\", \"concept testing diary\", \"depth interview diary\", \"tree test survey\", \"analytics card sorting\", \"analytics card\", \"interview contextual interview\", \"testing survey\", \"sprint\", \"workshop survey\", \"interview contextual inquiry\", \"inquiry usability testing\", \"observation interview\", \"card\", \"interview contextual\", \"tree\", \"testing card\", \"workshop\", \"card sort\", \"contextual inquiry\", \"contextual\", \"sort\", \"inquiry\", \"diary\", \"diary study\", \"usability testing\", \"contextual interview\", \"study\", \"heuristic\", \"observation\", \"test\", \"desk\", \"interview usability\", \"analytics\", \"discovery\", \"concept\", \"user\", \"user interview\", \"design\", \"usability test\", \"experiment\", \"heavy\", \"interview observation usability\", \"user interview user\", \"observation usability\", \"paper\", \"ethnography user\", \"usertestingcom\", \"group user interview\", \"group user\", \"focus group user\", \"testing quantitative survey\", \"moderated unmoderated usability\", \"lab remote\", \"interview competitive research\", \"competitive research usability\", \"usability testing competitive\", \"white\", \"white paper\", \"interview questionnaire\", \"survey lab\", \"user interview remote\", \"research persona\", \"user testing usability\", \"ethnography user testing\", \"survey observation\", \"interview survey observation\", \"persona user\", \"use wide variety\", \"use wide\", \"wide variety\", \"variety method\", \"user interview survey\", \"wide variety method\", \"interview observation\", \"user interview\", \"user testing\", \"google\", \"interview survey usability\", \"recording\", \"google analytics\", \"user\", \"observation\", \"mixture\", \"interview usability study\", \"observation user\", \"survey usability\", \"survey usability testing\", \"testing quantitative\", \"analytics\", \"interview user\", \"moderated unmoderated\", \"interview survey\", \"lab\", \"remote\", \"study\", \"moderated\", \"usability testing\", \"ethnography\", \"unmoderated\", \"diary\", \"card sorting\", \"sorting\", \"ethnographic\", \"field\", \"diary study\", \"card\", \"usability study\", \"contextual\", \"test\", \"qualitative\", \"moderated remote\", \"qualitative quantitative research\", \"test remote\", \"metric\", \"interview remote moderated\", \"eyetracking\", \"empathy\", \"testing log analysis\", \"testing log\", \"walking\", \"shopalongs\", \"inhouse\", \"demand\", \"pilot\", \"inperson remote\", \"inquiry interview survey\", \"person remote\", \"remote usability test\", \"moderated user test\", \"qualitative contextual\", \"analysis survey\", \"moderated survey\", \"unmoderated moderated\", \"1on1\", \"generative evaluative contextual\", \"evaluative contextual\", \"testing ux\", \"usability testing ux\", \"research qualitative quantitative\", \"moderated remote moderated\", \"remote moderated\", \"interview moderated\", \"data analytics\", \"moderated\", \"remote unmoderated\", \"remote\", \"user test\", \"problem\", \"testing moderated\", \"inquiry\", \"team\", \"contextual\", \"space\", \"np\", \"contextual inquiry\", \"inquiry interview\", \"contextual inquiry interview\", \"interview remote\", \"test\", \"ab\", \"ab testing\", \"quantitative research\", \"unmoderated\", \"data\", \"moderated usability testing\", \"remote usability\", \"customer interview\", \"quantitative\", \"qualitative quantitative\", \"qualitative\", \"analysis\", \"customer\", \"usability test\", \"usability testing\", \"study\", \"user\", \"interview contextual\", \"ux\", \"diary\", \"testing concept testing\", \"testing concept\", \"usability testing concept\", \"mix qualitative\", \"mix qualitative quantitative\", \"primary secondary\", \"qualitative interview survey\", \"quantitative qualitative\", \"research method\", \"behavioral attitudinal\", \"primary qualitative research\", \"user research method\", \"qualitative remote interview\", \"qualitative remote\", \"ethnographic observation\", \"qualitative quantitative method\", \"tool like\", \"participatory design workshop\", \"behavioral data\", \"behavioral data analysis\", \"pendo\", \"testing qualitative interview\", \"study dscout\", \"observational research\", \"remote interview unmoderated\", \"card sorting usability\", \"sorting usability\", \"sorting usability testing\", \"customer user\", \"type user\", \"qualitative research\", \"qualitative quantitative\", \"needed\", \"qualitative\", \"mix\", \"quantitative\", \"primary\", \"qualitative interview\", \"behavioral\", \"interview field study\", \"various\", \"exploratory research\", \"primary qualitative\", \"quantitative method\", \"designer\", \"design workshop\", \"service\", \"onsite\", \"like\", \"concept testing\", \"qualitative method\", \"primarily\", \"data analysis\", \"data\", \"concept\", \"analysis\", \"secondary\", \"method\", \"study\", \"user\", \"customer\", \"usability testing\", \"exploratory\", \"mainly\", \"user research\", \"analytics\", \"qual quant\", \"qual\", \"research indepth interview\", \"survey interview focus\", \"field study survey\", \"used\", \"contextual research\", \"survey interview contextual\", \"research secondary research\", \"quant qual\", \"study survey\", \"diary study survey\", \"research indepth\", \"indepth interview cocreation\", \"ethnographic research indepth\", \"inquiry survey\", \"contextual inquiry survey\", \"inquiry survey interview\", \"interview online survey\", \"research interview usability\", \"qualitative research indepth\", \"decision making\", \"researcher\", \"study survey focus\", \"quant analytics\", \"competitor analysis\", \"usability testing quantitative\", \"discoverygenerative\", \"quant\", \"survey interview usability\", \"interview focus group\", \"interview focus\", \"indepth interview\", \"make decision\", \"interview usability testing\", \"survey interview\", \"indepth\", \"field\", \"interview usability\", \"make\", \"decision\", \"research interview\", \"field study\", \"form\", \"study\", \"usability testing\", \"contextual\", \"method\", \"test\", \"ethnographic\", \"contextual inquiry\", \"inquiry\", \"observation\", \"design\", \"diary\", \"diary study\", \"usability test\", \"analysis\", \"user interview usability\", \"social\", \"ethnography interview\", \"sort survey\", \"card sort survey\", \"telemetry\", \"usability test survey\", \"survey questionnaire\", \"surveying analytics\", \"surveying\", \"interviewing usability\", \"sort survey occasionally\", \"survey indepth interview\", \"survey indepth\", \"program survey\", \"early\", \"stage product\", \"stage\", \"depth interview usability\", \"sort prototype\", \"testing working\", \"sort diary\", \"card sort diary\", \"sort diary study\", \"method interview contextual\", \"method interview\", \"sort tree jack\", \"secondary desk research\", \"secondary desk\", \"planning\", \"quantitative data\", \"survey card sort\", \"testing ethnography\", \"interview usability test\", \"sort\", \"card sort\", \"card sort tree\", \"sort tree\", \"test survey\", \"observing\", \"marketing\", \"interview survey card\", \"card\", \"type\", \"survey card\", \"interview usability\", \"ethnography\", \"tree test\", \"tree\", \"test\", \"usability testing\", \"usability test\", \"method\", \"user interview\", \"analysis\", \"data\", \"user\", \"product\", \"prototype\", \"analytics\", \"study\", \"ethnographic\", \"remote\", \"generative\", \"generative evaluative\", \"evaluative\", \"generative research\", \"research design\", \"data science\", \"research generative\", \"trend\", \"evaluative research\", \"hypothesis\", \"exploratory generative\", \"generative evaluative research\", \"research design research\", \"focused\", \"science\", \"inform product\", \"hypothesis testing\", \"validative\", \"research generative research\", \"qualitative mixed method\", \"qualitative mixed\", \"facetoface\", \"exploratory evaluative\", \"qualitative desk\", \"research usability research\", \"possible\", \"text analysis\", \"resonance\", \"research trend\", \"intelligence\", \"mixed method\", \"design research\", \"mixed\", \"kind\", \"research usability\", \"user need\", \"method\", \"user\", \"exploratory\", \"desk\", \"desk research\", \"design\", \"inform\", \"product\", \"research secondary\", \"qualitative\", \"user research\", \"analytics\", \"concept\", \"data\", \"user testing\", \"persona\", \"ethnographic\", \"quantitative\", \"usability testing\", \"research market\", \"research market research\", \"market research\", \"user experience\", \"market\", \"qualitative user research\", \"experience research\", \"user experience research\", \"experience\", \"qualitative user\", \"research user\", \"market research analytics\", \"ux research market\", \"research user research\", \"odi\", \"odi survey\", \"formative\", \"customer experience\", \"usability testing guerilla\", \"testing guerilla\", \"market research usability\", \"usability testing journey\", \"testing journey\", \"testing journey mapping\", \"international\", \"testing remote unmoderated\", \"support data\", \"usability testing unmoderated\", \"testing unmoderated\", \"user survey\", \"ux research\", \"ux\", \"user research\", \"typically\", \"unmoderated usability testing\", \"user\", \"lot\", \"unmoderated usability\", \"use\", \"data\", \"research analytics\", \"analytics\", \"user testing\", \"interview user testing\", \"interview user\", \"client\", \"usability testing\", \"guerilla\", \"unmoderated\", \"evaluation\", \"qualitative\", \"decision\", \"internal\", \"customer\", \"survey focus group\", \"survey focus\", \"focus group\", \"focus\", \"validation usability\", \"validation usability testing\", \"concept validation usability\", \"journey map\", \"focus group interview\", \"group interview\", \"group\", \"focus group cocreation\", \"group cocreation\", \"indepth interview focus\", \"map\", \"concept validation\", \"test focus group\", \"test focus\", \"group cocreation workshop\", \"testing content\", \"analytics focus\", \"analytics focus group\", \"map journey\", \"manager\", \"interview concept validation\", \"usability testing card\", \"usability card\", \"user analytics\", \"usability interview\", \"poll\", \"validation\", \"persona\", \"analytics survey\", \"journey\", \"shadowing\", \"feedback\", \"usability study\", \"usability testing\", \"analytics\", \"interview concept\", \"customer\", \"usability test\", \"concept\", \"study\", \"test\", \"survey diary study\", \"survey diary\", \"heuristic evaluation\", \"testing heuristic evaluation\", \"testing heuristic\", \"ethnographic research interview\", \"analytics usability\", \"analytics usability testing\", \"home visit\", \"study observation\", \"people\", \"qualitative generative evaluative\", \"diary study contextual\", \"organisation\", \"usage analytics usability\", \"interview codesign\", \"ride alongs\", \"ride\", \"alongs\", \"intercept survey\", \"interview survey diary\", \"focus group survey\", \"group survey\", \"affinity mapping\", \"affinity\", \"incontext\", \"foundational validation\", \"experimental\", \"exploratory ethnographic\", \"diary study observation\", \"usability testing interview\", \"testing interview\", \"evaluation\", \"home\", \"qualitative generative\", \"heuristic\", \"diary study\", \"lab\", \"mapping\", \"diary\", \"study\", \"various\", \"usability testing\", \"intercept\", \"visit\", \"research interview\", \"analytics\", \"competitive analysis\", \"competitive\", \"contextual\", \"observation\", \"remote\", \"validation\", \"ethnographic research\", \"unmoderated\", \"secondary\", \"ethnographic\", \"interview survey\", \"codesign\", \"applied\", \"qualitative usability study\", \"usability study moderated\", \"study moderated\", \"quantitative qualitative research\", \"user research interview\", \"ethnography quantitative\", \"qualitative usability\", \"quantitative survey\", \"research qualitative\", \"product team\", \"secondary research\", \"sure\", \"prototype interview\", \"help\", \"research quantitative\", \"qualitative interview\", \"design product\", \"ab testing survey\", \"interview secondary research\", \"mapping competitive analysis\", \"mapping competitive\", \"type qualitative\", \"help make\", \"help make decision\", \"interview site\", \"interview site visit\", \"unmoderated interview\", \"moderated unmoderated interview\", \"validation testing\", \"report\", \"competitive analysis\", \"site visit\", \"range\", \"interviewing\", \"research survey\", \"secondary\", \"journey mapping\", \"depends\", \"problem\", \"industry\", \"quantitative\", \"make\", \"site\", \"qualitative\", \"competitive\", \"usability study\", \"analysis\", \"interview survey\", \"study\", \"ab\", \"user\", \"qualitative research\", \"quantitative qualitative\", \"product\", \"ab testing\", \"design\", \"research interview\", \"observation\", \"quant\", \"interview prototype\", \"service design\", \"design thinking\", \"thinking\", \"lean ux\", \"testing ab test\", \"currently using\", \"group individual\", \"design thinking service\", \"thinking service\", \"thinking service design\", \"session usability\", \"mainly usability\", \"approach\", \"usability test card\", \"behalf\", \"product usability\", \"currently\", \"cognitive walkthroughs\", \"research observational\", \"participatory design session\", \"point\", \"occasional\", \"usability research\", \"ab test\", \"session\", \"cognitive\", \"walkthroughs\", \"individual\", \"lean\", \"design\", \"prototype\", \"test\", \"foundational\", \"participatory\", \"service\", \"ux\", \"ab\", \"ethnography\", \"user\", \"usability test\", \"interview usability test\", \"ethnographic\", \"testing ab\", \"using\"], \"Total\": [144.0, 48.0, 44.0, 48.0, 40.0, 39.0, 75.0, 41.0, 34.0, 140.0, 62.0, 27.0, 84.0, 36.0, 47.0, 35.0, 46.0, 19.0, 20.0, 76.0, 27.0, 39.0, 28.0, 45.0, 60.0, 44.0, 26.0, 51.0, 34.0, 26.0, 10.795928748986709, 7.181131335449063, 5.373732259320167, 4.470033212229013, 4.470032357586653, 4.469928192115654, 4.469928192115654, 19.71375136924357, 3.5663338283700665, 3.5663337687271066, 3.5663335768885, 3.5663335768885, 3.56633338682363, 3.563319559614045, 26.027470348471734, 26.027470344397372, 11.598936533154108, 2.6626344905574935, 2.662634490557337, 2.662634490557337, 2.662634484439308, 2.662634459986668, 2.662634417800994, 2.662634455266755, 2.66263443100678, 2.6626344244192195, 2.662634384492105, 2.6626343964762618, 2.6626343964762618, 2.6626344106248645, 27.590453882041682, 5.322504914001803, 5.352379132700775, 12.51782251831853, 5.352055905516591, 8.022142055368953, 62.20471869813362, 18.739090305944888, 25.768158439341946, 9.81926832043226, 33.649697338670045, 35.28508508710689, 44.2083166099995, 76.82558667746171, 36.14943019506623, 45.091641244016955, 47.568895525307546, 43.11357076230094, 147.8426453592031, 13.311604452111428, 112.86354668761133, 20.217804661189433, 52.69568875567684, 84.30711781457315, 17.40913244320925, 35.80496509005276, 78.39669567879085, 19.278578624683313, 41.89247890992548, 140.88922762103311, 37.690887815694936, 46.5628422537774, 37.55175842231389, 6.149311534748401, 4.384619520409535, 4.38461941725143, 4.3846196821383385, 7.9371580168876585, 3.5022736487759927, 3.5022736301436073, 3.5022736642132744, 3.5022736098275677, 3.5022736098275677, 3.5022736098275677, 3.5022727475469337, 2.619927671879945, 2.6199276718799034, 2.6199276718797315, 2.6199276718797315, 2.619927671879298, 2.61992767187721, 2.61992767187721, 2.6199275955002657, 2.619927660095351, 2.6199276893174717, 2.6199276387068253, 2.619927638706084, 2.619927641762832, 2.6199276614372273, 2.6199276614372273, 2.6199276561445477, 2.619927613412283, 2.619927613412283, 2.619927613412283, 2.619927613412283, 5.183081700765091, 2.619927613412283, 13.077714101759847, 37.690887815694936, 25.908411069014903, 6.120508573540299, 6.154496243121956, 4.354745206075064, 4.355056133009086, 140.88922762103311, 52.69568875567684, 4.368888747154302, 4.385379990187272, 4.405973015877036, 15.780100474839179, 10.450690976733316, 4.367294772900273, 78.39669567879085, 11.147775591206965, 9.32014678815855, 33.70761801362003, 12.883627340073577, 60.45445161259091, 112.86354668761133, 39.260695585748756, 147.8426453592031, 32.78989338344809, 31.114368292846628, 47.568895525307546, 26.027470344397372, 26.027470348471734, 33.6179164128943, 30.6170984908727, 43.11357076230094, 62.20471869813362, 26.78272621362129, 76.82558667746171, 84.30711781457315, 144.87891155590629, 5.270768943957002, 5.27076889501465, 4.3876622434698564, 7.889764663487121, 3.50455570290609, 3.5045559474772023, 3.5045547101730983, 2.6214490412990035, 2.6214490412990035, 2.6214490412987055, 2.6214490412986176, 2.621449041298014, 2.6214490412978577, 2.6214490143845968, 2.6214489956522424, 2.621448972452805, 2.6214490374314896, 2.6214490088453073, 2.6214490031579745, 2.6214490163790827, 2.6214489479850522, 2.6214489452654814, 2.6214489452637864, 2.621448860657747, 2.6214488958297912, 2.6214488958297912, 2.621449021716251, 2.621449021716251, 2.6214488799547793, 2.6214489501862386, 11.450233555758977, 5.240444933096508, 6.962663989596371, 39.260695585748756, 9.601499970575233, 60.45445161259091, 7.841889391640582, 5.984586589148462, 7.720093889342239, 45.091641244016955, 21.739900372912107, 76.82558667746171, 4.370732921889647, 4.37444548918585, 44.2083166099995, 4.408255010576695, 4.408255010576695, 6.152232079108278, 84.30711781457315, 23.992025474942988, 14.708958041330026, 10.444845894707377, 31.114368292846628, 59.62250673832701, 6.953179645030921, 7.047843545039198, 6.921929766437268, 75.74228307181617, 27.064251894717437, 144.87891155590629, 54.56453739925879, 27.659514006561693, 37.55175842231389, 147.8426453592031, 112.86354668761133, 140.88922762103311, 18.739090305944888, 26.98232721061205, 47.568895525307546, 7.814354401956747, 8.680281704263448, 7.810352143514838, 3.4649052173615456, 3.4649052173615456, 3.464905055930875, 4.333870299105305, 9.398148163248496, 7.812988530230549, 2.595015389536129, 2.5950153895354973, 2.595015362172027, 2.5950153616505096, 2.5950153616505096, 2.595015465138085, 2.595015466637767, 2.5950154757756123, 2.5950154804024215, 2.5950153366642024, 2.5950153366642024, 2.5950153378643104, 2.59501525624194, 2.595015447640292, 2.595015266770339, 2.5950153214905103, 2.5950156047806208, 2.5950156047806208, 2.5950156047806208, 2.595014792657499, 2.5950143666388006, 28.560847336347106, 27.064251894717437, 5.174426927799154, 144.87891155590629, 5.200972351332066, 75.74228307181617, 11.189167415156088, 12.647165114479872, 9.365094539643207, 5.249020067241334, 9.485705359357869, 5.999872385729965, 4.2633673835406585, 4.331100410863044, 4.331082178685291, 4.331520562222325, 8.390757515803283, 3.481278887824799, 13.837987843889628, 22.87698857009401, 5.199327212634055, 13.769465678506132, 12.136712378507783, 59.62250673832701, 41.89247890992548, 54.56453739925879, 21.992939069482873, 51.63761192375547, 112.86354668761133, 140.88922762103311, 27.659514006561693, 147.8426453592031, 16.273164630320988, 13.68862114132806, 34.05266193449251, 78.39669567879085, 20.777313114164023, 41.487843502280775, 6.0522992855107, 5.186441368516121, 4.319944879234441, 3.453767562962731, 3.453767512075845, 3.453767697996206, 3.453767026434926, 7.767987657626816, 14.750379428021779, 6.068468193104833, 6.899472861207891, 2.587590297609321, 2.587590297609321, 2.5875902977819454, 2.5875902977819454, 2.5875902977819454, 2.5875902705048492, 2.5875901854386094, 2.587590303738271, 2.587590202359591, 2.5875903165808634, 2.58759030271224, 2.58759020185891, 2.587590253244099, 2.5875899980178487, 2.5875899665374833, 47.63238391032789, 6.849611799645009, 13.848052741200531, 13.848052773525966, 13.767710229794242, 6.805665046379206, 19.270609530197312, 24.325351397172415, 17.131491011448126, 30.6170984908727, 35.80496509005276, 8.461351689209625, 15.393770016454951, 12.702564215060368, 13.138017357718814, 7.835901635663575, 112.86354668761133, 147.8426453592031, 76.82558667746171, 51.63761192375547, 84.30711781457315, 33.6179164128943, 44.2083166099995, 45.091641244016955, 52.69568875567684, 46.5628422537774, 47.568895525307546, 43.11357076230094, 37.55175842231389, 54.56453739925879, 5.188311844789139, 4.321696573043305, 4.321696795578182, 4.3216972311849435, 4.3216972311849435, 3.455081349505326, 3.4550813910101428, 3.4550811175145753, 2.5884661658882337, 2.5884661658882337, 2.588466165886342, 2.5884661658502455, 2.5884661556676036, 2.5884661556676036, 2.588466145186302, 2.588466145186302, 2.58846618497637, 2.58846618497637, 2.5884661185721627, 2.588466186173028, 2.5884661932851274, 2.588466126675052, 2.588466126675052, 2.588466126675052, 2.5884662123725115, 2.5884662123725115, 2.588466226889376, 2.5884660864017275, 2.5884660864017275, 2.588466086401103, 5.161345288874712, 7.78637097198943, 5.187872163052074, 11.076548537188174, 36.14943019506623, 35.28508508710689, 9.669724053531628, 9.66972405353163, 10.53886647595423, 4.294730016792175, 4.337427257533544, 4.358780749557858, 62.20471869813362, 22.372648075026586, 11.479467016515391, 35.80496509005276, 32.78989338344809, 10.598893705867493, 25.768158439341946, 84.30711781457315, 147.8426453592031, 37.55175842231389, 51.63761192375547, 37.690887815694936, 54.56453739925879, 59.62250673832701, 140.88922762103311, 33.42627445781359, 21.312184199943957, 78.39669567879085, 112.86354668761133, 33.6179164128943, 60.45445161259091, 40.92213358665049, 19.60961258071369, 39.28587819496071, 10.239839890725824, 5.970065326584604, 5.972209652267902, 5.116758165862632, 4.265122284405256, 9.39543192775289, 3.4126506536656827, 3.4126506929628837, 3.412650771959381, 3.412650375392206, 3.4133489414278637, 6.843873140204487, 2.5601790084723937, 2.5601790084720917, 2.5601790084714033, 2.560178980525583, 2.5601790253150827, 2.5601790253150827, 2.560179033250591, 2.560179058860448, 2.5601790397809507, 2.5601790383823175, 2.5601790517017324, 2.5601788466942366, 2.5601790801019324, 2.560178918504075, 2.5601791071749003, 15.397125029931926, 7.636687462906057, 18.013258214197663, 8.617966613096732, 13.800694115406262, 4.282540465656617, 51.63761192375547, 140.88922762103311, 16.273164630320988, 17.40913244320925, 15.650349578111904, 46.5628422537774, 8.520196418250244, 33.42627445781359, 5.147895587544825, 144.87891155590629, 34.05266193449251, 78.39669567879085, 41.89247890992548, 59.62250673832701, 25.908411069014903, 12.983229475688384, 33.6179164128943, 75.74228307181617, 147.8426453592031, 8.412072683308372, 7.572424132804847, 27.76012125820943, 6.732775641455178, 34.515073867390896, 5.053478436793029, 5.0534785779263744, 5.0534785779263744, 11.811699489085427, 6.7460125087147365, 5.906571093229353, 2.5345328113648744, 2.5345328299058503, 2.534532821704435, 2.534532850119757, 2.534532850119757, 2.5345328433028373, 2.534532858199035, 2.534532881274529, 2.534532881274529, 2.5345328422580566, 2.5345329666483525, 2.5345329666483525, 2.5345329666483525, 2.5345328711798656, 2.534533012825024, 2.534533103443612, 2.534533286514535, 2.534533286514535, 2.5345322170611677, 12.597540235992762, 26.98232721061205, 34.05266193449251, 4.256527368965376, 4.258836331478535, 140.88922762103311, 9.366353893886746, 6.852383431169601, 16.43592880306779, 59.62250673832701, 5.160226507664146, 78.39669567879085, 25.908411069014903, 6.790050498697386, 11.147775591206965, 9.395627957217016, 147.8426453592031, 5.114893134314127, 31.114368292846628, 21.411544600595526, 144.87891155590629, 15.393770016454951, 9.574645420450635, 27.659514006561693, 12.119547347507451, 12.11954734750745, 44.213087724354324, 48.53123631433567, 6.054148839699872, 6.054148839699872, 5.187663325713213, 5.187663389070895, 4.321177822821316, 4.321177822821316, 48.44822158873374, 4.308972726326621, 4.308972726326621, 3.4546922541183442, 10.358548847116023, 6.027312026618695, 2.588206782108774, 2.588206782108774, 2.5882067847617853, 2.588206848515354, 2.5882067993848827, 2.5882067993848827, 2.5882068032948347, 2.5882067713098578, 2.588206717949194, 2.588206889104861, 2.5882068403538754, 2.588207462029606, 5.191067670154006, 6.039825721681801, 14.581880469589795, 12.983229475688384, 8.71316307313516, 14.576224364025418, 16.501036045563914, 13.880453044505403, 26.78272621362129, 147.8426453592031, 78.39669567879085, 6.077169353125825, 27.659514006561693, 37.55175842231389, 41.89247890992548, 112.86354668761133, 84.30711781457315, 6.842061569911976, 6.842061570834001, 8.544815280830312, 3.4135837393608055, 3.4135837393608055, 3.413583701872185, 3.413583726127376, 3.413583726127376, 3.4135837568352154, 3.41358375448775, 3.413583894740086, 3.4135837383219814, 2.560801032708946, 2.560801030368092, 2.560801071131496, 2.560801046929695, 2.560801096814413, 2.560801096814413, 2.560801096814413, 2.560801058038126, 2.5608010889216635, 2.560801063657233, 2.560801063657233, 2.5608011345736386, 2.5608011345736386, 2.5608011136952005, 2.560800961147581, 2.5608007727809765, 2.560801057407596, 2.5608011996864155, 10.368002019690888, 11.249080513947515, 21.411544600595526, 4.279761019820337, 4.2959289156446445, 20.217804661189433, 43.11357076230094, 12.883627340073577, 13.642840870619883, 47.568895525307546, 112.86354668761133, 9.485705359357869, 147.8426453592031, 7.762394817598086, 11.111283339676561, 12.702564215060368, 78.39669567879085, 7.559434114764625, 15.363169547992387, 76.82558667746171, 52.69568875567684, 60.45445161259091, 14.581880469589795, 14.678425981993504, 31.114368292846628, 21.992939069482873, 33.6179164128943, 33.70761801362003, 7.814378755107106, 2.4521601010661174, 2.452160143112428, 2.452160139428075, 2.452160139428075, 2.4521603459801953, 2.452160558605888, 2.452161701489546, 5.788864028792183, 12.453739290701337, 5.016834855907198, 3.323297600882197, 12.51608458953555, 4.191940348540005, 2.434841587468968, 6.701915504258164, 2.493346420032382, 12.647165114479872, 2.506169525560993, 2.506169624418533, 2.5064805369671252, 2.5064805704562576, 2.5064805704562576, 2.5064806227525804, 2.5198751906027352, 2.5198751906027352, 2.5198752619064084, 2.5198752619064084, 2.5201836309943313, 2.5201836309943313, 2.5203131584590874, 6.803910814011862, 7.559434114764625, 5.037735182230274, 5.069635029283404, 7.605965393012715, 8.422213397337602, 21.992939069482873, 5.885945536181459, 5.9166360570546574, 5.984586589148462, 8.485619086002215, 75.74228307181617, 8.461351689209625, 6.690407955588707, 144.87891155590629, 15.363169547992387, 26.78272621362129, 54.56453739925879, 33.70761801362003, 112.86354668761133, 23.992025474942988, 140.88922762103311, 28.560847336347106, 9.398148163248496, 33.42627445781359, 14.708958041330026, 46.5628422537774, 12.702564215060368, 52.69568875567684, 47.63238391032789, 3.1986667982675123, 3.1986668361525754, 5.670354786538327, 5.670354786550348, 2.417523079320106, 2.417523158865156, 2.4175231444387846, 2.4175231586790193, 2.4175232024926046, 2.4175232024926046, 2.4175232024926046, 2.417523207546619, 2.417523533230903, 2.417523891949763, 2.417523961773234, 2.417524289893808, 2.417523566349785, 4.862667734868565, 4.081773290216589, 2.43879409682365, 3.284008770925422, 3.2841383531609774, 3.287414210007694, 4.903609833660712, 6.661776915283797, 12.498109564199048, 5.846098853482908, 5.847986742647311, 4.149877481238895, 4.187398270921499, 46.5628422537774, 21.312184199943957, 84.30711781457315, 13.443594663714043, 13.60383608212652, 8.390757515803283, 26.98232721061205, 23.992025474942988, 32.78989338344809, 140.88922762103311, 37.55175842231389, 11.076548537188174, 33.6179164128943, 5.004812101067225, 6.806987754427738], \"loglift\": [30.0, 29.0, 28.0, 27.0, 26.0, 25.0, 24.0, 23.0, 22.0, 21.0, 20.0, 19.0, 18.0, 17.0, 16.0, 15.0, 14.0, 13.0, 12.0, 11.0, 10.0, 9.0, 8.0, 7.0, 6.0, 5.0, 4.0, 3.0, 2.0, 1.0, 1.9145, 1.8745, 1.8327, 1.7977, 1.7977, 1.7974, 1.7974, 1.7902, 1.7427, 1.7427, 1.7427, 1.7427, 1.7427, 1.7282, 1.7171, 1.7171, 1.6746, 1.6429, 1.6429, 1.6429, 1.6429, 1.6429, 1.6429, 1.6429, 1.6429, 1.6429, 1.6429, 1.6429, 1.6429, 1.6429, 1.5954, 1.6232, 1.6176, 1.5631, 1.6047, 1.5744, 1.4215, 1.4902, 1.4643, 1.501, 1.2186, 1.1548, 1.0872, 0.9328, 1.1253, 1.0664, 0.9625, 0.9838, 0.5364, 1.2985, 0.5312, 1.1396, 0.6731, 0.2874, 1.088, 0.6884, 0.1264, 0.9664, 0.414, -0.5111, 0.4165, 0.2157, 0.3861, 2.0452, 1.9848, 1.9848, 1.9848, 1.9302, 1.9286, 1.9286, 1.9286, 1.9286, 1.9286, 1.9286, 1.9286, 1.8268, 1.8268, 1.8268, 1.8268, 1.8268, 1.8268, 1.8268, 1.8268, 1.8268, 1.8268, 1.8268, 1.8268, 1.8268, 1.8268, 1.8268, 1.8268, 1.8268, 1.8268, 1.8268, 1.8268, 1.8175, 1.8268, 1.6483, 1.4213, 1.3522, 1.6513, 1.6457, 1.7108, 1.7107, 0.886, 1.1102, 1.7075, 1.7037, 1.6991, 1.3487, 1.4476, 1.6844, 0.8547, 1.4195, 1.4498, 0.9908, 1.3056, 0.6954, 0.4368, 0.8292, 0.0695, 0.8106, 0.7318, 0.2872, 0.6266, 0.6266, 0.4528, 0.495, 0.2355, -0.1303, 0.5339, -0.3343, -0.4275, -1.0213, 2.0568, 2.0568, 2.0211, 1.9852, 1.965, 1.965, 1.965, 1.8633, 1.8633, 1.8633, 1.8633, 1.8633, 1.8633, 1.8633, 1.8633, 1.8633, 1.8633, 1.8633, 1.8633, 1.8633, 1.8633, 1.8633, 1.8633, 1.8633, 1.8633, 1.8633, 1.8633, 1.8633, 1.8633, 1.8633, 1.8615, 1.8435, 1.8339, 1.6496, 1.7144, 1.4041, 1.6595, 1.7108, 1.6235, 1.205, 1.3609, 1.0564, 1.7441, 1.7433, 1.1671, 1.7356, 1.7356, 1.643, 0.9487, 1.2872, 1.3421, 1.4377, 1.0896, 0.7526, 1.5607, 1.5472, 1.5546, 0.5113, 0.9444, 0.0796, 0.5471, 0.849, 0.6027, -0.3311, -0.2362, -0.6065, 0.8626, 0.5691, -0.0958, 2.1477, 2.0342, 2.0051, 1.9972, 1.9972, 1.9972, 1.9826, 1.9401, 1.933, 1.8942, 1.8942, 1.8942, 1.8942, 1.8942, 1.8942, 1.8942, 1.8942, 1.8942, 1.8942, 1.8942, 1.8942, 1.8942, 1.8942, 1.8942, 1.8942, 1.8942, 1.8942, 1.8942, 1.8942, 1.8942, 1.8883, 1.8876, 1.877, 1.7632, 1.8719, 1.6311, 1.7675, 1.7364, 1.7573, 1.7834, 1.6696, 1.729, 1.7898, 1.774, 1.774, 1.7739, 1.6087, 1.8216, 1.4504, 1.303, 1.7029, 1.3822, 1.4104, 0.8179, 0.9045, 0.8008, 1.0555, 0.6367, 0.188, 0.066, 0.8599, -0.1519, 1.0862, 1.2013, 0.4966, -0.5031, 2.278, 2.2198, 2.1779, 2.1357, 2.1165, 2.0593, 2.0593, 2.0593, 2.0593, 2.0496, 2.0476, 1.9957, 1.9813, 1.956, 1.956, 1.956, 1.956, 1.956, 1.956, 1.956, 1.956, 1.956, 1.956, 1.956, 1.956, 1.956, 1.956, 1.956, 1.939, 1.8746, 1.8065, 1.8065, 1.7569, 1.8256, 1.6374, 1.5719, 1.6098, 1.2135, 1.1278, 1.564, 1.3344, 1.4, 1.3839, 1.5088, 0.3775, 0.061, 0.3725, 0.5715, 0.2056, 0.653, 0.4306, 0.4099, 0.2635, 0.3473, 0.3157, 0.3796, 0.4615, 0.0906, 2.258, 2.2217, 2.2217, 2.2217, 2.2217, 2.1646, 2.1646, 2.1646, 2.0613, 2.0613, 2.0613, 2.0613, 2.0613, 2.0613, 2.0613, 2.0613, 2.0613, 2.0613, 2.0613, 2.0613, 2.0613, 2.0613, 2.0613, 2.0613, 2.0613, 2.0613, 2.0613, 2.0613, 2.0613, 2.0613, 2.0441, 2.0298, 2.039, 1.9543, 1.8198, 1.798, 1.8149, 1.8149, 1.7727, 1.947, 1.9371, 1.9322, 1.1918, 1.4504, 1.6329, 1.2859, 1.2503, 1.6034, 1.308, 0.6465, 0.3684, 0.8605, 0.5879, 0.6798, 0.4417, 0.3593, -0.4258, 0.5481, 0.8327, -0.3163, -0.823, 0.2535, -0.363, 2.5003, 2.4793, 2.4491, 2.3812, 2.3793, 2.3673, 2.341, 2.3169, 2.3151, 2.259, 2.259, 2.259, 2.259, 2.2512, 2.1654, 2.1544, 2.1544, 2.1544, 2.1544, 2.1544, 2.1544, 2.1544, 2.1544, 2.1544, 2.1544, 2.1544, 2.1544, 2.1544, 2.1544, 2.1544, 2.1007, 2.109, 1.9325, 2.0122, 1.859, 2.0319, 1.3143, 0.6801, 1.4366, 1.4064, 1.3423, 0.7315, 1.543, 0.7814, 1.777, -0.0715, 0.6991, 0.0718, 0.447, 0.1576, 0.7319, 1.1785, 0.3674, -0.4037, -1.1945, 2.5749, 2.5635, 2.5608, 2.5489, 2.5449, 2.5041, 2.5041, 2.5041, 2.4309, 2.3894, 2.3385, 2.3021, 2.3021, 2.3021, 2.3021, 2.3021, 2.3021, 2.3021, 2.3021, 2.3021, 2.3021, 2.3021, 2.3021, 2.3021, 2.3021, 2.3021, 2.3021, 2.3021, 2.3021, 2.3021, 2.2755, 1.8421, 1.7771, 2.1757, 2.1575, 1.0618, 1.887, 1.9574, 1.5515, 0.9562, 1.9832, 0.6201, 1.1107, 1.7981, 1.5381, 1.5892, -0.0279, 1.8977, 0.7988, 1.008, -0.339, 1.1589, 1.5027, 0.4713, 2.656, 2.656, 2.6474, 2.5935, 2.5843, 2.5843, 2.5592, 2.5592, 2.5229, 2.5229, 2.5087, 2.4808, 2.4808, 2.4658, 2.4481, 2.4091, 2.3625, 2.3625, 2.3625, 2.3625, 2.3625, 2.3625, 2.3625, 2.3625, 2.3625, 2.3625, 2.3625, 2.3625, 2.3394, 2.188, 1.8722, 1.8039, 1.9282, 1.6985, 1.5825, 1.4303, 0.9626, -0.0925, 0.2671, 1.8144, 0.8109, 0.531, 0.4318, -0.4387, -0.235, 2.5454, 2.5454, 2.5354, 2.4955, 2.4955, 2.4955, 2.4955, 2.4955, 2.4955, 2.4955, 2.4955, 2.4955, 2.3909, 2.3909, 2.3909, 2.3909, 2.3909, 2.3909, 2.3909, 2.3909, 2.3909, 2.3909, 2.3909, 2.3909, 2.3909, 2.3909, 2.3909, 2.3909, 2.3909, 2.3908, 2.3483, 2.2667, 2.0762, 2.2693, 2.2655, 1.5459, 1.1209, 1.6502, 1.6045, 0.9853, 0.5538, 1.7543, 0.3618, 1.8273, 1.5813, 1.4623, 0.2716, 1.7004, 1.235, 0.0591, 0.294, 0.1749, 1.2244, 1.2067, 0.4451, 0.7677, 0.3685, 0.3496, 1.6673, 2.8761, 2.8761, 2.8761, 2.8761, 2.8761, 2.8761, 2.8761, 2.6901, 2.5597, 2.5523, 2.5397, 2.4194, 2.3399, 2.2292, 2.2119, 2.2055, 2.2054, 2.2004, 2.2004, 2.2002, 2.2002, 2.2002, 2.2002, 2.1949, 2.1949, 2.1949, 2.1949, 2.1948, 2.1948, 2.1947, 2.1909, 2.133, 2.1561, 2.1498, 2.116, 2.0342, 1.8942, 2.0005, 1.9953, 1.9839, 1.865, 1.2202, 1.8379, 1.8724, 0.8078, 1.5568, 1.3343, 0.8795, 1.1132, -0.0479, 0.854, -0.7319, 0.6245, 1.6171, 0.4143, 1.1687, 0.049, 1.2939, -0.1398, -0.0805, 3.1575, 3.1575, 3.0749, 3.0749, 3.0455, 3.0455, 3.0455, 3.0455, 3.0455, 3.0455, 3.0455, 3.0455, 3.0455, 3.0455, 3.0455, 3.0455, 3.0455, 2.9704, 2.9137, 2.9088, 2.7392, 2.7391, 2.7381, 2.7303, 2.6212, 2.589, 2.5545, 2.5542, 2.5052, 2.4962, 1.9052, 1.8584, 1.1101, 2.0027, 1.9158, 2.1779, 1.3642, 1.2952, 0.6622, -0.6865, 0.3808, 1.5579, 0.4489, 2.3178, 2.0103], \"logprob\": [30.0, 29.0, 28.0, 27.0, 26.0, 25.0, 24.0, 23.0, 22.0, 21.0, 20.0, 19.0, 18.0, 17.0, 16.0, 15.0, 14.0, 13.0, 12.0, 11.0, 10.0, 9.0, 8.0, 7.0, 6.0, 5.0, 4.0, 3.0, 2.0, 1.0, -4.6651, -5.1128, -5.4446, -5.6637, -5.6637, -5.6641, -5.6641, -4.1873, -5.9446, -5.9446, -5.9446, -5.9446, -5.9446, -5.9599, -3.9826, -3.9826, -4.8333, -6.3366, -6.3366, -6.3366, -6.3366, -6.3366, -6.3366, -6.3366, -6.3366, -6.3366, -6.3366, -6.3366, -6.3366, -6.3366, -4.0459, -5.6637, -5.6637, -4.8685, -5.6766, -5.3022, -3.4068, -4.538, -4.2453, -5.1735, -4.2242, -4.2405, -4.0827, -3.6844, -4.2458, -4.0837, -4.1342, -4.2112, -3.4262, -5.0717, -3.7014, -4.8127, -4.3212, -4.2369, -5.0138, -4.6923, -4.4707, -5.0334, -4.8096, -4.522, -4.9129, -4.9023, -4.947, -5.0972, -5.4959, -5.4959, -5.4959, -4.957, -5.7768, -5.7768, -5.7768, -5.7768, -5.7768, -5.7768, -5.7768, -6.1688, -6.1688, -6.1688, -6.1688, -6.1688, -6.1688, -6.1688, -6.1688, -6.1688, -6.1688, -6.1688, -6.1688, -6.1688, -6.1688, -6.1688, -6.1688, -6.1688, -6.1688, -6.1688, -6.1688, -5.4959, -6.1688, -4.7396, -3.9081, -4.3521, -5.4959, -5.4959, -5.7768, -5.7768, -3.1248, -3.8841, -5.7768, -5.7768, -5.7768, -4.8513, -5.1645, -5.8002, -3.7423, -5.1281, -5.2768, -4.4503, -5.0972, -4.1615, -3.7958, -4.4594, -3.8931, -4.658, -4.7893, -4.8094, -5.0731, -5.0731, -4.9909, -5.0423, -4.9594, -4.9587, -5.1371, -4.9515, -4.9519, -5.0042, -5.2398, -5.2398, -5.4589, -4.908, -5.7398, -5.7398, -5.7398, -6.1318, -6.1318, -6.1318, -6.1318, -6.1318, -6.1318, -6.1318, -6.1318, -6.1318, -6.1318, -6.1318, -6.1318, -6.1318, -6.1318, -6.1318, -6.1318, -6.1318, -6.1318, -6.1318, -6.1318, -6.1318, -6.1318, -6.1318, -4.6593, -5.4589, -5.1843, -3.639, -4.9824, -3.4528, -5.2398, -5.4589, -5.2914, -3.9451, -4.5188, -3.5609, -5.7398, -5.7398, -4.0028, -5.7398, -5.7398, -5.499, -3.5757, -4.4938, -4.9283, -5.175, -4.4315, -4.1182, -5.4589, -5.4589, -5.4695, -4.1202, -4.7161, -3.9033, -4.4123, -4.7898, -4.7304, -4.2938, -4.4688, -4.6173, -5.1656, -5.0945, -5.1924, -4.7551, -4.7635, -4.8983, -5.7189, -5.7189, -5.7189, -5.5097, -4.7781, -4.97, -6.111, -6.111, -6.111, -6.111, -6.111, -6.111, -6.111, -6.111, -6.111, -6.111, -6.111, -6.111, -6.111, -6.111, -6.111, -6.111, -6.111, -6.111, -6.111, -6.111, -6.111, -3.7185, -3.7729, -5.4381, -2.2197, -5.438, -3.0004, -4.7764, -4.685, -4.9645, -5.5173, -5.0394, -5.438, -5.7189, -5.7189, -5.7189, -5.7189, -5.223, -5.8898, -4.881, -4.5257, -5.6073, -4.9542, -5.0522, -4.0528, -4.3192, -4.1586, -4.8125, -4.3779, -4.0446, -3.9448, -4.7789, -4.1146, -5.0831, -5.141, -4.9342, -5.1002, -3.6469, -3.0136, -4.9805, -5.1771, -5.3791, -5.66, -5.66, -5.66, -5.66, -4.8592, -4.22, -5.16, -5.0461, -6.052, -6.052, -6.052, -6.052, -6.052, -6.052, -6.052, -6.052, -6.052, -6.052, -6.052, -6.052, -6.052, -6.052, -6.052, -3.1562, -5.16, -4.5241, -4.5241, -4.5796, -5.2155, -4.3628, -4.1954, -4.5081, -4.3237, -4.2529, -5.2593, -4.8904, -5.017, -4.9994, -5.3913, -3.8551, -3.9016, -4.2448, -4.4431, -4.3188, -4.7907, -4.7393, -4.7402, -4.7308, -4.7707, -4.781, -4.8153, -4.8715, -4.8688, -5.0544, -5.2735, -5.2735, -5.2735, -5.2735, -5.5544, -5.5544, -5.5544, -5.9464, -5.9464, -5.9464, -5.9464, -5.9464, -5.9464, -5.9464, -5.9464, -5.9464, -5.9464, -5.9464, -5.9464, -5.9464, -5.9464, -5.9464, -5.9464, -5.9464, -5.9464, -5.9464, -5.9464, -5.9464, -5.9464, -5.2735, -4.8766, -5.2735, -4.5997, -3.5514, -3.5973, -4.8748, -4.8748, -4.831, -5.5544, -5.5544, -5.5544, -3.6365, -4.4005, -4.8853, -4.0948, -4.2184, -4.9946, -4.4017, -3.8779, -3.5943, -4.4726, -4.4267, -4.6496, -4.5177, -4.5115, -4.4366, -4.9014, -5.0668, -4.9134, -5.0556, -5.1902, -5.2199, -2.7468, -3.5035, -2.8389, -4.2513, -4.7928, -4.8044, -4.9853, -5.1914, -4.4035, -5.4723, -5.4723, -5.4723, -5.4723, -5.4799, -4.8701, -5.8644, -5.8644, -5.8644, -5.8644, -5.8644, -5.8644, -5.8644, -5.8644, -5.8644, -5.8644, -5.8644, -5.8644, -5.8644, -5.8644, -5.8644, -4.1239, -4.8169, -4.1352, -4.7928, -4.4751, -5.4723, -3.7003, -3.3307, -4.7327, -4.6954, -4.866, -4.3864, -5.2734, -4.6681, -5.5432, -4.0544, -4.7318, -4.5252, -4.7767, -4.7132, -4.9724, -5.2166, -5.0763, -5.0351, -5.1571, -4.2542, -4.3708, -3.0743, -4.5029, -2.8725, -4.8347, -4.8347, -4.8347, -4.0588, -4.6604, -4.8442, -5.7267, -5.7267, -5.7267, -5.7267, -5.7267, -5.7267, -5.7267, -5.7267, -5.7267, -5.7267, -5.7267, -5.7267, -5.7267, -5.7267, -5.7267, -5.7267, -5.7267, -5.7267, -5.7267, -4.1498, -3.8215, -3.6537, -5.3346, -5.3523, -2.949, -4.8347, -5.0768, -4.6078, -3.9146, -5.3346, -3.9769, -4.5935, -5.2452, -5.0095, -5.1294, -3.9906, -5.4289, -4.7223, -4.8869, -4.3219, -5.0659, -5.197, -5.1675, -3.808, -3.808, -2.5223, -2.4831, -4.5738, -4.5738, -4.7534, -4.7534, -4.9724, -4.9724, -2.5696, -5.0173, -5.0173, -5.2533, -4.1729, -4.7534, -5.6454, -5.6454, -5.6454, -5.6454, -5.6454, -5.6454, -5.6454, -5.6454, -5.6454, -5.6454, -5.6454, -5.6454, -4.9724, -4.9724, -4.4068, -4.5912, -4.8658, -4.5809, -4.5728, -4.898, -4.7084, -4.0551, -4.3299, -5.3399, -4.828, -4.8021, -4.7918, -4.6713, -4.7593, -4.4903, -4.4903, -4.2781, -5.2356, -5.2356, -5.2356, -5.2356, -5.2356, -5.2356, -5.2356, -5.2356, -5.2356, -5.6276, -5.6276, -5.6276, -5.6276, -5.6276, -5.6276, -5.6276, -5.6276, -5.6276, -5.6276, -5.6276, -5.6276, -5.6276, -5.6276, -5.6276, -5.6276, -5.6276, -5.6276, -4.2718, -4.2718, -3.8187, -5.2356, -5.2356, -4.4063, -4.0741, -4.7527, -4.7411, -4.1113, -3.6788, -4.9547, -3.6009, -5.0822, -4.9695, -4.9547, -4.3254, -5.2356, -4.9918, -4.5582, -4.7002, -4.682, -5.0546, -5.0658, -5.076, -5.1004, -5.0752, -5.0915, -5.2356, -5.1857, -5.1857, -5.1857, -5.1857, -5.1858, -5.1858, -5.1858, -4.5128, -3.877, -4.7937, -5.2181, -4.0124, -5.1858, -5.8397, -4.8445, -5.8397, -4.2159, -5.8397, -5.8397, -5.8397, -5.8397, -5.8397, -5.8397, -5.8397, -5.8397, -5.8397, -5.8397, -5.8397, -5.8397, -5.8397, -4.8504, -4.803, -5.1857, -5.1858, -4.8138, -4.7937, -3.9739, -5.1857, -5.1857, -5.1857, -4.9554, -3.4113, -4.9854, -5.1857, -3.1751, -4.67, -4.3367, -4.0799, -4.3279, -4.2805, -4.9271, -4.7428, -4.9823, -5.1012, -5.0351, -5.1016, -5.069, -5.1231, -5.1341, -5.1757, -4.6385, -4.6385, -4.1486, -4.1486, -5.0306, -5.0306, -5.0306, -5.0306, -5.0306, -5.0306, -5.0306, -5.0306, -5.0306, -5.0306, -5.0306, -5.0306, -5.0306, -4.4068, -4.6385, -5.1585, -5.0306, -5.0306, -5.0306, -4.6385, -4.4413, -3.8442, -4.6385, -4.6385, -5.0306, -5.0306, -3.2128, -4.0411, -3.4143, -4.3576, -4.4327, -4.6537, -4.2994, -4.4859, -4.8065, -4.6974, -4.9523, -4.9961, -4.9949, -5.0306, -5.0306]}, \"token.table\": {\"Topic\": [3, 2, 3, 4, 5, 7, 11, 12, 2, 3, 12, 2, 3, 4, 7, 11, 7, 11, 10, 10, 10, 1, 2, 3, 4, 5, 6, 7, 9, 10, 11, 3, 1, 2, 3, 4, 5, 6, 7, 8, 9, 10, 1, 1, 9, 9, 2, 4, 9, 10, 10, 11, 12, 12, 4, 8, 11, 4, 4, 4, 1, 2, 6, 9, 1, 6, 6, 6, 1, 6, 1, 2, 1, 4, 1, 3, 4, 5, 8, 12, 2, 3, 4, 10, 2, 3, 12, 3, 12, 2, 5, 7, 9, 10, 11, 2, 5, 10, 11, 2, 5, 1, 2, 3, 4, 5, 6, 7, 8, 9, 1, 2, 3, 4, 6, 7, 1, 8, 9, 9, 1, 2, 3, 5, 7, 10, 11, 1, 3, 5, 10, 11, 1, 3, 5, 1, 2, 6, 10, 5, 5, 12, 12, 2, 3, 4, 7, 8, 9, 10, 11, 8, 3, 4, 9, 11, 4, 2, 3, 4, 5, 6, 7, 8, 11, 2, 3, 4, 5, 6, 11, 3, 8, 7, 3, 5, 6, 8, 10, 11, 5, 3, 3, 5, 9, 10, 11, 1, 6, 1, 4, 5, 6, 7, 8, 9, 10, 11, 12, 7, 11, 5, 7, 11, 1, 12, 12, 4, 6, 4, 5, 1, 6, 7, 8, 11, 1, 6, 7, 8, 11, 1, 2, 3, 4, 5, 6, 10, 1, 2, 3, 4, 5, 6, 10, 10, 10, 2, 5, 1, 1, 2, 4, 5, 6, 7, 12, 1, 5, 6, 3, 1, 1, 2, 3, 4, 5, 6, 7, 8, 10, 12, 4, 2, 5, 6, 7, 10, 5, 10, 1, 2, 4, 5, 6, 7, 8, 10, 11, 12, 6, 11, 2, 2, 1, 1, 2, 4, 6, 8, 10, 1, 7, 9, 3, 7, 9, 8, 9, 10, 8, 2, 10, 4, 6, 7, 8, 9, 11, 10, 7, 7, 4, 6, 11, 3, 7, 1, 3, 4, 8, 9, 10, 1, 2, 3, 4, 5, 6, 10, 1, 2, 4, 5, 5, 2, 9, 10, 2, 9, 9, 9, 10, 2, 7, 3, 5, 6, 8, 1, 3, 7, 8, 11, 12, 10, 7, 7, 3, 7, 6, 7, 2, 3, 10, 2, 10, 2, 5, 9, 12, 9, 9, 12, 9, 10, 2, 2, 6, 8, 2, 2, 5, 8, 10, 11, 5, 11, 5, 11, 1, 3, 4, 6, 10, 1, 6, 10, 5, 10, 10, 7, 7, 10, 3, 5, 6, 7, 10, 12, 3, 5, 6, 10, 12, 5, 9, 5, 12, 4, 7, 9, 11, 3, 6, 7, 8, 11, 7, 3, 3, 1, 3, 5, 10, 11, 1, 3, 3, 5, 5, 1, 3, 7, 2, 3, 7, 9, 10, 10, 1, 2, 3, 8, 8, 1, 6, 1, 10, 2, 1, 4, 7, 9, 9, 1, 3, 5, 1, 3, 1, 1, 4, 2, 5, 10, 2, 5, 10, 3, 10, 2, 7, 9, 10, 2, 5, 12, 2, 2, 3, 3, 10, 11, 5, 11, 5, 11, 1, 2, 3, 4, 5, 6, 7, 9, 10, 11, 1, 6, 10, 2, 1, 2, 5, 1, 3, 5, 6, 7, 12, 2, 3, 5, 6, 12, 1, 5, 6, 7, 2, 6, 8, 12, 2, 8, 12, 2, 3, 6, 7, 11, 6, 1, 4, 7, 8, 9, 11, 9, 3, 4, 8, 11, 1, 3, 7, 10, 2, 9, 10, 11, 2, 1, 5, 12, 12, 1, 4, 5, 10, 11, 12, 2, 3, 6, 8, 11, 1, 4, 6, 8, 12, 12, 4, 5, 8, 11, 5, 8, 11, 9, 7, 9, 9, 3, 4, 8, 9, 10, 11, 10, 11, 10, 11, 5, 8, 9, 10, 8, 10, 8, 8, 2, 6, 2, 3, 4, 5, 6, 7, 11, 12, 6, 6, 3, 10, 4, 5, 4, 4, 2, 3, 4, 7, 12, 2, 3, 7, 12, 2, 6, 2, 3, 8, 10, 11, 12, 3, 3, 3, 2, 8, 10, 11, 12, 9, 11, 2, 2, 3, 8, 3, 4, 8, 3, 4, 1, 2, 3, 4, 5, 6, 8, 9, 10, 11, 1, 3, 5, 1, 2, 1, 1, 2, 4, 6, 8, 4, 12, 8, 8, 1, 4, 10, 2, 1, 2, 4, 5, 9, 10, 12, 9, 12, 4, 4, 10, 3, 2, 4, 7, 9, 2, 3, 6, 6, 12, 5, 7, 9, 7, 3, 4, 7, 9, 10, 12, 2, 3, 4, 11, 4, 11, 4, 4, 3, 11, 2, 3, 4, 5, 6, 7, 8, 9, 10, 11, 12, 6, 11, 12, 6, 1, 2, 3, 4, 6, 7, 10, 11, 12, 11, 12, 1, 5, 7, 8, 5, 2, 3, 4, 5, 7, 8, 11, 3, 7, 2, 10, 10, 4, 11, 4, 4, 6, 7, 7, 3, 4, 4, 3, 4, 4, 3, 4, 5, 11, 5, 4, 11, 11, 7, 8, 8, 1, 2, 3, 5, 6, 7, 10, 11, 5, 5, 7, 2, 3, 4, 7, 8, 11, 6, 8, 4, 6, 4, 11, 11, 3, 5, 8, 2, 3, 7, 8, 11, 2, 10, 11, 2, 7, 1, 2, 3, 4, 5, 6, 7, 10, 12, 4, 2, 3, 2, 3, 8, 10, 1, 3, 10, 3, 1, 2, 3, 4, 11, 1, 2, 8, 7, 7, 7, 7, 5, 7, 5, 4, 5, 10, 11, 12, 5, 8, 8, 4, 6, 12, 2, 3, 11, 3, 8, 11, 5, 7, 5, 3, 8, 9, 10, 11, 7, 1, 2, 5, 7, 8, 7, 7, 8, 8, 5, 7, 10, 10, 5, 7, 4, 5, 6, 7, 10, 11, 6, 6, 4, 5, 6, 10, 11, 4, 8, 12, 12, 1, 2, 5, 8, 9, 12, 12, 1, 3, 4, 6, 7, 9, 10, 3, 5, 8, 10, 11, 5, 6, 10, 11, 6, 1, 6, 6, 6, 6, 6, 6, 1, 6, 6, 1, 2, 1, 1, 4, 4, 3, 5, 1, 7, 6, 6, 1, 2, 3, 4, 5, 6, 8, 9, 10, 11, 1, 1, 1, 4, 11, 10, 2, 4, 5, 5, 8, 4, 11, 1, 6, 1, 6, 11, 1, 2, 10, 2, 10, 9, 9, 6, 6, 1, 2, 4, 5, 9, 12, 5, 5, 2, 5, 12, 2, 2, 6, 1, 2, 4, 5, 6, 10, 2, 4, 6, 10, 6, 6, 3, 4, 5, 6, 7, 11, 6, 1, 2, 3, 5, 6, 7, 9, 12, 9, 9, 3, 1, 3, 6, 2, 7, 12, 12, 1, 2, 1, 4, 5, 4, 9, 5, 6, 8, 10, 10, 1, 3, 10, 8, 8, 3, 3, 3, 8, 12, 4, 1, 2, 5, 2, 8, 1, 2, 4, 6, 7, 9, 11, 8, 3, 6, 7, 1, 12, 12, 12, 4, 1, 3, 6, 1, 6, 1, 1, 1, 7, 1, 3, 4, 5, 6, 8, 10, 11, 10, 11, 4, 2, 8, 2, 3, 4, 5, 6, 8, 10, 11, 12, 9, 11, 3, 2, 4, 8, 2, 8, 9, 4, 9, 7, 12, 1, 2, 3, 5, 6, 9, 10, 11, 11, 1, 2, 3, 5, 6, 9, 12, 12, 1, 6, 1, 2, 3, 4, 5, 6, 7, 8, 9, 10, 9, 2, 4, 5, 8, 1, 3, 10, 8, 5, 1, 6, 9, 8, 3, 10, 1, 2, 4, 6, 8, 2, 2, 5, 1, 2, 3, 4, 5, 6, 7, 8, 11, 12, 9, 8, 8, 1, 2, 6, 7, 11, 2, 2, 11, 6, 2, 4, 7, 1, 2, 3, 4, 7, 8, 11, 12, 11, 4, 8, 3, 5, 7, 1, 2, 4, 7, 8, 12, 2, 2, 1, 4, 12, 3, 4, 8, 10, 11, 12, 3, 8, 11, 12, 8, 6, 7, 9, 10, 11, 6, 11, 9, 9, 7, 2, 4, 10, 2, 3, 5, 6, 10, 11, 3, 3, 12, 2, 2, 2, 2, 1, 2, 3, 4, 5, 6, 9, 10, 1, 2], \"Freq\": [0.7629368743429085, 0.16672206371977877, 0.3751246433695022, 0.12504154778983406, 0.04168051592994469, 0.08336103185988938, 0.08336103185988938, 0.12504154778983406, 0.15011010016047635, 0.3002202003209527, 0.4503303004814291, 0.20395734297225118, 0.40791468594450236, 0.1359715619815008, 0.1359715619815008, 0.1359715619815008, 0.3990152902088637, 0.3990152902088637, 0.781005589617169, 0.781005589617169, 0.7810056011331615, 0.073307686469167, 0.054980764851875245, 0.1832692161729175, 0.23824998102479272, 0.10996152970375049, 0.146615372938334, 0.01832692161729175, 0.0366538432345835, 0.054980764851875245, 0.09163460808645875, 0.7629368489274903, 0.15306767582611822, 0.26786843269570687, 0.05102255860870607, 0.06377819826088259, 0.012755639652176517, 0.06377819826088259, 0.08928947756523563, 0.12755639652176518, 0.08928947756523563, 0.08928947756523563, 0.7511357934257914, 0.7511357934257914, 0.7727357800293714, 0.7727357800293714, 0.34430665130665844, 0.11476888376888615, 0.4590755350755446, 0.8788417805715941, 0.8788417805715941, 0.8156074308241402, 0.8272927546486315, 0.827292618469555, 0.6406769279905837, 0.10677948799843062, 0.21355897599686124, 0.7707083387885068, 0.7707083544912405, 0.7707083544912405, 0.5626582795084666, 0.09645570505859426, 0.2893671151757828, 0.03215190168619809, 0.425108794919159, 0.5384711402309348, 0.7726583629545304, 0.9255622932435877, 0.4136622697665399, 0.5170778372081749, 0.7684188949351801, 0.19210472373379503, 0.894868961665974, 0.7707082748618297, 0.10643248163438347, 0.10643248163438347, 0.21286496326876694, 0.10643248163438347, 0.31929744490315043, 0.10643248163438347, 0.2559384517538128, 0.2559384517538128, 0.1279692258769064, 0.38390767763071926, 0.3421084812495888, 0.1710542406247944, 0.3421084812495888, 0.2449915585456089, 0.4899831170912178, 0.26036294057060044, 0.13018147028530022, 0.06509073514265011, 0.06509073514265011, 0.19527220542795032, 0.19527220542795032, 0.13228503414651913, 0.13228503414651913, 0.3968551024395574, 0.26457006829303825, 0.76337985260679, 0.772919900085638, 0.21483569925167767, 0.04774126650037282, 0.07161189975055922, 0.2625769657520505, 0.07161189975055922, 0.02387063325018641, 0.11935316625093204, 0.07161189975055922, 0.09548253300074563, 0.3059843291241035, 0.08742409403545814, 0.08742409403545814, 0.39340842315956165, 0.04371204701772907, 0.08742409403545814, 0.7511357836846463, 0.1659114370690706, 0.6636457482762824, 0.771060060928312, 0.35144541249459765, 0.07809898055435503, 0.31239592221742013, 0.1431814643496509, 0.026032993518118348, 0.06508248379529587, 0.013016496759059174, 0.40716320774649384, 0.3393026731220782, 0.1583412474569698, 0.06786053462441564, 0.022620178208138546, 0.2268471305767718, 0.6805413917303154, 0.7729198867820685, 0.5258569712751411, 0.3004896978715092, 0.0751224244678773, 0.0751224244678773, 0.8686166597811578, 0.20564843302562794, 0.6169452990768838, 0.827293010451939, 0.03615392518331194, 0.25307747628318356, 0.25307747628318356, 0.07230785036662388, 0.1084617755499358, 0.14461570073324775, 0.07230785036662388, 0.03615392518331194, 0.789100047975366, 0.5778735316551483, 0.14446838291378708, 0.14446838291378708, 0.14446838291378708, 0.7707085160589172, 0.033544379621233605, 0.23481065734863524, 0.23481065734863524, 0.06708875924246721, 0.13417751848493442, 0.10063313886370082, 0.18449408791678484, 0.016772189810616803, 0.16478927222018436, 0.16478927222018436, 0.41197318055046084, 0.08239463611009218, 0.08239463611009218, 0.08239463611009218, 0.7181159406042015, 0.2872463762416806, 0.8372110644342982, 0.06496134468236593, 0.3897680680941956, 0.1948840340470978, 0.1948840340470978, 0.06496134468236593, 0.06496134468236593, 0.7729199152849725, 0.7629368217700759, 0.16901495889841955, 0.16901495889841955, 0.16901495889841955, 0.16901495889841955, 0.3380299177968391, 0.7511357855430135, 0.7726583653732467, 0.17181081765581013, 0.08590540882790507, 0.1288581132418576, 0.04295270441395253, 0.17181081765581013, 0.021476352206976267, 0.0644290566209288, 0.021476352206976267, 0.04295270441395253, 0.21476352206976268, 0.3990153059482899, 0.3990153059482899, 0.1309468280399498, 0.6547341401997491, 0.1309468280399498, 0.17635580799530293, 0.7054232319812117, 0.827292990585524, 0.6925974278327848, 0.23086580927759492, 0.6926675311690014, 0.23088917705633377, 0.402087813556182, 0.11488223244462344, 0.3446466973338703, 0.05744111622231172, 0.05744111622231172, 0.3833780178553593, 0.1277926726184531, 0.3194816815461327, 0.06389633630922655, 0.06389633630922655, 0.3573763866549241, 0.14715498274026287, 0.10511070195733063, 0.04204428078293225, 0.12613284234879676, 0.04204428078293225, 0.168177123131729, 0.37111284723348886, 0.13916731771255833, 0.04638910590418611, 0.04638910590418611, 0.13916731771255833, 0.04638910590418611, 0.18555642361674443, 0.7810056206843599, 0.781005569758758, 0.16478623075527174, 0.659144923021087, 0.7511357686111978, 0.3630973079642685, 0.207484175979582, 0.0518710439948955, 0.0518710439948955, 0.103742087989791, 0.1556131319846865, 0.0518710439948955, 0.7511357755093481, 0.7729199857256551, 0.7726583574289136, 0.8560288676023616, 0.8411999953944581, 0.02974604338109561, 0.17847626028657365, 0.05949208676219122, 0.08923813014328683, 0.17847626028657365, 0.11898417352438244, 0.11898417352438244, 0.05949208676219122, 0.08923813014328683, 0.05949208676219122, 0.7707083163350538, 0.13625439147586152, 0.27250878295172304, 0.2043815872137923, 0.13625439147586152, 0.2043815872137923, 0.7729198868336319, 0.8788417868161972, 0.091491605810294, 0.24397761549411734, 0.060994403873529335, 0.060994403873529335, 0.3049720193676467, 0.060994403873529335, 0.030497201936764667, 0.060994403873529335, 0.030497201936764667, 0.060994403873529335, 0.9255623865359246, 0.8156068985112671, 0.8565864112328048, 0.7633798613820837, 0.7511357668852867, 0.0467037768014264, 0.0467037768014264, 0.0467037768014264, 0.1401113304042792, 0.1868151072057056, 0.5137415448156903, 0.025454439252633847, 0.9418142523474523, 0.025454439252633847, 0.7629368641065657, 0.8514776182209394, 0.10643470227761742, 0.761956398257205, 0.08466182202857833, 0.08466182202857833, 0.791533977698456, 0.8130991529289262, 0.781005699958471, 0.3072543118431768, 0.12290172473727072, 0.3687051742118122, 0.06145086236863536, 0.06145086236863536, 0.06145086236863536, 0.7810056131516449, 0.781195359394203, 0.8790820596395063, 0.6666808463315917, 0.16667021158289794, 0.16667021158289794, 0.8560285653763315, 0.781195367208618, 0.07204375799504983, 0.2161312739851495, 0.14408751599009967, 0.14408751599009967, 0.28817503198019934, 0.14408751599009967, 0.1306459526591798, 0.1959689289887697, 0.0653229763295899, 0.16330744082397475, 0.3266148816479495, 0.0653229763295899, 0.03266148816479495, 0.15222997089625287, 0.2283449563443793, 0.15222997089625287, 0.38057492724063213, 0.9259377403697011, 0.08242114365461647, 0.886027294287127, 0.02060528591365412, 0.045235474447497606, 0.9273272261737009, 0.6962216264843909, 0.925673546428687, 0.7810056112456001, 0.8565864162017036, 0.8789022310578793, 0.3828531979454778, 0.3828531979454778, 0.1276177326484926, 0.7891000526131399, 0.14876973384196507, 0.2231546007629476, 0.2231546007629476, 0.07438486692098253, 0.07438486692098253, 0.2231546007629476, 0.7810056425094954, 0.9774661410383718, 0.9689125637640974, 0.7629368641065657, 0.879082039290397, 0.09765777694490081, 0.8789199925041074, 0.6535404618649642, 0.16338511546624104, 0.16338511546624104, 0.6888544965612596, 0.2296181655204199, 0.08256237006912488, 0.08256237006912488, 0.8049831081739676, 0.02064059251728122, 0.6962216264843909, 0.7727357843952476, 0.827293005578833, 0.925673546428687, 0.7810056112456001, 0.8565864162017036, 0.8565864162017036, 0.3910150119428031, 0.3910150119428031, 0.9122798412452421, 0.14921107247094278, 0.14921107247094278, 0.14921107247094278, 0.14921107247094278, 0.29842214494188557, 0.39684505158400624, 0.39684505158400624, 0.39684505158400624, 0.39684505158400624, 0.4451521889157733, 0.09892270864794962, 0.04946135432397481, 0.09892270864794962, 0.2967681259438488, 0.7511357668852867, 0.11703003132711706, 0.8192102192898195, 0.23365790645057552, 0.7009737193517266, 0.8788417726657292, 0.8790820697622723, 0.7811953747693584, 0.7810055959847767, 0.05837203541313185, 0.4669762833050548, 0.17511610623939555, 0.05837203541313185, 0.1167440708262637, 0.05837203541313185, 0.07263371928295916, 0.5810697542636732, 0.21790115784887745, 0.07263371928295916, 0.07263371928295916, 0.7729198868336319, 0.8683841509829696, 0.4819419390191068, 0.4819419390191068, 0.3535393198298009, 0.11784643994326698, 0.23569287988653395, 0.23569287988653395, 0.11736818623781982, 0.23473637247563964, 0.35210455871345947, 0.11736818623781982, 0.11736818623781982, 0.7811953747692663, 0.7629368217700304, 0.762936835054607, 0.39918706668030973, 0.35483294816027533, 0.15523941482012044, 0.044354118520034416, 0.022177059260017208, 0.2268471305767718, 0.6805413917303154, 0.7629368418064857, 0.7729198867820685, 0.7729198867820685, 0.7473763485685997, 0.18684408714214992, 0.7811953446518649, 0.12882622225461982, 0.12882622225461982, 0.12882622225461982, 0.12882622225461982, 0.38647866676385945, 0.7810056129593428, 0.2088850199849875, 0.31332752997748126, 0.10444250999249376, 0.31332752997748126, 0.7891000439339214, 0.6897184045393301, 0.17242960113483252, 0.8355229447456969, 0.7810056163472463, 0.76337985260679, 0.1645502933838177, 0.1645502933838177, 0.1645502933838177, 0.3291005867676354, 0.7727358043428352, 0.5870082176033007, 0.26682191709240943, 0.10672876683696376, 0.6390887862719601, 0.31954439313598004, 0.7511357894344353, 0.19051175022951633, 0.5715352506885489, 0.14442463736298744, 0.5776985494519498, 0.21663695604448116, 0.1444246377001171, 0.5776985508004684, 0.21663695655017562, 0.7632939666511207, 0.19082349166278018, 0.6117277023913111, 0.15293192559782778, 0.15293192559782778, 0.07646596279891389, 0.9122798627086921, 0.7729198949298074, 0.6252604994941193, 0.7633798748618117, 0.32508526568618745, 0.4876278985292812, 0.8560286251156755, 0.39896579496683954, 0.39896579496683954, 0.39684504035467666, 0.39684504035467666, 0.39684504035467666, 0.39684504035467666, 0.05933376838410452, 0.2966688419205226, 0.05933376838410452, 0.02966688419205226, 0.11866753676820904, 0.05933376838410452, 0.02966688419205226, 0.05933376838410452, 0.08900065257615677, 0.11866753676820904, 0.22942195477518273, 0.6882658643255483, 0.7810056035403308, 0.7633798556494684, 0.16248283539332142, 0.6499313415732857, 0.16248283539332142, 0.2792908741804129, 0.027929087418041284, 0.3072199615984541, 0.3351490490164954, 0.027929087418041284, 0.027929087418041284, 0.6840912319372098, 0.2280304106457366, 0.1805616608174687, 0.6319658128611404, 0.1805616608174687, 0.31135496729347956, 0.5189249454891326, 0.10378498909782653, 0.051892494548913266, 0.44851997235608615, 0.08970399447121723, 0.3588159778848689, 0.08970399447121723, 0.2945486193929902, 0.44182292908948534, 0.1472743096964951, 0.13147574940567813, 0.13147574940567813, 0.26295149881135627, 0.13147574940567813, 0.26295149881135627, 0.7726583512499421, 0.06860487153779216, 0.1372097430755843, 0.1372097430755843, 0.1372097430755843, 0.3430243576889608, 0.06860487153779216, 0.7710600515112441, 0.16989623737645995, 0.16989623737645995, 0.3397924747529199, 0.3397924747529199, 0.11603665283180595, 0.11603665283180595, 0.5801832641590298, 0.11603665283180595, 0.3880894617657767, 0.07761789235315535, 0.3104715694126214, 0.1552357847063107, 0.7633798526067399, 0.23881177172572485, 0.23881177172572485, 0.4776235434514497, 0.8272930327359983, 0.21679452488641224, 0.4335890497728245, 0.07226484162880407, 0.07226484162880407, 0.07226484162880407, 0.07226484162880407, 0.21353026189896207, 0.10676513094948104, 0.10676513094948104, 0.42706052379792414, 0.10676513094948104, 0.1461067538761586, 0.3652668846903965, 0.1461067538761586, 0.21916013081423788, 0.1461067538761586, 0.8272928774046294, 0.11818442687771202, 0.4727377075108481, 0.11818442687771202, 0.23636885375542405, 0.5877456461258119, 0.14693641153145298, 0.14693641153145298, 0.7727357884114591, 0.1930772378948457, 0.7723089515793828, 0.7727357788620149, 0.21989555023401006, 0.07329851674467001, 0.14659703348934003, 0.14659703348934003, 0.29319406697868006, 0.14659703348934003, 0.39896578963625035, 0.39896578963625035, 0.39896578963625035, 0.39896578963625035, 0.0289728483225058, 0.8691854496751739, 0.0289728483225058, 0.0579456966450116, 0.9005724350936261, 0.07204579480749009, 0.7891000625566877, 0.7891000529384213, 0.2305514169172822, 0.6916542507518466, 0.0387314580494749, 0.05809718707421235, 0.1936572902473745, 0.17429156122263706, 0.1549258321978996, 0.29048593537106177, 0.01936572902473745, 0.0387314580494749, 0.7726583373737992, 0.7726583373737992, 0.760478956713028, 0.12674649278550468, 0.7690869571678314, 0.19227173929195784, 0.8658245498225889, 0.8658245498225889, 0.11102933051965264, 0.11102933051965264, 0.16654399577947895, 0.5551466525982631, 0.05551466525982632, 0.1298943793800473, 0.1298943793800473, 0.6494718969002365, 0.06494718969002365, 0.6866734709035713, 0.2288911569678571, 0.2547076624803841, 0.560356857456845, 0.050941532496076816, 0.025470766248038408, 0.050941532496076816, 0.025470766248038408, 0.7589025515121559, 0.762936848286865, 0.7629368497189841, 0.42917778989082955, 0.10729444747270739, 0.10729444747270739, 0.10729444747270739, 0.21458889494541478, 0.39679648248705307, 0.39679648248705307, 0.7633798526067278, 0.14381909443611865, 0.5752763777444746, 0.2876381888722373, 0.7629368328701664, 0.7730324644281574, 0.19325811610703936, 0.6858012078139635, 0.2286004026046545, 0.2656763832219917, 0.3415839212854179, 0.0379537690317131, 0.0379537690317131, 0.13283819161099586, 0.01897688451585655, 0.01897688451585655, 0.01897688451585655, 0.0759075380634262, 0.0379537690317131, 0.6232749265083964, 0.12465498530167927, 0.12465498530167927, 0.12598968016919018, 0.7559380810151412, 0.8412000995431228, 0.22696462197940717, 0.6808938659382215, 0.7707083752494169, 0.6985305218884896, 0.2328435072961632, 0.30419044760339453, 0.6083808952067891, 0.7891000504907639, 0.7891000504907639, 0.287250758190427, 0.574501516380854, 0.7810056213982849, 0.8565864066756942, 0.14701735509939814, 0.07350867754969907, 0.07350867754969907, 0.14701735509939814, 0.14701735509939814, 0.14701735509939814, 0.22052603264909723, 0.3045058858713716, 0.6090117717427432, 0.7707083118016123, 0.7707083541348136, 0.8788417371615304, 0.7629368228953294, 0.2310673169273962, 0.07702243897579873, 0.2310673169273962, 0.3851121948789937, 0.7633798571916198, 0.7629368296028118, 0.7726583749763235, 0.304493870983694, 0.608987741967388, 0.16556769120178325, 0.16556769120178325, 0.662270764807133, 0.7811953615785641, 0.14524891863610664, 0.4357467559083199, 0.14524891863610664, 0.07262445931805332, 0.07262445931805332, 0.07262445931805332, 0.08937215459351049, 0.08937215459351049, 0.6256050821545733, 0.17874430918702097, 0.703669125860917, 0.23455637528697235, 0.7707083387886945, 0.8658245901615407, 0.6683836787077307, 0.33419183935386537, 0.05983317113380813, 0.11966634226761626, 0.05983317113380813, 0.11966634226761626, 0.14958292783452032, 0.17949951340142437, 0.08974975670071218, 0.08974975670071218, 0.05983317113380813, 0.05983317113380813, 0.029916585566904064, 0.3009059434624638, 0.6018118869249276, 0.8272928660711245, 0.7726583574289136, 0.18768606551413528, 0.04692151637853382, 0.09384303275706764, 0.09384303275706764, 0.18768606551413528, 0.04692151637853382, 0.04692151637853382, 0.04692151637853382, 0.18768606551413528, 0.41070433704868076, 0.41070433704868076, 0.7511357768408472, 0.9159309521091634, 0.02410344610813588, 0.04820689221627176, 0.9625883717546653, 0.041413894786783395, 0.11733936856255296, 0.6143061060039537, 0.013804631595594466, 0.07592547377576955, 0.048316210584580625, 0.08282778957356679, 0.7629368290223439, 0.7811953652159891, 0.23277852581737624, 0.6983355774521287, 0.8788417774320406, 0.6325528233074712, 0.3162764116537356, 0.6922219155057149, 0.5769977301505816, 0.19233257671686055, 0.7811953696300042, 0.7811953696300042, 0.29559287399189066, 0.7020330757307404, 0.7707083158896547, 0.7589025585590358, 0.7707083470704152, 0.7707083470704152, 0.14005186726058788, 0.7002593363029395, 0.07002593363029394, 0.07002593363029394, 0.7729198850028987, 0.3454909270717989, 0.5182363906076983, 0.8156074168392121, 0.14823571683393186, 0.7411785841696593, 0.7915339998043854, 0.04198824068442961, 0.04198824068442961, 0.08397648136885923, 0.6928059712930886, 0.020994120342214807, 0.04198824068442961, 0.020994120342214807, 0.04198824068442961, 0.7729199154345272, 0.7724008153011213, 0.12873346921685355, 0.05281066054224086, 0.184837311897843, 0.5413092705579687, 0.05281066054224086, 0.03960799540668064, 0.13202665135560215, 0.7749917465553035, 0.19374793663882586, 0.6926646153193663, 0.23088820510645544, 0.7448275850101548, 0.2128078814314728, 0.8156073493638303, 0.4787050044016068, 0.38296400352128546, 0.09574100088032136, 0.16059433663376207, 0.08029716831688104, 0.08029716831688104, 0.16059433663376207, 0.48178300990128625, 0.3945057165747691, 0.19725285828738456, 0.3945057165747691, 0.6889036804759245, 0.2296345601586415, 0.0661655162407745, 0.23157930684271075, 0.4466172346252279, 0.049624137180580875, 0.03308275812038725, 0.0661655162407745, 0.016541379060193626, 0.08270689530096813, 0.016541379060193626, 0.7707083589977616, 0.26200338931000483, 0.6986757048266795, 0.10415039348691361, 0.6249023609214817, 0.10415039348691361, 0.10415039348691361, 0.28377474431987787, 0.5675494886397557, 0.14188737215993893, 0.7629368312149462, 0.14697429571543127, 0.14697429571543127, 0.14697429571543127, 0.14697429571543127, 0.29394859143086255, 0.19378994284742454, 0.19378994284742454, 0.5813698285422736, 0.837511773570564, 0.8790821414441609, 0.7817449780383829, 0.7811953832967635, 0.7246930454806731, 0.14493860909613462, 0.8261323117265663, 0.0787242625244424, 0.393621312622212, 0.2361727875733272, 0.1574485250488848, 0.0787242625244424, 0.7729199203393137, 0.9510141318528993, 0.9244067523469767, 0.7679519785270886, 0.12799199642118142, 0.4100387159795189, 0.7633798622725257, 0.3986577309087721, 0.3986577309087721, 0.7629368687267709, 0.40106741364363346, 0.40106741364363346, 0.3885082682793603, 0.3885082682793603, 0.8686167819190408, 0.23746726729012024, 0.11873363364506012, 0.11873363364506012, 0.23746726729012024, 0.23746726729012024, 0.7811954022215798, 0.0724601235008651, 0.2173803705025953, 0.0724601235008651, 0.5072208645060557, 0.0724601235008651, 0.7811953656427584, 0.16930296515795615, 0.6772118606318246, 0.7891000593375745, 0.7729198811667832, 0.7811953529127231, 0.7810056011331615, 0.7810056011331615, 0.14611609238129758, 0.730580461906488, 0.3182839718640931, 0.09093827767545516, 0.09093827767545516, 0.09093827767545516, 0.13640741651318275, 0.2728148330263655, 0.7726583749761371, 0.7726583749761371, 0.15979438183664565, 0.15979438183664565, 0.07989719091832283, 0.15979438183664565, 0.3994859545916141, 0.47671500367712183, 0.11917875091928046, 0.23835750183856091, 0.6252604920885235, 0.16002420123832317, 0.16002420123832317, 0.08001210061916159, 0.08001210061916159, 0.08001210061916159, 0.40006050309580793, 0.8272929888560056, 0.12120451070329451, 0.12120451070329451, 0.12120451070329451, 0.12120451070329451, 0.12120451070329451, 0.3030112767582363, 0.12120451070329451, 0.7629368217698548, 0.14946771656348232, 0.4484031496904469, 0.14946771656348232, 0.29893543312696463, 0.198501898934133, 0.198501898934133, 0.198501898934133, 0.397003797868266, 0.9255624341954279, 0.4149442997872547, 0.5532590663830063, 0.7726583629545304, 0.7726583629545304, 0.7726583451943569, 0.9255622932435877, 0.7726583512607169, 0.41366226976653986, 0.5170778372081748, 0.7726583330405085, 0.7684188948148911, 0.19210472370372278, 0.894868961665974, 0.8419115798654163, 0.7707082748618297, 0.7707082748618297, 0.6863837378338316, 0.22879457927794386, 0.751525844434128, 0.187881461108532, 0.7726583455515599, 0.7726583455515599, 0.2303666751848933, 0.17720513475761024, 0.08860256737880512, 0.12404359433032716, 0.1417641078060882, 0.03544102695152205, 0.008860256737880512, 0.04430128368940256, 0.10632308085456614, 0.03544102695152205, 0.8412000547120424, 0.8412000547120424, 0.7511357668852425, 0.7707083215318223, 0.8156074180646564, 0.8788417732700942, 0.13558973243769815, 0.06779486621884907, 0.7457435284073398, 0.7729198853093767, 0.7890999716210634, 0.47710602578029826, 0.47710602578029826, 0.5226723498022915, 0.43556029150190956, 0.12842953458002251, 0.6421476729001125, 0.12842953458002251, 0.894848108473107, 0.14615477946921002, 0.8769286768152601, 0.1461547794889056, 0.8769286769334336, 0.9076246566471231, 0.907624656647123, 0.7726583543002402, 0.7726583543002402, 0.1644375012179664, 0.1233281259134748, 0.0822187506089832, 0.4933125036538992, 0.0822187506089832, 0.0411093753044916, 0.8686166130225054, 0.7712417273781752, 0.14599367515277675, 0.583974700611107, 0.14599367515277675, 0.7633798560404569, 0.7633798556494684, 0.8682864158506531, 0.1267419052995848, 0.44359666854854674, 0.0633709526497924, 0.0633709526497924, 0.1267419052995848, 0.1267419052995848, 0.4784372642088115, 0.0956874528417623, 0.1913749056835246, 0.1913749056835246, 0.7726583512493773, 0.7726583512493773, 0.4139853378175546, 0.18399348347446873, 0.2299918543430859, 0.04599837086861718, 0.04599837086861718, 0.04599837086861718, 0.8682863575497344, 0.17792092042561952, 0.07116836817024781, 0.28467347268099125, 0.11861394695041302, 0.16605952573057822, 0.011861394695041303, 0.04744557878016521, 0.09489115756033042, 0.7727357851873314, 0.7727357851873314, 0.9116472002723517, 0.28466059484147405, 0.094886864947158, 0.5693211896829481, 0.199807701029727, 0.399615402059454, 0.399615402059454, 0.8272930055151358, 0.6110434916535482, 0.3055217458267741, 0.841200009462591, 0.8064254408427606, 0.11520363440610865, 0.8957873728183061, 0.7727357653609638, 0.19275725549329856, 0.7710290219731942, 0.7891000407910547, 0.8788417771645909, 0.8788417771645909, 0.17779230911541963, 0.17779230911541963, 0.6222730819039687, 0.7891000142108173, 0.7891000142108173, 0.7629368217697424, 0.7629368217697424, 0.5181284136352394, 0.2590642068176197, 0.12953210340880986, 0.770708378376306, 0.7511357874100314, 0.6869240928309798, 0.2289746976103266, 0.8565866270984359, 0.7890999998341997, 0.6886439810389233, 0.07248884010936035, 0.036244420054680176, 0.10873326016404052, 0.036244420054680176, 0.036244420054680176, 0.036244420054680176, 0.7890999146238794, 0.7629368274690342, 0.772658343071392, 0.781195424133141, 0.17635580799492903, 0.7054232319797161, 0.827292990585524, 0.827292990585524, 0.7707083131757544, 0.5821137756238921, 0.03880758504159281, 0.3104606803327425, 0.47174734823805486, 0.47174734823805486, 0.7511357968065518, 0.9262751017080014, 0.8948479373837521, 0.7033795985097602, 0.04469743575487819, 0.04469743575487819, 0.17878974301951275, 0.04469743575487819, 0.3575794860390255, 0.08939487150975638, 0.08939487150975638, 0.08939487150975638, 0.39896578131205124, 0.39896578131205124, 0.7707086425847057, 0.2349332949885549, 0.7047998849656646, 0.22497644606235956, 0.32139492294622796, 0.0642789845892456, 0.0321394922946228, 0.0321394922946228, 0.16069746147311398, 0.09641847688386838, 0.0321394922946228, 0.0321394922946228, 0.39679648248705307, 0.39679648248705307, 0.7629368497194774, 0.2918692481367216, 0.1459346240683608, 0.4378038722050824, 0.23480592400526254, 0.7044177720157876, 0.7727357677976571, 0.19263859836570624, 0.770554393462825, 0.407862792482193, 0.407862792482193, 0.1493499940258382, 0.18668749253229774, 0.11201249551937865, 0.11201249551937865, 0.03733749850645955, 0.18668749253229774, 0.0746749970129191, 0.1493499940258382, 0.8156074180646564, 0.21303929126382176, 0.05325982281595544, 0.18640937985584402, 0.1597794684478663, 0.21303929126382176, 0.10651964563191088, 0.05325982281595544, 0.827292730754576, 0.9304520133707875, 0.8682863471192807, 0.23673818819301368, 0.12175106821354989, 0.08116737880903326, 0.08793132704311936, 0.10145922351129157, 0.128515016447636, 0.02705579293634442, 0.06763948234086105, 0.060875534106774945, 0.08793132704311936, 0.7727357532425493, 0.7633798526069163, 0.7682112009484712, 0.12803520015807854, 0.7891000407910547, 0.19290119699066458, 0.09645059849533229, 0.675154189467326, 0.7891000142108173, 0.7729199763223866, 0.8116162013163266, 0.10145202516454083, 0.05072601258227041, 0.7890999146238794, 0.7629368274690342, 0.7810056089660629, 0.12168463516504752, 0.24336927033009503, 0.12168463516504752, 0.18252695274757127, 0.3042115879126188, 0.7633798696427082, 0.7633798696427082, 0.8686166469831926, 0.08517329679936822, 0.2768132145979467, 0.05678219786624548, 0.11356439573249096, 0.021293324199842055, 0.05678219786624548, 0.15615104413217507, 0.19873769253185916, 0.021293324199842055, 0.01419554946656137, 0.7727355821900194, 0.8911629199488963, 0.791533977698456, 0.2122528935672538, 0.47756901052632106, 0.18572128187134707, 0.07959483508772017, 0.05306322339181345, 0.763379847525879, 0.7717416454017206, 0.19293541135043016, 0.7709636813788255, 0.9122798075953619, 0.23350625826408292, 0.7005187747922488, 0.05873255969966232, 0.08809883954949348, 0.02936627984983116, 0.17619767909898695, 0.17619767909898695, 0.41112791789763625, 0.02936627984983116, 0.05873255969966232, 0.8156072786428993, 0.7707083469155268, 0.7891002475869229, 0.510081155220575, 0.12752028880514374, 0.2550405776102875, 0.03859750400501972, 0.42457254405521694, 0.07719500801003944, 0.15439001602007887, 0.1929875200250986, 0.03859750400501972, 0.7633798622727418, 0.8565864029000425, 0.14690785940514295, 0.4407235782154289, 0.2938157188102859, 0.18530647712379378, 0.11118388627427626, 0.44473554509710506, 0.07412259084951751, 0.03706129542475876, 0.11118388627427626, 0.15876115198153903, 0.6350446079261561, 0.07938057599076952, 0.07938057599076952, 0.7891000567841504, 0.20573478203009804, 0.06857826067669935, 0.4114695640601961, 0.20573478203009804, 0.06857826067669935, 0.39677608976631984, 0.39677608976631984, 0.8258799267062403, 0.8258799267062403, 0.7811953747695685, 0.7633798696427082, 0.5271089297610729, 0.3162653578566438, 0.17999720994048723, 0.08999860497024362, 0.17999720994048723, 0.08999860497024362, 0.2699958149107308, 0.17999720994048723, 0.7629368217698291, 0.5129970589916106, 0.3419980393277405, 0.7633798526075247, 0.7633798526075247, 0.7633798696427082, 0.7633798696427082, 0.4754871890515606, 0.05943589863144508, 0.11887179726289016, 0.02971794931572254, 0.11887179726289016, 0.08915384794716762, 0.08915384794716762, 0.02971794931572254, 0.7473312149286455, 0.18683280373216138], \"Term\": [\"1on1\", \"ab\", \"ab\", \"ab\", \"ab\", \"ab\", \"ab\", \"ab\", \"ab test\", \"ab test\", \"ab test\", \"ab testing\", \"ab testing\", \"ab testing\", \"ab testing\", \"ab testing\", \"ab testing survey\", \"ab testing survey\", \"affinity\", \"affinity mapping\", \"alongs\", \"analysis\", \"analysis\", \"analysis\", \"analysis\", \"analysis\", \"analysis\", \"analysis\", \"analysis\", \"analysis\", \"analysis\", \"analysis survey\", \"analytics\", \"analytics\", \"analytics\", \"analytics\", \"analytics\", \"analytics\", \"analytics\", \"analytics\", \"analytics\", \"analytics\", \"analytics card\", \"analytics card sorting\", \"analytics focus\", \"analytics focus group\", \"analytics survey\", \"analytics survey\", \"analytics survey\", \"analytics usability\", \"analytics usability testing\", \"applied\", \"approach\", \"behalf\", \"behavioral\", \"behavioral\", \"behavioral\", \"behavioral attitudinal\", \"behavioral data\", \"behavioral data analysis\", \"card\", \"card\", \"card\", \"card\", \"card sort\", \"card sort\", \"card sort diary\", \"card sort survey\", \"card sort tree\", \"card sort tree\", \"card sorting\", \"card sorting\", \"card sorting tree\", \"card sorting usability\", \"client\", \"client\", \"client\", \"client\", \"client\", \"client\", \"codesign\", \"codesign\", \"codesign\", \"codesign\", \"cognitive\", \"cognitive\", \"cognitive\", \"cognitive walkthroughs\", \"cognitive walkthroughs\", \"competitive\", \"competitive\", \"competitive\", \"competitive\", \"competitive\", \"competitive\", \"competitive analysis\", \"competitive analysis\", \"competitive analysis\", \"competitive analysis\", \"competitive research usability\", \"competitor analysis\", \"concept\", \"concept\", \"concept\", \"concept\", \"concept\", \"concept\", \"concept\", \"concept\", \"concept\", \"concept testing\", \"concept testing\", \"concept testing\", \"concept testing\", \"concept testing\", \"concept testing\", \"concept testing diary\", \"concept validation\", \"concept validation\", \"concept validation usability\", \"contextual\", \"contextual\", \"contextual\", \"contextual\", \"contextual\", \"contextual\", \"contextual\", \"contextual inquiry\", \"contextual inquiry\", \"contextual inquiry\", \"contextual inquiry\", \"contextual inquiry\", \"contextual inquiry interview\", \"contextual inquiry interview\", \"contextual inquiry survey\", \"contextual interview\", \"contextual interview\", \"contextual interview\", \"contextual interview\", \"contextual research\", \"currently\", \"currently\", \"currently using\", \"customer\", \"customer\", \"customer\", \"customer\", \"customer\", \"customer\", \"customer\", \"customer\", \"customer experience\", \"customer interview\", \"customer interview\", \"customer interview\", \"customer interview\", \"customer user\", \"data\", \"data\", \"data\", \"data\", \"data\", \"data\", \"data\", \"data\", \"data analysis\", \"data analysis\", \"data analysis\", \"data analysis\", \"data analysis\", \"data analysis\", \"data analytics\", \"data analytics\", \"data science\", \"decision\", \"decision\", \"decision\", \"decision\", \"decision\", \"decision\", \"decision making\", \"demand\", \"depends\", \"depends\", \"depends\", \"depends\", \"depends\", \"depth interview diary\", \"depth interview usability\", \"design\", \"design\", \"design\", \"design\", \"design\", \"design\", \"design\", \"design\", \"design\", \"design\", \"design product\", \"design product\", \"design research\", \"design research\", \"design research\", \"design thinking\", \"design thinking\", \"design thinking service\", \"design workshop\", \"design workshop\", \"designer\", \"designer\", \"desk\", \"desk\", \"desk\", \"desk\", \"desk\", \"desk research\", \"desk research\", \"desk research\", \"desk research\", \"desk research\", \"diary\", \"diary\", \"diary\", \"diary\", \"diary\", \"diary\", \"diary\", \"diary study\", \"diary study\", \"diary study\", \"diary study\", \"diary study\", \"diary study\", \"diary study\", \"diary study contextual\", \"diary study observation\", \"diary study survey\", \"diary study survey\", \"diary study usability\", \"discovery\", \"discovery\", \"discovery\", \"discovery\", \"discovery\", \"discovery\", \"discovery\", \"discovery workshop\", \"discoverygenerative\", \"early\", \"empathy\", \"ethno\", \"ethnographic\", \"ethnographic\", \"ethnographic\", \"ethnographic\", \"ethnographic\", \"ethnographic\", \"ethnographic\", \"ethnographic\", \"ethnographic\", \"ethnographic\", \"ethnographic observation\", \"ethnographic research\", \"ethnographic research\", \"ethnographic research\", \"ethnographic research\", \"ethnographic research\", \"ethnographic research indepth\", \"ethnographic research interview\", \"ethnography\", \"ethnography\", \"ethnography\", \"ethnography\", \"ethnography\", \"ethnography\", \"ethnography\", \"ethnography\", \"ethnography\", \"ethnography\", \"ethnography interview\", \"ethnography quantitative\", \"ethnography user\", \"ethnography user testing\", \"evals\", \"evaluation\", \"evaluation\", \"evaluation\", \"evaluation\", \"evaluation\", \"evaluation\", \"evaluative\", \"evaluative\", \"evaluative\", \"evaluative contextual\", \"evaluative research\", \"evaluative research\", \"experience\", \"experience\", \"experience\", \"experience research\", \"experiment\", \"experimental\", \"exploratory\", \"exploratory\", \"exploratory\", \"exploratory\", \"exploratory\", \"exploratory\", \"exploratory ethnographic\", \"exploratory evaluative\", \"exploratory generative\", \"exploratory research\", \"exploratory research\", \"exploratory research\", \"eyetracking\", \"facetoface\", \"feedback\", \"feedback\", \"feedback\", \"feedback\", \"feedback\", \"feedback\", \"field\", \"field\", \"field\", \"field\", \"field\", \"field\", \"field\", \"field study\", \"field study\", \"field study\", \"field study\", \"field study survey\", \"focus\", \"focus\", \"focus\", \"focus group\", \"focus group\", \"focus group cocreation\", \"focus group interview\", \"focus group survey\", \"focus group user\", \"focused\", \"form\", \"form\", \"form\", \"formative\", \"foundational\", \"foundational\", \"foundational\", \"foundational\", \"foundational\", \"foundational\", \"foundational validation\", \"generative\", \"generative evaluative\", \"generative evaluative contextual\", \"generative evaluative research\", \"generative research\", \"generative research\", \"google\", \"google\", \"google\", \"google analytics\", \"google analytics\", \"group\", \"group\", \"group\", \"group\", \"group cocreation\", \"group cocreation workshop\", \"group individual\", \"group interview\", \"group survey\", \"group user\", \"group user interview\", \"guerilla\", \"guerilla\", \"heavy\", \"help\", \"help\", \"help\", \"help\", \"help\", \"help make\", \"help make\", \"help make decision\", \"help make decision\", \"heuristic\", \"heuristic\", \"heuristic\", \"heuristic\", \"heuristic\", \"heuristic evals\", \"heuristic evaluation\", \"heuristic evaluation\", \"home\", \"home\", \"home visit\", \"hypothesis\", \"hypothesis testing\", \"incontext\", \"indepth\", \"indepth\", \"indepth\", \"indepth\", \"indepth\", \"indepth\", \"indepth interview\", \"indepth interview\", \"indepth interview\", \"indepth interview\", \"indepth interview\", \"indepth interview cocreation\", \"indepth interview focus\", \"individual\", \"individual\", \"industry\", \"industry\", \"industry\", \"industry\", \"inform\", \"inform\", \"inform\", \"inform\", \"inform\", \"inform product\", \"inhouse\", \"inperson remote\", \"inquiry\", \"inquiry\", \"inquiry\", \"inquiry\", \"inquiry\", \"inquiry interview\", \"inquiry interview\", \"inquiry interview survey\", \"inquiry survey\", \"inquiry survey interview\", \"inquiry usability testing\", \"inquiry usability testing\", \"intelligence\", \"intercept\", \"intercept\", \"intercept\", \"intercept\", \"intercept\", \"intercept survey\", \"internal\", \"internal\", \"internal\", \"internal\", \"international\", \"interview card\", \"interview card\", \"interview card sorting\", \"interview codesign\", \"interview competitive research\", \"interview concept\", \"interview concept\", \"interview concept\", \"interview concept\", \"interview concept validation\", \"interview contextual\", \"interview contextual\", \"interview contextual\", \"interview contextual inquiry\", \"interview contextual inquiry\", \"interview contextual interview\", \"interview field study\", \"interview field study\", \"interview focus\", \"interview focus\", \"interview focus\", \"interview focus group\", \"interview focus group\", \"interview focus group\", \"interview moderated\", \"interview moderated\", \"interview observation\", \"interview observation\", \"interview observation\", \"interview observation\", \"interview observation usability\", \"interview online survey\", \"interview prototype\", \"interview questionnaire\", \"interview remote\", \"interview remote\", \"interview remote moderated\", \"interview secondary research\", \"interview secondary research\", \"interview site\", \"interview site\", \"interview site visit\", \"interview site visit\", \"interview survey\", \"interview survey\", \"interview survey\", \"interview survey\", \"interview survey\", \"interview survey\", \"interview survey\", \"interview survey\", \"interview survey\", \"interview survey\", \"interview survey card\", \"interview survey card\", \"interview survey diary\", \"interview survey observation\", \"interview survey usability\", \"interview survey usability\", \"interview survey usability\", \"interview usability\", \"interview usability\", \"interview usability\", \"interview usability\", \"interview usability\", \"interview usability\", \"interview usability study\", \"interview usability study\", \"interview usability test\", \"interview usability test\", \"interview usability test\", \"interview usability testing\", \"interview usability testing\", \"interview usability testing\", \"interview usability testing\", \"interview user\", \"interview user\", \"interview user\", \"interview user\", \"interview user testing\", \"interview user testing\", \"interview user testing\", \"interviewing\", \"interviewing\", \"interviewing\", \"interviewing\", \"interviewing\", \"interviewing usability\", \"journey\", \"journey\", \"journey\", \"journey\", \"journey\", \"journey\", \"journey map\", \"journey mapping\", \"journey mapping\", \"journey mapping\", \"journey mapping\", \"kind\", \"kind\", \"kind\", \"kind\", \"lab\", \"lab\", \"lab\", \"lab\", \"lab remote\", \"lean\", \"lean\", \"lean\", \"lean ux\", \"like\", \"like\", \"like\", \"like\", \"like\", \"like\", \"lot\", \"lot\", \"lot\", \"lot\", \"lot\", \"mainly\", \"mainly\", \"mainly\", \"mainly\", \"mainly\", \"mainly usability\", \"make\", \"make\", \"make\", \"make\", \"make decision\", \"make decision\", \"make decision\", \"manager\", \"map\", \"map\", \"map journey\", \"mapping\", \"mapping\", \"mapping\", \"mapping\", \"mapping\", \"mapping\", \"mapping competitive\", \"mapping competitive\", \"mapping competitive analysis\", \"mapping competitive analysis\", \"market\", \"market\", \"market\", \"market\", \"market research\", \"market research\", \"market research analytics\", \"market research usability\", \"marketing\", \"marketing\", \"method\", \"method\", \"method\", \"method\", \"method\", \"method\", \"method\", \"method\", \"method interview\", \"method interview contextual\", \"metric\", \"metric\", \"mix\", \"mix\", \"mix qualitative\", \"mix qualitative quantitative\", \"mixed\", \"mixed\", \"mixed\", \"mixed\", \"mixed\", \"mixed method\", \"mixed method\", \"mixed method\", \"mixed method\", \"mixture\", \"mixture\", \"moderated\", \"moderated\", \"moderated\", \"moderated\", \"moderated\", \"moderated\", \"moderated remote\", \"moderated remote moderated\", \"moderated survey\", \"moderated unmoderated\", \"moderated unmoderated\", \"moderated unmoderated\", \"moderated unmoderated\", \"moderated unmoderated\", \"moderated unmoderated interview\", \"moderated unmoderated interview\", \"moderated unmoderated usability\", \"moderated usability testing\", \"moderated usability testing\", \"moderated usability testing\", \"moderated user test\", \"needed\", \"needed\", \"np\", \"np\", \"observation\", \"observation\", \"observation\", \"observation\", \"observation\", \"observation\", \"observation\", \"observation\", \"observation\", \"observation\", \"observation interview\", \"observation interview\", \"observation interview\", \"observation usability\", \"observation usability\", \"observation usability testing\", \"observation user\", \"observation user\", \"observational research\", \"observing\", \"observing\", \"occasional\", \"occasional\", \"odi\", \"odi survey\", \"onsite\", \"onsite\", \"organisation\", \"paper\", \"participatory\", \"participatory\", \"participatory\", \"participatory\", \"participatory\", \"participatory\", \"participatory\", \"participatory design session\", \"participatory design session\", \"participatory design workshop\", \"pendo\", \"people\", \"person remote\", \"persona\", \"persona\", \"persona\", \"persona\", \"persona user\", \"pilot\", \"planning\", \"point\", \"point\", \"poll\", \"poll\", \"poll\", \"possible\", \"primarily\", \"primarily\", \"primarily\", \"primarily\", \"primarily\", \"primarily\", \"primary\", \"primary\", \"primary\", \"primary\", \"primary qualitative\", \"primary qualitative\", \"primary qualitative research\", \"primary secondary\", \"problem\", \"problem\", \"product\", \"product\", \"product\", \"product\", \"product\", \"product\", \"product\", \"product\", \"product\", \"product\", \"product\", \"product team\", \"product team\", \"product usability\", \"program survey\", \"prototype\", \"prototype\", \"prototype\", \"prototype\", \"prototype\", \"prototype\", \"prototype\", \"prototype\", \"prototype\", \"prototype interview\", \"prototype interview\", \"proxy\", \"qual\", \"qual\", \"qual\", \"qual quant\", \"qualitative\", \"qualitative\", \"qualitative\", \"qualitative\", \"qualitative\", \"qualitative\", \"qualitative\", \"qualitative contextual\", \"qualitative desk\", \"qualitative generative\", \"qualitative generative\", \"qualitative generative evaluative\", \"qualitative interview\", \"qualitative interview\", \"qualitative interview survey\", \"qualitative method\", \"qualitative method\", \"qualitative mixed\", \"qualitative mixed method\", \"qualitative quantitative\", \"qualitative quantitative\", \"qualitative quantitative method\", \"qualitative quantitative research\", \"qualitative remote\", \"qualitative remote interview\", \"qualitative research\", \"qualitative research\", \"qualitative research\", \"qualitative research\", \"qualitative research indepth\", \"qualitative usability\", \"qualitative usability\", \"qualitative usability study\", \"qualitative user\", \"qualitative user\", \"qualitative user research\", \"quant\", \"quant\", \"quant\", \"quant\", \"quant\", \"quant\", \"quant\", \"quant\", \"quant analytics\", \"quant qual\", \"quant qual\", \"quantitative\", \"quantitative\", \"quantitative\", \"quantitative\", \"quantitative\", \"quantitative\", \"quantitative data\", \"quantitative data\", \"quantitative method\", \"quantitative method\", \"quantitative qualitative\", \"quantitative qualitative\", \"quantitative qualitative research\", \"quantitative research\", \"quantitative research\", \"quantitative research\", \"quantitative survey\", \"quantitative survey\", \"quantitative survey\", \"quantitative survey\", \"quantitative survey\", \"range\", \"range\", \"range\", \"recording\", \"recording\", \"remote\", \"remote\", \"remote\", \"remote\", \"remote\", \"remote\", \"remote\", \"remote\", \"remote\", \"remote interview unmoderated\", \"remote moderated\", \"remote moderated\", \"remote unmoderated\", \"remote unmoderated\", \"remote unmoderated\", \"remote unmoderated\", \"remote usability\", \"remote usability\", \"remote usability\", \"remote usability test\", \"report\", \"report\", \"report\", \"report\", \"report\", \"research analytics\", \"research analytics\", \"research analytics\", \"research design\", \"research design research\", \"research generative\", \"research generative research\", \"research indepth\", \"research indepth\", \"research indepth interview\", \"research interview\", \"research interview\", \"research interview\", \"research interview\", \"research interview\", \"research interview usability\", \"research market\", \"research market research\", \"research method\", \"research method\", \"research observational\", \"research persona\", \"research qualitative\", \"research qualitative\", \"research qualitative quantitative\", \"research quantitative\", \"research quantitative\", \"research secondary\", \"research secondary\", \"research secondary research\", \"research survey\", \"research survey\", \"research survey\", \"research survey\", \"research survey\", \"research trend\", \"research usability\", \"research usability\", \"research usability\", \"research usability\", \"research usability\", \"research usability research\", \"research user\", \"research user\", \"research user research\", \"researcher\", \"resonance\", \"ride\", \"ride alongs\", \"science\", \"science\", \"secondary\", \"secondary\", \"secondary\", \"secondary\", \"secondary\", \"secondary\", \"secondary desk\", \"secondary desk research\", \"secondary research\", \"secondary research\", \"secondary research\", \"secondary research\", \"secondary research\", \"service\", \"service\", \"service\", \"service design\", \"session\", \"session\", \"session\", \"session\", \"session\", \"session\", \"session usability\", \"shadowing\", \"shadowing\", \"shadowing\", \"shadowing\", \"shadowing\", \"shadowing\", \"shadowing\", \"shopalongs\", \"site\", \"site\", \"site\", \"site\", \"site visit\", \"site visit\", \"site visit\", \"site visit\", \"social\", \"sort\", \"sort\", \"sort diary\", \"sort diary study\", \"sort prototype\", \"sort survey\", \"sort survey occasionally\", \"sort tree\", \"sort tree\", \"sort tree jack\", \"sorting\", \"sorting\", \"sorting tree\", \"sorting tree testing\", \"sorting usability\", \"sorting usability testing\", \"space\", \"space\", \"sprint\", \"sprint\", \"stage\", \"stage product\", \"study\", \"study\", \"study\", \"study\", \"study\", \"study\", \"study\", \"study\", \"study\", \"study\", \"study diary\", \"study diary study\", \"study discovery\", \"study dscout\", \"study moderated\", \"study observation\", \"study survey\", \"study survey\", \"study survey\", \"study survey focus\", \"support data\", \"sure\", \"sure\", \"survey card\", \"survey card\", \"survey card sort\", \"survey card sort\", \"survey card sort\", \"survey card sorting\", \"survey diary\", \"survey diary\", \"survey diary study\", \"survey diary study\", \"survey focus\", \"survey focus group\", \"survey indepth\", \"survey indepth interview\", \"survey interview\", \"survey interview\", \"survey interview\", \"survey interview\", \"survey interview\", \"survey interview\", \"survey interview contextual\", \"survey interview focus\", \"survey interview usability\", \"survey interview usability\", \"survey interview usability\", \"survey lab\", \"survey observation\", \"survey questionnaire\", \"survey usability\", \"survey usability\", \"survey usability\", \"survey usability\", \"survey usability\", \"survey usability\", \"survey usability testing\", \"survey usability testing\", \"survey usability testing\", \"survey usability testing\", \"surveying\", \"surveying analytics\", \"team\", \"team\", \"team\", \"team\", \"team\", \"team\", \"telemetry\", \"test\", \"test\", \"test\", \"test\", \"test\", \"test\", \"test\", \"test\", \"test focus\", \"test focus group\", \"test remote\", \"test survey\", \"test survey\", \"test survey\", \"testing ab\", \"testing ab\", \"testing ab\", \"testing ab test\", \"testing card\", \"testing card\", \"testing card sort\", \"testing concept\", \"testing concept\", \"testing concept testing\", \"testing content\", \"testing ethnography\", \"testing ethnography\", \"testing guerilla\", \"testing heuristic\", \"testing heuristic evaluation\", \"testing interview\", \"testing interview\", \"testing interview\", \"testing journey\", \"testing journey mapping\", \"testing log\", \"testing log analysis\", \"testing moderated\", \"testing moderated\", \"testing moderated\", \"testing qualitative interview\", \"testing quant survey\", \"testing quantitative\", \"testing quantitative\", \"testing quantitative survey\", \"testing remote unmoderated\", \"testing survey\", \"testing survey\", \"testing survey\", \"testing survey\", \"testing survey\", \"testing survey\", \"testing survey\", \"testing unmoderated\", \"testing ux\", \"testing working\", \"text analysis\", \"thinking\", \"thinking\", \"thinking service\", \"thinking service design\", \"tool like\", \"tree\", \"tree\", \"tree\", \"tree test\", \"tree test\", \"tree test survey\", \"tree testing\", \"tree testing card\", \"trend\", \"type\", \"type\", \"type\", \"type\", \"type\", \"type\", \"type\", \"type\", \"type qualitative\", \"type qualitative\", \"type user\", \"typically\", \"typically\", \"unmoderated\", \"unmoderated\", \"unmoderated\", \"unmoderated\", \"unmoderated\", \"unmoderated\", \"unmoderated\", \"unmoderated\", \"unmoderated\", \"unmoderated interview\", \"unmoderated interview\", \"unmoderated moderated\", \"unmoderated usability\", \"unmoderated usability\", \"unmoderated usability\", \"unmoderated usability testing\", \"unmoderated usability testing\", \"usability card\", \"usability interview\", \"usability interview\", \"usability research\", \"usability research\", \"usability study\", \"usability study\", \"usability study\", \"usability study\", \"usability study\", \"usability study\", \"usability study\", \"usability study\", \"usability study moderated\", \"usability test\", \"usability test\", \"usability test\", \"usability test\", \"usability test\", \"usability test\", \"usability test\", \"usability test card\", \"usability test interview\", \"usability test survey\", \"usability testing\", \"usability testing\", \"usability testing\", \"usability testing\", \"usability testing\", \"usability testing\", \"usability testing\", \"usability testing\", \"usability testing\", \"usability testing\", \"usability testing card\", \"usability testing competitive\", \"usability testing concept\", \"usability testing concept\", \"usability testing guerilla\", \"usability testing interview\", \"usability testing interview\", \"usability testing interview\", \"usability testing journey\", \"usability testing quantitative\", \"usability testing survey\", \"usability testing survey\", \"usability testing survey\", \"usability testing unmoderated\", \"usability testing ux\", \"usage analytics usability\", \"use\", \"use\", \"use\", \"use\", \"use\", \"use wide\", \"use wide variety\", \"used\", \"user\", \"user\", \"user\", \"user\", \"user\", \"user\", \"user\", \"user\", \"user\", \"user\", \"user analytics\", \"user experience\", \"user experience research\", \"user interview\", \"user interview\", \"user interview\", \"user interview\", \"user interview\", \"user interview remote\", \"user interview survey\", \"user interview survey\", \"user interview usability\", \"user interview user\", \"user need\", \"user need\", \"user research\", \"user research\", \"user research\", \"user research\", \"user research\", \"user research\", \"user research\", \"user research\", \"user research interview\", \"user research method\", \"user survey\", \"user test\", \"user test\", \"user test\", \"user testing\", \"user testing\", \"user testing\", \"user testing\", \"user testing\", \"user testing\", \"user testing usability\", \"usertestingcom\", \"using\", \"using\", \"using\", \"ux\", \"ux\", \"ux\", \"ux\", \"ux\", \"ux\", \"ux research\", \"ux research\", \"ux research\", \"ux research\", \"ux research market\", \"validation\", \"validation\", \"validation\", \"validation\", \"validation\", \"validation testing\", \"validation testing\", \"validation usability\", \"validation usability testing\", \"validative\", \"variety method\", \"various\", \"various\", \"visit\", \"visit\", \"visit\", \"visit\", \"visit\", \"visit\", \"walking\", \"walkthroughs\", \"walkthroughs\", \"white\", \"white paper\", \"wide variety\", \"wide variety method\", \"workshop\", \"workshop\", \"workshop\", \"workshop\", \"workshop\", \"workshop\", \"workshop\", \"workshop\", \"workshop survey\", \"workshop survey\"]}, \"R\": 30, \"lambda.step\": 0.01, \"plot.opts\": {\"xlab\": \"PC1\", \"ylab\": \"PC2\"}, \"topic.order\": [7, 5, 11, 9, 10, 1, 3, 4, 8, 2, 6, 12]};\n",
       "\n",
       "function LDAvis_load_lib(url, callback){\n",
       "  var s = document.createElement('script');\n",
       "  s.src = url;\n",
       "  s.async = true;\n",
       "  s.onreadystatechange = s.onload = callback;\n",
       "  s.onerror = function(){console.warn(\"failed to load library \" + url);};\n",
       "  document.getElementsByTagName(\"head\")[0].appendChild(s);\n",
       "}\n",
       "\n",
       "if(typeof(LDAvis) !== \"undefined\"){\n",
       "   // already loaded: just create the visualization\n",
       "   !function(LDAvis){\n",
       "       new LDAvis(\"#\" + \"ldavis_el351921122812704564534655860\", ldavis_el351921122812704564534655860_data);\n",
       "   }(LDAvis);\n",
       "}else if(typeof define === \"function\" && define.amd){\n",
       "   // require.js is available: use it to load d3/LDAvis\n",
       "   require.config({paths: {d3: \"https://cdnjs.cloudflare.com/ajax/libs/d3/3.5.5/d3.min\"}});\n",
       "   require([\"d3\"], function(d3){\n",
       "      window.d3 = d3;\n",
       "      LDAvis_load_lib(\"https://cdn.rawgit.com/bmabey/pyLDAvis/files/ldavis.v1.0.0.js\", function(){\n",
       "        new LDAvis(\"#\" + \"ldavis_el351921122812704564534655860\", ldavis_el351921122812704564534655860_data);\n",
       "      });\n",
       "    });\n",
       "}else{\n",
       "    // require.js not available: dynamically load d3 & LDAvis\n",
       "    LDAvis_load_lib(\"https://cdnjs.cloudflare.com/ajax/libs/d3/3.5.5/d3.min.js\", function(){\n",
       "         LDAvis_load_lib(\"https://cdn.rawgit.com/bmabey/pyLDAvis/files/ldavis.v1.0.0.js\", function(){\n",
       "                 new LDAvis(\"#\" + \"ldavis_el351921122812704564534655860\", ldavis_el351921122812704564534655860_data);\n",
       "            })\n",
       "         });\n",
       "}\n",
       "</script>"
      ],
      "text/plain": [
       "PreparedData(topic_coordinates=              x         y  topics  cluster       Freq\n",
       "topic                                                \n",
       "6      0.207589  0.052360       1        1  13.676678\n",
       "4      0.032184  0.020413       2        1  11.290721\n",
       "10     0.005043  0.106848       3        1  10.889831\n",
       "8     -0.140239  0.064209       4        1  10.505808\n",
       "9      0.098969  0.039095       5        1   9.862213\n",
       "0      0.112573  0.037091       6        1   8.878324\n",
       "2     -0.131461 -0.004226       7        1   8.045328\n",
       "3     -0.158868  0.005553       8        1   6.904929\n",
       "7      0.023566 -0.297597       9        1   6.569153\n",
       "1      0.068783 -0.029959      10        1   6.351638\n",
       "5     -0.098644  0.020007      11        1   3.822953\n",
       "11    -0.019494 -0.013793      12        1   3.202424, topic_info=     Category        Freq                      Term       Total  loglift  \\\n",
       "659   Default  144.000000               qualitative  144.000000  30.0000   \n",
       "278   Default   48.000000                     focus   48.000000  29.0000   \n",
       "279   Default   44.000000               focus group   44.000000  28.0000   \n",
       "308   Default   48.000000                     group   48.000000  27.0000   \n",
       "296   Default   40.000000                generative   40.000000  26.0000   \n",
       "...       ...         ...                       ...         ...      ...   \n",
       "1102  Topic12    1.759872            usability test   37.551758   0.3808   \n",
       "444   Topic12    1.684512  interview usability test   11.076549   1.5579   \n",
       "216   Topic12    1.686537              ethnographic   33.617916   0.4489   \n",
       "982   Topic12    1.627385                testing ab    5.004812   2.3178   \n",
       "1171  Topic12    1.627385                     using    6.806988   2.0103   \n",
       "\n",
       "      logprob  \n",
       "659   30.0000  \n",
       "278   29.0000  \n",
       "279   28.0000  \n",
       "308   27.0000  \n",
       "296   26.0000  \n",
       "...       ...  \n",
       "1102  -4.9523  \n",
       "444   -4.9961  \n",
       "216   -4.9949  \n",
       "982   -5.0306  \n",
       "1171  -5.0306  \n",
       "\n",
       "[738 rows x 6 columns], token_table=      Topic      Freq             Term\n",
       "term                                  \n",
       "4         3  0.762937             1on1\n",
       "5         2  0.166722               ab\n",
       "5         3  0.375125               ab\n",
       "5         4  0.125042               ab\n",
       "5         5  0.041681               ab\n",
       "...     ...       ...              ...\n",
       "1207      6  0.089154         workshop\n",
       "1207      9  0.089154         workshop\n",
       "1207     10  0.029718         workshop\n",
       "1208      1  0.747331  workshop survey\n",
       "1208      2  0.186833  workshop survey\n",
       "\n",
       "[1307 rows x 3 columns], R=30, lambda_step=0.01, plot_opts={'xlab': 'PC1', 'ylab': 'PC2'}, topic_order=[7, 5, 11, 9, 10, 1, 3, 4, 8, 2, 6, 12])"
      ]
     },
     "execution_count": 91,
     "metadata": {},
     "output_type": "execute_result"
    }
   ],
   "source": [
    "pyLDAvis.sklearn.prepare(lda6, types_res_used_matrix, types_res_used_vector)"
   ]
  },
  {
   "cell_type": "code",
   "execution_count": 96,
   "metadata": {},
   "outputs": [
    {
     "data": {
      "text/plain": [
       "['qualitative',\n",
       " 'quantitative',\n",
       " 'qualitative quantitative',\n",
       " 'quantitative research',\n",
       " 'qualitative quantitative research',\n",
       " 'user',\n",
       " 'design',\n",
       " 'quant',\n",
       " 'qual',\n",
       " 'analytics',\n",
       " 'user research',\n",
       " 'research design',\n",
       " 'design research',\n",
       " 'research interview',\n",
       " 'interview survey',\n",
       " 'user testing',\n",
       " 'testing quant',\n",
       " 'quant qual',\n",
       " 'user research design',\n",
       " 'research design research']"
      ]
     },
     "execution_count": 96,
     "metadata": {},
     "output_type": "execute_result"
    }
   ],
   "source": [
    "blob = nlp.show_persona_keywords(types_res_used, max_df=.3, min_df=2, ngram_range=(1,3), n_keywords=20)\n",
    "\n",
    "blob"
   ]
  },
  {
   "cell_type": "code",
   "execution_count": null,
   "metadata": {},
   "outputs": [],
   "source": []
  }
 ],
 "metadata": {
  "kernelspec": {
   "display_name": "Python 3",
   "language": "python",
   "name": "python3"
  },
  "language_info": {
   "codemirror_mode": {
    "name": "ipython",
    "version": 3
   },
   "file_extension": ".py",
   "mimetype": "text/x-python",
   "name": "python",
   "nbconvert_exporter": "python",
   "pygments_lexer": "ipython3",
   "version": "3.7.3"
  }
 },
 "nbformat": 4,
 "nbformat_minor": 2
}

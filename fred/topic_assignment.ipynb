{
 "cells": [
  {
   "cell_type": "code",
   "execution_count": null,
   "metadata": {},
   "outputs": [],
   "source": [
    "import sys\n",
    "sys.path.append('../')\n",
    "import wrangle\n",
    "import nlp\n",
    "\n",
    "from sklearn.decomposition import LatentDirichletAllocation\n",
    "from sklearn.feature_extraction.text import CountVectorizer\n",
    "import pandas as pd\n",
    "import numpy as np"
   ]
  },
  {
   "cell_type": "code",
   "execution_count": null,
   "metadata": {},
   "outputs": [],
   "source": [
    "stop_words = ['like', 'plus', 'real', 'love', 'big', 'avoiding', 'mean', 'content', 'people', 'problem', \n",
    "              'doing', 'using','research', 'work', 'don', 'make', 'conference', 'yes', 've', 'ha']\n",
    "\n",
    "stopWords = nlp.set_stop_words(stop_words)"
   ]
  },
  {
   "cell_type": "code",
   "execution_count": null,
   "metadata": {},
   "outputs": [],
   "source": [
    "big_df = pd.read_csv('topics.csv', index_col=False)\n",
    "\n",
    "big_df.drop('Unnamed: 0', axis=1,inplace=True)"
   ]
  },
  {
   "cell_type": "code",
   "execution_count": null,
   "metadata": {},
   "outputs": [],
   "source": [
    "input_column = big_df.big_answer"
   ]
  },
  {
   "cell_type": "code",
   "execution_count": null,
   "metadata": {},
   "outputs": [],
   "source": [
    "#texts=[\"dog cat fish\",\"dog cat cat\",\"fish bird\",\"bird\"]    \n",
    "\n",
    "cv = CountVectorizer(max_df=.5, min_df=2, stop_words=stopWords, ngram_range=(1,3))   \n",
    "cv_fit=cv.fit_transform(input_column)    \n",
    "word_list = cv.get_feature_names()    \n",
    "count_list = cv_fit.toarray().sum(axis=0) "
   ]
  },
  {
   "cell_type": "code",
   "execution_count": null,
   "metadata": {},
   "outputs": [],
   "source": [
    "word_list"
   ]
  },
  {
   "cell_type": "code",
   "execution_count": null,
   "metadata": {},
   "outputs": [],
   "source": [
    "def find_word_counts(input_column, max_df=.3, min_df=2, ngram_range=(1,3), stop_words='english'):\n",
    "    input_column = input_column.dropna().apply(nlp.basic_clean)\n",
    "    input_column = input_column.apply(nlp.lemmatize)\n",
    "    cv = CountVectorizer(max_df=max_df, min_df=min_df, stop_words=stop_words, ngram_range=ngram_range)   \n",
    "    cv_fit=cv.fit_transform(input_column)    \n",
    "    word_list = cv.get_feature_names()    \n",
    "    count_list = cv_fit.toarray().sum(axis=0)\n",
    "    word_counts = {'word_list': word_list, 'count_list': count_list}\n",
    "    df_word_count = pd.DataFrame(data=word_counts)\n",
    "    return df_word_count"
   ]
  },
  {
   "cell_type": "code",
   "execution_count": null,
   "metadata": {},
   "outputs": [],
   "source": [
    "input_column = input_column.dropna().apply(nlp.basic_clean)\n",
    "input_column = input_column.apply(nlp.lemmatize)\n",
    "count_vect = CountVectorizer(max_df=.5, min_df=2, stop_words=stopWords, ngram_range=(1,3))\n",
    "count_vect.fit_transform(input_column)\n",
    "len(list(count_vect.vocabulary_.keys()))"
   ]
  },
  {
   "cell_type": "code",
   "execution_count": null,
   "metadata": {},
   "outputs": [],
   "source": [
    "spam = find_word_counts(big_df.big_answer)"
   ]
  },
  {
   "cell_type": "code",
   "execution_count": null,
   "metadata": {},
   "outputs": [],
   "source": [
    "spam"
   ]
  },
  {
   "cell_type": "code",
   "execution_count": null,
   "metadata": {},
   "outputs": [],
   "source": [
    "word_counts = {'word_list': word_list, 'count_list': count_list}"
   ]
  },
  {
   "cell_type": "code",
   "execution_count": null,
   "metadata": {},
   "outputs": [],
   "source": [
    "df_test = pd.DataFrame(data=word_counts)"
   ]
  },
  {
   "cell_type": "code",
   "execution_count": null,
   "metadata": {},
   "outputs": [],
   "source": [
    "df_test"
   ]
  },
  {
   "cell_type": "code",
   "execution_count": null,
   "metadata": {},
   "outputs": [],
   "source": [
    "input_column = input_column.dropna().apply(nlp.basic_clean)\n",
    "input_column = input_column.apply(nlp.lemmatize)\n",
    "count_vect = CountVectorizer(max_df=.3, min_df=2, stop_words=stopWords, ngram_range=(1,3))\n",
    "count_vect.fit_transform(input_column)\n",
    "blob = list(count_vect.vocabulary_.keys())"
   ]
  },
  {
   "cell_type": "code",
   "execution_count": null,
   "metadata": {},
   "outputs": [],
   "source": [
    "stop_words = ['nan', 'Nan', 'NaN', 'NAN']\n",
    "stopWords = nlp.set_stop_words(stop_words)"
   ]
  },
  {
   "cell_type": "code",
   "execution_count": null,
   "metadata": {},
   "outputs": [],
   "source": [
    "df, data_dict = wrangle.wrangle_data()"
   ]
  },
  {
   "cell_type": "code",
   "execution_count": null,
   "metadata": {},
   "outputs": [],
   "source": [
    "df_qual = df.select_dtypes(include='object')"
   ]
  },
  {
   "cell_type": "code",
   "execution_count": null,
   "metadata": {},
   "outputs": [],
   "source": [
    "df_qual.info()"
   ]
  },
  {
   "cell_type": "markdown",
   "metadata": {},
   "source": [
    "# 5 primary_industry             726 non-null category"
   ]
  },
  {
   "cell_type": "code",
   "execution_count": null,
   "metadata": {},
   "outputs": [],
   "source": [
    "def pair_topic_with_text(text_column, topic_column, prob_column, name):\n",
    "    text_column = text_column.reset_index()\n",
    "    test_df = pd.DataFrame()\n",
    "    test_df[name + '-text'] = text_column[text_column.columns[1]]\n",
    "    test_df[name + '-topic_id'] = topic_column\n",
    "    test_df[name + '-probability'] = prob_column\n",
    "    return test_df"
   ]
  },
  {
   "cell_type": "code",
   "execution_count": null,
   "metadata": {},
   "outputs": [],
   "source": [
    "blob = pair_topic_with_text(primary_industry, primary_industry_topics, primary_industry_prob, 'primary_industry')"
   ]
  },
  {
   "cell_type": "code",
   "execution_count": null,
   "metadata": {},
   "outputs": [],
   "source": [
    "blob"
   ]
  },
  {
   "cell_type": "code",
   "execution_count": null,
   "metadata": {},
   "outputs": [],
   "source": [
    "primary_industry = df.primary_industry.astype('str')\n",
    "\n",
    "primary_industry_topics, primary_industry_prob = nlp.assign_topic_column(primary_industry, ngram_range=(1,3), max_df=.3, stop_words=stopWords, n_components=8)\n",
    "\n",
    "primary_industry_df = nlp.pair_topic_with_text(primary_industry, primary_industry_topics, primary_industry_prob, 'prim_ind')\n",
    "\n",
    "primary_industry_df.prim_ind_topic_id.map(primary_industry_dict)"
   ]
  },
  {
   "cell_type": "code",
   "execution_count": null,
   "metadata": {},
   "outputs": [],
   "source": [
    "primary_industry_dict = {\n",
    "    0:'misc',\n",
    "    1:'fintech',\n",
    "    2:'education',\n",
    "    3:'government',\n",
    "    4:'software',\n",
    "    5:'healthcare',\n",
    "    6:'commerce/consulting',\n",
    "    7:'tech'\n",
    "}"
   ]
  },
  {
   "cell_type": "code",
   "execution_count": null,
   "metadata": {},
   "outputs": [],
   "source": [
    "prima"
   ]
  },
  {
   "cell_type": "markdown",
   "metadata": {},
   "source": [
    "# 6 types_res_used            690 non-null object"
   ]
  },
  {
   "cell_type": "code",
   "execution_count": null,
   "metadata": {},
   "outputs": [],
   "source": [
    "types_res = df.types_res_used\n",
    "\n",
    "types_res_topics = nlp.assign_topic_column(types_res, ngram_range=(1,3), max_df=.3, stop_words=stopWords, n_components=8)\n",
    "\n",
    "types_res_probs = nlp.assign_topic_column_probability(types_res, ngram_range=(1,3), max_df=.3, stop_words=stopWords, n_components=8)\n",
    "\n",
    "types_res_df = nlp.pair_topic_with_text(types_res, types_res_topics, types_res_probs)"
   ]
  },
  {
   "cell_type": "code",
   "execution_count": null,
   "metadata": {},
   "outputs": [],
   "source": [
    "types_res_dict: {\n",
    "    0:\"evaluative, quantitative, qualitative\",\n",
    "    1:\"card sort\",\n",
    "    2:\"inquiry\",\n",
    "    3:\"moderate, unmoderate\",\n",
    "    4:\"focus group\",\n",
    "    5:\"market research\",\n",
    "    6:\"journey mapping\",\n",
    "    7:\"misc\"\n",
    "}"
   ]
  },
  {
   "cell_type": "code",
   "execution_count": null,
   "metadata": {},
   "outputs": [],
   "source": [
    "type_res_keys = nlp.show_persona_keywords(types_res_used, max_df=.3, min_df=2, ngram_range=(1,3), n_keywords=20)\n",
    "type_res_keys"
   ]
  },
  {
   "cell_type": "markdown",
   "metadata": {},
   "source": [
    "# 7 future_res                609 non-null object"
   ]
  },
  {
   "cell_type": "code",
   "execution_count": null,
   "metadata": {},
   "outputs": [],
   "source": [
    "future_res = df.future_res\n",
    "\n",
    "future_res_topics, future_res_probs = nlp.assign_topic_column(future_res, ngram_range=(1,3), max_df=.3, stop_words=stopWords, n_components=8)\n",
    "\n",
    "future_res_df = nlp.pair_topic_with_text(future_res, future_res_topics, future_res_probs)"
   ]
  },
  {
   "cell_type": "code",
   "execution_count": null,
   "metadata": {},
   "outputs": [],
   "source": [
    "future_res_df"
   ]
  },
  {
   "cell_type": "code",
   "execution_count": null,
   "metadata": {},
   "outputs": [],
   "source": [
    "future_res_dict = {    \n",
    "    0:\"evaluative, quantitative, qualitative\",\n",
    "    1:\"card sort\",\n",
    "    2:\"inquiry\",\n",
    "    3:\"moderate, unmoderate\",\n",
    "    4:\"focus group\",\n",
    "    5:\"market research\",\n",
    "    6:\"journey mapping\",\n",
    "    7:\"misc\"\n",
    "        }"
   ]
  },
  {
   "cell_type": "markdown",
   "metadata": {},
   "source": [
    "# 10 research_educ_desc        540 non-null object"
   ]
  },
  {
   "cell_type": "code",
   "execution_count": null,
   "metadata": {},
   "outputs": [],
   "source": [
    "research_educ = df.research_educ_desc\n",
    "\n",
    "research_educ_topics, research_educ_probs  = nlp.assign_topic_column(research_educ, ngram_range=(1,3), max_df=.3, stop_words=stopWords, n_components=6)\n",
    "\n",
    "research_educ_df = nlp.pair_topic_with_text(research_educ, research_educ_topics, research_educ_probs)"
   ]
  },
  {
   "cell_type": "code",
   "execution_count": null,
   "metadata": {},
   "outputs": [],
   "source": [
    "research_educ_dict = {\n",
    "0:'masters, bachelors',\n",
    "1:'class, running study',\n",
    "2:'degree majors',\n",
    "3:'online, non-degree',\n",
    "4:'experimental, psychology',\n",
    "5:'master degree'\n",
    "    }"
   ]
  },
  {
   "cell_type": "code",
   "execution_count": null,
   "metadata": {},
   "outputs": [],
   "source": []
  },
  {
   "cell_type": "markdown",
   "metadata": {},
   "source": [
    "# 14 how_pick_events           644 non-null object"
   ]
  },
  {
   "cell_type": "code",
   "execution_count": null,
   "metadata": {},
   "outputs": [],
   "source": [
    "how_pick_events = df.how_pick_events\n",
    "\n",
    "how_pick_events_topics, how_pick_events_probs = nlp.assign_topic_column(how_pick_events, ngram_range=(1,3), max_df=.3, stop_words=stopWords, n_components=6)\n",
    "\n",
    "how_pick_events_probs #= nlp.assign_topic_column_probability(how_pick_events, ngram_range=(1,3), max_df=.3, stop_words=stopWords, n_components=6)\n",
    "\n",
    "how_pick_events_df = nlp.pair_topic_with_text(how_pick_events, how_pick_events_topics, how_pick_events_probs)"
   ]
  },
  {
   "cell_type": "code",
   "execution_count": null,
   "metadata": {},
   "outputs": [],
   "source": [
    "#MONEY\n",
    "how_pick_events_dict = {0:'pay', 1:'value, reputation', 2:'price', 3:'reputation, value', 4:'subject, feel, theme', 5:'misc'}"
   ]
  },
  {
   "cell_type": "markdown",
   "metadata": {},
   "source": [
    "# 16 events_attend_recent      558 non-null object"
   ]
  },
  {
   "cell_type": "code",
   "execution_count": null,
   "metadata": {},
   "outputs": [],
   "source": [
    "events_attend_recent = df.events_attend_recent\n",
    "\n",
    "events_attend_recent_topics, events_attend_recent_probs  = nlp.assign_topic_column(events_attend_recent, ngram_range=(1,3), max_df=.3, stop_words=stopWords, n_components=7)\n",
    "\n",
    "events_attend_recent_df = nlp.pair_topic_with_text(events_attend_recent, events_attend_recent_topics, events_attend_recent_probs)"
   ]
  },
  {
   "cell_type": "code",
   "execution_count": null,
   "metadata": {},
   "outputs": [],
   "source": [
    "events_attend_recent_df[events_attend_recent_df.topic_id == 2].text.values"
   ]
  },
  {
   "cell_type": "code",
   "execution_count": null,
   "metadata": {},
   "outputs": [],
   "source": [
    "events_attend_recent_dict = {0:'london, user_research', 1:'service design, australia', 2:'webinar, brighton', 3:'toronto, strive', 4:'ia summit', 5:'local_meetups', 6:'urca, uxpa'}\n"
   ]
  },
  {
   "cell_type": "code",
   "execution_count": null,
   "metadata": {},
   "outputs": [],
   "source": [
    "dfs = [primary_industry_df, types_res_df, future_res_df, research_educ_df, how_pick_events_df, events_attend_recent_df, ideal_topics_df, ideal_attendees_df, recommendations_df]"
   ]
  },
  {
   "cell_type": "markdown",
   "metadata": {},
   "source": [
    "# 21 ideal_topics              560 non-null object"
   ]
  },
  {
   "cell_type": "code",
   "execution_count": null,
   "metadata": {},
   "outputs": [],
   "source": [
    "ideal_topics = df.ideal_topics\n",
    "\n",
    "ideal_topics_topics, ideal_topics_probs  = nlp.assign_topic_column(ideal_topics, ngram_range=(1,3), max_df=.3, stop_words=stopWords, n_components=4)\n",
    "\n",
    "ideal_topics_df = nlp.pair_topic_with_text(ideal_topics, ideal_topics_topics, ideal_topics_probs)"
   ]
  },
  {
   "cell_type": "code",
   "execution_count": null,
   "metadata": {},
   "outputs": [],
   "source": [
    "ideal_topics_df[ideal_topics_df.topic_id == 3].text.values"
   ]
  },
  {
   "cell_type": "code",
   "execution_count": null,
   "metadata": {},
   "outputs": [],
   "source": []
  },
  {
   "cell_type": "code",
   "execution_count": null,
   "metadata": {},
   "outputs": [],
   "source": [
    "q21_dict = {0 : 'case_study', 1 : 'quant/qual/data', 2 : 'ops/ai', 3 : 'new_method, mixed_method'}"
   ]
  },
  {
   "cell_type": "code",
   "execution_count": null,
   "metadata": {},
   "outputs": [],
   "source": []
  },
  {
   "cell_type": "code",
   "execution_count": null,
   "metadata": {},
   "outputs": [],
   "source": []
  },
  {
   "cell_type": "markdown",
   "metadata": {},
   "source": [
    "# 22 ideal_attendees           471 non-null object"
   ]
  },
  {
   "cell_type": "code",
   "execution_count": null,
   "metadata": {},
   "outputs": [],
   "source": [
    "ideal_attendees = df.ideal_attendees\n",
    "\n",
    "ideal_attendees_topics, ideal_attendees_probs  = nlp.assign_topic_column(ideal_attendees, ngram_range=(1,3), max_df=.3, stop_words=stopWords, n_components=4)\n",
    "\n",
    "ideal_attendees_df = nlp.pair_topic_with_text(ideal_attendees, ideal_attendees_topics, ideal_attendees_probs)"
   ]
  },
  {
   "cell_type": "code",
   "execution_count": null,
   "metadata": {},
   "outputs": [],
   "source": [
    "ideal_attendees_df[ideal_attendees_df.topic_id == 3].text.values"
   ]
  },
  {
   "cell_type": "code",
   "execution_count": null,
   "metadata": {},
   "outputs": [],
   "source": [
    "ideal_attendees_dict = {0: 'industry, team, product', 1 : 'experience, jared spool', 2 : 'sam ladner, erika hall', 3 : 'indi young'}"
   ]
  },
  {
   "cell_type": "code",
   "execution_count": null,
   "metadata": {},
   "outputs": [],
   "source": []
  },
  {
   "cell_type": "markdown",
   "metadata": {},
   "source": [
    "# 23 recommendations           494 non-null object"
   ]
  },
  {
   "cell_type": "code",
   "execution_count": null,
   "metadata": {},
   "outputs": [],
   "source": [
    "recommend_stopwords = ['research','conference','researcher','don','dont','just','people','make','talk']\n",
    "\n",
    "recommend_stopWords = nlp.set_stop_words(recommend_stopwords)\n",
    "\n",
    "recommendations = df.recommendations\n",
    "\n",
    "recommendations_topics, recommendations_probs  = nlp.assign_topic_column(recommendations, ngram_range=(1,3), max_df=.3, stop_words=recommend_stopWords, n_components=5)\n",
    "\n",
    "recommendations_df = nlp.pair_topic_with_text(recommendations, recommendations_topics, recommendations_probs)"
   ]
  },
  {
   "cell_type": "code",
   "execution_count": null,
   "metadata": {},
   "outputs": [],
   "source": [
    "recommendations_df[recommendations_df.topic_id == 0].text.values"
   ]
  },
  {
   "cell_type": "code",
   "execution_count": null,
   "metadata": {},
   "outputs": [],
   "source": [
    "recommendations_dict = {0 : 'speaker, industry', 1 : 'event, opportunity', 2 : 'good, know', 3 : 'field, survery', 4:'group, career, city'}"
   ]
  },
  {
   "cell_type": "markdown",
   "metadata": {},
   "source": [
    "# TEST"
   ]
  },
  {
   "cell_type": "code",
   "execution_count": null,
   "metadata": {},
   "outputs": [],
   "source": [
    "recommendations_df.topic_id.map(recommendations_dict)"
   ]
  },
  {
   "cell_type": "code",
   "execution_count": null,
   "metadata": {},
   "outputs": [],
   "source": []
  },
  {
   "cell_type": "code",
   "execution_count": null,
   "metadata": {},
   "outputs": [],
   "source": []
  },
  {
   "cell_type": "code",
   "execution_count": null,
   "metadata": {},
   "outputs": [],
   "source": []
  },
  {
   "cell_type": "code",
   "execution_count": 18,
   "metadata": {},
   "outputs": [],
   "source": [
    "import sys\n",
    "sys.path.append('../')\n",
    "import wrangle\n",
    "import nlp\n",
    "import explore\n",
    "\n",
    "from sklearn.decomposition import LatentDirichletAllocation\n",
    "from sklearn.feature_extraction.text import CountVectorizer\n",
    "import pandas as pd\n",
    "import numpy as np"
   ]
  },
  {
   "cell_type": "code",
   "execution_count": 2,
   "metadata": {},
   "outputs": [],
   "source": [
    "df, data_dict = wrangle.wrangle_data()"
   ]
  },
  {
   "cell_type": "code",
   "execution_count": 3,
   "metadata": {},
   "outputs": [],
   "source": [
    "import pyLDAvis\n",
    "import pyLDAvis.sklearn\n",
    "pyLDAvis.enable_notebook()\n",
    "\n",
    "import warnings\n",
    "warnings.filterwarnings(\"ignore\")"
   ]
  },
  {
   "cell_type": "code",
   "execution_count": 19,
   "metadata": {},
   "outputs": [],
   "source": [
    "df = explore.add_target_to_df(df)\n",
    "\n",
    "targetB = df.targetb\n",
    "\n",
    "targetB = targetB.reset_index().drop('resp_id',axis=1)\n",
    "\n",
    "big_df = pd.read_csv('topics.csv', index_col=False)\n",
    "\n",
    "big_df.drop('Unnamed: 0', axis=1,inplace=True)\n",
    "\n",
    "big_df['targetB'] = targetB\n",
    "\n",
    "likely = big_df[big_df.targetB == 1]"
   ]
  },
  {
   "cell_type": "code",
   "execution_count": 23,
   "metadata": {},
   "outputs": [],
   "source": [
    "stop_words = ['like', 'plus', 'real', 'love', 'big', 'avoiding', 'mean', 'content', 'problem', \n",
    "              'doing', 'using', 'work', 'don', 'make', 'yes', 've', 'ha', 'day', 'way',\n",
    "              'research','conference','researcher','dont','just','people','make','talk',\n",
    "             'good', 'event', 'getting', 'nan']\n",
    "\n",
    "recommend_stopwords = ['research','conference','researcher','don','dont','just','people','make','talk']\n",
    "\n",
    "\n",
    "stopWords = nlp.set_stop_words(stop_words)"
   ]
  },
  {
   "cell_type": "code",
   "execution_count": 31,
   "metadata": {},
   "outputs": [
    {
     "data": {
      "text/html": [
       "\n",
       "<link rel=\"stylesheet\" type=\"text/css\" href=\"https://cdn.rawgit.com/bmabey/pyLDAvis/files/ldavis.v1.0.0.css\">\n",
       "\n",
       "\n",
       "<div id=\"ldavis_el41375112332802712790570143\"></div>\n",
       "<script type=\"text/javascript\">\n",
       "\n",
       "var ldavis_el41375112332802712790570143_data = {\"mdsDat\": {\"x\": [0.0850669392188024, -0.0850669392188024], \"y\": [0.0, 0.0], \"topics\": [1, 2], \"cluster\": [1, 1], \"Freq\": [52.01539685925014, 47.98460314074987]}, \"tinfo\": {\"Category\": [\"Default\", \"Default\", \"Default\", \"Default\", \"Default\", \"Default\", \"Default\", \"Default\", \"Default\", \"Default\", \"Default\", \"Default\", \"Default\", \"Default\", \"Default\", \"Default\", \"Default\", \"Default\", \"Default\", \"Default\", \"Default\", \"Default\", \"Default\", \"Default\", \"Default\", \"Default\", \"Default\", \"Default\", \"Default\", \"Default\", \"Topic1\", \"Topic1\", \"Topic1\", \"Topic1\", \"Topic1\", \"Topic1\", \"Topic1\", \"Topic1\", \"Topic1\", \"Topic1\", \"Topic1\", \"Topic1\", \"Topic1\", \"Topic1\", \"Topic1\", \"Topic1\", \"Topic1\", \"Topic1\", \"Topic1\", \"Topic1\", \"Topic1\", \"Topic1\", \"Topic1\", \"Topic1\", \"Topic1\", \"Topic1\", \"Topic1\", \"Topic1\", \"Topic1\", \"Topic1\", \"Topic1\", \"Topic1\", \"Topic1\", \"Topic1\", \"Topic1\", \"Topic1\", \"Topic1\", \"Topic1\", \"Topic1\", \"Topic1\", \"Topic1\", \"Topic1\", \"Topic1\", \"Topic1\", \"Topic1\", \"Topic1\", \"Topic1\", \"Topic1\", \"Topic1\", \"Topic1\", \"Topic1\", \"Topic1\", \"Topic1\", \"Topic1\", \"Topic1\", \"Topic1\", \"Topic1\", \"Topic1\", \"Topic1\", \"Topic2\", \"Topic2\", \"Topic2\", \"Topic2\", \"Topic2\", \"Topic2\", \"Topic2\", \"Topic2\", \"Topic2\", \"Topic2\", \"Topic2\", \"Topic2\", \"Topic2\", \"Topic2\", \"Topic2\", \"Topic2\", \"Topic2\", \"Topic2\", \"Topic2\", \"Topic2\", \"Topic2\", \"Topic2\", \"Topic2\", \"Topic2\", \"Topic2\", \"Topic2\", \"Topic2\", \"Topic2\", \"Topic2\", \"Topic2\", \"Topic2\", \"Topic2\", \"Topic2\", \"Topic2\", \"Topic2\", \"Topic2\", \"Topic2\", \"Topic2\", \"Topic2\", \"Topic2\", \"Topic2\", \"Topic2\", \"Topic2\", \"Topic2\", \"Topic2\", \"Topic2\", \"Topic2\", \"Topic2\", \"Topic2\", \"Topic2\", \"Topic2\", \"Topic2\", \"Topic2\", \"Topic2\", \"Topic2\", \"Topic2\", \"Topic2\", \"Topic2\", \"Topic2\", \"Topic2\", \"Topic2\", \"Topic2\", \"Topic2\", \"Topic2\", \"Topic2\"], \"Freq\": [27.0, 22.0, 28.0, 15.0, 20.0, 15.0, 44.0, 15.0, 17.0, 23.0, 15.0, 12.0, 10.0, 11.0, 15.0, 13.0, 15.0, 10.0, 10.0, 11.0, 11.0, 9.0, 9.0, 13.0, 38.0, 10.0, 11.0, 10.0, 8.0, 8.0, 12.28638477095844, 14.728196809309804, 21.2693741868165, 11.443989161898294, 10.586538090247393, 14.619056065820722, 10.531666641833617, 9.698094795730112, 26.615993847992414, 8.054520418324435, 8.835090597451153, 8.011215423275889, 7.989813053598197, 12.773860905333576, 16.737410190474506, 6.364836953464818, 6.363762483910383, 6.362195107575463, 10.327988561442613, 6.354504943718244, 6.346970126947629, 8.715034895443015, 6.331616536428972, 6.319657041270817, 5.516259782166222, 5.512204849189245, 5.50711048836045, 6.286225312028458, 5.498474504436148, 5.490118960636232, 14.099590646235267, 14.086723763640675, 12.400608132922569, 21.24855095005883, 12.225569257022608, 13.39926541274725, 11.140690265570214, 29.490219642735838, 13.64164102623594, 10.361640975240299, 13.387881533380913, 25.562220117899034, 13.242766393397538, 23.120047471394248, 19.340697904786673, 18.64503389345498, 18.9965745409565, 19.075296860207473, 19.21815821726217, 21.810039771478866, 16.977951586747757, 20.145979815154945, 14.667776451638085, 18.11038516373963, 16.96538229030504, 15.26111914943337, 14.144355415342437, 13.559141600428967, 14.118146520946876, 15.406550387060804, 14.567853261792628, 10.380701072068929, 9.562990424956173, 8.743324574190114, 8.729253629062576, 9.489395015354294, 7.903672907850173, 7.89009508589504, 7.068535727056335, 7.040419126649913, 6.235251901547398, 6.232633147853073, 6.217043829284864, 6.215268525336622, 6.967185747558379, 5.412973774823363, 5.403112795868378, 5.403112795474375, 6.1723033461954895, 5.372070918395294, 5.369726439873983, 5.365714735300045, 5.357841582804134, 8.400099418115031, 4.579995121887303, 4.579866836701554, 4.579209018784767, 4.578422819309861, 5.339587616056065, 19.009776057928423, 6.831746634169345, 9.749561608614686, 24.751704596435946, 9.551707424795753, 33.76331365934031, 13.039981164695536, 8.65021016742796, 13.986469020188924, 30.302488967791188, 28.336790705503002, 18.113560222441052, 10.718494694225994, 11.498650528281896, 8.973598151657567, 13.268766670186539, 13.670480723597256, 8.931005987862632, 15.654642645228343, 17.778952332114628, 11.414649565575992, 19.177504808945358, 20.222253919839467, 18.887128675408864, 12.65900758839966, 16.68414856541989, 15.854794203993354, 12.806843700634062, 14.439354211295377, 12.642742480867556, 13.01935508321519, 12.117472064860094, 16.09008009431295, 11.602215993088112, 11.667071112597743], \"Term\": [\"ux\", \"design\", \"session\", \"food\", \"location\", \"fun\", \"speaker\", \"maybe\", \"world\", \"idea\", \"book\", \"hand\", \"offer\", \"insight\", \"academic\", \"expert\", \"field\", \"presenter\", \"quality\", \"stuff\", \"going\", \"uxr\", \"price\", \"business\", \"focus\", \"talking\", \"share\", \"conduct\", \"diversity\", \"diverse\", \"hand\", \"maybe\", \"design\", \"insight\", \"stuff\", \"book\", \"going\", \"talking\", \"ux\", \"user\", \"challenge\", \"conversation\", \"impact\", \"expert\", \"world\", \"thought\", \"deep\", \"author\", \"share\", \"theme\", \"involved\", \"senior\", \"position\", \"approach\", \"rosenfeld\", \"doesn\", \"present\", \"sell\", \"knowledge\", \"useful\", \"academic\", \"field\", \"business\", \"idea\", \"practitioner\", \"opportunity\", \"type\", \"focus\", \"product\", \"question\", \"community\", \"lot\", \"bring\", \"new\", \"different\", \"know\", \"help\", \"want\", \"think\", \"time\", \"really\", \"need\", \"feel\", \"workshop\", \"attend\", \"learn\", \"sure\", \"attendee\", \"experience\", \"food\", \"fun\", \"offer\", \"presenter\", \"uxr\", \"price\", \"quality\", \"diversity\", \"diverse\", \"point\", \"looking\", \"schedule\", \"free\", \"offering\", \"minute\", \"city\", \"level experience\", \"code\", \"code conduct\", \"designer\", \"water\", \"week\", \"north\", \"access\", \"easy\", \"choose\", \"america\", \"near\", \"hold\", \"application\", \"location\", \"example\", \"conduct\", \"session\", \"break\", \"speaker\", \"option\", \"did\", \"accessible\", \"experience\", \"topic\", \"level\", \"look\", \"cost\", \"affordable\", \"thing\", \"year\", \"europe\", \"consider\", \"great\", \"pay\", \"attend\", \"need\", \"workshop\", \"wa\", \"learn\", \"attendee\", \"try\", \"method\", \"provide\", \"interesting\", \"group\", \"time\", \"use\", \"really\"], \"Total\": [27.0, 22.0, 28.0, 15.0, 20.0, 15.0, 44.0, 15.0, 17.0, 23.0, 15.0, 12.0, 10.0, 11.0, 15.0, 13.0, 15.0, 10.0, 10.0, 11.0, 11.0, 9.0, 9.0, 13.0, 38.0, 10.0, 11.0, 10.0, 8.0, 8.0, 12.727586493492582, 15.272813343351501, 22.06064234125129, 11.878643064753435, 11.02941687717585, 15.270763555132927, 11.028386328501577, 10.179608620141197, 27.992913902522048, 8.482495862158688, 9.330278138482644, 8.481682544731726, 8.48128058370587, 13.569864127822417, 17.809915494747763, 6.784517122680913, 6.784496942911523, 6.784467505787993, 11.024561020773007, 6.784323075699169, 6.784181563206641, 9.32802335483643, 6.783893205184137, 6.783668592161608, 5.935457597119889, 5.935381440832343, 5.935285762898708, 6.783040705979503, 5.93512356922529, 5.934966642538715, 15.26100739933836, 15.260765744540109, 13.56285401307558, 23.7264958049371, 13.55956658242284, 15.247854489005697, 12.706069037919423, 38.04436244388961, 16.08552885471229, 11.858315325629555, 16.08076296067327, 34.638101016162565, 16.078037532068276, 31.259745119703055, 27.85627550851786, 27.010087867312244, 27.849812477441205, 29.517535520730526, 30.35334089467566, 37.900119865791815, 28.6450226993455, 40.36823373499441, 21.936656771531467, 36.997513839148496, 36.1428870992504, 31.94526771485326, 25.259315420586848, 29.413935804422323, 44.420635488738064, 15.837415342919234, 15.004399775112313, 10.839200710118902, 10.005783447924733, 9.172403609557858, 9.172672936294784, 10.007192110338234, 8.33940631226726, 8.339666200316604, 7.506322604884792, 7.50686077429508, 6.673203423116832, 6.67325354770913, 6.673551937068399, 6.673585917502251, 7.508262507216971, 5.83987358535431, 5.840062330691656, 5.840062330699198, 6.6744082980456625, 5.840656491744314, 5.840701366537315, 5.840778153085203, 5.8409288501743255, 9.178973154851503, 5.006748562391462, 5.006751017850572, 5.006763608899112, 5.006778657251383, 5.841278242575177, 20.86285988675832, 7.51085489700613, 10.851281116285087, 28.394574587352, 10.855068169766508, 44.35439312810872, 15.8827129658421, 10.023254635974295, 17.562734109422674, 44.420635488738064, 41.06198515693394, 25.125357811979804, 13.379941402173353, 15.063146245227435, 10.866133544747125, 18.425540141790158, 19.266919840350468, 10.86694878554238, 24.323354282355318, 30.226174966138537, 15.913822834595052, 36.1428870992504, 40.36823373499441, 36.997513839148496, 19.286280072133476, 31.94526771485326, 29.413935804422323, 20.132519154116515, 26.044753183357074, 20.135660154643382, 21.82658906888475, 18.447576644425766, 37.900119865791815, 19.306507727737497, 28.6450226993455], \"loglift\": [30.0, 29.0, 28.0, 27.0, 26.0, 25.0, 24.0, 23.0, 22.0, 21.0, 20.0, 19.0, 18.0, 17.0, 16.0, 15.0, 14.0, 13.0, 12.0, 11.0, 10.0, 9.0, 8.0, 7.0, 6.0, 5.0, 4.0, 3.0, 2.0, 1.0, 0.6184, 0.6173, 0.6171, 0.6164, 0.6126, 0.61, 0.6075, 0.6052, 0.6032, 0.6019, 0.5991, 0.5966, 0.5939, 0.5932, 0.5915, 0.5898, 0.5896, 0.5894, 0.5884, 0.5882, 0.587, 0.5857, 0.5846, 0.5828, 0.5804, 0.5797, 0.5788, 0.5776, 0.5772, 0.5757, 0.5745, 0.5736, 0.564, 0.5433, 0.5501, 0.5244, 0.5222, 0.3989, 0.4888, 0.5187, 0.4704, 0.3498, 0.4596, 0.352, 0.2888, 0.283, 0.2711, 0.217, 0.1966, 0.101, 0.1306, -0.0414, 0.2511, -0.0607, -0.1027, -0.0851, 0.0738, -0.1208, -0.4926, 0.7067, 0.7048, 0.6911, 0.689, 0.6864, 0.6847, 0.6812, 0.6806, 0.6789, 0.6742, 0.6701, 0.6664, 0.666, 0.6634, 0.6631, 0.6595, 0.6584, 0.6565, 0.6565, 0.6561, 0.6507, 0.6502, 0.6495, 0.648, 0.6456, 0.6452, 0.6452, 0.645, 0.6449, 0.6445, 0.6413, 0.6395, 0.6272, 0.597, 0.6064, 0.4615, 0.5371, 0.587, 0.5066, 0.3518, 0.3634, 0.4071, 0.5125, 0.4643, 0.5429, 0.406, 0.3911, 0.5381, 0.2936, 0.2036, 0.402, 0.1005, 0.043, 0.0619, 0.3133, 0.0847, 0.1163, 0.2819, 0.1444, 0.2689, 0.2176, 0.314, -0.1225, 0.225, -0.1639], \"logprob\": [30.0, 29.0, 28.0, 27.0, 26.0, 25.0, 24.0, 23.0, 22.0, 21.0, 20.0, 19.0, 18.0, 17.0, 16.0, 15.0, 14.0, 13.0, 12.0, 11.0, 10.0, 9.0, 8.0, 7.0, 6.0, 5.0, 4.0, 3.0, 2.0, 1.0, -5.5325, -5.3513, -4.9838, -5.6036, -5.6815, -5.3587, -5.6867, -5.7691, -4.7595, -5.9548, -5.8623, -5.9602, -5.9629, -5.4936, -5.2234, -6.1903, -6.1904, -6.1907, -5.7062, -6.1919, -6.1931, -5.876, -6.1955, -6.1974, -6.3333, -6.3341, -6.335, -6.2027, -6.3366, -6.3381, -5.3949, -5.3958, -5.5233, -4.9848, -5.5375, -5.4458, -5.6304, -4.657, -5.4279, -5.7029, -5.4467, -4.7999, -5.4576, -4.9003, -5.0788, -5.1155, -5.0968, -5.0926, -5.0852, -4.9587, -5.2091, -5.038, -5.3554, -5.1446, -5.2099, -5.3157, -5.3917, -5.434, -5.3936, -5.2256, -5.2816, -5.6204, -5.7025, -5.7921, -5.7937, -5.7102, -5.8931, -5.8948, -6.0047, -6.0087, -6.1302, -6.1306, -6.1331, -6.1334, -6.0192, -6.2716, -6.2734, -6.2734, -6.1403, -6.2792, -6.2796, -6.2804, -6.2818, -5.8321, -6.4387, -6.4387, -6.4389, -6.439, -6.2852, -5.0154, -6.0388, -5.6832, -4.7515, -5.7037, -4.441, -5.3924, -5.8028, -5.3223, -4.5491, -4.6162, -5.0637, -5.5884, -5.5182, -5.7661, -5.375, -5.3451, -5.7709, -5.2096, -5.0824, -5.5255, -5.0066, -4.9536, -5.0219, -5.422, -5.1459, -5.1969, -5.4104, -5.2904, -5.4233, -5.3939, -5.4657, -5.1822, -5.5092, -5.5036]}, \"token.table\": {\"Topic\": [1, 2, 2, 1, 2, 1, 2, 2, 1, 2, 1, 1, 2, 1, 2, 1, 1, 2, 1, 2, 1, 2, 1, 2, 1, 2, 1, 2, 2, 2, 1, 2, 1, 2, 1, 2, 1, 1, 2, 1, 1, 2, 1, 2, 1, 2, 1, 2, 2, 2, 1, 1, 2, 1, 2, 1, 2, 1, 2, 1, 2, 1, 2, 1, 2, 1, 2, 2, 2, 2, 1, 1, 2, 1, 2, 1, 1, 2, 2, 1, 2, 1, 1, 1, 2, 1, 1, 2, 1, 1, 2, 1, 2, 2, 1, 2, 1, 2, 2, 1, 2, 1, 2, 1, 2, 2, 2, 1, 2, 1, 2, 2, 2, 2, 1, 2, 1, 2, 1, 2, 2, 1, 1, 2, 1, 2, 2, 1, 2, 1, 2, 1, 2, 1, 2, 1, 2, 1, 2, 1, 1, 2, 1, 2, 1, 2, 1, 2, 1, 1, 2, 1, 1, 1, 2, 1, 2, 1, 1, 2, 1, 2, 1, 2, 1, 2, 1, 2, 1, 1, 1, 2, 2, 1, 2, 1, 2, 2, 2, 1, 2, 1, 2, 1, 2], \"Freq\": [0.9173706318107786, 0.0655264737007699, 0.8560282325388662, 0.22775497112684404, 0.7971423989439541, 0.18405810970055989, 0.8282614936525194, 0.9986516170213972, 0.17119540594921936, 0.8559770297460968, 0.884477170204464, 0.4703553413792607, 0.5256912638944679, 0.47596486553476225, 0.5439598463254426, 0.8843730174669205, 0.9822691541156162, 0.06548461027437441, 0.09212286688214413, 0.9212286688214414, 0.8085563909196624, 0.18658993636607593, 0.8847695321671328, 0.07373079434726107, 0.9646014691544494, 0.9986521067899925, 0.13318660596093918, 0.9323062417265743, 0.8561552457622204, 0.8561552457611146, 0.8084193537204977, 0.1865583123970379, 0.09215501739230104, 0.9215501739230104, 0.3700147560046351, 0.6578040106749069, 0.943209081194519, 0.2655487728048414, 0.7302591252133139, 0.8843691802778142, 0.9519215114027758, 0.04532959578108456, 0.1498260153327465, 0.8989560919964791, 0.0997679931637092, 0.8979119384733828, 0.6820725187827138, 0.3230869825812855, 0.9592710077168666, 0.9593009022994846, 1.010887010348335, 0.10894464807007903, 0.8715571845606322, 0.18404430162225874, 0.8281993573001643, 0.13314063628077888, 0.9319844539654522, 0.3151688364194927, 0.6753617923274844, 0.9580051706889224, 0.07369270543760942, 0.6837869670033955, 0.3191005846015846, 0.9173851584091594, 0.06552751131493995, 0.7622679981237996, 0.2365659304522137, 0.947124241879933, 0.8991116487788401, 0.9997067676695998, 0.9974260669098782, 0.3970068992667195, 0.5955103489000793, 0.3252459721755918, 0.6504919443511836, 0.942833899116334, 0.6822308055176424, 0.3231619605083569, 0.9986461040690174, 0.8850864524052573, 0.08429394784811975, 0.9432537835582873, 0.9260316973947501, 0.4123411116412182, 0.595603827926204, 0.8844102923984856, 0.7034408808049049, 0.29618563402311787, 0.8424424431406824, 0.46955311609505174, 0.5321601982410586, 0.2786029975128311, 0.7164077078901371, 0.8561829167911083, 0.09586413420095882, 0.9107092749091088, 0.22421622859369914, 0.8221261715102302, 0.9324803283909743, 0.7506185165251432, 0.2598294864894726, 0.9821373222327594, 0.06547582148218396, 0.46074539142371873, 0.5375362899943386, 0.8990668696216686, 0.9986491056044488, 0.4954390655606614, 0.4954390655606614, 0.7357705544919197, 0.2559201928667547, 0.8560503188019409, 0.9225772515370557, 0.899071447496027, 0.8525789650847935, 0.13116599462842976, 0.188884607211117, 0.818499964581507, 0.2513538099283349, 0.6912229773029209, 0.9325471830167146, 0.8844478853845902, 0.8849840389113547, 0.07374866990927956, 1.0109033060389137, 0.9994219894968912, 0.9811752869099316, 0.8703475108870088, 0.12433535869814412, 0.3476419420192571, 0.6456207494643346, 0.09992813058589328, 0.8993531752730395, 0.8432901070177187, 0.08432901070177186, 0.5934713398006288, 0.41892094574162037, 1.0108740399243066, 0.8991184022976477, 0.8845590436617573, 0.9648346340528451, 0.10720384822809391, 0.14087198199411477, 0.8804498874632174, 0.9070655948257278, 0.09070655948257278, 0.248002491393101, 0.7665531552150394, 0.9973328710390189, 0.5542509670942911, 0.43548290271694295, 0.9823560387394633, 0.8843918447061367, 0.2713624654432637, 0.7055424101524856, 0.6259607489643035, 0.3623983283477547, 0.8843665498229432, 0.5804730981829145, 0.4221622532239378, 0.3165945326392665, 0.6818959164538048, 0.3476961798180484, 0.6457214768049471, 0.8657280207727577, 0.15740509468595595, 0.41436805210019767, 0.6215520781502964, 0.842464718194477, 0.9431186445594212, 0.964529812581155, 0.03572332639189463, 0.9812040968870789, 0.3629523150041889, 0.6740542992934937, 0.6436851744162743, 0.3387816707454075, 0.8560681503984064, 0.8560615731264944, 0.4865191774306063, 0.5135480206211955, 0.9545244616693094, 0.05614849774525349, 0.3114145929768325, 0.7266340502792759], \"Term\": [\"academic\", \"academic\", \"access\", \"accessible\", \"accessible\", \"affordable\", \"affordable\", \"america\", \"application\", \"application\", \"approach\", \"attend\", \"attend\", \"attendee\", \"attendee\", \"author\", \"book\", \"book\", \"break\", \"break\", \"bring\", \"bring\", \"business\", \"business\", \"challenge\", \"choose\", \"city\", \"city\", \"code\", \"code conduct\", \"community\", \"community\", \"conduct\", \"conduct\", \"consider\", \"consider\", \"conversation\", \"cost\", \"cost\", \"deep\", \"design\", \"design\", \"designer\", \"designer\", \"did\", \"did\", \"different\", \"different\", \"diverse\", \"diversity\", \"doesn\", \"easy\", \"easy\", \"europe\", \"europe\", \"example\", \"example\", \"experience\", \"experience\", \"expert\", \"expert\", \"feel\", \"feel\", \"field\", \"field\", \"focus\", \"focus\", \"food\", \"free\", \"fun\", \"going\", \"great\", \"great\", \"group\", \"group\", \"hand\", \"help\", \"help\", \"hold\", \"idea\", \"idea\", \"impact\", \"insight\", \"interesting\", \"interesting\", \"involved\", \"know\", \"know\", \"knowledge\", \"learn\", \"learn\", \"level\", \"level\", \"level experience\", \"location\", \"location\", \"look\", \"look\", \"looking\", \"lot\", \"lot\", \"maybe\", \"maybe\", \"method\", \"method\", \"minute\", \"near\", \"need\", \"need\", \"new\", \"new\", \"north\", \"offer\", \"offering\", \"opportunity\", \"opportunity\", \"option\", \"option\", \"pay\", \"pay\", \"point\", \"position\", \"practitioner\", \"practitioner\", \"present\", \"presenter\", \"price\", \"product\", \"product\", \"provide\", \"provide\", \"quality\", \"quality\", \"question\", \"question\", \"really\", \"really\", \"rosenfeld\", \"schedule\", \"sell\", \"senior\", \"senior\", \"session\", \"session\", \"share\", \"share\", \"speaker\", \"speaker\", \"stuff\", \"sure\", \"sure\", \"talking\", \"theme\", \"thing\", \"thing\", \"think\", \"think\", \"thought\", \"time\", \"time\", \"topic\", \"topic\", \"try\", \"try\", \"type\", \"type\", \"use\", \"use\", \"useful\", \"user\", \"ux\", \"ux\", \"uxr\", \"wa\", \"wa\", \"want\", \"want\", \"water\", \"week\", \"workshop\", \"workshop\", \"world\", \"world\", \"year\", \"year\"]}, \"R\": 30, \"lambda.step\": 0.01, \"plot.opts\": {\"xlab\": \"PC1\", \"ylab\": \"PC2\"}, \"topic.order\": [1, 2]};\n",
       "\n",
       "function LDAvis_load_lib(url, callback){\n",
       "  var s = document.createElement('script');\n",
       "  s.src = url;\n",
       "  s.async = true;\n",
       "  s.onreadystatechange = s.onload = callback;\n",
       "  s.onerror = function(){console.warn(\"failed to load library \" + url);};\n",
       "  document.getElementsByTagName(\"head\")[0].appendChild(s);\n",
       "}\n",
       "\n",
       "if(typeof(LDAvis) !== \"undefined\"){\n",
       "   // already loaded: just create the visualization\n",
       "   !function(LDAvis){\n",
       "       new LDAvis(\"#\" + \"ldavis_el41375112332802712790570143\", ldavis_el41375112332802712790570143_data);\n",
       "   }(LDAvis);\n",
       "}else if(typeof define === \"function\" && define.amd){\n",
       "   // require.js is available: use it to load d3/LDAvis\n",
       "   require.config({paths: {d3: \"https://cdnjs.cloudflare.com/ajax/libs/d3/3.5.5/d3.min\"}});\n",
       "   require([\"d3\"], function(d3){\n",
       "      window.d3 = d3;\n",
       "      LDAvis_load_lib(\"https://cdn.rawgit.com/bmabey/pyLDAvis/files/ldavis.v1.0.0.js\", function(){\n",
       "        new LDAvis(\"#\" + \"ldavis_el41375112332802712790570143\", ldavis_el41375112332802712790570143_data);\n",
       "      });\n",
       "    });\n",
       "}else{\n",
       "    // require.js not available: dynamically load d3 & LDAvis\n",
       "    LDAvis_load_lib(\"https://cdnjs.cloudflare.com/ajax/libs/d3/3.5.5/d3.min.js\", function(){\n",
       "         LDAvis_load_lib(\"https://cdn.rawgit.com/bmabey/pyLDAvis/files/ldavis.v1.0.0.js\", function(){\n",
       "                 new LDAvis(\"#\" + \"ldavis_el41375112332802712790570143\", ldavis_el41375112332802712790570143_data);\n",
       "            })\n",
       "         });\n",
       "}\n",
       "</script>"
      ],
      "text/plain": [
       "PreparedData(topic_coordinates=              x    y  topics  cluster       Freq\n",
       "topic                                           \n",
       "0      0.085067  0.0       1        1  52.015397\n",
       "1     -0.085067  0.0       2        1  47.984603, topic_info=     Category       Freq         Term      Total  loglift  logprob\n",
       "1058  Default  27.000000           ux  27.000000  30.0000  30.0000\n",
       "249   Default  22.000000       design  22.000000  29.0000  29.0000\n",
       "868   Default  28.000000      session  28.000000  28.0000  28.0000\n",
       "364   Default  15.000000         food  15.000000  27.0000  27.0000\n",
       "566   Default  20.000000     location  20.000000  26.0000  26.0000\n",
       "...       ...        ...          ...        ...      ...      ...\n",
       "486    Topic2  13.019355  interesting  21.826589   0.2176  -5.3939\n",
       "399    Topic2  12.117472        group  18.447577   0.3140  -5.4657\n",
       "1006   Topic2  16.090080         time  37.900120  -0.1225  -5.1822\n",
       "1052   Topic2  11.602216          use  19.306508   0.2250  -5.5092\n",
       "803    Topic2  11.667071       really  28.645023  -0.1639  -5.5036\n",
       "\n",
       "[154 rows x 6 columns], token_table=      Topic      Freq        Term\n",
       "term                             \n",
       "8         1  0.917371    academic\n",
       "8         2  0.065526    academic\n",
       "9         2  0.856028      access\n",
       "10        1  0.227755  accessible\n",
       "10        2  0.797142  accessible\n",
       "...     ...       ...         ...\n",
       "1112      2  0.513548    workshop\n",
       "1116      1  0.954524       world\n",
       "1116      2  0.056148       world\n",
       "1123      1  0.311415        year\n",
       "1123      2  0.726634        year\n",
       "\n",
       "[185 rows x 3 columns], R=30, lambda_step=0.01, plot_opts={'xlab': 'PC1', 'ylab': 'PC2'}, topic_order=[1, 2])"
      ]
     },
     "execution_count": 31,
     "metadata": {},
     "output_type": "execute_result"
    }
   ],
   "source": [
    "types_res_used = df.recommendations.astype('str')\n",
    "\n",
    "types_res_used = types_res_used.fillna('nan')\n",
    "types_res_used = types_res_used.apply(nlp.basic_clean)\n",
    "types_res_used = types_res_used.apply(nlp.lemmatize)\n",
    "\n",
    "types_res_used_matrix, types_res_used_vector = nlp.create_wordcount_matrix(types_res_used, ngram=(1,3), max_df=.7, stop_words=stopWords)\n",
    "types_res_used_matrix, types_res_used_vector\n",
    "\n",
    "lda6 = LatentDirichletAllocation(n_components= 2, random_state = 42)\n",
    "\n",
    "lda6.fit(types_res_used_matrix)\n",
    "\n",
    "pyLDAvis.sklearn.prepare(lda6, types_res_used_matrix, types_res_used_vector)"
   ]
  },
  {
   "cell_type": "code",
   "execution_count": 32,
   "metadata": {},
   "outputs": [
    {
     "data": {
      "text/html": [
       "\n",
       "<link rel=\"stylesheet\" type=\"text/css\" href=\"https://cdn.rawgit.com/bmabey/pyLDAvis/files/ldavis.v1.0.0.css\">\n",
       "\n",
       "\n",
       "<div id=\"ldavis_el413751123047576408730644294\"></div>\n",
       "<script type=\"text/javascript\">\n",
       "\n",
       "var ldavis_el413751123047576408730644294_data = {\"mdsDat\": {\"x\": [0.11816818687171823, -0.11816818687171823], \"y\": [0.0, 0.0], \"topics\": [1, 2], \"cluster\": [1, 1], \"Freq\": [51.444769322202674, 48.55523067779732]}, \"tinfo\": {\"Category\": [\"Default\", \"Default\", \"Default\", \"Default\", \"Default\", \"Default\", \"Default\", \"Default\", \"Default\", \"Default\", \"Default\", \"Default\", \"Default\", \"Default\", \"Default\", \"Default\", \"Default\", \"Default\", \"Default\", \"Default\", \"Default\", \"Default\", \"Default\", \"Default\", \"Default\", \"Default\", \"Default\", \"Default\", \"Default\", \"Default\", \"Topic1\", \"Topic1\", \"Topic1\", \"Topic1\", \"Topic1\", \"Topic1\", \"Topic1\", \"Topic1\", \"Topic1\", \"Topic1\", \"Topic1\", \"Topic1\", \"Topic1\", \"Topic1\", \"Topic1\", \"Topic1\", \"Topic1\", \"Topic1\", \"Topic1\", \"Topic1\", \"Topic1\", \"Topic1\", \"Topic1\", \"Topic1\", \"Topic1\", \"Topic1\", \"Topic1\", \"Topic1\", \"Topic1\", \"Topic1\", \"Topic1\", \"Topic1\", \"Topic1\", \"Topic1\", \"Topic1\", \"Topic1\", \"Topic1\", \"Topic1\", \"Topic1\", \"Topic1\", \"Topic1\", \"Topic2\", \"Topic2\", \"Topic2\", \"Topic2\", \"Topic2\", \"Topic2\", \"Topic2\", \"Topic2\", \"Topic2\", \"Topic2\", \"Topic2\", \"Topic2\", \"Topic2\", \"Topic2\", \"Topic2\", \"Topic2\", \"Topic2\", \"Topic2\", \"Topic2\", \"Topic2\", \"Topic2\", \"Topic2\", \"Topic2\", \"Topic2\", \"Topic2\", \"Topic2\", \"Topic2\", \"Topic2\", \"Topic2\", \"Topic2\", \"Topic2\", \"Topic2\", \"Topic2\", \"Topic2\", \"Topic2\", \"Topic2\", \"Topic2\", \"Topic2\", \"Topic2\", \"Topic2\", \"Topic2\", \"Topic2\", \"Topic2\", \"Topic2\", \"Topic2\", \"Topic2\", \"Topic2\", \"Topic2\", \"Topic2\", \"Topic2\", \"Topic2\"], \"Freq\": [31.0, 40.0, 20.0, 22.0, 23.0, 20.0, 17.0, 19.0, 18.0, 15.0, 17.0, 16.0, 15.0, 15.0, 15.0, 15.0, 13.0, 13.0, 13.0, 12.0, 13.0, 11.0, 13.0, 14.0, 12.0, 12.0, 12.0, 13.0, 12.0, 11.0, 21.676479305027538, 16.774920173844023, 17.5571072758602, 15.936692011993648, 15.137267334323743, 13.505684084992835, 13.489389412871885, 13.488320259452157, 23.00352913712922, 12.687155874920762, 19.008611484658726, 15.034326319777223, 15.034233963480983, 15.034205389345315, 11.854553485469104, 11.854553483963608, 11.84998226932329, 12.6168508966975, 11.012071532729854, 10.17220144800649, 10.903028754932631, 11.676756217245696, 7.757703558942667, 12.391979618588286, 6.94992694143242, 6.903326365963293, 6.133728936659879, 6.129622375921575, 6.122716129986972, 6.084692287030227, 10.499733758187503, 14.456090313107586, 10.300015578597606, 12.282322250910491, 10.840646184740182, 10.375928417958791, 16.738992045992813, 14.429092614390159, 14.04331896637299, 18.954842818989377, 18.01885532448886, 31.189891784633865, 20.38062555105625, 19.55688403047202, 17.082328132896624, 15.417465077475631, 11.247980724676625, 12.037362817802983, 9.552993625934223, 8.717300151198355, 7.923740033117425, 7.9026201968649055, 7.866784459772508, 7.072962823153545, 10.211394653952011, 7.055787975125107, 6.257196612692004, 6.248506561894985, 7.027482215919937, 6.2444403079012805, 6.205678639724058, 5.425638911131021, 5.423575388622395, 5.401010816312443, 6.156453100955547, 13.061383366887869, 5.376168540032957, 4.5872142699537415, 4.540344699207123, 4.529738845588279, 8.276763254814684, 36.012923851394895, 9.656505070387727, 11.086480401827004, 17.2799134473434, 10.669087075722786, 8.548151176142074, 34.9552784590587, 31.73372238703128, 8.49508530814833, 12.736152878600965, 10.152952897795242, 7.65129670616742, 13.210917106912598, 11.516211849159536, 15.498015646410424, 10.699784054316389, 12.4012836012508, 11.172355668714173, 9.029406563382002, 8.611190583278105, 8.923363321509667], \"Term\": [\"field\", \"industry\", \"tech\", \"steve\", \"academic\", \"ux\", \"hear\", \"team\", \"portigal\", \"learn\", \"steve portigal\", \"young\", \"hall\", \"sam\", \"ladner\", \"sam ladner\", \"erika\", \"spool\", \"jared\", \"know\", \"erika hall\", \"senior\", \"user\", \"agency\", \"indi\", \"indi young\", \"jared spool\", \"small\", \"group\", \"study\", \"steve\", \"steve portigal\", \"portigal\", \"young\", \"hall\", \"erika\", \"spool\", \"jared\", \"academic\", \"erika hall\", \"team\", \"sam\", \"ladner\", \"sam ladner\", \"indi\", \"indi young\", \"jared spool\", \"user\", \"study\", \"diverse\", \"topic\", \"group\", \"norman\", \"small\", \"sharon\", \"organisation\", \"leisa\", \"tomer sharon\", \"nielsen\", \"case study\", \"professional\", \"new\", \"practice\", \"speaker\", \"background\", \"lot\", \"organization\", \"want\", \"different\", \"leader\", \"company\", \"field\", \"tech\", \"ux\", \"hear\", \"learn\", \"senior\", \"know\", \"method\", \"interesting\", \"important\", \"leader field\", \"need\", \"tech company\", \"healthcare\", \"digital\", \"use\", \"nonprofit\", \"story\", \"service\", \"insight\", \"going\", \"apple\", \"jeff\", \"speaking\", \"agency\", \"seeing\", \"especially\", \"lead\", \"wa\", \"enterprise\", \"industry\", \"social\", \"government\", \"product\", \"thought\", \"outside\", \"leader\", \"company\", \"individual\", \"working\", \"diversity\", \"thought leader\", \"experience\", \"google\", \"organization\", \"mix\", \"different\", \"want\", \"think\", \"expert\", \"folk\"], \"Total\": [31.0, 40.0, 20.0, 22.0, 23.0, 20.0, 17.0, 19.0, 18.0, 15.0, 17.0, 16.0, 15.0, 15.0, 15.0, 15.0, 13.0, 13.0, 13.0, 12.0, 13.0, 11.0, 13.0, 14.0, 12.0, 12.0, 12.0, 13.0, 12.0, 11.0, 22.11289207860845, 17.20063480901377, 18.02005042857126, 16.382358217410186, 15.563292949551718, 13.925827726382503, 13.926158913678028, 13.926180644095613, 23.75654690768768, 13.107150735574624, 19.66117573707251, 15.565385213572494, 15.565387090703359, 15.565387671469301, 12.2887598008083, 12.288759800838898, 12.288852710239153, 13.10857967599316, 11.470569667004526, 10.652326447290363, 11.472785948646166, 12.292373509386266, 8.195460391682213, 13.113150158289232, 7.3765648760193, 7.377512027238142, 6.557840524062611, 6.55792398942691, 6.5580643580637545, 6.558837188202416, 11.48098287205133, 18.083078233844077, 12.320355601044092, 15.621319372800299, 14.815307788922564, 13.989439642441829, 32.23700769240324, 25.601448283104332, 26.44460256762379, 53.910121278048074, 49.75257771152014, 31.73091600409457, 20.87283295407385, 20.037749987169764, 17.532434726212728, 15.86192258233666, 11.685496274421153, 12.519894801166474, 10.014384059283172, 9.179063009325878, 8.344581256279234, 8.34416054891746, 8.343446700655166, 7.508959738156479, 10.846173441824874, 7.50861761500188, 6.674035639514517, 6.673862533610633, 7.508053763978838, 6.673781533787996, 6.67300940094751, 5.838796974202639, 5.83875586881242, 5.838306382293068, 6.672028827694106, 14.177641355532277, 5.83781152388656, 5.003421519380911, 5.0024878770353265, 5.002276608318983, 9.17028750968628, 40.013731124860705, 10.835120035446321, 12.500953213374094, 20.811066736144046, 12.492638733899717, 9.994367587045952, 53.910121278048074, 49.75257771152014, 9.993310514393869, 17.44585886913891, 13.301031362705654, 9.157828209416103, 22.367360340156964, 18.240231658012377, 32.23700769240324, 18.223968407696525, 26.44460256762379, 25.601448283104332, 13.278650307830471, 11.63297138689152, 16.551234033706006], \"loglift\": [30.0, 29.0, 28.0, 27.0, 26.0, 25.0, 24.0, 23.0, 22.0, 21.0, 20.0, 19.0, 18.0, 17.0, 16.0, 15.0, 14.0, 13.0, 12.0, 11.0, 10.0, 9.0, 8.0, 7.0, 6.0, 5.0, 4.0, 3.0, 2.0, 1.0, 0.6447, 0.6396, 0.6386, 0.6371, 0.6369, 0.634, 0.6328, 0.6327, 0.6325, 0.6321, 0.6309, 0.6299, 0.6299, 0.6299, 0.6287, 0.6287, 0.6283, 0.6264, 0.6239, 0.6185, 0.6137, 0.6133, 0.6098, 0.6081, 0.6051, 0.5982, 0.5978, 0.5971, 0.596, 0.5896, 0.5753, 0.4408, 0.4856, 0.4242, 0.3523, 0.3658, 0.0093, 0.0913, 0.0318, -0.3806, -0.351, 0.7053, 0.6986, 0.6982, 0.6965, 0.694, 0.6843, 0.6832, 0.6753, 0.6709, 0.6707, 0.6681, 0.6636, 0.6627, 0.6622, 0.6603, 0.658, 0.6566, 0.6563, 0.656, 0.6499, 0.6491, 0.6487, 0.6446, 0.642, 0.6405, 0.6401, 0.6356, 0.6255, 0.6232, 0.62, 0.6171, 0.6073, 0.6024, 0.5365, 0.5647, 0.5662, 0.2892, 0.2728, 0.56, 0.4078, 0.4524, 0.5427, 0.1959, 0.2626, -0.0099, 0.19, -0.0348, -0.1067, 0.3368, 0.4217, 0.1047], \"logprob\": [30.0, 29.0, 28.0, 27.0, 26.0, 25.0, 24.0, 23.0, 22.0, 21.0, 20.0, 19.0, 18.0, 17.0, 16.0, 15.0, 14.0, 13.0, 12.0, 11.0, 10.0, 9.0, 8.0, 7.0, 6.0, 5.0, 4.0, 3.0, 2.0, 1.0, -4.4414, -4.6977, -4.6522, -4.749, -4.8005, -4.9145, -4.9157, -4.9158, -4.382, -4.977, -4.5727, -4.8073, -4.8073, -4.8073, -5.0449, -5.0449, -5.0453, -4.9826, -5.1186, -5.198, -5.1286, -5.06, -5.4689, -5.0006, -5.5789, -5.5856, -5.7038, -5.7045, -5.7056, -5.7118, -5.1663, -4.8465, -5.1855, -5.0095, -5.1343, -5.1781, -4.6999, -4.8484, -4.8755, -4.5756, -4.6262, -4.0197, -4.4452, -4.4865, -4.6218, -4.7243, -5.0396, -4.9718, -5.203, -5.2945, -5.3899, -5.3926, -5.3972, -5.5035, -5.1363, -5.506, -5.6261, -5.6275, -5.51, -5.6281, -5.6343, -5.7687, -5.7691, -5.7732, -5.6423, -4.8902, -5.7778, -5.9365, -5.9468, -5.9491, -5.3464, -3.8759, -5.1922, -5.0541, -4.6103, -5.0925, -5.3141, -3.9057, -4.0024, -5.3203, -4.9154, -5.142, -5.4249, -4.8788, -5.0161, -4.7191, -5.0896, -4.942, -5.0464, -5.2593, -5.3067, -5.2711]}, \"token.table\": {\"Topic\": [1, 2, 1, 2, 2, 1, 2, 1, 1, 2, 1, 2, 2, 1, 1, 2, 1, 2, 1, 1, 2, 1, 2, 1, 2, 1, 2, 1, 2, 2, 1, 2, 1, 2, 1, 2, 1, 1, 2, 2, 2, 1, 1, 1, 2, 1, 2, 2, 2, 1, 1, 2, 2, 1, 2, 2, 1, 2, 2, 2, 1, 1, 2, 2, 1, 2, 2, 1, 2, 1, 2, 1, 1, 1, 2, 1, 2, 1, 1, 2, 1, 2, 1, 2, 1, 2, 1, 2, 2, 2, 2, 1, 1, 2, 1, 2, 1, 2, 1, 2, 1, 1, 1, 2, 1, 1, 2, 2, 2, 1, 2, 1, 2, 1, 2, 1, 1, 2, 2, 1, 2, 2, 1, 2, 1, 2, 1], \"Freq\": [0.9681541719582629, 0.04209365965035926, 0.07053359405299024, 0.9169367226888733, 0.8563468164009708, 0.7424752935760621, 0.2699910158458408, 0.9147963012090597, 0.36179029967792253, 0.6431827549829734, 0.529408599134715, 0.4537787992583272, 0.9322621498282607, 0.9387620675616549, 0.2255464195364283, 0.751821398454761, 0.10904783508082294, 0.8723826806465835, 1.0053262380574317, 0.991825016913569, 0.9993161640753917, 0.402372021692786, 0.5812040313340243, 0.25788767978751465, 0.7736630393625439, 0.031515005739858236, 0.9769651779356053, 0.4833476454811938, 0.543766101166343, 0.8563407876813207, 0.3837670557722941, 0.6578863813239327, 0.07999389989958158, 0.8799328988953974, 0.976215048366126, 0.08135125403051051, 0.9638063132668885, 0.09219841498604595, 0.9219841498604595, 0.9696314439764213, 0.958705985873175, 0.9765021201904112, 0.9765021201879798, 0.10006693963523394, 0.8005355170818715, 0.09996568396779132, 0.8996911557101218, 0.8991445447608768, 0.980492234431341, 0.9334935638302027, 0.9764947373810999, 0.8564127458545928, 0.9584745072204571, 0.9636766443771229, 0.06424510962514153, 0.9995026720510913, 0.3524384577434943, 0.6492287379485422, 0.9587543232300211, 0.9456609009492664, 0.9149353324443111, 0.7148249147636709, 0.2859299659054684, 0.9985636601114936, 0.43898232377429725, 0.6036006951896588, 0.9588363522921293, 0.774204469999901, 0.22120127714282886, 0.9149041046879081, 0.8990296053871422, 0.976150163341575, 0.9488293579401363, 0.5273442300293308, 0.4653037323788213, 0.10005635587149454, 0.9005072028434509, 0.9988873267224897, 0.8116648840194635, 0.1623329768038927, 0.19220542852101466, 0.8168730712143123, 0.8710055673319962, 0.08710055673319962, 0.9636767605931463, 0.06424511737287641, 0.9636766084210269, 0.06424510722806845, 0.8564853420740822, 0.9413378552075993, 0.8990405169278051, 0.9489511876668385, 0.9151119185815488, 0.0762593265484624, 0.0922924708474453, 0.922924708474453, 0.7681809528133899, 0.19204523820334748, 0.149879448339495, 0.8992766900369699, 0.9334950204561883, 0.9948947393128347, 0.9883356160257161, 0.9323321622420564, 0.9589759113395968, 0.9663715056558994, 0.050861658192415754, 0.9581833019027973, 0.9322196741087556, 0.30123543487256266, 0.677779728463266, 0.1600942797275366, 0.8805185385014513, 0.21839239110683414, 0.8735695644273366, 0.9149236876904292, 0.9587906589766058, 0.08716278717969143, 0.899006287062089, 0.9917169000244922, 0.9981160565835019, 0.9995448855596676, 0.5468440630852629, 0.4296631924241351, 0.28660096573662064, 0.7451625109152137, 0.9766603676750373], \"Term\": [\"academic\", \"academic\", \"agency\", \"agency\", \"apple\", \"background\", \"background\", \"case study\", \"company\", \"company\", \"different\", \"different\", \"digital\", \"diverse\", \"diversity\", \"diversity\", \"enterprise\", \"enterprise\", \"erika\", \"erika hall\", \"especially\", \"experience\", \"experience\", \"expert\", \"expert\", \"field\", \"field\", \"folk\", \"folk\", \"going\", \"google\", \"google\", \"government\", \"government\", \"group\", \"group\", \"hall\", \"healthcare\", \"healthcare\", \"hear\", \"important\", \"indi\", \"indi young\", \"individual\", \"individual\", \"industry\", \"industry\", \"insight\", \"interesting\", \"jared\", \"jared spool\", \"jeff\", \"know\", \"ladner\", \"ladner\", \"lead\", \"leader\", \"leader\", \"leader field\", \"learn\", \"leisa\", \"lot\", \"lot\", \"method\", \"mix\", \"mix\", \"need\", \"new\", \"new\", \"nielsen\", \"nonprofit\", \"norman\", \"organisation\", \"organization\", \"organization\", \"outside\", \"outside\", \"portigal\", \"practice\", \"practice\", \"product\", \"product\", \"professional\", \"professional\", \"sam\", \"sam\", \"sam ladner\", \"sam ladner\", \"seeing\", \"senior\", \"service\", \"sharon\", \"small\", \"small\", \"social\", \"social\", \"speaker\", \"speaker\", \"speaking\", \"speaking\", \"spool\", \"steve\", \"steve portigal\", \"story\", \"study\", \"team\", \"team\", \"tech\", \"tech company\", \"think\", \"think\", \"thought\", \"thought\", \"thought leader\", \"thought leader\", \"tomer sharon\", \"topic\", \"topic\", \"use\", \"user\", \"ux\", \"wa\", \"want\", \"want\", \"working\", \"working\", \"young\"]}, \"R\": 30, \"lambda.step\": 0.01, \"plot.opts\": {\"xlab\": \"PC1\", \"ylab\": \"PC2\"}, \"topic.order\": [1, 2]};\n",
       "\n",
       "function LDAvis_load_lib(url, callback){\n",
       "  var s = document.createElement('script');\n",
       "  s.src = url;\n",
       "  s.async = true;\n",
       "  s.onreadystatechange = s.onload = callback;\n",
       "  s.onerror = function(){console.warn(\"failed to load library \" + url);};\n",
       "  document.getElementsByTagName(\"head\")[0].appendChild(s);\n",
       "}\n",
       "\n",
       "if(typeof(LDAvis) !== \"undefined\"){\n",
       "   // already loaded: just create the visualization\n",
       "   !function(LDAvis){\n",
       "       new LDAvis(\"#\" + \"ldavis_el413751123047576408730644294\", ldavis_el413751123047576408730644294_data);\n",
       "   }(LDAvis);\n",
       "}else if(typeof define === \"function\" && define.amd){\n",
       "   // require.js is available: use it to load d3/LDAvis\n",
       "   require.config({paths: {d3: \"https://cdnjs.cloudflare.com/ajax/libs/d3/3.5.5/d3.min\"}});\n",
       "   require([\"d3\"], function(d3){\n",
       "      window.d3 = d3;\n",
       "      LDAvis_load_lib(\"https://cdn.rawgit.com/bmabey/pyLDAvis/files/ldavis.v1.0.0.js\", function(){\n",
       "        new LDAvis(\"#\" + \"ldavis_el413751123047576408730644294\", ldavis_el413751123047576408730644294_data);\n",
       "      });\n",
       "    });\n",
       "}else{\n",
       "    // require.js not available: dynamically load d3 & LDAvis\n",
       "    LDAvis_load_lib(\"https://cdnjs.cloudflare.com/ajax/libs/d3/3.5.5/d3.min.js\", function(){\n",
       "         LDAvis_load_lib(\"https://cdn.rawgit.com/bmabey/pyLDAvis/files/ldavis.v1.0.0.js\", function(){\n",
       "                 new LDAvis(\"#\" + \"ldavis_el413751123047576408730644294\", ldavis_el413751123047576408730644294_data);\n",
       "            })\n",
       "         });\n",
       "}\n",
       "</script>"
      ],
      "text/plain": [
       "PreparedData(topic_coordinates=              x    y  topics  cluster       Freq\n",
       "topic                                           \n",
       "0      0.118168  0.0       1        1  51.444769\n",
       "1     -0.118168  0.0       2        1  48.555231, topic_info=    Category       Freq       Term      Total  loglift  logprob\n",
       "215  Default  31.000000      field  31.000000  30.0000  30.0000\n",
       "295  Default  40.000000   industry  40.000000  29.0000  29.0000\n",
       "653  Default  20.000000       tech  20.000000  28.0000  28.0000\n",
       "629  Default  22.000000      steve  22.000000  27.0000  27.0000\n",
       "4    Default  23.000000   academic  23.000000  26.0000  26.0000\n",
       "..       ...        ...        ...        ...      ...      ...\n",
       "148   Topic2  12.401284  different  26.444603  -0.0348  -4.9420\n",
       "722   Topic2  11.172356       want  25.601448  -0.1067  -5.0464\n",
       "661   Topic2   9.029407      think  13.278650   0.3368  -5.2593\n",
       "203   Topic2   8.611191     expert  11.632971   0.4217  -5.3067\n",
       "221   Topic2   8.923363       folk  16.551234   0.1047  -5.2711\n",
       "\n",
       "[122 rows x 6 columns], token_table=      Topic      Freq      Term\n",
       "term                           \n",
       "4         1  0.968154  academic\n",
       "4         2  0.042094  academic\n",
       "17        1  0.070534    agency\n",
       "17        2  0.916937    agency\n",
       "31        2  0.856347     apple\n",
       "...     ...       ...       ...\n",
       "722       1  0.546844      want\n",
       "722       2  0.429663      want\n",
       "737       1  0.286601   working\n",
       "737       2  0.745163   working\n",
       "747       1  0.976660     young\n",
       "\n",
       "[127 rows x 3 columns], R=30, lambda_step=0.01, plot_opts={'xlab': 'PC1', 'ylab': 'PC2'}, topic_order=[1, 2])"
      ]
     },
     "execution_count": 32,
     "metadata": {},
     "output_type": "execute_result"
    }
   ],
   "source": [
    "types_res_used = df.ideal_attendees.astype('str')\n",
    "\n",
    "types_res_used = types_res_used.fillna('nan')\n",
    "types_res_used = types_res_used.apply(nlp.basic_clean)\n",
    "types_res_used = types_res_used.apply(nlp.lemmatize)\n",
    "\n",
    "types_res_used_matrix, types_res_used_vector = nlp.create_wordcount_matrix(types_res_used, ngram=(1,3), max_df=.7, stop_words=stopWords)\n",
    "types_res_used_matrix, types_res_used_vector\n",
    "\n",
    "lda6 = LatentDirichletAllocation(n_components= 2, random_state = 42)\n",
    "\n",
    "lda6.fit(types_res_used_matrix)\n",
    "\n",
    "pyLDAvis.sklearn.prepare(lda6, types_res_used_matrix, types_res_used_vector)"
   ]
  },
  {
   "cell_type": "code",
   "execution_count": null,
   "metadata": {},
   "outputs": [],
   "source": []
  }
 ],
 "metadata": {
  "kernelspec": {
   "display_name": "Python 3",
   "language": "python",
   "name": "python3"
  },
  "language_info": {
   "codemirror_mode": {
    "name": "ipython",
    "version": 3
   },
   "file_extension": ".py",
   "mimetype": "text/x-python",
   "name": "python",
   "nbconvert_exporter": "python",
   "pygments_lexer": "ipython3",
   "version": "3.7.3"
  }
 },
 "nbformat": 4,
 "nbformat_minor": 2
}

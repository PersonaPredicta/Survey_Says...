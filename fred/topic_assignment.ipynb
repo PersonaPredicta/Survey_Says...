{
 "cells": [
  {
   "cell_type": "code",
   "execution_count": 72,
   "metadata": {},
   "outputs": [],
   "source": [
    "import sys\n",
    "sys.path.append('../')\n",
    "import wrangle\n",
    "import nlp"
   ]
  },
  {
   "cell_type": "code",
   "execution_count": 73,
   "metadata": {},
   "outputs": [],
   "source": [
    "from sklearn.decomposition import LatentDirichletAllocation\n",
    "from sklearn.feature_extraction.text import CountVectorizer\n",
    "import pandas as pd\n",
    "import numpy as np"
   ]
  },
  {
   "cell_type": "code",
   "execution_count": 80,
   "metadata": {},
   "outputs": [],
   "source": [
    "stop_words = ['nan', 'Nan', 'NaN', 'NAN']\n",
    "stopWords = nlp.set_stop_words(stop_words)"
   ]
  },
  {
   "cell_type": "code",
   "execution_count": 75,
   "metadata": {},
   "outputs": [],
   "source": [
    "df, data_dict = wrangle.wrangle_data()"
   ]
  },
  {
   "cell_type": "code",
   "execution_count": 17,
   "metadata": {},
   "outputs": [],
   "source": [
    "df_qual = df.select_dtypes(include='object')"
   ]
  },
  {
   "cell_type": "code",
   "execution_count": 18,
   "metadata": {},
   "outputs": [
    {
     "name": "stdout",
     "output_type": "stream",
     "text": [
      "<class 'pandas.core.frame.DataFrame'>\n",
      "Int64Index: 726 entries, 284 to 2\n",
      "Data columns (total 13 columns):\n",
      "types_res_used            690 non-null object\n",
      "future_res                609 non-null object\n",
      "research_educ             726 non-null object\n",
      "research_educ_desc        540 non-null object\n",
      "how_pick_events           644 non-null object\n",
      "best_event                594 non-null object\n",
      "events_attend_recent      558 non-null object\n",
      "ideal_conference_size     726 non-null object\n",
      "ideal_structure           726 non-null object\n",
      "other_conference_types    258 non-null object\n",
      "ideal_topics              560 non-null object\n",
      "ideal_attendees           471 non-null object\n",
      "recommendations           494 non-null object\n",
      "dtypes: object(13)\n",
      "memory usage: 79.4+ KB\n"
     ]
    }
   ],
   "source": [
    "df_qual.info()"
   ]
  },
  {
   "cell_type": "markdown",
   "metadata": {},
   "source": [
    "# 5 primary_industry             726 non-null category"
   ]
  },
  {
   "cell_type": "code",
   "execution_count": 69,
   "metadata": {},
   "outputs": [],
   "source": [
    "def pair_topic_with_text(text_column, topic_column, prob_column, name):\n",
    "    text_column = text_column.reset_index()\n",
    "    test_df = pd.DataFrame()\n",
    "    test_df[name + '-text'] = text_column[text_column.columns[1]]\n",
    "    test_df[name + '-topic_id'] = topic_column\n",
    "    test_df[name + '-probability'] = prob_column\n",
    "    return test_df"
   ]
  },
  {
   "cell_type": "code",
   "execution_count": 70,
   "metadata": {},
   "outputs": [],
   "source": [
    "blob = pair_topic_with_text(primary_industry, primary_industry_topics, primary_industry_prob, 'primary_industry')"
   ]
  },
  {
   "cell_type": "code",
   "execution_count": 71,
   "metadata": {},
   "outputs": [
    {
     "data": {
      "text/html": [
       "<div>\n",
       "<style scoped>\n",
       "    .dataframe tbody tr th:only-of-type {\n",
       "        vertical-align: middle;\n",
       "    }\n",
       "\n",
       "    .dataframe tbody tr th {\n",
       "        vertical-align: top;\n",
       "    }\n",
       "\n",
       "    .dataframe thead th {\n",
       "        text-align: right;\n",
       "    }\n",
       "</style>\n",
       "<table border=\"1\" class=\"dataframe\">\n",
       "  <thead>\n",
       "    <tr style=\"text-align: right;\">\n",
       "      <th></th>\n",
       "      <th>primary_industry-text</th>\n",
       "      <th>primary_industry-topic_id</th>\n",
       "      <th>primary_industry-probability</th>\n",
       "    </tr>\n",
       "  </thead>\n",
       "  <tbody>\n",
       "    <tr>\n",
       "      <th>0</th>\n",
       "      <td>maritime</td>\n",
       "      <td>0</td>\n",
       "      <td>0.125000</td>\n",
       "    </tr>\n",
       "    <tr>\n",
       "      <th>1</th>\n",
       "      <td>Higher education</td>\n",
       "      <td>2</td>\n",
       "      <td>0.781100</td>\n",
       "    </tr>\n",
       "    <tr>\n",
       "      <th>2</th>\n",
       "      <td>University</td>\n",
       "      <td>0</td>\n",
       "      <td>0.562374</td>\n",
       "    </tr>\n",
       "    <tr>\n",
       "      <th>3</th>\n",
       "      <td>Ed Tech</td>\n",
       "      <td>6</td>\n",
       "      <td>0.781204</td>\n",
       "    </tr>\n",
       "    <tr>\n",
       "      <th>4</th>\n",
       "      <td>education</td>\n",
       "      <td>1</td>\n",
       "      <td>0.562474</td>\n",
       "    </tr>\n",
       "    <tr>\n",
       "      <th>...</th>\n",
       "      <td>...</td>\n",
       "      <td>...</td>\n",
       "      <td>...</td>\n",
       "    </tr>\n",
       "    <tr>\n",
       "      <th>721</th>\n",
       "      <td>SaaS</td>\n",
       "      <td>6</td>\n",
       "      <td>0.562365</td>\n",
       "    </tr>\n",
       "    <tr>\n",
       "      <th>722</th>\n",
       "      <td>family research + dna</td>\n",
       "      <td>5</td>\n",
       "      <td>0.562422</td>\n",
       "    </tr>\n",
       "    <tr>\n",
       "      <th>723</th>\n",
       "      <td>software industry</td>\n",
       "      <td>4</td>\n",
       "      <td>0.708303</td>\n",
       "    </tr>\n",
       "    <tr>\n",
       "      <th>724</th>\n",
       "      <td>Travel</td>\n",
       "      <td>6</td>\n",
       "      <td>0.562500</td>\n",
       "    </tr>\n",
       "    <tr>\n",
       "      <th>725</th>\n",
       "      <td>Higher Education</td>\n",
       "      <td>2</td>\n",
       "      <td>0.781100</td>\n",
       "    </tr>\n",
       "  </tbody>\n",
       "</table>\n",
       "<p>726 rows × 3 columns</p>\n",
       "</div>"
      ],
      "text/plain": [
       "     primary_industry-text  primary_industry-topic_id  \\\n",
       "0                 maritime                          0   \n",
       "1         Higher education                          2   \n",
       "2               University                          0   \n",
       "3                  Ed Tech                          6   \n",
       "4                education                          1   \n",
       "..                     ...                        ...   \n",
       "721                   SaaS                          6   \n",
       "722  family research + dna                          5   \n",
       "723      software industry                          4   \n",
       "724                 Travel                          6   \n",
       "725       Higher Education                          2   \n",
       "\n",
       "     primary_industry-probability  \n",
       "0                        0.125000  \n",
       "1                        0.781100  \n",
       "2                        0.562374  \n",
       "3                        0.781204  \n",
       "4                        0.562474  \n",
       "..                            ...  \n",
       "721                      0.562365  \n",
       "722                      0.562422  \n",
       "723                      0.708303  \n",
       "724                      0.562500  \n",
       "725                      0.781100  \n",
       "\n",
       "[726 rows x 3 columns]"
      ]
     },
     "execution_count": 71,
     "metadata": {},
     "output_type": "execute_result"
    }
   ],
   "source": [
    "blob"
   ]
  },
  {
   "cell_type": "code",
   "execution_count": 58,
   "metadata": {},
   "outputs": [
    {
     "data": {
      "text/plain": [
       "0                     misc\n",
       "1                education\n",
       "2                     misc\n",
       "3      commerce/consulting\n",
       "4                  fintech\n",
       "              ...         \n",
       "721    commerce/consulting\n",
       "722             healthcare\n",
       "723               software\n",
       "724    commerce/consulting\n",
       "725              education\n",
       "Name: topic_id, Length: 726, dtype: object"
      ]
     },
     "execution_count": 58,
     "metadata": {},
     "output_type": "execute_result"
    }
   ],
   "source": [
    "primary_industry = df.primary_industry.astype('str')\n",
    "\n",
    "primary_industry_topics, primary_industry_prob = nlp.assign_topic_column(primary_industry, ngram_range=(1,3), max_df=.3, stop_words=stopWords, n_components=8)\n",
    "\n",
    "primary_industry_df = nlp.pair_topic_with_text(primary_industry, primary_industry_topics, primary_industry_prob, 'prim_ind')\n",
    "\n",
    "primary_industry_df.prim_ind_topic_id.map(primary_industry_dict)"
   ]
  },
  {
   "cell_type": "code",
   "execution_count": 57,
   "metadata": {},
   "outputs": [],
   "source": [
    "primary_industry_dict = {\n",
    "    0:'misc',\n",
    "    1:'fintech',\n",
    "    2:'education',\n",
    "    3:'government',\n",
    "    4:'software',\n",
    "    5:'healthcare',\n",
    "    6:'commerce/consulting',\n",
    "    7:'tech'\n",
    "}"
   ]
  },
  {
   "cell_type": "code",
   "execution_count": null,
   "metadata": {},
   "outputs": [],
   "source": [
    "prima"
   ]
  },
  {
   "cell_type": "markdown",
   "metadata": {},
   "source": [
    "# 6 types_res_used            690 non-null object"
   ]
  },
  {
   "cell_type": "code",
   "execution_count": null,
   "metadata": {},
   "outputs": [],
   "source": [
    "types_res = df.types_res_used\n",
    "\n",
    "types_res_topics = nlp.assign_topic_column(types_res, ngram_range=(1,3), max_df=.3, stop_words=stopWords, n_components=8)\n",
    "\n",
    "types_res_probs = nlp.assign_topic_column_probability(types_res, ngram_range=(1,3), max_df=.3, stop_words=stopWords, n_components=8)\n",
    "\n",
    "types_res_df = nlp.pair_topic_with_text(types_res, types_res_topics, types_res_probs)"
   ]
  },
  {
   "cell_type": "code",
   "execution_count": null,
   "metadata": {},
   "outputs": [],
   "source": [
    "types_res_dict: {\n",
    "    0:\"evaluative, quantitative, qualitative\",\n",
    "    1:\"card sort\",\n",
    "    2:\"inquiry\",\n",
    "    3:\"moderate, unmoderate\",\n",
    "    4:\"focus group\",\n",
    "    5:\"market research\",\n",
    "    6:\"journey mapping\",\n",
    "    7:\"misc\"\n",
    "}"
   ]
  },
  {
   "cell_type": "code",
   "execution_count": null,
   "metadata": {},
   "outputs": [],
   "source": []
  },
  {
   "cell_type": "markdown",
   "metadata": {},
   "source": [
    "# 7 future_res                609 non-null object"
   ]
  },
  {
   "cell_type": "code",
   "execution_count": null,
   "metadata": {},
   "outputs": [],
   "source": [
    "future_res = df.future_res\n",
    "\n",
    "future_res_topics, future_res_probs = nlp.assign_topic_column(future_res, ngram_range=(1,3), max_df=.3, stop_words=stopWords, n_components=8)\n",
    "\n",
    "future_res_df = nlp.pair_topic_with_text(future_res, future_res_topics, future_res_probs)"
   ]
  },
  {
   "cell_type": "code",
   "execution_count": null,
   "metadata": {},
   "outputs": [],
   "source": [
    "future_res_df"
   ]
  },
  {
   "cell_type": "code",
   "execution_count": null,
   "metadata": {},
   "outputs": [],
   "source": [
    "future_res_dict = {    \n",
    "    0:\"evaluative, quantitative, qualitative\",\n",
    "    1:\"card sort\",\n",
    "    2:\"inquiry\",\n",
    "    3:\"moderate, unmoderate\",\n",
    "    4:\"focus group\",\n",
    "    5:\"market research\",\n",
    "    6:\"journey mapping\",\n",
    "    7:\"misc\"\n",
    "        }"
   ]
  },
  {
   "cell_type": "markdown",
   "metadata": {},
   "source": [
    "# 10 research_educ_desc        540 non-null object"
   ]
  },
  {
   "cell_type": "code",
   "execution_count": null,
   "metadata": {},
   "outputs": [],
   "source": [
    "research_educ = df.research_educ_desc\n",
    "\n",
    "research_educ_topics, research_educ_probs  = nlp.assign_topic_column(research_educ, ngram_range=(1,3), max_df=.3, stop_words=stopWords, n_components=6)\n",
    "\n",
    "research_educ_df = nlp.pair_topic_with_text(research_educ, research_educ_topics, research_educ_probs)"
   ]
  },
  {
   "cell_type": "code",
   "execution_count": null,
   "metadata": {},
   "outputs": [],
   "source": [
    "research_educ_dict = {\n",
    "0:'masters, bachelors',\n",
    "1:'class, running study',\n",
    "2:'degree majors',\n",
    "3:'online, non-degree',\n",
    "4:'experimental, psychology',\n",
    "5:'master degree'\n",
    "    }"
   ]
  },
  {
   "cell_type": "code",
   "execution_count": null,
   "metadata": {},
   "outputs": [],
   "source": []
  },
  {
   "cell_type": "markdown",
   "metadata": {},
   "source": [
    "# 14 how_pick_events           644 non-null object"
   ]
  },
  {
   "cell_type": "code",
   "execution_count": null,
   "metadata": {},
   "outputs": [],
   "source": [
    "how_pick_events = df.how_pick_events\n",
    "\n",
    "how_pick_events_topics, how_pick_events_probs = nlp.assign_topic_column(how_pick_events, ngram_range=(1,3), max_df=.3, stop_words=stopWords, n_components=6)\n",
    "\n",
    "how_pick_events_probs #= nlp.assign_topic_column_probability(how_pick_events, ngram_range=(1,3), max_df=.3, stop_words=stopWords, n_components=6)\n",
    "\n",
    "how_pick_events_df = nlp.pair_topic_with_text(how_pick_events, how_pick_events_topics, how_pick_events_probs)"
   ]
  },
  {
   "cell_type": "code",
   "execution_count": null,
   "metadata": {},
   "outputs": [],
   "source": [
    "#MONEY\n",
    "how_pick_events_dict = {0:'pay', 1:'value, reputation', 2:'price', 3:'reputation, value', 4:'subject, feel, theme', 5:'misc'}"
   ]
  },
  {
   "cell_type": "markdown",
   "metadata": {},
   "source": [
    "# 16 events_attend_recent      558 non-null object"
   ]
  },
  {
   "cell_type": "code",
   "execution_count": 7,
   "metadata": {},
   "outputs": [],
   "source": [
    "events_attend_recent = df.events_attend_recent\n",
    "\n",
    "events_attend_recent_topics, events_attend_recent_probs  = nlp.assign_topic_column(events_attend_recent, ngram_range=(1,3), max_df=.3, stop_words=stopWords, n_components=7)\n",
    "\n",
    "events_attend_recent_df = nlp.pair_topic_with_text(events_attend_recent, events_attend_recent_topics, events_attend_recent_probs)"
   ]
  },
  {
   "cell_type": "code",
   "execution_count": 16,
   "metadata": {},
   "outputs": [
    {
     "data": {
      "text/plain": [
       "array(['Research Tuesdays (Czech),  UX/Design Conferences, ',\n",
       "       'Besides UX week in 2016 I attended and presented at the Pistoia Alliance UX conference in 2017 and have gone to a few UXPA-LA events.',\n",
       "       'none exclusive to research, but this is generally a big topic at any public health conference',\n",
       "       'BAD conference, researchers meet-ups, London research meet-ups.',\n",
       "       'none particularly for research (we are mostly  generalists in our company)',\n",
       "       'None that specialized, I usually go to events with mixed UX topics',\n",
       "       'IIEX NA, CX Talks, Local events, IIEX Behavior, Qual360, EPIC, Day Of Innovation',\n",
       "       'Online courses in JTBD.',\n",
       "       'Mainly content conferences with research talks included.',\n",
       "       \"UIE's Playbook.\", 'Some UX conferences in the UK and Copenhagen',\n",
       "       'research ops remote meetups, UX Mondays in Prague, Research Tuesdays in Prague, some UX conferences, meetups and barcamps in Berlin, Bratislava, Brno, Prague, and Vienna',\n",
       "       'Informal meetups / talks, Online events ',\n",
       "       \"Ladies that UX (I'm a man, but liked it!) , the Research Thing meetup\",\n",
       "       'some online webinars offered by companies offering tools.',\n",
       "       'UXPA International 2018, data analytics online course, meetups...',\n",
       "       'Svpg workshop, design leadership conference (an event apart), meetup',\n",
       "       'Online webnair',\n",
       "       'Personally, UX Week in San Francisco. Folks in my company have attended several other conferences recently that are more specifically research oriented.',\n",
       "       'Ila from ixda', 'local events with some research focus',\n",
       "       'EPIC (conference and online workshops), Strive, HCIC, research meetups in Chicago',\n",
       "       'UX Brighton in November, 2018', 'Conferences, meetups, webinars',\n",
       "       'UX playbook, Smart Scrum Product Ownership, Webinars, JTBD Online Course, Teresa Torres online course',\n",
       "       'Many conferences, several workshops',\n",
       "       'Mule Studio workshops on UX Research and presentation skills.',\n",
       "       'Designs Ops (2 yrs) UIE (3 yrs), HCI Intl (1 yr) Nielsen Norman (3 sessions) UX Strategy with Jared Spool',\n",
       "       \"Some meetups and panels around NYC, when I've been invited to talk. (As a parent of a little kid it's hard to go to an event just to show up and try to network!)\",\n",
       "       'Local talks/meetups, local events, online webinars. ',\n",
       "       'Only on specific methodologies, e.g. a workshop on ethnography.',\n",
       "       'Only conferences in HCI',\n",
       "       'Webinars, meetup on presenting findings',\n",
       "       'Mostly local meet-ups and local events.', 'Conference, workshops',\n",
       "       'Steve’s workshop in NY on interviewing, conferences in Utrecht and Vancouver, a bunch of meetups in NY',\n",
       "       'conferences, workshops',\n",
       "       'local meet-ups on UX topics, including workshop on UX strategy mapping',\n",
       "       'Research Thing meetup, UXPA UK, Research Ops - researcher skills workshop, User Researcher London, HCID London, ',\n",
       "       'Eventbrite: HR design thinking, NNGroup conference ',\n",
       "       'See above. The UX conference in Copenhagen is also great.',\n",
       "       'None specifically on research.. more general UX',\n",
       "       'UX Mondays (Local meetups in Prague), Interaction, EuroIA, WebExpo',\n",
       "       'Monthly meetups, occasional workshop , UX research Conference (strive)',\n",
       "       \"Nothing research specific - mostly UX specific. I watch a lot of content online and bought Sarah Doody's User Research Mastery Course.\",\n",
       "       'UX Spain and UX fighters',\n",
       "       'MWUX has a decent amount of research content',\n",
       "       'Not specifically dedicated to research, but at least 1 ux conference yearly and several meetups',\n",
       "       'Interaction (from IxDA), Norman Nielsen Conference. Service Design Network Conference.',\n",
       "       'not really research only but when I go to UX or web conferences, I pick research speaches. NNG, Exconf Bratislava, Doers Budapest, Webexpo  Prague, UX Salon Tel Aviv, UX Camp Europe in Berlin (best thing ever, mostly), and I have a ticket for UX Brighton ',\n",
       "       'Research specific - EPIC, Strive UXR Conference; General UX - UX London, UX Week, UX New Zealand, FLUPA UX Days, UX Australia',\n",
       "       'Qualtrics Experience Management conference; QRCA events; UXPA events; WIRe events; CO Ad Club events',\n",
       "       'UX Brighton', 'Grace hopper ixda indy design week',\n",
       "       'Nielsen Norman UX conference, UXPA events, Bentley UX certificate courses',\n",
       "       'Uxpa, Norman Nielsen workshop, Airbnb conference ',\n",
       "       'Uxinsight, nn/g workshop, qual360', 'None, they were general',\n",
       "       'Like 40 meetup or tech events, 6 conferences, 2 hackathon involving design thinking ',\n",
       "       'UX London, UX Brighton, UX bristol, UX Oxford, DConstruct ',\n",
       "       'Smaller meetups on research techniques(story mapping, design sprints, etc.',\n",
       "       'UX Immersion?',\n",
       "       'ux insights conference, design thinking shadowing ',\n",
       "       'JTBD events and workshops, User Research London, Top Tasks workshop, UX Brighton last year was fully dedicated to research, Good 19, Bad 19',\n",
       "       'Workshops, Conferences',\n",
       "       \"A few meetups and online webinars only, haven't had the chance to attend a proper conference or anything like that.\",\n",
       "       \"Google Design Sprint Conference. Nick Bowmast's book launch in SF. A researcher breakfast at Prezi. Internal events run by my company.\",\n",
       "       'Design Ops Conference 2018',\n",
       "       'UX meetups in Minneapolis, MN, and webinars ',\n",
       "       'Information Architecture Day, UX Research meetups in Vancouver',\n",
       "       'EPIC conference, internal conferences on research, local research meetups ',\n",
       "       'Generally one-day events and working groups',\n",
       "       'A workshop,  a few meetups, a UX conference. ',\n",
       "       'I think there was a Lean UX Remote conference with Cindy Alvarez?; Grace Hopper',\n",
       "       'BayCHI, UXPA, internal company events'], dtype=object)"
      ]
     },
     "execution_count": 16,
     "metadata": {},
     "output_type": "execute_result"
    }
   ],
   "source": [
    "events_attend_recent_df[events_attend_recent_df.topic_id == 2].text.values"
   ]
  },
  {
   "cell_type": "code",
   "execution_count": 12,
   "metadata": {},
   "outputs": [],
   "source": [
    "events_attend_recent_dict = {0:'london, user_research', 1:'service design, australia', 2:'webinar, brighton', 3:'toronto, strive', 4:'ia summit', 5:'local_meetups', 6:'urca, uxpa'}\n"
   ]
  },
  {
   "cell_type": "code",
   "execution_count": null,
   "metadata": {},
   "outputs": [],
   "source": [
    "dfs = [primary_industry_df, types_res_df, future_res_df, research_educ_df, how_pick_events_df, events_attend_recent_df, ideal_topics_df, ideal_attendees_df, recommendations_df]"
   ]
  },
  {
   "cell_type": "markdown",
   "metadata": {},
   "source": [
    "# 21 ideal_topics              560 non-null object"
   ]
  },
  {
   "cell_type": "code",
   "execution_count": 20,
   "metadata": {},
   "outputs": [],
   "source": [
    "ideal_topics = df.ideal_topics\n",
    "\n",
    "ideal_topics_topics, ideal_topics_probs  = nlp.assign_topic_column(ideal_topics, ngram_range=(1,3), max_df=.3, stop_words=stopWords, n_components=4)\n",
    "\n",
    "ideal_topics_df = nlp.pair_topic_with_text(ideal_topics, ideal_topics_topics, ideal_topics_probs)"
   ]
  },
  {
   "cell_type": "code",
   "execution_count": 30,
   "metadata": {},
   "outputs": [
    {
     "data": {
      "text/plain": [
       "array(['Sessions about new methodologies or cases studies',\n",
       "       'Sharing of methods or best practices.',\n",
       "       'Research ethics not as theory but as practice. Also ecological sustainability.',\n",
       "       'VR/AR Applications',\n",
       "       \"I would like to see research examples to get to understand the methods others use and why. I don't have any specifics top of mind, but I think direct examples from industry leaders give me the most to go off of.\",\n",
       "       'How to improve qualitative research crsft - moderation, reading boyd language, how to get to underlyinh needs/emotions\\nMethods, esp. new/emerging qual methods ',\n",
       "       'Research method selection with examples of various degrees of success/failure/ambiguity',\n",
       "       \"Selling research consulting, in a variety of venues/formats/situations. \\n\\nI'm not particularly interested in learning about methodologies or the like--those are too easy to research in other venues. I'd like more practical advice about managing research projects and ways to find clients.  Building a personal practice or brand is also a good one. \",\n",
       "       'Content that bridges the gap between “by the book” and academic research to research practices that are most successful in business.',\n",
       "       'Selling research so it gets done',\n",
       "       'Ethnographic research, Portigal style tales from the field\\nAnalyzing research, methods for making sense of the data collected\\nGDPR compliance, privacy and security of data, presentation and transfer of information  to clients with privacy in mind (ie who owns the research)',\n",
       "       'How to advocate for research in software dev projects, how to integrate research for the entire project lifespan, how to educate the developers so that they would request research in their next project as well?',\n",
       "       'Making it easier to do continuous research at a sustainable pace',\n",
       "       'case studies, deep dives. not-for-beginners kind of stuff',\n",
       "       'Methodologies,  field-specific best practices,  etc. ',\n",
       "       'case studies plus more about statistics',\n",
       "       'selling the research -- how are you successfully gaining buy-in.\\nPartnering w/ market research inside organizations.',\n",
       "       \"I'd love to hear lots of case studies of various types of research from various people- even attendees\",\n",
       "       'Best practices \\nReal Projects',\n",
       "       'Influencing leadership, becoming leadership, self management. Expanding global consciiuness',\n",
       "       'Ethics in research',\n",
       "       'applications of mixed methods; how to explain research better; case studies of the same.',\n",
       "       'Where you had to adapt to a situation and change the typical research method to match your situation',\n",
       "       'Research Operations, managing research projects.',\n",
       "       'How to get started in research.',\n",
       "       'best practices for different methodologies\\nreports\\nanalysis\\nremote collaboration',\n",
       "       'Design synthesis and making research actionable. Case studies. Promoting research in traditional organizations outside agencies. Learning about practicing research from industries outside design with more mature research practices, e.g. monitoring and evaluation programs in large NGOs/non-profits. Ways to advocate for exploratory research and not just evaluation ',\n",
       "       'We need more emphasis in our community on \"making the familiar strange\". There is not enough effort at decoding the mundane acts and phenomenon of life. A move in this direction would tamp down some of the hype that infects most conferences. Also, ethical conundrums, and ethical acts within power dynamics. HCD is signing its name to some very dark patterns. And celebrating those act on stage at design and research conferences around the world. Finally, let\\'s talk about Porter\\'s concept of creating shared value. Perhaps with the benefit of the UN SDG framework. Oh yeah, why not make some arrangements to take participants out into the field!  Imagine that. ',\n",
       "       \"I'm a supplier, so I'm primarily interested in how to build a stable client base.\",\n",
       "       \"Peer reviewed research studies.  We need to build a literature for ux. Too many of today's UX conferences focus on thought pieces or opinions.\",\n",
       "       'Emerging / innovative research approaches, research case studies, masterclasses ',\n",
       "       \"Honestly, more on talking about and selling research. Case studies that are useful. What lands well with people who don't understand the merit and uses of research in professional settings.\",\n",
       "       'Best practices, areas for future work',\n",
       "       '- I studied *this* in *this* way and had these results and *this* is what I learned about my methods and approach\\n\\n- What I did to overcome organizational barriers to conducting user research. ',\n",
       "       'Methods and case studies',\n",
       "       'Tactical/how to sessions.  Strategic application of research',\n",
       "       'Scrappy and fast methods',\n",
       "       'Advanced research sessions, very detailed case studies, fail experiencea... ',\n",
       "       'Analysis! Analysis in the age of distributed, remote teams, analysis methods and case studies, any way to prove the value of getting more time for analysis. ',\n",
       "       'Besides case studies, would want to see more about the analysis and socialization of research conducted and the impact on company',\n",
       "       'New techniques. Business cases for research. Managing research with little to no budget. How to select a good vendor to help with research. When to research (and when to not).',\n",
       "       'Recruitment',\n",
       "       'How to democratize research and support all disciplines doing it well. At my company everyone is expected to do research but not everyone can do it well.',\n",
       "       'I’d be particularly interested in learning the pitfalls of researching without a diverse team or participants.',\n",
       "       \"I think I'd like to see how people actually implement accessibility soup to nuts from the beginning of a startup project.\",\n",
       "       'Not sure.', 'Behavioural studies',\n",
       "       'How to manage research and agile.\\nHow to manage users database\\nHow to evangelize research in a organization\\nHow to build ux kpis\\nDifferent research approaches. Small x large organizations.\\nAvoid bias surveys, interviews, etc',\n",
       "       'Ethics, Ops, case studies',\n",
       "       'Practical application not just theory. Case studies and best practices.',\n",
       "       'Ethics in research, career path planning for researchers.',\n",
       "       'Different types of research methodologies and case studies, how research is evolving for the future, how will research be disrupted, how to champion research in a large organization',\n",
       "       'More advanced methods. I don’t want to hear about usability or interviews.',\n",
       "       'Emerging methods, ethics, sharing \"horror stories\", effective strategies for changing organization culture to be more research focused.',\n",
       "       'UXR Process and Exercises to help align Product',\n",
       "       \"I'd like to see if organizations are still focusing on usability.  In my recent roles there has no longer been an emphasis on this but rather on strategic research to identify opportunities.  It feels like market research and UX research are blending to some degree.  As someone with 15 years of experience I have started to see usability of products decrease as organizations more and more emphasize strategic research (evaluative methods seem to be just taken for granted or ignored completely).  I'd love to learn if some organizations are keeping a good balance and not ignoring one critical aspect of what we do.  I'd also love to talk about this more with others in terms of the future of UX Research in organizations.\",\n",
       "       'Ethics, building the case for qualitative research at your org, discussing the future of the field, design research applied to fields outside of software/technology ',\n",
       "       'Methods and case studies',\n",
       "       'Research integrated in organizations on a micro level',\n",
       "       'Case studies',\n",
       "       'Leadership in research and setting up a research practice.',\n",
       "       \"Larger more established research organizations process, advocating for research, structure of teams, emerging methods I haven't practiced or heard of\",\n",
       "       '\"How to get management to believe in conducting user research\"',\n",
       "       'Methodologies, what to do when _________, Research impact on organizations, Research management and leadership (why are there so many women researchers but so few women research leaders??)',\n",
       "       'How to recruit people KIDDING PLEASE NO. I love case studies. Vanessa Dilloff gave a great talk about her recent work for the North Face at People Nerds, and it was delightful.',\n",
       "       \"I'm interested in content for experienced researchers that's about doing the work, influencing, managing up to executives. Focused on start-ups and smaller companies. Not large public corps. \",\n",
       "       'Trends, case studies, practical applications of research; stuff for seasoned practitioners.',\n",
       "       'audience, consumer, user research.',\n",
       "       'Practical ways to get around problems\\nWar stories\\nInspiring case studies\\nTransferable truths about human behaviour ',\n",
       "       'Leading and advocating for research \\nHybrid design + research topics\\nCase studies',\n",
       "       'Why UX appears to be trying to replace Market Research. UX includes many of the types of research tools and processes market researchers have used for yours. Market Research needs to modernize and wake up to the focus on UX.',\n",
       "       'more case studies about research as a practitioners , ways to overcome challenges, the need for more mentors in this field and ResearchOps',\n",
       "       'Focus on implementable methods and practices to take back and try.',\n",
       "       'Crosspollination, i.e. research between different fields, away from silo-thinking, real work applied research examples. ',\n",
       "       'That if an attendee has a CoC complaint it is heard, documented, and investigated by an outside neutral vendor. That until the claim is validated the parties are protected from one another — and the community. That ANYONE found participating in public or back channel campaigns to tear others down are banned from participating in the community.\\n\\nAlso, how to heal when we’ve done tons of research, heard how people are struggling, and then the project ends or turns, and we’re left with the “stories of users flowing in our marrow,”…  unable to do anything further to help. ',\n",
       "       'Practical stuff',\n",
       "       'Qualitative vs quantitative. Examples of success and best practices in each. Ethnographic study case studies . Problem space vs solution space. Lean and how to do research in that mode. Research leadership and persuasion',\n",
       "       'Embedding research in existing processes, Best processes for embedding research, Research result analysis.',\n",
       "       'How to have impact as a sole researcher in an organization.',\n",
       "       '- Ethnographic research: case studies, tips and tricks\\n- How to teach basic research skills to others: what works, what to avoid\\n- How to think \"quantitative\": everything is tracked; what is meaningful?\\n- How to do field research on help systems, where the need is unpredictable?',\n",
       "       'Analyse and report.',\n",
       "       'Building research panels and infusing research culture in organizations',\n",
       "       'How to do longer research projects planning',\n",
       "       'Leadership, new and advanced methods, career advancement, inclusive research and design, ethics',\n",
       "       'Case studies about experiments with methods, things that didn’t work (failures and what people learned from them)',\n",
       "       'Thought provoking, \"real\" topics.  Challenges for our field. Examples of really cool ground breaking research projects. ',\n",
       "       \"I REALLY enjoyed Vivianne Castillo's talk about self-neglect and ethics in research she gave at Strive 2019. Holy cow!\\nFundamentals, advanced techniques, and addressing the difference between in-house research teams, freelance/consultant research, and the growing awareness that B2B and B2C research is in fact different (sorry, not sorry).\",\n",
       "       'Research Ops\\nCase studies of research that led to impact\\nFuture of research\\nDeepening methodology',\n",
       "       'More about creativity and different research methods',\n",
       "       'Accessibility research - including differently-abled people in your research.',\n",
       "       'Talks that feature case studies',\n",
       "       'Advanced research methods or “creative” research methods. I want to hear how other people “make it work” in their organization, and also how we can incorporate more advanced research and analysis methods into our day to day. ',\n",
       "       '- Maintaining good research (both into the problem and into the early concept) in a \"Lean Startup\"-world.\\n- In that same theme: what\\'s the deal with design sprints, from a research perspective. Is using the moderated usability testing-format really the best to gauge potential market adoption of a new concept? That\\'s not what the method is for. ',\n",
       "       \"method deep dives/use case: i) why did a researcher choose a given method for a scenario ii) what challenges were there iii) how did they address those challenges, and iv) what didn't work/did work and why?\",\n",
       "       'How to innovate qualitative research methods',\n",
       "       'i want to talk about research methods for generative research. i feel this area of ux is often done with much less methodical rigor as opposed to other forms of research, so i am interested in why, learning more about projective techniques for interviewing and why/how those work. ',\n",
       "       \"Not sure I'd really attend a conference about research. Only if it involved explaining to clients why research is important.\",\n",
       "       'Practical how-to’s\\nEthics\\nRecruiting research participants\\nResearch team of one',\n",
       "       \"Integrating research across large organizations. The politics of research. Permission / ownership. Building research cultures. How to encourage research with new teams without much experience while managing the risk of green researchers. Getting everyone into the field (I've had everyone from SVPs to frontline staff on field teams, but not consistently).\",\n",
       "       'Specific situation and specific challenge. Want relevancy and avoid too much talk that is general or caught up in my issues — should be about the client and user needs',\n",
       "       'Unusual or new methods, case studies, seeing how other professionals dealt with challenging topics',\n",
       "       'Executing research and short case studies',\n",
       "       'ethics, recruiting, synthesis & analysis',\n",
       "       'Balancing qualitative and quantitative research',\n",
       "       'Current UX trends for tools, failed and successful use cases, understand German network of UX communities',\n",
       "       \"Practical dos and don'ts, promoting research practice in organisations, sybnergies between different research dusciplines. \",\n",
       "       'Direct observing',\n",
       "       'Ethnography in practice - how to approach, how to conduct, what to look for, what to note, how to analyze, and how to make relevant through personas and scenarios.',\n",
       "       'research for one, research tools and how to use them, unbiased research, hear about more unusual types of research and hear cases studies about them',\n",
       "       \"Case studies are often the most valuable. I love hearing about people's real experiences.\\nHow-to and best practices are good (as long as they include real examples).\\n\\nA big interest for me right now is bringing quantitative and qualitative approaches together.\\n\\nAnd how to make the business case for research - alas, this is something I still need to do a lot of!\\n\",\n",
       "       'Latest methods. How to make sure you are performing the right kind of research.  How to frame your insights. Methods for improving questions.',\n",
       "       'talks that focus beyond success, explain the practice.',\n",
       "       'Research methods around designing for accessibility, ie, research with participants who have varying accessibility needs',\n",
       "       'Usability testing, interview practice sessions, community based research methods',\n",
       "       '\"Alternative\" or nontraditional, emerging, and agile-friendly methods; hybrid methods',\n",
       "       'real case studies, no theory since there are books for that',\n",
       "       'more intermediate and advanced topics on conducting research hands on. would like to see more hands on workshops.',\n",
       "       'Growing a team, advanced methods or analysis topics, case studies',\n",
       "       'How to keep your stakeholders informed and aligned?\\nAdvocating for research in your organization.\\nCase studies on research.\\n',\n",
       "       'research ops topics: case studies on research repository efforts, setting up a user panel, navigating the vendor management process, structuring teams for efficiency - examples across organizations, creating awesome research study templates to use across teams\\n\\nhow to align smaller sample UXR studies with larger sample marketing studies\\nhow to incorporate UX metrics into KPIs \\ncompelling visualizations to incorporate in research analysis deliverables to stakeholders (e.g., customer experience indexes)\\n',\n",
       "       'Research and analysis methods. Get people in the organization involved. Innovative reporting, recruitment, research, analysis etc',\n",
       "       'Actual research stuff (methodology), plus levelling up your organization',\n",
       "       'Research in Education (paths to support learning)',\n",
       "       'How to tackle research when your plate is too full but all the product teams have research needs (and hiring another researcher isn\\'t an option!), case studies of traditional methods and the result, case studies of new/innovative methods and the result, how to make research more \"lean\" ',\n",
       "       'Research Ethics and how to communicate them to non-researchers stakeholders\\nResearch Flops\\n',\n",
       "       \"How to align researchers. When to be precious about research. Which is worse - no research or bad research? How to manage up when research leaders don't agree. How to understand context. Reports or not? What do you need to bring back to those not at the conference to get them on the same page with you?\",\n",
       "       'Methods, dos and donts, learning, challenges. I don it want to hear anything high level because it’s a waste of time. I also don’t want to hear about a company self promoting.  ',\n",
       "       'User Research',\n",
       "       'How research stays relevant in organizations where politics abound and data is becoming more central to decision making. Crafting compelling narratives that move the organization in a better direction.',\n",
       "       'Aligning User Research with business and marketing.',\n",
       "       'Ethics, co research ',\n",
       "       'New forms of Research with practical advices\\nPersonal experiences with different kind of researches an reconmendations\\nRecommendations when to do what Kind of research-Bit not the und typical advices but some creative approaches\\nAdvices or practical activities for the analysis and synthesis phases \\nHow to conduct research for the Job to be done approach\\nHow to combine quantitative and qualitative research.\\nWhich kind of quantitative research is useful and how to conduct it',\n",
       "       \"Matching research methods to research needs, building a research roadmap, how to make research insights sticky in stakeholders and product teams' minds.\",\n",
       "       'Advancing the practice and methodologies within research',\n",
       "       'new research methods\\nchallenges of real user research practices ',\n",
       "       'Research methodologies, project case studies and career development advice. Anything and everything qualitative research',\n",
       "       'Research with cognitive access needs\\nAnalysis methods ',\n",
       "       'Best practices in research',\n",
       "       'Practical research applications in industry',\n",
       "       \"In-house research rather than stuff that's very focused on being a consultant/agency.\",\n",
       "       'how they built research practices in their organizations, strategies for research, how they approached difficult problems and solved through application of research, etc.',\n",
       "       '1) Research with disadvantaged or vulnerable populations, 2) How to start and formalize a research process in your company or organization, 3) Research ethics, 4) Research in government, or social and humanitarian sector, 5) Issues of power and inequality between researchers, users, and their organizations, 6) Innovative quantitative methods\\n',\n",
       "       'Participant recruitment strategies, research fails, research community building in your organization',\n",
       "       'Choice of methods - when which method, edge cases\\nCase studies\\n\\n',\n",
       "       'raising user research awareness in your organisation; interesting user research case studies; best research practices for small research teams;',\n",
       "       '- Effectivity od research reports - best practices to set (and communicate) the suitable format according to the client’s or colleague’s needs (inhouse research)\\n- Offering research insight and check-up during later stages of the design process to make sure it has been incorporated\\n- Experimenting with research methods, creative use and adjustments according to current needs of the project\\n- Synthesis workshops with the team - how to design the workshops, modelling techniques',\n",
       "       \"Field studies (what we learned and how our methods changed), international studies (how best to conduct studies when you don't speak the language). Social context methods for understanding the effects of products on groups. Usable privacy and security, ethics in UX research (Montiero), running a UX practice (Cooper), guerilla research (Chipchase), how to be a successful independent UXR consultant, which corners to cut (or not) when you have to do research fast and cheaply. Vigorous debate on the level of detail in deliverables. \"],\n",
       "      dtype=object)"
      ]
     },
     "execution_count": 30,
     "metadata": {},
     "output_type": "execute_result"
    }
   ],
   "source": [
    "ideal_topics_df[ideal_topics_df.topic_id == 3].text.values"
   ]
  },
  {
   "cell_type": "code",
   "execution_count": null,
   "metadata": {},
   "outputs": [],
   "source": []
  },
  {
   "cell_type": "code",
   "execution_count": 31,
   "metadata": {},
   "outputs": [],
   "source": [
    "q21_dict = {0 : 'case_study', 1 : 'quant/qual/data', 2 : 'ops/ai', 3 : 'new_method, mixed_method'}"
   ]
  },
  {
   "cell_type": "code",
   "execution_count": null,
   "metadata": {},
   "outputs": [],
   "source": []
  },
  {
   "cell_type": "code",
   "execution_count": null,
   "metadata": {},
   "outputs": [],
   "source": []
  },
  {
   "cell_type": "markdown",
   "metadata": {},
   "source": [
    "# 22 ideal_attendees           471 non-null object"
   ]
  },
  {
   "cell_type": "code",
   "execution_count": 33,
   "metadata": {},
   "outputs": [],
   "source": [
    "ideal_attendees = df.ideal_attendees\n",
    "\n",
    "ideal_attendees_topics, ideal_attendees_probs  = nlp.assign_topic_column(ideal_attendees, ngram_range=(1,3), max_df=.3, stop_words=stopWords, n_components=4)\n",
    "\n",
    "ideal_attendees_df = nlp.pair_topic_with_text(ideal_attendees, ideal_attendees_topics, ideal_attendees_probs)"
   ]
  },
  {
   "cell_type": "code",
   "execution_count": 38,
   "metadata": {},
   "outputs": [
    {
     "data": {
      "text/plain": [
       "array(['I like a mix, academics and professionals, quals and quants, etc. ',\n",
       "       'Steve Portigal\\n\\nDon Norman\\n\\nMad pow \\n\\n', 'Don Norman',\n",
       "       'Big names who do not give the same talk over and over, speakers who are invited not because of their organization, but because of their original work. ',\n",
       "       'I don’t know.',\n",
       "       'Established and mid-career professionals; digital agencies; UX research staff from large corporations',\n",
       "       'Lisa Reichelt, Kim Goodwin, Laura Klein... Heroes in the field are always inspiring\\nBut also;   A Philips researcher and her/his story about how research makes the difference for patience or doctors; or the free lance UXer who transformed the way of working at company x; or how ‘every user researcher/designer’  thinks research could be done much mor effective and efficient (concerning gathering data, deriving insights, re using research data, making valuable next steps...)... but we all re invent the wheel... ',\n",
       "       'Leisa\\nKate T\\nAbby C\\nSteph Marsh\\nKaty Arnold\\nSteve Portigal\\nDavid Whittle (Spotify)\\nBrigette Mesler\\nLots of awesome individuals in Gov.uk\\nPublic sector people \\nLess excited about people working at tech giants but I have seen some good individual speakers - particular coming out of Spotify/Shopify',\n",
       "       'Data journalist\\nExpert on bias\\nResearch AI, including AI/ML critics\\n',\n",
       "       'I like to see a couple of \"big names\" on the main stage but find I often get more out of the mid-career non-famous types in the smaller sessions. It\\'s always a delight to find out about someone new who\\'s doing amazing work but you might not have been aware of them. ',\n",
       "       'organizations that are well-know for over delivering UX experience, specific individuals',\n",
       "       'organizations who have successfully integrated qual/quant research...where they all get along :)',\n",
       "       'Abby Covert, Natalie Hanson, Steve Portigal, & Lou Rosenfeld :)',\n",
       "       'People with experience in research within a startup context',\n",
       "       'More in house, much less agency work. Academics in small doses. ',\n",
       "       'Consumer Insight Managers from the client side\\nResearchers collaborating with insights managers to present a case study',\n",
       "       'More diverse applications for research...so less web, less mobile, less B2B or B2C. \\nHow research has helped with deep, systemic \"wicked problems.\"\\n',\n",
       "       'Jared spool\\nSteve Portigal\\nResearch teams in bigger organisations e.g google, Facebook to understand how they meet the challenge of setting the landscape for others\\nAlso smaller agencies trying out new things to make it work on a budget ',\n",
       "       'DesignOps and AI people. I don’t care to see vendors, eye tracking, invision yet again.  They come all the time and I know we need to have the sponsors but they add very little value to the proceedings.',\n",
       "       'Steve Portigal, NNg peeps, Jared Spool, Mike Monteiro, Snook, ',\n",
       "       \"Research managers from places I'd like to work from :)\",\n",
       "       'Practitioners from a wide variety of practical backgrounds. Generalists, dedicated researchers, non-UXers who have embraced and now practice UXR...people at consultancies and in-house, small vs. large companies, private vs. public sector, consumer vs. professional products...representing a bunch of perspectives.',\n",
       "       'Jared Spool,  Tim Brown,  Nielsen Norman,  Steve Krug, Dan Saffer, Tomer Sharon',\n",
       "       'People who don\\'t always fit into traditional \"research\" roles but doing inspiring work. Journalists etc',\n",
       "       'I’m new to research groups.',\n",
       "       'People who have been practicing User Research for 15+ years. People who did not come to research through academia (I find academics most unhelpful and snooty). People whose companies have grown rapidly recently - they usually have great ideas about how to survive while growing.',\n",
       "       'Study Cases',\n",
       "       \"Anyone but the usual suspects, please.  A kitten dies every time the roster begins with Jared Spool. Just saying. In a conversation about the celebrity of Jan Chipchase someone pointed out doesn't the celebrity thing undermine the ability to perform research? Maybe not, but I think you feel the point. Please emphasize what we are getting up to, working on, or engaging in. And leave the cult of celebrity for other events. \",\n",
       "       'Marketers, data analysts, journalists, data visualisers, not-for-profits ',\n",
       "       \"-Steve Portigal (ofc), Sam Ladner, Erika Hall, myself, got to have Jerad Spool, Julie Zhou is really cool\\n\\n-I have a penchant for people conducting ethnographic research in academia at present (places like UCSD/Stanford)\\n\\n-Anybody who has written a research book I liked or that is well received \\n\\n-I'm a big fan of Christopher Noessel, slightly fangirl-ing, but AI + Design is an alluring topic\\n\\n-Any of the academic HCI greats (Don Norman, Bill Buxton, etc.).\\n\\n-Philosophy of mind people advancing cognitive science (Andy Clark)\",\n",
       "       'complementary services',\n",
       "       'I live in NZ. We welcome all international speakers at all times.',\n",
       "       'Those who have an interesting perspective, those who challenge the norm, those who are open to sharing new ways of working, those who are leaders in their field, a mix of qual and quant, a mix of MR, UX, DR, HCI, SI, CI, CX, etc as I work across all types of qual research needs',\n",
       "       'Any professional', 'Leah buley',\n",
       "       'Mix of established and new speakers',\n",
       "       'Anyone who is willing to talk honestly and without confidentiality problems about research experiences.',\n",
       "       'Jared Spool, Amy Bucher, John Hicks II',\n",
       "       'I\\'m not interested in people who only \"practice\" in academia. Not only does it uphold the Ivory Tower structural inequality, but rarely do they have anything *constructive* to add to the discussing and practice of practicing anthros.',\n",
       "       'Leaders who helped create the path and role.',\n",
       "       'I like to see a mix of qualified professionals (academic or research org leaders), practitioners who purely do research, but also people who work within organisations managing research as part of their role (case studies).',\n",
       "       'I’m quite open to seeing anyone, but I guess experience plays a big part for me... learning from people who have genuinely done the job as well as talk about it.',\n",
       "       'People who actual have experience doing the cycle of research. From preparing the research until presenting the report in small and large organizations. I dont care about titles, I care about experience.',\n",
       "       \"I don't have specific names or organizations that I would recommend. I do think that finding more seasoned people in the research industry with a lot of experience are extremely valuable. I feel like we're at a moment in time with research where everybody wants to start a research practice in larger companies but they're just aren't enough seasoned researchers out there to sort of lead these things. We have a bunch of more junior people trying to fill these rolls without necessarily the background or the experience to do so in a thoughtful and effective way.\",\n",
       "       \"To be honest - I'm less familiar with research individuals. I would love to see a range of expertise across categories (tech, healthcare, CPG, etc). \",\n",
       "       'it depends about actuality of UX research',\n",
       "       \"Senior researchers with a depth of experience doing research - not managers, directors who don't do the work anymore. \",\n",
       "       'Fellow user research managers',\n",
       "       'Sam Ladner, Indi Young, Kim Goodwin, Leisa Reichardt, Jan Chipchase',\n",
       "       \"I'd want to learn from people who work with insights in analogous spaces and bring some inspiration in.\",\n",
       "       'Diversity of roles/organizations\\nMore experienced people working in complex “mess” or constrained environments — from whom I’m likely to learn something new and get actionable ideas',\n",
       "       'Hidden gems. People doing amazing in companies no one has heard of, as well as some big names. ',\n",
       "       'Leah Buley\\nKim Goodwin ',\n",
       "       'Jared Spool\\nAnyone from IDEO--Tom and David Kelley\\nIrene Au\\nDon Norman\\nJakob Nielsen\\nAnyone from Nielsen Norman Group\\nJane Pyle\\nJay Melone\\nPhil Gilbert from IBM\\nJohn Maeda\\nSean Ellis',\n",
       "       'More people like Jan Chipchase, Jan-Christoph Zoels, that talk about what they do and how you can do the same. Less people that evangelise about the virtues of research.',\n",
       "       '- Diverse group of people\\n- Data scientists, ethnographers\\n- People doing experimental and unexpected work\\n- Super smart and thoughtful people with self awareness\\n- People who have overcome adversity as it relates to their practice \\n- People engaged in critical theory',\n",
       "       'No one in particular. Diversity would be nice, for example, an international audience.',\n",
       "       'Public sector service design types, research ethics',\n",
       "       'mix of academics and practioners',\n",
       "       'Whatever the topics - the opportunity to speak with leaders on challenges - have a dialogue about what is out in the world and their experience, a round table with lots of opinions and experience - learnings that you can take back to your work situation.',\n",
       "       'All the wonderful folks who have been around writing and speaking since before Research was so marvelously popular, before we started saying UX, back when we would annoy people at cocktail parties by explaining what information architecture was and then pressing them for adhoc feedback on login flows and page layouts. ',\n",
       "       'Jared Spool',\n",
       "       'Sam Ladner\\nAcademic anthropologists and ethnographers\\nInformation architects ',\n",
       "       'People with case studies (Rather than abstract talks). \\n\\nRanges in background (i.e. data, psychology, design). ',\n",
       "       'any organization that has *groups* of researchers that can speak, in depth, about a particular area',\n",
       "       'Good Great Studio\\nIdeo.org',\n",
       "       'Method leaders. People who are actually working in the field and known leaders. Less about the people who are always speaking (they have their place) but thought leaders who are applying craft are much more valuable in my eyes',\n",
       "       \"I want to see people who actually do the work, ceo's and vp's of research at agencies don't do shit when it comes to day to day research, and i don't want to hear from them...it'll be another sales pitch. I want to geek out on research topics by researchers. \",\n",
       "       'Alastair Somerville, the decolonization of codesign as a workshop (or pretty much anything else he does).\\nPublic sector folks.\\n',\n",
       "       \"I'd like to see people who have actual case studies and can walk through step-by-step how they did things. Theoretical and high level is good for C-levels, for persuasion, for rallying the troops, but I am the troops and I'd love really tactical information at this point.\",\n",
       "       'Steve Krug. Laura Klein. Jeff Patton. Don Norman.',\n",
       "       'good mix of academic, professional. Also small orgs – most speakers are from big orgs where research is much of a thing. ',\n",
       "       'Organizations that practice service / systems thinking beyond the digital interface',\n",
       "       'IDEO.org',\n",
       "       \"Organisations I follow and admire the work of. \\nPeople who have overcome challenges within their work. \\nA diversity within the key note speaker (not just white men who are from privileged backgrounds) - I say this because the small things that have helped people get to where they are, really shape and inform their way of thinking. I'm also conscious that in the research community there are less of these types. \",\n",
       "       \"I would probably be excited to see the folks who put out this survey and similarly experienced professionals who work in design or user research. It's cool to have representatives from a known company, but I don't think that is required. I'm excited by experience, knowledge, and people who have a passion for user research.\",\n",
       "       'Ethnographers and social scientists!',\n",
       "       'Leaders of the field (both local and nationally recognized), people doing interesting stuff with research and data. ',\n",
       "       'Well known anthropologists and sociologists',\n",
       "       'Gurus of research, success case studies ',\n",
       "       'people from normal organisations, not google or spotify!',\n",
       "       \"It's great to learn from people who have oodles of experience, are foundational to the industry, come from hot companies with big budgets doing amazing work, but you also don't want to hear from the same people over and over again. Diversity definitely enhances the conversation. Also, opportunities for attendees to contribute their perspectives as well as organized speakers. \",\n",
       "       'Researchers from a range of companies, small and large. ',\n",
       "       'People who have my same background -- graduate training in qualitative social science who are in large tech companies',\n",
       "       'Jared Spool, David Travis, Nielsen, Norman etc',\n",
       "       'I would expect leaders to have either academic training or deep experience in research practice. I avoid events where junior folks present their perspectives as I find it’s not helpful to me as a learner. (I wouldn’t mind mentoring in this situation.)',\n",
       "       'Representation from both large and small companies, a diverse set of leaders in the field.',\n",
       "       'I am sick and tired of ppl from huge companies, coming to the stage and presenting \"the one and only\" way of doing the research. There is a lot of talented people doing research in smaller companies,.',\n",
       "       'No one in particular',\n",
       "       'A mix of academics and professional practitioners\\nVUI/robotics researchers\\nExperienced presenters with normal job titles - User Experience Consultant / Information Architect / User Researcher - instead of Director of Thinking & Ideation or whatever \\n',\n",
       "       'African Americans working in research, people who work at  small organizations with small budgets (non-startups). ',\n",
       "       'I know who I don’t want. I don’t want to see recruiters (hr). Someone selling me something (I’d rather get free access or trial codes for tools and then make my decision). I don’t want to see pure market researchers or designers.\\nI want to be around anyone who does user research full time in any organization. I want to see leaders of research being social and not hiding away which they always do. I want to see evangelists of research known in the field.',\n",
       "       'experienced veterans from the field.',\n",
       "       \"Nielsen Norman Group, experienced researchers who are industry leaders, researchers who don't necessarily have a formal research background.\",\n",
       "       \"I'd love to see people with a mix of seniority, but it would only work if there were activities to break people out of their cliques. I'd love to see conversations between in-house and agencies about how their tactics for advocating for research differ. AirBnB is doing really cool things w UX research, so it'd be cool to talk to them...\",\n",
       "       'I\\'d like to see a diverse group of presenters from a demographic standpoint, a variety of \"experience levels\" offering their perspectives, and people from a range of organizations (e.g. in-house <> agency, qual <> quant, b2b <> b2c, etc).',\n",
       "       'Organizations that do comprehensive qualitative research. People such as Jan Chipchase, Sam Ladner or Indi young',\n",
       "       'Jared Spool is a favorite of mine, so is Mike Monteiro, but to be honest, I want to see a diverse set of speakers\\nArango, too!',\n",
       "       \"Steve Portigal, my interest in UX research pretty much started when I read his book. I'd also like to see companies with cool case studies, can't think of one at the moment.\",\n",
       "       'A few \"big names;\" diversity in backgrounds (e.g., non-traditional researchers and traditional); various user research tools to demo onsite',\n",
       "       \"People who practice research specifically. It's great that lots of designers do research too, but I want to meet more professionals who focus solely on research\",\n",
       "       'Others who have to apply research in their roles',\n",
       "       'Buxton. Spool. Rohrer.',\n",
       "       'people that research works with e.g. data analyst, product manager, customer support, designer, etc. ',\n",
       "       'big and small companies, seeing the scale at which UX research is being performed and how, to benchmark and gain perspective',\n",
       "       'Ppl from big corporates, but also research agencies, and small up and coming startups. Mostly ppl with several years of experience who are also engaging speakers'],\n",
       "      dtype=object)"
      ]
     },
     "execution_count": 38,
     "metadata": {},
     "output_type": "execute_result"
    }
   ],
   "source": [
    "ideal_attendees_df[ideal_attendees_df.topic_id == 3].text.values"
   ]
  },
  {
   "cell_type": "code",
   "execution_count": 39,
   "metadata": {},
   "outputs": [],
   "source": [
    "ideal_attendees_dict = {0: 'industry, team, product', 1 : 'experience, jared spool', 2 : 'sam ladner, erika hall', 3 : 'indi young'}"
   ]
  },
  {
   "cell_type": "code",
   "execution_count": null,
   "metadata": {},
   "outputs": [],
   "source": []
  },
  {
   "cell_type": "markdown",
   "metadata": {},
   "source": [
    "# 23 recommendations           494 non-null object"
   ]
  },
  {
   "cell_type": "code",
   "execution_count": 46,
   "metadata": {},
   "outputs": [],
   "source": [
    "recommend_stopwords = ['research','conference','researcher','don','dont','just','people','make','talk']\n",
    "\n",
    "recommend_stopWords = nlp.set_stop_words(recommend_stopwords)\n",
    "\n",
    "recommendations = df.recommendations\n",
    "\n",
    "recommendations_topics, recommendations_probs  = nlp.assign_topic_column(recommendations, ngram_range=(1,3), max_df=.3, stop_words=recommend_stopWords, n_components=5)\n",
    "\n",
    "recommendations_df = nlp.pair_topic_with_text(recommendations, recommendations_topics, recommendations_probs)"
   ]
  },
  {
   "cell_type": "code",
   "execution_count": 47,
   "metadata": {},
   "outputs": [
    {
     "data": {
      "text/plain": [
       "array([nan, nan, nan, 'Go ahead! Your prestige is a guaranty',\n",
       "       'It would be nice to have more conferences that bring together practitioners and researchers in academic positions, using similar research tools and strategies.',\n",
       "       nan,\n",
       "       'bring key opinion leader and young minds together for few days \\n',\n",
       "       'Have some really inspirational talks as well as informational. And have books to sell! (Of course!)',\n",
       "       'DO IT.', nan, nan,\n",
       "       \"Good luck :)\\n\\nNo seriously, think about who your target group is, and how to advertise. If it was too generic, I would not feel it's urgent/interesting enough to give up another conference for it (because that's probably what it would boil down to).\\n\\nMaybe co-locate with existing large conferences? In my area that would be CHI (Computer-Human Interaction), you could add a day on. That would increase my chances of going, because I would not get funding to travel to a conference if I can't present a paper there, and if it isn't high impact.\\n\\nYou could consider going digital? But I've never attended such an event, don't know whether it would be as compelling.\",\n",
       "       nan, nan,\n",
       "       'Be diverse in every aspect - and inclusive. No \"manels\"! Be creative and provide options for introverts and extroverts alike. Provide quiet spaces. Make sure the food is good and don\\'t forget the FUN :)',\n",
       "       nan,\n",
       "       \"(Not about research, but about the user experience of attending conferences/workshops)\\nHave coffee/water available at all times - paid is ok, availability is a must!\\nHave a place for people to set down/store v their stuff. It's hard to meet and greet when you're balancing your coat, bag, a cup of coffee, your notebook and your business cards.\",\n",
       "       nan, 'Go for it!!',\n",
       "       'No clue who you are. There are already way too many conferences so I would say don’t.',\n",
       "       'Please do it! :-)', nan, nan,\n",
       "       \"it's hard to please everyone, but a good mix of speakers and the time and place to interact with them is key\",\n",
       "       nan, nan,\n",
       "       '\\n- take care of the times and provide welcome kits with interesting material not only stamps or stikers',\n",
       "       nan, nan, nan, nan,\n",
       "       \"Please focus beyond the large company/client teams and major research orgs that can shell out big bucks to attend.  There are SO MANY smart independent (or small firm) genius that get overlooked or can't afford to attend. Seriously... I have to think about spending $1500-3000 to attend any conference vs. paying for my kids soccer program & uniform.  No Joke!   And I actually make a decent living that I don't have to/want to look for a FT insight position at a client.\",\n",
       "       nan, nan,\n",
       "       \"I'd say make it a series of smaller events that would work with multiple schedules and locations.\",\n",
       "       \"Allow streaming for people abroad. Even invest in translators for other language audiences. There is a huge market in Latin America that normally can afford attend for the high cost of travelling but there's a lot of companies that will be willing to pay online for high quality content.\\n\\nProvide guides, tools, road maps... Create networking or community beyond the conference.  \\n\\n\\n\\n\",\n",
       "       nan,\n",
       "       'Reminder that not all UX research projects begin with an app or digital experience in mind. Much of the solutions to today’s problems require behavior change that won’t be cured with a shiny toy. Analog methods are still very much relevant. Play is still very much a part of discovery.\\n\\nOther than that, pick a location that is convenient and not to expensive and that is near reasonably priced dining and accommodations and transportation hubs. Find ways to welcome all types of people, like activities that accommodate both introverts and extroverts, healthy food options that address various diets, time during breaks and comfortable hallways to network in, if possible offer a one day or two day pass. ',\n",
       "       nan, nan, 'Do not limit the speakers to your authors', nan, nan,\n",
       "       'Partner with one of several existing conferences.', nan, nan, nan,\n",
       "       nan, 'DO IT!\\n\\n\\n\\n', nan, nan,\n",
       "       'I volunteer to help run a workshop on \"from survival to thrival, how to lighten up and toughen up and fuel yourself and your career.\"\\nAlso make sure to design for difficult business or capitalist approaches that will try to tear you down.\\nTeach people how to narrate business cases for research. Give away a library of qualifications on when research changed the world.',\n",
       "       nan, 'Be Bold\\n;}',\n",
       "       'Find fun ways to let researchers act as researchees in interesting ways. Floating between the two could be fun. Build empathy from both sides.\\n\\nI\\'d also consider bringing in some random topics. Opera. Bookbinding. NASA water systems. I read an article years back about a leading designer who was being asked about how he kept engaged with his craft. He said he studies \"other\" things. He\\'d take ballroom dancing, or read about physics, or any non-subject related topics. Inevitably he\\'d find inspiration in those topics while reflecting on design tasks.  We\\'re creatures of analogy. Setting up learning experiences where we can let individuals connect the dots between seemingly unrelated topics can be exhilarating!  \\n\\nThink Mixed tastes: \\n\\nhttps://mcadenver.org/events/series/mixed-taste-dcpa-2019',\n",
       "       nan,\n",
       "       'Partner with EPIC (maybe). They sell out every year, so maybe you could offer something off-cycle and give them an “overflow” option\\n\\nMake it a remote conference. More people can attend',\n",
       "       nan,\n",
       "       \"don't undervalue talks on imperfect/pragmatic topics. I find a lot of research talks to be hyper-focussed on rigid process, or super indepth academic methods, neither of which I recognize from my day-to-day work, which makes it hard for me to relate to.\",\n",
       "       'Blend industry and academia. Diverse speakers... and organizers',\n",
       "       nan,\n",
       "       \"Quality of venue matters. Not in terms of fanciness but in terms of it being pleasant.\\n\\nQuality of catering matters. It's better to have no food that bad or basic food.\\n\\nDiverse speakers are more interesting that big names.\",\n",
       "       'Perhaps a bit off-topic for what you might be looking for here but having somewhere to sit to eat! A conference last week didn’t have this and it was awkward.\\n\\nI think being inclusive so allowing people to choose stickers with pronouns and having facilities that cater for all.\\n\\n',\n",
       "       'Host a Ted style conference with single track: shorter talks on very specific topic each, exploring research internally (DesignOps), externally (product) and triangulating various findings from different types of research.  I would also like to see workshops specializing in topics like improving your interviewing skills. Or tips for translating insights into product decisions. But that is more for beginners and to attract the right kind of clientele. Professionally, my biggest challenge is selling research within my org. I would love to see specific practical ways to do that with recalcitrant leadership that does not think that they need to do research before they build something.',\n",
       "       nan,\n",
       "       'Host the event somewhere where the weather is comfortable, and in the spring or fall. \\n\\nAlso: why not in Tokyo? ;)',\n",
       "       nan, nan, nan, nan, nan, nan, nan,\n",
       "       'Affordability is nice, but I can understand the costs of running a conference. 1 hour talks are great and a code of conduct and diversity/inclusion as well.',\n",
       "       'Get feedback from others who have run these kinds of events ... Jeff Sauro comes to mind.',\n",
       "       nan, nan, nan, nan, nan, nan, nan, nan, nan, nan, nan, nan,\n",
       "       \"Do consider the financial constraints of research entrepreneurs / small companies / freelancers! Without a fat corporate budget to fund attendance it is a substantial investment that is not always possible. \\n\\nApart from the standard 'early bird discount' consider other ways to subsidize attendance like volunteering. \",\n",
       "       'Tough to say. I would probably want to get involved with a conference that took on some of the massive delusions in the industry today such as over-reliance on tech, the digital delusion, a clear-eyed discussion of the state of online research, the \"big data\" crock, etc. The second largest gorilla in the room is the complete lack of training in our industry. How many people just decided one day to be an ethnographer? Where\\'s the training for how to become more empathetic? How many have really taken a course on storytelling? \\n\\nBut the biggest gorilla is the industry\\'s refusal to come to grips with \"insight.\" To define it, understand how only humans have insights. That you can\\'t \"gather insight.\" How people can become more insightful. To admit that 99.9% of what the \"insight\" industry sells its clients is just more data, sometimes useful knowledge. To admit that developing real insights is incredibly hard work that takes a long time and lots of money! And to realize that since we have commodified data collection the only place to go is to true insights.\\n\\nAnyway. I\\'ve blogged about a lot of this stuff here www.theinsightsguy.com\\n\\nBest of luck!',\n",
       "       'Keep it small and focused', nan,\n",
       "       'I\\'d love to be involved in that, as I\\'m pretty passionate about supporting and growing researchers.  \\n\\nI see a huge number of early-career folks who are struggling to get work in UX research roles, and we need to get them real-world experience (not just the General Assembly courses or an academic degree).  The world will benefit greatly from having more skilled researchers in it, but the current paths we have for gaining experience are fairly limited.  We need to grow more senior researchers and research strategists. We need to grow business acumen and help people gain strategies for dealing with organizations that don\\'t embrace research (or apply the results).  \\n\\nI would LOVE to have a \"Conspiracy\" session - to envision and map out how Research can move from a supportive role to one that drives the direction that companies invest in.  How might we change the power-structure over time (what types of events, people, actions need to be embraced to get us there as a \"field\".  I\\'d love to lead that conversation... :)',\n",
       "       nan, nan, nan,\n",
       "       'Keep it small and focused.  Allow for very interactive participant interactions. Be easy to get to, affordable and with delicious healthy food.  Give enough time for breaks and for participants to network with each other.  Follow-up within one week of the conference with a \"what worked, what didn\\'t work\" evaluation and include suggestions for future conferences.',\n",
       "       'Ensure there is a chance to network outside the conference as it is hard to get a chance to speak to everyone',\n",
       "       'Don’t  limit speakers to corporate types brought in to lure attendees by their name. Encourage an environment where people want to share ideas. An exchange not a speech.',\n",
       "       'do it!', nan, nan, nan,\n",
       "       \"Don't do research only using this survey :)\\n\\nSeriously: think about the possibility of doing a transcontinental event, switching location every year. It could be interesting. \\n\\nDon't focus on practical workshops, they're usually too short to be useful IMHO. Focus on sharing experiences.\\n\\n(and yes, this type of sharing could be done online without and event....)\",\n",
       "       'Code of Conduct.  Mix of speakers (the Usual Suspects + New Voices)',\n",
       "       \"I'd look for diversity in speakers and a code of conduct. I know it's not something I look for when shopping, but it is still important. \",\n",
       "       nan, nan,\n",
       "       'Diversity on all levels, including levels of experience. A code of conduct. Considerations for childcare and rooms for pumping/infant care clearly stated on the event site. A range of options and prices for lodging. If food is served, consideration for all kinds of diets and allergies. Giveaways that are sustainable and usable. I like sxsw and other conferences which allow people to vote on topics or specific talks to help guide the schedule.',\n",
       "       'Think about what sets you apart. Have the wow factor or better yet, the \"mystery\" factor. Did some research recently where the \"mystery\" factor was what got people engaged. Not sure how applicable it is to a research conference but it is something to consider.',\n",
       "       nan, nan, nan,\n",
       "       'Use only industry professionals who actively conduct research. Speak about cutting-edge methods or new applications of traditional methods. Topics such as negotiating with stakeholders, guiding stakeholders toward conducting the research they need instead of what they want, to use this as an apprenticeship of sorts for undergrads, to break down the traditional idea that only phds know how to conduct research (historically applied grad programs give more direction on this than traditional programs that funnel people into a PhD!).',\n",
       "       nan, '-', nan, 'Make it for ux-ers. Not just researchers.', nan,\n",
       "       nan,\n",
       "       'There\\'s a lot of grey area and sensitivity around \"who is a researcher\" just as there is with design, only it\\'s pointed inwards. Researchers with terminal degrees tend to gatekeep on Twitter, and that could make a conference feel toxic. find a way to balance that perspective with accessible talks that make less experienced research practitioners motivated to up-level.',\n",
       "       \"We need to de-silo ourselves. Bring people from different disciplines to comment on how research worked for them too. Also, people from nonprofits and other areas that don't always have full budgets for research that we can do in corporate settings. \",\n",
       "       nan, nan,\n",
       "       'Choose location well. Find speakers who have experience in different industries and backgrounds, not just those looking to promote their personal brand. Pay those speakers!',\n",
       "       \"Make sure your presenters are focused on teaching. Not just sharing their success stories.\\nRecord the sessions. They're great for multitrack situations and they're a nice bonus for the speakers.\",\n",
       "       nan,\n",
       "       'Make it at least two days. Ensure there are a lot of social activities to get people to meet and mingle. Preferably host the conference at a hotel (or encourage all guests to stay in the same place). Conferences that are in the same venue as most people staying are always far more valuable than those where everyone goes their seperate ways.',\n",
       "       \"I think it's a great idea! Get buy in early from some of the research leaders to help guide and promote the event.\",\n",
       "       \"Make it inclusive and accessible.  Find ways to make everyone comfortable.  Establish a code of conduct and don't sway from it- make it safe.  Light snacks and/or refreshments are nice- freely available water if it's long.  \\n\\nFind some compelling big-time speakers but stack them as keynote/plenary, so they don't crowd out the more niche players.  Market the smaller names with specific interesting information.  \\n\\nOne of the best conferences I went to offered some really helpful take-away such as a free professional head shot!  \\n\\nOh and have plenty of clean, accessible bathroom facilities at various spots!  \",\n",
       "       nan, nan,\n",
       "       '\"hypothetically\" ;)\\n\\nGiven your author base, I can easily see Rosenfeld putting together an amazing lineup for a conference.  Your far greater challenge -- as you know, hence this survey -- is carving out your niche. I wish I had better advice about that.\\n\\nI feel that the \"techniques\" side is covered across a range of conferences. I feel like there are less conferences that really focus on the strategic (and possibly ops) side of research. Likewise there might be opportunities around more directly exploring the alchemic process of turning research into action.',\n",
       "       nan, nan, nan, 'Please do it!\\n\\n',\n",
       "       'Have experienced but also inexperienced speakers but mentor them beforehand',\n",
       "       nan, nan,\n",
       "       'Pick a venue that is very easy to get to and is near a lot  of lodging and food options.',\n",
       "       \"Don't let rosenfeld authors / speakers recycle their talks. I don't want to see the same keynote or talk that's been done time and time again. Push the envelope, you're in a good position as thought leaders in literature to run an informative and comprehensive conference on research!\",\n",
       "       'Please host it in/near Philly so I can attend :)', nan, nan, nan,\n",
       "       nan, nan, nan, nan, nan,\n",
       "       'Try to schedule around the end of the year, when headcount is opening for us research leads (of course also avoiding the tricky holiday season). That way we are very excited to send either ourselves or our reports to the conference to both learn and recruit at the same time! :)\\n\\n',\n",
       "       nan,\n",
       "       \"Don't do things like make me choose between 3 amazing talks about the same topic area that are all at the same time. Do have some breaks -- it sucks having to rush from talk to talk all day or sneak out early to get a good seat at the next one. And, of course, have it near me to increase my likelihood of being able to attend (San Francisco, btw).\",\n",
       "       nan, nan, nan, nan, nan,\n",
       "       \"I don't think you need advice!  But, if forced, reach out to top researchers to get their input on topics.  Keep the focus on applications of research.  I haven't been to CHI in many years because it is mostly about pure research. \",\n",
       "       nan, nan,\n",
       "       'Bring in people who help research leaders to help us learn how to best approach building a research practice in a world where delivery transformation has changed the way Research is practiced. Also how to set up the infrastructure to support research in this model.',\n",
       "       nan, nan, nan, 'sorry ran out of time--', nan, nan,\n",
       "       'Include business owners and PMs (our internal customers) to described what worked. \\n\\nNot so much talking to ourselves\\n\\nInclude an experienced research track vs newbs\\n\\n\\n',\n",
       "       nan, nan,\n",
       "       \"Send a free invite? No, seriously just don't censor anything. Don't fall into the identity politics game. Find great research about controversial but relevant topics.\",\n",
       "       nan, nan, nan, nan, nan,\n",
       "       'Go for it. I believe that there is an untapped market for helping people to learn more about and to do good research.',\n",
       "       nan, nan,\n",
       "       '- Make sure at least one of the chairs is a full-time researcher \\n- Encourage advanced-level content submissions.\\n- And please do it! Since UXPA expanded to include UX design, their conference has become a little bit generic. It would be great to have a national conference primarily focused on research again.\\n\\nAlternatively, a retreat or unconference for experienced researchers would be really interesting and valuable.',\n",
       "       nan, nan,\n",
       "       'Multiple locations. Short - no more than a day. Reasonably priced - less than $500.',\n",
       "       nan, nan, nan, nan, 'Do it in LA.', nan,\n",
       "       'Host an event in the midwest! There is a growing tech scene here, specifically in Milwaukee, WI. Many large businesses are making investments in tech and startups here. We have 1,000+ startups. These businesses need to make investments in research if they want to grow and retain customers. ',\n",
       "       nan,\n",
       "       'Really try to get a mix of speakers who are seen as experts and those we haven’t heard from before. And please get a diverse group of people who don’t all work for Fortune 500 companies.',\n",
       "       nan, nan, nan,\n",
       "       'A lot of people do case studies but never really show the impact on the product or service to where you can feel confident that it would be a good method to try. I’d focus on sharing out new methods and interesting results. That’s what can spark ideas for others.',\n",
       "       nan, 'Hold it in Bay Area so my colleagues and I can all go  :)',\n",
       "       nan, 'DO IT!',\n",
       "       'Go for it. I read most a lot of your books and the level is never upsetting. Don’t fall in the trap of sponsoring talks which are mere adds in a talk form and give the micro and freedom to top researchers presenting high-quality content instead. I’d love to attend.',\n",
       "       nan,\n",
       "       'Make it a mix of workshops and talks and try to avoid the tired \"advocate for the user\", \"be empathetic\" user research rallying cries of yore. That stuff is boring and meaningless. Explore research ethics and design justice, informed consent, and what it means to scale user research in organisations and why it\\'s difficult.',\n",
       "       nan, nan, nan,\n",
       "       'How would you be different than the other conferences today like EPIC, UXPA, or Convey?  Can you connect to the local community in the city of the conference (beyond the catering) - opportunities to volunteer, bring local groups in, trips to museums?\\n',\n",
       "       nan, nan,\n",
       "       'Get the mix right of:\\n\\noverviews of trends etc. that people need to be aware of\\npractical advice that you can immediately take away and use\\nworkshops to teach a particular technique or skill\\nthat presenters, if \"teaching\" or demonstrating a technique etc, have a take-away that people can reference as a guide, good supporting material so that the teaching keeps on living',\n",
       "       'Mix of theory and heavy on practical, mixing talk lengths/formats could cover a lot of area and balance those nicely. \\n\\n(hi all!)',\n",
       "       nan, nan,\n",
       "       \"Oh please could we have speakers who've written via Rosenfeld media - you have a wealth of excellent research books!!\",\n",
       "       nan, nan, nan,\n",
       "       'Help to Remind us of how lucky we are that we get to learn from people in order to help them. And if we don’t feel that way to examine why not.',\n",
       "       nan, nan,\n",
       "       \"Let me speak.\\nDon't focus it on people who've written books\\nKeep it small\\nMake it a series\",\n",
       "       \"Don't underestimate the importance of having smooth and high functioning A/V tech ... this seems to get overlooked at a lot of conferences and it can be super disruptive if it fails.\",\n",
       "       'It depends on the focus. Methods are interesting, but the staging of research into organizations is always the key issue on the minds of anyone who wants to be effective',\n",
       "       nan, nan, nan, nan,\n",
       "       'Don’t limit yourself to “conferences” mindset!  Do design thinking/JTBD on what researchers truly want/need.  (You’ll need to ask some different questions than this survey.)',\n",
       "       nan,\n",
       "       'broad range, but relevant speakers\\nfun atmosphere - but not cheesy \\nfun location',\n",
       "       'I tend to gravitate towards conferences that offer a mix of engagement (talks, workshops, etc).\\n\\nI attended the Qualtrics experience summit a couple of years ago and I would describe it as unexpected. There were plenty of talks to attend, but the keynote speakers really caught my attention (Lin Manuel Miranda, Tony Hawk, Alex Honnold, etc). These folks aren\\'t \"industry leaders\", but they were able to talk about subjects that were analogous to the topic of experience. People are at the very core of what I do. While I do like to hear talks from leaders in the research industry, I also want to be inspired by others who are not—people who have great stories of human connection that have nothing to do with \"research\", while still being inspiring to researchers. Anthony Bourdain comes to mind.',\n",
       "       nan,\n",
       "       \"I'd suggest starting on the smaller side rather than a very large conference. Make it grow over time so the people who show up first see accomplishments.\\n\\n\\n\\nDo it in a geographic location that has a lot of researchers.\",\n",
       "       nan, nan, nan, nan, nan,\n",
       "       'Be careful how you navigate how you define research who is a researcher and welcome to attend. While I recognize that I do not have the experience or ability of a (captial-R) Researcher, I am delivering and conducting research – how do we create an event where researchers and those on the periphery of research can learn from each other to diversify our work?',\n",
       "       \"As above. Don't just give the usual motley Crew another platform to perform. Go and find new things and people to excite the industry. I've been to events recently where there were people there from sexy brands like Tesla who had really nothing to say. If only we could clone Steve P!\",\n",
       "       'I would like at the spaces in-between beyond where you tend not to look for ideas and people to speak.',\n",
       "       'A few, very interesting, traditional speeches \\n\\nThe rest should be more experiential.\\n\\nIt could be interesting to have specific workshops about new books.\\n\\nDo it in Europe ;)\\n\\n\\n\\n',\n",
       "       \"Be careful who you invite as speakers. If i see people speaking who i don't respect as leaders in UX research (or are not researchers) then i won't have faith in the conference and likely will not attend.\",\n",
       "       'right speakers, right topic, right format \\nbasically, the conference should count...it should not feel that the info could have been picked up by surfing the web for a few hours or by reading a book.',\n",
       "       nan,\n",
       "       'Leverage the content in your great books, and help us understand how to act on those techniques.',\n",
       "       \"This is too general and not specific enough. I don't want to attend a conference for researchers about research. I want to attend a conference about research challenges where we see the progression. Q/A is simply not enough unless it is an educational talk.  Honestly, I find that research is too separated from the reality of the people, the designers, and the front line teams dealing with it.\",\n",
       "       nan, nan, nan, nan,\n",
       "       'Be rigorous -- there is a lot of hyped opinion out there with no evidence., This would set you apart.',\n",
       "       nan, '-', nan, nan, nan, nan, nan, nan, nan,\n",
       "       'Define the term UX Research/ Service Design for yourself – as groundwork to understand/add  different types/disciplines of research that you use in product/service development.',\n",
       "       nan, 'Do it',\n",
       "       'That people have the chance to ve part of talks and workshops that could be free and streamed',\n",
       "       nan, nan, nan, nan, nan, nan, nan, nan, nan,\n",
       "       \"The two conferences I have attended in the past year have been on the smaller side (250-500 attendees), have been 1 or 2 days, and had built-in networking times with a social hour after. Both of these conferences (UX Burlington and Talk UX) were nicely intimate, and you could eat lunch with the speakers if you were lucky to sit at the same table as them. Lot's of food options for folks with food sensitivities and allergies is always appreciated! Most conferences default to the sandwich/wrap/salad option, but I always say conferences should consider a burrito bar. \",\n",
       "       'Mix different kinds of industry and different kinds of researchers.',\n",
       "       nan,\n",
       "       \"It would be great to have a forum or database of previously asked questions and answers that attendees can refer back to.  There is a barrage of info coming at us and it's a great way to reference back or find other questions that you might not have thought of at the time that someone else might have asked.  Would be nice to be able to add questions post-event as well.\",\n",
       "       nan, nan,\n",
       "       'Speakers who fail in research and then resolve the issue.',\n",
       "       'No platitudes. No hand waving. No cynicism [from the speakers]. Only good solid practical insightful talks. \\n\\nCome to New Zealand? ;-)',\n",
       "       'Do it!',\n",
       "       \"As above, try to have speakers who have practical experience of more 'normal' research rather than the sexier stuff that is sometimes interesting but not quite relevant.\",\n",
       "       nan, nan, nan, nan, nan,\n",
       "       'Find trends about up and coming research sectors, what technologies are in the horizon and how to tackle user research in those new domains.',\n",
       "       \"have plenty of networking opportunities. have a lunch that people can sign up for where they will be on a 'blind networking date' just to get the chance to sit down with another curious mind and trade notes about the industry\",\n",
       "       nan, '/', nan, nan,\n",
       "       \"include research ops as a topic area!\\n\\nmake it in a fun place in North America earlier next year when my company's budget freeze has lifted\",\n",
       "       '-', nan,\n",
       "       'Do another survey on specific research topics people are interested in - or do some other form of research to find this out :)',\n",
       "       nan,\n",
       "       'Less research methods and design thinking and more analysis and implementation\\n\\nCover Long term projects that are complex vs short term one time studies for a client',\n",
       "       nan, nan, nan,\n",
       "       \"Have a good app associated with the conference of it's large! It helps people feel connected and in the know . I usually need some lead time and a compelling agenda if I want to try to get work to pay for me to go to a conference.\",\n",
       "       nan, nan, nan, nan, nan, nan, nan,\n",
       "       'I find cramming in alot of information on a 1 day conference can be overly tiring and overwhelming. I think a 2 day conference is good with a good speak of quality talks over 2 days.',\n",
       "       nan, nan, nan,\n",
       "       \"I guess ask yourselves if the world needs another conference, and if so, how you can include marginalized people that wouldn't normally be able to attend. Not everyone in this industry makes a ton of money or has an employer willing to throw down a couple thousand bucks to send them to these things. And not only that, but how to make those people feel welcome.\",\n",
       "       nan, nan, nan, nan, nan, nan,\n",
       "       'Make it in a format that different profiles are able to attend: from master students to well-know experts.',\n",
       "       'would a roadshow be completely outbid the question? that is, rather than one big conference, small short regional meetings with same headliners but pulling in local experts and companies, maybe more people could afford to go since they wouldn’t be paying for flights and hotels, lmk if i can help in any way',\n",
       "       'Be brave.', nan, nan, nan, nan, nan,\n",
       "       'include a track for practical user research methods',\n",
       "       \"It should have a bunch of practical applications. I'm likely to attend a UXR conference if I feel like it'll help me make meaningful improvements to my existing processes.\",\n",
       "       nan,\n",
       "       'The deeper you go into the subject matter the better. A lot of research literature is either design adjacent or academic. Focusing on a research practitioners day-to-day, someone that is in a software company or an agency or a startup, would be super helpful. Anything that helps me grow my skills and competencies to ultimately be a better researcher.',\n",
       "       nan, nan, nan, nan, nan, nan, nan,\n",
       "       'Pay your speakers and do demand quality from them in return :)',\n",
       "       nan, nan, nan, nan, nan, 'Make it conversational.', nan, nan, nan,\n",
       "       nan, nan, nan, 'Good food..',\n",
       "       'Conference is a solution :) maybe from this research, you will find the needs of researchers can be better fulfilled by a different format (or an innovative format of a conference), so I would keep my mind open. I’m excited and wish you the best! \\n\\nAlso, if you could help facilitate the networking aspect of the conference, not in a directive way, but maybe to start people talking (find someone who... pair people up or something), I would be very grateful. The first steps are always hard for me, before I lose my shyness, so this would help tremendously. ',\n",
       "       nan,\n",
       "       'Just focus on delivering great speakers (new and old) , great topics and great workshops. ',\n",
       "       nan, nan,\n",
       "       'Research in agile, research on a shoestring budget, teaching research to STEM Lords, ',\n",
       "       nan, nan], dtype=object)"
      ]
     },
     "execution_count": 47,
     "metadata": {},
     "output_type": "execute_result"
    }
   ],
   "source": [
    "recommendations_df[recommendations_df.topic_id == 0].text.values"
   ]
  },
  {
   "cell_type": "code",
   "execution_count": 50,
   "metadata": {},
   "outputs": [],
   "source": [
    "recommendations_dict = {0 : 'speaker, industry', 1 : 'event, opportunity', 2 : 'good, know', 3 : 'field, survery', 4:'group, career, city'}"
   ]
  },
  {
   "cell_type": "markdown",
   "metadata": {},
   "source": [
    "# TEST"
   ]
  },
  {
   "cell_type": "code",
   "execution_count": 51,
   "metadata": {},
   "outputs": [
    {
     "data": {
      "text/plain": [
       "0      group, career, city\n",
       "1      group, career, city\n",
       "2      group, career, city\n",
       "3        speaker, industry\n",
       "4        speaker, industry\n",
       "              ...         \n",
       "721             good, know\n",
       "722             good, know\n",
       "723             good, know\n",
       "724    group, career, city\n",
       "725      speaker, industry\n",
       "Name: topic_id, Length: 726, dtype: object"
      ]
     },
     "execution_count": 51,
     "metadata": {},
     "output_type": "execute_result"
    }
   ],
   "source": [
    "recommendations_df.topic_id.map(recommendations_dict)"
   ]
  },
  {
   "cell_type": "code",
   "execution_count": null,
   "metadata": {},
   "outputs": [],
   "source": []
  },
  {
   "cell_type": "code",
   "execution_count": null,
   "metadata": {},
   "outputs": [],
   "source": []
  },
  {
   "cell_type": "code",
   "execution_count": null,
   "metadata": {},
   "outputs": [],
   "source": []
  },
  {
   "cell_type": "code",
   "execution_count": null,
   "metadata": {},
   "outputs": [],
   "source": []
  },
  {
   "cell_type": "code",
   "execution_count": null,
   "metadata": {},
   "outputs": [],
   "source": []
  },
  {
   "cell_type": "code",
   "execution_count": 9,
   "metadata": {},
   "outputs": [],
   "source": [
    "import pyLDAvis\n",
    "import pyLDAvis.sklearn\n",
    "pyLDAvis.enable_notebook()\n",
    "\n",
    "import warnings\n",
    "warnings.filterwarnings(\"ignore\")"
   ]
  },
  {
   "cell_type": "code",
   "execution_count": 81,
   "metadata": {},
   "outputs": [
    {
     "data": {
      "text/plain": [
       "LatentDirichletAllocation(batch_size=128, doc_topic_prior=None,\n",
       "                          evaluate_every=-1, learning_decay=0.7,\n",
       "                          learning_method='batch', learning_offset=10.0,\n",
       "                          max_doc_update_iter=100, max_iter=10,\n",
       "                          mean_change_tol=0.001, n_components=8, n_jobs=None,\n",
       "                          perp_tol=0.1, random_state=42, topic_word_prior=None,\n",
       "                          total_samples=1000000.0, verbose=0)"
      ]
     },
     "execution_count": 81,
     "metadata": {},
     "output_type": "execute_result"
    }
   ],
   "source": [
    "types_res_used = df.types_res_used.astype('str')\n",
    "types_res_used = types_res_used.fillna('nan')\n",
    "types_res_used = types_res_used.apply(nlp.basic_clean)\n",
    "types_res_used = types_res_used.apply(nlp.lemmatize)\n",
    "\n",
    "types_res_used_matrix, types_res_used_vector = nlp.create_wordcount_matrix(types_res_used, ngram=(1,3), max_df=.3, stop_words=stopWords)\n",
    "types_res_used_matrix, types_res_used_vector\n",
    "\n",
    "lda6 = LatentDirichletAllocation(n_components= 8, random_state = 42)\n",
    "\n",
    "lda6.fit(types_res_used_matrix)"
   ]
  },
  {
   "cell_type": "code",
   "execution_count": 82,
   "metadata": {},
   "outputs": [
    {
     "data": {
      "text/html": [
       "\n",
       "<link rel=\"stylesheet\" type=\"text/css\" href=\"https://cdn.rawgit.com/bmabey/pyLDAvis/files/ldavis.v1.0.0.css\">\n",
       "\n",
       "\n",
       "<div id=\"ldavis_el351921121917857443065943245\"></div>\n",
       "<script type=\"text/javascript\">\n",
       "\n",
       "var ldavis_el351921121917857443065943245_data = {\"mdsDat\": {\"x\": [-0.011842025721432083, -0.18800258828595148, -0.1181302569945985, 0.11498289878523194, 0.05382425259218261, 0.14637290822925342, -0.030685284977797173, 0.033480096373111036], \"y\": [-0.03967656768555754, 0.07782123676693346, -0.17943948914331717, -0.08281293727036258, 0.07351911309729546, -0.005997911072915312, 0.09095451236659707, 0.06563204294132666], \"topics\": [1, 2, 3, 4, 5, 6, 7, 8], \"cluster\": [1, 1, 1, 1, 1, 1, 1, 1], \"Freq\": [20.86683789424347, 18.16933253574569, 15.655769437168313, 12.03799323602913, 9.321654917211488, 8.95084366157316, 8.10319825242954, 6.8943700655992135]}, \"tinfo\": {\"Category\": [\"Default\", \"Default\", \"Default\", \"Default\", \"Default\", \"Default\", \"Default\", \"Default\", \"Default\", \"Default\", \"Default\", \"Default\", \"Default\", \"Default\", \"Default\", \"Default\", \"Default\", \"Default\", \"Default\", \"Default\", \"Default\", \"Default\", \"Default\", \"Default\", \"Default\", \"Default\", \"Default\", \"Default\", \"Default\", \"Default\", \"Topic1\", \"Topic1\", \"Topic1\", \"Topic1\", \"Topic1\", \"Topic1\", \"Topic1\", \"Topic1\", \"Topic1\", \"Topic1\", \"Topic1\", \"Topic1\", \"Topic1\", \"Topic1\", \"Topic1\", \"Topic1\", \"Topic1\", \"Topic1\", \"Topic1\", \"Topic1\", \"Topic1\", \"Topic1\", \"Topic1\", \"Topic1\", \"Topic1\", \"Topic1\", \"Topic1\", \"Topic1\", \"Topic1\", \"Topic1\", \"Topic1\", \"Topic1\", \"Topic1\", \"Topic1\", \"Topic1\", \"Topic1\", \"Topic1\", \"Topic1\", \"Topic1\", \"Topic1\", \"Topic1\", \"Topic1\", \"Topic1\", \"Topic1\", \"Topic1\", \"Topic1\", \"Topic1\", \"Topic1\", \"Topic1\", \"Topic1\", \"Topic1\", \"Topic1\", \"Topic1\", \"Topic1\", \"Topic1\", \"Topic1\", \"Topic1\", \"Topic1\", \"Topic1\", \"Topic1\", \"Topic1\", \"Topic1\", \"Topic1\", \"Topic1\", \"Topic2\", \"Topic2\", \"Topic2\", \"Topic2\", \"Topic2\", \"Topic2\", \"Topic2\", \"Topic2\", \"Topic2\", \"Topic2\", \"Topic2\", \"Topic2\", \"Topic2\", \"Topic2\", \"Topic2\", \"Topic2\", \"Topic2\", \"Topic2\", \"Topic2\", \"Topic2\", \"Topic2\", \"Topic2\", \"Topic2\", \"Topic2\", \"Topic2\", \"Topic2\", \"Topic2\", \"Topic2\", \"Topic2\", \"Topic2\", \"Topic2\", \"Topic2\", \"Topic2\", \"Topic2\", \"Topic2\", \"Topic2\", \"Topic2\", \"Topic2\", \"Topic2\", \"Topic2\", \"Topic2\", \"Topic2\", \"Topic2\", \"Topic2\", \"Topic2\", \"Topic2\", \"Topic2\", \"Topic2\", \"Topic2\", \"Topic2\", \"Topic2\", \"Topic2\", \"Topic2\", \"Topic2\", \"Topic2\", \"Topic2\", \"Topic2\", \"Topic2\", \"Topic2\", \"Topic3\", \"Topic3\", \"Topic3\", \"Topic3\", \"Topic3\", \"Topic3\", \"Topic3\", \"Topic3\", \"Topic3\", \"Topic3\", \"Topic3\", \"Topic3\", \"Topic3\", \"Topic3\", \"Topic3\", \"Topic3\", \"Topic3\", \"Topic3\", \"Topic3\", \"Topic3\", \"Topic3\", \"Topic3\", \"Topic3\", \"Topic3\", \"Topic3\", \"Topic3\", \"Topic3\", \"Topic3\", \"Topic3\", \"Topic3\", \"Topic3\", \"Topic3\", \"Topic3\", \"Topic3\", \"Topic3\", \"Topic3\", \"Topic3\", \"Topic3\", \"Topic3\", \"Topic3\", \"Topic3\", \"Topic3\", \"Topic3\", \"Topic3\", \"Topic3\", \"Topic3\", \"Topic3\", \"Topic3\", \"Topic3\", \"Topic3\", \"Topic3\", \"Topic3\", \"Topic3\", \"Topic3\", \"Topic3\", \"Topic3\", \"Topic3\", \"Topic4\", \"Topic4\", \"Topic4\", \"Topic4\", \"Topic4\", \"Topic4\", \"Topic4\", \"Topic4\", \"Topic4\", \"Topic4\", \"Topic4\", \"Topic4\", \"Topic4\", \"Topic4\", \"Topic4\", \"Topic4\", \"Topic4\", \"Topic4\", \"Topic4\", \"Topic4\", \"Topic4\", \"Topic4\", \"Topic4\", \"Topic4\", \"Topic4\", \"Topic4\", \"Topic4\", \"Topic4\", \"Topic4\", \"Topic4\", \"Topic4\", \"Topic4\", \"Topic4\", \"Topic4\", \"Topic4\", \"Topic4\", \"Topic4\", \"Topic4\", \"Topic4\", \"Topic4\", \"Topic4\", \"Topic4\", \"Topic4\", \"Topic4\", \"Topic4\", \"Topic4\", \"Topic4\", \"Topic4\", \"Topic4\", \"Topic4\", \"Topic4\", \"Topic4\", \"Topic4\", \"Topic4\", \"Topic4\", \"Topic4\", \"Topic4\", \"Topic4\", \"Topic4\", \"Topic4\", \"Topic5\", \"Topic5\", \"Topic5\", \"Topic5\", \"Topic5\", \"Topic5\", \"Topic5\", \"Topic5\", \"Topic5\", \"Topic5\", \"Topic5\", \"Topic5\", \"Topic5\", \"Topic5\", \"Topic5\", \"Topic5\", \"Topic5\", \"Topic5\", \"Topic5\", \"Topic5\", \"Topic5\", \"Topic5\", \"Topic5\", \"Topic5\", \"Topic5\", \"Topic5\", \"Topic5\", \"Topic5\", \"Topic5\", \"Topic5\", \"Topic5\", \"Topic5\", \"Topic5\", \"Topic5\", \"Topic5\", \"Topic5\", \"Topic5\", \"Topic5\", \"Topic5\", \"Topic5\", \"Topic5\", \"Topic5\", \"Topic5\", \"Topic5\", \"Topic5\", \"Topic5\", \"Topic5\", \"Topic5\", \"Topic5\", \"Topic5\", \"Topic5\", \"Topic5\", \"Topic5\", \"Topic5\", \"Topic5\", \"Topic5\", \"Topic5\", \"Topic5\", \"Topic5\", \"Topic5\", \"Topic6\", \"Topic6\", \"Topic6\", \"Topic6\", \"Topic6\", \"Topic6\", \"Topic6\", \"Topic6\", \"Topic6\", \"Topic6\", \"Topic6\", \"Topic6\", \"Topic6\", \"Topic6\", \"Topic6\", \"Topic6\", \"Topic6\", \"Topic6\", \"Topic6\", \"Topic6\", \"Topic6\", \"Topic6\", \"Topic6\", \"Topic6\", \"Topic6\", \"Topic6\", \"Topic6\", \"Topic6\", \"Topic6\", \"Topic6\", \"Topic6\", \"Topic6\", \"Topic6\", \"Topic6\", \"Topic6\", \"Topic6\", \"Topic6\", \"Topic6\", \"Topic6\", \"Topic6\", \"Topic6\", \"Topic6\", \"Topic6\", \"Topic6\", \"Topic6\", \"Topic6\", \"Topic6\", \"Topic6\", \"Topic6\", \"Topic6\", \"Topic6\", \"Topic6\", \"Topic6\", \"Topic6\", \"Topic6\", \"Topic6\", \"Topic6\", \"Topic6\", \"Topic6\", \"Topic6\", \"Topic6\", \"Topic7\", \"Topic7\", \"Topic7\", \"Topic7\", \"Topic7\", \"Topic7\", \"Topic7\", \"Topic7\", \"Topic7\", \"Topic7\", \"Topic7\", \"Topic7\", \"Topic7\", \"Topic7\", \"Topic7\", \"Topic7\", \"Topic7\", \"Topic7\", \"Topic7\", \"Topic7\", \"Topic7\", \"Topic7\", \"Topic7\", \"Topic7\", \"Topic7\", \"Topic7\", \"Topic7\", \"Topic7\", \"Topic7\", \"Topic7\", \"Topic7\", \"Topic7\", \"Topic7\", \"Topic7\", \"Topic7\", \"Topic7\", \"Topic7\", \"Topic7\", \"Topic7\", \"Topic7\", \"Topic7\", \"Topic7\", \"Topic7\", \"Topic7\", \"Topic7\", \"Topic7\", \"Topic7\", \"Topic7\", \"Topic7\", \"Topic7\", \"Topic7\", \"Topic7\", \"Topic7\", \"Topic7\", \"Topic7\", \"Topic7\", \"Topic7\", \"Topic7\", \"Topic7\", \"Topic7\", \"Topic7\", \"Topic7\", \"Topic7\", \"Topic8\", \"Topic8\", \"Topic8\", \"Topic8\", \"Topic8\", \"Topic8\", \"Topic8\", \"Topic8\", \"Topic8\", \"Topic8\", \"Topic8\", \"Topic8\", \"Topic8\", \"Topic8\", \"Topic8\", \"Topic8\", \"Topic8\", \"Topic8\", \"Topic8\", \"Topic8\", \"Topic8\", \"Topic8\", \"Topic8\", \"Topic8\", \"Topic8\", \"Topic8\", \"Topic8\", \"Topic8\", \"Topic8\", \"Topic8\", \"Topic8\", \"Topic8\", \"Topic8\", \"Topic8\", \"Topic8\", \"Topic8\", \"Topic8\", \"Topic8\", \"Topic8\", \"Topic8\", \"Topic8\", \"Topic8\", \"Topic8\", \"Topic8\", \"Topic8\", \"Topic8\", \"Topic8\", \"Topic8\", \"Topic8\", \"Topic8\", \"Topic8\", \"Topic8\", \"Topic8\", \"Topic8\", \"Topic8\", \"Topic8\", \"Topic8\", \"Topic8\", \"Topic8\"], \"Freq\": [142.0, 44.0, 45.0, 36.0, 35.0, 39.0, 142.0, 28.0, 40.0, 76.0, 74.0, 19.0, 85.0, 47.0, 36.0, 59.0, 17.0, 35.0, 41.0, 52.0, 44.0, 61.0, 34.0, 48.0, 19.0, 14.0, 26.0, 21.0, 21.0, 48.0, 10.048832133551404, 8.237385256870931, 7.339097647747047, 7.3288091992117765, 5.532251509920842, 4.62927208388219, 9.914719820204152, 3.7260177720382655, 3.725848344724141, 2.822781422584304, 2.822781351391977, 2.8227656975573, 2.8227633424696013, 2.822757987647467, 2.822747089814031, 2.822741435884601, 2.822741435884601, 2.822741435884601, 2.8226717608000733, 2.822547259799236, 2.8225359752605144, 2.822484241288885, 2.822233472169779, 2.822007300805083, 2.8220073008038975, 2.8218983490601395, 9.145936153716548, 2.817483939299625, 12.623896418738703, 5.532711263475083, 18.9013198909158, 10.90929977136491, 71.22214331810123, 7.339328678703038, 8.940848973590533, 21.550404606964296, 14.876723558771438, 4.4548909855658065, 12.482135226500189, 5.3819619968260595, 15.555325397745245, 23.35630517920588, 5.296047574266887, 23.599649156240215, 17.801384298055154, 32.23407107877379, 3.725780209550211, 3.7254199286559424, 17.252481042565396, 24.04704688359411, 14.640549423213733, 14.218899493065683, 15.346255222838666, 11.77866369837579, 26.202813987273164, 14.720687129695722, 22.74033886485161, 10.720192297141432, 10.173321184256054, 11.794653061589399, 12.47526327759465, 9.820700442821309, 9.342660589872272, 9.260195555799166, 43.548983913309634, 43.29068146608025, 13.408174596841727, 13.408174596841716, 11.635035720887586, 8.975744824325018, 8.975744824325016, 6.316247402344011, 5.429493311356308, 4.543316453279759, 4.543287615070841, 4.543258054505156, 4.542760705734211, 4.54276070489056, 4.501795636628242, 9.746946181068699, 3.6568002010532865, 3.6568002010532865, 3.6566582996734227, 15.43364003123521, 2.7703196705627158, 2.7703196705627158, 2.7703196705627158, 2.7703196485986097, 2.7703196061313133, 2.770259034132113, 2.770259034132113, 2.770205741785092, 2.77019722076268, 2.770123545024534, 5.429878900432989, 7.8639776362416685, 48.26376704379048, 10.58148108689221, 5.177349054529274, 26.438385811039577, 26.97195175978296, 26.281011612832938, 7.8982220382043415, 7.8982160417662906, 11.243960773517667, 12.978712449938945, 45.975613725682486, 14.971302485286127, 28.998086173486193, 12.035445875596952, 19.411122276621835, 9.28059307101177, 10.80148150279098, 10.34811032440488, 10.348110319375957, 16.54002849263254, 13.324814298742565, 10.960350944476174, 12.037322867099904, 13.85388539864824, 11.121437324964475, 11.245234018906123, 9.609295407533383, 18.690409337168777, 34.58974656227209, 10.727524749480603, 9.8428322970971, 8.94955919928451, 8.949559199274846, 6.30385512865897, 5.419060406045602, 6.859544904880509, 4.534323002126173, 4.534323002126173, 4.534317456792142, 4.534228173374173, 4.53418969406132, 4.533866138345564, 8.95836858000943, 3.6495803082659326, 3.6495404816045216, 3.6495405782601638, 2.76477757656814, 2.764755309177059, 2.764748428236676, 2.7647288421837803, 2.764728842183781, 2.764716030075817, 2.764695865939841, 2.7646457352264124, 2.7646259241202076, 2.763509619388411, 3.384199322339627, 19.682793327491886, 25.57869034999919, 24.62327942825632, 14.266678150531291, 9.214369485126161, 6.147949505435825, 44.05817558642022, 19.939705231023055, 6.669259898533656, 26.79327023389792, 6.843564734337795, 17.66135012728329, 36.349249173852925, 17.31506411846386, 16.274317233411935, 10.060558571211423, 16.45613870692408, 6.0583204266284305, 11.317292305094204, 7.627044662658259, 7.951437604875868, 9.30437882045869, 10.117936673821406, 10.690406377310833, 8.39780013990983, 8.67963274894426, 8.149331456031105, 7.782495491930942, 6.929626018621707, 24.218701751859008, 4.3709673437429295, 29.30415675626932, 3.5178243810398437, 3.517807476955375, 5.542822673294174, 6.929668613198951, 2.6652616547839267, 2.6652616298313268, 2.6652616298313268, 2.6651896836254134, 2.6651840013101995, 2.665166447957688, 2.665156848053666, 2.665156848053666, 2.665083015557159, 2.665082038695505, 2.6650791372329254, 5.223918412370526, 4.370763121997129, 2.489506815436812, 1.81237791984191, 1.8123779086804774, 1.8123778995265385, 1.8123778817396685, 1.8123673684688004, 1.8123585660991124, 1.812339068858109, 3.5986158665976924, 3.5986158665976924, 8.097036528651634, 13.998773048459334, 3.5180747133262327, 3.4674524215823745, 4.370975314144495, 13.981835330457395, 13.348354350574178, 7.647014283380816, 25.475076255679216, 20.52349455150089, 13.10274016475611, 6.599615937398155, 34.01756700610814, 19.732147121141697, 12.623568129902209, 20.772606250404294, 10.316181694876455, 5.223455250046452, 7.361778996011641, 10.393248070944725, 8.495284552228402, 6.076722205559056, 9.404806469836421, 5.602971602017381, 5.680234996047946, 5.90833976390527, 5.569380234359284, 5.224280606505888, 4.238865535614774, 3.4107328027459682, 5.88880235388488, 2.5846780169658063, 2.584671744576171, 2.58466037214972, 2.5846292321893247, 2.58457971618644, 2.584566942351624, 2.584557412458853, 2.5845353723586273, 2.5842295813307987, 5.827245412630089, 5.065990372322133, 1.7575962258739362, 1.757596211155722, 1.757596211155722, 1.7575961384714205, 1.7575856693586402, 1.757585669356937, 1.7575604866856827, 1.7575604354528722, 1.7575561126020163, 1.7575520719546462, 1.7575446597489242, 1.7575395362034663, 1.7575395362034663, 1.7575321160315382, 1.7575179895425552, 1.7575179813081758, 3.4116499815475803, 5.675592127592239, 6.426055484114902, 4.177742324230169, 11.493553066773313, 5.858106880800524, 5.893243756202002, 6.584699046310885, 5.893221026414264, 6.560975164435376, 41.45118899138616, 3.983797795559299, 3.883030137404636, 5.485184140618755, 11.238664612443333, 3.411917035885822, 15.604594852520005, 11.660804985475938, 7.17594815657126, 6.844960497112629, 14.302709389277476, 5.025994513641551, 5.3986075856686995, 8.865461917504351, 4.865070918042565, 8.272377815868035, 5.365024650442539, 4.999279204853535, 4.581704116590697, 4.13324857480729, 6.760744260354973, 13.336983765083335, 15.42331101762686, 16.1962296403807, 3.4323938112879175, 2.600309284956353, 2.600291895423715, 2.600264318382435, 2.600171656449912, 2.60010971970013, 2.600107559803344, 1.7682310796207419, 1.7682310791479647, 1.768231078367188, 1.768231078367188, 1.7682310722259564, 1.7682310722259564, 1.7682310628635385, 1.7682310628635385, 1.7682310088994435, 1.768230875252841, 1.768221007508998, 1.7681840365616073, 1.7681613710096862, 1.7681542255615188, 1.7681542255615188, 1.7681510725127763, 1.768126958367712, 1.768124365534627, 1.7681251386976065, 22.959998170644006, 6.42496819587942, 21.906976322116147, 6.280763161697055, 4.081345588293956, 5.097197598766792, 2.6002633224200995, 6.397717324030857, 2.6003703795922917, 11.653492151260778, 6.524537609257038, 13.531202774331204, 22.745084725282855, 5.108639777900474, 10.961709052672697, 9.502122715452204, 6.302874737304522, 3.432675347062199, 4.650614982867803, 15.993822056166964, 5.904298359997672, 7.327818657187931, 10.597516871430729, 6.081593670285516, 3.432359626756427, 5.9209675435171185, 3.48970526643674, 4.967268127290525, 4.63731792313043, 3.7449890567750392, 3.6940622405440706, 5.127787966537352, 5.1277571467857515, 5.1277571467857515, 4.290565755182908, 4.715359034983121, 2.61620928469098, 2.6161101412118763, 2.6160608920492856, 2.6156266606731453, 2.6156266606731453, 2.5090749381633817, 4.961087947674514, 1.7790652285926185, 1.7790652285926185, 1.779065214666874, 1.7790512452425384, 1.7790512452425384, 1.779037524398783, 1.7790343790131402, 1.779034364097452, 1.7790239657187243, 1.7789717607657762, 1.7789640319593947, 1.7789640319593942, 1.7789640319593947, 1.7789552018803745, 1.7788918808750573, 1.7788209022034407, 1.7787473263657771, 1.7786865476050011, 5.842581221191524, 7.70226670544565, 3.1891187050045042, 8.888189720095356, 7.04132541803677, 3.453410430652923, 3.4536008462822285, 3.453520335518015, 2.6162475374629426, 2.616317523375338, 14.420978881540647, 7.997424961196418, 3.9249858689554666, 2.6163080674063273, 4.578361142294088, 3.454143156567198, 3.298047208022412, 6.8809065771523645, 6.66969813927163, 5.8876132297617945, 9.73862331966461, 8.947371459193098, 6.190105515564123, 5.0823647601118385, 7.182827961134582, 4.750838437026432, 3.407699460236297, 4.779816138694204, 4.520540718607968, 4.467818832251219, 3.8646855657985766, 3.864685564002709, 3.718667290430991, 7.457303266866853, 5.822811993313733, 5.822884971710607, 2.5538328777138917, 2.553825183311029, 4.976608818314576, 4.771198269554884, 1.7366494462251822, 1.736642317749995, 1.736633382544449, 1.7366333617160257, 1.7366176326829592, 1.7366151812610822, 1.736599501173309, 1.736599501173309, 1.7365798416733287, 1.7365694250596329, 1.7365694250596329, 1.7365673417576226, 1.7365477526116915, 1.7365385829110187, 1.7364724053476825, 1.7364361682731293, 1.7363055391412356, 1.7362627588271193, 1.7359275582378613, 4.009087212396412, 2.5536442337659357, 2.553783827559969, 2.5526430607467616, 2.553966975136104, 6.6371635235574065, 3.3712675004085058, 3.3368800176198934, 2.5539662492956716, 8.195355367696404, 9.151182461801618, 3.9182111458944697, 3.3716738596408193, 2.5540335455466123, 2.509055982177281, 9.015128777443087, 3.371776798886199, 5.7430550214526255, 5.695945843340396, 4.611161999116448, 5.093055438390429, 5.675062070749252, 4.044562332309771, 5.404059367574273, 3.0036753342483755, 4.188723979622249, 3.927321933179916, 4.242636103459714, 4.055185698740261, 3.319479824621789, 3.1659449194681795, 3.3191115107178866, 3.188459801618779], \"Term\": [\"qualitative\", \"contextual inquiry\", \"inquiry\", \"interview usability\", \"market\", \"evaluative\", \"user\", \"market research\", \"generative\", \"contextual\", \"quantitative\", \"generative evaluative\", \"test\", \"design\", \"sort\", \"data\", \"mixed\", \"card sort\", \"qual\", \"method\", \"focus group\", \"card\", \"user research\", \"focus\", \"interview usability testing\", \"mixed method\", \"qualitative quantitative\", \"secondary\", \"evaluation\", \"group\", \"interview diary study\", \"testing concept\", \"usability testing concept\", \"testing concept testing\", \"competitive research\", \"moderated remote\", \"interview diary\", \"heavy\", \"interview observation usability\", \"qualitative 11\", \"paper\", \"testing competitive\", \"ethnography user\", \"user testing ab\", \"usertestingcom\", \"group user\", \"focus group user\", \"group user interview\", \"unmoderated user\", \"diary study card\", \"eyetracking\", \"remote user\", \"used\", \"direction\", \"product direction\", \"unmoderated testing\", \"interview user\", \"user research market\", \"competitive\", \"interview user testing\", \"user testing\", \"ab testing\", \"user\", \"11\", \"interview observation\", \"user interview\", \"ab\", \"study card\", \"concept testing\", \"competitive analysis\", \"unmoderated\", \"observation\", \"remote interview\", \"remote\", \"diary study\", \"study\", \"11 interview\", \"summative\", \"diary\", \"analytics\", \"moderated\", \"concept\", \"method\", \"ethnography\", \"usability testing\", \"analysis\", \"qualitative\", \"product\", \"field\", \"data\", \"test\", \"focus\", \"design\", \"group\", \"contextual inquiry\", \"inquiry\", \"interview focus group\", \"interview focus\", \"interview contextual inquiry\", \"inquiry usability\", \"contextual inquiry usability\", \"interview card sorting\", \"study usability\", \"usability test interview\", \"survey interview focus\", \"inquiry usability testing\", \"enquiry\", \"contextual enquiry\", \"survey contextual inquiry\", \"interview card\", \"inquiry interview\", \"contextual inquiry interview\", \"study usability testing\", \"interview contextual\", \"usability test contextual\", \"test contextual inquiry\", \"test contextual\", \"observation usability testing\", \"ethno\", \"study diary study\", \"study diary\", \"survey interview contextual\", \"survey analytics\", \"testing survey interview\", \"test interview\", \"survey usability testing\", \"contextual\", \"survey usability\", \"web\", \"focus group\", \"focus\", \"group\", \"survey focus group\", \"survey focus\", \"usability testing survey\", \"survey interview\", \"usability testing\", \"workshop\", \"study\", \"testing survey\", \"card\", \"heuristic\", \"usability study\", \"card sorting\", \"sorting\", \"analytics\", \"observation\", \"interview survey\", \"diary\", \"test\", \"diary study\", \"analysis\", \"design\", \"interview usability testing\", \"interview usability\", \"interview usability test\", \"tree test\", \"card sort tree\", \"sort tree\", \"survey interview usability\", \"sort tree test\", \"survey card sort\", \"test card sort\", \"test card\", \"contextual interview usability\", \"click\", \"user interview usability\", \"qualitative method\", \"test survey\", \"interview survey card\", \"click test\", \"concept testing usability\", \"research usability test\", \"usability test survey\", \"telemetry\", \"jack\", \"tree jack\", \"test observation\", \"tree test card\", \"survey user interview\", \"survey questionnaire\", \"testing interview card\", \"research concept\", \"tree\", \"sort\", \"card sort\", \"qual quant\", \"contextual interview\", \"testing usability testing\", \"test\", \"usability test\", \"testing usability\", \"card\", \"survey card\", \"qual\", \"usability testing\", \"method\", \"quant\", \"type\", \"study\", \"tree testing\", \"data\", \"prototype\", \"testing survey\", \"diary\", \"contextual\", \"user\", \"diary study\", \"remote\", \"analytics\", \"research market\", \"research market research\", \"market research\", \"qualitative user research\", \"market\", \"eye tracking\", \"study concept\", \"user experience\", \"heuristic evaluation\", \"research ux\", \"mix qualitative\", \"mix qualitative quantitative\", \"usability study survey\", \"research data\", \"study survey interview\", \"testing heuristic evaluation\", \"testing heuristic\", \"usability foundational\", \"interview shadowing\", \"unmoderated task\", \"qualitative user\", \"small\", \"research study\", \"1on1\", \"market research analytics\", \"discussion\", \"primary qualitative research\", \"research evaluation\", \"doing research\", \"ux research market\", \"experience research\", \"user experience research\", \"experience\", \"evaluation\", \"study interview\", \"mix\", \"unmoderated usability\", \"qualitative quantitative\", \"ux\", \"study survey\", \"quantitative\", \"data\", \"user research\", \"ux research\", \"qualitative\", \"study\", \"analysis\", \"user\", \"qual\", \"field study\", \"unmoderated\", \"analytics\", \"quant\", \"qual quant\", \"usability testing\", \"usability study\", \"field\", \"concept\", \"product\", \"qualitative research\", \"qualitative quantitative research\", \"qualitative generative\", \"moderated usability\", \"study observation\", \"remote moderated usability\", \"study contextual\", \"interview secondary\", \"mean\", \"ethnographic research interview\", \"finding\", \"people\", \"qualitative generative evaluative\", \"metric\", \"moderated usability testing\", \"study contextual interview\", \"testing secondary research\", \"testing secondary\", \"predominantly\", \"ux research qualitative\", \"research remote\", \"diary study observation\", \"planning\", \"type qualitative\", \"quant research\", \"incontext\", \"moderated concept\", \"moderated concept testing\", \"diary study contextual\", \"interview secondary research\", \"organisation\", \"website\", \"various\", \"remote moderated\", \"using\", \"secondary\", \"quantitative research\", \"usability testing interview\", \"secondary research\", \"testing interview\", \"lab\", \"qualitative\", \"testing moderated\", \"codesign\", \"research interview\", \"moderated\", \"customer interview\", \"quantitative\", \"remote\", \"qualitative quantitative\", \"customer\", \"usability testing\", \"indepth\", \"evaluation\", \"analytics\", \"desk\", \"study\", \"qualitative research\", \"interview survey\", \"diary\", \"desk research\", \"quant qual\", \"mixed method\", \"mixed\", \"generative evaluative\", \"little\", \"org\", \"primary research\", \"testing little\", \"research primarily\", \"primary secondary\", \"user research usability\", \"qual user\", \"validation research\", \"generative evaluative contextual\", \"evaluative contextual\", \"mixedmethods\", \"mixedmethods research\", \"qualitative mixed method\", \"qualitative mixed\", \"facetoface\", \"qualquant\", \"survey workshop\", \"customer user\", \"spectrum\", \"analyst report\", \"analyst\", \"little bit\", \"unmoderated moderated\", \"behalf\", \"analytics google\", \"evaluative\", \"conduct\", \"generative\", \"primary\", \"report\", \"quantitative qualitative\", \"testing contextual\", \"research usability\", \"large\", \"user research\", \"exploratory\", \"method\", \"user\", \"primarily\", \"quant\", \"qual\", \"team\", \"including\", \"like\", \"qualitative\", \"secondary\", \"ethnographic\", \"quantitative\", \"user testing\", \"research survey\", \"contextual\", \"secondary research\", \"analytics\", \"usability testing\", \"moderated\", \"data\", \"concept validation\", \"validation usability\", \"validation usability testing\", \"concept validation usability\", \"research indepth interview\", \"service design\", \"generative evaluative research\", \"build\", \"interview cocreation\", \"interview cocreation workshop\", \"indepth interview focus\", \"research indepth\", \"concept feedback\", \"interview concept feedback\", \"design product\", \"indepth interview cocreation\", \"ethnographic research indepth\", \"research generative research\", \"interview concept validation\", \"possible\", \"ia\", \"hypothesis testing\", \"design thinking service\", \"thinking service\", \"thinking service design\", \"testing content\", \"shadowing quantitative\", \"qualitative desk\", \"understanding\", \"user analytics\", \"evaluative research\", \"indepth interview\", \"opportunity\", \"indepth\", \"validation\", \"poll\", \"interview concept\", \"cocreation workshop\", \"idis\", \"survey card sorting\", \"design\", \"product\", \"generative research\", \"needed\", \"ethnographic research\", \"kind\", \"analytics survey\", \"generative\", \"concept\", \"workshop\", \"qualitative\", \"usability testing\", \"card\", \"evaluative\", \"user\", \"ethnographic\", \"cocreation\", \"focus\", \"analytics\", \"test\", \"sorting\", \"card sorting\", \"focus group\", \"make\", \"make decision\", \"participant\", \"participant observation\", \"analysis data\", \"help\", \"science\", \"map journey\", \"technology\", \"prototype interview\", \"lean ux\", \"research participant observation\", \"qualitative usability study\", \"usability study moderated\", \"study moderated\", \"rite\", \"help make decision\", \"help make\", \"data analysis data\", \"participant observation interview\", \"make sure\", \"administrative\", \"research trend\", \"research observational\", \"ab testing survey\", \"source\", \"data science\", \"sure\", \"trend\", \"question\", \"observing\", \"decision\", \"design research\", \"interviewing\", \"survey usability test\", \"design\", \"data\", \"foundational\", \"map\", \"interview survey usability\", \"qualitative usability\", \"qualitative\", \"qualitative interview\", \"group\", \"focus\", \"interview survey\", \"focus group\", \"quantitative\", \"qualitative research\", \"test\", \"data analysis\", \"remote\", \"analysis\", \"user\", \"study\", \"ux\", \"prototype\", \"moderated\", \"observation\"], \"Total\": [142.0, 44.0, 45.0, 36.0, 35.0, 39.0, 142.0, 28.0, 40.0, 76.0, 74.0, 19.0, 85.0, 47.0, 36.0, 59.0, 17.0, 35.0, 41.0, 52.0, 44.0, 61.0, 34.0, 48.0, 19.0, 14.0, 26.0, 21.0, 21.0, 48.0, 10.79131580196247, 8.984318760283319, 8.08145067374767, 8.080582981457637, 6.274852677267758, 5.371580671827347, 11.636715439577818, 4.468293912271564, 4.468286382302065, 3.565008071779259, 3.5650080669105684, 3.5650077490986636, 3.5650067490844775, 3.5650058396905555, 3.56500743501597, 3.565007328122291, 3.565007328122291, 3.565007328122291, 3.5650058894053434, 3.564990531326293, 3.5649931796165255, 3.5649984457915602, 3.564963071607803, 3.5649398836714554, 3.5649398836713426, 3.5649378555298266, 11.55736608058979, 3.5647009207295506, 16.107034564064392, 7.106991749650953, 26.48797772409722, 15.131231590074433, 142.6130049348722, 10.56302893346383, 13.329644088406166, 38.03288389524139, 24.832441939338008, 6.196040626559555, 23.09123083054322, 8.044997080675056, 31.329502321305817, 52.834696400435995, 8.043466987315943, 60.10372559409411, 43.388164708403814, 113.01680326904169, 5.2855341494236905, 5.285495079520515, 47.65834648496324, 78.49323975167779, 38.581555611068666, 41.83354040158679, 52.14219672037303, 33.25607056851823, 147.83564797547473, 54.88151021752344, 142.65106794780078, 33.512646705813665, 30.555626377845186, 59.5258100892593, 85.18387374110506, 48.9538205710738, 47.15260198993886, 48.89881771217453, 44.29373212494193, 45.10353712801114, 14.152664290568406, 14.152664290568405, 12.37966014316619, 9.720157828742137, 9.720157828742135, 7.0606532174173395, 6.174139798879051, 5.287649524537979, 5.2876466077566695, 5.287646865491683, 5.287619244481586, 5.287619244416027, 5.285131597787999, 11.491194851967476, 4.4011474820628775, 4.4011474820628775, 4.401143753093162, 18.601272949587376, 3.5146447671372494, 3.5146447671372494, 3.5146447671372494, 3.514644766042469, 3.5146447639349567, 3.5146457747537454, 3.5146457747537454, 3.5146404460524434, 3.5146469377136804, 3.514643917816511, 7.058911770024913, 10.473062026960319, 76.48004700882292, 15.587908578949476, 7.082216775156814, 44.707952137391466, 48.9538205710738, 48.89881771217453, 12.170510560582416, 12.170510186960783, 19.36186784886737, 24.755280207102725, 147.83564797547473, 33.056989308783336, 113.01680326904169, 27.17111991169402, 61.6558948619118, 19.953482291049546, 27.08859814438388, 25.43246796642917, 25.432467966798004, 78.49323975167779, 52.834696400435995, 33.90996601377139, 47.65834648496324, 85.18387374110506, 43.388164708403814, 54.88151021752344, 47.15260198993886, 19.435093042645658, 36.19717662387253, 11.472245938695604, 10.587494481716307, 9.702276328894396, 9.702276328893879, 7.0484569106810016, 6.163696577336155, 7.908109934269234, 5.278937261855025, 5.278937261855025, 5.278938287625408, 5.27892981889253, 5.278933407854532, 5.278914039549969, 10.589236821338348, 4.394176655878087, 4.394172686389262, 4.394177010975772, 3.5094170076205073, 3.509416581231842, 3.509412871102528, 3.509417407847708, 3.5094174078477085, 3.5094164266440577, 3.509417765288963, 3.509408106849498, 3.509401216281924, 3.5094212714358832, 4.379912438973718, 25.52793555879781, 36.295396188856934, 35.409954294406795, 20.98147839843174, 13.14546262529867, 8.782127718911635, 85.18387374110506, 37.67351097296644, 10.575595388558956, 61.6558948619118, 11.330968250980016, 41.53483552532347, 147.83564797547473, 52.14219672037303, 47.51543852405608, 22.33809060589685, 113.01680326904169, 10.489079859202608, 59.5258100892593, 21.656287594263738, 27.17111991169402, 47.65834648496324, 76.48004700882292, 142.6130049348722, 43.388164708403814, 60.10372559409411, 78.49323975167779, 8.531090678931596, 7.678207252951254, 28.217403287510102, 5.119557508818203, 35.14985869558721, 4.2666785442589426, 4.266677584175117, 6.845279552845749, 8.562899781315345, 3.4137890787892955, 3.413789078553001, 3.413789078553001, 3.4137905065187617, 3.4137888948607134, 3.4137928288155135, 3.4137893032259177, 3.4137893032259177, 3.413784828720145, 3.4137946113108883, 3.4137972197079094, 6.8096491886377954, 5.93680481137017, 3.4203537235756727, 2.5609053370098542, 2.560905336902242, 2.5609053368186556, 2.560905336642418, 2.560905957062164, 2.5609064798104058, 2.560904162854978, 5.148423388415555, 5.148423388415555, 11.889513326584428, 21.22529842281844, 5.1699631704751665, 5.153320026075984, 6.926121129241322, 26.187906378404858, 27.109502284939524, 14.557506919708263, 74.70829014300105, 59.5258100892593, 34.2017101441665, 12.672971751582534, 142.65106794780078, 113.01680326904169, 54.88151021752344, 142.6130049348722, 41.53483552532347, 12.974304454678341, 31.329502321305817, 78.49323975167779, 47.51543852405608, 20.98147839843174, 147.83564797547473, 27.08859814438388, 30.555626377845186, 41.83354040158679, 33.512646705813665, 28.246071401763455, 4.990660757290664, 4.163583162529712, 7.498149294926448, 3.3364517493285604, 3.336452187537035, 3.336453874920938, 3.336451877538048, 3.3364602025856156, 3.336455887422194, 3.3364540600948818, 3.336458700324639, 3.336454727146926, 7.533883719458504, 6.670651228411191, 2.5093460808286476, 2.5093460812173367, 2.5093460812173367, 2.509346083136195, 2.5093468384782733, 2.509346838478655, 2.5093485721121005, 2.509348573462679, 2.5093489603507417, 2.509346348700294, 2.509350825028198, 2.5093510958042775, 2.5093510958042775, 2.5093519846482013, 2.5093462864659988, 2.509346286682467, 5.05006030348837, 9.308691525199093, 10.86896921563895, 6.716306422150867, 21.626683967368294, 9.986217762918285, 10.190866267342141, 12.434316571491015, 11.077371083223865, 12.649516786896744, 142.65106794780078, 7.607535554765844, 7.648419244620673, 12.947584140188606, 38.581555611068666, 6.770275166981319, 74.70829014300105, 60.10372559409411, 26.187906378404858, 27.552861166492523, 147.83564797547473, 16.803165693403784, 21.22529842281844, 78.49323975167779, 17.016987668736068, 113.01680326904169, 28.246071401763455, 33.90996601377139, 47.65834648496324, 15.303288047220972, 7.512010784288215, 14.99551257266229, 17.48937737780822, 19.17510480805627, 4.183577154105666, 3.351464888449734, 3.3514682237991233, 3.3514700134297195, 3.351467270673365, 3.3514705696536713, 3.351474121343902, 2.51935536851529, 2.5193553685235854, 2.5193553685429144, 2.5193553685429144, 2.5193553686621866, 2.5193553686621866, 2.5193553688397805, 2.5193553688397805, 2.5193553698898863, 2.5193553724689477, 2.519356004779684, 2.5193584425722455, 2.519359775998197, 2.5193619429255754, 2.5193619429255754, 2.519362212371866, 2.5193635033107387, 2.519361827427709, 2.519363667472134, 39.067634120123095, 10.022035799828522, 40.61821585340966, 10.899901250122156, 6.837882690434102, 9.172357118707092, 4.178578040100676, 13.74677129013665, 4.236216714222537, 34.2017101441665, 16.0840650676895, 52.14219672037303, 142.6130049348722, 13.398698692049706, 47.51543852405608, 41.53483552532347, 21.642735107191687, 7.729527463031638, 13.764215286018846, 142.65106794780078, 21.626683967368294, 33.38369214996805, 74.70829014300105, 26.48797772409722, 8.299386012976788, 76.48004700882292, 12.434316571491015, 78.49323975167779, 147.83564797547473, 38.581555611068666, 59.5258100892593, 5.878382652140381, 5.878381394982575, 5.878381394982575, 5.041175407690702, 5.873406170262138, 3.3667601428305196, 3.366764069390917, 3.3667603733527973, 3.3667554450946096, 3.3667554450946096, 3.3685402382204392, 6.706950418608677, 2.5295522028930084, 2.5295522028930084, 2.5295522030633166, 2.5295521177686235, 2.5295521177686235, 2.5295537756351356, 2.5295518306948273, 2.5295518308799676, 2.5295545466561795, 2.529551634602557, 2.529553430721721, 2.5295534307217213, 2.5295534307217213, 2.529558530356333, 2.5295554484853198, 2.529549257596757, 2.529551703288049, 2.529568269791281, 9.396936065683708, 13.479301811717882, 5.016157443666563, 16.803165693403784, 14.291088834884329, 5.858185848167242, 5.973473920039622, 5.9769651434412046, 4.18400744857106, 4.253247838020459, 47.15260198993886, 33.512646705813665, 10.287416740863094, 5.031321421354456, 14.378316921151654, 8.55847412727797, 8.624803715600835, 40.61821585340966, 41.83354040158679, 33.056989308783336, 142.65106794780078, 147.83564797547473, 61.6558948619118, 39.067634120123095, 142.6130049348722, 33.38369214996805, 10.200532905865376, 48.9538205710738, 78.49323975167779, 85.18387374110506, 25.432467966798004, 25.43246796642917, 44.707952137391466, 8.210362999464317, 6.575868458187766, 7.413075775500879, 3.306883632451884, 3.306883149797331, 6.664929586065536, 6.621723637207285, 2.4896314724728135, 2.4896322230571064, 2.489632799600061, 2.4896328004988577, 2.4896341685266554, 2.489634352700784, 2.489634735750326, 2.489634735750326, 2.48963733936859, 2.4896354141421737, 2.489635414142174, 2.489636578406555, 2.489640058614845, 2.4896408668814978, 2.489646473250919, 2.489640772665694, 2.4896356227982284, 2.4896721773681674, 2.4896691564603666, 5.80207212375039, 4.13401966004292, 4.1389924481082225, 4.144183336008198, 4.15975893942296, 15.147455232810017, 7.5507579226921315, 7.532578553441002, 5.07987651625413, 47.15260198993886, 59.5258100892593, 13.730414974864026, 10.191374948265205, 5.966374567094628, 5.9275774954756475, 142.65106794780078, 12.900035779161273, 48.89881771217453, 48.9538205710738, 33.90996601377139, 44.707952137391466, 74.70829014300105, 28.246071401763455, 85.18387374110506, 12.015052046942142, 60.10372559409411, 54.88151021752344, 142.6130049348722, 113.01680326904169, 27.109502284939524, 21.656287594263738, 38.581555611068666, 52.834696400435995], \"loglift\": [30.0, 29.0, 28.0, 27.0, 26.0, 25.0, 24.0, 23.0, 22.0, 21.0, 20.0, 19.0, 18.0, 17.0, 16.0, 15.0, 14.0, 13.0, 12.0, 11.0, 10.0, 9.0, 8.0, 7.0, 6.0, 5.0, 4.0, 3.0, 2.0, 1.0, 1.4957, 1.4802, 1.4707, 1.4694, 1.4411, 1.4183, 1.4069, 1.3853, 1.3853, 1.3336, 1.3336, 1.3336, 1.3336, 1.3336, 1.3336, 1.3336, 1.3336, 1.3336, 1.3335, 1.3335, 1.3335, 1.3335, 1.3334, 1.3333, 1.3333, 1.3333, 1.333, 1.3318, 1.3233, 1.3166, 1.2295, 1.2399, 0.8727, 1.2029, 1.1676, 0.999, 1.0547, 1.2371, 0.9519, 1.165, 0.8669, 0.7507, 1.1491, 0.6322, 0.6761, 0.3125, 1.2173, 1.2172, 0.5509, 0.384, 0.598, 0.4879, 0.3439, 0.5291, -0.1632, 0.2511, -0.2693, 0.4272, 0.4672, -0.0518, -0.3541, -0.0394, -0.0518, -0.097, 1.6885, 1.6644, 1.6514, 1.6514, 1.6434, 1.6258, 1.6258, 1.594, 1.5769, 1.5537, 1.5537, 1.5537, 1.5536, 1.5536, 1.545, 1.5408, 1.5202, 1.5202, 1.5201, 1.5188, 1.4675, 1.4675, 1.4675, 1.4675, 1.4675, 1.4674, 1.4674, 1.4674, 1.4674, 1.4674, 1.4431, 1.4189, 1.2451, 1.318, 1.3921, 1.1801, 1.1094, 1.0845, 1.2731, 1.2731, 1.162, 1.0597, 0.5374, 0.9133, 0.3451, 0.8911, 0.5497, 0.94, 0.786, 0.8062, 0.8062, 0.1482, 0.3279, 0.576, 0.3294, -0.1108, 0.3441, 0.1202, 0.1148, 1.8153, 1.8089, 1.7872, 1.7814, 1.7736, 1.7736, 1.7427, 1.7256, 1.7121, 1.7023, 1.7023, 1.7023, 1.7023, 1.7023, 1.7022, 1.6871, 1.6687, 1.6687, 1.6687, 1.6158, 1.6158, 1.6158, 1.6158, 1.6158, 1.6158, 1.6158, 1.6158, 1.6158, 1.6154, 1.5964, 1.5943, 1.5044, 1.491, 1.4686, 1.499, 1.4977, 1.195, 1.2181, 1.3933, 1.0209, 1.3501, 0.9992, 0.4514, 0.7519, 0.7829, 1.0567, -0.0725, 1.3054, 0.1943, 0.8107, 0.6255, 0.2208, -0.1684, -0.7365, 0.2121, -0.0808, -0.4107, 2.0253, 2.0145, 1.9643, 1.959, 1.9352, 1.9241, 1.9241, 1.906, 1.9055, 1.8696, 1.8696, 1.8696, 1.8696, 1.8696, 1.8695, 1.8695, 1.8695, 1.8695, 1.8695, 1.8695, 1.852, 1.8109, 1.7994, 1.7714, 1.7714, 1.7714, 1.7714, 1.7714, 1.7714, 1.7714, 1.759, 1.759, 1.7329, 1.7009, 1.7322, 1.7209, 1.6568, 1.4896, 1.4086, 1.4733, 1.0412, 1.0523, 1.1576, 1.4646, 0.6836, 0.3718, 0.6475, 0.1906, 0.7243, 1.2073, 0.6688, 0.0952, 0.3956, 0.8779, -0.6378, 0.5413, 0.4345, 0.1598, 0.3225, 0.4295, 2.2096, 2.1734, 2.1312, 2.1175, 2.1175, 2.1175, 2.1175, 2.1175, 2.1175, 2.1175, 2.1175, 2.1173, 2.116, 2.0977, 2.0168, 2.0168, 2.0168, 2.0168, 2.0167, 2.0167, 2.0167, 2.0167, 2.0167, 2.0167, 2.0167, 2.0167, 2.0167, 2.0167, 2.0167, 2.0167, 1.9806, 1.8781, 1.8473, 1.8981, 1.7407, 1.8395, 1.8251, 1.7371, 1.7417, 1.7164, 1.1369, 1.7259, 1.6949, 1.514, 1.1394, 1.6876, 0.8068, 0.733, 1.0783, 0.9802, 0.0372, 1.1659, 1.0038, 0.192, 1.1207, -0.2418, 0.7118, 0.4584, 0.0308, 1.0638, 2.3081, 2.2962, 2.2877, 2.2446, 2.2155, 2.1597, 2.1596, 2.1596, 2.1596, 2.1596, 2.1596, 2.0594, 2.0594, 2.0594, 2.0594, 2.0594, 2.0594, 2.0594, 2.0594, 2.0594, 2.0594, 2.0594, 2.0594, 2.0594, 2.0594, 2.0594, 2.0594, 2.0593, 2.0593, 2.0593, 1.8819, 1.9688, 1.796, 1.8622, 1.8974, 1.8259, 1.9391, 1.6486, 1.9254, 1.3368, 1.5112, 1.0644, 0.5776, 1.4492, 0.9468, 0.9384, 1.1798, 1.6017, 1.3283, 0.2252, 1.1152, 0.897, 0.4605, 0.942, 1.5305, -0.1451, 1.1428, -0.3467, -1.0485, 0.0811, -0.3663, 2.3763, 2.3763, 2.3763, 2.3517, 2.2933, 2.2607, 2.2606, 2.2606, 2.2605, 2.2605, 2.2183, 2.2114, 2.161, 2.161, 2.161, 2.1609, 2.1609, 2.1609, 2.1609, 2.1609, 2.1609, 2.1609, 2.1609, 2.1609, 2.1609, 2.1609, 2.1609, 2.1608, 2.1608, 2.1607, 2.0377, 1.9533, 2.06, 1.8761, 1.8051, 1.9844, 1.965, 1.9644, 2.0434, 2.027, 1.3282, 1.0801, 1.5494, 1.859, 1.3685, 1.6056, 1.5516, 0.7374, 0.6768, 0.7875, -0.1714, -0.2918, 0.2143, 0.4734, -0.4755, 0.5632, 1.4165, 0.1864, -0.3415, -0.435, 0.6288, 0.6288, 0.0261, 2.5783, 2.5528, 2.433, 2.4161, 2.4161, 2.3824, 2.3467, 2.3143, 2.3143, 2.3143, 2.3143, 2.3143, 2.3143, 2.3143, 2.3143, 2.3142, 2.3142, 2.3142, 2.3142, 2.3142, 2.3142, 2.3142, 2.3142, 2.3141, 2.314, 2.3139, 2.3048, 2.1927, 2.1916, 2.1899, 2.1867, 1.8493, 1.8681, 1.8603, 1.9868, 0.9246, 0.8019, 1.4205, 1.5683, 1.826, 1.8148, -0.087, 1.3327, 0.5327, 0.5233, 0.6792, 0.5022, 0.097, 0.7309, -0.0832, 1.2881, 0.0108, 0.0372, -0.8405, -0.6531, 0.5744, 0.7516, 0.2214, -0.1332], \"logprob\": [30.0, 29.0, 28.0, 27.0, 26.0, 25.0, 24.0, 23.0, 22.0, 21.0, 20.0, 19.0, 18.0, 17.0, 16.0, 15.0, 14.0, 13.0, 12.0, 11.0, 10.0, 9.0, 8.0, 7.0, 6.0, 5.0, 4.0, 3.0, 2.0, 1.0, -5.0843, -5.2831, -5.3986, -5.4, -5.6812, -5.8594, -5.0978, -6.0764, -6.0765, -6.3541, -6.3541, -6.3541, -6.3541, -6.3541, -6.3541, -6.3541, -6.3541, -6.3541, -6.3541, -6.3541, -6.3542, -6.3542, -6.3543, -6.3543, -6.3543, -6.3544, -5.1785, -6.3559, -4.8562, -5.6811, -4.4526, -5.0022, -3.126, -5.3985, -5.2012, -4.3214, -4.692, -5.8978, -4.8675, -5.7087, -4.6474, -4.2409, -5.7248, -4.2306, -4.5125, -3.9188, -6.0765, -6.0766, -4.5438, -4.2118, -4.708, -4.7372, -4.6609, -4.9255, -4.1259, -4.7025, -4.2676, -5.0197, -5.072, -4.9241, -4.868, -5.1073, -5.1572, -5.1661, -3.4795, -3.4854, -4.6575, -4.6575, -4.7993, -5.0588, -5.0588, -5.4102, -5.5615, -5.7397, -5.7397, -5.7397, -5.7398, -5.7398, -5.7489, -4.9764, -5.9568, -5.9568, -5.9568, -4.5168, -6.2344, -6.2344, -6.2344, -6.2344, -6.2344, -6.2344, -6.2344, -6.2344, -6.2344, -6.2345, -5.5614, -5.1911, -3.3767, -4.8943, -5.6091, -3.9785, -3.9586, -3.9845, -5.1867, -5.1867, -4.8335, -4.6901, -3.4253, -4.5472, -3.8861, -4.7655, -4.2875, -5.0254, -4.8737, -4.9166, -4.9166, -4.4476, -4.6637, -4.8591, -4.7654, -4.6248, -4.8445, -4.8334, -4.9906, -4.1765, -3.5609, -4.7317, -4.8177, -4.9129, -4.9129, -5.2633, -5.4145, -5.1788, -5.5928, -5.5928, -5.5928, -5.5928, -5.5928, -5.5929, -4.9119, -5.8099, -5.8099, -5.8099, -6.0875, -6.0875, -6.0875, -6.0875, -6.0875, -6.0875, -6.0875, -6.0876, -6.0876, -6.088, -5.8853, -4.1247, -3.8627, -3.9008, -4.4465, -4.8837, -5.2883, -3.319, -4.1118, -5.207, -3.8163, -5.1812, -4.2331, -3.5113, -4.2529, -4.3149, -4.7958, -4.3038, -5.303, -4.6781, -5.0728, -5.0311, -4.874, -4.7902, -4.7351, -4.9765, -4.9435, -5.0065, -4.7898, -4.9059, -3.6546, -5.3667, -3.464, -5.5839, -5.5839, -5.1292, -4.9059, -5.8614, -5.8614, -5.8614, -5.8614, -5.8614, -5.8614, -5.8614, -5.8614, -5.8615, -5.8615, -5.8615, -5.1884, -5.3668, -5.9296, -6.2471, -6.2471, -6.2471, -6.2471, -6.2471, -6.2471, -6.2471, -5.5611, -5.5611, -4.7502, -4.2027, -5.5838, -5.5983, -5.3667, -4.2039, -4.2503, -4.8074, -3.604, -3.8201, -4.2689, -4.9547, -3.3148, -3.8594, -4.3061, -3.8081, -4.508, -5.1885, -4.8454, -4.5005, -4.7022, -5.0372, -4.6005, -5.1184, -5.1047, -5.0653, -5.1244, -5.1884, -5.1417, -5.359, -4.8129, -5.6364, -5.6364, -5.6364, -5.6364, -5.6364, -5.6364, -5.6364, -5.6364, -5.6365, -4.8234, -4.9634, -6.022, -6.022, -6.022, -6.022, -6.022, -6.022, -6.022, -6.022, -6.022, -6.022, -6.022, -6.0221, -6.0221, -6.0221, -6.0221, -6.0221, -5.3588, -4.8498, -4.7256, -5.1562, -4.1442, -4.8181, -4.8122, -4.7012, -4.8122, -4.7048, -2.8615, -5.2037, -5.2294, -4.8839, -4.1666, -5.3587, -3.8384, -4.1297, -4.6152, -4.6625, -3.9255, -4.9713, -4.8998, -4.4038, -5.0039, -4.473, -4.9061, -4.9767, -5.0639, -5.1669, -4.6342, -3.9548, -3.8095, -3.7606, -5.3121, -5.5897, -5.5898, -5.5898, -5.5898, -5.5898, -5.5898, -5.9754, -5.9754, -5.9754, -5.9754, -5.9754, -5.9754, -5.9754, -5.9754, -5.9754, -5.9754, -5.9754, -5.9754, -5.9754, -5.9754, -5.9754, -5.9754, -5.9755, -5.9755, -5.9755, -3.4116, -4.6852, -3.4586, -4.7079, -5.1389, -4.9167, -5.5898, -4.6894, -5.5897, -4.0898, -4.6698, -3.9404, -3.421, -4.9144, -4.151, -4.2939, -4.7044, -5.312, -5.0084, -3.7732, -4.7697, -4.5537, -4.1848, -4.7401, -5.3121, -4.7669, -5.2956, -4.9425, -5.0112, -5.225, -5.2386, -4.8112, -4.8112, -4.8112, -4.9895, -4.8951, -5.4842, -5.4842, -5.4842, -5.4844, -5.4844, -5.526, -4.8443, -5.8698, -5.8698, -5.8698, -5.8698, -5.8698, -5.8698, -5.8698, -5.8698, -5.8698, -5.8699, -5.8699, -5.8699, -5.8699, -5.8699, -5.8699, -5.8699, -5.87, -5.87, -4.6807, -4.4044, -5.2861, -4.2612, -4.4941, -5.2065, -5.2065, -5.2065, -5.4841, -5.4841, -3.7772, -4.3668, -5.0785, -5.4841, -4.9245, -5.2063, -5.2526, -4.5171, -4.5483, -4.673, -4.1698, -4.2545, -4.6229, -4.8201, -4.4742, -4.8876, -5.2198, -4.8815, -4.9373, -4.949, -5.094, -5.094, -5.1325, -4.2751, -4.5225, -4.5225, -5.3467, -5.3467, -4.6796, -4.7217, -5.7324, -5.7324, -5.7324, -5.7324, -5.7324, -5.7324, -5.7324, -5.7324, -5.7324, -5.7324, -5.7324, -5.7324, -5.7324, -5.7324, -5.7325, -5.7325, -5.7326, -5.7326, -5.7328, -4.8958, -5.3468, -5.3468, -5.3472, -5.3467, -4.3916, -5.069, -5.0793, -5.3467, -4.1808, -4.0704, -4.9187, -5.0689, -5.3467, -5.3644, -4.0854, -5.0689, -4.5363, -4.5446, -4.7559, -4.6565, -4.5483, -4.887, -4.5972, -5.1845, -4.8519, -4.9164, -4.8391, -4.8843, -5.0845, -5.1319, -5.0846, -5.1248]}, \"token.table\": {\"Topic\": [1, 5, 7, 8, 1, 8, 4, 1, 3, 4, 7, 8, 1, 3, 4, 8, 8, 8, 1, 2, 3, 4, 5, 6, 7, 8, 8, 6, 6, 1, 2, 3, 4, 5, 6, 7, 8, 6, 1, 2, 6, 7, 6, 7, 1, 2, 3, 4, 7, 1, 2, 3, 3, 1, 2, 3, 4, 7, 3, 3, 1, 2, 6, 7, 8, 2, 7, 1, 2, 5, 7, 1, 2, 7, 1, 2, 1, 1, 2, 3, 4, 5, 7, 8, 7, 1, 2, 3, 4, 5, 3, 7, 7, 5, 6, 1, 2, 3, 5, 6, 7, 2, 2, 2, 2, 1, 3, 5, 3, 1, 2, 3, 4, 5, 6, 7, 3, 5, 7, 6, 1, 2, 3, 4, 6, 8, 1, 4, 6, 8, 8, 4, 8, 3, 4, 6, 8, 1, 2, 3, 4, 6, 7, 8, 7, 1, 6, 8, 7, 2, 3, 5, 6, 7, 8, 2, 3, 5, 6, 7, 8, 1, 2, 3, 4, 5, 1, 2, 3, 4, 5, 1, 5, 5, 1, 4, 4, 2, 2, 1, 2, 4, 5, 6, 7, 8, 1, 2, 4, 5, 6, 7, 8, 7, 5, 1, 2, 3, 5, 6, 7, 8, 1, 1, 4, 5, 1, 3, 6, 7, 6, 1, 3, 7, 4, 5, 6, 7, 3, 4, 3, 4, 6, 7, 8, 4, 1, 6, 1, 2, 3, 4, 5, 6, 7, 8, 1, 2, 4, 5, 8, 5, 1, 2, 5, 7, 8, 1, 2, 7, 8, 1, 1, 2, 4, 7, 8, 1, 2, 3, 4, 6, 7, 8, 6, 7, 6, 7, 1, 3, 7, 8, 1, 2, 4, 6, 7, 8, 1, 1, 1, 1, 8, 8, 8, 1, 2, 3, 4, 5, 8, 3, 4, 7, 7, 7, 8, 1, 2, 4, 6, 5, 3, 5, 7, 3, 5, 7, 7, 7, 2, 5, 2, 2, 2, 2, 3, 2, 7, 7, 3, 7, 7, 7, 1, 2, 3, 2, 1, 4, 1, 2, 2, 1, 2, 3, 7, 1, 5, 5, 4, 1, 2, 3, 4, 5, 8, 3, 2, 8, 3, 7, 3, 3, 1, 6, 7, 1, 6, 3, 4, 6, 7, 8, 3, 1, 2, 3, 4, 5, 7, 2, 5, 6, 7, 3, 6, 8, 2, 3, 4, 6, 7, 6, 6, 8, 8, 8, 2, 4, 6, 8, 8, 1, 4, 5, 1, 4, 5, 4, 5, 1, 2, 3, 5, 6, 8, 3, 5, 3, 4, 4, 4, 5, 6, 5, 6, 6, 6, 1, 4, 5, 6, 7, 8, 5, 5, 1, 4, 5, 4, 5, 6, 7, 1, 2, 3, 5, 6, 7, 8, 2, 4, 8, 7, 8, 6, 5, 1, 7, 8, 8, 8, 5, 5, 5, 7, 7, 5, 1, 5, 6, 7, 8, 4, 6, 8, 4, 6, 6, 1, 3, 4, 5, 6, 7, 8, 1, 1, 2, 3, 5, 7, 8, 8, 1, 3, 4, 6, 3, 4, 6, 1, 2, 3, 4, 5, 6, 7, 8, 1, 7, 5, 5, 1, 2, 3, 4, 5, 8, 3, 6, 6, 1, 4, 5, 6, 5, 1, 2, 4, 5, 6, 8, 1, 2, 5, 8, 8, 4, 7, 4, 6, 1, 2, 3, 4, 5, 6, 6, 5, 1, 2, 3, 4, 5, 6, 7, 8, 4, 6, 7, 8, 4, 5, 8, 7, 8, 1, 2, 3, 4, 5, 6, 7, 8, 1, 2, 1, 5, 6, 8, 5, 1, 1, 6, 3, 4, 4, 7, 5, 6, 7, 5, 7, 1, 3, 5, 4, 4, 8, 8, 6, 5, 4, 5, 6, 8, 8, 1, 3, 5, 6, 3, 4, 8, 4, 8, 1, 5, 6, 8, 5, 6, 8, 7, 7, 4, 8, 1, 2, 3, 3, 3, 1, 2, 3, 4, 7, 8, 6, 1, 2, 3, 4, 5, 7, 8, 1, 7, 4, 5, 5, 2, 2, 1, 4, 8, 5, 1, 3, 4, 7, 8, 4, 2, 2, 1, 8, 5, 8, 2, 2, 3, 7, 3, 2, 7, 2, 2, 7, 2, 7, 1, 2, 3, 4, 7, 2, 2, 3, 3, 2, 5, 8, 2, 8, 2, 5, 3, 6, 1, 2, 3, 4, 6, 7, 8, 8, 3, 1, 2, 3, 4, 5, 7, 8, 3, 3, 2, 2, 2, 3, 3, 2, 3, 1, 1, 1, 7, 5, 6, 4, 4, 2, 5, 3, 6, 1, 4, 5, 7, 5, 5, 1, 2, 3, 5, 6, 7, 8, 2, 1, 3, 5, 1, 3, 5, 7, 7, 1, 3, 4, 7, 3, 3, 3, 1, 3, 4, 7, 6, 8, 3, 4, 5, 6, 7, 5, 7, 1, 4, 5, 6, 7, 8, 6, 4, 1, 1, 4, 1, 4, 1, 2, 3, 4, 8, 8, 4, 1, 2, 3, 5, 7, 8, 2, 2, 3, 1, 2, 3, 4, 5, 6, 7, 8, 1, 2, 5, 2, 3, 7, 1, 1, 2, 3, 4, 5, 6, 7, 8, 7, 3, 4, 3, 4, 1, 2, 3, 6, 7, 8, 3, 1, 3, 4, 6, 8, 1, 6, 1, 4, 6, 1, 1, 1, 5, 8, 2, 3, 4, 5, 6, 7, 8, 3, 4, 5, 8, 4, 5, 3, 5, 6, 7, 6, 7, 7, 1, 5, 7, 1, 2, 2, 5, 1, 2, 3, 5, 6, 7], \"Freq\": [0.6626887083328815, 0.09466981547612592, 0.09466981547612592, 0.09466981547612592, 0.7567825477839626, 0.18919563694599065, 0.7809738107442993, 0.6040485279958687, 0.20134950933195625, 0.12080970559917376, 0.04026990186639125, 0.04026990186639125, 0.7269732099808466, 0.13217694726924484, 0.06608847363462242, 0.06608847363462242, 0.8033186128601879, 0.8033269066464884, 0.27331609390024697, 0.20043180219351445, 0.10932643756009879, 0.2368739480468807, 0.05466321878004939, 0.03644214585336626, 0.01822107292668313, 0.07288429170673252, 0.9071986714087134, 0.7938517947435241, 0.7938517947435241, 0.3057588153569238, 0.216579160877821, 0.10191960511897459, 0.12739950639871825, 0.11465955575884643, 0.06369975319935912, 0.06369975319935912, 0.012739950639871824, 0.793851251338696, 0.23188933521841576, 0.23188933521841576, 0.11594466760920788, 0.34783400282762367, 0.7938518311369424, 0.8910643073217718, 0.1135333452815439, 0.30816193719276197, 0.43791433180024075, 0.03243809865186968, 0.09731429595560905, 0.056481292897797145, 0.22592517159118858, 0.7060161612224644, 0.9276173647205921, 0.1572792701549844, 0.393198175387461, 0.1572792701549844, 0.0786396350774922, 0.1572792701549844, 0.9471616732061334, 0.910296496173172, 0.098034093829058, 0.196068187658116, 0.098034093829058, 0.294102281487174, 0.294102281487174, 0.33461797952673206, 0.5019269692900981, 0.13074597090154613, 0.13074597090154613, 0.5229838836061845, 0.13074597090154613, 0.8071007700575534, 0.1241693492396236, 0.0620846746198118, 0.6215042653042765, 0.2486017061217106, 0.9561977481537564, 0.3346596980701391, 0.07171279244360124, 0.19123411318293662, 0.14342558488720247, 0.07171279244360124, 0.16732984903506956, 0.047808528295734155, 0.7906537756811787, 0.5196777983842839, 0.04330648319869032, 0.2598388991921419, 0.04330648319869032, 0.08661296639738064, 0.9102956002930248, 0.8505740942501331, 0.7934657448930842, 0.29934037953160475, 0.5986807590632095, 0.09152714039509499, 0.627614676994937, 0.13075305770727855, 0.03922591731218356, 0.07845183462436713, 0.02615061154145571, 0.9456051521259277, 0.9933685397267183, 0.908853887833167, 0.925910891424761, 0.15214375157485638, 0.6846468820868536, 0.15214375157485638, 0.9471601537227136, 0.18146935702200614, 0.07258774280880245, 0.21776322842640736, 0.10888161421320368, 0.2540570998308086, 0.10888161421320368, 0.07258774280880245, 0.2954089679772566, 0.44311345196588486, 0.1477044839886283, 0.793852897707567, 0.20159322455260886, 0.050398306138152216, 0.18479378917322478, 0.3527881429670655, 0.06719774151753628, 0.15119491841445665, 0.3329157447152307, 0.3329157447152307, 0.08322893617880768, 0.24968680853642303, 0.8033300993995125, 0.17235221808197929, 0.6894088723279171, 0.2640707589837159, 0.13203537949185795, 0.13203537949185795, 0.4621238282215028, 0.190869636460791, 0.21207737384532332, 0.021207737384532334, 0.04241547476906467, 0.04241547476906467, 0.29690832338345263, 0.16966189907625867, 0.790653775627946, 0.1324370361543073, 0.2648740723086146, 0.39731110846292184, 0.7906533919030004, 0.2938240361533607, 0.05876480723067214, 0.2938240361533607, 0.17629442169201642, 0.11752961446134429, 0.05876480723067214, 0.3267271703029849, 0.06534543406059698, 0.2613817362423879, 0.19603630218179094, 0.13069086812119396, 0.06534543406059698, 0.35670561934757217, 0.25179220189240387, 0.18884415141930289, 0.08393073396413463, 0.10491341745516827, 0.414859677079487, 0.253525358215242, 0.18438207870199422, 0.046095519675498554, 0.09219103935099711, 0.8415169615847203, 0.7970185180220503, 0.7970196019107121, 0.8415289171469461, 0.7809738108026073, 0.7809734622359454, 0.9456051521142035, 0.8535713283982742, 0.20968321803814322, 0.11981898173608183, 0.1497737271701023, 0.05990949086804091, 0.20968321803814322, 0.1497737271701023, 0.08986423630206138, 0.1390983389062624, 0.0695491694531312, 0.0695491694531312, 0.1390983389062624, 0.1390983389062624, 0.347745847265656, 0.0695491694531312, 0.7906538022882273, 0.8991576994347299, 0.36083637648278766, 0.21048788628162615, 0.15034849020116153, 0.12027879216092922, 0.030069698040232306, 0.06013939608046461, 0.06013939608046461, 0.8415131333960095, 0.047113589645690984, 0.6595902550396737, 0.23556794822845492, 0.15357981447127095, 0.1023865429808473, 0.588722622139872, 0.12798317872605913, 0.7938538663391156, 0.10641766561037483, 0.21283533122074966, 0.6385059936622489, 0.672861855675148, 0.0841077319593935, 0.0841077319593935, 0.0841077319593935, 0.1942342197904888, 0.7769368791619552, 0.3108666856890711, 0.06217333713781422, 0.4352133599646995, 0.06217333713781422, 0.18652001141344265, 0.9374973901847437, 0.8415163364555721, 0.7938538659146821, 0.3272719687150858, 0.19636318122905147, 0.06545439374301716, 0.19636318122905147, 0.06545439374301716, 0.06545439374301716, 0.03272719687150858, 0.06545439374301716, 0.15415084538723228, 0.23122626808084842, 0.3853771134680807, 0.07707542269361614, 0.07707542269361614, 0.8991581918903108, 0.20427414823489537, 0.5515402002342176, 0.02042741482348954, 0.10213707411744768, 0.12256448894093723, 0.20130646942499644, 0.5815520227833231, 0.0894695419666651, 0.11183692745833136, 0.8415129967152456, 0.21849303211097665, 0.14566202140731777, 0.21849303211097665, 0.07283101070365888, 0.29132404281463553, 0.09847798373113978, 0.04923899186556989, 0.04923899186556989, 0.04923899186556989, 0.5416289105212687, 0.1723364715294946, 0.024619495932784945, 0.8344152566653887, 0.10430190708317359, 0.7938538663391156, 0.8910633291101778, 0.09720613300595247, 0.2916183990178574, 0.3888245320238099, 0.09720613300595247, 0.18405352973921157, 0.531710197024389, 0.04090078438649146, 0.06135117657973719, 0.06135117657973719, 0.12270235315947438, 0.8415129967152456, 0.8415129967152456, 0.8951962602582032, 0.15003909450007008, 0.7501954725003505, 0.8033304750724385, 0.8033304750724387, 0.0501165653901207, 0.4510490885110863, 0.0501165653901207, 0.2004662615604828, 0.1503496961703621, 0.0501165653901207, 0.11678286860042993, 0.8174800802030094, 0.7906539533098876, 0.7906530430995456, 0.717015931944522, 0.23900531064817399, 0.25874802949669184, 0.12937401474834592, 0.12937401474834592, 0.38812204424503777, 0.7970188863398666, 0.1190251906392327, 0.29756297659808173, 0.5356133578765471, 0.1483756375468462, 0.22256345632026933, 0.5935025501873848, 0.7906538022882273, 0.8905934879331782, 0.9533620362846275, 0.022171210146154127, 0.908853887833167, 0.9259108914247609, 0.9456002125692379, 0.8702315232508515, 0.08702315232508515, 0.8497797321640295, 0.8910656116621196, 0.8910656116621196, 0.3348135484931914, 0.5022203227397871, 0.7906537756811787, 0.7906538920179517, 0.05375976164159145, 0.8063964246238717, 0.1075195232831829, 0.9693319413638533, 0.8593490192248614, 0.08593490192248614, 0.9266710550887071, 0.9185549613201409, 0.9185549613201408, 0.6751868197162146, 0.07502075774624607, 0.07502075774624607, 0.15004151549249214, 0.8951977688456031, 0.8991587800791798, 0.797020327878569, 0.8787874906299673, 0.235918844529395, 0.3243884112279181, 0.1179594222646975, 0.029489855566174374, 0.14744927783087186, 0.14744927783087186, 0.9102956738548968, 0.5028179116586831, 0.5028179116586831, 0.9669262429964504, 0.027626464085612867, 0.9588357902001795, 0.9776130198249656, 0.7787241433076346, 0.0865249048119594, 0.0865249048119594, 0.84423905519444, 0.14070650919907332, 0.13275666399033886, 0.13275666399033886, 0.13275666399033886, 0.13275666399033886, 0.39826999197101665, 0.8548427420720727, 0.11684325793692045, 0.11684325793692045, 0.11684325793692045, 0.11684325793692045, 0.11684325793692045, 0.35052977381076134, 0.23716320951545045, 0.5533808222027177, 0.07905440317181682, 0.15810880634363364, 0.23605968897734442, 0.7081790669320333, 0.8033313184174197, 0.43591297253934747, 0.07265216208989124, 0.07265216208989124, 0.36326081044945624, 0.07265216208989124, 0.7170896793563063, 0.7938517098409165, 0.8525810613314798, 0.9124270106907721, 0.8033287156412975, 0.29436656145309087, 0.19624437430206057, 0.09812218715103029, 0.29436656145309087, 0.8033317469326134, 0.11379846600925791, 0.8250388785671199, 0.02844961650231448, 0.07087824416803307, 0.8505389300163968, 0.03543912208401653, 0.7809738107771167, 0.8991565365218883, 0.28767487646218004, 0.01917832509747867, 0.32603152665713736, 0.05753497529243601, 0.26849655136470135, 0.05753497529243601, 0.13273366529632008, 0.7964019917779205, 0.19404966020739334, 0.58214898062218, 0.8787889148885574, 0.8787889148885574, 0.05717756432363749, 0.8576634648545624, 0.06668661675647282, 0.8669260178341467, 0.7938538663015327, 0.7938538663015327, 0.38878681179191876, 0.10367648314451167, 0.2851103286474071, 0.10367648314451167, 0.05183824157225583, 0.07775736235838375, 0.7970188003360987, 0.7970188003360987, 0.9308247060727955, 0.13336624287764456, 0.8001974572658673, 0.14991040091271254, 0.7495520045635627, 0.39750988507937346, 0.5962648276190602, 0.43531999929898724, 0.24605043438638408, 0.09463478245630157, 0.07570782596504126, 0.018926956491260315, 0.05678086947378094, 0.05678086947378094, 0.853571327886441, 0.24039854582023437, 0.7211956374607031, 0.5980673520899592, 0.1993557840299864, 0.8951309650711249, 0.7970203278098142, 0.841512822325756, 0.1348967729838743, 0.8093806379032459, 0.9071985389989832, 0.8033289764435808, 0.8991569413726291, 0.7970196014817412, 0.3414026205101889, 0.5121039307652834, 0.790653891960083, 0.7970203924603292, 0.0746341135795048, 0.22390234073851437, 0.37317056789752395, 0.22390234073851437, 0.0746341135795048, 0.27523185129465083, 0.5504637025893017, 0.09174395043155029, 0.7809738108563528, 0.8951300742452782, 0.8951294477009264, 0.32823429604238796, 0.029839481458398903, 0.17903688875039342, 0.11935792583359561, 0.059678962916797806, 0.23871585166719123, 0.059678962916797806, 0.8415289171469728, 0.23087983008336052, 0.0461759660166721, 0.3694077281333768, 0.1385278980500163, 0.0923519320333442, 0.1385278980500163, 0.8033313187074349, 0.09630470301396114, 0.4333711635628252, 0.24076175753490286, 0.24076175753490286, 0.6672551730695216, 0.2859665027440807, 0.7938538663478201, 0.1612325819279265, 0.05608089806188748, 0.01402022451547187, 0.2383438167630218, 0.2874146025671733, 0.11216179612377496, 0.07010112257735934, 0.06309101031962341, 0.8415128211765116, 0.79065469628377, 0.7205332241225748, 0.899158012123055, 0.31007665935792234, 0.07751916483948058, 0.07751916483948058, 0.23255749451844174, 0.07751916483948058, 0.23255749451844174, 0.9471645043923188, 0.7938538662455724, 0.7938538662455724, 0.03818556495316566, 0.5345979093443193, 0.26729895467215964, 0.15274225981266265, 0.8014970751431169, 0.21241892065830467, 0.1770157672152539, 0.1770157672152539, 0.1770157672152539, 0.10620946032915234, 0.1416126137722031, 0.16870298208049944, 0.16870298208049944, 0.16870298208049944, 0.5061089462414984, 0.8033308175677996, 0.7342522149808721, 0.14685044299617442, 0.7813175246318034, 0.7938538651020147, 0.06313737372919671, 0.12627474745839343, 0.33673265988904916, 0.16836632994452458, 0.06313737372919671, 0.2315037036737213, 0.9318410477579301, 0.7970203081116691, 0.10708316285497894, 0.040156186070617106, 0.06692697678436184, 0.33463488392180923, 0.2141663257099579, 0.14723934892559606, 0.026770790713744736, 0.08031237214123421, 0.10902323002235624, 0.5451161501117812, 0.10902323002235624, 0.21804646004471248, 0.20027602516606222, 0.6008280754981866, 0.20027602516606222, 0.2413020657921061, 0.7239061973763183, 0.3993096894206219, 0.11646532608101472, 0.1497411335327332, 0.033275807451718487, 0.19965484471031095, 0.033275807451718487, 0.016637903725859243, 0.06655161490343697, 0.621622492873371, 0.2486489971493484, 0.09200504483545116, 0.5520302690127069, 0.09200504483545116, 0.18401008967090232, 0.8991586965358542, 0.84151509337724, 0.2924882000093263, 0.5849764000186526, 0.6849451996585911, 0.8787889621752383, 0.7809736216531639, 0.7906532840946732, 0.14909905957042172, 0.14909905957042172, 0.7454952978521087, 0.17025895553812323, 0.8512947776906162, 0.30893794214352427, 0.2317034566076432, 0.38617242767940535, 0.9377464501411081, 0.9116711452806157, 0.8033304077454105, 0.803330876995307, 0.8951303288118492, 0.7970201525479605, 0.5847348437135267, 0.3614725228238869, 0.3614725228238869, 0.2409816818825913, 0.8033287460417718, 0.2909774168476937, 0.14548870842384684, 0.07274435421192342, 0.43646612527154055, 0.854842839561575, 0.8787889148277297, 0.8033298538602536, 0.15101808151295038, 0.7550904075647519, 0.04623917386081302, 0.5086309124689432, 0.2774350431648781, 0.13871752158243905, 0.5629581617737934, 0.24126778361734005, 0.1608451890782267, 0.8910643683330006, 0.7906527612184133, 0.6737630976748973, 0.16844077441872432, 0.05510340731902579, 0.22041362927610317, 0.7163442951473353, 0.9276173647206415, 0.8112015147508956, 0.15727927015270346, 0.3931981753817586, 0.15727927015270346, 0.07863963507635173, 0.15727927015270346, 0.8033195875886806, 0.7938524775436565, 0.2831437368107336, 0.25659901148472736, 0.1415718684053668, 0.17696483550670852, 0.0707859342026834, 0.02654472532600628, 0.0353929671013417, 0.6455735591619354, 0.16139338979048384, 0.9374976011395354, 0.8991582417937934, 0.7970203931932541, 0.8535710829095418, 0.8535710829095418, 0.19342497558025948, 0.7736999023210379, 0.8033306939691456, 0.8991588146310615, 0.13738616172610965, 0.06869308086305483, 0.5495446469044386, 0.2060792425891645, 0.06869308086305483, 0.8787879494845949, 0.8098294115251128, 0.9088546578804123, 0.7567881418523369, 0.18919703546308422, 0.2418953179312209, 0.7256859537936627, 0.8535708004717923, 0.08825371123191612, 0.6177759786234128, 0.2647611336957484, 0.8851672597096806, 0.235114443851788, 0.705343331555364, 0.9460502368744543, 0.6573265933067477, 0.24649747249003037, 0.6573265731275256, 0.2464974649228221, 0.16158168950365304, 0.5251404908868723, 0.24237253425547955, 0.04039542237591326, 0.04039542237591326, 0.8535723770462852, 0.9456002586604958, 0.8512501496473357, 0.8548466861188317, 0.7056751676652012, 0.1283045759391275, 0.19245686390869124, 0.39371035764365153, 0.5905655364654773, 0.7638644724347063, 0.19096611810867659, 0.8548450076651788, 0.7938536658597001, 0.23102440496712195, 0.09240976198684879, 0.27722928596054636, 0.046204880993424395, 0.27722928596054636, 0.046204880993424395, 0.046204880993424395, 0.8033315047409413, 0.85484384715826, 0.14087173396775754, 0.16435035629571715, 0.516529691215111, 0.04695724465591918, 0.011739311163979796, 0.04695724465591918, 0.05869655581989898, 0.9471603377690065, 0.9471603377690065, 0.8535713276205612, 0.8535713276205612, 0.7083244787436057, 0.14166489574872115, 0.8548429810789948, 0.09443551191384277, 0.8499196072245848, 0.8415128973446092, 0.8904403565204448, 0.8662741309708433, 0.7906517979318173, 0.23931586065960053, 0.7179475819788016, 0.8787888570525133, 0.8787888570525133, 0.45137063319764154, 0.5416447598371699, 0.8548418009595488, 0.8951295962603456, 0.1314486133914335, 0.1314486133914335, 0.525794453565734, 0.1314486133914335, 0.7970203930697984, 0.7970203930697984, 0.073607565919255, 0.44164539551553006, 0.29443026367702, 0.0368037829596275, 0.0368037829596275, 0.073607565919255, 0.0368037829596275, 0.8535715338877812, 0.18911464806640288, 0.66190126823241, 0.09455732403320144, 0.1138676220623138, 0.6832057323738827, 0.1138676220623138, 0.7906533919030003, 0.7906533919030003, 0.07834554405676297, 0.7834554405676297, 0.07834554405676297, 0.039172772028381486, 0.8548427420720726, 0.9445105277050335, 0.8548426550046208, 0.09533724725364243, 0.5720234835218546, 0.19067449450728485, 0.09533724725364243, 0.24160469305931262, 0.7248140791779378, 0.44766583574337293, 0.17906633429734917, 0.17906633429734917, 0.13429975072301187, 0.04476658357433729, 0.7970194785983261, 0.7906539318410812, 0.5107007393832459, 0.2234315734801701, 0.0957563886343586, 0.03191879621145287, 0.06383759242290574, 0.06383759242290574, 0.7938513030659394, 0.8787868191704384, 0.8415293959041918, 0.28876191488425174, 0.5775238297685035, 0.8415133363217, 0.8787900088959982, 0.22149540437713439, 0.4060749080247464, 0.0369159007295224, 0.22149540437713439, 0.11074770218856719, 0.8033306939691456, 0.8787885472970257, 0.05308769871316611, 0.23889464420924753, 0.5308769871316612, 0.026543849356583056, 0.05308769871316611, 0.07963154806974918, 0.8535713276205612, 0.9455997370470364, 0.8548429434236526, 0.1758709780493084, 0.31115634577954565, 0.24351366191442703, 0.06087841547860676, 0.09469975741116607, 0.033821341932559305, 0.06087841547860676, 0.013528536773023724, 0.8661811205182843, 0.3925083398276437, 0.5887625097414656, 0.5681270054037415, 0.3098874574929499, 0.10329581916431663, 0.8415234435084895, 0.49785080983619917, 0.028047932948518265, 0.07713181560842522, 0.14725164797972087, 0.007011983237129566, 0.16127561445398003, 0.049083882659906965, 0.028047932948518265, 0.7906487537357604, 0.14608607176375663, 0.8765164305825398, 0.1942342197904888, 0.7769368791619552, 0.5784468004213744, 0.07887910914836924, 0.1840512546795282, 0.07887910914836924, 0.052586072765579486, 0.052586072765579486, 0.9471610292640732, 0.1754298242605091, 0.058476608086836364, 0.3800979525644364, 0.3508596485210182, 0.029238304043418182, 0.8415853297970425, 0.8951284990967004, 0.717306553105219, 0.03775297647922205, 0.2265178588753323, 0.8415133480567879, 0.8415129714832028, 0.14889136039146864, 0.5955654415658745, 0.14889136039146864, 0.0737748697478332, 0.0737748697478332, 0.47953665336091583, 0.11066230462174981, 0.0737748697478332, 0.0737748697478332, 0.11066230462174981, 0.07890809035182496, 0.5523566324627748, 0.2367242710554749, 0.15781618070364992, 0.7809741688147893, 0.7970201525480817, 0.13994734922632562, 0.13994734922632562, 0.2099210238394884, 0.48981572229213965, 0.7938538663452062, 0.8505742761549451, 0.8505742761549451, 0.21485296774373713, 0.6445589032312115, 0.10742648387186857, 0.14119872798977662, 0.7059936399488831, 0.1980174373975776, 0.5940523121927328, 0.12100315496478647, 0.4537618311179493, 0.09075236622358986, 0.09075236622358986, 0.06050157748239324, 0.1815047324471797], \"Term\": [\"11\", \"11\", \"11\", \"11\", \"11 interview\", \"11 interview\", \"1on1\", \"ab\", \"ab\", \"ab\", \"ab\", \"ab\", \"ab testing\", \"ab testing\", \"ab testing\", \"ab testing\", \"ab testing survey\", \"administrative\", \"analysis\", \"analysis\", \"analysis\", \"analysis\", \"analysis\", \"analysis\", \"analysis\", \"analysis\", \"analysis data\", \"analyst\", \"analyst report\", \"analytics\", \"analytics\", \"analytics\", \"analytics\", \"analytics\", \"analytics\", \"analytics\", \"analytics\", \"analytics google\", \"analytics survey\", \"analytics survey\", \"analytics survey\", \"analytics survey\", \"behalf\", \"build\", \"card\", \"card\", \"card\", \"card\", \"card\", \"card sort\", \"card sort\", \"card sort\", \"card sort tree\", \"card sorting\", \"card sorting\", \"card sorting\", \"card sorting\", \"card sorting\", \"click\", \"click test\", \"cocreation\", \"cocreation\", \"cocreation\", \"cocreation\", \"cocreation\", \"cocreation workshop\", \"cocreation workshop\", \"codesign\", \"codesign\", \"codesign\", \"codesign\", \"competitive\", \"competitive\", \"competitive\", \"competitive analysis\", \"competitive analysis\", \"competitive research\", \"concept\", \"concept\", \"concept\", \"concept\", \"concept\", \"concept\", \"concept\", \"concept feedback\", \"concept testing\", \"concept testing\", \"concept testing\", \"concept testing\", \"concept testing\", \"concept testing usability\", \"concept validation\", \"concept validation usability\", \"conduct\", \"conduct\", \"contextual\", \"contextual\", \"contextual\", \"contextual\", \"contextual\", \"contextual\", \"contextual enquiry\", \"contextual inquiry\", \"contextual inquiry interview\", \"contextual inquiry usability\", \"contextual interview\", \"contextual interview\", \"contextual interview\", \"contextual interview usability\", \"customer\", \"customer\", \"customer\", \"customer\", \"customer\", \"customer\", \"customer\", \"customer interview\", \"customer interview\", \"customer interview\", \"customer user\", \"data\", \"data\", \"data\", \"data\", \"data\", \"data\", \"data analysis\", \"data analysis\", \"data analysis\", \"data analysis\", \"data analysis data\", \"data science\", \"data science\", \"decision\", \"decision\", \"decision\", \"decision\", \"design\", \"design\", \"design\", \"design\", \"design\", \"design\", \"design\", \"design product\", \"design research\", \"design research\", \"design research\", \"design thinking service\", \"desk\", \"desk\", \"desk\", \"desk\", \"desk\", \"desk\", \"desk research\", \"desk research\", \"desk research\", \"desk research\", \"desk research\", \"desk research\", \"diary\", \"diary\", \"diary\", \"diary\", \"diary\", \"diary study\", \"diary study\", \"diary study\", \"diary study\", \"diary study\", \"diary study card\", \"diary study contextual\", \"diary study observation\", \"direction\", \"discussion\", \"doing research\", \"enquiry\", \"ethno\", \"ethnographic\", \"ethnographic\", \"ethnographic\", \"ethnographic\", \"ethnographic\", \"ethnographic\", \"ethnographic\", \"ethnographic research\", \"ethnographic research\", \"ethnographic research\", \"ethnographic research\", \"ethnographic research\", \"ethnographic research\", \"ethnographic research\", \"ethnographic research indepth\", \"ethnographic research interview\", \"ethnography\", \"ethnography\", \"ethnography\", \"ethnography\", \"ethnography\", \"ethnography\", \"ethnography\", \"ethnography user\", \"evaluation\", \"evaluation\", \"evaluation\", \"evaluative\", \"evaluative\", \"evaluative\", \"evaluative\", \"evaluative contextual\", \"evaluative research\", \"evaluative research\", \"evaluative research\", \"experience\", \"experience\", \"experience\", \"experience\", \"experience research\", \"experience research\", \"exploratory\", \"exploratory\", \"exploratory\", \"exploratory\", \"exploratory\", \"eye tracking\", \"eyetracking\", \"facetoface\", \"field\", \"field\", \"field\", \"field\", \"field\", \"field\", \"field\", \"field\", \"field study\", \"field study\", \"field study\", \"field study\", \"field study\", \"finding\", \"focus\", \"focus\", \"focus\", \"focus\", \"focus\", \"focus group\", \"focus group\", \"focus group\", \"focus group\", \"focus group user\", \"foundational\", \"foundational\", \"foundational\", \"foundational\", \"foundational\", \"generative\", \"generative\", \"generative\", \"generative\", \"generative\", \"generative\", \"generative\", \"generative evaluative\", \"generative evaluative\", \"generative evaluative contextual\", \"generative evaluative research\", \"generative research\", \"generative research\", \"generative research\", \"generative research\", \"group\", \"group\", \"group\", \"group\", \"group\", \"group\", \"group user\", \"group user interview\", \"heavy\", \"help\", \"help\", \"help make\", \"help make decision\", \"heuristic\", \"heuristic\", \"heuristic\", \"heuristic\", \"heuristic\", \"heuristic\", \"heuristic evaluation\", \"heuristic evaluation\", \"hypothesis testing\", \"ia\", \"idis\", \"idis\", \"including\", \"including\", \"including\", \"including\", \"incontext\", \"indepth\", \"indepth\", \"indepth\", \"indepth interview\", \"indepth interview\", \"indepth interview\", \"indepth interview cocreation\", \"indepth interview focus\", \"inquiry\", \"inquiry\", \"inquiry interview\", \"inquiry usability\", \"inquiry usability testing\", \"interview card\", \"interview card\", \"interview card sorting\", \"interview cocreation\", \"interview cocreation workshop\", \"interview concept\", \"interview concept\", \"interview concept feedback\", \"interview concept validation\", \"interview contextual\", \"interview contextual\", \"interview contextual\", \"interview contextual inquiry\", \"interview diary\", \"interview diary\", \"interview diary study\", \"interview focus\", \"interview focus group\", \"interview observation\", \"interview observation\", \"interview observation\", \"interview observation\", \"interview observation usability\", \"interview secondary\", \"interview secondary research\", \"interview shadowing\", \"interview survey\", \"interview survey\", \"interview survey\", \"interview survey\", \"interview survey\", \"interview survey\", \"interview survey card\", \"interview survey usability\", \"interview survey usability\", \"interview usability\", \"interview usability\", \"interview usability test\", \"interview usability testing\", \"interview user\", \"interview user\", \"interview user\", \"interview user testing\", \"interview user testing\", \"interviewing\", \"interviewing\", \"interviewing\", \"interviewing\", \"interviewing\", \"jack\", \"kind\", \"kind\", \"kind\", \"kind\", \"kind\", \"kind\", \"lab\", \"lab\", \"lab\", \"lab\", \"large\", \"large\", \"lean ux\", \"like\", \"like\", \"like\", \"like\", \"like\", \"little\", \"little bit\", \"make\", \"make decision\", \"make sure\", \"map\", \"map\", \"map\", \"map\", \"map journey\", \"market\", \"market\", \"market\", \"market research\", \"market research\", \"market research\", \"market research analytics\", \"mean\", \"method\", \"method\", \"method\", \"method\", \"method\", \"method\", \"metric\", \"metric\", \"mix\", \"mix\", \"mix qualitative\", \"mix qualitative quantitative\", \"mixed\", \"mixed\", \"mixed method\", \"mixed method\", \"mixedmethods\", \"mixedmethods research\", \"moderated\", \"moderated\", \"moderated\", \"moderated\", \"moderated\", \"moderated\", \"moderated concept\", \"moderated concept testing\", \"moderated remote\", \"moderated usability\", \"moderated usability\", \"moderated usability testing\", \"moderated usability testing\", \"needed\", \"needed\", \"observation\", \"observation\", \"observation\", \"observation\", \"observation\", \"observation\", \"observation\", \"observation usability testing\", \"observing\", \"observing\", \"opportunity\", \"opportunity\", \"org\", \"organisation\", \"paper\", \"participant\", \"participant\", \"participant observation\", \"participant observation interview\", \"people\", \"planning\", \"poll\", \"poll\", \"possible\", \"predominantly\", \"primarily\", \"primarily\", \"primarily\", \"primarily\", \"primarily\", \"primary\", \"primary\", \"primary\", \"primary qualitative research\", \"primary research\", \"primary secondary\", \"product\", \"product\", \"product\", \"product\", \"product\", \"product\", \"product\", \"product direction\", \"prototype\", \"prototype\", \"prototype\", \"prototype\", \"prototype\", \"prototype\", \"prototype interview\", \"qual\", \"qual\", \"qual\", \"qual\", \"qual quant\", \"qual quant\", \"qual user\", \"qualitative\", \"qualitative\", \"qualitative\", \"qualitative\", \"qualitative\", \"qualitative\", \"qualitative\", \"qualitative\", \"qualitative 11\", \"qualitative desk\", \"qualitative generative\", \"qualitative generative evaluative\", \"qualitative interview\", \"qualitative interview\", \"qualitative interview\", \"qualitative interview\", \"qualitative interview\", \"qualitative interview\", \"qualitative method\", \"qualitative mixed\", \"qualitative mixed method\", \"qualitative quantitative\", \"qualitative quantitative\", \"qualitative quantitative\", \"qualitative quantitative\", \"qualitative quantitative research\", \"qualitative research\", \"qualitative research\", \"qualitative research\", \"qualitative research\", \"qualitative research\", \"qualitative research\", \"qualitative usability\", \"qualitative usability\", \"qualitative usability\", \"qualitative usability\", \"qualitative usability study\", \"qualitative user\", \"qualitative user\", \"qualitative user research\", \"qualquant\", \"quant\", \"quant\", \"quant\", \"quant\", \"quant\", \"quant\", \"quant qual\", \"quant research\", \"quantitative\", \"quantitative\", \"quantitative\", \"quantitative\", \"quantitative\", \"quantitative\", \"quantitative\", \"quantitative\", \"quantitative qualitative\", \"quantitative qualitative\", \"quantitative qualitative\", \"quantitative qualitative\", \"quantitative research\", \"quantitative research\", \"quantitative research\", \"question\", \"question\", \"remote\", \"remote\", \"remote\", \"remote\", \"remote\", \"remote\", \"remote\", \"remote\", \"remote interview\", \"remote interview\", \"remote moderated\", \"remote moderated\", \"remote moderated\", \"remote moderated\", \"remote moderated usability\", \"remote user\", \"report\", \"report\", \"research concept\", \"research data\", \"research evaluation\", \"research generative research\", \"research indepth\", \"research indepth\", \"research indepth\", \"research indepth interview\", \"research indepth interview\", \"research interview\", \"research interview\", \"research interview\", \"research market\", \"research market research\", \"research observational\", \"research participant observation\", \"research primarily\", \"research remote\", \"research study\", \"research survey\", \"research survey\", \"research survey\", \"research trend\", \"research usability\", \"research usability\", \"research usability\", \"research usability\", \"research usability test\", \"research ux\", \"rite\", \"science\", \"science\", \"secondary\", \"secondary\", \"secondary\", \"secondary\", \"secondary research\", \"secondary research\", \"secondary research\", \"service design\", \"shadowing quantitative\", \"small\", \"small\", \"sort\", \"sort\", \"sort\", \"sort tree\", \"sort tree test\", \"sorting\", \"sorting\", \"sorting\", \"sorting\", \"sorting\", \"source\", \"spectrum\", \"study\", \"study\", \"study\", \"study\", \"study\", \"study\", \"study\", \"study card\", \"study card\", \"study concept\", \"study contextual\", \"study contextual interview\", \"study diary\", \"study diary study\", \"study interview\", \"study interview\", \"study moderated\", \"study observation\", \"study survey\", \"study survey\", \"study survey\", \"study survey\", \"study survey\", \"study survey interview\", \"study usability\", \"study usability testing\", \"summative\", \"summative\", \"sure\", \"sure\", \"survey analytics\", \"survey card\", \"survey card\", \"survey card\", \"survey card sort\", \"survey card sorting\", \"survey card sorting\", \"survey contextual inquiry\", \"survey focus\", \"survey focus\", \"survey focus group\", \"survey focus group\", \"survey interview\", \"survey interview\", \"survey interview\", \"survey interview\", \"survey interview\", \"survey interview contextual\", \"survey interview focus\", \"survey interview usability\", \"survey questionnaire\", \"survey usability\", \"survey usability\", \"survey usability\", \"survey usability test\", \"survey usability test\", \"survey usability testing\", \"survey usability testing\", \"survey user interview\", \"survey workshop\", \"team\", \"team\", \"team\", \"team\", \"team\", \"team\", \"team\", \"technology\", \"telemetry\", \"test\", \"test\", \"test\", \"test\", \"test\", \"test\", \"test\", \"test card\", \"test card sort\", \"test contextual\", \"test contextual inquiry\", \"test interview\", \"test interview\", \"test observation\", \"test survey\", \"test survey\", \"testing competitive\", \"testing concept\", \"testing concept testing\", \"testing content\", \"testing contextual\", \"testing contextual\", \"testing heuristic\", \"testing heuristic evaluation\", \"testing interview\", \"testing interview\", \"testing interview card\", \"testing little\", \"testing moderated\", \"testing moderated\", \"testing moderated\", \"testing moderated\", \"testing secondary\", \"testing secondary research\", \"testing survey\", \"testing survey\", \"testing survey\", \"testing survey\", \"testing survey\", \"testing survey\", \"testing survey\", \"testing survey interview\", \"testing usability\", \"testing usability\", \"testing usability\", \"testing usability testing\", \"testing usability testing\", \"testing usability testing\", \"thinking service\", \"thinking service design\", \"tree\", \"tree\", \"tree\", \"tree\", \"tree jack\", \"tree test\", \"tree test card\", \"tree testing\", \"tree testing\", \"tree testing\", \"tree testing\", \"trend\", \"trend\", \"type\", \"type\", \"type\", \"type\", \"type\", \"type qualitative\", \"understanding\", \"unmoderated\", \"unmoderated\", \"unmoderated\", \"unmoderated\", \"unmoderated\", \"unmoderated\", \"unmoderated moderated\", \"unmoderated task\", \"unmoderated testing\", \"unmoderated usability\", \"unmoderated usability\", \"unmoderated user\", \"usability foundational\", \"usability study\", \"usability study\", \"usability study\", \"usability study\", \"usability study\", \"usability study moderated\", \"usability study survey\", \"usability test\", \"usability test\", \"usability test\", \"usability test\", \"usability test\", \"usability test\", \"usability test contextual\", \"usability test interview\", \"usability test survey\", \"usability testing\", \"usability testing\", \"usability testing\", \"usability testing\", \"usability testing\", \"usability testing\", \"usability testing\", \"usability testing\", \"usability testing concept\", \"usability testing interview\", \"usability testing interview\", \"usability testing survey\", \"usability testing survey\", \"usability testing survey\", \"used\", \"user\", \"user\", \"user\", \"user\", \"user\", \"user\", \"user\", \"user\", \"user analytics\", \"user experience\", \"user experience\", \"user experience research\", \"user experience research\", \"user interview\", \"user interview\", \"user interview\", \"user interview\", \"user interview\", \"user interview\", \"user interview usability\", \"user research\", \"user research\", \"user research\", \"user research\", \"user research\", \"user research market\", \"user research usability\", \"user testing\", \"user testing\", \"user testing\", \"user testing ab\", \"usertestingcom\", \"using\", \"using\", \"using\", \"ux\", \"ux\", \"ux\", \"ux\", \"ux\", \"ux\", \"ux\", \"ux research\", \"ux research\", \"ux research\", \"ux research\", \"ux research market\", \"ux research qualitative\", \"validation\", \"validation\", \"validation\", \"validation\", \"validation research\", \"validation usability\", \"validation usability testing\", \"various\", \"various\", \"various\", \"web\", \"web\", \"website\", \"website\", \"workshop\", \"workshop\", \"workshop\", \"workshop\", \"workshop\", \"workshop\"]}, \"R\": 30, \"lambda.step\": 0.01, \"plot.opts\": {\"xlab\": \"PC1\", \"ylab\": \"PC2\"}, \"topic.order\": [5, 7, 1, 4, 2, 3, 8, 6]};\n",
       "\n",
       "function LDAvis_load_lib(url, callback){\n",
       "  var s = document.createElement('script');\n",
       "  s.src = url;\n",
       "  s.async = true;\n",
       "  s.onreadystatechange = s.onload = callback;\n",
       "  s.onerror = function(){console.warn(\"failed to load library \" + url);};\n",
       "  document.getElementsByTagName(\"head\")[0].appendChild(s);\n",
       "}\n",
       "\n",
       "if(typeof(LDAvis) !== \"undefined\"){\n",
       "   // already loaded: just create the visualization\n",
       "   !function(LDAvis){\n",
       "       new LDAvis(\"#\" + \"ldavis_el351921121917857443065943245\", ldavis_el351921121917857443065943245_data);\n",
       "   }(LDAvis);\n",
       "}else if(typeof define === \"function\" && define.amd){\n",
       "   // require.js is available: use it to load d3/LDAvis\n",
       "   require.config({paths: {d3: \"https://cdnjs.cloudflare.com/ajax/libs/d3/3.5.5/d3.min\"}});\n",
       "   require([\"d3\"], function(d3){\n",
       "      window.d3 = d3;\n",
       "      LDAvis_load_lib(\"https://cdn.rawgit.com/bmabey/pyLDAvis/files/ldavis.v1.0.0.js\", function(){\n",
       "        new LDAvis(\"#\" + \"ldavis_el351921121917857443065943245\", ldavis_el351921121917857443065943245_data);\n",
       "      });\n",
       "    });\n",
       "}else{\n",
       "    // require.js not available: dynamically load d3 & LDAvis\n",
       "    LDAvis_load_lib(\"https://cdnjs.cloudflare.com/ajax/libs/d3/3.5.5/d3.min.js\", function(){\n",
       "         LDAvis_load_lib(\"https://cdn.rawgit.com/bmabey/pyLDAvis/files/ldavis.v1.0.0.js\", function(){\n",
       "                 new LDAvis(\"#\" + \"ldavis_el351921121917857443065943245\", ldavis_el351921121917857443065943245_data);\n",
       "            })\n",
       "         });\n",
       "}\n",
       "</script>"
      ],
      "text/plain": [
       "PreparedData(topic_coordinates=              x         y  topics  cluster       Freq\n",
       "topic                                                \n",
       "4     -0.011842 -0.039677       1        1  20.866838\n",
       "6     -0.188003  0.077821       2        1  18.169333\n",
       "0     -0.118130 -0.179439       3        1  15.655769\n",
       "3      0.114983 -0.082813       4        1  12.037993\n",
       "1      0.053824  0.073519       5        1   9.321655\n",
       "2      0.146373 -0.005998       6        1   8.950844\n",
       "7     -0.030685  0.090955       7        1   8.103198\n",
       "5      0.033480  0.065632       8        1   6.894370, topic_info=     Category        Freq                 Term       Total  loglift  logprob\n",
       "659   Default  142.000000          qualitative  142.000000  30.0000  30.0000\n",
       "123   Default   44.000000   contextual inquiry   44.000000  29.0000  29.0000\n",
       "369   Default   45.000000              inquiry   45.000000  28.0000  28.0000\n",
       "442   Default   36.000000  interview usability   36.000000  27.0000  27.0000\n",
       "501   Default   35.000000               market   35.000000  26.0000  26.0000\n",
       "...       ...         ...                  ...         ...      ...      ...\n",
       "864    Topic8    4.055186                study  113.016803  -0.6531  -4.8843\n",
       "1173   Topic8    3.319480                   ux   27.109502   0.5744  -5.0845\n",
       "647    Topic8    3.165945            prototype   21.656288   0.7516  -5.1319\n",
       "537    Topic8    3.319112            moderated   38.581556   0.2214  -5.0846\n",
       "560    Topic8    3.188460          observation   52.834696  -0.1332  -5.1248\n",
       "\n",
       "[513 rows x 6 columns], token_table=      Topic      Freq          Term\n",
       "term                               \n",
       "0         1  0.662689            11\n",
       "0         5  0.094670            11\n",
       "0         7  0.094670            11\n",
       "0         8  0.094670            11\n",
       "3         1  0.756783  11 interview\n",
       "...     ...       ...           ...\n",
       "1207      2  0.453762      workshop\n",
       "1207      3  0.090752      workshop\n",
       "1207      5  0.090752      workshop\n",
       "1207      6  0.060502      workshop\n",
       "1207      7  0.181505      workshop\n",
       "\n",
       "[882 rows x 3 columns], R=30, lambda_step=0.01, plot_opts={'xlab': 'PC1', 'ylab': 'PC2'}, topic_order=[5, 7, 1, 4, 2, 3, 8, 6])"
      ]
     },
     "execution_count": 82,
     "metadata": {},
     "output_type": "execute_result"
    }
   ],
   "source": [
    "pyLDAvis.sklearn.prepare(lda6, types_res_used_matrix, types_res_used_vector)"
   ]
  },
  {
   "cell_type": "code",
   "execution_count": 85,
   "metadata": {},
   "outputs": [],
   "source": [
    "blob = pd.read_csv('topics.csv')"
   ]
  },
  {
   "cell_type": "code",
   "execution_count": 87,
   "metadata": {},
   "outputs": [
    {
     "data": {
      "text/plain": [
       "(726, 28)"
      ]
     },
     "execution_count": 87,
     "metadata": {},
     "output_type": "execute_result"
    }
   ],
   "source": [
    "blob.shape"
   ]
  },
  {
   "cell_type": "code",
   "execution_count": null,
   "metadata": {},
   "outputs": [],
   "source": []
  }
 ],
 "metadata": {
  "kernelspec": {
   "display_name": "Python 3",
   "language": "python",
   "name": "python3"
  },
  "language_info": {
   "codemirror_mode": {
    "name": "ipython",
    "version": 3
   },
   "file_extension": ".py",
   "mimetype": "text/x-python",
   "name": "python",
   "nbconvert_exporter": "python",
   "pygments_lexer": "ipython3",
   "version": "3.7.3"
  }
 },
 "nbformat": 4,
 "nbformat_minor": 2
}

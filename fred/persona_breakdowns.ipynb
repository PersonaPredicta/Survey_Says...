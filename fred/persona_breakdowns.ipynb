{
 "cells": [
  {
   "cell_type": "code",
   "execution_count": 1,
   "metadata": {},
   "outputs": [],
   "source": [
    "import sys\n",
    "sys.path.append('../')\n",
    "import wrangle\n",
    "import explore\n",
    "import nlp"
   ]
  },
  {
   "cell_type": "code",
   "execution_count": 12,
   "metadata": {},
   "outputs": [],
   "source": [
    "import pandas as pd"
   ]
  },
  {
   "cell_type": "code",
   "execution_count": 3,
   "metadata": {},
   "outputs": [],
   "source": [
    "df, data_dict = wrangle.wrangle_data()"
   ]
  },
  {
   "cell_type": "code",
   "execution_count": 4,
   "metadata": {},
   "outputs": [],
   "source": [
    "df = explore.add_target_to_df(df)"
   ]
  },
  {
   "cell_type": "code",
   "execution_count": 6,
   "metadata": {},
   "outputs": [
    {
     "data": {
      "text/plain": [
       "Index(['job_title', 'job_taxo', 'job_id', 'job_conduct_res', 'job_analyze_res',\n",
       "       'job_buy_res_report', 'job_manage_res_proj', 'job_observe_res',\n",
       "       'job_plan_res', 'job_teach_res', 'job_advocate_res',\n",
       "       'job_hire_res_vendor', 'job_lead_res_team', 'num_employees',\n",
       "       'company_small', 'company_med', 'company_large', 'num_researchers',\n",
       "       'num_res_small', 'num_res_med', 'num_res_large', 'primary_industry',\n",
       "       'types_res_used', 'future_res', 'exp_conduct_res', 'exp_analyze_res',\n",
       "       'exp_buy_res_report', 'exp_manage_res_proj', 'exp_observe_res',\n",
       "       'exp_plan_res', 'exp_teach_res', 'exp_advocate_res',\n",
       "       'exp_hire_res_vendor', 'exp_lead_res_team', 'research_educ',\n",
       "       'research_educ_cat', 'research_educ_desc', 'learning_talks',\n",
       "       'learning_read', 'learning_meetup', 'learning_workshop',\n",
       "       'learning_conference', 'likely_watch_video', 'likely_internet',\n",
       "       'likely_book', 'likely_online_group', 'likely_colleague',\n",
       "       'likely_meetup', 'likely_conference', 'likely_workshop',\n",
       "       'factor_speaker', 'factor_diverse_speak', 'factor_topics',\n",
       "       'factor_format_sessions', 'factor_size', 'factor_network',\n",
       "       'factor_variety_attend', 'factor_code', 'factor_location',\n",
       "       'factor_ability_to_pay', 'how_pick_events', 'best_event',\n",
       "       'events_attend_recent', 'ideal_conference_size',\n",
       "       'ideal_conference_size_cat', 'ideal_conf_workshop', 'ideal_conf_small',\n",
       "       'ideal_conf_med', 'ideal_conf_large', 'ideal_structure',\n",
       "       'ideal_structure_cat', 'ideal_multi_track', 'ideal_single_track',\n",
       "       'ideal_unconference', 'session_keynote', 'session_long_talk',\n",
       "       'session_short_talk', 'session_workshop', 'session_network',\n",
       "       'session_social_event', 'session_qa', 'sesson_topic_tables',\n",
       "       'other_conference_types', 'ideal_topics', 'ideal_attendees',\n",
       "       'recommendations', 'persona_id', 'target', 'targetb'],\n",
       "      dtype='object')"
      ]
     },
     "execution_count": 6,
     "metadata": {},
     "output_type": "execute_result"
    }
   ],
   "source": [
    "df.columns"
   ]
  },
  {
   "cell_type": "code",
   "execution_count": 11,
   "metadata": {},
   "outputs": [
    {
     "data": {
      "text/plain": [
       "targetb\n",
       "0    354\n",
       "1    372\n",
       "Name: persona_id, dtype: int64"
      ]
     },
     "execution_count": 11,
     "metadata": {},
     "output_type": "execute_result"
    }
   ],
   "source": [
    "df.groupby('targetb').persona_id.count()"
   ]
  },
  {
   "cell_type": "code",
   "execution_count": 13,
   "metadata": {},
   "outputs": [
    {
     "data": {
      "text/html": [
       "<div>\n",
       "<style scoped>\n",
       "    .dataframe tbody tr th:only-of-type {\n",
       "        vertical-align: middle;\n",
       "    }\n",
       "\n",
       "    .dataframe tbody tr th {\n",
       "        vertical-align: top;\n",
       "    }\n",
       "\n",
       "    .dataframe thead th {\n",
       "        text-align: right;\n",
       "    }\n",
       "</style>\n",
       "<table border=\"1\" class=\"dataframe\">\n",
       "  <thead>\n",
       "    <tr style=\"text-align: right;\">\n",
       "      <th>targetb</th>\n",
       "      <th>0</th>\n",
       "      <th>1</th>\n",
       "    </tr>\n",
       "    <tr>\n",
       "      <th>persona_id</th>\n",
       "      <th></th>\n",
       "      <th></th>\n",
       "    </tr>\n",
       "  </thead>\n",
       "  <tbody>\n",
       "    <tr>\n",
       "      <th>1</th>\n",
       "      <td>32</td>\n",
       "      <td>62</td>\n",
       "    </tr>\n",
       "    <tr>\n",
       "      <th>2</th>\n",
       "      <td>50</td>\n",
       "      <td>73</td>\n",
       "    </tr>\n",
       "    <tr>\n",
       "      <th>3</th>\n",
       "      <td>118</td>\n",
       "      <td>116</td>\n",
       "    </tr>\n",
       "    <tr>\n",
       "      <th>4</th>\n",
       "      <td>94</td>\n",
       "      <td>87</td>\n",
       "    </tr>\n",
       "    <tr>\n",
       "      <th>5</th>\n",
       "      <td>60</td>\n",
       "      <td>34</td>\n",
       "    </tr>\n",
       "  </tbody>\n",
       "</table>\n",
       "</div>"
      ],
      "text/plain": [
       "targetb       0    1\n",
       "persona_id          \n",
       "1            32   62\n",
       "2            50   73\n",
       "3           118  116\n",
       "4            94   87\n",
       "5            60   34"
      ]
     },
     "execution_count": 13,
     "metadata": {},
     "output_type": "execute_result"
    }
   ],
   "source": [
    "pd.crosstab(df.persona_id, df.targetb)"
   ]
  },
  {
   "cell_type": "code",
   "execution_count": null,
   "metadata": {},
   "outputs": [],
   "source": []
  }
 ],
 "metadata": {
  "kernelspec": {
   "display_name": "Python 3",
   "language": "python",
   "name": "python3"
  },
  "language_info": {
   "codemirror_mode": {
    "name": "ipython",
    "version": 3
   },
   "file_extension": ".py",
   "mimetype": "text/x-python",
   "name": "python",
   "nbconvert_exporter": "python",
   "pygments_lexer": "ipython3",
   "version": "3.7.3"
  }
 },
 "nbformat": 4,
 "nbformat_minor": 2
}

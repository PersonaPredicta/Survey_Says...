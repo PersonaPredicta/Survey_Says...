{
 "cells": [
  {
   "cell_type": "code",
   "execution_count": 1,
   "metadata": {},
   "outputs": [],
   "source": [
    "import sys\n",
    "sys.path.append('../')\n",
    "import wrangle\n",
    "\n",
    "import nlp"
   ]
  },
  {
   "cell_type": "code",
   "execution_count": 2,
   "metadata": {},
   "outputs": [],
   "source": [
    "from sklearn.decomposition import LatentDirichletAllocation\n",
    "from sklearn.feature_extraction.text import CountVectorizer\n",
    "import pandas as pd\n",
    "import numpy as np"
   ]
  },
  {
   "cell_type": "code",
   "execution_count": 3,
   "metadata": {},
   "outputs": [],
   "source": [
    "pd.set_option('display.max_columns', None)\n",
    "\n",
    "df, data_dict = wrangle.wrangle_data()"
   ]
  },
  {
   "cell_type": "code",
   "execution_count": 4,
   "metadata": {},
   "outputs": [],
   "source": [
    "big_df = pd.read_csv('topics.csv', index_col=False)"
   ]
  },
  {
   "cell_type": "code",
   "execution_count": 5,
   "metadata": {},
   "outputs": [],
   "source": [
    "big_df.drop('Unnamed: 0', axis=1,inplace=True)"
   ]
  },
  {
   "cell_type": "code",
   "execution_count": 8,
   "metadata": {},
   "outputs": [],
   "source": [
    "mod_exp = big_df[big_df.persona_id == 4]"
   ]
  },
  {
   "cell_type": "code",
   "execution_count": 33,
   "metadata": {},
   "outputs": [
    {
     "data": {
      "text/plain": [
       "(181, 31)"
      ]
     },
     "execution_count": 33,
     "metadata": {},
     "output_type": "execute_result"
    }
   ],
   "source": [
    "mod_exp.shape"
   ]
  },
  {
   "cell_type": "markdown",
   "metadata": {},
   "source": [
    "# Moderately Experienced\n",
    "## What topics would they be most attracted to at a conference about research?\n",
    "\n",
    "q21 ideal_topics\n"
   ]
  },
  {
   "cell_type": "code",
   "execution_count": 18,
   "metadata": {},
   "outputs": [],
   "source": [
    "stop_words = ['like', 'plus', 'real', 'love', 'big', 'avoiding', 'mean', 'content', 'people', 'problem', \n",
    "              'doing', 'using','research', 'work', 'don', 'make', 'conference', 'good', 'best', 'self', 'report']"
   ]
  },
  {
   "cell_type": "code",
   "execution_count": 19,
   "metadata": {},
   "outputs": [],
   "source": [
    "stopWords = nlp.set_stop_words(stop_words)"
   ]
  },
  {
   "cell_type": "markdown",
   "metadata": {},
   "source": [
    "### keywords"
   ]
  },
  {
   "cell_type": "code",
   "execution_count": 23,
   "metadata": {},
   "outputs": [
    {
     "data": {
      "text/plain": [
       "['mixed',\n",
       " 'method',\n",
       " 'approach',\n",
       " 'artifact',\n",
       " 'design',\n",
       " 'presentation',\n",
       " 'mixed method',\n",
       " 'method approach',\n",
       " 'question',\n",
       " 'data',\n",
       " 'influencing',\n",
       " 'leadership',\n",
       " 'management',\n",
       " 'global',\n",
       " 'leading',\n",
       " 'team',\n",
       " 'way',\n",
       " 'plan',\n",
       " 'support',\n",
       " 'skill']"
      ]
     },
     "execution_count": 23,
     "metadata": {},
     "output_type": "execute_result"
    }
   ],
   "source": [
    "#words\n",
    "nlp.show_column_keywords(mod_exp.ideal_topics_text, max_df=.5, stop_words=stopWords, ngram_range=(1,3))"
   ]
  },
  {
   "cell_type": "code",
   "execution_count": 22,
   "metadata": {},
   "outputs": [
    {
     "data": {
      "text/plain": [
       "['mixed method',\n",
       " 'method approach',\n",
       " 'leading team',\n",
       " 'product development',\n",
       " 'large organization',\n",
       " 'ops case',\n",
       " 'case study',\n",
       " 'ops case study',\n",
       " 'product team',\n",
       " 'method analysis',\n",
       " 'analysis method',\n",
       " 'study practice',\n",
       " 'case study practice',\n",
       " 'business strategy',\n",
       " 'new method',\n",
       " 'career path',\n",
       " 'design product',\n",
       " 'structure team',\n",
       " 'working product',\n",
       " 'agile product']"
      ]
     },
     "execution_count": 22,
     "metadata": {},
     "output_type": "execute_result"
    }
   ],
   "source": [
    "#bi-grams\n",
    "nlp.show_column_keywords(mod_exp.ideal_topics_text, max_df=.5, stop_words=stopWords, ngram_range=(2,3))"
   ]
  },
  {
   "cell_type": "markdown",
   "metadata": {},
   "source": [
    "### topics"
   ]
  },
  {
   "cell_type": "code",
   "execution_count": 24,
   "metadata": {},
   "outputs": [
    {
     "data": {
      "text/plain": [
       "case_study                  65\n",
       "new_method, mixed_method    48\n",
       "quant/qual/data             40\n",
       "ops/ai                      28\n",
       "Name: ideal_topics_topic_id, dtype: int64"
      ]
     },
     "execution_count": 24,
     "metadata": {},
     "output_type": "execute_result"
    }
   ],
   "source": [
    "mod_exp.ideal_topics_topic_id.value_counts()"
   ]
  },
  {
   "cell_type": "markdown",
   "metadata": {},
   "source": [
    "## Who would they expect to see at a conference about research?\n",
    "\n",
    "q22 Ideal Attendees"
   ]
  },
  {
   "cell_type": "code",
   "execution_count": 11,
   "metadata": {},
   "outputs": [],
   "source": [
    "stop_words = ['like', 'plus', 'real', 'love', 'big', 'avoiding', 'mean', 'content', 'people', 'problem', \n",
    "              'doing', 'using','research', 'work', 'don', 'make', 'conference']"
   ]
  },
  {
   "cell_type": "code",
   "execution_count": 12,
   "metadata": {},
   "outputs": [],
   "source": [
    "stopWords = nlp.set_stop_words(stop_words)"
   ]
  },
  {
   "cell_type": "code",
   "execution_count": 25,
   "metadata": {},
   "outputs": [
    {
     "data": {
      "text/plain": [
       "['steve',\n",
       " 'portigal',\n",
       " 'steve portigal',\n",
       " 'genevieve',\n",
       " 'young',\n",
       " 'graduate',\n",
       " 'importantly',\n",
       " 'client',\n",
       " 'experience',\n",
       " 'startup',\n",
       " 'consumer',\n",
       " 'manager',\n",
       " 'researcher',\n",
       " 'present',\n",
       " 'case',\n",
       " 'study',\n",
       " 'case study',\n",
       " 'jared',\n",
       " 'spool',\n",
       " 'team']"
      ]
     },
     "execution_count": 25,
     "metadata": {},
     "output_type": "execute_result"
    }
   ],
   "source": [
    "#terms\n",
    "nlp.show_column_keywords(mod_exp.ideal_attendees_text, max_df=.5, stop_words=stopWords)"
   ]
  },
  {
   "cell_type": "code",
   "execution_count": 26,
   "metadata": {},
   "outputs": [
    {
     "data": {
      "text/plain": [
       "['steve portigal',\n",
       " 'case study',\n",
       " 'jared spool',\n",
       " 'spool steve',\n",
       " 'organisation google',\n",
       " 'google facebook',\n",
       " 'jared spool steve',\n",
       " 'spool steve portigal',\n",
       " 'small large',\n",
       " 'public sector',\n",
       " 'queer color',\n",
       " 'present perspective',\n",
       " 'design team',\n",
       " 'leader field',\n",
       " 'sam ladner',\n",
       " 'leisa reichelt',\n",
       " 'reichelt erika',\n",
       " 'erika hall',\n",
       " 'leisa reichelt erika',\n",
       " 'reichelt erika hall']"
      ]
     },
     "execution_count": 26,
     "metadata": {},
     "output_type": "execute_result"
    }
   ],
   "source": [
    "#bigrams\n",
    "nlp.show_column_keywords(mod_exp.ideal_attendees_text, max_df=.5, stop_words=stopWords, ngram_range=(2,3))"
   ]
  },
  {
   "cell_type": "code",
   "execution_count": 27,
   "metadata": {},
   "outputs": [
    {
     "data": {
      "text/plain": [
       "industry, team, product    95\n",
       "indi young                 34\n",
       "sam ladner, erika hall     27\n",
       "experience, jared spool    25\n",
       "Name: ideal_attendees_topic_id, dtype: int64"
      ]
     },
     "execution_count": 27,
     "metadata": {},
     "output_type": "execute_result"
    }
   ],
   "source": [
    "mod_exp.ideal_attendees_topic_id.value_counts()"
   ]
  },
  {
   "cell_type": "markdown",
   "metadata": {},
   "source": [
    "## What advice do they have for the Rosenfeld Media team in pursuing a conference?\n",
    "q23 recommendations"
   ]
  },
  {
   "cell_type": "code",
   "execution_count": 28,
   "metadata": {},
   "outputs": [
    {
     "data": {
      "text/plain": [
       "['read',\n",
       " 'book',\n",
       " 'learn',\n",
       " 'lecture',\n",
       " 'hand',\n",
       " 'help',\n",
       " 'run',\n",
       " 'workshop',\n",
       " 'career',\n",
       " 'sure',\n",
       " 'design',\n",
       " 'difficult',\n",
       " 'business',\n",
       " 'approach',\n",
       " 'try',\n",
       " 'teach',\n",
       " 'case',\n",
       " 'away',\n",
       " 'world',\n",
       " 'fun']"
      ]
     },
     "execution_count": 28,
     "metadata": {},
     "output_type": "execute_result"
    }
   ],
   "source": [
    "#words\n",
    "nlp.show_column_keywords(mod_exp.recommendations_text, max_df=.9, stop_words=stopWords, ngram_range=(1,7))"
   ]
  },
  {
   "cell_type": "code",
   "execution_count": 29,
   "metadata": {},
   "outputs": [
    {
     "data": {
      "text/plain": [
       "['interesting way',\n",
       " 'consider bringing',\n",
       " 'ticket price',\n",
       " 'price point',\n",
       " 'product manager',\n",
       " 'practical application',\n",
       " 'industry background',\n",
       " 'hand activity',\n",
       " 'speaker new',\n",
       " 'great idea',\n",
       " 'thought leader',\n",
       " 'talk workshop',\n",
       " 'person hear',\n",
       " 'informed consent',\n",
       " 'participant time',\n",
       " 'north america']"
      ]
     },
     "execution_count": 29,
     "metadata": {},
     "output_type": "execute_result"
    }
   ],
   "source": [
    "#ngrams\n",
    "nlp.show_column_keywords(mod_exp.recommendations_text, max_df=.9, stop_words=stopWords, ngram_range=(2,7))"
   ]
  },
  {
   "cell_type": "code",
   "execution_count": 30,
   "metadata": {},
   "outputs": [
    {
     "data": {
      "text/plain": [
       "speaker, industry      84\n",
       "event, opportunity     29\n",
       "good, know             26\n",
       "group, career, city    25\n",
       "field, survery         17\n",
       "Name: recommendations_topic_id, dtype: int64"
      ]
     },
     "execution_count": 30,
     "metadata": {},
     "output_type": "execute_result"
    }
   ],
   "source": [
    "mod_exp.recommendations_topic_id.value_counts()"
   ]
  },
  {
   "cell_type": "markdown",
   "metadata": {},
   "source": [
    "## Top Documents per Topic"
   ]
  },
  {
   "cell_type": "code",
   "execution_count": 31,
   "metadata": {},
   "outputs": [
    {
     "data": {
      "text/plain": [
       "LatentDirichletAllocation(batch_size=128, doc_topic_prior=None,\n",
       "                          evaluate_every=-1, learning_decay=0.7,\n",
       "                          learning_method='batch', learning_offset=10.0,\n",
       "                          max_doc_update_iter=100, max_iter=10,\n",
       "                          mean_change_tol=0.001, n_components=4, n_jobs=None,\n",
       "                          perp_tol=0.1, random_state=42, topic_word_prior=None,\n",
       "                          total_samples=1000000.0, verbose=0)"
      ]
     },
     "execution_count": 31,
     "metadata": {},
     "output_type": "execute_result"
    }
   ],
   "source": [
    "doc_term_matrix, count_vect = nlp.create_wordcount_matrix(mod_exp.recommendations_text, max_df=.3, ngram=(1,3), stop_words=stopWords)\n",
    "\n",
    "LDA = LatentDirichletAllocation(n_components=4, random_state=42)\n",
    "\n",
    "LDA.fit(doc_term_matrix)"
   ]
  },
  {
   "cell_type": "code",
   "execution_count": null,
   "metadata": {},
   "outputs": [],
   "source": [
    "recommendations_dict = {0 : 'speaker, industry', \n",
    "                        1 : 'event, opportunity', \n",
    "                        2 : 'good, know', \n",
    "                        3 : 'field, survery', \n",
    "                        4 : 'group, career, city'}"
   ]
  },
  {
   "cell_type": "code",
   "execution_count": 32,
   "metadata": {},
   "outputs": [
    {
     "name": "stdout",
     "output_type": "stream",
     "text": [
      "Top 5 Documents for Topic 0: \n",
      "\n",
      "Document 1\n",
      "I realize this is challenging but cost matters so try to keep it low. In some cases, I've paid for things myself because the company hasn't paid for it. I wish more event planners would consider regular everyday job blow who can't pay thousands to go to a conference, especially if they need to travel too. \n",
      "\n",
      "Document 2\n",
      "Make it a mix of workshops and talks and try to avoid the tired \"advocate for the user\", \"be empathetic\" user research rallying cries of yore. That stuff is boring and meaningless. Explore research ethics and design justice, informed consent, and what it means to scale user research in organisations and why it's difficult.\n",
      "\n",
      "Document 3\n",
      "Have a well-written code of conduct.\n",
      "Share materials (slides, talks) afterward as much as possible. Having access to these allows researchers to socialize what we learned within our orgs.\n",
      "Cater to more experienced researchers - there are already so many places to learn methods and basics but very few opportunities for more advance practitioners to learn new things.\n",
      "\n",
      "\n",
      "Document 4\n",
      "1. Make it affordable. It's hard for UXR at smaller companies to justify core expenses, let alone conferences\n",
      "\n",
      "2. Hold sessions on controversial topics (like directional v. statistically significant surveys or democratizing research)\n",
      "\n",
      "3. Restrict it to practicing, professional researchers. At my career stage, I'm looking to learn from professionals, not people trying to break in (though I was that person very recently!)\n",
      "\n",
      "4. Hold a session with speakers who did not get advanced degrees or study research in school\n",
      "\n",
      "Document 5\n",
      "I like conferences that have a clear point of view. I also think that the quality of a conference is not necessarily determined by how much it cost by how much the organizers consider the details of the conference.diversity is extremely important. If I see another stage or another organizing group of a bunch of white men I swear... Are they even trying? I frequently find that if an organizing group is a homogeneous group the stage mirrors that group and I'm not interested in hearing about a single perspective from a bunch of people who are very very similar. The value of conferences for me wise in all of the diversity of perspectives and inclusion of people.\n",
      "\n",
      "Top 5 Documents for Topic 1: \n",
      "\n",
      "Document 1\n",
      "Conference funding isn't necessarily guaranteed in my organization. If I'm going to make the argument for taking the time and money to attend something, I want to know (or trust) that I'll come back with some new method or approach or insight appropriate to my position as an advanced individual contributor\n",
      "\n",
      "Document 2\n",
      "Provide areas where people can network when they don't want to sit in panels, do plenty of hand on activities and make sure there is enough room for attendees to get in, provide materials that make it so we can take what we learned and apply it after the conference. I am terrible at taking notes during talks - ironic I know for a researcher.\n",
      "\n",
      "Document 3\n",
      "Focus on case studies and stories. This way we scratch the itch around methods and tools, but we get the details around working with stakeholders, internal politics, fiascos, etc.\n",
      "Don't mix research ops with research practice.\n",
      "Don't include talks about esoteric or off-the-beaten path topics (like self-care) that leave people saying \"That was interesting, but I have no way of incorporating that into my work/I don't know what to do with that.\" Make it all practical.\n",
      "\n",
      "Document 4\n",
      "I do and direct a LOT of research and so do the product managers at my company but none of us are \"researchers.\" We have a very small team of researcher that make tools for designers and PMs to use to conduct research on their on, and doing research is just part of the DNA of everyone building products. I personally think it works significantly better than any company I've been at where there's a big research team.\n",
      "\n",
      "I don't know if this is a common set up but if it is I would encourage you not to miss out on this demographic by only focusing on companies with big dedicated research teams.\n",
      "\n",
      "Document 5\n",
      "My goal is to provide constructive criticism, so apologies in advance for being blunt. I hope you can use it to succeed in your hypothetical plans. I've been bugged from end to end with the anchors you chose to use in your survey.\n",
      "I have no idea how you're going to understand the data you've collected, especially since I have no idea how i was supposed understand the question. What does neutral do in the middle? Why is something at best somewhat important, but can't be slightly important? I may be picky and perfectionist, but it bothers me a lot. So hypothetically, if you were to organise a conference on research, my advice would be to start by gaining credibility in the field. As someone who's never heard the name before, I don't know who you are, why you care and this survey doesn't seem to indicate you're an expert in the field, unfortunately - despite thanking people for proof-reading / pilot testing this survey... \n",
      "\n",
      "Top 5 Documents for Topic 2: \n",
      "\n",
      "Document 1\n",
      "JUST DO IT!\n",
      "\n",
      "Even though I have been conducting research for 3 years, I still have a lot of doubts about whether I did the right thing or got the right information to the team. I think it would be awesome if the said hypothetical conference can in some way provide guidance to young researchers to let us know that we are doing alright, or course correct if necessary. So I guess some sort of mentorship? But that's solutioning already...\n",
      "\n",
      "Document 2\n",
      "The deeper you go into the subject matter the better. A lot of research literature is either design adjacent or academic. Focusing on a research practitioners day-to-day, someone that is in a software company or an agency or a startup, would be super helpful. Anything that helps me grow my skills and competencies to ultimately be a better researcher.\n",
      "\n",
      "Document 3\n",
      "Think outside the typical conference box. Allow for more discussion and deep dives on actual research studies. As a participant I want to engage and create take-aways and artifacts that I can share with colleagues when I get back to work. I don't mind getting homework to complete. I want to network through structured activities. I want to stay connected to fellow participants over time and continue discussions until the next \"conference\". \n",
      "\n",
      "Document 4\n",
      "I've noticed there's a trend for Social Psychologists in an academic field, UX Designers wanting more of an impact into the research process, and even Product Managers being tasked with research (within a product context). Something that would attract all of audiences, not just those already with a UX Design background.\n",
      "\n",
      "I would actually appreciate vendors that gave demos of the tools. As a practitioner sometimes our view is either limited, or if we engage with a sales person we never hear the end of it. It's almost a low pressure way to get access to the same content.\n",
      "\n",
      "I recently attended a conference where there were no organized after conference activities and it was the worst. I was quite disappointed.\n",
      "\n",
      "I would prefer a shorter conference (2-3 days rather than a full week), and the option to mix and match sessions. Sometimes the full track suffers from weaker content and I can see my $ being wasted away. \n",
      "\n",
      "\n",
      "\n",
      "Document 5\n",
      "I'd like a lot of discussion around the business of research; I'd hope that it would be set up in a non-intimidating format where people could genuinely learn from each other and be able to have meaningful conversation that helps researchers to advance their own practices. If we had all of those brilliant heads in the room I mentioned above, I think a panel talking about the future of research would be fascinating as well. It would also be interesting to have a talk somewhere about remote research or the intersection of research roles and the remote workforce (that is just especially relevant to me). I would also hope that there was a nice blend of qual/quant, or maybe separate tracks for each that people could interweave between. If there is a design research focus, in particular, I think a nice balance of generative and evaluative would be important as well. And last but not least, it could be cool to explore via a workshop or something the areas of the world that we see ripe with opportunity for research to have an impact (outside of the traditional software product team scope).\n",
      "\n",
      "Top 5 Documents for Topic 3: \n",
      "\n",
      "Document 1\n",
      "Go for it. I read most a lot of your books and the level is never upsetting. Don’t fall in the trap of sponsoring talks which are mere adds in a talk form and give the micro and freedom to top researchers presenting high-quality content instead. I’d love to attend.\n",
      "\n",
      "Document 2\n",
      "Please consider virtual attendance for those who cannot make it in person! Maybe there could be a lesser fee to pay for virtual attendees and we can join in on certain talks or at least get immediate audio recordings? I know it would require informed consent of speaker(s) involved and there may be technical feasibility issues, but often conferences are pushed to the wayside because of other priorities. \n",
      "\n",
      "Document 3\n",
      "I'd like to see both qual and quant represented. I'd love to see one big intersection of research, industries and backgrounds. I'd be interested in a conference that went beyond talks or workshops per se. I'd be interested in creative ways to involve all attendees in idea exchange. Then, somehow synthesize data/themes from those \"micro\" exchanges and report on those. Not sure what that would entail, but something like that would interest me.  \n",
      "\n",
      "Document 4\n",
      "The two conferences I have attended in the past year have been on the smaller side (250-500 attendees), have been 1 or 2 days, and had built-in networking times with a social hour after. Both of these conferences (UX Burlington and Talk UX) were nicely intimate, and you could eat lunch with the speakers if you were lucky to sit at the same table as them. Lot's of food options for folks with food sensitivities and allergies is always appreciated! Most conferences default to the sandwich/wrap/salad option, but I always say conferences should consider a burrito bar. \n",
      "\n",
      "Document 5\n",
      "Find fun ways to let researchers act as researchees in interesting ways. Floating between the two could be fun. Build empathy from both sides.\n",
      "\n",
      "I'd also consider bringing in some random topics. Opera. Bookbinding. NASA water systems. I read an article years back about a leading designer who was being asked about how he kept engaged with his craft. He said he studies \"other\" things. He'd take ballroom dancing, or read about physics, or any non-subject related topics. Inevitably he'd find inspiration in those topics while reflecting on design tasks.  We're creatures of analogy. Setting up learning experiences where we can let individuals connect the dots between seemingly unrelated topics can be exhilarating!  \n",
      "\n",
      "Think Mixed tastes: \n",
      "\n",
      "https://mcadenver.org/events/series/mixed-taste-dcpa-2019\n",
      "\n"
     ]
    }
   ],
   "source": [
    "nlp.find_top_documents_per_topic(LDA.transform(doc_term_matrix), mod_exp.recommendations_text, 5)"
   ]
  },
  {
   "cell_type": "code",
   "execution_count": null,
   "metadata": {},
   "outputs": [],
   "source": []
  }
 ],
 "metadata": {
  "kernelspec": {
   "display_name": "Python 3",
   "language": "python",
   "name": "python3"
  },
  "language_info": {
   "codemirror_mode": {
    "name": "ipython",
    "version": 3
   },
   "file_extension": ".py",
   "mimetype": "text/x-python",
   "name": "python",
   "nbconvert_exporter": "python",
   "pygments_lexer": "ipython3",
   "version": "3.7.3"
  }
 },
 "nbformat": 4,
 "nbformat_minor": 2
}

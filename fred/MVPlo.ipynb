{
 "cells": [
  {
   "cell_type": "code",
   "execution_count": 1,
   "metadata": {},
   "outputs": [],
   "source": [
    "import sys\n",
    "sys.path.append('../')\n",
    "import wrangle\n",
    "import explore\n",
    "import nlp"
   ]
  },
  {
   "cell_type": "code",
   "execution_count": 2,
   "metadata": {},
   "outputs": [],
   "source": [
    "from sklearn.decomposition import LatentDirichletAllocation\n",
    "from sklearn.feature_extraction.text import CountVectorizer\n",
    "import pandas as pd\n",
    "import numpy as np"
   ]
  },
  {
   "cell_type": "code",
   "execution_count": 3,
   "metadata": {},
   "outputs": [],
   "source": [
    "def find_word_counts(input_column, max_df=.3, min_df=2, ngram_range=(1,3), stop_words='english'):\n",
    "    input_column = input_column.dropna().apply(nlp.basic_clean)\n",
    "    input_column = input_column.apply(nlp.lemmatize)\n",
    "    cv = CountVectorizer(max_df=max_df, min_df=min_df, stop_words=stop_words, ngram_range=ngram_range)   \n",
    "    cv_fit=cv.fit_transform(input_column)    \n",
    "    word_list = cv.get_feature_names()    \n",
    "    count_list = cv_fit.toarray().sum(axis=0)\n",
    "    word_counts = {'word_list': word_list, 'count_list': count_list}\n",
    "    df_word_count = pd.DataFrame(data=word_counts)\n",
    "    return df_word_count"
   ]
  },
  {
   "cell_type": "code",
   "execution_count": 4,
   "metadata": {},
   "outputs": [],
   "source": [
    "job_taxo_dict = {\n",
    "    1: \"UX Researcher\",\n",
    "    6: \"Reseaerch and Design Manager\",\n",
    "    2: \"UX Designer\",\n",
    "    5: \"Specialist\",\n",
    "    7: \"Consultant\",\n",
    "    8: \"Executive\",\n",
    "    4: \"Research Specialist\",\n",
    "    3: \"Academic\",\n",
    "    9: \"Other\"\n",
    "}"
   ]
  },
  {
   "cell_type": "code",
   "execution_count": 5,
   "metadata": {},
   "outputs": [],
   "source": [
    "pd.set_option('display.max_columns', None)\n",
    "\n",
    "df, data_dict = wrangle.wrangle_data()"
   ]
  },
  {
   "cell_type": "code",
   "execution_count": 6,
   "metadata": {},
   "outputs": [],
   "source": [
    "df = explore.add_target_to_df(df)\n",
    "\n",
    "targetB = df.targetb\n",
    "\n",
    "targetB = targetB.reset_index().drop('resp_id',axis=1)\n",
    "\n",
    "job_taxo = df.job_taxo.map(job_taxo_dict)\n",
    "\n",
    "job_taxo = job_taxo.reset_index().drop('resp_id',axis=1)\n",
    "\n",
    "big_df = pd.read_csv('topics.csv', index_col=False)\n",
    "\n",
    "big_df.drop('Unnamed: 0', axis=1,inplace=True)\n",
    "\n",
    "big_df['targetB'] = targetB\n",
    "\n",
    "big_df['job_taxo'] = job_taxo\n",
    "\n",
    "likely = big_df[big_df.targetB == 1]"
   ]
  },
  {
   "cell_type": "code",
   "execution_count": 7,
   "metadata": {},
   "outputs": [
    {
     "data": {
      "text/plain": [
       "(372, 33)"
      ]
     },
     "execution_count": 7,
     "metadata": {},
     "output_type": "execute_result"
    }
   ],
   "source": [
    "likely.shape"
   ]
  },
  {
   "cell_type": "code",
   "execution_count": 8,
   "metadata": {},
   "outputs": [],
   "source": [
    "stop_words = ['like', 'plus', 'real', 'love', 'big', 'avoiding', 'mean', 'content', 'people', 'problem', \n",
    "              'doing', 'using','research', 'work', 'don', 'make', 'conference', 'yes', 've', 'ha', '300']\n",
    "\n",
    "stopWords = nlp.set_stop_words(stop_words)"
   ]
  },
  {
   "cell_type": "markdown",
   "metadata": {},
   "source": [
    "# Respondents Likely To Go"
   ]
  },
  {
   "cell_type": "markdown",
   "metadata": {},
   "source": [
    "## Sentiment"
   ]
  },
  {
   "cell_type": "code",
   "execution_count": 9,
   "metadata": {},
   "outputs": [
    {
     "data": {
      "text/plain": [
       "0.22151873416100337"
      ]
     },
     "execution_count": 9,
     "metadata": {},
     "output_type": "execute_result"
    }
   ],
   "source": [
    "likely.big_answer.apply(nlp.find_polarity).mean()"
   ]
  },
  {
   "cell_type": "code",
   "execution_count": 10,
   "metadata": {},
   "outputs": [
    {
     "data": {
      "text/plain": [
       "0.4278503728167686"
      ]
     },
     "execution_count": 10,
     "metadata": {},
     "output_type": "execute_result"
    }
   ],
   "source": [
    "likely.big_answer.apply(nlp.find_subjectivity).mean()"
   ]
  },
  {
   "cell_type": "markdown",
   "metadata": {},
   "source": [
    "## TOTAL KEYWORDS"
   ]
  },
  {
   "cell_type": "code",
   "execution_count": 11,
   "metadata": {},
   "outputs": [
    {
     "data": {
      "text/plain": [
       "['sort',\n",
       " 'psychology',\n",
       " 'professional',\n",
       " 'depending',\n",
       " 'connection',\n",
       " 'researchresearch',\n",
       " 'method',\n",
       " 'statistic',\n",
       " 'training',\n",
       " 'undergraduate',\n",
       " 'graduate',\n",
       " 'cost',\n",
       " 'timing',\n",
       " 'away',\n",
       " 'time',\n",
       " 'scheduling',\n",
       " 'workshop',\n",
       " 'small',\n",
       " 'intimate',\n",
       " 'international']"
      ]
     },
     "execution_count": 11,
     "metadata": {},
     "output_type": "execute_result"
    }
   ],
   "source": [
    "nlp.show_column_keywords(likely.big_answer, max_df=.8, stop_words=stopWords, ngram_range=(1,3))"
   ]
  },
  {
   "cell_type": "code",
   "execution_count": 12,
   "metadata": {},
   "outputs": [
    {
     "data": {
      "text/html": [
       "<div>\n",
       "<style scoped>\n",
       "    .dataframe tbody tr th:only-of-type {\n",
       "        vertical-align: middle;\n",
       "    }\n",
       "\n",
       "    .dataframe tbody tr th {\n",
       "        vertical-align: top;\n",
       "    }\n",
       "\n",
       "    .dataframe thead th {\n",
       "        text-align: right;\n",
       "    }\n",
       "</style>\n",
       "<table border=\"1\" class=\"dataframe\">\n",
       "  <thead>\n",
       "    <tr style=\"text-align: right;\">\n",
       "      <th></th>\n",
       "      <th>word_list</th>\n",
       "      <th>count_list</th>\n",
       "    </tr>\n",
       "  </thead>\n",
       "  <tbody>\n",
       "    <tr>\n",
       "      <th>428</th>\n",
       "      <td>emerges want</td>\n",
       "      <td>18</td>\n",
       "    </tr>\n",
       "    <tr>\n",
       "      <th>154</th>\n",
       "      <td>bring schedule</td>\n",
       "      <td>18</td>\n",
       "    </tr>\n",
       "    <tr>\n",
       "      <th>87</th>\n",
       "      <td>attendee bring schedule</td>\n",
       "      <td>18</td>\n",
       "    </tr>\n",
       "    <tr>\n",
       "      <th>1105</th>\n",
       "      <td>schedule emerges want</td>\n",
       "      <td>18</td>\n",
       "    </tr>\n",
       "    <tr>\n",
       "      <th>1116</th>\n",
       "      <td>service design</td>\n",
       "      <td>24</td>\n",
       "    </tr>\n",
       "    <tr>\n",
       "      <th>272</th>\n",
       "      <td>conduct researchphd</td>\n",
       "      <td>24</td>\n",
       "    </tr>\n",
       "    <tr>\n",
       "      <th>1259</th>\n",
       "      <td>taught conduct researchphd</td>\n",
       "      <td>24</td>\n",
       "    </tr>\n",
       "    <tr>\n",
       "      <th>15</th>\n",
       "      <td>300500 attendeessingletrack attendee</td>\n",
       "      <td>25</td>\n",
       "    </tr>\n",
       "    <tr>\n",
       "      <th>14</th>\n",
       "      <td>300500 attendeessingletrack</td>\n",
       "      <td>25</td>\n",
       "    </tr>\n",
       "    <tr>\n",
       "      <th>170</th>\n",
       "      <td>case study</td>\n",
       "      <td>31</td>\n",
       "    </tr>\n",
       "    <tr>\n",
       "      <th>20</th>\n",
       "      <td>50 attendeesmultitrack attendee</td>\n",
       "      <td>39</td>\n",
       "    </tr>\n",
       "    <tr>\n",
       "      <th>19</th>\n",
       "      <td>50 attendeesmultitrack</td>\n",
       "      <td>39</td>\n",
       "    </tr>\n",
       "    <tr>\n",
       "      <th>22</th>\n",
       "      <td>50 attendeessingletrack attendee</td>\n",
       "      <td>40</td>\n",
       "    </tr>\n",
       "    <tr>\n",
       "      <th>21</th>\n",
       "      <td>50 attendeessingletrack</td>\n",
       "      <td>40</td>\n",
       "    </tr>\n",
       "    <tr>\n",
       "      <th>119</th>\n",
       "      <td>available timeslotsnananana</td>\n",
       "      <td>44</td>\n",
       "    </tr>\n",
       "    <tr>\n",
       "      <th>888</th>\n",
       "      <td>option available timeslotsnananana</td>\n",
       "      <td>44</td>\n",
       "    </tr>\n",
       "    <tr>\n",
       "      <th>1234</th>\n",
       "      <td>taught conduct researchi</td>\n",
       "      <td>51</td>\n",
       "    </tr>\n",
       "    <tr>\n",
       "      <th>223</th>\n",
       "      <td>conduct researchi</td>\n",
       "      <td>52</td>\n",
       "    </tr>\n",
       "    <tr>\n",
       "      <th>13</th>\n",
       "      <td>300500 attendeesmultitrack attendee</td>\n",
       "      <td>71</td>\n",
       "    </tr>\n",
       "    <tr>\n",
       "      <th>12</th>\n",
       "      <td>300500 attendeesmultitrack</td>\n",
       "      <td>73</td>\n",
       "    </tr>\n",
       "  </tbody>\n",
       "</table>\n",
       "</div>"
      ],
      "text/plain": [
       "                                 word_list  count_list\n",
       "428                           emerges want          18\n",
       "154                         bring schedule          18\n",
       "87                 attendee bring schedule          18\n",
       "1105                 schedule emerges want          18\n",
       "1116                        service design          24\n",
       "272                    conduct researchphd          24\n",
       "1259            taught conduct researchphd          24\n",
       "15    300500 attendeessingletrack attendee          25\n",
       "14             300500 attendeessingletrack          25\n",
       "170                             case study          31\n",
       "20         50 attendeesmultitrack attendee          39\n",
       "19                  50 attendeesmultitrack          39\n",
       "22        50 attendeessingletrack attendee          40\n",
       "21                 50 attendeessingletrack          40\n",
       "119            available timeslotsnananana          44\n",
       "888     option available timeslotsnananana          44\n",
       "1234              taught conduct researchi          51\n",
       "223                      conduct researchi          52\n",
       "13     300500 attendeesmultitrack attendee          71\n",
       "12              300500 attendeesmultitrack          73"
      ]
     },
     "execution_count": 12,
     "metadata": {},
     "output_type": "execute_result"
    }
   ],
   "source": [
    "big_answer_df = find_word_counts(likely.big_answer, max_df=.2, stop_words=stopWords, ngram_range=(2,3))\n",
    "big_answer_df.sort_values(by='count_list').tail(20)"
   ]
  },
  {
   "cell_type": "markdown",
   "metadata": {},
   "source": [
    "## Most Common Job Titles"
   ]
  },
  {
   "cell_type": "code",
   "execution_count": 13,
   "metadata": {},
   "outputs": [
    {
     "data": {
      "image/png": "[encoded data removed]",
      "text/plain": [
       "<Figure size 432x288 with 1 Axes>"
      ]
     },
     "metadata": {
      "needs_background": "light"
     },
     "output_type": "display_data"
    }
   ],
   "source": [
    "ax = likely.job_taxo.value_counts(ascending=True).plot.barh(legend=False,\n",
    "                                                       color=\"#00297f\",\n",
    "                                                       title=\"Most Common Job Titles\")\n",
    "ax.yaxis.set_label_text(\"\")\n",
    "ax.spines['top'].set_visible(False)\n",
    "ax.spines['right'].set_visible(False)\n",
    "ax.spines['left'].set_visible(False)\n",
    "ax.spines['bottom'].set_visible(False)"
   ]
  },
  {
   "cell_type": "markdown",
   "metadata": {},
   "source": [
    "## What does your company do?\n",
    "\n",
    "q5 primary industry"
   ]
  },
  {
   "cell_type": "markdown",
   "metadata": {},
   "source": [
    "### keywords"
   ]
  },
  {
   "cell_type": "code",
   "execution_count": 14,
   "metadata": {},
   "outputs": [
    {
     "data": {
      "text/plain": [
       "['higher',\n",
       " 'education',\n",
       " 'higher education',\n",
       " 'university',\n",
       " 'ed',\n",
       " 'tech',\n",
       " 'healthcare',\n",
       " 'government',\n",
       " 'public',\n",
       " 'service',\n",
       " 'public service',\n",
       " 'academic',\n",
       " 'development',\n",
       " 'science',\n",
       " 'learning',\n",
       " 'health',\n",
       " 'software',\n",
       " 'user',\n",
       " 'experience',\n",
       " 'user experience']"
      ]
     },
     "execution_count": 14,
     "metadata": {},
     "output_type": "execute_result"
    }
   ],
   "source": [
    "nlp.show_column_keywords(likely.prim_ind_text, max_df=.5, stop_words=stopWords, ngram_range=(1,3))"
   ]
  },
  {
   "cell_type": "code",
   "execution_count": 15,
   "metadata": {},
   "outputs": [
    {
     "data": {
      "text/html": [
       "<div>\n",
       "<style scoped>\n",
       "    .dataframe tbody tr th:only-of-type {\n",
       "        vertical-align: middle;\n",
       "    }\n",
       "\n",
       "    .dataframe tbody tr th {\n",
       "        vertical-align: top;\n",
       "    }\n",
       "\n",
       "    .dataframe thead th {\n",
       "        text-align: right;\n",
       "    }\n",
       "</style>\n",
       "<table border=\"1\" class=\"dataframe\">\n",
       "  <thead>\n",
       "    <tr style=\"text-align: right;\">\n",
       "      <th></th>\n",
       "      <th>word_list</th>\n",
       "      <th>count_list</th>\n",
       "    </tr>\n",
       "  </thead>\n",
       "  <tbody>\n",
       "    <tr>\n",
       "      <th>77</th>\n",
       "      <td>retail</td>\n",
       "      <td>15</td>\n",
       "    </tr>\n",
       "    <tr>\n",
       "      <th>82</th>\n",
       "      <td>service</td>\n",
       "      <td>16</td>\n",
       "    </tr>\n",
       "    <tr>\n",
       "      <th>42</th>\n",
       "      <td>government</td>\n",
       "      <td>18</td>\n",
       "    </tr>\n",
       "    <tr>\n",
       "      <th>18</th>\n",
       "      <td>consulting</td>\n",
       "      <td>20</td>\n",
       "    </tr>\n",
       "    <tr>\n",
       "      <th>85</th>\n",
       "      <td>software</td>\n",
       "      <td>21</td>\n",
       "    </tr>\n",
       "    <tr>\n",
       "      <th>87</th>\n",
       "      <td>tech</td>\n",
       "      <td>21</td>\n",
       "    </tr>\n",
       "    <tr>\n",
       "      <th>88</th>\n",
       "      <td>technology</td>\n",
       "      <td>22</td>\n",
       "    </tr>\n",
       "    <tr>\n",
       "      <th>41</th>\n",
       "      <td>fintech</td>\n",
       "      <td>24</td>\n",
       "    </tr>\n",
       "    <tr>\n",
       "      <th>28</th>\n",
       "      <td>education</td>\n",
       "      <td>29</td>\n",
       "    </tr>\n",
       "    <tr>\n",
       "      <th>44</th>\n",
       "      <td>healthcare</td>\n",
       "      <td>30</td>\n",
       "    </tr>\n",
       "  </tbody>\n",
       "</table>\n",
       "</div>"
      ],
      "text/plain": [
       "     word_list  count_list\n",
       "77      retail          15\n",
       "82     service          16\n",
       "42  government          18\n",
       "18  consulting          20\n",
       "85    software          21\n",
       "87        tech          21\n",
       "88  technology          22\n",
       "41     fintech          24\n",
       "28   education          29\n",
       "44  healthcare          30"
      ]
     },
     "execution_count": 15,
     "metadata": {},
     "output_type": "execute_result"
    }
   ],
   "source": [
    "#words\n",
    "prim_ind_df = find_word_counts(likely.prim_ind_text, max_df=.5, stop_words=stopWords, ngram_range=(1,3))\n",
    "prim_ind_df.sort_values(by='count_list').tail(10)"
   ]
  },
  {
   "cell_type": "code",
   "execution_count": 16,
   "metadata": {},
   "outputs": [
    {
     "data": {
      "text/plain": [
       "Text(0, 0.5, '')"
      ]
     },
     "execution_count": 16,
     "metadata": {},
     "output_type": "execute_result"
    },
    {
     "data": {
      "image/png": "[encoded data removed]",
      "text/plain": [
       "<Figure size 432x288 with 1 Axes>"
      ]
     },
     "metadata": {
      "needs_background": "light"
     },
     "output_type": "display_data"
    }
   ],
   "source": [
    "ax = prim_ind_df.sort_values(by='count_list').tail(5).plot.barh(x='word_list', \n",
    "                                                                y='count_list', \n",
    "                                                                legend=False, \n",
    "                                                                color=\"#00297f\",\n",
    "                                                                title=\"Most Common Industries\")\n",
    "ax.yaxis.set_label_text(\"\")"
   ]
  },
  {
   "cell_type": "code",
   "execution_count": 17,
   "metadata": {},
   "outputs": [
    {
     "data": {
      "text/plain": [
       "Text(0, 0.5, '')"
      ]
     },
     "execution_count": 17,
     "metadata": {},
     "output_type": "execute_result"
    },
    {
     "data": {
      "image/png": "[encoded data removed]",
      "text/plain": [
       "<Figure size 432x288 with 1 Axes>"
      ]
     },
     "metadata": {
      "needs_background": "light"
     },
     "output_type": "display_data"
    }
   ],
   "source": [
    "ax = prim_ind_df.sort_values(by='count_list').head(5).plot.barh(x='word_list', \n",
    "                                                                y='count_list', \n",
    "                                                                legend=False, \n",
    "                                                                color=\"#00297f\",\n",
    "                                                                title=\"Least Common Industries\")\n",
    "ax.yaxis.set_label_text(\"\")\n"
   ]
  },
  {
   "cell_type": "code",
   "execution_count": 18,
   "metadata": {},
   "outputs": [
    {
     "data": {
      "text/plain": [
       "['higher education',\n",
       " 'public service',\n",
       " 'user experience',\n",
       " 'professional service',\n",
       " 'consultancy government',\n",
       " 'public sector',\n",
       " 'resource technology',\n",
       " 'higher ed',\n",
       " 'digital agency',\n",
       " 'finance healthcare',\n",
       " 'hr tech',\n",
       " 'ux agency',\n",
       " 'social medium',\n",
       " 'information technology',\n",
       " 'financial service',\n",
       " 'enterprise software',\n",
       " 'consumer electronics',\n",
       " 'cloud infrastructure',\n",
       " 'commercial estate']"
      ]
     },
     "execution_count": 18,
     "metadata": {},
     "output_type": "execute_result"
    }
   ],
   "source": [
    "nlp.show_column_keywords(likely.prim_ind_text, max_df=.5, stop_words=stopWords, ngram_range=(2,3))"
   ]
  },
  {
   "cell_type": "code",
   "execution_count": 19,
   "metadata": {},
   "outputs": [
    {
     "data": {
      "text/html": [
       "<div>\n",
       "<style scoped>\n",
       "    .dataframe tbody tr th:only-of-type {\n",
       "        vertical-align: middle;\n",
       "    }\n",
       "\n",
       "    .dataframe tbody tr th {\n",
       "        vertical-align: top;\n",
       "    }\n",
       "\n",
       "    .dataframe thead th {\n",
       "        text-align: right;\n",
       "    }\n",
       "</style>\n",
       "<table border=\"1\" class=\"dataframe\">\n",
       "  <thead>\n",
       "    <tr style=\"text-align: right;\">\n",
       "      <th></th>\n",
       "      <th>word_list</th>\n",
       "      <th>count_list</th>\n",
       "    </tr>\n",
       "  </thead>\n",
       "  <tbody>\n",
       "    <tr>\n",
       "      <th>13</th>\n",
       "      <td>public sector</td>\n",
       "      <td>3</td>\n",
       "    </tr>\n",
       "    <tr>\n",
       "      <th>16</th>\n",
       "      <td>social medium</td>\n",
       "      <td>3</td>\n",
       "    </tr>\n",
       "    <tr>\n",
       "      <th>9</th>\n",
       "      <td>higher education</td>\n",
       "      <td>3</td>\n",
       "    </tr>\n",
       "    <tr>\n",
       "      <th>17</th>\n",
       "      <td>user experience</td>\n",
       "      <td>4</td>\n",
       "    </tr>\n",
       "    <tr>\n",
       "      <th>7</th>\n",
       "      <td>financial service</td>\n",
       "      <td>6</td>\n",
       "    </tr>\n",
       "  </tbody>\n",
       "</table>\n",
       "</div>"
      ],
      "text/plain": [
       "            word_list  count_list\n",
       "13      public sector           3\n",
       "16      social medium           3\n",
       "9    higher education           3\n",
       "17    user experience           4\n",
       "7   financial service           6"
      ]
     },
     "execution_count": 19,
     "metadata": {},
     "output_type": "execute_result"
    }
   ],
   "source": [
    "#ngrams\n",
    "prim_ind_df = find_word_counts(likely.prim_ind_text, max_df=.5, stop_words=stopWords, ngram_range=(2,3))\n",
    "prim_ind_df.sort_values(by='count_list').tail(5)"
   ]
  },
  {
   "cell_type": "code",
   "execution_count": 20,
   "metadata": {},
   "outputs": [
    {
     "data": {
      "text/plain": [
       "commerce/consulting    56\n",
       "education              55\n",
       "fintech                51\n",
       "misc                   50\n",
       "government             42\n",
       "software               41\n",
       "healthcare             40\n",
       "tech                   37\n",
       "Name: prim_ind_topic_id, dtype: int64"
      ]
     },
     "execution_count": 20,
     "metadata": {},
     "output_type": "execute_result"
    }
   ],
   "source": [
    "likely[likely.prim_ind_text.notnull()].prim_ind_topic_id.value_counts()"
   ]
  },
  {
   "cell_type": "markdown",
   "metadata": {},
   "source": [
    "## What kind of research are you doing?\n",
    "\n",
    "q7 future_res"
   ]
  },
  {
   "cell_type": "markdown",
   "metadata": {},
   "source": [
    "### keywords"
   ]
  },
  {
   "cell_type": "code",
   "execution_count": 21,
   "metadata": {},
   "outputs": [
    {
     "data": {
      "text/plain": [
       "['qualitative',\n",
       " 'quantitative',\n",
       " 'qualitative quantitative',\n",
       " 'online',\n",
       " 'survey',\n",
       " 'interview',\n",
       " 'focus',\n",
       " 'group',\n",
       " 'secondary',\n",
       " 'data',\n",
       " 'field',\n",
       " 'testing',\n",
       " 'observation',\n",
       " 'usability',\n",
       " 'study',\n",
       " 'survey interview',\n",
       " 'interview focus',\n",
       " 'focus group',\n",
       " 'testing observation',\n",
       " 'observation usability']"
      ]
     },
     "execution_count": 21,
     "metadata": {},
     "output_type": "execute_result"
    }
   ],
   "source": [
    "nlp.show_column_keywords(likely.future_res_text, max_df=.5, stop_words=stopWords, ngram_range=(1,3))"
   ]
  },
  {
   "cell_type": "code",
   "execution_count": 22,
   "metadata": {},
   "outputs": [
    {
     "data": {
      "text/html": [
       "<div>\n",
       "<style scoped>\n",
       "    .dataframe tbody tr th:only-of-type {\n",
       "        vertical-align: middle;\n",
       "    }\n",
       "\n",
       "    .dataframe tbody tr th {\n",
       "        vertical-align: top;\n",
       "    }\n",
       "\n",
       "    .dataframe thead th {\n",
       "        text-align: right;\n",
       "    }\n",
       "</style>\n",
       "<table border=\"1\" class=\"dataframe\">\n",
       "  <thead>\n",
       "    <tr style=\"text-align: right;\">\n",
       "      <th></th>\n",
       "      <th>word_list</th>\n",
       "      <th>count_list</th>\n",
       "    </tr>\n",
       "  </thead>\n",
       "  <tbody>\n",
       "    <tr>\n",
       "      <th>233</th>\n",
       "      <td>user</td>\n",
       "      <td>22</td>\n",
       "    </tr>\n",
       "    <tr>\n",
       "      <th>49</th>\n",
       "      <td>diary study</td>\n",
       "      <td>23</td>\n",
       "    </tr>\n",
       "    <tr>\n",
       "      <th>158</th>\n",
       "      <td>remote</td>\n",
       "      <td>23</td>\n",
       "    </tr>\n",
       "    <tr>\n",
       "      <th>48</th>\n",
       "      <td>diary</td>\n",
       "      <td>24</td>\n",
       "    </tr>\n",
       "    <tr>\n",
       "      <th>40</th>\n",
       "      <td>data</td>\n",
       "      <td>25</td>\n",
       "    </tr>\n",
       "    <tr>\n",
       "      <th>193</th>\n",
       "      <td>survey</td>\n",
       "      <td>27</td>\n",
       "    </tr>\n",
       "    <tr>\n",
       "      <th>227</th>\n",
       "      <td>usability</td>\n",
       "      <td>27</td>\n",
       "    </tr>\n",
       "    <tr>\n",
       "      <th>117</th>\n",
       "      <td>method</td>\n",
       "      <td>28</td>\n",
       "    </tr>\n",
       "    <tr>\n",
       "      <th>188</th>\n",
       "      <td>study</td>\n",
       "      <td>39</td>\n",
       "    </tr>\n",
       "    <tr>\n",
       "      <th>207</th>\n",
       "      <td>testing</td>\n",
       "      <td>49</td>\n",
       "    </tr>\n",
       "  </tbody>\n",
       "</table>\n",
       "</div>"
      ],
      "text/plain": [
       "       word_list  count_list\n",
       "233         user          22\n",
       "49   diary study          23\n",
       "158       remote          23\n",
       "48         diary          24\n",
       "40          data          25\n",
       "193       survey          27\n",
       "227    usability          27\n",
       "117       method          28\n",
       "188        study          39\n",
       "207      testing          49"
      ]
     },
     "execution_count": 22,
     "metadata": {},
     "output_type": "execute_result"
    }
   ],
   "source": [
    "#words\n",
    "future_res_text_df = find_word_counts(likely.future_res_text, max_df=.5, stop_words=stopWords, ngram_range=(1,3))\n",
    "future_res_text_df.sort_values(by='count_list').tail(10)"
   ]
  },
  {
   "cell_type": "code",
   "execution_count": 23,
   "metadata": {},
   "outputs": [
    {
     "data": {
      "text/plain": [
       "['qualitative quantitative',\n",
       " 'survey interview',\n",
       " 'interview focus',\n",
       " 'focus group',\n",
       " 'testing observation',\n",
       " 'observation usability',\n",
       " 'usability study',\n",
       " 'interview focus group',\n",
       " 'mixed method',\n",
       " 'participatory design',\n",
       " 'diary study',\n",
       " 'study contextual',\n",
       " 'usability testing',\n",
       " 'data analysis',\n",
       " 'diary study contextual',\n",
       " 'field study',\n",
       " 'quantitative qualitative',\n",
       " 'user experience',\n",
       " 'qual quant',\n",
       " 'workshop survey']"
      ]
     },
     "execution_count": 23,
     "metadata": {},
     "output_type": "execute_result"
    }
   ],
   "source": [
    "nlp.show_column_keywords(likely.future_res_text, max_df=.5, stop_words=stopWords, ngram_range=(2,3))"
   ]
  },
  {
   "cell_type": "code",
   "execution_count": 24,
   "metadata": {},
   "outputs": [
    {
     "data": {
      "text/html": [
       "<div>\n",
       "<style scoped>\n",
       "    .dataframe tbody tr th:only-of-type {\n",
       "        vertical-align: middle;\n",
       "    }\n",
       "\n",
       "    .dataframe tbody tr th {\n",
       "        vertical-align: top;\n",
       "    }\n",
       "\n",
       "    .dataframe thead th {\n",
       "        text-align: right;\n",
       "    }\n",
       "</style>\n",
       "<table border=\"1\" class=\"dataframe\">\n",
       "  <thead>\n",
       "    <tr style=\"text-align: right;\">\n",
       "      <th></th>\n",
       "      <th>word_list</th>\n",
       "      <th>count_list</th>\n",
       "    </tr>\n",
       "  </thead>\n",
       "  <tbody>\n",
       "    <tr>\n",
       "      <th>32</th>\n",
       "      <td>mixed method</td>\n",
       "      <td>7</td>\n",
       "    </tr>\n",
       "    <tr>\n",
       "      <th>21</th>\n",
       "      <td>focus group</td>\n",
       "      <td>8</td>\n",
       "    </tr>\n",
       "    <tr>\n",
       "      <th>1</th>\n",
       "      <td>ab testing</td>\n",
       "      <td>12</td>\n",
       "    </tr>\n",
       "    <tr>\n",
       "      <th>75</th>\n",
       "      <td>usability testing</td>\n",
       "      <td>16</td>\n",
       "    </tr>\n",
       "    <tr>\n",
       "      <th>15</th>\n",
       "      <td>diary study</td>\n",
       "      <td>23</td>\n",
       "    </tr>\n",
       "  </tbody>\n",
       "</table>\n",
       "</div>"
      ],
      "text/plain": [
       "            word_list  count_list\n",
       "32       mixed method           7\n",
       "21        focus group           8\n",
       "1          ab testing          12\n",
       "75  usability testing          16\n",
       "15        diary study          23"
      ]
     },
     "execution_count": 24,
     "metadata": {},
     "output_type": "execute_result"
    }
   ],
   "source": [
    "#ngrams\n",
    "future_res_text_df = find_word_counts(likely.future_res_text, max_df=.5, stop_words=stopWords, ngram_range=(2,3))\n",
    "future_res_text_df.sort_values(by='count_list').tail(5)"
   ]
  },
  {
   "cell_type": "code",
   "execution_count": 25,
   "metadata": {},
   "outputs": [
    {
     "data": {
      "image/png": "[encoded data removed]",
      "text/plain": [
       "<Figure size 432x288 with 1 Axes>"
      ]
     },
     "metadata": {
      "needs_background": "light"
     },
     "output_type": "display_data"
    }
   ],
   "source": [
    "ax = future_res_text_df.sort_values(by='count_list').tail(10).plot.barh(x='word_list', \n",
    "                                                                       y='count_list',                                                                         \n",
    "                                                                       legend=False, \n",
    "                                                                       color=\"#00297f\",\n",
    "                                                                       title=\"Future Research Methods\")"
   ]
  },
  {
   "cell_type": "markdown",
   "metadata": {},
   "source": [
    "### topics"
   ]
  },
  {
   "cell_type": "code",
   "execution_count": 26,
   "metadata": {},
   "outputs": [
    {
     "data": {
      "text/plain": [
       "evaluative, quantitative, qualitative    76\n",
       "focus group                              57\n",
       "market research                          41\n",
       "card sort                                36\n",
       "moderate, unmoderate                     29\n",
       "misc                                     26\n",
       "inquiry                                  21\n",
       "journey mapping                          21\n",
       "Name: future_res_topic_id, dtype: int64"
      ]
     },
     "execution_count": 26,
     "metadata": {},
     "output_type": "execute_result"
    }
   ],
   "source": [
    "likely[likely.future_res_text.notnull()].future_res_topic_id.value_counts()"
   ]
  },
  {
   "cell_type": "markdown",
   "metadata": {},
   "source": [
    "## What kind of research are you doing?\n",
    "\n",
    "q6 types_res_used"
   ]
  },
  {
   "cell_type": "markdown",
   "metadata": {},
   "source": [
    "### keywords"
   ]
  },
  {
   "cell_type": "code",
   "execution_count": 27,
   "metadata": {},
   "outputs": [
    {
     "data": {
      "text/plain": [
       "['qualitative',\n",
       " 'quantitative',\n",
       " 'qualitative quantitative',\n",
       " 'user',\n",
       " 'design',\n",
       " 'interview',\n",
       " 'survey',\n",
       " 'testing',\n",
       " 'quant',\n",
       " 'qual',\n",
       " 'analytics',\n",
       " 'user design',\n",
       " 'interview survey',\n",
       " 'user testing',\n",
       " 'testing quant',\n",
       " 'quant qual',\n",
       " 'focus',\n",
       " 'group',\n",
       " 'secondary',\n",
       " 'data']"
      ]
     },
     "execution_count": 27,
     "metadata": {},
     "output_type": "execute_result"
    }
   ],
   "source": [
    "nlp.show_column_keywords(likely.types_res_text, max_df=.5, stop_words=stopWords, ngram_range=(1,3))"
   ]
  },
  {
   "cell_type": "code",
   "execution_count": 28,
   "metadata": {},
   "outputs": [
    {
     "data": {
      "text/html": [
       "<div>\n",
       "<style scoped>\n",
       "    .dataframe tbody tr th:only-of-type {\n",
       "        vertical-align: middle;\n",
       "    }\n",
       "\n",
       "    .dataframe tbody tr th {\n",
       "        vertical-align: top;\n",
       "    }\n",
       "\n",
       "    .dataframe thead th {\n",
       "        text-align: right;\n",
       "    }\n",
       "</style>\n",
       "<table border=\"1\" class=\"dataframe\">\n",
       "  <thead>\n",
       "    <tr style=\"text-align: right;\">\n",
       "      <th></th>\n",
       "      <th>word_list</th>\n",
       "      <th>count_list</th>\n",
       "    </tr>\n",
       "  </thead>\n",
       "  <tbody>\n",
       "    <tr>\n",
       "      <th>349</th>\n",
       "      <td>quantitative</td>\n",
       "      <td>49</td>\n",
       "    </tr>\n",
       "    <tr>\n",
       "      <th>10</th>\n",
       "      <td>analytics</td>\n",
       "      <td>50</td>\n",
       "    </tr>\n",
       "    <tr>\n",
       "      <th>409</th>\n",
       "      <td>study</td>\n",
       "      <td>67</td>\n",
       "    </tr>\n",
       "    <tr>\n",
       "      <th>544</th>\n",
       "      <td>usability testing</td>\n",
       "      <td>75</td>\n",
       "    </tr>\n",
       "    <tr>\n",
       "      <th>554</th>\n",
       "      <td>user</td>\n",
       "      <td>88</td>\n",
       "    </tr>\n",
       "    <tr>\n",
       "      <th>325</th>\n",
       "      <td>qualitative</td>\n",
       "      <td>94</td>\n",
       "    </tr>\n",
       "    <tr>\n",
       "      <th>427</th>\n",
       "      <td>survey</td>\n",
       "      <td>136</td>\n",
       "    </tr>\n",
       "    <tr>\n",
       "      <th>475</th>\n",
       "      <td>testing</td>\n",
       "      <td>139</td>\n",
       "    </tr>\n",
       "    <tr>\n",
       "      <th>534</th>\n",
       "      <td>usability</td>\n",
       "      <td>140</td>\n",
       "    </tr>\n",
       "    <tr>\n",
       "      <th>184</th>\n",
       "      <td>interview</td>\n",
       "      <td>170</td>\n",
       "    </tr>\n",
       "  </tbody>\n",
       "</table>\n",
       "</div>"
      ],
      "text/plain": [
       "             word_list  count_list\n",
       "349       quantitative          49\n",
       "10           analytics          50\n",
       "409              study          67\n",
       "544  usability testing          75\n",
       "554               user          88\n",
       "325        qualitative          94\n",
       "427             survey         136\n",
       "475            testing         139\n",
       "534          usability         140\n",
       "184          interview         170"
      ]
     },
     "execution_count": 28,
     "metadata": {},
     "output_type": "execute_result"
    }
   ],
   "source": [
    "#words\n",
    "types_res_df = find_word_counts(likely.types_res_text, max_df=.5, stop_words=stopWords, ngram_range=(1,3))\n",
    "types_res_df.sort_values(by='count_list').tail(10)"
   ]
  },
  {
   "cell_type": "code",
   "execution_count": 29,
   "metadata": {},
   "outputs": [
    {
     "data": {
      "text/plain": [
       "['qualitative quantitative',\n",
       " 'user design',\n",
       " 'interview survey',\n",
       " 'user testing',\n",
       " 'testing quant',\n",
       " 'quant qual',\n",
       " 'survey interview',\n",
       " 'interview focus',\n",
       " 'focus group',\n",
       " 'data qualitative',\n",
       " 'qualitative coding',\n",
       " 'survey interview focus',\n",
       " 'interview focus group',\n",
       " 'quantitative survey',\n",
       " 'quantitative data',\n",
       " 'qualitative data',\n",
       " 'group user',\n",
       " 'user interview',\n",
       " 'focus group user',\n",
       " 'group user interview']"
      ]
     },
     "execution_count": 29,
     "metadata": {},
     "output_type": "execute_result"
    }
   ],
   "source": [
    "nlp.show_column_keywords(likely.types_res_text, max_df=.5, stop_words=stopWords, ngram_range=(2,3))"
   ]
  },
  {
   "cell_type": "code",
   "execution_count": 30,
   "metadata": {},
   "outputs": [
    {
     "data": {
      "text/html": [
       "<div>\n",
       "<style scoped>\n",
       "    .dataframe tbody tr th:only-of-type {\n",
       "        vertical-align: middle;\n",
       "    }\n",
       "\n",
       "    .dataframe tbody tr th {\n",
       "        vertical-align: top;\n",
       "    }\n",
       "\n",
       "    .dataframe thead th {\n",
       "        text-align: right;\n",
       "    }\n",
       "</style>\n",
       "<table border=\"1\" class=\"dataframe\">\n",
       "  <thead>\n",
       "    <tr style=\"text-align: right;\">\n",
       "      <th></th>\n",
       "      <th>word_list</th>\n",
       "      <th>count_list</th>\n",
       "    </tr>\n",
       "  </thead>\n",
       "  <tbody>\n",
       "    <tr>\n",
       "      <th>348</th>\n",
       "      <td>user testing</td>\n",
       "      <td>19</td>\n",
       "    </tr>\n",
       "    <tr>\n",
       "      <th>319</th>\n",
       "      <td>usability study</td>\n",
       "      <td>19</td>\n",
       "    </tr>\n",
       "    <tr>\n",
       "      <th>116</th>\n",
       "      <td>interview survey</td>\n",
       "      <td>20</td>\n",
       "    </tr>\n",
       "    <tr>\n",
       "      <th>119</th>\n",
       "      <td>interview usability</td>\n",
       "      <td>22</td>\n",
       "    </tr>\n",
       "    <tr>\n",
       "      <th>43</th>\n",
       "      <td>diary study</td>\n",
       "      <td>22</td>\n",
       "    </tr>\n",
       "    <tr>\n",
       "      <th>25</th>\n",
       "      <td>contextual inquiry</td>\n",
       "      <td>23</td>\n",
       "    </tr>\n",
       "    <tr>\n",
       "      <th>321</th>\n",
       "      <td>usability test</td>\n",
       "      <td>23</td>\n",
       "    </tr>\n",
       "    <tr>\n",
       "      <th>338</th>\n",
       "      <td>user interview</td>\n",
       "      <td>24</td>\n",
       "    </tr>\n",
       "    <tr>\n",
       "      <th>65</th>\n",
       "      <td>focus group</td>\n",
       "      <td>31</td>\n",
       "    </tr>\n",
       "    <tr>\n",
       "      <th>326</th>\n",
       "      <td>usability testing</td>\n",
       "      <td>75</td>\n",
       "    </tr>\n",
       "  </tbody>\n",
       "</table>\n",
       "</div>"
      ],
      "text/plain": [
       "               word_list  count_list\n",
       "348         user testing          19\n",
       "319      usability study          19\n",
       "116     interview survey          20\n",
       "119  interview usability          22\n",
       "43           diary study          22\n",
       "25    contextual inquiry          23\n",
       "321       usability test          23\n",
       "338       user interview          24\n",
       "65           focus group          31\n",
       "326    usability testing          75"
      ]
     },
     "execution_count": 30,
     "metadata": {},
     "output_type": "execute_result"
    }
   ],
   "source": [
    "#ngrams\n",
    "types_res_df = find_word_counts(likely.types_res_text, max_df=.5, stop_words=stopWords, ngram_range=(2,3))\n",
    "types_res_df.sort_values(by='count_list').tail(10)"
   ]
  },
  {
   "cell_type": "code",
   "execution_count": 31,
   "metadata": {},
   "outputs": [
    {
     "data": {
      "image/png": "[encoded data removed]",
      "text/plain": [
       "<Figure size 432x288 with 1 Axes>"
      ]
     },
     "metadata": {
      "needs_background": "light"
     },
     "output_type": "display_data"
    }
   ],
   "source": [
    "ax = types_res_df.sort_values(by='count_list').tail(10).plot.barh(x='word_list',\n",
    "                                                                 y='count_list', \n",
    "                                                                 legend=False, \n",
    "                                                                 color=\"#00297f\",\n",
    "                                                                 title=\"Current Reasearch Methods\")"
   ]
  },
  {
   "cell_type": "markdown",
   "metadata": {},
   "source": [
    "### topics"
   ]
  },
  {
   "cell_type": "code",
   "execution_count": 32,
   "metadata": {},
   "outputs": [
    {
     "data": {
      "text/plain": [
       "focus group                62\n",
       "ngram                      60\n",
       "validation                 49\n",
       "market                     47\n",
       "qual/quant                 42\n",
       "testing                    39\n",
       "generative/mixed method    26\n",
       "misc                       23\n",
       "Name: types_res_topic_id, dtype: int64"
      ]
     },
     "execution_count": 32,
     "metadata": {},
     "output_type": "execute_result"
    }
   ],
   "source": [
    "likely[likely.types_res_text.notnull()].types_res_topic_id.value_counts()"
   ]
  },
  {
   "cell_type": "markdown",
   "metadata": {},
   "source": [
    "## What topics would they be most attracted to at a conference about research?\n",
    "\n",
    "q21 ideal_topics"
   ]
  },
  {
   "cell_type": "code",
   "execution_count": 33,
   "metadata": {},
   "outputs": [],
   "source": [
    "stop_words = ['like', 'plus', 'real', 'love', 'big', 'avoiding', 'mean', 'content', 'people', 'problem', \n",
    "              'doing', 'using','research', 'work', 'don', 'make', 'conference', 'good', 'best', 'self', 'report']"
   ]
  },
  {
   "cell_type": "code",
   "execution_count": 34,
   "metadata": {},
   "outputs": [],
   "source": [
    "stopWords = nlp.set_stop_words(stop_words)"
   ]
  },
  {
   "cell_type": "markdown",
   "metadata": {},
   "source": [
    "### keywords"
   ]
  },
  {
   "cell_type": "code",
   "execution_count": 35,
   "metadata": {},
   "outputs": [
    {
     "data": {
      "text/plain": [
       "['design',\n",
       " 'innovative',\n",
       " 'method',\n",
       " 'communicating',\n",
       " 'working',\n",
       " 'nonresearchers',\n",
       " 'cycle',\n",
       " 'innovative method',\n",
       " 'method communicating',\n",
       " 'participatory',\n",
       " 'analysis',\n",
       " 'design participatory',\n",
       " 'session',\n",
       " 'new',\n",
       " 'methodology',\n",
       " 'case',\n",
       " 'study',\n",
       " 'new methodology',\n",
       " 'case study',\n",
       " 'participant']"
      ]
     },
     "execution_count": 35,
     "metadata": {},
     "output_type": "execute_result"
    }
   ],
   "source": [
    "nlp.show_column_keywords(likely.ideal_topics_text, max_df=.5, stop_words=stopWords, ngram_range=(1,3))"
   ]
  },
  {
   "cell_type": "code",
   "execution_count": 36,
   "metadata": {},
   "outputs": [
    {
     "data": {
      "text/html": [
       "<div>\n",
       "<style scoped>\n",
       "    .dataframe tbody tr th:only-of-type {\n",
       "        vertical-align: middle;\n",
       "    }\n",
       "\n",
       "    .dataframe tbody tr th {\n",
       "        vertical-align: top;\n",
       "    }\n",
       "\n",
       "    .dataframe thead th {\n",
       "        text-align: right;\n",
       "    }\n",
       "</style>\n",
       "<table border=\"1\" class=\"dataframe\">\n",
       "  <thead>\n",
       "    <tr style=\"text-align: right;\">\n",
       "      <th></th>\n",
       "      <th>word_list</th>\n",
       "      <th>count_list</th>\n",
       "    </tr>\n",
       "  </thead>\n",
       "  <tbody>\n",
       "    <tr>\n",
       "      <th>53</th>\n",
       "      <td>case study</td>\n",
       "      <td>23</td>\n",
       "    </tr>\n",
       "    <tr>\n",
       "      <th>293</th>\n",
       "      <td>product</td>\n",
       "      <td>24</td>\n",
       "    </tr>\n",
       "    <tr>\n",
       "      <th>102</th>\n",
       "      <td>design</td>\n",
       "      <td>27</td>\n",
       "    </tr>\n",
       "    <tr>\n",
       "      <th>52</th>\n",
       "      <td>case</td>\n",
       "      <td>27</td>\n",
       "    </tr>\n",
       "    <tr>\n",
       "      <th>285</th>\n",
       "      <td>practice</td>\n",
       "      <td>28</td>\n",
       "    </tr>\n",
       "    <tr>\n",
       "      <th>386</th>\n",
       "      <td>technique</td>\n",
       "      <td>29</td>\n",
       "    </tr>\n",
       "    <tr>\n",
       "      <th>18</th>\n",
       "      <td>analysis</td>\n",
       "      <td>31</td>\n",
       "    </tr>\n",
       "    <tr>\n",
       "      <th>371</th>\n",
       "      <td>study</td>\n",
       "      <td>33</td>\n",
       "    </tr>\n",
       "    <tr>\n",
       "      <th>249</th>\n",
       "      <td>new</td>\n",
       "      <td>36</td>\n",
       "    </tr>\n",
       "    <tr>\n",
       "      <th>231</th>\n",
       "      <td>method</td>\n",
       "      <td>83</td>\n",
       "    </tr>\n",
       "  </tbody>\n",
       "</table>\n",
       "</div>"
      ],
      "text/plain": [
       "      word_list  count_list\n",
       "53   case study          23\n",
       "293     product          24\n",
       "102      design          27\n",
       "52         case          27\n",
       "285    practice          28\n",
       "386   technique          29\n",
       "18     analysis          31\n",
       "371       study          33\n",
       "249         new          36\n",
       "231      method          83"
      ]
     },
     "execution_count": 36,
     "metadata": {},
     "output_type": "execute_result"
    }
   ],
   "source": [
    "#words\n",
    "ideal_topics_df = find_word_counts(likely.ideal_topics_text, max_df=.5, stop_words=stopWords, ngram_range=(1,3))\n",
    "ideal_topics_df.sort_values(by='count_list').tail(10)"
   ]
  },
  {
   "cell_type": "code",
   "execution_count": 37,
   "metadata": {},
   "outputs": [
    {
     "data": {
      "text/plain": [
       "['innovative method',\n",
       " 'method communicating',\n",
       " 'design participatory',\n",
       " 'new methodology',\n",
       " 'case study',\n",
       " 'participant recruitment',\n",
       " 'recruitment strategy',\n",
       " 'participant recruitment strategy',\n",
       " 'method practice',\n",
       " 'space solution',\n",
       " 'theory practice',\n",
       " 'sell qualitative',\n",
       " 'qualitative quantitative',\n",
       " 'qualitative data',\n",
       " 'want hear',\n",
       " 'creative approach',\n",
       " 'conducting analyzing',\n",
       " 'cutting edge',\n",
       " 'application method',\n",
       " 'data science']"
      ]
     },
     "execution_count": 37,
     "metadata": {},
     "output_type": "execute_result"
    }
   ],
   "source": [
    "nlp.show_column_keywords(likely.ideal_topics_text, max_df=.5, stop_words=stopWords, ngram_range=(2,3))"
   ]
  },
  {
   "cell_type": "code",
   "execution_count": 38,
   "metadata": {},
   "outputs": [
    {
     "data": {
      "text/html": [
       "<div>\n",
       "<style scoped>\n",
       "    .dataframe tbody tr th:only-of-type {\n",
       "        vertical-align: middle;\n",
       "    }\n",
       "\n",
       "    .dataframe tbody tr th {\n",
       "        vertical-align: top;\n",
       "    }\n",
       "\n",
       "    .dataframe thead th {\n",
       "        text-align: right;\n",
       "    }\n",
       "</style>\n",
       "<table border=\"1\" class=\"dataframe\">\n",
       "  <thead>\n",
       "    <tr style=\"text-align: right;\">\n",
       "      <th></th>\n",
       "      <th>word_list</th>\n",
       "      <th>count_list</th>\n",
       "    </tr>\n",
       "  </thead>\n",
       "  <tbody>\n",
       "    <tr>\n",
       "      <th>58</th>\n",
       "      <td>product team</td>\n",
       "      <td>5</td>\n",
       "    </tr>\n",
       "    <tr>\n",
       "      <th>48</th>\n",
       "      <td>new technique</td>\n",
       "      <td>5</td>\n",
       "    </tr>\n",
       "    <tr>\n",
       "      <th>46</th>\n",
       "      <td>new method</td>\n",
       "      <td>8</td>\n",
       "    </tr>\n",
       "    <tr>\n",
       "      <th>45</th>\n",
       "      <td>mixed method</td>\n",
       "      <td>9</td>\n",
       "    </tr>\n",
       "    <tr>\n",
       "      <th>10</th>\n",
       "      <td>case study</td>\n",
       "      <td>23</td>\n",
       "    </tr>\n",
       "  </tbody>\n",
       "</table>\n",
       "</div>"
      ],
      "text/plain": [
       "        word_list  count_list\n",
       "58   product team           5\n",
       "48  new technique           5\n",
       "46     new method           8\n",
       "45   mixed method           9\n",
       "10     case study          23"
      ]
     },
     "execution_count": 38,
     "metadata": {},
     "output_type": "execute_result"
    }
   ],
   "source": [
    "#bi-grams\n",
    "ideal_topics_df = find_word_counts(likely.ideal_topics_text, max_df=.5, stop_words=stopWords, ngram_range=(2,3))\n",
    "ideal_topics_df.sort_values(by='count_list').tail(5)"
   ]
  },
  {
   "cell_type": "code",
   "execution_count": 39,
   "metadata": {},
   "outputs": [
    {
     "data": {
      "image/png": "[encoded data removed]",
      "text/plain": [
       "<Figure size 432x288 with 1 Axes>"
      ]
     },
     "metadata": {
      "needs_background": "light"
     },
     "output_type": "display_data"
    }
   ],
   "source": [
    "ax = ideal_topics_df.sort_values(by='count_list').tail(10).plot.barh(x='word_list', \n",
    "                                                                     y='count_list',\n",
    "                                                                     legend=False, \n",
    "                                                                     color=\"#00297f\",\n",
    "                                                                     title=\"Ideal Conference Topics\")"
   ]
  },
  {
   "cell_type": "markdown",
   "metadata": {},
   "source": [
    "### topics"
   ]
  },
  {
   "cell_type": "code",
   "execution_count": 40,
   "metadata": {},
   "outputs": [
    {
     "data": {
      "text/plain": [
       "quant/qual/data             77\n",
       "case_study                  73\n",
       "new_method, mixed_method    71\n",
       "ops/ai                      63\n",
       "Name: ideal_topics_topic_id, dtype: int64"
      ]
     },
     "execution_count": 40,
     "metadata": {},
     "output_type": "execute_result"
    }
   ],
   "source": [
    "likely[likely.ideal_topics_text.notnull()].ideal_topics_topic_id.value_counts()"
   ]
  },
  {
   "cell_type": "markdown",
   "metadata": {},
   "source": [
    "## Who would they expect to see at a conference about research?\n",
    "\n",
    "q22 Ideal Attendees"
   ]
  },
  {
   "cell_type": "code",
   "execution_count": 41,
   "metadata": {},
   "outputs": [],
   "source": [
    "stop_words = ['like', 'plus', 'real', 'love', 'big', 'avoiding', 'mean', 'content', 'people', 'problem', \n",
    "              'doing', 'using','research', 'work', 'don', 'make', 'conference']\n",
    "\n",
    "stopWords = nlp.set_stop_words(stop_words)"
   ]
  },
  {
   "cell_type": "code",
   "execution_count": 42,
   "metadata": {},
   "outputs": [
    {
     "data": {
      "text/plain": [
       "['company',\n",
       " 'academic',\n",
       " 'researcher',\n",
       " 'public',\n",
       " 'maker',\n",
       " 'academic researcher',\n",
       " 'leading',\n",
       " 'known',\n",
       " 'skill',\n",
       " 'set',\n",
       " 'expertise',\n",
       " 'good',\n",
       " 'sam',\n",
       " 'ladner',\n",
       " 'sam ladner',\n",
       " 'open',\n",
       " 'woman',\n",
       " 'minority',\n",
       " 'walk',\n",
       " 'just']"
      ]
     },
     "execution_count": 42,
     "metadata": {},
     "output_type": "execute_result"
    }
   ],
   "source": [
    "nlp.show_column_keywords(likely.ideal_attendees_text, max_df=.5, stop_words=stopWords)"
   ]
  },
  {
   "cell_type": "code",
   "execution_count": 43,
   "metadata": {},
   "outputs": [
    {
     "data": {
      "text/html": [
       "<div>\n",
       "<style scoped>\n",
       "    .dataframe tbody tr th:only-of-type {\n",
       "        vertical-align: middle;\n",
       "    }\n",
       "\n",
       "    .dataframe tbody tr th {\n",
       "        vertical-align: top;\n",
       "    }\n",
       "\n",
       "    .dataframe thead th {\n",
       "        text-align: right;\n",
       "    }\n",
       "</style>\n",
       "<table border=\"1\" class=\"dataframe\">\n",
       "  <thead>\n",
       "    <tr style=\"text-align: right;\">\n",
       "      <th></th>\n",
       "      <th>word_list</th>\n",
       "      <th>count_list</th>\n",
       "    </tr>\n",
       "  </thead>\n",
       "  <tbody>\n",
       "    <tr>\n",
       "      <th>333</th>\n",
       "      <td>steve portigal</td>\n",
       "      <td>14</td>\n",
       "    </tr>\n",
       "    <tr>\n",
       "      <th>234</th>\n",
       "      <td>new</td>\n",
       "      <td>17</td>\n",
       "    </tr>\n",
       "    <tr>\n",
       "      <th>179</th>\n",
       "      <td>just</td>\n",
       "      <td>17</td>\n",
       "    </tr>\n",
       "    <tr>\n",
       "      <th>331</th>\n",
       "      <td>steve</td>\n",
       "      <td>17</td>\n",
       "    </tr>\n",
       "    <tr>\n",
       "      <th>118</th>\n",
       "      <td>field</td>\n",
       "      <td>20</td>\n",
       "    </tr>\n",
       "    <tr>\n",
       "      <th>73</th>\n",
       "      <td>different</td>\n",
       "      <td>21</td>\n",
       "    </tr>\n",
       "    <tr>\n",
       "      <th>161</th>\n",
       "      <td>industry</td>\n",
       "      <td>23</td>\n",
       "    </tr>\n",
       "    <tr>\n",
       "      <th>47</th>\n",
       "      <td>company</td>\n",
       "      <td>32</td>\n",
       "    </tr>\n",
       "    <tr>\n",
       "      <th>197</th>\n",
       "      <td>leader</td>\n",
       "      <td>34</td>\n",
       "    </tr>\n",
       "    <tr>\n",
       "      <th>288</th>\n",
       "      <td>researcher</td>\n",
       "      <td>52</td>\n",
       "    </tr>\n",
       "  </tbody>\n",
       "</table>\n",
       "</div>"
      ],
      "text/plain": [
       "          word_list  count_list\n",
       "333  steve portigal          14\n",
       "234             new          17\n",
       "179            just          17\n",
       "331           steve          17\n",
       "118           field          20\n",
       "73        different          21\n",
       "161        industry          23\n",
       "47          company          32\n",
       "197          leader          34\n",
       "288      researcher          52"
      ]
     },
     "execution_count": 43,
     "metadata": {},
     "output_type": "execute_result"
    }
   ],
   "source": [
    "#terms\n",
    "ideal_attendees_df = find_word_counts(likely.ideal_attendees_text, max_df=.5, stop_words=stopWords, ngram_range=(1,3))\n",
    "ideal_attendees_df.sort_values(by='count_list').tail(10)"
   ]
  },
  {
   "cell_type": "code",
   "execution_count": 44,
   "metadata": {},
   "outputs": [
    {
     "data": {
      "text/plain": [
       "['academic researcher',\n",
       " 'sam ladner',\n",
       " 'different field',\n",
       " 'civic tech',\n",
       " 'steve portigal',\n",
       " 'working company',\n",
       " 'kim goodwin',\n",
       " 'laura klein',\n",
       " 'way working',\n",
       " 'industry folk',\n",
       " 'social scientist',\n",
       " 'industry thought',\n",
       " 'thought leader',\n",
       " 'natalie hanson',\n",
       " 'industry leader',\n",
       " 'jared spool',\n",
       " 'spool steve',\n",
       " 'google facebook',\n",
       " 'jared spool steve',\n",
       " 'spool steve portigal']"
      ]
     },
     "execution_count": 44,
     "metadata": {},
     "output_type": "execute_result"
    }
   ],
   "source": [
    "nlp.show_column_keywords(likely.ideal_attendees_text, max_df=.5, stop_words=stopWords, ngram_range=(2,3))"
   ]
  },
  {
   "cell_type": "code",
   "execution_count": 45,
   "metadata": {},
   "outputs": [
    {
     "data": {
      "text/html": [
       "<div>\n",
       "<style scoped>\n",
       "    .dataframe tbody tr th:only-of-type {\n",
       "        vertical-align: middle;\n",
       "    }\n",
       "\n",
       "    .dataframe tbody tr th {\n",
       "        vertical-align: top;\n",
       "    }\n",
       "\n",
       "    .dataframe thead th {\n",
       "        text-align: right;\n",
       "    }\n",
       "</style>\n",
       "<table border=\"1\" class=\"dataframe\">\n",
       "  <thead>\n",
       "    <tr style=\"text-align: right;\">\n",
       "      <th></th>\n",
       "      <th>word_list</th>\n",
       "      <th>count_list</th>\n",
       "    </tr>\n",
       "  </thead>\n",
       "  <tbody>\n",
       "    <tr>\n",
       "      <th>18</th>\n",
       "      <td>erika hall</td>\n",
       "      <td>7</td>\n",
       "    </tr>\n",
       "    <tr>\n",
       "      <th>32</th>\n",
       "      <td>jared spool</td>\n",
       "      <td>8</td>\n",
       "    </tr>\n",
       "    <tr>\n",
       "      <th>26</th>\n",
       "      <td>indi young</td>\n",
       "      <td>8</td>\n",
       "    </tr>\n",
       "    <tr>\n",
       "      <th>56</th>\n",
       "      <td>sam ladner</td>\n",
       "      <td>11</td>\n",
       "    </tr>\n",
       "    <tr>\n",
       "      <th>63</th>\n",
       "      <td>steve portigal</td>\n",
       "      <td>14</td>\n",
       "    </tr>\n",
       "  </tbody>\n",
       "</table>\n",
       "</div>"
      ],
      "text/plain": [
       "         word_list  count_list\n",
       "18      erika hall           7\n",
       "32     jared spool           8\n",
       "26      indi young           8\n",
       "56      sam ladner          11\n",
       "63  steve portigal          14"
      ]
     },
     "execution_count": 45,
     "metadata": {},
     "output_type": "execute_result"
    }
   ],
   "source": [
    "#bigrams\n",
    "ideal_attendees_df = find_word_counts(likely.ideal_attendees_text, max_df=.5, stop_words=stopWords, ngram_range=(2,3))\n",
    "ideal_attendees_df.sort_values(by='count_list').tail(5)"
   ]
  },
  {
   "cell_type": "code",
   "execution_count": 46,
   "metadata": {},
   "outputs": [
    {
     "data": {
      "image/png": "[encoded data removed]",
      "text/plain": [
       "<Figure size 432x288 with 1 Axes>"
      ]
     },
     "metadata": {
      "needs_background": "light"
     },
     "output_type": "display_data"
    }
   ],
   "source": [
    "ax = ideal_attendees_df.sort_values(by='count_list').tail(10).plot.barh(x='word_list', \n",
    "                                                                       y='count_list', \n",
    "                                                                       legend=False, \n",
    "                                                                       color=\"#00297f\",\n",
    "                                                                       title=\"Ideal Conference Attendees\")"
   ]
  },
  {
   "cell_type": "code",
   "execution_count": 47,
   "metadata": {},
   "outputs": [
    {
     "data": {
      "text/plain": [
       "industry, team, product    76\n",
       "sam ladner, erika hall     55\n",
       "indi young                 52\n",
       "experience, jared spool    52\n",
       "Name: ideal_attendees_topic_id, dtype: int64"
      ]
     },
     "execution_count": 47,
     "metadata": {},
     "output_type": "execute_result"
    }
   ],
   "source": [
    "likely[likely.ideal_attendees_text.notnull()].ideal_attendees_topic_id.value_counts()"
   ]
  },
  {
   "cell_type": "markdown",
   "metadata": {},
   "source": [
    "## What advice do they have for the Rosenfeld Media team in pursuing a conference?\n",
    "q23 recommendations"
   ]
  },
  {
   "cell_type": "code",
   "execution_count": 48,
   "metadata": {},
   "outputs": [
    {
     "data": {
      "text/plain": [
       "['dont',\n",
       " 'create',\n",
       " 'schedule',\n",
       " 'relevant',\n",
       " 'event',\n",
       " 'looking',\n",
       " 'forward',\n",
       " 'looking forward',\n",
       " 'nice',\n",
       " 'bring',\n",
       " 'practitioner',\n",
       " 'researcher',\n",
       " 'academic',\n",
       " 'position',\n",
       " 'similar',\n",
       " 'tool',\n",
       " 'strategy',\n",
       " 'key',\n",
       " 'opinion',\n",
       " 'leader']"
      ]
     },
     "execution_count": 48,
     "metadata": {},
     "output_type": "execute_result"
    }
   ],
   "source": [
    "nlp.show_column_keywords(likely.recommendations_text, max_df=.9, stop_words=stopWords, ngram_range=(1,7))"
   ]
  },
  {
   "cell_type": "code",
   "execution_count": 49,
   "metadata": {},
   "outputs": [],
   "source": [
    "stop_words = ['like', 'plus', 'real', 'love', 'big', 'avoiding', 'mean', 'content', 'problem', \n",
    "              'doing', 'using', 'work', 'don', 'make', 'yes', 've', 'ha', 'day', 'way',\n",
    "              'research','conference','researcher','dont','just','people','make','talk',\n",
    "             'good', 'event', 'getting', 'nan', 'know', 'think', 'sure']\n",
    "\n",
    "stopWords = nlp.set_stop_words(stop_words)"
   ]
  },
  {
   "cell_type": "code",
   "execution_count": 50,
   "metadata": {},
   "outputs": [
    {
     "data": {
      "text/html": [
       "<div>\n",
       "<style scoped>\n",
       "    .dataframe tbody tr th:only-of-type {\n",
       "        vertical-align: middle;\n",
       "    }\n",
       "\n",
       "    .dataframe tbody tr th {\n",
       "        vertical-align: top;\n",
       "    }\n",
       "\n",
       "    .dataframe thead th {\n",
       "        text-align: right;\n",
       "    }\n",
       "</style>\n",
       "<table border=\"1\" class=\"dataframe\">\n",
       "  <thead>\n",
       "    <tr style=\"text-align: right;\">\n",
       "      <th></th>\n",
       "      <th>word_list</th>\n",
       "      <th>count_list</th>\n",
       "    </tr>\n",
       "  </thead>\n",
       "  <tbody>\n",
       "    <tr>\n",
       "      <th>310</th>\n",
       "      <td>level</td>\n",
       "      <td>16</td>\n",
       "    </tr>\n",
       "    <tr>\n",
       "      <th>449</th>\n",
       "      <td>really</td>\n",
       "      <td>16</td>\n",
       "    </tr>\n",
       "    <tr>\n",
       "      <th>36</th>\n",
       "      <td>attend</td>\n",
       "      <td>16</td>\n",
       "    </tr>\n",
       "    <tr>\n",
       "      <th>112</th>\n",
       "      <td>consider</td>\n",
       "      <td>16</td>\n",
       "    </tr>\n",
       "    <tr>\n",
       "      <th>607</th>\n",
       "      <td>want</td>\n",
       "      <td>17</td>\n",
       "    </tr>\n",
       "    <tr>\n",
       "      <th>201</th>\n",
       "      <td>food</td>\n",
       "      <td>17</td>\n",
       "    </tr>\n",
       "    <tr>\n",
       "      <th>198</th>\n",
       "      <td>focus</td>\n",
       "      <td>18</td>\n",
       "    </tr>\n",
       "    <tr>\n",
       "      <th>588</th>\n",
       "      <td>ux</td>\n",
       "      <td>19</td>\n",
       "    </tr>\n",
       "    <tr>\n",
       "      <th>223</th>\n",
       "      <td>great</td>\n",
       "      <td>19</td>\n",
       "    </tr>\n",
       "    <tr>\n",
       "      <th>147</th>\n",
       "      <td>different</td>\n",
       "      <td>20</td>\n",
       "    </tr>\n",
       "    <tr>\n",
       "      <th>303</th>\n",
       "      <td>learn</td>\n",
       "      <td>20</td>\n",
       "    </tr>\n",
       "    <tr>\n",
       "      <th>336</th>\n",
       "      <td>lot</td>\n",
       "      <td>20</td>\n",
       "    </tr>\n",
       "    <tr>\n",
       "      <th>39</th>\n",
       "      <td>attendee</td>\n",
       "      <td>21</td>\n",
       "    </tr>\n",
       "    <tr>\n",
       "      <th>617</th>\n",
       "      <td>workshop</td>\n",
       "      <td>22</td>\n",
       "    </tr>\n",
       "    <tr>\n",
       "      <th>483</th>\n",
       "      <td>session</td>\n",
       "      <td>23</td>\n",
       "    </tr>\n",
       "    <tr>\n",
       "      <th>370</th>\n",
       "      <td>need</td>\n",
       "      <td>24</td>\n",
       "    </tr>\n",
       "    <tr>\n",
       "      <th>555</th>\n",
       "      <td>time</td>\n",
       "      <td>24</td>\n",
       "    </tr>\n",
       "    <tr>\n",
       "      <th>563</th>\n",
       "      <td>topic</td>\n",
       "      <td>25</td>\n",
       "    </tr>\n",
       "    <tr>\n",
       "      <th>505</th>\n",
       "      <td>speaker</td>\n",
       "      <td>26</td>\n",
       "    </tr>\n",
       "    <tr>\n",
       "      <th>182</th>\n",
       "      <td>experience</td>\n",
       "      <td>28</td>\n",
       "    </tr>\n",
       "  </tbody>\n",
       "</table>\n",
       "</div>"
      ],
      "text/plain": [
       "      word_list  count_list\n",
       "310       level          16\n",
       "449      really          16\n",
       "36       attend          16\n",
       "112    consider          16\n",
       "607        want          17\n",
       "201        food          17\n",
       "198       focus          18\n",
       "588          ux          19\n",
       "223       great          19\n",
       "147   different          20\n",
       "303       learn          20\n",
       "336         lot          20\n",
       "39     attendee          21\n",
       "617    workshop          22\n",
       "483     session          23\n",
       "370        need          24\n",
       "555        time          24\n",
       "563       topic          25\n",
       "505     speaker          26\n",
       "182  experience          28"
      ]
     },
     "execution_count": 50,
     "metadata": {},
     "output_type": "execute_result"
    }
   ],
   "source": [
    "#words\n",
    "recommendations_df = find_word_counts(likely.recommendations_text, max_df=.5, stop_words=stopWords, ngram_range=(1,3))\n",
    "recommendations_df.sort_values(by='count_list').tail(20)"
   ]
  },
  {
   "cell_type": "code",
   "execution_count": 51,
   "metadata": {},
   "outputs": [
    {
     "data": {
      "image/png": "[encoded data removed]",
      "text/plain": [
       "<Figure size 432x288 with 1 Axes>"
      ]
     },
     "metadata": {
      "needs_background": "light"
     },
     "output_type": "display_data"
    }
   ],
   "source": [
    "ax = recommendations_df.sort_values(by='count_list').tail(10).plot.barh(x='word_list', \n",
    "                                                                       y='count_list', \n",
    "                                                                       legend=False, \n",
    "                                                                       color=\"#00297f\",\n",
    "                                                                       title=\"Recommendations for Conference\")"
   ]
  },
  {
   "cell_type": "code",
   "execution_count": 52,
   "metadata": {},
   "outputs": [
    {
     "data": {
      "text/plain": [
       "['looking forward',\n",
       " 'introvert extrovert',\n",
       " 'mix speaker',\n",
       " 'high quality',\n",
       " 'want attend',\n",
       " 'healthy food',\n",
       " 'food option',\n",
       " 'time break',\n",
       " 'leading team',\n",
       " 'thought leader',\n",
       " 'panel workshop',\n",
       " 'limit speaker',\n",
       " 'record session',\n",
       " 'virtual attendance',\n",
       " 'consider bringing',\n",
       " 'read article',\n",
       " 'product design',\n",
       " 'senior practitioner',\n",
       " 'having sit',\n",
       " 'different type']"
      ]
     },
     "execution_count": 52,
     "metadata": {},
     "output_type": "execute_result"
    }
   ],
   "source": [
    "nlp.show_column_keywords(likely.recommendations_text, max_df=.9, stop_words=stopWords, ngram_range=(2,7))"
   ]
  },
  {
   "cell_type": "code",
   "execution_count": 53,
   "metadata": {},
   "outputs": [
    {
     "data": {
      "text/html": [
       "<div>\n",
       "<style scoped>\n",
       "    .dataframe tbody tr th:only-of-type {\n",
       "        vertical-align: middle;\n",
       "    }\n",
       "\n",
       "    .dataframe tbody tr th {\n",
       "        vertical-align: top;\n",
       "    }\n",
       "\n",
       "    .dataframe thead th {\n",
       "        text-align: right;\n",
       "    }\n",
       "</style>\n",
       "<table border=\"1\" class=\"dataframe\">\n",
       "  <thead>\n",
       "    <tr style=\"text-align: right;\">\n",
       "      <th></th>\n",
       "      <th>word_list</th>\n",
       "      <th>count_list</th>\n",
       "    </tr>\n",
       "  </thead>\n",
       "  <tbody>\n",
       "    <tr>\n",
       "      <th>44</th>\n",
       "      <td>thought leader</td>\n",
       "      <td>3</td>\n",
       "    </tr>\n",
       "    <tr>\n",
       "      <th>3</th>\n",
       "      <td>case study</td>\n",
       "      <td>3</td>\n",
       "    </tr>\n",
       "    <tr>\n",
       "      <th>47</th>\n",
       "      <td>uxr collective</td>\n",
       "      <td>3</td>\n",
       "    </tr>\n",
       "    <tr>\n",
       "      <th>4</th>\n",
       "      <td>code conduct</td>\n",
       "      <td>4</td>\n",
       "    </tr>\n",
       "    <tr>\n",
       "      <th>23</th>\n",
       "      <td>level experience</td>\n",
       "      <td>5</td>\n",
       "    </tr>\n",
       "  </tbody>\n",
       "</table>\n",
       "</div>"
      ],
      "text/plain": [
       "           word_list  count_list\n",
       "44    thought leader           3\n",
       "3         case study           3\n",
       "47    uxr collective           3\n",
       "4       code conduct           4\n",
       "23  level experience           5"
      ]
     },
     "execution_count": 53,
     "metadata": {},
     "output_type": "execute_result"
    }
   ],
   "source": [
    "#ngrams\n",
    "recommendations_df = find_word_counts(likely.recommendations_text, max_df=.5, stop_words=stopWords, ngram_range=(2,3))\n",
    "recommendations_df.sort_values(by='count_list').tail(5)"
   ]
  },
  {
   "cell_type": "code",
   "execution_count": 54,
   "metadata": {},
   "outputs": [
    {
     "data": {
      "text/plain": [
       "speaker, industry      67\n",
       "group, career, city    57\n",
       "event, opportunity     52\n",
       "good, know             45\n",
       "field, survery         41\n",
       "Name: recommendations_topic_id, dtype: int64"
      ]
     },
     "execution_count": 54,
     "metadata": {},
     "output_type": "execute_result"
    }
   ],
   "source": [
    "likely[likely.recommendations_text.notnull()].recommendations_topic_id.value_counts()"
   ]
  },
  {
   "cell_type": "markdown",
   "metadata": {},
   "source": [
    "## Top Documents per Topic"
   ]
  },
  {
   "cell_type": "code",
   "execution_count": 55,
   "metadata": {},
   "outputs": [
    {
     "data": {
      "text/plain": [
       "LatentDirichletAllocation(batch_size=128, doc_topic_prior=None,\n",
       "                          evaluate_every=-1, learning_decay=0.7,\n",
       "                          learning_method='batch', learning_offset=10.0,\n",
       "                          max_doc_update_iter=100, max_iter=10,\n",
       "                          mean_change_tol=0.001, n_components=4, n_jobs=None,\n",
       "                          perp_tol=0.1, random_state=42, topic_word_prior=None,\n",
       "                          total_samples=1000000.0, verbose=0)"
      ]
     },
     "execution_count": 55,
     "metadata": {},
     "output_type": "execute_result"
    }
   ],
   "source": [
    "doc_term_matrix, count_vect = nlp.create_wordcount_matrix(likely.recommendations_text, max_df=.3, ngram=(1,3), stop_words=stopWords)\n",
    "\n",
    "LDA = LatentDirichletAllocation(n_components=4, random_state=42)\n",
    "\n",
    "LDA.fit(doc_term_matrix)\n",
    "\n",
    "#nlp.find_top_documents_per_topic(LDA.transform(doc_term_matrix), likely.recommendations_text, 5)"
   ]
  },
  {
   "cell_type": "code",
   "execution_count": 56,
   "metadata": {},
   "outputs": [],
   "source": [
    "recommendations_dict = {0 : 'speaker, industry', \n",
    "                        1 : 'event, opportunity', \n",
    "                        2 : 'good, know', \n",
    "                        3 : 'field, survery', \n",
    "                        4 : 'group, career, city'}"
   ]
  },
  {
   "cell_type": "code",
   "execution_count": 57,
   "metadata": {},
   "outputs": [
    {
     "name": "stdout",
     "output_type": "stream",
     "text": [
      "Top 5 Documents for Topic 0: \n",
      "\n",
      "Document 1\n",
      "Please have a conference about research!!! Design is so much more widely accepted and gaining traction, and research teams are coming up right behind them (in my universe, not everywhere). Would love to learn about best practices, methods, how to make an impact. I would love the opportunity to build more solid relationships with the interesting people I have encountered in places like Twitter and Slack. Have it in NYC, that is your stomping ground! Try it as a 1 day event and see how it goes. If it's awesome, make it longer + workshops. I'd love a day in NYC to hear a bunch of talks. I would also love to see how I could be paired or teamed up with people who have a similar level of experience/challenges so we could cohort together and share how we work and help each other advance. Looking forward to hearing more about your findings and how this might manifest into an event!\n",
      "\n",
      "Document 2\n",
      "Consider that the audience may be in different maturity levels of the research practice at least for some sessions so you may have different tracks based on that to cover a wider range of people.\n",
      "\n",
      "At a certain level of maturity, co-working sessions can be more enlighting than workshops so it may be interesting to build some knowledge from the conference. Especially because product design research is a discipline that we are currently nailing and adapting to our needs and there are lots of topics that we should build together as a community. It is tricky in logistic terms but very catchy as well.\n",
      "\n",
      "To have different ways to assist to the conference so you can afford a broader audience (i.e: people that cannot attend due to the length of the event or its total price when it means travelling abroad to expensive cities such as SF or NYC).\n",
      "\n",
      "Document 3\n",
      "Don't be afraid to mimic conferences that are doing things right.\n",
      "For instance, An Event Apart limits their attendees to a manageable size and highly curates their speakers.\n",
      "Front Utah did a great job with the welcoming committee and allowing for longer breaks between sessions (4 30-minute talks, and then a 30 minute break). They also did a great job of getting folks out into the surrounding city where they host (every swag bag had a $20 bill and a map of local restaurants w/in walking distance -- attendees were encouraged to group up and go find lunch).\n",
      "Lots of conferences use Slack for pre-conference introductions, a channel for each speaker, they handle Q&A through the Slack channels (which allows attendees to \"vote\" for their questions if they've already been asked)... it's an interesting use of a communication platform like that.\n",
      "\n",
      "Document 4\n",
      "Have a lot of them rather than one, small, exclusive one. Go do it where the interested attendees are.\n",
      "Offer day-long or multiday workshops for the people who need to learn methods.\n",
      "Look into whether you could offer continuing education credits for people who need that.\n",
      "Ask attendees during registration to chip in to the scholarship funds for people who can't pay to go. Get some sponsorship for that.\n",
      "No plastic water bottles and as few as possible disposables\n",
      "No junk swag, no RM-logo t-shirts\n",
      "Recycle lanyards and badgeholders\n",
      "No photos without permission\n",
      "People can put what they want on their badges, but focus on first names\n",
      "Get someone to make a more usable Attendify and use that\n",
      "Start a Mattermost for attendees to talk and network in across all your conferences\n",
      "Publish videos of all the talks for free so you can help people not have to travel and so you can multiply the educational effectiveness over time and distance\n",
      "Breakfast worth waking up for\n",
      "Easy ways to hang out with each other in the evenings, such as dinner party lotteries, BOFs, geeky fun\n",
      "Sessions that start no earlier than 10 and quit no later than 6\n",
      "Long lunch break if people have to find it outside and do it during rush-lunch\n",
      "Coffee worth drinking\n",
      "An observational outing to a fascinating nearby place\n",
      "Gee, I better quit here before I end up on a committee or something\n",
      "\n",
      "Document 5\n",
      "I don't know what the ideal ratio is for most people  of talks to not-talks. My growing preference is \"anything but talks\". Sitting quietly to see people talk for 8 hours seems like an inefficient way to learn or spend your time, and doesn't suit my learning style.\n",
      "A mix of workshops, hands-on learning, lightning talks by new speakers with new perspectives to share, off-site activities / site visits, \"networking by doing stuff\"... that would be my sweet spot. Throw in a keynote or two maybe. \n",
      "I feel I am not alone in this view, especially when i talk to more senior practitioners. They are often not in the talk but outside, chatting. \n",
      "\n",
      "Other advice: I'm biased and maybe trying to sell my own agenda a bit here, but feel that there is a growing distaste for long-haul air travel. You're seeing that in Europe in the \"never fly\" movement. \n",
      "If you did multiple regional events (a bit like how An Event Apart does it), instead of a big International 1-time event, that could help environmentally-conscious folk make the decision more easily. \n",
      "Also, having a posted zero-waste approach (no vendor tchotckes!), carbon offset policy, etc can help ppl alleviate the guilt.  \n",
      "\n",
      "Remote events: I know Rosenfeld has done all-remote events in the past (I don't know how they went, I haven't seen any new ones posted). I'm curious about the potential of remote workshop events over just remote \"webinar\" talky events. I've been to a couple of remote design/participation events (facilitated by Jim Kalbach's MURAL), and I think they are on to something. \n",
      "\n",
      "Top 5 Documents for Topic 1: \n",
      "\n",
      "Document 1\n",
      "Don't assume that you know; continue to hone and refine with input from potential participants.\n",
      "Ask keynote speakers to talk specifics- not super generic 'my company is so amazing because we do great research\"; really get into the details or the specifics.  I'd rather see a keynote that doesn't have a flashy C-Suite title but is capable of actually talking about what's going on in the world than a C-Suite flashy name that isn't actually doing the work any more, but is just leading a team through it (and then taking the credit for being a 'thought leader' to this amazing team).\n",
      "\n",
      "Document 2\n",
      "The two conferences I have attended in the past year have been on the smaller side (250-500 attendees), have been 1 or 2 days, and had built-in networking times with a social hour after. Both of these conferences (UX Burlington and Talk UX) were nicely intimate, and you could eat lunch with the speakers if you were lucky to sit at the same table as them. Lot's of food options for folks with food sensitivities and allergies is always appreciated! Most conferences default to the sandwich/wrap/salad option, but I always say conferences should consider a burrito bar. \n",
      "\n",
      "Document 3\n",
      "please do it!1!!!11!!!1!\n",
      "also advice - talks that are vague/high level are scientifically engineered to make me upset. I am pretty engaged in the research/design community (conferences, panels, workshops, in a bunch of  Slack communities, way too plugged in to Design Twitter) so when I go to conferences, I really want to be able to take deep dives and continue in-depth conversations that I've been having on-line, at the conference. \n",
      "I think RM does this exceptionally well, and if you created a research specific conference I would give you all my money.\n",
      "\n",
      "Document 4\n",
      "I'd love to be involved in that, as I'm pretty passionate about supporting and growing researchers.  \n",
      "\n",
      "I see a huge number of early-career folks who are struggling to get work in UX research roles, and we need to get them real-world experience (not just the General Assembly courses or an academic degree).  The world will benefit greatly from having more skilled researchers in it, but the current paths we have for gaining experience are fairly limited.  We need to grow more senior researchers and research strategists. We need to grow business acumen and help people gain strategies for dealing with organizations that don't embrace research (or apply the results).  \n",
      "\n",
      "I would LOVE to have a \"Conspiracy\" session - to envision and map out how Research can move from a supportive role to one that drives the direction that companies invest in.  How might we change the power-structure over time (what types of events, people, actions need to be embraced to get us there as a \"field\".  I'd love to lead that conversation... :)\n",
      "\n",
      "Document 5\n",
      "Ha ha ha. I wonder how this would be similar to or different from EPIC? I like the idea of a small, intimate conference that focuses on interactive sessions and workshops rather than papers (there is a place for that too, but I feel there are enough of those). I'd love a space where I can take my own challenges on my team and in terms of my experience and work on those so I have a game plan when I get back to my office--i.e. maybe some coaching in how to define challenges and possible approaches, with some solid materials on tech trends in digital products. \n",
      "\n",
      "I also see a space for retraining academics for this field--I get asked about this a lot and have written about it on my website (http://www.rachelfleming.net/faqs) and will be writing more, as this is a critical need right now. I want to get involved more in helping academics find new employment options. \n",
      "\n",
      "I'm not sure where you're based but having the conference be within the US would probably help with getting my company to pay for it. Advertising well in advance is also helpful because I have to decide about the conference I'm attending several months before. As for venue, I prefer retreat settings to a hotel or conference center, to set the tone of it being a transformational experience. \n",
      "\n",
      "Top 5 Documents for Topic 2: \n",
      "\n",
      "Document 1\n",
      "Keep it small and focused.  Allow for very interactive participant interactions. Be easy to get to, affordable and with delicious healthy food.  Give enough time for breaks and for participants to network with each other.  Follow-up within one week of the conference with a \"what worked, what didn't work\" evaluation and include suggestions for future conferences.\n",
      "\n",
      "Document 2\n",
      "Allow streaming for people abroad. Even invest in translators for other language audiences. There is a huge market in Latin America that normally can afford attend for the high cost of travelling but there's a lot of companies that will be willing to pay online for high quality content.\n",
      "\n",
      "Provide guides, tools, road maps... Create networking or community beyond the conference.  \n",
      "\n",
      "\n",
      "\n",
      "\n",
      "\n",
      "Document 3\n",
      "\"hypothetically\" ;)\n",
      "\n",
      "Given your author base, I can easily see Rosenfeld putting together an amazing lineup for a conference.  Your far greater challenge -- as you know, hence this survey -- is carving out your niche. I wish I had better advice about that.\n",
      "\n",
      "I feel that the \"techniques\" side is covered across a range of conferences. I feel like there are less conferences that really focus on the strategic (and possibly ops) side of research. Likewise there might be opportunities around more directly exploring the alchemic process of turning research into action.\n",
      "\n",
      "Document 4\n",
      "This goes in the face of all of my previous answers because I don't really like workshops, but I think opportunities to apply what's being presented are really impactful. If there are creative ways to build activities into the day, that would be fun. I went to the Innovation Learning Network in-person event a few years ago and they organized surprise field trips to local organizations who were doing innovation work; that was a cool non-workshop way to bring the conference topics to life. \n",
      "\n",
      "Document 5\n",
      "Reminder that not all UX research projects begin with an app or digital experience in mind. Much of the solutions to today’s problems require behavior change that won’t be cured with a shiny toy. Analog methods are still very much relevant. Play is still very much a part of discovery.\n",
      "\n",
      "Other than that, pick a location that is convenient and not to expensive and that is near reasonably priced dining and accommodations and transportation hubs. Find ways to welcome all types of people, like activities that accommodate both introverts and extroverts, healthy food options that address various diets, time during breaks and comfortable hallways to network in, if possible offer a one day or two day pass. \n",
      "\n",
      "Top 5 Documents for Topic 3: \n",
      "\n",
      "Document 1\n",
      "Keep it real, not professors but real practicians of Research using real business / client examples.\n",
      "\n",
      "During the week, starting no earlier than 10am to allow for travel and limit costs. \n",
      "\n",
      "Don't extend lunches and breaks - keep them short and snappy with enough time to eat / network but then get back to the main purpose of the conference. \n",
      "\n",
      "Document 2\n",
      "I realize this is challenging but cost matters so try to keep it low. In some cases, I've paid for things myself because the company hasn't paid for it. I wish more event planners would consider regular everyday job blow who can't pay thousands to go to a conference, especially if they need to travel too. \n",
      "\n",
      "Document 3\n",
      "To me one of the main goals when attending a conference is to learn/improve my skills. Sometimes I got the feeling that there's not such a chance to learn or improve skills when conferences are structured more into multi-track events than in workshops. I am more likely to attend a conference (and pay for it) knowing that hands on activities are involved. That's what I love from the Adaptive Path's workshops. Based on my conversations with some of the attendees to a conference that was something they were looking to get out of the conference\n",
      "\n",
      "Document 4\n",
      "Make sure to consider the needs of attendees at all stages of their career. Past conferences I have attended have sometimes felt more appropriate for one audience vs another (e.g., early career qual researchers vs veterans) and this can result in a conference that is not as valuable as it should be to a large segment of attendees.\n",
      "\n",
      "Also consider offering speaking/presentation slots of 90 minutes in addition to shorter 50-60 minute sessions. The QRCA annual conference used to include both but has recently eliminated the 90 minute slots. For some topics and speakers, 60 min is adequate but in some cases, a session would be much better in a longer format, especially if it enables greater Q&A/audience interaction.\n",
      "\n",
      "Document 5\n",
      "First, please do it. It is needed. UXR Collective's success demonstrates that there is significant untapped demand.\n",
      "2) Speaking of which, reach out to the UXR Collective and learn from them. They've done a fantastic job of fostering community while scaling dramatically, and--while I can't speak to the attendee experience in isolation--my experience as a speaker was wonderful.\n",
      "3) Please stress accessibility by paying speakers and offering heavily discounted tix for members of marginalized groups and discounted tix for freelancers.\n",
      "4) As mentioned previously, please focus (or provide a topic track) for advanced topics. I'm getting tired of attending networking conferences with superficial sessions. (That's more true of the emerging tech conferences I attend than the UXR conferences I've attended, but still.)\n",
      "I'm sure I could come up with some more, but I've spent a lot of time on this and have to get to a meeting. Also, I suspect I'm an outlier. But I'd be happy to help if you have additional questions--contact info below.\n",
      "\n"
     ]
    }
   ],
   "source": [
    "nlp.find_top_documents_per_topic(LDA.transform(doc_term_matrix), likely.recommendations_text, 5)"
   ]
  },
  {
   "cell_type": "code",
   "execution_count": null,
   "metadata": {},
   "outputs": [],
   "source": []
  }
 ],
 "metadata": {
  "kernelspec": {
   "display_name": "Python 3",
   "language": "python",
   "name": "python3"
  },
  "language_info": {
   "codemirror_mode": {
    "name": "ipython",
    "version": 3
   },
   "file_extension": ".py",
   "mimetype": "text/x-python",
   "name": "python",
   "nbconvert_exporter": "python",
   "pygments_lexer": "ipython3",
   "version": "3.7.3"
  }
 },
 "nbformat": 4,
 "nbformat_minor": 2
}

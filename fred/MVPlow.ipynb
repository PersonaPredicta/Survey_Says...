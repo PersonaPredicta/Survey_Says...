{
 "cells": [
  {
   "cell_type": "code",
   "execution_count": 1,
   "metadata": {},
   "outputs": [],
   "source": [
    "import sys\n",
    "sys.path.append('../')\n",
    "import wrangle\n",
    "import explore\n",
    "import nlp"
   ]
  },
  {
   "cell_type": "code",
   "execution_count": 2,
   "metadata": {},
   "outputs": [],
   "source": [
    "from sklearn.decomposition import LatentDirichletAllocation\n",
    "from sklearn.feature_extraction.text import CountVectorizer\n",
    "import pandas as pd\n",
    "import numpy as np"
   ]
  },
  {
   "cell_type": "code",
   "execution_count": 3,
   "metadata": {},
   "outputs": [],
   "source": [
    "pd.set_option('display.max_columns', None)\n",
    "\n",
    "df, data_dict = wrangle.wrangle_data()"
   ]
  },
  {
   "cell_type": "code",
   "execution_count": 10,
   "metadata": {},
   "outputs": [],
   "source": [
    "df = explore.add_target_to_df(df)\n",
    "\n",
    "targetB = df.targetb\n",
    "\n",
    "targetB = targetB.reset_index().drop('resp_id',axis=1)"
   ]
  },
  {
   "cell_type": "code",
   "execution_count": 11,
   "metadata": {},
   "outputs": [],
   "source": [
    "big_df = pd.read_csv('topics.csv', index_col=False)\n",
    "\n",
    "big_df.drop('Unnamed: 0', axis=1,inplace=True)"
   ]
  },
  {
   "cell_type": "code",
   "execution_count": 12,
   "metadata": {},
   "outputs": [],
   "source": [
    "big_df['targetB'] = targetB"
   ]
  },
  {
   "cell_type": "code",
   "execution_count": 15,
   "metadata": {},
   "outputs": [],
   "source": [
    "likely = big_df[big_df.targetB == 1]"
   ]
  },
  {
   "cell_type": "code",
   "execution_count": 16,
   "metadata": {},
   "outputs": [
    {
     "data": {
      "text/plain": [
       "(372, 32)"
      ]
     },
     "execution_count": 16,
     "metadata": {},
     "output_type": "execute_result"
    }
   ],
   "source": [
    "likely.shape"
   ]
  },
  {
   "cell_type": "code",
   "execution_count": 17,
   "metadata": {},
   "outputs": [],
   "source": [
    "stop_words = ['like', 'plus', 'real', 'love', 'big', 'avoiding', 'mean', 'content', 'people', 'problem', \n",
    "              'doing', 'using','research', 'work', 'don', 'make', 'conference', 'yes', 've', 'ha']\n",
    "\n",
    "stopWords = nlp.set_stop_words(stop_words)"
   ]
  },
  {
   "cell_type": "markdown",
   "metadata": {},
   "source": [
    "# Respondents Likely To Go"
   ]
  },
  {
   "cell_type": "markdown",
   "metadata": {},
   "source": [
    "## Sentiment"
   ]
  },
  {
   "cell_type": "code",
   "execution_count": 18,
   "metadata": {},
   "outputs": [
    {
     "data": {
      "text/plain": [
       "0.22151873416100337"
      ]
     },
     "execution_count": 18,
     "metadata": {},
     "output_type": "execute_result"
    }
   ],
   "source": [
    "likely.big_answer.apply(nlp.find_polarity).mean()"
   ]
  },
  {
   "cell_type": "code",
   "execution_count": 19,
   "metadata": {},
   "outputs": [
    {
     "data": {
      "text/plain": [
       "0.4278503728167686"
      ]
     },
     "execution_count": 19,
     "metadata": {},
     "output_type": "execute_result"
    }
   ],
   "source": [
    "likely.big_answer.apply(nlp.find_subjectivity).mean()"
   ]
  },
  {
   "cell_type": "markdown",
   "metadata": {},
   "source": [
    "## TOTAL KEYWORDS"
   ]
  },
  {
   "cell_type": "code",
   "execution_count": 20,
   "metadata": {},
   "outputs": [
    {
     "data": {
      "text/plain": [
       "['sort',\n",
       " 'psychology',\n",
       " 'professional',\n",
       " 'depending',\n",
       " 'connection',\n",
       " 'researchresearch',\n",
       " 'method',\n",
       " 'statistic',\n",
       " 'training',\n",
       " 'undergraduate',\n",
       " 'graduate',\n",
       " 'cost',\n",
       " 'timing',\n",
       " 'away',\n",
       " 'time',\n",
       " 'scheduling',\n",
       " 'workshop',\n",
       " 'small',\n",
       " 'intimate',\n",
       " 'international']"
      ]
     },
     "execution_count": 20,
     "metadata": {},
     "output_type": "execute_result"
    }
   ],
   "source": [
    "nlp.show_column_keywords(likely.big_answer, max_df=.8, stop_words=stopWords, ngram_range=(1,3))"
   ]
  },
  {
   "cell_type": "markdown",
   "metadata": {},
   "source": [
    "## What topics would they be most attracted to at a conference about research?\n",
    "\n",
    "q21 ideal_topics"
   ]
  },
  {
   "cell_type": "code",
   "execution_count": null,
   "metadata": {},
   "outputs": [],
   "source": [
    "stop_words = ['like', 'plus', 'real', 'love', 'big', 'avoiding', 'mean', 'content', 'people', 'problem', \n",
    "              'doing', 'using','research', 'work', 'don', 'make', 'conference', 'good', 'best', 'self', 'report']"
   ]
  },
  {
   "cell_type": "code",
   "execution_count": null,
   "metadata": {},
   "outputs": [],
   "source": [
    "stopWords = nlp.set_stop_words(stop_words)"
   ]
  },
  {
   "cell_type": "markdown",
   "metadata": {},
   "source": [
    "### keywords"
   ]
  },
  {
   "cell_type": "code",
   "execution_count": 21,
   "metadata": {},
   "outputs": [
    {
     "data": {
      "text/plain": [
       "['design',\n",
       " 'innovative',\n",
       " 'method',\n",
       " 'communicating',\n",
       " 'working',\n",
       " 'nonresearchers',\n",
       " 'cycle',\n",
       " 'innovative method',\n",
       " 'method communicating',\n",
       " 'participatory',\n",
       " 'analysis',\n",
       " 'design participatory',\n",
       " 'session',\n",
       " 'new',\n",
       " 'methodology',\n",
       " 'case',\n",
       " 'study',\n",
       " 'new methodology',\n",
       " 'case study',\n",
       " 'participant']"
      ]
     },
     "execution_count": 21,
     "metadata": {},
     "output_type": "execute_result"
    }
   ],
   "source": [
    "#words\n",
    "nlp.show_column_keywords(likely.ideal_topics_text, max_df=.5, stop_words=stopWords, ngram_range=(1,3))"
   ]
  },
  {
   "cell_type": "code",
   "execution_count": 22,
   "metadata": {},
   "outputs": [
    {
     "data": {
      "text/plain": [
       "['innovative method',\n",
       " 'method communicating',\n",
       " 'design participatory',\n",
       " 'new methodology',\n",
       " 'case study',\n",
       " 'participant recruitment',\n",
       " 'recruitment strategy',\n",
       " 'participant recruitment strategy',\n",
       " 'best practice',\n",
       " 'space solution',\n",
       " 'theory practice',\n",
       " 'sell qualitative',\n",
       " 'qualitative quantitative',\n",
       " 'qualitative data',\n",
       " 'want hear',\n",
       " 'creative approach',\n",
       " 'conducting analyzing',\n",
       " 'cutting edge',\n",
       " 'application method',\n",
       " 'data science']"
      ]
     },
     "execution_count": 22,
     "metadata": {},
     "output_type": "execute_result"
    }
   ],
   "source": [
    "#bi-grams\n",
    "nlp.show_column_keywords(likely.ideal_topics_text, max_df=.5, stop_words=stopWords, ngram_range=(2,3))"
   ]
  },
  {
   "cell_type": "markdown",
   "metadata": {},
   "source": [
    "### topics"
   ]
  },
  {
   "cell_type": "code",
   "execution_count": 23,
   "metadata": {},
   "outputs": [
    {
     "data": {
      "text/plain": [
       "quant/qual/data             77\n",
       "case_study                  73\n",
       "new_method, mixed_method    71\n",
       "ops/ai                      63\n",
       "Name: ideal_topics_topic_id, dtype: int64"
      ]
     },
     "execution_count": 23,
     "metadata": {},
     "output_type": "execute_result"
    }
   ],
   "source": [
    "likely[likely.ideal_topics_text.notnull()].ideal_topics_topic_id.value_counts()"
   ]
  },
  {
   "cell_type": "markdown",
   "metadata": {},
   "source": [
    "## Who would they expect to see at a conference about research?\n",
    "\n",
    "q22 Ideal Attendees"
   ]
  },
  {
   "cell_type": "code",
   "execution_count": null,
   "metadata": {},
   "outputs": [],
   "source": [
    "stop_words = ['like', 'plus', 'real', 'love', 'big', 'avoiding', 'mean', 'content', 'people', 'problem', \n",
    "              'doing', 'using','research', 'work', 'don', 'make', 'conference']\n",
    "\n",
    "stopWords = nlp.set_stop_words(stop_words)"
   ]
  },
  {
   "cell_type": "code",
   "execution_count": 24,
   "metadata": {},
   "outputs": [
    {
     "data": {
      "text/plain": [
       "['company',\n",
       " 'academic',\n",
       " 'researcher',\n",
       " 'public',\n",
       " 'maker',\n",
       " 'academic researcher',\n",
       " 'leading',\n",
       " 'known',\n",
       " 'skill',\n",
       " 'set',\n",
       " 'expertise',\n",
       " 'good',\n",
       " 'sam',\n",
       " 'ladner',\n",
       " 'sam ladner',\n",
       " 'open',\n",
       " 'woman',\n",
       " 'minority',\n",
       " 'walk',\n",
       " 'just']"
      ]
     },
     "execution_count": 24,
     "metadata": {},
     "output_type": "execute_result"
    }
   ],
   "source": [
    "#terms\n",
    "nlp.show_column_keywords(likely.ideal_attendees_text, max_df=.5, stop_words=stopWords)"
   ]
  },
  {
   "cell_type": "code",
   "execution_count": 25,
   "metadata": {},
   "outputs": [
    {
     "data": {
      "text/plain": [
       "['academic researcher',\n",
       " 'sam ladner',\n",
       " 'different field',\n",
       " 'civic tech',\n",
       " 'steve portigal',\n",
       " 'working company',\n",
       " 'kim goodwin',\n",
       " 'laura klein',\n",
       " 'way working',\n",
       " 'industry folk',\n",
       " 'social scientist',\n",
       " 'industry thought',\n",
       " 'thought leader',\n",
       " 'natalie hanson',\n",
       " 'industry leader',\n",
       " 'jared spool',\n",
       " 'spool steve',\n",
       " 'google facebook',\n",
       " 'jared spool steve',\n",
       " 'spool steve portigal']"
      ]
     },
     "execution_count": 25,
     "metadata": {},
     "output_type": "execute_result"
    }
   ],
   "source": [
    "#bigrams\n",
    "nlp.show_column_keywords(likely.ideal_attendees_text, max_df=.5, stop_words=stopWords, ngram_range=(2,3))"
   ]
  },
  {
   "cell_type": "code",
   "execution_count": 26,
   "metadata": {},
   "outputs": [
    {
     "data": {
      "text/plain": [
       "industry, team, product    76\n",
       "sam ladner, erika hall     55\n",
       "indi young                 52\n",
       "experience, jared spool    52\n",
       "Name: ideal_attendees_topic_id, dtype: int64"
      ]
     },
     "execution_count": 26,
     "metadata": {},
     "output_type": "execute_result"
    }
   ],
   "source": [
    "likely[likely.ideal_attendees_text.notnull()].ideal_attendees_topic_id.value_counts()"
   ]
  },
  {
   "cell_type": "markdown",
   "metadata": {},
   "source": [
    "## What advice do they have for the Rosenfeld Media team in pursuing a conference?\n",
    "q23 recommendations"
   ]
  },
  {
   "cell_type": "code",
   "execution_count": 27,
   "metadata": {},
   "outputs": [
    {
     "data": {
      "text/plain": [
       "['dont',\n",
       " 'create',\n",
       " 'schedule',\n",
       " 'relevant',\n",
       " 'event',\n",
       " 'looking',\n",
       " 'forward',\n",
       " 'looking forward',\n",
       " 'nice',\n",
       " 'bring',\n",
       " 'practitioner',\n",
       " 'researcher',\n",
       " 'academic',\n",
       " 'position',\n",
       " 'similar',\n",
       " 'tool',\n",
       " 'strategy',\n",
       " 'key',\n",
       " 'opinion',\n",
       " 'leader']"
      ]
     },
     "execution_count": 27,
     "metadata": {},
     "output_type": "execute_result"
    }
   ],
   "source": [
    "#words\n",
    "nlp.show_column_keywords(likely.recommendations_text, max_df=.9, stop_words=stopWords, ngram_range=(1,7))"
   ]
  },
  {
   "cell_type": "code",
   "execution_count": 28,
   "metadata": {},
   "outputs": [
    {
     "data": {
      "text/plain": [
       "['looking forward',\n",
       " 'good luck',\n",
       " 'event know',\n",
       " 'ux researcher',\n",
       " 'advice talk',\n",
       " 'networking event',\n",
       " 'introvert extrovert',\n",
       " 'food good',\n",
       " 'good mix',\n",
       " 'mix speaker',\n",
       " 'way learn',\n",
       " 'high quality',\n",
       " 'want attend',\n",
       " 'healthy food',\n",
       " 'food option',\n",
       " 'time break',\n",
       " 'talk specific',\n",
       " 'leading team',\n",
       " 'thought leader',\n",
       " 'lightning talk']"
      ]
     },
     "execution_count": 28,
     "metadata": {},
     "output_type": "execute_result"
    }
   ],
   "source": [
    "#ngrams\n",
    "nlp.show_column_keywords(likely.recommendations_text, max_df=.9, stop_words=stopWords, ngram_range=(2,7))"
   ]
  },
  {
   "cell_type": "code",
   "execution_count": 29,
   "metadata": {},
   "outputs": [
    {
     "data": {
      "text/plain": [
       "speaker, industry      67\n",
       "group, career, city    57\n",
       "event, opportunity     52\n",
       "good, know             45\n",
       "field, survery         41\n",
       "Name: recommendations_topic_id, dtype: int64"
      ]
     },
     "execution_count": 29,
     "metadata": {},
     "output_type": "execute_result"
    }
   ],
   "source": [
    "likely[likely.recommendations_text.notnull()].recommendations_topic_id.value_counts()"
   ]
  },
  {
   "cell_type": "markdown",
   "metadata": {},
   "source": [
    "## Top Documents per Topic"
   ]
  },
  {
   "cell_type": "code",
   "execution_count": 30,
   "metadata": {},
   "outputs": [
    {
     "data": {
      "text/plain": [
       "LatentDirichletAllocation(batch_size=128, doc_topic_prior=None,\n",
       "                          evaluate_every=-1, learning_decay=0.7,\n",
       "                          learning_method='batch', learning_offset=10.0,\n",
       "                          max_doc_update_iter=100, max_iter=10,\n",
       "                          mean_change_tol=0.001, n_components=4, n_jobs=None,\n",
       "                          perp_tol=0.1, random_state=42, topic_word_prior=None,\n",
       "                          total_samples=1000000.0, verbose=0)"
      ]
     },
     "execution_count": 30,
     "metadata": {},
     "output_type": "execute_result"
    }
   ],
   "source": [
    "doc_term_matrix, count_vect = nlp.create_wordcount_matrix(likely.recommendations_text, max_df=.3, ngram=(1,3), stop_words=stopWords)\n",
    "\n",
    "LDA = LatentDirichletAllocation(n_components=4, random_state=42)\n",
    "\n",
    "LDA.fit(doc_term_matrix)"
   ]
  },
  {
   "cell_type": "code",
   "execution_count": null,
   "metadata": {},
   "outputs": [],
   "source": [
    "recommendations_dict = {0 : 'speaker, industry', \n",
    "                        1 : 'event, opportunity', \n",
    "                        2 : 'good, know', \n",
    "                        3 : 'field, survery', \n",
    "                        4 : 'group, career, city'}"
   ]
  },
  {
   "cell_type": "code",
   "execution_count": 31,
   "metadata": {},
   "outputs": [
    {
     "name": "stdout",
     "output_type": "stream",
     "text": [
      "Top 5 Documents for Topic 0: \n",
      "\n",
      "Document 1\n",
      "I think more events for experienced practitioners would be nice. I’m not sure how’d you’d do that at a conference, but, in general, it’s nice to have space for people who are trying to advance research at their organization. A lot of events seem geared toward getting research off the ground or breaking into the business, which I also love, but sometimes it’s nice to have a conversation that goes beyond the basics. \n",
      "\n",
      "Document 2\n",
      "Short periods of structured interaction are good - NOT \"find a buddy and learn about each other\" but more like group speed dating: \"Create a circle of 5-6 chairs and for 10 minutes your topic is X.\" \n",
      "\n",
      "Provide ways to text Qs to a moderator, who can then ask them of the speaker at the end of the talk - because if I have to ask a Q with a microphone, I will be too distracted by that to concentrate on the talk itself.\n",
      "\n",
      "Lots of bottled water for breaks - conferences always run out and leave nothing but flavored drinks.\n",
      "\n",
      "\n",
      "\n",
      "\n",
      "Document 3\n",
      "For the love of god, do not ask non-researchers to present actual research. It's so terribly disheartening to see poor-quality research presented from a stage. Have professionals do it. If you get researchers who know what they're doing, they may need coaching for how to present dramatically and with interest. I'd rather see someone who has contributed to the knowledge of the world who needs a little help with jazz hands than some 28-year-old who doesn't know what a p-value is pretend they've just invented \"technology studies.\"\n",
      "\n",
      "Document 4\n",
      "Don't assume that you know; continue to hone and refine with input from potential participants.\n",
      "Ask keynote speakers to talk specifics- not super generic 'my company is so amazing because we do great research\"; really get into the details or the specifics.  I'd rather see a keynote that doesn't have a flashy C-Suite title but is capable of actually talking about what's going on in the world than a C-Suite flashy name that isn't actually doing the work any more, but is just leading a team through it (and then taking the credit for being a 'thought leader' to this amazing team).\n",
      "\n",
      "Document 5\n",
      "I'd love to be involved in that, as I'm pretty passionate about supporting and growing researchers.  \n",
      "\n",
      "I see a huge number of early-career folks who are struggling to get work in UX research roles, and we need to get them real-world experience (not just the General Assembly courses or an academic degree).  The world will benefit greatly from having more skilled researchers in it, but the current paths we have for gaining experience are fairly limited.  We need to grow more senior researchers and research strategists. We need to grow business acumen and help people gain strategies for dealing with organizations that don't embrace research (or apply the results).  \n",
      "\n",
      "I would LOVE to have a \"Conspiracy\" session - to envision and map out how Research can move from a supportive role to one that drives the direction that companies invest in.  How might we change the power-structure over time (what types of events, people, actions need to be embraced to get us there as a \"field\".  I'd love to lead that conversation... :)\n",
      "\n",
      "Top 5 Documents for Topic 1: \n",
      "\n",
      "Document 1\n",
      "\"hypothetically\" ;)\n",
      "\n",
      "Given your author base, I can easily see Rosenfeld putting together an amazing lineup for a conference.  Your far greater challenge -- as you know, hence this survey -- is carving out your niche. I wish I had better advice about that.\n",
      "\n",
      "I feel that the \"techniques\" side is covered across a range of conferences. I feel like there are less conferences that really focus on the strategic (and possibly ops) side of research. Likewise there might be opportunities around more directly exploring the alchemic process of turning research into action.\n",
      "\n",
      "Document 2\n",
      "This goes in the face of all of my previous answers because I don't really like workshops, but I think opportunities to apply what's being presented are really impactful. If there are creative ways to build activities into the day, that would be fun. I went to the Innovation Learning Network in-person event a few years ago and they organized surprise field trips to local organizations who were doing innovation work; that was a cool non-workshop way to bring the conference topics to life. \n",
      "\n",
      "Document 3\n",
      "Consider that the audience may be in different maturity levels of the research practice at least for some sessions so you may have different tracks based on that to cover a wider range of people.\n",
      "\n",
      "At a certain level of maturity, co-working sessions can be more enlighting than workshops so it may be interesting to build some knowledge from the conference. Especially because product design research is a discipline that we are currently nailing and adapting to our needs and there are lots of topics that we should build together as a community. It is tricky in logistic terms but very catchy as well.\n",
      "\n",
      "To have different ways to assist to the conference so you can afford a broader audience (i.e: people that cannot attend due to the length of the event or its total price when it means travelling abroad to expensive cities such as SF or NYC).\n",
      "\n",
      "Document 4\n",
      "Make sure to consider the needs of attendees at all stages of their career. Past conferences I have attended have sometimes felt more appropriate for one audience vs another (e.g., early career qual researchers vs veterans) and this can result in a conference that is not as valuable as it should be to a large segment of attendees.\n",
      "\n",
      "Also consider offering speaking/presentation slots of 90 minutes in addition to shorter 50-60 minute sessions. The QRCA annual conference used to include both but has recently eliminated the 90 minute slots. For some topics and speakers, 60 min is adequate but in some cases, a session would be much better in a longer format, especially if it enables greater Q&A/audience interaction.\n",
      "\n",
      "Document 5\n",
      "Ha ha ha. I wonder how this would be similar to or different from EPIC? I like the idea of a small, intimate conference that focuses on interactive sessions and workshops rather than papers (there is a place for that too, but I feel there are enough of those). I'd love a space where I can take my own challenges on my team and in terms of my experience and work on those so I have a game plan when I get back to my office--i.e. maybe some coaching in how to define challenges and possible approaches, with some solid materials on tech trends in digital products. \n",
      "\n",
      "I also see a space for retraining academics for this field--I get asked about this a lot and have written about it on my website (http://www.rachelfleming.net/faqs) and will be writing more, as this is a critical need right now. I want to get involved more in helping academics find new employment options. \n",
      "\n",
      "I'm not sure where you're based but having the conference be within the US would probably help with getting my company to pay for it. Advertising well in advance is also helpful because I have to decide about the conference I'm attending several months before. As for venue, I prefer retreat settings to a hotel or conference center, to set the tone of it being a transformational experience. \n",
      "\n",
      "Top 5 Documents for Topic 2: \n",
      "\n",
      "Document 1\n",
      "Find fun ways to let researchers act as researchees in interesting ways. Floating between the two could be fun. Build empathy from both sides.\n",
      "\n",
      "I'd also consider bringing in some random topics. Opera. Bookbinding. NASA water systems. I read an article years back about a leading designer who was being asked about how he kept engaged with his craft. He said he studies \"other\" things. He'd take ballroom dancing, or read about physics, or any non-subject related topics. Inevitably he'd find inspiration in those topics while reflecting on design tasks.  We're creatures of analogy. Setting up learning experiences where we can let individuals connect the dots between seemingly unrelated topics can be exhilarating!  \n",
      "\n",
      "Think Mixed tastes: \n",
      "\n",
      "https://mcadenver.org/events/series/mixed-taste-dcpa-2019\n",
      "\n",
      "Document 2\n",
      "Reminder that not all UX research projects begin with an app or digital experience in mind. Much of the solutions to today’s problems require behavior change that won’t be cured with a shiny toy. Analog methods are still very much relevant. Play is still very much a part of discovery.\n",
      "\n",
      "Other than that, pick a location that is convenient and not to expensive and that is near reasonably priced dining and accommodations and transportation hubs. Find ways to welcome all types of people, like activities that accommodate both introverts and extroverts, healthy food options that address various diets, time during breaks and comfortable hallways to network in, if possible offer a one day or two day pass. \n",
      "\n",
      "Document 3\n",
      "Please have a conference about research!!! Design is so much more widely accepted and gaining traction, and research teams are coming up right behind them (in my universe, not everywhere). Would love to learn about best practices, methods, how to make an impact. I would love the opportunity to build more solid relationships with the interesting people I have encountered in places like Twitter and Slack. Have it in NYC, that is your stomping ground! Try it as a 1 day event and see how it goes. If it's awesome, make it longer + workshops. I'd love a day in NYC to hear a bunch of talks. I would also love to see how I could be paired or teamed up with people who have a similar level of experience/challenges so we could cohort together and share how we work and help each other advance. Looking forward to hearing more about your findings and how this might manifest into an event!\n",
      "\n",
      "Document 4\n",
      "Don't be afraid to mimic conferences that are doing things right.\n",
      "For instance, An Event Apart limits their attendees to a manageable size and highly curates their speakers.\n",
      "Front Utah did a great job with the welcoming committee and allowing for longer breaks between sessions (4 30-minute talks, and then a 30 minute break). They also did a great job of getting folks out into the surrounding city where they host (every swag bag had a $20 bill and a map of local restaurants w/in walking distance -- attendees were encouraged to group up and go find lunch).\n",
      "Lots of conferences use Slack for pre-conference introductions, a channel for each speaker, they handle Q&A through the Slack channels (which allows attendees to \"vote\" for their questions if they've already been asked)... it's an interesting use of a communication platform like that.\n",
      "\n",
      "Document 5\n",
      "Have a lot of them rather than one, small, exclusive one. Go do it where the interested attendees are.\n",
      "Offer day-long or multiday workshops for the people who need to learn methods.\n",
      "Look into whether you could offer continuing education credits for people who need that.\n",
      "Ask attendees during registration to chip in to the scholarship funds for people who can't pay to go. Get some sponsorship for that.\n",
      "No plastic water bottles and as few as possible disposables\n",
      "No junk swag, no RM-logo t-shirts\n",
      "Recycle lanyards and badgeholders\n",
      "No photos without permission\n",
      "People can put what they want on their badges, but focus on first names\n",
      "Get someone to make a more usable Attendify and use that\n",
      "Start a Mattermost for attendees to talk and network in across all your conferences\n",
      "Publish videos of all the talks for free so you can help people not have to travel and so you can multiply the educational effectiveness over time and distance\n",
      "Breakfast worth waking up for\n",
      "Easy ways to hang out with each other in the evenings, such as dinner party lotteries, BOFs, geeky fun\n",
      "Sessions that start no earlier than 10 and quit no later than 6\n",
      "Long lunch break if people have to find it outside and do it during rush-lunch\n",
      "Coffee worth drinking\n",
      "An observational outing to a fascinating nearby place\n",
      "Gee, I better quit here before I end up on a committee or something\n",
      "\n",
      "Top 5 Documents for Topic 3: \n",
      "\n",
      "Document 1\n",
      "Think outside the typical conference box. Allow for more discussion and deep dives on actual research studies. As a participant I want to engage and create take-aways and artifacts that I can share with colleagues when I get back to work. I don't mind getting homework to complete. I want to network through structured activities. I want to stay connected to fellow participants over time and continue discussions until the next \"conference\". \n",
      "\n",
      "Document 2\n",
      "Diversity on all levels, including levels of experience. A code of conduct. Considerations for childcare and rooms for pumping/infant care clearly stated on the event site. A range of options and prices for lodging. If food is served, consideration for all kinds of diets and allergies. Giveaways that are sustainable and usable. I like sxsw and other conferences which allow people to vote on topics or specific talks to help guide the schedule.\n",
      "\n",
      "Document 3\n",
      "Have a wide variety of topics, for people of various levels of experience (some topics are interesting to me but not applicable since I'm a junior researcher. For example, I would love to hear how someone leads a global research team, but that advice isn't immediately relevant to me since I'm far from being a supervisor.  Instead, I'd be interested to hear from someone who has been in research for 1-2 years, and built a research practice from the ground up. I would want to know how they did that since I'm trying to do that)\n",
      "\n",
      "Document 4\n",
      "The two conferences I have attended in the past year have been on the smaller side (250-500 attendees), have been 1 or 2 days, and had built-in networking times with a social hour after. Both of these conferences (UX Burlington and Talk UX) were nicely intimate, and you could eat lunch with the speakers if you were lucky to sit at the same table as them. Lot's of food options for folks with food sensitivities and allergies is always appreciated! Most conferences default to the sandwich/wrap/salad option, but I always say conferences should consider a burrito bar. \n",
      "\n",
      "Document 5\n",
      "I don't know what the ideal ratio is for most people  of talks to not-talks. My growing preference is \"anything but talks\". Sitting quietly to see people talk for 8 hours seems like an inefficient way to learn or spend your time, and doesn't suit my learning style.\n",
      "A mix of workshops, hands-on learning, lightning talks by new speakers with new perspectives to share, off-site activities / site visits, \"networking by doing stuff\"... that would be my sweet spot. Throw in a keynote or two maybe. \n",
      "I feel I am not alone in this view, especially when i talk to more senior practitioners. They are often not in the talk but outside, chatting. \n",
      "\n",
      "Other advice: I'm biased and maybe trying to sell my own agenda a bit here, but feel that there is a growing distaste for long-haul air travel. You're seeing that in Europe in the \"never fly\" movement. \n",
      "If you did multiple regional events (a bit like how An Event Apart does it), instead of a big International 1-time event, that could help environmentally-conscious folk make the decision more easily. \n",
      "Also, having a posted zero-waste approach (no vendor tchotckes!), carbon offset policy, etc can help ppl alleviate the guilt.  \n",
      "\n",
      "Remote events: I know Rosenfeld has done all-remote events in the past (I don't know how they went, I haven't seen any new ones posted). I'm curious about the potential of remote workshop events over just remote \"webinar\" talky events. I've been to a couple of remote design/participation events (facilitated by Jim Kalbach's MURAL), and I think they are on to something. \n",
      "\n"
     ]
    }
   ],
   "source": [
    "nlp.find_top_documents_per_topic(LDA.transform(doc_term_matrix), likely.recommendations_text, 5)"
   ]
  },
  {
   "cell_type": "code",
   "execution_count": null,
   "metadata": {},
   "outputs": [],
   "source": []
  }
 ],
 "metadata": {
  "kernelspec": {
   "display_name": "Python 3",
   "language": "python",
   "name": "python3"
  },
  "language_info": {
   "codemirror_mode": {
    "name": "ipython",
    "version": 3
   },
   "file_extension": ".py",
   "mimetype": "text/x-python",
   "name": "python",
   "nbconvert_exporter": "python",
   "pygments_lexer": "ipython3",
   "version": "3.7.3"
  }
 },
 "nbformat": 4,
 "nbformat_minor": 2
}

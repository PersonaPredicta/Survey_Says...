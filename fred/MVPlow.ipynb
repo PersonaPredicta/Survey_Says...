{
 "cells": [
  {
   "cell_type": "code",
   "execution_count": 1,
   "metadata": {},
   "outputs": [],
   "source": [
    "import sys\n",
    "sys.path.append('../')\n",
    "import wrangle\n",
    "import explore\n",
    "import nlp"
   ]
  },
  {
   "cell_type": "code",
   "execution_count": 2,
   "metadata": {},
   "outputs": [],
   "source": [
    "from sklearn.decomposition import LatentDirichletAllocation\n",
    "from sklearn.feature_extraction.text import CountVectorizer\n",
    "import pandas as pd\n",
    "import numpy as np"
   ]
  },
  {
   "cell_type": "code",
   "execution_count": 3,
   "metadata": {},
   "outputs": [],
   "source": [
    "pd.set_option('display.max_columns', None)\n",
    "\n",
    "df, data_dict = wrangle.wrangle_data()"
   ]
  },
  {
   "cell_type": "code",
   "execution_count": 4,
   "metadata": {},
   "outputs": [],
   "source": [
    "df = explore.add_target_to_df(df)\n",
    "\n",
    "targetB = df.targetb\n",
    "\n",
    "targetB = targetB.reset_index().drop('resp_id',axis=1)"
   ]
  },
  {
   "cell_type": "code",
   "execution_count": 5,
   "metadata": {},
   "outputs": [],
   "source": [
    "big_df = pd.read_csv('topics.csv', index_col=False)\n",
    "\n",
    "big_df.drop('Unnamed: 0', axis=1,inplace=True)"
   ]
  },
  {
   "cell_type": "code",
   "execution_count": 6,
   "metadata": {},
   "outputs": [],
   "source": [
    "big_df['targetB'] = targetB"
   ]
  },
  {
   "cell_type": "code",
   "execution_count": 8,
   "metadata": {},
   "outputs": [],
   "source": [
    "not_likely = big_df[big_df.targetB == 0]"
   ]
  },
  {
   "cell_type": "code",
   "execution_count": 9,
   "metadata": {},
   "outputs": [
    {
     "data": {
      "text/plain": [
       "(354, 32)"
      ]
     },
     "execution_count": 9,
     "metadata": {},
     "output_type": "execute_result"
    }
   ],
   "source": [
    "not_likely.shape"
   ]
  },
  {
   "cell_type": "code",
   "execution_count": 16,
   "metadata": {},
   "outputs": [],
   "source": [
    "stop_words = ['like', 'plus', 'real', 'love', 'big', 'avoiding', 'mean', 'content', 'people', 'problem', \n",
    "              'doing', 'using','research', 'work', 'don', 'make', 'conference', 'yes', 've', 'ha', 'researchi', 'doe',\n",
    "             'additionally']\n",
    "\n",
    "stopWords = nlp.set_stop_words(stop_words)"
   ]
  },
  {
   "cell_type": "markdown",
   "metadata": {},
   "source": [
    "# Respondents NOT Likely To Go"
   ]
  },
  {
   "cell_type": "markdown",
   "metadata": {},
   "source": [
    "## Sentiment"
   ]
  },
  {
   "cell_type": "code",
   "execution_count": 11,
   "metadata": {},
   "outputs": [
    {
     "data": {
      "text/plain": [
       "0.21702682130075124"
      ]
     },
     "execution_count": 11,
     "metadata": {},
     "output_type": "execute_result"
    }
   ],
   "source": [
    "not_likely.big_answer.apply(nlp.find_polarity).mean()"
   ]
  },
  {
   "cell_type": "code",
   "execution_count": 12,
   "metadata": {},
   "outputs": [
    {
     "data": {
      "text/plain": [
       "0.4313958863792966"
      ]
     },
     "execution_count": 12,
     "metadata": {},
     "output_type": "execute_result"
    }
   ],
   "source": [
    "not_likely.big_answer.apply(nlp.find_subjectivity).mean()"
   ]
  },
  {
   "cell_type": "markdown",
   "metadata": {},
   "source": [
    "## TOTAL KEYWORDS"
   ]
  },
  {
   "cell_type": "code",
   "execution_count": 17,
   "metadata": {},
   "outputs": [
    {
     "data": {
      "text/plain": [
       "['phd',\n",
       " 'library',\n",
       " 'information',\n",
       " 'science',\n",
       " 'teaching',\n",
       " 'involved',\n",
       " 'ux',\n",
       " 'architecture',\n",
       " 'interned',\n",
       " 'local',\n",
       " 'firm',\n",
       " 'discipline',\n",
       " 'increasingly',\n",
       " 'data',\n",
       " 'getting',\n",
       " 'familiar',\n",
       " 'self',\n",
       " 'graduate',\n",
       " 'student',\n",
       " 'based']"
      ]
     },
     "execution_count": 17,
     "metadata": {},
     "output_type": "execute_result"
    }
   ],
   "source": [
    "nlp.show_column_keywords(not_likely.big_answer, max_df=.8, stop_words=stopWords, ngram_range=(1,3))"
   ]
  },
  {
   "cell_type": "markdown",
   "metadata": {},
   "source": [
    "## What topics would they be most attracted to at a conference about research?\n",
    "\n",
    "q21 ideal_topics"
   ]
  },
  {
   "cell_type": "code",
   "execution_count": null,
   "metadata": {},
   "outputs": [],
   "source": [
    "stop_words = ['like', 'plus', 'real', 'love', 'big', 'avoiding', 'mean', 'content', 'people', 'problem', \n",
    "              'doing', 'using','research', 'work', 'don', 'make', 'conference', 'good', 'best', 'self', 'report']"
   ]
  },
  {
   "cell_type": "code",
   "execution_count": null,
   "metadata": {},
   "outputs": [],
   "source": [
    "stopWords = nlp.set_stop_words(stop_words)"
   ]
  },
  {
   "cell_type": "markdown",
   "metadata": {},
   "source": [
    "### keywords"
   ]
  },
  {
   "cell_type": "code",
   "execution_count": 18,
   "metadata": {},
   "outputs": [
    {
     "data": {
      "text/plain": [
       "['new',\n",
       " 'data',\n",
       " 'analysis',\n",
       " 'method',\n",
       " 'analysis method',\n",
       " 'buyin',\n",
       " 'enterprise',\n",
       " 'user',\n",
       " 'program',\n",
       " 'quant',\n",
       " 'qual',\n",
       " 'visualization',\n",
       " 'method qual',\n",
       " 'data visualization',\n",
       " 'topic',\n",
       " 'usability',\n",
       " 'study',\n",
       " 'test',\n",
       " 'methodology',\n",
       " 'example']"
      ]
     },
     "execution_count": 18,
     "metadata": {},
     "output_type": "execute_result"
    }
   ],
   "source": [
    "#words\n",
    "nlp.show_column_keywords(not_likely.ideal_topics_text, max_df=.5, stop_words=stopWords, ngram_range=(1,3))"
   ]
  },
  {
   "cell_type": "code",
   "execution_count": 19,
   "metadata": {},
   "outputs": [
    {
     "data": {
      "text/plain": [
       "['analysis method',\n",
       " 'method qual',\n",
       " 'data visualization',\n",
       " 'methodology used',\n",
       " 'ab testing',\n",
       " 'new method',\n",
       " 'want learn',\n",
       " 'learn new',\n",
       " 'new interesting',\n",
       " 'analysis reporting',\n",
       " 'best way',\n",
       " 'particularly interested',\n",
       " 'interested learning',\n",
       " 'managing project',\n",
       " 'particularly interested learning',\n",
       " 'bridge gap',\n",
       " 'case study',\n",
       " 'best practice',\n",
       " 'usability testing',\n",
       " 'small team']"
      ]
     },
     "execution_count": 19,
     "metadata": {},
     "output_type": "execute_result"
    }
   ],
   "source": [
    "#bi-grams\n",
    "nlp.show_column_keywords(not_likely.ideal_topics_text, max_df=.5, stop_words=stopWords, ngram_range=(2,3))"
   ]
  },
  {
   "cell_type": "markdown",
   "metadata": {},
   "source": [
    "### topics"
   ]
  },
  {
   "cell_type": "code",
   "execution_count": 20,
   "metadata": {},
   "outputs": [
    {
     "data": {
      "text/plain": [
       "new_method, mixed_method    76\n",
       "quant/qual/data             72\n",
       "ops/ai                      66\n",
       "case_study                  62\n",
       "Name: ideal_topics_topic_id, dtype: int64"
      ]
     },
     "execution_count": 20,
     "metadata": {},
     "output_type": "execute_result"
    }
   ],
   "source": [
    "not_likely[not_likely.ideal_topics_text.notnull()].ideal_topics_topic_id.value_counts()"
   ]
  },
  {
   "cell_type": "markdown",
   "metadata": {},
   "source": [
    "## Who would they expect to see at a conference about research?\n",
    "\n",
    "q22 Ideal Attendees"
   ]
  },
  {
   "cell_type": "code",
   "execution_count": null,
   "metadata": {},
   "outputs": [],
   "source": [
    "stop_words = ['like', 'plus', 'real', 'love', 'big', 'avoiding', 'mean', 'content', 'people', 'problem', \n",
    "              'doing', 'using','research', 'work', 'don', 'make', 'conference']\n",
    "\n",
    "stopWords = nlp.set_stop_words(stop_words)"
   ]
  },
  {
   "cell_type": "code",
   "execution_count": 21,
   "metadata": {},
   "outputs": [
    {
     "data": {
      "text/plain": [
       "['mix',\n",
       " 'academic',\n",
       " 'professional',\n",
       " 'mix academic',\n",
       " 'academic professional',\n",
       " 'mix academic professional',\n",
       " 'google',\n",
       " 'apple',\n",
       " 'google apple',\n",
       " 'user',\n",
       " 'leader',\n",
       " 'arent',\n",
       " 'afraid',\n",
       " 'talk',\n",
       " 'topic',\n",
       " 'arent afraid',\n",
       " 'healthcare',\n",
       " 'trying',\n",
       " 'innovation',\n",
       " 'familiar']"
      ]
     },
     "execution_count": 21,
     "metadata": {},
     "output_type": "execute_result"
    }
   ],
   "source": [
    "#terms\n",
    "nlp.show_column_keywords(not_likely.ideal_attendees_text, max_df=.5, stop_words=stopWords)"
   ]
  },
  {
   "cell_type": "code",
   "execution_count": 22,
   "metadata": {},
   "outputs": [
    {
     "data": {
      "text/plain": [
       "['mix academic',\n",
       " 'academic professional',\n",
       " 'mix academic professional',\n",
       " 'google apple',\n",
       " 'arent afraid',\n",
       " 'learn lot',\n",
       " 'industry leader',\n",
       " 'indi young',\n",
       " 'steve portigal',\n",
       " 'public sector',\n",
       " 'speaking consulting',\n",
       " 'leader organization',\n",
       " 'case study',\n",
       " 'kate towsey',\n",
       " 'erika hall',\n",
       " 'wide variety',\n",
       " 'small large',\n",
       " 'jared spool',\n",
       " 'jan chipchase',\n",
       " 'nn group']"
      ]
     },
     "execution_count": 22,
     "metadata": {},
     "output_type": "execute_result"
    }
   ],
   "source": [
    "#bigrams\n",
    "nlp.show_column_keywords(not_likely.ideal_attendees_text, max_df=.5, stop_words=stopWords, ngram_range=(2,3))"
   ]
  },
  {
   "cell_type": "code",
   "execution_count": 23,
   "metadata": {},
   "outputs": [
    {
     "data": {
      "text/plain": [
       "industry, team, product    92\n",
       "indi young                 54\n",
       "experience, jared spool    46\n",
       "sam ladner, erika hall     44\n",
       "Name: ideal_attendees_topic_id, dtype: int64"
      ]
     },
     "execution_count": 23,
     "metadata": {},
     "output_type": "execute_result"
    }
   ],
   "source": [
    "not_likely[not_likely.ideal_attendees_text.notnull()].ideal_attendees_topic_id.value_counts()"
   ]
  },
  {
   "cell_type": "markdown",
   "metadata": {},
   "source": [
    "## What advice do they have for the Rosenfeld Media team in pursuing a conference?\n",
    "q23 recommendations"
   ]
  },
  {
   "cell_type": "code",
   "execution_count": 24,
   "metadata": {},
   "outputs": [
    {
     "data": {
      "text/plain": [
       "['actually',\n",
       " 'feel',\n",
       " 'biggest',\n",
       " 'area',\n",
       " 'series',\n",
       " 'unconferences',\n",
       " 'workshop',\n",
       " 'presentation',\n",
       " 'similar',\n",
       " 'thing',\n",
       " 'seen',\n",
       " 'really',\n",
       " 'cool',\n",
       " 'design',\n",
       " 'thinking',\n",
       " 'community',\n",
       " 'attendee',\n",
       " 'use',\n",
       " 'single',\n",
       " 'set']"
      ]
     },
     "execution_count": 24,
     "metadata": {},
     "output_type": "execute_result"
    }
   ],
   "source": [
    "#words\n",
    "nlp.show_column_keywords(not_likely.recommendations_text, max_df=.9, stop_words=stopWords, ngram_range=(1,7))"
   ]
  },
  {
   "cell_type": "code",
   "execution_count": 25,
   "metadata": {},
   "outputs": [
    {
     "data": {
      "text/plain": [
       "['workshop presentation',\n",
       " 'really cool',\n",
       " 'design thinking',\n",
       " 'thinking community',\n",
       " 'community attendee',\n",
       " 'thinking community attendee',\n",
       " 'lot talk',\n",
       " 'really talk',\n",
       " 'thought leadership',\n",
       " 'subject matter',\n",
       " 'seriously think',\n",
       " 'based experience',\n",
       " 'background just',\n",
       " 'world outside',\n",
       " 'field ux',\n",
       " 'add value',\n",
       " 'll come',\n",
       " 'point view',\n",
       " 'expert field',\n",
       " 'broad range']"
      ]
     },
     "execution_count": 25,
     "metadata": {},
     "output_type": "execute_result"
    }
   ],
   "source": [
    "#ngrams\n",
    "nlp.show_column_keywords(not_likely.recommendations_text, max_df=.9, stop_words=stopWords, ngram_range=(2,7))"
   ]
  },
  {
   "cell_type": "code",
   "execution_count": 26,
   "metadata": {},
   "outputs": [
    {
     "data": {
      "text/plain": [
       "speaker, industry      66\n",
       "event, opportunity     50\n",
       "good, know             47\n",
       "group, career, city    43\n",
       "field, survery         26\n",
       "Name: recommendations_topic_id, dtype: int64"
      ]
     },
     "execution_count": 26,
     "metadata": {},
     "output_type": "execute_result"
    }
   ],
   "source": [
    "not_likely[not_likely.recommendations_text.notnull()].recommendations_topic_id.value_counts()"
   ]
  },
  {
   "cell_type": "markdown",
   "metadata": {},
   "source": [
    "## Top Documents per Topic"
   ]
  },
  {
   "cell_type": "code",
   "execution_count": 27,
   "metadata": {},
   "outputs": [
    {
     "data": {
      "text/plain": [
       "LatentDirichletAllocation(batch_size=128, doc_topic_prior=None,\n",
       "                          evaluate_every=-1, learning_decay=0.7,\n",
       "                          learning_method='batch', learning_offset=10.0,\n",
       "                          max_doc_update_iter=100, max_iter=10,\n",
       "                          mean_change_tol=0.001, n_components=4, n_jobs=None,\n",
       "                          perp_tol=0.1, random_state=42, topic_word_prior=None,\n",
       "                          total_samples=1000000.0, verbose=0)"
      ]
     },
     "execution_count": 27,
     "metadata": {},
     "output_type": "execute_result"
    }
   ],
   "source": [
    "doc_term_matrix, count_vect = nlp.create_wordcount_matrix(not_likely.recommendations_text, max_df=.3, ngram=(1,3), stop_words=stopWords)\n",
    "\n",
    "LDA = LatentDirichletAllocation(n_components=4, random_state=42)\n",
    "\n",
    "LDA.fit(doc_term_matrix)"
   ]
  },
  {
   "cell_type": "code",
   "execution_count": null,
   "metadata": {},
   "outputs": [],
   "source": [
    "recommendations_dict = {0 : 'speaker, industry', \n",
    "                        1 : 'event, opportunity', \n",
    "                        2 : 'good, know', \n",
    "                        3 : 'field, survery', \n",
    "                        4 : 'group, career, city'}"
   ]
  },
  {
   "cell_type": "code",
   "execution_count": 28,
   "metadata": {},
   "outputs": [
    {
     "name": "stdout",
     "output_type": "stream",
     "text": [
      "Top 5 Documents for Topic 0: \n",
      "\n",
      "Document 1\n",
      "It's not enough to talk about different methods of UX Research. Part of the conversation also needs to be on tactically how to evaluate your organization's UX Maturity level, and strategically how to move  your organization up the UX Maturity level chain. Additionally, what do you need to do this (sponsorship, organizational structure, etc.)? When do you call it quits and head off to a different company?  \n",
      "\n",
      "Document 2\n",
      "Conferences are really hard and most people lose money for the first several years. But can be a nice revenue stream once you get them going. I do think your name is strong enough to get you up the profitability curve more quickly than normal. // Also, and this may be controversial, I'd love to see a conference that weeds out complete newbies and consists only of attendees who are serious practitioners. No idea how to make that work, though.\n",
      "\n",
      "\n",
      "\n",
      "\n",
      "\n",
      "Document 3\n",
      "1) Targeting based on experience entry, mid-level, senior (IC+people leaders) is important. Number of conferences these days focus too on entry level or people considering the profession\n",
      "2) Topics that explore the future of research/work \n",
      "3) Include topics that are related to research as well -- research and transformation, research and biz strategy etc.,\n",
      "\n",
      "Document 4\n",
      "Steer clear of anyone who was presenting \"our way is the best way/only way\" to do research.  Provide access to people who understand the ups and downs of research, including \"i wasn't sure if i was asking the right questions\" type researchers.  I'd love to hear from people who know the pitfalls and doubts about it, and how they get through that.   Maybe even a few analogous scientific researchers who are looking at, say, worms and wondering, \"Am I testing the right thing?\" and how they approach that research to deal with doubt.\n",
      "\n",
      "Document 5\n",
      "My goal is to provide constructive criticism, so apologies in advance for being blunt. I hope you can use it to succeed in your hypothetical plans. I've been bugged from end to end with the anchors you chose to use in your survey.\n",
      "I have no idea how you're going to understand the data you've collected, especially since I have no idea how i was supposed understand the question. What does neutral do in the middle? Why is something at best somewhat important, but can't be slightly important? I may be picky and perfectionist, but it bothers me a lot. So hypothetically, if you were to organise a conference on research, my advice would be to start by gaining credibility in the field. As someone who's never heard the name before, I don't know who you are, why you care and this survey doesn't seem to indicate you're an expert in the field, unfortunately - despite thanking people for proof-reading / pilot testing this survey... \n",
      "\n",
      "Top 5 Documents for Topic 1: \n",
      "\n",
      "Document 1\n",
      "Don’t focus on the evening stuff - it excludes a lot of people who can’t or don’t want to do the social stuff. \n",
      "I like to learn new stuff - innovative or new methods always interesting. Ask for expressions of interest, I see the same people presenting the same thing at lots of conferences. Let other people have a chance! \n",
      "\n",
      "Document 2\n",
      "Please don't make it too expensive, think of researchers outside the United States, think of how to make some conference talks videos available to people who can't make it to the conference.\n",
      "\n",
      "Consider having smaller conferences spread geographically rather than one big, expensive conference concentrated in one location on the one date.\n",
      "\n",
      "Consider having hands-on workshops for attendees, as well as networking events of some sort.\n",
      "\n",
      "Document 3\n",
      "Follow a service design & delivery process. Always be discovering, prototyping, testing & iterating. Don’t be limited by geography. Don’t just think of a stack of people in a room. Give attendees pre work and homework. Give people options to pair in new ways. Bring real challenges for people to help with. Research takes time so give people time to apply the knowledge and bring back learnings to the group\n",
      "\n",
      "Document 4\n",
      "Focus on creating an event in which there are lots of buyers and lots of networking events.  The buyers are interested in new research techniques.  The sellers are interested in making connections with the buyers.  I would love to learn about new research techniques, but I can do that outside of a conference.  I need to focus on building a stable client base and conferences are an outstanding way to meet buyers.  I have been extremely disappointed with some recent research conferences, specifically the Market Research Event, in which there were no good networking opportunities.\n",
      "\n",
      "Document 5\n",
      "Make it inclusive and accessible.  Find ways to make everyone comfortable.  Establish a code of conduct and don't sway from it- make it safe.  Light snacks and/or refreshments are nice- freely available water if it's long.  \n",
      "\n",
      "Find some compelling big-time speakers but stack them as keynote/plenary, so they don't crowd out the more niche players.  Market the smaller names with specific interesting information.  \n",
      "\n",
      "One of the best conferences I went to offered some really helpful take-away such as a free professional head shot!  \n",
      "\n",
      "Oh and have plenty of clean, accessible bathroom facilities at various spots!  \n",
      "\n",
      "Top 5 Documents for Topic 2: \n",
      "\n",
      "Document 1\n",
      "Make as accessible as possible by offering a digital ticket and/or experience. For example,  a live stream for talks, with opportunities for digital networking and/or discussion. This could be via a closed group of some kind if you're offering a digital ticket, or via Twitter if offering the live stream for free.\n",
      "\n",
      "Document 2\n",
      "I like conferences that have a clear point of view. I also think that the quality of a conference is not necessarily determined by how much it cost by how much the organizers consider the details of the conference.diversity is extremely important. If I see another stage or another organizing group of a bunch of white men I swear... Are they even trying? I frequently find that if an organizing group is a homogeneous group the stage mirrors that group and I'm not interested in hearing about a single perspective from a bunch of people who are very very similar. The value of conferences for me wise in all of the diversity of perspectives and inclusion of people.\n",
      "\n",
      "Document 3\n",
      "I tend to gravitate towards conferences that offer a mix of engagement (talks, workshops, etc).\n",
      "\n",
      "I attended the Qualtrics experience summit a couple of years ago and I would describe it as unexpected. There were plenty of talks to attend, but the keynote speakers really caught my attention (Lin Manuel Miranda, Tony Hawk, Alex Honnold, etc). These folks aren't \"industry leaders\", but they were able to talk about subjects that were analogous to the topic of experience. People are at the very core of what I do. While I do like to hear talks from leaders in the research industry, I also want to be inspired by others who are not—people who have great stories of human connection that have nothing to do with \"research\", while still being inspiring to researchers. Anthony Bourdain comes to mind.\n",
      "\n",
      "Document 4\n",
      "Then this is an interestingly “hypothetical” survey! \n",
      "\n",
      "I would try to tailor content not only based on quality/quant, but based on the experience level of those who are attending. People starting out in research think and need different skill sets than those running large teams and years into their practice!\n",
      "\n",
      "Also, please PLEASE emphasize depth over breadth. Researchers want to learn deeply about something specific and actionable, not just hand-wavy things that we can’t directly take and apply in their everyday context. I would prefer long, well-thought out and curated presentations that I can take and run with in my organization over soundbite-driven panels any day! \n",
      "\n",
      "Document 5\n",
      "-Diversity in speaking experience and seniority level*** (I love when conferences open up spots specifically for unknowns or new speakers who are doing really cool work)\n",
      "-Diversity in race (just Asians does not count as diversity)\n",
      "-Diversity in organization type (Not just IDEO, Stanford and Big Four researchers. Invite independent consultants, startup people, \"boring\" traditional companies you don't usually associate with innovation, nonprofit people, gov't people)\n",
      "\n",
      "-Informality. I'd prefer a quick talk followed by extended Q&A/workshop over 45 minute talk\n",
      "\n",
      "-Prioritize social topics (e.g., researching for gov't or humanitarian work), new topics (e.g., new tech requires new research strategies), under-discussed topics (e.g., ethics, workplace culture), war stories (case studies of failure) vs. big name speakers. I also find motivational talks are rarely that impressive. If I'm going to sit through a talk I want to learn actionable takeaways that I can immediately apply to my own work. Inspiration is great and a good speaker will inspire but I do want to learn something.\n",
      "\n",
      "-Not too many talks in one day. Create breathers for reflection and networking.\n",
      "\n",
      "-Structured networking (small table discussion, pre-conference Slack channel, speednetworking)\n",
      "\n",
      "-Dry social events (yes, there are non-drinkers in tech) and options other than water for non-drinkers during meals\n",
      "\n",
      "Top 5 Documents for Topic 3: \n",
      "\n",
      "Document 1\n",
      "Use only industry professionals who actively conduct research. Speak about cutting-edge methods or new applications of traditional methods. Topics such as negotiating with stakeholders, guiding stakeholders toward conducting the research they need instead of what they want, to use this as an apprenticeship of sorts for undergrads, to break down the traditional idea that only phds know how to conduct research (historically applied grad programs give more direction on this than traditional programs that funnel people into a PhD!).\n",
      "\n",
      "Document 2\n",
      "1. Make it affordable. It's hard for UXR at smaller companies to justify core expenses, let alone conferences\n",
      "\n",
      "2. Hold sessions on controversial topics (like directional v. statistically significant surveys or democratizing research)\n",
      "\n",
      "3. Restrict it to practicing, professional researchers. At my career stage, I'm looking to learn from professionals, not people trying to break in (though I was that person very recently!)\n",
      "\n",
      "4. Hold a session with speakers who did not get advanced degrees or study research in school\n",
      "\n",
      "Document 3\n",
      "Make sure the presenters provide actionable takeaways, not just theory - I need to be able to take what I learn back to my job and use it.\n",
      "Food is important - don't skimp on snacks\n",
      "Don't start at an ungodly early hour. \n",
      "Location, location, location - both the physical building and the destination. Sometimes it's hard to say I need to fly across the country or stay in a $500/night hotel!\n",
      "Make it an accessible price point, and not just for directors, etc - junior level people can get as much if not more, but it's occasionally harder to make the case. \n",
      "\n",
      "Document 4\n",
      "I've noticed there's a trend for Social Psychologists in an academic field, UX Designers wanting more of an impact into the research process, and even Product Managers being tasked with research (within a product context). Something that would attract all of audiences, not just those already with a UX Design background.\n",
      "\n",
      "I would actually appreciate vendors that gave demos of the tools. As a practitioner sometimes our view is either limited, or if we engage with a sales person we never hear the end of it. It's almost a low pressure way to get access to the same content.\n",
      "\n",
      "I recently attended a conference where there were no organized after conference activities and it was the worst. I was quite disappointed.\n",
      "\n",
      "I would prefer a shorter conference (2-3 days rather than a full week), and the option to mix and match sessions. Sometimes the full track suffers from weaker content and I can see my $ being wasted away. \n",
      "\n",
      "\n",
      "\n",
      "Document 5\n",
      "Tough to say. I would probably want to get involved with a conference that took on some of the massive delusions in the industry today such as over-reliance on tech, the digital delusion, a clear-eyed discussion of the state of online research, the \"big data\" crock, etc. The second largest gorilla in the room is the complete lack of training in our industry. How many people just decided one day to be an ethnographer? Where's the training for how to become more empathetic? How many have really taken a course on storytelling? \n",
      "\n",
      "But the biggest gorilla is the industry's refusal to come to grips with \"insight.\" To define it, understand how only humans have insights. That you can't \"gather insight.\" How people can become more insightful. To admit that 99.9% of what the \"insight\" industry sells its clients is just more data, sometimes useful knowledge. To admit that developing real insights is incredibly hard work that takes a long time and lots of money! And to realize that since we have commodified data collection the only place to go is to true insights.\n",
      "\n",
      "Anyway. I've blogged about a lot of this stuff here www.theinsightsguy.com\n",
      "\n",
      "Best of luck!\n",
      "\n"
     ]
    }
   ],
   "source": [
    "nlp.find_top_documents_per_topic(LDA.transform(doc_term_matrix), not_likely.recommendations_text, 5)"
   ]
  },
  {
   "cell_type": "code",
   "execution_count": null,
   "metadata": {},
   "outputs": [],
   "source": []
  }
 ],
 "metadata": {
  "kernelspec": {
   "display_name": "Python 3",
   "language": "python",
   "name": "python3"
  },
  "language_info": {
   "codemirror_mode": {
    "name": "ipython",
    "version": 3
   },
   "file_extension": ".py",
   "mimetype": "text/x-python",
   "name": "python",
   "nbconvert_exporter": "python",
   "pygments_lexer": "ipython3",
   "version": "3.7.3"
  }
 },
 "nbformat": 4,
 "nbformat_minor": 2
}

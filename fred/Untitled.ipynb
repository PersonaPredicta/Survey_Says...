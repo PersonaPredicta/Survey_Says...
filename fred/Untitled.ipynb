{
 "cells": [
  {
   "cell_type": "code",
   "execution_count": 1,
   "metadata": {},
   "outputs": [],
   "source": [
    "import sys\n",
    "sys.path.append('../')\n",
    "import wrangle"
   ]
  },
  {
   "cell_type": "code",
   "execution_count": 2,
   "metadata": {},
   "outputs": [],
   "source": [
    "import nlp"
   ]
  },
  {
   "cell_type": "code",
   "execution_count": 3,
   "metadata": {},
   "outputs": [],
   "source": [
    "from sklearn.decomposition import LatentDirichletAllocation, NMF"
   ]
  },
  {
   "cell_type": "code",
   "execution_count": 4,
   "metadata": {},
   "outputs": [],
   "source": [
    "import pyLDAvis\n",
    "import pyLDAvis.sklearn"
   ]
  },
  {
   "cell_type": "code",
   "execution_count": 5,
   "metadata": {},
   "outputs": [],
   "source": [
    "df, data_dict = wrangle.wrangle_data()"
   ]
  },
  {
   "cell_type": "code",
   "execution_count": 6,
   "metadata": {},
   "outputs": [],
   "source": [
    "pyLDAvis.enable_notebook()"
   ]
  },
  {
   "cell_type": "code",
   "execution_count": null,
   "metadata": {},
   "outputs": [],
   "source": []
  },
  {
   "cell_type": "code",
   "execution_count": 7,
   "metadata": {},
   "outputs": [
    {
     "name": "stdout",
     "output_type": "stream",
     "text": [
      "<class 'pandas.core.frame.DataFrame'>\n",
      "Int64Index: 726 entries, 284 to 2\n",
      "Data columns (total 78 columns):\n",
      "job_title                         726 non-null category\n",
      "job_taxo                          726 non-null category\n",
      "job_id                            723 non-null category\n",
      "job_conduct_res                   726 non-null int64\n",
      "job_analyze_res                   726 non-null int64\n",
      "job_buy_res_report                726 non-null int64\n",
      "job_manage_res_proj               726 non-null int64\n",
      "job_observe_res                   726 non-null int64\n",
      "job_plan_res                      726 non-null int64\n",
      "job_teach_res                     726 non-null int64\n",
      "job_advocate_res                  726 non-null int64\n",
      "job_hire_res_vendor               726 non-null int64\n",
      "job_lead_res_team                 726 non-null int64\n",
      "num_employees                     723 non-null category\n",
      "num_researchers                   722 non-null category\n",
      "primary_industry                  726 non-null category\n",
      "types_res_used                    690 non-null category\n",
      "future_res                        609 non-null category\n",
      "exp_conduct_res                   726 non-null int64\n",
      "exp_analyze_res                   726 non-null int64\n",
      "exp_buy_res_report                726 non-null int64\n",
      "exp_manage_res_proj               726 non-null int64\n",
      "exp_observe_res                   726 non-null int64\n",
      "exp_plan_res                      726 non-null int64\n",
      "exp_teach_res                     726 non-null int64\n",
      "exp_advocate_res                  726 non-null int64\n",
      "exp_hire_res_vendor               726 non-null int64\n",
      "exp_lead_res_team                 726 non-null int64\n",
      "research_educ                     726 non-null object\n",
      "research_educ_cat                 726 non-null category\n",
      "research_educ_desc                540 non-null object\n",
      "learning_talks                    726 non-null int64\n",
      "learning_read                     726 non-null int64\n",
      "learning_meetup                   726 non-null int64\n",
      "learning_workshop                 726 non-null int64\n",
      "learning_conference               726 non-null int64\n",
      "likely_watch_video                726 non-null int64\n",
      "likely_internet                   726 non-null int64\n",
      "likely_book                       726 non-null int64\n",
      "likely_online_group               726 non-null int64\n",
      "likely_colleague                  726 non-null int64\n",
      "likely_meetup                     726 non-null int64\n",
      "likely_conference                 726 non-null int64\n",
      "likely_workshop                   726 non-null int64\n",
      "factor_speaker                    726 non-null int64\n",
      "factor_diverse_speak              726 non-null int64\n",
      "factor_topics                     726 non-null int64\n",
      "factor_format_sessions            726 non-null int64\n",
      "factor_size                       726 non-null int64\n",
      "factor_network                    726 non-null int64\n",
      "factor_variety_attend             726 non-null int64\n",
      "factor_code                       726 non-null int64\n",
      "factor_location                   726 non-null int64\n",
      "factor_ability_to_pay             726 non-null int64\n",
      "how_pick_events                   644 non-null object\n",
      "best_event                        594 non-null object\n",
      "events_attend_recent              558 non-null object\n",
      "ideal_conference_size             726 non-null object\n",
      "ideal_conference_size_cat_orig    724 non-null category\n",
      "ideal_conference_size_cat         726 non-null category\n",
      "ideal_structure                   726 non-null object\n",
      "ideal_structure_cat               726 non-null category\n",
      "ideal_multi_track                 726 non-null int64\n",
      "ideal_single_track                726 non-null int64\n",
      "ideal_unconference                726 non-null int64\n",
      "session_keynote                   726 non-null int64\n",
      "session_long_talk                 726 non-null int64\n",
      "session_short_talk                726 non-null int64\n",
      "session_workshop                  726 non-null int64\n",
      "session_network                   726 non-null int64\n",
      "session_social_event              726 non-null int64\n",
      "session_qa                        726 non-null int64\n",
      "sesson_topic_tables               726 non-null int64\n",
      "other_conference_types            258 non-null object\n",
      "ideal_topics                      560 non-null object\n",
      "ideal_attendees                   471 non-null object\n",
      "recommendations                   494 non-null object\n",
      "persona_id                        726 non-null category\n",
      "dtypes: category(13), int64(54), object(11)\n",
      "memory usage: 463.7+ KB\n"
     ]
    }
   ],
   "source": [
    "df.info()"
   ]
  },
  {
   "cell_type": "code",
   "execution_count": 14,
   "metadata": {},
   "outputs": [],
   "source": [
    "future_research = df.future_res.dropna().apply(nlp.basic_cleanic_clean)"
   ]
  },
  {
   "cell_type": "code",
   "execution_count": 15,
   "metadata": {},
   "outputs": [],
   "source": [
    "future_research = future_research.apply(nlp.lemmatize)"
   ]
  },
  {
   "cell_type": "code",
   "execution_count": null,
   "metadata": {},
   "outputs": [],
   "source": [
    "df.recommendations.dropna().apply(nlp.lemmatize)"
   ]
  },
  {
   "cell_type": "markdown",
   "metadata": {},
   "source": [
    "## Process"
   ]
  },
  {
   "cell_type": "code",
   "execution_count": 16,
   "metadata": {},
   "outputs": [],
   "source": [
    "word_count_matrix, count_vect = nlp.create_wordcount_matrix(future_research, max_df=0.3, min_df=2, ngram=(1,3))"
   ]
  },
  {
   "cell_type": "code",
   "execution_count": null,
   "metadata": {},
   "outputs": [],
   "source": [
    "word_count_matrix"
   ]
  },
  {
   "cell_type": "code",
   "execution_count": 17,
   "metadata": {},
   "outputs": [
    {
     "data": {
      "text/plain": [
       "LatentDirichletAllocation(batch_size=128, doc_topic_prior=None,\n",
       "                          evaluate_every=-1, learning_decay=0.7,\n",
       "                          learning_method='batch', learning_offset=10.0,\n",
       "                          max_doc_update_iter=100, max_iter=10,\n",
       "                          mean_change_tol=0.001, n_components=3, n_jobs=None,\n",
       "                          perp_tol=0.1, random_state=42, topic_word_prior=None,\n",
       "                          total_samples=1000000.0, verbose=0)"
      ]
     },
     "execution_count": 17,
     "metadata": {},
     "output_type": "execute_result"
    }
   ],
   "source": [
    "LDA = LatentDirichletAllocation(n_components=3, random_state=42)\n",
    "LDA.fit(word_count_matrix)"
   ]
  },
  {
   "cell_type": "code",
   "execution_count": 18,
   "metadata": {},
   "outputs": [
    {
     "name": "stderr",
     "output_type": "stream",
     "text": [
      "/usr/local/anaconda3/lib/python3.7/site-packages/pyLDAvis/_prepare.py:257: FutureWarning: Sorting because non-concatenation axis is not aligned. A future version\n",
      "of pandas will change to not sort by default.\n",
      "\n",
      "To accept the future behavior, pass 'sort=False'.\n",
      "\n",
      "To retain the current behavior and silence the warning, pass 'sort=True'.\n",
      "\n",
      "  return pd.concat([default_term_info] + list(topic_dfs))\n"
     ]
    },
    {
     "data": {
      "text/html": [
       "\n",
       "<link rel=\"stylesheet\" type=\"text/css\" href=\"https://cdn.rawgit.com/bmabey/pyLDAvis/files/ldavis.v1.0.0.css\">\n",
       "\n",
       "\n",
       "<div id=\"ldavis_el26821112420692280619035824\"></div>\n",
       "<script type=\"text/javascript\">\n",
       "\n",
       "var ldavis_el26821112420692280619035824_data = {\"mdsDat\": {\"x\": [0.09680827733051939, -0.18841867524792869, 0.09161039791740927], \"y\": [0.14778795731283895, 0.0027432293802167104, -0.15053118669305568], \"topics\": [1, 2, 3], \"cluster\": [1, 1, 1], \"Freq\": [38.55744931091099, 30.8524860654705, 30.590064623618513]}, \"tinfo\": {\"Category\": [\"Default\", \"Default\", \"Default\", \"Default\", \"Default\", \"Default\", \"Default\", \"Default\", \"Default\", \"Default\", \"Default\", \"Default\", \"Default\", \"Default\", \"Default\", \"Default\", \"Default\", \"Default\", \"Default\", \"Default\", \"Default\", \"Default\", \"Default\", \"Default\", \"Default\", \"Default\", \"Default\", \"Default\", \"Default\", \"Default\", \"Topic1\", \"Topic1\", \"Topic1\", \"Topic1\", \"Topic1\", \"Topic1\", \"Topic1\", \"Topic1\", \"Topic1\", \"Topic1\", \"Topic1\", \"Topic1\", \"Topic1\", \"Topic1\", \"Topic1\", \"Topic1\", \"Topic1\", \"Topic1\", \"Topic1\", \"Topic1\", \"Topic1\", \"Topic1\", \"Topic1\", \"Topic1\", \"Topic1\", \"Topic1\", \"Topic1\", \"Topic1\", \"Topic1\", \"Topic1\", \"Topic1\", \"Topic1\", \"Topic1\", \"Topic1\", \"Topic1\", \"Topic1\", \"Topic1\", \"Topic1\", \"Topic1\", \"Topic1\", \"Topic1\", \"Topic1\", \"Topic1\", \"Topic2\", \"Topic2\", \"Topic2\", \"Topic2\", \"Topic2\", \"Topic2\", \"Topic2\", \"Topic2\", \"Topic2\", \"Topic2\", \"Topic2\", \"Topic2\", \"Topic2\", \"Topic2\", \"Topic2\", \"Topic2\", \"Topic2\", \"Topic2\", \"Topic2\", \"Topic2\", \"Topic2\", \"Topic2\", \"Topic2\", \"Topic2\", \"Topic2\", \"Topic2\", \"Topic2\", \"Topic2\", \"Topic2\", \"Topic2\", \"Topic2\", \"Topic2\", \"Topic2\", \"Topic2\", \"Topic2\", \"Topic2\", \"Topic2\", \"Topic2\", \"Topic2\", \"Topic2\", \"Topic2\", \"Topic2\", \"Topic2\", \"Topic2\", \"Topic2\", \"Topic2\", \"Topic2\", \"Topic2\", \"Topic2\", \"Topic2\", \"Topic3\", \"Topic3\", \"Topic3\", \"Topic3\", \"Topic3\", \"Topic3\", \"Topic3\", \"Topic3\", \"Topic3\", \"Topic3\", \"Topic3\", \"Topic3\", \"Topic3\", \"Topic3\", \"Topic3\", \"Topic3\", \"Topic3\", \"Topic3\", \"Topic3\", \"Topic3\", \"Topic3\", \"Topic3\", \"Topic3\", \"Topic3\", \"Topic3\", \"Topic3\", \"Topic3\", \"Topic3\", \"Topic3\", \"Topic3\", \"Topic3\", \"Topic3\", \"Topic3\", \"Topic3\", \"Topic3\", \"Topic3\", \"Topic3\", \"Topic3\", \"Topic3\", \"Topic3\", \"Topic3\", \"Topic3\", \"Topic3\", \"Topic3\", \"Topic3\", \"Topic3\", \"Topic3\", \"Topic3\", \"Topic3\", \"Topic3\", \"Topic3\", \"Topic3\", \"Topic3\"], \"Freq\": [139.0, 69.0, 39.0, 91.0, 35.0, 29.0, 31.0, 46.0, 36.0, 53.0, 38.0, 17.0, 29.0, 20.0, 18.0, 13.0, 15.0, 32.0, 10.0, 27.0, 37.0, 13.0, 29.0, 16.0, 9.0, 9.0, 12.0, 11.0, 16.0, 8.0, 31.300794842444365, 20.019003551177118, 14.944900551878163, 18.237937974128368, 13.176737639945937, 11.500114056779159, 9.773889085090417, 9.720793443039863, 8.891245803429507, 8.048958977010122, 8.048958977010027, 7.175596478075942, 7.17346200111202, 6.310221614835729, 5.4442335751067485, 5.444233165938518, 5.429103892310924, 26.34838014368456, 14.641687692531733, 12.287610998142023, 4.587470223949485, 4.58256665281666, 4.556297249232146, 4.555694499674715, 14.2810642205304, 3.737739539603625, 3.7377395396034587, 3.7370603166223764, 3.735254950005183, 3.7282132081302497, 33.4026716827915, 72.81929414167094, 29.130069440687983, 38.13106207588438, 17.719588708303448, 20.54091873645843, 8.3656841921145, 7.318764319592006, 16.065702192411067, 34.623272274577864, 11.988447146304974, 6.710520942738087, 7.590427841335506, 12.916683474272665, 10.391022319204222, 8.709274148721912, 7.863570528397184, 7.858459481496459, 7.851910644668589, 7.846982447429936, 7.016618483355194, 7.016618482384233, 6.0311721864353425, 4.495891726859328, 4.495823667852578, 4.487425514094494, 4.487068102883758, 4.483947461207466, 4.482657703735533, 4.473838457094284, 4.467699973670981, 8.128834939504676, 3.6529436577272607, 3.652900761315606, 3.65249926816072, 3.6520503244990357, 3.651148360379403, 3.6492009331572, 3.639577430363314, 3.638009493364071, 3.6242512928691535, 9.997574074171172, 3.5121345766212606, 104.13493478811638, 25.43135620457956, 18.07868857164198, 8.127961255194156, 25.74236516393721, 5.695649506682613, 20.049883150631928, 13.595607694540249, 8.885613817547542, 5.038188283570262, 6.435005902258351, 6.075435988678696, 9.482126580504097, 8.08082637476732, 5.678768144328703, 6.242296338625218, 5.754023940220962, 6.469435676625754, 6.271012604524462, 6.241742493999727, 38.476254045352356, 35.08357008361066, 16.84324254589855, 8.752239231302696, 64.43275347851466, 27.30953289699237, 6.217175012506548, 5.37558323236196, 5.374721512644012, 5.353272832314428, 4.516521447367517, 4.511500142574791, 4.508363710310202, 4.50836337066291, 4.456205876543013, 3.672097527779847, 3.6662682733311147, 3.6662682733311147, 3.6651014507694346, 3.6637892272845294, 3.6624465322221074, 3.656824260219352, 3.654019790151671, 3.6425913539614694, 2.8294313882620123, 2.8290590336747994, 2.8275741633119704, 2.827297941639367, 2.825340708720395, 2.821642259323425, 4.675912679831937, 6.156311705479741, 12.97230088183339, 4.455687891241434, 7.511583792071664, 20.48243760037467, 7.308850642691548, 12.740237087677048, 11.829961190546557, 8.897100573990985, 10.018930380435753, 7.349727904751317, 11.761462672203892, 14.827956746016262, 8.473077866756283, 10.077766683336064, 18.047938686139677, 10.59986958021264, 11.314229039036286, 6.640090932672977, 5.823613844171073, 5.095950067617755, 6.032945211349377], \"Term\": [\"research\", \"study\", \"diary\", \"testing\", \"diary study\", \"remote\", \"analytics\", \"method\", \"quantitative\", \"usability\", \"user\", \"new\", \"interview\", \"ab\", \"ab testing\", \"type\", \"card\", \"usability testing\", \"mixed\", \"quant\", \"survey\", \"focus\", \"unmoderated\", \"product\", \"session\", \"quantitative research\", \"group\", \"tracking\", \"inquiry\", \"mixed method\", \"analytics\", \"ab\", \"card\", \"ab testing\", \"focus\", \"group\", \"focus group\", \"observation\", \"unmoderated usability\", \"sorting\", \"card sorting\", \"user testing\", \"lab\", \"usability study\", \"sort\", \"card sort\", \"unmoderated usability testing\", \"interview\", \"product\", \"contextual inquiry\", \"mapping\", \"tree testing\", \"qualitative research\", \"remote testing\", \"inquiry\", \"research usability\", \"user research usability\", \"journey\", \"people\", \"onsite\", \"user\", \"testing\", \"survey\", \"usability\", \"contextual\", \"usability testing\", \"test\", \"workshop\", \"unmoderated\", \"research\", \"data\", \"benchmarking\", \"quant\", \"type\", \"mixed\", \"quantitative research\", \"mixed method\", \"sure\", \"participatory\", \"online\", \"eye\", \"eye tracking\", \"data science\", \"qual quant\", \"qualitative quantitative\", \"research method\", \"ux research\", \"different\", \"insight\", \"probably\", \"make\", \"using\", \"design research\", \"market research\", \"research data\", \"type research\", \"working\", \"point\", \"possibly\", \"strategic\", \"participatory design\", \"tracking\", \"remote research\", \"research\", \"quantitative\", \"quant\", \"help\", \"method\", \"science\", \"data\", \"design\", \"qual\", \"lot\", \"longitudinal\", \"trying\", \"qualitative\", \"analysis\", \"market\", \"need\", \"tool\", \"team\", \"use\", \"like\", \"diary\", \"diary study\", \"new\", \"session\", \"study\", \"remote\", \"field study\", \"new method\", \"remote unmoderated\", \"behavioral\", \"large\", \"looking new\", \"testing diary study\", \"testing diary\", \"time\", \"cultural\", \"study contextual\", \"diary study contextual\", \"concept\", \"remote usability\", \"plus\", \"access\", \"additional\", \"unmoderated study\", \"ll\", \"large scale\", \"eyetracking\", \"remote usability testing\", \"concept testing\", \"cultural probe\", \"intercept\", \"service\", \"ethnographic\", \"service design\", \"work\", \"method\", \"looking\", \"unmoderated\", \"qualitative\", \"ethnography\", \"analysis\", \"field\", \"usability testing\", \"usability\", \"like\", \"design\", \"testing\", \"quantitative\", \"data\", \"better\", \"team\", \"moderated\", \"survey\"], \"Total\": [139.0, 69.0, 39.0, 91.0, 35.0, 29.0, 31.0, 46.0, 36.0, 53.0, 38.0, 17.0, 29.0, 20.0, 18.0, 13.0, 15.0, 32.0, 10.0, 27.0, 37.0, 13.0, 29.0, 16.0, 9.0, 9.0, 12.0, 11.0, 16.0, 8.0, 31.91206889024238, 20.693933865801714, 15.519358294544944, 18.967050932475065, 13.792800577721135, 12.068202156530216, 10.342563410601999, 10.34156420670861, 9.479388255663181, 8.616945293721212, 8.616945293721207, 7.753876902267221, 7.753893070517231, 6.89110712657959, 6.028241282285114, 6.028241275774772, 6.027922959851238, 29.2861102642051, 16.36348778248893, 13.77885585197679, 5.1655227098321985, 5.1654458081905785, 5.164752916220939, 5.1650136940384, 16.35784107481772, 4.302916880001435, 4.3029168800014315, 4.302901312985023, 4.3028557491769845, 4.30269987442497, 38.70655087760337, 91.1597675682445, 37.804647570845184, 53.248055268209214, 23.2011532588468, 32.59010547826501, 11.169210717355778, 9.443745275850054, 29.122353692705087, 139.06551313375414, 43.35255933597319, 10.273464715995992, 27.163842306512606, 13.49876083906553, 10.969321325670041, 9.283052388815566, 8.439918741543268, 8.440084026522232, 8.440131600792505, 8.440193150142003, 7.596921374919007, 7.596921374941626, 6.754747335659024, 5.06734501831702, 5.067345150418025, 5.067440770332709, 5.067438115010478, 5.067614585321181, 5.067437386728859, 5.0678439447147285, 5.067546094208947, 9.287507838463794, 4.224210754558116, 4.224212024887053, 4.224223623181505, 4.224215933352768, 4.224223930845094, 4.224237905071813, 4.224309680532468, 4.22455700261945, 4.22457197099554, 11.821283059234041, 4.225211211849014, 139.06551313375414, 36.3359538366625, 27.163842306512606, 11.022178695358964, 46.52270688591871, 7.606209911679341, 43.35255933597319, 27.99256447144078, 15.318533379566704, 6.779828420894111, 10.148457190094359, 9.328154328724217, 26.334642182678596, 22.94537538944589, 9.353794237443001, 12.791711534652944, 10.196140280920984, 14.422669630218191, 13.610429016914948, 19.562042193297636, 39.06070376122604, 35.664350937183656, 17.839331410282924, 9.342720543872854, 69.7019831082934, 29.749803774464034, 6.795350285419211, 5.946199451645322, 5.946246505096737, 5.946094086942996, 5.097157883832552, 5.097087036968233, 5.097426539635655, 5.097426545119524, 5.096796909718824, 4.24812095108396, 4.248237735945084, 4.248237735945085, 4.248231929144152, 4.248074125443165, 4.2479877239415105, 4.247989866085055, 4.247866294366874, 4.248431695155967, 3.3989444617569173, 3.398941925578253, 3.398974293226769, 3.3989857470212104, 3.3990107433490477, 3.3990768792599497, 5.957531431859762, 8.52188627005127, 21.318995897855483, 5.960862490822357, 11.882292389757502, 46.52270688591871, 11.861830186053368, 29.122353692705087, 26.334642182678596, 17.844070173357604, 22.94537538944589, 13.654664017226446, 32.59010547826501, 53.248055268209214, 19.562042193297636, 27.99256447144078, 91.1597675682445, 36.3359538366625, 43.35255933597319, 12.82824813118133, 14.422669630218191, 9.396424816223558, 37.804647570845184], \"loglift\": [30.0, 29.0, 28.0, 27.0, 26.0, 25.0, 24.0, 23.0, 22.0, 21.0, 20.0, 19.0, 18.0, 17.0, 16.0, 15.0, 14.0, 13.0, 12.0, 11.0, 10.0, 9.0, 8.0, 7.0, 6.0, 5.0, 4.0, 3.0, 2.0, 1.0, 0.9337, 0.9199, 0.9153, 0.9138, 0.9073, 0.9048, 0.8965, 0.8911, 0.889, 0.8848, 0.8848, 0.8755, 0.8752, 0.865, 0.8511, 0.8511, 0.8484, 0.8473, 0.8418, 0.8385, 0.8343, 0.8333, 0.8277, 0.8275, 0.8172, 0.8122, 0.8122, 0.812, 0.8116, 0.8097, 0.8056, 0.7284, 0.6924, 0.6191, 0.6835, 0.4914, 0.664, 0.6981, 0.3582, -0.4374, -0.3324, 0.5271, -0.322, 1.1319, 1.1218, 1.1122, 1.1052, 1.1046, 1.1037, 1.1031, 1.0965, 1.0965, 1.0626, 1.0563, 1.0563, 1.0544, 1.0543, 1.0536, 1.0533, 1.0513, 1.05, 1.0427, 1.0307, 1.0306, 1.0305, 1.0304, 1.0302, 1.0296, 1.027, 1.0265, 1.0227, 1.0084, 0.9911, 0.8867, 0.8191, 0.7688, 0.8714, 0.5842, 0.8867, 0.4048, 0.4538, 0.6313, 0.879, 0.7204, 0.7472, 0.1545, 0.1323, 0.6769, 0.4585, 0.6038, 0.3742, 0.4011, 0.0336, 1.1694, 1.1681, 1.127, 1.1192, 1.1059, 1.0989, 1.0956, 1.0836, 1.0834, 1.0795, 1.0636, 1.0625, 1.0617, 1.0617, 1.0502, 1.0388, 1.0372, 1.0372, 1.0368, 1.0365, 1.0362, 1.0346, 1.0339, 1.0306, 1.0011, 1.001, 1.0004, 1.0003, 0.9996, 0.9983, 0.9423, 0.8593, 0.6877, 0.8935, 0.7259, 0.3641, 0.7003, 0.3578, 0.3842, 0.4885, 0.3559, 0.5651, 0.1653, -0.094, 0.3478, 0.1629, -0.4351, -0.0475, -0.1588, 0.526, 0.2776, 0.5726, -0.6507], \"logprob\": [30.0, 29.0, 28.0, 27.0, 26.0, 25.0, 24.0, 23.0, 22.0, 21.0, 20.0, 19.0, 18.0, 17.0, 16.0, 15.0, 14.0, 13.0, 12.0, 11.0, 10.0, 9.0, 8.0, 7.0, 6.0, 5.0, 4.0, 3.0, 2.0, 1.0, -3.6489, -4.0959, -4.3882, -4.1891, -4.5141, -4.6502, -4.8129, -4.8183, -4.9075, -5.007, -5.007, -5.1219, -5.1222, -5.2504, -5.398, -5.398, -5.4008, -3.8212, -4.4087, -4.584, -5.5692, -5.5703, -5.5761, -5.5762, -4.4336, -5.7741, -5.7741, -5.7743, -5.7748, -5.7766, -3.5839, -2.8046, -3.7208, -3.4515, -4.2179, -4.0701, -4.9684, -5.1021, -4.3159, -3.548, -4.6086, -5.1889, -5.0657, -4.3111, -4.5287, -4.7052, -4.8074, -4.808, -4.8089, -4.8095, -4.9214, -4.9214, -5.0727, -5.3665, -5.3665, -5.3684, -5.3684, -5.3691, -5.3694, -5.3714, -5.3728, -4.7742, -5.5741, -5.5741, -5.5742, -5.5743, -5.5746, -5.5751, -5.5778, -5.5782, -5.582, -4.5673, -5.6134, -2.2239, -3.6337, -3.9749, -4.7743, -3.6215, -5.1299, -3.8714, -4.2599, -4.6852, -5.2526, -5.0079, -5.0654, -4.6202, -4.7801, -5.1329, -5.0383, -5.1197, -5.0025, -5.0337, -5.0384, -3.2111, -3.3034, -4.0371, -4.6918, -2.6955, -3.5539, -5.0338, -5.1792, -5.1794, -5.1834, -5.3534, -5.3545, -5.3552, -5.3552, -5.3668, -5.5603, -5.5619, -5.5619, -5.5622, -5.5626, -5.563, -5.5645, -5.5653, -5.5684, -5.821, -5.8211, -5.8217, -5.8218, -5.8225, -5.8238, -5.3187, -5.0436, -4.2983, -5.3669, -4.8446, -3.8415, -4.872, -4.3163, -4.3905, -4.6754, -4.5566, -4.8664, -4.3963, -4.1646, -4.7242, -4.5508, -3.9681, -4.5003, -4.435, -4.968, -5.0992, -5.2326, -5.0639]}, \"token.table\": {\"Topic\": [1, 1, 3, 3, 1, 2, 3, 1, 3, 1, 2, 1, 3, 1, 1, 1, 3, 3, 1, 2, 3, 1, 3, 3, 3, 1, 2, 3, 2, 1, 2, 3, 2, 3, 3, 3, 2, 1, 2, 3, 1, 2, 3, 2, 2, 3, 1, 2, 3, 3, 1, 1, 1, 1, 2, 1, 3, 2, 1, 3, 1, 3, 1, 1, 3, 3, 1, 2, 3, 3, 2, 3, 2, 3, 3, 1, 2, 2, 1, 1, 2, 2, 2, 3, 2, 2, 1, 2, 3, 1, 2, 1, 3, 3, 1, 2, 1, 2, 2, 1, 3, 2, 2, 2, 1, 3, 1, 2, 2, 1, 2, 3, 2, 1, 1, 2, 3, 2, 3, 2, 1, 3, 2, 1, 3, 3, 3, 1, 2, 2, 2, 1, 2, 3, 1, 3, 1, 3, 3, 1, 1, 2, 1, 3, 3, 2, 1, 2, 3, 1, 2, 3, 1, 3, 1, 3, 3, 3, 3, 1, 2, 3, 2, 3, 1, 1, 2, 3, 2, 2, 1, 3, 3, 1, 1, 1, 3, 1, 1, 3, 1, 2, 3, 1, 2, 3, 1, 1, 2, 3, 2, 1, 2, 3, 2, 1, 2], \"Freq\": [0.966466797936931, 0.9490141648315344, 0.9416218319951873, 0.9416492240597187, 0.21790883413918058, 0.3486541346226889, 0.43581766827836116, 0.9714193118165002, 0.8408881404987317, 0.6813670162414496, 0.2920144355320498, 0.46771780048562805, 0.5456707672332327, 0.9665348086764968, 0.8294293096882359, 0.9284032481707006, 0.941568178648344, 0.8826097433996628, 0.7758235032190239, 0.04310130573439022, 0.2155065286719511, 0.8708995963752981, 0.07257496636460817, 0.9415927762083495, 0.8825925704431736, 0.27680026701543803, 0.4613337783590634, 0.25373357809748487, 0.8882641647194361, 0.1428950893041962, 0.5001328125646867, 0.3572377232604905, 0.9469224507048607, 0.9728447350127123, 0.9813721287581039, 0.9415668916443395, 0.7893260098323921, 0.3283456703842296, 0.09381304868120846, 0.609784816427855, 0.16812307791073372, 0.33624615582146744, 0.5043692337322011, 0.9214258848472852, 0.9214258848445417, 0.8826192083824181, 0.36617524925491407, 0.07323504985098281, 0.5126453489568796, 0.8829566906763004, 0.9425206959780373, 0.9668782876157334, 0.9943486067232218, 0.2721784941903718, 0.7258093178409916, 0.8558586634976221, 0.12226552335680316, 0.789353611053118, 0.16785475854179926, 0.8392737927089964, 0.8877928740088935, 0.10243763930871848, 0.9296053311585495, 0.9027723153181242, 0.9809388121681059, 0.8826276134416795, 0.2555970358612714, 0.3067164430335257, 0.40895525737803423, 0.8826269548544778, 0.5912228713795474, 0.2956114356897737, 0.3372160903722116, 0.5901281581513703, 0.9809524467084673, 0.14749635800785088, 0.7374817900392543, 0.7893366780760199, 0.9679562516457167, 0.3207254643245279, 0.6414509286490558, 0.9469221659409844, 0.558866879000748, 0.4298975992313447, 0.9116334277306959, 0.9478764245231551, 0.4256938227285905, 0.10642345568214763, 0.5321172784107382, 0.4690537293423095, 0.4690537293423095, 0.05605591246674084, 0.9529505119345942, 0.8408732402369202, 0.9669717075791073, 0.9478456070481519, 0.9296488522882568, 0.9478525191774051, 0.9468414853534574, 0.9296151749370375, 0.941622306829217, 0.9469163645346342, 0.9469002754305187, 0.7892902866852507, 0.9166749900380015, 0.061111666002533434, 0.39168240531455595, 0.5875236079718339, 0.7893679995226555, 0.18986398088555426, 0.34175516559399766, 0.4556735541253302, 0.7893679789445612, 0.9681005231240589, 0.2945091460084783, 0.6626455785190761, 0.036813643251059784, 0.6880237715068686, 0.30273045946302213, 0.9695086942354657, 0.06722733417545143, 0.9075690113685944, 0.9466982357669032, 0.9680516444266424, 0.8408665862934414, 0.9416031551904039, 0.8826162341601839, 0.2516799399886927, 0.7478489645378298, 0.9469195660118417, 0.7893530839902397, 0.9296019680488613, 0.7888291369380952, 0.26294304564603177, 0.23468982530647728, 0.7040694759194318, 0.16776095767007715, 0.6710438306803086, 0.9633168366469425, 0.8294293087924741, 0.9284032481707, 0.9468448401855596, 0.07173397049882618, 0.9181948223849752, 0.9415668916443397, 0.9478578619431623, 0.7671014508376135, 0.07935532250044278, 0.15871064500088555, 0.13867058258130144, 0.4160117477439043, 0.4160117477439043, 0.7162547294025747, 0.2685955235259655, 0.8007918618852374, 0.19745552758814075, 0.9808871115145731, 0.9808871125698226, 0.7848066287225615, 0.29422898443380574, 0.5884579688676115, 0.09807632814460192, 0.8459318628859521, 0.16918637257719044, 0.9679706622943871, 0.21440468602040527, 0.6432140580612158, 0.10720234301020264, 0.9630513611573803, 0.9469212897990262, 0.549406142402833, 0.4463924907023018, 0.941523905059077, 0.9494283552130292, 0.8294731092786551, 0.7136410862067147, 0.2817004287658084, 0.8706873786444976, 0.6443673529686892, 0.3682099159821081, 0.293892278856811, 0.4408384182852165, 0.22041920914260826, 0.8525688611302917, 0.12917710017125633, 0.025835420034251266, 0.9296019680488621, 0.9027741977633423, 0.8613720859398214, 0.10767151074247767, 0.7893534976088661, 0.08415884470760851, 0.2524765341228255, 0.6732707576608681, 0.9469194970446948, 0.7412313436598822, 0.21178038390282347], \"Term\": [\"ab\", \"ab testing\", \"access\", \"additional\", \"analysis\", \"analysis\", \"analysis\", \"analytics\", \"behavioral\", \"benchmarking\", \"benchmarking\", \"better\", \"better\", \"card\", \"card sort\", \"card sorting\", \"concept\", \"concept testing\", \"contextual\", \"contextual\", \"contextual\", \"contextual inquiry\", \"contextual inquiry\", \"cultural\", \"cultural probe\", \"data\", \"data\", \"data\", \"data science\", \"design\", \"design\", \"design\", \"design research\", \"diary\", \"diary study\", \"diary study contextual\", \"different\", \"ethnographic\", \"ethnographic\", \"ethnographic\", \"ethnography\", \"ethnography\", \"ethnography\", \"eye\", \"eye tracking\", \"eyetracking\", \"field\", \"field\", \"field\", \"field study\", \"focus\", \"focus group\", \"group\", \"help\", \"help\", \"inquiry\", \"inquiry\", \"insight\", \"intercept\", \"intercept\", \"interview\", \"interview\", \"journey\", \"lab\", \"large\", \"large scale\", \"like\", \"like\", \"like\", \"ll\", \"longitudinal\", \"longitudinal\", \"looking\", \"looking\", \"looking new\", \"lot\", \"lot\", \"make\", \"mapping\", \"market\", \"market\", \"market research\", \"method\", \"method\", \"mixed\", \"mixed method\", \"moderated\", \"moderated\", \"moderated\", \"need\", \"need\", \"new\", \"new\", \"new method\", \"observation\", \"online\", \"onsite\", \"participatory\", \"participatory design\", \"people\", \"plus\", \"point\", \"possibly\", \"probably\", \"product\", \"product\", \"qual\", \"qual\", \"qual quant\", \"qualitative\", \"qualitative\", \"qualitative\", \"qualitative quantitative\", \"qualitative research\", \"quant\", \"quant\", \"quant\", \"quantitative\", \"quantitative\", \"quantitative research\", \"remote\", \"remote\", \"remote research\", \"remote testing\", \"remote unmoderated\", \"remote usability\", \"remote usability testing\", \"research\", \"research\", \"research data\", \"research method\", \"research usability\", \"science\", \"science\", \"service\", \"service\", \"service design\", \"service design\", \"session\", \"sort\", \"sorting\", \"strategic\", \"study\", \"study\", \"study contextual\", \"sure\", \"survey\", \"survey\", \"survey\", \"team\", \"team\", \"team\", \"test\", \"test\", \"testing\", \"testing\", \"testing diary\", \"testing diary study\", \"time\", \"tool\", \"tool\", \"tool\", \"tracking\", \"tracking\", \"tree testing\", \"trying\", \"trying\", \"trying\", \"type\", \"type research\", \"unmoderated\", \"unmoderated\", \"unmoderated study\", \"unmoderated usability\", \"unmoderated usability testing\", \"usability\", \"usability\", \"usability study\", \"usability testing\", \"usability testing\", \"use\", \"use\", \"use\", \"user\", \"user\", \"user\", \"user research usability\", \"user testing\", \"using\", \"using\", \"ux research\", \"work\", \"work\", \"work\", \"working\", \"workshop\", \"workshop\"]}, \"R\": 30, \"lambda.step\": 0.01, \"plot.opts\": {\"xlab\": \"PC1\", \"ylab\": \"PC2\"}, \"topic.order\": [1, 3, 2]};\n",
       "\n",
       "function LDAvis_load_lib(url, callback){\n",
       "  var s = document.createElement('script');\n",
       "  s.src = url;\n",
       "  s.async = true;\n",
       "  s.onreadystatechange = s.onload = callback;\n",
       "  s.onerror = function(){console.warn(\"failed to load library \" + url);};\n",
       "  document.getElementsByTagName(\"head\")[0].appendChild(s);\n",
       "}\n",
       "\n",
       "if(typeof(LDAvis) !== \"undefined\"){\n",
       "   // already loaded: just create the visualization\n",
       "   !function(LDAvis){\n",
       "       new LDAvis(\"#\" + \"ldavis_el26821112420692280619035824\", ldavis_el26821112420692280619035824_data);\n",
       "   }(LDAvis);\n",
       "}else if(typeof define === \"function\" && define.amd){\n",
       "   // require.js is available: use it to load d3/LDAvis\n",
       "   require.config({paths: {d3: \"https://cdnjs.cloudflare.com/ajax/libs/d3/3.5.5/d3.min\"}});\n",
       "   require([\"d3\"], function(d3){\n",
       "      window.d3 = d3;\n",
       "      LDAvis_load_lib(\"https://cdn.rawgit.com/bmabey/pyLDAvis/files/ldavis.v1.0.0.js\", function(){\n",
       "        new LDAvis(\"#\" + \"ldavis_el26821112420692280619035824\", ldavis_el26821112420692280619035824_data);\n",
       "      });\n",
       "    });\n",
       "}else{\n",
       "    // require.js not available: dynamically load d3 & LDAvis\n",
       "    LDAvis_load_lib(\"https://cdnjs.cloudflare.com/ajax/libs/d3/3.5.5/d3.min.js\", function(){\n",
       "         LDAvis_load_lib(\"https://cdn.rawgit.com/bmabey/pyLDAvis/files/ldavis.v1.0.0.js\", function(){\n",
       "                 new LDAvis(\"#\" + \"ldavis_el26821112420692280619035824\", ldavis_el26821112420692280619035824_data);\n",
       "            })\n",
       "         });\n",
       "}\n",
       "</script>"
      ],
      "text/plain": [
       "PreparedData(topic_coordinates=              x         y  topics  cluster       Freq\n",
       "topic                                                \n",
       "0      0.096808  0.147788       1        1  38.557449\n",
       "2     -0.188419  0.002743       2        1  30.852486\n",
       "1      0.091610 -0.150531       3        1  30.590065, topic_info=    Category        Freq         Term       Total  loglift  logprob\n",
       "371  Default  139.000000     research  139.000000  30.0000  30.0000\n",
       "434  Default   69.000000        study   69.000000  29.0000  29.0000\n",
       "90   Default   39.000000        diary   39.000000  28.0000  28.0000\n",
       "459  Default   91.000000      testing   91.000000  27.0000  27.0000\n",
       "91   Default   35.000000  diary study   35.000000  26.0000  26.0000\n",
       "..       ...         ...          ...         ...      ...      ...\n",
       "76    Topic3   11.314229         data   43.352559  -0.1588  -4.4350\n",
       "29    Topic3    6.640091       better   12.828248   0.5260  -4.9680\n",
       "454   Topic3    5.823614         team   14.422670   0.2776  -5.0992\n",
       "266   Topic3    5.095950    moderated    9.396425   0.5726  -5.2326\n",
       "444   Topic3    6.032945       survey   37.804648  -0.6507  -5.0639\n",
       "\n",
       "[176 rows x 6 columns], token_table=      Topic      Freq        Term\n",
       "term                             \n",
       "0         1  0.966467          ab\n",
       "2         1  0.949014  ab testing\n",
       "3         3  0.941622      access\n",
       "6         3  0.941649  additional\n",
       "10        1  0.217909    analysis\n",
       "...     ...       ...         ...\n",
       "536       2  0.252477        work\n",
       "536       3  0.673271        work\n",
       "537       2  0.946919     working\n",
       "538       1  0.741231    workshop\n",
       "538       2  0.211780    workshop\n",
       "\n",
       "[197 rows x 3 columns], R=30, lambda_step=0.01, plot_opts={'xlab': 'PC1', 'ylab': 'PC2'}, topic_order=[1, 3, 2])"
      ]
     },
     "execution_count": 18,
     "metadata": {},
     "output_type": "execute_result"
    }
   ],
   "source": [
    "pyLDAvis.sklearn.prepare(LDA, word_count_matrix, count_vect)"
   ]
  },
  {
   "cell_type": "code",
   "execution_count": 11,
   "metadata": {},
   "outputs": [
    {
     "data": {
      "text/plain": [
       "array([[0.04865894, 0.48496094, 0.46638011],\n",
       "       [0.33333333, 0.33333333, 0.33333333],\n",
       "       [0.16682112, 0.66314436, 0.17003452],\n",
       "       ...,\n",
       "       [0.08755814, 0.82907687, 0.083365  ],\n",
       "       [0.51182215, 0.45753248, 0.03064537],\n",
       "       [0.02645341, 0.58808696, 0.38545963]])"
      ]
     },
     "execution_count": 11,
     "metadata": {},
     "output_type": "execute_result"
    }
   ],
   "source": [
    "LDA.transform(word_count_matrix)"
   ]
  },
  {
   "cell_type": "code",
   "execution_count": 12,
   "metadata": {},
   "outputs": [
    {
     "name": "stdout",
     "output_type": "stream",
     "text": [
      "Top 3 Documents for Topic 0: \n",
      "\n",
      "Document 1\n",
      "I'd love to just flat-out assemble a customer \"council\" database so that we can engage in more frequent and lighter-weight customer research sessions, a I've done at previous jobs, but there are major cultural hurdle - managing sales/channel partner relationship and mistrust, etc. This is still my major goal that I don't want to fully give up on, though.\n",
      "\n",
      "Document 2\n",
      "More contextual/observational studies, unmoderated studies, more co-design workshops, generally looking for opportunity to be more lean, quick, and agile with the process (leveraging existing insight from past research is a large part of that effort for us)\n",
      "\n",
      "Document 3\n",
      "more service design, design thinking learning proper SPSS quant method to complement qual method going to try out Delve for grounded theory analysis\n",
      "\n",
      "Top 3 Documents for Topic 1: \n",
      "\n",
      "Document 1\n",
      "User Experience Research (workshops, surveys, interviews, usability testing, benchmark, card sorting, etc.) and I would like to delve deeper in Analytics.\n",
      "\n",
      "Document 2\n",
      "Diaty study Surveys Ethnographic Research User research Usability testing Surveys Tree Testing Card sort\n",
      "\n",
      "Document 3\n",
      "A/B/n & Multivariate Testing Analytic Research Behavioural Research Card Sorting/Tree Testing Content Auditing Experience Mapping Information Architecture (IA) Lab (Testing & Build) Persona Development Research Participant Recruitment & Management Scenario/Task Mapping Survey Design & Analysis Usability Testing User/Stakeholder Interviews Workshops\n",
      "\n",
      "Top 3 Documents for Topic 2: \n",
      "\n",
      "Document 1\n",
      "I'd love to grow our user research to a better understanding of people's journey across our many tool and channel (we have persona and lot of quant stuff, but very little around journeys, reason people attend, drop out, etc.).\n",
      "\n",
      "Document 2\n",
      "Now we are opening research to our \"builders\" and reviewing quantitative collector such a Pendo and defining standardised KEIs. So we expect to have continuous product validation research run by product people apart from some core research drill that we are going to keep running. Also, we are thinking about including a librarian role that could help u to maintain the learning in a scalable repository that we could feed and share a easily a possible.\n",
      "\n",
      "Document 3\n",
      "Doing more strategic piece to help inform the product strategy early on before the okrs are set. Have fundamental understanding our user in different market since we have a global product and we haven’t done a lot of thinking around localized content and market differences. Doing information architecture research.\n",
      "\n"
     ]
    }
   ],
   "source": [
    "nlp.find_top_documents_per_topic(LDA.transform(word_count_matrix), future_research, 3)"
   ]
  },
  {
   "cell_type": "code",
   "execution_count": null,
   "metadata": {},
   "outputs": [],
   "source": [
    "from textblob import TextBlob, Word"
   ]
  },
  {
   "cell_type": "code",
   "execution_count": null,
   "metadata": {},
   "outputs": [],
   "source": [
    "word = 'studies'"
   ]
  },
  {
   "cell_type": "code",
   "execution_count": null,
   "metadata": {},
   "outputs": [],
   "source": [
    "w = Word(word)\n",
    "w.lemmatize()"
   ]
  },
  {
   "cell_type": "code",
   "execution_count": null,
   "metadata": {},
   "outputs": [],
   "source": [
    "import nltk"
   ]
  },
  {
   "cell_type": "code",
   "execution_count": null,
   "metadata": {},
   "outputs": [],
   "source": [
    "wnl = nltk.stem.WordNetLemmatizer()"
   ]
  },
  {
   "cell_type": "code",
   "execution_count": null,
   "metadata": {},
   "outputs": [],
   "source": [
    "wnl.lemmatize(word)"
   ]
  },
  {
   "cell_type": "code",
   "execution_count": null,
   "metadata": {},
   "outputs": [],
   "source": [
    "lemmas = [wnl.lemmatize(word) for word in text.split()]"
   ]
  }
 ],
 "metadata": {
  "kernelspec": {
   "display_name": "Python 3",
   "language": "python",
   "name": "python3"
  },
  "language_info": {
   "codemirror_mode": {
    "name": "ipython",
    "version": 3
   },
   "file_extension": ".py",
   "mimetype": "text/x-python",
   "name": "python",
   "nbconvert_exporter": "python",
   "pygments_lexer": "ipython3",
   "version": "3.7.3"
  }
 },
 "nbformat": 4,
 "nbformat_minor": 2
}

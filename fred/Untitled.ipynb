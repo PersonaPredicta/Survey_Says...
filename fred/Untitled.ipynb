{
 "cells": [
  {
   "cell_type": "code",
   "execution_count": 1,
   "metadata": {},
   "outputs": [],
   "source": [
    "import sys\n",
    "sys.path.append('../')\n",
    "import wrangle"
   ]
  },
  {
   "cell_type": "code",
   "execution_count": 2,
   "metadata": {},
   "outputs": [],
   "source": [
    "import nlp"
   ]
  },
  {
   "cell_type": "code",
   "execution_count": 5,
   "metadata": {},
   "outputs": [],
   "source": [
    "from sklearn.decomposition import LatentDirichletAllocation, NMF"
   ]
  },
  {
   "cell_type": "code",
   "execution_count": 3,
   "metadata": {},
   "outputs": [],
   "source": [
    "df, data_dict = wrangle.wrangle_data()"
   ]
  },
  {
   "cell_type": "code",
   "execution_count": 14,
   "metadata": {},
   "outputs": [],
   "source": [
    "import pyLDAvis\n",
    "import pyLDAvis.sklearn"
   ]
  },
  {
   "cell_type": "code",
   "execution_count": 15,
   "metadata": {},
   "outputs": [],
   "source": [
    "pyLDAvis.enable_notebook()"
   ]
  },
  {
   "cell_type": "code",
   "execution_count": 4,
   "metadata": {},
   "outputs": [
    {
     "name": "stdout",
     "output_type": "stream",
     "text": [
      "<class 'pandas.core.frame.DataFrame'>\n",
      "Int64Index: 726 entries, 284 to 2\n",
      "Data columns (total 78 columns):\n",
      "job_title                         726 non-null category\n",
      "job_taxo                          726 non-null category\n",
      "job_id                            723 non-null category\n",
      "job_conduct_res                   726 non-null int64\n",
      "job_analyze_res                   726 non-null int64\n",
      "job_buy_res_report                726 non-null int64\n",
      "job_manage_res_proj               726 non-null int64\n",
      "job_observe_res                   726 non-null int64\n",
      "job_plan_res                      726 non-null int64\n",
      "job_teach_res                     726 non-null int64\n",
      "job_advocate_res                  726 non-null int64\n",
      "job_hire_res_vendor               726 non-null int64\n",
      "job_lead_res_team                 726 non-null int64\n",
      "num_employees                     723 non-null category\n",
      "num_researchers                   722 non-null category\n",
      "primary_industry                  726 non-null category\n",
      "types_res_used                    690 non-null category\n",
      "future_res                        609 non-null category\n",
      "exp_conduct_res                   726 non-null int64\n",
      "exp_analyze_res                   726 non-null int64\n",
      "exp_buy_res_report                726 non-null int64\n",
      "exp_manage_res_proj               726 non-null int64\n",
      "exp_observe_res                   726 non-null int64\n",
      "exp_plan_res                      726 non-null int64\n",
      "exp_teach_res                     726 non-null int64\n",
      "exp_advocate_res                  726 non-null int64\n",
      "exp_hire_res_vendor               726 non-null int64\n",
      "exp_lead_res_team                 726 non-null int64\n",
      "research_educ                     726 non-null object\n",
      "research_educ_cat                 726 non-null category\n",
      "research_educ_desc                540 non-null object\n",
      "learning_talks                    726 non-null int64\n",
      "learning_read                     726 non-null int64\n",
      "learning_meetup                   726 non-null int64\n",
      "learning_workshop                 726 non-null int64\n",
      "learning_conference               726 non-null int64\n",
      "likely_watch_video                726 non-null int64\n",
      "likely_internet                   726 non-null int64\n",
      "likely_book                       726 non-null int64\n",
      "likely_online_group               726 non-null int64\n",
      "likely_colleague                  726 non-null int64\n",
      "likely_meetup                     726 non-null int64\n",
      "likely_conference                 726 non-null int64\n",
      "likely_workshop                   726 non-null int64\n",
      "factor_speaker                    726 non-null int64\n",
      "factor_diverse_speak              726 non-null int64\n",
      "factor_topics                     726 non-null int64\n",
      "factor_format_sessions            726 non-null int64\n",
      "factor_size                       726 non-null int64\n",
      "factor_network                    726 non-null int64\n",
      "factor_variety_attend             726 non-null int64\n",
      "factor_code                       726 non-null int64\n",
      "factor_location                   726 non-null int64\n",
      "factor_ability_to_pay             726 non-null int64\n",
      "how_pick_events                   644 non-null object\n",
      "best_event                        594 non-null object\n",
      "events_attend_recent              558 non-null object\n",
      "ideal_conference_size             726 non-null object\n",
      "ideal_conference_size_cat_orig    724 non-null category\n",
      "ideal_conference_size_cat         726 non-null category\n",
      "ideal_structure                   726 non-null object\n",
      "ideal_structure_cat               726 non-null category\n",
      "ideal_multi_track                 726 non-null int64\n",
      "ideal_single_track                726 non-null int64\n",
      "ideal_unconference                726 non-null int64\n",
      "session_keynote                   726 non-null int64\n",
      "session_long_talk                 726 non-null int64\n",
      "session_short_talk                726 non-null int64\n",
      "session_workshop                  726 non-null int64\n",
      "session_network                   726 non-null int64\n",
      "session_social_event              726 non-null int64\n",
      "session_qa                        726 non-null int64\n",
      "sesson_topic_tables               726 non-null int64\n",
      "other_conference_types            258 non-null object\n",
      "ideal_topics                      560 non-null object\n",
      "ideal_attendees                   471 non-null object\n",
      "recommendations                   494 non-null object\n",
      "persona_id                        726 non-null category\n",
      "dtypes: category(13), int64(54), object(11)\n",
      "memory usage: 463.7+ KB\n"
     ]
    }
   ],
   "source": [
    "df.info()"
   ]
  },
  {
   "cell_type": "code",
   "execution_count": 8,
   "metadata": {},
   "outputs": [],
   "source": [
    "word_count_matrix, count_vect = nlp.create_wordcount_matrix(df.recommendations.dropna(), max_df=0.8, min_df=2, ngram=(1,3))"
   ]
  },
  {
   "cell_type": "code",
   "execution_count": 9,
   "metadata": {},
   "outputs": [
    {
     "data": {
      "text/plain": [
       "<494x1451 sparse matrix of type '<class 'numpy.int64'>'\n",
       "\twith 7470 stored elements in Compressed Sparse Row format>"
      ]
     },
     "execution_count": 9,
     "metadata": {},
     "output_type": "execute_result"
    }
   ],
   "source": [
    "word_count_matrix"
   ]
  },
  {
   "cell_type": "code",
   "execution_count": 10,
   "metadata": {},
   "outputs": [
    {
     "data": {
      "text/plain": [
       "LatentDirichletAllocation(batch_size=128, doc_topic_prior=None,\n",
       "                          evaluate_every=-1, learning_decay=0.7,\n",
       "                          learning_method='batch', learning_offset=10.0,\n",
       "                          max_doc_update_iter=100, max_iter=10,\n",
       "                          mean_change_tol=0.001, n_components=3, n_jobs=None,\n",
       "                          perp_tol=0.1, random_state=42, topic_word_prior=None,\n",
       "                          total_samples=1000000.0, verbose=0)"
      ]
     },
     "execution_count": 10,
     "metadata": {},
     "output_type": "execute_result"
    }
   ],
   "source": [
    "LDA = LatentDirichletAllocation(n_components=3, random_state=42)\n",
    "LDA.fit(word_count_matrix)"
   ]
  },
  {
   "cell_type": "code",
   "execution_count": 16,
   "metadata": {},
   "outputs": [
    {
     "name": "stderr",
     "output_type": "stream",
     "text": [
      "/usr/local/anaconda3/lib/python3.7/site-packages/pyLDAvis/_prepare.py:257: FutureWarning: Sorting because non-concatenation axis is not aligned. A future version\n",
      "of pandas will change to not sort by default.\n",
      "\n",
      "To accept the future behavior, pass 'sort=False'.\n",
      "\n",
      "To retain the current behavior and silence the warning, pass 'sort=True'.\n",
      "\n",
      "  return pd.concat([default_term_info] + list(topic_dfs))\n"
     ]
    }
   ],
   "source": [
    "nlp.show_plLDAvis_dashboard(LDA, word_count_matrix, count_vect)"
   ]
  },
  {
   "cell_type": "code",
   "execution_count": null,
   "metadata": {},
   "outputs": [],
   "source": []
  }
 ],
 "metadata": {
  "kernelspec": {
   "display_name": "Python 3",
   "language": "python",
   "name": "python3"
  },
  "language_info": {
   "codemirror_mode": {
    "name": "ipython",
    "version": 3
   },
   "file_extension": ".py",
   "mimetype": "text/x-python",
   "name": "python",
   "nbconvert_exporter": "python",
   "pygments_lexer": "ipython3",
   "version": "3.7.3"
  }
 },
 "nbformat": 4,
 "nbformat_minor": 2
}

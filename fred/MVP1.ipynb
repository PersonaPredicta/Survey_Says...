{
 "cells": [
  {
   "cell_type": "code",
   "execution_count": 1,
   "metadata": {},
   "outputs": [],
   "source": [
    "import sys\n",
    "sys.path.append('../')\n",
    "import wrangle\n",
    "\n",
    "import nlp"
   ]
  },
  {
   "cell_type": "code",
   "execution_count": 2,
   "metadata": {},
   "outputs": [],
   "source": [
    "from sklearn.decomposition import LatentDirichletAllocation\n",
    "from sklearn.feature_extraction.text import CountVectorizer\n",
    "import pandas as pd\n",
    "import numpy as np"
   ]
  },
  {
   "cell_type": "code",
   "execution_count": 3,
   "metadata": {},
   "outputs": [],
   "source": [
    "pd.set_option('display.max_columns', None)\n",
    "\n",
    "df, data_dict = wrangle.wrangle_data()"
   ]
  },
  {
   "cell_type": "code",
   "execution_count": 4,
   "metadata": {},
   "outputs": [],
   "source": [
    "big_df = pd.read_csv('topics.csv', index_col=False)"
   ]
  },
  {
   "cell_type": "code",
   "execution_count": 5,
   "metadata": {},
   "outputs": [],
   "source": [
    "big_df.drop('Unnamed: 0', axis=1,inplace=True)"
   ]
  },
  {
   "cell_type": "code",
   "execution_count": 6,
   "metadata": {},
   "outputs": [],
   "source": [
    "execs = big_df[big_df.persona_id == 1]"
   ]
  },
  {
   "cell_type": "code",
   "execution_count": 7,
   "metadata": {},
   "outputs": [
    {
     "data": {
      "text/plain": [
       "(94, 31)"
      ]
     },
     "execution_count": 7,
     "metadata": {},
     "output_type": "execute_result"
    }
   ],
   "source": [
    "execs.shape"
   ]
  },
  {
   "cell_type": "markdown",
   "metadata": {},
   "source": [
    "# Moderately Experienced\n",
    "## What topics would they be most attracted to at a conference about research?\n",
    "\n",
    "q21 ideal_topics\n"
   ]
  },
  {
   "cell_type": "code",
   "execution_count": 8,
   "metadata": {},
   "outputs": [],
   "source": [
    "stop_words = ['like', 'plus', 'real', 'love', 'big', 'avoiding', 'mean', 'content', 'people', 'problem', \n",
    "              'doing', 'using','research', 'work', 'don', 'make', 'conference', 'good', 'best', 'self', 'report']"
   ]
  },
  {
   "cell_type": "code",
   "execution_count": 9,
   "metadata": {},
   "outputs": [],
   "source": [
    "stopWords = nlp.set_stop_words(stop_words)"
   ]
  },
  {
   "cell_type": "markdown",
   "metadata": {},
   "source": [
    "### keywords"
   ]
  },
  {
   "cell_type": "code",
   "execution_count": 10,
   "metadata": {},
   "outputs": [
    {
     "data": {
      "text/plain": [
       "['value',\n",
       " 'peer',\n",
       " 'stakeholder',\n",
       " 'topic',\n",
       " 'study',\n",
       " 'methodology',\n",
       " 'analysis',\n",
       " 'academic',\n",
       " 'example',\n",
       " 'understand',\n",
       " 'method',\n",
       " 'use',\n",
       " 'mind',\n",
       " 'think',\n",
       " 'industry',\n",
       " 'knowledge',\n",
       " 'used',\n",
       " 'way',\n",
       " 'data',\n",
       " 'insight']"
      ]
     },
     "execution_count": 10,
     "metadata": {},
     "output_type": "execute_result"
    }
   ],
   "source": [
    "#words\n",
    "nlp.show_column_keywords(execs.ideal_topics_text, max_df=.5, stop_words=stopWords, ngram_range=(1,3))"
   ]
  },
  {
   "cell_type": "code",
   "execution_count": 11,
   "metadata": {},
   "outputs": [
    {
     "data": {
      "text/plain": [
       "['new method',\n",
       " 'knowledge management',\n",
       " 'technology ai',\n",
       " 'new technique',\n",
       " 'qual quant',\n",
       " 'case study',\n",
       " 'tool new']"
      ]
     },
     "execution_count": 11,
     "metadata": {},
     "output_type": "execute_result"
    }
   ],
   "source": [
    "#bi-grams\n",
    "nlp.show_column_keywords(execs.ideal_topics_text, max_df=.5, stop_words=stopWords, ngram_range=(2,3))"
   ]
  },
  {
   "cell_type": "markdown",
   "metadata": {},
   "source": [
    "### topics"
   ]
  },
  {
   "cell_type": "code",
   "execution_count": 12,
   "metadata": {},
   "outputs": [
    {
     "data": {
      "text/plain": [
       "case_study                  36\n",
       "ops/ai                      20\n",
       "new_method, mixed_method    20\n",
       "quant/qual/data             18\n",
       "Name: ideal_topics_topic_id, dtype: int64"
      ]
     },
     "execution_count": 12,
     "metadata": {},
     "output_type": "execute_result"
    }
   ],
   "source": [
    "execs.ideal_topics_topic_id.value_counts()"
   ]
  },
  {
   "cell_type": "markdown",
   "metadata": {},
   "source": [
    "## Who would they expect to see at a conference about research?\n",
    "\n",
    "q22 Ideal Attendees"
   ]
  },
  {
   "cell_type": "code",
   "execution_count": 11,
   "metadata": {},
   "outputs": [],
   "source": [
    "stop_words = ['like', 'plus', 'real', 'love', 'big', 'avoiding', 'mean', 'content', 'people', 'problem', \n",
    "              'doing', 'using','research', 'work', 'don', 'make', 'conference']"
   ]
  },
  {
   "cell_type": "code",
   "execution_count": 12,
   "metadata": {},
   "outputs": [],
   "source": [
    "stopWords = nlp.set_stop_words(stop_words)"
   ]
  },
  {
   "cell_type": "code",
   "execution_count": 13,
   "metadata": {},
   "outputs": [
    {
     "data": {
      "text/plain": [
       "['norman',\n",
       " 'specific',\n",
       " 'colleague',\n",
       " 'potential',\n",
       " 'new',\n",
       " 'client',\n",
       " 'marketer',\n",
       " 'design',\n",
       " 'mix',\n",
       " 'perspective',\n",
       " 'network',\n",
       " 'event',\n",
       " 'speaker',\n",
       " 'organization',\n",
       " 'expert',\n",
       " 'industry',\n",
       " 'leader',\n",
       " 'industry leader',\n",
       " 'researcher',\n",
       " 'want']"
      ]
     },
     "execution_count": 13,
     "metadata": {},
     "output_type": "execute_result"
    }
   ],
   "source": [
    "#terms\n",
    "nlp.show_column_keywords(execs.ideal_attendees_text, max_df=.5, stop_words=stopWords)"
   ]
  },
  {
   "cell_type": "code",
   "execution_count": 14,
   "metadata": {},
   "outputs": [
    {
     "data": {
      "text/plain": [
       "['industry leader',\n",
       " 'working company',\n",
       " 'indi young',\n",
       " 'way working',\n",
       " 'steve portigal',\n",
       " 'really cool',\n",
       " 'leader field',\n",
       " 'qual quant',\n",
       " 'thought leader']"
      ]
     },
     "execution_count": 14,
     "metadata": {},
     "output_type": "execute_result"
    }
   ],
   "source": [
    "#bigrams\n",
    "nlp.show_column_keywords(execs.ideal_attendees_text, max_df=.5, stop_words=stopWords, ngram_range=(2,3))"
   ]
  },
  {
   "cell_type": "code",
   "execution_count": 15,
   "metadata": {},
   "outputs": [
    {
     "data": {
      "text/plain": [
       "industry, team, product    62\n",
       "indi young                 16\n",
       "experience, jared spool     9\n",
       "sam ladner, erika hall      7\n",
       "Name: ideal_attendees_topic_id, dtype: int64"
      ]
     },
     "execution_count": 15,
     "metadata": {},
     "output_type": "execute_result"
    }
   ],
   "source": [
    "execs.ideal_attendees_topic_id.value_counts()"
   ]
  },
  {
   "cell_type": "markdown",
   "metadata": {},
   "source": [
    "## What advice do they have for the Rosenfeld Media team in pursuing a conference?\n",
    "q23 recommendations"
   ]
  },
  {
   "cell_type": "code",
   "execution_count": 16,
   "metadata": {},
   "outputs": [
    {
     "data": {
      "text/plain": [
       "['london',\n",
       " 'worked',\n",
       " 'really',\n",
       " 'way',\n",
       " 'say',\n",
       " 'dont',\n",
       " 'learn',\n",
       " 'speaking',\n",
       " 'audience',\n",
       " 'great',\n",
       " 'author',\n",
       " 'start',\n",
       " 'attendee',\n",
       " 'world',\n",
       " 'style',\n",
       " 'hard',\n",
       " 'mix',\n",
       " 'speaker',\n",
       " 'time',\n",
       " 'place']"
      ]
     },
     "execution_count": 16,
     "metadata": {},
     "output_type": "execute_result"
    }
   ],
   "source": [
    "#words\n",
    "nlp.show_column_keywords(execs.recommendations_text, max_df=.9, stop_words=stopWords, ngram_range=(1,7))"
   ]
  },
  {
   "cell_type": "code",
   "execution_count": 17,
   "metadata": {},
   "outputs": [
    {
     "data": {
      "text/plain": [
       "['afford attend',\n",
       " 'healthy food',\n",
       " 'time break',\n",
       " 'limit speaker',\n",
       " 'small focused']"
      ]
     },
     "execution_count": 17,
     "metadata": {},
     "output_type": "execute_result"
    }
   ],
   "source": [
    "#ngrams\n",
    "nlp.show_column_keywords(execs.recommendations_text, max_df=.9, stop_words=stopWords, ngram_range=(2,7))"
   ]
  },
  {
   "cell_type": "code",
   "execution_count": 18,
   "metadata": {},
   "outputs": [
    {
     "data": {
      "text/plain": [
       "speaker, industry      46\n",
       "event, opportunity     17\n",
       "good, know             12\n",
       "group, career, city    11\n",
       "field, survery          8\n",
       "Name: recommendations_topic_id, dtype: int64"
      ]
     },
     "execution_count": 18,
     "metadata": {},
     "output_type": "execute_result"
    }
   ],
   "source": [
    "execs.recommendations_topic_id.value_counts()"
   ]
  },
  {
   "cell_type": "markdown",
   "metadata": {},
   "source": [
    "## Top Documents per Topic"
   ]
  },
  {
   "cell_type": "code",
   "execution_count": 19,
   "metadata": {},
   "outputs": [
    {
     "data": {
      "text/plain": [
       "LatentDirichletAllocation(batch_size=128, doc_topic_prior=None,\n",
       "                          evaluate_every=-1, learning_decay=0.7,\n",
       "                          learning_method='batch', learning_offset=10.0,\n",
       "                          max_doc_update_iter=100, max_iter=10,\n",
       "                          mean_change_tol=0.001, n_components=4, n_jobs=None,\n",
       "                          perp_tol=0.1, random_state=42, topic_word_prior=None,\n",
       "                          total_samples=1000000.0, verbose=0)"
      ]
     },
     "execution_count": 19,
     "metadata": {},
     "output_type": "execute_result"
    }
   ],
   "source": [
    "doc_term_matrix, count_vect = nlp.create_wordcount_matrix(execs.recommendations_text, max_df=.3, ngram=(1,3), stop_words=stopWords)\n",
    "\n",
    "LDA = LatentDirichletAllocation(n_components=4, random_state=42)\n",
    "\n",
    "LDA.fit(doc_term_matrix)"
   ]
  },
  {
   "cell_type": "code",
   "execution_count": 20,
   "metadata": {},
   "outputs": [],
   "source": [
    "recommendations_dict = {0 : 'speaker, industry', \n",
    "                        1 : 'event, opportunity', \n",
    "                        2 : 'good, know', \n",
    "                        3 : 'field, survery', \n",
    "                        4 : 'group, career, city'}"
   ]
  },
  {
   "cell_type": "code",
   "execution_count": 21,
   "metadata": {},
   "outputs": [
    {
     "name": "stdout",
     "output_type": "stream",
     "text": [
      "Top 5 Documents for Topic 0: \n",
      "\n",
      "Document 1\n",
      "Please, do it in Europe!\n",
      "And adopt the EuroIA format: workshops in the morning and talks in the afternoon. Vertical days is also a good idea, in case the event is over 2 or 3 days.\n",
      "Perhaps highlight sessions according to experience level - to avoid very basic concepts if you're experienced already.\n",
      "\n",
      "Document 2\n",
      "Please make sure you have experts in the field participate. As a senior practitioner, I find it very frustrating to attend a research track at a conference in which only the very basics of research are discussed. I don't think one wants the academic rigor and offputting nature of CHI, but it would be nice if we could avoid talks/discussions/workshops led by people who have read a few research books, had one job, and consider themselves experts. Research is a skill, and it would be great if we treated and celebrated it as such rather than as common sense work.\n",
      "\n",
      "Document 3\n",
      "Mix of outlook to new / future methods, e.g. in the form of lightning talks, discussion panels + workshops and tutorials for intermediate level methods. Examples of application in practice of established methods welcome, e.g. as an unconference session\n",
      "\n",
      "Tutorials and workshops should target a specific level of expertise - do not make experienced researchers go through basics if the topic is more advanced/specific\n",
      "\n",
      "Document 4\n",
      "Focus on creating an event in which there are lots of buyers and lots of networking events.  The buyers are interested in new research techniques.  The sellers are interested in making connections with the buyers.  I would love to learn about new research techniques, but I can do that outside of a conference.  I need to focus on building a stable client base and conferences are an outstanding way to meet buyers.  I have been extremely disappointed with some recent research conferences, specifically the Market Research Event, in which there were no good networking opportunities.\n",
      "\n",
      "Document 5\n",
      "Make sure to consider the needs of attendees at all stages of their career. Past conferences I have attended have sometimes felt more appropriate for one audience vs another (e.g., early career qual researchers vs veterans) and this can result in a conference that is not as valuable as it should be to a large segment of attendees.\n",
      "\n",
      "Also consider offering speaking/presentation slots of 90 minutes in addition to shorter 50-60 minute sessions. The QRCA annual conference used to include both but has recently eliminated the 90 minute slots. For some topics and speakers, 60 min is adequate but in some cases, a session would be much better in a longer format, especially if it enables greater Q&A/audience interaction.\n",
      "\n",
      "Top 5 Documents for Topic 1: \n",
      "\n",
      "Document 1\n",
      "Bring it!\n",
      "\n",
      "Consider what level of experience you’re targeting.  Or stage of company. Or industry. Make it clear it will be relevant for the attendee. \n",
      "\n",
      "I’m more interested in the learning than the networking. \n",
      "\n",
      "The food has to be good and location matters. I need access to presentation materials after the sessions. \n",
      "\n",
      "Document 2\n",
      "Make it interesting and interactive. Learning does not always occur vis osmosis-sitting and listening to someone else expound on their speciality. Learning also occurs by doing- so it would be interesting to have activities, not just workshops, but activations that incorporate learning. Example. Beauty Bar that highlights a beauty customer decision journey that helps the researcher better understand using either new tech methods or ways to understand the consumer, their journey or facilitate the research\n",
      "\n",
      "Document 3\n",
      "Reminder that not all UX research projects begin with an app or digital experience in mind. Much of the solutions to today’s problems require behavior change that won’t be cured with a shiny toy. Analog methods are still very much relevant. Play is still very much a part of discovery.\n",
      "\n",
      "Other than that, pick a location that is convenient and not to expensive and that is near reasonably priced dining and accommodations and transportation hubs. Find ways to welcome all types of people, like activities that accommodate both introverts and extroverts, healthy food options that address various diets, time during breaks and comfortable hallways to network in, if possible offer a one day or two day pass. \n",
      "\n",
      "Document 4\n",
      "Tough to say. I would probably want to get involved with a conference that took on some of the massive delusions in the industry today such as over-reliance on tech, the digital delusion, a clear-eyed discussion of the state of online research, the \"big data\" crock, etc. The second largest gorilla in the room is the complete lack of training in our industry. How many people just decided one day to be an ethnographer? Where's the training for how to become more empathetic? How many have really taken a course on storytelling? \n",
      "\n",
      "But the biggest gorilla is the industry's refusal to come to grips with \"insight.\" To define it, understand how only humans have insights. That you can't \"gather insight.\" How people can become more insightful. To admit that 99.9% of what the \"insight\" industry sells its clients is just more data, sometimes useful knowledge. To admit that developing real insights is incredibly hard work that takes a long time and lots of money! And to realize that since we have commodified data collection the only place to go is to true insights.\n",
      "\n",
      "Anyway. I've blogged about a lot of this stuff here www.theinsightsguy.com\n",
      "\n",
      "Best of luck!\n",
      "\n",
      "Document 5\n",
      "I'd love to be involved in that, as I'm pretty passionate about supporting and growing researchers.  \n",
      "\n",
      "I see a huge number of early-career folks who are struggling to get work in UX research roles, and we need to get them real-world experience (not just the General Assembly courses or an academic degree).  The world will benefit greatly from having more skilled researchers in it, but the current paths we have for gaining experience are fairly limited.  We need to grow more senior researchers and research strategists. We need to grow business acumen and help people gain strategies for dealing with organizations that don't embrace research (or apply the results).  \n",
      "\n",
      "I would LOVE to have a \"Conspiracy\" session - to envision and map out how Research can move from a supportive role to one that drives the direction that companies invest in.  How might we change the power-structure over time (what types of events, people, actions need to be embraced to get us there as a \"field\".  I'd love to lead that conversation... :)\n",
      "\n",
      "Top 5 Documents for Topic 2: \n",
      "\n",
      "Document 1\n",
      "Work to make the cost of attendance affordable for freelancers and researchers transitioning into the field of UX. Perhaps offering volunteer positions for free or discounted tickets.\n",
      "\n",
      "Document 2\n",
      "Do consider the financial constraints of research entrepreneurs / small companies / freelancers! Without a fat corporate budget to fund attendance it is a substantial investment that is not always possible. \n",
      "\n",
      "Apart from the standard 'early bird discount' consider other ways to subsidize attendance like volunteering. \n",
      "\n",
      "Document 3\n",
      "Don't call it \"research\" unless you're going to include academic research; specify the type of research you're covering. There are four types — research through design, research about design, research for design, and research for A design. UX research is almost always the fourth type (the others being academic), and I would urge you not to convey the impression that it's what is meant by \"research\". Simply calling it \"UX research\" instead would be great. \n",
      "\n",
      "Document 4\n",
      "1) Targeting based on experience entry, mid-level, senior (IC+people leaders) is important. Number of conferences these days focus too on entry level or people considering the profession\n",
      "2) Topics that explore the future of research/work \n",
      "3) Include topics that are related to research as well -- research and transformation, research and biz strategy etc.,\n",
      "\n",
      "Document 5\n",
      "Keep it small and focused.  Allow for very interactive participant interactions. Be easy to get to, affordable and with delicious healthy food.  Give enough time for breaks and for participants to network with each other.  Follow-up within one week of the conference with a \"what worked, what didn't work\" evaluation and include suggestions for future conferences.\n",
      "\n",
      "Top 5 Documents for Topic 3: \n",
      "\n",
      "Document 1\n",
      "I'd like to see how research fits into the world of business, including solo or small group practice. Building research practices. Something it's not easy to learn from a book, the web, or another tech conference.\n",
      "\n",
      "Document 2\n",
      "I’ve planned several conferences and know the temptation to over-index on programming at the expense of thinking through community and attendees’ opportunity cost. Today’s tech around mass communication make virtual learning very convenient and inexpensive. Conferences add value elsewhere.\n",
      "\n",
      "Document 3\n",
      "Don't assume that you know; continue to hone and refine with input from potential participants.\n",
      "Ask keynote speakers to talk specifics- not super generic 'my company is so amazing because we do great research\"; really get into the details or the specifics.  I'd rather see a keynote that doesn't have a flashy C-Suite title but is capable of actually talking about what's going on in the world than a C-Suite flashy name that isn't actually doing the work any more, but is just leading a team through it (and then taking the credit for being a 'thought leader' to this amazing team).\n",
      "\n",
      "Document 4\n",
      "Allow streaming for people abroad. Even invest in translators for other language audiences. There is a huge market in Latin America that normally can afford attend for the high cost of travelling but there's a lot of companies that will be willing to pay online for high quality content.\n",
      "\n",
      "Provide guides, tools, road maps... Create networking or community beyond the conference.  \n",
      "\n",
      "\n",
      "\n",
      "\n",
      "\n",
      "Document 5\n",
      "Please focus beyond the large company/client teams and major research orgs that can shell out big bucks to attend.  There are SO MANY smart independent (or small firm) genius that get overlooked or can't afford to attend. Seriously... I have to think about spending $1500-3000 to attend any conference vs. paying for my kids soccer program & uniform.  No Joke!   And I actually make a decent living that I don't have to/want to look for a FT insight position at a client.\n",
      "\n"
     ]
    }
   ],
   "source": [
    "nlp.find_top_documents_per_topic(LDA.transform(doc_term_matrix), execs.recommendations_text, 5)"
   ]
  },
  {
   "cell_type": "code",
   "execution_count": null,
   "metadata": {},
   "outputs": [],
   "source": []
  }
 ],
 "metadata": {
  "kernelspec": {
   "display_name": "Python 3",
   "language": "python",
   "name": "python3"
  },
  "language_info": {
   "codemirror_mode": {
    "name": "ipython",
    "version": 3
   },
   "file_extension": ".py",
   "mimetype": "text/x-python",
   "name": "python",
   "nbconvert_exporter": "python",
   "pygments_lexer": "ipython3",
   "version": "3.7.3"
  }
 },
 "nbformat": 4,
 "nbformat_minor": 2
}

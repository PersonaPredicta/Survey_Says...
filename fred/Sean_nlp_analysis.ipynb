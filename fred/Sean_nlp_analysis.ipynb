{
 "cells": [
  {
   "cell_type": "markdown",
   "metadata": {},
   "source": [
    "# Topic modeling analysis"
   ]
  },
  {
   "cell_type": "markdown",
   "metadata": {},
   "source": [
    "#### Description\n",
    "- All 11 qualitative questions analyzed for key topics\n",
    "- Number of topics varied within the recommended range of 2 - 5 based on unique key words for each group. This was a subjective process that had to be completed by adjusting the number of components, examing the key words, looking at the intertopic distance in the visualizations and reading the most relevant responses to each topic.\n",
    "- Non-cleaned text of must prominent topcs was included to make reading easier."
   ]
  },
  {
   "cell_type": "markdown",
   "metadata": {},
   "source": [
    "### Import libraries and data"
   ]
  },
  {
   "cell_type": "code",
   "execution_count": 1,
   "metadata": {},
   "outputs": [],
   "source": [
    "import pandas as pd\n",
    "import sys\n",
    "import numpy as np\n",
    "sys.path.append('../')\n",
    "\n",
    "\n",
    "import nlp\n",
    "import wrangle\n",
    "\n",
    "import nltk\n",
    "\n",
    "from sklearn.decomposition import LatentDirichletAllocation\n",
    "import pyLDAvis\n",
    "import pyLDAvis.sklearn\n",
    "pyLDAvis.enable_notebook()\n",
    "\n",
    "import warnings\n",
    "warnings.filterwarnings(\"ignore\")"
   ]
  },
  {
   "cell_type": "code",
   "execution_count": 2,
   "metadata": {
    "scrolled": false
   },
   "outputs": [],
   "source": [
    "pd.set_option('display.max_columns', None)\n",
    "datadf, dictionarydf = wrangle.wrangle_data(path_prefix='../')"
   ]
  },
  {
   "cell_type": "markdown",
   "metadata": {},
   "source": [
    " "
   ]
  },
  {
   "cell_type": "markdown",
   "metadata": {},
   "source": [
    "### Viewing the imported data"
   ]
  },
  {
   "cell_type": "code",
   "execution_count": null,
   "metadata": {
    "scrolled": true
   },
   "outputs": [],
   "source": [
    "datadf.head(1)"
   ]
  },
  {
   "cell_type": "code",
   "execution_count": null,
   "metadata": {},
   "outputs": [],
   "source": [
    "datadf.describe()"
   ]
  },
  {
   "cell_type": "code",
   "execution_count": null,
   "metadata": {
    "scrolled": true
   },
   "outputs": [],
   "source": [
    "datadf.info()"
   ]
  },
  {
   "cell_type": "markdown",
   "metadata": {},
   "source": [
    " "
   ]
  },
  {
   "cell_type": "markdown",
   "metadata": {},
   "source": [
    "# Analysis of qualitative questions"
   ]
  },
  {
   "cell_type": "markdown",
   "metadata": {},
   "source": [
    " "
   ]
  },
  {
   "cell_type": "markdown",
   "metadata": {},
   "source": [
    "## 5. What is your company or organization's primary industry?"
   ]
  },
  {
   "cell_type": "markdown",
   "metadata": {},
   "source": [
    "#### Clean and lemmatize the data for this question"
   ]
  },
  {
   "cell_type": "code",
   "execution_count": null,
   "metadata": {},
   "outputs": [],
   "source": [
    "datadf.primary_industry = datadf.primary_industry.dropna().apply(nlp.basic_clean)\n",
    "datadf.primary_industry = datadf.primary_industry.dropna().apply(nlp.lemmatize)"
   ]
  },
  {
   "cell_type": "markdown",
   "metadata": {},
   "source": [
    "#### Create word count matrix and vector. Settings: 2 word ngrams permitted; words in more than 30% of documents were ignored."
   ]
  },
  {
   "cell_type": "code",
   "execution_count": null,
   "metadata": {},
   "outputs": [],
   "source": [
    "primary_industry_matrix, primary_industry_vector = nlp.create_wordcount_matrix(datadf.primary_industry.dropna(), ngram=(1,3), max_df=.3)\n",
    "primary_industry_matrix, primary_industry_vector"
   ]
  },
  {
   "cell_type": "markdown",
   "metadata": {},
   "source": [
    "#### Apply LDA method using 4, 6 and 8 components (can be changed) and a random state set to ensure the results can be replicated."
   ]
  },
  {
   "cell_type": "code",
   "execution_count": null,
   "metadata": {},
   "outputs": [],
   "source": [
    "lda5 = LatentDirichletAllocation(n_components= 8, random_state = 42)"
   ]
  },
  {
   "cell_type": "code",
   "execution_count": null,
   "metadata": {},
   "outputs": [],
   "source": [
    "lda5.fit(primary_industry_matrix)"
   ]
  },
  {
   "cell_type": "code",
   "execution_count": null,
   "metadata": {},
   "outputs": [],
   "source": [
    "pyLDAvis.sklearn.prepare(lda5, primary_industry_matrix, primary_industry_vector)"
   ]
  },
  {
   "cell_type": "markdown",
   "metadata": {},
   "source": [
    "#### Topic groups (4)\n",
    "1. education \n",
    "2. fintech \n",
    "3. healthcare \n",
    "4. Tech \n",
    "\n",
    "#### Topic groups (6) \n",
    "1. fintech\n",
    "2. education\n",
    "3. healthcare\n",
    "4. technology\n",
    "5. software\n",
    "6. consultancy\n",
    "\n",
    "#### Topic groups (8) - 5 & 8 slight overlap\n",
    "1. fintech\n",
    "2. education\n",
    "3. technology\n",
    "4. consulting\n",
    "5. software\n",
    "6. healthcare\n",
    "7. government\n",
    "8. public (sector)\n"
   ]
  },
  {
   "cell_type": "code",
   "execution_count": null,
   "metadata": {},
   "outputs": [],
   "source": [
    "#8 Topics"
   ]
  },
  {
   "cell_type": "code",
   "execution_count": null,
   "metadata": {},
   "outputs": [],
   "source": [
    "lda_W5 = lda5.transform(primary_industry_matrix)"
   ]
  },
  {
   "cell_type": "code",
   "execution_count": null,
   "metadata": {},
   "outputs": [],
   "source": [
    "top_doc_column5 = datadf.primary_industry.dropna()"
   ]
  },
  {
   "cell_type": "markdown",
   "metadata": {},
   "source": [
    "#### Create second word count matrix. Excludes words in appear in 80%+ of all documents and in 2 or fewer documents. Include bigrams."
   ]
  },
  {
   "cell_type": "code",
   "execution_count": null,
   "metadata": {},
   "outputs": [],
   "source": [
    "word_count_matrix5, count_vect5 = nlp.create_wordcount_matrix(datadf.primary_industry, max_df=0.8, min_df=2, ngram=(1,3))"
   ]
  },
  {
   "cell_type": "code",
   "execution_count": null,
   "metadata": {},
   "outputs": [],
   "source": [
    "LDA5a = LatentDirichletAllocation(n_components=5, random_state=42)\n",
    "LDA5a.fit(word_count_matrix5)"
   ]
  },
  {
   "cell_type": "code",
   "execution_count": null,
   "metadata": {},
   "outputs": [],
   "source": [
    "lda_H = LDA5a.transform(word_count_matrix5)"
   ]
  },
  {
   "cell_type": "code",
   "execution_count": null,
   "metadata": {},
   "outputs": [],
   "source": [
    "nlp.find_top_documents_per_topic(lda_H, top_doc_column5, 3)"
   ]
  },
  {
   "cell_type": "markdown",
   "metadata": {},
   "source": [
    "## 6. What types of research do you currently use to make decisions?"
   ]
  },
  {
   "cell_type": "code",
   "execution_count": null,
   "metadata": {},
   "outputs": [],
   "source": [
    "datadf.types_res_used = datadf.types_res_used.dropna().apply(nlp.basic_clean)\n",
    "datadf.types_res_used = datadf.types_res_used.dropna().apply(nlp.lemmatize)"
   ]
  },
  {
   "cell_type": "code",
   "execution_count": null,
   "metadata": {},
   "outputs": [],
   "source": [
    "types_res_used_matrix, types_res_used_vector = nlp.create_wordcount_matrix(datadf.types_res_used.dropna(), ngram=(1,3), max_df=.3)\n",
    "types_res_used_matrix, types_res_used_vector"
   ]
  },
  {
   "cell_type": "code",
   "execution_count": null,
   "metadata": {},
   "outputs": [],
   "source": [
    "lda6 = LatentDirichletAllocation(n_components= 8, random_state = 42)"
   ]
  },
  {
   "cell_type": "code",
   "execution_count": null,
   "metadata": {},
   "outputs": [],
   "source": [
    "lda6.fit(types_res_used_matrix)"
   ]
  },
  {
   "cell_type": "code",
   "execution_count": null,
   "metadata": {},
   "outputs": [],
   "source": [
    "pyLDAvis.sklearn.prepare(lda6, types_res_used_matrix, types_res_used_vector)"
   ]
  },
  {
   "cell_type": "markdown",
   "metadata": {},
   "source": [
    "#### Topic groups (4)\n",
    "1. card sort\n",
    "2. contextual inquiry\n",
    "3. focus group \n",
    "4. market rsearch\n",
    "\n",
    "#### Topic groups (6) \n",
    "1. diary study\n",
    "2. card (sort)\n",
    "3. contextual inquiry\n",
    "4. quantitative survey\n",
    "5. focus (group)\n",
    "6. generative (evaluative)\n",
    "\n",
    "#### Topic groups (8) - 8 overlaps with 2 & 6\n",
    "1. diary (study)\n",
    "2. contextual inquiry\n",
    "3. interview usability\n",
    "4. gernative evaluative\n",
    "5. market (research)\n",
    "6. ux research\n",
    "7. indepth (interview)\n",
    "8. concept validation"
   ]
  },
  {
   "cell_type": "code",
   "execution_count": null,
   "metadata": {},
   "outputs": [],
   "source": [
    "#8 Topics"
   ]
  },
  {
   "cell_type": "code",
   "execution_count": null,
   "metadata": {},
   "outputs": [],
   "source": [
    "lda_W6 = lda6.transform(types_res_used_matrix)"
   ]
  },
  {
   "cell_type": "code",
   "execution_count": null,
   "metadata": {},
   "outputs": [],
   "source": [
    "top_doc_column6 = datadf.types_res_used.dropna()"
   ]
  },
  {
   "cell_type": "code",
   "execution_count": null,
   "metadata": {},
   "outputs": [],
   "source": [
    "word_count_matrix6, count_vect6 = nlp.create_wordcount_matrix(datadf.types_res_used.dropna(), max_df=0.8, min_df=2, ngram=(1,3))"
   ]
  },
  {
   "cell_type": "code",
   "execution_count": null,
   "metadata": {},
   "outputs": [],
   "source": [
    "LDA6a = LatentDirichletAllocation(n_components=5, random_state=42)\n",
    "LDA6a.fit(word_count_matrix6)\n"
   ]
  },
  {
   "cell_type": "code",
   "execution_count": null,
   "metadata": {},
   "outputs": [],
   "source": [
    "lda_H = LDA6a.transform(word_count_matrix6)"
   ]
  },
  {
   "cell_type": "code",
   "execution_count": null,
   "metadata": {},
   "outputs": [],
   "source": [
    "nlp.find_top_documents_per_topic(lda_H, top_doc_column6, 3)"
   ]
  },
  {
   "cell_type": "markdown",
   "metadata": {},
   "source": [
    "## 7. What types of research are you considering in the future?"
   ]
  },
  {
   "cell_type": "code",
   "execution_count": null,
   "metadata": {},
   "outputs": [],
   "source": [
    "datadf.future_res = datadf.future_res.dropna().apply(nlp.basic_clean)\n",
    "datadf.future_res = datadf.future_res.dropna().apply(nlp.lemmatize)"
   ]
  },
  {
   "cell_type": "code",
   "execution_count": null,
   "metadata": {},
   "outputs": [],
   "source": [
    "future_res_matrix, future_res_vector = nlp.create_wordcount_matrix(datadf.future_res.dropna(), ngram=(1,3), max_df=.3)\n",
    "future_res_matrix, future_res_vector"
   ]
  },
  {
   "cell_type": "code",
   "execution_count": null,
   "metadata": {},
   "outputs": [],
   "source": [
    "lda7 = LatentDirichletAllocation(n_components=7, random_state = 42)"
   ]
  },
  {
   "cell_type": "code",
   "execution_count": null,
   "metadata": {},
   "outputs": [],
   "source": [
    "lda7.fit(future_res_matrix)"
   ]
  },
  {
   "cell_type": "code",
   "execution_count": null,
   "metadata": {},
   "outputs": [],
   "source": [
    "pyLDAvis.sklearn.prepare(lda7, future_res_matrix, future_res_vector)"
   ]
  },
  {
   "cell_type": "markdown",
   "metadata": {},
   "source": [
    "#### Topic groups (4)\n",
    "1. ab testing\n",
    "2. quantitative\n",
    "3. diary study\n",
    "4. participatory\n",
    "\n",
    "#### Topic groups (6) - 4 & 6 overlap\n",
    "1. quantitative\n",
    "2. usability testing\n",
    "3. field\n",
    "4. analytics\n",
    "5. diary study\n",
    "6. journey\n",
    "\n",
    "#### Topic groups (8) - 5 is almost completely within 2; 6 & 8 overlap\n",
    "1. quantitative\n",
    "2. unmoderated usability\n",
    "3. diary study\n",
    "4. ab testing\n",
    "5. ux\n",
    "6. focus group\n",
    "7. ethnographic\n",
    "8. field study\n"
   ]
  },
  {
   "cell_type": "code",
   "execution_count": null,
   "metadata": {},
   "outputs": [],
   "source": [
    "#8 topics"
   ]
  },
  {
   "cell_type": "code",
   "execution_count": null,
   "metadata": {},
   "outputs": [],
   "source": [
    "lda_W7 = lda7.transform(future_res_matrix)"
   ]
  },
  {
   "cell_type": "code",
   "execution_count": null,
   "metadata": {},
   "outputs": [],
   "source": [
    "top_doc_column7 = datadf.future_res.dropna()"
   ]
  },
  {
   "cell_type": "code",
   "execution_count": null,
   "metadata": {},
   "outputs": [],
   "source": [
    "word_count_matrix7, count_vect7 = nlp.create_wordcount_matrix(datadf.future_res.dropna(), max_df=0.8, min_df=2, ngram=(1,3))"
   ]
  },
  {
   "cell_type": "code",
   "execution_count": null,
   "metadata": {},
   "outputs": [],
   "source": [
    "LDA7a = LatentDirichletAllocation(n_components=5, random_state=42)\n",
    "LDA7a.fit(word_count_matrix7)"
   ]
  },
  {
   "cell_type": "code",
   "execution_count": null,
   "metadata": {},
   "outputs": [],
   "source": [
    "lda_H = LDA7a.transform(word_count_matrix7)"
   ]
  },
  {
   "cell_type": "code",
   "execution_count": null,
   "metadata": {},
   "outputs": [],
   "source": [
    "nlp.find_top_documents_per_topic(lda_H, top_doc_column7, 3)\n"
   ]
  },
  {
   "cell_type": "markdown",
   "metadata": {},
   "source": [
    "## 10. Describe your educational background with research"
   ]
  },
  {
   "cell_type": "code",
   "execution_count": null,
   "metadata": {},
   "outputs": [],
   "source": [
    "datadf.research_educ_desc = datadf.research_educ_desc.dropna().apply(nlp.basic_clean)\n",
    "datadf.research_educ_desc = datadf.research_educ_desc.dropna().apply(nlp.lemmatize)"
   ]
  },
  {
   "cell_type": "code",
   "execution_count": null,
   "metadata": {},
   "outputs": [],
   "source": [
    "research_educ_desc_matrix, research_educ_desc_vector = nlp.create_wordcount_matrix(datadf.research_educ_desc.dropna(), ngram=(1,3), max_df=.3)\n",
    "research_educ_desc_matrix, research_educ_desc_vector"
   ]
  },
  {
   "cell_type": "code",
   "execution_count": null,
   "metadata": {},
   "outputs": [],
   "source": [
    "lda10 = LatentDirichletAllocation(n_components= 4, random_state = 42)"
   ]
  },
  {
   "cell_type": "code",
   "execution_count": null,
   "metadata": {},
   "outputs": [],
   "source": [
    "lda10.fit(research_educ_desc_matrix)"
   ]
  },
  {
   "cell_type": "code",
   "execution_count": null,
   "metadata": {},
   "outputs": [],
   "source": [
    "pyLDAvis.sklearn.prepare(lda10, research_educ_desc_matrix, research_educ_desc_vector)"
   ]
  },
  {
   "cell_type": "markdown",
   "metadata": {},
   "source": [
    "#### Topic groups (4) - no overlapping circles\n",
    "1. participated\n",
    "2. grad school\n",
    "3. master degree\n",
    "4. pyschology\n",
    "\n",
    "#### Topic groups (6) - 1 &4, 2 & 3 overlap\n",
    "1. participated\n",
    "2. design research\n",
    "3. social science\n",
    "4. grad school\n",
    "5. human factor\n",
    "6. master degree\n",
    "\n",
    "#### Topic groups (8) - extreme overlap between topics 1, 2, 4 & 8, 54% of all the responses"
   ]
  },
  {
   "cell_type": "code",
   "execution_count": null,
   "metadata": {},
   "outputs": [],
   "source": [
    "#4 topics"
   ]
  },
  {
   "cell_type": "code",
   "execution_count": null,
   "metadata": {},
   "outputs": [],
   "source": [
    "lda_W10 = lda10.transform(research_educ_desc_matrix)"
   ]
  },
  {
   "cell_type": "code",
   "execution_count": null,
   "metadata": {},
   "outputs": [],
   "source": [
    "top_doc_column10 = datadf.research_educ_desc.dropna()"
   ]
  },
  {
   "cell_type": "code",
   "execution_count": null,
   "metadata": {},
   "outputs": [],
   "source": [
    "word_count_matrix10, count_vect10 = nlp.create_wordcount_matrix(datadf.research_educ_desc.dropna(), max_df=0.8, min_df=2, ngram=(1,3))"
   ]
  },
  {
   "cell_type": "code",
   "execution_count": null,
   "metadata": {},
   "outputs": [],
   "source": [
    "LDA10a = LatentDirichletAllocation(n_components=5, random_state=42)\n",
    "LDA10a.fit(word_count_matrix10)"
   ]
  },
  {
   "cell_type": "code",
   "execution_count": null,
   "metadata": {},
   "outputs": [],
   "source": [
    "lda_H = LDA10a.transform(word_count_matrix10)"
   ]
  },
  {
   "cell_type": "code",
   "execution_count": null,
   "metadata": {},
   "outputs": [],
   "source": [
    "nlp.find_top_documents_per_topic(lda_H, top_doc_column10, 3)"
   ]
  },
  {
   "cell_type": "markdown",
   "metadata": {},
   "source": [
    "## 14. How do you decide which events to attend?"
   ]
  },
  {
   "cell_type": "code",
   "execution_count": null,
   "metadata": {},
   "outputs": [],
   "source": [
    "datadf.how_pick_events = datadf.how_pick_events.dropna().apply(nlp.basic_clean)\n",
    "datadf.how_pick_events = datadf.how_pick_events.dropna().apply(nlp.lemmatize)"
   ]
  },
  {
   "cell_type": "code",
   "execution_count": null,
   "metadata": {},
   "outputs": [],
   "source": [
    "how_pick_events_matrix, how_pick_events_vector = nlp.create_wordcount_matrix(datadf.how_pick_events.dropna(), ngram=(1,3), max_df=.3)\n",
    "how_pick_events_matrix, how_pick_events_vector"
   ]
  },
  {
   "cell_type": "code",
   "execution_count": null,
   "metadata": {},
   "outputs": [],
   "source": [
    "lda14 = LatentDirichletAllocation(n_components= 6, random_state = 42)"
   ]
  },
  {
   "cell_type": "code",
   "execution_count": null,
   "metadata": {},
   "outputs": [],
   "source": [
    "lda14.fit(how_pick_events_matrix)"
   ]
  },
  {
   "cell_type": "code",
   "execution_count": null,
   "metadata": {},
   "outputs": [],
   "source": [
    "pyLDAvis.sklearn.prepare(lda14, how_pick_events_matrix, how_pick_events_vector)"
   ]
  },
  {
   "cell_type": "markdown",
   "metadata": {},
   "source": [
    "#### Topic groups (4)\n",
    "1. pay\n",
    "2. topic\n",
    "3. location\n",
    "4. cost\n",
    "\n",
    "#### Topic groups (6) - overlap between 3 & 6\n",
    "1. pay\n",
    "2. value\n",
    "3. price\n",
    "4. reputation\n",
    "5. networking\n",
    "6. relevance\n",
    "\n",
    "#### Topic groups (8) - small amount of overlap among 2, 3, 4, & 6\n",
    "1. design\n",
    "2. affordable\n",
    "3. speaker topic\n",
    "4. reputation\n",
    "5. location cost\n",
    "6. value\n",
    "7. location price\n",
    "8. time away"
   ]
  },
  {
   "cell_type": "code",
   "execution_count": null,
   "metadata": {},
   "outputs": [],
   "source": [
    "#6 topics"
   ]
  },
  {
   "cell_type": "code",
   "execution_count": null,
   "metadata": {},
   "outputs": [],
   "source": [
    "lda_W14 = lda14.transform(how_pick_events_matrix)"
   ]
  },
  {
   "cell_type": "code",
   "execution_count": null,
   "metadata": {},
   "outputs": [],
   "source": [
    "top_doc_column14 = datadf.how_pick_events.dropna()"
   ]
  },
  {
   "cell_type": "code",
   "execution_count": null,
   "metadata": {},
   "outputs": [],
   "source": [
    "word_count_matrix14, count_vect14 = nlp.create_wordcount_matrix(datadf.how_pick_events.dropna(), max_df=0.8, min_df=2, ngram=(1,3))"
   ]
  },
  {
   "cell_type": "code",
   "execution_count": null,
   "metadata": {},
   "outputs": [],
   "source": [
    "LDA14a = LatentDirichletAllocation(n_components=5, random_state=42)\n",
    "LDA14a.fit(word_count_matrix14)"
   ]
  },
  {
   "cell_type": "code",
   "execution_count": null,
   "metadata": {},
   "outputs": [],
   "source": [
    "lda_H = LDA14a.transform(word_count_matrix14)"
   ]
  },
  {
   "cell_type": "code",
   "execution_count": null,
   "metadata": {},
   "outputs": [],
   "source": [
    "nlp.find_top_documents_per_topic(lda_H, top_doc_column14, 3)"
   ]
  },
  {
   "cell_type": "markdown",
   "metadata": {},
   "source": [
    "## 15. What was the best professional learning experience you've ever had?  What made it great?"
   ]
  },
  {
   "cell_type": "code",
   "execution_count": 66,
   "metadata": {},
   "outputs": [],
   "source": [
    "best_event = datadf.best_event.fillna('nan').apply(nlp.basic_clean)\n",
    "best_event = best_event.apply(nlp.lemmatize)"
   ]
  },
  {
   "cell_type": "code",
   "execution_count": 71,
   "metadata": {},
   "outputs": [
    {
     "data": {
      "text/plain": [
       "(<726x1630 sparse matrix of type '<class 'numpy.int64'>'\n",
       " \twith 8977 stored elements in Compressed Sparse Row format>,\n",
       " CountVectorizer(analyzer='word', binary=False, decode_error='strict',\n",
       "                 dtype=<class 'numpy.int64'>, encoding='utf-8', input='content',\n",
       "                 lowercase=True, max_df=0.3, max_features=None, min_df=2,\n",
       "                 ngram_range=(1, 3), preprocessor=None,\n",
       "                 stop_words=['nan', 'Nan', 'NaN', 'NAN', 'am', 'however',\n",
       "                             'whatever', 'bottom', 'namely', 'most', 'whole',\n",
       "                             'since', 'among', 'than', 'anyone', 'hers', 'every',\n",
       "                             'yet', 'few', 'sixty', 'together', 'serious',\n",
       "                             'latter', 'find', 'cant', 'until', 'none', 'up',\n",
       "                             'he', 'meanwhile', ...],\n",
       "                 strip_accents=None, token_pattern='(?u)\\\\b\\\\w\\\\w+\\\\b',\n",
       "                 tokenizer=None, vocabulary=None))"
      ]
     },
     "execution_count": 71,
     "metadata": {},
     "output_type": "execute_result"
    }
   ],
   "source": [
    "best_event_matrix, best_event_vector = nlp.create_wordcount_matrix(best_event, ngram=(1,3), max_df=.3, stop_words=stopWords)\n",
    "best_event_matrix, best_event_vector"
   ]
  },
  {
   "cell_type": "code",
   "execution_count": 72,
   "metadata": {},
   "outputs": [],
   "source": [
    "lda15 = LatentDirichletAllocation(n_components= 4, random_state = 42)"
   ]
  },
  {
   "cell_type": "code",
   "execution_count": 73,
   "metadata": {},
   "outputs": [
    {
     "data": {
      "text/plain": [
       "LatentDirichletAllocation(batch_size=128, doc_topic_prior=None,\n",
       "                          evaluate_every=-1, learning_decay=0.7,\n",
       "                          learning_method='batch', learning_offset=10.0,\n",
       "                          max_doc_update_iter=100, max_iter=10,\n",
       "                          mean_change_tol=0.001, n_components=4, n_jobs=None,\n",
       "                          perp_tol=0.1, random_state=42, topic_word_prior=None,\n",
       "                          total_samples=1000000.0, verbose=0)"
      ]
     },
     "execution_count": 73,
     "metadata": {},
     "output_type": "execute_result"
    }
   ],
   "source": [
    "lda15.fit(best_event_matrix)"
   ]
  },
  {
   "cell_type": "code",
   "execution_count": 74,
   "metadata": {},
   "outputs": [
    {
     "data": {
      "text/html": [
       "\n",
       "<link rel=\"stylesheet\" type=\"text/css\" href=\"https://cdn.rawgit.com/bmabey/pyLDAvis/files/ldavis.v1.0.0.css\">\n",
       "\n",
       "\n",
       "<div id=\"ldavis_el328611124092462409704673623\"></div>\n",
       "<script type=\"text/javascript\">\n",
       "\n",
       "var ldavis_el328611124092462409704673623_data = {\"mdsDat\": {\"x\": [-0.00031363751086946497, -0.007385973949128317, -0.09017374119767768, 0.09787335265767544], \"y\": [0.030749109147296616, 0.08604584358988011, -0.06421949833700381, -0.052575454400172916], \"topics\": [1, 2, 3, 4], \"cluster\": [1, 1, 1, 1], \"Freq\": [30.55227736527296, 29.044883429723694, 22.850552191657933, 17.552287013345413]}, \"tinfo\": {\"Category\": [\"Default\", \"Default\", \"Default\", \"Default\", \"Default\", \"Default\", \"Default\", \"Default\", \"Default\", \"Default\", \"Default\", \"Default\", \"Default\", \"Default\", \"Default\", \"Default\", \"Default\", \"Default\", \"Default\", \"Default\", \"Default\", \"Default\", \"Default\", \"Default\", \"Default\", \"Default\", \"Default\", \"Default\", \"Default\", \"Default\", \"Topic1\", \"Topic1\", \"Topic1\", \"Topic1\", \"Topic1\", \"Topic1\", \"Topic1\", \"Topic1\", \"Topic1\", \"Topic1\", \"Topic1\", \"Topic1\", \"Topic1\", \"Topic1\", \"Topic1\", \"Topic1\", \"Topic1\", \"Topic1\", \"Topic1\", \"Topic1\", \"Topic1\", \"Topic1\", \"Topic1\", \"Topic1\", \"Topic1\", \"Topic1\", \"Topic1\", \"Topic1\", \"Topic1\", \"Topic1\", \"Topic1\", \"Topic1\", \"Topic1\", \"Topic1\", \"Topic1\", \"Topic1\", \"Topic1\", \"Topic1\", \"Topic1\", \"Topic1\", \"Topic1\", \"Topic1\", \"Topic1\", \"Topic1\", \"Topic1\", \"Topic1\", \"Topic1\", \"Topic1\", \"Topic1\", \"Topic1\", \"Topic1\", \"Topic1\", \"Topic1\", \"Topic1\", \"Topic1\", \"Topic1\", \"Topic1\", \"Topic1\", \"Topic1\", \"Topic1\", \"Topic1\", \"Topic1\", \"Topic1\", \"Topic1\", \"Topic1\", \"Topic1\", \"Topic1\", \"Topic1\", \"Topic1\", \"Topic1\", \"Topic1\", \"Topic1\", \"Topic1\", \"Topic1\", \"Topic1\", \"Topic2\", \"Topic2\", \"Topic2\", \"Topic2\", \"Topic2\", \"Topic2\", \"Topic2\", \"Topic2\", \"Topic2\", \"Topic2\", \"Topic2\", \"Topic2\", \"Topic2\", \"Topic2\", \"Topic2\", \"Topic2\", \"Topic2\", \"Topic2\", \"Topic2\", \"Topic2\", \"Topic2\", \"Topic2\", \"Topic2\", \"Topic2\", \"Topic2\", \"Topic2\", \"Topic2\", \"Topic2\", \"Topic2\", \"Topic2\", \"Topic2\", \"Topic2\", \"Topic2\", \"Topic2\", \"Topic2\", \"Topic2\", \"Topic2\", \"Topic2\", \"Topic2\", \"Topic2\", \"Topic2\", \"Topic2\", \"Topic2\", \"Topic2\", \"Topic2\", \"Topic2\", \"Topic2\", \"Topic2\", \"Topic2\", \"Topic2\", \"Topic2\", \"Topic2\", \"Topic2\", \"Topic2\", \"Topic2\", \"Topic2\", \"Topic2\", \"Topic2\", \"Topic2\", \"Topic2\", \"Topic2\", \"Topic2\", \"Topic2\", \"Topic2\", \"Topic2\", \"Topic2\", \"Topic2\", \"Topic2\", \"Topic2\", \"Topic2\", \"Topic2\", \"Topic3\", \"Topic3\", \"Topic3\", \"Topic3\", \"Topic3\", \"Topic3\", \"Topic3\", \"Topic3\", \"Topic3\", \"Topic3\", \"Topic3\", \"Topic3\", \"Topic3\", \"Topic3\", \"Topic3\", \"Topic3\", \"Topic3\", \"Topic3\", \"Topic3\", \"Topic3\", \"Topic3\", \"Topic3\", \"Topic3\", \"Topic3\", \"Topic3\", \"Topic3\", \"Topic3\", \"Topic3\", \"Topic3\", \"Topic3\", \"Topic3\", \"Topic3\", \"Topic3\", \"Topic3\", \"Topic3\", \"Topic3\", \"Topic3\", \"Topic3\", \"Topic3\", \"Topic3\", \"Topic3\", \"Topic3\", \"Topic3\", \"Topic3\", \"Topic3\", \"Topic3\", \"Topic3\", \"Topic3\", \"Topic3\", \"Topic3\", \"Topic3\", \"Topic3\", \"Topic3\", \"Topic3\", \"Topic3\", \"Topic3\", \"Topic3\", \"Topic3\", \"Topic3\", \"Topic3\", \"Topic3\", \"Topic3\", \"Topic3\", \"Topic3\", \"Topic3\", \"Topic3\", \"Topic3\", \"Topic3\", \"Topic3\", \"Topic3\", \"Topic3\", \"Topic3\", \"Topic3\", \"Topic3\", \"Topic3\", \"Topic3\", \"Topic3\", \"Topic4\", \"Topic4\", \"Topic4\", \"Topic4\", \"Topic4\", \"Topic4\", \"Topic4\", \"Topic4\", \"Topic4\", \"Topic4\", \"Topic4\", \"Topic4\", \"Topic4\", \"Topic4\", \"Topic4\", \"Topic4\", \"Topic4\", \"Topic4\", \"Topic4\", \"Topic4\", \"Topic4\", \"Topic4\", \"Topic4\", \"Topic4\", \"Topic4\", \"Topic4\", \"Topic4\", \"Topic4\", \"Topic4\", \"Topic4\", \"Topic4\", \"Topic4\", \"Topic4\", \"Topic4\", \"Topic4\", \"Topic4\", \"Topic4\", \"Topic4\", \"Topic4\", \"Topic4\", \"Topic4\", \"Topic4\", \"Topic4\", \"Topic4\", \"Topic4\", \"Topic4\", \"Topic4\", \"Topic4\", \"Topic4\", \"Topic4\", \"Topic4\", \"Topic4\", \"Topic4\", \"Topic4\", \"Topic4\", \"Topic4\", \"Topic4\", \"Topic4\", \"Topic4\", \"Topic4\", \"Topic4\", \"Topic4\", \"Topic4\", \"Topic4\", \"Topic4\", \"Topic4\"], \"Freq\": [58.0, 10.0, 22.0, 9.0, 13.0, 26.0, 133.0, 8.0, 9.0, 39.0, 47.0, 95.0, 58.0, 16.0, 23.0, 19.0, 15.0, 86.0, 24.0, 36.0, 31.0, 183.0, 9.0, 15.0, 74.0, 24.0, 27.0, 31.0, 12.0, 17.0, 5.459700067415492, 5.458165846428598, 4.58634142583516, 4.586134499104777, 4.586130878365984, 4.5835053010757445, 3.7127342322923558, 3.709071787325114, 2.8391639386097784, 2.839156915362209, 2.8391508475005054, 2.839150466847371, 2.8391444255377527, 2.8391401939956227, 2.8391270475922936, 2.8391200839897777, 2.839114208432359, 2.8391021285868856, 2.8390988158881294, 2.839068508038287, 2.837463222159421, 2.836682107383309, 2.835604895900612, 2.8353066373187428, 2.8339166604377817, 2.8319959823545955, 2.828788079865602, 2.8273768641255157, 6.346270204379226, 6.332125180017396, 4.868891890276579, 5.4631186144327115, 7.210173722413365, 7.0959902467721845, 12.259512035759643, 11.573814524356692, 9.836442257289987, 5.227151286562272, 6.334996379441255, 4.586114326143325, 40.788723352617346, 4.583780661678531, 42.62322260394392, 11.081218976824555, 20.51789244952133, 37.89021870244585, 7.040545274224552, 8.351663859447763, 8.748146606678983, 6.331337038377297, 65.88205425286759, 30.716622339136606, 28.952459484905937, 11.86756038375111, 37.41388034836488, 18.33257185539697, 15.718734796891166, 18.555465531059347, 19.513416292109458, 16.761574097568168, 19.74906153250775, 14.796143510293092, 12.209325386856818, 23.340360916724855, 10.240544373990836, 10.26124355881946, 18.313217425179474, 13.682169225441859, 16.008688230170936, 11.948376549476261, 11.100382515869898, 11.98046313428371, 13.427071210198648, 10.308185182235345, 10.470994660512341, 13.146984714170015, 6.253306246203899, 5.383221346419134, 5.3805216076960045, 5.380417219494656, 4.511062008932849, 3.6671475773693922, 3.6671326492052194, 3.66705925710317, 3.666701351963221, 3.6626918073407, 3.6624334019620752, 3.6565375364037234, 8.736375256068396, 2.804283334418352, 2.8042824953552747, 2.8042814442300905, 2.8042814442300905, 2.8042812034206324, 2.80427239984404, 2.804265275659892, 2.804250323108054, 2.804245894462864, 2.8042430055338445, 2.8042023104888525, 2.804163773902687, 2.8039693573271567, 7.010036665193009, 2.803452512558244, 7.003241357882615, 6.250355082984689, 9.226363699603878, 5.390924979012805, 4.53222716023177, 4.522163357881553, 11.134715343716625, 79.40788556559595, 7.0319404870427915, 12.796544383858466, 17.407142044299867, 5.951405725822215, 4.411175721450003, 8.58254015868702, 14.687329669186424, 7.118675809225934, 46.72958256885393, 30.029965181492773, 20.817362949443208, 35.461550317003926, 40.383600886823274, 27.897492038890892, 16.92219900853228, 8.313881658055058, 9.7148113074076, 27.675613623977988, 20.143837767154835, 13.988630628607375, 26.755617486486464, 27.486153500333888, 18.72012650818607, 11.919425040897636, 11.138034350163881, 21.19098642396631, 20.41484291752699, 17.69888164397891, 15.87801000537016, 15.755014704261102, 11.462101963112815, 12.304739800028093, 10.97112027752052, 11.444798082129404, 6.1336876961059215, 4.432007063198919, 3.5991426418018833, 3.5970960291883527, 6.343920095747877, 2.752291202729185, 2.7522546883032164, 2.752224882916477, 2.7516022602174397, 2.7506460895143143, 2.750626251739332, 2.746693595300256, 2.7466915748662664, 2.745199481697818, 2.7444369503697974, 2.741332728027736, 2.7404692732305325, 2.7404558804419183, 2.7372517669083787, 2.7350553890537372, 1.905432597495849, 1.9054280804355535, 1.9054280804355535, 1.9054280804355535, 1.9054280804355535, 1.9054280804355535, 1.9054280804355535, 1.9054280804355535, 1.905424834554971, 1.905423789593502, 4.450142478033419, 4.455366088275996, 4.296766625152679, 5.2350233234007275, 3.601808886131326, 3.6003044793368177, 3.6000992689528277, 5.727869163742236, 5.081075920860511, 14.253012962429358, 29.650414976974442, 10.144461926535463, 9.137582716719802, 45.573245493294216, 34.042599374780735, 17.233648077379943, 20.379344027881412, 14.22032202159184, 5.785406304485243, 6.144014898673262, 6.129829005526439, 17.33017819215798, 10.367123561582325, 6.012653535523403, 8.931180703723374, 6.891600316253117, 6.968412748314524, 6.560865369442951, 10.141602810994621, 21.194834055101268, 15.958953367336054, 20.203307228100233, 14.769174505009843, 13.16687477716712, 9.83720637191891, 11.708342231933736, 26.15544488216501, 8.434429650886793, 14.959021957604225, 14.512368190921872, 9.375136372380364, 9.716656832682455, 15.736100125136383, 10.677610973547498, 9.562223826567566, 12.188250224859248, 9.635492073010496, 8.370653996774589, 7.552745863737755, 9.799031858434962, 4.286337689969985, 4.285508112538047, 3.4699127886895464, 3.4681442178809134, 3.460495076827954, 7.515551776015176, 2.6559046486288436, 2.6559040677630272, 2.6558848515587705, 2.6558550456072068, 2.655739997796434, 2.655730494395921, 2.6446423526070464, 5.098490367837541, 5.011510001361013, 1.8387000826094155, 1.8387000826094155, 1.8386996958848683, 1.8386976194117977, 1.8386962436149263, 1.8386962137063076, 1.8386955142432746, 1.8386955142432746, 1.8386952029078822, 1.8386947452429534, 1.8386937488387147, 1.8386937488387147, 6.774660712620992, 3.4741090474482936, 3.474914708926208, 3.963974234892387, 12.149382613193458, 4.897271576223564, 3.189304944501322, 7.477902530212789, 4.703669561947174, 10.624267573402912, 3.4798006580295935, 3.8208027927472963, 14.831713373979833, 7.957725122370208, 16.89482749743457, 22.70950489884581, 10.13971774312054, 8.483076526522616, 10.226973412635848, 14.430252687418802, 14.324512901392865, 13.730404839112873, 18.233590686071516, 7.046131039075253, 7.270670290869894, 10.390690991614447, 11.269239117510658, 7.792456347035206, 9.746612787271195, 9.387364111778247, 11.99001512487338, 6.6396817622365525, 7.570581276075663, 8.709941729083987, 7.384825697675221, 7.96054113718203], \"Term\": [\"day\", \"program\", \"variety\", \"covered\", \"small group\", \"summit\", \"workshop\", \"topic covered\", \"master\", \"time\", \"good\", \"ux\", \"topic\", \"user\", \"real\", \"service\", \"wa able\", \"research\", \"attendee\", \"course\", \"session\", \"conference\", \"attending\", \"world\", \"speaker\", \"able\", \"networking\", \"group\", \"participant\", \"year ago\", \"sorry\", \"technique\", \"strive conference\", \"worthwhile\", \"actionable\", \"hearing\", \"wa engaging\", \"phd\", \"listen\", \"fairly\", \"talk great\", \"larger\", \"people doing\", \"following\", \"trend\", \"solve\", \"moving\", \"thoughtfully\", \"mental\", \"fact\", \"trying\", \"kept\", \"inclusion\", \"conference ve\", \"smart people\", \"wa great speaker\", \"professional learning experience\", \"able attend\", \"speaker wa\", \"answer\", \"book\", \"qualitative\", \"organization\", \"student\", \"industry\", \"user\", \"strive\", \"understand\", \"amsterdam\", \"research conference\", \"talk\", \"talk wa\", \"research\", \"did\", \"ve\", \"people\", \"ve attended\", \"uxpa\", \"engaging\", \"user research\", \"conference\", \"event\", \"speaker\", \"practical\", \"great\", \"best\", \"course\", \"lot\", \"topic\", \"year\", \"learning\", \"work\", \"thing\", \"workshop\", \"way\", \"able\", \"ux\", \"attended\", \"experience\", \"time\", \"learned\", \"new\", \"design\", \"wa great\", \"like\", \"small group\", \"enterprise ux\", \"old\", \"wa pretty\", \"key\", \"employer\", \"trainer\", \"diversity speaker\", \"context\", \"remote\", \"applying\", \"note\", \"exposure\", \"area\", \"meet people\", \"experience conference\", \"great learning\", \"great learning experience\", \"wa easy\", \"organizer\", \"let\", \"nn\", \"association\", \"great content\", \"hand workshop\", \"hand learning\", \"event attended\", \"enterprise\", \"rosenfeld\", \"pretty\", \"peer\", \"inspiring\", \"conference great\", \"fantastic\", \"design conference\", \"year ago\", \"conference\", \"panel\", \"ago\", \"group\", \"liked\", \"change\", \"diversity\", \"networking\", \"discussion\", \"workshop\", \"learning\", \"year\", \"ux\", \"great\", \"experience\", \"small\", \"idea\", \"format\", \"design\", \"attended\", \"training\", \"speaker\", \"research\", \"good\", \"opportunity\", \"hand\", \"people\", \"event\", \"topic\", \"really\", \"talk\", \"content\", \"lot\", \"session\", \"work\", \"intensive\", \"held\", \"new people\", \"certification\", \"really enjoyed\", \"really interesting\", \"ve experienced\", \"learn new\", \"design workshop wa\", \"workshop day\", \"leader\", \"caliber\", \"hand wa\", \"probably ux\", \"hate\", \"12\", \"fullday\", \"fullday workshop\", \"refreshing\", \"playbook\", \"wa small intimate\", \"sue\", \"ranch\", \"ranch northern\", \"cooper ux bootcamp\", \"ux bootcamp\", \"northern\", \"cooper ux\", \"meet new people\", \"new thing try\", \"setting\", \"choose\", \"cooper\", \"general\", \"bring\", \"facilitator\", \"management\", \"short\", \"role\", \"attendee\", \"day\", \"enjoyed\", \"wa able\", \"workshop\", \"ux\", \"time\", \"really\", \"learn\", \"worked\", \"immediately\", \"camp\", \"new\", \"think\", \"day workshop\", \"job\", \"participant\", \"local\", \"teacher\", \"real\", \"design\", \"lot\", \"experience\", \"work\", \"like\", \"able\", \"small\", \"conference\", \"intimate\", \"learning\", \"people\", \"training\", \"group\", \"great\", \"best\", \"learned\", \"talk\", \"event\", \"covered\", \"topic covered\", \"program\", \"master program\", \"degree\", \"wonderful\", \"ticket\", \"affordable\", \"master\", \"great variety\", \"ask question\", \"speaker great\", \"cheap\", \"listening session\", \"high level\", \"spoke\", \"sxsw\", \"variety topic\", \"time ask question\", \"time ask\", \"country\", \"good networking\", \"wide variety topic\", \"finished\", \"particularly\", \"bringing\", \"student attending\", \"different perspective\", \"topic covered great\", \"covered great\", \"attending\", \"2013\", \"wide variety\", \"ixda\", \"variety\", \"interaction\", \"real life\", \"world\", \"life\", \"summit\", \"chance\", \"expert\", \"good\", \"service\", \"topic\", \"great\", \"session\", \"researcher\", \"course\", \"speaker\", \"design\", \"event\", \"workshop\", \"different\", \"epic\", \"day\", \"research\", \"ve\", \"learning\", \"experience\", \"conference\", \"real\", \"time\", \"talk\", \"attended\", \"ux\"], \"Total\": [58.0, 10.0, 22.0, 9.0, 13.0, 26.0, 133.0, 8.0, 9.0, 39.0, 47.0, 95.0, 58.0, 16.0, 23.0, 19.0, 15.0, 86.0, 24.0, 36.0, 31.0, 183.0, 9.0, 15.0, 74.0, 24.0, 27.0, 31.0, 12.0, 17.0, 6.091689849353054, 6.091677670925296, 5.218104656780431, 5.2181013042492, 5.218101254504948, 5.218069517002971, 4.344509629360268, 4.3444636995640655, 3.4709160517131115, 3.470915771619614, 3.4709155546065897, 3.4709155276757375, 3.4709152887078223, 3.470915137663603, 3.4709146217655924, 3.47091437085656, 3.470914103986411, 3.4709135912394116, 3.470913478172614, 3.470912153761178, 3.4708066180089903, 3.4708845757739755, 3.470871680886626, 3.470868527658082, 3.470755096903863, 3.4708251532663668, 3.470598277332412, 3.4707690940991163, 7.82831106785125, 7.812115310584256, 6.073614824465014, 6.909113569870989, 9.548571025430338, 9.466760790863752, 17.28037108648252, 16.292905348050645, 13.774248616204364, 6.931441771149345, 8.690816779497732, 6.035602472210236, 77.4419300108217, 6.0648954403567155, 86.09135359931673, 17.357760874453653, 36.8129371873609, 78.44108353546414, 10.33400225464327, 12.925511492760933, 13.816498995489331, 9.416864542842198, 183.43539982550192, 74.49736216878696, 74.53555746705841, 22.305313599017673, 116.24308625917034, 42.01431131414203, 36.56560925788895, 48.9885027809707, 58.74579754402704, 46.47993577621052, 74.48466145887593, 44.57264543836927, 31.755373145846107, 133.87677966494454, 24.122650594492352, 24.717589080270045, 95.77790825414617, 48.79546904653178, 73.49685160894032, 39.08998722784041, 31.725529527972853, 43.58598131774499, 76.62203179067077, 26.55006134064134, 39.209641371452186, 13.793012627008967, 6.890142554572443, 6.026846497579783, 6.026767078942115, 6.027091771498305, 5.163963039265717, 4.301592936260385, 4.301592546455794, 4.301590612839384, 4.301584648352195, 4.301645601453446, 4.301650765390666, 4.301529595367231, 10.35357024205746, 3.438727853566651, 3.438727830225748, 3.4387278070339535, 3.4387278070339535, 3.438727765683832, 3.4387275490677336, 3.4387274171948916, 3.43872707589184, 3.4387269567512844, 3.438726834023436, 3.4387258011150754, 3.4387251122070976, 3.4387115812348332, 8.59790534270143, 3.438685094393523, 8.597610809860932, 7.707454981276096, 12.026466165001809, 6.900832291220524, 5.981783951179195, 5.981790481332842, 17.312556207221114, 183.43539982550192, 10.318159124732661, 21.632187114464912, 31.72418230878609, 8.578276445920975, 6.009119413650346, 13.796747524700963, 27.376140084751476, 11.022041091315934, 133.87677966494454, 74.48466145887593, 46.47993577621052, 95.77790825414617, 116.24308625917034, 73.49685160894032, 36.81651858223362, 13.670244171299014, 17.133881108597667, 76.62203179067077, 48.79546904653178, 28.936490246910363, 74.53555746705841, 86.09135359931673, 47.51494221609278, 23.95607608992046, 23.231398031855317, 78.44108353546414, 74.49736216878696, 58.74579754402704, 51.125976783190815, 77.4419300108217, 34.19232709411118, 48.9885027809707, 31.23849562342899, 44.57264543836927, 6.778307348030008, 5.083971879062711, 4.237596250616385, 4.2376594600471735, 7.6026188723041415, 3.3907305057719888, 3.3907305024634447, 3.390730473225229, 3.3907433961237654, 3.3907617153039866, 3.390761551846549, 3.390835834778119, 3.3908358980882074, 3.390863420475548, 3.3909781932483636, 3.3909363002278146, 3.390316210840911, 3.390315741815823, 3.3903729359948565, 3.3903115694657746, 2.543864742221356, 2.5438647373645344, 2.5438647373645344, 2.5438647373645344, 2.5438647373645344, 2.5438647373645344, 2.5438647373645344, 2.5438647373645344, 2.543864766781248, 2.543864731712919, 5.947247900188188, 5.957758395282559, 5.962711384320163, 7.563717656916432, 5.100410504672496, 5.10044170231761, 5.111106914519737, 8.522360732321301, 7.612219410517568, 24.74429582825083, 58.49801399995887, 16.96795395942527, 15.419385992312423, 133.87677966494454, 95.77790825414617, 39.08998722784041, 51.125976783190815, 31.4130573881698, 9.41015782877741, 10.229726200525615, 10.229485686696838, 43.58598131774499, 21.463678232593537, 10.11667370665847, 17.801754378742633, 12.575272269968954, 12.866763334838607, 11.864041212001641, 23.600379224401063, 76.62203179067077, 48.9885027809707, 73.49685160894032, 44.57264543836927, 39.209641371452186, 24.717589080270045, 36.81651858223362, 183.43539982550192, 19.614839898216825, 74.48466145887593, 78.44108353546414, 28.936490246910363, 31.72418230878609, 116.24308625917034, 42.01431131414203, 31.725529527972853, 77.4419300108217, 74.49736216878696, 9.022575114445425, 8.205413009310773, 10.668353808681255, 4.936393362301477, 4.936445175198358, 4.119079743730582, 4.1191438319390175, 4.119833806363138, 9.053528078244366, 3.301756318533757, 3.3017563341200895, 3.3017573832154516, 3.3017589022586185, 3.3017623170198016, 3.3017628117312636, 3.3021652107802195, 6.6275213264904504, 6.621614428682597, 2.4845487777767676, 2.4845487777767676, 2.4845488150015473, 2.4845489385492927, 2.4845489974966606, 2.48454898249994, 2.4845490321281662, 2.4845490321281662, 2.4845490463420457, 2.484549074708136, 2.484549128307445, 2.484549128307445, 9.96925229277544, 4.965842256468387, 4.981727992143863, 5.794882553445988, 22.666560440431695, 8.364425042727818, 4.976210596438205, 15.107026838803044, 8.308684828970266, 26.210856198619005, 5.844319820331938, 6.715425646627612, 47.51494221609278, 19.281009552037787, 58.74579754402704, 116.24308625917034, 31.23849562342899, 23.717311821406007, 36.56560925788895, 74.53555746705841, 76.62203179067077, 74.49736216878696, 133.87677966494454, 22.07818010868065, 23.81229835722249, 58.49801399995887, 86.09135359931673, 36.8129371873609, 74.48466145887593, 73.49685160894032, 183.43539982550192, 23.600379224401063, 39.08998722784041, 77.4419300108217, 48.79546904653178, 95.77790825414617], \"loglift\": [30.0, 29.0, 28.0, 27.0, 26.0, 25.0, 24.0, 23.0, 22.0, 21.0, 20.0, 19.0, 18.0, 17.0, 16.0, 15.0, 14.0, 13.0, 12.0, 11.0, 10.0, 9.0, 8.0, 7.0, 6.0, 5.0, 4.0, 3.0, 2.0, 1.0, 1.0762, 1.0759, 1.0567, 1.0566, 1.0566, 1.0561, 1.0286, 1.0276, 0.9848, 0.9848, 0.9848, 0.9848, 0.9848, 0.9848, 0.9848, 0.9848, 0.9848, 0.9848, 0.9848, 0.9848, 0.9843, 0.984, 0.9836, 0.9835, 0.983, 0.9823, 0.9813, 0.9807, 0.9759, 0.9757, 0.9646, 0.9509, 0.9048, 0.8975, 0.8425, 0.8437, 0.849, 0.9035, 0.8696, 0.9111, 0.5446, 0.9057, 0.4827, 0.7369, 0.6012, 0.4581, 0.802, 0.749, 0.7287, 0.7887, 0.1617, 0.2998, 0.2401, 0.5547, 0.0521, 0.3564, 0.3415, 0.2149, 0.0836, 0.1658, -0.1418, 0.083, 0.2299, -0.561, 0.3289, 0.3066, -0.4687, -0.0858, -0.3384, 0.0005, 0.1356, -0.1057, -0.5559, 0.2396, -0.1346, 1.1884, 1.1393, 1.1234, 1.1229, 1.1228, 1.1012, 1.0768, 1.0768, 1.0767, 1.0766, 1.0755, 1.0755, 1.0739, 1.0665, 1.0324, 1.0324, 1.0324, 1.0324, 1.0324, 1.0324, 1.0324, 1.0324, 1.0324, 1.0324, 1.0323, 1.0323, 1.0323, 1.0322, 1.0321, 1.0312, 1.0268, 0.9713, 0.9894, 0.9588, 0.9566, 0.795, 0.3991, 0.8529, 0.7113, 0.6361, 0.8707, 0.9272, 0.7616, 0.6136, 0.7992, 0.1838, 0.3279, 0.4331, 0.2427, 0.1791, 0.2676, 0.459, 0.739, 0.6689, 0.218, 0.3516, 0.5095, 0.2118, 0.0946, 0.3049, 0.5383, 0.5012, -0.0724, -0.0582, 0.0366, 0.067, -0.356, 0.1434, -0.1453, 0.1899, -0.1233, 1.3763, 1.339, 1.3129, 1.3123, 1.2952, 1.2676, 1.2676, 1.2676, 1.2673, 1.267, 1.267, 1.2655, 1.2655, 1.265, 1.2647, 1.2635, 1.2634, 1.2634, 1.2622, 1.2614, 1.1872, 1.1872, 1.1872, 1.1872, 1.1872, 1.1872, 1.1872, 1.1872, 1.1872, 1.1872, 1.1862, 1.1856, 1.1485, 1.1082, 1.1283, 1.1279, 1.1257, 1.0788, 1.072, 0.9246, 0.7967, 0.9618, 0.953, 0.3986, 0.4418, 0.6572, 0.5564, 0.6836, 0.9897, 0.9664, 0.9641, 0.5539, 0.7485, 0.9559, 0.7864, 0.8748, 0.8629, 0.8838, 0.6316, 0.1911, 0.3546, 0.1848, 0.3716, 0.385, 0.5549, 0.3305, -0.4716, 0.6322, -0.1291, -0.2112, 0.3492, 0.293, -0.5235, 0.1063, 0.2769, -0.3729, -0.5691, 1.665, 1.6571, 1.655, 1.5988, 1.5986, 1.5685, 1.568, 1.5656, 1.5538, 1.5223, 1.5223, 1.5223, 1.5223, 1.5223, 1.5222, 1.5179, 1.4777, 1.4614, 1.439, 1.439, 1.439, 1.439, 1.439, 1.439, 1.439, 1.439, 1.439, 1.439, 1.439, 1.439, 1.3537, 1.3827, 1.3798, 1.3603, 1.1164, 1.2047, 1.2951, 1.0368, 1.171, 0.837, 1.2215, 1.176, 0.5757, 0.855, 0.4938, 0.1071, 0.6148, 0.7119, 0.4659, 0.098, 0.0631, 0.0488, -0.2537, 0.5979, 0.5536, 0.0119, -0.2933, 0.1873, -0.2937, -0.3179, -0.9878, 0.4718, 0.0984, -0.4451, -0.1482, -0.7475], \"logprob\": [30.0, 29.0, 28.0, 27.0, 26.0, 25.0, 24.0, 23.0, 22.0, 21.0, 20.0, 19.0, 18.0, 17.0, 16.0, 15.0, 14.0, 13.0, 12.0, 11.0, 10.0, 9.0, 8.0, 7.0, 6.0, 5.0, 4.0, 3.0, 2.0, 1.0, -6.2796, -6.2799, -6.4539, -6.454, -6.454, -6.4545, -6.6652, -6.6662, -6.9335, -6.9335, -6.9335, -6.9335, -6.9335, -6.9335, -6.9335, -6.9335, -6.9335, -6.9335, -6.9335, -6.9335, -6.9341, -6.9344, -6.9347, -6.9348, -6.9353, -6.936, -6.9371, -6.9376, -6.1291, -6.1314, -6.3941, -6.279, -6.0015, -6.0175, -5.4707, -5.5282, -5.6909, -6.3231, -6.1309, -6.454, -4.2686, -6.4545, -4.2246, -5.5717, -4.9557, -4.3423, -6.0253, -5.8545, -5.8082, -6.1315, -3.7891, -4.5522, -4.6113, -5.5032, -4.355, -5.0683, -5.2221, -5.0562, -5.0059, -5.1579, -4.9939, -5.2826, -5.4748, -4.8268, -5.6506, -5.6486, -5.0694, -5.3609, -5.2039, -5.4964, -5.57, -5.4937, -5.3797, -5.6441, -5.6284, -5.3502, -6.0933, -6.2431, -6.2436, -6.2436, -6.4199, -6.627, -6.627, -6.627, -6.6271, -6.6282, -6.6283, -6.6299, -5.7589, -6.8952, -6.8952, -6.8952, -6.8952, -6.8952, -6.8953, -6.8953, -6.8953, -6.8953, -6.8953, -6.8953, -6.8953, -6.8954, -5.9791, -6.8955, -5.98, -6.0938, -5.7043, -6.2417, -6.4152, -6.4174, -5.5163, -3.5518, -5.9759, -5.3772, -5.0695, -6.1428, -6.4423, -5.7767, -5.2394, -5.9637, -4.082, -4.5242, -4.8906, -4.3579, -4.228, -4.5979, -5.0978, -5.8085, -5.6527, -4.6058, -4.9235, -5.2882, -4.6397, -4.6127, -4.9968, -5.4482, -5.516, -4.8728, -4.9101, -5.0529, -5.1615, -5.1692, -5.4874, -5.4164, -5.5311, -5.4889, -5.8727, -6.1977, -6.4058, -6.4064, -5.839, -6.6741, -6.6741, -6.6741, -6.6743, -6.6747, -6.6747, -6.6761, -6.6761, -6.6767, -6.677, -6.6781, -6.6784, -6.6784, -6.6796, -6.6804, -7.0418, -7.0418, -7.0418, -7.0418, -7.0418, -7.0418, -7.0418, -7.0418, -7.0418, -7.0418, -6.1936, -6.1924, -6.2287, -6.0312, -6.4051, -6.4055, -6.4056, -5.9412, -6.061, -5.0296, -4.2971, -5.3696, -5.4741, -3.8672, -4.1589, -4.8397, -4.672, -5.0319, -5.9312, -5.8711, -5.8734, -4.8341, -5.3479, -5.8927, -5.497, -5.7562, -5.7451, -5.8054, -5.3699, -4.6328, -4.9165, -4.6807, -4.994, -5.1088, -5.4004, -5.2262, -4.4225, -5.5542, -4.9812, -5.0115, -5.4485, -5.4127, -4.9306, -5.3184, -5.4287, -5.1861, -5.4211, -5.298, -5.4008, -5.1405, -5.9673, -5.9675, -6.1786, -6.1791, -6.1813, -5.4058, -6.446, -6.446, -6.446, -6.446, -6.446, -6.446, -6.4502, -5.7938, -5.811, -6.8137, -6.8137, -6.8137, -6.8137, -6.8137, -6.8137, -6.8137, -6.8137, -6.8137, -6.8137, -6.8137, -6.8137, -5.5095, -6.1774, -6.1772, -6.0455, -4.9255, -5.8341, -6.2629, -5.4108, -5.8744, -5.0596, -6.1758, -6.0823, -4.726, -5.3486, -4.5957, -4.3, -5.1063, -5.2847, -5.0977, -4.7534, -4.7608, -4.8031, -4.5195, -5.4703, -5.4389, -5.0818, -5.0007, -5.3696, -5.1458, -5.1834, -4.9387, -5.5297, -5.3985, -5.2583, -5.4233, -5.3482]}, \"token.table\": {\"Topic\": [3, 3, 4, 1, 3, 4, 1, 1, 4, 1, 2, 3, 1, 2, 1, 3, 2, 1, 2, 4, 2, 1, 2, 3, 4, 1, 2, 3, 4, 1, 2, 3, 4, 1, 2, 3, 4, 1, 3, 2, 3, 4, 3, 2, 3, 3, 2, 4, 2, 3, 4, 1, 3, 1, 2, 3, 4, 1, 2, 1, 1, 2, 3, 4, 2, 1, 3, 3, 3, 4, 1, 2, 3, 4, 4, 4, 1, 2, 3, 4, 2, 3, 4, 4, 1, 2, 3, 4, 2, 4, 3, 1, 2, 3, 1, 2, 3, 4, 4, 2, 4, 1, 2, 3, 2, 2, 1, 2, 3, 4, 1, 2, 3, 4, 2, 3, 2, 1, 2, 3, 4, 1, 2, 3, 4, 2, 1, 2, 3, 4, 2, 1, 4, 2, 2, 3, 1, 1, 2, 4, 4, 1, 1, 2, 3, 4, 3, 3, 3, 4, 1, 2, 3, 4, 4, 1, 2, 3, 4, 2, 2, 2, 4, 1, 2, 3, 4, 1, 2, 3, 2, 3, 2, 3, 1, 3, 4, 1, 2, 3, 4, 2, 3, 1, 1, 3, 4, 2, 3, 3, 1, 2, 4, 1, 2, 3, 4, 3, 4, 1, 3, 4, 1, 2, 1, 3, 1, 2, 3, 4, 3, 1, 2, 3, 4, 1, 2, 3, 4, 2, 3, 4, 1, 2, 3, 4, 2, 3, 1, 4, 1, 3, 1, 2, 3, 4, 1, 3, 3, 4, 4, 3, 2, 1, 1, 1, 2, 4, 1, 2, 3, 4, 3, 3, 2, 3, 2, 2, 1, 2, 3, 4, 1, 2, 3, 2, 1, 2, 3, 2, 3, 4, 4, 2, 4, 1, 2, 3, 4, 1, 1, 3, 1, 2, 3, 4, 2, 3, 3, 1, 4, 1, 4, 3, 3, 2, 3, 4, 3, 4, 1, 2, 3, 4, 3, 4, 3, 3, 2, 1, 2, 3, 4, 1, 4, 1, 2, 3, 4, 2, 3, 4, 2, 2, 3, 4, 1, 2, 3, 4, 2, 3, 1, 2, 3, 1, 2, 3, 4, 2, 1, 1, 1, 1, 2, 3, 4, 4, 1, 2, 4, 1, 2, 4, 1, 1, 4, 4, 3, 1, 2, 4, 1, 4, 1, 2, 3, 4, 1, 1, 3, 1, 3, 4, 1, 1, 2, 3, 4, 1, 2, 3, 1, 4, 1, 2, 3, 4, 4, 4, 1, 2, 3, 4, 4, 4, 2, 1, 2, 3, 4, 1, 1, 1, 3, 1, 4, 1, 4, 1, 2, 3, 4, 3, 1, 3, 4, 1, 2, 4, 2, 4, 1, 2, 3, 4, 1, 2, 4, 3, 1, 3, 2, 1, 1, 2, 3, 4, 1, 2, 3, 1, 2, 3, 4, 2, 4, 4, 4, 1, 2, 3, 4, 1, 3, 1, 2, 3, 4, 3, 1, 2, 3, 4, 1, 1, 2, 3, 4, 1, 2], \"Freq\": [0.8847113995619587, 0.20137570795717966, 0.604127123871539, 0.40457020171041486, 0.40457020171041486, 0.16182808068416596, 0.8643617361640387, 0.9582029470362128, 0.7281847135111276, 0.3698192863101945, 0.6009563402540661, 0.04622741078877431, 0.6903839020233905, 0.23012796734113014, 0.7680378183705112, 0.12800630306175187, 0.929876696176104, 0.09658504038905136, 0.8692653635014622, 0.9086073278631245, 0.8724158788211063, 0.28691188492623115, 0.40987412132318735, 0.16394964852927496, 0.14345594246311558, 0.1616534181357934, 0.2424801272036901, 0.5657869634752769, 0.04041335453394835, 0.1003084254096653, 0.1003084254096653, 0.1003084254096653, 0.7021589778676571, 0.4284254444970801, 0.19041130866536893, 0.2618155494148823, 0.11900706791585558, 0.8232329748438433, 0.16464659496876866, 0.19606265007177326, 0.784250600287093, 0.8049750575004266, 0.8847376122519675, 0.39102650147913975, 0.5865397522187096, 0.9439172821016326, 0.34221262037066386, 0.5133189305559959, 0.6656549362147105, 0.16641373405367763, 0.908606621139964, 0.16784836404104853, 0.6713934561641941, 0.3597996900422948, 0.43066932595971646, 0.1417392718348434, 0.06541812546223541, 0.1449100569031701, 0.7245502845158506, 0.8643369738997883, 0.29246327611677136, 0.3217096037284485, 0.23397062089341708, 0.14623163805838568, 0.9298885830884984, 0.16770893902892045, 0.6708357561156818, 0.7862053239796142, 0.7862053239796142, 0.8049751278478119, 0.437569626890547, 0.05469620336131838, 0.2187848134452735, 0.27348101680659187, 0.8866648266736787, 0.8049750263390704, 0.13675677946956669, 0.17094597433695835, 0.512837923010875, 0.17094597433695835, 0.19769343738779122, 0.5930803121633736, 0.19769343738779122, 0.8102996909794041, 0.16966399475696015, 0.36543014255345263, 0.27407260691508945, 0.18271507127672632, 0.8358701321290539, 0.16717402642581078, 0.8847617320229965, 0.633722291691971, 0.2880555871327141, 0.05761111742654282, 0.4076422945957126, 0.13588076486523754, 0.18117435315365005, 0.3170551180188876, 0.8049750437048394, 0.6350910817702515, 0.27218189218725064, 0.21744255264720613, 0.6523276579416184, 0.14496170176480408, 0.9298881650926505, 0.9682486032492922, 0.6513951184694637, 0.14475447077099196, 0.14475447077099196, 0.07237723538549598, 0.05893462478689278, 0.2357384991475711, 0.5893462478689279, 0.11786924957378556, 0.8141517870910434, 0.11630739815586334, 0.8708092688181428, 0.33596085014504806, 0.29396574387691704, 0.08399021253626202, 0.29396574387691704, 0.4161221162403578, 0.26846588144539213, 0.13423294072269606, 0.18792611701177447, 0.8724197796555846, 0.21769639991019324, 0.38096869984283815, 0.2721204998877415, 0.12245422494948369, 0.8724156572179352, 0.29782177709083424, 0.5956435541816685, 0.929901773617464, 0.19606145082407392, 0.7842458032962957, 0.8643261099965079, 0.8643252090787921, 0.8358710446261345, 0.16717420892522689, 0.8049750735795962, 0.8643253669461384, 0.11672778556846723, 0.5836389278423362, 0.23345557113693446, 0.058363892784233616, 0.8848732134209689, 0.8848733358366282, 0.6610505873957219, 0.2644202349582887, 0.1894140996545672, 0.3998742103818641, 0.10523005536364845, 0.31569016609094536, 0.8049750878192736, 0.31829850007170724, 0.34410648656400783, 0.13764259462560313, 0.19786122977430448, 0.8724159099575497, 0.8724156631017637, 0.8724156631017637, 0.9086073321523132, 0.12608678014349295, 0.535868815609845, 0.3152169503587323, 0.03152169503587324, 0.21522596242997985, 0.4734971173459556, 0.2582711549159758, 0.8724163467880374, 0.884737595733086, 0.8724161720097573, 0.8847004696087919, 0.9582087750474776, 0.7867864132909891, 0.9086055452986838, 0.0731515829175548, 0.5852126633404384, 0.1463031658351096, 0.1463031658351096, 0.39101730795047823, 0.5865259619257174, 0.864336188664185, 0.6944295316312354, 0.23147651054374513, 0.05786912763593628, 0.7483495048770751, 0.16629988997268336, 0.8851767398455, 0.11955394362334779, 0.23910788724669557, 0.597769718116739, 0.203927231665227, 0.25490903958153377, 0.407854463330454, 0.1019636158326135, 0.1725660513007877, 0.6902642052031508, 0.2808711935701451, 0.5055681484262612, 0.22469695485611607, 0.8643329775179941, 0.8295875008316034, 0.8643252698255434, 0.8847569945949909, 0.1591694796916841, 0.22283727156835773, 0.44567454313671545, 0.1591694796916841, 0.8847651040651515, 0.3467239211973166, 0.25216285177986664, 0.31520356472483324, 0.09456106941744997, 0.26851165875328964, 0.40276748812993446, 0.20138374406496723, 0.13425582937664482, 0.8724157620051259, 0.36106797426468323, 0.6017799571078054, 0.25503931304204214, 0.2295353817378379, 0.3315511069546548, 0.15302358782522527, 0.6994412033495421, 0.2331470677831807, 0.8643251393300955, 0.908605681437368, 0.3885981167044382, 0.5440373633862136, 0.3878461051351102, 0.24495543482217486, 0.3266072464295665, 0.040825905803695814, 0.19565233455774123, 0.7826093382309649, 0.11045417779208093, 0.8836334223366474, 0.8103081959690293, 0.7862053148881023, 0.8724156512962775, 0.8643257801918638, 0.8643256243519374, 0.255697113556889, 0.5479223861933337, 0.21916895447733345, 0.27531788059374235, 0.22943156716145197, 0.39003366417446833, 0.09177262686458079, 0.9439313618937091, 0.7862053257262992, 0.8724158485947724, 0.7862053239796142, 0.92987557990118, 0.8296212624641865, 0.25045837963941453, 0.5009167592788291, 0.0834861265464715, 0.166972253092943, 0.7330939866663998, 0.10472771238091426, 0.10472771238091426, 0.8724157285485801, 0.09691651271426864, 0.6784155889998805, 0.19383302542853728, 0.07952114105617443, 0.556647987393221, 0.3180845642246977, 0.8049750575004266, 0.7784670834375216, 0.1297445139062536, 0.4844400190216616, 0.26771685261723405, 0.19122632329802433, 0.06374210776600811, 0.8643253293331921, 0.9207120318214121, 0.8848744248224721, 0.5379884011372286, 0.08966473352287144, 0.22416183380717858, 0.13449710028430714, 0.8141796779137095, 0.11631138255910135, 0.8847304146444412, 0.8644042785343266, 0.9373517394841752, 0.7236818369586249, 0.144736367391725, 0.7862053239796142, 0.7862053239796142, 0.2966054033895571, 0.42372200484222444, 0.2966054033895571, 0.20095612527246426, 0.6028683758173928, 0.15647622800294816, 0.31295245600589633, 0.3911905700073704, 0.13691669950257965, 0.7892017343993949, 0.13153362239989916, 0.8847650955725163, 0.8848584083920824, 0.9298898724525337, 0.4994694380126609, 0.31362034479864753, 0.05807784162937917, 0.12777125158463418, 0.8284177135624046, 0.1656835427124809, 0.37946964933340677, 0.08432658874075706, 0.16865317748151412, 0.33730635496302824, 0.13136773207276856, 0.6568386603638428, 0.13136773207276856, 0.8724264995626494, 0.2593225207687092, 0.3630515290761929, 0.41491603322993476, 0.06402356964014594, 0.3521296330208027, 0.25609427856058375, 0.3201178482007297, 0.1681450003065043, 0.6725800012260172, 0.11733837975286247, 0.23467675950572495, 0.7040302785171748, 0.16297032503489867, 0.46174925426554625, 0.32594065006979733, 0.054323441678299556, 0.942506205971557, 0.8643652220452527, 0.864325557896046, 0.820790310020627, 0.3890760461920042, 0.3622432154201418, 0.053665661543724714, 0.1878298154030365, 0.908607039163616, 0.766448848033182, 0.12774147467219701, 0.908494823398365, 0.72599241371582, 0.072599241371582, 0.21779772411474602, 0.9582023222748082, 0.7394292677972395, 0.21126550508492556, 0.8049750528952375, 0.7862053239796142, 0.19076065131605427, 0.38152130263210854, 0.4196734328953194, 0.15088597240765753, 0.7544298620382877, 0.5294289539823024, 0.20660642106626434, 0.15495481579969825, 0.11621611184977369, 0.864325263119239, 0.8244165211372412, 0.16488330422744824, 0.252864934164693, 0.590018179717617, 0.16857662277646202, 0.8207919509373063, 0.3778888046720909, 0.28341660350406817, 0.22043513605871967, 0.09447220116802273, 0.37272269521128254, 0.13977101070423095, 0.4659033690141032, 0.8643257520360064, 0.7283066876030402, 0.30698398364923074, 0.051163997274871795, 0.43489397683641023, 0.20465598909948718, 0.8049751399083607, 0.8049751399083607, 0.340449884691939, 0.3064048962227451, 0.08511247117298475, 0.28938240198814813, 0.9749661584276516, 0.8049750263390704, 0.9298880808274302, 0.0345584413129292, 0.4838181783810088, 0.3110259718163628, 0.1382337652517168, 0.8643254954147945, 0.8643523912954084, 0.7213506460966662, 0.14427012921933324, 0.7365168914723814, 0.2455056304907938, 0.6371547528057656, 0.3185773764028828, 0.18793477878256742, 0.3654287365216589, 0.3549879154781829, 0.08352656834780775, 0.7862053239796142, 0.6189310190533259, 0.23209913214499722, 0.07736637738166574, 0.17647141526003043, 0.26470712289004567, 0.5294142457800913, 0.15102057221398119, 0.755102861069906, 0.5704516293584418, 0.08149308990834883, 0.16298617981669766, 0.21731490642226353, 0.6773755053957689, 0.0967679293422527, 0.1935358586845054, 0.8847650964358359, 0.3891205527244337, 0.5836808290866505, 0.8724156735924149, 0.9207022981300199, 0.3766469640765976, 0.22598817844595853, 0.22598817844595853, 0.15065878563063903, 0.8643477753918901, 0.8296321949242571, 0.7862053224785678, 0.41454814266070683, 0.29018369986249476, 0.20727407133035342, 0.041454814266070686, 0.2007335610408658, 0.6022006831225974, 0.8049750687207722, 0.7283180192289624, 0.33652927378386244, 0.2467881341081658, 0.33652927378386244, 0.08974113967569665, 0.31880442970102313, 0.6376088594020463, 0.17179977033778712, 0.35106909590765195, 0.34359954067557424, 0.13445199417739861, 0.8847569519437746, 0.06619436178080106, 0.3309718089040053, 0.06619436178080106, 0.4633605324656074, 0.9582029379016471, 0.3657492144965696, 0.4518078532016448, 0.107573298381344, 0.0860586387050752, 0.3465692719309344, 0.6353769985400464], \"Term\": [\"12\", \"2013\", \"2013\", \"able\", \"able\", \"able\", \"able attend\", \"actionable\", \"affordable\", \"ago\", \"ago\", \"ago\", \"amsterdam\", \"amsterdam\", \"answer\", \"answer\", \"applying\", \"area\", \"area\", \"ask question\", \"association\", \"attended\", \"attended\", \"attended\", \"attended\", \"attendee\", \"attendee\", \"attendee\", \"attendee\", \"attending\", \"attending\", \"attending\", \"attending\", \"best\", \"best\", \"best\", \"best\", \"book\", \"book\", \"bring\", \"bring\", \"bringing\", \"caliber\", \"camp\", \"camp\", \"certification\", \"chance\", \"chance\", \"change\", \"change\", \"cheap\", \"choose\", \"choose\", \"conference\", \"conference\", \"conference\", \"conference\", \"conference great\", \"conference great\", \"conference ve\", \"content\", \"content\", \"content\", \"content\", \"context\", \"cooper\", \"cooper\", \"cooper ux\", \"cooper ux bootcamp\", \"country\", \"course\", \"course\", \"course\", \"course\", \"covered\", \"covered great\", \"day\", \"day\", \"day\", \"day\", \"day workshop\", \"day workshop\", \"day workshop\", \"degree\", \"design\", \"design\", \"design\", \"design\", \"design conference\", \"design conference\", \"design workshop wa\", \"did\", \"did\", \"did\", \"different\", \"different\", \"different\", \"different\", \"different perspective\", \"discussion\", \"discussion\", \"diversity\", \"diversity\", \"diversity\", \"diversity speaker\", \"employer\", \"engaging\", \"engaging\", \"engaging\", \"engaging\", \"enjoyed\", \"enjoyed\", \"enjoyed\", \"enjoyed\", \"enterprise\", \"enterprise\", \"enterprise ux\", \"epic\", \"epic\", \"epic\", \"epic\", \"event\", \"event\", \"event\", \"event\", \"event attended\", \"experience\", \"experience\", \"experience\", \"experience\", \"experience conference\", \"expert\", \"expert\", \"exposure\", \"facilitator\", \"facilitator\", \"fact\", \"fairly\", \"fantastic\", \"fantastic\", \"finished\", \"following\", \"format\", \"format\", \"format\", \"format\", \"fullday\", \"fullday workshop\", \"general\", \"general\", \"good\", \"good\", \"good\", \"good\", \"good networking\", \"great\", \"great\", \"great\", \"great\", \"great content\", \"great learning\", \"great learning experience\", \"great variety\", \"group\", \"group\", \"group\", \"group\", \"hand\", \"hand\", \"hand\", \"hand learning\", \"hand wa\", \"hand workshop\", \"hate\", \"hearing\", \"held\", \"high level\", \"idea\", \"idea\", \"idea\", \"idea\", \"immediately\", \"immediately\", \"inclusion\", \"industry\", \"industry\", \"industry\", \"inspiring\", \"inspiring\", \"intensive\", \"interaction\", \"interaction\", \"interaction\", \"intimate\", \"intimate\", \"intimate\", \"intimate\", \"ixda\", \"ixda\", \"job\", \"job\", \"job\", \"kept\", \"key\", \"larger\", \"leader\", \"learn\", \"learn\", \"learn\", \"learn\", \"learn new\", \"learned\", \"learned\", \"learned\", \"learned\", \"learning\", \"learning\", \"learning\", \"learning\", \"let\", \"life\", \"life\", \"like\", \"like\", \"like\", \"like\", \"liked\", \"liked\", \"listen\", \"listening session\", \"local\", \"local\", \"lot\", \"lot\", \"lot\", \"lot\", \"management\", \"management\", \"master\", \"master\", \"master program\", \"meet new people\", \"meet people\", \"mental\", \"moving\", \"networking\", \"networking\", \"networking\", \"new\", \"new\", \"new\", \"new\", \"new people\", \"new thing try\", \"nn\", \"northern\", \"note\", \"old\", \"opportunity\", \"opportunity\", \"opportunity\", \"opportunity\", \"organization\", \"organization\", \"organization\", \"organizer\", \"panel\", \"panel\", \"panel\", \"participant\", \"participant\", \"participant\", \"particularly\", \"peer\", \"peer\", \"people\", \"people\", \"people\", \"people\", \"people doing\", \"phd\", \"playbook\", \"practical\", \"practical\", \"practical\", \"practical\", \"pretty\", \"pretty\", \"probably ux\", \"professional learning experience\", \"program\", \"qualitative\", \"qualitative\", \"ranch\", \"ranch northern\", \"real\", \"real\", \"real\", \"real life\", \"real life\", \"really\", \"really\", \"really\", \"really\", \"really enjoyed\", \"really enjoyed\", \"really interesting\", \"refreshing\", \"remote\", \"research\", \"research\", \"research\", \"research\", \"research conference\", \"research conference\", \"researcher\", \"researcher\", \"researcher\", \"researcher\", \"role\", \"role\", \"role\", \"rosenfeld\", \"service\", \"service\", \"service\", \"session\", \"session\", \"session\", \"session\", \"setting\", \"setting\", \"short\", \"short\", \"short\", \"small\", \"small\", \"small\", \"small\", \"small group\", \"smart people\", \"solve\", \"sorry\", \"speaker\", \"speaker\", \"speaker\", \"speaker\", \"speaker great\", \"speaker wa\", \"speaker wa\", \"spoke\", \"strive\", \"strive\", \"strive\", \"strive conference\", \"student\", \"student\", \"student attending\", \"sue\", \"summit\", \"summit\", \"summit\", \"sxsw\", \"sxsw\", \"talk\", \"talk\", \"talk\", \"talk\", \"talk great\", \"talk wa\", \"talk wa\", \"teacher\", \"teacher\", \"teacher\", \"technique\", \"thing\", \"thing\", \"thing\", \"thing\", \"think\", \"think\", \"think\", \"thoughtfully\", \"ticket\", \"time\", \"time\", \"time\", \"time\", \"time ask\", \"time ask question\", \"topic\", \"topic\", \"topic\", \"topic\", \"topic covered\", \"topic covered great\", \"trainer\", \"training\", \"training\", \"training\", \"training\", \"trend\", \"trying\", \"understand\", \"understand\", \"user\", \"user\", \"user research\", \"user research\", \"ux\", \"ux\", \"ux\", \"ux\", \"ux bootcamp\", \"uxpa\", \"uxpa\", \"uxpa\", \"variety\", \"variety\", \"variety\", \"variety topic\", \"variety topic\", \"ve\", \"ve\", \"ve\", \"ve\", \"ve attended\", \"ve attended\", \"ve attended\", \"ve experienced\", \"wa able\", \"wa able\", \"wa easy\", \"wa engaging\", \"wa great\", \"wa great\", \"wa great\", \"wa great\", \"wa great speaker\", \"wa pretty\", \"wa small intimate\", \"way\", \"way\", \"way\", \"way\", \"wide variety\", \"wide variety\", \"wide variety topic\", \"wonderful\", \"work\", \"work\", \"work\", \"work\", \"worked\", \"worked\", \"workshop\", \"workshop\", \"workshop\", \"workshop\", \"workshop day\", \"world\", \"world\", \"world\", \"world\", \"worthwhile\", \"year\", \"year\", \"year\", \"year\", \"year ago\", \"year ago\"]}, \"R\": 30, \"lambda.step\": 0.01, \"plot.opts\": {\"xlab\": \"PC1\", \"ylab\": \"PC2\"}, \"topic.order\": [3, 1, 4, 2]};\n",
       "\n",
       "function LDAvis_load_lib(url, callback){\n",
       "  var s = document.createElement('script');\n",
       "  s.src = url;\n",
       "  s.async = true;\n",
       "  s.onreadystatechange = s.onload = callback;\n",
       "  s.onerror = function(){console.warn(\"failed to load library \" + url);};\n",
       "  document.getElementsByTagName(\"head\")[0].appendChild(s);\n",
       "}\n",
       "\n",
       "if(typeof(LDAvis) !== \"undefined\"){\n",
       "   // already loaded: just create the visualization\n",
       "   !function(LDAvis){\n",
       "       new LDAvis(\"#\" + \"ldavis_el328611124092462409704673623\", ldavis_el328611124092462409704673623_data);\n",
       "   }(LDAvis);\n",
       "}else if(typeof define === \"function\" && define.amd){\n",
       "   // require.js is available: use it to load d3/LDAvis\n",
       "   require.config({paths: {d3: \"https://cdnjs.cloudflare.com/ajax/libs/d3/3.5.5/d3.min\"}});\n",
       "   require([\"d3\"], function(d3){\n",
       "      window.d3 = d3;\n",
       "      LDAvis_load_lib(\"https://cdn.rawgit.com/bmabey/pyLDAvis/files/ldavis.v1.0.0.js\", function(){\n",
       "        new LDAvis(\"#\" + \"ldavis_el328611124092462409704673623\", ldavis_el328611124092462409704673623_data);\n",
       "      });\n",
       "    });\n",
       "}else{\n",
       "    // require.js not available: dynamically load d3 & LDAvis\n",
       "    LDAvis_load_lib(\"https://cdnjs.cloudflare.com/ajax/libs/d3/3.5.5/d3.min.js\", function(){\n",
       "         LDAvis_load_lib(\"https://cdn.rawgit.com/bmabey/pyLDAvis/files/ldavis.v1.0.0.js\", function(){\n",
       "                 new LDAvis(\"#\" + \"ldavis_el328611124092462409704673623\", ldavis_el328611124092462409704673623_data);\n",
       "            })\n",
       "         });\n",
       "}\n",
       "</script>"
      ],
      "text/plain": [
       "PreparedData(topic_coordinates=              x         y  topics  cluster       Freq\n",
       "topic                                                \n",
       "2     -0.000314  0.030749       1        1  30.552277\n",
       "0     -0.007386  0.086046       2        1  29.044883\n",
       "3     -0.090174 -0.064219       3        1  22.850552\n",
       "1      0.097873 -0.052575       4        1  17.552287, topic_info=     Category       Freq         Term      Total  loglift  logprob\n",
       "329   Default  58.000000          day  58.000000  30.0000  30.0000\n",
       "1079  Default  10.000000      program  10.000000  29.0000  29.0000\n",
       "1465  Default  22.000000      variety  22.000000  28.0000  28.0000\n",
       "309   Default   9.000000      covered   9.000000  27.0000  27.0000\n",
       "1231  Default  13.000000  small group  13.000000  26.0000  26.0000\n",
       "...       ...        ...          ...        ...      ...      ...\n",
       "1113   Topic4   6.639682         real  23.600379   0.4718  -5.5297\n",
       "1378   Topic4   7.570581         time  39.089987   0.0984  -5.3985\n",
       "1333   Topic4   8.709942         talk  77.441930  -0.4451  -5.2583\n",
       "114    Topic4   7.384826     attended  48.795469  -0.1482  -5.4233\n",
       "1438   Topic4   7.960541           ux  95.777908  -0.7475  -5.3482\n",
       "\n",
       "[319 rows x 6 columns], token_table=      Topic      Freq      Term\n",
       "term                           \n",
       "3         3  0.884711        12\n",
       "10        3  0.201376      2013\n",
       "10        4  0.604127      2013\n",
       "31        1  0.404570      able\n",
       "31        3  0.404570      able\n",
       "...     ...       ...       ...\n",
       "1617      2  0.451808      year\n",
       "1617      3  0.107573      year\n",
       "1617      4  0.086059      year\n",
       "1618      1  0.346569  year ago\n",
       "1618      2  0.635377  year ago\n",
       "\n",
       "[471 rows x 3 columns], R=30, lambda_step=0.01, plot_opts={'xlab': 'PC1', 'ylab': 'PC2'}, topic_order=[3, 1, 4, 2])"
      ]
     },
     "execution_count": 74,
     "metadata": {},
     "output_type": "execute_result"
    }
   ],
   "source": [
    "pyLDAvis.sklearn.prepare(lda15, best_event_matrix, best_event_vector)"
   ]
  },
  {
   "cell_type": "markdown",
   "metadata": {},
   "source": [
    "#### Topic groups (4) - 3 is almost entirely enclosed by 2\n",
    "1. research\n",
    "2. networking\n",
    "3. day\n",
    "4. variety\n",
    "\n",
    "#### Topic groups (6) - 2 intersects with 1 & 4\n",
    "1. think\n",
    "2. practical\n",
    "3. learn\n",
    "4. design\n",
    "5. variety\n",
    "6. intimate\n",
    "\n",
    "#### Topic groups (8) - overlap between 1 & 2 and 3 & 4\n",
    "1. strive\n",
    "2. world\n",
    "3. concept\n",
    "4. uxpa\n",
    "5. immediately\n",
    "6. sxsw\n",
    "7. relevant\n",
    "8. start\n"
   ]
  },
  {
   "cell_type": "code",
   "execution_count": null,
   "metadata": {},
   "outputs": [],
   "source": [
    "#To Be Decided"
   ]
  },
  {
   "cell_type": "code",
   "execution_count": null,
   "metadata": {},
   "outputs": [],
   "source": [
    "lda_W15 = lda15.transform(best_event_matrix)"
   ]
  },
  {
   "cell_type": "code",
   "execution_count": null,
   "metadata": {},
   "outputs": [],
   "source": [
    "top_doc_column15 = datadf.best_event.dropna()"
   ]
  },
  {
   "cell_type": "code",
   "execution_count": null,
   "metadata": {},
   "outputs": [],
   "source": [
    "word_count_matrix15, count_vect15 = nlp.create_wordcount_matrix(datadf.best_event.dropna(), max_df=0.8, min_df=2, ngram=(1,3))"
   ]
  },
  {
   "cell_type": "code",
   "execution_count": null,
   "metadata": {},
   "outputs": [],
   "source": [
    "LDA15a = LatentDirichletAllocation(n_components=5, random_state=42)\n",
    "LDA15a.fit(word_count_matrix15)"
   ]
  },
  {
   "cell_type": "code",
   "execution_count": null,
   "metadata": {},
   "outputs": [],
   "source": [
    "lda_H = LDA15a.transform(word_count_matrix15)"
   ]
  },
  {
   "cell_type": "code",
   "execution_count": null,
   "metadata": {},
   "outputs": [],
   "source": [
    "nlp.find_top_documents_per_topic(lda_H, top_doc_column15, 3)"
   ]
  },
  {
   "cell_type": "markdown",
   "metadata": {},
   "source": [
    "## 16. What if any events have you attended on the subject of research in the past few years?"
   ]
  },
  {
   "cell_type": "code",
   "execution_count": 58,
   "metadata": {},
   "outputs": [],
   "source": [
    "stop_words = ['nan', 'Nan', 'NaN', 'NAN']\n",
    "\n",
    "stopWords = nlp.set_stop_words(stop_words)"
   ]
  },
  {
   "cell_type": "code",
   "execution_count": 59,
   "metadata": {},
   "outputs": [],
   "source": [
    "events_attend_recent = datadf.events_attend_recent.fillna('nan')"
   ]
  },
  {
   "cell_type": "code",
   "execution_count": 60,
   "metadata": {},
   "outputs": [],
   "source": [
    "events_attend_recent = events_attend_recent.astype('str')"
   ]
  },
  {
   "cell_type": "code",
   "execution_count": 61,
   "metadata": {},
   "outputs": [],
   "source": [
    "events_attend_recent = events_attend_recent.apply(nlp.basic_clean)\n",
    "events_attend_recent = events_attend_recent.apply(nlp.lemmatize)"
   ]
  },
  {
   "cell_type": "code",
   "execution_count": 62,
   "metadata": {},
   "outputs": [],
   "source": [
    "events_attend_recent_matrix, events_attend_recent_vector = nlp.create_wordcount_matrix(events_attend_recent, ngram=(1,3), max_df=.3, stop_words=stopWords)"
   ]
  },
  {
   "cell_type": "code",
   "execution_count": 63,
   "metadata": {},
   "outputs": [],
   "source": [
    "lda16 = LatentDirichletAllocation(n_components= 7, random_state = 42)"
   ]
  },
  {
   "cell_type": "code",
   "execution_count": 64,
   "metadata": {},
   "outputs": [
    {
     "data": {
      "text/plain": [
       "LatentDirichletAllocation(batch_size=128, doc_topic_prior=None,\n",
       "                          evaluate_every=-1, learning_decay=0.7,\n",
       "                          learning_method='batch', learning_offset=10.0,\n",
       "                          max_doc_update_iter=100, max_iter=10,\n",
       "                          mean_change_tol=0.001, n_components=7, n_jobs=None,\n",
       "                          perp_tol=0.1, random_state=42, topic_word_prior=None,\n",
       "                          total_samples=1000000.0, verbose=0)"
      ]
     },
     "execution_count": 64,
     "metadata": {},
     "output_type": "execute_result"
    }
   ],
   "source": [
    "lda16.fit(events_attend_recent_matrix)"
   ]
  },
  {
   "cell_type": "code",
   "execution_count": 65,
   "metadata": {},
   "outputs": [
    {
     "data": {
      "text/html": [
       "\n",
       "<link rel=\"stylesheet\" type=\"text/css\" href=\"https://cdn.rawgit.com/bmabey/pyLDAvis/files/ldavis.v1.0.0.css\">\n",
       "\n",
       "\n",
       "<div id=\"ldavis_el328611124063821763299766631\"></div>\n",
       "<script type=\"text/javascript\">\n",
       "\n",
       "var ldavis_el328611124063821763299766631_data = {\"mdsDat\": {\"x\": [-0.1379034353495732, -0.054750801526161824, -0.061719959370163564, 0.0892418631436371, -0.043853029490764146, -0.005344491758700291, 0.21432985435172563], \"y\": [0.012575036601764795, -0.1626264141006865, -0.04417124795664315, 0.1342811621179367, 0.10182748827684637, 0.038405326677552226, -0.08029135161677026], \"topics\": [1, 2, 3, 4, 5, 6, 7], \"cluster\": [1, 1, 1, 1, 1, 1, 1], \"Freq\": [23.1465542300657, 18.34388684523897, 16.758350072600454, 12.092242495801809, 11.393207279370907, 9.465153656781677, 8.800605420140483]}, \"tinfo\": {\"Category\": [\"Default\", \"Default\", \"Default\", \"Default\", \"Default\", \"Default\", \"Default\", \"Default\", \"Default\", \"Default\", \"Default\", \"Default\", \"Default\", \"Default\", \"Default\", \"Default\", \"Default\", \"Default\", \"Default\", \"Default\", \"Default\", \"Default\", \"Default\", \"Default\", \"Default\", \"Default\", \"Default\", \"Default\", \"Default\", \"Default\", \"Topic1\", \"Topic1\", \"Topic1\", \"Topic1\", \"Topic1\", \"Topic1\", \"Topic1\", \"Topic1\", \"Topic1\", \"Topic1\", \"Topic1\", \"Topic1\", \"Topic1\", \"Topic1\", \"Topic1\", \"Topic1\", \"Topic1\", \"Topic1\", \"Topic1\", \"Topic1\", \"Topic1\", \"Topic1\", \"Topic1\", \"Topic1\", \"Topic1\", \"Topic1\", \"Topic1\", \"Topic1\", \"Topic1\", \"Topic1\", \"Topic1\", \"Topic1\", \"Topic1\", \"Topic1\", \"Topic1\", \"Topic1\", \"Topic1\", \"Topic1\", \"Topic1\", \"Topic1\", \"Topic1\", \"Topic1\", \"Topic1\", \"Topic1\", \"Topic1\", \"Topic1\", \"Topic1\", \"Topic1\", \"Topic1\", \"Topic1\", \"Topic1\", \"Topic1\", \"Topic1\", \"Topic2\", \"Topic2\", \"Topic2\", \"Topic2\", \"Topic2\", \"Topic2\", \"Topic2\", \"Topic2\", \"Topic2\", \"Topic2\", \"Topic2\", \"Topic2\", \"Topic2\", \"Topic2\", \"Topic2\", \"Topic2\", \"Topic2\", \"Topic2\", \"Topic2\", \"Topic2\", \"Topic2\", \"Topic2\", \"Topic2\", \"Topic2\", \"Topic2\", \"Topic2\", \"Topic2\", \"Topic2\", \"Topic2\", \"Topic2\", \"Topic2\", \"Topic2\", \"Topic2\", \"Topic2\", \"Topic2\", \"Topic2\", \"Topic2\", \"Topic2\", \"Topic2\", \"Topic2\", \"Topic2\", \"Topic2\", \"Topic2\", \"Topic2\", \"Topic2\", \"Topic2\", \"Topic2\", \"Topic2\", \"Topic2\", \"Topic2\", \"Topic2\", \"Topic2\", \"Topic2\", \"Topic3\", \"Topic3\", \"Topic3\", \"Topic3\", \"Topic3\", \"Topic3\", \"Topic3\", \"Topic3\", \"Topic3\", \"Topic3\", \"Topic3\", \"Topic3\", \"Topic3\", \"Topic3\", \"Topic3\", \"Topic3\", \"Topic3\", \"Topic3\", \"Topic3\", \"Topic3\", \"Topic3\", \"Topic3\", \"Topic3\", \"Topic3\", \"Topic3\", \"Topic3\", \"Topic3\", \"Topic3\", \"Topic3\", \"Topic3\", \"Topic3\", \"Topic3\", \"Topic3\", \"Topic3\", \"Topic3\", \"Topic3\", \"Topic3\", \"Topic3\", \"Topic3\", \"Topic3\", \"Topic3\", \"Topic3\", \"Topic3\", \"Topic3\", \"Topic3\", \"Topic3\", \"Topic3\", \"Topic3\", \"Topic3\", \"Topic3\", \"Topic3\", \"Topic3\", \"Topic3\", \"Topic3\", \"Topic4\", \"Topic4\", \"Topic4\", \"Topic4\", \"Topic4\", \"Topic4\", \"Topic4\", \"Topic4\", \"Topic4\", \"Topic4\", \"Topic4\", \"Topic4\", \"Topic4\", \"Topic4\", \"Topic4\", \"Topic4\", \"Topic4\", \"Topic4\", \"Topic4\", \"Topic4\", \"Topic4\", \"Topic4\", \"Topic4\", \"Topic4\", \"Topic4\", \"Topic4\", \"Topic4\", \"Topic4\", \"Topic4\", \"Topic4\", \"Topic4\", \"Topic4\", \"Topic4\", \"Topic4\", \"Topic4\", \"Topic4\", \"Topic4\", \"Topic4\", \"Topic4\", \"Topic4\", \"Topic4\", \"Topic4\", \"Topic4\", \"Topic4\", \"Topic4\", \"Topic4\", \"Topic4\", \"Topic4\", \"Topic4\", \"Topic4\", \"Topic4\", \"Topic4\", \"Topic4\", \"Topic5\", \"Topic5\", \"Topic5\", \"Topic5\", \"Topic5\", \"Topic5\", \"Topic5\", \"Topic5\", \"Topic5\", \"Topic5\", \"Topic5\", \"Topic5\", \"Topic5\", \"Topic5\", \"Topic5\", \"Topic5\", \"Topic5\", \"Topic5\", \"Topic5\", \"Topic5\", \"Topic5\", \"Topic5\", \"Topic5\", \"Topic5\", \"Topic5\", \"Topic5\", \"Topic5\", \"Topic5\", \"Topic5\", \"Topic5\", \"Topic5\", \"Topic5\", \"Topic5\", \"Topic5\", \"Topic5\", \"Topic5\", \"Topic5\", \"Topic5\", \"Topic5\", \"Topic5\", \"Topic5\", \"Topic5\", \"Topic5\", \"Topic5\", \"Topic5\", \"Topic5\", \"Topic5\", \"Topic5\", \"Topic5\", \"Topic5\", \"Topic5\", \"Topic5\", \"Topic5\", \"Topic5\", \"Topic5\", \"Topic5\", \"Topic6\", \"Topic6\", \"Topic6\", \"Topic6\", \"Topic6\", \"Topic6\", \"Topic6\", \"Topic6\", \"Topic6\", \"Topic6\", \"Topic6\", \"Topic6\", \"Topic6\", \"Topic6\", \"Topic6\", \"Topic6\", \"Topic6\", \"Topic6\", \"Topic6\", \"Topic6\", \"Topic6\", \"Topic6\", \"Topic6\", \"Topic6\", \"Topic6\", \"Topic6\", \"Topic6\", \"Topic6\", \"Topic6\", \"Topic6\", \"Topic6\", \"Topic6\", \"Topic6\", \"Topic6\", \"Topic6\", \"Topic6\", \"Topic6\", \"Topic6\", \"Topic6\", \"Topic6\", \"Topic6\", \"Topic6\", \"Topic6\", \"Topic6\", \"Topic6\", \"Topic6\", \"Topic6\", \"Topic6\", \"Topic6\", \"Topic6\", \"Topic6\", \"Topic7\", \"Topic7\", \"Topic7\", \"Topic7\", \"Topic7\", \"Topic7\", \"Topic7\", \"Topic7\", \"Topic7\", \"Topic7\", \"Topic7\", \"Topic7\", \"Topic7\", \"Topic7\", \"Topic7\", \"Topic7\", \"Topic7\", \"Topic7\", \"Topic7\", \"Topic7\", \"Topic7\", \"Topic7\", \"Topic7\", \"Topic7\", \"Topic7\", \"Topic7\", \"Topic7\", \"Topic7\", \"Topic7\", \"Topic7\", \"Topic7\", \"Topic7\", \"Topic7\", \"Topic7\", \"Topic7\", \"Topic7\", \"Topic7\", \"Topic7\", \"Topic7\", \"Topic7\", \"Topic7\", \"Topic7\", \"Topic7\", \"Topic7\", \"Topic7\", \"Topic7\", \"Topic7\", \"Topic7\", \"Topic7\"], \"Freq\": [129.0, 21.0, 44.0, 19.0, 15.0, 59.0, 64.0, 68.0, 25.0, 21.0, 33.0, 39.0, 162.0, 51.0, 15.0, 46.0, 10.0, 19.0, 14.0, 19.0, 16.0, 19.0, 24.0, 15.0, 12.0, 9.0, 131.0, 12.0, 12.0, 8.0, 20.36695435323028, 15.966673266001266, 15.086591745933587, 23.812501620830012, 7.1658108171788015, 5.40556980413961, 4.5256022845627655, 3.64591886349413, 3.6458432733676864, 3.645754429349829, 3.6455843355177664, 3.64553024490656, 27.115545003299076, 8.926282423448347, 2.7659230634826892, 2.765721498101983, 2.765701175818352, 2.765288816156229, 2.7652670821723535, 1.8858566369527632, 1.8858566369527632, 1.8858566369527632, 1.885856597568421, 1.8858565439601653, 1.8858565439601653, 1.8858565235807023, 1.8858564475712258, 1.8858564450747228, 1.8858564201639378, 1.8858564201639378, 3.644190308450549, 3.6458270693133357, 5.220309796995985, 12.746607400695513, 10.392553940539417, 12.97856690423969, 65.08597038571268, 16.03802105567135, 6.688711722416835, 45.731847594223865, 5.406636945657615, 20.06307951401807, 6.583037126012811, 15.354999271110257, 5.001633154287018, 8.613007058270988, 12.51369266922891, 9.176504933619848, 6.751535649808565, 8.920740068874808, 4.946982374188914, 4.5649638822633225, 4.057416226066114, 12.178216760646638, 9.583272827983366, 7.015141268869777, 5.292164792498298, 5.292164792498298, 4.430635865327101, 4.430635865327101, 4.430635865327101, 4.430137616190554, 4.430137616190405, 8.681228013537545, 3.569159738233997, 3.5691596658481437, 3.569128028984215, 3.569128028984215, 3.5690218287961497, 3.5690218287961497, 3.568919491941118, 3.567474106097157, 4.2707831706794375, 2.707638396303858, 2.707638396303858, 2.70763839308478, 2.7076383825944816, 2.7076383825944816, 2.707596269880677, 2.707596269880677, 2.707557984148015, 2.7075132385715133, 2.7074892312777212, 14.904076143073272, 14.730553613472335, 17.508286059835427, 33.72839728519954, 4.430924364344456, 4.4308276671428715, 8.738436291970519, 4.0816983854493065, 4.4303085559184705, 6.154315639784712, 25.531147166889408, 12.75705916570208, 13.209942601516444, 12.230805568756837, 21.053781032176186, 6.153668717311547, 20.140186524438956, 6.69965116585316, 9.981808515884484, 6.032680663837325, 7.004881497044716, 4.897954583366127, 5.3635445503354635, 7.0190596812178585, 5.312023062126252, 5.312023062126252, 4.447204659932121, 4.876556947555374, 2.717925603667703, 2.7179249935013465, 2.7178218840865505, 2.7178143543621256, 2.7178143543621256, 2.7178011562326456, 2.717610166887074, 2.717610166887074, 2.717511162752607, 2.717466405250299, 2.7174471617256915, 2.717392064369379, 2.716420401032946, 4.447444091870566, 1.8531313324318208, 1.8531313324318208, 1.8531313324318208, 1.853131142180808, 1.8531310563502206, 1.8531310563502206, 1.8531310563502206, 1.8531309494649542, 1.8531309494649542, 1.853130377621903, 1.8531303438254354, 9.471202848442466, 3.3937439315309472, 5.823776510457342, 7.577042097122185, 4.393420770403929, 40.94880856155449, 3.58293499318708, 16.799961651103267, 17.664028318168512, 4.2026774614332405, 3.470317549640811, 32.38205872360938, 19.64816326465186, 21.69263092062587, 8.093103708888737, 3.414160547578795, 5.864140662675901, 3.514743056990173, 3.42863809265196, 3.88945577859091, 3.641229083103227, 3.9881691753117128, 3.674511012789732, 3.0477043089162015, 10.11700693411496, 19.975223671735456, 5.951042203844641, 4.284797414569761, 4.284797414569761, 4.284774869766755, 4.28461771539901, 3.4516060962129527, 3.448573332457715, 2.6185364339506463, 2.6185364339506463, 2.6184657503621116, 2.6184679880021515, 2.6184679880021515, 2.618450940472953, 2.6184261538889855, 2.6183210270972763, 2.618294414899596, 2.618209729116664, 11.54048390583253, 1.7853657034356185, 1.7853657029145222, 1.7853657029145222, 1.785365619473769, 1.785365582548, 1.785365582548, 1.785365582548, 1.785365582548, 1.785365582548, 1.7853655654678051, 3.429908749053164, 2.6185736777599042, 2.6185736777599042, 2.618887218069344, 7.4030655507482335, 3.4532941216821347, 25.17705869484139, 3.4526193790981266, 3.3011362579727823, 22.980589865087406, 3.7673639659301257, 6.672092812607991, 4.286148952428798, 7.182375462865788, 11.594591756184602, 3.4521563639701336, 5.9631151180739295, 3.9485023618689863, 3.7221678765040696, 3.3909082707171354, 3.654635850191623, 3.451652755239918, 2.729215160661842, 8.427061337058463, 4.272750056817048, 3.441924067735678, 3.4415511589475725, 2.6112507056998235, 2.6111264816910653, 2.6110950641642536, 2.6110950641642536, 2.610985115779868, 5.103595889557648, 5.103595889557502, 1.7803987646995816, 1.7803987470009186, 1.7803987470009186, 1.7803987380498993, 1.7803987380498993, 1.7803986833673238, 1.7803986833673238, 1.7803985535692932, 1.7803984777609978, 1.7803983684909548, 1.7803139735762374, 1.780201139941923, 1.7802011399419224, 1.7801406719877424, 1.780108384566888, 1.7801082133512078, 1.7800861729881186, 1.7800318784390807, 10.037559399519914, 5.103961159733608, 3.4424487231859433, 4.272974571774151, 5.476560141570172, 8.957246911892227, 2.6113758459041043, 3.522936084136704, 8.147787973219183, 3.4420185555757494, 3.370181776471153, 25.06661303458094, 4.1170282012826735, 4.274361910504098, 6.132933854413487, 2.611139069658454, 9.374879674202981, 4.881912439301171, 2.6116807820547505, 7.402206902914852, 8.705986566209411, 4.274772834484197, 4.735397502852396, 4.345650329612963, 5.302098520982677, 3.2493917621561295, 3.1448229923472604, 4.206724615598832, 3.388365368532878, 3.3883651941620867, 15.483385451960192, 6.661561730293391, 2.570878915211572, 2.570878915211572, 1.7529975109714597, 1.7529975109714597, 1.7529975109714597, 1.7529974427131245, 1.7529973071197313, 1.7529972859361838, 1.7529972358284118, 1.7529970415288163, 1.7528486687740628, 1.7528486687740628, 1.7528486687740628, 1.7528487719067216, 1.7527746404222835, 1.752701794060154, 1.7523043441734898, 1.7514686762861302, 3.3893168332506387, 1.6832056724300681, 1.683205672430066, 5.844847375301632, 1.7530721575172528, 1.7528700908911452, 1.752798472389992, 6.039780897382002, 2.5706194718856485, 5.843122111983953, 19.652278602321708, 17.515826152177684, 7.285644759658972, 4.089595495536527, 7.286137742216206, 6.464128000183756, 4.678517903470935, 2.5709111047901088, 6.23527695164959, 5.372932166533463, 2.9486522255067875, 2.2042358246867617, 2.179816766983147, 2.753235901330104, 2.1392985462831864, 1.7537832775033184, 1.7534625917126259, 1.7534318283700365, 14.379063017027987, 4.0758695526195154, 3.283418033186216, 3.2833568878888943, 2.4909105750372227, 2.4908823307795758, 2.490834818207089, 2.490834818207089, 2.490834818207089, 2.4903920869384533, 2.4902186059418234, 1.698348211539852, 1.698348211539852, 1.6983481923194674, 1.6983481539745915, 1.6983481204793687, 1.6983481053918141, 1.6983481053918141, 1.6983479672199777, 1.69834791201837, 1.6983460984758603, 1.6982306524795243, 1.6982268381991903, 1.6982094131274708, 1.698177520437458, 1.698177520437458, 1.698177520437458, 1.6981185146069366, 1.698118368955035, 1.6973101265308748, 3.283403878676141, 3.2826652844760176, 4.076199929490072, 16.460505132132315, 3.283248248980294, 34.91768161470272, 2.491608437928538, 12.780046444201458, 3.2824174683026133, 3.9413035067472495, 3.606847226974806, 2.4909374990279436, 2.4918542569996056, 3.0940785938049173, 5.052220960137134, 3.073808805355488, 2.9938864323420358, 2.5940624373061842, 2.0019802138940155], \"Term\": [\"conference\", \"strive\", \"uxpa\", \"local meetups\", \"qrca\", \"design\", \"local\", \"meetups\", \"user\", \"user research\", \"london\", \"epic\", \"research\", \"workshop\", \"uxr\", \"event\", \"toronto\", \"service design\", \"specifically\", \"service\", \"research london\", \"summit\", \"day\", \"user research london\", \"australia\", \"specifically research\", \"ux\", \"group\", \"boston\", \"uxpa boston\", \"user research\", \"research london\", \"user research london\", \"user\", \"ux insight\", \"focused research\", \"research design\", \"marketing\", \"research meetup\", \"speaking\", \"good\", \"ux research design\", \"london\", \"insight\", \"research method\", \"ux research meetup\", \"singapore\", \"meetups ux research\", \"conference year\", \"insight user\", \"insight user research\", \"ux insight user\", \"meetup talk\", \"specifically focused research\", \"specifically focused\", \"2019 ux\", \"local ux research\", \"meet ux\", \"research london conference\", \"london conference\", \"speaker\", \"local meetup\", \"just\", \"year\", \"wa\", \"ux research\", \"research\", \"meetup\", \"focused\", \"ux\", \"nyc\", \"local\", \"2019\", \"design\", \"topic\", \"talk\", \"meetups\", \"event\", \"epic\", \"conference\", \"attended\", \"service\", \"week\", \"australia\", \"ux australia\", \"nux\", \"ups\", \"meet ups\", \"young\", \"indi young\", \"indi\", \"service design day\", \"design day\", \"world\", \"steve\", \"world usability\", \"bay\", \"bay area\", \"world ia\", \"world ia day\", \"day workshop\", \"uk\", \"ia day\", \"world usability day\", \"usability day\", \"design workshop\", \"steve portigal\", \"portigal\", \"research australia\", \"design research australia\", \"mentoring\", \"norman group\", \"manchester\", \"service design\", \"service\", \"day\", \"design\", \"research focused\", \"dinner\", \"design research\", \"design conference\", \"uxpa event\", \"meet\", \"conference\", \"event\", \"workshop\", \"uxpa\", \"ux\", \"group\", \"research\", \"ia\", \"local\", \"chi\", \"meetup\", \"focused\", \"epic\", \"ux conference\", \"ux brighton\", \"brighton\", \"workshop ux\", \"prague\", \"online webinars\", \"conference workshop\", \"jtbd\", \"thinking\", \"design thinking\", \"content\", \"monday\", \"ux monday\", \"workshop ux research\", \"workshop user\", \"general\", \"day ux\", \"iiex\", \"company\", \"prague ux\", \"berlin\", \"bratislava\", \"design sprint\", \"grace\", \"grace hopper\", \"hopper\", \"tuesday\", \"research tuesday\", \"uie\", \"playbook\", \"online\", \"online course\", \"course\", \"webinars\", \"researcher\", \"ux\", \"local event\", \"event\", \"workshop\", \"research meetups\", \"nielsen\", \"conference\", \"meetups\", \"research\", \"design\", \"norman\", \"local\", \"ops\", \"week\", \"meetup\", \"talk\", \"uxpa\", \"london\", \"topic\", \"toronto\", \"strive\", \"strive conference\", \"radical research\", \"radical\", \"conference toronto\", \"uxr conference\", \"fluxible\", \"ux research conference\", \"radical research summit\", \"research summit\", \"strive conference toronto\", \"strive ux research\", \"strive ux\", \"collective\", \"uxr toronto\", \"conference ve\", \"product management\", \"research day\", \"uxr\", \"uxr collective\", \"summit vancouver\", \"research summit vancouver\", \"conference ve attended\", \"sharon\", \"tomer sharon\", \"tomer\", \"research tomer sharon\", \"research tomer\", \"attended wa\", \"ux meetups\", \"applied\", \"society applied\", \"field\", \"chi\", \"product\", \"conference\", \"focus\", \"management\", \"research\", \"research conference\", \"ux research\", \"session\", \"epic\", \"ux\", \"anthropology\", \"meetups\", \"year\", \"attended\", \"2019\", \"day\", \"summit\", \"wa\", \"specifically research\", \"enterprise\", \"designops\", \"research event\", \"time\", \"enterprise ux\", \"ops workshop\", \"research ops workshop\", \"attended conference\", \"people nerd\", \"nerd\", \"mixed method\", \"attended specifically research\", \"attended specifically\", \"2018 research ops\", \"2018 research\", \"practice\", \"community practice\", \"storytelling\", \"forum\", \"boston area\", \"couple meetups\", \"people nerd dscout\", \"nerd dscout\", \"conducting research\", \"recently\", \"oriented\", \"uxr meetups\", \"haven attended\", \"specifically\", \"ia summit\", \"great\", \"research ops\", \"people\", \"attended\", \"specific research\", \"dscout\", \"talk\", \"method\", \"haven\", \"research\", \"ops\", \"ve\", \"summit\", \"couple\", \"workshop\", \"ia\", \"data\", \"event\", \"meetups\", \"2018\", \"epic\", \"uxpa\", \"ux\", \"2017\", \"specific\", \"spain\", \"ux spain\", \"fighter\", \"local meetups\", \"uxpa boston\", \"research rewind\", \"rewind\", \"called\", \"called research\", \"called research rewind\", \"meetups workshop\", \"free\", \"gur summit\", \"business\", \"small\", \"conference hosted\", \"conference hosted dscout\", \"hosted dscout\", \"experience fighter\", \"attended local meetups\", \"meetups philly\", \"couple local\", \"asist\", \"hosted\", \"fighter service\", \"fighter service design\", \"lot\", \"know\", \"attended local\", \"philly\", \"boston\", \"canux\", \"group\", \"local\", \"meetups\", \"summit\", \"attend\", \"uxpa\", \"workshop\", \"meetup\", \"experience\", \"research\", \"ux\", \"attended\", \"people\", \"ve\", \"conference\", \"design\", \"baychi\", \"nyc\", \"online\", \"qrca\", \"quirk\", \"annual\", \"testing\", \"uxpa conference\", \"worldwide\", \"annual conference\", \"qrca annual conference\", \"qrca annual\", \"conference qrca\", \"qrca conference\", \"chapter\", \"chapter meeting\", \"honolulu\", \"conference sf\", \"worldwide conference\", \"uxpa international boston\", \"international boston\", \"uxpa 2019\", \"chi conference\", \"sadly\", \"user testing\", \"annual conference qrca\", \"usability testing\", \"reilly design conference\", \"reilly design\", \"reilly\", \"boston uxpa\", \"international conference\", \"ux 2017\", \"uxpa international\", \"training\", \"international\", \"uxpa\", \"epic conference\", \"conference\", \"meeting\", \"epic\", \"aaa\", \"nng\", \"course\", \"epic 2018\", \"sf\", \"boston\", \"local\", \"2019\", \"2018\", \"chi\", \"webinars\"], \"Total\": [129.0, 21.0, 44.0, 19.0, 15.0, 59.0, 64.0, 68.0, 25.0, 21.0, 33.0, 39.0, 162.0, 51.0, 15.0, 46.0, 10.0, 19.0, 14.0, 19.0, 16.0, 19.0, 24.0, 15.0, 12.0, 9.0, 131.0, 12.0, 12.0, 8.0, 21.081667741754394, 16.681337160257904, 15.801270092819747, 25.38707202370841, 7.880663062492998, 6.12051938940406, 5.240461639694362, 4.360412711782014, 4.3604068159657565, 4.360400290856092, 4.360403503674004, 4.360398323653607, 33.298573131545794, 11.225950865179167, 3.480347402510201, 3.480337580704357, 3.480342708565012, 3.4803258381228472, 3.4803077073801996, 2.600280857143858, 2.600280857143858, 2.600280857143858, 2.600280854799089, 2.6002808517428004, 2.6002808517428004, 2.6002808504391215, 2.6002808460362394, 2.6002808458217466, 2.6002808442476035, 2.6002808442476035, 5.152863970281802, 5.178472827384861, 7.842938027875501, 20.76011351302229, 18.11378819593091, 24.117977682593715, 162.15935989302818, 31.96215522640193, 12.178214906510608, 131.09900256217432, 9.454638765916968, 64.30600883643133, 14.348182242256039, 59.66722489896225, 9.49482449421158, 23.996988234258158, 68.6567182522991, 46.48573255081001, 39.96944126570259, 129.80091299535385, 22.74548349820332, 19.887156604816244, 12.95339994201579, 12.901463722179512, 10.31693783103715, 7.732319398536974, 6.009276352730726, 6.009276352730726, 5.1477511791514745, 5.1477511791514745, 5.1477511791514745, 5.1477388591321755, 5.147738859132179, 10.336578731794647, 4.286233392984183, 4.286233390178794, 4.286234076804657, 4.286234076804657, 4.286236367765375, 4.286236367765375, 4.2862327137047584, 4.286244134038533, 5.151196768756354, 3.4247119854147825, 3.4247119854147825, 3.4247119854016113, 3.4247119849059287, 3.4247119849059287, 3.42470861746061, 3.42470861746061, 3.4247122847775158, 3.424714678474734, 3.424712549397281, 19.00335467561552, 19.887156604816244, 24.78524589216675, 59.66722489896225, 6.0278160903612505, 6.027818186024572, 14.611720575651022, 5.912398211559242, 6.877316937220287, 11.22190692214511, 129.80091299535385, 46.48573255081001, 51.119250877388914, 44.55621638664729, 131.09900256217432, 12.597265583697348, 162.15935989302818, 16.043702603017664, 64.30600883643133, 18.442834182935588, 31.96215522640193, 12.178214906510608, 39.96944126570259, 7.756601778234541, 6.028899163719672, 6.028899163719672, 5.164118929466898, 6.012980131925294, 3.4345318081097433, 3.43453178211569, 3.434533646553785, 3.434533770254981, 3.434533770254981, 3.4345340079581543, 3.434529675318762, 3.434529675318762, 3.4345279347174476, 3.434539059928164, 3.4345148685581144, 3.4345230791676458, 3.4344061307367695, 5.956683653444939, 2.5697371375967033, 2.5697371375967033, 2.5697371375967033, 2.569737129550377, 2.5697371259948425, 2.5697371259948425, 2.5697371259948425, 2.569737121378281, 2.569737121378281, 2.5697370971480544, 2.569737095674808, 15.318658766062661, 5.076104770445692, 10.034478551804467, 14.414305372993294, 7.661538875499914, 131.09900256217432, 6.010221225316388, 46.48573255081001, 51.119250877388914, 7.698622868213635, 6.021943862510137, 129.80091299535385, 68.6567182522991, 162.15935989302818, 59.66722489896225, 6.883255225053343, 64.30600883643133, 9.344086917026265, 12.95339994201579, 31.96215522640193, 23.996988234258158, 44.55621638664729, 33.298573131545794, 9.49482449421158, 10.838197637625493, 21.62748476013032, 6.672335657358348, 5.0060054408573285, 5.0060054408573285, 5.00600166834689, 5.006000591950702, 4.172825834899986, 4.1729506339053355, 3.3396600042912485, 3.3396600042912485, 3.3396565648892587, 3.3396638552972737, 3.3396638552972737, 3.339664813282516, 3.3396637496467974, 3.3396560996025575, 3.3396722322982604, 3.339678381183965, 15.98604274571419, 2.5064892585016514, 2.5064892585109093, 2.5064892585109093, 2.506489258390456, 2.5064892584064706, 2.5064892584064706, 2.5064892584064706, 2.5064892584064706, 2.5064892584064706, 2.5064892583479623, 5.03845262833998, 4.157725566146931, 4.157725566146931, 4.219676423768409, 18.442834182935588, 6.661252322933322, 129.80091299535385, 6.735720696875277, 6.744188191796899, 162.15935989302818, 8.410544601302071, 24.117977682593715, 11.829926302109447, 39.96944126570259, 131.09900256217432, 7.56908768391028, 68.6567182522991, 20.76011351302229, 22.74548349820332, 14.348182242256039, 24.78524589216675, 19.938939842834785, 18.11378819593091, 9.148677387013187, 4.994409628793499, 4.16355086991381, 4.16356939415928, 3.332706304289649, 3.3327058090605957, 3.332714538427856, 3.332714538427856, 3.3327097402357277, 6.617840111316802, 6.6178401113168, 2.5018534575090547, 2.5018534574683646, 2.5018534574683646, 2.501853457538858, 2.501853457538858, 2.5018534576286426, 2.5018534576286426, 2.50185345800493, 2.5018534579997507, 2.50185345821599, 2.5018495582523737, 2.501861525811743, 2.5018615258117425, 2.5018494889966894, 2.5018653120165215, 2.501865312429052, 2.501857787241843, 2.501870105464213, 14.283843830262754, 7.548302456180216, 5.028311080893601, 6.7240042552303105, 9.077784877085708, 22.74548349820332, 4.212765475776762, 6.677542497419074, 23.996988234258158, 6.803753454616734, 6.730751019845904, 162.15935989302818, 9.344086917026265, 10.779537069924594, 19.938939842834785, 4.999065842140842, 51.119250877388914, 16.043702603017664, 5.058931223079623, 46.48573255081001, 68.6567182522991, 15.987100306483665, 39.96944126570259, 44.55621638664729, 131.09900256217432, 10.090409263504853, 9.411219349364965, 4.930505311276217, 4.11246032140344, 4.112460329491083, 19.03631776771989, 8.215514596269179, 3.294347902898854, 3.294347902898854, 2.4762789250005324, 2.4762789250005324, 2.4762789250005324, 2.4762789264656213, 2.4762789294138865, 2.4762789298352264, 2.4762789309150985, 2.4762789351121994, 2.4762812516641612, 2.4762812516641612, 2.4762812516641612, 2.476286817211384, 2.47629581167965, 2.4762843852230896, 2.476290599261614, 2.476262026542607, 4.904981673350145, 2.481556762959063, 2.4815567629590634, 9.159801406027096, 3.307130603713054, 3.3071471644501322, 3.3071357202342093, 12.235494797078363, 4.960673396197669, 12.597265583697348, 64.30600883643133, 68.6567182522991, 19.938939842834785, 9.252145082273211, 44.55621638664729, 51.119250877388914, 31.96215522640193, 6.799290462502306, 162.15935989302818, 131.09900256217432, 22.74548349820332, 9.077784877085708, 10.779537069924594, 129.80091299535385, 59.66722489896225, 5.981226389026106, 9.454638765916968, 15.318658766062661, 15.106295200643032, 4.802978559567489, 4.0104030119991485, 4.010409605341984, 3.2178354387066146, 3.2178380125494623, 3.2178423468528767, 3.2178423468528767, 3.2178423468528767, 3.217882693483002, 3.217895643911151, 2.4252728760310567, 2.4252728760310567, 2.425272877262163, 2.4252728796509815, 2.425272881764738, 2.425272882663801, 2.425272882663801, 2.425272891351479, 2.425272894771104, 2.4252730081618994, 2.425285831008038, 2.4252839373096258, 2.425285521889542, 2.4252820784398907, 2.4252820784398907, 2.4252820784398907, 2.425280269040732, 2.4252802781263942, 2.425323040643421, 4.841258092376524, 4.843638678012218, 7.295514210168623, 44.55621638664729, 5.739989858407421, 129.80091299535385, 4.097824913101638, 39.96944126570259, 6.632103441098728, 9.928706706068809, 10.034478551804467, 5.710392675048626, 6.654971491109118, 12.235494797078363, 64.30600883643133, 14.348182242256039, 15.987100306483665, 18.442834182935588, 14.414305372993294], \"loglift\": [30.0, 29.0, 28.0, 27.0, 26.0, 25.0, 24.0, 23.0, 22.0, 21.0, 20.0, 19.0, 18.0, 17.0, 16.0, 15.0, 14.0, 13.0, 12.0, 11.0, 10.0, 9.0, 8.0, 7.0, 6.0, 5.0, 4.0, 3.0, 2.0, 1.0, 1.4288, 1.4195, 1.417, 1.3993, 1.3682, 1.3391, 1.3167, 1.2844, 1.2843, 1.2843, 1.2843, 1.2843, 1.2579, 1.2341, 1.2336, 1.2335, 1.2335, 1.2333, 1.2333, 1.1421, 1.1421, 1.1421, 1.1421, 1.1421, 1.1421, 1.1421, 1.1421, 1.1421, 1.1421, 1.1421, 1.1169, 1.1124, 1.0563, 0.9756, 0.9077, 0.8437, 0.5505, 0.7737, 0.8641, 0.4102, 0.9044, 0.2986, 0.6842, 0.106, 0.8223, 0.4387, -0.239, -0.1592, -0.315, -1.2143, -0.0623, -0.0083, 0.3025, 1.6382, 1.6221, 1.5985, 1.5688, 1.5688, 1.5459, 1.5459, 1.5459, 1.5457, 1.5457, 1.5213, 1.5128, 1.5128, 1.5128, 1.5128, 1.5128, 1.5128, 1.5127, 1.5123, 1.5084, 1.4609, 1.4609, 1.4609, 1.4609, 1.4609, 1.4609, 1.4609, 1.4609, 1.4609, 1.4609, 1.4529, 1.3957, 1.3483, 1.1254, 1.3881, 1.3881, 1.1818, 1.3253, 1.2561, 1.0952, 0.0698, 0.4028, 0.3427, 0.4031, -0.133, 0.9794, -0.39, 0.8226, -0.167, 0.5784, 0.1779, 0.785, -0.3126, 1.6864, 1.6597, 1.6597, 1.6368, 1.5768, 1.5523, 1.5523, 1.5522, 1.5522, 1.5522, 1.5522, 1.5521, 1.5521, 1.5521, 1.5521, 1.5521, 1.5521, 1.5517, 1.4941, 1.4593, 1.4593, 1.4593, 1.4593, 1.4593, 1.4593, 1.4593, 1.4593, 1.4593, 1.4593, 1.4593, 1.3055, 1.3837, 1.2422, 1.1432, 1.2302, 0.6226, 1.269, 0.7685, 0.7236, 1.181, 1.2351, 0.3979, 0.5351, -0.2253, -0.2115, 1.0851, -0.6085, 0.8085, 0.4571, -0.32, -0.0993, -0.6271, -0.4178, 0.6499, 2.0437, 2.0331, 1.9982, 1.957, 1.957, 1.957, 1.957, 1.9229, 1.9219, 1.8694, 1.8694, 1.8693, 1.8693, 1.8693, 1.8693, 1.8693, 1.8693, 1.8693, 1.8692, 1.7868, 1.7733, 1.7733, 1.7733, 1.7733, 1.7733, 1.7733, 1.7733, 1.7733, 1.7733, 1.7733, 1.728, 1.6503, 1.6503, 1.6356, 1.1998, 1.4556, 0.4725, 1.4443, 1.3982, 0.1587, 1.3095, 0.8276, 1.0974, 0.3961, -0.3128, 1.3275, -0.3309, 0.4529, 0.3025, 0.6701, 0.1984, 0.3588, 0.2199, 2.09, 2.0161, 1.9818, 1.9817, 1.9282, 1.9282, 1.9281, 1.9281, 1.9281, 1.9123, 1.9123, 1.832, 1.832, 1.832, 1.832, 1.832, 1.832, 1.832, 1.832, 1.832, 1.832, 1.8319, 1.8318, 1.8318, 1.8318, 1.8318, 1.8318, 1.8318, 1.8317, 1.8194, 1.7808, 1.7933, 1.7188, 1.6668, 1.2402, 1.6939, 1.5327, 1.092, 1.4907, 1.4804, 0.3051, 1.3525, 1.2471, 0.9932, 1.5227, 0.476, 0.9824, 1.511, 0.3348, 0.107, 0.8531, 0.0391, -0.1554, -1.0357, 1.039, 1.076, 2.1988, 2.1639, 2.1639, 2.151, 2.1479, 2.1096, 2.1096, 2.0121, 2.0121, 2.0121, 2.0121, 2.0121, 2.0121, 2.0121, 2.0121, 2.012, 2.012, 2.012, 2.012, 2.012, 2.012, 2.0117, 2.0113, 1.9879, 1.9694, 1.9694, 1.9083, 1.7228, 1.7227, 1.7227, 1.6516, 1.7002, 1.5893, 1.1721, 0.9915, 1.3508, 1.5411, 0.5468, 0.2897, 0.436, 1.385, -0.9008, -0.837, 0.3145, 0.9421, 0.7591, -1.4957, -0.9708, 1.1307, 0.6726, 0.1901, 2.381, 2.2662, 2.2303, 2.2303, 2.1743, 2.1743, 2.1743, 2.1743, 2.1743, 2.1741, 2.174, 2.0741, 2.0741, 2.0741, 2.0741, 2.0741, 2.0741, 2.0741, 2.0741, 2.0741, 2.0741, 2.074, 2.074, 2.074, 2.074, 2.074, 2.074, 2.0739, 2.0739, 2.0734, 2.0421, 2.0413, 1.8483, 1.4346, 1.8717, 1.1173, 1.9328, 1.2901, 1.727, 1.5064, 1.4072, 1.6007, 1.448, 1.0555, -0.1135, 0.8896, 0.7551, 0.4689, 0.4563], \"logprob\": [30.0, 29.0, 28.0, 27.0, 26.0, 25.0, 24.0, 23.0, 22.0, 21.0, 20.0, 19.0, 18.0, 17.0, 16.0, 15.0, 14.0, 13.0, 12.0, 11.0, 10.0, 9.0, 8.0, 7.0, 6.0, 5.0, 4.0, 3.0, 2.0, 1.0, -3.7062, -3.9496, -4.0063, -3.5499, -4.7508, -5.0326, -5.2103, -5.4265, -5.4265, -5.4265, -5.4266, -5.4266, -3.42, -4.5311, -5.7027, -5.7028, -5.7028, -5.7029, -5.7029, -6.0857, -6.0857, -6.0857, -6.0857, -6.0857, -6.0857, -6.0857, -6.0857, -6.0857, -6.0857, -6.0857, -5.4269, -5.4265, -5.0675, -4.1748, -4.379, -4.1568, -2.5444, -3.9451, -4.8197, -2.8973, -5.0324, -3.7212, -4.8356, -3.9886, -5.1103, -4.5668, -4.1932, -4.5034, -4.8103, -4.5317, -5.1213, -5.2017, -5.3195, -3.9879, -4.2275, -4.5395, -4.8213, -4.8213, -4.999, -4.999, -4.999, -4.9991, -4.9991, -4.3264, -5.2152, -5.2152, -5.2152, -5.2152, -5.2152, -5.2152, -5.2153, -5.2157, -5.0357, -5.4914, -5.4914, -5.4914, -5.4914, -5.4914, -5.4915, -5.4915, -5.4915, -5.4915, -5.4915, -3.7859, -3.7976, -3.6248, -2.9692, -4.9989, -4.9989, -4.3198, -5.081, -4.9991, -4.6704, -3.2476, -3.9414, -3.9066, -3.9836, -3.4404, -4.6705, -3.4848, -4.5855, -4.1868, -4.6903, -4.5409, -4.8987, -4.8079, -4.4485, -4.7272, -4.7272, -4.9048, -4.8127, -5.3973, -5.3973, -5.3973, -5.3973, -5.3973, -5.3973, -5.3974, -5.3974, -5.3974, -5.3974, -5.3974, -5.3975, -5.3978, -4.9048, -5.7802, -5.7802, -5.7802, -5.7802, -5.7802, -5.7802, -5.7802, -5.7802, -5.7802, -5.7802, -5.7802, -4.1489, -5.1752, -4.6352, -4.372, -4.917, -2.6848, -5.1209, -3.5757, -3.5256, -4.9614, -5.1529, -2.9195, -3.4191, -3.3202, -4.3061, -5.1692, -4.6283, -5.1402, -5.165, -5.0389, -5.1048, -5.0138, -5.0957, -5.2827, -3.7566, -3.0763, -4.2872, -4.6157, -4.6157, -4.6157, -4.6158, -4.832, -4.8328, -5.1082, -5.1082, -5.1082, -5.1082, -5.1082, -5.1082, -5.1082, -5.1083, -5.1083, -5.1083, -3.6249, -5.4912, -5.4912, -5.4912, -5.4912, -5.4912, -5.4912, -5.4912, -5.4912, -5.4912, -5.4912, -4.8383, -5.1082, -5.1082, -5.108, -4.0689, -4.8315, -2.8449, -4.8317, -4.8765, -2.9361, -4.7444, -4.1729, -4.6154, -4.0992, -3.6203, -4.8318, -4.2852, -4.6975, -4.7565, -4.8497, -4.7748, -4.8319, -5.0668, -3.8798, -4.559, -4.7752, -4.7753, -5.0514, -5.0515, -5.0515, -5.0515, -5.0515, -4.3813, -4.3813, -5.4344, -5.4344, -5.4344, -5.4344, -5.4344, -5.4344, -5.4344, -5.4344, -5.4344, -5.4344, -5.4345, -5.4345, -5.4345, -5.4346, -5.4346, -5.4346, -5.4346, -5.4346, -3.7049, -4.3812, -4.7751, -4.5589, -4.3108, -3.8188, -5.0514, -4.7519, -3.9135, -4.7752, -4.7963, -2.7897, -4.5961, -4.5586, -4.1976, -5.0515, -3.7732, -4.4257, -5.0513, -4.0095, -3.8472, -4.5585, -4.4562, -4.5421, -4.3431, -4.8328, -4.8655, -4.3892, -4.6055, -4.6055, -3.0861, -3.9295, -4.8816, -4.8816, -5.2645, -5.2645, -5.2645, -5.2645, -5.2645, -5.2645, -5.2645, -5.2645, -5.2646, -5.2646, -5.2646, -5.2646, -5.2646, -5.2647, -5.2649, -5.2654, -4.6052, -5.3051, -5.3051, -4.0603, -5.2645, -5.2646, -5.2646, -4.0275, -4.8817, -4.0606, -2.8477, -2.9627, -3.8399, -4.4174, -3.8399, -3.9596, -4.2829, -4.8816, -3.9956, -4.1445, -4.7445, -5.0355, -5.0466, -4.8131, -5.0654, -5.2641, -5.2643, -5.2643, -3.0873, -4.348, -4.5642, -4.5642, -4.8404, -4.8404, -4.8404, -4.8404, -4.8404, -4.8406, -4.8407, -5.2234, -5.2234, -5.2234, -5.2234, -5.2234, -5.2234, -5.2234, -5.2234, -5.2234, -5.2234, -5.2235, -5.2235, -5.2235, -5.2235, -5.2235, -5.2235, -5.2235, -5.2235, -5.224, -4.5642, -4.5644, -4.3479, -2.9521, -4.5642, -2.2001, -4.8401, -3.2052, -4.5645, -4.3815, -4.4702, -4.8404, -4.84, -4.6236, -4.1332, -4.6301, -4.6565, -4.7998, -5.0589]}, \"token.table\": {\"Topic\": [1, 2, 3, 5, 7, 1, 2, 3, 4, 5, 7, 5, 5, 1, 4, 6, 7, 1, 1, 2, 7, 7, 7, 7, 1, 4, 6, 4, 6, 6, 1, 2, 3, 4, 6, 1, 2, 3, 4, 5, 6, 5, 5, 6, 6, 5, 5, 4, 2, 2, 2, 1, 3, 6, 3, 5, 6, 7, 5, 7, 3, 3, 6, 6, 6, 6, 4, 6, 7, 7, 1, 2, 4, 6, 7, 7, 4, 5, 3, 7, 5, 1, 2, 3, 4, 6, 7, 6, 6, 7, 7, 4, 4, 4, 3, 1, 3, 4, 5, 6, 5, 3, 7, 2, 3, 5, 2, 3, 4, 7, 3, 2, 1, 2, 3, 6, 2, 7, 2, 1, 2, 6, 2, 3, 3, 2, 5, 1, 2, 2, 4, 5, 6, 5, 5, 1, 2, 3, 4, 5, 7, 5, 7, 3, 7, 1, 2, 3, 5, 1, 3, 6, 6, 1, 4, 6, 6, 6, 4, 1, 3, 4, 6, 1, 2, 1, 5, 6, 3, 1, 3, 3, 3, 5, 2, 6, 6, 1, 3, 5, 6, 5, 7, 3, 6, 7, 6, 1, 2, 5, 6, 7, 2, 2, 5, 3, 2, 2, 1, 7, 1, 1, 5, 7, 7, 7, 3, 1, 2, 3, 5, 6, 1, 2, 3, 4, 5, 6, 7, 1, 3, 5, 1, 6, 1, 6, 1, 1, 2, 3, 1, 1, 4, 6, 1, 3, 4, 6, 2, 1, 1, 2, 5, 2, 1, 1, 7, 1, 2, 3, 6, 1, 1, 2, 3, 4, 5, 6, 6, 1, 6, 2, 1, 5, 5, 3, 5, 7, 5, 2, 3, 2, 3, 4, 5, 7, 2, 3, 2, 2, 1, 3, 4, 6, 1, 2, 3, 6, 7, 3, 7, 3, 1, 3, 5, 5, 5, 5, 6, 7, 5, 7, 5, 5, 6, 3, 2, 5, 3, 4, 3, 3, 4, 5, 7, 4, 7, 7, 7, 7, 7, 4, 4, 4, 5, 7, 7, 7, 1, 2, 3, 4, 5, 6, 7, 2, 1, 2, 4, 7, 4, 1, 5, 1, 2, 1, 1, 1, 1, 3, 4, 5, 1, 3, 5, 5, 6, 4, 4, 4, 4, 3, 2, 3, 6, 6, 7, 1, 2, 1, 2, 2, 1, 2, 3, 4, 5, 1, 2, 3, 5, 7, 4, 1, 6, 4, 6, 6, 1, 7, 1, 1, 3, 5, 1, 5, 1, 4, 5, 1, 1, 5, 2, 2, 5, 4, 7, 4, 4, 4, 4, 2, 4, 5, 6, 4, 1, 2, 3, 5, 7, 3, 5, 4, 4, 1, 3, 7, 4, 4, 7, 3, 3, 2, 2, 2, 7, 1, 7, 1, 1, 7, 1, 2, 3, 4, 5, 6, 7, 7, 2, 3, 3, 1, 1, 3, 4, 3, 1, 3, 4, 5, 4, 1, 1, 6, 2, 3, 5, 6, 7, 7, 5, 6, 7, 2, 3, 5, 7, 7, 1, 2, 4, 4, 4, 5, 4, 3, 4, 5, 6, 7, 1, 2, 3, 4, 5, 2, 3, 5, 6, 7, 1, 2, 3, 6, 1, 2, 3, 5, 6, 3, 3, 3, 1, 2, 2, 2, 2, 2, 7, 7, 1, 2, 4, 5, 2], \"Freq\": [0.19820801592593779, 0.19820801592593779, 0.09910400796296889, 0.29731202388890665, 0.19820801592593779, 0.18765129025826727, 0.1251008601721782, 0.1251008601721782, 0.0625504300860891, 0.2502017203443564, 0.18765129025826727, 0.7994073329808273, 0.7994073329808273, 0.4878666775910252, 0.20908571896758224, 0.06969523965586075, 0.20908571896758224, 0.7691476863594372, 0.30156345083614433, 0.15078172541807217, 0.4523451762542165, 0.7480544950280515, 0.6215344893935049, 0.8246457122948687, 0.26423263721087936, 0.396348955816319, 0.26423263721087936, 0.7215483447071701, 0.24051611490239005, 0.8076689698272477, 0.21616608713064073, 0.10808304356532036, 0.10808304356532036, 0.10808304356532036, 0.43233217426128145, 0.21982386087308073, 0.04396477217461614, 0.04396477217461614, 0.17585908869846456, 0.39568294957154526, 0.13189431652384842, 0.9001684016405838, 0.3023754161137448, 0.6047508322274896, 0.8076579504624761, 0.7994073330033518, 0.7994073330033518, 0.797928813514329, 0.9301270195698986, 0.9332201481123864, 0.9332201481123864, 0.5015693780633632, 0.16718979268778775, 0.3343795853755755, 0.7782897210531273, 0.24518828619144614, 0.4903765723828923, 0.24518828619144614, 0.799407332764466, 0.8246469595825549, 0.7782897210531273, 0.829338800371498, 0.8076634562572919, 0.8076634581863875, 0.8076634581863875, 0.8076634581863875, 0.4031710697852009, 0.6047566046778013, 0.8246494733710077, 0.8246494733710077, 0.054221601196483116, 0.3253296071788987, 0.3795512083753818, 0.054221601196483116, 0.16266480358944935, 0.8246494669989536, 0.8982937413564377, 0.7994073329521388, 0.671514593138864, 0.167878648284716, 0.7994086010354104, 0.06933695451219322, 0.2003067574796693, 0.24653139382113146, 0.19260265142275895, 0.023112318170731075, 0.26964371199186254, 0.8076626993221868, 0.8076626993221868, 0.6215266964362897, 0.8246494721401486, 0.7990408843233371, 0.8982960851439228, 0.7979288135008014, 0.8734815079078941, 0.8619927466868293, 0.8734809418246271, 0.4000747465937562, 0.6001121198906343, 0.8076596505258165, 0.7994085789063462, 0.5979383950071865, 0.39862559667145764, 0.1976702105452326, 0.1976702105452326, 0.5930106316356978, 0.7262385081153788, 0.08069316756837541, 0.16138633513675082, 0.040346583784187706, 0.8734837212760986, 0.9332204448933533, 0.2513942960377379, 0.5698270710188725, 0.13407695788679352, 0.03351923947169838, 0.6765444168120577, 0.16913610420301442, 0.777040193657829, 0.27375283966664415, 0.6159438892499494, 0.13687641983332208, 0.8759869335174192, 0.7782897234900976, 0.8734810022780118, 0.8759860720516017, 0.7205388125982242, 0.16589750538901268, 0.6635900215560507, 0.14975569236534375, 0.14975569236534375, 0.599022769461375, 0.14975569236534375, 0.8008954605844537, 0.9001694634563688, 0.17513379667898024, 0.12509556905641445, 0.07505734143384866, 0.17513379667898024, 0.12509556905641445, 0.32524847954667757, 0.5253579168221482, 0.35023861121476546, 0.3484326713697202, 0.5226490070545804, 0.19360779116824256, 0.2796556983541281, 0.3657036055400137, 0.15058383757529975, 0.4412225093993008, 0.14707416979976692, 0.4412225093993008, 0.8076608840700675, 0.23698499590329813, 0.7109549877098944, 0.7294903195750098, 0.8059456990277167, 0.8059456990277166, 0.7189372666621021, 0.14846221288004166, 0.14846221288004166, 0.445386638640125, 0.14846221288004166, 0.5747968855647081, 0.4105692039747915, 0.8169241337027833, 0.7994073328335601, 0.8076634567469273, 0.8734858094411065, 0.9173462952751199, 0.7782897245669532, 0.7782897245669532, 0.19887393280017315, 0.5966217984005194, 0.47629384013026227, 0.47629384013026227, 0.807663456609503, 0.14857183055077475, 0.14857183055077475, 0.44571549165232427, 0.14857183055077475, 0.7994020135705275, 0.8246494729524028, 0.7782897245669532, 0.611623080326613, 0.20387436010887097, 0.8076626993221868, 0.12465950345052018, 0.4363082620768206, 0.3116487586263004, 0.06232975172526009, 0.06232975172526009, 0.7765185799659744, 0.26496023597497587, 0.6624005899374397, 0.873513465152248, 0.7770383339816624, 0.7770383339816624, 0.8017138243421628, 0.1781586276315917, 0.7691476843762158, 0.7691476843762158, 0.41121159024247317, 0.5482821203232976, 0.8246494711157196, 0.824646956493236, 0.873481033738075, 0.6375161938330912, 0.12750323876661823, 0.12750323876661823, 0.3023769302842948, 0.6047538605685896, 0.3110129265038353, 0.15550646325191764, 0.09330387795115058, 0.031101292650383527, 0.031101292650383527, 0.3110129265038353, 0.07775323162595882, 0.16638322659202254, 0.6655329063680901, 0.16638322659202254, 0.7724285003190811, 0.19310712507977026, 0.1575935029350653, 0.7879675146753264, 0.7691476876617837, 0.8108455546529479, 0.06006263367799615, 0.1201252673559923, 0.7691476881908516, 0.21834534520410143, 0.10917267260205071, 0.6550360356123043, 0.14827581490331507, 0.14827581490331507, 0.4448274447099452, 0.14827581490331507, 0.8759859277906327, 0.9173443580677205, 0.3564456582781374, 0.5346684874172061, 0.08911141456953435, 0.8320469398495723, 0.7691476877252293, 0.24403190014360604, 0.4880638002872121, 0.5005920247450462, 0.21900901082595767, 0.12514800618626154, 0.15643500773282693, 0.7691476850697846, 0.1893478210279104, 0.05826086800858782, 0.2913043400429391, 0.08739130201288173, 0.13108695301932258, 0.26217390603864515, 0.8076616772834107, 0.8619882561392825, 0.8076634577085339, 0.8759859954760821, 0.4409330849524433, 0.4409330849524433, 0.7994073329903503, 0.8734820437158013, 0.7555335148472049, 0.15110670296944098, 0.7994047549658405, 0.33211867225317115, 0.4981780083797568, 0.30215415650925453, 0.10071805216975152, 0.10071805216975152, 0.10071805216975152, 0.4028722086790061, 0.4358402967655105, 0.4358402967655105, 0.8759853832074883, 0.9052911085546291, 0.5288409344653655, 0.10576818689307312, 0.10576818689307312, 0.21153637378614623, 0.06527986655172612, 0.06527986655172612, 0.587518798965535, 0.13055973310345223, 0.13055973310345223, 0.5910043499233358, 0.19700144997444527, 0.8734815012970004, 0.1070195524591982, 0.4280782098367928, 0.4280782098367928, 0.9001671056457156, 0.799403545052634, 0.5507951628839631, 0.22031806515358526, 0.11015903257679263, 0.7555335148472047, 0.15110670296944095, 0.7994047549658404, 0.30237646247223887, 0.6047529249444777, 0.7782897337499048, 0.8759860721783894, 0.7994073329521388, 0.8315344289020713, 0.16630688578041425, 0.7782897210531273, 0.15012192175294212, 0.4503657652588263, 0.15012192175294212, 0.15012192175294212, 0.8982917458146759, 0.926765948503645, 0.6215344893935049, 0.6215344893935049, 0.6215241951007228, 0.8328165429829032, 0.7990402821685627, 0.7990402821685627, 0.8982950348673795, 0.799403545184447, 0.8246463443487524, 0.8246463443487524, 0.8246463443487524, 0.4008402601174463, 0.12333546465152193, 0.13566901111667412, 0.1418357843492502, 0.1541693308144024, 0.03700063939545658, 0.006166773232576097, 0.8759869335174192, 0.2377967295590314, 0.1188983647795157, 0.4755934591180628, 0.1188983647795157, 0.8982900919149155, 0.9541144165863246, 0.7205356068301507, 0.16589756306584155, 0.6635902522633662, 0.9591557227270041, 0.7691476881908516, 0.9173455984322113, 0.12989336107485377, 0.5195734442994151, 0.12989336107485377, 0.12989336107485377, 0.8619829152216959, 0.29744181057653063, 0.5948836211530613, 0.9001671056457156, 0.9106506320598856, 0.8982950348673795, 0.7979288134624556, 0.7979288134957031, 0.7979288134957031, 0.7782897259651594, 0.1305220813011603, 0.5220883252046412, 0.2610441626023206, 0.9106506320598856, 0.8246494284434348, 0.25141854611780484, 0.7542556383534145, 0.21048915143033503, 0.7893343178637563, 0.7770401936578295, 0.08453138037061866, 0.253594141111856, 0.08453138037061866, 0.33812552148247466, 0.253594141111856, 0.15026360388410018, 0.15026360388410018, 0.15026360388410018, 0.15026360388410018, 0.30052720776820036, 0.7979288134957031, 0.8619840777797819, 0.8076634548883649, 0.7215483447071701, 0.24051611490239005, 0.8112758728505731, 0.7762673385265487, 0.19406683463163718, 0.917346971191644, 0.31876847076170095, 0.31876847076170095, 0.31876847076170095, 0.23737376451406117, 0.7121212935421836, 0.21002749929567205, 0.07000916643189069, 0.7000916643189068, 0.7691476859738167, 0.7691476859738167, 0.8744433388105074, 0.9332202969971963, 0.8759860721783894, 0.7994073328319051, 0.9247492356054948, 0.04623746178027474, 0.8992353364871736, 0.8982959599917659, 0.8982939990327142, 0.8982939990327142, 0.15045935358885562, 0.15045935358885562, 0.30091870717771124, 0.3510718250406631, 0.7979288134624556, 0.3750470647458825, 0.1250156882486275, 0.16668758433150332, 0.33337516866300665, 0.7480532651836639, 0.8734810022780118, 0.9001693296941856, 0.7979288134957031, 0.7979288134957031, 0.5266026773900031, 0.3159616064340019, 0.10532053547800062, 0.9226626358320283, 0.20645635780792596, 0.6193690734237779, 0.7782897259651594, 0.7782897333037064, 0.9332179584066688, 0.8320469398495723, 0.8759860720482328, 0.8246451735059213, 0.945363056345645, 0.039390127347735206, 0.9486915477938189, 0.9492907792783156, 0.8246450683995158, 0.3508798625541356, 0.1601842850790619, 0.31274074705912086, 0.09153387718803538, 0.038139115495014746, 0.038139115495014746, 0.007627823099002949, 0.8246324165829118, 0.9692798545239185, 0.829338800371498, 0.9024570553102768, 0.8882501313012099, 0.7691476843762158, 0.1984736334277038, 0.5954209002831113, 0.8734820437158013, 0.5390170009727757, 0.12438853868602517, 0.2902399236007254, 0.041462846228675056, 0.718915765651508, 0.9173473850545776, 0.861985347810098, 0.7294903210096393, 0.2693226887998548, 0.0897742295999516, 0.0897742295999516, 0.1571049017999153, 0.3590969183998064, 0.8246494681617059, 0.12172092061696525, 0.8520464443187568, 0.62153582372251, 0.5816221698831205, 0.29081108494156027, 0.20655787832809183, 0.6196736349842755, 0.8246494711157196, 0.12510913625175898, 0.12510913625175898, 0.750654817510554, 0.7979288134654028, 0.7990410561340563, 0.7994059495303636, 0.8982940274503024, 0.09276836226947502, 0.18553672453895004, 0.3710734490779001, 0.18553672453895004, 0.09276836226947502, 0.55206563595827, 0.05520656359582699, 0.05520656359582699, 0.16561969078748098, 0.16561969078748098, 0.2081265744252105, 0.5550041984672279, 0.06937552480840349, 0.06937552480840349, 0.13875104961680698, 0.30879923556019884, 0.30879923556019884, 0.23159942667014913, 0.07719980889004971, 0.07824840801353139, 0.254307326043977, 0.35211783606089125, 0.17605891803044563, 0.11737261202029707, 0.8734796569944228, 0.7745754996415095, 0.873482486392065, 0.09674380914103278, 0.870694282269295, 0.9332196493133196, 0.9332196493133196, 0.9332202976079997, 0.8759860720482328, 0.6215353265764361, 0.8246494714214219, 0.6262008149351125, 0.14450788036964135, 0.19267717382618849, 0.04816929345654712, 0.7770383339816624], \"Term\": [\"2017\", \"2017\", \"2017\", \"2017\", \"2017\", \"2018\", \"2018\", \"2018\", \"2018\", \"2018\", \"2018\", \"2018 research\", \"2018 research ops\", \"2019\", \"2019\", \"2019\", \"2019\", \"2019 ux\", \"aaa\", \"aaa\", \"aaa\", \"annual\", \"annual conference\", \"annual conference qrca\", \"anthropology\", \"anthropology\", \"anthropology\", \"applied\", \"applied\", \"asist\", \"attend\", \"attend\", \"attend\", \"attend\", \"attend\", \"attended\", \"attended\", \"attended\", \"attended\", \"attended\", \"attended\", \"attended conference\", \"attended local\", \"attended local\", \"attended local meetups\", \"attended specifically\", \"attended specifically research\", \"attended wa\", \"australia\", \"bay\", \"bay area\", \"baychi\", \"baychi\", \"baychi\", \"berlin\", \"boston\", \"boston\", \"boston\", \"boston area\", \"boston uxpa\", \"bratislava\", \"brighton\", \"business\", \"called\", \"called research\", \"called research rewind\", \"canux\", \"canux\", \"chapter\", \"chapter meeting\", \"chi\", \"chi\", \"chi\", \"chi\", \"chi\", \"chi conference\", \"collective\", \"community practice\", \"company\", \"company\", \"conducting research\", \"conference\", \"conference\", \"conference\", \"conference\", \"conference\", \"conference\", \"conference hosted\", \"conference hosted dscout\", \"conference qrca\", \"conference sf\", \"conference toronto\", \"conference ve\", \"conference ve attended\", \"conference workshop\", \"conference year\", \"content\", \"couple\", \"couple\", \"couple local\", \"couple meetups\", \"course\", \"course\", \"data\", \"data\", \"data\", \"day\", \"day\", \"day\", \"day\", \"day ux\", \"day workshop\", \"design\", \"design\", \"design\", \"design\", \"design conference\", \"design conference\", \"design day\", \"design research\", \"design research\", \"design research\", \"design research australia\", \"design sprint\", \"design thinking\", \"design workshop\", \"designops\", \"dinner\", \"dinner\", \"dscout\", \"dscout\", \"dscout\", \"dscout\", \"enterprise\", \"enterprise ux\", \"epic\", \"epic\", \"epic\", \"epic\", \"epic\", \"epic\", \"epic 2018\", \"epic 2018\", \"epic conference\", \"epic conference\", \"event\", \"event\", \"event\", \"event\", \"experience\", \"experience\", \"experience\", \"experience fighter\", \"field\", \"field\", \"fighter\", \"fighter service\", \"fighter service design\", \"fluxible\", \"focus\", \"focus\", \"focus\", \"focus\", \"focused\", \"focused\", \"focused research\", \"forum\", \"free\", \"general\", \"good\", \"grace\", \"grace hopper\", \"great\", \"great\", \"group\", \"group\", \"gur summit\", \"haven\", \"haven\", \"haven\", \"haven\", \"haven attended\", \"honolulu\", \"hopper\", \"hosted\", \"hosted\", \"hosted dscout\", \"ia\", \"ia\", \"ia\", \"ia\", \"ia\", \"ia day\", \"ia summit\", \"ia summit\", \"iiex\", \"indi\", \"indi young\", \"insight\", \"insight\", \"insight user\", \"insight user research\", \"international\", \"international\", \"international boston\", \"international conference\", \"jtbd\", \"just\", \"just\", \"just\", \"know\", \"know\", \"local\", \"local\", \"local\", \"local\", \"local\", \"local\", \"local\", \"local event\", \"local event\", \"local event\", \"local meetup\", \"local meetup\", \"local meetups\", \"local meetups\", \"local ux research\", \"london\", \"london\", \"london\", \"london conference\", \"lot\", \"lot\", \"lot\", \"management\", \"management\", \"management\", \"management\", \"manchester\", \"marketing\", \"meet\", \"meet\", \"meet\", \"meet ups\", \"meet ux\", \"meeting\", \"meeting\", \"meetup\", \"meetup\", \"meetup\", \"meetup\", \"meetup talk\", \"meetups\", \"meetups\", \"meetups\", \"meetups\", \"meetups\", \"meetups\", \"meetups philly\", \"meetups ux research\", \"meetups workshop\", \"mentoring\", \"method\", \"method\", \"mixed method\", \"monday\", \"nerd\", \"nerd\", \"nerd dscout\", \"nielsen\", \"nielsen\", \"nng\", \"nng\", \"nng\", \"nng\", \"nng\", \"norman\", \"norman\", \"norman group\", \"nux\", \"nyc\", \"nyc\", \"nyc\", \"nyc\", \"online\", \"online\", \"online\", \"online\", \"online\", \"online course\", \"online course\", \"online webinars\", \"ops\", \"ops\", \"ops\", \"ops workshop\", \"oriented\", \"people\", \"people\", \"people\", \"people nerd\", \"people nerd\", \"people nerd dscout\", \"philly\", \"philly\", \"playbook\", \"portigal\", \"practice\", \"prague\", \"prague\", \"prague ux\", \"product\", \"product\", \"product\", \"product\", \"product management\", \"qrca\", \"qrca annual\", \"qrca annual conference\", \"qrca conference\", \"quirk\", \"radical\", \"radical research\", \"radical research summit\", \"recently\", \"reilly\", \"reilly design\", \"reilly design conference\", \"research\", \"research\", \"research\", \"research\", \"research\", \"research\", \"research\", \"research australia\", \"research conference\", \"research conference\", \"research conference\", \"research conference\", \"research day\", \"research design\", \"research event\", \"research focused\", \"research focused\", \"research london\", \"research london conference\", \"research meetup\", \"research meetups\", \"research meetups\", \"research meetups\", \"research meetups\", \"research method\", \"research ops\", \"research ops\", \"research ops workshop\", \"research rewind\", \"research summit\", \"research summit vancouver\", \"research tomer\", \"research tomer sharon\", \"research tuesday\", \"researcher\", \"researcher\", \"researcher\", \"rewind\", \"sadly\", \"service\", \"service\", \"service design\", \"service design\", \"service design day\", \"session\", \"session\", \"session\", \"session\", \"session\", \"sf\", \"sf\", \"sf\", \"sf\", \"sf\", \"sharon\", \"singapore\", \"small\", \"society applied\", \"society applied\", \"spain\", \"speaker\", \"speaker\", \"speaking\", \"specific\", \"specific\", \"specific\", \"specific research\", \"specific research\", \"specifically\", \"specifically\", \"specifically\", \"specifically focused\", \"specifically focused research\", \"specifically research\", \"steve\", \"steve portigal\", \"storytelling\", \"strive\", \"strive\", \"strive conference\", \"strive conference toronto\", \"strive ux\", \"strive ux research\", \"summit\", \"summit\", \"summit\", \"summit\", \"summit vancouver\", \"talk\", \"talk\", \"talk\", \"talk\", \"testing\", \"thinking\", \"time\", \"tomer\", \"tomer sharon\", \"topic\", \"topic\", \"topic\", \"toronto\", \"training\", \"training\", \"tuesday\", \"uie\", \"uk\", \"ups\", \"usability day\", \"usability testing\", \"user\", \"user\", \"user research\", \"user research london\", \"user testing\", \"ux\", \"ux\", \"ux\", \"ux\", \"ux\", \"ux\", \"ux\", \"ux 2017\", \"ux australia\", \"ux brighton\", \"ux conference\", \"ux insight\", \"ux insight user\", \"ux meetups\", \"ux meetups\", \"ux monday\", \"ux research\", \"ux research\", \"ux research\", \"ux research\", \"ux research conference\", \"ux research design\", \"ux research meetup\", \"ux spain\", \"uxpa\", \"uxpa\", \"uxpa\", \"uxpa\", \"uxpa\", \"uxpa 2019\", \"uxpa boston\", \"uxpa boston\", \"uxpa conference\", \"uxpa event\", \"uxpa event\", \"uxpa international\", \"uxpa international\", \"uxpa international boston\", \"uxr\", \"uxr\", \"uxr\", \"uxr collective\", \"uxr conference\", \"uxr meetups\", \"uxr toronto\", \"ve\", \"ve\", \"ve\", \"ve\", \"ve\", \"wa\", \"wa\", \"wa\", \"wa\", \"wa\", \"webinars\", \"webinars\", \"webinars\", \"webinars\", \"webinars\", \"week\", \"week\", \"week\", \"week\", \"workshop\", \"workshop\", \"workshop\", \"workshop\", \"workshop\", \"workshop user\", \"workshop ux\", \"workshop ux research\", \"world\", \"world\", \"world ia\", \"world ia day\", \"world usability\", \"world usability day\", \"worldwide\", \"worldwide conference\", \"year\", \"year\", \"year\", \"year\", \"young\"]}, \"R\": 30, \"lambda.step\": 0.01, \"plot.opts\": {\"xlab\": \"PC1\", \"ylab\": \"PC2\"}, \"topic.order\": [2, 4, 3, 7, 1, 6, 5]};\n",
       "\n",
       "function LDAvis_load_lib(url, callback){\n",
       "  var s = document.createElement('script');\n",
       "  s.src = url;\n",
       "  s.async = true;\n",
       "  s.onreadystatechange = s.onload = callback;\n",
       "  s.onerror = function(){console.warn(\"failed to load library \" + url);};\n",
       "  document.getElementsByTagName(\"head\")[0].appendChild(s);\n",
       "}\n",
       "\n",
       "if(typeof(LDAvis) !== \"undefined\"){\n",
       "   // already loaded: just create the visualization\n",
       "   !function(LDAvis){\n",
       "       new LDAvis(\"#\" + \"ldavis_el328611124063821763299766631\", ldavis_el328611124063821763299766631_data);\n",
       "   }(LDAvis);\n",
       "}else if(typeof define === \"function\" && define.amd){\n",
       "   // require.js is available: use it to load d3/LDAvis\n",
       "   require.config({paths: {d3: \"https://cdnjs.cloudflare.com/ajax/libs/d3/3.5.5/d3.min\"}});\n",
       "   require([\"d3\"], function(d3){\n",
       "      window.d3 = d3;\n",
       "      LDAvis_load_lib(\"https://cdn.rawgit.com/bmabey/pyLDAvis/files/ldavis.v1.0.0.js\", function(){\n",
       "        new LDAvis(\"#\" + \"ldavis_el328611124063821763299766631\", ldavis_el328611124063821763299766631_data);\n",
       "      });\n",
       "    });\n",
       "}else{\n",
       "    // require.js not available: dynamically load d3 & LDAvis\n",
       "    LDAvis_load_lib(\"https://cdnjs.cloudflare.com/ajax/libs/d3/3.5.5/d3.min.js\", function(){\n",
       "         LDAvis_load_lib(\"https://cdn.rawgit.com/bmabey/pyLDAvis/files/ldavis.v1.0.0.js\", function(){\n",
       "                 new LDAvis(\"#\" + \"ldavis_el328611124063821763299766631\", ldavis_el328611124063821763299766631_data);\n",
       "            })\n",
       "         });\n",
       "}\n",
       "</script>"
      ],
      "text/plain": [
       "PreparedData(topic_coordinates=              x         y  topics  cluster       Freq\n",
       "topic                                                \n",
       "1     -0.137903  0.012575       1        1  23.146554\n",
       "3     -0.054751 -0.162626       2        1  18.343887\n",
       "2     -0.061720 -0.044171       3        1  16.758350\n",
       "6      0.089242  0.134281       4        1  12.092242\n",
       "0     -0.043853  0.101827       5        1  11.393207\n",
       "5     -0.005344  0.038405       6        1   9.465154\n",
       "4      0.214330 -0.080291       7        1   8.800605, topic_info=    Category        Freq           Term       Total  loglift  logprob\n",
       "102  Default  129.000000     conference  129.000000  30.0000  30.0000\n",
       "516  Default   21.000000         strive   21.000000  29.0000  29.0000\n",
       "598  Default   44.000000           uxpa   44.000000  28.0000  28.0000\n",
       "282  Default   19.000000  local meetups   19.000000  27.0000  27.0000\n",
       "407  Default   15.000000           qrca   15.000000  26.0000  26.0000\n",
       "..       ...         ...            ...         ...      ...      ...\n",
       "277   Topic7    5.052221          local   64.306009  -0.1135  -4.1332\n",
       "9     Topic7    3.073809           2019   14.348182   0.8896  -4.6301\n",
       "4     Topic7    2.993886           2018   15.987100   0.7551  -4.6565\n",
       "84    Topic7    2.594062            chi   18.442834   0.4689  -4.7998\n",
       "621   Topic7    2.001980       webinars   14.414305   0.4563  -5.0589\n",
       "\n",
       "[399 rows x 6 columns], token_table=      Topic      Freq   Term\n",
       "term                        \n",
       "2         1  0.198208   2017\n",
       "2         2  0.198208   2017\n",
       "2         3  0.099104   2017\n",
       "2         5  0.297312   2017\n",
       "2         7  0.198208   2017\n",
       "...     ...       ...    ...\n",
       "637       1  0.626201   year\n",
       "637       2  0.144508   year\n",
       "637       4  0.192677   year\n",
       "637       5  0.048169   year\n",
       "639       2  0.777038  young\n",
       "\n",
       "[527 rows x 3 columns], R=30, lambda_step=0.01, plot_opts={'xlab': 'PC1', 'ylab': 'PC2'}, topic_order=[2, 4, 3, 7, 1, 6, 5])"
      ]
     },
     "execution_count": 65,
     "metadata": {},
     "output_type": "execute_result"
    }
   ],
   "source": [
    "pyLDAvis.sklearn.prepare(lda16, events_attend_recent_matrix, events_attend_recent_vector)"
   ]
  },
  {
   "cell_type": "markdown",
   "metadata": {},
   "source": [
    "# Topic groups (4)\n",
    "\n",
    "1. day\n",
    "2. london\n",
    "3. epic\n",
    "4. uxpa\n",
    "\n",
    "#### Topic groups (6)\n",
    "1. london\n",
    "2. summit\n",
    "3. session\n",
    "4. design research\n",
    "5. epic\n",
    "6. uxr\n",
    "\n",
    "#### Topic groups (8)\n",
    "Heavy overlap among 6 of the 8 topics\n",
    "1. local meetups\n",
    "2. qrca\n",
    "3. design research\n",
    "4. uxpa\n",
    "5. attended\n",
    "6. epic\n",
    "7. user research\n",
    "8. focused\n"
   ]
  },
  {
   "cell_type": "code",
   "execution_count": null,
   "metadata": {},
   "outputs": [],
   "source": [
    "#7 topics"
   ]
  },
  {
   "cell_type": "code",
   "execution_count": null,
   "metadata": {},
   "outputs": [],
   "source": [
    "lda_W16 = lda16.transform(events_attend_recent_matrix)"
   ]
  },
  {
   "cell_type": "code",
   "execution_count": null,
   "metadata": {},
   "outputs": [],
   "source": [
    "top_doc_column16 = datadf.events_attend_recent.dropna()"
   ]
  },
  {
   "cell_type": "code",
   "execution_count": null,
   "metadata": {},
   "outputs": [],
   "source": [
    "word_count_matrix16, count_vect16 = nlp.create_wordcount_matrix(datadf.events_attend_recent.dropna(), max_df=0.8, min_df=2, ngram=(1,3))"
   ]
  },
  {
   "cell_type": "code",
   "execution_count": null,
   "metadata": {},
   "outputs": [],
   "source": [
    "LDA16a = LatentDirichletAllocation(n_components=5, random_state=42)\n",
    "LDA16a.fit(word_count_matrix16)"
   ]
  },
  {
   "cell_type": "code",
   "execution_count": null,
   "metadata": {},
   "outputs": [],
   "source": [
    "lda_H = LDA16a.transform(word_count_matrix16)"
   ]
  },
  {
   "cell_type": "code",
   "execution_count": null,
   "metadata": {},
   "outputs": [],
   "source": [
    "nlp.find_top_documents_per_topic(lda_H, top_doc_column16, 3)"
   ]
  },
  {
   "cell_type": "markdown",
   "metadata": {},
   "source": [
    " "
   ]
  },
  {
   "cell_type": "markdown",
   "metadata": {},
   "source": [
    "## 20. Did we miss any other types of conference sessions that you'd like to mention?"
   ]
  },
  {
   "cell_type": "code",
   "execution_count": null,
   "metadata": {},
   "outputs": [],
   "source": [
    "other_conference_types = datadf.other_conference_types.fillna('nan').apply(nlp.basic_clean)\n",
    "other_conference_types = other_conference_types.apply(nlp.lemmatize)"
   ]
  },
  {
   "cell_type": "code",
   "execution_count": null,
   "metadata": {},
   "outputs": [],
   "source": [
    "other_conference_types.shape"
   ]
  },
  {
   "cell_type": "code",
   "execution_count": null,
   "metadata": {},
   "outputs": [],
   "source": [
    "other_conference_types_matrix, other_conference_types_vector = nlp.create_wordcount_matrix(other_conference_types, ngram=(1,3), max_df=.3)\n",
    "other_conference_types_matrix, other_conference_types_vector"
   ]
  },
  {
   "cell_type": "code",
   "execution_count": null,
   "metadata": {},
   "outputs": [],
   "source": [
    "lda20 = LatentDirichletAllocation(n_components= 3, random_state = 42)"
   ]
  },
  {
   "cell_type": "code",
   "execution_count": null,
   "metadata": {},
   "outputs": [],
   "source": [
    "lda20.fit(other_conference_types_matrix)"
   ]
  },
  {
   "cell_type": "code",
   "execution_count": null,
   "metadata": {
    "scrolled": true
   },
   "outputs": [],
   "source": [
    "pyLDAvis.sklearn.prepare(lda20, other_conference_types_matrix, other_conference_types_vector)"
   ]
  },
  {
   "cell_type": "markdown",
   "metadata": {},
   "source": [
    "#### Topic groups (4)\n",
    "1. case study\n",
    "2. talk\n",
    "3. poster session\n",
    "4. nope\n",
    "\n",
    "#### Topic groups (6)\n",
    "1. reatreat\n",
    "2. working\n",
    "3. quality\n",
    "4. case study\n",
    "5. panel discussion\n",
    "6. tutorial\n",
    "\n",
    "#### Topic groups (8) - 3 is completely inside 1; 4 and 5 share about 75% of the same area\n",
    "1. working\n",
    "2. case study\n",
    "3. nice\n",
    "4. outside\n",
    "5. variety\n",
    "6. multitrack\n",
    "7. panel\n",
    "8. method"
   ]
  },
  {
   "cell_type": "code",
   "execution_count": null,
   "metadata": {},
   "outputs": [],
   "source": [
    "#4 topics"
   ]
  },
  {
   "cell_type": "code",
   "execution_count": null,
   "metadata": {},
   "outputs": [],
   "source": [
    "lda_W20 = lda20.transform(other_conference_types_matrix)"
   ]
  },
  {
   "cell_type": "code",
   "execution_count": null,
   "metadata": {},
   "outputs": [],
   "source": [
    "top_doc_column20 = datadf.other_conference_types.dropna()"
   ]
  },
  {
   "cell_type": "code",
   "execution_count": null,
   "metadata": {},
   "outputs": [],
   "source": [
    "word_count_matrix20, count_vect20 = nlp.create_wordcount_matrix(datadf.other_conference_types.dropna(), max_df=0.8, min_df=2, ngram=(1,3))"
   ]
  },
  {
   "cell_type": "code",
   "execution_count": null,
   "metadata": {},
   "outputs": [],
   "source": [
    "LDA20a = LatentDirichletAllocation(n_components=6, random_state=42)\n",
    "LDA20a.fit(word_count_matrix20)"
   ]
  },
  {
   "cell_type": "code",
   "execution_count": null,
   "metadata": {},
   "outputs": [],
   "source": [
    "lda_H = LDA20a.transform(word_count_matrix20)"
   ]
  },
  {
   "cell_type": "code",
   "execution_count": null,
   "metadata": {},
   "outputs": [],
   "source": [
    "nlp.find_top_documents_per_topic(lda_H, top_doc_column20, 3)"
   ]
  },
  {
   "cell_type": "markdown",
   "metadata": {},
   "source": [
    "## 21. Subjects you most want to see covered at a research conference"
   ]
  },
  {
   "cell_type": "code",
   "execution_count": 3,
   "metadata": {},
   "outputs": [],
   "source": [
    "stop_words = ['nan', 'Nan', 'NaN', 'NAN']\n",
    "\n",
    "stopWords = nlp.set_stop_words(stop_words)"
   ]
  },
  {
   "cell_type": "code",
   "execution_count": 5,
   "metadata": {},
   "outputs": [],
   "source": [
    "ideal_topics = datadf.ideal_topics.fillna('nan')\n",
    "ideal_topics = ideal_topics.apply(nlp.basic_clean)\n",
    "ideal_topics = ideal_topics.apply(nlp.lemmatize)"
   ]
  },
  {
   "cell_type": "code",
   "execution_count": 6,
   "metadata": {},
   "outputs": [
    {
     "data": {
      "text/plain": [
       "(<726x1122 sparse matrix of type '<class 'numpy.int64'>'\n",
       " \twith 5854 stored elements in Compressed Sparse Row format>,\n",
       " CountVectorizer(analyzer='word', binary=False, decode_error='strict',\n",
       "                 dtype=<class 'numpy.int64'>, encoding='utf-8', input='content',\n",
       "                 lowercase=True, max_df=0.3, max_features=None, min_df=2,\n",
       "                 ngram_range=(1, 3), preprocessor=None,\n",
       "                 stop_words=['nan', 'Nan', 'NaN', 'NAN', 'am', 'however',\n",
       "                             'whatever', 'bottom', 'namely', 'most', 'whole',\n",
       "                             'since', 'among', 'than', 'anyone', 'hers', 'every',\n",
       "                             'yet', 'few', 'sixty', 'together', 'serious',\n",
       "                             'latter', 'find', 'cant', 'until', 'none', 'up',\n",
       "                             'he', 'meanwhile', ...],\n",
       "                 strip_accents=None, token_pattern='(?u)\\\\b\\\\w\\\\w+\\\\b',\n",
       "                 tokenizer=None, vocabulary=None))"
      ]
     },
     "execution_count": 6,
     "metadata": {},
     "output_type": "execute_result"
    }
   ],
   "source": [
    "ideal_topics_matrix, ideal_topics_vector = nlp.create_wordcount_matrix(ideal_topics, ngram=(1,3), max_df=.3, stop_words=stopWords)\n",
    "ideal_topics_matrix, ideal_topics_vector"
   ]
  },
  {
   "cell_type": "code",
   "execution_count": 7,
   "metadata": {},
   "outputs": [],
   "source": [
    "lda21 = LatentDirichletAllocation(n_components= 4, random_state = 42)"
   ]
  },
  {
   "cell_type": "code",
   "execution_count": 8,
   "metadata": {},
   "outputs": [
    {
     "data": {
      "text/plain": [
       "LatentDirichletAllocation(batch_size=128, doc_topic_prior=None,\n",
       "                          evaluate_every=-1, learning_decay=0.7,\n",
       "                          learning_method='batch', learning_offset=10.0,\n",
       "                          max_doc_update_iter=100, max_iter=10,\n",
       "                          mean_change_tol=0.001, n_components=4, n_jobs=None,\n",
       "                          perp_tol=0.1, random_state=42, topic_word_prior=None,\n",
       "                          total_samples=1000000.0, verbose=0)"
      ]
     },
     "execution_count": 8,
     "metadata": {},
     "output_type": "execute_result"
    }
   ],
   "source": [
    "lda21.fit(ideal_topics_matrix)"
   ]
  },
  {
   "cell_type": "code",
   "execution_count": 9,
   "metadata": {
    "scrolled": true
   },
   "outputs": [
    {
     "data": {
      "text/html": [
       "\n",
       "<link rel=\"stylesheet\" type=\"text/css\" href=\"https://cdn.rawgit.com/bmabey/pyLDAvis/files/ldavis.v1.0.0.css\">\n",
       "\n",
       "\n",
       "<div id=\"ldavis_el328611123078614489888181427\"></div>\n",
       "<script type=\"text/javascript\">\n",
       "\n",
       "var ldavis_el328611123078614489888181427_data = {\"mdsDat\": {\"x\": [-0.14885950140192172, 0.0762249196689366, 0.04480711802748427, 0.027827463705500852], \"y\": [-0.008165098688361936, 0.007506320854327366, -0.10635984136060095, 0.1070186191946355], \"topics\": [1, 2, 3, 4], \"cluster\": [1, 1, 1, 1], \"Freq\": [28.152874889794738, 26.018037775811543, 23.396824323501516, 22.432263010892207]}, \"tinfo\": {\"Category\": [\"Default\", \"Default\", \"Default\", \"Default\", \"Default\", \"Default\", \"Default\", \"Default\", \"Default\", \"Default\", \"Default\", \"Default\", \"Default\", \"Default\", \"Default\", \"Default\", \"Default\", \"Default\", \"Default\", \"Default\", \"Default\", \"Default\", \"Default\", \"Default\", \"Default\", \"Default\", \"Default\", \"Default\", \"Default\", \"Default\", \"Topic1\", \"Topic1\", \"Topic1\", \"Topic1\", \"Topic1\", \"Topic1\", \"Topic1\", \"Topic1\", \"Topic1\", \"Topic1\", \"Topic1\", \"Topic1\", \"Topic1\", \"Topic1\", \"Topic1\", \"Topic1\", \"Topic1\", \"Topic1\", \"Topic1\", \"Topic1\", \"Topic1\", \"Topic1\", \"Topic1\", \"Topic1\", \"Topic1\", \"Topic1\", \"Topic1\", \"Topic1\", \"Topic1\", \"Topic1\", \"Topic1\", \"Topic1\", \"Topic1\", \"Topic1\", \"Topic1\", \"Topic1\", \"Topic1\", \"Topic1\", \"Topic1\", \"Topic1\", \"Topic1\", \"Topic1\", \"Topic1\", \"Topic1\", \"Topic1\", \"Topic1\", \"Topic1\", \"Topic1\", \"Topic1\", \"Topic1\", \"Topic1\", \"Topic1\", \"Topic1\", \"Topic1\", \"Topic1\", \"Topic1\", \"Topic1\", \"Topic1\", \"Topic1\", \"Topic1\", \"Topic1\", \"Topic2\", \"Topic2\", \"Topic2\", \"Topic2\", \"Topic2\", \"Topic2\", \"Topic2\", \"Topic2\", \"Topic2\", \"Topic2\", \"Topic2\", \"Topic2\", \"Topic2\", \"Topic2\", \"Topic2\", \"Topic2\", \"Topic2\", \"Topic2\", \"Topic2\", \"Topic2\", \"Topic2\", \"Topic2\", \"Topic2\", \"Topic2\", \"Topic2\", \"Topic2\", \"Topic2\", \"Topic2\", \"Topic2\", \"Topic2\", \"Topic2\", \"Topic2\", \"Topic2\", \"Topic2\", \"Topic2\", \"Topic2\", \"Topic2\", \"Topic2\", \"Topic2\", \"Topic2\", \"Topic2\", \"Topic2\", \"Topic2\", \"Topic2\", \"Topic2\", \"Topic2\", \"Topic2\", \"Topic2\", \"Topic2\", \"Topic2\", \"Topic2\", \"Topic2\", \"Topic2\", \"Topic2\", \"Topic2\", \"Topic2\", \"Topic2\", \"Topic2\", \"Topic2\", \"Topic2\", \"Topic2\", \"Topic2\", \"Topic2\", \"Topic3\", \"Topic3\", \"Topic3\", \"Topic3\", \"Topic3\", \"Topic3\", \"Topic3\", \"Topic3\", \"Topic3\", \"Topic3\", \"Topic3\", \"Topic3\", \"Topic3\", \"Topic3\", \"Topic3\", \"Topic3\", \"Topic3\", \"Topic3\", \"Topic3\", \"Topic3\", \"Topic3\", \"Topic3\", \"Topic3\", \"Topic3\", \"Topic3\", \"Topic3\", \"Topic3\", \"Topic3\", \"Topic3\", \"Topic3\", \"Topic3\", \"Topic3\", \"Topic3\", \"Topic3\", \"Topic3\", \"Topic3\", \"Topic3\", \"Topic3\", \"Topic3\", \"Topic3\", \"Topic3\", \"Topic3\", \"Topic3\", \"Topic3\", \"Topic3\", \"Topic3\", \"Topic3\", \"Topic3\", \"Topic3\", \"Topic3\", \"Topic3\", \"Topic3\", \"Topic3\", \"Topic3\", \"Topic3\", \"Topic3\", \"Topic3\", \"Topic3\", \"Topic3\", \"Topic3\", \"Topic3\", \"Topic3\", \"Topic3\", \"Topic3\", \"Topic3\", \"Topic3\", \"Topic3\", \"Topic3\", \"Topic3\", \"Topic4\", \"Topic4\", \"Topic4\", \"Topic4\", \"Topic4\", \"Topic4\", \"Topic4\", \"Topic4\", \"Topic4\", \"Topic4\", \"Topic4\", \"Topic4\", \"Topic4\", \"Topic4\", \"Topic4\", \"Topic4\", \"Topic4\", \"Topic4\", \"Topic4\", \"Topic4\", \"Topic4\", \"Topic4\", \"Topic4\", \"Topic4\", \"Topic4\", \"Topic4\", \"Topic4\", \"Topic4\", \"Topic4\", \"Topic4\", \"Topic4\", \"Topic4\", \"Topic4\", \"Topic4\", \"Topic4\", \"Topic4\", \"Topic4\", \"Topic4\", \"Topic4\", \"Topic4\", \"Topic4\", \"Topic4\", \"Topic4\", \"Topic4\", \"Topic4\", \"Topic4\", \"Topic4\", \"Topic4\", \"Topic4\", \"Topic4\", \"Topic4\", \"Topic4\", \"Topic4\", \"Topic4\", \"Topic4\", \"Topic4\", \"Topic4\", \"Topic4\", \"Topic4\", \"Topic4\", \"Topic4\", \"Topic4\", \"Topic4\", \"Topic4\", \"Topic4\", \"Topic4\"], \"Freq\": [51.0, 58.0, 43.0, 127.0, 28.0, 46.0, 14.0, 20.0, 14.0, 25.0, 12.0, 23.0, 12.0, 16.0, 15.0, 15.0, 10.0, 10.0, 26.0, 22.0, 17.0, 61.0, 19.0, 9.0, 39.0, 11.0, 18.0, 38.0, 38.0, 16.0, 50.77767415371145, 43.06436483104446, 27.52421440782678, 54.774195661006154, 5.352453215401697, 5.3518734356842685, 4.4983322577832245, 4.4983322577824145, 4.495066188908329, 4.495043666397244, 4.495032039190078, 4.4816114086156285, 3.643183126975753, 3.6403008478142, 3.6398793407226426, 3.6398793407226337, 3.638438409230492, 2.786030071722642, 2.7860286149248794, 2.78601979300442, 2.7860067651002374, 2.7859938573022003, 2.7859917695088336, 2.7859744848849544, 2.7859561983296675, 2.7859432305206475, 2.784336352023377, 2.784336352023376, 2.782691400301595, 2.78199246834978, 13.720456670293872, 6.856300799871232, 12.635478278049835, 9.794628918469256, 4.51348271091647, 15.965184932671303, 22.18252048458478, 4.442885330946415, 11.464722721113732, 8.073447519355364, 12.425717317638977, 44.591409821177734, 12.354135784491675, 13.81925309583353, 12.78084786347377, 7.923564067143795, 6.21626886843444, 7.582157292767934, 7.497722817767982, 7.435000918370366, 10.322934353044197, 8.811051231791224, 7.848609722568069, 11.280205027700235, 11.647979260427359, 11.473370607065782, 10.141538415511908, 7.258348172115833, 7.850896578474987, 8.215789706278272, 7.688930893738589, 6.150860668567402, 4.455757650139397, 4.455339608067208, 4.452408400094531, 3.6067469401100465, 3.60663641224843, 3.5986663253417004, 3.575462092040129, 6.94189949023348, 2.7583142141188093, 2.7583052379576656, 2.758300845592541, 2.758296964473401, 2.7571673473050278, 2.757091157151241, 2.7565338514389803, 2.7562760650616216, 2.7541484873435933, 2.753006313092349, 2.7528371037488726, 2.7511671458465066, 2.7320202050823315, 12.006278181101997, 5.305930566272885, 5.207598215054015, 12.113708459363632, 1.909602551560161, 1.9096012636439772, 1.9095999177332352, 1.9095938085713757, 8.711788030232071, 11.13570757248953, 6.120732484747931, 31.38930658541574, 15.196005531997983, 12.25233499797126, 12.418670825311882, 9.366901479581804, 6.7444918253568185, 11.04042486679926, 6.343261385190638, 10.907399790102588, 6.161818630253312, 16.127799683411176, 16.356996898291666, 15.455935014255616, 4.440446128752902, 11.210694183525424, 13.432800166796373, 7.833792399623239, 13.267586660972677, 10.290581843236705, 14.296075279804347, 12.09675355368061, 18.044735883741687, 7.867540253656784, 7.835091665605343, 10.160932748075359, 9.085062668982555, 7.8436853594690925, 9.1810929259251, 7.900466437670185, 8.63206021478407, 6.075987071690217, 12.502423908261921, 4.408637362106846, 4.408637362106846, 16.61376341419273, 2.7291401899952743, 2.729098537879649, 2.728594999136498, 2.726312441574917, 2.7248207961148156, 2.723180313095555, 2.721642216767977, 2.7209376162795533, 2.7208728780514893, 2.717550144181771, 2.7080940161806755, 2.7051041478003093, 11.46481499312602, 4.411162268742794, 1.8894073440597174, 1.8894073440597174, 1.8894045230333638, 1.8894019270309321, 1.8894006097701068, 1.8894001416041906, 1.8894001416041906, 1.8893988172681186, 1.889398772062485, 1.8893970261858213, 1.8893946120671168, 6.9321133618775885, 4.4051504627776055, 4.930957256447047, 4.90883395274033, 3.5702644360241647, 3.569539511029782, 3.568743451200096, 15.403460306799552, 3.5543049043963997, 6.10213005704429, 6.092691464126366, 6.050828173521858, 8.367808186192423, 6.0509029600071935, 8.769816789409695, 5.928838869922902, 7.59049391491894, 6.850464192724074, 17.56330683550227, 14.477743375376871, 12.368128390282202, 19.710269044715986, 11.655410354793725, 8.626545752408477, 15.077315330820745, 14.407515022378812, 10.710746160680303, 12.647864134326667, 11.664486970459347, 10.785810146865035, 10.587233746797057, 8.445986032041889, 7.347280725328918, 7.946004424390734, 9.046082996418443, 8.44693538278046, 6.7396024328392, 6.323388199394318, 6.171112193881494, 13.63884349233672, 5.243777495434272, 4.4044727433705235, 3.5675859760318573, 3.5628651737417925, 9.23770957718589, 9.237709576956302, 7.679942138488749, 10.264866370680485, 2.7300845378266585, 2.730026591110091, 2.7300051911412258, 2.729118178643771, 2.728507751313579, 2.7282960623697528, 2.726568885787798, 2.726568885782741, 2.725911939835755, 2.7252890148299778, 2.720284604007364, 2.71698950650069, 2.7129406064828934, 10.054157116398851, 2.616467316657389, 7.579122641997085, 1.8900401101646844, 1.8900401101646844, 1.8900397996605247, 1.890038696236122, 1.8900344033131122, 6.79770753632412, 6.092483015034091, 3.5720468790547835, 3.5718080877930984, 9.83204334844769, 58.32892890162377, 8.304508219557349, 10.444808444840863, 10.928759689485274, 9.164136293577943, 21.570140352626435, 5.250408584896436, 12.276915344000166, 5.886720165436074, 10.022618381293181, 4.412537712926643, 6.822053626335497, 6.091738353690465, 5.100636534270405, 4.364271739386626, 9.910204476932922, 6.463735992639604, 11.025657845911786, 12.014406317295453, 5.603060452788867, 8.547266083132252, 10.067957282799847, 11.161787846656912, 8.60573441330252, 7.38051075307484, 7.859534488573297, 7.168547062792517, 8.08692526070862, 7.425933218505618, 7.096921322810177, 6.926207237067801], \"Term\": [\"case\", \"study\", \"case study\", \"method\", \"organization\", \"data\", \"new method\", \"ops\", \"ai\", \"methodology\", \"working\", \"research method\", \"presentation\", \"quant\", \"qual\", \"research ops\", \"mixed method\", \"mixed\", \"ethic\", \"stakeholder\", \"need\", \"new\", \"finding\", \"know\", \"practice\", \"research finding\", \"project\", \"technique\", \"way\", \"problem\", \"case\", \"case study\", \"organization\", \"study\", \"ethic research\", \"research project\", \"case study research\", \"study research\", \"research organization\", \"accessibility\", \"selling\", \"research case\", \"selling research\", \"research case study\", \"method case\", \"method case study\", \"promoting\", \"large organization\", \"study best\", \"heard\", \"advanced research\", \"advanced method\", \"inhouse research\", \"align\", \"research stuff\", \"application research\", \"topic case study\", \"topic case\", \"research need\", \"interested learning\", \"need\", \"market\", \"project\", \"best practice\", \"kind\", \"ethic\", \"practice\", \"advice\", \"practical\", \"challenge\", \"research method\", \"method\", \"field\", \"best\", \"user\", \"user research\", \"hear\", \"example\", \"talk\", \"application\", \"people\", \"different\", \"advanced\", \"ux\", \"analysis\", \"team\", \"researcher\", \"process\", \"work\", \"design\", \"methodology\", \"value research\", \"data visualization\", \"real life\", \"qual quant\", \"present\", \"matter\", \"mentoring\", \"fit\", \"role\", \"avoiding bias\", \"outcome\", \"research action\", \"bias research\", \"writing\", \"everyday\", \"researcher role\", \"worked\", \"qual research\", \"engage\", \"gdpr\", \"creation\", \"research program\", \"qual\", \"visualization\", \"manager\", \"quant\", \"ux researcher role\", \"accessible\", \"gdpr research\", \"midcareer\", \"research finding\", \"bias\", \"apply\", \"data\", \"stakeholder\", \"finding\", \"management\", \"value\", \"advocating\", \"ux research\", \"buyin\", \"skill\", \"research technique\", \"technique\", \"ux\", \"way\", \"life\", \"qualitative\", \"researcher\", \"emerging\", \"design\", \"people\", \"new\", \"team\", \"method\", \"real\", \"technology\", \"product\", \"impact\", \"workshop\", \"best\", \"work\", \"analysis\", \"failure\", \"ai\", \"leading research\", \"leading research team\", \"ops\", \"growing research\", \"listening\", \"challenge research\", \"research social\", \"usability testing\", \"empathy\", \"research question\", \"org research\", \"research ai\", \"today\", \"roi\", \"ops research\", \"research ops\", \"enterprise\", \"research infrastructure\", \"infrastructure\", \"skill set\", \"scaling research practice\", \"compelling way\", \"special consideration\", \"consideration\", \"article\", \"foresight\", \"latest tool\", \"make good\", \"world\", \"latest\", \"storytelling\", \"deep\", \"research topic\", \"research planning\", \"actionable\", \"methodology\", \"organizational\", \"org\", \"testing\", \"book\", \"question\", \"creative\", \"good\", \"based\", \"synthesis\", \"planning\", \"team\", \"way\", \"user\", \"new\", \"topic\", \"research team\", \"analysis\", \"design\", \"approach\", \"technique\", \"product\", \"tool\", \"practice\", \"insight\", \"technology\", \"ethic\", \"data\", \"ux\", \"experience\", \"qualitative\", \"want\", \"new method\", \"operation\", \"leadership research\", \"don know\", \"working product\", \"mixed method\", \"mixed\", \"know\", \"working\", \"large orgs\", \"research want\", \"like new\", \"participatory\", \"new interesting\", \"philosophy\", \"know don\", \"know don know\", \"presentation skill\", \"research working\", \"research operation\", \"ia\", \"non\", \"presentation\", \"planning research\", \"used\", \"research agile process\", \"agile process\", \"contact\", \"business strategy\", \"sharing insight\", \"content\", \"scaling research\", \"firm\", \"orgs\", \"problem\", \"method\", \"agile\", \"business\", \"strategy\", \"leadership\", \"new\", \"academic\", \"like\", \"thing\", \"different\", \"influence\", \"industry\", \"scaling\", \"research agile\", \"interesting\", \"research method\", \"think\", \"tool\", \"researcher\", \"method research\", \"insight\", \"product\", \"analysis\", \"impact\", \"want\", \"people\", \"field\", \"design\", \"topic\", \"team\", \"technique\"], \"Total\": [51.0, 58.0, 43.0, 127.0, 28.0, 46.0, 14.0, 20.0, 14.0, 25.0, 12.0, 23.0, 12.0, 16.0, 15.0, 15.0, 10.0, 10.0, 26.0, 22.0, 17.0, 61.0, 19.0, 9.0, 39.0, 11.0, 18.0, 38.0, 38.0, 16.0, 51.42409268804037, 43.70886083220716, 28.276052378994702, 58.25361999752884, 5.9898980386315515, 5.989833893244811, 5.132655493932924, 5.132655493932908, 5.132588825928453, 5.132590338553403, 5.132590157065694, 5.132488356293196, 4.275446702312903, 4.2753885458358045, 4.275379410317208, 4.275379410317209, 4.275351241749199, 3.4181963641444617, 3.4181963394901076, 3.418196198429821, 3.4181959709762357, 3.4181957409021093, 3.418195714167185, 3.418195417093998, 3.4181950888453527, 3.4181948571982996, 3.4181618457676533, 3.4181618457676533, 3.4181630401266134, 3.418156065520593, 17.097225125675457, 9.39106582880744, 18.77980813000662, 14.487342230156777, 5.981524660858719, 26.361297790396037, 39.96328173007933, 5.971273107581557, 19.591926057837433, 12.763472605202404, 23.78308178302577, 127.08351597146752, 23.810721275858146, 32.29089379045431, 30.509549075596013, 14.440451396125434, 10.20622780010929, 14.451389584820479, 14.432257249075304, 14.449206804794072, 30.5532745992871, 22.027161618580244, 17.833610468583075, 40.712895606427395, 46.51914265268909, 48.23035231905884, 37.3022172361498, 16.125115704401544, 25.437985066680053, 43.977816650338376, 25.352462484589473, 6.787522296871417, 5.090082163457774, 5.09007781603631, 5.090082190638722, 4.241355893184966, 4.241349700781733, 4.241266535513382, 4.241058378596949, 8.494095727145346, 3.3926256527341665, 3.392625594617174, 3.3926255775958083, 3.3926255635712788, 3.3926141014192397, 3.3926378865920155, 3.392643862555225, 3.392646445864874, 3.3925821697178518, 3.3925713345321373, 3.392680657950307, 3.392550429176496, 3.3923485018536574, 15.247884080849605, 6.796047553283971, 6.777870066486204, 16.089012530918573, 2.543897432874704, 2.543897440173629, 2.5438974326275314, 2.5438974136719885, 11.853140669892651, 15.259674202604852, 8.467354255798757, 46.524758496871264, 22.901018936745142, 19.448922595551903, 20.359986854164156, 15.245993339591347, 10.210485635627009, 20.33085719572093, 10.16555563360968, 21.955492592247438, 10.14721422397529, 38.00879388804379, 40.712895606427395, 38.06234426254424, 6.787144176477172, 27.1329637640499, 37.3022172361498, 16.12150158088585, 43.977816650338376, 30.5532745992871, 61.58289828750088, 48.23035231905884, 127.08351597146752, 18.684908803881772, 18.562829745251506, 36.310315795948114, 27.896111654240038, 18.628028107240546, 32.29089379045431, 25.437985066680053, 46.51914265268909, 6.724886567892024, 14.294664912750157, 5.0451891477246535, 5.0451891477246535, 20.20140447830092, 3.3656900664710587, 3.3656904765037146, 3.3657015556557686, 3.3657470477237563, 3.365779360567668, 3.3657537722315736, 3.36576681439318, 3.3656927377088746, 3.36577832543759, 3.3658256452652386, 3.3659149511139734, 3.3658878680945294, 15.163740403641718, 5.885258455736366, 2.5259403654249226, 2.5259403654249226, 2.525940402571839, 2.5259404064517184, 2.5259404197216884, 2.5259404229348004, 2.5259404229348004, 2.525940448679303, 2.5259404465258664, 2.5259404697611907, 2.5259405036913267, 9.270280449413995, 5.894015039154096, 6.737042273426963, 6.749233110190186, 5.045721848573208, 5.045474674161513, 5.06265098223779, 25.352462484589473, 5.062919047271357, 9.280713370801395, 9.270842358942224, 9.248009026398048, 13.470258647081604, 9.297198205733787, 14.365637802129969, 9.28239632401116, 13.515457260098273, 11.813043338326848, 48.23035231905884, 38.06234426254424, 30.509549075596013, 61.58289828750088, 28.705437466435924, 18.597749645508205, 46.51914265268909, 43.977816650338376, 27.90596413624611, 38.00879388804379, 36.310315795948114, 32.05181180008293, 39.96328173007933, 23.6000453942913, 18.562829745251506, 26.361297790396037, 46.524758496871264, 40.712895606427395, 16.086562792290177, 27.1329637640499, 22.83598722760693, 14.287119043702386, 5.886775808420081, 5.046688724584609, 4.206630216709259, 4.20657592840342, 10.937747647659794, 10.937747647663056, 9.24656080643557, 12.624365058080448, 3.366543973839973, 3.366544560138983, 3.366544725308329, 3.3665627961448568, 3.3665761755120003, 3.3665803904106166, 3.3666160910586678, 3.3666160910587712, 3.3665871790954895, 3.3665555757385683, 3.3667438906888227, 3.3666077743765936, 3.366689275787492, 12.626797893184964, 3.3665643836057937, 10.103481920633566, 2.526509823203706, 2.526509823203706, 2.5265098309896783, 2.526509859890539, 2.526509902346569, 9.275556385624677, 8.406181660784249, 5.046328896281732, 5.055358669741258, 16.049752824815066, 127.08351597146752, 14.333472267019177, 20.24588709243622, 21.95627029446056, 17.744590606409847, 61.58289828750088, 8.432871423462188, 28.731020292470603, 10.103711239073585, 22.027161618580244, 6.726160158532091, 12.677113502635954, 10.934331679509185, 8.433927213086513, 6.747021157358388, 23.78308178302577, 12.677011453621787, 32.05181180008293, 37.3022172361498, 10.13107271172844, 23.6000453942913, 36.310315795948114, 46.51914265268909, 27.896111654240038, 22.83598722760693, 30.5532745992871, 23.810721275858146, 43.977816650338376, 28.705437466435924, 48.23035231905884, 38.00879388804379], \"loglift\": [30.0, 29.0, 28.0, 27.0, 26.0, 25.0, 24.0, 23.0, 22.0, 21.0, 20.0, 19.0, 18.0, 17.0, 16.0, 15.0, 14.0, 13.0, 12.0, 11.0, 10.0, 9.0, 8.0, 7.0, 6.0, 5.0, 4.0, 3.0, 2.0, 1.0, 1.2549, 1.2527, 1.2406, 1.2059, 1.155, 1.1549, 1.1356, 1.1356, 1.1349, 1.1349, 1.1349, 1.1319, 1.1075, 1.1067, 1.1066, 1.1066, 1.1062, 1.063, 1.063, 1.063, 1.063, 1.063, 1.063, 1.063, 1.063, 1.063, 1.0624, 1.0624, 1.0618, 1.0616, 1.0475, 0.9529, 0.8712, 0.8761, 0.9859, 0.766, 0.6789, 0.9719, 0.7317, 0.8095, 0.6183, 0.2202, 0.6114, 0.4188, 0.3974, 0.6673, 0.7717, 0.6225, 0.6127, 0.6031, 0.1824, 0.3513, 0.4468, -0.016, -0.1172, -0.1684, -0.0349, 0.4693, 0.0919, -0.4101, 0.0744, 1.2479, 1.2133, 1.2132, 1.2125, 1.1843, 1.1843, 1.1821, 1.1757, 1.1446, 1.1394, 1.1394, 1.1394, 1.1394, 1.139, 1.1389, 1.1387, 1.1387, 1.1379, 1.1375, 1.1374, 1.1368, 1.1299, 1.1074, 1.0989, 1.0828, 1.0626, 1.0596, 1.0596, 1.0596, 1.0596, 1.0385, 1.0313, 1.0218, 0.9529, 0.9362, 0.8843, 0.852, 0.8592, 0.9317, 0.7358, 0.8748, 0.6468, 0.8476, 0.4891, 0.4345, 0.4451, 0.9221, 0.4625, 0.325, 0.6247, 0.148, 0.2581, -0.114, -0.0367, -0.6056, 0.4814, 0.4838, 0.0728, 0.2245, 0.4814, 0.0887, 0.1771, -0.338, 1.3511, 1.3186, 1.3177, 1.3177, 1.257, 1.2429, 1.2429, 1.2427, 1.2419, 1.2413, 1.2407, 1.2401, 1.2399, 1.2399, 1.2386, 1.2351, 1.234, 1.1729, 1.1643, 1.1622, 1.1622, 1.1622, 1.1622, 1.1622, 1.1622, 1.1622, 1.1622, 1.1622, 1.1622, 1.1622, 1.1619, 1.1614, 1.1405, 1.1342, 1.1067, 1.1065, 1.1029, 0.9543, 1.0988, 1.0333, 1.0328, 1.0284, 0.9765, 1.0231, 0.959, 1.0043, 0.8756, 0.9077, 0.4424, 0.486, 0.5497, 0.3133, 0.5513, 0.6844, 0.3259, 0.3366, 0.495, 0.3522, 0.317, 0.3634, 0.1243, 0.425, 0.5257, 0.2533, -0.1851, -0.1202, 0.5826, -0.0039, 0.1441, 1.4482, 1.379, 1.3586, 1.3299, 1.3286, 1.3257, 1.3257, 1.309, 1.2878, 1.2851, 1.2851, 1.2851, 1.2848, 1.2845, 1.2844, 1.2838, 1.2838, 1.2836, 1.2834, 1.2815, 1.2803, 1.2788, 1.2668, 1.2426, 1.2072, 1.2044, 1.2044, 1.2044, 1.2044, 1.2044, 1.1839, 1.1728, 1.1491, 1.1473, 1.0046, 0.7159, 0.9489, 0.8328, 0.797, 0.8339, 0.4456, 1.0208, 0.6444, 0.9545, 0.7072, 1.0731, 0.875, 0.9097, 0.9918, 1.059, 0.6193, 0.8211, 0.4275, 0.3617, 0.9024, 0.479, 0.2119, 0.0673, 0.3186, 0.3652, 0.1369, 0.2942, -0.1988, 0.1426, -0.4217, -0.2078], \"logprob\": [30.0, 29.0, 28.0, 27.0, 26.0, 25.0, 24.0, 23.0, 22.0, 21.0, 20.0, 19.0, 18.0, 17.0, 16.0, 15.0, 14.0, 13.0, 12.0, 11.0, 10.0, 9.0, 8.0, 7.0, 6.0, 5.0, 4.0, 3.0, 2.0, 1.0, -3.5393, -3.704, -4.1517, -3.4635, -5.7892, -5.7893, -5.963, -5.963, -5.9637, -5.9637, -5.9637, -5.9667, -6.1739, -6.1747, -6.1748, -6.1748, -6.1752, -6.4421, -6.4421, -6.4421, -6.4421, -6.4421, -6.4421, -6.4421, -6.4421, -6.4421, -6.4427, -6.4427, -6.4433, -6.4436, -4.8478, -5.5415, -4.9302, -5.1849, -5.9596, -4.6963, -4.3674, -5.9754, -5.0274, -5.3781, -4.9469, -3.6692, -4.9527, -4.8407, -4.9188, -5.3969, -5.6395, -5.4409, -5.4521, -5.4605, -5.1323, -5.2907, -5.4064, -5.0437, -5.0116, -5.0267, -5.1501, -5.4846, -5.4061, -5.3607, -5.4269, -5.5713, -5.8937, -5.8938, -5.8944, -6.1051, -6.1051, -6.1073, -6.1138, -5.4503, -6.3732, -6.3732, -6.3732, -6.3732, -6.3737, -6.3737, -6.3739, -6.374, -6.3747, -6.3752, -6.3752, -6.3758, -6.3828, -4.9024, -5.719, -5.7377, -4.8935, -6.741, -6.741, -6.741, -6.741, -5.2232, -4.9777, -5.5762, -3.9414, -4.6668, -4.8821, -4.8687, -5.1507, -5.4791, -4.9863, -5.5405, -4.9984, -5.5695, -4.6073, -4.5932, -4.6499, -5.8971, -4.971, -4.7902, -5.3294, -4.8025, -5.0566, -4.7279, -4.8949, -4.495, -5.3251, -5.3292, -5.0693, -5.1812, -5.3281, -5.1707, -5.3209, -5.2324, -5.4773, -4.7557, -5.7981, -5.7981, -4.4714, -6.2777, -6.2777, -6.2779, -6.2787, -6.2793, -6.2799, -6.2804, -6.2807, -6.2807, -6.2819, -6.2854, -6.2865, -4.8424, -5.7975, -6.6454, -6.6454, -6.6454, -6.6454, -6.6454, -6.6454, -6.6454, -6.6454, -6.6454, -6.6454, -6.6454, -5.3455, -5.7989, -5.6861, -5.6906, -6.009, -6.0092, -6.0095, -4.5471, -6.0135, -5.473, -5.4746, -5.4815, -5.1573, -5.4815, -5.1104, -5.5018, -5.2548, -5.3574, -4.4159, -4.6091, -4.7665, -4.3005, -4.8259, -5.1268, -4.5685, -4.6139, -4.9104, -4.7442, -4.8251, -4.9034, -4.922, -5.148, -5.2873, -5.209, -5.0793, -5.1479, -5.3737, -5.4374, -5.4618, -4.6266, -5.5825, -5.7569, -5.9677, -5.969, -5.0163, -5.0163, -5.201, -4.9108, -6.2352, -6.2353, -6.2353, -6.2356, -6.2358, -6.2359, -6.2365, -6.2365, -6.2368, -6.237, -6.2388, -6.24, -6.2415, -4.9316, -6.2777, -5.2142, -6.603, -6.603, -6.603, -6.603, -6.603, -5.323, -5.4325, -5.9664, -5.9665, -4.9539, -3.1735, -5.1228, -4.8935, -4.8482, -5.0243, -4.1683, -5.5813, -4.7318, -5.4669, -4.9347, -5.7551, -5.3194, -5.4326, -5.6102, -5.7661, -4.946, -5.3734, -4.8393, -4.7535, -5.5163, -5.094, -4.9302, -4.8271, -5.0871, -5.2407, -5.1778, -5.2699, -5.1493, -5.2346, -5.2799, -5.3043]}, \"token.table\": {\"Topic\": [2, 4, 1, 2, 1, 3, 1, 2, 3, 4, 1, 1, 1, 3, 1, 2, 1, 2, 3, 4, 4, 2, 3, 1, 1, 2, 3, 4, 1, 2, 4, 1, 2, 4, 1, 2, 3, 4, 3, 2, 1, 2, 3, 1, 2, 3, 4, 1, 2, 3, 1, 2, 3, 4, 2, 3, 4, 1, 2, 3, 4, 4, 1, 2, 3, 1, 1, 1, 1, 3, 3, 3, 3, 4, 1, 2, 4, 2, 1, 3, 2, 3, 4, 2, 1, 3, 1, 2, 3, 4, 1, 2, 3, 4, 4, 1, 2, 3, 4, 3, 2, 3, 4, 1, 3, 4, 1, 2, 1, 2, 3, 4, 1, 2, 3, 4, 3, 1, 2, 4, 2, 3, 4, 3, 4, 2, 3, 2, 2, 1, 3, 4, 3, 1, 3, 1, 4, 1, 2, 3, 4, 1, 2, 3, 4, 3, 4, 3, 1, 1, 2, 3, 4, 1, 1, 3, 4, 1, 2, 3, 4, 4, 4, 1, 4, 2, 3, 3, 1, 3, 4, 4, 3, 3, 1, 2, 4, 1, 2, 3, 4, 4, 3, 3, 1, 2, 3, 4, 2, 4, 1, 2, 4, 2, 2, 1, 2, 3, 4, 1, 1, 1, 2, 4, 1, 3, 4, 2, 2, 4, 2, 4, 1, 2, 3, 1, 2, 3, 4, 4, 4, 4, 4, 1, 2, 3, 3, 1, 2, 3, 3, 1, 1, 3, 2, 4, 2, 4, 1, 2, 3, 4, 4, 1, 3, 4, 4, 1, 2, 4, 1, 2, 3, 4, 2, 2, 4, 4, 1, 2, 3, 4, 1, 2, 3, 4, 1, 2, 3, 4, 1, 2, 4, 1, 2, 4, 2, 2, 1, 2, 3, 4, 2, 4, 2, 3, 4, 1, 2, 3, 2, 2, 1, 2, 3, 4, 4, 3, 1, 1, 2, 3, 3, 1, 2, 4, 1, 4, 1, 2, 3, 1, 3, 4, 2, 1, 3, 3, 1, 1, 2, 3, 4, 2, 3, 4, 3, 4, 4, 4, 1, 2, 3, 4, 2, 3, 1, 2, 2, 3, 4, 3, 4, 3, 1, 1, 4, 2, 3, 4, 3, 3, 1, 2, 4, 2, 3, 1, 2, 3, 4, 1, 2, 1, 1, 1, 3, 4, 1, 3, 4, 1, 2, 3, 4, 1, 2, 3, 4, 2, 3, 4, 2, 3, 2, 3, 4, 1, 2, 3, 4, 3, 1, 2, 3, 4, 1, 2, 3, 4, 1, 1, 3, 1, 3, 4, 1, 2, 3, 4, 1, 3, 4, 1, 2, 3, 4, 1, 2, 3, 4, 2, 1, 2, 3, 4, 2, 1, 2, 1, 2, 3, 4, 1, 2, 3, 4, 1, 2, 3, 4, 2, 2, 4, 4, 1, 2, 3, 4, 1, 2, 3, 2], \"Freq\": [0.3557507104464216, 0.592917850744036, 0.7793335793729803, 0.7861952169988008, 0.19752497328148436, 0.7900998931259374, 0.4485911596024459, 0.22429557980122294, 0.22429557980122294, 0.11214778990061147, 0.8776559996556131, 0.8776559405817803, 0.669873899239563, 0.16746847480989074, 0.2938156035920788, 0.6855697417148505, 0.06976676560786776, 0.20930029682360332, 0.13953353121573553, 0.5581341248629421, 0.7916058673636691, 0.06995616938932565, 0.9094302020612335, 0.8776560827965976, 0.25795832243925343, 0.19346874182944007, 0.3224479030490668, 0.23646179556931565, 0.48445565867861234, 0.13841590247960353, 0.34603975619900884, 0.8776562265554778, 0.7086038706708153, 0.23620129022360511, 0.21500780158341865, 0.21500780158341865, 0.39418096956960086, 0.1791731679861822, 0.7917843039592273, 0.884270858938491, 0.10773080194962786, 0.21546160389925573, 0.6463848116977672, 0.43355876399242366, 0.2787163482808438, 0.18581089885389585, 0.09290544942694792, 0.6902577326560321, 0.0690257732656032, 0.20707731979680963, 0.06553219857271253, 0.7208541842998378, 0.06553219857271253, 0.13106439714542506, 0.884270882178351, 0.6487882940937076, 0.3243941470468538, 0.14817824411955688, 0.14817824411955688, 0.19757099215940918, 0.49392748039852297, 0.7916058558689535, 0.0983714059557914, 0.5902284357347484, 0.2951142178673742, 0.9917530350877927, 0.9837822167242385, 0.7793236862922548, 0.6267886685273405, 0.31339433426367025, 0.8913446276776267, 0.7917843130363157, 0.7917843120291298, 0.7916058649241688, 0.1078102443051079, 0.1078102443051079, 0.7546717101357553, 0.8842904660162167, 0.32267785773888674, 0.6453557154777735, 0.6663118950329363, 0.19344538888052992, 0.12896359258701995, 0.7858419317307711, 0.1481649816614233, 0.7408249083071166, 0.18190989479097858, 0.2956035790353402, 0.3183423158842125, 0.18190989479097858, 0.40858646047289016, 0.04539849560809891, 0.09079699121619782, 0.45398495608098904, 0.9508798715207963, 0.24811584578092422, 0.49623169156184843, 0.062028961445231054, 0.18608688433569318, 0.8913307992850974, 0.8842850169320681, 0.6796642883374471, 0.16991607208436177, 0.6069503909564395, 0.3034751954782198, 0.07586879886955494, 0.8347387497671491, 0.8842676702563063, 0.5535799829521639, 0.13839499573804098, 0.20759249360706147, 0.13839499573804098, 0.3108184181145493, 0.12432736724581972, 0.435145785360369, 0.12432736724581972, 0.8922083576319346, 0.5039746533074109, 0.16799155110247027, 0.29398521442932296, 0.6170007588360951, 0.25708364951503965, 0.10283345980601585, 0.1981638574403714, 0.7926554297614856, 0.9431607968865787, 0.791784304634246, 0.8842565223372525, 0.7861952193309332, 0.2784422143378087, 0.6264949822600696, 0.06961055358445217, 0.8913476703888881, 0.5878763552520111, 0.3919175701680074, 0.8776558821808054, 0.8911046967909769, 0.1433891593774154, 0.32262560859918465, 0.2150837390661231, 0.32262560859918465, 0.23664693065785122, 0.07888231021928374, 0.07888231021928374, 0.5521761715349861, 0.29734647300406797, 0.5946929460081359, 0.7917843300562454, 0.8776560065200729, 0.04237279985240595, 0.21186399926202973, 0.3389823988192476, 0.3813551986716535, 0.8776661868255254, 0.14821355627577767, 0.14821355627577767, 0.5928542251031107, 0.8359072784098813, 0.16718145568197626, 0.10814831816214349, 0.8651865452971479, 0.8911024954605438, 0.8911024954605163, 0.8776558396319247, 0.8911215844236001, 0.1696636322365949, 0.6786545289463796, 0.7917842973508736, 0.2817760133724279, 0.16906560802345674, 0.5071968240703703, 0.7925989135240827, 0.7928344969591424, 0.7928344969591424, 0.14733737401156022, 0.5893494960462409, 0.14733737401156022, 0.20883351648922785, 0.17402793040768988, 0.17402793040768988, 0.4176670329784557, 0.8911213855105523, 0.8913475617984947, 0.791784286715093, 0.19646378107468643, 0.5893913432240593, 0.09823189053734321, 0.09823189053734321, 0.7376948733087929, 0.14753897466175858, 0.7453893016623568, 0.10648418595176526, 0.10648418595176526, 0.9430960147574606, 0.9431145075431631, 0.3540978517631137, 0.1416391407052455, 0.0472130469017485, 0.45639278671690214, 0.9355894801634047, 0.9355894801634045, 0.09870623066818285, 0.3948249226727314, 0.5922373840090971, 0.31555120157905014, 0.5916585029607191, 0.07888780039476254, 0.7861952251891715, 0.09142650134314066, 0.822838512088266, 0.09142650134316793, 0.8228385120885113, 0.8188463272309462, 0.11697804674727802, 0.05848902337363901, 0.09742964632792843, 0.227335841431833, 0.32476548775976144, 0.35724203653573755, 0.8911130607474669, 0.9799036430770873, 0.8910831247704851, 0.849361375856765, 0.04950150872302652, 0.09900301744605304, 0.8415256482914509, 0.8912952889599192, 0.10775033772146865, 0.2155006754429373, 0.6465020263288118, 0.8913469629560385, 0.9902372376704263, 0.1975145149790508, 0.7900580599162031, 0.19780990139937624, 0.791239605597505, 0.8842708740863938, 0.89111660220192, 0.3272971598348195, 0.3272971598348195, 0.0654594319669639, 0.2618377278678556, 0.8911119450898051, 0.25395657275434225, 0.5925653364267985, 0.16930438183622815, 0.8911161820071354, 0.5614557735429808, 0.20416573583381123, 0.20416573583381123, 0.5505053400917564, 0.100091880016683, 0.2752526700458782, 0.07506891001251224, 0.9430946378320249, 0.15839328521124552, 0.7919664260562276, 0.8911101481726721, 0.2492250219464729, 0.06230625548661822, 0.06230625548661822, 0.6230625548661822, 0.43410541222282617, 0.12403011777795032, 0.24806023555590065, 0.1860451766669255, 0.11016153157352496, 0.2754038289338124, 0.33048459472057484, 0.2754038289338124, 0.6922328444468201, 0.21299472136825232, 0.10649736068412616, 0.9355956443858066, 0.7869944404332962, 0.19674861010832406, 0.7858419275343892, 0.8842821927138462, 0.25798877191863284, 0.40541092730070877, 0.2211332330731139, 0.11056661653655694, 0.7458506217792648, 0.2486168739264216, 0.2227128727517021, 0.5939009940045389, 0.14847524850113472, 0.32111475966923136, 0.42815301289230845, 0.21407650644615422, 0.7858426029162039, 0.8842708785229276, 0.11856872542702869, 0.11856872542702869, 0.11856872542702869, 0.5928436271351435, 0.7916058673636691, 0.8913242970658103, 0.779349064688165, 0.9355874810246122, 0.7592924314869798, 0.2530974771623266, 0.7917843300562454, 0.5045603471188718, 0.04204669559323932, 0.4204669559323932, 0.8776643959876401, 0.891068669730685, 0.06594678973532417, 0.13189357947064834, 0.7254146870885658, 0.7793338090503334, 0.7927896299796102, 0.19819740749490256, 0.8843431028270624, 0.8347476890200375, 0.8913273454271892, 0.8913325800965614, 0.8776561670777496, 0.16130983894196954, 0.3226196778839391, 0.4839295168259087, 0.053769946313989854, 0.5912952922412462, 0.19709843074708208, 0.19709843074708208, 0.7927507936512772, 0.1981876984128193, 0.891121429230733, 0.8911185134206044, 0.26808057914340117, 0.3485047528864215, 0.053616115828680234, 0.3216966949720814, 0.8842661126654482, 0.8912881173682444, 0.1177288356668986, 0.8241018496682901, 0.09145506367563266, 0.36582025470253066, 0.548730382053796, 0.23792014980240284, 0.7137604494072085, 0.7917843171959364, 0.7793336069301124, 0.9355747547586329, 0.791605842566634, 0.501013582536706, 0.18218675728607492, 0.2732801359291124, 0.7917843184121282, 0.7917843120291298, 0.13099853802515485, 0.6549926901257743, 0.17466471736687314, 0.1484330896874906, 0.742165448437453, 0.1366352281041504, 0.227725380173584, 0.1366352281041504, 0.5009958363818848, 0.9441473337164822, 0.05149894547544449, 0.8776558459621749, 0.7793236862922572, 0.2959574302979162, 0.5919148605958324, 0.1479787151489581, 0.4850246139042803, 0.207867691673263, 0.207867691673263, 0.22807214691760005, 0.2488059784555637, 0.37320896768334555, 0.1451368207657455, 0.0526194018650281, 0.4209552149202248, 0.34202611212268264, 0.18416790652759835, 0.4309687752238558, 0.3770976783208738, 0.16161329070894592, 0.3235951905822603, 0.6471903811645205, 0.1979470664467823, 0.1979470664467823, 0.593841199340347, 0.15776589043221267, 0.236648835648319, 0.07888294521610634, 0.473297671296638, 0.8913117660209608, 0.09359845298955105, 0.21839639030895247, 0.3431943276283539, 0.3431943276283539, 0.17418302737403993, 0.17418302737403993, 0.41803926569769584, 0.2438562383236559, 0.877664702657243, 0.877664702657243, 0.8913240229430915, 0.09897577962284237, 0.09897577962284237, 0.791806236982739, 0.42609610413411336, 0.06555324678986359, 0.39331948073918155, 0.13110649357972717, 0.5539993024142241, 0.27699965120711206, 0.13849982560355603, 0.2701846635114653, 0.39299587419849497, 0.19649793709924748, 0.12281121068702969, 0.1475589529314787, 0.5410494940820886, 0.19674527057530494, 0.1475589529314787, 0.7861952192545442, 0.13118200667229254, 0.5903190300253165, 0.19677301000843883, 0.13118200667229254, 0.8839749967032283, 0.14714435002986143, 0.7357217501493072, 0.2627431842642856, 0.1313715921321428, 0.2627431842642856, 0.30653371497499987, 0.1313634274733918, 0.39409028242017535, 0.36781759692549704, 0.07881805648403507, 0.31449031749290557, 0.31449031749290557, 0.19655644843306597, 0.19655644843306597, 0.8842654393464869, 0.1584238091023726, 0.7921190455118631, 0.9508921431778781, 0.16104764190440143, 0.4294603784117371, 0.21473018920586856, 0.16104764190440143, 0.10787160166909657, 0.10787160166909657, 0.7551012116836759, 0.8842738697410364], \"Term\": [\"academic\", \"academic\", \"accessibility\", \"accessible\", \"actionable\", \"actionable\", \"advanced\", \"advanced\", \"advanced\", \"advanced\", \"advanced method\", \"advanced research\", \"advice\", \"advice\", \"advocating\", \"advocating\", \"agile\", \"agile\", \"agile\", \"agile\", \"agile process\", \"ai\", \"ai\", \"align\", \"analysis\", \"analysis\", \"analysis\", \"analysis\", \"application\", \"application\", \"application\", \"application research\", \"apply\", \"apply\", \"approach\", \"approach\", \"approach\", \"approach\", \"article\", \"avoiding bias\", \"based\", \"based\", \"based\", \"best\", \"best\", \"best\", \"best\", \"best practice\", \"best practice\", \"best practice\", \"bias\", \"bias\", \"bias\", \"bias\", \"bias research\", \"book\", \"book\", \"business\", \"business\", \"business\", \"business\", \"business strategy\", \"buyin\", \"buyin\", \"buyin\", \"case\", \"case study\", \"case study research\", \"challenge\", \"challenge\", \"challenge research\", \"compelling way\", \"consideration\", \"contact\", \"content\", \"content\", \"content\", \"creation\", \"creative\", \"creative\", \"data\", \"data\", \"data\", \"data visualization\", \"deep\", \"deep\", \"design\", \"design\", \"design\", \"design\", \"different\", \"different\", \"different\", \"different\", \"don know\", \"emerging\", \"emerging\", \"emerging\", \"emerging\", \"empathy\", \"engage\", \"enterprise\", \"enterprise\", \"ethic\", \"ethic\", \"ethic\", \"ethic research\", \"everyday\", \"example\", \"example\", \"example\", \"example\", \"experience\", \"experience\", \"experience\", \"experience\", \"failure\", \"field\", \"field\", \"field\", \"finding\", \"finding\", \"finding\", \"firm\", \"firm\", \"fit\", \"foresight\", \"gdpr\", \"gdpr research\", \"good\", \"good\", \"good\", \"growing research\", \"hear\", \"hear\", \"heard\", \"ia\", \"impact\", \"impact\", \"impact\", \"impact\", \"industry\", \"industry\", \"industry\", \"industry\", \"influence\", \"influence\", \"infrastructure\", \"inhouse research\", \"insight\", \"insight\", \"insight\", \"insight\", \"interested learning\", \"interesting\", \"interesting\", \"interesting\", \"kind\", \"kind\", \"know\", \"know\", \"know don\", \"know don know\", \"large organization\", \"large orgs\", \"latest\", \"latest\", \"latest tool\", \"leadership\", \"leadership\", \"leadership\", \"leadership research\", \"leading research\", \"leading research team\", \"life\", \"life\", \"life\", \"like\", \"like\", \"like\", \"like\", \"like new\", \"listening\", \"make good\", \"management\", \"management\", \"management\", \"management\", \"manager\", \"manager\", \"market\", \"market\", \"market\", \"matter\", \"mentoring\", \"method\", \"method\", \"method\", \"method\", \"method case\", \"method case study\", \"method research\", \"method research\", \"method research\", \"methodology\", \"methodology\", \"methodology\", \"midcareer\", \"mixed\", \"mixed\", \"mixed method\", \"mixed method\", \"need\", \"need\", \"need\", \"new\", \"new\", \"new\", \"new\", \"new interesting\", \"new method\", \"non\", \"operation\", \"ops\", \"ops\", \"ops\", \"ops research\", \"org\", \"org\", \"org\", \"org research\", \"organization\", \"organizational\", \"organizational\", \"orgs\", \"orgs\", \"outcome\", \"participatory\", \"people\", \"people\", \"people\", \"people\", \"philosophy\", \"planning\", \"planning\", \"planning\", \"planning research\", \"practical\", \"practical\", \"practical\", \"practice\", \"practice\", \"practice\", \"practice\", \"present\", \"presentation\", \"presentation\", \"presentation skill\", \"problem\", \"problem\", \"problem\", \"problem\", \"process\", \"process\", \"process\", \"process\", \"product\", \"product\", \"product\", \"product\", \"project\", \"project\", \"project\", \"promoting\", \"qual\", \"qual\", \"qual quant\", \"qual research\", \"qualitative\", \"qualitative\", \"qualitative\", \"qualitative\", \"quant\", \"quant\", \"question\", \"question\", \"question\", \"real\", \"real\", \"real\", \"real life\", \"research action\", \"research agile\", \"research agile\", \"research agile\", \"research agile\", \"research agile process\", \"research ai\", \"research case\", \"research case study\", \"research finding\", \"research finding\", \"research infrastructure\", \"research method\", \"research method\", \"research method\", \"research need\", \"research operation\", \"research ops\", \"research ops\", \"research ops\", \"research organization\", \"research planning\", \"research planning\", \"research program\", \"research project\", \"research question\", \"research social\", \"research stuff\", \"research team\", \"research team\", \"research team\", \"research team\", \"research technique\", \"research technique\", \"research technique\", \"research topic\", \"research topic\", \"research want\", \"research working\", \"researcher\", \"researcher\", \"researcher\", \"researcher\", \"researcher role\", \"roi\", \"role\", \"role\", \"scaling\", \"scaling\", \"scaling\", \"scaling research\", \"scaling research\", \"scaling research practice\", \"selling\", \"selling research\", \"sharing insight\", \"skill\", \"skill\", \"skill\", \"skill set\", \"special consideration\", \"stakeholder\", \"stakeholder\", \"stakeholder\", \"storytelling\", \"storytelling\", \"strategy\", \"strategy\", \"strategy\", \"strategy\", \"study\", \"study\", \"study best\", \"study research\", \"synthesis\", \"synthesis\", \"synthesis\", \"talk\", \"talk\", \"talk\", \"team\", \"team\", \"team\", \"team\", \"technique\", \"technique\", \"technique\", \"technique\", \"technology\", \"technology\", \"technology\", \"testing\", \"testing\", \"thing\", \"thing\", \"thing\", \"think\", \"think\", \"think\", \"think\", \"today\", \"tool\", \"tool\", \"tool\", \"tool\", \"topic\", \"topic\", \"topic\", \"topic\", \"topic case\", \"topic case study\", \"usability testing\", \"used\", \"used\", \"used\", \"user\", \"user\", \"user\", \"user\", \"user research\", \"user research\", \"user research\", \"ux\", \"ux\", \"ux\", \"ux\", \"ux research\", \"ux research\", \"ux research\", \"ux research\", \"ux researcher role\", \"value\", \"value\", \"value\", \"value\", \"value research\", \"visualization\", \"visualization\", \"want\", \"want\", \"want\", \"want\", \"way\", \"way\", \"way\", \"way\", \"work\", \"work\", \"work\", \"work\", \"worked\", \"working\", \"working\", \"working product\", \"workshop\", \"workshop\", \"workshop\", \"workshop\", \"world\", \"world\", \"world\", \"writing\"]}, \"R\": 30, \"lambda.step\": 0.01, \"plot.opts\": {\"xlab\": \"PC1\", \"ylab\": \"PC2\"}, \"topic.order\": [4, 2, 3, 1]};\n",
       "\n",
       "function LDAvis_load_lib(url, callback){\n",
       "  var s = document.createElement('script');\n",
       "  s.src = url;\n",
       "  s.async = true;\n",
       "  s.onreadystatechange = s.onload = callback;\n",
       "  s.onerror = function(){console.warn(\"failed to load library \" + url);};\n",
       "  document.getElementsByTagName(\"head\")[0].appendChild(s);\n",
       "}\n",
       "\n",
       "if(typeof(LDAvis) !== \"undefined\"){\n",
       "   // already loaded: just create the visualization\n",
       "   !function(LDAvis){\n",
       "       new LDAvis(\"#\" + \"ldavis_el328611123078614489888181427\", ldavis_el328611123078614489888181427_data);\n",
       "   }(LDAvis);\n",
       "}else if(typeof define === \"function\" && define.amd){\n",
       "   // require.js is available: use it to load d3/LDAvis\n",
       "   require.config({paths: {d3: \"https://cdnjs.cloudflare.com/ajax/libs/d3/3.5.5/d3.min\"}});\n",
       "   require([\"d3\"], function(d3){\n",
       "      window.d3 = d3;\n",
       "      LDAvis_load_lib(\"https://cdn.rawgit.com/bmabey/pyLDAvis/files/ldavis.v1.0.0.js\", function(){\n",
       "        new LDAvis(\"#\" + \"ldavis_el328611123078614489888181427\", ldavis_el328611123078614489888181427_data);\n",
       "      });\n",
       "    });\n",
       "}else{\n",
       "    // require.js not available: dynamically load d3 & LDAvis\n",
       "    LDAvis_load_lib(\"https://cdnjs.cloudflare.com/ajax/libs/d3/3.5.5/d3.min.js\", function(){\n",
       "         LDAvis_load_lib(\"https://cdn.rawgit.com/bmabey/pyLDAvis/files/ldavis.v1.0.0.js\", function(){\n",
       "                 new LDAvis(\"#\" + \"ldavis_el328611123078614489888181427\", ldavis_el328611123078614489888181427_data);\n",
       "            })\n",
       "         });\n",
       "}\n",
       "</script>"
      ],
      "text/plain": [
       "PreparedData(topic_coordinates=              x         y  topics  cluster       Freq\n",
       "topic                                                \n",
       "3     -0.148860 -0.008165       1        1  28.152875\n",
       "1      0.076225  0.007506       2        1  26.018038\n",
       "2      0.044807 -0.106360       3        1  23.396824\n",
       "0      0.027827  0.107019       4        1  22.432263, topic_info=     Category        Freq          Term       Total  loglift  logprob\n",
       "132   Default   51.000000          case   51.000000  30.0000  30.0000\n",
       "989   Default   58.000000         study   58.000000  29.0000  29.0000\n",
       "134   Default   43.000000    case study   43.000000  28.0000  28.0000\n",
       "582   Default  127.000000        method  127.000000  27.0000  27.0000\n",
       "663   Default   28.000000  organization   28.000000  26.0000  26.0000\n",
       "...       ...         ...           ...         ...      ...      ...\n",
       "349    Topic4    7.168547         field   23.810721   0.2942  -5.2699\n",
       "244    Topic4    8.086925        design   43.977817  -0.1988  -5.1493\n",
       "1041   Topic4    7.425933         topic   28.705437   0.1426  -5.2346\n",
       "1012   Topic4    7.096921          team   48.230352  -0.4217  -5.2799\n",
       "1016   Topic4    6.926207     technique   38.008794  -0.2078  -5.3043\n",
       "\n",
       "[289 rows x 6 columns], token_table=      Topic      Freq           Term\n",
       "term                                \n",
       "4         2  0.355751       academic\n",
       "4         4  0.592918       academic\n",
       "7         1  0.779334  accessibility\n",
       "9         2  0.786195     accessible\n",
       "12        1  0.197525     actionable\n",
       "...     ...       ...            ...\n",
       "1117      4  0.161048       workshop\n",
       "1119      1  0.107872          world\n",
       "1119      2  0.107872          world\n",
       "1119      3  0.755101          world\n",
       "1120      2  0.884274        writing\n",
       "\n",
       "[453 rows x 3 columns], R=30, lambda_step=0.01, plot_opts={'xlab': 'PC1', 'ylab': 'PC2'}, topic_order=[4, 2, 3, 1])"
      ]
     },
     "execution_count": 9,
     "metadata": {},
     "output_type": "execute_result"
    }
   ],
   "source": [
    "pyLDAvis.sklearn.prepare(lda21, ideal_topics_matrix, ideal_topics_vector)"
   ]
  },
  {
   "cell_type": "markdown",
   "metadata": {},
   "source": [
    "#### Topic groups (4) - considerable overlap between 2 & 3\n",
    "1. case study\n",
    "2. finding\n",
    "3. ops\n",
    "4. new method\n",
    "\n",
    "#### Topic groups (6)\n",
    "1. case study\n",
    "2. ops\n",
    "3. stakeholder\n",
    "4. new method\n",
    "5. user research\n",
    "6. quantitative\n",
    "\n",
    "#### Topic groups (8)\n",
    "1. case study\n",
    "2. ops\n",
    "3. user research\n",
    "4. working\n",
    "5. quant\n",
    "6. mixed method\n",
    "7. ethic\n",
    "8. qualitative data\n"
   ]
  },
  {
   "cell_type": "code",
   "execution_count": null,
   "metadata": {},
   "outputs": [],
   "source": [
    "#4 topics, 2.Finding/Data 3.ops/ai"
   ]
  },
  {
   "cell_type": "code",
   "execution_count": null,
   "metadata": {},
   "outputs": [],
   "source": [
    "lda_W21 = lda21.transform(ideal_topics_matrix)"
   ]
  },
  {
   "cell_type": "code",
   "execution_count": null,
   "metadata": {},
   "outputs": [],
   "source": [
    "top_doc_column21 = datadf.ideal_topics.dropna()"
   ]
  },
  {
   "cell_type": "code",
   "execution_count": null,
   "metadata": {},
   "outputs": [],
   "source": [
    "word_count_matrix21, count_vect21 = nlp.create_wordcount_matrix(datadf.ideal_topics.dropna(), max_df=0.8, min_df=2, ngram=(1,3))"
   ]
  },
  {
   "cell_type": "code",
   "execution_count": null,
   "metadata": {},
   "outputs": [],
   "source": [
    "LDA21a = LatentDirichletAllocation(n_components=5, random_state=42)\n",
    "LDA21a.fit(word_count_matrix21)"
   ]
  },
  {
   "cell_type": "code",
   "execution_count": null,
   "metadata": {},
   "outputs": [],
   "source": [
    "lda_H = LDA21a.transform(word_count_matrix21)"
   ]
  },
  {
   "cell_type": "code",
   "execution_count": null,
   "metadata": {},
   "outputs": [],
   "source": [
    "nlp.find_top_documents_per_topic(lda_H, top_doc_column21, 3)"
   ]
  },
  {
   "cell_type": "markdown",
   "metadata": {},
   "source": [
    "## 22. If attending a conference about research, who might you be excited to see there?"
   ]
  },
  {
   "cell_type": "code",
   "execution_count": 49,
   "metadata": {},
   "outputs": [],
   "source": [
    "stop_words = ['nan', 'Nan', 'NaN', 'NAN', 'research', 'conference', 'make', 'researcher', 'people', 'like', 'event', 'don']\n",
    "\n",
    "words_to_stop = nlp.set_stop_words(stop_words)"
   ]
  },
  {
   "cell_type": "code",
   "execution_count": 50,
   "metadata": {},
   "outputs": [
    {
     "data": {
      "text/plain": [
       "['nan',\n",
       " 'Nan',\n",
       " 'NaN',\n",
       " 'NAN',\n",
       " 'research',\n",
       " 'conference',\n",
       " 'make',\n",
       " 'researcher',\n",
       " 'people',\n",
       " 'like',\n",
       " 'event',\n",
       " 'don',\n",
       " 'am',\n",
       " 'however',\n",
       " 'whatever',\n",
       " 'bottom',\n",
       " 'namely',\n",
       " 'most',\n",
       " 'whole',\n",
       " 'since',\n",
       " 'among',\n",
       " 'than',\n",
       " 'anyone',\n",
       " 'hers',\n",
       " 'every',\n",
       " 'yet',\n",
       " 'few',\n",
       " 'sixty',\n",
       " 'together',\n",
       " 'serious',\n",
       " 'latter',\n",
       " 'find',\n",
       " 'cant',\n",
       " 'until',\n",
       " 'none',\n",
       " 'up',\n",
       " 'he',\n",
       " 'meanwhile',\n",
       " 'amoungst',\n",
       " 'keep',\n",
       " 'thin',\n",
       " 're',\n",
       " 'ourselves',\n",
       " 'yourself',\n",
       " 'via',\n",
       " 'herself',\n",
       " 'only',\n",
       " 'either',\n",
       " 'cannot',\n",
       " 'anyhow',\n",
       " 'herein',\n",
       " 'both',\n",
       " 'formerly',\n",
       " 'anyway',\n",
       " 'how',\n",
       " 'never',\n",
       " 'when',\n",
       " 'though',\n",
       " 'six',\n",
       " 'him',\n",
       " 'bill',\n",
       " 'often',\n",
       " 'whose',\n",
       " 'below',\n",
       " 'from',\n",
       " 'full',\n",
       " 'hereby',\n",
       " 'nor',\n",
       " 'everywhere',\n",
       " 'even',\n",
       " 'whoever',\n",
       " 'name',\n",
       " 'some',\n",
       " 'everyone',\n",
       " 'afterwards',\n",
       " 'nowhere',\n",
       " 'its',\n",
       " 'was',\n",
       " 'almost',\n",
       " 'perhaps',\n",
       " 'after',\n",
       " 'at',\n",
       " 'nothing',\n",
       " 'then',\n",
       " 'therefore',\n",
       " 'former',\n",
       " 'amount',\n",
       " 'detail',\n",
       " 'while',\n",
       " 'although',\n",
       " 'but',\n",
       " 'any',\n",
       " 'next',\n",
       " 'sometime',\n",
       " 'to',\n",
       " 'is',\n",
       " 'fifteen',\n",
       " 'well',\n",
       " 'are',\n",
       " 'could',\n",
       " 'side',\n",
       " 'now',\n",
       " 'whereafter',\n",
       " 'again',\n",
       " 'own',\n",
       " 'which',\n",
       " 'a',\n",
       " 'why',\n",
       " 'several',\n",
       " 'found',\n",
       " 'un',\n",
       " 'front',\n",
       " 'thru',\n",
       " 'thus',\n",
       " 'she',\n",
       " 'off',\n",
       " 'eight',\n",
       " 'around',\n",
       " 'one',\n",
       " 'co',\n",
       " 'those',\n",
       " 'whence',\n",
       " 'must',\n",
       " 'otherwise',\n",
       " 'himself',\n",
       " 'will',\n",
       " 'get',\n",
       " 'very',\n",
       " 'hereafter',\n",
       " 'system',\n",
       " 'first',\n",
       " 'beforehand',\n",
       " 'each',\n",
       " 'ours',\n",
       " 'our',\n",
       " 'ever',\n",
       " 'whether',\n",
       " 'eleven',\n",
       " 'put',\n",
       " 'towards',\n",
       " 'nobody',\n",
       " 'i',\n",
       " 'there',\n",
       " 'because',\n",
       " 'as',\n",
       " 'ten',\n",
       " 'onto',\n",
       " 'the',\n",
       " 'becoming',\n",
       " 'over',\n",
       " 'during',\n",
       " 'still',\n",
       " 'seeming',\n",
       " 'alone',\n",
       " 'under',\n",
       " 'hundred',\n",
       " 'same',\n",
       " 'thick',\n",
       " 'third',\n",
       " 'an',\n",
       " 'so',\n",
       " 'them',\n",
       " 'rather',\n",
       " 'something',\n",
       " 'therein',\n",
       " 'back',\n",
       " 'thereupon',\n",
       " 'their',\n",
       " 'within',\n",
       " 'see',\n",
       " 'take',\n",
       " 'once',\n",
       " 'please',\n",
       " 'hereupon',\n",
       " 'wherein',\n",
       " 'out',\n",
       " 'mill',\n",
       " 'has',\n",
       " 'mostly',\n",
       " 'might',\n",
       " 'many',\n",
       " 'always',\n",
       " 'toward',\n",
       " 'someone',\n",
       " 'what',\n",
       " 'and',\n",
       " 'noone',\n",
       " 'made',\n",
       " 'ie',\n",
       " 'us',\n",
       " 'this',\n",
       " 'empty',\n",
       " 'three',\n",
       " 'seem',\n",
       " 'across',\n",
       " 'hasnt',\n",
       " 'interest',\n",
       " 'moreover',\n",
       " 'above',\n",
       " 'ltd',\n",
       " 'or',\n",
       " 'against',\n",
       " 'they',\n",
       " 'yours',\n",
       " 'fill',\n",
       " 'been',\n",
       " 'with',\n",
       " 'on',\n",
       " 'enough',\n",
       " 'whom',\n",
       " 'two',\n",
       " 'all',\n",
       " 'amongst',\n",
       " 'where',\n",
       " 'becomes',\n",
       " 'else',\n",
       " 'wherever',\n",
       " 'besides',\n",
       " 'much',\n",
       " 'before',\n",
       " 'who',\n",
       " 'through',\n",
       " 'inc',\n",
       " 'whereupon',\n",
       " 'if',\n",
       " 'beside',\n",
       " 'further',\n",
       " 'whereby',\n",
       " 'de',\n",
       " 'least',\n",
       " 'became',\n",
       " 'behind',\n",
       " 'about',\n",
       " 'of',\n",
       " 'elsewhere',\n",
       " 'being',\n",
       " 'upon',\n",
       " 'indeed',\n",
       " 'along',\n",
       " 'top',\n",
       " 'also',\n",
       " 'somewhere',\n",
       " 'fire',\n",
       " 'more',\n",
       " 'thereby',\n",
       " 'become',\n",
       " 'give',\n",
       " 'itself',\n",
       " 'had',\n",
       " 'nevertheless',\n",
       " 'may',\n",
       " 'already',\n",
       " 'go',\n",
       " 'forty',\n",
       " 'should',\n",
       " 'whither',\n",
       " 'have',\n",
       " 'five',\n",
       " 'such',\n",
       " 'would',\n",
       " 'nine',\n",
       " 'mine',\n",
       " 'other',\n",
       " 'these',\n",
       " 'his',\n",
       " 'into',\n",
       " 'etc',\n",
       " 'seems',\n",
       " 'somehow',\n",
       " 'beyond',\n",
       " 'per',\n",
       " 'part',\n",
       " 'be',\n",
       " 'by',\n",
       " 'we',\n",
       " 'con',\n",
       " 'thereafter',\n",
       " 'were',\n",
       " 'do',\n",
       " 'neither',\n",
       " 'twenty',\n",
       " 'without',\n",
       " 'me',\n",
       " 'it',\n",
       " 'too',\n",
       " 'here',\n",
       " 'your',\n",
       " 'fifty',\n",
       " 'describe',\n",
       " 'her',\n",
       " 'latterly',\n",
       " 'themselves',\n",
       " 'done',\n",
       " 'in',\n",
       " 'another',\n",
       " 'eg',\n",
       " 'anywhere',\n",
       " 'thence',\n",
       " 'no',\n",
       " 'not',\n",
       " 'can',\n",
       " 'myself',\n",
       " 'everything',\n",
       " 'whereas',\n",
       " 'four',\n",
       " 'my',\n",
       " 'call',\n",
       " 'others',\n",
       " 'sometimes',\n",
       " 'anything',\n",
       " 'less',\n",
       " 'couldnt',\n",
       " 'sincere',\n",
       " 'that',\n",
       " 'you',\n",
       " 'seemed',\n",
       " 'throughout',\n",
       " 'show',\n",
       " 'twelve',\n",
       " 'yourselves',\n",
       " 'except',\n",
       " 'last',\n",
       " 'for',\n",
       " 'cry',\n",
       " 'due',\n",
       " 'down',\n",
       " 'between',\n",
       " 'move',\n",
       " 'hence',\n",
       " 'whenever']"
      ]
     },
     "execution_count": 50,
     "metadata": {},
     "output_type": "execute_result"
    }
   ],
   "source": [
    "words_to_stop"
   ]
  },
  {
   "cell_type": "code",
   "execution_count": 51,
   "metadata": {},
   "outputs": [],
   "source": [
    "ideal_attendees = datadf.ideal_attendees.fillna('nan').apply(nlp.basic_clean)\n",
    "ideal_attendees = ideal_attendees.apply(nlp.lemmatize)"
   ]
  },
  {
   "cell_type": "code",
   "execution_count": 52,
   "metadata": {},
   "outputs": [
    {
     "data": {
      "text/plain": [
       "(<726x796 sparse matrix of type '<class 'numpy.int64'>'\n",
       " \twith 3740 stored elements in Compressed Sparse Row format>,\n",
       " CountVectorizer(analyzer='word', binary=False, decode_error='strict',\n",
       "                 dtype=<class 'numpy.int64'>, encoding='utf-8', input='content',\n",
       "                 lowercase=True, max_df=0.3, max_features=None, min_df=2,\n",
       "                 ngram_range=(1, 3), preprocessor=None,\n",
       "                 stop_words=['nan', 'Nan', 'NaN', 'NAN', 'research',\n",
       "                             'conference', 'make', 'researcher', 'people',\n",
       "                             'like', 'event', 'don', 'am', 'however', 'whatever',\n",
       "                             'bottom', 'namely', 'most', 'whole', 'since',\n",
       "                             'among', 'than', 'anyone', 'hers', 'every', 'yet',\n",
       "                             'few', 'sixty', 'together', 'serious', ...],\n",
       "                 strip_accents=None, token_pattern='(?u)\\\\b\\\\w\\\\w+\\\\b',\n",
       "                 tokenizer=None, vocabulary=None))"
      ]
     },
     "execution_count": 52,
     "metadata": {},
     "output_type": "execute_result"
    }
   ],
   "source": [
    "ideal_att_matrix, ideal_att_vector = nlp.create_wordcount_matrix(ideal_attendees, ngram=(1,3), max_df=.3, stop_words=words_to_stop)\n",
    "ideal_att_matrix, ideal_att_vector"
   ]
  },
  {
   "cell_type": "code",
   "execution_count": 53,
   "metadata": {},
   "outputs": [],
   "source": [
    "lda22 = LatentDirichletAllocation(n_components= 4, random_state = 42)"
   ]
  },
  {
   "cell_type": "code",
   "execution_count": 54,
   "metadata": {},
   "outputs": [
    {
     "data": {
      "text/plain": [
       "LatentDirichletAllocation(batch_size=128, doc_topic_prior=None,\n",
       "                          evaluate_every=-1, learning_decay=0.7,\n",
       "                          learning_method='batch', learning_offset=10.0,\n",
       "                          max_doc_update_iter=100, max_iter=10,\n",
       "                          mean_change_tol=0.001, n_components=4, n_jobs=None,\n",
       "                          perp_tol=0.1, random_state=42, topic_word_prior=None,\n",
       "                          total_samples=1000000.0, verbose=0)"
      ]
     },
     "execution_count": 54,
     "metadata": {},
     "output_type": "execute_result"
    }
   ],
   "source": [
    "lda22.fit(ideal_att_matrix)"
   ]
  },
  {
   "cell_type": "code",
   "execution_count": 55,
   "metadata": {},
   "outputs": [
    {
     "data": {
      "text/html": [
       "\n",
       "<link rel=\"stylesheet\" type=\"text/css\" href=\"https://cdn.rawgit.com/bmabey/pyLDAvis/files/ldavis.v1.0.0.css\">\n",
       "\n",
       "\n",
       "<div id=\"ldavis_el32861112409022776606342436\"></div>\n",
       "<script type=\"text/javascript\">\n",
       "\n",
       "var ldavis_el32861112409022776606342436_data = {\"mdsDat\": {\"x\": [-0.11555031959043743, -0.07735323282257503, 0.05558599362029648, 0.13731755879271593], \"y\": [-0.11550098341408233, 0.11197043430428924, 0.06325226791596579, -0.05972171880617259], \"topics\": [1, 2, 3, 4], \"cluster\": [1, 1, 1, 1], \"Freq\": [29.43374808587032, 25.30228868593829, 23.60472324340676, 21.65923998478462]}, \"tinfo\": {\"Category\": [\"Default\", \"Default\", \"Default\", \"Default\", \"Default\", \"Default\", \"Default\", \"Default\", \"Default\", \"Default\", \"Default\", \"Default\", \"Default\", \"Default\", \"Default\", \"Default\", \"Default\", \"Default\", \"Default\", \"Default\", \"Default\", \"Default\", \"Default\", \"Default\", \"Default\", \"Default\", \"Default\", \"Default\", \"Default\", \"Default\", \"Topic1\", \"Topic1\", \"Topic1\", \"Topic1\", \"Topic1\", \"Topic1\", \"Topic1\", \"Topic1\", \"Topic1\", \"Topic1\", \"Topic1\", \"Topic1\", \"Topic1\", \"Topic1\", \"Topic1\", \"Topic1\", \"Topic1\", \"Topic1\", \"Topic1\", \"Topic1\", \"Topic1\", \"Topic1\", \"Topic1\", \"Topic1\", \"Topic1\", \"Topic1\", \"Topic1\", \"Topic1\", \"Topic1\", \"Topic1\", \"Topic1\", \"Topic1\", \"Topic1\", \"Topic1\", \"Topic1\", \"Topic1\", \"Topic1\", \"Topic1\", \"Topic1\", \"Topic1\", \"Topic1\", \"Topic1\", \"Topic1\", \"Topic1\", \"Topic1\", \"Topic1\", \"Topic1\", \"Topic1\", \"Topic1\", \"Topic1\", \"Topic1\", \"Topic1\", \"Topic1\", \"Topic1\", \"Topic1\", \"Topic1\", \"Topic1\", \"Topic1\", \"Topic1\", \"Topic2\", \"Topic2\", \"Topic2\", \"Topic2\", \"Topic2\", \"Topic2\", \"Topic2\", \"Topic2\", \"Topic2\", \"Topic2\", \"Topic2\", \"Topic2\", \"Topic2\", \"Topic2\", \"Topic2\", \"Topic2\", \"Topic2\", \"Topic2\", \"Topic2\", \"Topic2\", \"Topic2\", \"Topic2\", \"Topic2\", \"Topic2\", \"Topic2\", \"Topic2\", \"Topic2\", \"Topic2\", \"Topic2\", \"Topic2\", \"Topic2\", \"Topic2\", \"Topic2\", \"Topic2\", \"Topic2\", \"Topic2\", \"Topic2\", \"Topic2\", \"Topic2\", \"Topic2\", \"Topic2\", \"Topic2\", \"Topic2\", \"Topic2\", \"Topic2\", \"Topic2\", \"Topic2\", \"Topic2\", \"Topic2\", \"Topic2\", \"Topic2\", \"Topic2\", \"Topic2\", \"Topic2\", \"Topic2\", \"Topic2\", \"Topic2\", \"Topic2\", \"Topic2\", \"Topic2\", \"Topic2\", \"Topic2\", \"Topic2\", \"Topic2\", \"Topic3\", \"Topic3\", \"Topic3\", \"Topic3\", \"Topic3\", \"Topic3\", \"Topic3\", \"Topic3\", \"Topic3\", \"Topic3\", \"Topic3\", \"Topic3\", \"Topic3\", \"Topic3\", \"Topic3\", \"Topic3\", \"Topic3\", \"Topic3\", \"Topic3\", \"Topic3\", \"Topic3\", \"Topic3\", \"Topic3\", \"Topic3\", \"Topic3\", \"Topic3\", \"Topic3\", \"Topic3\", \"Topic3\", \"Topic3\", \"Topic3\", \"Topic3\", \"Topic3\", \"Topic3\", \"Topic3\", \"Topic3\", \"Topic3\", \"Topic3\", \"Topic3\", \"Topic3\", \"Topic3\", \"Topic3\", \"Topic3\", \"Topic3\", \"Topic3\", \"Topic3\", \"Topic3\", \"Topic3\", \"Topic3\", \"Topic3\", \"Topic3\", \"Topic3\", \"Topic3\", \"Topic3\", \"Topic3\", \"Topic3\", \"Topic3\", \"Topic3\", \"Topic3\", \"Topic4\", \"Topic4\", \"Topic4\", \"Topic4\", \"Topic4\", \"Topic4\", \"Topic4\", \"Topic4\", \"Topic4\", \"Topic4\", \"Topic4\", \"Topic4\", \"Topic4\", \"Topic4\", \"Topic4\", \"Topic4\", \"Topic4\", \"Topic4\", \"Topic4\", \"Topic4\", \"Topic4\", \"Topic4\", \"Topic4\", \"Topic4\", \"Topic4\", \"Topic4\", \"Topic4\", \"Topic4\", \"Topic4\", \"Topic4\", \"Topic4\", \"Topic4\", \"Topic4\", \"Topic4\", \"Topic4\", \"Topic4\", \"Topic4\", \"Topic4\", \"Topic4\", \"Topic4\", \"Topic4\", \"Topic4\", \"Topic4\", \"Topic4\", \"Topic4\", \"Topic4\", \"Topic4\", \"Topic4\", \"Topic4\", \"Topic4\", \"Topic4\", \"Topic4\", \"Topic4\", \"Topic4\", \"Topic4\", \"Topic4\", \"Topic4\"], \"Freq\": [15.0, 54.0, 27.0, 49.0, 15.0, 13.0, 13.0, 44.0, 25.0, 25.0, 22.0, 10.0, 12.0, 15.0, 15.0, 15.0, 18.0, 22.0, 17.0, 40.0, 14.0, 8.0, 17.0, 26.0, 7.0, 24.0, 11.0, 11.0, 9.0, 11.0, 11.893081462133313, 8.542427578464267, 7.753352588953829, 6.081660182128067, 6.072855447236269, 5.2390524985199844, 4.403878790584766, 4.4015312528853405, 4.384335124492306, 10.08168435725578, 3.565111168559953, 3.56508387573748, 3.5650448393451413, 3.5618919270901155, 3.561891927089518, 3.560022056880112, 3.556469746538624, 2.7262513406455544, 2.726232337035575, 2.7262280205456566, 2.7262280205456566, 2.7262280205456566, 2.72617308275118, 2.7242984557263843, 2.7232479491747528, 2.7222904237199312, 2.7222904237198695, 2.722095219152477, 2.72189526324217, 2.721895263238288, 6.091214359877721, 6.592531941881652, 13.928963770622982, 16.86698032493523, 13.024682620937604, 5.69453630182367, 16.293032533788374, 11.507431280188975, 32.71614716670881, 12.332095393735022, 7.708571902745997, 7.687933660348902, 6.079725178074105, 8.107222799429936, 20.463270486875825, 14.641284117744915, 8.23681990086444, 8.99119250234841, 8.441050939556149, 8.661301123650032, 7.5240472802092615, 6.6935360368053685, 6.751211078025775, 9.963602182385085, 8.298000374299761, 9.317531763247462, 7.4795680432156, 7.259635618014756, 6.89351682953007, 15.273040849424504, 10.250981257400385, 6.071266551818493, 5.228093727893581, 4.343642724747556, 3.5558364063527397, 3.551687563593476, 3.545819419323575, 3.5143055595249693, 3.510159058676281, 3.5005753794284766, 2.721625873774233, 2.721607274863522, 2.721583457847266, 2.721574784796887, 2.7215013305783606, 2.719103499229295, 2.7190099045820646, 2.7189055625221927, 2.7183065198937717, 2.717685807683103, 2.717662755064145, 2.7166370309419072, 2.7153439881284593, 2.711146328241992, 2.7096764046969737, 2.7096764046969635, 2.7096764046945463, 2.702962249587406, 2.6722139808989014, 6.678718121298701, 19.257760030376897, 18.656439145327315, 5.235524814678688, 28.4854549808534, 8.379164799417934, 14.699694904818234, 4.405353772775674, 11.114334588082547, 8.298814593134304, 9.303550294048641, 4.927538528046539, 9.374350535316804, 17.98064023623729, 3.570275988927644, 3.5660149045190006, 5.236575022260426, 6.190614104225726, 4.39493681186458, 6.608381210399039, 9.229112818342674, 8.312944932927328, 5.611009968308954, 5.594955711985482, 9.375124778525254, 5.28778841615345, 7.691274344473843, 5.255809243294027, 6.2104342573138345, 7.498478443619781, 6.083861498853975, 5.516982110871481, 5.479941674815955, 5.321691070714902, 7.63047186277732, 5.978713746806449, 4.33295672910167, 4.33002510306814, 4.329034604055833, 4.292931793865609, 3.5083519323400227, 3.5083519323400147, 3.5083519323399748, 3.5065036419533064, 3.5061776683748818, 3.5061776683748804, 3.5030105218190855, 7.5200025947481395, 2.6835272506211116, 2.683513730086616, 2.683483300905711, 2.683483300905711, 2.683483300905711, 2.6820601173207126, 2.6820601173207135, 2.6820601173207126, 2.681700658162075, 2.6809401295842052, 2.675244290558576, 2.675244290527597, 2.6752442904425426, 2.6691946942320968, 2.6513625969872203, 5.158304476589438, 5.158304475799465, 5.158304475079221, 7.573679826003023, 4.339277909685232, 10.111155299307262, 10.111155299276263, 10.111155299253916, 9.189038020869667, 7.374657762101562, 9.886200946944772, 10.748812311220663, 6.76880642599418, 7.103934314109518, 6.685566736878477, 4.346768939474994, 5.657941611794723, 11.392542307583563, 11.886453066680145, 8.810244083201164, 7.615169212170284, 4.346625496382935, 4.923708733794711, 7.324625023742233, 4.721594526962948, 5.7180591649611, 5.039232332364475, 5.518879314832326, 4.921151685040896, 4.6151073388968555, 14.923151170152774, 13.298055330503448, 12.479494749025088, 6.7477759830173625, 4.296782758206363, 4.293008561694616, 4.289564283244252, 4.283996594565965, 3.478334142492031, 3.476425081483507, 3.476416011230127, 3.4760783271273294, 3.4760783271270825, 3.4733461595088886, 3.4732879063017843, 2.6599173378564425, 2.6598846337275455, 2.65930989897348, 2.65930989897348, 2.65930989897348, 2.657885093280594, 2.654631537567222, 2.652039057880278, 2.649055183118553, 2.6423384845245117, 1.8414825664661703, 1.8414822132718356, 1.8414822132718356, 1.8414822132718356, 1.8414817106116426, 17.6265193586307, 5.121103794654267, 5.11782627803711, 28.454073163256147, 5.67609371166386, 5.569010742780144, 4.75246576059818, 4.249845217599259, 5.167425140876384, 6.511797956968616, 5.729161806672645, 6.725336242525037, 8.157768075319533, 5.695844615962777, 8.455165810906772, 6.134880965495945, 6.548585580730238, 5.645175598391803, 5.173939295069951, 5.112872613741956, 5.112872613710223, 5.112872613687349, 4.847683566404967, 5.22544452474254, 4.881309428094809, 4.303170428414601, 4.298878918392965], \"Term\": [\"hall\", \"leader\", \"big\", \"company\", \"speaker\", \"erika\", \"erika hall\", \"work\", \"doing\", \"want\", \"steve\", \"time\", \"thought\", \"ladner\", \"sam ladner\", \"sam\", \"portigal\", \"experience\", \"steve portigal\", \"industry\", \"le\", \"case\", \"hear\", \"different\", \"big company\", \"academic\", \"orgs\", \"study\", \"enterprise\", \"senior\", \"thought\", \"thought leader\", \"norman\", \"nielsen\", \"tomer sharon\", \"jeff\", \"quant\", \"cooper\", \"mind\", \"orgs\", \"qual\", \"nielsen norman\", \"potential\", \"sauro\", \"jeff sauro\", \"presenter\", \"microsoft\", \"qual quant\", \"present perspective\", \"young steve\", \"indi young steve\", \"young steve portigal\", \"thinker\", \"trying\", \"driven\", \"academic professional\", \"mix academic professional\", \"amy\", \"alan cooper\", \"alan\", \"industry leader\", \"tomer\", \"portigal\", \"steve\", \"steve portigal\", \"sharon\", \"academic\", \"design\", \"leader\", \"mix\", \"diverse\", \"large\", \"leader field\", \"perspective\", \"industry\", \"different\", \"jared spool\", \"jared\", \"practitioner\", \"spool\", \"professional\", \"client\", \"expert\", \"field\", \"team\", \"organization\", \"young\", \"ux\", \"new\", \"speaker\", \"time\", \"doe\", \"going\", \"come\", \"space\", \"year\", \"coming\", \"got\", \"doesn\", \"feel\", \"long time\", \"doing amazing\", \"doing interesting\", \"looking\", \"stuff\", \"want hear\", \"sale\", \"writer\", \"look\", \"ppl\", \"stage\", \"practicing\", \"conversation\", \"awesome\", \"mike monteiro\", \"monteiro\", \"mike\", \"theory\", \"advice\", \"cool\", \"want\", \"doing\", \"job\", \"work\", \"senior\", \"experience\", \"help\", \"hear\", \"know\", \"learn\", \"dont\", \"ux\", \"leader\", \"opportunity\", \"amazing\", \"learning\", \"thing\", \"sector\", \"really\", \"organization\", \"big\", \"small\", \"talk\", \"company\", \"great\", \"field\", \"topic\", \"team\", \"industry\", \"product\", \"agency\", \"folk\", \"le\", \"case\", \"case study\", \"wa\", \"environment\", \"genevieve\", \"particular\", \"kim goodwin\", \"goodwin\", \"kim\", \"medical\", \"bell\", \"genevieve bell\", \"conduct\", \"enterprise\", \"love hear\", \"recognition\", \"tricia\", \"tricia wang\", \"wang\", \"silicon valley\", \"silicon\", \"valley\", \"elizabeth\", \"highly\", \"laura klein\", \"klein\", \"laura\", \"international\", \"useful\", \"jan chipchase\", \"jan\", \"chipchase\", \"outside\", \"b2b\", \"ladner\", \"sam ladner\", \"sam\", \"le\", \"study\", \"working\", \"product\", \"data\", \"government\", \"love\", \"nonprofit\", \"method\", \"field\", \"industry\", \"just\", \"tech\", \"insight\", \"designer\", \"organization\", \"individual\", \"doing\", \"hear\", \"company\", \"folk\", \"young\", \"hall\", \"erika\", \"erika hall\", \"big company\", \"discipline\", \"kate\", \"hall steve\", \"reichelt\", \"tell\", \"erika hall steve\", \"leisa reichelt\", \"towsey\", \"kate towsey\", \"fan\", \"technology\", \"similar\", \"admit\", \"reichelt erika\", \"reichelt erika hall\", \"leisa reichelt erika\", \"rockstars\", \"slack\", \"talking\", \"hall steve portigal\", \"day day\", \"led\", \"ladner kate towsey\", \"sam ladner kate\", \"ladner kate\", \"nick\", \"big\", \"tech company\", \"did\", \"company\", \"real\", \"day\", \"story\", \"leisa\", \"problem\", \"user\", \"good\", \"google\", \"different\", \"background\", \"work\", \"just\", \"organization\", \"tech\", \"really\", \"ladner\", \"sam ladner\", \"sam\", \"way\", \"steve\", \"new\", \"folk\", \"indi young\"], \"Total\": [15.0, 54.0, 27.0, 49.0, 15.0, 13.0, 13.0, 44.0, 25.0, 25.0, 22.0, 10.0, 12.0, 15.0, 15.0, 15.0, 18.0, 22.0, 17.0, 40.0, 14.0, 8.0, 17.0, 26.0, 7.0, 24.0, 11.0, 11.0, 9.0, 11.0, 12.572830239349766, 9.217490664388496, 8.379735907463267, 6.702121729726404, 6.701926091980811, 5.863204567397905, 5.024403803308778, 5.024366878911415, 5.024212636015857, 11.733298738333014, 4.185546566315299, 4.185546148519998, 4.185545636348636, 4.185496264275938, 4.185496264275928, 4.185423426382261, 4.18533715665141, 3.346688025074325, 3.3466877713461947, 3.3466876436027233, 3.3466876436027233, 3.3466876436027233, 3.3466869056166955, 3.346684748288228, 3.3466157702153767, 3.3466806078231786, 3.346680607823179, 3.346679744923263, 3.3466197771651647, 3.346619777165103, 7.539556752120161, 8.35146451134079, 18.351479909512292, 22.515172334415855, 17.511042063573477, 7.51116910249796, 24.253110083706133, 16.719212689546712, 54.40467746131684, 18.39081779699661, 10.87900289106306, 10.879313532926176, 8.376447642205425, 11.69964286628832, 40.05794053579847, 26.582816656069973, 12.545346039996625, 14.200182768147915, 13.34478239332768, 14.217505432208839, 11.727834130869606, 10.014553339895114, 11.638966061700652, 31.618021116138387, 20.01522484430695, 32.419855186062605, 16.596279788795364, 20.06026009345176, 18.28881096884685, 15.903816137595909, 10.879264872477872, 6.692166156191618, 5.8546067108858315, 5.016096504252047, 4.179785265449074, 4.179691642326061, 4.179612075951873, 4.1789250572054675, 4.179084046294772, 4.179818389984468, 3.3424217613760145, 3.34242146864212, 3.342421368859375, 3.34242112332599, 3.3424200766794128, 3.3423647267862067, 3.342363479780684, 3.342383779505734, 3.3424274519701487, 3.3423326318807094, 3.3423322619653515, 3.3423102870893766, 3.342333816974202, 3.3421956701338056, 3.3422610219727993, 3.342261021972799, 3.3422610219727455, 3.342031734877426, 3.3416832096990388, 8.368636828886604, 25.91392836633885, 25.850324912304746, 6.693510064450854, 44.96775490179994, 11.655384455127294, 22.53455427490737, 5.843126950298806, 17.511766481702406, 12.560259197569332, 15.83919001353809, 7.4846825864273505, 20.06026009345176, 54.40467746131684, 5.018696262327815, 5.018703516202852, 9.143217612014856, 12.510445727840793, 7.533737955659633, 15.752170646791363, 32.419855186062605, 27.211901266705926, 13.345176700309315, 13.282531691302225, 49.51813730532358, 11.679138552654939, 31.618021116138387, 11.626562085342725, 20.01522484430695, 40.05794053579847, 20.745319452292225, 14.213285902397654, 16.582181786550457, 14.93879723995009, 8.261600925246416, 6.610189643944724, 4.958683950604695, 4.958672014145323, 4.958747444059593, 4.958525513095587, 4.132938699513293, 4.132938699513292, 4.132938699513292, 4.13298912491758, 4.13299404476968, 4.13299404476968, 4.1329682896751, 9.102079365542526, 3.307237773016113, 3.307237886384806, 3.307238041968935, 3.307238041968935, 3.307238041968935, 3.3072581568492088, 3.3072581568492097, 3.3072581568492088, 3.307262494445669, 3.3072779773199246, 3.3073398641724423, 3.3073398641729197, 3.3073398641742315, 3.307439205374625, 3.3072900900274727, 6.602928136345927, 6.602928136356944, 6.602928136366987, 9.9171924535766, 5.79744230507069, 15.649423012118508, 15.649423012119795, 15.649423012120717, 14.93879723995009, 11.533143084301615, 17.35808507681904, 20.745319452292225, 11.605359894437223, 12.418449125492385, 11.629249349692998, 6.616547277496477, 9.90825784116041, 31.618021116138387, 40.05794053579847, 24.866199482463287, 20.70406018069761, 6.633351526944754, 9.979162765387775, 32.419855186062605, 9.895099272203552, 25.850324912304746, 17.511766481702406, 49.51813730532358, 16.582181786550457, 16.596279788795364, 15.562379004902745, 13.925336098099251, 13.106889948553226, 7.377806937523241, 4.922358561752337, 4.92244030113328, 4.922492176402637, 4.922496449718512, 4.103909725811022, 4.103957655115654, 4.103957749100903, 4.103962231291852, 4.103962231291858, 4.103998991963233, 4.104021009980757, 3.28546034262176, 3.285460927855265, 3.2854755983913106, 3.2854755983913106, 3.2854755983913106, 3.2855109247083822, 3.2855082750111504, 3.2855784910071555, 3.2856449640571537, 3.285846590508127, 2.467011212907674, 2.4670112215639555, 2.4670112215639555, 2.4670112215639555, 2.46701123534541, 27.211901266705926, 7.392194029645567, 7.392232216663665, 49.51813730532358, 9.03869607564861, 9.067728247959918, 7.40715648736625, 6.5742365465827985, 9.043229485018909, 13.250914636645028, 12.381229147150645, 18.233911122721747, 26.582816656069973, 14.906848296558785, 44.96775490179994, 24.866199482463287, 32.419855186062605, 20.70406018069761, 15.752170646791363, 15.649423012118508, 15.649423012119795, 15.649423012120717, 13.25139314254936, 22.515172334415855, 18.28881096884685, 16.582181786550457, 12.4326258218629], \"loglift\": [30.0, 29.0, 28.0, 27.0, 26.0, 25.0, 24.0, 23.0, 22.0, 21.0, 20.0, 19.0, 18.0, 17.0, 16.0, 15.0, 14.0, 13.0, 12.0, 11.0, 10.0, 9.0, 8.0, 7.0, 6.0, 5.0, 4.0, 3.0, 2.0, 1.0, 1.1674, 1.147, 1.1453, 1.1259, 1.1245, 1.1105, 1.0912, 1.0907, 1.0868, 1.0713, 1.0626, 1.0626, 1.0626, 1.0617, 1.0617, 1.0612, 1.0602, 1.018, 1.018, 1.018, 1.018, 1.018, 1.018, 1.0173, 1.0169, 1.0165, 1.0165, 1.0165, 1.0164, 1.0164, 1.0097, 0.9865, 0.9473, 0.9342, 0.927, 0.9461, 0.8252, 0.8495, 0.7144, 0.8234, 0.8785, 0.8758, 0.9026, 0.8562, 0.5513, 0.6266, 0.8023, 0.766, 0.765, 0.7274, 0.7792, 0.8201, 0.6784, 0.0682, 0.3425, -0.0238, 0.426, 0.2066, 0.2473, 1.3338, 1.3148, 1.2769, 1.2611, 1.2303, 1.2126, 1.2115, 1.2098, 1.2011, 1.1998, 1.1969, 1.1688, 1.1688, 1.1688, 1.1688, 1.1688, 1.1679, 1.1679, 1.1678, 1.1676, 1.1674, 1.1674, 1.167, 1.1665, 1.165, 1.1645, 1.1645, 1.1645, 1.162, 1.1507, 1.1487, 1.0774, 1.0481, 1.1286, 0.9177, 1.0443, 0.9471, 1.0918, 0.9196, 0.9599, 0.8422, 0.9563, 0.6135, 0.2671, 1.0337, 1.0326, 0.8169, 0.6707, 0.8353, 0.5056, 0.1179, 0.1884, 0.5079, 0.5097, -0.29, 0.5819, -0.0394, 0.5803, 0.204, -0.3014, 0.1476, 0.4279, 0.267, 0.3421, 1.3643, 1.3433, 1.3088, 1.3082, 1.3079, 1.2996, 1.2799, 1.2799, 1.2799, 1.2793, 1.2792, 1.2792, 1.2784, 1.2528, 1.2347, 1.2347, 1.2347, 1.2347, 1.2347, 1.2342, 1.2342, 1.2342, 1.2341, 1.2338, 1.2316, 1.2316, 1.2316, 1.2293, 1.2227, 1.1968, 1.1968, 1.1968, 1.1741, 1.154, 1.0069, 1.0069, 1.0069, 0.9578, 0.9965, 0.8808, 0.7862, 0.9046, 0.8852, 0.8902, 1.0236, 0.8834, 0.423, 0.2288, 0.4061, 0.4435, 1.021, 0.7373, -0.0438, 0.7038, -0.065, 0.1981, -0.7504, 0.2289, 0.1639, 1.4878, 1.4836, 1.4807, 1.4405, 1.3938, 1.3929, 1.3921, 1.3908, 1.3644, 1.3638, 1.3638, 1.3637, 1.3637, 1.3629, 1.3629, 1.3185, 1.3185, 1.3183, 1.3183, 1.3183, 1.3177, 1.3165, 1.3155, 1.3144, 1.3118, 1.2373, 1.2373, 1.2373, 1.2373, 1.2373, 1.0955, 1.1627, 1.162, 0.9757, 1.0645, 1.0422, 1.086, 1.0935, 0.9701, 0.8193, 0.7591, 0.5323, 0.3484, 0.5677, -0.1414, 0.1302, -0.0698, 0.2302, 0.4164, 0.4111, 0.4111, 0.4111, 0.5241, 0.0691, 0.2089, 0.1808, 0.4678], \"logprob\": [30.0, 29.0, 28.0, 27.0, 26.0, 25.0, 24.0, 23.0, 22.0, 21.0, 20.0, 19.0, 18.0, 17.0, 16.0, 15.0, 14.0, 13.0, 12.0, 11.0, 10.0, 9.0, 8.0, 7.0, 6.0, 5.0, 4.0, 3.0, 2.0, 1.0, -4.5726, -4.9035, -5.0004, -5.2432, -5.2447, -5.3924, -5.566, -5.5666, -5.5705, -4.7378, -5.7773, -5.7773, -5.7773, -5.7782, -5.7782, -5.7788, -5.7798, -6.0456, -6.0456, -6.0456, -6.0456, -6.0456, -6.0456, -6.0463, -6.0467, -6.047, -6.047, -6.0471, -6.0472, -6.0472, -5.2417, -5.1626, -4.4145, -4.2232, -4.4817, -5.309, -4.2578, -4.6055, -3.5607, -4.5363, -5.0062, -5.0089, -5.2436, -4.9558, -4.0299, -4.3647, -4.9399, -4.8523, -4.9154, -4.8897, -5.0304, -5.1474, -5.1388, -4.7496, -4.9325, -4.8166, -5.0363, -5.0662, -5.1179, -4.1712, -4.5699, -5.0937, -5.2432, -5.4286, -5.6287, -5.6299, -5.6315, -5.6404, -5.6416, -5.6443, -5.896, -5.8961, -5.8961, -5.8961, -5.8961, -5.897, -5.897, -5.897, -5.8973, -5.8975, -5.8975, -5.8979, -5.8984, -5.8999, -5.9004, -5.9004, -5.9004, -5.9029, -5.9144, -4.9983, -3.9394, -3.9711, -5.2418, -3.5479, -4.7715, -4.2094, -5.4145, -4.489, -4.7812, -4.6669, -5.3024, -4.6593, -4.008, -5.6246, -5.6258, -5.2416, -5.0742, -5.4168, -5.0089, -4.6749, -4.7795, -5.1725, -5.1754, -4.6592, -5.2319, -4.8572, -5.2379, -5.071, -4.8826, -5.0916, -5.1894, -5.1962, -5.2255, -4.7957, -5.0396, -5.3616, -5.3623, -5.3625, -5.3709, -5.5727, -5.5727, -5.5727, -5.5732, -5.5733, -5.5733, -5.5742, -4.8103, -5.8407, -5.8407, -5.8407, -5.8407, -5.8407, -5.8412, -5.8412, -5.8412, -5.8414, -5.8417, -5.8438, -5.8438, -5.8438, -5.846, -5.8528, -5.1872, -5.1872, -5.1872, -4.8031, -5.3601, -4.5142, -4.5142, -4.5142, -4.6098, -4.8298, -4.5367, -4.453, -4.9155, -4.8672, -4.9279, -5.3584, -5.0948, -4.3949, -4.3524, -4.6519, -4.7977, -5.3584, -5.2338, -4.8366, -5.2757, -5.0842, -5.2106, -5.1197, -5.2343, -5.2985, -4.0389, -4.1542, -4.2177, -4.8326, -5.2839, -5.2848, -5.2856, -5.2869, -5.4953, -5.4958, -5.4958, -5.4959, -5.4959, -5.4967, -5.4967, -5.7635, -5.7635, -5.7637, -5.7637, -5.7637, -5.7643, -5.7655, -5.7665, -5.7676, -5.7701, -6.1312, -6.1312, -6.1312, -6.1312, -6.1312, -3.8724, -5.1084, -5.1091, -3.3935, -5.0055, -5.0246, -5.1831, -5.2949, -5.0994, -4.8682, -4.9962, -4.8359, -4.6428, -5.0021, -4.607, -4.9278, -4.8626, -5.011, -5.0982, -5.11, -5.11, -5.11, -5.1633, -5.0883, -5.1564, -5.2825, -5.2835]}, \"token.table\": {\"Topic\": [1, 2, 3, 1, 4, 2, 1, 2, 3, 1, 1, 1, 2, 1, 2, 1, 3, 1, 2, 3, 4, 3, 2, 3, 4, 4, 3, 3, 3, 4, 1, 3, 2, 2, 1, 2, 3, 4, 3, 2, 1, 2, 1, 1, 2, 3, 4, 2, 3, 4, 4, 1, 2, 4, 1, 2, 3, 3, 4, 1, 3, 4, 4, 1, 2, 3, 2, 2, 2, 3, 4, 2, 2, 2, 4, 1, 3, 1, 3, 3, 4, 4, 4, 1, 2, 4, 1, 3, 4, 4, 2, 1, 2, 3, 4, 1, 2, 3, 4, 3, 3, 2, 2, 3, 4, 3, 1, 2, 3, 4, 2, 2, 3, 4, 1, 2, 3, 4, 4, 4, 1, 2, 3, 2, 3, 3, 1, 3, 4, 1, 2, 3, 4, 1, 2, 3, 1, 2, 2, 3, 3, 3, 4, 3, 4, 1, 2, 4, 1, 2, 4, 1, 1, 1, 2, 1, 2, 3, 4, 4, 4, 3, 3, 3, 1, 2, 3, 4, 4, 4, 1, 2, 3, 3, 3, 2, 3, 1, 2, 4, 1, 2, 1, 2, 3, 4, 2, 3, 4, 4, 3, 4, 4, 4, 2, 2, 2, 1, 2, 3, 3, 3, 1, 3, 4, 1, 2, 2, 1, 1, 2, 3, 1, 2, 1, 2, 3, 4, 4, 1, 1, 1, 3, 4, 1, 1, 2, 1, 2, 3, 4, 1, 2, 2, 3, 4, 3, 1, 2, 4, 1, 4, 1, 2, 2, 1, 3, 1, 1, 3, 4, 1, 2, 3, 4, 1, 2, 1, 1, 1, 3, 4, 1, 2, 3, 4, 3, 4, 4, 4, 4, 2, 3, 4, 3, 4, 4, 1, 1, 2, 2, 4, 1, 4, 3, 3, 4, 4, 1, 2, 3, 4, 2, 2, 1, 2, 4, 2, 1, 4, 1, 4, 2, 3, 4, 3, 4, 2, 1, 2, 3, 4, 4, 1, 2, 3, 4, 1, 2, 3, 4, 3, 4, 4, 4, 2, 1, 2, 3, 1, 1, 1, 2, 1, 4, 1, 1, 2, 4, 4, 3, 3, 1, 3, 1, 2, 4, 1, 2, 3, 3, 3, 3, 1, 2, 3, 2, 1, 2, 3, 4, 1, 2, 3, 4, 1, 3, 4, 2, 2, 1, 3, 4, 1, 1], \"Freq\": [0.6597092061503986, 0.16492730153759966, 0.16492730153759966, 0.8964106084659587, 0.91311388748074, 0.8977511666254528, 0.42214024548594026, 0.42214024548594026, 0.1407134151619801, 0.896426902294015, 0.8964269022939985, 0.1992546474944189, 0.7970185899776756, 0.8964108395943299, 0.8976135140166387, 0.17248985800606545, 0.6899594320242618, 0.2683330453509339, 0.20124978401320043, 0.20124978401320043, 0.40249956802640086, 0.9678213800143303, 0.2939890131744705, 0.036748626646808814, 0.6614752796425587, 0.9487914307432295, 0.9683353229460653, 0.9076895404198139, 0.7572398028174, 0.15144796056348, 0.6989827466507171, 0.2995640342788788, 0.7974328238320929, 0.957026615703093, 0.12116772412105563, 0.18175158618158344, 0.12116772412105563, 0.5654493792315929, 0.9678274111109735, 0.8975764134522879, 0.11949377424866027, 0.8364564197406219, 0.7961202070631125, 0.0861670822013308, 0.25850124660399243, 0.6031695754093156, 0.0861670822013308, 0.2205624104857758, 0.1102812052428879, 0.6616872314573273, 0.9130067145149575, 0.7177371460501075, 0.17943428651252688, 0.11962285767501793, 0.3006264223292709, 0.2004176148861806, 0.5010440372154514, 0.2705542712107412, 0.6763856780268531, 0.5642742901954624, 0.1504731440521233, 0.3009462881042466, 0.8126185749816686, 0.7353615106189448, 0.1838403776547362, 0.0919201888273681, 0.8965706857784421, 0.9571475365628145, 0.735000432855527, 0.23210539984911377, 0.03868423330818563, 0.8975528754064547, 0.8975529022014873, 0.6680310009494524, 0.267212400379781, 0.8964279755984447, 0.9070946152711808, 0.1098650055486959, 0.8789200443895672, 0.8066675893443701, 0.9335501784961905, 0.9155490011056813, 0.7310016944888427, 0.17750517499492197, 0.6656444062309574, 0.1331288812461915, 0.6014279930787237, 0.08591828472553197, 0.2577548541765959, 0.7309943315957999, 0.9569793772821943, 0.31627532802474556, 0.25302026241979647, 0.3479028608272201, 0.09488259840742366, 0.12061139033116668, 0.3015284758279167, 0.3015284758279167, 0.24122278066233335, 0.8066553187321247, 0.9678213800143303, 0.8540283313485757, 0.24230227583586927, 0.24230227583586927, 0.48460455167173855, 0.967834340361993, 0.3290572143089611, 0.10968573810298704, 0.16452860715448056, 0.38390008336045467, 0.9571839516727016, 0.2415760591104448, 0.5636774712577045, 0.16105070607362987, 0.25686826014389824, 0.42811376690649705, 0.25686826014389824, 0.9638629155140371, 0.8125965175069522, 0.9130627419633204, 0.057104461794010006, 0.62814907973411, 0.28552230897005004, 0.6845649656465957, 0.17114124141164894, 0.9070903687482207, 0.40216765723033737, 0.24130059433820242, 0.3217341257842699, 0.8964087239317283, 0.10106012809887745, 0.5053006404943873, 0.4042405123955098, 0.4992767908806159, 0.17474687680821555, 0.29956607452836953, 0.7958027503822118, 0.13263379173036863, 0.30150671072925594, 0.6030134214585119, 0.9070461507274169, 0.7572398028185519, 0.15144796056371038, 0.7572398028198153, 0.15144796056396306, 0.6337946593326729, 0.2112648864442243, 0.14084325762948288, 0.6376866747632696, 0.2391325030362261, 0.0797108343454087, 0.8527759764348465, 0.95568117791451, 0.14939844571400396, 0.7469922285700197, 0.24129139654941875, 0.16086093103294583, 0.3619370948241281, 0.24129139654941875, 0.8126050810771825, 0.7310008793759417, 0.967834340361993, 0.9678343403619928, 0.9070733952980736, 0.31846476550213887, 0.6369295310042777, 0.6390011946291093, 0.31950059731455466, 0.8106975689928582, 0.8106975689928582, 0.7353405135156781, 0.18383512837891952, 0.09191756418945976, 0.9070733952977139, 0.9070733952982046, 0.334698966703206, 0.6024581400657707, 0.6065654928928468, 0.3308539052142801, 0.0735230900476178, 0.7162940970070061, 0.23876469900233535, 0.12626908309645618, 0.5682108739340528, 0.25253816619291236, 0.06313454154822809, 0.5468534395845106, 0.21874137583380426, 0.21874137583380426, 0.8106975718374444, 0.30421783363416904, 0.6084356672683381, 0.7310016777480813, 0.9131098101805748, 0.8975527967975395, 0.8975512686839892, 0.8975529681354897, 0.25797021886706706, 0.17198014591137806, 0.6019305106898232, 0.9071013957560359, 0.967822532095283, 0.10092591614298206, 0.6055554968578923, 0.30277774842894617, 0.955717508598592, 0.8975959628159956, 0.8975959628159812, 0.7961446478849578, 0.6524995316934579, 0.10874992194890964, 0.16312488292336447, 0.8964106084659585, 0.8975959628159813, 0.38274768173413765, 0.21871296099093582, 0.10935648049546791, 0.2733912012386698, 0.8106975644640616, 0.8952388873194839, 0.9556697878995776, 0.15113622831670795, 0.6045449132668318, 0.15113622831670795, 0.9546840244541523, 0.19925493549118897, 0.7970197419647559, 0.27760765581300706, 0.27760765581300706, 0.21591706563233884, 0.21591706563233884, 0.8522752401530289, 0.08522752401530288, 0.10083498980997929, 0.8066799184798343, 0.10083498980997929, 0.8066914225682418, 0.6837815556790562, 0.17094538891976405, 0.17094538891976405, 0.7628812536662642, 0.21796607247607552, 0.9556699048417253, 0.8975767317066581, 0.8975827323957182, 0.5994852343189918, 0.2997426171594959, 0.8964086897157004, 0.9556978093988128, 0.3317398950197853, 0.5528998250329755, 0.09640728862235055, 0.2892218658670517, 0.530240087422928, 0.09640728862235055, 0.6821378875868198, 0.3410689437934099, 0.9556696925059794, 0.8964086217547494, 0.7961143563671842, 0.3319062810489202, 0.6638125620978405, 0.06348331429508065, 0.4443832000655646, 0.19044994288524195, 0.31741657147540325, 0.9071013646615386, 0.812595812075951, 0.9131098101805748, 0.9131098101805748, 0.9130999922839326, 0.8975684476413832, 0.639001194629019, 0.3195005973145095, 0.6390011946290567, 0.31950059731452835, 0.8106975689928582, 0.9556811779145078, 0.398208700336635, 0.53094493378218, 0.6863780453403009, 0.25739176700261285, 0.7988104006345169, 0.13313506677241949, 0.9070958049607076, 0.9070958049607079, 0.9131140501321755, 0.9131007286809584, 0.37466720091342887, 0.44960064109611464, 0.07493344018268577, 0.14986688036537155, 0.9569869612835821, 0.9431698574872651, 0.6330224414482081, 0.2813433073103147, 0.07033582682757868, 0.8975768310466973, 0.7550464081509353, 0.2220724729855692, 0.7423887140927289, 0.2284272966439166, 0.13500457317266268, 0.13500457317266268, 0.6750228658633134, 0.6069464281188082, 0.34682653035360467, 0.8975532491955361, 0.07528685217855179, 0.4517211130713107, 0.22586055653565534, 0.22586055653565534, 0.9130812148336123, 0.39969573473342657, 0.29977180105006995, 0.14988590052503498, 0.09992393368335664, 0.19319882018741422, 0.14489911514056064, 0.38639764037482843, 0.2897982302811213, 0.27055566885544724, 0.676389172138618, 0.7309904098210419, 0.7310102318118449, 0.8976575442692586, 0.23979960948344062, 0.47959921896688124, 0.31973281264458747, 0.8964089216009852, 0.954439038112759, 0.9764045690625145, 0.9191797531557286, 0.8381763450583329, 0.11973947786547613, 0.8952650204810971, 0.17201989593478736, 0.4300497398369684, 0.34403979186957473, 0.7310008793759428, 0.9071013219882946, 0.9071013219882946, 0.896409499441036, 0.9070870465962301, 0.3018659548932655, 0.22639946616994913, 0.5282654210632147, 0.34894861618892964, 0.44864822081433814, 0.1495494069381127, 0.9070958049607079, 0.806665647547917, 0.9071013219882946, 0.11576785879739018, 0.7331964390501378, 0.11576785879739018, 0.8975681127668549, 0.22639129091772212, 0.1509275272784814, 0.22639129091772212, 0.37731881819620355, 0.08895262858319597, 0.6226684000823718, 0.08895262858319597, 0.17790525716639194, 0.17283012421723684, 0.5761004140574562, 0.23044016562298247, 0.8975629963246275, 0.9570083973405129, 0.42178127201289445, 0.30127233715206747, 0.24101786972165398, 0.8964087239317283, 0.8964087239317283], \"Term\": [\"academic\", \"academic\", \"academic\", \"academic professional\", \"admit\", \"advice\", \"agency\", \"agency\", \"agency\", \"alan\", \"alan cooper\", \"amazing\", \"amazing\", \"amy\", \"awesome\", \"b2b\", \"b2b\", \"background\", \"background\", \"background\", \"background\", \"bell\", \"big\", \"big\", \"big\", \"big company\", \"case\", \"case study\", \"chipchase\", \"chipchase\", \"client\", \"client\", \"come\", \"coming\", \"company\", \"company\", \"company\", \"company\", \"conduct\", \"conversation\", \"cool\", \"cool\", \"cooper\", \"data\", \"data\", \"data\", \"data\", \"day\", \"day\", \"day\", \"day day\", \"design\", \"design\", \"design\", \"designer\", \"designer\", \"designer\", \"did\", \"did\", \"different\", \"different\", \"different\", \"discipline\", \"diverse\", \"diverse\", \"diverse\", \"doe\", \"doesn\", \"doing\", \"doing\", \"doing\", \"doing amazing\", \"doing interesting\", \"dont\", \"dont\", \"driven\", \"elizabeth\", \"enterprise\", \"enterprise\", \"environment\", \"erika\", \"erika hall\", \"erika hall steve\", \"experience\", \"experience\", \"experience\", \"expert\", \"expert\", \"expert\", \"fan\", \"feel\", \"field\", \"field\", \"field\", \"field\", \"folk\", \"folk\", \"folk\", \"folk\", \"genevieve\", \"genevieve bell\", \"going\", \"good\", \"good\", \"good\", \"goodwin\", \"google\", \"google\", \"google\", \"google\", \"got\", \"government\", \"government\", \"government\", \"great\", \"great\", \"great\", \"hall\", \"hall steve\", \"hall steve portigal\", \"hear\", \"hear\", \"hear\", \"help\", \"help\", \"highly\", \"indi young\", \"indi young\", \"indi young\", \"indi young steve\", \"individual\", \"individual\", \"individual\", \"industry\", \"industry\", \"industry\", \"industry leader\", \"industry leader\", \"insight\", \"insight\", \"international\", \"jan\", \"jan\", \"jan chipchase\", \"jan chipchase\", \"jared\", \"jared\", \"jared\", \"jared spool\", \"jared spool\", \"jared spool\", \"jeff\", \"jeff sauro\", \"job\", \"job\", \"just\", \"just\", \"just\", \"just\", \"kate\", \"kate towsey\", \"kim\", \"kim goodwin\", \"klein\", \"know\", \"know\", \"ladner\", \"ladner\", \"ladner kate\", \"ladner kate towsey\", \"large\", \"large\", \"large\", \"laura\", \"laura klein\", \"le\", \"le\", \"leader\", \"leader\", \"leader\", \"leader field\", \"leader field\", \"learn\", \"learn\", \"learn\", \"learn\", \"learning\", \"learning\", \"learning\", \"led\", \"leisa\", \"leisa\", \"leisa reichelt\", \"leisa reichelt erika\", \"long time\", \"look\", \"looking\", \"love\", \"love\", \"love\", \"love hear\", \"medical\", \"method\", \"method\", \"method\", \"microsoft\", \"mike\", \"mike monteiro\", \"mind\", \"mix\", \"mix\", \"mix\", \"mix academic professional\", \"monteiro\", \"new\", \"new\", \"new\", \"new\", \"nick\", \"nielsen\", \"nielsen norman\", \"nonprofit\", \"nonprofit\", \"nonprofit\", \"norman\", \"opportunity\", \"opportunity\", \"organization\", \"organization\", \"organization\", \"organization\", \"orgs\", \"orgs\", \"outside\", \"outside\", \"outside\", \"particular\", \"perspective\", \"perspective\", \"perspective\", \"portigal\", \"portigal\", \"potential\", \"ppl\", \"practicing\", \"practitioner\", \"practitioner\", \"present perspective\", \"presenter\", \"problem\", \"problem\", \"product\", \"product\", \"product\", \"product\", \"professional\", \"professional\", \"qual\", \"qual quant\", \"quant\", \"real\", \"real\", \"really\", \"really\", \"really\", \"really\", \"recognition\", \"reichelt\", \"reichelt erika\", \"reichelt erika hall\", \"rockstars\", \"sale\", \"sam\", \"sam\", \"sam ladner\", \"sam ladner\", \"sam ladner kate\", \"sauro\", \"sector\", \"sector\", \"senior\", \"senior\", \"sharon\", \"sharon\", \"silicon\", \"silicon valley\", \"similar\", \"slack\", \"small\", \"small\", \"small\", \"small\", \"space\", \"speaker\", \"spool\", \"spool\", \"spool\", \"stage\", \"steve\", \"steve\", \"steve portigal\", \"steve portigal\", \"story\", \"story\", \"story\", \"study\", \"study\", \"stuff\", \"talk\", \"talk\", \"talk\", \"talk\", \"talking\", \"team\", \"team\", \"team\", \"team\", \"tech\", \"tech\", \"tech\", \"tech\", \"tech company\", \"tech company\", \"technology\", \"tell\", \"theory\", \"thing\", \"thing\", \"thing\", \"thinker\", \"thought\", \"thought leader\", \"time\", \"tomer\", \"tomer\", \"tomer sharon\", \"topic\", \"topic\", \"topic\", \"towsey\", \"tricia\", \"tricia wang\", \"trying\", \"useful\", \"user\", \"user\", \"user\", \"ux\", \"ux\", \"ux\", \"valley\", \"wa\", \"wang\", \"want\", \"want\", \"want\", \"want hear\", \"way\", \"way\", \"way\", \"way\", \"work\", \"work\", \"work\", \"work\", \"working\", \"working\", \"working\", \"writer\", \"year\", \"young\", \"young\", \"young\", \"young steve\", \"young steve portigal\"]}, \"R\": 30, \"lambda.step\": 0.01, \"plot.opts\": {\"xlab\": \"PC1\", \"ylab\": \"PC2\"}, \"topic.order\": [1, 4, 3, 2]};\n",
       "\n",
       "function LDAvis_load_lib(url, callback){\n",
       "  var s = document.createElement('script');\n",
       "  s.src = url;\n",
       "  s.async = true;\n",
       "  s.onreadystatechange = s.onload = callback;\n",
       "  s.onerror = function(){console.warn(\"failed to load library \" + url);};\n",
       "  document.getElementsByTagName(\"head\")[0].appendChild(s);\n",
       "}\n",
       "\n",
       "if(typeof(LDAvis) !== \"undefined\"){\n",
       "   // already loaded: just create the visualization\n",
       "   !function(LDAvis){\n",
       "       new LDAvis(\"#\" + \"ldavis_el32861112409022776606342436\", ldavis_el32861112409022776606342436_data);\n",
       "   }(LDAvis);\n",
       "}else if(typeof define === \"function\" && define.amd){\n",
       "   // require.js is available: use it to load d3/LDAvis\n",
       "   require.config({paths: {d3: \"https://cdnjs.cloudflare.com/ajax/libs/d3/3.5.5/d3.min\"}});\n",
       "   require([\"d3\"], function(d3){\n",
       "      window.d3 = d3;\n",
       "      LDAvis_load_lib(\"https://cdn.rawgit.com/bmabey/pyLDAvis/files/ldavis.v1.0.0.js\", function(){\n",
       "        new LDAvis(\"#\" + \"ldavis_el32861112409022776606342436\", ldavis_el32861112409022776606342436_data);\n",
       "      });\n",
       "    });\n",
       "}else{\n",
       "    // require.js not available: dynamically load d3 & LDAvis\n",
       "    LDAvis_load_lib(\"https://cdnjs.cloudflare.com/ajax/libs/d3/3.5.5/d3.min.js\", function(){\n",
       "         LDAvis_load_lib(\"https://cdn.rawgit.com/bmabey/pyLDAvis/files/ldavis.v1.0.0.js\", function(){\n",
       "                 new LDAvis(\"#\" + \"ldavis_el32861112409022776606342436\", ldavis_el32861112409022776606342436_data);\n",
       "            })\n",
       "         });\n",
       "}\n",
       "</script>"
      ],
      "text/plain": [
       "PreparedData(topic_coordinates=              x         y  topics  cluster       Freq\n",
       "topic                                                \n",
       "0     -0.115550 -0.115501       1        1  29.433748\n",
       "3     -0.077353  0.111970       2        1  25.302289\n",
       "2      0.055586  0.063252       3        1  23.604723\n",
       "1      0.137318 -0.059722       4        1  21.659240, topic_info=    Category       Freq        Term      Total  loglift  logprob\n",
       "279  Default  15.000000        hall  15.000000  30.0000  30.0000\n",
       "390  Default  54.000000      leader  54.000000  29.0000  29.0000\n",
       "64   Default  27.000000         big  27.000000  28.0000  28.0000\n",
       "104  Default  49.000000     company  49.000000  27.0000  27.0000\n",
       "645  Default  15.000000     speaker  15.000000  26.0000  26.0000\n",
       "..       ...        ...         ...        ...      ...      ...\n",
       "767   Topic4   4.847684         way  13.251393   0.5241  -5.1633\n",
       "667   Topic4   5.225445       steve  22.515172   0.0691  -5.0883\n",
       "472   Topic4   4.881309         new  18.288811   0.2089  -5.1564\n",
       "244   Topic4   4.303170        folk  16.582182   0.1808  -5.2825\n",
       "319   Topic4   4.298879  indi young  12.432626   0.4678  -5.2835\n",
       "\n",
       "[269 rows x 6 columns], token_table=      Topic      Freq                   Term\n",
       "term                                        \n",
       "4         1  0.659709               academic\n",
       "4         2  0.164927               academic\n",
       "4         3  0.164927               academic\n",
       "7         1  0.896411  academic professional\n",
       "15        4  0.913114                  admit\n",
       "...     ...       ...                    ...\n",
       "793       1  0.421781                  young\n",
       "793       3  0.301272                  young\n",
       "793       4  0.241018                  young\n",
       "794       1  0.896409            young steve\n",
       "795       1  0.896409   young steve portigal\n",
       "\n",
       "[375 rows x 3 columns], R=30, lambda_step=0.01, plot_opts={'xlab': 'PC1', 'ylab': 'PC2'}, topic_order=[1, 4, 3, 2])"
      ]
     },
     "execution_count": 55,
     "metadata": {},
     "output_type": "execute_result"
    }
   ],
   "source": [
    "pyLDAvis.sklearn.prepare(lda22, ideal_att_matrix, ideal_att_vector)"
   ]
  },
  {
   "cell_type": "markdown",
   "metadata": {},
   "source": [
    "#### Topic groups (4)\n",
    "1. industry\n",
    "2. field\n",
    "3. erika hall\n",
    "4. Indi young\n",
    "\n",
    "#### Topic groups (6) - some overlap between 2, 3, & 4; 5 is mostly overlapped with 2 & 4\n",
    "1. steve portigal\n",
    "2. expert\n",
    "3. diverse\n",
    "4. new\n",
    "5. startup\n",
    "6. doing research\n",
    "\n",
    "#### Topic groups (8)\n",
    "1. google\n",
    "2. jared spool\n",
    "3. different\n",
    "4. new\n",
    "5. consultant\n",
    "6. erika hall\n",
    "7. practioner\n",
    "8. steve portigal\n"
   ]
  },
  {
   "cell_type": "code",
   "execution_count": null,
   "metadata": {},
   "outputs": [],
   "source": [
    "#4 topics"
   ]
  },
  {
   "cell_type": "code",
   "execution_count": null,
   "metadata": {},
   "outputs": [],
   "source": [
    "lda_W22 = lda22.transform(ideal_att_matrix)"
   ]
  },
  {
   "cell_type": "code",
   "execution_count": null,
   "metadata": {
    "scrolled": true
   },
   "outputs": [],
   "source": [
    "top_doc_column22 = datadf.ideal_attendees.dropna()"
   ]
  },
  {
   "cell_type": "code",
   "execution_count": null,
   "metadata": {},
   "outputs": [],
   "source": [
    "word_count_matrix22, count_vect22 = nlp.create_wordcount_matrix(datadf.ideal_attendees.dropna(), max_df=0.8, min_df=2, ngram=(1,3))"
   ]
  },
  {
   "cell_type": "code",
   "execution_count": null,
   "metadata": {},
   "outputs": [],
   "source": [
    "LDA22a = LatentDirichletAllocation(n_components=5, random_state=42)\n",
    "LDA22a.fit(word_count_matrix22)"
   ]
  },
  {
   "cell_type": "code",
   "execution_count": null,
   "metadata": {},
   "outputs": [],
   "source": [
    "lda_H = LDA22a.transform(word_count_matrix22)"
   ]
  },
  {
   "cell_type": "code",
   "execution_count": null,
   "metadata": {},
   "outputs": [],
   "source": [
    "nlp.find_top_documents_per_topic(lda_H, top_doc_column22, 3)"
   ]
  },
  {
   "cell_type": "markdown",
   "metadata": {},
   "source": [
    "# Recommendations"
   ]
  },
  {
   "cell_type": "code",
   "execution_count": 41,
   "metadata": {},
   "outputs": [],
   "source": [
    "stop_words = ['nan', 'Nan', 'NaN', 'NAN', 'dont', 'research', 'conference', 'make', 'researcher', 'people', 'like', 'event']\n",
    "\n",
    "stopWords = nlp.set_stop_words(stop_words)"
   ]
  },
  {
   "cell_type": "code",
   "execution_count": 42,
   "metadata": {},
   "outputs": [],
   "source": [
    "recommendations = datadf.recommendations.fillna('nan').apply(nlp.basic_clean)\n",
    "recommendations = recommendations.apply(nlp.lemmatize)"
   ]
  },
  {
   "cell_type": "code",
   "execution_count": 43,
   "metadata": {},
   "outputs": [
    {
     "data": {
      "text/plain": [
       "(<726x1211 sparse matrix of type '<class 'numpy.int64'>'\n",
       " \twith 6262 stored elements in Compressed Sparse Row format>,\n",
       " CountVectorizer(analyzer='word', binary=False, decode_error='strict',\n",
       "                 dtype=<class 'numpy.int64'>, encoding='utf-8', input='content',\n",
       "                 lowercase=True, max_df=0.7, max_features=None, min_df=2,\n",
       "                 ngram_range=(1, 3), preprocessor=None,\n",
       "                 stop_words=['nan', 'Nan', 'NaN', 'NAN', 'dont', 'research',\n",
       "                             'conference', 'make', 'researcher', 'people',\n",
       "                             'like', 'event', 'am', 'however', 'whatever',\n",
       "                             'bottom', 'namely', 'most', 'whole', 'since',\n",
       "                             'among', 'than', 'anyone', 'hers', 'every', 'yet',\n",
       "                             'few', 'sixty', 'together', 'serious', ...],\n",
       "                 strip_accents=None, token_pattern='(?u)\\\\b\\\\w\\\\w+\\\\b',\n",
       "                 tokenizer=None, vocabulary=None))"
      ]
     },
     "execution_count": 43,
     "metadata": {},
     "output_type": "execute_result"
    }
   ],
   "source": [
    "recommendations_matrix, recommendations_vector = nlp.create_wordcount_matrix(recommendations, ngram=(1,3), max_df=.7, stop_words=stopWords)\n",
    "recommendations_matrix, recommendations_vector"
   ]
  },
  {
   "cell_type": "code",
   "execution_count": 44,
   "metadata": {},
   "outputs": [],
   "source": [
    "lda23 = LatentDirichletAllocation(n_components= 3, random_state = 42)"
   ]
  },
  {
   "cell_type": "code",
   "execution_count": 45,
   "metadata": {},
   "outputs": [
    {
     "data": {
      "text/plain": [
       "LatentDirichletAllocation(batch_size=128, doc_topic_prior=None,\n",
       "                          evaluate_every=-1, learning_decay=0.7,\n",
       "                          learning_method='batch', learning_offset=10.0,\n",
       "                          max_doc_update_iter=100, max_iter=10,\n",
       "                          mean_change_tol=0.001, n_components=3, n_jobs=None,\n",
       "                          perp_tol=0.1, random_state=42, topic_word_prior=None,\n",
       "                          total_samples=1000000.0, verbose=0)"
      ]
     },
     "execution_count": 45,
     "metadata": {},
     "output_type": "execute_result"
    }
   ],
   "source": [
    "lda23.fit(recommendations_matrix)"
   ]
  },
  {
   "cell_type": "code",
   "execution_count": 46,
   "metadata": {},
   "outputs": [
    {
     "data": {
      "text/html": [
       "\n",
       "<link rel=\"stylesheet\" type=\"text/css\" href=\"https://cdn.rawgit.com/bmabey/pyLDAvis/files/ldavis.v1.0.0.css\">\n",
       "\n",
       "\n",
       "<div id=\"ldavis_el32861112389142832800129139\"></div>\n",
       "<script type=\"text/javascript\">\n",
       "\n",
       "var ldavis_el32861112389142832800129139_data = {\"mdsDat\": {\"x\": [-0.028140797981182325, -0.0710631828697508, 0.09920398085093315], \"y\": [-0.09241081131549952, 0.06911511339892658, 0.023295697916573047], \"topics\": [1, 2, 3], \"cluster\": [1, 1, 1], \"Freq\": [40.12136235735325, 31.624672645125017, 28.25396499752173]}, \"tinfo\": {\"Category\": [\"Default\", \"Default\", \"Default\", \"Default\", \"Default\", \"Default\", \"Default\", \"Default\", \"Default\", \"Default\", \"Default\", \"Default\", \"Default\", \"Default\", \"Default\", \"Default\", \"Default\", \"Default\", \"Default\", \"Default\", \"Default\", \"Default\", \"Default\", \"Default\", \"Default\", \"Default\", \"Default\", \"Default\", \"Default\", \"Default\", \"Topic1\", \"Topic1\", \"Topic1\", \"Topic1\", \"Topic1\", \"Topic1\", \"Topic1\", \"Topic1\", \"Topic1\", \"Topic1\", \"Topic1\", \"Topic1\", \"Topic1\", \"Topic1\", \"Topic1\", \"Topic1\", \"Topic1\", \"Topic1\", \"Topic1\", \"Topic1\", \"Topic1\", \"Topic1\", \"Topic1\", \"Topic1\", \"Topic1\", \"Topic1\", \"Topic1\", \"Topic1\", \"Topic1\", \"Topic1\", \"Topic1\", \"Topic1\", \"Topic1\", \"Topic1\", \"Topic1\", \"Topic1\", \"Topic1\", \"Topic1\", \"Topic1\", \"Topic1\", \"Topic1\", \"Topic1\", \"Topic1\", \"Topic1\", \"Topic1\", \"Topic1\", \"Topic1\", \"Topic1\", \"Topic1\", \"Topic1\", \"Topic1\", \"Topic1\", \"Topic1\", \"Topic1\", \"Topic1\", \"Topic1\", \"Topic1\", \"Topic1\", \"Topic1\", \"Topic1\", \"Topic1\", \"Topic1\", \"Topic1\", \"Topic1\", \"Topic1\", \"Topic1\", \"Topic1\", \"Topic1\", \"Topic1\", \"Topic1\", \"Topic1\", \"Topic2\", \"Topic2\", \"Topic2\", \"Topic2\", \"Topic2\", \"Topic2\", \"Topic2\", \"Topic2\", \"Topic2\", \"Topic2\", \"Topic2\", \"Topic2\", \"Topic2\", \"Topic2\", \"Topic2\", \"Topic2\", \"Topic2\", \"Topic2\", \"Topic2\", \"Topic2\", \"Topic2\", \"Topic2\", \"Topic2\", \"Topic2\", \"Topic2\", \"Topic2\", \"Topic2\", \"Topic2\", \"Topic2\", \"Topic2\", \"Topic2\", \"Topic2\", \"Topic2\", \"Topic2\", \"Topic2\", \"Topic2\", \"Topic2\", \"Topic2\", \"Topic2\", \"Topic2\", \"Topic2\", \"Topic2\", \"Topic2\", \"Topic2\", \"Topic2\", \"Topic2\", \"Topic2\", \"Topic2\", \"Topic2\", \"Topic2\", \"Topic2\", \"Topic2\", \"Topic2\", \"Topic2\", \"Topic2\", \"Topic2\", \"Topic2\", \"Topic2\", \"Topic2\", \"Topic2\", \"Topic2\", \"Topic2\", \"Topic2\", \"Topic2\", \"Topic2\", \"Topic2\", \"Topic2\", \"Topic2\", \"Topic2\", \"Topic2\", \"Topic3\", \"Topic3\", \"Topic3\", \"Topic3\", \"Topic3\", \"Topic3\", \"Topic3\", \"Topic3\", \"Topic3\", \"Topic3\", \"Topic3\", \"Topic3\", \"Topic3\", \"Topic3\", \"Topic3\", \"Topic3\", \"Topic3\", \"Topic3\", \"Topic3\", \"Topic3\", \"Topic3\", \"Topic3\", \"Topic3\", \"Topic3\", \"Topic3\", \"Topic3\", \"Topic3\", \"Topic3\", \"Topic3\", \"Topic3\", \"Topic3\", \"Topic3\", \"Topic3\", \"Topic3\", \"Topic3\", \"Topic3\", \"Topic3\", \"Topic3\", \"Topic3\", \"Topic3\", \"Topic3\", \"Topic3\", \"Topic3\", \"Topic3\", \"Topic3\", \"Topic3\", \"Topic3\", \"Topic3\", \"Topic3\", \"Topic3\", \"Topic3\", \"Topic3\", \"Topic3\", \"Topic3\", \"Topic3\", \"Topic3\", \"Topic3\", \"Topic3\", \"Topic3\", \"Topic3\", \"Topic3\", \"Topic3\", \"Topic3\", \"Topic3\"], \"Freq\": [35.0, 16.0, 28.0, 22.0, 10.0, 73.0, 19.0, 14.0, 25.0, 11.0, 13.0, 15.0, 24.0, 14.0, 13.0, 16.0, 8.0, 8.0, 7.0, 7.0, 30.0, 22.0, 8.0, 16.0, 17.0, 12.0, 35.0, 7.0, 12.0, 10.0, 8.867435988056418, 6.307737771951573, 20.420834308446654, 5.449741107576407, 5.443078170436479, 5.428043999964999, 25.54555917446127, 5.354428281861056, 4.587323698915688, 4.586680679920563, 4.585401716375642, 4.580949100129378, 4.575225575061542, 4.573198811458449, 4.56541770232656, 4.5621859584231785, 3.728635498802341, 3.728560889082813, 3.7284232557474364, 3.7247758825978523, 3.7175368405802205, 3.708252187889634, 3.684960840489762, 2.8682273689781623, 2.868106340705925, 2.8680852479936054, 2.8680107968048354, 2.8679721724947385, 2.8679002544056704, 2.867859951733253, 6.273934468664838, 10.213143793363015, 6.177891497128828, 10.574980360553285, 7.981881822331666, 16.239845045956233, 9.747249255163071, 28.018039019585725, 7.8609348687649305, 34.68624533557926, 13.005823214445854, 11.001050424841404, 27.135833846752252, 7.191821112246954, 19.994090047566605, 14.518893800158342, 11.285853957970815, 23.15447642151233, 12.988599682834337, 21.678335151078826, 14.614968490450089, 22.109774354378903, 13.149748397122583, 9.627554178593101, 9.942751550979857, 16.278455687978802, 18.275437048790188, 10.168378567905087, 16.184701891098307, 14.682646839248179, 14.882499240471388, 10.043578463499221, 23.648186153226444, 19.56082533340317, 15.199377846897534, 14.780709417164049, 13.16955663735816, 12.315980713078487, 11.980822073214354, 11.043631061261099, 11.00530648977432, 7.90081163444303, 7.882683385254691, 6.195471527702352, 6.182874842633257, 5.333240635452287, 6.858623921250396, 5.293447258288744, 4.515635256337925, 4.508931384117557, 4.496332080621983, 4.470732930981655, 4.471042774162375, 6.622847117649984, 3.67216666641655, 3.672004677407834, 3.6707793414672785, 3.663810191657395, 3.6594552168481744, 3.634126939749125, 4.2847916900773075, 4.26168480426218, 2.8246090616068393, 2.824570869279339, 2.8243070166803954, 2.820665916487815, 2.8204982434697423, 2.8186794347586632, 2.8180710609887165, 2.8170094067968425, 2.8170201293003947, 10.941854671909962, 7.544616337515274, 8.068724217592765, 10.401147459835368, 10.864226099188341, 6.56726880692335, 5.907513727795971, 9.297453750696205, 7.537229556881424, 11.348433230367633, 9.062413095599448, 13.878088296636642, 15.428965746254006, 18.241055629702988, 6.862622458424086, 6.732858234429735, 10.258102463338659, 31.290363173799182, 14.255498728098715, 17.620462824589044, 8.342022639791441, 14.844768423516044, 14.036052129592901, 15.448333494355268, 12.84716379141166, 8.692751178031921, 18.76170152353905, 16.350044360608358, 12.88903441972279, 11.057396054947269, 12.342270175822076, 12.42849500178132, 10.181729304156882, 11.705760370211497, 10.467859236975418, 9.480944530814858, 9.52932030369746, 10.04668800267188, 9.36987993810334, 9.18066671033439, 10.22424194731051, 6.873044807334658, 6.865628678802346, 15.194750330873704, 5.252877793445283, 5.246683493641431, 4.426226894231497, 4.418167769526478, 4.416047867473081, 4.393531660749206, 5.816485076979741, 3.5981249560967594, 3.5951502167060236, 3.593261673214708, 3.5915457740015024, 3.5795578445889604, 3.5448960006889925, 6.916177641659479, 2.767854370582673, 2.7678027990346226, 2.7677879343799128, 2.767742275929375, 2.7676098500309796, 2.7675743477781425, 2.7675743477781425, 2.7675575931473064, 2.7669428062623385, 2.7620813168894114, 2.758073498359038, 2.757515071366303, 28.441921019286823, 9.396647380204188, 10.559555994373246, 10.825525175252388, 5.6753087309380525, 12.87900235441092, 34.98543404669719, 7.784670667294797, 6.09015919685659, 14.377729605464879, 7.575881781107591, 8.71508429587526, 17.570051230491465, 9.100321673123826, 14.815398738106035, 8.129614144984657, 13.69637793856115, 8.199789804473511, 14.552593401155445, 8.916142439488867, 11.273681835158449, 17.1038641076099, 10.44140311457789, 10.162101088284036, 9.223663644387388, 6.844556269635605, 7.634376263517616, 9.358676333489113, 9.748786655196113, 7.863693412545743, 8.288479592094937, 7.8566565951154725, 7.755276350088274, 7.805293485741351], \"Term\": [\"attend\", \"real\", \"ux\", \"company\", \"europe\", \"talk\", \"year\", \"come\", \"sure\", \"insight\", \"track\", \"maybe\", \"consider\", \"survey\", \"audience\", \"having\", \"engage\", \"amazing\", \"live\", \"traditional\", \"think\", \"design\", \"kind\", \"product\", \"world\", \"smaller\", \"day\", \"participant\", \"hear\", \"multiple\", \"material\", \"apply\", \"company\", \"matter\", \"access\", \"local\", \"ux\", \"connect\", \"collective\", \"success\", \"sharing\", \"limited\", \"everyday\", \"cool\", \"prefer\", \"trend\", \"degree\", \"exchange\", \"corporate\", \"innovation\", \"worked\", \"series\", \"organized\", \"doubt\", \"supporting\", \"uxr collective\", \"method interesting\", \"written\", \"contribute\", \"mix speaker\", \"looking\", \"area\", \"advance\", \"look\", \"organization\", \"design\", \"type\", \"need\", \"say\", \"just\", \"thing\", \"field\", \"speaker\", \"uxr\", \"work\", \"interesting\", \"bring\", \"way\", \"doing\", \"focus\", \"ve\", \"good\", \"try\", \"professional\", \"let\", \"really\", \"lot\", \"opportunity\", \"new\", \"love\", \"different\", \"academic\", \"don\", \"talk\", \"topic\", \"experience\", \"time\", \"learn\", \"attendee\", \"sure\", \"know\", \"engage\", \"amazing\", \"author\", \"view\", \"interaction\", \"participant\", \"target\", \"continue\", \"mean\", \"style\", \"choose\", \"decision\", \"point\", \"consider having\", \"understanding\", \"different level\", \"lineup\", \"choice\", \"definitely\", \"hope\", \"volunteer\", \"forget\", \"organizing\", \"pilot\", \"sound\", \"great idea\", \"organisation\", \"thought leader\", \"senior practitioner\", \"push\", \"track\", \"remote\", \"multiple\", \"audience\", \"survey\", \"le\", \"doe\", \"smaller\", \"start\", \"having\", \"outside\", \"location\", \"consider\", \"think\", \"end\", \"price\", \"product\", \"don\", \"sure\", \"workshop\", \"understand\", \"great\", \"attendee\", \"day\", \"learn\", \"fun\", \"talk\", \"just\", \"good\", \"different\", \"way\", \"experience\", \"level\", \"topic\", \"want\", \"feel\", \"method\", \"time\", \"know\", \"idea\", \"europe\", \"live\", \"traditional\", \"real\", \"application\", \"north\", \"america\", \"welcome\", \"major\", \"near\", \"invite\", \"send\", \"north america\", \"excited\", \"able attend\", \"planning\", \"recording\", \"kind\", \"buck\", \"main\", \"attend want\", \"ideation\", \"likely attend\", \"north america europe\", \"america europe\", \"high quality\", \"day day\", \"global\", \"problem\", \"period\", \"attend\", \"insight\", \"come\", \"maybe\", \"relevant\", \"year\", \"talk\", \"hear\", \"money\", \"session\", \"practice\", \"option\", \"experience\", \"world\", \"time\", \"cost\", \"day\", \"industry\", \"topic\", \"use\", \"new\", \"don\", \"help\", \"love\", \"want\", \"hand\", \"accessible\", \"workshop\", \"speaker\", \"content\", \"focus\", \"lot\", \"level\", \"just\"], \"Total\": [35.0, 16.0, 28.0, 22.0, 10.0, 73.0, 19.0, 14.0, 25.0, 11.0, 13.0, 15.0, 24.0, 14.0, 13.0, 16.0, 8.0, 8.0, 7.0, 7.0, 30.0, 22.0, 8.0, 16.0, 17.0, 12.0, 35.0, 7.0, 12.0, 10.0, 9.450620806132038, 6.869779282499116, 22.313857800884325, 6.009334150547785, 6.009231403580355, 6.008653207576934, 28.303934563662068, 6.006712539679615, 5.148735524385628, 5.148760398700262, 5.148740421130407, 5.148668191054681, 5.14858268170986, 5.148379094519018, 5.148373477138789, 5.1483869612322, 4.288264728538489, 4.288262752359097, 4.288259046718435, 4.28812762772071, 4.288092248681043, 4.287944805160975, 4.287580553500433, 3.4277333371630845, 3.4277304571334133, 3.4277285141142784, 3.427727724067644, 3.4277273783040925, 3.427725412202003, 3.4277241729585066, 7.700007664840811, 12.852222412471551, 7.715293061949157, 13.696793442880075, 10.250024308707594, 22.275028175143582, 12.825137748147489, 40.983176180869386, 10.246519903572999, 58.84158318192897, 18.752987347481813, 15.398678366754782, 45.12754047502376, 9.392319706356123, 32.353199576662874, 22.12549631181325, 16.212339745087984, 40.91862966576969, 19.66320319197905, 38.294930010211445, 23.07464298771451, 40.06265327267269, 20.45838869560261, 13.681423526175585, 14.535847368958917, 28.965227987372316, 34.86225903374988, 15.368642748238873, 31.370453280036493, 27.133145375797373, 28.147053233400026, 15.367250772423612, 72.04241343463553, 73.30796090363941, 41.457731618264475, 44.779255649436834, 38.031643378136074, 32.245270333536645, 29.766241753073363, 25.585807204469532, 27.14694432554714, 8.47345750645114, 8.473371635600042, 6.778674311982276, 6.7781697711484235, 5.930589568441733, 7.628997447643033, 5.931774300601983, 5.083476555011111, 5.083625095277986, 5.08299950658347, 5.083057653626457, 5.084056748945727, 7.632631771493258, 4.236000318476095, 4.236000513335342, 4.235975295875443, 4.2360655012207555, 4.235902999403809, 4.235648196867642, 5.079755592784438, 5.087420582479092, 3.3885331970054495, 3.3885343980911204, 3.3885323184377136, 3.388588398233763, 3.388586943153118, 3.388417948295959, 3.388634504974501, 3.388380170498478, 3.388647275538914, 13.589233488657127, 9.296856928190108, 10.137541041262304, 13.506988930509934, 14.451389163354383, 8.489195501788727, 7.637721139841261, 12.752985377107692, 10.127563783587085, 16.164404084713073, 12.685121711249138, 21.202781903820686, 24.676788333791606, 30.596602360104125, 9.28287262951537, 9.282412817437395, 16.181752812572924, 72.04241343463553, 25.585807204469532, 37.25228172984318, 12.738399759568832, 30.521055056482755, 29.766241753073363, 35.40734282407279, 32.245270333536645, 15.34378620553466, 73.30796090363941, 58.84158318192897, 40.06265327267269, 28.147053233400026, 40.91862966576969, 44.779255649436834, 25.377676485235853, 41.457731618264475, 29.622665067928907, 21.971293011218457, 26.292038457791723, 38.031643378136074, 27.14694432554714, 23.71946248488224, 10.8114324213711, 7.49069813537677, 7.491137447867386, 16.654838584241364, 5.828719824090557, 5.8290376036080165, 4.998270060620878, 4.9984455521549584, 4.99844429512205, 4.999182495099009, 6.666093731649319, 4.167778548726507, 4.167885269986117, 4.1678802918428115, 4.1679145741077335, 4.168162720876895, 4.169705872598168, 8.337144864518248, 3.3373663837552097, 3.3373678117442243, 3.3373682456646354, 3.3373696405434585, 3.3373742391695105, 3.3373740984492026, 3.3373740984492026, 3.3373751705942887, 3.3373993094318517, 3.337489607242505, 3.3377199339494887, 3.3375787666223724, 35.875858305329395, 11.676027145294405, 14.241557048569646, 15.072739438397353, 7.533123990138977, 19.31451056355557, 73.30796090363941, 12.621084111472891, 9.201518306600784, 28.638814845975773, 12.598567833967333, 15.971745740202916, 44.779255649436834, 17.62939000373029, 38.031643378136074, 15.174536708229365, 35.40734282407279, 16.044689761737338, 41.457731618264475, 19.403595160222146, 31.370453280036493, 72.04241343463553, 27.910068983531957, 27.133145375797373, 29.622665067928907, 12.588230042307275, 17.742534037894067, 37.25228172984318, 45.12754047502376, 23.734112434167624, 38.294930010211445, 34.86225903374988, 25.377676485235853, 58.84158318192897], \"loglift\": [30.0, 29.0, 28.0, 27.0, 26.0, 25.0, 24.0, 23.0, 22.0, 21.0, 20.0, 19.0, 18.0, 17.0, 16.0, 15.0, 14.0, 13.0, 12.0, 11.0, 10.0, 9.0, 8.0, 7.0, 6.0, 5.0, 4.0, 3.0, 2.0, 1.0, 0.8496, 0.8279, 0.8246, 0.8155, 0.8143, 0.8116, 0.8107, 0.7983, 0.7978, 0.7977, 0.7974, 0.7964, 0.7952, 0.7948, 0.7931, 0.7924, 0.7734, 0.7734, 0.7734, 0.7724, 0.7705, 0.768, 0.7618, 0.7351, 0.735, 0.735, 0.735, 0.735, 0.7349, 0.7349, 0.7084, 0.6834, 0.691, 0.6546, 0.6632, 0.5973, 0.6388, 0.5329, 0.6482, 0.3848, 0.5473, 0.577, 0.4046, 0.6463, 0.432, 0.492, 0.551, 0.3439, 0.4986, 0.3443, 0.4566, 0.3188, 0.4713, 0.5619, 0.5335, 0.337, 0.2674, 0.5002, 0.2515, 0.2992, 0.276, 0.488, -0.2007, -0.4079, -0.0902, -0.1952, -0.1472, -0.0492, 0.0032, 0.0731, 0.0104, 1.0813, 1.079, 1.0613, 1.0593, 1.0451, 1.0448, 1.0374, 1.0328, 1.0313, 1.0286, 1.0229, 1.0227, 1.0093, 1.0084, 1.0084, 1.008, 1.0061, 1.005, 0.9981, 0.981, 0.9741, 0.9692, 0.9692, 0.9691, 0.9678, 0.9677, 0.9671, 0.9669, 0.9666, 0.9665, 0.9346, 0.9424, 0.923, 0.8899, 0.8659, 0.8945, 0.8944, 0.8352, 0.8558, 0.7975, 0.8149, 0.7274, 0.6816, 0.634, 0.8492, 0.8301, 0.6954, 0.3173, 0.5663, 0.4026, 0.7279, 0.4305, 0.3995, 0.3218, 0.231, 0.583, -0.2116, -0.1294, 0.0172, 0.2169, -0.0473, -0.1305, 0.238, -0.1134, 0.111, 0.3108, 0.1363, -0.1799, 0.0875, 0.202, 1.2081, 1.1779, 1.1767, 1.1722, 1.1599, 1.1587, 1.1424, 1.1405, 1.1401, 1.1348, 1.1276, 1.117, 1.1161, 1.1156, 1.1151, 1.1117, 1.1016, 1.0771, 1.0768, 1.0768, 1.0768, 1.0768, 1.0767, 1.0767, 1.0767, 1.0767, 1.0765, 1.0747, 1.0732, 1.073, 1.0317, 1.0468, 0.9648, 0.933, 0.9808, 0.8587, 0.5242, 0.7807, 0.8512, 0.5749, 0.7553, 0.6582, 0.3284, 0.6027, 0.3212, 0.6398, 0.3141, 0.5927, 0.217, 0.4863, 0.2405, -0.174, 0.2807, 0.2818, 0.0972, 0.6546, 0.4206, -0.1175, -0.2684, 0.1593, -0.2665, -0.2261, 0.0784, -0.7561], \"logprob\": [30.0, 29.0, 28.0, 27.0, 26.0, 25.0, 24.0, 23.0, 22.0, 21.0, 20.0, 19.0, 18.0, 17.0, 16.0, 15.0, 14.0, 13.0, 12.0, 11.0, 10.0, 9.0, 8.0, 7.0, 6.0, 5.0, 4.0, 3.0, 2.0, 1.0, -5.7203, -6.0609, -4.8861, -6.2071, -6.2084, -6.2111, -4.6622, -6.2248, -6.3794, -6.3795, -6.3798, -6.3808, -6.382, -6.3825, -6.3842, -6.3849, -6.5867, -6.5867, -6.5867, -6.5877, -6.5896, -6.5921, -6.5984, -6.849, -6.8491, -6.8491, -6.8491, -6.8491, -6.8491, -6.8491, -6.0663, -5.579, -6.0817, -5.5442, -5.8255, -5.1152, -5.6257, -4.5699, -5.8408, -4.3564, -5.3373, -5.5047, -4.6018, -5.9298, -4.9073, -5.2273, -5.4792, -4.7605, -5.3386, -4.8264, -5.2207, -4.8067, -5.3263, -5.6381, -5.6059, -5.1129, -4.9971, -5.5834, -5.1186, -5.216, -5.2025, -5.5958, -4.7394, -4.9292, -5.1814, -5.2094, -5.3248, -5.3918, -5.4194, -5.5008, -5.5043, -5.5978, -5.6001, -5.8409, -5.8429, -5.9908, -5.7392, -5.9983, -6.1572, -6.1587, -6.1615, -6.1672, -6.1671, -5.7742, -6.3639, -6.364, -6.3643, -6.3662, -6.3674, -6.3744, -6.2097, -6.2151, -6.6264, -6.6264, -6.6265, -6.6278, -6.6278, -6.6285, -6.6287, -6.6291, -6.6291, -5.2721, -5.6439, -5.5767, -5.3228, -5.2793, -5.7826, -5.8885, -5.435, -5.6449, -5.2357, -5.4606, -5.0344, -4.9285, -4.7611, -5.7386, -5.7577, -5.3367, -4.2214, -5.0076, -4.7957, -5.5434, -4.9671, -5.0231, -4.9272, -5.1116, -5.5022, -4.7329, -4.8705, -5.1084, -5.2616, -5.1517, -5.1447, -5.3441, -5.2046, -5.3164, -5.4154, -5.4104, -5.3575, -5.4272, -5.4476, -5.2273, -5.6244, -5.6255, -4.8311, -5.8933, -5.8944, -6.0645, -6.0663, -6.0668, -6.0719, -5.7913, -6.2716, -6.2724, -6.273, -6.2734, -6.2768, -6.2865, -5.6182, -6.534, -6.534, -6.534, -6.534, -6.534, -6.5341, -6.5341, -6.5341, -6.5343, -6.536, -6.5375, -6.5377, -4.2042, -5.3117, -5.195, -5.1701, -5.8159, -4.9964, -3.9971, -5.4999, -5.7454, -4.8863, -5.5271, -5.387, -4.6858, -5.3437, -4.8564, -5.4565, -4.9349, -5.4479, -4.8743, -5.3642, -5.1296, -4.7127, -5.2062, -5.2334, -5.3303, -5.6286, -5.5194, -5.3157, -5.2749, -5.4898, -5.4372, -5.4907, -5.5037, -5.4972]}, \"token.table\": {\"Topic\": [3, 1, 2, 3, 1, 1, 2, 3, 1, 2, 2, 3, 3, 3, 1, 1, 2, 3, 1, 2, 3, 3, 1, 2, 3, 2, 3, 2, 1, 2, 3, 3, 2, 2, 1, 1, 3, 1, 3, 1, 1, 2, 3, 2, 1, 2, 3, 2, 1, 1, 1, 1, 2, 3, 1, 2, 3, 3, 2, 2, 1, 1, 2, 1, 2, 3, 2, 1, 2, 1, 2, 3, 1, 2, 3, 1, 2, 3, 2, 3, 1, 1, 3, 1, 2, 3, 1, 2, 3, 1, 2, 3, 1, 2, 3, 2, 1, 2, 3, 1, 2, 3, 1, 2, 3, 2, 1, 2, 3, 1, 2, 1, 3, 1, 2, 3, 3, 2, 1, 2, 3, 3, 1, 2, 3, 1, 2, 3, 2, 1, 2, 3, 3, 1, 2, 3, 2, 3, 1, 2, 3, 1, 2, 1, 2, 3, 1, 2, 3, 1, 2, 3, 3, 1, 2, 3, 1, 1, 2, 3, 1, 2, 3, 1, 3, 1, 2, 3, 1, 2, 3, 3, 3, 1, 1, 1, 2, 3, 2, 1, 2, 3, 1, 1, 2, 3, 2, 3, 3, 1, 2, 3, 1, 2, 3, 3, 3, 3, 1, 2, 3, 1, 2, 3, 2, 1, 3, 1, 2, 1, 2, 3, 2, 3, 2, 3, 1, 2, 1, 2, 3, 1, 2, 3, 3, 1, 2, 1, 2, 3, 2, 1, 3, 1, 2, 3, 3, 1, 3, 2, 3, 1, 3, 3, 2, 1, 1, 2, 3, 1, 1, 2, 2, 1, 2, 3, 2, 3, 2, 1, 1, 1, 2, 1, 2, 1, 2, 3, 2, 1, 2, 3, 1, 2, 3, 2, 1, 2, 3, 1, 2, 3, 1, 2, 3, 1, 1, 2, 3, 1, 2, 3, 1, 2, 3, 2, 1, 2, 3, 1, 3, 1, 3, 1, 1, 2, 3, 2, 1, 2, 1, 2, 3, 1, 2, 3, 3, 1, 2, 3, 1, 1, 2, 3, 1, 2, 3, 1, 1, 2, 3], \"Freq\": [0.9597125682107627, 0.6507344838769018, 0.19522034516307055, 0.13014689677538036, 0.8320531635744556, 0.39453214434023753, 0.16908520471724467, 0.4508938792459858, 0.7776762271793972, 0.12961270452989954, 0.9441342058441982, 0.8002768860998931, 0.8989103143678222, 0.8578212971113497, 0.8733905054686555, 0.7780755482644146, 0.15561510965288292, 0.07780755482644146, 0.027873897580074036, 0.1672433854804442, 0.780469132242073, 0.8989118907981194, 0.4031412530861744, 0.47033146193387015, 0.13438041769539147, 0.7403574587532047, 0.2221072376259614, 0.8851288207480542, 0.6784955270464759, 0.12336282309935925, 0.18504423464903888, 0.8989123922991025, 0.9443086870882049, 0.7869279226345661, 0.9711122228591503, 0.210651124014653, 0.7723874547203943, 0.8963039998940647, 0.044815199994703236, 0.8324020780036677, 0.324191296362706, 0.6078586806800738, 0.04052391204533825, 0.9442869922727021, 0.4634679316747654, 0.2106672416703479, 0.33706758667255665, 0.9835788452827972, 0.8752159637176923, 0.971179454388473, 0.9327794698086106, 0.3953992214303397, 0.06589987023838995, 0.5271989619071196, 0.16945637603510624, 0.42364094008776565, 0.3953982107485813, 0.8989035239270516, 0.7867732791986387, 0.9443654935643832, 0.9327782339042454, 0.7182931430746379, 0.26935992865298924, 0.5329154663409174, 0.39080467531667273, 0.07105539551212231, 0.9442925703308016, 0.13092910590616083, 0.785574635436965, 0.6611333806133335, 0.25428206946666676, 0.05085641389333335, 0.3331370904415262, 0.430302075153638, 0.23597210572941438, 0.8752139402077608, 0.7540769198688713, 0.2154505485339632, 0.9441246378953715, 0.9249468165044319, 0.9711410516455927, 0.93277866376063, 0.9597204621804087, 0.334976537292858, 0.2679812298342864, 0.4019718447514296, 0.22756967454974178, 0.4096254141895352, 0.3185975443696385, 0.7143470197902583, 0.19482191448825226, 0.06494063816275075, 0.5744885809723022, 0.20890493853538258, 0.20890493853538258, 0.8853388252625625, 0.39103777383418825, 0.5865566607512824, 0.8988792035456419, 0.5491398647579468, 0.32449173826605954, 0.1248045147177152, 0.29487840388690545, 0.4914640064781758, 0.1965856025912703, 0.8853247829635047, 0.07943928547850972, 0.39719642739254857, 0.556074998349568, 0.3093216411688555, 0.6805076105714822, 0.3961624814349245, 0.6338599702958793, 0.3582936325202347, 0.2508055427641643, 0.3582936325202347, 0.8989100255892981, 0.787439459820039, 0.3372757711140737, 0.37943524250333294, 0.2529568283355553, 0.898911515091112, 0.4362814179613051, 0.06232591685161501, 0.4986073348129201, 0.9328080568642356, 0.17129113996673317, 0.7708101298502993, 0.843086499630045, 0.6779508937836208, 0.04519672625224139, 0.2711803575134483, 0.9000773528750675, 0.5948174421443672, 0.2719165449802821, 0.13595827249014106, 0.11994513904344685, 0.839615973304128, 0.4052021423880199, 0.3315290255901981, 0.2578559087923763, 0.23559358476060394, 0.8245775466621138, 0.3721476010551358, 0.40315990114306377, 0.21708610061549585, 0.6879543893226926, 0.27518175572907705, 0.06879543893226926, 0.2758329748616836, 0.3940471069452623, 0.31523768555620985, 0.8989102764652895, 0.9711249228853049, 0.944272461992685, 0.9344923361603212, 0.832133229738568, 0.2358181121081575, 0.6602907139028411, 0.14149086726489452, 0.8031076796093517, 0.14601957811079122, 0.07300978905539561, 0.7792200035587943, 0.1298700005931324, 0.5163176598101213, 0.25815882990506067, 0.22947451547116504, 0.5528293823752525, 0.07371058431670033, 0.36855292158350167, 0.8989120076735252, 0.8002489902515418, 0.9523183909950494, 0.8320389372164005, 0.1990348212586751, 0.13268988083911673, 0.729794344615142, 0.9835501057393743, 0.3803432744879647, 0.3803432744879647, 0.26624029214157524, 0.8752153734194311, 0.8752162801392117, 0.32603315018652146, 0.6520663003730429, 0.7891460036943887, 0.19728650092359717, 0.8001308221737121, 0.6832071744861535, 0.17080179362153838, 0.14640153738989004, 0.510034071142417, 0.12750851778560424, 0.3506484239104117, 0.8577745315805023, 0.9597193158854211, 0.8989103143678222, 0.6506755452524213, 0.1952026635757264, 0.13013510905048428, 0.187831690336055, 0.25044225378140667, 0.5634950710081651, 0.8853689378869879, 0.7804859538922112, 0.1951214884730528, 0.9329270785908269, 0.8853385114490809, 0.07883251124923793, 0.7094926012431414, 0.15766502249847586, 0.9175517553964629, 0.8988551910749355, 0.885339054810359, 0.9596554328278439, 0.13101640822433633, 0.9171148575703543, 0.23812230402186035, 0.15874820268124024, 0.6349928107249609, 0.9711805140404756, 0.7541142736994213, 0.21546122105697751, 0.8988171744086784, 0.37078801471606404, 0.6179800245267734, 0.7309180934913527, 0.21927542804740582, 0.07309180934913528, 0.8853090204033981, 0.060042611337355715, 0.9006391700603358, 0.5523864685952191, 0.27619323429760956, 0.172620771436006, 0.9593002773376857, 0.1327470517290067, 0.7964823103740402, 0.8605058743823675, 0.10756323429779593, 0.780752887349623, 0.19518822183740575, 0.9597438907166089, 0.8853788090604539, 0.9328478284481637, 0.27934116837674, 0.20950587628255501, 0.488847044659295, 0.9711112992762313, 0.23523903707951901, 0.7057171112385571, 0.885324402799612, 0.598304266436665, 0.1772753382034563, 0.2215941727543204, 0.7899234377536033, 0.19748085943840082, 0.7869369247073945, 0.9711075312928108, 0.8752146755754181, 0.4299258535051586, 0.5471783590065655, 0.20759249966137203, 0.761172498758364, 0.2728216656617861, 0.2591805823786968, 0.4774379149081257, 0.8429181129653867, 0.6932228854591354, 0.05332483734301041, 0.21329934937204165, 0.32683367526583, 0.588300615478494, 0.09805010257974901, 0.8853123568198379, 0.34182062212629866, 0.2629389400971528, 0.39440841014572925, 0.36181429650125024, 0.2894514372010002, 0.36181429650125024, 0.14717533565593607, 0.8094643461076485, 0.9344375335140586, 0.9711779704304345, 0.6354361623207531, 0.14663911438171223, 0.1955188191756163, 0.7797187208725643, 0.07797187208725644, 0.15594374417451287, 0.23550838854358136, 0.6280223694495504, 0.0785027961811938, 0.9442869488347819, 0.30922104643268117, 0.20614736428845412, 0.4638315696490218, 0.9186002017323779, 0.07066155397941369, 0.7452897919629851, 0.2129399405608529, 0.8752151716937235, 0.6500642288587676, 0.3033633068007582, 0.04333761525725117, 0.8851947063260739, 0.19656326497635498, 0.7862530599054199, 0.33757934936200384, 0.33757934936200384, 0.30382141442580346, 0.5620911596470337, 0.2932649528593219, 0.1221937303580508, 0.800248789001112, 0.6181768808555946, 0.15454422021389866, 0.24727075234223786, 0.9328157530263823, 0.2684399326871003, 0.4831918788367805, 0.24159593941839025, 0.05672346007368406, 0.39706422051578844, 0.5105111406631565, 0.8752154617046249, 0.31064727114138546, 0.051774545190230906, 0.6730690874730018], \"Term\": [\"able attend\", \"academic\", \"academic\", \"academic\", \"access\", \"accessible\", \"accessible\", \"accessible\", \"advance\", \"advance\", \"amazing\", \"america\", \"america europe\", \"application\", \"apply\", \"area\", \"area\", \"area\", \"attend\", \"attend\", \"attend\", \"attend want\", \"attendee\", \"attendee\", \"attendee\", \"audience\", \"audience\", \"author\", \"bring\", \"bring\", \"bring\", \"buck\", \"choice\", \"choose\", \"collective\", \"come\", \"come\", \"company\", \"company\", \"connect\", \"consider\", \"consider\", \"consider\", \"consider having\", \"content\", \"content\", \"content\", \"continue\", \"contribute\", \"cool\", \"corporate\", \"cost\", \"cost\", \"cost\", \"day\", \"day\", \"day\", \"day day\", \"decision\", \"definitely\", \"degree\", \"design\", \"design\", \"different\", \"different\", \"different\", \"different level\", \"doe\", \"doe\", \"doing\", \"doing\", \"doing\", \"don\", \"don\", \"don\", \"doubt\", \"end\", \"end\", \"engage\", \"europe\", \"everyday\", \"exchange\", \"excited\", \"experience\", \"experience\", \"experience\", \"feel\", \"feel\", \"feel\", \"field\", \"field\", \"field\", \"focus\", \"focus\", \"focus\", \"forget\", \"fun\", \"fun\", \"global\", \"good\", \"good\", \"good\", \"great\", \"great\", \"great\", \"great idea\", \"hand\", \"hand\", \"hand\", \"having\", \"having\", \"hear\", \"hear\", \"help\", \"help\", \"help\", \"high quality\", \"hope\", \"idea\", \"idea\", \"idea\", \"ideation\", \"industry\", \"industry\", \"industry\", \"innovation\", \"insight\", \"insight\", \"interaction\", \"interesting\", \"interesting\", \"interesting\", \"invite\", \"just\", \"just\", \"just\", \"kind\", \"kind\", \"know\", \"know\", \"know\", \"le\", \"le\", \"learn\", \"learn\", \"learn\", \"let\", \"let\", \"let\", \"level\", \"level\", \"level\", \"likely attend\", \"limited\", \"lineup\", \"live\", \"local\", \"location\", \"location\", \"location\", \"look\", \"look\", \"look\", \"looking\", \"looking\", \"lot\", \"lot\", \"lot\", \"love\", \"love\", \"love\", \"main\", \"major\", \"material\", \"matter\", \"maybe\", \"maybe\", \"maybe\", \"mean\", \"method\", \"method\", \"method\", \"method interesting\", \"mix speaker\", \"money\", \"money\", \"multiple\", \"multiple\", \"near\", \"need\", \"need\", \"need\", \"new\", \"new\", \"new\", \"north\", \"north america\", \"north america europe\", \"opportunity\", \"opportunity\", \"opportunity\", \"option\", \"option\", \"option\", \"organisation\", \"organization\", \"organization\", \"organized\", \"organizing\", \"outside\", \"outside\", \"outside\", \"participant\", \"period\", \"pilot\", \"planning\", \"point\", \"point\", \"practice\", \"practice\", \"practice\", \"prefer\", \"price\", \"price\", \"problem\", \"product\", \"product\", \"professional\", \"professional\", \"professional\", \"push\", \"real\", \"real\", \"really\", \"really\", \"really\", \"recording\", \"relevant\", \"relevant\", \"remote\", \"remote\", \"say\", \"say\", \"send\", \"senior practitioner\", \"series\", \"session\", \"session\", \"session\", \"sharing\", \"smaller\", \"smaller\", \"sound\", \"speaker\", \"speaker\", \"speaker\", \"start\", \"start\", \"style\", \"success\", \"supporting\", \"sure\", \"sure\", \"survey\", \"survey\", \"talk\", \"talk\", \"talk\", \"target\", \"thing\", \"thing\", \"thing\", \"think\", \"think\", \"think\", \"thought leader\", \"time\", \"time\", \"time\", \"topic\", \"topic\", \"topic\", \"track\", \"track\", \"traditional\", \"trend\", \"try\", \"try\", \"try\", \"type\", \"type\", \"type\", \"understand\", \"understand\", \"understand\", \"understanding\", \"use\", \"use\", \"use\", \"ux\", \"ux\", \"uxr\", \"uxr\", \"uxr collective\", \"ve\", \"ve\", \"ve\", \"view\", \"volunteer\", \"volunteer\", \"want\", \"want\", \"want\", \"way\", \"way\", \"way\", \"welcome\", \"work\", \"work\", \"work\", \"worked\", \"workshop\", \"workshop\", \"workshop\", \"world\", \"world\", \"world\", \"written\", \"year\", \"year\", \"year\"]}, \"R\": 30, \"lambda.step\": 0.01, \"plot.opts\": {\"xlab\": \"PC1\", \"ylab\": \"PC2\"}, \"topic.order\": [2, 3, 1]};\n",
       "\n",
       "function LDAvis_load_lib(url, callback){\n",
       "  var s = document.createElement('script');\n",
       "  s.src = url;\n",
       "  s.async = true;\n",
       "  s.onreadystatechange = s.onload = callback;\n",
       "  s.onerror = function(){console.warn(\"failed to load library \" + url);};\n",
       "  document.getElementsByTagName(\"head\")[0].appendChild(s);\n",
       "}\n",
       "\n",
       "if(typeof(LDAvis) !== \"undefined\"){\n",
       "   // already loaded: just create the visualization\n",
       "   !function(LDAvis){\n",
       "       new LDAvis(\"#\" + \"ldavis_el32861112389142832800129139\", ldavis_el32861112389142832800129139_data);\n",
       "   }(LDAvis);\n",
       "}else if(typeof define === \"function\" && define.amd){\n",
       "   // require.js is available: use it to load d3/LDAvis\n",
       "   require.config({paths: {d3: \"https://cdnjs.cloudflare.com/ajax/libs/d3/3.5.5/d3.min\"}});\n",
       "   require([\"d3\"], function(d3){\n",
       "      window.d3 = d3;\n",
       "      LDAvis_load_lib(\"https://cdn.rawgit.com/bmabey/pyLDAvis/files/ldavis.v1.0.0.js\", function(){\n",
       "        new LDAvis(\"#\" + \"ldavis_el32861112389142832800129139\", ldavis_el32861112389142832800129139_data);\n",
       "      });\n",
       "    });\n",
       "}else{\n",
       "    // require.js not available: dynamically load d3 & LDAvis\n",
       "    LDAvis_load_lib(\"https://cdnjs.cloudflare.com/ajax/libs/d3/3.5.5/d3.min.js\", function(){\n",
       "         LDAvis_load_lib(\"https://cdn.rawgit.com/bmabey/pyLDAvis/files/ldavis.v1.0.0.js\", function(){\n",
       "                 new LDAvis(\"#\" + \"ldavis_el32861112389142832800129139\", ldavis_el32861112389142832800129139_data);\n",
       "            })\n",
       "         });\n",
       "}\n",
       "</script>"
      ],
      "text/plain": [
       "PreparedData(topic_coordinates=              x         y  topics  cluster       Freq\n",
       "topic                                                \n",
       "1     -0.028141 -0.092411       1        1  40.121362\n",
       "2     -0.071063  0.069115       2        1  31.624673\n",
       "0      0.099204  0.023296       3        1  28.253965, topic_info=     Category       Freq     Term      Total  loglift  logprob\n",
       "71    Default  35.000000   attend  35.000000  30.0000  30.0000\n",
       "857   Default  16.000000     real  16.000000  29.0000  29.0000\n",
       "1133  Default  28.000000       ux  28.000000  28.0000  28.0000\n",
       "188   Default  22.000000  company  22.000000  27.0000  27.0000\n",
       "341   Default  10.000000   europe  10.000000  26.0000  26.0000\n",
       "...       ...        ...      ...        ...      ...      ...\n",
       "203    Topic3   7.863693  content  23.734112   0.1593  -5.4898\n",
       "385    Topic3   8.288480    focus  38.294930  -0.2665  -5.4372\n",
       "627    Topic3   7.856657      lot  34.862259  -0.2261  -5.4907\n",
       "588    Topic3   7.755276    level  25.377676   0.0784  -5.5037\n",
       "548    Topic3   7.805293     just  58.841583  -0.7561  -5.4972\n",
       "\n",
       "[235 rows x 6 columns], token_table=      Topic      Freq         Term\n",
       "term                              \n",
       "5         3  0.959713  able attend\n",
       "8         1  0.650734     academic\n",
       "8         2  0.195220     academic\n",
       "8         3  0.130147     academic\n",
       "9         1  0.832053       access\n",
       "...     ...       ...          ...\n",
       "1200      3  0.510511        world\n",
       "1206      1  0.875215      written\n",
       "1207      1  0.310647         year\n",
       "1207      2  0.051775         year\n",
       "1207      3  0.673069         year\n",
       "\n",
       "[331 rows x 3 columns], R=30, lambda_step=0.01, plot_opts={'xlab': 'PC1', 'ylab': 'PC2'}, topic_order=[2, 3, 1])"
      ]
     },
     "execution_count": 46,
     "metadata": {},
     "output_type": "execute_result"
    }
   ],
   "source": [
    "pyLDAvis.sklearn.prepare(lda23, recommendations_matrix, recommendations_vector)"
   ]
  },
  {
   "cell_type": "markdown",
   "metadata": {},
   "source": [
    "#### Topic groups (4)\n",
    "1. pratical\n",
    "2. affordable\n",
    "3. expensive\n",
    "4. levels\n",
    "\n",
    "#### Topic groups (6) - some overlap between 2, 3, & 4; 5 is mostly overlapped with 2 & 4\n",
    "1. ux\n",
    "2. interesting\n",
    "3. content\n",
    "4. food\n",
    "5. learning\n",
    "6. affordalbe\n",
    "\n",
    "#### Topic groups (8) - significant overlap amoung 6 of the 8 groups\n",
    "1. events\n",
    "2. ux\n",
    "3. world\n",
    "4. new\n",
    "5. food\n",
    "6. diverse\n",
    "7. make accessible\n",
    "8. north america"
   ]
  },
  {
   "cell_type": "code",
   "execution_count": null,
   "metadata": {},
   "outputs": [],
   "source": [
    "#4 topics, 4. misc"
   ]
  },
  {
   "cell_type": "code",
   "execution_count": null,
   "metadata": {},
   "outputs": [],
   "source": [
    "lda_W23 = lda23.transform(recommendations_matrix)"
   ]
  },
  {
   "cell_type": "code",
   "execution_count": null,
   "metadata": {},
   "outputs": [],
   "source": [
    "top_doc_column23 = datadf.recommendations.dropna()"
   ]
  },
  {
   "cell_type": "code",
   "execution_count": null,
   "metadata": {},
   "outputs": [],
   "source": [
    "word_count_matrix23, count_vect23 = nlp.create_wordcount_matrix(datadf.recommendations.dropna(), max_df=0.8, min_df=2, ngram=(1,3))"
   ]
  },
  {
   "cell_type": "code",
   "execution_count": null,
   "metadata": {},
   "outputs": [],
   "source": [
    "LDA23a = LatentDirichletAllocation(n_components=5, random_state=42)\n",
    "LDA23a.fit(word_count_matrix23)"
   ]
  },
  {
   "cell_type": "code",
   "execution_count": null,
   "metadata": {},
   "outputs": [],
   "source": [
    "lda23.fit(recommendations_matrix)"
   ]
  },
  {
   "cell_type": "code",
   "execution_count": null,
   "metadata": {},
   "outputs": [],
   "source": [
    "lda_H = LDA23a.transform(word_count_matrix23)"
   ]
  },
  {
   "cell_type": "code",
   "execution_count": null,
   "metadata": {},
   "outputs": [],
   "source": [
    "nlp.find_top_documents_per_topic(lda_H, top_doc_column23, 3)"
   ]
  },
  {
   "cell_type": "code",
   "execution_count": null,
   "metadata": {},
   "outputs": [],
   "source": []
  },
  {
   "cell_type": "code",
   "execution_count": null,
   "metadata": {},
   "outputs": [],
   "source": []
  },
  {
   "cell_type": "code",
   "execution_count": null,
   "metadata": {},
   "outputs": [],
   "source": []
  },
  {
   "cell_type": "code",
   "execution_count": null,
   "metadata": {},
   "outputs": [],
   "source": []
  }
 ],
 "metadata": {
  "kernelspec": {
   "display_name": "Python 3",
   "language": "python",
   "name": "python3"
  },
  "language_info": {
   "codemirror_mode": {
    "name": "ipython",
    "version": 3
   },
   "file_extension": ".py",
   "mimetype": "text/x-python",
   "name": "python",
   "nbconvert_exporter": "python",
   "pygments_lexer": "ipython3",
   "version": "3.7.3"
  }
 },
 "nbformat": 4,
 "nbformat_minor": 2
}

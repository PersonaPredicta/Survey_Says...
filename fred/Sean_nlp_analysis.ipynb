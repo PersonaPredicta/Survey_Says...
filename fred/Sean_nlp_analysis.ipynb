{
 "cells": [
  {
   "cell_type": "markdown",
   "metadata": {},
   "source": [
    "# Topic modeling analysis"
   ]
  },
  {
   "cell_type": "markdown",
   "metadata": {},
   "source": [
    "#### Description\n",
    "- All 11 qualitative questions analyzed for key topics\n",
    "- Number of topics varied within the recommended range of 2 - 5 based on unique key words for each group. This was a subjective process that had to be completed by adjusting the number of components, examing the key words, looking at the intertopic distance in the visualizations and reading the most relevant responses to each topic.\n",
    "- Non-cleaned text of must prominent topcs was included to make reading easier."
   ]
  },
  {
   "cell_type": "markdown",
   "metadata": {},
   "source": [
    "### Import libraries and data"
   ]
  },
  {
   "cell_type": "code",
   "execution_count": 1,
   "metadata": {},
   "outputs": [],
   "source": [
    "import pandas as pd\n",
    "import sys\n",
    "import numpy as np\n",
    "sys.path.append('../')\n",
    "\n",
    "\n",
    "import nlp\n",
    "import wrangle\n",
    "\n",
    "import nltk\n",
    "\n",
    "from sklearn.decomposition import LatentDirichletAllocation\n",
    "import pyLDAvis\n",
    "import pyLDAvis.sklearn\n",
    "pyLDAvis.enable_notebook()\n",
    "\n",
    "import warnings\n",
    "warnings.filterwarnings(\"ignore\")"
   ]
  },
  {
   "cell_type": "code",
   "execution_count": 91,
   "metadata": {
    "scrolled": false
   },
   "outputs": [],
   "source": [
    "pd.set_option('display.max_columns', None)\n",
    "datadf, dictionarydf = wrangle.wrangle_data(path_prefix='../')"
   ]
  },
  {
   "cell_type": "markdown",
   "metadata": {},
   "source": [
    " "
   ]
  },
  {
   "cell_type": "markdown",
   "metadata": {},
   "source": [
    "### Viewing the imported data"
   ]
  },
  {
   "cell_type": "code",
   "execution_count": 3,
   "metadata": {
    "scrolled": true
   },
   "outputs": [
    {
     "data": {
      "text/html": [
       "<div>\n",
       "<style scoped>\n",
       "    .dataframe tbody tr th:only-of-type {\n",
       "        vertical-align: middle;\n",
       "    }\n",
       "\n",
       "    .dataframe tbody tr th {\n",
       "        vertical-align: top;\n",
       "    }\n",
       "\n",
       "    .dataframe thead th {\n",
       "        text-align: right;\n",
       "    }\n",
       "</style>\n",
       "<table border=\"1\" class=\"dataframe\">\n",
       "  <thead>\n",
       "    <tr style=\"text-align: right;\">\n",
       "      <th></th>\n",
       "      <th>job_title</th>\n",
       "      <th>job_taxo</th>\n",
       "      <th>job_id</th>\n",
       "      <th>job_conduct_res</th>\n",
       "      <th>job_analyze_res</th>\n",
       "      <th>job_buy_res_report</th>\n",
       "      <th>job_manage_res_proj</th>\n",
       "      <th>job_observe_res</th>\n",
       "      <th>job_plan_res</th>\n",
       "      <th>job_teach_res</th>\n",
       "      <th>job_advocate_res</th>\n",
       "      <th>job_hire_res_vendor</th>\n",
       "      <th>job_lead_res_team</th>\n",
       "      <th>num_employees</th>\n",
       "      <th>num_researchers</th>\n",
       "      <th>primary_industry</th>\n",
       "      <th>types_res_used</th>\n",
       "      <th>future_res</th>\n",
       "      <th>exp_conduct_res</th>\n",
       "      <th>exp_analyze_res</th>\n",
       "      <th>exp_buy_res_report</th>\n",
       "      <th>exp_manage_res_proj</th>\n",
       "      <th>exp_observe_res</th>\n",
       "      <th>exp_plan_res</th>\n",
       "      <th>exp_teach_res</th>\n",
       "      <th>exp_advocate_res</th>\n",
       "      <th>exp_hire_res_vendor</th>\n",
       "      <th>exp_lead_res_team</th>\n",
       "      <th>research_educ</th>\n",
       "      <th>research_educ_cat</th>\n",
       "      <th>research_educ_desc</th>\n",
       "      <th>learning_talks</th>\n",
       "      <th>learning_read</th>\n",
       "      <th>learning_meetup</th>\n",
       "      <th>learning_workshop</th>\n",
       "      <th>learning_conference</th>\n",
       "      <th>likely_watch_video</th>\n",
       "      <th>likely_internet</th>\n",
       "      <th>likely_book</th>\n",
       "      <th>likely_online_group</th>\n",
       "      <th>likely_colleague</th>\n",
       "      <th>likely_meetup</th>\n",
       "      <th>likely_conference</th>\n",
       "      <th>likely_workshop</th>\n",
       "      <th>factor_speaker</th>\n",
       "      <th>factor_diverse_speak</th>\n",
       "      <th>factor_topics</th>\n",
       "      <th>factor_format_sessions</th>\n",
       "      <th>factor_size</th>\n",
       "      <th>factor_network</th>\n",
       "      <th>factor_variety_attend</th>\n",
       "      <th>factor_code</th>\n",
       "      <th>factor_location</th>\n",
       "      <th>factor_ability_to_pay</th>\n",
       "      <th>how_pick_events</th>\n",
       "      <th>best_event</th>\n",
       "      <th>events_attend_recent</th>\n",
       "      <th>ideal_conference_size</th>\n",
       "      <th>ideal_conference_size_cat</th>\n",
       "      <th>ideal_structure</th>\n",
       "      <th>ideal_structure_cat</th>\n",
       "      <th>ideal_multi_track</th>\n",
       "      <th>ideal_single_track</th>\n",
       "      <th>ideal_unconference</th>\n",
       "      <th>session_keynote</th>\n",
       "      <th>session_long_talk</th>\n",
       "      <th>session_short_talk</th>\n",
       "      <th>session_workshop</th>\n",
       "      <th>session_network</th>\n",
       "      <th>session_social_event</th>\n",
       "      <th>session_qa</th>\n",
       "      <th>sesson_topic_tables</th>\n",
       "      <th>other_conference_types</th>\n",
       "      <th>ideal_topics</th>\n",
       "      <th>ideal_attendees</th>\n",
       "      <th>recommendations</th>\n",
       "      <th>persona_id</th>\n",
       "    </tr>\n",
       "    <tr>\n",
       "      <th>resp_id</th>\n",
       "      <th></th>\n",
       "      <th></th>\n",
       "      <th></th>\n",
       "      <th></th>\n",
       "      <th></th>\n",
       "      <th></th>\n",
       "      <th></th>\n",
       "      <th></th>\n",
       "      <th></th>\n",
       "      <th></th>\n",
       "      <th></th>\n",
       "      <th></th>\n",
       "      <th></th>\n",
       "      <th></th>\n",
       "      <th></th>\n",
       "      <th></th>\n",
       "      <th></th>\n",
       "      <th></th>\n",
       "      <th></th>\n",
       "      <th></th>\n",
       "      <th></th>\n",
       "      <th></th>\n",
       "      <th></th>\n",
       "      <th></th>\n",
       "      <th></th>\n",
       "      <th></th>\n",
       "      <th></th>\n",
       "      <th></th>\n",
       "      <th></th>\n",
       "      <th></th>\n",
       "      <th></th>\n",
       "      <th></th>\n",
       "      <th></th>\n",
       "      <th></th>\n",
       "      <th></th>\n",
       "      <th></th>\n",
       "      <th></th>\n",
       "      <th></th>\n",
       "      <th></th>\n",
       "      <th></th>\n",
       "      <th></th>\n",
       "      <th></th>\n",
       "      <th></th>\n",
       "      <th></th>\n",
       "      <th></th>\n",
       "      <th></th>\n",
       "      <th></th>\n",
       "      <th></th>\n",
       "      <th></th>\n",
       "      <th></th>\n",
       "      <th></th>\n",
       "      <th></th>\n",
       "      <th></th>\n",
       "      <th></th>\n",
       "      <th></th>\n",
       "      <th></th>\n",
       "      <th></th>\n",
       "      <th></th>\n",
       "      <th></th>\n",
       "      <th></th>\n",
       "      <th></th>\n",
       "      <th></th>\n",
       "      <th></th>\n",
       "      <th></th>\n",
       "      <th></th>\n",
       "      <th></th>\n",
       "      <th></th>\n",
       "      <th></th>\n",
       "      <th></th>\n",
       "      <th></th>\n",
       "      <th></th>\n",
       "      <th></th>\n",
       "      <th></th>\n",
       "      <th></th>\n",
       "      <th></th>\n",
       "      <th></th>\n",
       "      <th></th>\n",
       "    </tr>\n",
       "  </thead>\n",
       "  <tbody>\n",
       "    <tr>\n",
       "      <th>284</th>\n",
       "      <td>Academic</td>\n",
       "      <td>4</td>\n",
       "      <td>1.0</td>\n",
       "      <td>3</td>\n",
       "      <td>2</td>\n",
       "      <td>0</td>\n",
       "      <td>3</td>\n",
       "      <td>3</td>\n",
       "      <td>3</td>\n",
       "      <td>3</td>\n",
       "      <td>2</td>\n",
       "      <td>1</td>\n",
       "      <td>4</td>\n",
       "      <td>0.0</td>\n",
       "      <td>2.0</td>\n",
       "      <td>maritime</td>\n",
       "      <td>both qualitative and quantitative research</td>\n",
       "      <td>both qualitative and quantitative research</td>\n",
       "      <td>5</td>\n",
       "      <td>5</td>\n",
       "      <td>5</td>\n",
       "      <td>5</td>\n",
       "      <td>5</td>\n",
       "      <td>5</td>\n",
       "      <td>5</td>\n",
       "      <td>5</td>\n",
       "      <td>5</td>\n",
       "      <td>5</td>\n",
       "      <td>sort of, psychology background.</td>\n",
       "      <td>True</td>\n",
       "      <td>NaN</td>\n",
       "      <td>0</td>\n",
       "      <td>1</td>\n",
       "      <td>1</td>\n",
       "      <td>2</td>\n",
       "      <td>3</td>\n",
       "      <td>1</td>\n",
       "      <td>3</td>\n",
       "      <td>3</td>\n",
       "      <td>2</td>\n",
       "      <td>3</td>\n",
       "      <td>3</td>\n",
       "      <td>4</td>\n",
       "      <td>4</td>\n",
       "      <td>3</td>\n",
       "      <td>3</td>\n",
       "      <td>4</td>\n",
       "      <td>2</td>\n",
       "      <td>3</td>\n",
       "      <td>1</td>\n",
       "      <td>3</td>\n",
       "      <td>1</td>\n",
       "      <td>3</td>\n",
       "      <td>4</td>\n",
       "      <td>NaN</td>\n",
       "      <td>NaN</td>\n",
       "      <td>CHI, INTERACT</td>\n",
       "      <td>depending on the professional values</td>\n",
       "      <td>7.0</td>\n",
       "      <td>any, depending on the values</td>\n",
       "      <td>5.0</td>\n",
       "      <td>False</td>\n",
       "      <td>False</td>\n",
       "      <td>False</td>\n",
       "      <td>4</td>\n",
       "      <td>2</td>\n",
       "      <td>2</td>\n",
       "      <td>2</td>\n",
       "      <td>3</td>\n",
       "      <td>2</td>\n",
       "      <td>2</td>\n",
       "      <td>2</td>\n",
       "      <td>NaN</td>\n",
       "      <td>research-practice connections</td>\n",
       "      <td>NaN</td>\n",
       "      <td>research-practice connections</td>\n",
       "      <td>2</td>\n",
       "    </tr>\n",
       "  </tbody>\n",
       "</table>\n",
       "</div>"
      ],
      "text/plain": [
       "        job_title job_taxo job_id  job_conduct_res  job_analyze_res  \\\n",
       "resp_id                                                               \n",
       "284      Academic        4    1.0                3                2   \n",
       "\n",
       "         job_buy_res_report  job_manage_res_proj  job_observe_res  \\\n",
       "resp_id                                                             \n",
       "284                       0                    3                3   \n",
       "\n",
       "         job_plan_res  job_teach_res  job_advocate_res  job_hire_res_vendor  \\\n",
       "resp_id                                                                       \n",
       "284                 3              3                 2                    1   \n",
       "\n",
       "         job_lead_res_team num_employees num_researchers primary_industry  \\\n",
       "resp_id                                                                     \n",
       "284                      4           0.0             2.0         maritime   \n",
       "\n",
       "                                     types_res_used  \\\n",
       "resp_id                                               \n",
       "284      both qualitative and quantitative research   \n",
       "\n",
       "                                         future_res  exp_conduct_res  \\\n",
       "resp_id                                                                \n",
       "284      both qualitative and quantitative research                5   \n",
       "\n",
       "         exp_analyze_res  exp_buy_res_report  exp_manage_res_proj  \\\n",
       "resp_id                                                             \n",
       "284                    5                   5                    5   \n",
       "\n",
       "         exp_observe_res  exp_plan_res  exp_teach_res  exp_advocate_res  \\\n",
       "resp_id                                                                   \n",
       "284                    5             5              5                 5   \n",
       "\n",
       "         exp_hire_res_vendor  exp_lead_res_team  \\\n",
       "resp_id                                           \n",
       "284                        5                  5   \n",
       "\n",
       "                           research_educ  research_educ_cat  \\\n",
       "resp_id                                                       \n",
       "284      sort of, psychology background.               True   \n",
       "\n",
       "        research_educ_desc  learning_talks  learning_read  learning_meetup  \\\n",
       "resp_id                                                                      \n",
       "284                    NaN               0              1                1   \n",
       "\n",
       "         learning_workshop  learning_conference  likely_watch_video  \\\n",
       "resp_id                                                               \n",
       "284                      2                    3                   1   \n",
       "\n",
       "         likely_internet  likely_book  likely_online_group  likely_colleague  \\\n",
       "resp_id                                                                        \n",
       "284                    3            3                    2                 3   \n",
       "\n",
       "         likely_meetup  likely_conference  likely_workshop  factor_speaker  \\\n",
       "resp_id                                                                      \n",
       "284                  3                  4                4               3   \n",
       "\n",
       "         factor_diverse_speak  factor_topics  factor_format_sessions  \\\n",
       "resp_id                                                                \n",
       "284                         3              4                       2   \n",
       "\n",
       "         factor_size  factor_network  factor_variety_attend  factor_code  \\\n",
       "resp_id                                                                    \n",
       "284                3               1                      3            1   \n",
       "\n",
       "         factor_location  factor_ability_to_pay how_pick_events best_event  \\\n",
       "resp_id                                                                      \n",
       "284                    3                      4             NaN        NaN   \n",
       "\n",
       "        events_attend_recent                 ideal_conference_size  \\\n",
       "resp_id                                                              \n",
       "284            CHI, INTERACT  depending on the professional values   \n",
       "\n",
       "        ideal_conference_size_cat               ideal_structure  \\\n",
       "resp_id                                                           \n",
       "284                           7.0  any, depending on the values   \n",
       "\n",
       "        ideal_structure_cat  ideal_multi_track  ideal_single_track  \\\n",
       "resp_id                                                              \n",
       "284                     5.0              False               False   \n",
       "\n",
       "         ideal_unconference  session_keynote  session_long_talk  \\\n",
       "resp_id                                                           \n",
       "284                   False                4                  2   \n",
       "\n",
       "         session_short_talk  session_workshop  session_network  \\\n",
       "resp_id                                                          \n",
       "284                       2                 2                3   \n",
       "\n",
       "         session_social_event  session_qa  sesson_topic_tables  \\\n",
       "resp_id                                                          \n",
       "284                         2           2                    2   \n",
       "\n",
       "        other_conference_types                   ideal_topics ideal_attendees  \\\n",
       "resp_id                                                                         \n",
       "284                        NaN  research-practice connections             NaN   \n",
       "\n",
       "                       recommendations persona_id  \n",
       "resp_id                                            \n",
       "284      research-practice connections          2  "
      ]
     },
     "execution_count": 3,
     "metadata": {},
     "output_type": "execute_result"
    }
   ],
   "source": [
    "datadf.head(1)"
   ]
  },
  {
   "cell_type": "code",
   "execution_count": 4,
   "metadata": {},
   "outputs": [
    {
     "data": {
      "text/html": [
       "<div>\n",
       "<style scoped>\n",
       "    .dataframe tbody tr th:only-of-type {\n",
       "        vertical-align: middle;\n",
       "    }\n",
       "\n",
       "    .dataframe tbody tr th {\n",
       "        vertical-align: top;\n",
       "    }\n",
       "\n",
       "    .dataframe thead th {\n",
       "        text-align: right;\n",
       "    }\n",
       "</style>\n",
       "<table border=\"1\" class=\"dataframe\">\n",
       "  <thead>\n",
       "    <tr style=\"text-align: right;\">\n",
       "      <th></th>\n",
       "      <th>job_conduct_res</th>\n",
       "      <th>job_analyze_res</th>\n",
       "      <th>job_buy_res_report</th>\n",
       "      <th>job_manage_res_proj</th>\n",
       "      <th>job_observe_res</th>\n",
       "      <th>job_plan_res</th>\n",
       "      <th>job_teach_res</th>\n",
       "      <th>job_advocate_res</th>\n",
       "      <th>job_hire_res_vendor</th>\n",
       "      <th>job_lead_res_team</th>\n",
       "      <th>exp_conduct_res</th>\n",
       "      <th>exp_analyze_res</th>\n",
       "      <th>exp_buy_res_report</th>\n",
       "      <th>exp_manage_res_proj</th>\n",
       "      <th>exp_observe_res</th>\n",
       "      <th>exp_plan_res</th>\n",
       "      <th>exp_teach_res</th>\n",
       "      <th>exp_advocate_res</th>\n",
       "      <th>exp_hire_res_vendor</th>\n",
       "      <th>exp_lead_res_team</th>\n",
       "      <th>learning_talks</th>\n",
       "      <th>learning_read</th>\n",
       "      <th>learning_meetup</th>\n",
       "      <th>learning_workshop</th>\n",
       "      <th>learning_conference</th>\n",
       "      <th>likely_watch_video</th>\n",
       "      <th>likely_internet</th>\n",
       "      <th>likely_book</th>\n",
       "      <th>likely_online_group</th>\n",
       "      <th>likely_colleague</th>\n",
       "      <th>likely_meetup</th>\n",
       "      <th>likely_conference</th>\n",
       "      <th>likely_workshop</th>\n",
       "      <th>factor_speaker</th>\n",
       "      <th>factor_diverse_speak</th>\n",
       "      <th>factor_topics</th>\n",
       "      <th>factor_format_sessions</th>\n",
       "      <th>factor_size</th>\n",
       "      <th>factor_network</th>\n",
       "      <th>factor_variety_attend</th>\n",
       "      <th>factor_code</th>\n",
       "      <th>factor_location</th>\n",
       "      <th>factor_ability_to_pay</th>\n",
       "      <th>session_keynote</th>\n",
       "      <th>session_long_talk</th>\n",
       "      <th>session_short_talk</th>\n",
       "      <th>session_workshop</th>\n",
       "      <th>session_network</th>\n",
       "      <th>session_social_event</th>\n",
       "      <th>session_qa</th>\n",
       "      <th>sesson_topic_tables</th>\n",
       "    </tr>\n",
       "  </thead>\n",
       "  <tbody>\n",
       "    <tr>\n",
       "      <th>count</th>\n",
       "      <td>726.000000</td>\n",
       "      <td>726.000000</td>\n",
       "      <td>726.000000</td>\n",
       "      <td>726.000000</td>\n",
       "      <td>726.000000</td>\n",
       "      <td>726.000000</td>\n",
       "      <td>726.000000</td>\n",
       "      <td>726.000000</td>\n",
       "      <td>726.000000</td>\n",
       "      <td>726.000000</td>\n",
       "      <td>726.000000</td>\n",
       "      <td>726.000000</td>\n",
       "      <td>726.000000</td>\n",
       "      <td>726.000000</td>\n",
       "      <td>726.000000</td>\n",
       "      <td>726.000000</td>\n",
       "      <td>726.000000</td>\n",
       "      <td>726.000000</td>\n",
       "      <td>726.000000</td>\n",
       "      <td>726.000000</td>\n",
       "      <td>726.000000</td>\n",
       "      <td>726.000000</td>\n",
       "      <td>726.000000</td>\n",
       "      <td>726.000000</td>\n",
       "      <td>726.000000</td>\n",
       "      <td>726.000000</td>\n",
       "      <td>726.000000</td>\n",
       "      <td>726.000000</td>\n",
       "      <td>726.000000</td>\n",
       "      <td>726.000000</td>\n",
       "      <td>726.000000</td>\n",
       "      <td>726.000000</td>\n",
       "      <td>726.000000</td>\n",
       "      <td>726.000000</td>\n",
       "      <td>726.000000</td>\n",
       "      <td>726.000000</td>\n",
       "      <td>726.000000</td>\n",
       "      <td>726.000000</td>\n",
       "      <td>726.000000</td>\n",
       "      <td>726.000000</td>\n",
       "      <td>726.000000</td>\n",
       "      <td>726.000000</td>\n",
       "      <td>726.000000</td>\n",
       "      <td>726.000000</td>\n",
       "      <td>726.000000</td>\n",
       "      <td>726.000000</td>\n",
       "      <td>726.000000</td>\n",
       "      <td>726.000000</td>\n",
       "      <td>726.000000</td>\n",
       "      <td>726.000000</td>\n",
       "      <td>726.000000</td>\n",
       "    </tr>\n",
       "    <tr>\n",
       "      <th>mean</th>\n",
       "      <td>2.856749</td>\n",
       "      <td>2.913223</td>\n",
       "      <td>0.402204</td>\n",
       "      <td>2.600551</td>\n",
       "      <td>1.982094</td>\n",
       "      <td>2.931129</td>\n",
       "      <td>1.845730</td>\n",
       "      <td>2.924242</td>\n",
       "      <td>0.776860</td>\n",
       "      <td>1.860882</td>\n",
       "      <td>3.283747</td>\n",
       "      <td>3.323691</td>\n",
       "      <td>0.960055</td>\n",
       "      <td>2.633609</td>\n",
       "      <td>3.084022</td>\n",
       "      <td>3.139118</td>\n",
       "      <td>1.862259</td>\n",
       "      <td>2.906336</td>\n",
       "      <td>1.326446</td>\n",
       "      <td>1.632231</td>\n",
       "      <td>2.074380</td>\n",
       "      <td>2.659780</td>\n",
       "      <td>1.801653</td>\n",
       "      <td>1.451791</td>\n",
       "      <td>1.663912</td>\n",
       "      <td>2.982094</td>\n",
       "      <td>3.500000</td>\n",
       "      <td>3.263085</td>\n",
       "      <td>2.079890</td>\n",
       "      <td>3.053719</td>\n",
       "      <td>2.202479</td>\n",
       "      <td>2.250689</td>\n",
       "      <td>2.360882</td>\n",
       "      <td>2.236915</td>\n",
       "      <td>2.871901</td>\n",
       "      <td>3.652893</td>\n",
       "      <td>2.776860</td>\n",
       "      <td>2.209366</td>\n",
       "      <td>1.998623</td>\n",
       "      <td>2.028926</td>\n",
       "      <td>1.903581</td>\n",
       "      <td>2.944904</td>\n",
       "      <td>3.336088</td>\n",
       "      <td>2.706612</td>\n",
       "      <td>2.754821</td>\n",
       "      <td>2.341598</td>\n",
       "      <td>2.988981</td>\n",
       "      <td>2.173554</td>\n",
       "      <td>1.480716</td>\n",
       "      <td>2.121212</td>\n",
       "      <td>2.431129</td>\n",
       "    </tr>\n",
       "    <tr>\n",
       "      <th>std</th>\n",
       "      <td>1.025941</td>\n",
       "      <td>0.939210</td>\n",
       "      <td>0.720686</td>\n",
       "      <td>1.166285</td>\n",
       "      <td>1.134273</td>\n",
       "      <td>0.950177</td>\n",
       "      <td>1.236637</td>\n",
       "      <td>1.056235</td>\n",
       "      <td>0.914143</td>\n",
       "      <td>1.486931</td>\n",
       "      <td>1.571974</td>\n",
       "      <td>1.553165</td>\n",
       "      <td>1.608530</td>\n",
       "      <td>1.702955</td>\n",
       "      <td>1.694565</td>\n",
       "      <td>1.589165</td>\n",
       "      <td>1.684913</td>\n",
       "      <td>1.711475</td>\n",
       "      <td>1.654099</td>\n",
       "      <td>1.674476</td>\n",
       "      <td>0.791318</td>\n",
       "      <td>0.571707</td>\n",
       "      <td>0.836609</td>\n",
       "      <td>0.784165</td>\n",
       "      <td>0.761119</td>\n",
       "      <td>0.960436</td>\n",
       "      <td>0.711967</td>\n",
       "      <td>0.834391</td>\n",
       "      <td>1.213355</td>\n",
       "      <td>0.983242</td>\n",
       "      <td>1.150254</td>\n",
       "      <td>1.143723</td>\n",
       "      <td>1.101378</td>\n",
       "      <td>1.157435</td>\n",
       "      <td>1.071954</td>\n",
       "      <td>0.590183</td>\n",
       "      <td>0.926135</td>\n",
       "      <td>1.168658</td>\n",
       "      <td>1.107341</td>\n",
       "      <td>1.158115</td>\n",
       "      <td>1.263411</td>\n",
       "      <td>1.019666</td>\n",
       "      <td>0.971309</td>\n",
       "      <td>1.124344</td>\n",
       "      <td>0.977229</td>\n",
       "      <td>1.106273</td>\n",
       "      <td>1.109154</td>\n",
       "      <td>1.219458</td>\n",
       "      <td>1.239149</td>\n",
       "      <td>1.179908</td>\n",
       "      <td>1.211472</td>\n",
       "    </tr>\n",
       "    <tr>\n",
       "      <th>min</th>\n",
       "      <td>0.000000</td>\n",
       "      <td>0.000000</td>\n",
       "      <td>0.000000</td>\n",
       "      <td>0.000000</td>\n",
       "      <td>0.000000</td>\n",
       "      <td>0.000000</td>\n",
       "      <td>0.000000</td>\n",
       "      <td>0.000000</td>\n",
       "      <td>0.000000</td>\n",
       "      <td>0.000000</td>\n",
       "      <td>0.000000</td>\n",
       "      <td>0.000000</td>\n",
       "      <td>0.000000</td>\n",
       "      <td>0.000000</td>\n",
       "      <td>0.000000</td>\n",
       "      <td>0.000000</td>\n",
       "      <td>0.000000</td>\n",
       "      <td>0.000000</td>\n",
       "      <td>0.000000</td>\n",
       "      <td>0.000000</td>\n",
       "      <td>0.000000</td>\n",
       "      <td>0.000000</td>\n",
       "      <td>0.000000</td>\n",
       "      <td>0.000000</td>\n",
       "      <td>0.000000</td>\n",
       "      <td>0.000000</td>\n",
       "      <td>0.000000</td>\n",
       "      <td>0.000000</td>\n",
       "      <td>0.000000</td>\n",
       "      <td>0.000000</td>\n",
       "      <td>0.000000</td>\n",
       "      <td>0.000000</td>\n",
       "      <td>0.000000</td>\n",
       "      <td>0.000000</td>\n",
       "      <td>0.000000</td>\n",
       "      <td>0.000000</td>\n",
       "      <td>0.000000</td>\n",
       "      <td>0.000000</td>\n",
       "      <td>0.000000</td>\n",
       "      <td>0.000000</td>\n",
       "      <td>0.000000</td>\n",
       "      <td>0.000000</td>\n",
       "      <td>0.000000</td>\n",
       "      <td>0.000000</td>\n",
       "      <td>0.000000</td>\n",
       "      <td>0.000000</td>\n",
       "      <td>0.000000</td>\n",
       "      <td>0.000000</td>\n",
       "      <td>0.000000</td>\n",
       "      <td>0.000000</td>\n",
       "      <td>0.000000</td>\n",
       "    </tr>\n",
       "    <tr>\n",
       "      <th>25%</th>\n",
       "      <td>3.000000</td>\n",
       "      <td>3.000000</td>\n",
       "      <td>0.000000</td>\n",
       "      <td>2.000000</td>\n",
       "      <td>1.000000</td>\n",
       "      <td>3.000000</td>\n",
       "      <td>1.000000</td>\n",
       "      <td>3.000000</td>\n",
       "      <td>0.000000</td>\n",
       "      <td>0.000000</td>\n",
       "      <td>2.000000</td>\n",
       "      <td>2.000000</td>\n",
       "      <td>0.000000</td>\n",
       "      <td>1.000000</td>\n",
       "      <td>2.000000</td>\n",
       "      <td>2.000000</td>\n",
       "      <td>0.000000</td>\n",
       "      <td>1.000000</td>\n",
       "      <td>0.000000</td>\n",
       "      <td>0.000000</td>\n",
       "      <td>2.000000</td>\n",
       "      <td>2.000000</td>\n",
       "      <td>1.000000</td>\n",
       "      <td>1.000000</td>\n",
       "      <td>1.000000</td>\n",
       "      <td>3.000000</td>\n",
       "      <td>3.000000</td>\n",
       "      <td>3.000000</td>\n",
       "      <td>1.000000</td>\n",
       "      <td>3.000000</td>\n",
       "      <td>1.000000</td>\n",
       "      <td>1.000000</td>\n",
       "      <td>2.000000</td>\n",
       "      <td>1.000000</td>\n",
       "      <td>2.000000</td>\n",
       "      <td>3.000000</td>\n",
       "      <td>2.000000</td>\n",
       "      <td>1.000000</td>\n",
       "      <td>1.000000</td>\n",
       "      <td>1.000000</td>\n",
       "      <td>1.000000</td>\n",
       "      <td>2.000000</td>\n",
       "      <td>3.000000</td>\n",
       "      <td>2.000000</td>\n",
       "      <td>2.000000</td>\n",
       "      <td>2.000000</td>\n",
       "      <td>2.000000</td>\n",
       "      <td>1.000000</td>\n",
       "      <td>0.000000</td>\n",
       "      <td>1.000000</td>\n",
       "      <td>2.000000</td>\n",
       "    </tr>\n",
       "    <tr>\n",
       "      <th>50%</th>\n",
       "      <td>3.000000</td>\n",
       "      <td>3.000000</td>\n",
       "      <td>0.000000</td>\n",
       "      <td>3.000000</td>\n",
       "      <td>2.000000</td>\n",
       "      <td>3.000000</td>\n",
       "      <td>2.000000</td>\n",
       "      <td>3.000000</td>\n",
       "      <td>1.000000</td>\n",
       "      <td>2.000000</td>\n",
       "      <td>4.000000</td>\n",
       "      <td>4.000000</td>\n",
       "      <td>0.000000</td>\n",
       "      <td>2.000000</td>\n",
       "      <td>3.000000</td>\n",
       "      <td>3.000000</td>\n",
       "      <td>1.000000</td>\n",
       "      <td>3.000000</td>\n",
       "      <td>1.000000</td>\n",
       "      <td>1.000000</td>\n",
       "      <td>2.000000</td>\n",
       "      <td>3.000000</td>\n",
       "      <td>2.000000</td>\n",
       "      <td>1.000000</td>\n",
       "      <td>2.000000</td>\n",
       "      <td>3.000000</td>\n",
       "      <td>4.000000</td>\n",
       "      <td>3.000000</td>\n",
       "      <td>2.000000</td>\n",
       "      <td>3.000000</td>\n",
       "      <td>2.000000</td>\n",
       "      <td>2.000000</td>\n",
       "      <td>2.000000</td>\n",
       "      <td>2.000000</td>\n",
       "      <td>3.000000</td>\n",
       "      <td>4.000000</td>\n",
       "      <td>3.000000</td>\n",
       "      <td>2.000000</td>\n",
       "      <td>2.000000</td>\n",
       "      <td>2.000000</td>\n",
       "      <td>2.000000</td>\n",
       "      <td>3.000000</td>\n",
       "      <td>4.000000</td>\n",
       "      <td>3.000000</td>\n",
       "      <td>3.000000</td>\n",
       "      <td>3.000000</td>\n",
       "      <td>3.000000</td>\n",
       "      <td>2.000000</td>\n",
       "      <td>1.000000</td>\n",
       "      <td>2.000000</td>\n",
       "      <td>3.000000</td>\n",
       "    </tr>\n",
       "    <tr>\n",
       "      <th>75%</th>\n",
       "      <td>4.000000</td>\n",
       "      <td>3.000000</td>\n",
       "      <td>1.000000</td>\n",
       "      <td>3.000000</td>\n",
       "      <td>3.000000</td>\n",
       "      <td>4.000000</td>\n",
       "      <td>3.000000</td>\n",
       "      <td>4.000000</td>\n",
       "      <td>1.000000</td>\n",
       "      <td>3.000000</td>\n",
       "      <td>5.000000</td>\n",
       "      <td>5.000000</td>\n",
       "      <td>1.000000</td>\n",
       "      <td>4.000000</td>\n",
       "      <td>5.000000</td>\n",
       "      <td>5.000000</td>\n",
       "      <td>3.000000</td>\n",
       "      <td>5.000000</td>\n",
       "      <td>2.000000</td>\n",
       "      <td>3.000000</td>\n",
       "      <td>3.000000</td>\n",
       "      <td>3.000000</td>\n",
       "      <td>2.000000</td>\n",
       "      <td>2.000000</td>\n",
       "      <td>2.000000</td>\n",
       "      <td>4.000000</td>\n",
       "      <td>4.000000</td>\n",
       "      <td>4.000000</td>\n",
       "      <td>3.000000</td>\n",
       "      <td>4.000000</td>\n",
       "      <td>3.000000</td>\n",
       "      <td>3.000000</td>\n",
       "      <td>3.000000</td>\n",
       "      <td>3.000000</td>\n",
       "      <td>4.000000</td>\n",
       "      <td>4.000000</td>\n",
       "      <td>3.000000</td>\n",
       "      <td>3.000000</td>\n",
       "      <td>3.000000</td>\n",
       "      <td>3.000000</td>\n",
       "      <td>3.000000</td>\n",
       "      <td>4.000000</td>\n",
       "      <td>4.000000</td>\n",
       "      <td>3.000000</td>\n",
       "      <td>3.000000</td>\n",
       "      <td>3.000000</td>\n",
       "      <td>4.000000</td>\n",
       "      <td>3.000000</td>\n",
       "      <td>2.000000</td>\n",
       "      <td>3.000000</td>\n",
       "      <td>3.000000</td>\n",
       "    </tr>\n",
       "    <tr>\n",
       "      <th>max</th>\n",
       "      <td>4.000000</td>\n",
       "      <td>4.000000</td>\n",
       "      <td>4.000000</td>\n",
       "      <td>4.000000</td>\n",
       "      <td>4.000000</td>\n",
       "      <td>4.000000</td>\n",
       "      <td>4.000000</td>\n",
       "      <td>4.000000</td>\n",
       "      <td>4.000000</td>\n",
       "      <td>4.000000</td>\n",
       "      <td>5.000000</td>\n",
       "      <td>5.000000</td>\n",
       "      <td>5.000000</td>\n",
       "      <td>5.000000</td>\n",
       "      <td>5.000000</td>\n",
       "      <td>5.000000</td>\n",
       "      <td>5.000000</td>\n",
       "      <td>5.000000</td>\n",
       "      <td>5.000000</td>\n",
       "      <td>5.000000</td>\n",
       "      <td>3.000000</td>\n",
       "      <td>3.000000</td>\n",
       "      <td>3.000000</td>\n",
       "      <td>3.000000</td>\n",
       "      <td>3.000000</td>\n",
       "      <td>4.000000</td>\n",
       "      <td>4.000000</td>\n",
       "      <td>4.000000</td>\n",
       "      <td>4.000000</td>\n",
       "      <td>4.000000</td>\n",
       "      <td>4.000000</td>\n",
       "      <td>4.000000</td>\n",
       "      <td>4.000000</td>\n",
       "      <td>4.000000</td>\n",
       "      <td>4.000000</td>\n",
       "      <td>4.000000</td>\n",
       "      <td>4.000000</td>\n",
       "      <td>4.000000</td>\n",
       "      <td>4.000000</td>\n",
       "      <td>4.000000</td>\n",
       "      <td>4.000000</td>\n",
       "      <td>4.000000</td>\n",
       "      <td>4.000000</td>\n",
       "      <td>4.000000</td>\n",
       "      <td>4.000000</td>\n",
       "      <td>4.000000</td>\n",
       "      <td>4.000000</td>\n",
       "      <td>4.000000</td>\n",
       "      <td>4.000000</td>\n",
       "      <td>4.000000</td>\n",
       "      <td>4.000000</td>\n",
       "    </tr>\n",
       "  </tbody>\n",
       "</table>\n",
       "</div>"
      ],
      "text/plain": [
       "       job_conduct_res  job_analyze_res  job_buy_res_report  \\\n",
       "count       726.000000       726.000000          726.000000   \n",
       "mean          2.856749         2.913223            0.402204   \n",
       "std           1.025941         0.939210            0.720686   \n",
       "min           0.000000         0.000000            0.000000   \n",
       "25%           3.000000         3.000000            0.000000   \n",
       "50%           3.000000         3.000000            0.000000   \n",
       "75%           4.000000         3.000000            1.000000   \n",
       "max           4.000000         4.000000            4.000000   \n",
       "\n",
       "       job_manage_res_proj  job_observe_res  job_plan_res  job_teach_res  \\\n",
       "count           726.000000       726.000000    726.000000     726.000000   \n",
       "mean              2.600551         1.982094      2.931129       1.845730   \n",
       "std               1.166285         1.134273      0.950177       1.236637   \n",
       "min               0.000000         0.000000      0.000000       0.000000   \n",
       "25%               2.000000         1.000000      3.000000       1.000000   \n",
       "50%               3.000000         2.000000      3.000000       2.000000   \n",
       "75%               3.000000         3.000000      4.000000       3.000000   \n",
       "max               4.000000         4.000000      4.000000       4.000000   \n",
       "\n",
       "       job_advocate_res  job_hire_res_vendor  job_lead_res_team  \\\n",
       "count        726.000000           726.000000         726.000000   \n",
       "mean           2.924242             0.776860           1.860882   \n",
       "std            1.056235             0.914143           1.486931   \n",
       "min            0.000000             0.000000           0.000000   \n",
       "25%            3.000000             0.000000           0.000000   \n",
       "50%            3.000000             1.000000           2.000000   \n",
       "75%            4.000000             1.000000           3.000000   \n",
       "max            4.000000             4.000000           4.000000   \n",
       "\n",
       "       exp_conduct_res  exp_analyze_res  exp_buy_res_report  \\\n",
       "count       726.000000       726.000000          726.000000   \n",
       "mean          3.283747         3.323691            0.960055   \n",
       "std           1.571974         1.553165            1.608530   \n",
       "min           0.000000         0.000000            0.000000   \n",
       "25%           2.000000         2.000000            0.000000   \n",
       "50%           4.000000         4.000000            0.000000   \n",
       "75%           5.000000         5.000000            1.000000   \n",
       "max           5.000000         5.000000            5.000000   \n",
       "\n",
       "       exp_manage_res_proj  exp_observe_res  exp_plan_res  exp_teach_res  \\\n",
       "count           726.000000       726.000000    726.000000     726.000000   \n",
       "mean              2.633609         3.084022      3.139118       1.862259   \n",
       "std               1.702955         1.694565      1.589165       1.684913   \n",
       "min               0.000000         0.000000      0.000000       0.000000   \n",
       "25%               1.000000         2.000000      2.000000       0.000000   \n",
       "50%               2.000000         3.000000      3.000000       1.000000   \n",
       "75%               4.000000         5.000000      5.000000       3.000000   \n",
       "max               5.000000         5.000000      5.000000       5.000000   \n",
       "\n",
       "       exp_advocate_res  exp_hire_res_vendor  exp_lead_res_team  \\\n",
       "count        726.000000           726.000000         726.000000   \n",
       "mean           2.906336             1.326446           1.632231   \n",
       "std            1.711475             1.654099           1.674476   \n",
       "min            0.000000             0.000000           0.000000   \n",
       "25%            1.000000             0.000000           0.000000   \n",
       "50%            3.000000             1.000000           1.000000   \n",
       "75%            5.000000             2.000000           3.000000   \n",
       "max            5.000000             5.000000           5.000000   \n",
       "\n",
       "       learning_talks  learning_read  learning_meetup  learning_workshop  \\\n",
       "count      726.000000     726.000000       726.000000         726.000000   \n",
       "mean         2.074380       2.659780         1.801653           1.451791   \n",
       "std          0.791318       0.571707         0.836609           0.784165   \n",
       "min          0.000000       0.000000         0.000000           0.000000   \n",
       "25%          2.000000       2.000000         1.000000           1.000000   \n",
       "50%          2.000000       3.000000         2.000000           1.000000   \n",
       "75%          3.000000       3.000000         2.000000           2.000000   \n",
       "max          3.000000       3.000000         3.000000           3.000000   \n",
       "\n",
       "       learning_conference  likely_watch_video  likely_internet  likely_book  \\\n",
       "count           726.000000          726.000000       726.000000   726.000000   \n",
       "mean              1.663912            2.982094         3.500000     3.263085   \n",
       "std               0.761119            0.960436         0.711967     0.834391   \n",
       "min               0.000000            0.000000         0.000000     0.000000   \n",
       "25%               1.000000            3.000000         3.000000     3.000000   \n",
       "50%               2.000000            3.000000         4.000000     3.000000   \n",
       "75%               2.000000            4.000000         4.000000     4.000000   \n",
       "max               3.000000            4.000000         4.000000     4.000000   \n",
       "\n",
       "       likely_online_group  likely_colleague  likely_meetup  \\\n",
       "count           726.000000        726.000000     726.000000   \n",
       "mean              2.079890          3.053719       2.202479   \n",
       "std               1.213355          0.983242       1.150254   \n",
       "min               0.000000          0.000000       0.000000   \n",
       "25%               1.000000          3.000000       1.000000   \n",
       "50%               2.000000          3.000000       2.000000   \n",
       "75%               3.000000          4.000000       3.000000   \n",
       "max               4.000000          4.000000       4.000000   \n",
       "\n",
       "       likely_conference  likely_workshop  factor_speaker  \\\n",
       "count         726.000000       726.000000      726.000000   \n",
       "mean            2.250689         2.360882        2.236915   \n",
       "std             1.143723         1.101378        1.157435   \n",
       "min             0.000000         0.000000        0.000000   \n",
       "25%             1.000000         2.000000        1.000000   \n",
       "50%             2.000000         2.000000        2.000000   \n",
       "75%             3.000000         3.000000        3.000000   \n",
       "max             4.000000         4.000000        4.000000   \n",
       "\n",
       "       factor_diverse_speak  factor_topics  factor_format_sessions  \\\n",
       "count            726.000000     726.000000              726.000000   \n",
       "mean               2.871901       3.652893                2.776860   \n",
       "std                1.071954       0.590183                0.926135   \n",
       "min                0.000000       0.000000                0.000000   \n",
       "25%                2.000000       3.000000                2.000000   \n",
       "50%                3.000000       4.000000                3.000000   \n",
       "75%                4.000000       4.000000                3.000000   \n",
       "max                4.000000       4.000000                4.000000   \n",
       "\n",
       "       factor_size  factor_network  factor_variety_attend  factor_code  \\\n",
       "count   726.000000      726.000000             726.000000   726.000000   \n",
       "mean      2.209366        1.998623               2.028926     1.903581   \n",
       "std       1.168658        1.107341               1.158115     1.263411   \n",
       "min       0.000000        0.000000               0.000000     0.000000   \n",
       "25%       1.000000        1.000000               1.000000     1.000000   \n",
       "50%       2.000000        2.000000               2.000000     2.000000   \n",
       "75%       3.000000        3.000000               3.000000     3.000000   \n",
       "max       4.000000        4.000000               4.000000     4.000000   \n",
       "\n",
       "       factor_location  factor_ability_to_pay  session_keynote  \\\n",
       "count       726.000000             726.000000       726.000000   \n",
       "mean          2.944904               3.336088         2.706612   \n",
       "std           1.019666               0.971309         1.124344   \n",
       "min           0.000000               0.000000         0.000000   \n",
       "25%           2.000000               3.000000         2.000000   \n",
       "50%           3.000000               4.000000         3.000000   \n",
       "75%           4.000000               4.000000         3.000000   \n",
       "max           4.000000               4.000000         4.000000   \n",
       "\n",
       "       session_long_talk  session_short_talk  session_workshop  \\\n",
       "count         726.000000          726.000000        726.000000   \n",
       "mean            2.754821            2.341598          2.988981   \n",
       "std             0.977229            1.106273          1.109154   \n",
       "min             0.000000            0.000000          0.000000   \n",
       "25%             2.000000            2.000000          2.000000   \n",
       "50%             3.000000            3.000000          3.000000   \n",
       "75%             3.000000            3.000000          4.000000   \n",
       "max             4.000000            4.000000          4.000000   \n",
       "\n",
       "       session_network  session_social_event  session_qa  sesson_topic_tables  \n",
       "count       726.000000            726.000000  726.000000           726.000000  \n",
       "mean          2.173554              1.480716    2.121212             2.431129  \n",
       "std           1.219458              1.239149    1.179908             1.211472  \n",
       "min           0.000000              0.000000    0.000000             0.000000  \n",
       "25%           1.000000              0.000000    1.000000             2.000000  \n",
       "50%           2.000000              1.000000    2.000000             3.000000  \n",
       "75%           3.000000              2.000000    3.000000             3.000000  \n",
       "max           4.000000              4.000000    4.000000             4.000000  "
      ]
     },
     "execution_count": 4,
     "metadata": {},
     "output_type": "execute_result"
    }
   ],
   "source": [
    "datadf.describe()"
   ]
  },
  {
   "cell_type": "code",
   "execution_count": 6,
   "metadata": {
    "scrolled": true
   },
   "outputs": [
    {
     "name": "stdout",
     "output_type": "stream",
     "text": [
      "<class 'pandas.core.frame.DataFrame'>\n",
      "Int64Index: 726 entries, 284 to 2\n",
      "Data columns (total 77 columns):\n",
      "job_title                    726 non-null category\n",
      "job_taxo                     726 non-null category\n",
      "job_id                       723 non-null category\n",
      "job_conduct_res              726 non-null int64\n",
      "job_analyze_res              726 non-null int64\n",
      "job_buy_res_report           726 non-null int64\n",
      "job_manage_res_proj          726 non-null int64\n",
      "job_observe_res              726 non-null int64\n",
      "job_plan_res                 726 non-null int64\n",
      "job_teach_res                726 non-null int64\n",
      "job_advocate_res             726 non-null int64\n",
      "job_hire_res_vendor          726 non-null int64\n",
      "job_lead_res_team            726 non-null int64\n",
      "num_employees                723 non-null category\n",
      "num_researchers              722 non-null category\n",
      "primary_industry             726 non-null category\n",
      "types_res_used               690 non-null category\n",
      "future_res                   609 non-null category\n",
      "exp_conduct_res              726 non-null int64\n",
      "exp_analyze_res              726 non-null int64\n",
      "exp_buy_res_report           726 non-null int64\n",
      "exp_manage_res_proj          726 non-null int64\n",
      "exp_observe_res              726 non-null int64\n",
      "exp_plan_res                 726 non-null int64\n",
      "exp_teach_res                726 non-null int64\n",
      "exp_advocate_res             726 non-null int64\n",
      "exp_hire_res_vendor          726 non-null int64\n",
      "exp_lead_res_team            726 non-null int64\n",
      "research_educ                726 non-null object\n",
      "research_educ_cat            726 non-null bool\n",
      "research_educ_desc           540 non-null object\n",
      "learning_talks               726 non-null int64\n",
      "learning_read                726 non-null int64\n",
      "learning_meetup              726 non-null int64\n",
      "learning_workshop            726 non-null int64\n",
      "learning_conference          726 non-null int64\n",
      "likely_watch_video           726 non-null int64\n",
      "likely_internet              726 non-null int64\n",
      "likely_book                  726 non-null int64\n",
      "likely_online_group          726 non-null int64\n",
      "likely_colleague             726 non-null int64\n",
      "likely_meetup                726 non-null int64\n",
      "likely_conference            726 non-null int64\n",
      "likely_workshop              726 non-null int64\n",
      "factor_speaker               726 non-null int64\n",
      "factor_diverse_speak         726 non-null int64\n",
      "factor_topics                726 non-null int64\n",
      "factor_format_sessions       726 non-null int64\n",
      "factor_size                  726 non-null int64\n",
      "factor_network               726 non-null int64\n",
      "factor_variety_attend        726 non-null int64\n",
      "factor_code                  726 non-null int64\n",
      "factor_location              726 non-null int64\n",
      "factor_ability_to_pay        726 non-null int64\n",
      "how_pick_events              644 non-null object\n",
      "best_event                   594 non-null object\n",
      "events_attend_recent         558 non-null object\n",
      "ideal_conference_size        726 non-null object\n",
      "ideal_conference_size_cat    726 non-null category\n",
      "ideal_structure              726 non-null object\n",
      "ideal_structure_cat          726 non-null category\n",
      "ideal_multi_track            726 non-null bool\n",
      "ideal_single_track           726 non-null bool\n",
      "ideal_unconference           726 non-null bool\n",
      "session_keynote              726 non-null int64\n",
      "session_long_talk            726 non-null int64\n",
      "session_short_talk           726 non-null int64\n",
      "session_workshop             726 non-null int64\n",
      "session_network              726 non-null int64\n",
      "session_social_event         726 non-null int64\n",
      "session_qa                   726 non-null int64\n",
      "sesson_topic_tables          726 non-null int64\n",
      "other_conference_types       258 non-null object\n",
      "ideal_topics                 560 non-null object\n",
      "ideal_attendees              471 non-null object\n",
      "recommendations              494 non-null object\n",
      "persona_id                   726 non-null category\n",
      "dtypes: bool(4), category(11), int64(51), object(11)\n",
      "memory usage: 447.6+ KB\n"
     ]
    }
   ],
   "source": [
    "datadf.info()"
   ]
  },
  {
   "cell_type": "markdown",
   "metadata": {},
   "source": [
    " "
   ]
  },
  {
   "cell_type": "markdown",
   "metadata": {},
   "source": [
    "# Analysis of qualitative questions"
   ]
  },
  {
   "cell_type": "markdown",
   "metadata": {},
   "source": [
    " "
   ]
  },
  {
   "cell_type": "markdown",
   "metadata": {},
   "source": [
    "## 5. What is your company or organization's primary industry?"
   ]
  },
  {
   "cell_type": "markdown",
   "metadata": {},
   "source": [
    "#### Clean and lemmatize the data for this question"
   ]
  },
  {
   "cell_type": "code",
   "execution_count": 5,
   "metadata": {},
   "outputs": [],
   "source": [
    "datadf.primary_industry = datadf.primary_industry.dropna().apply(nlp.basic_clean)\n",
    "datadf.primary_industry = datadf.primary_industry.dropna().apply(nlp.lemmatize)"
   ]
  },
  {
   "cell_type": "markdown",
   "metadata": {},
   "source": [
    "#### Create word count matrix and vector. Settings: 2 word ngrams permitted; words in more than 30% of documents were ignored."
   ]
  },
  {
   "cell_type": "code",
   "execution_count": 6,
   "metadata": {},
   "outputs": [
    {
     "data": {
      "text/plain": [
       "(<726x180 sparse matrix of type '<class 'numpy.int64'>'\n",
       " \twith 1239 stored elements in Compressed Sparse Row format>,\n",
       " CountVectorizer(analyzer='word', binary=False, decode_error='strict',\n",
       "                 dtype=<class 'numpy.int64'>, encoding='utf-8', input='content',\n",
       "                 lowercase=True, max_df=0.3, max_features=None, min_df=2,\n",
       "                 ngram_range=(1, 3), preprocessor=None, stop_words='english',\n",
       "                 strip_accents=None, token_pattern='(?u)\\\\b\\\\w\\\\w+\\\\b',\n",
       "                 tokenizer=None, vocabulary=None))"
      ]
     },
     "execution_count": 6,
     "metadata": {},
     "output_type": "execute_result"
    }
   ],
   "source": [
    "primary_industry_matrix, primary_industry_vector = nlp.create_wordcount_matrix(datadf.primary_industry.dropna(), ngram=(1,3), max_df=.3)\n",
    "primary_industry_matrix, primary_industry_vector"
   ]
  },
  {
   "cell_type": "markdown",
   "metadata": {},
   "source": [
    "#### Apply LDA method using 4, 6 and 8 components (can be changed) and a random state set to ensure the results can be replicated."
   ]
  },
  {
   "cell_type": "code",
   "execution_count": 7,
   "metadata": {},
   "outputs": [],
   "source": [
    "lda5 = LatentDirichletAllocation(n_components= 8, random_state = 42)"
   ]
  },
  {
   "cell_type": "code",
   "execution_count": 8,
   "metadata": {},
   "outputs": [
    {
     "data": {
      "text/plain": [
       "LatentDirichletAllocation(batch_size=128, doc_topic_prior=None,\n",
       "                          evaluate_every=-1, learning_decay=0.7,\n",
       "                          learning_method='batch', learning_offset=10.0,\n",
       "                          max_doc_update_iter=100, max_iter=10,\n",
       "                          mean_change_tol=0.001, n_components=8, n_jobs=None,\n",
       "                          perp_tol=0.1, random_state=42, topic_word_prior=None,\n",
       "                          total_samples=1000000.0, verbose=0)"
      ]
     },
     "execution_count": 8,
     "metadata": {},
     "output_type": "execute_result"
    }
   ],
   "source": [
    "lda5.fit(primary_industry_matrix)"
   ]
  },
  {
   "cell_type": "code",
   "execution_count": 9,
   "metadata": {},
   "outputs": [
    {
     "data": {
      "text/html": [
       "\n",
       "<link rel=\"stylesheet\" type=\"text/css\" href=\"https://cdn.rawgit.com/bmabey/pyLDAvis/files/ldavis.v1.0.0.css\">\n",
       "\n",
       "\n",
       "<div id=\"ldavis_el319141122863626248833120416\"></div>\n",
       "<script type=\"text/javascript\">\n",
       "\n",
       "var ldavis_el319141122863626248833120416_data = {\"mdsDat\": {\"x\": [0.02225806668613376, -0.1566357198772443, -0.11321468063059506, 0.21175103016627217, 0.1465697010835695, -0.2074649908491684, -0.08140087576357884, 0.17813746918461051], \"y\": [0.0664876482818858, -0.21784454445559623, 0.10461361551985535, 0.08439464955554705, -0.14580217204694412, -0.051246774502001935, 0.22842633284702882, -0.06902875519977525], \"topics\": [1, 2, 3, 4, 5, 6, 7, 8], \"cluster\": [1, 1, 1, 1, 1, 1, 1, 1], \"Freq\": [15.94554784264614, 15.516030050625757, 12.905740641557198, 12.307240351696025, 12.02390787899525, 10.947610662732984, 10.516563294280928, 9.837359277465726]}, \"tinfo\": {\"Category\": [\"Default\", \"Default\", \"Default\", \"Default\", \"Default\", \"Default\", \"Default\", \"Default\", \"Default\", \"Default\", \"Default\", \"Default\", \"Default\", \"Default\", \"Default\", \"Default\", \"Default\", \"Default\", \"Default\", \"Default\", \"Default\", \"Default\", \"Default\", \"Default\", \"Default\", \"Default\", \"Default\", \"Default\", \"Default\", \"Default\", \"Topic1\", \"Topic1\", \"Topic1\", \"Topic1\", \"Topic1\", \"Topic1\", \"Topic1\", \"Topic1\", \"Topic1\", \"Topic1\", \"Topic1\", \"Topic1\", \"Topic1\", \"Topic1\", \"Topic1\", \"Topic1\", \"Topic1\", \"Topic1\", \"Topic1\", \"Topic1\", \"Topic1\", \"Topic1\", \"Topic1\", \"Topic1\", \"Topic1\", \"Topic1\", \"Topic1\", \"Topic1\", \"Topic1\", \"Topic1\", \"Topic1\", \"Topic1\", \"Topic1\", \"Topic2\", \"Topic2\", \"Topic2\", \"Topic2\", \"Topic2\", \"Topic2\", \"Topic2\", \"Topic2\", \"Topic2\", \"Topic2\", \"Topic2\", \"Topic2\", \"Topic2\", \"Topic2\", \"Topic2\", \"Topic2\", \"Topic2\", \"Topic2\", \"Topic2\", \"Topic2\", \"Topic2\", \"Topic2\", \"Topic2\", \"Topic2\", \"Topic2\", \"Topic2\", \"Topic2\", \"Topic2\", \"Topic2\", \"Topic2\", \"Topic2\", \"Topic2\", \"Topic2\", \"Topic3\", \"Topic3\", \"Topic3\", \"Topic3\", \"Topic3\", \"Topic3\", \"Topic3\", \"Topic3\", \"Topic3\", \"Topic3\", \"Topic3\", \"Topic3\", \"Topic3\", \"Topic3\", \"Topic3\", \"Topic3\", \"Topic3\", \"Topic3\", \"Topic3\", \"Topic3\", \"Topic3\", \"Topic3\", \"Topic3\", \"Topic3\", \"Topic3\", \"Topic3\", \"Topic3\", \"Topic3\", \"Topic3\", \"Topic3\", \"Topic3\", \"Topic4\", \"Topic4\", \"Topic4\", \"Topic4\", \"Topic4\", \"Topic4\", \"Topic4\", \"Topic4\", \"Topic4\", \"Topic4\", \"Topic4\", \"Topic4\", \"Topic4\", \"Topic4\", \"Topic4\", \"Topic4\", \"Topic4\", \"Topic4\", \"Topic4\", \"Topic4\", \"Topic4\", \"Topic4\", \"Topic4\", \"Topic4\", \"Topic4\", \"Topic4\", \"Topic4\", \"Topic4\", \"Topic4\", \"Topic4\", \"Topic4\", \"Topic5\", \"Topic5\", \"Topic5\", \"Topic5\", \"Topic5\", \"Topic5\", \"Topic5\", \"Topic5\", \"Topic5\", \"Topic5\", \"Topic5\", \"Topic5\", \"Topic5\", \"Topic5\", \"Topic5\", \"Topic5\", \"Topic5\", \"Topic5\", \"Topic5\", \"Topic5\", \"Topic5\", \"Topic5\", \"Topic5\", \"Topic5\", \"Topic5\", \"Topic5\", \"Topic5\", \"Topic5\", \"Topic5\", \"Topic5\", \"Topic5\", \"Topic5\", \"Topic6\", \"Topic6\", \"Topic6\", \"Topic6\", \"Topic6\", \"Topic6\", \"Topic6\", \"Topic6\", \"Topic6\", \"Topic6\", \"Topic6\", \"Topic6\", \"Topic6\", \"Topic6\", \"Topic6\", \"Topic6\", \"Topic6\", \"Topic6\", \"Topic6\", \"Topic6\", \"Topic6\", \"Topic6\", \"Topic6\", \"Topic6\", \"Topic6\", \"Topic6\", \"Topic6\", \"Topic6\", \"Topic6\", \"Topic6\", \"Topic6\", \"Topic6\", \"Topic6\", \"Topic6\", \"Topic7\", \"Topic7\", \"Topic7\", \"Topic7\", \"Topic7\", \"Topic7\", \"Topic7\", \"Topic7\", \"Topic7\", \"Topic7\", \"Topic7\", \"Topic7\", \"Topic7\", \"Topic7\", \"Topic7\", \"Topic7\", \"Topic7\", \"Topic7\", \"Topic7\", \"Topic7\", \"Topic7\", \"Topic7\", \"Topic7\", \"Topic7\", \"Topic7\", \"Topic7\", \"Topic7\", \"Topic7\", \"Topic7\", \"Topic7\", \"Topic7\", \"Topic7\", \"Topic7\", \"Topic7\", \"Topic7\", \"Topic8\", \"Topic8\", \"Topic8\", \"Topic8\", \"Topic8\", \"Topic8\", \"Topic8\", \"Topic8\", \"Topic8\", \"Topic8\", \"Topic8\", \"Topic8\", \"Topic8\", \"Topic8\", \"Topic8\", \"Topic8\", \"Topic8\", \"Topic8\", \"Topic8\", \"Topic8\", \"Topic8\", \"Topic8\", \"Topic8\", \"Topic8\", \"Topic8\", \"Topic8\", \"Topic8\", \"Topic8\", \"Topic8\", \"Topic8\", \"Topic8\", \"Topic8\", \"Topic8\", \"Topic8\", \"Topic8\", \"Topic8\", \"Topic8\", \"Topic8\"], \"Freq\": [49.0, 41.0, 31.0, 36.0, 38.0, 31.0, 36.0, 36.0, 22.0, 33.0, 24.0, 37.0, 16.0, 22.0, 22.0, 18.0, 16.0, 14.0, 13.0, 10.0, 10.0, 9.0, 9.0, 14.0, 9.0, 7.0, 8.0, 8.0, 14.0, 13.0, 35.887333784468844, 8.62575987196222, 8.625732114419034, 8.625732114419034, 8.625732114419034, 6.06987554297642, 12.798748163627446, 5.218052191892581, 5.21790886018852, 3.5141983641076866, 3.514198363917605, 2.6622714276663446, 2.662271061612913, 2.6622635765016627, 2.6622074744173414, 2.6621800993903646, 2.66218143830052, 1.8103446050689922, 1.8103446050689922, 1.8103444634375492, 1.810332509657838, 1.8102605474027766, 1.810197499890239, 3.514400116633356, 9.274817801563891, 3.51430434553348, 1.8101994129362013, 6.739320957326845, 0.9585577671985932, 0.9583806322781188, 6.068776107831704, 5.216592495877029, 4.1240818720402626, 23.754758077748974, 17.842568597614303, 15.308636454217286, 4.328654926473397, 30.51321464419144, 3.4840528360662524, 2.639433916487467, 2.6393938711430387, 2.639310879730682, 2.639161441463635, 29.222688431821354, 1.7948153956519692, 1.7948153546768497, 1.794814916241954, 1.7947004634622663, 1.7942537571656638, 1.7938144300996703, 1.7936565951980257, 7.605803632641234, 2.6390866261185373, 0.9501783248804864, 0.9497663512966391, 0.9502160733770928, 0.9499556590179713, 0.9497981083494914, 7.9008607709353385, 0.9497045276204533, 0.9499661834042157, 0.9498271583868244, 0.9501025045279512, 1.794847624927844, 0.9501076996794918, 0.9501025045279512, 41.21839984072301, 12.622371954198167, 7.260691735566073, 6.3670359861697285, 27.581899886397526, 3.6862082025195875, 3.6861583967866807, 2.792581462319971, 2.7925700691047055, 2.7923661800600152, 1.8989556619207737, 1.8989556619207737, 1.8989554213381672, 1.8989375094618817, 1.8988749331101198, 1.8987308488935517, 1.8987351136571644, 1.8986084165857693, 1.898828276758069, 1.0053706344912683, 1.0053214453765205, 1.0028210401886242, 1.0052290509739583, 3.8989049123898813, 1.005409695772997, 1.086075028159885, 1.2091541616484678, 2.9842485923458555, 1.9712167417412685, 0.11183303823550662, 0.11251367896299036, 21.98843279463653, 6.5864594583649225, 5.775818113775087, 3.3438945397967754, 2.5332535053577083, 2.5332532344238405, 2.533176144824814, 2.5330718366708167, 25.284922862007345, 27.08218675735641, 1.7226124215577912, 1.7226124213177305, 1.7226124212548566, 1.7226124212548566, 1.7226124212045784, 1.7224945074188518, 1.7224073871584245, 1.7223137472389949, 8.207258107918912, 1.039972607920845, 1.039972607920845, 0.9116102902462209, 0.9119784975608964, 0.9118916852422196, 1.7225675616191638, 1.0400037494351375, 1.7225116119587973, 0.9117377698501685, 0.9120655673599303, 3.343657986346664, 0.91178551833293, 8.884453334943133, 8.00706035939423, 5.374560882029981, 3.619630145715062, 3.6194365357125853, 3.619415627890684, 2.7421439882563208, 2.7421436982618577, 28.86476381944509, 1.8646578907492786, 1.8646578590193574, 1.864657604814541, 1.864657604525006, 1.8641534361031384, 15.905236984869322, 3.5400129184745337, 4.49761750236681, 4.496716408120907, 3.419547711874606, 0.9872044244036836, 0.9871784497361523, 0.9871784497361523, 0.9869861363879965, 0.9872213995276672, 0.9871471183510684, 0.9872135997319528, 2.4977400273343404, 3.6201118807416375, 0.9871168956896067, 2.8480721468653774, 4.565276977448437, 3.618643152682435, 48.60292201370446, 4.518650988150343, 4.518583096209958, 2.755274853013915, 2.7552747594003177, 2.755194261913191, 2.7550513224257434, 1.8735869900832545, 1.8735868407085456, 1.8735868015454717, 1.8735051917870604, 1.8732244607920487, 1.8732244607920487, 5.645684552806744, 2.7553053373716154, 2.7553053373716154, 2.7553206736265947, 14.014890560523702, 0.991927325373994, 0.991898544080068, 0.9916291922003937, 0.9920056985966739, 0.9919235125286645, 0.991849007161999, 0.9920242424204688, 1.893909361678603, 2.9841785040224114, 0.11021103488303328, 0.11021103488303328, 0.11021103488250553, 0.11125528964516848, 0.11152349190165796, 0.11047027673392042, 0.11067706900488015, 30.4216029121245, 16.158070617268645, 9.0262323288268, 7.243169217465812, 11.680064646171486, 2.7858806429315206, 2.7858806429315206, 1.894398574226526, 1.8943984314174904, 1.894324782329532, 1.894315691913098, 1.8942963835373705, 1.8942918015660872, 1.8941276160459504, 1.8940802461336155, 1.8940519723423899, 1.8946552374753545, 1.8947108160883392, 1.8944435959864983, 2.785878144350288, 2.785695730315527, 1.002332133077085, 0.8621508389793421, 0.8621508389793421, 0.8622150608797892, 1.0024961817045104, 1.0934190101920407, 0.11166049762266025, 0.11143525781206617, 0.11143525743746217, 0.11143525743746217, 0.1117230212740715, 0.11143530471298053, 0.11180148502992872, 0.11179211835365484, 10.156227438484459, 10.15622020386001, 9.153044512231686, 7.146970688398078, 6.143891617250614, 5.140855790107685, 5.140803199137968, 4.137762125818211, 3.1346683115662404, 3.1346680723514115, 3.1345663747057144, 2.1315744306887376, 2.1315744306887376, 2.13151350337028, 2.13149681331079, 1.128432227781551, 1.1286083394860655, 1.1285929527052383, 1.128153934154189, 2.131660993857014, 9.384043909328046, 2.1315689197800833, 5.141421364033587, 2.5794438141694935, 2.245254886774412, 0.12560254927582526, 0.125386772776271, 0.1253867727322746, 0.1253867727322746, 0.1253867727315685, 0.12538683683144683, 0.1258600556802729, 0.12586005741125703, 0.1253868368055129, 0.12567684977959517, 0.12567300509472687, 0.12586007437853947, 0.1256766508215945], \"Term\": [\"healthcare\", \"technology\", \"government\", \"fintech\", \"software\", \"design\", \"education\", \"tech\", \"retail\", \"consulting\", \"financial\", \"service\", \"insurance\", \"industry\", \"research\", \"financial service\", \"ecommerce\", \"finance\", \"consultancy\", \"public\", \"enterprise\", \"sector\", \"nonprofit\", \"medium\", \"banking\", \"marketing\", \"transportation\", \"consumer\", \"saas\", \"digital\", \"fintech\", \"higher\", \"estate\", \"real estate\", \"real\", \"social\", \"medium\", \"higher education\", \"security\", \"higher ed\", \"social medium\", \"digital agency\", \"energy\", \"construction\", \"web\", \"consulting industry\", \"commercial\", \"commercial real\", \"commercial real estate\", \"mix\", \"medium entertainment\", \"ux agency\", \"various\", \"entertainment\", \"digital\", \"ed\", \"innovation\", \"agency\", \"delivery\", \"supply\", \"industry\", \"education\", \"tech\", \"financial\", \"financial service\", \"ecommerce\", \"ux research\", \"education\", \"telecommunication\", \"food\", \"bank\", \"charity\", \"research service\", \"service\", \"research agency\", \"vendor\", \"ngo\", \"client\", \"healthcare government\", \"martech\", \"design consultancy\", \"ux\", \"development\", \"supply\", \"data\", \"pet\", \"design research\", \"domain\", \"research\", \"science\", \"innovation\", \"automotive\", \"market\", \"agency\", \"company\", \"market research\", \"technology\", \"consultancy\", \"product\", \"information\", \"design\", \"digital product\", \"information technology\", \"airline\", \"product design\", \"resource\", \"human resource\", \"human\", \"utility\", \"product consultancy\", \"consultancy government\", \"tech consultancy\", \"research design\", \"resource technology\", \"rd\", \"range\", \"customer experience\", \"mainly\", \"communication\", \"digital\", \"customer\", \"work\", \"experience\", \"agency\", \"service\", \"mobility\", \"design consultancy\", \"retail\", \"fashion\", \"travel\", \"advertising\", \"infrastructure\", \"commerce\", \"legal\", \"business\", \"consulting\", \"tech\", \"fashion retail\", \"ed tech\", \"creative\", \"creative agency\", \"cloud infrastructure\", \"mobility\", \"project\", \"big\", \"saas\", \"life\", \"life science\", \"delivery\", \"customer experience\", \"range\", \"cloud\", \"science\", \"ed\", \"marketplace\", \"customer\", \"agency\", \"experience\", \"banking\", \"transportation\", \"management\", \"software service\", \"user experience\", \"multiple\", \"ux consulting\", \"freelance\", \"software\", \"saas software\", \"management consulting\", \"care\", \"academic\", \"working\", \"industry\", \"work\", \"company\", \"health\", \"experience\", \"data\", \"manufacturing\", \"industry manufacturing\", \"engineering\", \"freelancer\", \"cross\", \"university\", \"user\", \"saas\", \"consultant\", \"ux\", \"consulting\", \"service\", \"healthcare\", \"edtech\", \"internet\", \"hardware\", \"cpg\", \"user research\", \"strategy\", \"independent\", \"medical\", \"vr\", \"finance healthcare\", \"real estate tech\", \"estate tech\", \"user\", \"market\", \"market research\", \"consultant\", \"research\", \"design research\", \"domain\", \"pet\", \"network\", \"cross\", \"freelancer\", \"rd\", \"finance\", \"design\", \"creative\", \"creative agency\", \"ed tech\", \"martech\", \"mainly\", \"healthcare government\", \"b2b\", \"government\", \"insurance\", \"nonprofit\", \"consumer\", \"finance\", \"consumer electronics\", \"electronics\", \"platform\", \"logistics\", \"transport\", \"cloud technology\", \"justice\", \"database\", \"government healthcare\", \"software development\", \"public service\", \"marketplace\", \"automotive\", \"production\", \"cloud\", \"development\", \"b2b\", \"life science\", \"life\", \"science\", \"entertainment\", \"medium\", \"project\", \"cloud infrastructure\", \"creative agency\", \"creative\", \"healthcare government\", \"mobility\", \"mainly\", \"working\", \"public\", \"enterprise\", \"sector\", \"marketing\", \"enterprise software\", \"telecom\", \"public sector\", \"hr\", \"hr tech\", \"hospitality\", \"learning\", \"professional service\", \"professional\", \"learning education\", \"software design\", \"university\", \"b2b\", \"communication\", \"customer\", \"health\", \"software\", \"saas\", \"tech\", \"service\", \"consulting\", \"big\", \"ed tech\", \"creative\", \"creative agency\", \"cloud infrastructure\", \"mobility\", \"data\", \"domain\", \"project\", \"public service\", \"resource technology\", \"science\", \"development\"], \"Total\": [49.0, 41.0, 31.0, 36.0, 38.0, 31.0, 36.0, 36.0, 22.0, 33.0, 24.0, 37.0, 16.0, 22.0, 22.0, 18.0, 16.0, 14.0, 13.0, 10.0, 10.0, 9.0, 9.0, 14.0, 9.0, 7.0, 8.0, 8.0, 14.0, 13.0, 36.66275163453868, 9.40108960290784, 9.401090572170373, 9.401090572170373, 9.401090572170373, 6.84532105924942, 14.556223622189957, 5.993381932820824, 5.993388214031299, 4.289528097204618, 4.289528097209451, 3.437601180511926, 3.437601198980704, 3.437601565294247, 3.437598111941652, 3.4375989435601597, 3.437604674951633, 2.5856742580896466, 2.5856742580896466, 2.58567426521503, 2.585674850178545, 2.5856783725249866, 2.585667167489453, 5.1809901189276975, 13.837445039689909, 5.910815669511577, 3.4303116071176474, 15.318876004498854, 2.544404945694566, 2.5783639108841228, 22.640095362408395, 36.399665876727425, 36.89647643865624, 24.531169989978487, 18.61882044167721, 16.08496623139256, 5.104916289608011, 36.399665876727425, 4.260296605872911, 3.4156775622657434, 3.4156791163882474, 3.4156826961860123, 3.4156912602029688, 37.82155936568895, 2.5710584945101207, 2.571058496994748, 2.5710585235486674, 2.5710595072733042, 2.5710848927044907, 2.571102437124898, 2.5711182377363366, 12.823671836481488, 6.090173685218058, 2.5783639108841228, 2.6040015772526717, 2.608106661436957, 2.6081411184585117, 2.6082022932576074, 22.58190133748494, 3.4158745228767446, 3.4303116071176474, 3.5094224191764196, 4.37150827853273, 15.318876004498854, 6.924567460749395, 4.37150827853273, 41.98862803564928, 13.392584319611686, 8.030830318696589, 7.137202592402189, 31.226196316930917, 4.456325426153356, 4.456324527235916, 3.5626991724256385, 3.562698959523955, 3.5627156256991057, 2.6690729218270595, 2.6690729218270595, 2.669072921023556, 2.669072878299837, 2.6690727280620803, 2.6690601835789325, 2.6690685137027925, 2.6690994760089377, 3.55075930231477, 2.5860952031230733, 2.586087151966193, 2.6273117428005555, 2.778552802926579, 13.837445039689909, 3.589130618267112, 5.286847941772505, 6.099730349442666, 15.318876004498854, 37.82155936568895, 2.5031149284034293, 2.5711182377363366, 22.769160545523427, 7.366950140987908, 6.556308945884793, 4.124385309142434, 3.313744079353882, 3.3137441096615854, 3.313750463311829, 3.313777300136851, 33.27362608915061, 36.89647643865624, 2.503102855084242, 2.50310285510394, 2.503102855105131, 2.503102855105131, 2.5031028551196153, 2.5031149284034293, 2.5031233051800035, 2.503154502865348, 14.504404517790514, 2.571178637647794, 2.571178637647794, 2.544404945694566, 2.586087151966193, 2.5860952031230733, 5.1775529855918165, 3.4158745228767446, 5.910815669511577, 3.4754486165774288, 3.589130618267112, 15.318876004498854, 6.099730349442666, 9.656680550054794, 8.779195509476537, 6.14673780404163, 4.39176490105407, 4.391767262345631, 4.391781250571783, 3.5142787813327603, 3.514278786503384, 38.895610058165104, 2.636792660676979, 2.63679266118932, 2.636792665728198, 2.63679266576803, 2.636799007170882, 22.640095362408395, 5.286847941772505, 6.924567460749395, 7.27544241191708, 6.099730349442666, 2.6040015772526717, 2.611235092108223, 2.611235092108223, 2.61122951843347, 2.640994381873464, 2.6409947395577555, 2.7623943581765786, 8.805577028898078, 14.504404517790514, 4.404370631325364, 12.823671836481488, 33.27362608915061, 37.82155936568895, 49.37466700031275, 5.290260801382866, 5.290259651432638, 3.5268846497977537, 3.52688465094631, 3.5268834919162253, 3.5268842725006087, 2.64519657150011, 2.6451965733314737, 2.6451965738109795, 2.6452017551854157, 2.645184336202054, 2.645184336202054, 8.805577028898078, 4.37150827853273, 4.37150827853273, 4.404370631325364, 22.58190133748494, 2.6081411184585117, 2.6082022932576074, 2.608106661436957, 2.6154390395715357, 2.6409947395577555, 2.640994381873464, 3.55075930231477, 14.23423876272683, 31.226196316930917, 2.503102855105131, 2.503102855105131, 2.50310285510394, 2.571102437124898, 2.6273117428005555, 2.5710848927044907, 2.7764051756419352, 31.19220351828573, 16.92849183718548, 9.796638021174404, 8.013671650640507, 14.23423876272683, 3.5562659472258593, 3.5562659472258593, 2.664784103987053, 2.6647841038994593, 2.664780571782884, 2.6647843037824526, 2.6647812726295688, 2.6647824298760767, 2.664780513735654, 2.6648130937057655, 2.6648117055338285, 3.4754486165774288, 3.5094224191764196, 3.5167160928416044, 5.1775529855918165, 6.090173685218058, 2.7764051756419352, 2.571178637647794, 2.571178637647794, 3.4158745228767446, 5.1809901189276975, 14.556223622189957, 2.5031233051800035, 2.5031028551196153, 2.503102855105131, 2.503102855105131, 2.5710848927044907, 2.5031149284034293, 2.6273117428005555, 2.636799007170882, 10.912747251727986, 10.912745132391981, 9.909641386842177, 7.903467458177142, 6.9003767234138085, 5.897289808776276, 5.897283235726367, 4.894195950457347, 3.8911020718349345, 3.8911020394552427, 3.8910859685348727, 2.8880081841741054, 2.8880081841741054, 2.8879985607359155, 2.8879997112588, 2.7623943581765786, 2.7764051756419352, 2.778552802926579, 3.589130618267112, 7.27544241191708, 38.895610058165104, 14.504404517790514, 36.89647643865624, 37.82155936568895, 33.27362608915061, 2.503154502865348, 2.50310285510394, 2.503102855105131, 2.503102855105131, 2.5031028551196153, 2.5031149284034293, 2.6040015772526717, 2.6082022932576074, 2.5031233051800035, 2.6648117055338285, 2.6690994760089377, 3.4158745228767446, 6.090173685218058], \"loglift\": [30.0, 29.0, 28.0, 27.0, 26.0, 25.0, 24.0, 23.0, 22.0, 21.0, 20.0, 19.0, 18.0, 17.0, 16.0, 15.0, 14.0, 13.0, 12.0, 11.0, 10.0, 9.0, 8.0, 7.0, 6.0, 5.0, 4.0, 3.0, 2.0, 1.0, 1.8146, 1.7499, 1.7499, 1.7499, 1.7499, 1.7158, 1.7073, 1.6975, 1.6974, 1.6366, 1.6366, 1.5804, 1.5804, 1.5804, 1.5804, 1.5804, 1.5804, 1.4795, 1.4795, 1.4795, 1.4795, 1.4795, 1.4794, 1.4479, 1.4359, 1.316, 1.1968, 1.0149, 0.8598, 0.8463, 0.5194, -0.1067, -0.3553, 1.8311, 1.8207, 1.8138, 1.6983, 1.6869, 1.6622, 1.6055, 1.6055, 1.6054, 1.6054, 1.6054, 1.5039, 1.5039, 1.5039, 1.5038, 1.5036, 1.5033, 1.5032, 1.3409, 1.0271, 0.865, 0.8547, 0.8536, 0.8533, 0.8531, 0.8131, 0.5833, 0.5793, 0.5564, 0.337, -0.2809, -0.123, 0.337, 2.029, 1.9883, 1.9467, 1.9333, 1.9234, 1.8578, 1.8578, 1.8039, 1.8039, 1.8039, 1.7071, 1.7071, 1.7071, 1.7071, 1.707, 1.707, 1.707, 1.7069, 1.4216, 1.1027, 1.1027, 1.0844, 1.0308, 0.7808, 0.775, 0.4648, 0.4292, 0.4118, -0.9067, -1.0608, -1.0815, 2.0601, 1.983, 1.9682, 1.8852, 1.8264, 1.8264, 1.8264, 1.8263, 1.8204, 1.7857, 1.7213, 1.7213, 1.7213, 1.7213, 1.7213, 1.7212, 1.7212, 1.7211, 1.5255, 1.1898, 1.1898, 1.0685, 1.0527, 1.0526, 0.9945, 0.9058, 0.862, 0.7569, 0.725, 0.573, 0.1944, 2.0349, 2.0262, 1.984, 1.9249, 1.9249, 1.9249, 1.8702, 1.8702, 1.82, 1.7718, 1.7718, 1.7718, 1.7718, 1.7715, 1.7652, 1.7172, 1.6867, 1.6371, 1.5395, 1.1483, 1.1455, 1.1455, 1.1454, 1.1343, 1.1342, 1.0893, 0.8583, 0.7303, 0.6227, 0.6136, 0.132, -0.2285, 2.1963, 2.0544, 2.0544, 1.9652, 1.9652, 1.9651, 1.9651, 1.8672, 1.8672, 1.8672, 1.8671, 1.867, 1.867, 1.7676, 1.7505, 1.7505, 1.743, 1.735, 1.2453, 1.2453, 1.245, 1.2426, 1.2328, 1.2327, 0.9369, 0.195, -0.1359, -0.9108, -0.9108, -0.9108, -0.9282, -0.9474, -0.9353, -1.0102, 2.2272, 2.2056, 2.1703, 2.1511, 2.0545, 2.0081, 2.0081, 1.911, 1.911, 1.911, 1.911, 1.9109, 1.9109, 1.9109, 1.9108, 1.9108, 1.6455, 1.6358, 1.6336, 1.6324, 1.47, 1.2334, 1.1595, 1.1595, 0.8755, 0.6097, -0.3365, -0.8576, -0.8596, -0.8596, -0.8596, -0.8838, -0.8596, -0.9048, -0.9085, 2.2471, 2.2471, 2.2396, 2.2184, 2.2029, 2.1817, 2.1817, 2.1511, 2.1028, 2.1028, 2.1028, 2.0153, 2.0153, 2.0153, 2.0152, 1.4237, 1.4188, 1.418, 1.1617, 1.0914, 0.8971, 0.4014, 0.3482, -0.3663, -0.377, -0.6732, -0.6749, -0.6749, -0.6749, -0.6749, -0.6749, -0.7107, -0.7123, -0.6749, -0.7352, -0.7368, -0.982, -1.5617], \"logprob\": [30.0, 29.0, 28.0, 27.0, 26.0, 25.0, 24.0, 23.0, 22.0, 21.0, 20.0, 19.0, 18.0, 17.0, 16.0, 15.0, 14.0, 13.0, 12.0, 11.0, 10.0, 9.0, 8.0, 7.0, 6.0, 5.0, 4.0, 3.0, 2.0, 1.0, -1.7121, -3.1378, -3.1378, -3.1378, -3.1378, -3.4892, -2.7432, -3.6404, -3.6404, -4.0357, -4.0357, -4.3133, -4.3133, -4.3133, -4.3133, -4.3134, -4.3134, -4.699, -4.699, -4.699, -4.699, -4.699, -4.6991, -4.0356, -3.0652, -4.0357, -4.6991, -3.3845, -5.3348, -5.335, -3.4893, -3.6407, -3.8757, -2.0974, -2.3836, -2.5368, -3.7999, -1.847, -4.017, -4.2946, -4.2947, -4.2947, -4.2947, -1.8903, -4.6803, -4.6803, -4.6803, -4.6804, -4.6806, -4.6809, -4.6809, -3.2363, -4.2948, -5.3163, -5.3167, -5.3163, -5.3165, -5.3167, -3.1982, -5.3168, -5.3165, -5.3167, -5.3164, -4.6803, -5.3164, -5.3164, -1.3621, -2.5455, -3.0985, -3.2299, -1.7638, -3.7764, -3.7764, -4.054, -4.054, -4.0541, -4.4397, -4.4397, -4.4397, -4.4397, -4.4397, -4.4398, -4.4398, -4.4399, -4.4398, -5.0756, -5.0757, -5.0782, -5.0758, -3.7203, -5.0756, -4.9984, -4.8911, -3.9876, -4.4023, -7.2717, -7.2657, -1.943, -3.1485, -3.2798, -3.8264, -4.104, -4.104, -4.104, -4.1041, -1.8033, -1.7346, -4.4897, -4.4897, -4.4897, -4.4897, -4.4897, -4.4897, -4.4898, -4.4898, -2.9285, -4.9943, -4.9943, -5.1261, -5.1257, -5.1257, -4.4897, -4.9943, -4.4897, -5.1259, -5.1256, -3.8264, -5.1259, -2.8259, -2.9299, -3.3285, -3.7239, -3.7239, -3.7239, -4.0015, -4.0015, -1.6476, -4.3871, -4.3871, -4.3871, -4.3871, -4.3874, -2.2436, -3.7461, -3.5067, -3.5069, -3.7807, -5.0231, -5.0231, -5.0231, -5.0233, -5.0231, -5.0232, -5.0231, -4.0948, -3.7237, -5.0232, -3.9636, -3.4917, -3.7241, -1.0328, -3.4082, -3.4082, -3.9029, -3.9029, -3.903, -3.903, -4.2886, -4.2886, -4.2886, -4.2886, -4.2888, -4.2888, -3.1856, -3.9029, -3.9029, -3.9029, -2.2763, -4.9246, -4.9246, -4.9249, -4.9245, -4.9246, -4.9246, -4.9245, -4.2778, -3.8231, -7.1218, -7.1218, -7.1218, -7.1124, -7.11, -7.1195, -7.1176, -1.4611, -2.0939, -2.6761, -2.8962, -2.4184, -3.8517, -3.8517, -4.2374, -4.2374, -4.2374, -4.2374, -4.2374, -4.2374, -4.2375, -4.2375, -4.2376, -4.2372, -4.2372, -4.2374, -3.8517, -3.8518, -4.8739, -5.0246, -5.0246, -5.0245, -4.8738, -4.787, -7.0686, -7.0706, -7.0706, -7.0706, -7.068, -7.0706, -7.0673, -7.0674, -2.4914, -2.4914, -2.5954, -2.8428, -2.9941, -3.1723, -3.1723, -3.3894, -3.667, -3.667, -3.667, -4.0527, -4.0527, -4.0527, -4.0527, -4.6887, -4.6885, -4.6885, -4.6889, -4.0526, -2.5705, -4.0527, -3.1722, -3.8619, -4.0007, -6.8841, -6.8859, -6.8859, -6.8859, -6.8859, -6.8859, -6.8821, -6.8821, -6.8859, -6.8836, -6.8836, -6.8821, -6.8836]}, \"token.table\": {\"Topic\": [5, 4, 1, 2, 3, 4, 3, 2, 7, 7, 8, 2, 5, 4, 4, 5, 2, 2, 4, 7, 4, 7, 4, 1, 1, 1, 3, 8, 2, 4, 5, 1, 3, 3, 5, 6, 1, 4, 5, 8, 1, 7, 7, 6, 4, 4, 5, 6, 3, 4, 8, 3, 4, 2, 5, 7, 1, 4, 3, 6, 2, 2, 6, 2, 7, 1, 3, 1, 3, 2, 6, 2, 1, 4, 4, 6, 1, 2, 7, 1, 1, 5, 8, 8, 1, 7, 1, 6, 3, 4, 5, 4, 4, 6, 7, 6, 2, 2, 1, 2, 5, 5, 6, 7, 7, 6, 5, 8, 6, 2, 1, 1, 1, 8, 8, 8, 3, 3, 6, 1, 5, 1, 5, 3, 3, 4, 1, 2, 7, 6, 7, 8, 8, 4, 4, 7, 4, 7, 7, 1, 3, 5, 5, 1, 5, 2, 6, 2, 6, 8, 4, 7, 2, 6, 1, 7, 1, 1, 4, 5, 1, 6, 2, 7, 2, 6, 7, 3, 3, 3, 1, 7, 8, 8, 4, 8, 8, 7, 3, 4, 3, 6, 1, 1, 6, 2, 6, 2, 3, 2, 3, 3, 4, 4, 5, 8, 5, 2, 4, 7, 8, 1, 2, 3, 5, 8, 1, 1, 5, 8, 8, 7, 5, 6, 1, 2, 1, 4, 8, 3, 3, 8, 2, 7, 5, 4, 5, 8, 5, 6, 5, 6, 3, 1, 2, 5, 1, 5, 2, 1, 2, 6, 1, 3, 5, 5], \"Freq\": [0.7584972553833509, 0.7273811186723913, 0.45695258568215036, 0.13055788162347154, 0.1958368224352073, 0.1958368224352073, 0.8420581853273543, 0.2849471737958171, 0.5698943475916342, 0.3601779771818748, 0.3601779771818748, 0.878302644298804, 0.9319972793289648, 0.7989918311916465, 0.9053112892879396, 0.7584972553948088, 0.8783017237958994, 0.7778894243179412, 0.38628286481386753, 0.5794242972208014, 0.799008317180968, 0.7505297885315358, 0.9053203568897098, 0.8727006982099271, 0.7734926368790338, 0.7734926368790338, 0.35989958475747713, 0.35989958475747713, 0.14441335226616125, 0.14441335226616125, 0.577653409064645, 0.872701487655743, 0.9706864403282646, 0.7493239052545899, 0.2270471955488178, 0.6811415866464534, 0.03005383294627049, 0.7513458236567623, 0.15026916473135246, 0.06010766589254098, 0.8727021532340363, 0.8735072143167374, 0.8435814544016916, 0.8506090493192229, 0.7990083171855915, 0.7990083171855915, 0.3786452070584032, 0.3786452070584032, 0.2786190045328625, 0.2786190045328625, 0.2786190045328625, 0.3866845706416752, 0.3866845706416752, 0.3840243449679631, 0.3840243449679631, 0.7505303163129187, 0.3930192014805341, 0.3930192014805341, 0.8966830194690839, 0.09607318065740184, 0.7778716554711383, 0.38341483630725837, 0.38341483630725837, 0.49259678870596696, 0.49259678870596696, 0.6504090873846525, 0.28907070550429, 0.8727015853401706, 0.8976005155558735, 0.38340584339837164, 0.38340584339837164, 0.93254780794783, 0.6767255525548351, 0.33836277627741757, 0.7990083171859717, 0.9451329882816, 0.13736389825481368, 0.8516561691798449, 0.8435814544016916, 0.872701580651514, 0.3829613570697992, 0.3829613570697992, 0.9163597132235127, 0.8695177438126354, 0.7720531999060972, 0.1930132999765243, 0.9573357400302361, 0.7560909735582332, 0.1639416732727161, 0.1639416732727161, 0.4918250198181483, 0.9501896804016241, 0.7990083171922594, 0.14050628441312327, 0.8430377064787397, 0.756085994604903, 0.9783471399776088, 0.966763713973415, 0.9819230252779411, 0.8783030439237335, 0.8536602194229792, 0.37864525834039137, 0.37864525834039137, 0.9617787977823744, 0.7505308559901905, 0.8506090495962301, 0.5497947442272448, 0.2748973721136224, 0.9924117564112306, 0.7778817438798087, 0.9573358387325891, 0.9325035083944789, 0.8342535243113928, 0.7709898043228911, 0.817294616008624, 0.7709897979071221, 0.7493238508564017, 0.7493238508564017, 0.7560874762762095, 0.2650165515628701, 0.7067108041676535, 0.38296053963974336, 0.38296053963974336, 0.8406655019695276, 0.8976006966173633, 0.9053203651698244, 0.58303741148476, 0.29151870574238, 0.945152123052927, 0.9451331937263167, 0.7505306422490834, 0.7709929886564811, 0.6925211207481914, 0.9053186210653108, 0.388926691190479, 0.388926691190479, 0.388926691190479, 0.388926691190479, 0.7505298448280817, 0.38061718512857573, 0.38061718512857573, 0.8134396096596764, 0.7584972567004582, 0.38296053963974336, 0.38296053963974336, 0.22875399891399587, 0.6862619967419876, 0.22875399891399587, 0.6862619967419876, 0.8856872046404911, 0.28773263837944046, 0.5754652767588809, 0.7778764358515696, 0.7560874757527432, 0.8930887802645734, 0.06869913694342873, 0.7734924597583864, 0.7734926347475078, 0.7990044633210938, 0.9107921756073859, 0.3823449848648819, 0.3823449848648819, 0.7778897219498249, 0.9186825093003789, 0.3834199017953668, 0.3834199017953668, 0.7505298448034112, 0.8716408792380146, 0.74932386307637, 0.8420582356475209, 0.2843561929936665, 0.568712385987333, 0.6925188131251601, 0.6925188131251601, 0.7990017894288979, 0.9163595352596977, 0.8478480344490612, 0.7505220709766246, 0.38668336679653537, 0.38668336679653537, 0.5632598071900236, 0.2816299035950118, 0.9573357400302361, 0.9573357400302361, 0.7560909735582332, 0.35426600623395516, 0.6199655109094215, 0.7778897307356175, 0.7493250884089913, 0.8782995216674626, 0.842054296548385, 0.7493163960267859, 0.9662191961804825, 0.5515565971831194, 0.2757782985915597, 0.13788914929577986, 0.7584972568478376, 0.29275080021318545, 0.29275080021318545, 0.29275080021318545, 0.9082064273233964, 0.834252649994264, 0.7667584437649678, 0.052879892673446054, 0.10575978534689211, 0.07931983901016908, 0.8765111158508454, 0.9325035083934283, 0.745585426135056, 0.23138858052467257, 0.6925208448612533, 0.7505216800097386, 0.9107955662744965, 0.8506091405922314, 0.38784284707781974, 0.38784284707781974, 0.10841143616112951, 0.7317771940876242, 0.1355142952014119, 0.7493274270489502, 0.9764548621400558, 0.8478470894476069, 0.7041763232786269, 0.7505308396412882, 0.911245226440686, 0.9151490647441237, 0.3620047937905894, 0.3620047937905894, 0.22712878366022063, 0.6813863509806619, 0.9107950765732542, 0.8506093288525505, 0.7493238510819799, 0.1559615705628313, 0.6238462822513252, 0.23394235584424694, 0.7734914060664647, 0.8536602206789854, 0.783558392160657, 0.7734947580054918, 0.7778897299838782, 0.756087475615684, 0.8727023643568141, 0.18914862144961428, 0.7565944857984571, 0.7584954312258609], \"Term\": [\"academic\", \"advertising\", \"agency\", \"agency\", \"agency\", \"agency\", \"airline\", \"automotive\", \"automotive\", \"b2b\", \"b2b\", \"bank\", \"banking\", \"big\", \"business\", \"care\", \"charity\", \"client\", \"cloud\", \"cloud\", \"cloud infrastructure\", \"cloud technology\", \"commerce\", \"commercial\", \"commercial real\", \"commercial real estate\", \"communication\", \"communication\", \"company\", \"company\", \"company\", \"construction\", \"consultancy\", \"consultancy government\", \"consultant\", \"consultant\", \"consulting\", \"consulting\", \"consulting\", \"consulting\", \"consulting industry\", \"consumer\", \"consumer electronics\", \"cpg\", \"creative\", \"creative agency\", \"cross\", \"cross\", \"customer\", \"customer\", \"customer\", \"customer experience\", \"customer experience\", \"data\", \"data\", \"database\", \"delivery\", \"delivery\", \"design\", \"design\", \"design consultancy\", \"design research\", \"design research\", \"development\", \"development\", \"digital\", \"digital\", \"digital agency\", \"digital product\", \"domain\", \"domain\", \"ecommerce\", \"ed\", \"ed\", \"ed tech\", \"edtech\", \"education\", \"education\", \"electronics\", \"energy\", \"engineering\", \"engineering\", \"enterprise\", \"enterprise software\", \"entertainment\", \"entertainment\", \"estate\", \"estate tech\", \"experience\", \"experience\", \"experience\", \"fashion\", \"fashion retail\", \"finance\", \"finance\", \"finance healthcare\", \"financial\", \"financial service\", \"fintech\", \"food\", \"freelance\", \"freelancer\", \"freelancer\", \"government\", \"government healthcare\", \"hardware\", \"health\", \"health\", \"healthcare\", \"healthcare government\", \"higher\", \"higher ed\", \"higher education\", \"hospitality\", \"hr\", \"hr tech\", \"human\", \"human resource\", \"independent\", \"industry\", \"industry\", \"industry manufacturing\", \"industry manufacturing\", \"information\", \"information technology\", \"infrastructure\", \"innovation\", \"innovation\", \"insurance\", \"internet\", \"justice\", \"learning\", \"learning education\", \"legal\", \"life\", \"life\", \"life science\", \"life science\", \"logistics\", \"mainly\", \"mainly\", \"management\", \"management consulting\", \"manufacturing\", \"manufacturing\", \"market\", \"market\", \"market research\", \"market research\", \"marketing\", \"marketplace\", \"marketplace\", \"martech\", \"medical\", \"medium\", \"medium\", \"medium entertainment\", \"mix\", \"mobility\", \"multiple\", \"network\", \"network\", \"ngo\", \"nonprofit\", \"pet\", \"pet\", \"platform\", \"product\", \"product consultancy\", \"product design\", \"production\", \"production\", \"professional\", \"professional service\", \"project\", \"public\", \"public sector\", \"public service\", \"range\", \"range\", \"rd\", \"rd\", \"real\", \"real estate\", \"real estate tech\", \"research\", \"research\", \"research agency\", \"research design\", \"research service\", \"resource\", \"resource technology\", \"retail\", \"saas\", \"saas\", \"saas\", \"saas software\", \"science\", \"science\", \"science\", \"sector\", \"security\", \"service\", \"service\", \"service\", \"service\", \"social\", \"social medium\", \"software\", \"software\", \"software design\", \"software development\", \"software service\", \"strategy\", \"supply\", \"supply\", \"tech\", \"tech\", \"tech\", \"tech consultancy\", \"technology\", \"telecom\", \"telecommunication\", \"transport\", \"transportation\", \"travel\", \"university\", \"university\", \"user\", \"user\", \"user experience\", \"user research\", \"utility\", \"ux\", \"ux\", \"ux\", \"ux agency\", \"ux consulting\", \"ux research\", \"various\", \"vendor\", \"vr\", \"web\", \"work\", \"work\", \"working\"]}, \"R\": 30, \"lambda.step\": 0.01, \"plot.opts\": {\"xlab\": \"PC1\", \"ylab\": \"PC2\"}, \"topic.order\": [3, 2, 8, 7, 5, 6, 4, 1]};\n",
       "\n",
       "function LDAvis_load_lib(url, callback){\n",
       "  var s = document.createElement('script');\n",
       "  s.src = url;\n",
       "  s.async = true;\n",
       "  s.onreadystatechange = s.onload = callback;\n",
       "  s.onerror = function(){console.warn(\"failed to load library \" + url);};\n",
       "  document.getElementsByTagName(\"head\")[0].appendChild(s);\n",
       "}\n",
       "\n",
       "if(typeof(LDAvis) !== \"undefined\"){\n",
       "   // already loaded: just create the visualization\n",
       "   !function(LDAvis){\n",
       "       new LDAvis(\"#\" + \"ldavis_el319141122863626248833120416\", ldavis_el319141122863626248833120416_data);\n",
       "   }(LDAvis);\n",
       "}else if(typeof define === \"function\" && define.amd){\n",
       "   // require.js is available: use it to load d3/LDAvis\n",
       "   require.config({paths: {d3: \"https://cdnjs.cloudflare.com/ajax/libs/d3/3.5.5/d3.min\"}});\n",
       "   require([\"d3\"], function(d3){\n",
       "      window.d3 = d3;\n",
       "      LDAvis_load_lib(\"https://cdn.rawgit.com/bmabey/pyLDAvis/files/ldavis.v1.0.0.js\", function(){\n",
       "        new LDAvis(\"#\" + \"ldavis_el319141122863626248833120416\", ldavis_el319141122863626248833120416_data);\n",
       "      });\n",
       "    });\n",
       "}else{\n",
       "    // require.js not available: dynamically load d3 & LDAvis\n",
       "    LDAvis_load_lib(\"https://cdnjs.cloudflare.com/ajax/libs/d3/3.5.5/d3.min.js\", function(){\n",
       "         LDAvis_load_lib(\"https://cdn.rawgit.com/bmabey/pyLDAvis/files/ldavis.v1.0.0.js\", function(){\n",
       "                 new LDAvis(\"#\" + \"ldavis_el319141122863626248833120416\", ldavis_el319141122863626248833120416_data);\n",
       "            })\n",
       "         });\n",
       "}\n",
       "</script>"
      ],
      "text/plain": [
       "PreparedData(topic_coordinates=              x         y  topics  cluster       Freq\n",
       "topic                                                \n",
       "2      0.022258  0.066488       1        1  15.945548\n",
       "1     -0.156636 -0.217845       2        1  15.516030\n",
       "7     -0.113215  0.104614       3        1  12.905741\n",
       "6      0.211751  0.084395       4        1  12.307240\n",
       "4      0.146570 -0.145802       5        1  12.023908\n",
       "5     -0.207465 -0.051247       6        1  10.947611\n",
       "3     -0.081401  0.228426       7        1  10.516563\n",
       "0      0.178137 -0.069029       8        1   9.837359, topic_info=    Category       Freq                 Term      Total  loglift  logprob\n",
       "75   Default  49.000000           healthcare  49.000000  30.0000  30.0000\n",
       "159  Default  41.000000           technology  41.000000  29.0000  29.0000\n",
       "71   Default  31.000000           government  31.000000  28.0000  28.0000\n",
       "67   Default  36.000000              fintech  36.000000  27.0000  27.0000\n",
       "151  Default  38.000000             software  38.000000  26.0000  26.0000\n",
       "..       ...        ...                  ...        ...      ...      ...\n",
       "127   Topic8   0.125387              project   2.503123  -0.6749  -6.8859\n",
       "130   Topic8   0.125677       public service   2.664812  -0.7352  -6.8836\n",
       "141   Topic8   0.125673  resource technology   2.669099  -0.7368  -6.8836\n",
       "145   Topic8   0.125860              science   3.415875  -0.9820  -6.8821\n",
       "42    Topic8   0.125677          development   6.090174  -1.5617  -6.8836\n",
       "\n",
       "[297 rows x 6 columns], token_table=      Topic      Freq         Term\n",
       "term                              \n",
       "0         5  0.758497     academic\n",
       "1         4  0.727381  advertising\n",
       "2         1  0.456953       agency\n",
       "2         2  0.130558       agency\n",
       "2         3  0.195837       agency\n",
       "...     ...       ...          ...\n",
       "176       6  0.756087           vr\n",
       "177       1  0.872702          web\n",
       "178       3  0.189149         work\n",
       "178       5  0.756594         work\n",
       "179       5  0.758495      working\n",
       "\n",
       "[246 rows x 3 columns], R=30, lambda_step=0.01, plot_opts={'xlab': 'PC1', 'ylab': 'PC2'}, topic_order=[3, 2, 8, 7, 5, 6, 4, 1])"
      ]
     },
     "execution_count": 9,
     "metadata": {},
     "output_type": "execute_result"
    }
   ],
   "source": [
    "pyLDAvis.sklearn.prepare(lda5, primary_industry_matrix, primary_industry_vector)"
   ]
  },
  {
   "cell_type": "markdown",
   "metadata": {},
   "source": [
    "#### Topic groups (4)\n",
    "1. education \n",
    "2. fintech \n",
    "3. healthcare \n",
    "4. Tech \n",
    "\n",
    "#### Topic groups (6) \n",
    "1. fintech\n",
    "2. education\n",
    "3. healthcare\n",
    "4. technology\n",
    "5. software\n",
    "6. consultancy\n",
    "\n",
    "#### Topic groups (8) - 5 & 8 slight overlap\n",
    "1. fintech\n",
    "2. education\n",
    "3. technology\n",
    "4. consulting\n",
    "5. software\n",
    "6. healthcare\n",
    "7. government\n",
    "8. public (sector)\n"
   ]
  },
  {
   "cell_type": "code",
   "execution_count": null,
   "metadata": {},
   "outputs": [],
   "source": [
    "#8 Topics"
   ]
  },
  {
   "cell_type": "code",
   "execution_count": 12,
   "metadata": {},
   "outputs": [],
   "source": [
    "lda_W5 = lda5.transform(primary_industry_matrix)"
   ]
  },
  {
   "cell_type": "code",
   "execution_count": 13,
   "metadata": {},
   "outputs": [],
   "source": [
    "top_doc_column5 = datadf.primary_industry.dropna()"
   ]
  },
  {
   "cell_type": "markdown",
   "metadata": {},
   "source": [
    "#### Create second word count matrix. Excludes words in appear in 80%+ of all documents and in 2 or fewer documents. Include bigrams."
   ]
  },
  {
   "cell_type": "code",
   "execution_count": 14,
   "metadata": {},
   "outputs": [],
   "source": [
    "word_count_matrix5, count_vect5 = nlp.create_wordcount_matrix(datadf.primary_industry, max_df=0.8, min_df=2, ngram=(1,3))"
   ]
  },
  {
   "cell_type": "code",
   "execution_count": 15,
   "metadata": {},
   "outputs": [
    {
     "data": {
      "text/plain": [
       "LatentDirichletAllocation(batch_size=128, doc_topic_prior=None,\n",
       "                          evaluate_every=-1, learning_decay=0.7,\n",
       "                          learning_method='batch', learning_offset=10.0,\n",
       "                          max_doc_update_iter=100, max_iter=10,\n",
       "                          mean_change_tol=0.001, n_components=5, n_jobs=None,\n",
       "                          perp_tol=0.1, random_state=42, topic_word_prior=None,\n",
       "                          total_samples=1000000.0, verbose=0)"
      ]
     },
     "execution_count": 15,
     "metadata": {},
     "output_type": "execute_result"
    }
   ],
   "source": [
    "LDA5a = LatentDirichletAllocation(n_components=5, random_state=42)\n",
    "LDA5a.fit(word_count_matrix5)"
   ]
  },
  {
   "cell_type": "code",
   "execution_count": 16,
   "metadata": {},
   "outputs": [],
   "source": [
    "lda_H = LDA5a.transform(word_count_matrix5)"
   ]
  },
  {
   "cell_type": "code",
   "execution_count": 17,
   "metadata": {},
   "outputs": [
    {
     "name": "stdout",
     "output_type": "stream",
     "text": [
      "Top 3 Documents for Topic 0: \n",
      "\n",
      "Document 1\n",
      "real estate tech\n",
      "\n",
      "Document 2\n",
      "real estate tech\n",
      "\n",
      "Document 3\n",
      "sotware development across domain such a data science deep learning health tech interaction etc\n",
      "\n",
      "Top 3 Documents for Topic 1: \n",
      "\n",
      "Document 1\n",
      "design research service and innovation planning aka design planning design ledstrategy\n",
      "\n",
      "Document 2\n",
      "market research agency 95 client are in financial service\n",
      "\n",
      "Document 3\n",
      "ux research we're a ux research agency a vendor used by fortune 500 company\n",
      "\n",
      "Top 3 Documents for Topic 2: \n",
      "\n",
      "Document 1\n",
      "commercial real estate\n",
      "\n",
      "Document 2\n",
      "commercial real estate\n",
      "\n",
      "Document 3\n",
      "architecture engineering construction aec industry manufacturing design medium entertainment industry\n",
      "\n",
      "Top 3 Documents for Topic 3: \n",
      "\n",
      "Document 1\n",
      "banking retail edu logistic government entertainment tourism aviation\n",
      "\n",
      "Document 2\n",
      "financial sector public sector resource technology retail healthcare\n",
      "\n",
      "Document 3\n",
      "aerospaceautomativebankingcentral government chemical consumer package goodsdefenceeducation manufacture energyhealthcarehospitality insurance life science medium retail transport utlitiestelecommunication\n",
      "\n",
      "Top 3 Documents for Topic 4: \n",
      "\n",
      "Document 1\n",
      "enterprise software development\n",
      "\n",
      "Document 2\n",
      "enterprise software multiple industry\n",
      "\n",
      "Document 3\n",
      "i'm a consultant i work with company of all size in all industry except manufacturing\n",
      "\n"
     ]
    }
   ],
   "source": [
    "nlp.find_top_documents_per_topic(lda_H, top_doc_column5, 3)"
   ]
  },
  {
   "cell_type": "markdown",
   "metadata": {},
   "source": [
    "## 6. What types of research do you currently use to make decisions?"
   ]
  },
  {
   "cell_type": "code",
   "execution_count": 10,
   "metadata": {},
   "outputs": [],
   "source": [
    "datadf.types_res_used = datadf.types_res_used.dropna().apply(nlp.basic_clean)\n",
    "datadf.types_res_used = datadf.types_res_used.dropna().apply(nlp.lemmatize)"
   ]
  },
  {
   "cell_type": "code",
   "execution_count": 11,
   "metadata": {},
   "outputs": [
    {
     "data": {
      "text/plain": [
       "(<690x1209 sparse matrix of type '<class 'numpy.int64'>'\n",
       " \twith 7564 stored elements in Compressed Sparse Row format>,\n",
       " CountVectorizer(analyzer='word', binary=False, decode_error='strict',\n",
       "                 dtype=<class 'numpy.int64'>, encoding='utf-8', input='content',\n",
       "                 lowercase=True, max_df=0.3, max_features=None, min_df=2,\n",
       "                 ngram_range=(1, 3), preprocessor=None, stop_words='english',\n",
       "                 strip_accents=None, token_pattern='(?u)\\\\b\\\\w\\\\w+\\\\b',\n",
       "                 tokenizer=None, vocabulary=None))"
      ]
     },
     "execution_count": 11,
     "metadata": {},
     "output_type": "execute_result"
    }
   ],
   "source": [
    "types_res_used_matrix, types_res_used_vector = nlp.create_wordcount_matrix(datadf.types_res_used.dropna(), ngram=(1,3), max_df=.3)\n",
    "types_res_used_matrix, types_res_used_vector"
   ]
  },
  {
   "cell_type": "code",
   "execution_count": 12,
   "metadata": {},
   "outputs": [],
   "source": [
    "lda6 = LatentDirichletAllocation(n_components= 8, random_state = 42)"
   ]
  },
  {
   "cell_type": "code",
   "execution_count": 13,
   "metadata": {},
   "outputs": [
    {
     "data": {
      "text/plain": [
       "LatentDirichletAllocation(batch_size=128, doc_topic_prior=None,\n",
       "                          evaluate_every=-1, learning_decay=0.7,\n",
       "                          learning_method='batch', learning_offset=10.0,\n",
       "                          max_doc_update_iter=100, max_iter=10,\n",
       "                          mean_change_tol=0.001, n_components=8, n_jobs=None,\n",
       "                          perp_tol=0.1, random_state=42, topic_word_prior=None,\n",
       "                          total_samples=1000000.0, verbose=0)"
      ]
     },
     "execution_count": 13,
     "metadata": {},
     "output_type": "execute_result"
    }
   ],
   "source": [
    "lda6.fit(types_res_used_matrix)"
   ]
  },
  {
   "cell_type": "code",
   "execution_count": 14,
   "metadata": {},
   "outputs": [
    {
     "data": {
      "text/html": [
       "\n",
       "<link rel=\"stylesheet\" type=\"text/css\" href=\"https://cdn.rawgit.com/bmabey/pyLDAvis/files/ldavis.v1.0.0.css\">\n",
       "\n",
       "\n",
       "<div id=\"ldavis_el319141123672665766974092366\"></div>\n",
       "<script type=\"text/javascript\">\n",
       "\n",
       "var ldavis_el319141123672665766974092366_data = {\"mdsDat\": {\"x\": [-0.02931216295523187, -0.11383909462745702, -0.09052929084777947, 0.24713785447156544, 0.09131133406071765, -0.013658375988527418, -0.03107999071068991, -0.06003027340259759], \"y\": [-0.04752001602625656, -0.011711424053759184, -0.1685147002500787, -0.03875055729424743, -0.0032729862928227347, 0.06341964914202278, 0.1778013752233747, 0.028548659551767053], \"topics\": [1, 2, 3, 4, 5, 6, 7, 8], \"cluster\": [1, 1, 1, 1, 1, 1, 1, 1], \"Freq\": [19.5834326495199, 17.52310641068531, 16.75619081387007, 11.931896225401097, 11.387523472029491, 8.79316704089476, 7.06763238307706, 6.9570510045223175]}, \"tinfo\": {\"Category\": [\"Default\", \"Default\", \"Default\", \"Default\", \"Default\", \"Default\", \"Default\", \"Default\", \"Default\", \"Default\", \"Default\", \"Default\", \"Default\", \"Default\", \"Default\", \"Default\", \"Default\", \"Default\", \"Default\", \"Default\", \"Default\", \"Default\", \"Default\", \"Default\", \"Default\", \"Default\", \"Default\", \"Default\", \"Default\", \"Default\", \"Topic1\", \"Topic1\", \"Topic1\", \"Topic1\", \"Topic1\", \"Topic1\", \"Topic1\", \"Topic1\", \"Topic1\", \"Topic1\", \"Topic1\", \"Topic1\", \"Topic1\", \"Topic1\", \"Topic1\", \"Topic1\", \"Topic1\", \"Topic1\", \"Topic1\", \"Topic1\", \"Topic1\", \"Topic1\", \"Topic1\", \"Topic1\", \"Topic1\", \"Topic1\", \"Topic1\", \"Topic1\", \"Topic1\", \"Topic1\", \"Topic1\", \"Topic1\", \"Topic1\", \"Topic1\", \"Topic1\", \"Topic1\", \"Topic1\", \"Topic1\", \"Topic1\", \"Topic1\", \"Topic1\", \"Topic1\", \"Topic1\", \"Topic1\", \"Topic1\", \"Topic1\", \"Topic1\", \"Topic1\", \"Topic1\", \"Topic1\", \"Topic1\", \"Topic1\", \"Topic1\", \"Topic1\", \"Topic1\", \"Topic1\", \"Topic1\", \"Topic1\", \"Topic1\", \"Topic1\", \"Topic1\", \"Topic1\", \"Topic1\", \"Topic1\", \"Topic2\", \"Topic2\", \"Topic2\", \"Topic2\", \"Topic2\", \"Topic2\", \"Topic2\", \"Topic2\", \"Topic2\", \"Topic2\", \"Topic2\", \"Topic2\", \"Topic2\", \"Topic2\", \"Topic2\", \"Topic2\", \"Topic2\", \"Topic2\", \"Topic2\", \"Topic2\", \"Topic2\", \"Topic2\", \"Topic2\", \"Topic2\", \"Topic2\", \"Topic2\", \"Topic2\", \"Topic2\", \"Topic2\", \"Topic2\", \"Topic2\", \"Topic2\", \"Topic2\", \"Topic2\", \"Topic2\", \"Topic2\", \"Topic2\", \"Topic2\", \"Topic2\", \"Topic2\", \"Topic2\", \"Topic2\", \"Topic2\", \"Topic2\", \"Topic2\", \"Topic2\", \"Topic2\", \"Topic2\", \"Topic2\", \"Topic2\", \"Topic2\", \"Topic2\", \"Topic2\", \"Topic2\", \"Topic2\", \"Topic2\", \"Topic2\", \"Topic2\", \"Topic2\", \"Topic3\", \"Topic3\", \"Topic3\", \"Topic3\", \"Topic3\", \"Topic3\", \"Topic3\", \"Topic3\", \"Topic3\", \"Topic3\", \"Topic3\", \"Topic3\", \"Topic3\", \"Topic3\", \"Topic3\", \"Topic3\", \"Topic3\", \"Topic3\", \"Topic3\", \"Topic3\", \"Topic3\", \"Topic3\", \"Topic3\", \"Topic3\", \"Topic3\", \"Topic3\", \"Topic3\", \"Topic3\", \"Topic3\", \"Topic3\", \"Topic3\", \"Topic3\", \"Topic3\", \"Topic3\", \"Topic3\", \"Topic3\", \"Topic3\", \"Topic3\", \"Topic3\", \"Topic3\", \"Topic3\", \"Topic3\", \"Topic3\", \"Topic3\", \"Topic3\", \"Topic3\", \"Topic3\", \"Topic3\", \"Topic3\", \"Topic3\", \"Topic3\", \"Topic3\", \"Topic4\", \"Topic4\", \"Topic4\", \"Topic4\", \"Topic4\", \"Topic4\", \"Topic4\", \"Topic4\", \"Topic4\", \"Topic4\", \"Topic4\", \"Topic4\", \"Topic4\", \"Topic4\", \"Topic4\", \"Topic4\", \"Topic4\", \"Topic4\", \"Topic4\", \"Topic4\", \"Topic4\", \"Topic4\", \"Topic4\", \"Topic4\", \"Topic4\", \"Topic4\", \"Topic4\", \"Topic4\", \"Topic4\", \"Topic4\", \"Topic4\", \"Topic4\", \"Topic4\", \"Topic4\", \"Topic4\", \"Topic4\", \"Topic4\", \"Topic4\", \"Topic4\", \"Topic4\", \"Topic4\", \"Topic4\", \"Topic4\", \"Topic4\", \"Topic4\", \"Topic4\", \"Topic4\", \"Topic4\", \"Topic4\", \"Topic4\", \"Topic4\", \"Topic4\", \"Topic4\", \"Topic4\", \"Topic4\", \"Topic4\", \"Topic4\", \"Topic4\", \"Topic4\", \"Topic5\", \"Topic5\", \"Topic5\", \"Topic5\", \"Topic5\", \"Topic5\", \"Topic5\", \"Topic5\", \"Topic5\", \"Topic5\", \"Topic5\", \"Topic5\", \"Topic5\", \"Topic5\", \"Topic5\", \"Topic5\", \"Topic5\", \"Topic5\", \"Topic5\", \"Topic5\", \"Topic5\", \"Topic5\", \"Topic5\", \"Topic5\", \"Topic5\", \"Topic5\", \"Topic5\", \"Topic5\", \"Topic5\", \"Topic5\", \"Topic5\", \"Topic5\", \"Topic5\", \"Topic5\", \"Topic5\", \"Topic5\", \"Topic5\", \"Topic5\", \"Topic5\", \"Topic5\", \"Topic5\", \"Topic5\", \"Topic5\", \"Topic5\", \"Topic5\", \"Topic5\", \"Topic5\", \"Topic5\", \"Topic5\", \"Topic5\", \"Topic5\", \"Topic5\", \"Topic5\", \"Topic5\", \"Topic5\", \"Topic6\", \"Topic6\", \"Topic6\", \"Topic6\", \"Topic6\", \"Topic6\", \"Topic6\", \"Topic6\", \"Topic6\", \"Topic6\", \"Topic6\", \"Topic6\", \"Topic6\", \"Topic6\", \"Topic6\", \"Topic6\", \"Topic6\", \"Topic6\", \"Topic6\", \"Topic6\", \"Topic6\", \"Topic6\", \"Topic6\", \"Topic6\", \"Topic6\", \"Topic6\", \"Topic6\", \"Topic6\", \"Topic6\", \"Topic6\", \"Topic6\", \"Topic6\", \"Topic6\", \"Topic6\", \"Topic6\", \"Topic6\", \"Topic6\", \"Topic6\", \"Topic6\", \"Topic6\", \"Topic6\", \"Topic6\", \"Topic6\", \"Topic6\", \"Topic6\", \"Topic6\", \"Topic6\", \"Topic6\", \"Topic6\", \"Topic6\", \"Topic6\", \"Topic6\", \"Topic6\", \"Topic6\", \"Topic6\", \"Topic6\", \"Topic6\", \"Topic6\", \"Topic6\", \"Topic6\", \"Topic6\", \"Topic6\", \"Topic6\", \"Topic6\", \"Topic6\", \"Topic7\", \"Topic7\", \"Topic7\", \"Topic7\", \"Topic7\", \"Topic7\", \"Topic7\", \"Topic7\", \"Topic7\", \"Topic7\", \"Topic7\", \"Topic7\", \"Topic7\", \"Topic7\", \"Topic7\", \"Topic7\", \"Topic7\", \"Topic7\", \"Topic7\", \"Topic7\", \"Topic7\", \"Topic7\", \"Topic7\", \"Topic7\", \"Topic7\", \"Topic7\", \"Topic7\", \"Topic7\", \"Topic7\", \"Topic7\", \"Topic7\", \"Topic7\", \"Topic7\", \"Topic7\", \"Topic7\", \"Topic7\", \"Topic7\", \"Topic7\", \"Topic7\", \"Topic7\", \"Topic7\", \"Topic7\", \"Topic7\", \"Topic7\", \"Topic7\", \"Topic7\", \"Topic7\", \"Topic7\", \"Topic7\", \"Topic7\", \"Topic7\", \"Topic7\", \"Topic7\", \"Topic7\", \"Topic7\", \"Topic7\", \"Topic8\", \"Topic8\", \"Topic8\", \"Topic8\", \"Topic8\", \"Topic8\", \"Topic8\", \"Topic8\", \"Topic8\", \"Topic8\", \"Topic8\", \"Topic8\", \"Topic8\", \"Topic8\", \"Topic8\", \"Topic8\", \"Topic8\", \"Topic8\", \"Topic8\", \"Topic8\", \"Topic8\", \"Topic8\", \"Topic8\", \"Topic8\", \"Topic8\", \"Topic8\", \"Topic8\", \"Topic8\", \"Topic8\", \"Topic8\", \"Topic8\", \"Topic8\", \"Topic8\", \"Topic8\", \"Topic8\", \"Topic8\", \"Topic8\", \"Topic8\", \"Topic8\", \"Topic8\", \"Topic8\", \"Topic8\", \"Topic8\", \"Topic8\", \"Topic8\", \"Topic8\", \"Topic8\", \"Topic8\", \"Topic8\", \"Topic8\", \"Topic8\", \"Topic8\", \"Topic8\", \"Topic8\", \"Topic8\", \"Topic8\", \"Topic8\"], \"Freq\": [143.0, 74.0, 35.0, 28.0, 44.0, 45.0, 84.0, 35.0, 40.0, 142.0, 38.0, 26.0, 36.0, 35.0, 16.0, 19.0, 33.0, 13.0, 41.0, 113.0, 49.0, 21.0, 147.0, 19.0, 44.0, 34.0, 61.0, 37.0, 26.0, 26.0, 10.84685618487837, 9.952239137110734, 13.429985040102551, 5.479319781321042, 5.479204774363465, 5.458889128985377, 4.584692727644697, 4.584681202445278, 4.584639102385472, 3.690116305577902, 3.6900816189511865, 3.6900698498975233, 2.795630659666633, 2.795618241269353, 2.795606928395367, 2.795606380983502, 2.7955536848074, 2.7955502868715345, 2.7954966613971726, 2.795444491478771, 2.7954420434715774, 2.7954140447551543, 2.7953077369459245, 2.7951553002385867, 2.7940826951366082, 5.479407490665946, 7.26856509711352, 5.281712525166346, 5.28171243755896, 4.58477872354727, 17.14133398171531, 8.15613198646483, 28.708853989799977, 8.964073517329755, 4.584623924045658, 25.086781261370508, 14.930082977000486, 19.994241804518175, 58.277519424186586, 4.450127518725223, 5.479128952103731, 5.351860162927853, 40.62041281922816, 19.480014151733872, 20.917539411780076, 14.911614811907295, 21.012399726409377, 29.003925672086694, 11.432342169226565, 6.218845582801281, 10.794221995202763, 12.75417199349784, 12.608681787492342, 12.904211443495841, 17.669582558111276, 10.851405090684013, 10.548506574724621, 10.643784453113792, 10.77351789864131, 8.266313018743617, 7.426535148671949, 8.92918545237993, 7.832365243214338, 7.978097114997626, 13.60692282558027, 13.60692282558017, 9.027288576652234, 9.027278551645782, 6.409862405400641, 5.510275584352449, 4.610659326980531, 4.610623808989759, 4.610597184318272, 4.609815825942377, 10.713607975836302, 37.57308817043121, 3.7108980125458646, 3.7108980125458646, 9.586188166543916, 37.379690673947856, 2.811378706723192, 2.811378706723192, 2.8113786814122563, 2.8113786512766077, 2.8113786415009403, 2.811230632920549, 2.8112130265129904, 2.8112130265129904, 2.8112130265129904, 2.810982213496321, 2.8109675626780866, 2.8107755459840496, 2.810772223243578, 2.766445579351666, 22.052506064061454, 4.610712289874767, 11.913737422849763, 14.695492745676765, 23.68461440380712, 36.51285546575595, 24.498159122405454, 23.627163898678, 5.360727441422695, 11.999015484777022, 11.99901531200051, 4.996330150437874, 32.44940070404787, 6.491015898226791, 8.819675015569588, 31.72542489755956, 10.74938434601023, 11.414643680142946, 16.980832139481784, 14.954998242134542, 15.257855943532928, 12.175554786603891, 9.420950267716112, 14.257639163192236, 15.105160200429596, 10.399941558623816, 10.601524771117848, 10.068465819646915, 11.366819821876758, 18.645040649197448, 9.818985991110535, 8.936350724432147, 8.936350724432147, 7.170878986795214, 6.28850328760665, 31.67234726316859, 5.405949643890216, 9.812186378458732, 9.082907773005001, 4.5233432142220344, 4.5233432142220344, 4.5233077081502024, 4.52329533774814, 4.522052691281073, 4.521374980863677, 7.437220075422758, 8.904633195629412, 3.6407295908081854, 3.64060237716212, 3.6405889054560214, 3.6405889054560214, 3.6405494622345085, 3.6388924037917727, 3.6243234344778243, 2.7581695078770982, 2.758079400005542, 2.7580730367712922, 2.7580663747792458, 2.758001233655574, 16.502624102401505, 28.024205670608467, 19.699419834667264, 27.097349595121404, 44.982943688386115, 13.762828508030664, 19.279060204398753, 20.732649730205218, 27.972962166630676, 21.615171721474912, 41.729202811553975, 10.73259837703023, 16.128602514228586, 15.847389928935405, 9.558037066427906, 10.491877125329195, 15.114330521797342, 8.21395621576246, 13.178226145320481, 15.864176577882423, 9.206415081407757, 7.835483014501841, 10.176532406259183, 8.497753269433812, 17.21590234266269, 4.301403073530886, 3.462091773957027, 3.4613053092806303, 5.980026865333581, 2.622782969288537, 2.6227565341848487, 2.622747665036086, 2.6227426625967283, 2.6225557902063468, 2.622282923140503, 2.6219667149287273, 2.6218995910103833, 3.8908477040745453, 19.585780095019125, 4.254899759394654, 1.7835323932832943, 1.7835323912921512, 1.7835323912921512, 1.7835323822319986, 1.7835323822319986, 1.783532376139234, 1.7835323702523818, 1.7835323702523818, 1.7835243950370838, 1.7835129096049394, 1.7835070599842784, 1.7835053652240127, 15.28459284121407, 4.709576773483739, 27.21616526411406, 5.780439722624625, 11.662565297840956, 8.141859904133865, 43.21570432334196, 23.34101673628301, 75.31207102532224, 4.893606139940492, 3.3315731116938316, 9.012983359955014, 18.17154031592486, 10.542244987304578, 32.368967719477396, 9.024745985914151, 8.117984865820572, 6.393901289520594, 14.831794272721952, 9.763198819358147, 10.318862217122282, 9.860628516993796, 5.728284316126658, 8.964406051839683, 5.883532589603791, 5.614354678860405, 5.7011389556497125, 5.026673219748275, 5.2453645337332135, 7.821304727220881, 6.964201353453376, 25.340456798941204, 31.357367102302096, 3.5356020452730728, 3.5354685495042926, 3.5354291801691016, 3.534902710313642, 6.964326321173748, 2.678542388727498, 2.67850397384834, 2.67850397384834, 2.6784596325358003, 2.678454712439907, 2.678454712439907, 2.678406342803455, 2.678338718546014, 2.6782735882963995, 5.249965692990069, 2.6258121906512297, 6.851773070312473, 4.924081202200838, 1.8214286152190156, 1.8214286006744071, 1.821428592069677, 1.8214282338578238, 1.821413873451007, 1.821413873451007, 1.8214103103165051, 1.8213998773173983, 3.534773146787345, 8.360190054905939, 3.5355793189314237, 3.5355211127791986, 10.85509335232576, 5.9370567779839325, 11.803277333101969, 22.40758803736772, 18.699536792879947, 22.39818672235687, 18.79963274989234, 12.293523680338915, 6.726932073062888, 13.524042339113592, 10.868084329222672, 5.705232903726677, 8.749644533185993, 7.892299387991894, 8.309985813403735, 13.891159333251286, 11.716476703683721, 6.2485485472243605, 5.926494009820894, 6.147674452108214, 6.597100223698593, 3.4476052307674006, 2.61189176255265, 2.61189176255265, 2.61188599558508, 2.6118632353362647, 2.6118524212886554, 2.611818137559202, 2.611626513235215, 2.611626513235215, 2.611626513235215, 2.611533174744759, 1.776111136237297, 1.7761012221600583, 1.7760992110264295, 1.7760956292276022, 1.7760887364652729, 1.7760887364652729, 1.7760887364652729, 1.776085614362597, 1.7760855703405507, 1.7760855703405507, 1.7760663694778065, 1.7760527996223372, 1.7760435138970614, 1.7760408416812064, 1.7760294454578252, 1.7760050634723665, 1.7760050634723665, 1.7759892345916142, 1.775918764613775, 3.447503179238036, 4.5742279727385275, 4.2832549957140795, 5.658358982741244, 5.955325956957356, 4.618431042251127, 5.955371862297107, 6.441093544288157, 3.8558929799603177, 6.272648784267274, 12.998364511117405, 2.611787349807598, 2.611701225925633, 5.667014955629335, 3.824504142566605, 8.48264872311823, 20.371121581699203, 6.210188143812168, 11.088919392431018, 9.528004873709822, 5.426254541182693, 10.880981182157106, 5.962091932729024, 6.663762325751241, 6.44196233362337, 7.553800703498584, 3.802155213715169, 4.265460311398504, 3.4478546537223997, 5.107716934637843, 3.1934849479761103, 5.347711287147394, 3.7641673829960944, 3.7215815828343426, 3.6530395973991463, 12.262719016770166, 5.782269998106895, 5.782153037393286, 4.970630886960019, 3.347561880201824, 12.645015237213906, 2.536066266766167, 4.853365174542157, 4.159225572263878, 4.088366770543944, 5.782729398722922, 1.7245436151405968, 1.7245436138355439, 1.7245436111420787, 1.7245435998538223, 1.724535609124184, 1.724535609124184, 1.7245307264528889, 1.7245307264528889, 1.7245251129257628, 1.7245222787591599, 1.7244995497527384, 1.7244995497527384, 1.7244985120613454, 1.7244971622740581, 1.724452062784154, 1.7244417318459964, 1.724354282243908, 1.7242450512714447, 1.7239472001194254, 3.337249143561411, 8.592254752865271, 3.247396494937826, 4.120907689027341, 2.5361544190015937, 7.546532740476789, 2.3925413739527, 2.536291101881016, 6.454765669757744, 9.246272288353051, 2.4057383126015006, 6.831521624078332, 5.86596503505288, 3.7654825936166345, 6.144162642863353, 6.799423256613875, 6.00459966547351, 5.795497323037158, 2.4352552566373618, 5.526801954953405, 4.519094300389585, 4.4738700557259055, 5.282440335961538, 5.964860808542663, 3.348489030196878, 3.3101914351751063, 5.034662920262192, 5.0346361554190455, 5.0346361554190455, 4.212651822423883, 3.390624936884634, 2.5687586379561047, 2.5684608309835917, 1.7467558653052757, 1.7467339242459843, 1.746730332133267, 1.746730332133267, 1.746730332133267, 1.7466829523958733, 1.7466829523958733, 1.7466840712724692, 1.7466696525813166, 1.7466678094693673, 1.746635856873338, 1.7466238737671562, 1.7466027316592592, 1.746593547735895, 1.7465841128110207, 1.7465073208312998, 1.746470460422579, 1.7464279913128757, 1.7461712853389588, 2.4525776515999436, 3.2069710503324873, 7.7587884100152875, 1.7467785770415476, 5.035157984605367, 5.422434905198372, 4.918795470570782, 4.91879546890414, 5.024428825007591, 3.3907490748128217, 2.568730140593624, 2.7390363539531704, 3.636347703071354, 3.3908089601161207, 6.302864249792618, 4.212990477203508, 4.105740264576931, 6.701765080959544, 6.950679513082045, 5.297260028962009, 4.43802915660615, 4.213025836435052, 2.5687312710690127, 9.27010407884946, 6.916511017464378, 8.029156971257049, 4.439613012123183, 4.336894610971315, 3.85829005233892, 3.1579600903367844, 3.40398665041504], \"Term\": [\"qualitative\", \"quantitative\", \"market\", \"market research\", \"contextual inquiry\", \"inquiry\", \"test\", \"interview usability\", \"generative\", \"user\", \"evaluative\", \"qualitative quantitative\", \"sort\", \"card sort\", \"indepth\", \"generative evaluative\", \"interview survey\", \"indepth interview\", \"qual\", \"study\", \"focus\", \"secondary\", \"usability testing\", \"interview usability testing\", \"focus group\", \"user research\", \"card\", \"usability test\", \"user testing\", \"ux\", \"interview diary\", \"interview diary study\", \"ab testing\", \"testing user\", \"study card\", \"research usability testing\", \"usability testing user\", \"moderated remote\", \"study card sort\", \"tree testing card\", \"interview observation usability\", \"testing user interview\", \"paper\", \"testing competitive\", \"conducted\", \"user testing ab\", \"testing ab testing\", \"ethnography user\", \"beta testing\", \"unmoderated user\", \"eyetracking\", \"contextual observation\", \"diary study card\", \"used\", \"product research\", \"interview user testing\", \"testing card\", \"survey diary\", \"survey diary study\", \"testing card sorting\", \"ab\", \"interview user\", \"diary\", \"interview observation\", \"google\", \"diary study\", \"user testing\", \"user interview\", \"user\", \"wide\", \"form\", \"remote interview\", \"study\", \"observation\", \"remote\", \"moderated\", \"analytics\", \"usability testing\", \"unmoderated\", \"11\", \"product\", \"group\", \"focus\", \"method\", \"qualitative\", \"focus group\", \"card\", \"contextual\", \"test\", \"ethnography\", \"team\", \"analysis\", \"qualitative research\", \"data\", \"interview focus group\", \"interview focus\", \"inquiry usability\", \"contextual inquiry usability\", \"interview card sorting\", \"interview field\", \"survey interview focus\", \"interview field study\", \"usability test interview\", \"qualitative quantitative research\", \"interview contextual inquiry\", \"contextual inquiry\", \"contextual inquiry interview\", \"inquiry interview\", \"interview card\", \"inquiry\", \"study diary\", \"study diary study\", \"observation usability testing\", \"survey analytics\", \"ethno\", \"testing survey interview\", \"usability test contextual\", \"test contextual\", \"test contextual inquiry\", \"survey interview contextual\", \"indepth interview focus\", \"gamut\", \"testing interview card\", \"task analysis\", \"workshop\", \"study usability\", \"interview contextual\", \"survey interview\", \"focus group\", \"contextual\", \"focus\", \"group\", \"research method\", \"sorting\", \"card sorting\", \"task\", \"study\", \"survey focus\", \"usability testing survey\", \"usability testing\", \"usability study\", \"field\", \"card\", \"observation\", \"analytics\", \"design\", \"testing survey\", \"test\", \"qualitative\", \"diary\", \"analysis\", \"diary study\", \"user\", \"interview usability testing\", \"tree test\", \"card sort tree\", \"sort tree\", \"survey card sort\", \"survey interview usability\", \"interview usability\", \"sort tree test\", \"interview usability test\", \"testing usability\", \"test card\", \"test card sort\", \"user interview usability\", \"contextual interview usability\", \"quantitative data\", \"click\", \"testing usability testing\", \"test survey\", \"interview survey card\", \"cognitive walkthroughs\", \"card sort survey\", \"sort survey\", \"concept testing usability\", \"research concept\", \"click test\", \"survey user interview\", \"test observation\", \"tree test card\", \"usability test survey\", \"tree jack\", \"qual quant\", \"sort\", \"tree\", \"card sort\", \"test\", \"concept testing\", \"usability test\", \"qual\", \"card\", \"quant\", \"usability testing\", \"prototype\", \"concept\", \"method\", \"type\", \"testing survey\", \"data\", \"usability testing survey\", \"contextual\", \"user\", \"user interview\", \"ethnography\", \"primary\", \"quantitative qualitative\", \"generative evaluative\", \"research secondary\", \"primary qualitative\", \"bit\", \"quant qual\", \"primary research\", \"research secondary research\", \"primary secondary\", \"individual interview\", \"focused\", \"user research usability\", \"user research market\", \"experimentation\", \"research qualitative\", \"qualitative quantitative\", \"research user\", \"qual user\", \"evaluative contextual\", \"generative evaluative contextual\", \"mixedmethods research\", \"mixedmethods\", \"hypothesis testing\", \"qualitative mixed method\", \"qualitative mixed\", \"exploratory evaluative\", \"customer experience\", \"text analysis\", \"facetoface\", \"secondary\", \"qualitative user\", \"generative\", \"research survey\", \"mixed\", \"secondary research\", \"quantitative\", \"evaluative\", \"qualitative\", \"design research\", \"qualitative user research\", \"mixed method\", \"user research\", \"user testing\", \"user\", \"team\", \"discovery\", \"primarily\", \"method\", \"qualitative research\", \"qual\", \"quant\", \"research usability\", \"design\", \"desk\", \"online\", \"analysis\", \"desk research\", \"contextual\", \"research market\", \"research market research\", \"market research\", \"market\", \"unmoderated usability testing\", \"testing quantitative\", \"mixture\", \"field study survey\", \"heuristic evaluation\", \"survey remote\", \"mix qualitative\", \"mix qualitative quantitative\", \"research data\", \"testing heuristic\", \"testing heuristic evaluation\", \"interview shadowing\", \"usability study survey\", \"unmoderated task\", \"unmoderated usability\", \"testing quantitative survey\", \"behavioral\", \"user experience\", \"international\", \"market research analytics\", \"discussion\", \"applied\", \"testing log analysis\", \"testing log\", \"research evaluation\", \"formative\", \"inquiry usability testing\", \"quantitative survey\", \"website\", \"usability interview\", \"evaluation\", \"experience\", \"unmoderated\", \"quantitative\", \"data\", \"qualitative\", \"study\", \"analysis\", \"heuristic\", \"analytics\", \"remote\", \"use\", \"qual\", \"product\", \"moderated\", \"user\", \"usability testing\", \"usability study\", \"qualitative quantitative\", \"user research\", \"quant\", \"research interview survey\", \"analytics usability\", \"analytics usability testing\", \"study contextual\", \"interview secondary\", \"ethnographic research interview\", \"study observation\", \"group user interview\", \"group user\", \"focus group user\", \"qualitative generative evaluative\", \"study contextual interview\", \"study dscout\", \"organisation\", \"type qualitative\", \"fly\", \"wall\", \"fly wall\", \"diary study observation\", \"testing secondary\", \"testing secondary research\", \"interview codesign\", \"usage analytics usability\", \"diary study contextual\", \"interview survey diary\", \"interview secondary research\", \"affinity\", \"affinity mapping\", \"research remote\", \"ux research qualitative\", \"user interview survey\", \"usability testing remote\", \"customer interview\", \"various\", \"usability testing interview\", \"testing remote\", \"testing interview\", \"ux research\", \"moderated usability testing\", \"research interview\", \"interview survey\", \"home\", \"qualitative generative\", \"lab\", \"moderated usability\", \"ux\", \"usability testing\", \"evaluation\", \"remote\", \"analytics\", \"secondary\", \"study\", \"customer\", \"moderated\", \"evaluative\", \"contextual\", \"secondary research\", \"type\", \"survey usability testing\", \"analysis\", \"testing moderated\", \"qualitative\", \"concept\", \"diary study\", \"contextual inquiry\", \"indepth interview\", \"make decision\", \"research indepth\", \"research indepth interview\", \"typically\", \"indepth\", \"ux test\", \"science\", \"interview survey usability\", \"data science\", \"make\", \"technology\", \"doing exploratory\", \"currently using\", \"pattern\", \"help make\", \"help make decision\", \"ethnographic research indepth\", \"indepth interview cocreation\", \"lean ux\", \"prototype interview\", \"program survey\", \"early\", \"experimental\", \"qualitative research indepth\", \"data analysis data\", \"interview small\", \"qualitative usability study\", \"qualitative desk\", \"usability survey\", \"research research\", \"decision\", \"survey usability test\", \"help\", \"observing\", \"ux\", \"lean\", \"currently\", \"ethnographic\", \"test\", \"site visit\", \"focus\", \"usability test\", \"ethnographic research\", \"design\", \"data\", \"focus group\", \"group\", \"qualitative usability\", \"observation\", \"interview survey\", \"ethnography\", \"remote\", \"qualitative\", \"exploratory\", \"prototype\", \"concept validation\", \"validation usability\", \"validation usability testing\", \"concept validation usability\", \"expert review\", \"research participant\", \"exercise\", \"research participant observation\", \"level\", \"enquiry usability testing\", \"enquiry usability\", \"contextual enquiry usability\", \"survey participatory design\", \"survey participatory\", \"knowledge\", \"interview concept validation\", \"testing content\", \"design exercise\", \"map journey\", \"study unmoderated\", \"manager\", \"user interview remote\", \"design product\", \"behavioral attitudinal\", \"study survey focus\", \"usability card\", \"variety\", \"expert\", \"validation\", \"participant observation\", \"map\", \"participatory\", \"survey focus group\", \"survey focus\", \"feedback\", \"participant\", \"journey map\", \"poll\", \"participatory design\", \"client\", \"product\", \"desk research\", \"journey\", \"concept\", \"design\", \"customer\", \"review\", \"desk\", \"interview remote\", \"usability testing\", \"analytics\", \"user\", \"user interview\", \"observation\", \"card\", \"card sorting\", \"test\"], \"Total\": [143.0, 74.0, 35.0, 28.0, 44.0, 45.0, 84.0, 35.0, 40.0, 142.0, 38.0, 26.0, 36.0, 35.0, 16.0, 19.0, 33.0, 13.0, 41.0, 113.0, 49.0, 21.0, 147.0, 19.0, 44.0, 34.0, 61.0, 37.0, 26.0, 26.0, 11.590549164343555, 10.695946683527572, 15.127285381747893, 6.2229434887431845, 6.222933999836452, 6.221678676671336, 5.328341093620635, 5.3283340916619775, 5.3283365552873265, 4.43373993857007, 4.433736044047836, 4.433739155092772, 3.539140455524302, 3.5391402921255026, 3.5391382489205556, 3.5391388597856768, 3.539138153015923, 3.5391354878104484, 3.5391360925194175, 3.539129794807205, 3.5391305307097776, 3.539126546432503, 3.539117025275203, 3.5391059477376134, 3.539026746704317, 7.062255579151009, 9.656162501063484, 7.045789943434231, 7.045789937679188, 6.150351323156692, 24.851587056031, 11.450587878470582, 47.97422484124358, 13.214903747645739, 6.185471731269698, 43.499478395919006, 26.111188787220186, 37.914467790653354, 142.05675613528535, 6.209123620137436, 8.022201392029363, 8.02292294168326, 113.56532288196769, 52.5721528851741, 59.632205540191784, 38.84327593954591, 78.32663947163898, 147.69752673761397, 31.03767882765536, 10.544163857008032, 33.402011137364134, 49.16637503082237, 49.141203360671156, 52.34182512143607, 143.42000588458774, 44.81185412460753, 61.87558537347623, 76.67044437885528, 84.89321227780778, 33.22481956729198, 21.658639786168955, 54.47998516983085, 28.5020565327438, 59.69823934259641, 14.349944223021739, 14.349944223021739, 9.847893026296699, 9.847892552723303, 7.152821261119468, 6.2531801046726, 5.35354076318386, 5.353538255946361, 5.353539670788609, 5.353478002976725, 12.529954007227408, 44.60682602812384, 4.453892190773829, 4.453892190773829, 11.626006171487285, 45.491072275278405, 3.554258492989652, 3.554258492989652, 3.5542584913194792, 3.554258489340143, 3.5542584886950848, 3.554247988415809, 3.5542434667871414, 3.5542434667871414, 3.5542434667871414, 3.554225956372887, 3.554223301784727, 3.554230185430562, 3.554235649074497, 3.552136977783008, 33.632262297161546, 6.248137223233133, 18.681235051956747, 24.951822899593772, 44.81185412460753, 76.67044437885528, 49.141203360671156, 49.16637503082237, 8.023293629228993, 25.580448109279423, 25.58044808457543, 7.943207799628913, 113.56532288196769, 12.093629411608177, 19.441068813893736, 147.69752673761397, 27.267230301620668, 30.68758879594489, 61.87558537347623, 52.5721528851741, 78.32663947163898, 47.084471306986565, 27.23493589248583, 84.89321227780778, 143.42000588458774, 47.97422484124358, 54.47998516983085, 43.499478395919006, 142.05675613528535, 19.390231119170124, 10.564089734668691, 9.681473346785545, 9.681473346785545, 7.916234563623629, 7.033636599717952, 35.960423441553324, 6.151019983963793, 11.37509113274356, 10.574073359110878, 5.268407219980591, 5.268407219980591, 5.268406078528574, 5.268405085861567, 5.268358156472141, 5.268421321825428, 8.807216808599795, 10.581689143211555, 4.385792956568909, 4.385783138176567, 4.38578417389242, 4.3857841738924215, 4.38578965239446, 4.3857960733727746, 4.386007591035993, 3.503177661875026, 3.5031742694873276, 3.5031795224497, 3.503176794577844, 3.5031786770290863, 21.042687236285893, 36.284048337934216, 25.463856032374085, 35.40216546398486, 84.89321227780778, 22.81899950997913, 37.55127959487157, 41.570934473145236, 61.87558537347623, 47.861904028914175, 147.69752673761397, 21.673176764902554, 41.59879337774021, 52.34182512143607, 22.480872254924268, 27.23493589248583, 59.69823934259641, 19.441068813893736, 76.67044437885528, 142.05675613528535, 37.914467790653354, 33.22481956729198, 10.927052360040769, 9.24842856989766, 19.407809269308668, 5.051883720648622, 4.212575238172103, 4.2125812576665895, 7.587640095532135, 3.373266923889992, 3.3732653615742354, 3.373265053016733, 3.373267123486681, 3.3732713344329714, 3.3732924703623413, 3.3732816447353176, 3.373302117812104, 5.040313993933956, 26.15569812075295, 5.949548516731867, 2.533953672890457, 2.53395367291005, 2.53395367291005, 2.5339536729880807, 2.5339536729880807, 2.533953673030089, 2.53395367307985, 2.53395367307985, 2.533954245065595, 2.5339530289062133, 2.533955342051218, 2.533955447531673, 21.848821954407168, 6.757489872976894, 40.68744926860538, 8.395544228761374, 17.89686836343008, 12.590221026841656, 74.83213318600613, 38.97873709187077, 143.42000588458774, 7.597304110590695, 5.072489939390471, 15.386303316462548, 34.233615654280825, 26.111188787220186, 142.05675613528535, 21.658639786168955, 19.04497699786068, 13.474883529554525, 52.34182512143607, 28.5020565327438, 41.570934473145236, 47.861904028914175, 13.885551992003377, 47.084471306986565, 17.080463613029853, 15.72112646448587, 54.47998516983085, 15.341913973917693, 76.67044437885528, 8.569618700866775, 7.712476908071984, 28.323926337253965, 35.123839279255755, 4.283908429255745, 4.283910123480476, 4.283899524679636, 4.283913107803433, 8.594705433807162, 3.426764609837554, 3.4267621757233244, 3.4267621757233244, 3.426764356180534, 3.426762884244549, 3.426762884244549, 3.426769759674772, 3.4267736736438583, 3.4267729159183937, 6.809755720187294, 3.4290644267970065, 9.431078208413583, 6.890484723066554, 2.5696206907007557, 2.5696206904744336, 2.569620690342192, 2.569620684752344, 2.5696214219471774, 2.5696214219471774, 2.5696203101377892, 2.569621196860136, 5.119823177564715, 12.850312520235018, 5.166530941168126, 5.183535774345203, 21.25561089408944, 11.977174225085815, 31.03767882765536, 74.83213318600613, 59.69823934259641, 143.42000588458774, 113.56532288196769, 54.47998516983085, 19.905530936674364, 78.32663947163898, 59.632205540191784, 16.675852971335864, 41.570934473145236, 33.402011137364134, 38.84327593954591, 142.05675613528535, 147.69752673761397, 27.267230301620668, 26.15569812075295, 34.233615654280825, 47.861904028914175, 4.198608022482313, 3.3627887243857435, 3.3627887243857435, 3.3627889113710507, 3.3627871013817807, 3.3627883051724674, 3.3627933908304954, 3.362803532042547, 3.362803532042547, 3.362803532042547, 3.36278436298001, 2.5269689354574902, 2.5269694895399275, 2.526969239560082, 2.5269701183794693, 2.5269701890333343, 2.5269701890333343, 2.5269701890333343, 2.526970268855367, 2.526970365929773, 2.526970365929773, 2.5269714413070012, 2.5269733889885373, 2.5269736902714626, 2.5269737388175035, 2.5269695310825866, 2.52697612099281, 2.52697612099281, 2.5269735058245173, 2.526973800544629, 5.010176205813983, 6.770583278600743, 6.751041029280595, 9.344610475282664, 10.304607283369176, 7.6701390522267, 11.204232121669232, 12.576330989357931, 6.759619077922995, 12.934117947812899, 33.452169520303976, 4.262428365135756, 4.262382912909448, 12.766717666379668, 7.657024973141621, 26.937213605397247, 147.69752673761397, 21.25561089408944, 59.632205540191784, 78.32663947163898, 21.848821954407168, 113.56532288196769, 27.304901553770215, 38.84327593954591, 38.97873709187077, 76.67044437885528, 12.590221026841656, 22.480872254924268, 10.479620839072734, 54.47998516983085, 7.717810759128348, 143.42000588458774, 41.59879337774021, 43.499478395919006, 44.60682602812384, 13.029873911659768, 6.53618619769079, 6.536190721240556, 5.724639053856891, 4.1015401498195345, 16.3615085791562, 3.2899877140126166, 6.588373570333153, 5.807673684001514, 5.774208130157012, 8.271611116678635, 2.4784348049380087, 2.478434804998451, 2.478434805142629, 2.4784348057169394, 2.4784356246015102, 2.4784356246015102, 2.4784351902508717, 2.4784351902508717, 2.4784354383506626, 2.4784355347839506, 2.478438663737885, 2.478438663737885, 2.4784394095788223, 2.4784397977462205, 2.478441695820274, 2.4784422551719736, 2.4784485642704226, 2.478445019977272, 2.4784958333308023, 5.00228714734272, 14.890711396685798, 5.012051948601193, 6.647423543195492, 4.147124221722344, 26.937213605397247, 4.205205746894998, 5.079149762658726, 33.47918020287541, 84.89321227780778, 5.033739368152381, 49.141203360671156, 37.55127959487157, 14.459580996690425, 47.084471306986565, 59.69823934259641, 44.81185412460753, 49.16637503082237, 5.930995346734973, 52.5721528851741, 33.452169520303976, 33.22481956729198, 59.632205540191784, 143.42000588458774, 16.2874042164144, 21.673176764902554, 5.787355757868044, 5.787355580250458, 5.787355580250458, 4.965352860341749, 4.143355005183301, 3.3213432172364428, 3.3213631017558396, 2.4993404489664726, 2.4993409110920726, 2.499342860384025, 2.499342860384025, 2.499342860384025, 2.4993446181627466, 2.4993446181627466, 2.4993467899579267, 2.4993420386539196, 2.4993474314302038, 2.4993456101118605, 2.4993387711711357, 2.4993502671499983, 2.499354783925044, 2.4993556177002674, 2.4993506642941545, 2.4993521735741617, 2.4993697754661395, 2.499383548278676, 4.226203941609473, 5.880576322642488, 14.23891902551525, 3.3108906849424216, 10.16487311257955, 13.541456441080607, 12.093629411463965, 12.093629411608177, 13.574225820867195, 7.4138085272788565, 5.120615877472975, 5.8854918818083455, 10.275203521084627, 9.2470521916974, 33.402011137364134, 15.341913973917693, 14.660134535247451, 41.59879337774021, 47.084471306986565, 27.304901553770215, 19.135336347211684, 17.080463613029853, 5.8501272361721695, 147.69752673761397, 78.32663947163898, 142.05675613528535, 37.914467790653354, 52.5721528851741, 61.87558537347623, 25.58044808457543, 84.89321227780778], \"loglift\": [30.0, 29.0, 28.0, 27.0, 26.0, 25.0, 24.0, 23.0, 22.0, 21.0, 20.0, 19.0, 18.0, 17.0, 16.0, 15.0, 14.0, 13.0, 12.0, 11.0, 10.0, 9.0, 8.0, 7.0, 6.0, 5.0, 4.0, 3.0, 2.0, 1.0, 1.5642, 1.5584, 1.5115, 1.5032, 1.5032, 1.4997, 1.4802, 1.4802, 1.4802, 1.4469, 1.4469, 1.4469, 1.3947, 1.3947, 1.3947, 1.3947, 1.3946, 1.3946, 1.3946, 1.3946, 1.3946, 1.3946, 1.3946, 1.3945, 1.3941, 1.3767, 1.3464, 1.3423, 1.3423, 1.3367, 1.2591, 1.2912, 1.117, 1.2424, 1.331, 1.0801, 1.0715, 0.9906, 0.7395, 1.2974, 1.2492, 1.2256, 0.6024, 0.6377, 0.5829, 0.6731, 0.3147, 0.0028, 0.6317, 1.1025, 0.5009, 0.2811, 0.2702, 0.2302, -0.4634, 0.2123, -0.1387, -0.3441, -0.4338, 0.2394, 0.5601, -0.178, 0.3388, -0.3821, 1.6885, 1.6885, 1.6546, 1.6546, 1.632, 1.6152, 1.5923, 1.5923, 1.5922, 1.5921, 1.585, 1.5701, 1.5591, 1.5591, 1.5487, 1.5453, 1.5072, 1.5072, 1.5072, 1.5072, 1.5072, 1.5071, 1.5071, 1.5071, 1.5071, 1.507, 1.507, 1.507, 1.507, 1.4917, 1.3196, 1.4377, 1.2918, 1.2122, 1.104, 0.9998, 1.0455, 1.0088, 1.3384, 0.9846, 0.9846, 1.278, 0.489, 1.1194, 0.9512, 0.2036, 0.8108, 0.7527, 0.4486, 0.4845, 0.1059, 0.3891, 0.6801, -0.0425, -0.5091, 0.2128, 0.1048, 0.2783, -0.7839, 1.7472, 1.7133, 1.7063, 1.7063, 1.6875, 1.6744, 1.6594, 1.6573, 1.6386, 1.6344, 1.6339, 1.6339, 1.6339, 1.6339, 1.6336, 1.6335, 1.6173, 1.6138, 1.6002, 1.6002, 1.6002, 1.6002, 1.6002, 1.5997, 1.5957, 1.5473, 1.5473, 1.5473, 1.5473, 1.5472, 1.5434, 1.5281, 1.5297, 1.5191, 1.1513, 1.2808, 1.1197, 1.0907, 0.9925, 0.9915, 0.5224, 1.0836, 0.8389, 0.5916, 0.9311, 0.8325, 0.4127, 0.9248, 0.0255, -0.4058, 0.371, 0.3418, 2.0548, 2.0413, 2.0061, 1.9651, 1.9298, 1.9295, 1.8879, 1.8743, 1.8743, 1.8743, 1.8743, 1.8742, 1.8741, 1.874, 1.874, 1.8671, 1.8367, 1.7907, 1.7748, 1.7748, 1.7748, 1.7748, 1.7748, 1.7748, 1.7748, 1.7748, 1.7748, 1.7748, 1.7748, 1.7748, 1.7687, 1.7649, 1.7238, 1.7527, 1.6977, 1.6901, 1.5769, 1.6132, 1.4818, 1.6861, 1.7056, 1.5911, 1.4926, 1.219, 0.6469, 1.2505, 1.2732, 1.3805, 0.8649, 1.0546, 0.7325, 0.5462, 1.2405, 0.4673, 1.0602, 1.0963, -0.1312, 1.0101, -0.5562, 2.0813, 2.0706, 2.0613, 2.0592, 1.9807, 1.9806, 1.9806, 1.9805, 1.9623, 1.9263, 1.9263, 1.9263, 1.9263, 1.9263, 1.9263, 1.9263, 1.9262, 1.9262, 1.9125, 1.9058, 1.8531, 1.8366, 1.8285, 1.8285, 1.8285, 1.8285, 1.8285, 1.8285, 1.8285, 1.8285, 1.8022, 1.7428, 1.7933, 1.79, 1.5007, 1.4709, 1.2058, 0.9668, 1.0118, 0.3159, 0.3741, 0.6839, 1.0878, 0.4162, 0.4703, 1.1001, 0.6143, 0.7299, 0.6306, -0.1523, -0.3615, 0.6993, 0.688, 0.4555, 0.191, 2.2341, 2.1785, 2.1785, 2.1785, 2.1785, 2.1785, 2.1785, 2.1784, 2.1784, 2.1784, 2.1784, 2.0786, 2.0786, 2.0786, 2.0786, 2.0786, 2.0786, 2.0786, 2.0786, 2.0786, 2.0786, 2.0786, 2.0786, 2.0786, 2.0786, 2.0786, 2.0785, 2.0785, 2.0785, 2.0785, 2.0574, 2.039, 1.9762, 1.9295, 1.8829, 1.9239, 1.7992, 1.7621, 1.8698, 1.7075, 1.4859, 1.9414, 1.9414, 1.619, 1.737, 1.2757, 0.4501, 1.2008, 0.7489, 0.3245, 1.0383, 0.0858, 0.9096, 0.6683, 0.631, 0.1137, 1.2338, 0.7691, 1.3195, 0.0641, 1.5488, -0.8579, 0.0287, -0.0274, -0.0711, 2.589, 2.5271, 2.5271, 2.5084, 2.4465, 2.392, 2.3894, 2.344, 2.3158, 2.3044, 2.2917, 2.287, 2.287, 2.287, 2.287, 2.287, 2.287, 2.287, 2.287, 2.287, 2.287, 2.287, 2.287, 2.287, 2.287, 2.2869, 2.2869, 2.2869, 2.2868, 2.2866, 2.2449, 2.0998, 2.2157, 2.1715, 2.1579, 1.3772, 2.0857, 1.9552, 1.0035, 0.4325, 1.9113, 0.6765, 0.7931, 1.3042, 0.6132, 0.4772, 0.6397, 0.5115, 1.7595, 0.3971, 0.6478, 0.6446, 0.2258, -0.5302, 1.0678, 0.7706, 2.5261, 2.5261, 2.5261, 2.501, 2.4649, 2.4085, 2.4083, 2.3071, 2.3071, 2.3071, 2.3071, 2.3071, 2.3071, 2.3071, 2.3071, 2.3071, 2.3071, 2.3071, 2.3071, 2.3071, 2.307, 2.307, 2.307, 2.307, 2.3069, 2.3068, 2.1212, 2.0591, 2.0583, 2.026, 1.9629, 1.7502, 1.7658, 1.7658, 1.6716, 1.8831, 1.9756, 1.9005, 1.6267, 1.6622, 0.9978, 1.373, 1.3927, 0.8397, 0.7523, 1.0255, 1.2041, 1.2657, 1.8424, -0.103, 0.2384, -0.2077, 0.5206, 0.1704, -0.1095, 0.5735, -0.551], \"logprob\": [30.0, 29.0, 28.0, 27.0, 26.0, 25.0, 24.0, 23.0, 22.0, 21.0, 20.0, 19.0, 18.0, 17.0, 16.0, 15.0, 14.0, 13.0, 12.0, 11.0, 10.0, 9.0, 8.0, 7.0, 6.0, 5.0, 4.0, 3.0, 2.0, 1.0, -4.9444, -5.0305, -4.7308, -5.6273, -5.6274, -5.6311, -5.8056, -5.8056, -5.8056, -6.0227, -6.0227, -6.0227, -6.3003, -6.3003, -6.3003, -6.3003, -6.3003, -6.3003, -6.3003, -6.3003, -6.3003, -6.3003, -6.3004, -6.3004, -6.3008, -5.6273, -5.3448, -5.6641, -5.6641, -5.8056, -4.4868, -5.2295, -3.9711, -5.1351, -5.8056, -4.106, -4.6249, -4.3329, -3.2631, -5.8354, -5.6274, -5.6509, -3.624, -4.3589, -4.2877, -4.6262, -4.2832, -3.9609, -4.8919, -5.5007, -4.9493, -4.7825, -4.7939, -4.7708, -4.4565, -4.944, -4.9723, -4.9633, -4.9512, -5.2161, -5.3233, -5.139, -5.27, -5.2516, -4.6066, -4.6066, -5.0169, -5.0169, -5.3593, -5.5105, -5.6888, -5.6888, -5.6888, -5.689, -4.8456, -3.5909, -5.9059, -5.9059, -4.9568, -3.596, -6.1835, -6.1835, -6.1835, -6.1835, -6.1835, -6.1835, -6.1835, -6.1835, -6.1835, -6.1836, -6.1836, -6.1837, -6.1837, -6.1996, -4.1237, -5.6888, -4.7395, -4.5296, -4.0523, -3.6195, -4.0185, -4.0548, -5.538, -4.7323, -4.7323, -5.6084, -3.7375, -5.3467, -5.0402, -3.76, -4.8423, -4.7823, -4.3851, -4.5121, -4.4921, -4.7177, -4.9742, -4.5599, -4.5021, -4.8753, -4.8561, -4.9077, -4.7864, -4.2468, -4.8881, -4.9823, -4.9823, -5.2024, -5.3337, -3.717, -5.4849, -4.8888, -4.966, -5.6631, -5.6631, -5.6632, -5.6632, -5.6634, -5.6636, -5.1659, -4.9858, -5.8802, -5.8802, -5.8802, -5.8802, -5.8803, -5.8807, -5.8847, -6.1578, -6.1579, -6.1579, -6.1579, -6.1579, -4.3689, -3.8393, -4.1918, -3.873, -3.3661, -4.5504, -4.2134, -4.1407, -3.8412, -4.099, -3.4412, -4.7991, -4.3918, -4.4094, -4.915, -4.8218, -4.4568, -5.0666, -4.5938, -4.4083, -4.9525, -5.1137, -4.5128, -4.693, -3.987, -5.3739, -5.591, -5.5912, -5.0444, -5.8686, -5.8686, -5.8686, -5.8686, -5.8687, -5.8688, -5.8689, -5.8689, -5.4742, -3.858, -5.3848, -6.2542, -6.2542, -6.2542, -6.2542, -6.2542, -6.2542, -6.2542, -6.2542, -6.2543, -6.2543, -6.2543, -6.2543, -4.106, -5.2832, -3.529, -5.0784, -4.3765, -4.7358, -3.0666, -3.6826, -2.5112, -5.2449, -5.6294, -4.6342, -3.933, -4.4775, -3.3556, -4.6329, -4.7388, -4.9775, -4.1361, -4.5542, -4.4989, -4.5443, -5.0874, -4.6396, -5.0607, -5.1075, -5.0922, -5.2181, -5.1755, -4.7293, -4.8454, -3.5537, -3.3407, -5.5233, -5.5233, -5.5233, -5.5235, -4.8453, -5.8009, -5.8009, -5.8009, -5.8009, -5.8009, -5.8009, -5.8009, -5.8009, -5.801, -5.1279, -5.8208, -4.8616, -5.192, -6.1865, -6.1865, -6.1865, -6.1865, -6.1865, -6.1865, -6.1865, -6.1865, -5.5235, -4.6627, -5.5233, -5.5233, -4.4015, -5.0049, -4.3178, -3.6767, -3.8576, -3.6772, -3.8523, -4.2771, -4.88, -4.1817, -4.4003, -5.0448, -4.6171, -4.7203, -4.6687, -4.1549, -4.3251, -4.9538, -5.0067, -4.9701, -4.8995, -5.2899, -5.5675, -5.5675, -5.5675, -5.5675, -5.5675, -5.5676, -5.5676, -5.5676, -5.5676, -5.5677, -5.9532, -5.9532, -5.9532, -5.9532, -5.9532, -5.9532, -5.9532, -5.9532, -5.9532, -5.9532, -5.9532, -5.9532, -5.9532, -5.9532, -5.9532, -5.9532, -5.9532, -5.9532, -5.9533, -5.29, -5.0072, -5.0729, -4.7945, -4.7433, -4.9975, -4.7433, -4.6649, -5.178, -4.6914, -3.9628, -5.5676, -5.5676, -4.7929, -5.1862, -4.3896, -3.5135, -4.7014, -4.1217, -4.2734, -4.8364, -4.1406, -4.7422, -4.6309, -4.6648, -4.5056, -5.192, -5.0771, -5.2898, -4.8968, -5.3665, -4.8509, -5.2021, -5.2135, -5.232, -3.8026, -4.5544, -4.5544, -4.7056, -5.1009, -3.7719, -5.3785, -4.7295, -4.8838, -4.901, -4.5543, -5.7642, -5.7642, -5.7642, -5.7642, -5.7642, -5.7642, -5.7642, -5.7642, -5.7642, -5.7642, -5.7642, -5.7642, -5.7642, -5.7642, -5.7642, -5.7642, -5.7643, -5.7644, -5.7645, -5.104, -4.1583, -5.1313, -4.8931, -5.3785, -4.2881, -5.4368, -5.3784, -4.4443, -4.0849, -5.4313, -4.3876, -4.54, -4.9833, -4.4937, -4.3923, -4.5166, -4.5521, -5.4191, -4.5995, -4.8008, -4.8109, -4.6448, -4.5233, -5.1006, -5.1121, -4.677, -4.677, -4.677, -4.8553, -5.0724, -5.35, -5.3501, -5.7356, -5.7356, -5.7356, -5.7356, -5.7356, -5.7357, -5.7357, -5.7357, -5.7357, -5.7357, -5.7357, -5.7357, -5.7357, -5.7357, -5.7357, -5.7358, -5.7358, -5.7358, -5.736, -5.3962, -5.1281, -4.2446, -5.7356, -4.6769, -4.6028, -4.7003, -4.7003, -4.6791, -5.0723, -5.35, -5.2858, -5.0024, -5.0723, -4.4524, -4.8552, -4.881, -4.391, -4.3545, -4.6262, -4.8032, -4.8552, -5.35, -4.0666, -4.3595, -4.2103, -4.8028, -4.8262, -4.9432, -5.1435, -5.0684]}, \"token.table\": {\"Topic\": [1, 3, 6, 1, 3, 5, 1, 5, 6, 6, 1, 2, 3, 4, 5, 6, 7, 8, 1, 2, 3, 4, 5, 6, 8, 6, 6, 5, 1, 5, 8, 8, 1, 4, 1, 2, 3, 5, 8, 1, 2, 3, 3, 3, 1, 2, 3, 5, 8, 3, 3, 1, 5, 7, 8, 3, 1, 2, 3, 4, 5, 6, 7, 8, 1, 2, 3, 6, 8, 3, 8, 8, 1, 1, 2, 3, 4, 6, 7, 8, 8, 2, 3, 6, 2, 2, 3, 1, 1, 7, 7, 1, 2, 3, 4, 5, 6, 8, 4, 1, 6, 8, 1, 2, 3, 4, 5, 6, 7, 8, 7, 5, 7, 3, 4, 5, 6, 7, 1, 2, 3, 4, 5, 6, 7, 8, 8, 8, 4, 5, 2, 3, 4, 6, 8, 2, 3, 4, 6, 8, 1, 2, 3, 5, 6, 1, 2, 3, 5, 6, 1, 6, 6, 1, 2, 4, 6, 5, 7, 7, 8, 8, 2, 1, 2, 3, 4, 5, 6, 7, 1, 3, 4, 6, 7, 8, 7, 6, 1, 2, 3, 5, 6, 7, 1, 3, 5, 6, 8, 1, 3, 4, 6, 8, 4, 8, 3, 4, 5, 8, 7, 4, 3, 6, 8, 8, 1, 2, 3, 4, 5, 7, 4, 1, 4, 2, 4, 5, 6, 7, 8, 1, 2, 3, 4, 5, 6, 7, 8, 5, 6, 6, 1, 2, 6, 7, 8, 1, 2, 6, 7, 8, 6, 4, 1, 2, 5, 2, 1, 2, 3, 4, 6, 7, 8, 1, 4, 4, 1, 5, 1, 2, 4, 5, 6, 7, 8, 6, 6, 1, 6, 7, 7, 7, 1, 2, 3, 5, 6, 7, 3, 5, 2, 6, 4, 6, 7, 7, 7, 2, 4, 2, 3, 6, 2, 2, 5, 6, 5, 2, 3, 2, 6, 8, 1, 2, 3, 8, 2, 3, 1, 1, 2, 2, 2, 2, 1, 2, 3, 7, 8, 1, 5, 6, 8, 6, 6, 5, 7, 2, 3, 6, 7, 3, 6, 1, 7, 2, 3, 7, 8, 3, 7, 3, 1, 3, 4, 8, 1, 4, 2, 3, 5, 8, 2, 8, 8, 1, 4, 6, 7, 8, 2, 7, 7, 8, 2, 6, 7, 7, 8, 2, 4, 8, 8, 1, 5, 6, 7, 1, 5, 6, 5, 1, 2, 3, 4, 5, 6, 5, 5, 1, 3, 4, 5, 1, 3, 4, 5, 4, 4, 5, 1, 3, 4, 5, 6, 7, 8, 1, 1, 5, 6, 5, 6, 1, 2, 3, 5, 6, 7, 8, 2, 5, 7, 1, 2, 4, 6, 1, 6, 7, 8, 7, 8, 2, 3, 5, 6, 7, 8, 2, 3, 5, 6, 8, 7, 5, 8, 1, 2, 4, 6, 7, 4, 4, 4, 4, 1, 3, 4, 5, 7, 8, 1, 7, 1, 2, 3, 4, 6, 7, 7, 1, 3, 4, 5, 3, 5, 4, 1, 2, 3, 4, 5, 6, 7, 7, 2, 6, 6, 4, 4, 4, 5, 2, 1, 2, 4, 5, 6, 7, 7, 1, 2, 6, 7, 7, 4, 5, 4, 5, 1, 2, 3, 4, 5, 6, 4, 5, 2, 3, 4, 5, 3, 4, 2, 4, 5, 1, 2, 3, 4, 5, 6, 7, 8, 1, 2, 3, 5, 5, 7, 7, 1, 2, 3, 6, 6, 5, 5, 1, 2, 3, 8, 8, 4, 6, 2, 7, 4, 4, 4, 6, 1, 3, 4, 1, 1, 4, 1, 2, 7, 8, 5, 7, 2, 4, 6, 4, 6, 1, 6, 7, 1, 2, 3, 3, 3, 3, 1, 2, 3, 5, 8, 1, 2, 3, 5, 6, 7, 8, 1, 1, 6, 6, 2, 2, 6, 6, 8, 8, 1, 2, 2, 3, 1, 6, 1, 6, 2, 8, 2, 8, 1, 2, 3, 8, 2, 2, 3, 8, 8, 5, 2, 7, 1, 2, 6, 3, 2, 5, 2, 1, 2, 3, 4, 8, 7, 1, 2, 3, 5, 7, 8, 3, 3, 2, 2, 3, 2, 3, 1, 1, 8, 1, 8, 1, 8, 5, 5, 2, 6, 2, 5, 5, 3, 5, 6, 5, 5, 1, 3, 6, 6, 6, 1, 2, 3, 4, 6, 8, 2, 1, 3, 1, 3, 1, 1, 4, 1, 3, 5, 8, 3, 3, 3, 1, 1, 2, 3, 5, 6, 8, 6, 7, 1, 5, 6, 7, 8, 5, 5, 7, 5, 1, 8, 2, 5, 1, 2, 3, 5, 6, 7, 5, 7, 1, 2, 3, 7, 8, 2, 2, 3, 1, 2, 3, 4, 5, 6, 7, 8, 2, 6, 1, 4, 6, 2, 3, 6, 8, 1, 6, 1, 2, 3, 5, 1, 1, 2, 3, 4, 5, 6, 8, 3, 5, 1, 2, 3, 8, 8, 6, 7, 3, 1, 2, 4, 5, 8, 4, 4, 1, 4, 1, 2, 3, 4, 5, 6, 7, 3, 5, 6, 7, 6, 7, 3, 4, 6, 7, 8, 8, 8, 1, 8, 1, 2, 6, 8, 6, 3, 5, 1, 3, 1, 2, 3, 6, 7, 8], \"Freq\": [0.5690351630880797, 0.18967838769602655, 0.18967838769602655, 0.6840609399178966, 0.201194394093499, 0.0804777576373996, 0.8593742811043541, 0.06610571393110416, 0.7914597939351444, 0.7914597939351444, 0.16519828285459762, 0.20190901237784153, 0.11013218856973175, 0.11013218856973175, 0.2202643771394635, 0.0917768238081098, 0.05506609428486588, 0.05506609428486588, 0.2681080171657794, 0.1915057265469853, 0.10213638749172549, 0.051068193745862744, 0.1787386781105196, 0.12767048436465686, 0.0893693390552598, 0.8921167060675179, 0.8921167060675179, 0.7783249924269491, 0.10603241515990054, 0.7422269061193038, 0.10603241515990054, 0.800207358189114, 0.8476644925695354, 0.7121524349329095, 0.1777760959125454, 0.2747448755012065, 0.45252097141375186, 0.03232292652955371, 0.06464585305910742, 0.08474057902056709, 0.11298743869408945, 0.7626652111851038, 0.9120375835662626, 0.9296105745091156, 0.19546178329123617, 0.4691082798989668, 0.1172770699747417, 0.07818471331649447, 0.1172770699747417, 0.9490509005584953, 0.911991125636694, 0.21628514239334878, 0.10814257119667439, 0.21628514239334878, 0.3244277135900232, 0.9120377989466756, 0.144234952815017, 0.12019579401251415, 0.38462654084004533, 0.024039158802502833, 0.048078317605005666, 0.09615663521001133, 0.048078317605005666, 0.16827411161751982, 0.17529252315601013, 0.04382313078900253, 0.6135238310460354, 0.08764626157800506, 0.04382313078900253, 0.9120364442959924, 0.863952417855492, 0.8055822239639768, 0.8476639760865533, 0.14347119139736797, 0.4825849165184195, 0.16955686256052577, 0.06521417790789452, 0.10434268465263125, 0.013042835581578906, 0.02608567116315781, 0.8002103399662018, 0.8518875558651415, 0.06725428072619538, 0.08967237430159385, 0.8980908896461256, 0.9139011165907949, 0.9490538253062837, 0.8476667789751822, 0.3937666919577269, 0.5906500379365903, 0.8069609076866171, 0.0732469222077764, 0.10987038331166461, 0.18311730551944103, 0.1464938444155528, 0.0732469222077764, 0.21974076662332923, 0.18311730551944103, 0.789280613012509, 0.1481253032921594, 0.5925012131686376, 0.1481253032921594, 0.13400730219344625, 0.1005054766450847, 0.2512636916127117, 0.03350182554836156, 0.3182673427094349, 0.03350182554836156, 0.11725638941926549, 0.01675091277418078, 0.8069586641367703, 0.1731839201945788, 0.6927356807783152, 0.06715595872891394, 0.20146787618674183, 0.1343119174578279, 0.06715595872891394, 0.6044036285602254, 0.10619212367067785, 0.2548610968096268, 0.02123842473413557, 0.19114582260722013, 0.08495369893654228, 0.04247684946827114, 0.1274305484048134, 0.148668973138949, 0.8002094595915001, 0.8002078414094098, 0.6581281895810864, 0.2632512758324346, 0.29273210102949104, 0.0585464202058982, 0.3512785212353892, 0.0585464202058982, 0.2341856808235928, 0.2607236624322281, 0.06518091560805703, 0.32590457804028516, 0.06518091560805703, 0.2607236624322281, 0.6044912678832617, 0.2084452647873316, 0.06253357943619949, 0.02084452647873316, 0.08337810591493264, 0.5747195350817225, 0.22988781403268896, 0.06896634420980668, 0.045977562806537794, 0.09195512561307559, 0.8476690594221645, 0.7914605552482614, 0.7914616268540164, 0.2625364157993811, 0.21002913263950487, 0.42005826527900975, 0.05250728315987622, 0.7783249907338128, 0.8069609077335604, 0.8069596513571483, 0.8002103399662018, 0.8002103399662018, 0.8440579123724409, 0.20908516748563616, 0.11947723856322066, 0.11947723856322066, 0.14934654820402582, 0.11947723856322066, 0.0896079289224155, 0.179215857844831, 0.27663318881200905, 0.13831659440600452, 0.13831659440600452, 0.20747489160900676, 0.27663318881200905, 0.06915829720300226, 0.8069607822981065, 0.8921168172809316, 0.2407838508738077, 0.27088183223303364, 0.2407838508738077, 0.03009798135922596, 0.09029394407767788, 0.12039192543690384, 0.8476646374044317, 0.09409280260000155, 0.5175104143000085, 0.2822784078000046, 0.09409280260000155, 0.10262005130059029, 0.10262005130059029, 0.5900652949783942, 0.15393007695088542, 0.025655012825147573, 0.7892804124169936, 0.9032436105567768, 0.1669842954952649, 0.1669842954952649, 0.5009528864857947, 0.08349214774763244, 0.806959408517424, 0.8893362928149986, 0.17005135978757968, 0.17005135978757968, 0.510154079362739, 0.7240509191819254, 0.06139713773372203, 0.06139713773372203, 0.3683828264023322, 0.1841914132011661, 0.06139713773372203, 0.1841914132011661, 0.7892802342010036, 0.8476658246900958, 0.7892798596550705, 0.2946761054947927, 0.14733805274739634, 0.07366902637369817, 0.07366902637369817, 0.07366902637369817, 0.3683451318684908, 0.2281052462787494, 0.35845110129517765, 0.09775939126232117, 0.03258646375410706, 0.09775939126232117, 0.06517292750821412, 0.03258646375410706, 0.06517292750821412, 0.9337257547810047, 0.791461651854737, 0.791461651854737, 0.26454378629246594, 0.48838852853993714, 0.06104856606749214, 0.14244665415748167, 0.04069904404499476, 0.24547076247754657, 0.5355725726782834, 0.044631047723190286, 0.13389314316957085, 0.044631047723190286, 0.8921127777505984, 0.8893444086093014, 0.6232703164206101, 0.24930812656824405, 0.7783248373121432, 0.8440646338263479, 0.0737328108281001, 0.0491552072187334, 0.0491552072187334, 0.6635952974529009, 0.0491552072187334, 0.0245776036093667, 0.0491552072187334, 0.10305130126988529, 0.8759360607940251, 0.7892804124169936, 0.8083457846429516, 0.16166915692859032, 0.2644083480193589, 0.48813848865112414, 0.02033910369379684, 0.04067820738759368, 0.02033910369379684, 0.12203462216278103, 0.04067820738759368, 0.8921127777505984, 0.8921127777505984, 0.15043422365100098, 0.15043422365100098, 0.6017368946040039, 0.8069606408766682, 0.8069606408766682, 0.05023729350306247, 0.3014237610183748, 0.05023729350306247, 0.3516610545214373, 0.1507118805091874, 0.10047458700612494, 0.11635070075427054, 0.8144549052798937, 0.23460804835558816, 0.7038241450667644, 0.7892804123796037, 0.18335717550042177, 0.7945477605018276, 0.9209605619638278, 0.8069607822981065, 0.8440662685694431, 0.8893455188034844, 0.8133464029184297, 0.08792934085604646, 0.08792934085604646, 0.8980908896461256, 0.9139010726423834, 0.7812769818942521, 0.19531924547356302, 0.7783249906252055, 0.8601406065416466, 0.08601406065416466, 0.8388298520213487, 0.7914612596355893, 0.8002106030582145, 0.10705930279435738, 0.6423558167661443, 0.16058895419153607, 0.05352965139717869, 0.8778962790809196, 0.07980875264371996, 0.9490490781782555, 0.9349336057742909, 0.9595117843345957, 0.9339617578050041, 0.9756135482073638, 0.9756135482073638, 0.68104922834594, 0.07567213648288221, 0.07567213648288221, 0.07567213648288221, 0.07567213648288221, 0.902173688343465, 0.17093645311111486, 0.3418729062222297, 0.5128093593333446, 0.8921171366356466, 0.7914618579287634, 0.8754600426626632, 0.8069584820168524, 0.26904084635041087, 0.20925399160587513, 0.3886145558394824, 0.1494671368613394, 0.91203575718478, 0.7914605400434036, 0.17218598261722504, 0.6887439304689001, 0.027808348853992377, 0.8898671633277561, 0.055616697707984754, 0.027808348853992377, 0.879113835951141, 0.08791138359511409, 0.9798748598316436, 0.6986540852668024, 0.0873317606583503, 0.0873317606583503, 0.0873317606583503, 0.7079891040421785, 0.14159782080843572, 0.2728487921023355, 0.20463659407675158, 0.20463659407675158, 0.2728487921023355, 0.3905780179291637, 0.5858670268937456, 0.8002090818432073, 0.31331467527740064, 0.07832866881935016, 0.469972012916101, 0.07832866881935016, 0.07832866881935016, 0.23780049305277656, 0.4756009861055531, 0.8069607015185961, 0.8002109640681677, 0.12089543208621464, 0.12089543208621464, 0.7253725925172879, 0.9179665050117112, 0.8002065224446264, 0.29513403332967797, 0.1967560222197853, 0.49189005554946325, 0.8002116492046589, 0.028470691715942426, 0.8825914431942152, 0.028470691715942426, 0.028470691715942426, 0.07061167919256431, 0.8826459899070539, 0.035305839596282154, 0.7783249906937574, 0.2483673423660571, 0.11463108109202635, 0.3056828829120703, 0.2865777027300659, 0.019105180182004394, 0.03821036036400879, 0.875461980190311, 0.875461980190311, 0.05587569733950604, 0.16762709201851814, 0.6705083680740725, 0.05587569733950604, 0.0649928692702978, 0.19497860781089343, 0.5849358234326802, 0.0649928692702978, 0.7892804123926884, 0.7892804123926884, 0.9337287153809083, 0.386167222953733, 0.05148896306049774, 0.0772334445907466, 0.20595585224199095, 0.1802113707117421, 0.02574448153024887, 0.0772334445907466, 0.9383795974475831, 0.13059902553637712, 0.26119805107275423, 0.5223961021455085, 0.295874660531098, 0.591749321062196, 0.36140806410380427, 0.28532215587142445, 0.11412886234856977, 0.01902147705809496, 0.03804295411618992, 0.11412886234856977, 0.07608590823237985, 0.8440579117492052, 0.24113094919174846, 0.7233928475752454, 0.3816520408734094, 0.2544346939156063, 0.3816520408734094, 0.791461949235353, 0.8476634475801182, 0.134883440315532, 0.4046503209465961, 0.4046503209465961, 0.3020335296927481, 0.6040670593854962, 0.22154190083268474, 0.07384730027756159, 0.07384730027756159, 0.14769460055512318, 0.07384730027756159, 0.36923650138780795, 0.29196501985036366, 0.09732167328345456, 0.09732167328345456, 0.09732167328345456, 0.38928669313381825, 0.8069609074996257, 0.509727998992369, 0.509727998992369, 0.07421214423165108, 0.07421214423165108, 0.4452728653899065, 0.14842428846330216, 0.22263643269495326, 0.9151598867201447, 0.7121534525521599, 0.8893455714261866, 0.8893460646731808, 0.3293214877021338, 0.02993831706383035, 0.1197532682553214, 0.2395065365106428, 0.08981495119149105, 0.1796299023829821, 0.8476906829804889, 0.8069596513571483, 0.09227996530895236, 0.09227996530895236, 0.507539809199238, 0.04613998265447618, 0.09227996530895236, 0.13841994796342855, 0.8069606701206143, 0.02405526872738448, 0.505160643275074, 0.2405526872738448, 0.21649741854646032, 0.8078816079481187, 0.1900897901054397, 0.7892804124230964, 0.12550550314776082, 0.10458791928980067, 0.013945055905306756, 0.5229395964490033, 0.1533956149583743, 0.03486263976326689, 0.04183516771592027, 0.806957581822146, 0.2346105501153609, 0.7038316503460826, 0.8921178631095691, 0.7892804123641041, 0.7892804123641041, 0.7646517369815956, 0.22939552109447867, 0.9339722694703932, 0.280681500677308, 0.210511125507981, 0.350851875846635, 0.0350851875846635, 0.0350851875846635, 0.1052555627539905, 0.8069592821333439, 0.1686057637105553, 0.1686057637105553, 0.1686057637105553, 0.3372115274211106, 0.8069564278364345, 0.7399197178222833, 0.14798394356445665, 0.5914255199805267, 0.1971418399935089, 0.041786887516881206, 0.12536066255064363, 0.45965576268569325, 0.20893443758440602, 0.14625410630908423, 0.041786887516881206, 0.7907596992552411, 0.13179328320920686, 0.05345297307050461, 0.06681621633813076, 0.5746194605079246, 0.29399135188777537, 0.9490622792714909, 0.8650118168224686, 0.0778191190623052, 0.23345735718691557, 0.6225529524984416, 0.3521587003158237, 0.033538923839602254, 0.1173862334386079, 0.033538923839602254, 0.1844640811178124, 0.1844640811178124, 0.08384730959900565, 0.016769461919801127, 0.6232142619770654, 0.24928570479082618, 0.9120351090386907, 0.875461423132052, 0.7783251058958026, 0.9179658697078552, 0.8734175120842463, 0.3092595889522085, 0.07731489723805213, 0.07731489723805213, 0.46388938342831276, 0.7145225236401876, 0.9335304497492799, 0.9076202215495393, 0.12463709371884175, 0.6231854685942088, 0.12463709371884175, 0.903249018177706, 0.8002111120263908, 0.7936013519820434, 0.7914606130179537, 0.19990855593550103, 0.599725667806503, 0.7917838614635476, 0.8893459833233992, 0.7146648074874359, 0.23822160249581195, 0.43210381578315155, 0.07201730263052526, 0.43210381578315155, 0.8036416311160339, 0.16807998072252173, 0.6723199228900869, 0.26129668740986506, 0.41807469985578405, 0.10451867496394601, 0.20903734992789202, 0.15178252862025143, 0.7589126431012573, 0.04576905803373477, 0.6865358705060216, 0.22884529016867386, 0.6354137852659173, 0.31770689263295865, 0.19865947099423364, 0.19865947099423364, 0.3973189419884673, 0.0826809613982231, 0.11024128186429746, 0.7716889730500823, 0.9120375835662623, 0.9296105745091156, 0.8128733141877941, 0.19546178310247142, 0.4691082794459314, 0.11727706986148285, 0.07818471324098857, 0.11727706986148285, 0.3610256983341006, 0.2817761547973468, 0.061638533861919614, 0.16730459191092467, 0.09686055321158797, 0.008805504837417088, 0.017611009674834175, 0.8034795162750251, 0.9383791635756347, 0.8921166564620504, 0.7914620444821233, 0.8440579113525759, 0.8440579113525759, 0.7914618709401711, 0.8921154681046587, 0.800201722703074, 0.800207968561603, 0.16004770130233223, 0.8002385065116612, 0.8440579122192537, 0.8842587904312647, 0.7096436368585407, 0.14192872737170814, 0.7096436374381819, 0.14192872748763638, 0.4961289779758628, 0.41344081497988566, 0.49612897798177896, 0.4134408149848158, 0.20038616096787873, 0.6011584829036362, 0.16030892877430297, 0.04007723219357574, 0.8440656381513576, 0.9339613204002949, 0.8530437868002164, 0.8002097771815829, 0.8002097771815829, 0.8754613583283781, 0.19951908125754536, 0.5985572437726361, 0.2862698990801893, 0.2862698990801893, 0.2862698990801893, 0.8563653601268663, 0.6294686134528152, 0.25178744538112613, 0.8445620252720061, 0.32319665819781296, 0.09234190234223227, 0.09234190234223227, 0.41553856054004523, 0.04617095117111614, 0.80696090775324, 0.12957455260384285, 0.1649130669503454, 0.5300777151975389, 0.02355900956433506, 0.10601554303950778, 0.03533851434650259, 0.9490534408648882, 0.9490534408648882, 0.8440614797589683, 0.8440614797589683, 0.8563661894099934, 0.09450287061603274, 0.8505258355442947, 0.8476639990568073, 0.7249256626769748, 0.20712161790770706, 0.8129616890622974, 0.16259233781245946, 0.8476634867159474, 0.8002088764648212, 0.8754617991788389, 0.8754617991788389, 0.4462599440732658, 0.535511932887919, 0.8440633363128816, 0.7783247691344601, 0.7783247691344601, 0.38871126717530724, 0.12957042239176908, 0.38871126717530724, 0.9337264052473135, 0.8748742008333207, 0.13037573285059184, 0.13037573285059184, 0.6518786642529593, 0.7914615964497551, 0.7914615964497551, 0.07343509115994666, 0.33045791021975995, 0.36717545579973326, 0.03671754557997333, 0.11015263673991998, 0.03671754557997333, 0.8440604059642876, 0.0945709345905356, 0.8511384113148205, 0.11354324774014321, 0.7948027341810024, 0.8034782911084773, 0.9021730553105359, 0.7892798925102661, 0.07854269979602664, 0.7854269979602665, 0.07854269979602664, 0.03927134989801332, 0.8563651119685928, 0.9466030913371087, 0.8563649053024158, 0.9021728958893436, 0.04448225979225327, 0.04448225979225327, 0.44482259792253276, 0.1779290391690131, 0.1779290391690131, 0.08896451958450655, 0.7914616739839361, 0.7314325571412481, 0.3544079459382356, 0.3866268501144388, 0.0966567125286097, 0.06443780835240648, 0.06443780835240648, 0.875459236316505, 0.7342407283682242, 0.14684814567364485, 0.9337267745227997, 0.8476660009479606, 0.8001973132044494, 0.19291851036300073, 0.7716740414520029, 0.22004435117282084, 0.4034146438168382, 0.036674058528803476, 0.22004435117282084, 0.036674058528803476, 0.036674058528803476, 0.8754590427356561, 0.8069410378278663, 0.05326050194766579, 0.23967225876449605, 0.505974768502825, 0.15978150584299736, 0.026630250973832894, 0.8440614797589683, 0.9339615109760585, 0.8563655721410772, 0.19634722828851947, 0.21665901052526287, 0.28436495131440753, 0.01354118815782893, 0.08124712894697358, 0.1354118815782893, 0.01354118815782893, 0.06093534671023018, 0.38817587997319264, 0.5822638199597889, 0.14769776234207507, 0.14769776234207507, 0.7384888117103754, 0.4629375105944828, 0.411500009417318, 0.05143750117716475, 0.05143750117716475, 0.9383783643254855, 0.7914606496115627, 0.17990084256299826, 0.23986779008399767, 0.23986779008399767, 0.35980168512599653, 0.8476717126588881, 0.4082875153418587, 0.0774338391165594, 0.11263103871499551, 0.22526207742999102, 0.09855215887562106, 0.014078879839374439, 0.056315519357497755, 0.14512767101164956, 0.7256383550582477, 0.5275031186097879, 0.07912546779146819, 0.23737640337440455, 0.10550062372195758, 0.8002062554988715, 0.5987813355783167, 0.19959377852610555, 0.9490536464866548, 0.14605527065835253, 0.08763316239501151, 0.5257989743700691, 0.17526632479002302, 0.029211054131670505, 0.8893416903631813, 0.8893388362728465, 0.5744663761667402, 0.42127534252227616, 0.8476638297774148, 0.07424672905289922, 0.11137009357934884, 0.03712336452644961, 0.18561682263224805, 0.2969869162115969, 0.2969869162115969, 0.07951444668927672, 0.15902889337855344, 0.47708668013566036, 0.23854334006783018, 0.7914605207101663, 0.9118575085318679, 0.21069015103071997, 0.07023005034357332, 0.07023005034357332, 0.07023005034357332, 0.5618404027485866, 0.8639524443707356, 0.8639524443707356, 0.2366189643983835, 0.473237928796767, 0.10701355638580014, 0.10701355638580014, 0.6420813383148009, 0.10701355638580014, 0.791461651854737, 0.19355347164027728, 0.7742138865611091, 0.6442132971917641, 0.16105332429794103, 0.14866677584225382, 0.6541338137059168, 0.029733355168450763, 0.029733355168450763, 0.0892000655053523, 0.029733355168450763], \"Term\": [\"11\", \"11\", \"11\", \"ab\", \"ab\", \"ab\", \"ab testing\", \"ab testing\", \"affinity\", \"affinity mapping\", \"analysis\", \"analysis\", \"analysis\", \"analysis\", \"analysis\", \"analysis\", \"analysis\", \"analysis\", \"analytics\", \"analytics\", \"analytics\", \"analytics\", \"analytics\", \"analytics\", \"analytics\", \"analytics usability\", \"analytics usability testing\", \"applied\", \"behavioral\", \"behavioral\", \"behavioral\", \"behavioral attitudinal\", \"beta testing\", \"bit\", \"card\", \"card\", \"card\", \"card\", \"card\", \"card sort\", \"card sort\", \"card sort\", \"card sort survey\", \"card sort tree\", \"card sorting\", \"card sorting\", \"card sorting\", \"card sorting\", \"card sorting\", \"click\", \"click test\", \"client\", \"client\", \"client\", \"client\", \"cognitive walkthroughs\", \"concept\", \"concept\", \"concept\", \"concept\", \"concept\", \"concept\", \"concept\", \"concept\", \"concept testing\", \"concept testing\", \"concept testing\", \"concept testing\", \"concept testing\", \"concept testing usability\", \"concept validation\", \"concept validation usability\", \"conducted\", \"contextual\", \"contextual\", \"contextual\", \"contextual\", \"contextual\", \"contextual\", \"contextual\", \"contextual enquiry usability\", \"contextual inquiry\", \"contextual inquiry\", \"contextual inquiry\", \"contextual inquiry interview\", \"contextual inquiry usability\", \"contextual interview usability\", \"contextual observation\", \"currently\", \"currently\", \"currently using\", \"customer\", \"customer\", \"customer\", \"customer\", \"customer\", \"customer\", \"customer\", \"customer experience\", \"customer interview\", \"customer interview\", \"customer interview\", \"data\", \"data\", \"data\", \"data\", \"data\", \"data\", \"data\", \"data\", \"data analysis data\", \"data science\", \"data science\", \"decision\", \"decision\", \"decision\", \"decision\", \"decision\", \"design\", \"design\", \"design\", \"design\", \"design\", \"design\", \"design\", \"design\", \"design exercise\", \"design product\", \"design research\", \"design research\", \"desk\", \"desk\", \"desk\", \"desk\", \"desk\", \"desk research\", \"desk research\", \"desk research\", \"desk research\", \"desk research\", \"diary\", \"diary\", \"diary\", \"diary\", \"diary\", \"diary study\", \"diary study\", \"diary study\", \"diary study\", \"diary study\", \"diary study card\", \"diary study contextual\", \"diary study observation\", \"discovery\", \"discovery\", \"discovery\", \"discovery\", \"discussion\", \"doing exploratory\", \"early\", \"enquiry usability\", \"enquiry usability testing\", \"ethno\", \"ethnographic\", \"ethnographic\", \"ethnographic\", \"ethnographic\", \"ethnographic\", \"ethnographic\", \"ethnographic\", \"ethnographic research\", \"ethnographic research\", \"ethnographic research\", \"ethnographic research\", \"ethnographic research\", \"ethnographic research\", \"ethnographic research indepth\", \"ethnographic research interview\", \"ethnography\", \"ethnography\", \"ethnography\", \"ethnography\", \"ethnography\", \"ethnography\", \"ethnography user\", \"evaluation\", \"evaluation\", \"evaluation\", \"evaluation\", \"evaluative\", \"evaluative\", \"evaluative\", \"evaluative\", \"evaluative\", \"evaluative contextual\", \"exercise\", \"experience\", \"experience\", \"experience\", \"experience\", \"experimental\", \"experimentation\", \"expert\", \"expert\", \"expert\", \"expert review\", \"exploratory\", \"exploratory\", \"exploratory\", \"exploratory\", \"exploratory\", \"exploratory\", \"exploratory evaluative\", \"eyetracking\", \"facetoface\", \"feedback\", \"feedback\", \"feedback\", \"feedback\", \"feedback\", \"feedback\", \"field\", \"field\", \"field\", \"field\", \"field\", \"field\", \"field\", \"field\", \"field study survey\", \"fly\", \"fly wall\", \"focus\", \"focus\", \"focus\", \"focus\", \"focus\", \"focus group\", \"focus group\", \"focus group\", \"focus group\", \"focus group\", \"focus group user\", \"focused\", \"form\", \"form\", \"formative\", \"gamut\", \"generative\", \"generative\", \"generative\", \"generative\", \"generative\", \"generative\", \"generative\", \"generative evaluative\", \"generative evaluative\", \"generative evaluative contextual\", \"google\", \"google\", \"group\", \"group\", \"group\", \"group\", \"group\", \"group\", \"group\", \"group user\", \"group user interview\", \"help\", \"help\", \"help\", \"help make\", \"help make decision\", \"heuristic\", \"heuristic\", \"heuristic\", \"heuristic\", \"heuristic\", \"heuristic\", \"heuristic evaluation\", \"heuristic evaluation\", \"home\", \"home\", \"hypothesis testing\", \"indepth\", \"indepth\", \"indepth interview\", \"indepth interview cocreation\", \"indepth interview focus\", \"individual interview\", \"inquiry\", \"inquiry\", \"inquiry\", \"inquiry interview\", \"inquiry usability\", \"inquiry usability testing\", \"inquiry usability testing\", \"international\", \"interview card\", \"interview card\", \"interview card sorting\", \"interview codesign\", \"interview concept validation\", \"interview contextual\", \"interview contextual\", \"interview contextual\", \"interview contextual\", \"interview contextual inquiry\", \"interview contextual inquiry\", \"interview diary\", \"interview diary study\", \"interview field\", \"interview field study\", \"interview focus\", \"interview focus group\", \"interview observation\", \"interview observation\", \"interview observation\", \"interview observation\", \"interview observation\", \"interview observation usability\", \"interview remote\", \"interview remote\", \"interview remote\", \"interview secondary\", \"interview secondary research\", \"interview shadowing\", \"interview small\", \"interview survey\", \"interview survey\", \"interview survey\", \"interview survey\", \"interview survey card\", \"interview survey diary\", \"interview survey usability\", \"interview survey usability\", \"interview usability\", \"interview usability\", \"interview usability\", \"interview usability\", \"interview usability test\", \"interview usability test\", \"interview usability testing\", \"interview user\", \"interview user\", \"interview user\", \"interview user\", \"interview user testing\", \"interview user testing\", \"journey\", \"journey\", \"journey\", \"journey\", \"journey map\", \"journey map\", \"knowledge\", \"lab\", \"lab\", \"lab\", \"lab\", \"lab\", \"lean\", \"lean\", \"lean ux\", \"level\", \"make\", \"make\", \"make\", \"make decision\", \"manager\", \"map\", \"map\", \"map\", \"map journey\", \"market\", \"market\", \"market\", \"market\", \"market research\", \"market research\", \"market research\", \"market research analytics\", \"method\", \"method\", \"method\", \"method\", \"method\", \"method\", \"mix qualitative\", \"mix qualitative quantitative\", \"mixed\", \"mixed\", \"mixed\", \"mixed\", \"mixed method\", \"mixed method\", \"mixed method\", \"mixed method\", \"mixedmethods\", \"mixedmethods research\", \"mixture\", \"moderated\", \"moderated\", \"moderated\", \"moderated\", \"moderated\", \"moderated\", \"moderated\", \"moderated remote\", \"moderated usability\", \"moderated usability\", \"moderated usability\", \"moderated usability testing\", \"moderated usability testing\", \"observation\", \"observation\", \"observation\", \"observation\", \"observation\", \"observation\", \"observation\", \"observation usability testing\", \"observing\", \"observing\", \"online\", \"online\", \"online\", \"organisation\", \"paper\", \"participant\", \"participant\", \"participant\", \"participant observation\", \"participant observation\", \"participatory\", \"participatory\", \"participatory\", \"participatory\", \"participatory\", \"participatory\", \"participatory design\", \"participatory design\", \"participatory design\", \"participatory design\", \"participatory design\", \"pattern\", \"poll\", \"poll\", \"primarily\", \"primarily\", \"primarily\", \"primarily\", \"primarily\", \"primary\", \"primary qualitative\", \"primary research\", \"primary secondary\", \"product\", \"product\", \"product\", \"product\", \"product\", \"product\", \"product research\", \"program survey\", \"prototype\", \"prototype\", \"prototype\", \"prototype\", \"prototype\", \"prototype\", \"prototype interview\", \"qual\", \"qual\", \"qual\", \"qual\", \"qual quant\", \"qual quant\", \"qual user\", \"qualitative\", \"qualitative\", \"qualitative\", \"qualitative\", \"qualitative\", \"qualitative\", \"qualitative\", \"qualitative desk\", \"qualitative generative\", \"qualitative generative\", \"qualitative generative evaluative\", \"qualitative mixed\", \"qualitative mixed method\", \"qualitative quantitative\", \"qualitative quantitative\", \"qualitative quantitative research\", \"qualitative research\", \"qualitative research\", \"qualitative research\", \"qualitative research\", \"qualitative research\", \"qualitative research\", \"qualitative research indepth\", \"qualitative usability\", \"qualitative usability\", \"qualitative usability\", \"qualitative usability\", \"qualitative usability study\", \"qualitative user\", \"qualitative user\", \"qualitative user research\", \"qualitative user research\", \"quant\", \"quant\", \"quant\", \"quant\", \"quant\", \"quant\", \"quant qual\", \"quant qual\", \"quantitative\", \"quantitative\", \"quantitative\", \"quantitative\", \"quantitative data\", \"quantitative qualitative\", \"quantitative survey\", \"quantitative survey\", \"quantitative survey\", \"remote\", \"remote\", \"remote\", \"remote\", \"remote\", \"remote\", \"remote\", \"remote\", \"remote interview\", \"remote interview\", \"research concept\", \"research data\", \"research evaluation\", \"research indepth\", \"research indepth interview\", \"research interview\", \"research interview\", \"research interview\", \"research interview\", \"research interview survey\", \"research market\", \"research market research\", \"research method\", \"research method\", \"research method\", \"research participant\", \"research participant observation\", \"research qualitative\", \"research remote\", \"research research\", \"research research\", \"research secondary\", \"research secondary research\", \"research survey\", \"research survey\", \"research usability\", \"research usability\", \"research usability\", \"research usability testing\", \"research user\", \"research user\", \"review\", \"review\", \"review\", \"review\", \"science\", \"science\", \"secondary\", \"secondary\", \"secondary\", \"secondary research\", \"secondary research\", \"site visit\", \"site visit\", \"site visit\", \"sort\", \"sort\", \"sort\", \"sort survey\", \"sort tree\", \"sort tree test\", \"sorting\", \"sorting\", \"sorting\", \"sorting\", \"sorting\", \"study\", \"study\", \"study\", \"study\", \"study\", \"study\", \"study\", \"study card\", \"study card sort\", \"study contextual\", \"study contextual interview\", \"study diary\", \"study diary study\", \"study dscout\", \"study observation\", \"study survey focus\", \"study unmoderated\", \"study usability\", \"study usability\", \"survey analytics\", \"survey card sort\", \"survey diary\", \"survey diary\", \"survey diary study\", \"survey diary study\", \"survey focus\", \"survey focus\", \"survey focus group\", \"survey focus group\", \"survey interview\", \"survey interview\", \"survey interview\", \"survey interview\", \"survey interview contextual\", \"survey interview focus\", \"survey interview usability\", \"survey participatory\", \"survey participatory design\", \"survey remote\", \"survey usability test\", \"survey usability test\", \"survey usability testing\", \"survey usability testing\", \"survey usability testing\", \"survey user interview\", \"task\", \"task\", \"task analysis\", \"team\", \"team\", \"team\", \"team\", \"team\", \"technology\", \"test\", \"test\", \"test\", \"test\", \"test\", \"test\", \"test card\", \"test card sort\", \"test contextual\", \"test contextual inquiry\", \"test observation\", \"test survey\", \"test survey\", \"testing ab testing\", \"testing card\", \"testing card\", \"testing card sorting\", \"testing card sorting\", \"testing competitive\", \"testing content\", \"testing heuristic\", \"testing heuristic evaluation\", \"testing interview\", \"testing interview\", \"testing interview card\", \"testing log\", \"testing log analysis\", \"testing moderated\", \"testing moderated\", \"testing moderated\", \"testing quantitative\", \"testing quantitative survey\", \"testing remote\", \"testing remote\", \"testing remote\", \"testing secondary\", \"testing secondary research\", \"testing survey\", \"testing survey\", \"testing survey\", \"testing survey\", \"testing survey\", \"testing survey\", \"testing survey interview\", \"testing usability\", \"testing usability\", \"testing usability testing\", \"testing usability testing\", \"testing user\", \"testing user interview\", \"text analysis\", \"tree\", \"tree\", \"tree\", \"tree\", \"tree jack\", \"tree test\", \"tree test card\", \"tree testing card\", \"type\", \"type\", \"type\", \"type\", \"type\", \"type\", \"type qualitative\", \"typically\", \"unmoderated\", \"unmoderated\", \"unmoderated\", \"unmoderated\", \"unmoderated\", \"unmoderated task\", \"unmoderated usability\", \"unmoderated usability\", \"unmoderated usability testing\", \"unmoderated user\", \"usability card\", \"usability interview\", \"usability interview\", \"usability study\", \"usability study\", \"usability study\", \"usability study\", \"usability study\", \"usability study\", \"usability study survey\", \"usability survey\", \"usability test\", \"usability test\", \"usability test\", \"usability test\", \"usability test\", \"usability test contextual\", \"usability test interview\", \"usability test survey\", \"usability testing\", \"usability testing\", \"usability testing\", \"usability testing\", \"usability testing\", \"usability testing\", \"usability testing\", \"usability testing\", \"usability testing interview\", \"usability testing interview\", \"usability testing remote\", \"usability testing remote\", \"usability testing remote\", \"usability testing survey\", \"usability testing survey\", \"usability testing survey\", \"usability testing survey\", \"usability testing user\", \"usage analytics usability\", \"use\", \"use\", \"use\", \"use\", \"used\", \"user\", \"user\", \"user\", \"user\", \"user\", \"user\", \"user\", \"user experience\", \"user experience\", \"user interview\", \"user interview\", \"user interview\", \"user interview\", \"user interview remote\", \"user interview survey\", \"user interview survey\", \"user interview usability\", \"user research\", \"user research\", \"user research\", \"user research\", \"user research\", \"user research market\", \"user research usability\", \"user testing\", \"user testing\", \"user testing ab\", \"ux\", \"ux\", \"ux\", \"ux\", \"ux\", \"ux\", \"ux research\", \"ux research\", \"ux research\", \"ux research\", \"ux research qualitative\", \"ux test\", \"validation\", \"validation\", \"validation\", \"validation\", \"validation\", \"validation usability\", \"validation usability testing\", \"variety\", \"variety\", \"various\", \"various\", \"various\", \"various\", \"wall\", \"website\", \"website\", \"wide\", \"wide\", \"workshop\", \"workshop\", \"workshop\", \"workshop\", \"workshop\", \"workshop\"]}, \"R\": 30, \"lambda.step\": 0.01, \"plot.opts\": {\"xlab\": \"PC1\", \"ylab\": \"PC2\"}, \"topic.order\": [5, 7, 1, 3, 4, 2, 6, 8]};\n",
       "\n",
       "function LDAvis_load_lib(url, callback){\n",
       "  var s = document.createElement('script');\n",
       "  s.src = url;\n",
       "  s.async = true;\n",
       "  s.onreadystatechange = s.onload = callback;\n",
       "  s.onerror = function(){console.warn(\"failed to load library \" + url);};\n",
       "  document.getElementsByTagName(\"head\")[0].appendChild(s);\n",
       "}\n",
       "\n",
       "if(typeof(LDAvis) !== \"undefined\"){\n",
       "   // already loaded: just create the visualization\n",
       "   !function(LDAvis){\n",
       "       new LDAvis(\"#\" + \"ldavis_el319141123672665766974092366\", ldavis_el319141123672665766974092366_data);\n",
       "   }(LDAvis);\n",
       "}else if(typeof define === \"function\" && define.amd){\n",
       "   // require.js is available: use it to load d3/LDAvis\n",
       "   require.config({paths: {d3: \"https://cdnjs.cloudflare.com/ajax/libs/d3/3.5.5/d3.min\"}});\n",
       "   require([\"d3\"], function(d3){\n",
       "      window.d3 = d3;\n",
       "      LDAvis_load_lib(\"https://cdn.rawgit.com/bmabey/pyLDAvis/files/ldavis.v1.0.0.js\", function(){\n",
       "        new LDAvis(\"#\" + \"ldavis_el319141123672665766974092366\", ldavis_el319141123672665766974092366_data);\n",
       "      });\n",
       "    });\n",
       "}else{\n",
       "    // require.js not available: dynamically load d3 & LDAvis\n",
       "    LDAvis_load_lib(\"https://cdnjs.cloudflare.com/ajax/libs/d3/3.5.5/d3.min.js\", function(){\n",
       "         LDAvis_load_lib(\"https://cdn.rawgit.com/bmabey/pyLDAvis/files/ldavis.v1.0.0.js\", function(){\n",
       "                 new LDAvis(\"#\" + \"ldavis_el319141123672665766974092366\", ldavis_el319141123672665766974092366_data);\n",
       "            })\n",
       "         });\n",
       "}\n",
       "</script>"
      ],
      "text/plain": [
       "PreparedData(topic_coordinates=              x         y  topics  cluster       Freq\n",
       "topic                                                \n",
       "4     -0.029312 -0.047520       1        1  19.583433\n",
       "6     -0.113839 -0.011711       2        1  17.523106\n",
       "0     -0.090529 -0.168515       3        1  16.756191\n",
       "2      0.247138 -0.038751       4        1  11.931896\n",
       "3      0.091311 -0.003273       5        1  11.387523\n",
       "1     -0.013658  0.063420       6        1   8.793167\n",
       "5     -0.031080  0.177801       7        1   7.067632\n",
       "7     -0.060030  0.028549       8        1   6.957051, topic_info=     Category        Freq                Term       Total  loglift  logprob\n",
       "659   Default  143.000000         qualitative  143.000000  30.0000  30.0000\n",
       "693   Default   74.000000        quantitative   74.000000  29.0000  29.0000\n",
       "501   Default   35.000000              market   35.000000  28.0000  28.0000\n",
       "502   Default   28.000000     market research   28.000000  27.0000  27.0000\n",
       "123   Default   44.000000  contextual inquiry   44.000000  26.0000  26.0000\n",
       "...       ...         ...                 ...         ...      ...      ...\n",
       "1146   Topic8    4.439613      user interview   37.914468   0.5206  -4.8028\n",
       "560    Topic8    4.336895         observation   52.572153   0.1704  -4.8262\n",
       "67     Topic8    3.858290                card   61.875585  -0.1095  -4.9432\n",
       "73     Topic8    3.157960        card sorting   25.580448   0.5735  -5.1435\n",
       "960    Topic8    3.403987                test   84.893212  -0.5510  -5.0684\n",
       "\n",
       "[497 rows x 6 columns], token_table=      Topic      Freq      Term\n",
       "term                           \n",
       "0         1  0.569035        11\n",
       "0         3  0.189678        11\n",
       "0         6  0.189678        11\n",
       "5         1  0.684061        ab\n",
       "5         3  0.201194        ab\n",
       "...     ...       ...       ...\n",
       "1207      2  0.654134  workshop\n",
       "1207      3  0.029733  workshop\n",
       "1207      6  0.029733  workshop\n",
       "1207      7  0.089200  workshop\n",
       "1207      8  0.029733  workshop\n",
       "\n",
       "[832 rows x 3 columns], R=30, lambda_step=0.01, plot_opts={'xlab': 'PC1', 'ylab': 'PC2'}, topic_order=[5, 7, 1, 3, 4, 2, 6, 8])"
      ]
     },
     "execution_count": 14,
     "metadata": {},
     "output_type": "execute_result"
    }
   ],
   "source": [
    "pyLDAvis.sklearn.prepare(lda6, types_res_used_matrix, types_res_used_vector)"
   ]
  },
  {
   "cell_type": "markdown",
   "metadata": {},
   "source": [
    "#### Topic groups (4)\n",
    "1. card sort\n",
    "2. contextual inquiry\n",
    "3. focus group \n",
    "4. market rsearch\n",
    "\n",
    "#### Topic groups (6) \n",
    "1. diary study\n",
    "2. card (sort)\n",
    "3. contextual inquiry\n",
    "4. quantitative survey\n",
    "5. focus (group)\n",
    "6. generative (evaluative)\n",
    "\n",
    "#### Topic groups (8) - 8 overlaps with 2 & 6\n",
    "1. diary (study)\n",
    "2. contextual inquiry\n",
    "3. interview usability\n",
    "4. gernative evaluative\n",
    "5. market (research)\n",
    "6. ux research\n",
    "7. indepth (interview)\n",
    "8. concept validation"
   ]
  },
  {
   "cell_type": "code",
   "execution_count": null,
   "metadata": {},
   "outputs": [],
   "source": [
    "#8 Topics"
   ]
  },
  {
   "cell_type": "code",
   "execution_count": 23,
   "metadata": {},
   "outputs": [],
   "source": [
    "lda_W6 = lda6.transform(types_res_used_matrix)"
   ]
  },
  {
   "cell_type": "code",
   "execution_count": 24,
   "metadata": {},
   "outputs": [],
   "source": [
    "top_doc_column6 = datadf.types_res_used.dropna()"
   ]
  },
  {
   "cell_type": "code",
   "execution_count": 25,
   "metadata": {},
   "outputs": [],
   "source": [
    "word_count_matrix6, count_vect6 = nlp.create_wordcount_matrix(datadf.types_res_used.dropna(), max_df=0.8, min_df=2, ngram=(1,3))"
   ]
  },
  {
   "cell_type": "code",
   "execution_count": 26,
   "metadata": {},
   "outputs": [
    {
     "data": {
      "text/plain": [
       "LatentDirichletAllocation(batch_size=128, doc_topic_prior=None,\n",
       "                          evaluate_every=-1, learning_decay=0.7,\n",
       "                          learning_method='batch', learning_offset=10.0,\n",
       "                          max_doc_update_iter=100, max_iter=10,\n",
       "                          mean_change_tol=0.001, n_components=5, n_jobs=None,\n",
       "                          perp_tol=0.1, random_state=42, topic_word_prior=None,\n",
       "                          total_samples=1000000.0, verbose=0)"
      ]
     },
     "execution_count": 26,
     "metadata": {},
     "output_type": "execute_result"
    }
   ],
   "source": [
    "LDA6a = LatentDirichletAllocation(n_components=5, random_state=42)\n",
    "LDA6a.fit(word_count_matrix6)\n"
   ]
  },
  {
   "cell_type": "code",
   "execution_count": 27,
   "metadata": {},
   "outputs": [],
   "source": [
    "lda_H = LDA6a.transform(word_count_matrix6)"
   ]
  },
  {
   "cell_type": "code",
   "execution_count": 28,
   "metadata": {},
   "outputs": [
    {
     "name": "stdout",
     "output_type": "stream",
     "text": [
      "Top 3 Documents for Topic 0: \n",
      "\n",
      "Document 1\n",
      "qualitative interview survey card sort prototype testing usability testing analytics etc\n",
      "\n",
      "Document 2\n",
      "usability testing moderated and unmoderated card sort tree jacking max diff jtbd odi survey observational ethnographic research concept validation others a needed\n",
      "\n",
      "Document 3\n",
      "usability testing empathy1x1 interview survey card sort tree test prototype and concept testing diary study eye tracking\n",
      "\n",
      "Top 3 Documents for Topic 1: \n",
      "\n",
      "Document 1\n",
      "user research participant observation interview contextual enquiry usability testing feedback analysis data analysis survey\n",
      "\n",
      "Document 2\n",
      "contextual inquiry interview survey feedback form quant behavior analysis quant usability study usability testing ux workshop\n",
      "\n",
      "Document 3\n",
      "foundational product research usability testing 11 interview unmoderated user testing using usertestingcom survey contextual inquiry diary study analytics\n",
      "\n",
      "Top 3 Documents for Topic 2: \n",
      "\n",
      "Document 1\n",
      "qual research interview in lab moderated usability testing remote unmoderated usability testing guerilla testing poll survey and video of user interacting with the website on specific journey\n",
      "\n",
      "Document 2\n",
      "market research persona user interview user testing usability testing prototype testing np data analysis heat mapping ab testing and other data based experiment\n",
      "\n",
      "Document 3\n",
      "competitor peer research stakeholder interview group workshop persona user and buyer user interview remote usability testing remote user observation card sorting expert review sector desk research tech innovation research\n",
      "\n",
      "Top 3 Documents for Topic 3: \n",
      "\n",
      "Document 1\n",
      "we conduct mixed method qualitative research with customersusershumans predominantly inhome indepth interview cultural probe diary digital and analog codesign workshop observational fieldwork shopalongs usability test and intercept we also conducted community research walk which were walking based conversation during a public space an infrastructure project\n",
      "\n",
      "Document 2\n",
      "qual method include a mix of formativediscovery research interview site visit diary study etc generativebuild the right thing research ie concept test and evaluativebuild the thing right research usability test click test etc some quant stuff like survey and partnering with the analytics team too\n",
      "\n",
      "Document 3\n",
      "all method are qualitative all research is conducted to support design methodology used to carry out the project they are typical in the form of interview workshop remote interview online or survey these method are used to understand user test concept test and idea generate there is wide variation in how those form of research are framed and conducted it depends on the client organizational need\n",
      "\n",
      "Top 3 Documents for Topic 4: \n",
      "\n",
      "Document 1\n",
      "mostly observation user interview including usability testing survey design thinking workshop sme interview analytics and occasionally tree test and card sort\n",
      "\n",
      "Document 2\n",
      "wide range of mixed method ethnography diary study analytics review survey interview usability study card sort tree jack study\n",
      "\n",
      "Document 3\n",
      "we use many different type of research method my ux team primarily us qualitative research method we do design session which is our own version of design sprint user interview field study usability testing survey card sorting etc\n",
      "\n"
     ]
    }
   ],
   "source": [
    "nlp.find_top_documents_per_topic(lda_H, top_doc_column6, 3)"
   ]
  },
  {
   "cell_type": "markdown",
   "metadata": {},
   "source": [
    "## 7. What types of research are you considering in the future?"
   ]
  },
  {
   "cell_type": "code",
   "execution_count": 15,
   "metadata": {},
   "outputs": [],
   "source": [
    "datadf.future_res = datadf.future_res.dropna().apply(nlp.basic_clean)\n",
    "datadf.future_res = datadf.future_res.dropna().apply(nlp.lemmatize)"
   ]
  },
  {
   "cell_type": "code",
   "execution_count": 16,
   "metadata": {},
   "outputs": [
    {
     "data": {
      "text/plain": [
       "(<609x540 sparse matrix of type '<class 'numpy.int64'>'\n",
       " \twith 3008 stored elements in Compressed Sparse Row format>,\n",
       " CountVectorizer(analyzer='word', binary=False, decode_error='strict',\n",
       "                 dtype=<class 'numpy.int64'>, encoding='utf-8', input='content',\n",
       "                 lowercase=True, max_df=0.3, max_features=None, min_df=2,\n",
       "                 ngram_range=(1, 3), preprocessor=None, stop_words='english',\n",
       "                 strip_accents=None, token_pattern='(?u)\\\\b\\\\w\\\\w+\\\\b',\n",
       "                 tokenizer=None, vocabulary=None))"
      ]
     },
     "execution_count": 16,
     "metadata": {},
     "output_type": "execute_result"
    }
   ],
   "source": [
    "future_res_matrix, future_res_vector = nlp.create_wordcount_matrix(datadf.future_res.dropna(), ngram=(1,3), max_df=.3)\n",
    "future_res_matrix, future_res_vector"
   ]
  },
  {
   "cell_type": "code",
   "execution_count": 20,
   "metadata": {},
   "outputs": [],
   "source": [
    "lda7 = LatentDirichletAllocation(n_components=7, random_state = 42)"
   ]
  },
  {
   "cell_type": "code",
   "execution_count": 21,
   "metadata": {},
   "outputs": [
    {
     "data": {
      "text/plain": [
       "LatentDirichletAllocation(batch_size=128, doc_topic_prior=None,\n",
       "                          evaluate_every=-1, learning_decay=0.7,\n",
       "                          learning_method='batch', learning_offset=10.0,\n",
       "                          max_doc_update_iter=100, max_iter=10,\n",
       "                          mean_change_tol=0.001, n_components=7, n_jobs=None,\n",
       "                          perp_tol=0.1, random_state=42, topic_word_prior=None,\n",
       "                          total_samples=1000000.0, verbose=0)"
      ]
     },
     "execution_count": 21,
     "metadata": {},
     "output_type": "execute_result"
    }
   ],
   "source": [
    "lda7.fit(future_res_matrix)"
   ]
  },
  {
   "cell_type": "code",
   "execution_count": 22,
   "metadata": {},
   "outputs": [
    {
     "data": {
      "text/html": [
       "\n",
       "<link rel=\"stylesheet\" type=\"text/css\" href=\"https://cdn.rawgit.com/bmabey/pyLDAvis/files/ldavis.v1.0.0.css\">\n",
       "\n",
       "\n",
       "<div id=\"ldavis_el319141123779194325442395010\"></div>\n",
       "<script type=\"text/javascript\">\n",
       "\n",
       "var ldavis_el319141123779194325442395010_data = {\"mdsDat\": {\"x\": [-0.15551538055049385, 0.09857223696162866, -0.03465047172382464, 0.2323448563952283, 0.07907105948115062, -0.09434227121407654, -0.1254800293496123], \"y\": [-0.01931019037319143, 0.07614476597866063, 0.1908046949475678, -0.01804254110272728, -0.1205889299808782, -0.12359382509097178, 0.014586025621540181], \"topics\": [1, 2, 3, 4, 5, 6, 7], \"cluster\": [1, 1, 1, 1, 1, 1, 1], \"Freq\": [18.383866832269362, 17.342910251129467, 15.360739910602389, 14.81461180482507, 14.021464764584366, 10.417754713356208, 9.658651723233152]}, \"tinfo\": {\"Category\": [\"Default\", \"Default\", \"Default\", \"Default\", \"Default\", \"Default\", \"Default\", \"Default\", \"Default\", \"Default\", \"Default\", \"Default\", \"Default\", \"Default\", \"Default\", \"Default\", \"Default\", \"Default\", \"Default\", \"Default\", \"Default\", \"Default\", \"Default\", \"Default\", \"Default\", \"Default\", \"Default\", \"Default\", \"Default\", \"Default\", \"Topic1\", \"Topic1\", \"Topic1\", \"Topic1\", \"Topic1\", \"Topic1\", \"Topic1\", \"Topic1\", \"Topic1\", \"Topic1\", \"Topic1\", \"Topic1\", \"Topic1\", \"Topic1\", \"Topic1\", \"Topic1\", \"Topic1\", \"Topic1\", \"Topic1\", \"Topic1\", \"Topic1\", \"Topic1\", \"Topic1\", \"Topic1\", \"Topic1\", \"Topic1\", \"Topic1\", \"Topic1\", \"Topic1\", \"Topic1\", \"Topic1\", \"Topic1\", \"Topic1\", \"Topic1\", \"Topic1\", \"Topic1\", \"Topic1\", \"Topic1\", \"Topic1\", \"Topic1\", \"Topic1\", \"Topic1\", \"Topic1\", \"Topic1\", \"Topic1\", \"Topic1\", \"Topic1\", \"Topic2\", \"Topic2\", \"Topic2\", \"Topic2\", \"Topic2\", \"Topic2\", \"Topic2\", \"Topic2\", \"Topic2\", \"Topic2\", \"Topic2\", \"Topic2\", \"Topic2\", \"Topic2\", \"Topic2\", \"Topic2\", \"Topic2\", \"Topic2\", \"Topic2\", \"Topic2\", \"Topic2\", \"Topic2\", \"Topic2\", \"Topic2\", \"Topic2\", \"Topic2\", \"Topic2\", \"Topic2\", \"Topic2\", \"Topic2\", \"Topic2\", \"Topic2\", \"Topic2\", \"Topic2\", \"Topic2\", \"Topic2\", \"Topic2\", \"Topic2\", \"Topic2\", \"Topic2\", \"Topic2\", \"Topic2\", \"Topic2\", \"Topic2\", \"Topic2\", \"Topic2\", \"Topic2\", \"Topic2\", \"Topic2\", \"Topic2\", \"Topic2\", \"Topic2\", \"Topic2\", \"Topic2\", \"Topic3\", \"Topic3\", \"Topic3\", \"Topic3\", \"Topic3\", \"Topic3\", \"Topic3\", \"Topic3\", \"Topic3\", \"Topic3\", \"Topic3\", \"Topic3\", \"Topic3\", \"Topic3\", \"Topic3\", \"Topic3\", \"Topic3\", \"Topic3\", \"Topic3\", \"Topic3\", \"Topic3\", \"Topic3\", \"Topic3\", \"Topic3\", \"Topic3\", \"Topic3\", \"Topic3\", \"Topic3\", \"Topic3\", \"Topic3\", \"Topic3\", \"Topic3\", \"Topic3\", \"Topic3\", \"Topic3\", \"Topic3\", \"Topic3\", \"Topic3\", \"Topic3\", \"Topic3\", \"Topic3\", \"Topic3\", \"Topic3\", \"Topic3\", \"Topic3\", \"Topic3\", \"Topic3\", \"Topic3\", \"Topic4\", \"Topic4\", \"Topic4\", \"Topic4\", \"Topic4\", \"Topic4\", \"Topic4\", \"Topic4\", \"Topic4\", \"Topic4\", \"Topic4\", \"Topic4\", \"Topic4\", \"Topic4\", \"Topic4\", \"Topic4\", \"Topic4\", \"Topic4\", \"Topic4\", \"Topic4\", \"Topic4\", \"Topic4\", \"Topic4\", \"Topic4\", \"Topic4\", \"Topic4\", \"Topic4\", \"Topic4\", \"Topic4\", \"Topic4\", \"Topic4\", \"Topic4\", \"Topic4\", \"Topic4\", \"Topic4\", \"Topic4\", \"Topic4\", \"Topic4\", \"Topic4\", \"Topic4\", \"Topic4\", \"Topic4\", \"Topic4\", \"Topic4\", \"Topic4\", \"Topic4\", \"Topic4\", \"Topic4\", \"Topic4\", \"Topic5\", \"Topic5\", \"Topic5\", \"Topic5\", \"Topic5\", \"Topic5\", \"Topic5\", \"Topic5\", \"Topic5\", \"Topic5\", \"Topic5\", \"Topic5\", \"Topic5\", \"Topic5\", \"Topic5\", \"Topic5\", \"Topic5\", \"Topic5\", \"Topic5\", \"Topic5\", \"Topic5\", \"Topic5\", \"Topic5\", \"Topic5\", \"Topic5\", \"Topic5\", \"Topic5\", \"Topic5\", \"Topic5\", \"Topic5\", \"Topic5\", \"Topic5\", \"Topic5\", \"Topic5\", \"Topic5\", \"Topic5\", \"Topic5\", \"Topic5\", \"Topic5\", \"Topic5\", \"Topic5\", \"Topic5\", \"Topic5\", \"Topic5\", \"Topic5\", \"Topic5\", \"Topic5\", \"Topic5\", \"Topic5\", \"Topic5\", \"Topic5\", \"Topic5\", \"Topic5\", \"Topic5\", \"Topic5\", \"Topic5\", \"Topic5\", \"Topic6\", \"Topic6\", \"Topic6\", \"Topic6\", \"Topic6\", \"Topic6\", \"Topic6\", \"Topic6\", \"Topic6\", \"Topic6\", \"Topic6\", \"Topic6\", \"Topic6\", \"Topic6\", \"Topic6\", \"Topic6\", \"Topic6\", \"Topic6\", \"Topic6\", \"Topic6\", \"Topic6\", \"Topic6\", \"Topic6\", \"Topic6\", \"Topic6\", \"Topic6\", \"Topic6\", \"Topic6\", \"Topic6\", \"Topic6\", \"Topic6\", \"Topic6\", \"Topic6\", \"Topic6\", \"Topic6\", \"Topic6\", \"Topic6\", \"Topic6\", \"Topic6\", \"Topic6\", \"Topic6\", \"Topic6\", \"Topic6\", \"Topic6\", \"Topic6\", \"Topic6\", \"Topic6\", \"Topic6\", \"Topic6\", \"Topic6\", \"Topic6\", \"Topic7\", \"Topic7\", \"Topic7\", \"Topic7\", \"Topic7\", \"Topic7\", \"Topic7\", \"Topic7\", \"Topic7\", \"Topic7\", \"Topic7\", \"Topic7\", \"Topic7\", \"Topic7\", \"Topic7\", \"Topic7\", \"Topic7\", \"Topic7\", \"Topic7\", \"Topic7\", \"Topic7\", \"Topic7\", \"Topic7\", \"Topic7\", \"Topic7\", \"Topic7\", \"Topic7\", \"Topic7\", \"Topic7\", \"Topic7\", \"Topic7\", \"Topic7\", \"Topic7\", \"Topic7\", \"Topic7\", \"Topic7\", \"Topic7\", \"Topic7\", \"Topic7\", \"Topic7\", \"Topic7\", \"Topic7\", \"Topic7\", \"Topic7\", \"Topic7\", \"Topic7\", \"Topic7\", \"Topic7\", \"Topic7\", \"Topic7\"], \"Freq\": [70.0, 39.0, 138.0, 35.0, 91.0, 36.0, 20.0, 32.0, 27.0, 31.0, 18.0, 13.0, 26.0, 43.0, 30.0, 38.0, 12.0, 53.0, 26.0, 23.0, 29.0, 46.0, 29.0, 10.0, 15.0, 8.0, 13.0, 16.0, 10.0, 13.0, 8.570231402917676, 6.88017959216787, 32.87230615319274, 4.345600287165523, 7.726213731344793, 3.5006224401402486, 3.500622402190445, 3.500529535811902, 3.500430871263713, 3.500430866530201, 3.500242595508378, 3.4998762001728068, 3.4994082974080922, 6.880951243681743, 2.6556441279634124, 2.6555554354350472, 2.655526720264923, 2.655517316703447, 2.655372277564651, 2.6553152156490953, 2.6538579679863807, 9.357046479485746, 18.816319947350273, 1.810666829233463, 1.8106667238934095, 1.8106667238934095, 1.8106666864312577, 1.8106666674653087, 1.8106666135476341, 1.8106666135476341, 3.5005167167938263, 81.04483004530448, 8.409448096465342, 3.3910862816550607, 4.344943301156688, 6.015930060250327, 4.345260607646677, 11.89277948383015, 11.402958133401334, 4.915982308486292, 4.564277393490851, 6.251460908290932, 8.29835939188087, 3.5012233352847146, 3.6127346159818243, 3.772769639012768, 3.673025201275522, 8.742992394001163, 7.019007482179417, 5.294955919262617, 4.433188802703577, 3.5710678163632883, 3.5710678163632883, 3.5709740876796574, 3.5699268345986077, 2.709196745457002, 2.709196745457002, 2.7090664192613083, 2.7090335729106836, 2.7090082022974067, 2.7090082022974067, 2.7082933273811243, 1.847179727297283, 1.8471796800825382, 1.8471796800825382, 1.8471795944080025, 1.8471794809285453, 1.847179178398432, 1.847179178398432, 1.8471684698870503, 1.8471683738805769, 1.8470903940739767, 1.8470903940739767, 1.8469952154737428, 1.846993674148975, 1.846971473579535, 1.8469696140528877, 12.088394677531435, 4.164111363178048, 6.95704307684766, 5.294350703864473, 24.02060595511877, 3.565488531343265, 50.30876375600206, 19.364254796342422, 21.680576449866752, 12.858903110246079, 3.883537905260789, 2.7096648265391217, 2.709177802229217, 20.85544215271883, 3.555459147955695, 7.7307297280065255, 7.484855981979871, 6.052916997917324, 5.010960079561835, 5.624247260641636, 3.831347029848441, 4.527163492515457, 3.8780491031616187, 2.818924551785592, 18.511187783247244, 16.736241895928142, 3.5465349253504757, 3.5465349253504757, 3.546438082428839, 2.6906705417056958, 2.690458621255768, 2.690458621255768, 2.690415138723382, 2.690280260787463, 2.6897120435508204, 10.745884405237272, 2.654280000955553, 4.402690896466067, 1.8345480276723196, 1.8345478214510653, 1.8345477214186887, 1.833965532601477, 1.833668665414128, 1.8336691744550477, 1.8336469523420624, 1.8336469523420624, 1.8319231840973171, 1.811100299007666, 7.699701577565079, 3.546564805521699, 11.287220526421873, 20.947318118225013, 4.365072340472727, 2.6906758214385693, 14.433994897392214, 5.334037120076038, 8.269692006302162, 20.42061062531024, 4.3463411413545305, 6.435440636066742, 6.039125864227786, 6.560736702316576, 5.03803440170275, 13.045708166871604, 18.697906413164173, 5.9269216286204305, 5.911946602259827, 4.95316518704323, 3.548672369738932, 3.5471288401176477, 3.5469173224059882, 5.481260220505053, 38.666153692078204, 35.24006792045205, 4.4048573469614904, 4.4048573469614904, 3.5480815580113236, 3.5478562576782577, 4.749133213221198, 2.6919828857360595, 2.6919030375067985, 2.6918302502716096, 2.69177864922669, 53.87025575845135, 5.1512351854112195, 2.523297593951467, 4.405202342654526, 1.8354430810567524, 1.835442991212084, 1.8354428984860327, 1.8354428547371815, 1.835442410156981, 1.8354405398548357, 1.8354394142582904, 1.8353607853470504, 1.8353607827169807, 1.8353247598823246, 1.8351828075424375, 1.8350360192215969, 1.8349881498039877, 1.8349881498039877, 1.8344249789761984, 3.5489684443457, 17.988916394635154, 11.371285616731592, 5.25107688043198, 3.5483863061952436, 2.6918234530950342, 11.560369185018091, 10.077038613404783, 12.857067807434671, 15.957118702497318, 5.654740290176015, 5.601044777142931, 2.6929924096371964, 2.692164926371239, 4.092944466191689, 5.74320244081068, 4.810013026575969, 2.7997070068248084, 2.8024001741825035, 11.419226220936599, 9.681684917623976, 4.4683422318026045, 2.7307530060656977, 2.7307308963689505, 2.7305571714080066, 2.7305571714080044, 2.7304650015318717, 2.7300540647984564, 6.785575344544651, 6.7855753227910505, 10.552499544528215, 1.8618772024280947, 1.8618772024280947, 1.8618771059732344, 1.86187695430349, 1.8618767923897344, 1.8617938497404998, 1.8617605773486787, 1.8617605773486787, 1.8617605773486787, 1.8617304831774197, 1.8617304831774197, 1.8617283148048367, 1.8616646267141665, 1.8616645301424453, 1.861533496305772, 1.8614635898403644, 1.8614635898403644, 1.861381737696749, 7.074996651360157, 6.964152563559431, 8.775116105632986, 7.075278543689507, 16.679462602161472, 12.870556973610215, 4.4685560440525505, 4.4685560440525505, 2.7302348005474606, 2.7313718070284874, 2.73040165342472, 4.609428414910323, 7.616745143303033, 5.830512802715009, 11.353940417645974, 3.599702428123181, 3.0233619922601394, 2.7304161226929367, 7.948442837052503, 5.437413814725414, 4.469297327600612, 5.850209535360783, 4.216766421426421, 3.9112388713293655, 3.1884990952295524, 2.91423207325687, 2.7594093466075758, 7.644600162587344, 5.972207563890722, 11.825771143339699, 5.1360937602633, 4.269877991548768, 3.463851305685515, 3.4636292360653087, 2.6278857285980304, 2.627885650485559, 7.645416615397941, 4.3002209903157125, 1.7917403849879963, 1.7917402168685617, 1.7917402132836242, 1.7917387091984198, 1.7917379562871032, 1.791672077373752, 1.7916447206005863, 1.7916047183536588, 1.7916047183536588, 1.7915973216073744, 1.7915272875881447, 1.7915272875881447, 1.791412359906444, 1.791391025410763, 1.791391025410763, 1.7913825493819302, 1.7913560039858882, 1.7913364865523684, 1.7910202539325557, 5.137110592224841, 2.627605337733357, 2.6271429305086826, 6.734395302732902, 9.914578538845085, 3.308409902160462, 3.253799329293356, 19.02431462934439, 2.627161352902658, 2.628045683768058, 6.986151939990523, 2.628966447329534, 2.4769204847070694, 2.6275272868691575, 3.0770584890444788, 3.53875373889807, 3.462009549234749, 2.767050959244244, 2.5075587230679237, 2.5326605925939805, 2.509593359327337, 5.115958475529352, 4.282716652082087, 3.450175063071021, 6.694758812485023, 2.6174125291893726, 2.61735671193946, 2.616919000860834, 5.950208327602682, 1.784654528153514, 1.7846542727656183, 1.7846541797251525, 1.7846540100416586, 1.784634994921077, 1.7846337757258797, 1.7845987821173055, 1.7845987821173055, 1.7845756502443157, 1.7845755470086349, 1.7845755470086349, 1.7844486261550452, 1.7844486261550452, 1.7844354457534837, 1.7844159758949434, 1.784396640894482, 1.78438652470893, 1.7841407987999074, 1.7836863634149713, 1.7831544641027943, 3.4504053687082767, 2.5333631148094606, 4.834256322150335, 10.911256812629794, 3.450308705265836, 11.298876384663373, 4.208189907048767, 5.083318697574567, 6.92047338090335, 2.6185303808783966, 2.617670610230314, 2.6178817187795462, 3.4502130469853167, 2.485196809631405, 3.4504499725605, 9.012828144413024, 5.0388540411559415, 3.8706908322564946, 3.3149351660786746, 2.706471941432671, 2.3927010679752088, 2.0881494948941106], \"Term\": [\"study\", \"diary\", \"research\", \"diary study\", \"testing\", \"quantitative\", \"ab\", \"usability testing\", \"design\", \"analytics\", \"ab testing\", \"field\", \"quant\", \"data\", \"remote\", \"user\", \"group\", \"usability\", \"qualitative\", \"contextual\", \"interview\", \"method\", \"unmoderated\", \"focus group\", \"qual\", \"online\", \"focus\", \"inquiry\", \"ux\", \"contextual inquiry\", \"quantitative research\", \"generative\", \"quantitative\", \"qualitative quantitative\", \"market\", \"market research\", \"design research\", \"strategic\", \"related\", \"research data\", \"participatory design\", \"rapid\", \"plus\", \"participatory\", \"generative research\", \"start\", \"participatory research\", \"help inform\", \"inclusive\", \"quantitative qualitative\", \"experimentation\", \"need\", \"qualitative\", \"info\", \"data scientist\", \"scientist\", \"research data science\", \"quantitative data\", \"looking new way\", \"new way\", \"inform\", \"research\", \"type\", \"qualitative research\", \"lot\", \"help\", \"doing\", \"design\", \"data\", \"looking\", \"mixed\", \"analysis\", \"method\", \"exploratory\", \"way\", \"product\", \"user\", \"unmoderated usability\", \"user testing\", \"unmoderated usability testing\", \"remote testing\", \"research usability\", \"user research usability\", \"journey\", \"onsite\", \"multivariate testing\", \"multivariate\", \"screen\", \"testing survey\", \"testing ab testing\", \"testing ab\", \"study survey\", \"testing user\", \"feasible given\", \"feasible\", \"main\", \"lab testing\", \"screen recording\", \"recording\", \"research usability testing\", \"usability testing survey\", \"contextual inquiry user\", \"inquiry user\", \"unmoderated usability study\", \"grow\", \"social listening\", \"tree testing card\", \"ethnography\", \"digital\", \"user research\", \"lab\", \"user\", \"tree testing\", \"testing\", \"usability testing\", \"usability\", \"unmoderated\", \"open\", \"making\", \"social\", \"research\", \"tree\", \"interview\", \"survey\", \"remote\", \"contextual\", \"method\", \"use\", \"design\", \"quant\", \"observation\", \"ab\", \"ab testing\", \"diary study contextual\", \"study contextual\", \"data analytics\", \"concept testing\", \"analytics ab\", \"analytics ab testing\", \"study contextual inquiry\", \"set\", \"usability test\", \"contextual inquiry\", \"method research\", \"behavioral\", \"day\", \"better analytics\", \"ab test\", \"benchmark\", \"game\", \"ethnographic work\", \"research ab testing\", \"research ab\", \"stay\", \"global\", \"test\", \"different\", \"inquiry\", \"analytics\", \"data science\", \"concept\", \"contextual\", \"mixed method\", \"team\", \"data\", \"science\", \"better\", \"work\", \"use\", \"mixed\", \"method\", \"testing\", \"new\", \"quant\", \"like\", \"trying\", \"session\", \"type\", \"research\", \"diary\", \"diary study\", \"testing diary\", \"testing diary study\", \"remote usability\", \"unmoderated study\", \"remote unmoderated\", \"ll\", \"large scale\", \"remote usability testing\", \"site visit\", \"study\", \"visit\", \"interview diary\", \"intercept\", \"testing tree\", \"interview diary study\", \"remote interview\", \"remote intercept\", \"consider\", \"likely\", \"medical\", \"ethnographic study\", \"like ethnographic\", \"usability testing diary\", \"reach\", \"interaction\", \"study unmoderated study\", \"study unmoderated\", \"answer\", \"large\", \"remote\", \"ethnographic\", \"moderated\", \"scale\", \"remote moderated\", \"usability testing\", \"unmoderated\", \"usability\", \"testing\", \"like\", \"interview\", \"site\", \"new method\", \"new\", \"method\", \"survey\", \"better\", \"quantitative\", \"group\", \"focus group\", \"competitive\", \"competitive analysis\", \"heuristic\", \"survey focus group\", \"survey focus\", \"evaluation\", \"study remote\", \"card sorting\", \"sorting\", \"focus\", \"interview focus group\", \"interview focus\", \"don\", \"individual interview\", \"usability benchmarking\", \"soon\", \"observation interview\", \"participant observation interview\", \"participant observation\", \"improvement\", \"improvement existing\", \"quantitative survey\", \"observation usability\", \"interview observation\", \"survey interview\", \"web analytics\", \"web\", \"longitudinal study\", \"benchmarking\", \"observation\", \"card\", \"tracking\", \"survey\", \"interview\", \"eye\", \"eye tracking\", \"possibly\", \"moderated unmoderated\", \"task\", \"longitudinal\", \"analysis\", \"product\", \"usability\", \"moderated\", \"usability study\", \"card sort\", \"study\", \"analytics\", \"ethnographic\", \"testing\", \"user\", \"unmoderated\", \"research\", \"qualitative\", \"data\", \"online\", \"field study\", \"field\", \"future\", \"ux research\", \"incorporate\", \"field research\", \"quant research\", \"quant qual\", \"ux\", \"metric\", \"quant ux\", \"hiring\", \"quant analysis\", \"eeg\", \"dunno\", \"difficult\", \"regular\", \"just starting\", \"starting\", \"ux metric\", \"experience sampling\", \"sampling\", \"segmentation\", \"testing field\", \"usability testing field\", \"online research\", \"hoping\", \"qualitative method\", \"longitudinal research\", \"just\", \"point\", \"access\", \"qual\", \"quant\", \"approach\", \"considering\", \"research\", \"deeper\", \"specific\", \"study\", \"love\", \"experience\", \"benchmarking\", \"like\", \"survey\", \"data\", \"analysis\", \"product\", \"analytics\", \"method\", \"service design\", \"codesign\", \"experiment\", \"service\", \"good\", \"formative\", \"process\", \"sure\", \"outcome\", \"secondary research\", \"contextual interview\", \"expertise\", \"using tool\", \"test user\", \"service design design\", \"design design\", \"reactive\", \"foundational\", \"foundational research\", \"survey card sorting\", \"survey card\", \"formative research\", \"party\", \"usertesting\", \"particularly\", \"really\", \"agile\", \"codesign workshop\", \"qual quant\", \"quant method\", \"using\", \"design\", \"thinking\", \"method\", \"tool\", \"qual\", \"quant\", \"probably\", \"research method\", \"make\", \"technique\", \"live\", \"help\", \"research\", \"data\", \"user\", \"analysis\", \"interview\", \"like\", \"new\"], \"Total\": [70.0, 39.0, 138.0, 35.0, 91.0, 36.0, 20.0, 32.0, 27.0, 31.0, 18.0, 13.0, 26.0, 43.0, 30.0, 38.0, 12.0, 53.0, 26.0, 23.0, 29.0, 46.0, 29.0, 10.0, 15.0, 8.0, 13.0, 16.0, 10.0, 13.0, 9.300854372077167, 7.610893054772897, 36.378591864672266, 5.075963962930847, 9.324728427260482, 4.23098599104354, 4.230985991199056, 4.230987213465632, 4.230988519149255, 4.230988519112186, 4.230991097222392, 4.230977618980884, 4.231006566942747, 8.443748911647383, 3.3860080217963007, 3.386010544092153, 3.38600957318332, 3.3860096990985635, 3.386008004616831, 3.3860125222503017, 3.3860315755725603, 12.686088750569226, 26.315490859892932, 2.541030046806928, 2.5410300473337952, 2.5410300473337952, 2.541030047589178, 2.541030047749646, 2.5410300480168404, 2.5410300480168404, 5.067132663814278, 138.81821004145945, 13.555874752847151, 5.095212243803736, 6.80684369253813, 10.966695550726271, 7.662021996459114, 27.820118865288872, 43.32967738744909, 11.858577934090057, 11.078681120255498, 22.992889888633314, 46.644540912626965, 6.799762517567735, 9.339009765827024, 16.2437430318207, 38.59341224702644, 9.471246305820918, 7.7472143651921135, 6.023176644769308, 5.161160808375547, 4.299142084811901, 4.299142084811901, 4.299138955548181, 4.299131429251028, 3.437126296454865, 3.437126296454865, 3.4371273221667886, 3.4371251882630993, 3.4371250093622896, 3.4371250093622896, 3.437120551736174, 2.5751089005712746, 2.5751088997892055, 2.5751088997892055, 2.5751088982910595, 2.575108896479159, 2.575108891456691, 2.575108891456691, 2.5751088314649824, 2.575108829890038, 2.5751082896679547, 2.5751082896679547, 2.575109603131236, 2.575110383111446, 2.5751074765636197, 2.575110412943867, 18.043917002330197, 6.000818506699832, 10.268778567223514, 7.7609193054253325, 38.59341224702644, 5.155649677399743, 91.178770681745, 32.664004952437665, 53.321764575825156, 29.22563018294066, 6.869647364585029, 4.282113521560283, 4.293638504184157, 138.81821004145945, 7.724480560297259, 29.272542553292904, 37.821576599289706, 30.007607946435794, 23.108283916907453, 46.644540912626965, 13.68765118906014, 27.820118865288872, 26.992379732445038, 10.387249570317321, 20.55084915913851, 18.839034616358038, 4.275564640872372, 4.275564640872372, 4.275564660800603, 3.419441909615005, 3.419442014057341, 3.419442014057341, 3.419442035298913, 3.4194359900561397, 3.4194333768796956, 13.715039015949614, 3.4189681929170743, 5.967830793795953, 2.5633193067454934, 2.5633193048272402, 2.5633193038800526, 2.563326455147188, 2.5633170699586003, 2.5633197294615035, 2.5633065147891956, 2.5633065147891956, 2.563285145932083, 2.562778155901528, 11.078453142037304, 5.111709714356349, 16.304219757155117, 31.707577470828923, 6.82115244185079, 4.255587621038972, 23.108283916907453, 8.52372066390463, 14.468769102431741, 43.32967738744909, 7.67767161230707, 12.832864334745098, 11.977563781727696, 13.68765118906014, 11.078681120255498, 46.644540912626965, 91.178770681745, 17.90431080048225, 26.992379732445038, 19.558423281888697, 9.327661655926606, 9.384029249143328, 13.555874752847151, 138.81821004145945, 39.39538094448305, 35.96922004338932, 5.1337756926059095, 5.1337756926059095, 4.2772310368385416, 4.277224292798951, 5.997694974817834, 3.420694714777806, 3.4206946766160162, 3.4206969186789027, 3.4206898509969403, 70.18007775472833, 6.823851929047908, 3.423124115104006, 5.989900926097632, 2.564154512796569, 2.564154511925815, 2.564154511042356, 2.5641545105502916, 2.5641545061764752, 2.5641544879441183, 2.5641544768598554, 2.5641522447466487, 2.564152244703018, 2.564155099779038, 2.564147433733301, 2.564159457924131, 2.56414410110876, 2.56414410110876, 2.56416100599317, 5.139243117244733, 30.007607946435794, 21.448752094322977, 9.46580810600705, 5.967191262410758, 4.2535889600300525, 32.664004952437665, 29.22563018294066, 53.321764575825156, 91.178770681745, 19.558423281888697, 29.272542553292904, 5.977926274716073, 5.9896947465015264, 17.90431080048225, 46.644540912626965, 37.821576599289706, 12.832864334745098, 36.378591864672266, 12.146456187896689, 10.408710298880363, 5.195452166992116, 3.457702326890107, 3.457701496411005, 3.457700782031807, 3.457700782031807, 3.457698223045377, 3.4576915798060712, 8.633434036587358, 8.633434036354673, 13.800451867413713, 2.588826256135929, 2.588826256135929, 2.5888262536111735, 2.588826249615588, 2.5888262453014788, 2.58882396414349, 2.5888237772387908, 2.5888237772387908, 2.5888237772387908, 2.588825089293724, 2.588825089293724, 2.588822162197641, 2.5888174403227233, 2.588817437779797, 2.588821774509406, 2.588820376659739, 2.588820376659739, 2.588818740960709, 10.310525545282266, 10.387249570317321, 15.508088553530595, 12.099317080870584, 37.821576599289706, 29.272542553292904, 7.781506194789004, 7.781506194789004, 4.290526027971507, 4.302707636441125, 4.302676776252658, 10.26707134530263, 22.992889888633314, 16.2437430318207, 53.321764575825156, 9.46580810600705, 6.901153008949625, 6.031959736659388, 70.18007775472833, 31.707577470828923, 21.448752094322977, 91.178770681745, 38.59341224702644, 29.22563018294066, 138.81821004145945, 26.315490859892932, 43.32967738744909, 8.376387964147437, 6.704098484650987, 13.425971681615255, 5.867951220584967, 5.032124297258377, 4.195657043034595, 4.1956659894851835, 3.359510867139216, 3.3595108686375563, 10.080272502686572, 5.888349294186024, 2.523365277008555, 2.523365280252415, 2.523365280313849, 2.523365309208671, 2.5233653236681155, 2.523366942868172, 2.52336823483027, 2.5233694708848766, 2.5233694708848766, 2.5233686946919995, 2.5233664068898705, 2.5233664068898705, 2.5233732756950764, 2.523374422513799, 2.523374422513799, 2.523373929896048, 2.523365696006208, 2.52337435140645, 2.523378824984157, 7.581788277407356, 4.192359200769795, 4.216037322972394, 15.12087990729991, 26.992379732445038, 5.9243631468518, 5.904877383972211, 138.81821004145945, 5.07176182753255, 5.928518555381153, 70.18007775472833, 7.684246507440807, 6.792125399310657, 10.310525545282266, 19.558423281888697, 37.821576599289706, 43.32967738744909, 22.992889888633314, 16.2437430318207, 31.707577470828923, 46.644540912626965, 5.848107976180203, 5.0152818150405105, 4.182433564014223, 8.378829701780056, 3.349592347020482, 3.349594620613165, 3.3495997943650333, 8.373181304599601, 2.5167518568506866, 2.5167518630753833, 2.5167518655291996, 2.5167518695610482, 2.516752142576473, 2.5167527542866415, 2.516752669132653, 2.516752669132653, 2.5167530085519156, 2.5167530110536345, 2.5167530110536345, 2.516760410806253, 2.516760410806253, 2.516758090523532, 2.5167569182946763, 2.516757199134831, 2.5167594836116445, 2.51677408458295, 2.516771018998431, 2.5167939236677865, 5.018575517593325, 4.21454204208627, 9.273063594444336, 27.820118865288872, 6.717364233362754, 46.644540912626965, 10.169057439536596, 15.12087990729991, 26.992379732445038, 5.06341064936168, 5.061829965919397, 5.087314811267853, 9.334062522459906, 5.053584996468742, 10.966695550726271, 138.81821004145945, 43.32967738744909, 38.59341224702644, 22.992889888633314, 29.272542553292904, 19.558423281888697, 17.90431080048225], \"loglift\": [30.0, 29.0, 28.0, 27.0, 26.0, 25.0, 24.0, 23.0, 22.0, 21.0, 20.0, 19.0, 18.0, 17.0, 16.0, 15.0, 14.0, 13.0, 12.0, 11.0, 10.0, 9.0, 8.0, 7.0, 6.0, 5.0, 4.0, 3.0, 2.0, 1.0, 1.6119, 1.5928, 1.5923, 1.5383, 1.5056, 1.5042, 1.5042, 1.5042, 1.5041, 1.5041, 1.5041, 1.504, 1.5039, 1.489, 1.4507, 1.4507, 1.4507, 1.4507, 1.4506, 1.4506, 1.4501, 1.3893, 1.3583, 1.3548, 1.3548, 1.3548, 1.3548, 1.3548, 1.3548, 1.3548, 1.3238, 1.1555, 1.2162, 1.2865, 1.2448, 1.0932, 1.1265, 0.8439, 0.3587, 0.8131, 0.8069, 0.3913, -0.0328, 1.0299, 0.744, 0.2338, -0.6584, 1.672, 1.6533, 1.6231, 1.5999, 1.5664, 1.5664, 1.5664, 1.5661, 1.514, 1.514, 1.514, 1.5139, 1.5139, 1.5139, 1.5137, 1.4198, 1.4198, 1.4198, 1.4198, 1.4198, 1.4198, 1.4198, 1.4197, 1.4197, 1.4197, 1.4197, 1.4197, 1.4197, 1.4196, 1.4196, 1.3514, 1.3866, 1.3626, 1.3695, 1.2778, 1.3832, 1.1573, 1.2291, 0.8521, 0.931, 1.1816, 1.2944, 1.2915, -0.1436, 0.9761, 0.4205, 0.132, 0.1511, 0.2234, -0.3635, 0.4787, -0.0637, -0.1882, 0.4478, 1.7688, 1.755, 1.6864, 1.6864, 1.6864, 1.6337, 1.6336, 1.6336, 1.6336, 1.6335, 1.6333, 1.6294, 1.6202, 1.5692, 1.5389, 1.5389, 1.5389, 1.5385, 1.5384, 1.5384, 1.5384, 1.5384, 1.5374, 1.5262, 1.5095, 1.5078, 1.5056, 1.4588, 1.427, 1.4149, 1.4028, 1.4046, 1.314, 1.1211, 1.3044, 1.1832, 1.1886, 1.138, 1.0853, 0.5993, 0.2889, 0.7678, 0.3548, 0.5, 0.9069, 0.9005, 0.5326, -1.3585, 1.8909, 1.8891, 1.7564, 1.7564, 1.7227, 1.7226, 1.6761, 1.67, 1.67, 1.6699, 1.6699, 1.6451, 1.6284, 1.6046, 1.6023, 1.5752, 1.5752, 1.5752, 1.5752, 1.5752, 1.5752, 1.5752, 1.5752, 1.5752, 1.5751, 1.5751, 1.575, 1.575, 1.575, 1.5747, 1.5393, 1.3979, 1.275, 1.3203, 1.3898, 1.452, 0.8709, 0.8448, 0.4871, 0.1666, 0.6686, 0.2559, 1.1121, 1.1099, 0.4338, -0.185, -0.1526, 0.3871, -0.6539, 1.9028, 1.8922, 1.8138, 1.7286, 1.7285, 1.7285, 1.7285, 1.7284, 1.7283, 1.7237, 1.7237, 1.6962, 1.635, 1.635, 1.635, 1.635, 1.635, 1.6349, 1.6349, 1.6349, 1.6349, 1.6349, 1.6349, 1.6349, 1.6349, 1.6349, 1.6348, 1.6347, 1.6347, 1.6347, 1.588, 1.5648, 1.3951, 1.428, 1.1459, 1.1429, 1.4099, 1.4099, 1.5126, 1.5101, 1.5098, 1.1637, 0.8597, 0.94, 0.4178, 0.9977, 1.1393, 1.172, -0.2135, 0.2013, 0.3961, -0.7818, -0.2494, -0.0466, -1.809, -0.236, -0.7892, 2.1702, 2.1461, 2.1347, 2.1284, 2.0974, 2.07, 2.0699, 2.016, 2.016, 1.9852, 1.9473, 1.9193, 1.9193, 1.9193, 1.9193, 1.9193, 1.9192, 1.9192, 1.9192, 1.9192, 1.9192, 1.9191, 1.9191, 1.9191, 1.9191, 1.9191, 1.919, 1.919, 1.919, 1.9188, 1.8724, 1.7945, 1.7887, 1.4528, 1.2601, 1.6791, 1.6657, 0.2742, 1.6039, 1.4481, -0.0455, 1.1891, 1.2529, 0.8945, 0.4122, -0.1074, -0.2653, 0.1443, 0.3933, -0.2656, -0.6608, 2.2036, 2.1794, 2.1448, 2.1129, 2.0907, 2.0906, 2.0905, 1.9957, 1.9936, 1.9936, 1.9936, 1.9936, 1.9936, 1.9936, 1.9935, 1.9935, 1.9935, 1.9935, 1.9935, 1.9935, 1.9935, 1.9934, 1.9934, 1.9934, 1.9934, 1.9933, 1.993, 1.9927, 1.9627, 1.8283, 1.6859, 1.4014, 1.6711, 0.9195, 1.455, 1.2472, 0.9762, 1.6779, 1.6779, 1.6729, 1.3421, 1.6276, 1.181, -0.3972, 0.1857, 0.0377, 0.4006, -0.0437, 0.2363, 0.1886], \"logprob\": [30.0, 29.0, 28.0, 27.0, 26.0, 25.0, 24.0, 23.0, 22.0, 21.0, 20.0, 19.0, 18.0, 17.0, 16.0, 15.0, 14.0, 13.0, 12.0, 11.0, 10.0, 9.0, 8.0, 7.0, 6.0, 5.0, 4.0, 3.0, 2.0, 1.0, -4.2036, -4.4232, -2.8593, -4.8827, -4.3073, -5.099, -5.099, -5.099, -5.099, -5.099, -5.0991, -5.0992, -5.0993, -4.4231, -5.3752, -5.3752, -5.3752, -5.3753, -5.3753, -5.3753, -5.3759, -4.1158, -3.4172, -5.7582, -5.7582, -5.7582, -5.7582, -5.7582, -5.7582, -5.7582, -5.099, -1.9569, -4.2225, -5.1307, -4.8829, -4.5575, -4.8828, -3.876, -3.918, -4.7594, -4.8336, -4.5191, -4.2358, -5.0988, -5.0674, -5.0241, -5.0509, -4.1253, -4.345, -4.6268, -4.8045, -5.0207, -5.0207, -5.0208, -5.0211, -5.2969, -5.2969, -5.297, -5.297, -5.297, -5.297, -5.2973, -5.6799, -5.6799, -5.6799, -5.6799, -5.6799, -5.6799, -5.6799, -5.6799, -5.6799, -5.68, -5.68, -5.68, -5.68, -5.6801, -5.6801, -3.8014, -4.8671, -4.3538, -4.627, -3.1147, -5.0223, -2.3754, -3.3302, -3.2172, -3.7396, -4.9369, -5.2968, -5.297, -3.256, -5.0251, -4.2484, -4.2807, -4.4931, -4.682, -4.5665, -4.9504, -4.7835, -4.9383, -5.2572, -3.2539, -3.3547, -4.9063, -4.9063, -4.9063, -5.1824, -5.1825, -5.1825, -5.1825, -5.1826, -5.1828, -3.7977, -5.1961, -4.69, -5.5654, -5.5654, -5.5654, -5.5658, -5.5659, -5.5659, -5.5659, -5.5659, -5.5669, -5.5783, -4.1311, -4.9063, -3.7486, -3.1302, -4.6986, -5.1824, -3.5026, -4.4981, -4.0596, -3.1557, -4.7029, -4.3104, -4.374, -4.2911, -4.5552, -3.6038, -3.2438, -4.3927, -4.3953, -4.5722, -4.9057, -4.9061, -4.9062, -4.4709, -2.4811, -2.5738, -4.6533, -4.6533, -4.8696, -4.8697, -4.5781, -5.1458, -5.1458, -5.1458, -5.1458, -2.1495, -4.4968, -5.2105, -4.6532, -5.5287, -5.5287, -5.5287, -5.5287, -5.5287, -5.5287, -5.5287, -5.5288, -5.5288, -5.5288, -5.5289, -5.529, -5.529, -5.529, -5.5293, -4.8694, -3.2463, -3.7049, -4.4776, -4.8695, -5.1458, -3.6884, -3.8258, -3.5821, -3.3661, -4.4035, -4.4131, -5.1454, -5.1457, -4.7268, -4.388, -4.5653, -5.1065, -5.1056, -3.6457, -3.8108, -4.584, -5.0764, -5.0764, -5.0765, -5.0765, -5.0765, -5.0767, -4.1662, -4.1662, -3.7246, -5.4594, -5.4594, -5.4594, -5.4594, -5.4594, -5.4595, -5.4595, -5.4595, -5.4595, -5.4595, -5.4595, -5.4595, -5.4595, -5.4595, -5.4596, -5.4596, -5.4596, -5.4597, -4.1244, -4.1402, -3.9091, -4.1244, -3.2668, -3.5261, -4.5839, -4.5839, -5.0766, -5.0762, -5.0766, -4.5529, -4.0507, -4.3179, -3.6514, -4.8002, -4.9746, -5.0766, -4.008, -4.3877, -4.5838, -4.3145, -4.6419, -4.7172, -4.9215, -5.0114, -5.066, -3.7499, -3.9968, -3.3136, -4.1476, -4.3323, -4.5415, -4.5416, -4.8178, -4.8178, -3.7498, -4.3253, -5.2007, -5.2007, -5.2007, -5.2007, -5.2007, -5.2008, -5.2008, -5.2008, -5.2008, -5.2008, -5.2009, -5.2009, -5.2009, -5.2009, -5.2009, -5.2009, -5.201, -5.201, -5.2011, -4.1474, -4.8179, -4.818, -3.8767, -3.4899, -4.5875, -4.6041, -2.8382, -4.818, -4.8177, -3.84, -4.8173, -4.8769, -4.8179, -4.66, -4.5202, -4.5421, -4.7661, -4.8646, -4.8547, -4.8638, -4.0759, -4.2537, -4.4698, -3.8069, -4.7461, -4.7461, -4.7463, -3.9248, -5.129, -5.129, -5.129, -5.129, -5.1291, -5.1291, -5.1291, -5.1291, -5.1291, -5.1291, -5.1291, -5.1292, -5.1292, -5.1292, -5.1292, -5.1292, -5.1292, -5.1293, -5.1296, -5.1299, -4.4698, -4.7787, -4.1325, -3.3185, -4.4698, -3.2836, -4.2712, -4.0823, -3.7738, -4.7457, -4.746, -4.7459, -4.4698, -4.7979, -4.4698, -3.5096, -4.0911, -4.3548, -4.5098, -4.7126, -4.8358, -4.972]}, \"token.table\": {\"Topic\": [2, 3, 3, 2, 3, 4, 6, 7, 1, 2, 3, 5, 6, 7, 2, 3, 5, 6, 3, 3, 4, 3, 5, 6, 3, 6, 3, 5, 6, 2, 3, 4, 6, 3, 2, 3, 5, 6, 7, 2, 3, 5, 5, 7, 7, 7, 5, 5, 3, 6, 3, 4, 1, 2, 6, 2, 3, 5, 7, 2, 3, 5, 2, 7, 1, 3, 5, 6, 7, 3, 1, 3, 1, 3, 3, 6, 1, 2, 7, 7, 1, 4, 4, 3, 3, 6, 6, 1, 2, 1, 2, 5, 6, 6, 1, 2, 3, 4, 5, 4, 3, 1, 2, 4, 5, 5, 2, 5, 6, 7, 6, 7, 1, 7, 1, 3, 4, 2, 5, 2, 5, 2, 2, 5, 6, 6, 6, 1, 5, 7, 5, 7, 7, 7, 7, 6, 3, 1, 1, 3, 7, 5, 2, 1, 5, 7, 1, 5, 6, 6, 5, 5, 1, 6, 5, 1, 1, 6, 2, 3, 5, 2, 4, 3, 4, 2, 4, 5, 7, 4, 4, 5, 5, 5, 2, 1, 5, 6, 6, 2, 5, 2, 2, 4, 4, 1, 2, 3, 4, 6, 7, 4, 4, 1, 3, 7, 4, 4, 5, 6, 7, 6, 5, 1, 3, 4, 6, 7, 1, 1, 2, 5, 2, 3, 5, 6, 2, 5, 7, 1, 2, 1, 5, 1, 4, 1, 2, 3, 4, 6, 7, 3, 4, 6, 1, 3, 5, 1, 3, 4, 5, 1, 5, 2, 2, 1, 2, 6, 1, 2, 3, 4, 7, 1, 2, 4, 1, 2, 5, 5, 5, 6, 6, 2, 2, 3, 7, 5, 5, 1, 7, 1, 1, 7, 7, 1, 6, 7, 5, 7, 1, 5, 7, 7, 1, 2, 3, 5, 6, 2, 3, 6, 7, 6, 7, 1, 2, 5, 6, 6, 1, 1, 2, 2, 3, 6, 7, 6, 2, 7, 6, 6, 6, 1, 4, 1, 1, 1, 5, 1, 4, 7, 7, 2, 6, 1, 1, 2, 4, 5, 4, 4, 4, 7, 2, 4, 5, 4, 4, 1, 2, 3, 5, 6, 7, 3, 3, 1, 1, 3, 7, 2, 2, 6, 1, 4, 1, 3, 4, 1, 2, 2, 7, 6, 2, 7, 7, 7, 3, 5, 6, 7, 3, 1, 3, 4, 4, 2, 4, 2, 5, 5, 7, 1, 2, 6, 1, 6, 3, 1, 2, 4, 5, 6, 3, 3, 5, 2, 4, 4, 3, 6, 7, 1, 2, 3, 4, 5, 6, 7, 7, 7, 5, 5, 5, 1, 5, 1, 2, 3, 7, 2, 3, 7, 3, 4, 7, 7, 2, 3, 4, 5, 2, 2, 4, 4, 6, 2, 4, 2, 1, 7, 1, 2, 3, 5, 7, 2, 3, 5, 2, 3, 4, 2, 4, 2, 1, 3, 4, 6, 7, 1, 3, 7, 1, 2, 4, 5, 4, 2, 2, 2, 1, 2, 3, 4, 5, 6, 5, 2, 4, 5, 3, 2, 3, 4, 4, 6, 2, 1, 2, 3, 4, 6, 1, 2, 4, 5, 7, 1, 2, 7, 2, 2, 7, 1, 4, 5, 7, 7, 5, 6, 7, 6, 6, 4, 6, 1, 3, 5, 6, 5, 5, 1, 2, 3, 5], \"Freq\": [0.04865978978563627, 0.9245360059270893, 0.780238340565935, 0.05308127620996537, 0.9023816955694113, 0.23718955108655898, 0.711568653259677, 0.7946690361985794, 0.26095023414025653, 0.04349170569004275, 0.0869834113800855, 0.347933645520342, 0.13047511707012827, 0.13047511707012827, 0.06307640505932711, 0.6623022531229348, 0.15769101264831778, 0.09461460758899068, 0.8773361231648283, 0.8773361231648283, 0.7799822223820712, 0.16879451431524736, 0.16879451431524736, 0.5063835429457421, 0.6702602902478949, 0.16756507256197373, 0.7802361638268812, 0.6789178659474787, 0.2909647996917766, 0.15584985143067254, 0.4675495542920176, 0.2337747771460088, 0.07792492571533627, 0.7802383402776244, 0.1934474380672153, 0.12896495871147687, 0.5803423142016458, 0.06448247935573843, 0.06448247935573843, 0.16578359996710101, 0.33156719993420203, 0.49735079990130304, 0.810801353243092, 0.11582876474901313, 0.7975623599065271, 0.7946618041279081, 0.7699041144893809, 0.8676281866918923, 0.7049555236904207, 0.2349851745634736, 0.8773361499619012, 0.7799841995411926, 0.16935152670812953, 0.16935152670812953, 0.5080545801243886, 0.2163726228212771, 0.6058433438995758, 0.04327452456425542, 0.08654904912851084, 0.07291266170202441, 0.8020392787222685, 0.07291266170202441, 0.776666367012429, 0.7946750839417609, 0.25386757214089645, 0.461577403892539, 0.06923661058388085, 0.06923661058388085, 0.11539435097313475, 0.9355489432011062, 0.2932055861600621, 0.5864111723201242, 0.7870823889306319, 0.7802383396937351, 0.3943402841085334, 0.5915104261628, 0.4313425135998389, 0.1797260473332662, 0.39539730413318563, 0.7946748302006406, 0.9454061082500548, 0.9899637740515764, 0.973054182375371, 0.9355489475616613, 0.7825170487999177, 0.19562926219997942, 0.7925918208814728, 0.1666439334706613, 0.6665757338826452, 0.5220554054593604, 0.39154155409452024, 0.772550879847647, 0.7925923294739898, 0.7925923340157202, 0.09324551802383678, 0.04662275901191839, 0.13986827703575516, 0.5128503491311023, 0.18649103604767356, 0.7799848874408821, 0.7802382110249491, 0.11084067831511968, 0.6650440698907181, 0.11084067831511968, 0.05542033915755984, 0.8676292164553742, 0.147229319426507, 0.294458638853014, 0.294458638853014, 0.147229319426507, 0.7925919892327741, 0.7172857510068026, 0.8859929191572041, 0.7946750826686876, 0.5882558382981284, 0.2941279191490642, 0.1470639595745321, 0.38552947525878634, 0.5140393003450485, 0.38552947525878634, 0.5140393003450485, 0.7766661829966558, 0.7766661829966558, 0.07448250478357123, 0.8937900574028547, 0.7150235522842717, 0.8949749192582689, 0.1449227908777752, 0.7970753498277637, 0.0724613954388876, 0.9607338193547065, 0.8956307672391803, 0.79467311837824, 0.7946747222377231, 0.7946747222377231, 0.8520861561459193, 0.7802390205407954, 0.9197343793459563, 0.885999082308281, 0.7804030931801215, 0.8956313751637718, 0.9056139362657009, 0.7766657356192422, 0.5471110210224308, 0.09118517017040514, 0.2735555105112154, 0.8859986434175517, 0.867628395080927, 0.792592343110918, 0.7925922125221281, 0.7725512273004255, 0.7725512273004255, 0.8859990868035433, 0.7150250769376966, 0.7725508810399995, 0.7870823890938287, 0.7894010805292405, 0.19735027013231013, 0.18400144531193824, 0.6746719661437734, 0.12266763020795882, 0.776666367012429, 0.7799826932834909, 0.16694766947530987, 0.6677906779012395, 0.2732936500283632, 0.20497023752127239, 0.4441021812960902, 0.10248511876063619, 0.876392412055106, 0.7799841977923143, 0.772550879094216, 0.772550879094216, 0.7725535106543572, 0.9304188679079255, 0.13189500463628837, 0.13189500463628837, 0.6594750231814418, 0.7925910268299532, 0.6442535739940899, 0.2577014295976359, 0.7766661839949829, 0.1945811819340672, 0.7783247277362688, 0.877014841607496, 0.05112886583889461, 0.10225773167778922, 0.25564432919447305, 0.30677319503336764, 0.15338659751668382, 0.10225773167778922, 0.7799848874541541, 0.779984205087251, 0.19787932738813396, 0.19787932738813396, 0.3957586547762679, 0.8770148318233851, 0.1947975165201356, 0.486993791300339, 0.1947975165201356, 0.0973987582600678, 0.7925880887157547, 0.7725531217600045, 0.4216357161701838, 0.1686542864680735, 0.1686542864680735, 0.08432714323403676, 0.1686542864680735, 0.787082388719059, 0.5876438744120013, 0.14691096860300032, 0.14691096860300032, 0.13013637694101568, 0.13013637694101568, 0.390409130823047, 0.390409130823047, 0.7766661834485044, 0.39313470351200125, 0.5897020552680019, 0.2335295397856776, 0.7005886193570328, 0.8579338328623395, 0.10724172910779244, 0.9454061082848045, 0.7799842084589471, 0.17150988826292318, 0.1286324161971924, 0.2787035684272502, 0.1286324161971924, 0.0643162080985962, 0.23582609636151938, 0.8774577096724584, 0.16982688187118408, 0.6793075274847363, 0.45131725931332606, 0.45131725931332606, 0.09026345186266521, 0.351958976401478, 0.5865982940024633, 0.5282169196760892, 0.42257353574087136, 0.23241179380412758, 0.6972353814123827, 0.8728221605049173, 0.8728221605049173, 0.709438517809216, 0.07882650197880177, 0.15765300395760354, 0.16755741304039445, 0.16755741304039445, 0.3351148260807889, 0.22340988405385928, 0.11170494202692964, 0.16695341621275142, 0.33390683242550284, 0.5008602486382543, 0.787082388719059, 0.28881562724485044, 0.6739031302379843, 0.7725516188410385, 0.7725535098954984, 0.9550656003806831, 0.7925896262558246, 0.930420496750633, 0.5822715181307746, 0.2911357590653873, 0.7946750866820382, 0.7725516188410385, 0.7725516188410385, 0.8290156508969775, 0.11843080727099678, 0.9454049673198235, 0.8859986763651063, 0.7946726785071749, 0.7946734885128182, 0.7090511329949906, 0.7155875382646468, 0.23852917942154894, 0.6992149634897689, 0.23307165449658962, 0.19749533846836326, 0.19749533846836326, 0.5924860154050897, 0.8956293838585857, 0.24624866277213295, 0.06156216569303324, 0.18468649707909973, 0.36937299415819946, 0.18468649707909973, 0.13226743498137694, 0.06613371749068847, 0.46293602243481935, 0.33066858745344235, 0.19925972947788848, 0.5977791884336654, 0.7220081928609445, 0.11400129360962283, 0.11400129360962283, 0.038000431203207605, 0.7925894938597844, 0.7880276592212865, 0.5887880340310231, 0.19626267801034103, 0.14818997211987095, 0.22228495817980642, 0.3704749302996774, 0.25933245120977416, 0.7925923430916215, 0.2372737037652098, 0.7118211112956293, 0.8929871392905018, 0.8929871396887735, 0.7925923441298188, 0.9071269202161378, 0.08246608365601253, 0.7870823888018222, 0.8859979046994892, 0.9676530391680591, 0.7725521007986921, 0.7090559842579859, 0.7799863508971776, 0.7946747230276506, 0.7946680682431679, 0.7766661855097854, 0.7925914150752265, 0.9454055433845278, 0.09997464660812226, 0.19994929321624452, 0.5998478796487337, 0.09997464660812226, 0.7799841982107315, 0.7799841980610517, 0.7052867656443241, 0.23509558854810805, 0.7750194478553717, 0.8336535987563896, 0.1667307197512779, 0.935184460588911, 0.8770142667765554, 0.5834969344137815, 0.15127698299616554, 0.03601832928480132, 0.021610997570880794, 0.13686965128224501, 0.06483299271264238, 0.7802422334047235, 0.7802422334047235, 0.9454055433928108, 0.7870823888515271, 0.39511402268857787, 0.5926710340328668, 0.9304181906737354, 0.776666203603596, 0.7925919892327741, 0.3351660625659242, 0.6703321251318484, 0.2604956425583587, 0.5209912851167174, 0.13024782127917936, 0.7870823889306319, 0.8728219000362138, 0.7766661855097854, 0.7946750847165638, 0.7925898317398521, 0.11934840969348656, 0.835438867854406, 0.8549773739413478, 0.7946748302006406, 0.42625613090082404, 0.31969209817561806, 0.10656403272520601, 0.21312806545041202, 0.8773376687629548, 0.16728208981591963, 0.33456417963183926, 0.5018462694477589, 0.8770160788256401, 0.6987080996866633, 0.23290269989555443, 0.7766666122491018, 0.7725515630653157, 0.8108013532649444, 0.11582876475213491, 0.1686762031118765, 0.337352406223753, 0.5060286093356295, 0.8859984223127548, 0.7925910268299532, 0.7802487379033843, 0.945405835136895, 0.014249058023202685, 0.769449133252945, 0.11399246418562148, 0.0997434061624188, 0.9355489475616613, 0.8773361177148168, 0.8676308834254843, 0.8728236193183933, 0.7799873646474008, 0.7799873646474008, 0.11942891997939595, 0.11942891997939595, 0.7165735198763757, 0.0793198028676663, 0.18507954002455468, 0.0264399342892221, 0.1321996714461105, 0.4494788829167757, 0.1057597371568884, 0.0264399342892221, 0.794672385743422, 0.794672385743422, 0.8676285743375245, 0.8676285743375245, 0.7725522164920021, 0.2324134607366284, 0.6972403822098853, 0.2073431387812938, 0.0691143795937646, 0.5529150367501168, 0.1382287591875292, 0.21426897400649922, 0.3214034610097488, 0.3214034610097488, 0.7221224748104875, 0.09026530935131094, 0.18053061870262188, 0.7946748033129254, 0.5483732630539903, 0.2083818399605163, 0.17547944417727687, 0.06580479156647882, 0.8728224873486949, 0.8728224873486949, 0.7791536365254782, 0.7791536365254782, 0.792589471525034, 0.8728224419186796, 0.7799841975274416, 0.7766661827607797, 0.44660374155387755, 0.44660374155387755, 0.09833753088187591, 0.19667506176375182, 0.09833753088187591, 0.09833753088187591, 0.39335012352750365, 0.24794787837597032, 0.16529858558398022, 0.5785450495439308, 0.51783417263802, 0.25891708631901, 0.25891708631901, 0.7758479047818866, 0.19396197619547165, 0.77666572662164, 0.21441601054742812, 0.42883202109485624, 0.10720800527371406, 0.10720800527371406, 0.10720800527371406, 0.5901500379619363, 0.29507501898096816, 0.07376875474524204, 0.06843308381994867, 0.4448150448296664, 0.34216541909974335, 0.13686616763989734, 0.9351859351248706, 0.9502445305924211, 0.7766659708651141, 0.8301267412341522, 0.03750813604744719, 0.41258949652191906, 0.05626220407117078, 0.24380288430840671, 0.20629474826095953, 0.03750813604744719, 0.7725508823274049, 0.28980664497748987, 0.14490332248874493, 0.4347099674662348, 0.8773383392360645, 0.5816800489611137, 0.03061473941900598, 0.36737687302807176, 0.7799840189746505, 0.792589471525034, 0.7766662040786073, 0.07305855374216799, 0.29223421496867197, 0.511409876195176, 0.07305855374216799, 0.07305855374216799, 0.10364463174173445, 0.6218677904504067, 0.07773347380630084, 0.10364463174173445, 0.10364463174173445, 0.1947651307219455, 0.6816779575268093, 0.09738256536097276, 0.9304181906737354, 0.9035505757334773, 0.7946733998367133, 0.2156784518547071, 0.10783922592735355, 0.10783922592735355, 0.5391961296367678, 0.794674996462918, 0.09920366733473546, 0.7936293386778837, 0.09920366733473546, 0.7925912706324189, 0.7948929246798011, 0.7327239881504317, 0.14654479763008635, 0.4283109344886499, 0.32123320086648743, 0.10707773362216247, 0.21415546724432494, 0.7725526336363774, 0.7725526336363774, 0.16697886452093777, 0.16697886452093777, 0.5009365935628133, 0.08348943226046888], \"Term\": [\"ab\", \"ab\", \"ab test\", \"ab testing\", \"ab testing\", \"access\", \"access\", \"agile\", \"analysis\", \"analysis\", \"analysis\", \"analysis\", \"analysis\", \"analysis\", \"analytics\", \"analytics\", \"analytics\", \"analytics\", \"analytics ab\", \"analytics ab testing\", \"answer\", \"approach\", \"approach\", \"approach\", \"behavioral\", \"behavioral\", \"benchmark\", \"benchmarking\", \"benchmarking\", \"better\", \"better\", \"better\", \"better\", \"better analytics\", \"card\", \"card\", \"card\", \"card\", \"card\", \"card sort\", \"card sort\", \"card sort\", \"card sorting\", \"card sorting\", \"codesign\", \"codesign workshop\", \"competitive\", \"competitive analysis\", \"concept\", \"concept\", \"concept testing\", \"consider\", \"considering\", \"considering\", \"considering\", \"contextual\", \"contextual\", \"contextual\", \"contextual\", \"contextual inquiry\", \"contextual inquiry\", \"contextual inquiry\", \"contextual inquiry user\", \"contextual interview\", \"data\", \"data\", \"data\", \"data\", \"data\", \"data analytics\", \"data science\", \"data science\", \"data scientist\", \"day\", \"deeper\", \"deeper\", \"design\", \"design\", \"design\", \"design design\", \"design research\", \"diary\", \"diary study\", \"diary study contextual\", \"different\", \"different\", \"difficult\", \"digital\", \"digital\", \"doing\", \"doing\", \"don\", \"dunno\", \"eeg\", \"ethnographic\", \"ethnographic\", \"ethnographic\", \"ethnographic\", \"ethnographic\", \"ethnographic study\", \"ethnographic work\", \"ethnography\", \"ethnography\", \"ethnography\", \"ethnography\", \"evaluation\", \"experience\", \"experience\", \"experience\", \"experience\", \"experience sampling\", \"experiment\", \"experimentation\", \"expertise\", \"exploratory\", \"exploratory\", \"exploratory\", \"eye\", \"eye\", \"eye tracking\", \"eye tracking\", \"feasible\", \"feasible given\", \"field\", \"field\", \"field research\", \"field study\", \"focus\", \"focus\", \"focus\", \"focus group\", \"formative\", \"formative research\", \"foundational\", \"foundational research\", \"future\", \"game\", \"generative\", \"generative research\", \"global\", \"good\", \"group\", \"grow\", \"help\", \"help\", \"help\", \"help inform\", \"heuristic\", \"hiring\", \"hoping\", \"improvement\", \"improvement existing\", \"inclusive\", \"incorporate\", \"individual interview\", \"info\", \"inform\", \"inform\", \"inquiry\", \"inquiry\", \"inquiry\", \"inquiry user\", \"interaction\", \"intercept\", \"intercept\", \"interview\", \"interview\", \"interview\", \"interview\", \"interview diary\", \"interview diary study\", \"interview focus\", \"interview focus group\", \"interview observation\", \"journey\", \"just\", \"just\", \"just\", \"just starting\", \"lab\", \"lab\", \"lab testing\", \"large\", \"large\", \"large scale\", \"like\", \"like\", \"like\", \"like\", \"like\", \"like\", \"like ethnographic\", \"likely\", \"live\", \"live\", \"live\", \"ll\", \"longitudinal\", \"longitudinal\", \"longitudinal\", \"longitudinal\", \"longitudinal research\", \"longitudinal study\", \"looking\", \"looking\", \"looking\", \"looking\", \"looking\", \"looking new way\", \"lot\", \"lot\", \"lot\", \"love\", \"love\", \"love\", \"love\", \"main\", \"make\", \"make\", \"making\", \"making\", \"market\", \"market\", \"market research\", \"medical\", \"method\", \"method\", \"method\", \"method\", \"method\", \"method\", \"method research\", \"metric\", \"metric\", \"mixed\", \"mixed\", \"mixed\", \"mixed method\", \"mixed method\", \"moderated\", \"moderated\", \"moderated unmoderated\", \"moderated unmoderated\", \"multivariate\", \"multivariate testing\", \"need\", \"need\", \"need\", \"new\", \"new\", \"new\", \"new\", \"new\", \"new method\", \"new method\", \"new method\", \"new way\", \"observation\", \"observation\", \"observation interview\", \"observation usability\", \"online\", \"online research\", \"onsite\", \"open\", \"open\", \"outcome\", \"participant observation\", \"participant observation interview\", \"participatory\", \"participatory\", \"participatory design\", \"participatory research\", \"particularly\", \"party\", \"plus\", \"point\", \"point\", \"possibly\", \"possibly\", \"probably\", \"probably\", \"probably\", \"process\", \"product\", \"product\", \"product\", \"product\", \"product\", \"qual\", \"qual\", \"qual\", \"qual\", \"qual quant\", \"qual quant\", \"qualitative\", \"qualitative\", \"qualitative\", \"qualitative\", \"qualitative method\", \"qualitative quantitative\", \"qualitative research\", \"qualitative research\", \"quant\", \"quant\", \"quant\", \"quant\", \"quant analysis\", \"quant method\", \"quant method\", \"quant qual\", \"quant research\", \"quant ux\", \"quantitative\", \"quantitative\", \"quantitative data\", \"quantitative qualitative\", \"quantitative research\", \"quantitative survey\", \"rapid\", \"reach\", \"reactive\", \"really\", \"recording\", \"regular\", \"related\", \"remote\", \"remote\", \"remote\", \"remote\", \"remote intercept\", \"remote interview\", \"remote moderated\", \"remote moderated\", \"remote testing\", \"remote unmoderated\", \"remote unmoderated\", \"remote usability\", \"remote usability testing\", \"research\", \"research\", \"research\", \"research\", \"research\", \"research\", \"research ab\", \"research ab testing\", \"research data\", \"research data science\", \"research method\", \"research method\", \"research usability\", \"research usability testing\", \"sampling\", \"scale\", \"scale\", \"science\", \"science\", \"science\", \"scientist\", \"screen\", \"screen recording\", \"secondary research\", \"segmentation\", \"service\", \"service\", \"service design\", \"service design design\", \"session\", \"session\", \"session\", \"session\", \"set\", \"site\", \"site\", \"site\", \"site visit\", \"social\", \"social\", \"social listening\", \"soon\", \"sorting\", \"sorting\", \"specific\", \"specific\", \"specific\", \"start\", \"starting\", \"stay\", \"strategic\", \"study\", \"study\", \"study\", \"study\", \"study contextual\", \"study contextual inquiry\", \"study remote\", \"study survey\", \"study unmoderated\", \"study unmoderated study\", \"sure\", \"sure\", \"sure\", \"survey\", \"survey\", \"survey\", \"survey\", \"survey\", \"survey\", \"survey\", \"survey card\", \"survey card sorting\", \"survey focus\", \"survey focus group\", \"survey interview\", \"task\", \"task\", \"team\", \"team\", \"team\", \"team\", \"technique\", \"technique\", \"technique\", \"test\", \"test\", \"test\", \"test user\", \"testing\", \"testing\", \"testing\", \"testing\", \"testing ab\", \"testing ab testing\", \"testing diary\", \"testing diary study\", \"testing field\", \"testing survey\", \"testing tree\", \"testing user\", \"thinking\", \"thinking\", \"tool\", \"tool\", \"tool\", \"tool\", \"tool\", \"tracking\", \"tracking\", \"tracking\", \"tree\", \"tree\", \"tree\", \"tree testing\", \"tree testing\", \"tree testing card\", \"trying\", \"trying\", \"trying\", \"trying\", \"trying\", \"type\", \"type\", \"type\", \"unmoderated\", \"unmoderated\", \"unmoderated\", \"unmoderated\", \"unmoderated study\", \"unmoderated usability\", \"unmoderated usability study\", \"unmoderated usability testing\", \"usability\", \"usability\", \"usability\", \"usability\", \"usability\", \"usability\", \"usability benchmarking\", \"usability study\", \"usability study\", \"usability study\", \"usability test\", \"usability testing\", \"usability testing\", \"usability testing\", \"usability testing diary\", \"usability testing field\", \"usability testing survey\", \"use\", \"use\", \"use\", \"use\", \"use\", \"user\", \"user\", \"user\", \"user\", \"user\", \"user research\", \"user research\", \"user research\", \"user research usability\", \"user testing\", \"usertesting\", \"using\", \"using\", \"using\", \"using\", \"using tool\", \"ux\", \"ux\", \"ux\", \"ux metric\", \"ux research\", \"visit\", \"visit\", \"way\", \"way\", \"way\", \"way\", \"web\", \"web analytics\", \"work\", \"work\", \"work\", \"work\"]}, \"R\": 30, \"lambda.step\": 0.01, \"plot.opts\": {\"xlab\": \"PC1\", \"ylab\": \"PC2\"}, \"topic.order\": [5, 1, 6, 2, 4, 7, 3]};\n",
       "\n",
       "function LDAvis_load_lib(url, callback){\n",
       "  var s = document.createElement('script');\n",
       "  s.src = url;\n",
       "  s.async = true;\n",
       "  s.onreadystatechange = s.onload = callback;\n",
       "  s.onerror = function(){console.warn(\"failed to load library \" + url);};\n",
       "  document.getElementsByTagName(\"head\")[0].appendChild(s);\n",
       "}\n",
       "\n",
       "if(typeof(LDAvis) !== \"undefined\"){\n",
       "   // already loaded: just create the visualization\n",
       "   !function(LDAvis){\n",
       "       new LDAvis(\"#\" + \"ldavis_el319141123779194325442395010\", ldavis_el319141123779194325442395010_data);\n",
       "   }(LDAvis);\n",
       "}else if(typeof define === \"function\" && define.amd){\n",
       "   // require.js is available: use it to load d3/LDAvis\n",
       "   require.config({paths: {d3: \"https://cdnjs.cloudflare.com/ajax/libs/d3/3.5.5/d3.min\"}});\n",
       "   require([\"d3\"], function(d3){\n",
       "      window.d3 = d3;\n",
       "      LDAvis_load_lib(\"https://cdn.rawgit.com/bmabey/pyLDAvis/files/ldavis.v1.0.0.js\", function(){\n",
       "        new LDAvis(\"#\" + \"ldavis_el319141123779194325442395010\", ldavis_el319141123779194325442395010_data);\n",
       "      });\n",
       "    });\n",
       "}else{\n",
       "    // require.js not available: dynamically load d3 & LDAvis\n",
       "    LDAvis_load_lib(\"https://cdnjs.cloudflare.com/ajax/libs/d3/3.5.5/d3.min.js\", function(){\n",
       "         LDAvis_load_lib(\"https://cdn.rawgit.com/bmabey/pyLDAvis/files/ldavis.v1.0.0.js\", function(){\n",
       "                 new LDAvis(\"#\" + \"ldavis_el319141123779194325442395010\", ldavis_el319141123779194325442395010_data);\n",
       "            })\n",
       "         });\n",
       "}\n",
       "</script>"
      ],
      "text/plain": [
       "PreparedData(topic_coordinates=              x         y  topics  cluster       Freq\n",
       "topic                                                \n",
       "4     -0.155515 -0.019310       1        1  18.383867\n",
       "0      0.098572  0.076145       2        1  17.342910\n",
       "5     -0.034650  0.190805       3        1  15.360740\n",
       "1      0.232345 -0.018043       4        1  14.814612\n",
       "3      0.079071 -0.120589       5        1  14.021465\n",
       "6     -0.094342 -0.123594       6        1  10.417755\n",
       "2     -0.125480  0.014586       7        1   9.658652, topic_info=    Category        Freq         Term       Total  loglift  logprob\n",
       "434  Default   70.000000        study   70.000000  30.0000  30.0000\n",
       "90   Default   39.000000        diary   39.000000  29.0000  29.0000\n",
       "371  Default  138.000000     research  138.000000  28.0000  28.0000\n",
       "91   Default   35.000000  diary study   35.000000  27.0000  27.0000\n",
       "459  Default   91.000000      testing   91.000000  26.0000  26.0000\n",
       "..       ...         ...          ...         ...      ...      ...\n",
       "514   Topic7    3.870691         user   38.593412   0.0377  -4.3548\n",
       "10    Topic7    3.314935     analysis   22.992890   0.4006  -4.5098\n",
       "204   Topic7    2.706472    interview   29.272543  -0.0437  -4.7126\n",
       "228   Topic7    2.392701         like   19.558423   0.2363  -4.8358\n",
       "275   Topic7    2.088149          new   17.904311   0.1886  -4.9720\n",
       "\n",
       "[386 rows x 6 columns], token_table=      Topic      Freq           Term\n",
       "term                                \n",
       "0         2  0.048660             ab\n",
       "0         3  0.924536             ab\n",
       "1         3  0.780238        ab test\n",
       "2         2  0.053081     ab testing\n",
       "2         3  0.902382     ab testing\n",
       "...     ...       ...            ...\n",
       "534       5  0.772553  web analytics\n",
       "536       1  0.166979           work\n",
       "536       2  0.166979           work\n",
       "536       3  0.500937           work\n",
       "536       5  0.083489           work\n",
       "\n",
       "[527 rows x 3 columns], R=30, lambda_step=0.01, plot_opts={'xlab': 'PC1', 'ylab': 'PC2'}, topic_order=[5, 1, 6, 2, 4, 7, 3])"
      ]
     },
     "execution_count": 22,
     "metadata": {},
     "output_type": "execute_result"
    }
   ],
   "source": [
    "pyLDAvis.sklearn.prepare(lda7, future_res_matrix, future_res_vector)"
   ]
  },
  {
   "cell_type": "markdown",
   "metadata": {},
   "source": [
    "#### Topic groups (4)\n",
    "1. ab testing\n",
    "2. quantitative\n",
    "3. diary study\n",
    "4. participatory\n",
    "\n",
    "#### Topic groups (6) - 4 & 6 overlap\n",
    "1. quantitative\n",
    "2. usability testing\n",
    "3. field\n",
    "4. analytics\n",
    "5. diary study\n",
    "6. journey\n",
    "\n",
    "#### Topic groups (8) - 5 is almost completely within 2; 6 & 8 overlap\n",
    "1. quantitative\n",
    "2. unmoderated usability\n",
    "3. diary study\n",
    "4. ab testing\n",
    "5. ux\n",
    "6. focus group\n",
    "7. ethnographic\n",
    "8. field study\n"
   ]
  },
  {
   "cell_type": "code",
   "execution_count": null,
   "metadata": {},
   "outputs": [],
   "source": [
    "#8 topics"
   ]
  },
  {
   "cell_type": "code",
   "execution_count": 34,
   "metadata": {},
   "outputs": [],
   "source": [
    "lda_W7 = lda7.transform(future_res_matrix)"
   ]
  },
  {
   "cell_type": "code",
   "execution_count": 35,
   "metadata": {},
   "outputs": [],
   "source": [
    "top_doc_column7 = datadf.future_res.dropna()"
   ]
  },
  {
   "cell_type": "code",
   "execution_count": 36,
   "metadata": {},
   "outputs": [],
   "source": [
    "word_count_matrix7, count_vect7 = nlp.create_wordcount_matrix(datadf.future_res.dropna(), max_df=0.8, min_df=2, ngram=(1,3))"
   ]
  },
  {
   "cell_type": "code",
   "execution_count": 37,
   "metadata": {},
   "outputs": [
    {
     "data": {
      "text/plain": [
       "LatentDirichletAllocation(batch_size=128, doc_topic_prior=None,\n",
       "                          evaluate_every=-1, learning_decay=0.7,\n",
       "                          learning_method='batch', learning_offset=10.0,\n",
       "                          max_doc_update_iter=100, max_iter=10,\n",
       "                          mean_change_tol=0.001, n_components=5, n_jobs=None,\n",
       "                          perp_tol=0.1, random_state=42, topic_word_prior=None,\n",
       "                          total_samples=1000000.0, verbose=0)"
      ]
     },
     "execution_count": 37,
     "metadata": {},
     "output_type": "execute_result"
    }
   ],
   "source": [
    "LDA7a = LatentDirichletAllocation(n_components=5, random_state=42)\n",
    "LDA7a.fit(word_count_matrix7)"
   ]
  },
  {
   "cell_type": "code",
   "execution_count": 38,
   "metadata": {},
   "outputs": [],
   "source": [
    "lda_H = LDA7a.transform(word_count_matrix7)"
   ]
  },
  {
   "cell_type": "code",
   "execution_count": 39,
   "metadata": {},
   "outputs": [
    {
     "name": "stdout",
     "output_type": "stream",
     "text": [
      "Top 3 Documents for Topic 0: \n",
      "\n",
      "Document 1\n",
      "user experience research workshop survey interview usability testing benchmark card sorting etc and i would like to delve deeper in analytics\n",
      "\n",
      "Document 2\n",
      "doing more strategic piece to help inform the product strategy early on before the okrs are set have fundamental understanding our user in different market since we have a global product and we havent done a lot of thinking around localized content and market difference doing information architecture research\n",
      "\n",
      "Document 3\n",
      "abn multivariate testing analytic research behavioural research card sortingtree testing content auditing experience mapping information architecture ia lab testing build persona development research participant recruitment management scenariotask mapping survey design analysis usability testing userstakeholder interview workshop\n",
      "\n",
      "Top 3 Documents for Topic 1: \n",
      "\n",
      "Document 1\n",
      "much more usability testing heatmappingbehavior tracking along the line of what pendoio offer exploratory contextual day in the life of a customer looking for new opportunity or way we can improve their life\n",
      "\n",
      "Document 2\n",
      "more user interview moderated testing tree testing diary study\n",
      "\n",
      "Document 3\n",
      "diary study contextual inquiry card sort tree test\n",
      "\n",
      "Top 3 Documents for Topic 2: \n",
      "\n",
      "Document 1\n",
      "hopefully incorporating more traditional style of research both qual and quant into our ux research practice\n",
      "\n",
      "Document 2\n",
      "deeper ethnographic research ab testing quant data analysis\n",
      "\n",
      "Document 3\n",
      "i'd love to grow our user research to a better understanding of people's journey across our many tool and channel we have persona and lot of quant stuff but very little around journey reason people attend drop out etc\n",
      "\n",
      "Top 3 Documents for Topic 3: \n",
      "\n",
      "Document 1\n",
      "i'd love to just flatout assemble a customer council database so that we can engage in more frequent and lighterweight customer research session a i've done at previous job but there are major cultural hurdle managing saleschannel partner relationship and mistrust etc this is still my major goal that i don't want to fully give up on though\n",
      "\n",
      "Document 2\n",
      "survey interview focus group secondary data qualitative coding field testing observation usability study\n",
      "\n",
      "Document 3\n",
      "same interview focus group prototyping for feedback usability study remote and in person moderated and unmoderated task analysis idea mapping competitive analysis heuristic evaluation contextual inquiry usability analytics feedback tool in the product\n",
      "\n",
      "Top 3 Documents for Topic 4: \n",
      "\n",
      "Document 1\n",
      "i personally have always been curious if there's a cannon of ethnographic research related to various job function for example task analysis for pharmacist while this would lend specific client info it could help inform where to focus research and reduce some upfront duplicate factfinding\n",
      "\n",
      "Document 2\n",
      "looking to use a lot more qualitative research specifically human centered design thinking inclusive of combing the context of data with it's purpose and intention to satisfy a business need or objective\n",
      "\n",
      "Document 3\n",
      "now we are opening research to our builder and reviewing quantitative collector such a pendo and defining standardised keis so we expect to have continuous product validation research run by product people apart from some core research drill that we are going to keep running also we are thinking about including a librarian role that could help u to maintain the learning in a scalable repository that we could feed and share a easily a possible\n",
      "\n"
     ]
    }
   ],
   "source": [
    "nlp.find_top_documents_per_topic(lda_H, top_doc_column7, 3)\n"
   ]
  },
  {
   "cell_type": "markdown",
   "metadata": {},
   "source": [
    "## 10. Describe your educational background with research"
   ]
  },
  {
   "cell_type": "code",
   "execution_count": 23,
   "metadata": {},
   "outputs": [],
   "source": [
    "datadf.research_educ_desc = datadf.research_educ_desc.dropna().apply(nlp.basic_clean)\n",
    "datadf.research_educ_desc = datadf.research_educ_desc.dropna().apply(nlp.lemmatize)"
   ]
  },
  {
   "cell_type": "code",
   "execution_count": 24,
   "metadata": {},
   "outputs": [
    {
     "data": {
      "text/plain": [
       "(<540x1118 sparse matrix of type '<class 'numpy.int64'>'\n",
       " \twith 6604 stored elements in Compressed Sparse Row format>,\n",
       " CountVectorizer(analyzer='word', binary=False, decode_error='strict',\n",
       "                 dtype=<class 'numpy.int64'>, encoding='utf-8', input='content',\n",
       "                 lowercase=True, max_df=0.3, max_features=None, min_df=2,\n",
       "                 ngram_range=(1, 3), preprocessor=None, stop_words='english',\n",
       "                 strip_accents=None, token_pattern='(?u)\\\\b\\\\w\\\\w+\\\\b',\n",
       "                 tokenizer=None, vocabulary=None))"
      ]
     },
     "execution_count": 24,
     "metadata": {},
     "output_type": "execute_result"
    }
   ],
   "source": [
    "research_educ_desc_matrix, research_educ_desc_vector = nlp.create_wordcount_matrix(datadf.research_educ_desc.dropna(), ngram=(1,3), max_df=.3)\n",
    "research_educ_desc_matrix, research_educ_desc_vector"
   ]
  },
  {
   "cell_type": "code",
   "execution_count": 31,
   "metadata": {},
   "outputs": [],
   "source": [
    "lda10 = LatentDirichletAllocation(n_components= 4, random_state = 42)"
   ]
  },
  {
   "cell_type": "code",
   "execution_count": 32,
   "metadata": {},
   "outputs": [
    {
     "data": {
      "text/plain": [
       "LatentDirichletAllocation(batch_size=128, doc_topic_prior=None,\n",
       "                          evaluate_every=-1, learning_decay=0.7,\n",
       "                          learning_method='batch', learning_offset=10.0,\n",
       "                          max_doc_update_iter=100, max_iter=10,\n",
       "                          mean_change_tol=0.001, n_components=4, n_jobs=None,\n",
       "                          perp_tol=0.1, random_state=42, topic_word_prior=None,\n",
       "                          total_samples=1000000.0, verbose=0)"
      ]
     },
     "execution_count": 32,
     "metadata": {},
     "output_type": "execute_result"
    }
   ],
   "source": [
    "lda10.fit(research_educ_desc_matrix)"
   ]
  },
  {
   "cell_type": "code",
   "execution_count": 33,
   "metadata": {},
   "outputs": [
    {
     "data": {
      "text/html": [
       "\n",
       "<link rel=\"stylesheet\" type=\"text/css\" href=\"https://cdn.rawgit.com/bmabey/pyLDAvis/files/ldavis.v1.0.0.css\">\n",
       "\n",
       "\n",
       "<div id=\"ldavis_el319141123762346568232637925\"></div>\n",
       "<script type=\"text/javascript\">\n",
       "\n",
       "var ldavis_el319141123762346568232637925_data = {\"mdsDat\": {\"x\": [-0.021394631131884476, -0.060931863025803855, 0.16849039880401215, -0.08616390464632387], \"y\": [-0.019894503149425324, -0.12245389094942902, 0.017193167873573792, 0.12515522622528052], \"topics\": [1, 2, 3, 4], \"cluster\": [1, 1, 1, 1], \"Freq\": [32.46790348548909, 25.847321651832267, 20.886477907252107, 20.798296955426547]}, \"tinfo\": {\"Category\": [\"Default\", \"Default\", \"Default\", \"Default\", \"Default\", \"Default\", \"Default\", \"Default\", \"Default\", \"Default\", \"Default\", \"Default\", \"Default\", \"Default\", \"Default\", \"Default\", \"Default\", \"Default\", \"Default\", \"Default\", \"Default\", \"Default\", \"Default\", \"Default\", \"Default\", \"Default\", \"Default\", \"Default\", \"Default\", \"Default\", \"Topic1\", \"Topic1\", \"Topic1\", \"Topic1\", \"Topic1\", \"Topic1\", \"Topic1\", \"Topic1\", \"Topic1\", \"Topic1\", \"Topic1\", \"Topic1\", \"Topic1\", \"Topic1\", \"Topic1\", \"Topic1\", \"Topic1\", \"Topic1\", \"Topic1\", \"Topic1\", \"Topic1\", \"Topic1\", \"Topic1\", \"Topic1\", \"Topic1\", \"Topic1\", \"Topic1\", \"Topic1\", \"Topic1\", \"Topic1\", \"Topic1\", \"Topic1\", \"Topic1\", \"Topic1\", \"Topic1\", \"Topic1\", \"Topic1\", \"Topic1\", \"Topic1\", \"Topic1\", \"Topic1\", \"Topic1\", \"Topic1\", \"Topic1\", \"Topic1\", \"Topic1\", \"Topic1\", \"Topic1\", \"Topic1\", \"Topic1\", \"Topic1\", \"Topic1\", \"Topic1\", \"Topic1\", \"Topic1\", \"Topic1\", \"Topic1\", \"Topic1\", \"Topic1\", \"Topic1\", \"Topic1\", \"Topic1\", \"Topic1\", \"Topic1\", \"Topic1\", \"Topic1\", \"Topic2\", \"Topic2\", \"Topic2\", \"Topic2\", \"Topic2\", \"Topic2\", \"Topic2\", \"Topic2\", \"Topic2\", \"Topic2\", \"Topic2\", \"Topic2\", \"Topic2\", \"Topic2\", \"Topic2\", \"Topic2\", \"Topic2\", \"Topic2\", \"Topic2\", \"Topic2\", \"Topic2\", \"Topic2\", \"Topic2\", \"Topic2\", \"Topic2\", \"Topic2\", \"Topic2\", \"Topic2\", \"Topic2\", \"Topic2\", \"Topic2\", \"Topic2\", \"Topic2\", \"Topic2\", \"Topic2\", \"Topic2\", \"Topic2\", \"Topic2\", \"Topic2\", \"Topic2\", \"Topic2\", \"Topic2\", \"Topic2\", \"Topic2\", \"Topic2\", \"Topic2\", \"Topic2\", \"Topic2\", \"Topic2\", \"Topic2\", \"Topic2\", \"Topic2\", \"Topic2\", \"Topic2\", \"Topic2\", \"Topic2\", \"Topic2\", \"Topic2\", \"Topic2\", \"Topic2\", \"Topic2\", \"Topic2\", \"Topic2\", \"Topic2\", \"Topic2\", \"Topic3\", \"Topic3\", \"Topic3\", \"Topic3\", \"Topic3\", \"Topic3\", \"Topic3\", \"Topic3\", \"Topic3\", \"Topic3\", \"Topic3\", \"Topic3\", \"Topic3\", \"Topic3\", \"Topic3\", \"Topic3\", \"Topic3\", \"Topic3\", \"Topic3\", \"Topic3\", \"Topic3\", \"Topic3\", \"Topic3\", \"Topic3\", \"Topic3\", \"Topic3\", \"Topic3\", \"Topic3\", \"Topic3\", \"Topic3\", \"Topic3\", \"Topic3\", \"Topic3\", \"Topic3\", \"Topic3\", \"Topic3\", \"Topic3\", \"Topic3\", \"Topic3\", \"Topic3\", \"Topic3\", \"Topic3\", \"Topic3\", \"Topic3\", \"Topic3\", \"Topic3\", \"Topic3\", \"Topic3\", \"Topic3\", \"Topic3\", \"Topic3\", \"Topic3\", \"Topic3\", \"Topic3\", \"Topic3\", \"Topic4\", \"Topic4\", \"Topic4\", \"Topic4\", \"Topic4\", \"Topic4\", \"Topic4\", \"Topic4\", \"Topic4\", \"Topic4\", \"Topic4\", \"Topic4\", \"Topic4\", \"Topic4\", \"Topic4\", \"Topic4\", \"Topic4\", \"Topic4\", \"Topic4\", \"Topic4\", \"Topic4\", \"Topic4\", \"Topic4\", \"Topic4\", \"Topic4\", \"Topic4\", \"Topic4\", \"Topic4\", \"Topic4\", \"Topic4\", \"Topic4\", \"Topic4\", \"Topic4\", \"Topic4\", \"Topic4\", \"Topic4\", \"Topic4\", \"Topic4\", \"Topic4\", \"Topic4\", \"Topic4\", \"Topic4\", \"Topic4\", \"Topic4\", \"Topic4\", \"Topic4\", \"Topic4\", \"Topic4\", \"Topic4\", \"Topic4\", \"Topic4\", \"Topic4\", \"Topic4\", \"Topic4\", \"Topic4\", \"Topic4\", \"Topic4\", \"Topic4\", \"Topic4\", \"Topic4\", \"Topic4\", \"Topic4\"], \"Freq\": [129.0, 101.0, 70.0, 90.0, 74.0, 39.0, 65.0, 18.0, 45.0, 21.0, 26.0, 29.0, 22.0, 32.0, 16.0, 22.0, 15.0, 29.0, 160.0, 12.0, 12.0, 24.0, 33.0, 75.0, 21.0, 11.0, 19.0, 10.0, 10.0, 40.0, 8.180761012084904, 7.298291489773057, 7.293238406291349, 6.414219293341121, 5.531188256913189, 5.529993658458544, 5.5260777791803495, 4.644112337528795, 4.644112337528796, 4.64411233752879, 4.643585453703834, 4.628922495122579, 4.6020222518925795, 4.553206122101535, 3.75725996244066, 3.756440421230385, 3.756310732464475, 3.7556720419035745, 3.7532952172435508, 3.7526720210487574, 3.742277125591362, 21.651149476414474, 3.7371330794698805, 8.815403200043946, 2.8770496228342077, 2.8770362930117304, 2.8770227652141345, 2.877006952135962, 2.877000925410448, 2.8769893321828857, 13.739940878102756, 9.580558094126049, 17.194492547499205, 5.5342551565604525, 25.335996817093623, 48.70723169920531, 13.547109559814993, 43.65560331356375, 66.29794545706413, 78.20141143394532, 36.17985359739073, 15.127287017620686, 6.406745096366111, 38.53264580553715, 16.52034814713647, 13.861874568601928, 15.26482856413604, 16.47218071043383, 15.615711246291772, 7.310286168753669, 12.667795779428825, 11.275239934563123, 12.283799599884722, 14.84442898945839, 19.636255560564877, 10.409365360896103, 12.559124522739795, 19.266614346614055, 12.5028236574771, 12.41823520289614, 11.57002881148032, 12.803976131123523, 10.689175903863754, 13.051421186614705, 12.029992154466349, 12.871903295731869, 8.885533887274542, 8.884031925529111, 7.160932693048388, 5.426090055406376, 5.421524831785259, 4.559596937618319, 4.551535403488896, 4.550642738889823, 3.6910834477624976, 3.6905285603540645, 3.6899544143335037, 3.6892636165472, 3.6892636165469175, 3.6853711919918033, 3.6811618522681577, 5.113788133069802, 8.708881146780799, 17.977812745697832, 2.822601718709145, 2.8225855718902144, 2.8225599437757385, 2.8218238849148136, 2.8209863092471386, 2.818837596922445, 2.818837596909943, 2.8182929159025507, 2.817560974555166, 2.8170499196399583, 2.8166924896920205, 2.816086232853077, 20.708551830821616, 5.411181253070676, 9.548113322782976, 21.818409136799808, 5.952921477009283, 16.330378725614175, 8.778359019160495, 12.06670989520527, 4.557237258095599, 6.240008734061902, 46.766872401665836, 13.88111504661621, 22.977197644413536, 13.449005838058214, 26.805681627881413, 13.120990739266775, 49.37940552709395, 11.447412801807637, 11.52916470779265, 33.677811348077874, 23.440355609892983, 11.35424809096206, 20.168531361191008, 16.212467242123545, 16.135956736706767, 10.200838099680105, 26.45026711542417, 21.687525711646646, 10.758306835733277, 12.029569430025791, 16.13466480801255, 10.06653656094606, 9.975679561544819, 10.021599800004193, 10.099201139017666, 11.950010875846692, 10.261949775863819, 10.26194977542516, 7.760818507348278, 7.760818507348278, 7.760818507348278, 6.059208803584099, 5.244157332752571, 5.233652265190929, 14.110553664071439, 4.404125645367522, 4.400205759418275, 4.399455992207498, 4.396592153503955, 4.396592150493001, 4.389770760477085, 4.389401587280177, 4.3631140269350555, 3.559783657546082, 3.5584351336047884, 3.557705772930094, 3.555867199141526, 4.239535700484281, 3.5018044743374244, 2.726948635808229, 2.7251195479245607, 2.72473793946211, 2.7245933769693647, 2.7244747533286047, 2.724424080154758, 10.516112476289013, 27.229006650329502, 16.319463979507173, 6.933684617779188, 17.872968954178404, 57.714974575363776, 70.54997459738412, 18.18441407102835, 24.01748484244592, 11.913028115742389, 17.638245282683943, 6.38703095473105, 9.998761150332342, 17.304384002938598, 20.845607289480885, 14.023032854429545, 19.6853370988495, 26.954972755573618, 14.211388523089878, 8.610628863785312, 13.08484559218567, 12.541456787260618, 7.6552324653792585, 11.406143360384911, 9.069987916034268, 17.94626368655281, 12.053265301942988, 11.056591677096314, 14.513550239296437, 4.440119758814708, 4.436581321175022, 4.431747765958497, 18.1466948439923, 3.595294183597652, 3.5952941835976513, 3.5911936845993053, 3.5886776820455184, 3.5870294306352175, 3.582139440564106, 3.580725470983625, 3.5762528294339226, 3.511423044280979, 2.7493379288422064, 2.748869556020327, 2.74844304006585, 2.748393567881293, 2.7475625549479123, 2.746637042991927, 2.745706908009907, 2.7451012560802512, 2.745101256080241, 2.7438088960808513, 2.7424803123792154, 2.7357186318730613, 2.7343430659131287, 8.074867586913973, 15.866292547330142, 12.0457140190805, 36.062524654960136, 5.492488896652441, 35.61472339307478, 4.3640239270263965, 4.87798638960979, 26.472746187563498, 13.870524364481911, 6.360550455113076, 25.084919924233603, 12.8085092858745, 12.732867688584692, 11.191016090982004, 10.498027234738949, 15.021574983088849, 25.429833153555396, 10.109795511600165, 10.960324905864807, 11.221421712351537, 8.000507545644986, 7.540150294158035, 9.67413599482103, 9.32786399610114, 8.663483878857717, 10.661343714109806, 7.622136227433251, 12.352716442233797, 8.109497211638574, 8.241631837237028, 8.88389432447741], \"Term\": [\"master\", \"degree\", \"psychology\", \"course\", \"phd\", \"master degree\", \"ux\", \"experimental\", \"science\", \"cognitive\", \"social\", \"grad\", \"sociology\", \"did\", \"ma\", \"workshop\", \"social science\", \"interaction\", \"design\", \"experimental psychology\", \"computer\", \"grad school\", \"anthropology\", \"study\", \"education\", \"completed\", \"focus\", \"humancomputer\", \"humancomputer interaction\", \"hci\", \"class participated\", \"ethnographic research\", \"took class participated\", \"class wa\", \"psychology degree\", \"information design\", \"experienced\", \"factor information\", \"factor information design\", \"human factor information\", \"participated study\", \"educational\", \"class participated running\", \"degree took\", \"experienced researcher\", \"hci research\", \"conduct ethnographic\", \"design course\", \"statistic course\", \"company\", \"mfa\", \"participated\", \"way\", \"participated running\", \"10\", \"proposal\", \"graduate study\", \"took online\", \"studying\", \"took class wa\", \"ethnographic\", \"group\", \"statistic\", \"participated running study\", \"took class\", \"took\", \"field\", \"study\", \"class\", \"design\", \"wa\", \"majored\", \"student\", \"course\", \"project\", \"analysis\", \"university\", \"worked\", \"program\", \"running study\", \"taught\", \"information\", \"learned\", \"hci\", \"psychology\", \"running\", \"factor\", \"method\", \"job\", \"year\", \"human factor\", \"human\", \"studied\", \"degree\", \"ux\", \"master\", \"formal\", \"research assistant\", \"research course\", \"module\", \"yr\", \"design design\", \"formal education\", \"undergraduate graduate\", \"course grad\", \"helping\", \"digital\", \"degree industrial design\", \"degree industrial\", \"just\", \"online class\", \"self\", \"assistant\", \"education\", \"course grad school\", \"design design research\", \"qrca\", \"graduate school\", \"course ux\", \"applied qualitative research\", \"applied qualitative\", \"research module\", \"anthropologist\", \"analyst\", \"qualitative quantitative\", \"psychologist\", \"grad\", \"information science\", \"qualitative research\", \"did\", \"went\", \"grad school\", \"professional\", \"focused\", \"industry\", \"user experience\", \"course\", \"user\", \"school\", \"qualitative\", \"ux\", \"included\", \"design\", \"experience\", \"learning\", \"master\", \"method\", \"design research\", \"wa\", \"research method\", \"science\", \"ux research\", \"class\", \"degree\", \"graduate\", \"undergrad\", \"phd\", \"information\", \"book\", \"conference\", \"program\", \"computer\", \"humancomputer\", \"humancomputer interaction\", \"human computer interaction\", \"human computer\", \"computer interaction\", \"graduate degree\", \"degree psychology\", \"science research\", \"social science\", \"phd sociology\", \"bsc\", \"research focus\", \"cultural\", \"cultural anthropology\", \"social science research\", \"degree human\", \"computer science\", \"theory\", \"ran study\", \"master degree human\", \"half\", \"master hci\", \"degree human factor\", \"bachelor degree psychology\", \"studied master\", \"master degree hci\", \"degree master\", \"interaction degree\", \"sociology master\", \"msc\", \"master degree\", \"sociology\", \"bachelor degree\", \"social\", \"degree\", \"master\", \"interaction\", \"science\", \"focus\", \"anthropology\", \"master human\", \"bachelor\", \"human\", \"study\", \"hci\", \"phd\", \"design\", \"psychology\", \"studied\", \"method\", \"took\", \"undergraduate\", \"class\", \"research method\", \"experimental\", \"experimental psychology\", \"completed\", \"ma\", \"phd psychology\", \"conference workshop\", \"covered\", \"cognitive\", \"phd experimental psychology\", \"phd experimental\", \"phd cognitive\", \"emphasis\", \"psychology class\", \"day\", \"ma social\", \"experimental design\", \"phd anthropology\", \"class project\", \"social research\", \"lot job\", \"phd cognitive psychology\", \"ethnographic method\", \"job training\", \"psychology undergrad\", \"factor engineering\", \"human factor engineering\", \"completed ux\", \"workshop ux\", \"know\", \"master cognitive\", \"cognitive psychology\", \"workshop\", \"lab\", \"psychology\", \"usability testing\", \"phd\", \"seminar\", \"general\", \"ux\", \"job\", \"testing\", \"method\", \"human factor\", \"factor\", \"conference\", \"book\", \"human\", \"class\", \"learned\", \"undergrad\", \"hci\", \"lot\", \"usability\", \"anthropology\", \"worked\", \"training\", \"research method\", \"ux research\", \"master\", \"grad\", \"school\", \"degree\"], \"Total\": [129.0, 101.0, 70.0, 90.0, 74.0, 39.0, 65.0, 18.0, 45.0, 21.0, 26.0, 29.0, 22.0, 32.0, 16.0, 22.0, 15.0, 29.0, 160.0, 12.0, 12.0, 24.0, 33.0, 75.0, 21.0, 11.0, 19.0, 10.0, 10.0, 40.0, 8.826618725412274, 7.941521164715576, 7.9412453091470185, 7.056310410992003, 6.171156723700175, 6.1710940340249465, 6.171074195360544, 5.28580435482452, 5.285804354824521, 5.285804354824519, 5.285906917573311, 5.285023782345099, 5.283635802106068, 5.281864800181152, 4.400630937229769, 4.400466660819225, 4.400460977341358, 4.4005629893309495, 4.400448311657153, 4.400300568078028, 4.3996839579497715, 25.481180198801955, 4.400188733159429, 10.537890346575715, 3.5154698694080984, 3.515469318911034, 3.5154687689616213, 3.515468225586798, 3.5154679537831623, 3.5154674612326966, 17.53303156813484, 12.255958863061199, 22.73762019856638, 7.01041819659467, 35.75820905473655, 78.43294844811776, 19.2343566618335, 75.45997117271648, 129.5841890864286, 160.18845583197557, 66.38179219481425, 26.156563237499235, 8.734302958628254, 90.90215714327095, 30.296751963990083, 24.380391316029755, 27.876219216722895, 31.28540418999122, 31.40816017694644, 10.466216303968501, 25.253131698387225, 22.746961860468232, 26.879266244652285, 40.309816107281314, 70.12981419125344, 21.634110266308657, 31.81226379659656, 80.87673547292631, 31.99436669579851, 31.99517910378377, 30.922203619389933, 47.871403063215546, 24.147458830806855, 101.33781579810254, 65.52124024050298, 129.45240568342766, 9.544581090073654, 9.544504294394379, 7.807653535045447, 6.070743795792525, 6.070537840756037, 5.202206546346789, 5.202044584778852, 5.202377441324523, 4.333704972146278, 4.333715498741611, 4.333726443440625, 4.333643145511427, 4.333643145511418, 4.33362723086891, 4.333850211552144, 6.070454273285575, 10.38593304141794, 21.614002161056657, 3.4652038179292184, 3.4652035326003405, 3.4652030360424684, 3.46521796752789, 3.465232182865954, 3.465076671560706, 3.465076671560283, 3.465282532192437, 3.465199157758202, 3.465060228652865, 3.4650044973953844, 3.465063962808892, 29.308145953615657, 6.95615427121214, 12.93889475314183, 32.309390438696035, 7.830910735029474, 24.11910384070228, 12.185812192580713, 18.224520847465744, 6.041244308278629, 8.710506988416853, 90.90215714327095, 22.724668775597724, 44.223245819681004, 23.42132974945809, 65.52124024050298, 25.143423557578355, 160.18845583197557, 21.003519351845714, 21.82147150294341, 129.45240568342766, 80.87673547292631, 24.39324838721507, 66.38179219481425, 45.61148012267607, 45.258952071384044, 21.568776493639966, 129.5841890864286, 101.33781579810254, 26.05431142638893, 33.58079673845804, 74.85381002756205, 22.746961860468232, 24.095586093311134, 26.605602322147245, 31.40816017694644, 12.60683929818225, 10.929004994820781, 10.929004994836031, 8.411356381995118, 8.411356381995118, 8.411356381995118, 6.733991845719973, 5.89413495548793, 5.894371575702046, 15.985432734229764, 5.055095843892865, 5.055232750497227, 5.055351655369147, 5.055370250360978, 5.0553702504929925, 5.055392387984623, 5.055299049225351, 5.055629612043115, 4.216208548381551, 4.216301766523293, 4.216194974552989, 4.216106382314015, 5.064108019881634, 4.216662884151417, 3.376917881538645, 3.376933280547165, 3.376995330901374, 3.3770003697920012, 3.3769560493495168, 3.377006469304771, 13.495728925628223, 39.86250358731007, 22.989269028129833, 9.28643161116086, 26.971780496422603, 101.33781579810254, 129.45240568342766, 29.851074287845318, 45.258952071384044, 19.690797566535906, 33.87981110318937, 9.268747732544853, 18.782412445398712, 47.871403063215546, 75.45997117271648, 40.309816107281314, 74.85381002756205, 160.18845583197557, 70.12981419125344, 24.147458830806855, 80.87673547292631, 78.43294844811776, 20.646390564910202, 129.5841890864286, 45.61148012267607, 18.626362935943497, 12.703299077587792, 11.864230090496202, 16.12978721254236, 5.089537056822068, 5.089652809331689, 5.089496386231036, 21.271834585776567, 4.243577514851379, 4.243577514851378, 4.24370096480493, 4.243614956906671, 4.243508982314998, 4.243919064182106, 4.243674353423073, 4.244065258283061, 4.24324709321817, 3.397608259811371, 3.3976048923077653, 3.397625337759287, 3.3976527546473183, 3.3975944340203474, 3.3976733682591096, 3.397746965477565, 3.3975733106019854, 3.3975733106019854, 3.3977054093136023, 3.397790687742927, 3.3981270313284444, 3.3980068026315036, 10.232116511259097, 22.156010652279157, 17.076352521372662, 70.12981419125344, 7.696171889845367, 74.85381002756205, 5.9600669655273215, 6.839779310722541, 65.52124024050298, 31.99436669579851, 11.196894589451396, 80.87673547292631, 30.922203619389933, 31.81226379659656, 26.605602322147245, 24.095586093311134, 47.871403063215546, 129.5841890864286, 26.879266244652285, 33.58079673845804, 40.309816107281314, 20.70547934603944, 19.025457780897543, 33.87981110318937, 31.28540418999122, 26.744575065061525, 45.61148012267607, 21.568776493639966, 129.45240568342766, 29.308145953615657, 44.223245819681004, 101.33781579810254], \"loglift\": [30.0, 29.0, 28.0, 27.0, 26.0, 25.0, 24.0, 23.0, 22.0, 21.0, 20.0, 19.0, 18.0, 17.0, 16.0, 15.0, 14.0, 13.0, 12.0, 11.0, 10.0, 9.0, 8.0, 7.0, 6.0, 5.0, 4.0, 3.0, 2.0, 1.0, 1.0489, 1.0405, 1.0398, 1.0295, 1.0154, 1.0152, 1.0145, 0.9955, 0.9955, 0.9955, 0.9954, 0.9924, 0.9868, 0.9765, 0.9669, 0.9667, 0.9666, 0.9665, 0.9658, 0.9657, 0.9631, 0.962, 0.9616, 0.9464, 0.9245, 0.9245, 0.9245, 0.9245, 0.9245, 0.9245, 0.8811, 0.8786, 0.8455, 0.8885, 0.7804, 0.6485, 0.7744, 0.5776, 0.4547, 0.4079, 0.518, 0.5773, 0.815, 0.2666, 0.5185, 0.5603, 0.5227, 0.4834, 0.4261, 0.766, 0.435, 0.4231, 0.3418, 0.1259, -0.1481, 0.3934, 0.1955, -0.3096, 0.1853, 0.1785, 0.1419, -0.1938, 0.31, -0.9246, -0.5701, -1.1833, 1.2814, 1.2813, 1.2665, 1.2407, 1.2399, 1.2211, 1.2194, 1.2191, 1.1925, 1.1923, 1.1921, 1.192, 1.192, 1.1909, 1.1897, 1.1815, 1.1769, 1.1688, 1.1479, 1.1478, 1.1478, 1.1476, 1.1473, 1.1466, 1.1466, 1.1463, 1.1461, 1.1459, 1.1458, 1.1456, 1.0056, 1.1018, 1.0491, 0.9604, 1.0788, 0.963, 1.025, 0.9406, 1.0711, 1.0194, 0.6884, 0.86, 0.6982, 0.7982, 0.4592, 0.7026, 0.1761, 0.746, 0.7149, 0.0065, 0.1145, 0.5882, 0.1617, 0.3186, 0.3216, 0.6042, -0.2361, -0.1888, 0.4685, 0.3264, -0.1816, 0.5377, 0.4711, 0.3766, 0.2184, 1.5126, 1.5031, 1.5031, 1.4856, 1.4856, 1.4856, 1.4605, 1.4492, 1.4472, 1.4413, 1.4282, 1.4273, 1.4271, 1.4264, 1.4264, 1.4249, 1.4248, 1.4188, 1.3968, 1.3964, 1.3963, 1.3958, 1.3883, 1.3803, 1.3523, 1.3516, 1.3515, 1.3514, 1.3514, 1.3513, 1.3166, 1.1849, 1.2234, 1.2739, 1.1546, 1.0031, 0.9591, 1.0704, 0.9324, 1.0635, 0.9133, 1.1937, 0.9356, 0.5485, 0.2796, 0.5102, 0.2304, -0.2161, -0.0302, 0.5349, -0.2554, -0.2671, 0.5739, -0.8641, -0.0491, 1.5331, 1.5178, 1.4998, 1.4647, 1.4338, 1.433, 1.4319, 1.4114, 1.4045, 1.4045, 1.4033, 1.4027, 1.4022, 1.4008, 1.4004, 1.3991, 1.381, 1.3586, 1.3584, 1.3583, 1.3582, 1.3579, 1.3576, 1.3572, 1.3571, 1.3571, 1.3565, 1.356, 1.3535, 1.353, 1.3335, 1.2364, 1.2213, 0.9052, 1.233, 0.8275, 1.2586, 1.2323, 0.664, 0.7345, 1.0048, 0.3996, 0.6889, 0.6546, 0.7043, 0.7395, 0.4113, -0.0581, 0.5924, 0.4506, 0.2915, 0.6194, 0.6448, 0.3169, 0.3602, 0.4431, 0.1168, 0.5301, -0.7791, 0.2855, -0.1098, -0.8639], \"logprob\": [30.0, 29.0, 28.0, 27.0, 26.0, 25.0, 24.0, 23.0, 22.0, 21.0, 20.0, 19.0, 18.0, 17.0, 16.0, 15.0, 14.0, 13.0, 12.0, 11.0, 10.0, 9.0, 8.0, 7.0, 6.0, 5.0, 4.0, 3.0, 2.0, 1.0, -5.6305, -5.7447, -5.7454, -5.8738, -6.0219, -6.0221, -6.0228, -6.1967, -6.1967, -6.1967, -6.1968, -6.2, -6.2058, -6.2165, -6.4086, -6.4088, -6.4089, -6.409, -6.4097, -6.4098, -6.4126, -4.6573, -6.414, -5.5558, -6.6755, -6.6756, -6.6756, -6.6756, -6.6756, -6.6756, -5.112, -5.4726, -4.8877, -6.0214, -4.5001, -3.8465, -5.1261, -3.956, -3.5382, -3.373, -4.1438, -5.0158, -5.875, -4.0808, -4.9277, -5.1032, -5.0068, -4.9306, -4.984, -5.743, -5.1932, -5.3097, -5.224, -5.0347, -4.7549, -5.3896, -5.2019, -4.7739, -5.2064, -5.2131, -5.2839, -5.1826, -5.3631, -5.1634, -5.2449, -5.1773, -5.3198, -5.32, -5.5356, -5.813, -5.8139, -5.987, -5.9888, -5.989, -6.1983, -6.1985, -6.1987, -6.1988, -6.1988, -6.1999, -6.201, -5.8723, -5.3399, -4.6151, -6.4666, -6.4666, -6.4666, -6.4669, -6.4672, -6.4679, -6.4679, -6.4681, -6.4684, -6.4686, -6.4687, -6.4689, -4.4737, -5.8158, -5.2479, -4.4215, -5.7204, -4.7112, -5.332, -5.0138, -5.9876, -5.6733, -3.6591, -4.8737, -4.3698, -4.9054, -4.2157, -4.9301, -3.6047, -5.0665, -5.0594, -3.9874, -4.3498, -5.0747, -4.5001, -4.7185, -4.7232, -5.1818, -4.229, -4.4275, -5.1286, -5.0169, -4.7233, -5.1951, -5.2041, -5.1995, -5.1918, -4.8104, -4.9627, -4.9627, -5.2421, -5.2421, -5.2421, -5.4896, -5.634, -5.6361, -4.6442, -5.8086, -5.8095, -5.8097, -5.8103, -5.8103, -5.8119, -5.812, -5.818, -6.0215, -6.0218, -6.022, -6.0226, -5.8467, -6.0379, -6.288, -6.2886, -6.2888, -6.2888, -6.2889, -6.2889, -4.9383, -3.9869, -4.4988, -5.3548, -4.4079, -3.2356, -3.0348, -4.3906, -4.1124, -4.8135, -4.4211, -5.4369, -4.9887, -4.4402, -4.254, -4.6505, -4.3113, -3.997, -4.6371, -5.1382, -4.7197, -4.7621, -5.2558, -4.857, -5.0862, -4.3995, -4.7976, -4.8839, -4.6118, -5.7963, -5.797, -5.7981, -4.3884, -6.0073, -6.0073, -6.0084, -6.0091, -6.0096, -6.011, -6.0114, -6.0126, -6.0309, -6.2756, -6.2757, -6.2759, -6.2759, -6.2762, -6.2766, -6.2769, -6.2771, -6.2771, -6.2776, -6.2781, -6.2805, -6.281, -5.1982, -4.5227, -4.7982, -3.7017, -5.5835, -3.7142, -5.8135, -5.7022, -4.0108, -4.6572, -5.4368, -4.0647, -4.7368, -4.7427, -4.8718, -4.9357, -4.5774, -4.051, -4.9734, -4.8926, -4.8691, -5.2074, -5.2667, -5.0175, -5.0539, -5.1278, -4.9203, -5.2559, -4.7731, -5.1939, -5.1777, -5.1027]}, \"token.table\": {\"Topic\": [1, 1, 2, 3, 2, 2, 1, 2, 3, 4, 2, 2, 2, 4, 1, 2, 3, 4, 2, 3, 4, 3, 1, 2, 4, 3, 1, 2, 3, 4, 1, 1, 4, 1, 1, 4, 1, 4, 1, 4, 4, 3, 3, 3, 1, 1, 2, 3, 4, 4, 1, 2, 4, 2, 2, 2, 4, 3, 3, 4, 1, 2, 3, 4, 3, 3, 2, 2, 3, 3, 1, 1, 2, 3, 4, 1, 2, 2, 1, 2, 3, 1, 2, 2, 2, 3, 4, 1, 4, 1, 4, 4, 1, 1, 2, 1, 1, 4, 4, 4, 1, 3, 4, 4, 1, 1, 1, 2, 3, 1, 3, 1, 2, 3, 2, 2, 1, 4, 2, 4, 2, 4, 1, 2, 3, 4, 3, 2, 1, 1, 3, 3, 1, 3, 4, 1, 2, 1, 2, 3, 4, 3, 3, 1, 3, 4, 4, 1, 3, 3, 1, 2, 4, 2, 3, 1, 2, 3, 1, 1, 2, 1, 2, 3, 3, 1, 2, 4, 4, 2, 4, 1, 3, 4, 1, 2, 4, 1, 2, 4, 1, 2, 4, 4, 1, 4, 4, 1, 2, 3, 4, 1, 2, 3, 4, 4, 1, 2, 3, 4, 3, 3, 3, 3, 4, 1, 2, 3, 4, 1, 2, 2, 3, 4, 2, 1, 3, 4, 1, 3, 1, 3, 1, 1, 2, 3, 4, 4, 4, 4, 4, 4, 4, 3, 1, 2, 4, 1, 2, 4, 1, 3, 4, 1, 2, 1, 3, 4, 4, 1, 4, 2, 1, 2, 3, 4, 2, 2, 3, 4, 3, 2, 2, 3, 1, 2, 3, 4, 2, 1, 2, 3, 4, 1, 3, 4, 1, 2, 3, 4, 1, 2, 3, 4, 3, 2, 2, 4, 1, 3, 4, 4, 2, 3, 4, 3, 1, 3, 3, 1, 3, 4, 1, 1, 3, 1, 2, 3, 4, 3, 1, 2, 3, 4, 1, 1, 2, 3, 1, 4, 3, 1, 2, 3, 4, 1, 3, 4, 1, 1, 1, 1, 2, 3, 4, 1, 2, 3, 4, 1, 2, 3, 2, 1, 2, 3, 1, 2, 4, 1, 4, 1, 2, 1, 2, 1, 2, 4, 1, 2, 4, 1, 2, 3, 4, 1, 1, 2, 1, 2, 3, 4, 2, 4, 4, 1, 2, 3, 4, 2], \"Freq\": [0.8533709892114967, 0.574231964472006, 0.20508284445428784, 0.2460994133451454, 0.8657858167060867, 0.8657511050362944, 0.02951610317289704, 0.17709661903738222, 0.5312898571121467, 0.2951610317289704, 0.8657817082728895, 0.8657817082727839, 0.8665567132109369, 0.09628407924565965, 0.21296518813161905, 0.1597238910987143, 0.5324129703290477, 0.10648259406580952, 0.10768398905755729, 0.753787923402901, 0.10768398905755729, 0.8883840547028915, 0.12450413068942912, 0.4150137689647637, 0.4150137689647637, 0.7912593143424631, 0.5093213953438414, 0.20064176180211932, 0.08488689922397356, 0.19292477096357627, 0.90634933363187, 0.9463180634075857, 0.8829740719333413, 0.8503027291222152, 0.14103155926221583, 0.8461893555732949, 0.19546298146617694, 0.7818519258647078, 0.9090288124902177, 0.9271566647052395, 0.8829488253385847, 0.9518642790766955, 0.9510951191087749, 0.7911972013281039, 0.908995675815922, 0.11275820647378151, 0.3758606882459384, 0.07517213764918768, 0.41344675707053224, 0.7859082239688626, 0.42903272293672934, 0.5170394353340072, 0.05500419524829864, 0.9229977642015141, 0.865749940733004, 0.8657428540672334, 0.7859323784611528, 0.791237793060633, 0.7912377930399709, 0.9425250433636359, 0.12828379906964024, 0.21709565996400654, 0.5723431035414718, 0.08881186089436631, 0.791248937214296, 0.948617451737544, 0.9230109323013848, 0.9230109323013829, 0.8883623546019269, 0.8483009021272212, 0.9466353625387222, 0.48692647416375334, 0.30588970812851174, 0.16855147182591462, 0.037455882627981024, 0.9089746038627093, 0.9611306193736605, 0.8657500120198582, 0.409949500831598, 0.45094445091475777, 0.12298485024947939, 0.30950754143672377, 0.6809165911607923, 0.922993191241745, 0.8327934764636862, 0.046266304247982566, 0.09253260849596513, 0.9460695364707278, 0.9425925868910003, 0.798492830266963, 0.1711056064857778, 0.8829776650093352, 0.8814432216212199, 0.4284996170991274, 0.5237217542322667, 0.972278052419276, 0.9089605688492548, 0.9663722360560902, 0.9424925764732945, 0.9446365016447885, 0.4086474349364224, 0.18860650843219498, 0.4086474349364224, 0.8829831546647207, 0.9459298272052659, 0.9459298272052657, 0.7278642195389894, 0.1039806027912842, 0.1559709041869263, 0.3554960115935757, 0.6094217341604155, 0.21948450845313883, 0.6584535253594165, 0.10974225422656941, 0.9429434267534258, 0.9611605434197867, 0.2924070951916026, 0.7310177379790065, 0.7165243421823922, 0.27296165416472085, 0.663374564232322, 0.2902263718516409, 0.3838136359217526, 0.42219499951392786, 0.15352545436870105, 0.03838136359217526, 0.8910019699256857, 0.8657464055977467, 0.8533712563420447, 0.8159296315965503, 0.16318592631931006, 0.9487426637950713, 0.37211779781080406, 0.3473099446234171, 0.2728863850612563, 0.9089945017911644, 0.9229955222398626, 0.2715608728416239, 0.06266789373268243, 0.35511806448520045, 0.31333946866341217, 0.9510951191087749, 0.9510951191087749, 0.38807066105972265, 0.19403533052986133, 0.42040988281469954, 0.8829831546647207, 0.9459298272052661, 0.9149963793354442, 0.9149963793341674, 0.23863098779130137, 0.517033806881153, 0.23863098779130137, 0.8276440655029034, 0.16552881310058068, 0.48358106315361676, 0.43961914832146975, 0.04396191483214698, 0.972274926766372, 0.1437575937811606, 0.718787968905803, 0.16749815942255342, 0.20099779130706408, 0.6029933739211922, 0.8883740138039026, 0.406321529149291, 0.15627751121126576, 0.43757703139154414, 0.8829571518044808, 0.923014321930496, 0.8828392736180899, 0.23424206047477783, 0.05856051511869446, 0.7027261814243335, 0.4464407581210457, 0.14881358604034858, 0.37203396510087144, 0.3666113900211043, 0.5499170850316565, 0.09165284750527608, 0.19318557823029212, 0.38637115646058423, 0.38637115646058423, 0.8829696337202623, 0.06199709809081734, 0.9299564713622601, 0.9425793939097804, 0.5734698348480017, 0.1911566116160006, 0.03823132232320012, 0.1911566116160006, 0.10042300821964752, 0.2626447907283089, 0.5484641218149979, 0.09269816143352078, 0.8828705103464546, 0.050172463343137456, 0.22577608504411856, 0.6773282551323556, 0.050172463343137456, 0.8883636801473611, 0.9487227284653953, 0.7898725667572735, 0.6473366384687033, 0.21577887948956775, 0.23492540702709616, 0.2843833874538532, 0.16073843638696053, 0.30911237766723176, 0.9091562117257118, 0.8236223053039019, 0.07409751674109372, 0.8150726841520309, 0.07409751674109372, 0.9229668319725851, 0.8633823013046457, 0.07848930011860415, 0.039244650059302076, 0.8540608892295551, 0.09489565435883945, 0.8558690554173383, 0.14264484256955637, 0.9459114732757028, 0.040078120257277014, 0.21374997470547744, 0.26718746838184676, 0.4809374430873242, 0.9426743039294263, 0.9425734831869493, 0.8829625087191716, 0.9426009036010484, 0.9426009036010482, 0.7859260980600109, 0.7912807439313854, 0.2461879399246395, 0.7385638197739185, 0.0820626466415465, 0.5094217524955182, 0.3183885953096989, 0.15919429765484944, 0.5611162549769609, 0.19804103116833913, 0.23104786969639565, 0.8533711228432203, 0.8657848836845435, 0.2851854126614011, 0.1996297888629808, 0.513333742790522, 0.9426161265759465, 0.9722650499147345, 0.8829380264278566, 0.8657501360804051, 0.2561767441978321, 0.5550496124286363, 0.08539224806594403, 0.08539224806594403, 0.8657997420364318, 0.7728635397990076, 0.07728635397990076, 0.15457270795980152, 0.9486986988832982, 0.9429510137352891, 0.896556176395352, 0.791240703453678, 0.21924304962487787, 0.3507888793998046, 0.19731874466239008, 0.24116735458736566, 0.8657302751305364, 0.4622330142956353, 0.13866990428869058, 0.27733980857738116, 0.13866990428869058, 0.6688185870328127, 0.1910910248665179, 0.09554551243325896, 0.24873796113591887, 0.5200884641932849, 0.04522508384289434, 0.18090033537157735, 0.11047538158006444, 0.3535212210562062, 0.5302818315843093, 0.022095076316012888, 0.8482668484306536, 0.8236615869101668, 0.16778334971468298, 0.6711333988587319, 0.0370757874191003, 0.6673641735438054, 0.2966062993528024, 0.8829749470846509, 0.06255695523704467, 0.8757973733186254, 0.06255695523704467, 0.7912343282208871, 0.26099133437685024, 0.6959768916716006, 0.888360750051395, 0.7476595990055221, 0.17591990564835816, 0.04397997641208954, 0.9089982921521127, 0.6869466319659602, 0.22898221065532007, 0.45553447578369677, 0.08282445014249032, 0.3727100256412065, 0.12423667521373548, 0.8883800036208918, 0.5830906017614378, 0.05300823652376707, 0.27829324174977715, 0.09276441391659238, 0.8533714542246239, 0.5147876372430369, 0.3167923921495612, 0.19799524509347574, 0.3572419091779611, 0.5358628637669417, 0.9487196741099191, 0.6247374473294572, 0.11474769440745132, 0.1657466696996519, 0.10199795058440118, 0.6991401600044197, 0.19575924480123752, 0.08389681920053037, 0.8814738403732651, 0.8533715737900904, 0.8533713882449452, 0.26173532325606597, 0.3365168441863705, 0.07478152093030456, 0.3365168441863705, 0.20845246926447478, 0.3573470901676711, 0.11911569672255702, 0.3275681659870318, 0.19373846423298044, 0.435911544524206, 0.3874769284659609, 0.961099046809453, 0.5380930564285965, 0.25111009300001175, 0.21523722257143862, 0.367928071987226, 0.2628057657051614, 0.42048922512825826, 0.2598694557015909, 0.6496736392539774, 0.35204033462483664, 0.6160705855934642, 0.22960776022102738, 0.6888232806630821, 0.18314671633126403, 0.41208011174534404, 0.3968178853844054, 0.1854532639428801, 0.46363315985720016, 0.3709065278857602, 0.5423173856823396, 0.30128743649018863, 0.07532185912254716, 0.07532185912254716, 0.909051916309034, 0.1276990676865679, 0.7661944061194074, 0.5114205941797836, 0.1278551485449459, 0.031963787136236474, 0.2876740842261283, 0.270806874674561, 0.7221516657988293, 0.8829266649126141, 0.37505650338993957, 0.2500376689266264, 0.21878296031079805, 0.15627354307914149, 0.8236502483241732], \"Term\": [\"10\", \"analysis\", \"analysis\", \"analysis\", \"analyst\", \"anthropologist\", \"anthropology\", \"anthropology\", \"anthropology\", \"anthropology\", \"applied qualitative\", \"applied qualitative research\", \"assistant\", \"assistant\", \"bachelor\", \"bachelor\", \"bachelor\", \"bachelor\", \"bachelor degree\", \"bachelor degree\", \"bachelor degree\", \"bachelor degree psychology\", \"book\", \"book\", \"book\", \"bsc\", \"class\", \"class\", \"class\", \"class\", \"class participated\", \"class participated running\", \"class project\", \"class wa\", \"cognitive\", \"cognitive\", \"cognitive psychology\", \"cognitive psychology\", \"company\", \"completed\", \"completed ux\", \"computer\", \"computer interaction\", \"computer science\", \"conduct ethnographic\", \"conference\", \"conference\", \"conference\", \"conference\", \"conference workshop\", \"course\", \"course\", \"course\", \"course grad\", \"course grad school\", \"course ux\", \"covered\", \"cultural\", \"cultural anthropology\", \"day\", \"degree\", \"degree\", \"degree\", \"degree\", \"degree human\", \"degree human factor\", \"degree industrial\", \"degree industrial design\", \"degree master\", \"degree psychology\", \"degree took\", \"design\", \"design\", \"design\", \"design\", \"design course\", \"design design\", \"design design research\", \"design research\", \"design research\", \"design research\", \"did\", \"did\", \"digital\", \"education\", \"education\", \"education\", \"educational\", \"emphasis\", \"ethnographic\", \"ethnographic\", \"ethnographic method\", \"ethnographic research\", \"experience\", \"experience\", \"experienced\", \"experienced researcher\", \"experimental\", \"experimental design\", \"experimental psychology\", \"factor\", \"factor\", \"factor\", \"factor engineering\", \"factor information\", \"factor information design\", \"field\", \"field\", \"field\", \"focus\", \"focus\", \"focused\", \"focused\", \"focused\", \"formal\", \"formal education\", \"general\", \"general\", \"grad\", \"grad\", \"grad school\", \"grad school\", \"graduate\", \"graduate\", \"graduate\", \"graduate\", \"graduate degree\", \"graduate school\", \"graduate study\", \"group\", \"group\", \"half\", \"hci\", \"hci\", \"hci\", \"hci research\", \"helping\", \"human\", \"human\", \"human\", \"human\", \"human computer\", \"human computer interaction\", \"human factor\", \"human factor\", \"human factor\", \"human factor engineering\", \"human factor information\", \"humancomputer\", \"humancomputer interaction\", \"included\", \"included\", \"included\", \"industry\", \"industry\", \"information\", \"information\", \"information\", \"information design\", \"information science\", \"information science\", \"interaction\", \"interaction\", \"interaction\", \"interaction degree\", \"job\", \"job\", \"job\", \"job training\", \"just\", \"know\", \"lab\", \"lab\", \"lab\", \"learned\", \"learned\", \"learned\", \"learning\", \"learning\", \"learning\", \"lot\", \"lot\", \"lot\", \"lot job\", \"ma\", \"ma\", \"ma social\", \"majored\", \"majored\", \"majored\", \"majored\", \"master\", \"master\", \"master\", \"master\", \"master cognitive\", \"master degree\", \"master degree\", \"master degree\", \"master degree\", \"master degree hci\", \"master degree human\", \"master hci\", \"master human\", \"master human\", \"method\", \"method\", \"method\", \"method\", \"mfa\", \"module\", \"msc\", \"msc\", \"msc\", \"online class\", \"participated\", \"participated\", \"participated\", \"participated running\", \"participated running\", \"participated running study\", \"participated running study\", \"participated study\", \"phd\", \"phd\", \"phd\", \"phd\", \"phd anthropology\", \"phd cognitive\", \"phd cognitive psychology\", \"phd experimental\", \"phd experimental psychology\", \"phd psychology\", \"phd sociology\", \"professional\", \"professional\", \"professional\", \"program\", \"program\", \"program\", \"project\", \"project\", \"project\", \"proposal\", \"psychologist\", \"psychology\", \"psychology\", \"psychology\", \"psychology class\", \"psychology degree\", \"psychology undergrad\", \"qrca\", \"qualitative\", \"qualitative\", \"qualitative\", \"qualitative\", \"qualitative quantitative\", \"qualitative research\", \"qualitative research\", \"qualitative research\", \"ran study\", \"research assistant\", \"research course\", \"research focus\", \"research method\", \"research method\", \"research method\", \"research method\", \"research module\", \"running\", \"running\", \"running\", \"running\", \"running study\", \"running study\", \"running study\", \"school\", \"school\", \"school\", \"school\", \"science\", \"science\", \"science\", \"science\", \"science research\", \"self\", \"seminar\", \"seminar\", \"social\", \"social\", \"social\", \"social research\", \"social science\", \"social science\", \"social science\", \"social science research\", \"sociology\", \"sociology\", \"sociology master\", \"statistic\", \"statistic\", \"statistic\", \"statistic course\", \"student\", \"student\", \"studied\", \"studied\", \"studied\", \"studied\", \"studied master\", \"study\", \"study\", \"study\", \"study\", \"studying\", \"taught\", \"taught\", \"taught\", \"testing\", \"testing\", \"theory\", \"took\", \"took\", \"took\", \"took\", \"took class\", \"took class\", \"took class\", \"took class participated\", \"took class wa\", \"took online\", \"training\", \"training\", \"training\", \"training\", \"undergrad\", \"undergrad\", \"undergrad\", \"undergrad\", \"undergraduate\", \"undergraduate\", \"undergraduate\", \"undergraduate graduate\", \"university\", \"university\", \"university\", \"usability\", \"usability\", \"usability\", \"usability testing\", \"usability testing\", \"user\", \"user\", \"user experience\", \"user experience\", \"ux\", \"ux\", \"ux\", \"ux research\", \"ux research\", \"ux research\", \"wa\", \"wa\", \"wa\", \"wa\", \"way\", \"went\", \"went\", \"worked\", \"worked\", \"worked\", \"worked\", \"workshop\", \"workshop\", \"workshop ux\", \"year\", \"year\", \"year\", \"year\", \"yr\"]}, \"R\": 30, \"lambda.step\": 0.01, \"plot.opts\": {\"xlab\": \"PC1\", \"ylab\": \"PC2\"}, \"topic.order\": [2, 4, 1, 3]};\n",
       "\n",
       "function LDAvis_load_lib(url, callback){\n",
       "  var s = document.createElement('script');\n",
       "  s.src = url;\n",
       "  s.async = true;\n",
       "  s.onreadystatechange = s.onload = callback;\n",
       "  s.onerror = function(){console.warn(\"failed to load library \" + url);};\n",
       "  document.getElementsByTagName(\"head\")[0].appendChild(s);\n",
       "}\n",
       "\n",
       "if(typeof(LDAvis) !== \"undefined\"){\n",
       "   // already loaded: just create the visualization\n",
       "   !function(LDAvis){\n",
       "       new LDAvis(\"#\" + \"ldavis_el319141123762346568232637925\", ldavis_el319141123762346568232637925_data);\n",
       "   }(LDAvis);\n",
       "}else if(typeof define === \"function\" && define.amd){\n",
       "   // require.js is available: use it to load d3/LDAvis\n",
       "   require.config({paths: {d3: \"https://cdnjs.cloudflare.com/ajax/libs/d3/3.5.5/d3.min\"}});\n",
       "   require([\"d3\"], function(d3){\n",
       "      window.d3 = d3;\n",
       "      LDAvis_load_lib(\"https://cdn.rawgit.com/bmabey/pyLDAvis/files/ldavis.v1.0.0.js\", function(){\n",
       "        new LDAvis(\"#\" + \"ldavis_el319141123762346568232637925\", ldavis_el319141123762346568232637925_data);\n",
       "      });\n",
       "    });\n",
       "}else{\n",
       "    // require.js not available: dynamically load d3 & LDAvis\n",
       "    LDAvis_load_lib(\"https://cdnjs.cloudflare.com/ajax/libs/d3/3.5.5/d3.min.js\", function(){\n",
       "         LDAvis_load_lib(\"https://cdn.rawgit.com/bmabey/pyLDAvis/files/ldavis.v1.0.0.js\", function(){\n",
       "                 new LDAvis(\"#\" + \"ldavis_el319141123762346568232637925\", ldavis_el319141123762346568232637925_data);\n",
       "            })\n",
       "         });\n",
       "}\n",
       "</script>"
      ],
      "text/plain": [
       "PreparedData(topic_coordinates=              x         y  topics  cluster       Freq\n",
       "topic                                                \n",
       "1     -0.021395 -0.019895       1        1  32.467903\n",
       "3     -0.060932 -0.122454       2        1  25.847322\n",
       "0      0.168490  0.017193       3        1  20.886478\n",
       "2     -0.086164  0.125155       4        1  20.798297, topic_info=     Category        Freq         Term       Total  loglift  logprob\n",
       "590   Default  129.000000       master  129.000000  30.0000  30.0000\n",
       "235   Default  101.000000       degree  101.000000  29.0000  29.0000\n",
       "752   Default   70.000000   psychology   70.000000  28.0000  28.0000\n",
       "205   Default   90.000000       course   90.000000  27.0000  27.0000\n",
       "692   Default   74.000000          phd   74.000000  26.0000  26.0000\n",
       "...       ...         ...          ...         ...      ...      ...\n",
       "1063   Topic4    7.622136  ux research   21.568776   0.5301  -5.2559\n",
       "590    Topic4   12.352716       master  129.452406  -0.7791  -4.7731\n",
       "402    Topic4    8.109497         grad   29.308146   0.2855  -5.1939\n",
       "866    Topic4    8.241632       school   44.223246  -0.1098  -5.1777\n",
       "235    Topic4    8.883894       degree  101.337816  -0.8639  -5.1027\n",
       "\n",
       "[278 rows x 6 columns], token_table=      Topic      Freq      Term\n",
       "term                           \n",
       "0         1  0.853371        10\n",
       "26        1  0.574232  analysis\n",
       "26        2  0.205083  analysis\n",
       "26        3  0.246099  analysis\n",
       "27        2  0.865786   analyst\n",
       "...     ...       ...       ...\n",
       "1113      1  0.375057      year\n",
       "1113      2  0.250038      year\n",
       "1113      3  0.218783      year\n",
       "1113      4  0.156274      year\n",
       "1117      2  0.823650        yr\n",
       "\n",
       "[380 rows x 3 columns], R=30, lambda_step=0.01, plot_opts={'xlab': 'PC1', 'ylab': 'PC2'}, topic_order=[2, 4, 1, 3])"
      ]
     },
     "execution_count": 33,
     "metadata": {},
     "output_type": "execute_result"
    }
   ],
   "source": [
    "pyLDAvis.sklearn.prepare(lda10, research_educ_desc_matrix, research_educ_desc_vector)"
   ]
  },
  {
   "cell_type": "markdown",
   "metadata": {},
   "source": [
    "#### Topic groups (4) - no overlapping circles\n",
    "1. participated\n",
    "2. grad school\n",
    "3. master degree\n",
    "4. pyschology\n",
    "\n",
    "#### Topic groups (6) - 1 &4, 2 & 3 overlap\n",
    "1. participated\n",
    "2. design research\n",
    "3. social science\n",
    "4. grad school\n",
    "5. human factor\n",
    "6. master degree\n",
    "\n",
    "#### Topic groups (8) - extreme overlap between topics 1, 2, 4 & 8, 54% of all the responses"
   ]
  },
  {
   "cell_type": "code",
   "execution_count": null,
   "metadata": {},
   "outputs": [],
   "source": [
    "#4 topics"
   ]
  },
  {
   "cell_type": "code",
   "execution_count": 45,
   "metadata": {},
   "outputs": [],
   "source": [
    "lda_W10 = lda10.transform(research_educ_desc_matrix)"
   ]
  },
  {
   "cell_type": "code",
   "execution_count": 46,
   "metadata": {},
   "outputs": [],
   "source": [
    "top_doc_column10 = datadf.research_educ_desc.dropna()"
   ]
  },
  {
   "cell_type": "code",
   "execution_count": 47,
   "metadata": {},
   "outputs": [],
   "source": [
    "word_count_matrix10, count_vect10 = nlp.create_wordcount_matrix(datadf.research_educ_desc.dropna(), max_df=0.8, min_df=2, ngram=(1,3))"
   ]
  },
  {
   "cell_type": "code",
   "execution_count": 48,
   "metadata": {},
   "outputs": [
    {
     "data": {
      "text/plain": [
       "LatentDirichletAllocation(batch_size=128, doc_topic_prior=None,\n",
       "                          evaluate_every=-1, learning_decay=0.7,\n",
       "                          learning_method='batch', learning_offset=10.0,\n",
       "                          max_doc_update_iter=100, max_iter=10,\n",
       "                          mean_change_tol=0.001, n_components=5, n_jobs=None,\n",
       "                          perp_tol=0.1, random_state=42, topic_word_prior=None,\n",
       "                          total_samples=1000000.0, verbose=0)"
      ]
     },
     "execution_count": 48,
     "metadata": {},
     "output_type": "execute_result"
    }
   ],
   "source": [
    "LDA10a = LatentDirichletAllocation(n_components=5, random_state=42)\n",
    "LDA10a.fit(word_count_matrix10)"
   ]
  },
  {
   "cell_type": "code",
   "execution_count": 49,
   "metadata": {},
   "outputs": [],
   "source": [
    "lda_H = LDA10a.transform(word_count_matrix10)"
   ]
  },
  {
   "cell_type": "code",
   "execution_count": 50,
   "metadata": {},
   "outputs": [
    {
     "name": "stdout",
     "output_type": "stream",
     "text": [
      "Top 3 Documents for Topic 0: \n",
      "\n",
      "Document 1\n",
      "i took professional development course in research up to one year in length at undergraduate level and then started postgraduate level private tuition i'd love to do a master or phd degree but am not able to manage the commitment even parttime alongside working full time i continue to take short course to increase my knowledge and develop my skill\n",
      "\n",
      "Document 2\n",
      "phd in human computer interaction research method data analysis coursework in various area eg ethnography statistic a well a supporting other people's research and eventually running my own research with supervision and advice from more senior people\n",
      "\n",
      "Document 3\n",
      "undergraduate degree in psychology extensive study of behavioral and scientific research methodology and analysis qual and quant interned and worked in lab for several year genetics neuroethology biopsychology graduate degree in architecture extensive study and practice of many type of research method\n",
      "\n",
      "Top 3 Documents for Topic 1: \n",
      "\n",
      "Document 1\n",
      "my phd wa at berkeley in medical anthropology and despite it being a top program we did not have a method class people were just expected to figure it out in the field which is really unethical and sloppy if you're a study participant and have to go through that i ended up taking 1 year of method applied specifically our dissertation research it wasn't until i got my first job while still in grad school for the national institute of health that i learned how to do method properly with a team of anthropologist sociologist clinician etc that i really started to hone my skill and learn how to articulate my method to people beyond my field\n",
      "\n",
      "Document 2\n",
      "wa an undergrad research assistant helping a professor do a study on couple which included coding of behavioral data and biometric data wa a research assistant in my master program did quantitative survey read a bunch of journeals did a bunch of statistical analysis took many many research method course in grad school\n",
      "\n",
      "Document 3\n",
      "i have an ma in english rhetoric composition it wa a chooseyourownadventure degree and i took class in htmlcss professional writing and learned a bit about usercentered design in one class i didn't learn about ux research specifically until i ran a survey a part of my content strategy job and subsequently moved to the ux research team i read ton of ux book blog and website to learn about the field and took a couple of course at general assembly though those were more general ux class and didn't teach research\n",
      "\n",
      "Top 3 Documents for Topic 2: \n",
      "\n",
      "Document 1\n",
      "cooper u class such a ux boot camp research method and more read book by kim goodwin alan cooper steve portigal erika hall sam ladner and more mentored by a marketing researcher for a little while learned a lot by doing attended epic conference last year attended workshop at others conference like uie watched numerous webinars\n",
      "\n",
      "Document 2\n",
      "i studied ethnologycultural anthropology i had 2 year course during bachelor study research laboratory where student where divided into group of 810 and where thought how to conduct ethnographic research by specialist in a given area in my case ethnography of market and consumer every student conducted hisher own project for a bachelor thesis on master study every student conducted an ethnographic research project and consulted it with a tutor on postdiploma study in service design i learnt how to moderate workshop on a phd level in management i had class in general qualitative research quantitative research statistic case study and ethnography\n",
      "\n",
      "Document 3\n",
      "i studied psychology and got a bachelor course included experimental study design human factor and academic research from 2006 to 2009 i also took a sociology class in 2006 that taught more ethnographic research method all of the above course came with course about how to conduct research clinical interview observation experimentation questionnaire design statistic etc a well a practical research project within those course and in other curse eg interview applied to clinical psychology course observation of child in developmental psychology course ethnographic observationinterviews in human factor course experimentation and questionnaire in cognitive psychology course etc one of these led to the publication of a scientific article then i completed a master degree in research applied to game development where i learnt and practiced new method eye tracking focus group playtesting usability testing prototyping for usability test etc more stats and course in how to work with and communicate result to stakeholder effectively validated by an academic research project to complete the degree i had to put all these skill to practice during a 6 month internship while working i later took course in statistic data analysis tableau software ab testing a part of professional training within the company where i worked live from colleague and online from moocs\n",
      "\n",
      "Top 3 Documents for Topic 3: \n",
      "\n",
      "Document 1\n",
      "i started my ux life working for a research institute domus academy research centre in milan italy then worked for another research institute interaction design institute ivrea in turin italy then worked with company agency and design studio that did extensive research with an inhouse research team like lbi london patchcom aol paypal fotologcom ebay google i've created participated organised designed and facilitated research at any level from ethnographic research for project with the european union to paper prototyping and everything in between\n",
      "\n",
      "Document 2\n",
      "master degree in design from cmu which focused on design research worked with hci research group at the school and did my master's thesis with hci research group at cmu also took design research class and did project conducting research for school\n",
      "\n",
      "Document 3\n",
      "i have a primary degree in mechanical engineering and a master degree in engineering science after 14 year in the energy industry specialising in wind energy i opted to change career and moved into web design through a oneyear postgraduate diploma in digital medium production where i wa introduced to the concept of usercentred design and from there to ux research i supplemented and continue to supplement my classroom education in this area with selfguided learning through reading industry article eg nngroup newsletter book eg just enough research and participating in dublin's ux community a well of course a learning through my work\n",
      "\n",
      "Top 3 Documents for Topic 4: \n",
      "\n",
      "Document 1\n",
      "i have an undergraduate degree in sociology and cultural anthropology so i learned quantitative research method and ethnography in undergrad i also have an mba so i have secondary research education and statistical analysis\n",
      "\n",
      "Document 2\n",
      "undergraduate degree in applied sociology and master's degree in design ethnography lot of theory and practice in school esp grad school on conducting research and making sense of what we learn\n",
      "\n",
      "Document 3\n",
      "sociology psychology degree course in qualitative method like interviewing ethnography historical and textual analysis course in quantitative method like different form of regression analysis hlm and risk analysis conducted survey experiment and interviewbased field study\n",
      "\n"
     ]
    }
   ],
   "source": [
    "nlp.find_top_documents_per_topic(lda_H, top_doc_column10, 3)"
   ]
  },
  {
   "cell_type": "markdown",
   "metadata": {},
   "source": [
    "## 14. How do you decide which events to attend?"
   ]
  },
  {
   "cell_type": "code",
   "execution_count": 34,
   "metadata": {},
   "outputs": [],
   "source": [
    "datadf.how_pick_events = datadf.how_pick_events.dropna().apply(nlp.basic_clean)\n",
    "datadf.how_pick_events = datadf.how_pick_events.dropna().apply(nlp.lemmatize)"
   ]
  },
  {
   "cell_type": "code",
   "execution_count": 35,
   "metadata": {},
   "outputs": [
    {
     "data": {
      "text/plain": [
       "(<644x1332 sparse matrix of type '<class 'numpy.int64'>'\n",
       " \twith 7899 stored elements in Compressed Sparse Row format>,\n",
       " CountVectorizer(analyzer='word', binary=False, decode_error='strict',\n",
       "                 dtype=<class 'numpy.int64'>, encoding='utf-8', input='content',\n",
       "                 lowercase=True, max_df=0.3, max_features=None, min_df=2,\n",
       "                 ngram_range=(1, 3), preprocessor=None, stop_words='english',\n",
       "                 strip_accents=None, token_pattern='(?u)\\\\b\\\\w\\\\w+\\\\b',\n",
       "                 tokenizer=None, vocabulary=None))"
      ]
     },
     "execution_count": 35,
     "metadata": {},
     "output_type": "execute_result"
    }
   ],
   "source": [
    "how_pick_events_matrix, how_pick_events_vector = nlp.create_wordcount_matrix(datadf.how_pick_events.dropna(), ngram=(1,3), max_df=.3)\n",
    "how_pick_events_matrix, how_pick_events_vector"
   ]
  },
  {
   "cell_type": "code",
   "execution_count": 42,
   "metadata": {},
   "outputs": [],
   "source": [
    "lda14 = LatentDirichletAllocation(n_components= 6, random_state = 42)"
   ]
  },
  {
   "cell_type": "code",
   "execution_count": 43,
   "metadata": {},
   "outputs": [
    {
     "data": {
      "text/plain": [
       "LatentDirichletAllocation(batch_size=128, doc_topic_prior=None,\n",
       "                          evaluate_every=-1, learning_decay=0.7,\n",
       "                          learning_method='batch', learning_offset=10.0,\n",
       "                          max_doc_update_iter=100, max_iter=10,\n",
       "                          mean_change_tol=0.001, n_components=6, n_jobs=None,\n",
       "                          perp_tol=0.1, random_state=42, topic_word_prior=None,\n",
       "                          total_samples=1000000.0, verbose=0)"
      ]
     },
     "execution_count": 43,
     "metadata": {},
     "output_type": "execute_result"
    }
   ],
   "source": [
    "lda14.fit(how_pick_events_matrix)"
   ]
  },
  {
   "cell_type": "code",
   "execution_count": 44,
   "metadata": {},
   "outputs": [
    {
     "data": {
      "text/html": [
       "\n",
       "<link rel=\"stylesheet\" type=\"text/css\" href=\"https://cdn.rawgit.com/bmabey/pyLDAvis/files/ldavis.v1.0.0.css\">\n",
       "\n",
       "\n",
       "<div id=\"ldavis_el319141123115853128489542112\"></div>\n",
       "<script type=\"text/javascript\">\n",
       "\n",
       "var ldavis_el319141123115853128489542112_data = {\"mdsDat\": {\"x\": [0.03808292804377584, -0.10391696221779602, -0.021388705159332236, 0.1309059168463415, -0.016531224169053855, -0.02715195334393521], \"y\": [0.029819200078698455, 0.07783379545054964, -0.0245841372954508, 0.03528480395457357, -0.132354044352286, 0.014000382163915269], \"topics\": [1, 2, 3, 4, 5, 6], \"cluster\": [1, 1, 1, 1, 1, 1], \"Freq\": [24.48689472628346, 17.610024376048635, 16.109205786904386, 14.989806334015682, 13.921300626228192, 12.882768150519633]}, \"tinfo\": {\"Category\": [\"Default\", \"Default\", \"Default\", \"Default\", \"Default\", \"Default\", \"Default\", \"Default\", \"Default\", \"Default\", \"Default\", \"Default\", \"Default\", \"Default\", \"Default\", \"Default\", \"Default\", \"Default\", \"Default\", \"Default\", \"Default\", \"Default\", \"Default\", \"Default\", \"Default\", \"Default\", \"Default\", \"Default\", \"Default\", \"Default\", \"Topic1\", \"Topic1\", \"Topic1\", \"Topic1\", \"Topic1\", \"Topic1\", \"Topic1\", \"Topic1\", \"Topic1\", \"Topic1\", \"Topic1\", \"Topic1\", \"Topic1\", \"Topic1\", \"Topic1\", \"Topic1\", \"Topic1\", \"Topic1\", \"Topic1\", \"Topic1\", \"Topic1\", \"Topic1\", \"Topic1\", \"Topic1\", \"Topic1\", \"Topic1\", \"Topic1\", \"Topic1\", \"Topic1\", \"Topic1\", \"Topic1\", \"Topic1\", \"Topic1\", \"Topic1\", \"Topic1\", \"Topic1\", \"Topic1\", \"Topic1\", \"Topic1\", \"Topic1\", \"Topic1\", \"Topic1\", \"Topic1\", \"Topic1\", \"Topic1\", \"Topic1\", \"Topic1\", \"Topic1\", \"Topic1\", \"Topic1\", \"Topic1\", \"Topic1\", \"Topic1\", \"Topic1\", \"Topic1\", \"Topic1\", \"Topic1\", \"Topic1\", \"Topic1\", \"Topic1\", \"Topic1\", \"Topic1\", \"Topic1\", \"Topic1\", \"Topic1\", \"Topic1\", \"Topic1\", \"Topic1\", \"Topic1\", \"Topic2\", \"Topic2\", \"Topic2\", \"Topic2\", \"Topic2\", \"Topic2\", \"Topic2\", \"Topic2\", \"Topic2\", \"Topic2\", \"Topic2\", \"Topic2\", \"Topic2\", \"Topic2\", \"Topic2\", \"Topic2\", \"Topic2\", \"Topic2\", \"Topic2\", \"Topic2\", \"Topic2\", \"Topic2\", \"Topic2\", \"Topic2\", \"Topic2\", \"Topic2\", \"Topic2\", \"Topic2\", \"Topic2\", \"Topic2\", \"Topic2\", \"Topic2\", \"Topic2\", \"Topic2\", \"Topic2\", \"Topic2\", \"Topic2\", \"Topic2\", \"Topic2\", \"Topic2\", \"Topic2\", \"Topic2\", \"Topic2\", \"Topic2\", \"Topic2\", \"Topic2\", \"Topic2\", \"Topic2\", \"Topic2\", \"Topic2\", \"Topic2\", \"Topic2\", \"Topic2\", \"Topic2\", \"Topic2\", \"Topic2\", \"Topic2\", \"Topic2\", \"Topic2\", \"Topic2\", \"Topic2\", \"Topic2\", \"Topic2\", \"Topic2\", \"Topic2\", \"Topic2\", \"Topic2\", \"Topic2\", \"Topic2\", \"Topic3\", \"Topic3\", \"Topic3\", \"Topic3\", \"Topic3\", \"Topic3\", \"Topic3\", \"Topic3\", \"Topic3\", \"Topic3\", \"Topic3\", \"Topic3\", \"Topic3\", \"Topic3\", \"Topic3\", \"Topic3\", \"Topic3\", \"Topic3\", \"Topic3\", \"Topic3\", \"Topic3\", \"Topic3\", \"Topic3\", \"Topic3\", \"Topic3\", \"Topic3\", \"Topic3\", \"Topic3\", \"Topic3\", \"Topic3\", \"Topic3\", \"Topic3\", \"Topic3\", \"Topic3\", \"Topic3\", \"Topic3\", \"Topic3\", \"Topic3\", \"Topic3\", \"Topic3\", \"Topic3\", \"Topic3\", \"Topic3\", \"Topic3\", \"Topic3\", \"Topic3\", \"Topic3\", \"Topic3\", \"Topic3\", \"Topic3\", \"Topic3\", \"Topic3\", \"Topic3\", \"Topic3\", \"Topic3\", \"Topic3\", \"Topic3\", \"Topic3\", \"Topic3\", \"Topic3\", \"Topic3\", \"Topic3\", \"Topic3\", \"Topic3\", \"Topic3\", \"Topic3\", \"Topic3\", \"Topic3\", \"Topic3\", \"Topic3\", \"Topic3\", \"Topic3\", \"Topic3\", \"Topic3\", \"Topic3\", \"Topic4\", \"Topic4\", \"Topic4\", \"Topic4\", \"Topic4\", \"Topic4\", \"Topic4\", \"Topic4\", \"Topic4\", \"Topic4\", \"Topic4\", \"Topic4\", \"Topic4\", \"Topic4\", \"Topic4\", \"Topic4\", \"Topic4\", \"Topic4\", \"Topic4\", \"Topic4\", \"Topic4\", \"Topic4\", \"Topic4\", \"Topic4\", \"Topic4\", \"Topic4\", \"Topic4\", \"Topic4\", \"Topic4\", \"Topic4\", \"Topic4\", \"Topic4\", \"Topic4\", \"Topic4\", \"Topic4\", \"Topic4\", \"Topic4\", \"Topic4\", \"Topic4\", \"Topic4\", \"Topic4\", \"Topic4\", \"Topic4\", \"Topic4\", \"Topic4\", \"Topic4\", \"Topic4\", \"Topic4\", \"Topic4\", \"Topic4\", \"Topic4\", \"Topic4\", \"Topic4\", \"Topic4\", \"Topic4\", \"Topic4\", \"Topic4\", \"Topic4\", \"Topic4\", \"Topic4\", \"Topic4\", \"Topic4\", \"Topic4\", \"Topic4\", \"Topic4\", \"Topic4\", \"Topic4\", \"Topic4\", \"Topic5\", \"Topic5\", \"Topic5\", \"Topic5\", \"Topic5\", \"Topic5\", \"Topic5\", \"Topic5\", \"Topic5\", \"Topic5\", \"Topic5\", \"Topic5\", \"Topic5\", \"Topic5\", \"Topic5\", \"Topic5\", \"Topic5\", \"Topic5\", \"Topic5\", \"Topic5\", \"Topic5\", \"Topic5\", \"Topic5\", \"Topic5\", \"Topic5\", \"Topic5\", \"Topic5\", \"Topic5\", \"Topic5\", \"Topic5\", \"Topic5\", \"Topic5\", \"Topic5\", \"Topic5\", \"Topic5\", \"Topic5\", \"Topic5\", \"Topic5\", \"Topic5\", \"Topic5\", \"Topic5\", \"Topic5\", \"Topic5\", \"Topic5\", \"Topic5\", \"Topic5\", \"Topic5\", \"Topic5\", \"Topic5\", \"Topic5\", \"Topic5\", \"Topic5\", \"Topic5\", \"Topic5\", \"Topic5\", \"Topic5\", \"Topic5\", \"Topic5\", \"Topic5\", \"Topic5\", \"Topic5\", \"Topic5\", \"Topic5\", \"Topic5\", \"Topic5\", \"Topic5\", \"Topic5\", \"Topic5\", \"Topic5\", \"Topic5\", \"Topic5\", \"Topic6\", \"Topic6\", \"Topic6\", \"Topic6\", \"Topic6\", \"Topic6\", \"Topic6\", \"Topic6\", \"Topic6\", \"Topic6\", \"Topic6\", \"Topic6\", \"Topic6\", \"Topic6\", \"Topic6\", \"Topic6\", \"Topic6\", \"Topic6\", \"Topic6\", \"Topic6\", \"Topic6\", \"Topic6\", \"Topic6\", \"Topic6\", \"Topic6\", \"Topic6\", \"Topic6\", \"Topic6\", \"Topic6\", \"Topic6\", \"Topic6\", \"Topic6\", \"Topic6\", \"Topic6\", \"Topic6\", \"Topic6\", \"Topic6\", \"Topic6\", \"Topic6\", \"Topic6\", \"Topic6\", \"Topic6\", \"Topic6\", \"Topic6\", \"Topic6\", \"Topic6\", \"Topic6\", \"Topic6\", \"Topic6\", \"Topic6\", \"Topic6\", \"Topic6\", \"Topic6\", \"Topic6\", \"Topic6\", \"Topic6\", \"Topic6\", \"Topic6\", \"Topic6\", \"Topic6\", \"Topic6\", \"Topic6\", \"Topic6\", \"Topic6\", \"Topic6\", \"Topic6\", \"Topic6\", \"Topic6\", \"Topic6\", \"Topic6\", \"Topic6\", \"Topic6\"], \"Freq\": [193.0, 193.0, 92.0, 166.0, 23.0, 24.0, 86.0, 13.0, 40.0, 20.0, 25.0, 32.0, 28.0, 101.0, 47.0, 57.0, 45.0, 30.0, 135.0, 27.0, 60.0, 79.0, 51.0, 40.0, 26.0, 10.0, 38.0, 45.0, 42.0, 42.0, 9.993457465766154, 9.098742657579788, 4.623502876238226, 3.7293756328508008, 3.728966398442136, 3.7288659596624054, 3.72529099622781, 2.834325093329494, 2.8343250046081, 2.8343249144121625, 2.8343248445196076, 2.8343246057227716, 2.834324083399641, 2.834323870361494, 2.834322227360873, 2.834204878786024, 2.834204878786024, 2.8336205524381577, 2.8336204668343714, 2.8335038838092372, 2.8335038829057306, 2.8333938489538797, 2.8332953533442016, 2.8332942448111216, 2.830446430589944, 2.828311555390912, 4.597108009398288, 1.9392752047690123, 1.9392751831504815, 1.9392748769686594, 4.442423179514905, 11.584735183737175, 5.520853148326806, 29.553827019002092, 20.98075705674159, 73.93032430907955, 7.310942607289139, 14.76254288996454, 8.204353005564085, 40.69269780254273, 13.128347807361633, 22.54345273247669, 7.895926594523736, 6.982531223935232, 8.091428426803692, 43.16986430382613, 6.41507142849475, 17.975557182955377, 6.389500304374404, 8.503898517871287, 10.764800107611762, 52.64444611512381, 8.873735047043356, 19.36059231593187, 36.49472959704947, 27.57110340353037, 13.138312124248342, 29.99853084683681, 9.323853403029414, 10.341860095439374, 17.390040595113383, 10.49653711894648, 12.447077831262968, 10.829018636707278, 13.854052353226303, 11.207693604944248, 9.95200282796694, 11.026845288063566, 9.673283120802584, 6.196544428825085, 6.195914731884753, 5.3313742971406946, 3.6024347916184754, 3.602434791618475, 2.7381079140500137, 2.7376346925789536, 2.7374972153448467, 2.7344909608145502, 2.7344909539195403, 2.73262380538358, 2.6000328524108873, 18.37411058147125, 1.8734419578050256, 1.8734419578050256, 1.8734419051126212, 1.8734418987774972, 1.8734418987774972, 1.8734418857089794, 1.8734418552477041, 1.873441772152286, 1.8734417145672595, 1.8734417145672595, 1.8734417145480056, 1.873441705342806, 1.8734415949190337, 1.8734415727300255, 1.873441520877555, 1.8734413658363018, 1.87344132763555, 3.602653943718318, 3.6035204600129123, 18.666600323323628, 12.451261684835412, 7.792884066505935, 9.506441856052318, 14.164993668165856, 35.00468776463236, 18.380865725870546, 5.275149274628481, 7.062313646338614, 4.515901019263263, 6.624138306412773, 4.043103645051218, 3.602634721772634, 7.511333940767113, 2.736754675306446, 39.824912177428764, 41.42254691711043, 29.628509862593177, 9.158349593133433, 8.409314878213438, 15.643372045242707, 7.920549692939627, 10.031307628020055, 23.593041182399254, 16.45276536232587, 13.665766330850106, 5.762863939591155, 13.729473606028586, 9.083398055199213, 6.44644178865414, 9.42978040027304, 14.988576715585785, 7.914744372293415, 9.010277080319833, 7.629655436078657, 7.508263316198606, 7.019044457541803, 5.325877306860645, 3.5985662574650275, 3.5984624011947526, 2.7344660226568194, 2.734462850732733, 2.7341693224853993, 2.7340097538447687, 2.717017667737902, 4.462200219593206, 4.461632474294411, 1.8712546456601524, 1.8712545370771883, 1.8712545271708425, 1.8712545169733525, 1.8712544021382362, 1.8712543067333047, 1.871254171189471, 1.871254171189471, 1.8712541146818855, 1.8712540609003152, 1.8712540609003152, 1.871253655603287, 1.8712535707795677, 1.8712534878856144, 1.8712534878856144, 1.8712529821045774, 1.8712526096321742, 1.8712523306872428, 1.8712494199839795, 1.8710265448909644, 4.258942403097742, 3.5987406839329212, 3.5991620944563314, 10.070595885434676, 19.982143019155938, 70.67234985954555, 5.3259127771008865, 8.782217218683984, 3.5986863023074567, 3.1791878382138794, 3.179187838099698, 3.179187837699903, 2.7338265388318237, 2.734174232067427, 6.729038356702863, 4.459955285548725, 2.7270925595207696, 5.324469390949954, 25.310171981331003, 9.173904361119057, 8.185087294867888, 11.167927219931226, 4.46223889603915, 24.49220393427889, 20.973784178947632, 9.681482348853857, 20.21374142141915, 16.202484978360268, 6.191895607725916, 10.144363013131622, 14.210139379896182, 4.9032469847597, 9.257453584384276, 7.916656329275172, 8.268113047614072, 8.182703533443911, 8.660464903820142, 9.328571444299078, 7.154703830862538, 7.49382224744682, 6.650817997015638, 10.171592591906938, 6.364069079011931, 6.224048683729082, 5.966509622029145, 6.953233058960911, 3.5474133322828574, 3.5471498655275013, 2.696251562667788, 2.695911870516737, 2.6952294173289366, 7.610464198687556, 4.396660432729368, 1.8449021695123893, 1.8449020628627522, 1.844901990575182, 1.8449019457342732, 1.8449018136081676, 1.8449016947075945, 1.8449016947075945, 1.8449016722550062, 1.844901456332649, 1.8449014335590999, 1.844901372245736, 1.844901255252282, 1.8449011963293531, 1.8449010270711412, 1.844900761096331, 1.84478924022154, 1.8447891249137138, 1.8447787115430874, 1.8447408377831185, 1.8447397484557955, 1.8446930406940554, 1.844688829273329, 8.41216943368167, 3.5473239398353544, 6.645632482913141, 8.25892550892961, 6.791263797255332, 6.103117273150725, 69.13651416543132, 8.711894318678453, 2.6966276153808986, 2.6965873687463264, 2.6968611714907844, 2.6935772769776065, 4.753096175771531, 13.23334156927029, 14.028464439941002, 20.321241807943405, 13.167037361760334, 9.4390143986845, 3.3708414053357836, 24.480441360824198, 2.6281541852093193, 3.548967637525199, 12.914778421561932, 16.847309596287474, 23.015631299271796, 18.19946713005966, 14.79276707369916, 10.106339228593328, 6.245942882952848, 9.328308000897843, 6.643241598524714, 6.965796452166463, 6.106788999267433, 6.629522030022489, 7.029136925411112, 8.667730212101082, 6.714345931728, 7.246964291777155, 3.572579464769056, 2.7157357253844663, 2.715678994633091, 2.7151406712300403, 2.715107140880897, 2.7117877569279742, 5.290975467662199, 7.756077578596829, 10.27479035480771, 1.8581351394656558, 1.858135132084727, 1.8581350975210236, 1.8581350960782268, 1.8581349366798308, 1.8581349159982719, 1.8581348511308313, 1.8581346373183045, 1.8581331091642175, 1.8579231058251118, 1.8577757717741101, 1.8576889449840668, 1.8576889449840603, 1.8576889449840572, 1.857665600700505, 1.8573953355235169, 1.8573254038518285, 1.8571410993736241, 1.8566884299730202, 1.856486853622044, 1.8551814067402859, 6.853300752378295, 15.069044738958596, 3.5744955280950825, 3.5741514036655486, 3.5740042337700193, 4.374537494243768, 14.780416520568053, 32.52075115345255, 4.431823016212502, 15.76610325561083, 4.432089838521433, 12.605481142733156, 2.7159455019308605, 2.7154870265810156, 10.070507345306366, 2.712698152827275, 11.270414465772747, 4.431405929234922, 6.150198147999237, 13.253203536596788, 3.5741910533150443, 10.98790792326776, 4.399236754813886, 3.5752785039656145, 20.35792063608344, 10.017311047865054, 17.328268856440147, 18.046397037235458, 13.458492515568508, 6.165470710240895, 6.270665824838843, 5.866279025150423, 10.803999762412117, 14.300912826758356, 11.923953239463577, 6.845185305614296, 6.710395461165307, 5.628643539656707, 5.957586790921749, 7.310970810083812, 6.121216432478576, 3.4533038670882137, 2.624510454950791, 2.62451000537823, 2.624509574737333, 2.6245085256096177, 2.624361194959053, 2.624260638942567, 2.6241943702082375, 2.6240647061932125, 2.6233688979206398, 1.7957179571967323, 1.7957177939022182, 1.7957177939022182, 1.7957176912947663, 1.7957174847338329, 1.7957174362556823, 1.7957173564698754, 1.7957173564698754, 1.7957173564698754, 1.7957173092571637, 1.7957171860525825, 1.7957171564788277, 1.7957171554423976, 1.7957167557848623, 1.7957164282343991, 1.7957163083181855, 1.7957153869375526, 1.7957140504277762, 1.7956492072560324, 1.795649051540813, 3.4534413470041656, 3.4502903007192667, 3.397467629567265, 7.582158453629877, 7.533919022768207, 8.346282808382044, 3.453577251686088, 39.30485201116119, 2.6249412484249928, 2.624226012762136, 4.284037975510314, 4.28278700398962, 4.282681973159667, 2.576050485290168, 2.576050485252265, 13.434489087201934, 28.200061144981646, 6.517092664700606, 25.439800803913922, 4.2273556827141245, 13.385355809850065, 10.164455249351182, 6.564955487803529, 15.15077950278925, 8.969369202998006, 7.613620578642796, 12.526496748471581, 11.600956639778897, 8.030175930953959, 10.382461428945577, 7.475159983166465, 5.044694828348337, 5.11144940639227, 6.230841028846184, 5.500427425741462, 5.11401320692895, 7.675633396311255, 7.502026934354259, 6.377434500284992, 5.113189626725869, 4.972811471958243, 4.621528595708937], \"Term\": [\"conference\", \"event\", \"speaker\", \"topic\", \"networking\", \"topic covered\", \"time\", \"speaker topic\", \"price\", \"money\", \"timing\", \"interesting\", \"opportunity\", \"attend\", \"company\", \"budget\", \"based\", \"covered\", \"travel\", \"ve\", \"pay\", \"work\", \"year\", \"employer\", \"value\", \"networking opportunity\", \"look\", \"research\", \"like\", \"local\", \"affordable\", \"topic location\", \"depends topic\", \"determine\", \"nice\", \"invited\", \"location budget\", \"combine\", \"12\", \"employer pay conference\", \"start\", \"usually attend\", \"speaker travel\", \"location important\", \"volunteer\", \"conference ve\", \"conference ve attended\", \"invited speak\", \"keen\", \"huge\", \"huge consideration\", \"field\", \"conference event\", \"event travel\", \"month\", \"looked\", \"ve attended\", \"minute\", \"visit family\", \"factor determine\", \"pay travel\", \"conference year\", \"paid\", \"pay\", \"employer\", \"conference\", \"big\", \"ve\", \"employer pay\", \"attend\", \"ll\", \"year\", \"distance\", \"way\", \"expensive\", \"travel\", \"limited\", \"local\", \"attended\", \"expense\", \"place\", \"event\", \"free\", \"budget\", \"topic\", \"location\", \"factor\", \"cost\", \"city\", \"try\", \"speaker\", \"usually\", \"research\", \"important\", \"time\", \"company\", \"want\", \"work\", \"new\", \"time away\", \"time money\", \"travel time\", \"away work\", \"time away work\", \"weekend\", \"event abroad\", \"perceived value\", \"topic covered speaker\", \"covered speaker\", \"getting\", \"based budget\", \"topic covered\", \"previous edition\", \"edition\", \"important look\", \"interested attending event\", \"interested attending\", \"conference usually\", \"wa good\", \"assume\", \"zealand\", \"new zealand\", \"essential\", \"travel factor\", \"shorter\", \"honest\", \"day work\", \"try stay\", \"expense travel\", \"abroad\", \"plan\", \"covered\", \"money\", \"best\", \"away\", \"value\", \"time\", \"based\", \"impact\", \"afford\", \"generally\", \"benefit\", \"based topic\", \"size\", \"good\", \"easily\", \"topic\", \"event\", \"travel\", \"day\", \"attending\", \"budget\", \"interested\", \"usually\", \"cost\", \"work\", \"pay\", \"consider\", \"location\", \"new\", \"area\", \"company\", \"conference\", \"interesting\", \"year\", \"need\", \"factor\", \"don\", \"location price\", \"low\", \"social\", \"rosenfeld\", \"respect\", \"event cost\", \"travel distance\", \"event attend\", \"discussion\", \"example\", \"slack\", \"certification\", \"event live\", \"talk like\", \"decide attend\", \"oriented\", \"employer pay need\", \"pay need\", \"travel important\", \"event want\", \"event want attend\", \"important topic\", \"day conference\", \"employer cover cost\", \"employer cover\", \"relevant content\", \"apart\", \"colleague attending\", \"financial\", \"social medium\", \"decide based\", \"nng\", \"want attend\", \"attend event\", \"price\", \"event\", \"role\", \"ha\", \"medium\", \"francisco\", \"san francisco\", \"san\", \"panel\", \"event event\", \"decide\", \"primarily\", \"look event\", \"choose\", \"attend\", \"ve\", \"day\", \"employer\", \"group\", \"topic\", \"travel\", \"content\", \"cost\", \"location\", \"im\", \"based\", \"speaker\", \"type\", \"research\", \"relevant\", \"talk\", \"important\", \"like\", \"pay\", \"workshop\", \"need\", \"want\", \"conference\", \"learn\", \"time\", \"work\", \"subject matter\", \"conference attend\", \"speaker location\", \"reputation conference\", \"org\", \"tech\", \"subject\", \"focused\", \"lack\", \"im speaking\", \"choose conference\", \"ll able\", \"try local\", \"result\", \"evidence\", \"allows\", \"ux conference\", \"conference conference\", \"vary\", \"don time\", \"uk location\", \"new perspective\", \"career goal\", \"conf\", \"technology\", \"conference know\", \"community conference\", \"local meetup\", \"folk\", \"okrs\", \"matter\", \"cost conference\", \"organization\", \"feel\", \"location cost\", \"goal\", \"conference\", \"reputation\", \"different\", \"asked\", \"attend local\", \"impression\", \"meet\", \"like\", \"research\", \"work\", \"local\", \"try\", \"research conference\", \"location\", \"say\", \"kid\", \"year\", \"time\", \"cost\", \"attend\", \"speaker\", \"company\", \"lot\", \"learn\", \"workshop\", \"talk\", \"people\", \"new\", \"budget\", \"topic\", \"pay\", \"event\", \"opportunity learn\", \"candidate\", \"effective\", \"novel\", \"reasonable cost\", \"compared\", \"learn new\", \"networking opportunity\", \"speaker topic\", \"money travel\", \"interesting place\", \"spend money\", \"just lunch\", \"type people\", \"people don\", \"important networking\", \"like travel\", \"location availability\", \"networking usually\", \"biggest factor\", \"meet interesting people\", \"meet interesting\", \"interesting people\", \"seen\", \"cost perceived\", \"insight\", \"like spend\", \"work cover\", \"speaker topic covered\", \"face\", \"worth\", \"networking\", \"teach\", \"leadership\", \"attendee\", \"spend\", \"opportunity\", \"speaker\", \"read\", \"look\", \"recommendation\", \"interesting\", \"timing cost\", \"variety\", \"timing\", \"issue\", \"people\", \"practical\", \"skill\", \"learn\", \"reasonable\", \"new\", \"project\", \"life\", \"cost\", \"like\", \"topic\", \"conference\", \"location\", \"likely\", \"money\", \"learning\", \"work\", \"event\", \"travel\", \"important\", \"talk\", \"attending\", \"want\", \"attend\", \"research\", \"company cover\", \"relevance topic\", \"relevant topic\", \"quality speaker\", \"topic cost\", \"location timing\", \"application\", \"topic new\", \"travel required\", \"budget topic\", \"closely\", \"attend company\", \"attend company cover\", \"company cover cost\", \"honestly\", \"frame\", \"date availability\", \"availability travel\", \"date availability travel\", \"primarily based\", \"factor cost\", \"topic company\", \"topic fit\", \"general theme\", \"price company\", \"level talk\", \"based content\", \"presenter\", \"isnt\", \"level experience\", \"depending\", \"balance\", \"fit schedule\", \"relevance\", \"level\", \"cover\", \"cover cost\", \"topic\", \"paper\", \"cover travel\", \"availability\", \"funding\", \"valuable\", \"development budget\", \"professional development budget\", \"company\", \"cost\", \"depends\", \"travel\", \"development\", \"budget\", \"content\", \"learning\", \"work\", \"relevant\", \"timing\", \"location\", \"speaker\", \"learn\", \"time\", \"based\", \"experience\", \"quality\", \"need\", \"schedule\", \"consideration\", \"event\", \"conference\", \"attend\", \"factor\", \"workshop\", \"people\"], \"Total\": [193.0, 193.0, 92.0, 166.0, 23.0, 24.0, 86.0, 13.0, 40.0, 20.0, 25.0, 32.0, 28.0, 101.0, 47.0, 57.0, 45.0, 30.0, 135.0, 27.0, 60.0, 79.0, 51.0, 40.0, 26.0, 10.0, 38.0, 45.0, 42.0, 42.0, 10.705701569457453, 9.81065296700824, 5.335395169241017, 4.440411332213552, 4.440397431257917, 4.4403900073172995, 4.440125282168953, 3.545360979569904, 3.5453609754847535, 3.545360971266949, 3.5453609679329983, 3.5453609564982616, 3.5453609314819463, 3.5453609207954866, 3.5453608428469816, 3.5453551294588976, 3.5453551294588976, 3.5453315020098364, 3.545331497995498, 3.5453210165539772, 3.545321016510009, 3.5453293593741346, 3.5453248583560892, 3.545324806029762, 3.5451722303938378, 3.5450683411828523, 6.185669050592176, 2.650310658431144, 2.6503106574803232, 2.650310642927031, 6.1939448511027635, 16.750847946657064, 7.945718326186037, 60.50181482932591, 40.24381536164261, 193.77543175359332, 11.41611599324737, 27.263307272629465, 13.23393449134086, 101.03525258907841, 25.27346927249291, 51.558391790105844, 13.216402909236484, 11.444853439179624, 14.083641892093706, 135.9201617240568, 10.582692483335315, 42.64687443456409, 10.563981747844915, 15.735475632784215, 21.80166866669385, 193.96285340662655, 17.555329430364118, 57.89064434004253, 166.11269678845954, 107.96849261278352, 33.02352612110626, 145.3789265309921, 20.873429593785016, 26.956063292754045, 92.9587757537796, 31.263910784312284, 45.806740581577614, 36.451248154960936, 86.1876842817854, 47.19472335451748, 31.31596626019071, 79.72214134556336, 42.374610622947095, 6.912868857066302, 6.912860507961028, 6.048218412171724, 4.318872895160399, 4.318872895160399, 3.454207469395942, 3.454206056151909, 3.4541822282133485, 3.4540760283575302, 3.4540760281034446, 3.454400156280224, 3.454046199047328, 24.901586272133233, 2.589541642392206, 2.589541642392206, 2.589541641966614, 2.5895416418929513, 2.5895416418929513, 2.589541641756921, 2.589541641427765, 2.5895416406410137, 2.589541639970601, 2.589541639970601, 2.5895416400442035, 2.589541639727493, 2.589541638834759, 2.589541638652091, 2.5895416379568155, 2.5895416366584945, 2.5895416362371155, 5.170369247122931, 5.176481738298611, 30.125478473239063, 20.71513499154507, 12.915966188859231, 16.443011330934088, 26.823751352252888, 86.1876842817854, 45.398315585154826, 9.4559411957054, 13.719474941689564, 7.800789297915692, 12.926903773351441, 6.910353490365787, 6.005264166581338, 16.36421350583208, 4.283044517923421, 166.11269678845954, 193.96285340662655, 135.9201617240568, 23.43299163886829, 20.734179674963613, 57.89064434004253, 20.68642747889219, 31.263910784312284, 145.3789265309921, 79.72214134556336, 60.50181482932591, 13.046748732504373, 107.96849261278352, 42.374610622947095, 18.08636540162333, 47.19472335451748, 193.77543175359332, 32.15896743146032, 51.558391790105844, 34.55479701465449, 33.02352612110626, 25.940402229081855, 6.042147033000514, 4.3148346925884296, 4.314838459942215, 3.45117226069765, 3.451172232525535, 3.4511793744654047, 3.451211229302561, 3.451218133934791, 6.043143245573601, 6.073438442926214, 2.5875223469518445, 2.5875223460243237, 2.587522345853823, 2.5875223458131487, 2.587522344794925, 2.5875223440717097, 2.587522342899608, 2.587522342899608, 2.5875223422510967, 2.58752234148058, 2.58752234148058, 2.5875223380740193, 2.5875223372971634, 2.5875223360934276, 2.5875223360934276, 2.587522331869388, 2.58752232859374, 2.5875223264762552, 2.587522298876378, 2.5875305781392144, 6.043394319277927, 5.172436937776291, 5.209863334817026, 18.204033116459645, 40.63664440753866, 193.96285340662655, 9.509916711882969, 18.2285091805415, 6.017828740491477, 5.126780149855634, 5.1267801498487255, 5.126780149824537, 4.308763261298321, 4.315876855582598, 14.665119384968454, 8.51639598466016, 4.346171358816445, 11.169387541172716, 101.03525258907841, 27.263307272629465, 23.43299163886829, 40.24381536164261, 9.48158663144301, 166.11269678845954, 135.9201617240568, 37.70828197307491, 145.3789265309921, 107.96849261278352, 17.097203829367245, 45.398315585154826, 92.9587757537796, 11.231807859090534, 45.806740581577614, 33.39542440071875, 37.03644610790195, 36.451248154960936, 42.01895992688727, 60.50181482932591, 29.217066671769224, 34.55479701465449, 31.31596626019071, 193.77543175359332, 46.264463669037795, 86.1876842817854, 79.72214134556336, 7.672173113331735, 4.266202544442156, 4.2661989383729475, 3.4146917262496017, 3.414698163656629, 3.414699056423451, 10.288519117736731, 5.981343075151653, 2.5631971280067827, 2.5631971288415167, 2.563197129328151, 2.56319712974375, 2.563197131062639, 2.563197132011892, 2.563197132011892, 2.5631971320796376, 2.5631971334679564, 2.563197133773971, 2.56319713458057, 2.563197135416241, 2.5631971360074104, 2.5631971375018243, 2.5631971389776087, 2.563202882340496, 2.563202883230484, 2.563199016249401, 2.563205363988715, 2.5632053729424413, 2.5632003537157018, 2.5632004237841697, 12.86688730025752, 5.161188113939709, 10.260602038307585, 13.721520744528506, 11.151036300959234, 10.164623742353003, 193.77543175359332, 17.94700840660834, 4.278321937063037, 4.2783601070765185, 4.279415204576236, 4.279450096953051, 9.441229643863307, 42.01895992688727, 45.806740581577614, 79.72214134556336, 42.64687443456409, 26.956063292754045, 6.065276961537715, 107.96849261278352, 4.3130845733806105, 6.823303521354956, 51.558391790105844, 86.1876842817854, 145.3789265309921, 101.03525258907841, 92.9587757537796, 47.19472335451748, 19.803961824706544, 46.264463669037795, 29.217066671769224, 37.03644610790195, 30.939370963715852, 42.374610622947095, 57.89064434004253, 166.11269678845954, 60.50181482932591, 193.96285340662655, 4.290595813503685, 3.4330130643162615, 3.433013464955276, 3.4330088264635323, 3.4330404766575096, 3.4331559166615224, 6.870460556566588, 10.306694675611165, 13.743525783156286, 2.5754120424109486, 2.575412042412677, 2.5754120423984346, 2.575412042338317, 2.575412042242729, 2.575412042130708, 2.575412042211203, 2.5754120421273248, 2.5754120402034157, 2.5754212637850102, 2.5754276816575827, 2.5754088674534352, 2.575408867453435, 2.575408867453435, 2.575408698348381, 2.57540678539336, 2.575447381685891, 2.575403506279848, 2.5753813128028527, 2.5753747801778237, 2.5754423147898566, 9.517514777238157, 23.206593191828965, 5.18560975522971, 5.185627268136892, 5.185635235133583, 6.826627315194889, 28.422375950662758, 92.9587757537796, 7.669456113146826, 38.83440117029762, 7.833202615553032, 32.15896743146032, 4.261813235908872, 4.261805578330298, 25.650830789508916, 4.296694286905203, 30.939370963715852, 8.486084742477958, 14.65709079426713, 46.264463669037795, 6.834616580504031, 42.374610622947095, 9.592333525773267, 6.8582472634310285, 145.3789265309921, 42.01895992688727, 166.11269678845954, 193.77543175359332, 107.96849261278352, 19.804028057154962, 20.71513499154507, 18.7198993712664, 79.72214134556336, 193.96285340662655, 135.9201617240568, 36.451248154960936, 37.03644610790195, 20.734179674963613, 31.31596626019071, 101.03525258907841, 45.806740581577614, 4.175382261854067, 3.3465892167705387, 3.346589236032999, 3.3465892542666094, 3.3465892993675155, 3.3465956771217398, 3.3466091683333685, 3.346614375455389, 3.346619383395857, 3.346635291444644, 2.5177961327942064, 2.5177961397539024, 2.5177961397539024, 2.517796144174311, 2.517796152818863, 2.5177961549302097, 2.5177961584769366, 2.5177961584769366, 2.5177961584769366, 2.5177961603154957, 2.5177961657792305, 2.517796166993354, 2.517796166994847, 2.517796184266337, 2.517796198507761, 2.517796202933409, 2.5177962423793514, 2.517796299470042, 2.5177991080827034, 2.51779911478023, 5.032978526634247, 5.033108263427922, 5.042467134200736, 13.454456023710769, 14.41140774571851, 18.7815337004486, 5.9026807963156624, 166.11269678845954, 4.241604952027442, 4.241631640656293, 8.441566326279766, 8.442605099652795, 8.461809761418735, 4.199410103677307, 4.199410103678346, 47.19472335451748, 145.3789265309921, 17.256142595557414, 135.9201617240568, 9.333312215410654, 57.89064434004253, 37.70828197307491, 18.7198993712664, 79.72214134556336, 33.39542440071875, 25.650830789508916, 107.96849261278352, 92.9587757537796, 46.264463669037795, 86.1876842817854, 45.398315585154826, 17.246057364414213, 18.72658368449101, 34.55479701465449, 25.03374840233065, 20.660959780583067, 193.96285340662655, 193.77543175359332, 101.03525258907841, 33.02352612110626, 29.217066671769224, 30.939370963715852], \"loglift\": [30.0, 29.0, 28.0, 27.0, 26.0, 25.0, 24.0, 23.0, 22.0, 21.0, 20.0, 19.0, 18.0, 17.0, 16.0, 15.0, 14.0, 13.0, 12.0, 11.0, 10.0, 9.0, 8.0, 7.0, 6.0, 5.0, 4.0, 3.0, 2.0, 1.0, 1.3382, 1.3317, 1.2638, 1.2325, 1.2324, 1.2324, 1.2315, 1.1832, 1.1832, 1.1832, 1.1832, 1.1832, 1.1832, 1.1832, 1.1832, 1.1832, 1.1832, 1.183, 1.183, 1.1829, 1.1829, 1.1829, 1.1828, 1.1828, 1.1819, 1.1812, 1.1102, 1.0947, 1.0947, 1.0947, 1.0747, 1.0383, 1.0429, 0.6906, 0.7557, 0.4435, 0.9614, 0.7936, 0.9289, 0.4976, 0.7521, 0.5798, 0.8919, 0.9129, 0.8528, 0.2601, 0.9065, 0.5431, 0.9042, 0.7916, 0.7013, 0.1029, 0.7248, 0.3117, -0.1085, 0.042, 0.4853, -0.1712, 0.6011, 0.449, -0.2692, 0.3156, 0.1041, 0.1933, -0.4209, -0.0306, 0.2607, -0.5712, -0.0701, 1.6273, 1.6272, 1.6105, 1.5553, 1.5553, 1.5044, 1.5042, 1.5042, 1.5031, 1.5031, 1.5023, 1.4527, 1.4327, 1.413, 1.413, 1.413, 1.413, 1.413, 1.413, 1.413, 1.413, 1.413, 1.413, 1.413, 1.413, 1.413, 1.413, 1.413, 1.413, 1.413, 1.3754, 1.3745, 1.2581, 1.2277, 1.2314, 1.1888, 1.0982, 0.8357, 0.8325, 1.1531, 1.0727, 1.1901, 1.0681, 1.2007, 1.2257, 0.958, 1.2888, 0.3085, 0.1929, 0.2134, 0.7972, 0.8343, 0.4282, 0.7767, 0.5999, -0.0817, 0.1586, 0.2489, 0.9196, -0.3256, 0.1966, 0.7051, 0.1263, -0.8227, 0.3347, -0.0076, 0.2262, 0.2555, 0.4295, 1.6996, 1.6443, 1.6442, 1.593, 1.593, 1.5929, 1.5928, 1.5866, 1.5225, 1.5174, 1.5017, 1.5017, 1.5017, 1.5017, 1.5017, 1.5017, 1.5017, 1.5017, 1.5017, 1.5017, 1.5017, 1.5017, 1.5017, 1.5017, 1.5017, 1.5017, 1.5017, 1.5017, 1.5017, 1.5016, 1.4758, 1.463, 1.4559, 1.2338, 1.1159, 0.8162, 1.246, 1.0955, 1.3116, 1.3479, 1.3479, 1.3479, 1.3708, 1.3693, 1.0467, 1.1789, 1.3597, 1.0849, 0.4415, 0.7366, 0.7739, 0.5439, 1.0721, -0.0885, -0.043, 0.4661, -0.1472, -0.0709, 0.8101, 0.3272, -0.0524, 0.9969, 0.2268, 0.3863, 0.3263, 0.3318, 0.2464, -0.0438, 0.4188, 0.2973, 0.2764, -1.1213, -0.1579, -0.8023, -0.7666, 1.7994, 1.7133, 1.7132, 1.6616, 1.6614, 1.6612, 1.5963, 1.59, 1.569, 1.569, 1.569, 1.569, 1.569, 1.569, 1.569, 1.569, 1.569, 1.569, 1.569, 1.569, 1.569, 1.569, 1.569, 1.5689, 1.5689, 1.5689, 1.5689, 1.5689, 1.5689, 1.5689, 1.4728, 1.5228, 1.4634, 1.3901, 1.4019, 1.3877, 0.8672, 1.1751, 1.4362, 1.4362, 1.4361, 1.4348, 1.2115, 0.7424, 0.7145, 0.5309, 0.7226, 0.8484, 1.3104, 0.4138, 1.4024, 1.2441, 0.5135, 0.2655, 0.0546, 0.1837, 0.0598, 0.3567, 0.7438, 0.2965, 0.4166, 0.2269, 0.2752, 0.0428, -0.2107, -1.0553, -0.3006, -1.3893, 1.7886, 1.7374, 1.7374, 1.7372, 1.7371, 1.7359, 1.7105, 1.6874, 1.6809, 1.6453, 1.6453, 1.6453, 1.6453, 1.6453, 1.6453, 1.6453, 1.6453, 1.6453, 1.6452, 1.6451, 1.6451, 1.6451, 1.6451, 1.6451, 1.6449, 1.6449, 1.6448, 1.6445, 1.6444, 1.6437, 1.6433, 1.54, 1.5997, 1.5996, 1.5995, 1.5267, 1.3179, 0.9215, 1.4233, 1.0703, 1.4022, 1.0352, 1.5212, 1.521, 1.0368, 1.5118, 0.9619, 1.322, 1.1033, 0.7216, 1.3235, 0.622, 1.1922, 1.3203, 0.0059, 0.5379, -0.2886, -0.402, -0.1105, 0.8048, 0.7768, 0.8114, -0.0269, -0.6356, -0.4618, 0.2993, 0.2635, 0.6678, 0.3123, -0.6543, -0.0409, 1.8594, 1.8062, 1.8062, 1.8062, 1.8062, 1.8062, 1.8061, 1.8061, 1.8061, 1.8058, 1.7113, 1.7113, 1.7113, 1.7113, 1.7113, 1.7113, 1.7113, 1.7113, 1.7113, 1.7113, 1.7113, 1.7113, 1.7113, 1.7113, 1.7113, 1.7113, 1.7113, 1.7113, 1.7113, 1.7113, 1.6726, 1.6717, 1.6544, 1.4758, 1.4007, 1.2382, 1.5133, 0.608, 1.5694, 1.5691, 1.371, 1.3706, 1.3683, 1.5606, 1.5606, 0.7928, 0.4093, 1.0755, 0.3735, 1.2573, 0.5849, 0.7383, 1.0014, 0.3888, 0.7347, 0.8346, -0.1047, -0.0318, 0.2981, -0.0671, 0.2454, 0.82, 0.7508, 0.3362, 0.5339, 0.653, -1.1803, -1.2022, -0.7134, 0.1839, 0.2785, 0.148], \"logprob\": [30.0, 29.0, 28.0, 27.0, 26.0, 25.0, 24.0, 23.0, 22.0, 21.0, 20.0, 19.0, 18.0, 17.0, 16.0, 15.0, 14.0, 13.0, 12.0, 11.0, 10.0, 9.0, 8.0, 7.0, 6.0, 5.0, 4.0, 3.0, 2.0, 1.0, -5.3333, -5.4271, -6.1041, -6.319, -6.3191, -6.3191, -6.3201, -6.5934, -6.5934, -6.5934, -6.5934, -6.5934, -6.5934, -6.5934, -6.5934, -6.5935, -6.5935, -6.5937, -6.5937, -6.5937, -6.5937, -6.5938, -6.5938, -6.5938, -6.5948, -6.5956, -6.1098, -6.9729, -6.9729, -6.9729, -6.144, -5.1856, -5.9267, -4.249, -4.5916, -3.3321, -5.6459, -4.9432, -5.5306, -3.9292, -5.0605, -4.5198, -5.5689, -5.6918, -5.5444, -3.8701, -5.7766, -4.7462, -5.7806, -5.4947, -5.259, -3.6717, -5.4521, -4.672, -4.0381, -4.3185, -5.0597, -4.2341, -5.4027, -5.299, -4.7793, -5.2842, -5.1138, -5.253, -5.0067, -5.2186, -5.3375, -5.2349, -5.3659, -5.4816, -5.4817, -5.632, -6.024, -6.024, -6.2983, -6.2985, -6.2985, -6.2996, -6.2996, -6.3003, -6.3501, -4.3946, -6.6778, -6.6778, -6.6778, -6.6778, -6.6778, -6.6778, -6.6778, -6.6778, -6.6778, -6.6778, -6.6778, -6.6778, -6.6778, -6.6778, -6.6778, -6.6778, -6.6778, -6.0239, -6.0237, -4.3788, -4.7838, -5.2524, -5.0536, -4.6548, -3.7501, -4.3943, -5.6426, -5.3508, -5.798, -5.4149, -5.9086, -6.0239, -5.2892, -6.2988, -3.6211, -3.5817, -3.9168, -5.0909, -5.1762, -4.5555, -5.2361, -4.9999, -4.1446, -4.5051, -4.6907, -5.5541, -4.686, -5.0991, -5.442, -5.0617, -4.5983, -5.2368, -5.1072, -5.2735, -5.2896, -5.3569, -5.5439, -5.936, -5.936, -6.2106, -6.2106, -6.2107, -6.2107, -6.217, -5.7209, -5.721, -6.5899, -6.5899, -6.5899, -6.5899, -6.5899, -6.5899, -6.5899, -6.5899, -6.5899, -6.5899, -6.5899, -6.5899, -6.5899, -6.5899, -6.5899, -6.5899, -6.5899, -6.5899, -6.5899, -6.59, -5.7675, -5.9359, -5.9358, -4.9069, -4.2217, -2.9584, -5.5439, -5.0438, -5.9359, -6.0599, -6.0599, -6.0599, -6.2108, -6.2107, -5.3101, -5.7214, -6.2133, -5.5442, -3.9853, -5.0001, -5.1142, -4.8035, -5.7208, -4.0181, -4.1732, -4.9463, -4.2101, -4.4313, -5.3933, -4.8996, -4.5625, -5.6266, -4.9911, -5.1475, -5.1041, -5.1145, -5.0577, -4.9834, -5.2487, -5.2024, -5.3218, -4.8969, -5.3658, -5.3881, -5.4303, -5.2053, -5.8783, -5.8783, -6.1526, -6.1527, -6.153, -5.115, -5.6636, -6.5321, -6.5321, -6.5321, -6.5321, -6.5321, -6.5321, -6.5321, -6.5321, -6.5321, -6.5321, -6.5321, -6.5321, -6.5321, -6.5321, -6.5321, -6.5321, -6.5321, -6.5321, -6.5321, -6.5321, -6.5322, -6.5322, -5.0148, -5.8783, -5.2505, -5.0332, -5.2288, -5.3357, -2.9084, -4.9798, -6.1525, -6.1525, -6.1524, -6.1536, -5.5857, -4.5617, -4.5034, -4.1328, -4.5668, -4.8996, -5.9293, -3.9466, -6.1782, -5.8778, -4.5861, -4.3203, -4.0083, -4.2431, -4.4503, -4.8313, -5.3125, -4.9114, -5.2509, -5.2035, -5.3351, -5.2529, -5.1944, -4.9849, -5.2402, -5.1639, -5.7972, -6.0715, -6.0715, -6.0717, -6.0717, -6.0729, -5.4045, -5.022, -4.7408, -6.451, -6.451, -6.451, -6.451, -6.451, -6.451, -6.451, -6.451, -6.451, -6.4511, -6.4511, -6.4512, -6.4512, -6.4512, -6.4512, -6.4514, -6.4514, -6.4515, -6.4517, -6.4518, -6.4525, -5.1458, -4.3579, -5.7967, -5.7968, -5.7968, -5.5947, -4.3772, -3.5886, -5.5817, -4.3127, -5.5817, -4.5364, -6.0714, -6.0716, -4.7609, -6.0726, -4.6483, -5.5818, -5.254, -4.4863, -5.7968, -4.6737, -5.5891, -5.7965, -4.0571, -4.7662, -4.2182, -4.1776, -4.4709, -5.2516, -5.2346, -5.3013, -4.6906, -4.4102, -4.592, -5.147, -5.1669, -5.3427, -5.2859, -5.0812, -5.2588, -5.7537, -6.0281, -6.0281, -6.0281, -6.0281, -6.0282, -6.0282, -6.0282, -6.0283, -6.0285, -6.4076, -6.4076, -6.4076, -6.4076, -6.4076, -6.4076, -6.4076, -6.4076, -6.4076, -6.4076, -6.4076, -6.4076, -6.4076, -6.4076, -6.4076, -6.4076, -6.4076, -6.4076, -6.4076, -6.4076, -5.7536, -5.7545, -5.77, -4.9672, -4.9736, -4.8712, -5.7536, -3.3216, -6.0279, -6.0282, -5.5381, -5.5384, -5.5384, -6.0467, -6.0467, -4.3952, -3.6537, -5.1186, -3.7567, -5.5514, -4.3988, -4.6741, -5.1113, -4.2749, -4.7992, -4.9631, -4.4652, -4.5419, -4.9098, -4.6529, -4.9814, -5.3747, -5.3615, -5.1635, -5.2882, -5.361, -4.9549, -4.9778, -5.1402, -5.3612, -5.389, -5.4623]}, \"token.table\": {\"Topic\": [1, 2, 4, 1, 2, 4, 5, 6, 1, 4, 3, 6, 1, 2, 4, 5, 6, 3, 4, 2, 1, 2, 3, 4, 5, 6, 6, 6, 1, 3, 4, 5, 6, 2, 4, 1, 3, 4, 1, 5, 1, 2, 3, 4, 5, 2, 5, 6, 6, 1, 2, 3, 4, 5, 2, 5, 6, 2, 3, 4, 5, 6, 2, 6, 2, 3, 2, 3, 4, 5, 2, 4, 5, 1, 3, 4, 6, 5, 1, 2, 3, 4, 5, 6, 6, 5, 4, 3, 3, 4, 5, 4, 1, 2, 3, 4, 5, 6, 6, 3, 1, 4, 1, 2, 3, 4, 6, 6, 6, 5, 4, 1, 2, 3, 4, 5, 6, 4, 4, 1, 4, 2, 1, 1, 1, 2, 4, 1, 2, 3, 6, 1, 2, 3, 4, 5, 6, 1, 2, 3, 4, 5, 6, 1, 2, 3, 4, 5, 6, 1, 4, 5, 1, 2, 3, 5, 6, 3, 6, 1, 6, 1, 2, 3, 4, 5, 6, 2, 6, 6, 1, 2, 3, 4, 3, 2, 1, 2, 3, 4, 5, 3, 2, 3, 5, 6, 1, 3, 6, 1, 1, 1, 2, 3, 4, 6, 4, 6, 3, 4, 2, 3, 1, 3, 5, 1, 2, 3, 4, 5, 6, 4, 2, 6, 2, 5, 1, 3, 4, 5, 6, 3, 3, 1, 3, 1, 3, 2, 1, 2, 3, 4, 5, 6, 2, 3, 3, 2, 3, 3, 1, 3, 3, 4, 1, 3, 1, 2, 6, 2, 1, 2, 3, 4, 1, 2, 3, 5, 6, 5, 1, 2, 3, 4, 5, 6, 6, 1, 1, 2, 4, 5, 6, 1, 3, 2, 6, 3, 4, 4, 6, 3, 6, 1, 2, 3, 5, 2, 4, 5, 6, 6, 1, 2, 6, 2, 4, 5, 6, 1, 2, 3, 5, 6, 2, 3, 4, 5, 1, 2, 3, 5, 2, 6, 1, 1, 1, 3, 4, 6, 4, 2, 3, 5, 6, 1, 2, 3, 4, 5, 6, 2, 5, 3, 2, 4, 5, 1, 2, 3, 4, 6, 2, 2, 1, 2, 3, 5, 5, 5, 1, 1, 6, 3, 5, 5, 1, 2, 3, 4, 6, 4, 1, 5, 1, 2, 3, 4, 5, 6, 2, 5, 1, 2, 3, 5, 6, 1, 2, 3, 5, 6, 6, 6, 2, 4, 5, 1, 2, 3, 4, 5, 6, 5, 5, 1, 2, 3, 5, 6, 1, 2, 3, 1, 2, 3, 4, 5, 6, 4, 1, 2, 3, 4, 6, 4, 1, 2, 3, 4, 5, 6, 5, 1, 1, 2, 4, 6, 1, 3, 6, 1, 2, 3, 4, 5, 6, 1, 3, 1, 1, 2, 3, 4, 5, 6, 3, 1, 2, 4, 6, 3, 4, 1, 4, 5, 5, 5, 1, 1, 2, 5, 6, 5, 1, 1, 2, 3, 4, 5, 6, 1, 3, 5, 6, 3, 5, 5, 1, 2, 3, 4, 5, 6, 4, 2, 1, 3, 5, 5, 4, 1, 2, 3, 4, 5, 6, 5, 4, 1, 3, 4, 6, 3, 1, 3, 4, 3, 5, 1, 6, 1, 2, 3, 4, 6, 3, 1, 2, 1, 2, 3, 4, 5, 6, 5, 2, 1, 2, 3, 4, 5, 6, 2, 5, 4, 5, 6, 6, 2, 1, 2, 3, 5, 6, 6, 3, 4, 6, 6, 4, 6, 1, 3, 5, 2, 3, 4, 5, 6, 6, 3, 5, 6, 3, 4, 5, 6, 5, 1, 5, 2, 4, 5, 6, 6, 1, 2, 3, 4, 5, 6, 3, 6, 3, 4, 5, 6, 4, 1, 3, 4, 5, 6, 1, 4, 3, 4, 1, 3, 5, 3, 3, 6, 3, 6, 1, 4, 1, 2, 4, 5, 6, 5, 2, 2, 5, 6, 1, 2, 4, 5, 6, 3, 3, 3, 1, 2, 3, 4, 5, 6, 4, 3, 5, 5, 1, 4, 5, 6, 5, 1, 1, 2, 4, 4, 1, 2, 3, 4, 5, 6, 3, 1, 5, 4, 4, 1, 2, 3, 4, 5, 6, 2, 2, 2, 1, 3, 5, 6, 5, 6, 1, 2, 3, 4, 5, 6, 6, 6, 2, 3, 6, 2, 6, 1, 6, 1, 2, 3, 4, 5, 6, 3, 2, 3, 6, 2, 1, 2, 3, 4, 6, 4, 2, 1, 2, 3, 5, 5, 4, 1, 2, 3, 5, 6, 1, 4, 2, 3, 6, 1, 2, 3, 5, 5, 6, 4, 1, 3, 5, 1, 4, 1, 1, 2, 1, 2, 3, 4, 5, 6, 1, 3, 1, 2, 5, 2, 1, 2, 3, 4, 5, 6, 5, 1, 2, 3, 4, 5, 6, 1, 5, 1, 2, 3, 4, 5, 2], \"Freq\": [0.8461761780377844, 0.773639136552155, 0.19340978413803875, 0.07288908680909396, 0.5102236076636578, 0.14577817361818793, 0.07288908680909396, 0.2186672604272819, 0.934081707314655, 0.7802755297160112, 0.7729401898869622, 0.8964297439889038, 0.22116107416700664, 0.33174161125051, 0.165870805625255, 0.11058053708350332, 0.165870805625255, 0.23373441575101966, 0.701203247253059, 0.7723374548651479, 0.40579895580359016, 0.029692606522213914, 0.24743838768511597, 0.1781556391332835, 0.06928274855183247, 0.05938521304442783, 0.794345486682447, 0.794345486682447, 0.21973152731650972, 0.5493288182912743, 0.05493288182912743, 0.10986576365825486, 0.05493288182912743, 0.23367678811129142, 0.7010303643338743, 0.5679676606052465, 0.28398383030262325, 0.09466127676754109, 0.19284040520722043, 0.7713616208288817, 0.09645908501579095, 0.3858363400631638, 0.09645908501579095, 0.09645908501579095, 0.2893772550473729, 0.11846142781427439, 0.3553842834428232, 0.47384571125709757, 0.7943454807754725, 0.12163222172312307, 0.6081611086156153, 0.06081611086156154, 0.12163222172312307, 0.12163222172312307, 0.9261675666543189, 0.19868438103473768, 0.596053143104213, 0.3964904813756123, 0.22027248965311796, 0.08810899586124718, 0.11013624482655898, 0.15419074275718256, 0.8685465761365438, 0.7943454543049016, 0.5788415897358483, 0.28942079486792416, 0.5415063129370826, 0.23207413411589256, 0.15471608941059503, 0.15471608941059503, 0.6193884284785804, 0.1548471071196451, 0.2322706606794677, 0.613168261792408, 0.08759546597034401, 0.17519093194068802, 0.08759546597034401, 0.7765700486347071, 0.3282050185587214, 0.27638317352313385, 0.017273948345195866, 0.12091763841637106, 0.017273948345195866, 0.22456132848754626, 0.8964227466522019, 0.8738679241226532, 0.7802755276161657, 0.7729401846801285, 0.44765211893391166, 0.268591271360347, 0.268591271360347, 0.7802755305536049, 0.431170161068295, 0.143723387022765, 0.09581559134850999, 0.047907795674254995, 0.09581559134850999, 0.19163118269701998, 0.794345488878178, 0.7729401905194936, 0.846176177062776, 0.7802730238078596, 0.2330769039023741, 0.19069928501103334, 0.06356642833701111, 0.2118880944567037, 0.2754545227937148, 0.7184970888552509, 0.7943454852878419, 0.8738315628022123, 0.7802737792545599, 0.3818853573455024, 0.07740919405652076, 0.05160612937101384, 0.35608229265999547, 0.09289103286782491, 0.04128490349681107, 0.9376019910754227, 0.7802755292002308, 0.8461847982503505, 0.7802749561469864, 0.7723374545323257, 0.846177573319113, 0.846177573319113, 0.7163816445718987, 0.05969847038099156, 0.23879388152396624, 0.30658979351955257, 0.4598846902793289, 0.15329489675977628, 0.07664744837988814, 0.24200231030404226, 0.14520138618242534, 0.1936018482432338, 0.0968009241216169, 0.04840046206080845, 0.24200231030404226, 0.1591162388221298, 0.10607749254808654, 0.26519373137021635, 0.0795581194110649, 0.13259686568510817, 0.26519373137021635, 0.20635728104378703, 0.16508582483502962, 0.137571520695858, 0.1582072488002367, 0.137571520695858, 0.19260012897420123, 0.19375383689254183, 0.7750153475701673, 0.7765763495472525, 0.2129751522850586, 0.05324378807126465, 0.2129751522850586, 0.1064875761425293, 0.4259503045701172, 0.3388290963062683, 0.5082436444594024, 0.23575833186808118, 0.7072749956042436, 0.06638898704220189, 0.6306953769009179, 0.06638898704220189, 0.06638898704220189, 0.06638898704220189, 0.13277797408440378, 0.8685390754549293, 0.7943454807754725, 0.7943454807754725, 0.17069950186664182, 0.38407387919994407, 0.34139900373328363, 0.08534975093332091, 0.7729401872870907, 0.772337455665717, 0.06818901188250716, 0.2045670356475215, 0.4773230831775501, 0.2045670356475215, 0.06818901188250716, 0.7729401850473723, 0.16546992421296802, 0.6618796968518721, 0.19868950258938214, 0.5960685077681465, 0.4056526515840305, 0.17385113639315594, 0.4056526515840305, 0.937137707966863, 0.9008174470192594, 0.10714309956853846, 0.10714309956853846, 0.10714309956853846, 0.21428619913707692, 0.42857239827415383, 0.23812868362733322, 0.7143860508819996, 0.23373650106529278, 0.7012095031958784, 0.16547679897087766, 0.6619071958835107, 0.6053084227940023, 0.30265421139700116, 0.07566355284925029, 0.15419961358639186, 0.26984932377618576, 0.15419961358639186, 0.15419961358639186, 0.1927495169829898, 0.038549903396597966, 0.7802755287002993, 0.7004363338848767, 0.23347877796162556, 0.7723374543428503, 0.8738678221406518, 0.5218193109000203, 0.2733339247571535, 0.04969707722857337, 0.04969707722857337, 0.09939415445714674, 0.7729401876466685, 0.7729401876466685, 0.6045065437821615, 0.30225327189108075, 0.8461761790444536, 0.7729401856135381, 0.7723374550431481, 0.2732481971116914, 0.211380680784516, 0.36604947160245455, 0.03608938452418566, 0.07217876904837132, 0.04124501088478361, 0.8685063806940607, 0.8692582976723208, 0.8692680601293599, 0.2317026257842592, 0.6951078773527776, 0.7729401847310602, 0.8461848107394017, 0.7729401860374276, 0.7729401860374276, 0.780275529736634, 0.164651376546791, 0.658605506187164, 0.5719560190000784, 0.25420267511114597, 0.1906520063333595, 0.7723374561786219, 0.5680348919189042, 0.14200872297972605, 0.21301308446958908, 0.07100436148986303, 0.34790560376892254, 0.057984267294820424, 0.17395280188446127, 0.11596853458964085, 0.2899213364741021, 0.7765656363237902, 0.3936587495934099, 0.2422515382113292, 0.0605628845528323, 0.0605628845528323, 0.09084432682924844, 0.15140721138208074, 0.7943454784716545, 0.7546285207499974, 0.14575643889891035, 0.07287821944945518, 0.5830257555956414, 0.07287821944945518, 0.07287821944945518, 0.846183723965662, 0.7729401987640812, 0.19831562078361598, 0.5949468623508479, 0.1671865310910369, 0.6687461243641476, 0.7802745490030588, 0.7943454818944378, 0.5851625995868923, 0.19505419986229744, 0.5126648312525189, 0.17088827708417298, 0.11392551805611532, 0.22785103611223065, 0.23689370477392704, 0.11844685238696352, 0.11844685238696352, 0.4737874095478541, 0.7943454726391135, 0.2563843123585435, 0.6409607808963588, 0.12819215617927174, 0.8684575799783624, 0.5902825477936543, 0.09838042463227573, 0.29514127389682715, 0.061108955810409565, 0.4888716464832765, 0.24443582324163826, 0.12221791162081913, 0.12221791162081913, 0.31640274108252575, 0.42187032144336767, 0.10546758036084192, 0.10546758036084192, 0.16457736451659077, 0.2742956075276513, 0.4937320935497723, 0.05485912150553026, 0.7723374554583493, 0.7943454825605516, 0.8461857151982178, 0.8461857152087121, 0.11697819245534599, 0.35093457736603795, 0.23395638491069198, 0.23395638491069198, 0.7802755307017436, 0.5287680936796485, 0.1057536187359297, 0.2115072374718594, 0.1057536187359297, 0.30177293115552545, 0.13716951416160247, 0.21947122265856395, 0.08230170849696149, 0.19203731982624345, 0.08230170849696149, 0.7723374544697842, 0.7765747644337468, 0.7729401870550295, 0.23367488283412757, 0.7010246485023828, 0.7765641085203603, 0.14502262428160254, 0.3867269980842734, 0.24170437380267087, 0.09668174952106835, 0.14502262428160254, 0.7723374544917543, 0.7723374544917543, 0.24876420603522856, 0.24876420603522856, 0.09328657726321071, 0.4042418348072464, 0.7765757217329149, 0.7765747643729957, 0.9008217731794769, 0.8461832125710417, 0.7943445501984446, 0.23273706091858676, 0.6982111827557603, 0.7765747643954177, 0.8461832135291653, 0.14655657583900392, 0.14655657583900392, 0.5862263033560157, 0.14655657583900392, 0.7802755309558491, 0.19284070147974272, 0.7713628059189709, 0.10807431024746146, 0.08645944819796918, 0.12968917229695376, 0.19453375844543064, 0.28099320664339983, 0.17291889639593835, 0.14555065002799977, 0.7277532501399989, 0.0534190905713373, 0.1068381811426746, 0.16025727171401188, 0.32051454342802377, 0.3739336339993611, 0.138778947573264, 0.138778947573264, 0.069389473786632, 0.138778947573264, 0.555115790293056, 0.794344548085431, 0.7943454667497949, 0.14580984930830887, 0.29161969861661774, 0.5832393972332355, 0.07139634120454151, 0.07139634120454151, 0.21418902361362452, 0.3093841452196799, 0.23798780401513836, 0.09519512160605534, 0.7765773383173598, 0.7765747644590391, 0.20197911194913942, 0.15148433396185457, 0.10098955597456971, 0.30296866792370913, 0.20197911194913942, 0.5669634650584686, 0.1889878216861562, 0.0944939108430781, 0.5143733873587714, 0.03956718364298241, 0.03956718364298241, 0.15826873457192964, 0.07913436728596482, 0.15826873457192964, 0.7802755304270903, 0.422070790383914, 0.0937935089742031, 0.0937935089742031, 0.3048289041661601, 0.07034513173065234, 0.780273021082229, 0.2593349163484087, 0.12966745817420436, 0.14819138077051927, 0.22228707115577892, 0.1204054968760469, 0.1204054968760469, 0.7765747650391633, 0.9008754811634602, 0.17935552768561575, 0.08967776384280787, 0.6277443468996551, 0.08967776384280787, 0.8461761910905472, 0.8275204116502629, 0.8964333577876873, 0.15450218927513895, 0.15450218927513895, 0.12875182439594912, 0.1030014595167593, 0.4120058380670372, 0.05150072975837965, 0.2300875684460636, 0.6902627053381908, 0.8462460272342778, 0.15148484058666145, 0.05049494686222049, 0.20197978744888195, 0.3029696811733229, 0.25247473431110246, 0.05049494686222049, 0.9270343558863983, 0.1554377491096834, 0.0777188745548417, 0.6217509964387335, 0.0777188745548417, 0.6646915644318119, 0.33234578221590594, 0.10591840657641335, 0.5295920328820668, 0.31775521972924003, 0.7765757217329149, 0.7765757217329148, 0.7546285163354788, 0.04827388285947218, 0.5792865943136661, 0.28964329715683307, 0.04827388285947218, 0.7765747643735168, 0.8462212284864722, 0.260455878128387, 0.23151633611412176, 0.20257679409985654, 0.02893954201426522, 0.11575816805706088, 0.17363725208559133, 0.043091202217139725, 0.21545601108569865, 0.6463680332570959, 0.043091202217139725, 0.1940486317822745, 0.776194527129098, 0.776571983823985, 0.23599036906747897, 0.21239133216073108, 0.0707971107202437, 0.16519325834723528, 0.25958940597422686, 0.0707971107202437, 0.7802755280654166, 0.7723374550651002, 0.9008202670874086, 0.7733298729630642, 0.19333246824076605, 0.8738690028625442, 0.7802745276732238, 0.10555064098819808, 0.21110128197639616, 0.07036709399213206, 0.07036709399213206, 0.5277532049409904, 0.03518354699606603, 0.9322714545636996, 0.8785549574863303, 0.09746016815256418, 0.09746016815256418, 0.6822211770679493, 0.09746016815256418, 0.7729401852634099, 0.7551236721073165, 0.1258539453512194, 0.1258539453512194, 0.6962554724104376, 0.23208515747014585, 0.23575981528454473, 0.7072794458536342, 0.49585289440703956, 0.2313980173899518, 0.14875586832211188, 0.1156990086949759, 0.016528429813567985, 0.7729401856135381, 0.6457919946264689, 0.16144799865661721, 0.19392766604843065, 0.03232127767473844, 0.06464255534947688, 0.19392766604843065, 0.3555340544221229, 0.1616063883736922, 0.776574764458019, 0.8685123718998835, 0.5045485356267508, 0.09173609738668198, 0.04586804869334099, 0.04586804869334099, 0.18347219477336396, 0.13760414608002297, 0.7727256082844227, 0.19318140207110568, 0.1178399733618495, 0.471359893447398, 0.3535199200855485, 0.7943454362932258, 0.7723374543428503, 0.17225831763563143, 0.12304165545402244, 0.4921666218160898, 0.09843332436321796, 0.12304165545402244, 0.794345468146053, 0.469682246716199, 0.11742056167904975, 0.3522616850371492, 0.7943454801954212, 0.2381286836272743, 0.7143860508818228, 0.4169996788844504, 0.1042499197211126, 0.4169996788844504, 0.26700011514331373, 0.10680004605732549, 0.21360009211465097, 0.16020006908598822, 0.26700011514331373, 0.8964350782442936, 0.13038734236784016, 0.5215493694713607, 0.26077468473568033, 0.14631398677908763, 0.14631398677908763, 0.5852559471163505, 0.14631398677908763, 0.8738609464112325, 0.382985114420942, 0.5106468192279227, 0.07432481835294577, 0.22297445505883734, 0.14864963670589154, 0.5945985468235662, 0.8964350882881893, 0.14972110969466787, 0.14972110969466787, 0.2395537755114686, 0.17966533163360143, 0.029944221938933573, 0.26949799745040215, 0.7729401889084664, 0.8964350831284448, 0.2228783711120982, 0.501476335002221, 0.2228783711120982, 0.05571959277802455, 0.8785566137459024, 0.2619701783546266, 0.19647763376596997, 0.3056318747470644, 0.1309850891773133, 0.08732339278487554, 0.3297458653055383, 0.49461879795830743, 0.8692698590138541, 0.780275529736634, 0.10515339201135858, 0.5257669600567929, 0.3154601760340757, 0.869269851917955, 0.5851625995904417, 0.19505419986348055, 0.5851625995876808, 0.19505419986256026, 0.23185262959409036, 0.6955578887822711, 0.31956860280880656, 0.15978430140440328, 0.07989215070220164, 0.19973037675550412, 0.23967645210660493, 0.7765757727239981, 0.772337455403868, 0.6660822719938913, 0.1665205679984728, 0.1665205679984728, 0.13645272640204056, 0.27290545280408113, 0.06822636320102028, 0.40935817920612166, 0.06822636320102028, 0.7729401844030611, 0.9270335464780224, 0.7729377256048782, 0.18287676297532132, 0.021514913291214275, 0.15060439303849993, 0.16136184968410705, 0.3549960693050355, 0.12908947974728563, 0.9376027835976934, 0.21828459795060182, 0.7276153265020061, 0.7765860003730815, 0.8461761885399951, 0.14648521939584622, 0.5859408775833849, 0.14648521939584622, 0.7765747643772902, 0.8461761798401722, 0.09719571772735161, 0.09719571772735161, 0.7775657418188129, 0.912388171721032, 0.18900301555948984, 0.10800172317685135, 0.2160034463537027, 0.18900301555948984, 0.18900301555948984, 0.1350021539710642, 0.7729401847432102, 0.192841352743811, 0.771365410975244, 0.8785547277897439, 0.7802737789836356, 0.16243620091042069, 0.40609050227605176, 0.06961551467589458, 0.197243958248368, 0.04641034311726305, 0.11602585779315763, 0.8679464523425507, 0.9261675666543189, 0.8679475006171824, 0.1559403682798447, 0.1559403682798447, 0.38985092069961175, 0.3118807365596894, 0.7039257315930273, 0.2346419105310091, 0.2167203392396014, 0.24080037693289044, 0.14448022615973427, 0.05418008480990035, 0.10234016019647844, 0.23478036750956818, 0.7943454780886078, 0.8964350661633267, 0.7228455168795157, 0.08031616854216841, 0.16063233708433683, 0.8685390753910386, 0.7943454780881368, 0.9173701312507593, 0.8964283492004591, 0.31636218979269604, 0.2207178068321135, 0.15450246478247945, 0.036786301138685584, 0.0882871227328454, 0.18393150569342792, 0.8692600367454923, 0.7723374551376079, 0.7729401858072603, 0.896427007769214, 0.8266897223714278, 0.3709740510472856, 0.07419481020945712, 0.14838962041891424, 0.333876645942557, 0.03709740510472856, 0.7802755300256008, 0.7723374560529446, 0.08903286207755448, 0.08903286207755448, 0.44516431038777243, 0.3561314483102179, 0.7765747644242408, 0.7802755285203384, 0.31985761694975906, 0.31985761694975906, 0.06397152338995181, 0.12794304677990362, 0.12794304677990362, 0.8461761825693166, 0.7802755292933862, 0.3545340872207236, 0.11817802907357453, 0.4727121162942981, 0.11184117987837053, 0.5219255060990625, 0.1491215731711607, 0.18640196646395088, 0.7039269964012174, 0.23464233213373914, 0.78027552895469, 0.5501900356402832, 0.33011402138416995, 0.11003800712805666, 0.8083199988724473, 0.16166399977448948, 0.7546285166062079, 0.846176209694625, 0.7723374546304973, 0.3193259284070739, 0.19159555704424433, 0.22352814988495173, 0.03193259284070739, 0.19159555704424433, 0.06386518568141478, 0.19194361458909953, 0.7677744583563981, 0.6116286274175098, 0.0873755182025014, 0.26212655460750417, 0.8685060253559779, 0.13797923405393028, 0.2006970677148077, 0.07526140039305289, 0.25087133464350964, 0.13797923405393028, 0.18815350098263223, 0.7765840305113302, 0.17113285382721918, 0.03422657076544384, 0.23958599535810687, 0.23958599535810687, 0.13690628306177535, 0.17113285382721918, 0.21013889096165614, 0.7354861183657965, 0.4460961484918493, 0.17455936245333234, 0.11637290830222155, 0.25214130132148005, 0.019395484717036927, 0.7723374550651002], \"Term\": [\"12\", \"abroad\", \"abroad\", \"afford\", \"afford\", \"afford\", \"afford\", \"afford\", \"affordable\", \"allows\", \"apart\", \"application\", \"area\", \"area\", \"area\", \"area\", \"area\", \"asked\", \"asked\", \"assume\", \"attend\", \"attend\", \"attend\", \"attend\", \"attend\", \"attend\", \"attend company\", \"attend company cover\", \"attend event\", \"attend event\", \"attend event\", \"attend event\", \"attend event\", \"attend local\", \"attend local\", \"attended\", \"attended\", \"attended\", \"attendee\", \"attendee\", \"attending\", \"attending\", \"attending\", \"attending\", \"attending\", \"availability\", \"availability\", \"availability\", \"availability travel\", \"away\", \"away\", \"away\", \"away\", \"away\", \"away work\", \"balance\", \"balance\", \"based\", \"based\", \"based\", \"based\", \"based\", \"based budget\", \"based content\", \"based topic\", \"based topic\", \"benefit\", \"benefit\", \"benefit\", \"benefit\", \"best\", \"best\", \"best\", \"big\", \"big\", \"big\", \"big\", \"biggest factor\", \"budget\", \"budget\", \"budget\", \"budget\", \"budget\", \"budget\", \"budget topic\", \"candidate\", \"career goal\", \"certification\", \"choose\", \"choose\", \"choose\", \"choose conference\", \"city\", \"city\", \"city\", \"city\", \"city\", \"city\", \"closely\", \"colleague attending\", \"combine\", \"community conference\", \"company\", \"company\", \"company\", \"company\", \"company\", \"company cover\", \"company cover cost\", \"compared\", \"conf\", \"conference\", \"conference\", \"conference\", \"conference\", \"conference\", \"conference\", \"conference attend\", \"conference conference\", \"conference event\", \"conference know\", \"conference usually\", \"conference ve\", \"conference ve attended\", \"conference year\", \"conference year\", \"conference year\", \"consider\", \"consider\", \"consider\", \"consider\", \"consideration\", \"consideration\", \"consideration\", \"consideration\", \"consideration\", \"consideration\", \"content\", \"content\", \"content\", \"content\", \"content\", \"content\", \"cost\", \"cost\", \"cost\", \"cost\", \"cost\", \"cost\", \"cost conference\", \"cost conference\", \"cost perceived\", \"cover\", \"cover\", \"cover\", \"cover\", \"cover\", \"cover cost\", \"cover cost\", \"cover travel\", \"cover travel\", \"covered\", \"covered\", \"covered\", \"covered\", \"covered\", \"covered\", \"covered speaker\", \"date availability\", \"date availability travel\", \"day\", \"day\", \"day\", \"day\", \"day conference\", \"day work\", \"decide\", \"decide\", \"decide\", \"decide\", \"decide\", \"decide attend\", \"decide based\", \"decide based\", \"depending\", \"depending\", \"depends\", \"depends\", \"depends\", \"depends topic\", \"determine\", \"development\", \"development\", \"development\", \"development\", \"development\", \"development budget\", \"development budget\", \"different\", \"different\", \"discussion\", \"discussion\", \"distance\", \"distance\", \"distance\", \"don\", \"don\", \"don\", \"don\", \"don\", \"don\", \"don time\", \"easily\", \"easily\", \"edition\", \"effective\", \"employer\", \"employer\", \"employer\", \"employer\", \"employer\", \"employer cover\", \"employer cover cost\", \"employer pay\", \"employer pay\", \"employer pay conference\", \"employer pay need\", \"essential\", \"event\", \"event\", \"event\", \"event\", \"event\", \"event\", \"event abroad\", \"event attend\", \"event cost\", \"event event\", \"event event\", \"event live\", \"event travel\", \"event want\", \"event want attend\", \"evidence\", \"example\", \"example\", \"expense\", \"expense\", \"expense\", \"expense travel\", \"expensive\", \"expensive\", \"expensive\", \"expensive\", \"experience\", \"experience\", \"experience\", \"experience\", \"experience\", \"face\", \"factor\", \"factor\", \"factor\", \"factor\", \"factor\", \"factor\", \"factor cost\", \"factor determine\", \"feel\", \"feel\", \"feel\", \"feel\", \"feel\", \"field\", \"financial\", \"fit schedule\", \"fit schedule\", \"focused\", \"focused\", \"folk\", \"frame\", \"francisco\", \"francisco\", \"free\", \"free\", \"free\", \"free\", \"funding\", \"funding\", \"funding\", \"funding\", \"general theme\", \"generally\", \"generally\", \"generally\", \"getting\", \"goal\", \"goal\", \"goal\", \"good\", \"good\", \"good\", \"good\", \"good\", \"group\", \"group\", \"group\", \"group\", \"ha\", \"ha\", \"ha\", \"ha\", \"honest\", \"honestly\", \"huge\", \"huge consideration\", \"im\", \"im\", \"im\", \"im\", \"im speaking\", \"impact\", \"impact\", \"impact\", \"impact\", \"important\", \"important\", \"important\", \"important\", \"important\", \"important\", \"important look\", \"important networking\", \"important topic\", \"impression\", \"impression\", \"insight\", \"interested\", \"interested\", \"interested\", \"interested\", \"interested\", \"interested attending\", \"interested attending event\", \"interesting\", \"interesting\", \"interesting\", \"interesting\", \"interesting people\", \"interesting place\", \"invited\", \"invited speak\", \"isnt\", \"issue\", \"issue\", \"just lunch\", \"keen\", \"kid\", \"kid\", \"kid\", \"kid\", \"lack\", \"leadership\", \"leadership\", \"learn\", \"learn\", \"learn\", \"learn\", \"learn\", \"learn\", \"learn new\", \"learn new\", \"learning\", \"learning\", \"learning\", \"learning\", \"learning\", \"level\", \"level\", \"level\", \"level\", \"level\", \"level experience\", \"level talk\", \"life\", \"life\", \"life\", \"like\", \"like\", \"like\", \"like\", \"like\", \"like\", \"like spend\", \"like travel\", \"likely\", \"likely\", \"likely\", \"likely\", \"likely\", \"limited\", \"limited\", \"limited\", \"ll\", \"ll\", \"ll\", \"ll\", \"ll\", \"ll\", \"ll able\", \"local\", \"local\", \"local\", \"local\", \"local\", \"local meetup\", \"location\", \"location\", \"location\", \"location\", \"location\", \"location\", \"location availability\", \"location budget\", \"location cost\", \"location cost\", \"location cost\", \"location cost\", \"location important\", \"location price\", \"location timing\", \"look\", \"look\", \"look\", \"look\", \"look\", \"look\", \"look event\", \"look event\", \"looked\", \"lot\", \"lot\", \"lot\", \"lot\", \"lot\", \"lot\", \"low\", \"matter\", \"matter\", \"matter\", \"matter\", \"medium\", \"medium\", \"meet\", \"meet\", \"meet\", \"meet interesting\", \"meet interesting people\", \"minute\", \"money\", \"money\", \"money\", \"money\", \"money travel\", \"month\", \"need\", \"need\", \"need\", \"need\", \"need\", \"need\", \"networking\", \"networking\", \"networking\", \"networking\", \"networking opportunity\", \"networking opportunity\", \"networking usually\", \"new\", \"new\", \"new\", \"new\", \"new\", \"new\", \"new perspective\", \"new zealand\", \"nice\", \"nng\", \"nng\", \"novel\", \"okrs\", \"opportunity\", \"opportunity\", \"opportunity\", \"opportunity\", \"opportunity\", \"opportunity\", \"opportunity learn\", \"org\", \"organization\", \"organization\", \"organization\", \"organization\", \"oriented\", \"paid\", \"paid\", \"paid\", \"panel\", \"panel\", \"paper\", \"paper\", \"pay\", \"pay\", \"pay\", \"pay\", \"pay\", \"pay need\", \"pay travel\", \"pay travel\", \"people\", \"people\", \"people\", \"people\", \"people\", \"people\", \"people don\", \"perceived value\", \"place\", \"place\", \"place\", \"place\", \"place\", \"place\", \"plan\", \"plan\", \"practical\", \"practical\", \"practical\", \"presenter\", \"previous edition\", \"price\", \"price\", \"price\", \"price\", \"price\", \"price company\", \"primarily\", \"primarily\", \"primarily\", \"primarily based\", \"professional development budget\", \"professional development budget\", \"project\", \"project\", \"project\", \"quality\", \"quality\", \"quality\", \"quality\", \"quality\", \"quality speaker\", \"read\", \"read\", \"read\", \"reasonable\", \"reasonable\", \"reasonable\", \"reasonable\", \"reasonable cost\", \"recommendation\", \"recommendation\", \"relevance\", \"relevance\", \"relevance\", \"relevance\", \"relevance topic\", \"relevant\", \"relevant\", \"relevant\", \"relevant\", \"relevant\", \"relevant\", \"relevant content\", \"relevant topic\", \"reputation\", \"reputation\", \"reputation\", \"reputation\", \"reputation conference\", \"research\", \"research\", \"research\", \"research\", \"research\", \"research conference\", \"research conference\", \"respect\", \"result\", \"role\", \"role\", \"role\", \"rosenfeld\", \"san\", \"san\", \"san francisco\", \"san francisco\", \"say\", \"say\", \"schedule\", \"schedule\", \"schedule\", \"schedule\", \"schedule\", \"seen\", \"shorter\", \"size\", \"size\", \"size\", \"skill\", \"skill\", \"skill\", \"skill\", \"skill\", \"slack\", \"social\", \"social medium\", \"speaker\", \"speaker\", \"speaker\", \"speaker\", \"speaker\", \"speaker\", \"speaker location\", \"speaker topic\", \"speaker topic\", \"speaker topic covered\", \"speaker travel\", \"spend\", \"spend\", \"spend\", \"spend money\", \"start\", \"subject\", \"subject\", \"subject\", \"subject matter\", \"talk\", \"talk\", \"talk\", \"talk\", \"talk\", \"talk\", \"talk like\", \"teach\", \"teach\", \"tech\", \"technology\", \"time\", \"time\", \"time\", \"time\", \"time\", \"time\", \"time away\", \"time away work\", \"time money\", \"timing\", \"timing\", \"timing\", \"timing\", \"timing cost\", \"timing cost\", \"topic\", \"topic\", \"topic\", \"topic\", \"topic\", \"topic\", \"topic company\", \"topic cost\", \"topic covered\", \"topic covered\", \"topic covered\", \"topic covered speaker\", \"topic fit\", \"topic location\", \"topic new\", \"travel\", \"travel\", \"travel\", \"travel\", \"travel\", \"travel\", \"travel distance\", \"travel factor\", \"travel important\", \"travel required\", \"travel time\", \"try\", \"try\", \"try\", \"try\", \"try\", \"try local\", \"try stay\", \"type\", \"type\", \"type\", \"type\", \"type people\", \"uk location\", \"usually\", \"usually\", \"usually\", \"usually\", \"usually\", \"usually attend\", \"ux conference\", \"valuable\", \"valuable\", \"valuable\", \"value\", \"value\", \"value\", \"value\", \"variety\", \"variety\", \"vary\", \"ve\", \"ve\", \"ve\", \"ve attended\", \"ve attended\", \"visit family\", \"volunteer\", \"wa good\", \"want\", \"want\", \"want\", \"want\", \"want\", \"want\", \"want attend\", \"want attend\", \"way\", \"way\", \"way\", \"weekend\", \"work\", \"work\", \"work\", \"work\", \"work\", \"work\", \"work cover\", \"workshop\", \"workshop\", \"workshop\", \"workshop\", \"workshop\", \"workshop\", \"worth\", \"worth\", \"year\", \"year\", \"year\", \"year\", \"year\", \"zealand\"]}, \"R\": 30, \"lambda.step\": 0.01, \"plot.opts\": {\"xlab\": \"PC1\", \"ylab\": \"PC2\"}, \"topic.order\": [3, 4, 5, 2, 6, 1]};\n",
       "\n",
       "function LDAvis_load_lib(url, callback){\n",
       "  var s = document.createElement('script');\n",
       "  s.src = url;\n",
       "  s.async = true;\n",
       "  s.onreadystatechange = s.onload = callback;\n",
       "  s.onerror = function(){console.warn(\"failed to load library \" + url);};\n",
       "  document.getElementsByTagName(\"head\")[0].appendChild(s);\n",
       "}\n",
       "\n",
       "if(typeof(LDAvis) !== \"undefined\"){\n",
       "   // already loaded: just create the visualization\n",
       "   !function(LDAvis){\n",
       "       new LDAvis(\"#\" + \"ldavis_el319141123115853128489542112\", ldavis_el319141123115853128489542112_data);\n",
       "   }(LDAvis);\n",
       "}else if(typeof define === \"function\" && define.amd){\n",
       "   // require.js is available: use it to load d3/LDAvis\n",
       "   require.config({paths: {d3: \"https://cdnjs.cloudflare.com/ajax/libs/d3/3.5.5/d3.min\"}});\n",
       "   require([\"d3\"], function(d3){\n",
       "      window.d3 = d3;\n",
       "      LDAvis_load_lib(\"https://cdn.rawgit.com/bmabey/pyLDAvis/files/ldavis.v1.0.0.js\", function(){\n",
       "        new LDAvis(\"#\" + \"ldavis_el319141123115853128489542112\", ldavis_el319141123115853128489542112_data);\n",
       "      });\n",
       "    });\n",
       "}else{\n",
       "    // require.js not available: dynamically load d3 & LDAvis\n",
       "    LDAvis_load_lib(\"https://cdnjs.cloudflare.com/ajax/libs/d3/3.5.5/d3.min.js\", function(){\n",
       "         LDAvis_load_lib(\"https://cdn.rawgit.com/bmabey/pyLDAvis/files/ldavis.v1.0.0.js\", function(){\n",
       "                 new LDAvis(\"#\" + \"ldavis_el319141123115853128489542112\", ldavis_el319141123115853128489542112_data);\n",
       "            })\n",
       "         });\n",
       "}\n",
       "</script>"
      ],
      "text/plain": [
       "PreparedData(topic_coordinates=              x         y  topics  cluster       Freq\n",
       "topic                                                \n",
       "2      0.038083  0.029819       1        1  24.486895\n",
       "3     -0.103917  0.077834       2        1  17.610024\n",
       "4     -0.021389 -0.024584       3        1  16.109206\n",
       "1      0.130906  0.035285       4        1  14.989806\n",
       "5     -0.016531 -0.132354       5        1  13.921301\n",
       "0     -0.027152  0.014000       6        1  12.882768, topic_info=     Category        Freq        Term       Total  loglift  logprob\n",
       "206   Default  193.000000  conference  193.000000  30.0000  30.0000\n",
       "410   Default  193.000000       event  193.000000  29.0000  29.0000\n",
       "1064  Default   92.000000     speaker   92.000000  28.0000  28.0000\n",
       "1155  Default  166.000000       topic  166.000000  27.0000  27.0000\n",
       "784   Default   23.000000  networking   23.000000  26.0000  26.0000\n",
       "...       ...         ...         ...         ...      ...      ...\n",
       "206    Topic6    7.502027  conference  193.775432  -1.2022  -4.9778\n",
       "71     Topic6    6.377435      attend  101.035253  -0.7134  -5.1402\n",
       "460    Topic6    5.113190      factor   33.023526   0.1839  -5.3612\n",
       "1315   Topic6    4.972811    workshop   29.217067   0.2785  -5.3890\n",
       "861    Topic6    4.621529      people   30.939371   0.1480  -5.4623\n",
       "\n",
       "[454 rows x 6 columns], token_table=      Topic      Freq     Term\n",
       "term                          \n",
       "1         1  0.846176       12\n",
       "10        2  0.773639   abroad\n",
       "10        4  0.193410   abroad\n",
       "32        1  0.072889   afford\n",
       "32        2  0.510224   afford\n",
       "...     ...       ...      ...\n",
       "1324      2  0.174559     year\n",
       "1324      3  0.116373     year\n",
       "1324      4  0.252141     year\n",
       "1324      5  0.019395     year\n",
       "1331      2  0.772337  zealand\n",
       "\n",
       "[769 rows x 3 columns], R=30, lambda_step=0.01, plot_opts={'xlab': 'PC1', 'ylab': 'PC2'}, topic_order=[3, 4, 5, 2, 6, 1])"
      ]
     },
     "execution_count": 44,
     "metadata": {},
     "output_type": "execute_result"
    }
   ],
   "source": [
    "pyLDAvis.sklearn.prepare(lda14, how_pick_events_matrix, how_pick_events_vector)"
   ]
  },
  {
   "cell_type": "markdown",
   "metadata": {},
   "source": [
    "#### Topic groups (4)\n",
    "1. pay\n",
    "2. topic\n",
    "3. location\n",
    "4. cost\n",
    "\n",
    "#### Topic groups (6) - overlap between 3 & 6\n",
    "1. pay\n",
    "2. value\n",
    "3. price\n",
    "4. reputation\n",
    "5. networking\n",
    "6. relevance\n",
    "\n",
    "#### Topic groups (8) - small amount of overlap among 2, 3, 4, & 6\n",
    "1. design\n",
    "2. affordable\n",
    "3. speaker topic\n",
    "4. reputation\n",
    "5. location cost\n",
    "6. value\n",
    "7. location price\n",
    "8. time away"
   ]
  },
  {
   "cell_type": "code",
   "execution_count": null,
   "metadata": {},
   "outputs": [],
   "source": [
    "#6 topics"
   ]
  },
  {
   "cell_type": "code",
   "execution_count": 56,
   "metadata": {},
   "outputs": [],
   "source": [
    "lda_W14 = lda14.transform(how_pick_events_matrix)"
   ]
  },
  {
   "cell_type": "code",
   "execution_count": 57,
   "metadata": {},
   "outputs": [],
   "source": [
    "top_doc_column14 = datadf.how_pick_events.dropna()"
   ]
  },
  {
   "cell_type": "code",
   "execution_count": 58,
   "metadata": {},
   "outputs": [],
   "source": [
    "word_count_matrix14, count_vect14 = nlp.create_wordcount_matrix(datadf.how_pick_events.dropna(), max_df=0.8, min_df=2, ngram=(1,3))"
   ]
  },
  {
   "cell_type": "code",
   "execution_count": 59,
   "metadata": {},
   "outputs": [
    {
     "data": {
      "text/plain": [
       "LatentDirichletAllocation(batch_size=128, doc_topic_prior=None,\n",
       "                          evaluate_every=-1, learning_decay=0.7,\n",
       "                          learning_method='batch', learning_offset=10.0,\n",
       "                          max_doc_update_iter=100, max_iter=10,\n",
       "                          mean_change_tol=0.001, n_components=5, n_jobs=None,\n",
       "                          perp_tol=0.1, random_state=42, topic_word_prior=None,\n",
       "                          total_samples=1000000.0, verbose=0)"
      ]
     },
     "execution_count": 59,
     "metadata": {},
     "output_type": "execute_result"
    }
   ],
   "source": [
    "LDA14a = LatentDirichletAllocation(n_components=5, random_state=42)\n",
    "LDA14a.fit(word_count_matrix14)"
   ]
  },
  {
   "cell_type": "code",
   "execution_count": 60,
   "metadata": {},
   "outputs": [],
   "source": [
    "lda_H = LDA14a.transform(word_count_matrix14)"
   ]
  },
  {
   "cell_type": "code",
   "execution_count": 61,
   "metadata": {},
   "outputs": [
    {
     "name": "stdout",
     "output_type": "stream",
     "text": [
      "Top 3 Documents for Topic 0: \n",
      "\n",
      "Document 1\n",
      "it is usually a combination of date and my availability to travel the location the size the speaker list and whether the event seems likely to cater to more senior researcher or designer i'm at a point where traveling far for 101 level talk is just not useful to me\n",
      "\n",
      "Document 2\n",
      "depends on the cost of the event eg is it an evening meetup v a conference if it's the latter then it would depend on company training budget or depending on how relevant the topic are for my personal development goal also depending on the talk itself eg what the topic are which company are presenting i am more interested in advanced topic around strategy prioritisation or maybe new method\n",
      "\n",
      "Document 3\n",
      "location is the primary factor to consider because it will indicate whether i can afford to attend or not my company will cover cost of entry to a conference or workshop but will not cover travel or accommodation i also use personal vacation time to attend learning session so if i spend more of that time in transit i have to take that into consideration secondly the topic of conversation and the format of learning is key i often get frustrated with 60 min lecture that barely scratch the surface of a question of challenge so i will be much more likely to attend if there are handson workshop which also give me the chance to better network if the topic matter closely aligns with my interest that may cinch the decision but honestly the conference reputation and speaker are probably bigger factor\n",
      "\n",
      "Top 3 Documents for Topic 1: \n",
      "\n",
      "Document 1\n",
      "my employer's ability to pay for the conference is a huge consideration ticket price along with air travel are probably the biggest expense the more academic the conference seems the le inclined my company is to pay for the conference especially a a small design consultancy that doesn't get extensive user research baked into the project also we are often asked to create a lunch and learn session from the conference that we attend any help with that would be great in making the case to attend the conference\n",
      "\n",
      "Document 2\n",
      "i'm independent and therefore i need to balance ticket and travel cost with perceived career benefit i'm more likely to attend if i can get free admittance by volunteering or scholarship because i find that conference are rarely worth attending networking opportunity are a priority a i find conference tend to talk about the same topic with the same speaker however i like to look for structured networking opportunity eg small group speednetworking oneonone scheduled meeting rather than just lunch or happy hour because it force senior attendee to interact with people other than those in their friend or professional network i also prefer workshop over talk because i find the takeaway are more relevant and practical\n",
      "\n",
      "Document 3\n",
      "location doesn't require driving long flight with multiple layover is a deterrent but not dealbreaker more likely to attend conference within my own country because i travel a lot for research project schedule i have a lot of commitment so knowing of a conference well before it happens make is more likely that i can attend speaker reputation le interested in speaker that i've seen many time before or that have a reputation for being jerk opportunity for novel idea i look to see whether there are speaker from diverse background education lived experience variety of type of professional practice and if the range of thing being talked about are directly related to my work le interesting tbh or if there are some that i find novel eg people with an art practice or unique perspective to their work i'd rather attend something that's a little experimental than something where all the speaker are from large tech company there's enough of that in my feed\n",
      "\n",
      "Top 3 Documents for Topic 2: \n",
      "\n",
      "Document 1\n",
      "for meetups i will attend if the topic is interesting it's accessible in le than 30 minute commute it happens outside of work hour sometimes i'll go to accompany a friend i will not go if i had a negative experience at a previous iteration of the event for conference i'll go if there's enough talk that interest me if i can attend a a speaker if it's convenient to get there and find a hotel nearby if i manage to get time off to go i'll also consider if there's friend i rarely see that also attend to catch up with them and if i can combine the trip with other activity eg taking a longer vacation to visit family in the same time periodrough location a the event if i decide to go i will do so regardless of the cost and possibly indulge in a better hotelcloser to the event even if it mean it is more expensive i will not go if it take place anywhere in the usa or if it requires taking a plane trip to attend it\n",
      "\n",
      "Document 2\n",
      "i'll look through the website to see what's being offered i start with reading through the various session to determine if the content is of interest then i'll check the speaker are they people i know do i trust their advice mind you this can also be covered by who's putting on the seminarconference if it's a trusted source that go a long way and i'd argue those source have the opportunity to add fresh new speaker by at least 2550 of their speaker travel is a huge consideration my company ha a very limited budget a do i student loan anyone so the cost is a big factor in determining whether or not i'll go not to mention finding the business argument for going you could add to this by finding a nonux reason for going why because there's still a lot of work to be done convincing business that what we do matter and that it's important to keep u educated alternatively for those not used to building a business case for their boss write up how to build a business case for this cost is the 1 factor that will determine whether or not i will be able to go if i have to travel that's likely going to kill it\n",
      "\n",
      "Document 3\n",
      "i always tag on a little family vacation onto conferencesevents so a nice conference location that is easily accessible is a big plus for our family we live close to a major airport lax so it is very easy to get direct flight we have an 1yr old who go to all my conference along with my partner who provides childcare so travel arrangement and affordable accommodation close to the event space is important so i can go back and breastfeed for local event the later in the evening the better bc so much traffic here in la also event tend to be on the westside and dtla which are both really expensive place to live and most people commute toit's important that event not always be held in the same place every time so more accessible to people same with big conferencesi wouldn't mind a nice conference in a rural area that is beautiful and in nature note i wasn't sure what code of conduct in place meant above so i just put down not important at all bc no na or i don't know option\n",
      "\n",
      "Top 3 Documents for Topic 3: \n",
      "\n",
      "Document 1\n",
      "i look at the topic opinion about the previous edition and who speaks if i can associate the name with a high number of event i usually assume the person to be an empty promise if quality of the event is likely to be good i confront it with the price and location my salary is not in eur or usd so i never go abroad within my country luckily the best conference are usually free of charge\n",
      "\n",
      "Document 2\n",
      "the topic covered is my first consideration together with who is organizing how diverse is it what is their main driver if interesting two thing make me decide to go do i have the money for it if so is it worth investing considering other event secondly with event abroad money is an issue too because of travel arrangement and stay doe it fit my schedule home work vacation wise\n",
      "\n",
      "Document 3\n",
      "word of mouth or concentration of ontopic talk travel time matter because it's exhausting and expensive i liked eyeo because it didn't require travel during the weekend i liked ia summit because it could be done in a long weekend i don't generally get funding to go to international conference but even so i'm more mindful of my carbon footprint and would be inclined to go to a conference someplace i also wanted to vacation if the weather wa good there then no in august is no\n",
      "\n",
      "Top 3 Documents for Topic 4: \n",
      "\n",
      "Document 1\n",
      "if there are local meetups there are none for research in denmark hence im starting one then i would attend them the topic covered are very important since most event seem to be design oriented and not much room for research topic i alsoi get to attend one conference or training a year that my employer pay for but it need to be in europe\n",
      "\n",
      "Document 2\n",
      "a combination of event reputation the content of talk and other session other thing might sway me after that like interesting location or unique networking opportunity up until now i've generally been looking for new experience and event but now that i've been to few event and have a better understanding of what i've found most beneficial and engaging i think i'd be more likely to return to one that have stood out i'm very fortunate that my company is very supportive of encouraging employee to attend conference and event so travel is not too much of an obstacle a long a i can explain why an event would be of particular benefit to me\n",
      "\n",
      "Document 3\n",
      "a my career ha developed and a i've done a lot of public speaking i've become much more particular in choosing which event i want to attend i look at the speaker's professional background and example of their thought process medium post podcasts slack community comment and i think about the level of depth and specificity they will provide i don't want to attend talk with broad topic like what is ai ethic and i do want to attend talk like how to manage ethic issue during an onsite research engagement\n",
      "\n"
     ]
    }
   ],
   "source": [
    "nlp.find_top_documents_per_topic(lda_H, top_doc_column14, 3)"
   ]
  },
  {
   "cell_type": "markdown",
   "metadata": {},
   "source": [
    "## 15. What was the best professional learning experience you've ever had?  What made it great?"
   ]
  },
  {
   "cell_type": "code",
   "execution_count": 45,
   "metadata": {},
   "outputs": [],
   "source": [
    "datadf.best_event = datadf.best_event.dropna().apply(nlp.basic_clean)\n",
    "datadf.best_event = datadf.best_event.dropna().apply(nlp.lemmatize)"
   ]
  },
  {
   "cell_type": "code",
   "execution_count": 46,
   "metadata": {},
   "outputs": [
    {
     "data": {
      "text/plain": [
       "(<594x1630 sparse matrix of type '<class 'numpy.int64'>'\n",
       " \twith 8977 stored elements in Compressed Sparse Row format>,\n",
       " CountVectorizer(analyzer='word', binary=False, decode_error='strict',\n",
       "                 dtype=<class 'numpy.int64'>, encoding='utf-8', input='content',\n",
       "                 lowercase=True, max_df=0.3, max_features=None, min_df=2,\n",
       "                 ngram_range=(1, 3), preprocessor=None, stop_words='english',\n",
       "                 strip_accents=None, token_pattern='(?u)\\\\b\\\\w\\\\w+\\\\b',\n",
       "                 tokenizer=None, vocabulary=None))"
      ]
     },
     "execution_count": 46,
     "metadata": {},
     "output_type": "execute_result"
    }
   ],
   "source": [
    "best_event_matrix, best_event_vector = nlp.create_wordcount_matrix(datadf.best_event.dropna(), ngram=(1,3), max_df=.3)\n",
    "best_event_matrix, best_event_vector"
   ]
  },
  {
   "cell_type": "code",
   "execution_count": 50,
   "metadata": {},
   "outputs": [],
   "source": [
    "lda15 = LatentDirichletAllocation(n_components= 3, random_state = 42)"
   ]
  },
  {
   "cell_type": "code",
   "execution_count": 51,
   "metadata": {},
   "outputs": [
    {
     "data": {
      "text/plain": [
       "LatentDirichletAllocation(batch_size=128, doc_topic_prior=None,\n",
       "                          evaluate_every=-1, learning_decay=0.7,\n",
       "                          learning_method='batch', learning_offset=10.0,\n",
       "                          max_doc_update_iter=100, max_iter=10,\n",
       "                          mean_change_tol=0.001, n_components=3, n_jobs=None,\n",
       "                          perp_tol=0.1, random_state=42, topic_word_prior=None,\n",
       "                          total_samples=1000000.0, verbose=0)"
      ]
     },
     "execution_count": 51,
     "metadata": {},
     "output_type": "execute_result"
    }
   ],
   "source": [
    "lda15.fit(best_event_matrix)"
   ]
  },
  {
   "cell_type": "code",
   "execution_count": 52,
   "metadata": {},
   "outputs": [
    {
     "data": {
      "text/html": [
       "\n",
       "<link rel=\"stylesheet\" type=\"text/css\" href=\"https://cdn.rawgit.com/bmabey/pyLDAvis/files/ldavis.v1.0.0.css\">\n",
       "\n",
       "\n",
       "<div id=\"ldavis_el319141123117783044526806637\"></div>\n",
       "<script type=\"text/javascript\">\n",
       "\n",
       "var ldavis_el319141123117783044526806637_data = {\"mdsDat\": {\"x\": [-0.0348238497247582, -0.058104682408099725, 0.09292853213285787], \"y\": [-0.08170815278788127, 0.06911334813050109, 0.012594804657380176], \"topics\": [1, 2, 3], \"cluster\": [1, 1, 1], \"Freq\": [39.46905873655719, 37.69190817431169, 22.83903308913112]}, \"tinfo\": {\"Category\": [\"Default\", \"Default\", \"Default\", \"Default\", \"Default\", \"Default\", \"Default\", \"Default\", \"Default\", \"Default\", \"Default\", \"Default\", \"Default\", \"Default\", \"Default\", \"Default\", \"Default\", \"Default\", \"Default\", \"Default\", \"Default\", \"Default\", \"Default\", \"Default\", \"Default\", \"Default\", \"Default\", \"Default\", \"Default\", \"Default\", \"Topic1\", \"Topic1\", \"Topic1\", \"Topic1\", \"Topic1\", \"Topic1\", \"Topic1\", \"Topic1\", \"Topic1\", \"Topic1\", \"Topic1\", \"Topic1\", \"Topic1\", \"Topic1\", \"Topic1\", \"Topic1\", \"Topic1\", \"Topic1\", \"Topic1\", \"Topic1\", \"Topic1\", \"Topic1\", \"Topic1\", \"Topic1\", \"Topic1\", \"Topic1\", \"Topic1\", \"Topic1\", \"Topic1\", \"Topic1\", \"Topic1\", \"Topic1\", \"Topic1\", \"Topic1\", \"Topic1\", \"Topic1\", \"Topic1\", \"Topic1\", \"Topic1\", \"Topic1\", \"Topic1\", \"Topic1\", \"Topic1\", \"Topic1\", \"Topic1\", \"Topic1\", \"Topic1\", \"Topic1\", \"Topic1\", \"Topic1\", \"Topic1\", \"Topic1\", \"Topic1\", \"Topic1\", \"Topic1\", \"Topic1\", \"Topic1\", \"Topic1\", \"Topic1\", \"Topic1\", \"Topic1\", \"Topic1\", \"Topic1\", \"Topic1\", \"Topic1\", \"Topic1\", \"Topic1\", \"Topic1\", \"Topic1\", \"Topic1\", \"Topic1\", \"Topic1\", \"Topic1\", \"Topic2\", \"Topic2\", \"Topic2\", \"Topic2\", \"Topic2\", \"Topic2\", \"Topic2\", \"Topic2\", \"Topic2\", \"Topic2\", \"Topic2\", \"Topic2\", \"Topic2\", \"Topic2\", \"Topic2\", \"Topic2\", \"Topic2\", \"Topic2\", \"Topic2\", \"Topic2\", \"Topic2\", \"Topic2\", \"Topic2\", \"Topic2\", \"Topic2\", \"Topic2\", \"Topic2\", \"Topic2\", \"Topic2\", \"Topic2\", \"Topic2\", \"Topic2\", \"Topic2\", \"Topic2\", \"Topic2\", \"Topic2\", \"Topic2\", \"Topic2\", \"Topic2\", \"Topic2\", \"Topic2\", \"Topic2\", \"Topic2\", \"Topic2\", \"Topic2\", \"Topic2\", \"Topic2\", \"Topic2\", \"Topic2\", \"Topic2\", \"Topic2\", \"Topic2\", \"Topic2\", \"Topic2\", \"Topic2\", \"Topic2\", \"Topic2\", \"Topic2\", \"Topic2\", \"Topic2\", \"Topic2\", \"Topic2\", \"Topic2\", \"Topic2\", \"Topic2\", \"Topic2\", \"Topic2\", \"Topic2\", \"Topic2\", \"Topic3\", \"Topic3\", \"Topic3\", \"Topic3\", \"Topic3\", \"Topic3\", \"Topic3\", \"Topic3\", \"Topic3\", \"Topic3\", \"Topic3\", \"Topic3\", \"Topic3\", \"Topic3\", \"Topic3\", \"Topic3\", \"Topic3\", \"Topic3\", \"Topic3\", \"Topic3\", \"Topic3\", \"Topic3\", \"Topic3\", \"Topic3\", \"Topic3\", \"Topic3\", \"Topic3\", \"Topic3\", \"Topic3\", \"Topic3\", \"Topic3\", \"Topic3\", \"Topic3\", \"Topic3\", \"Topic3\", \"Topic3\", \"Topic3\", \"Topic3\", \"Topic3\", \"Topic3\", \"Topic3\", \"Topic3\", \"Topic3\", \"Topic3\", \"Topic3\", \"Topic3\", \"Topic3\", \"Topic3\", \"Topic3\", \"Topic3\", \"Topic3\", \"Topic3\", \"Topic3\", \"Topic3\", \"Topic3\", \"Topic3\", \"Topic3\", \"Topic3\", \"Topic3\", \"Topic3\", \"Topic3\", \"Topic3\", \"Topic3\", \"Topic3\", \"Topic3\", \"Topic3\", \"Topic3\", \"Topic3\", \"Topic3\", \"Topic3\", \"Topic3\"], \"Freq\": [31.0, 36.0, 58.0, 23.0, 9.0, 133.0, 22.0, 19.0, 47.0, 17.0, 8.0, 8.0, 23.0, 13.0, 96.0, 17.0, 7.0, 16.0, 12.0, 78.0, 6.0, 13.0, 9.0, 12.0, 12.0, 31.0, 10.0, 16.0, 9.0, 10.0, 11.524815460793407, 13.109371051620691, 8.075921886420469, 8.069887291397075, 8.862552385914332, 6.345150834426539, 5.4800864678673396, 5.480075850530014, 5.479995205718103, 5.479686352404653, 5.455972618210601, 5.404215618522905, 4.588646153703455, 4.583847719382633, 4.572067962514991, 4.5647390391880505, 3.749621075768004, 3.7495949389408385, 3.749568322070919, 3.749429304965972, 3.7493838538441637, 3.7492867735251356, 3.74848530108919, 3.7463201864631954, 3.737249749529918, 3.734897839288589, 3.7331288794044357, 3.727449435966052, 3.7274494099455344, 8.96364740830337, 11.110597687314765, 8.761863892937521, 7.296971013317326, 19.173928801314414, 63.308126226108975, 8.908480728932549, 10.489762492447767, 10.301704989644486, 92.64753626520219, 69.9289000125837, 13.257741082107461, 6.1680539489553325, 6.163888593943995, 40.97111632282891, 22.86937097100917, 29.638120222594672, 19.98061650717578, 11.819744916488533, 37.71772812578526, 48.557500466097494, 34.52866997652162, 24.075616370657375, 21.67697566390242, 13.203531308459235, 11.310016538494908, 29.666931731753593, 21.48484423141935, 29.09416194803043, 16.30602041863263, 26.20790046668206, 27.285562772217848, 15.858912436389833, 21.835217853667558, 14.645788868634629, 13.638339163300104, 18.864730618008707, 23.047756009935398, 14.709026461492158, 13.951622079323007, 14.967468138985383, 15.704577811096604, 15.511517489990625, 16.46472895833247, 8.885630448673286, 8.019590669532505, 7.1975990370859195, 7.174436159987059, 6.320490737195414, 5.470132863945281, 5.470120848115183, 5.4588215825826, 11.553118343309665, 12.325407769037048, 4.610447021864697, 4.6103918130990165, 4.610192860871155, 4.606299989902409, 4.595447545500424, 4.591485379093068, 3.7458360622512252, 3.7455459661338826, 3.7404597744894628, 3.7401813016376853, 3.740153143321551, 3.7396560019861473, 3.739656000896213, 3.739206166246219, 3.739206165730657, 3.7371704801856893, 3.723037013514532, 3.723338453451297, 14.81450267979084, 5.163686777870065, 11.3546421339184, 4.415855192466035, 16.365696333753956, 8.852369152421439, 12.225096496570163, 45.23088337767961, 7.318926171828199, 42.31052431125427, 44.705509738682906, 22.094004608051407, 5.489175574275322, 7.091724690332295, 76.14639301281449, 25.845621326953033, 35.7867309325212, 34.02799074004687, 16.817950106338014, 22.084309079747673, 41.4997087470312, 7.902388289924729, 18.8861581921904, 24.69380252807165, 13.366461810834041, 19.482572452308244, 17.26236496178333, 12.464614489794307, 12.735127187847649, 16.722433324514604, 30.62705270439652, 12.960041514306004, 17.294679424577883, 21.73357956311944, 16.516256366913783, 17.14243184550704, 19.37898995989398, 21.247172483237673, 19.2278422904511, 13.636712281935353, 12.858200758365518, 8.444993678484222, 7.626732770960448, 7.623304483879212, 5.996416195885764, 5.141670415754525, 6.582052950191648, 4.363780679011425, 4.3333335001048106, 3.549277543988777, 3.549223099937793, 3.5438976757751393, 3.535492475526683, 3.535492460807154, 3.535492453685393, 2.73015523551135, 2.7301199026904968, 2.7301147752387975, 2.7301139744733796, 2.7299211447586673, 2.7298390871699625, 2.7280025817865914, 2.7186239215076102, 2.712636852389633, 2.7111689489630546, 2.7111588795397576, 2.696934033771323, 3.3641625386604654, 1.9111103238634306, 1.9111091213678753, 1.911082218868866, 1.911082218868866, 6.133967868958186, 7.22147201813704, 4.856619970065365, 5.862956564892579, 13.126017831878775, 5.747215115381634, 6.200827199032171, 7.446798545399021, 4.620238262663472, 14.706861542842383, 9.54658085483975, 22.928189646322334, 18.945376780224734, 15.62487516435524, 9.855997410370469, 6.106071583036748, 6.391350609328466, 33.38694619709737, 12.794073145395716, 17.535242082727272, 26.113479784909035, 19.79808926516776, 9.704343069695003, 17.985284687321066, 8.838529491520916, 8.567218453505028, 9.561248221155111, 11.259364052482972, 13.299147419575862, 13.72384986126818, 12.546183669538769, 11.813476664293347, 14.623089524085355, 9.370657519455166, 11.682438488138573, 10.938463538232378, 9.333877017180434, 9.090131605373836, 8.90844131813627, 8.496595767035222], \"Term\": [\"session\", \"course\", \"day\", \"real\", \"covered\", \"workshop\", \"variety\", \"service\", \"good\", \"job\", \"life\", \"topic covered\", \"hand\", \"small group\", \"ux\", \"did\", \"ask\", \"service design\", \"inspiring\", \"people\", \"variety topic\", \"engaging\", \"attending\", \"participant\", \"uxpa\", \"learn\", \"online\", \"user\", \"master\", \"day workshop\", \"inspiring\", \"small group\", \"enterprise\", \"liked\", \"point\", \"enterprise ux\", \"key\", \"change\", \"old\", \"global\", \"design conference\", \"digital\", \"methodology\", \"single track\", \"truly\", \"degree\", \"really inspiring\", \"trainer\", \"remote\", \"diversity speaker\", \"handson learning\", \"minimal\", \"theme\", \"spain\", \"context\", \"workshop hand\", \"note\", \"assembly\", \"general assembly\", \"panel\", \"workshop wa\", \"area\", \"pretty\", \"hand\", \"ux\", \"handson\", \"diversity\", \"idea\", \"conference\", \"workshop\", \"community\", \"overall\", \"general\", \"experience\", \"small\", \"really\", \"group\", \"enjoyed\", \"design\", \"great\", \"learning\", \"attended\", \"work\", \"ago\", \"year ago\", \"speaker\", \"year\", \"people\", \"learned\", \"event\", \"research\", \"session\", \"day\", \"networking\", \"real\", \"good\", \"talk\", \"training\", \"went\", \"content\", \"new\", \"best\", \"topic\", \"teaching\", \"instructor\", \"speaker wa\", \"answer\", \"specifically\", \"sorry\", \"technique\", \"professional learning\", \"uxpa\", \"engaging\", \"solution\", \"strive conference\", \"worthwhile\", \"hearing\", \"actionable\", \"wa incredible\", \"wa engaging\", \"certification\", \"phd\", \"dont\", \"google\", \"best professional learning\", \"best professional\", \"ux australia\", \"australia\", \"likely\", \"summer\", \"grad\", \"did\", \"talk wa\", \"strive\", \"strategy\", \"think\", \"designer\", \"user\", \"people\", \"leadership\", \"talk\", \"research\", \"ve\", \"qualitative\", \"worked\", \"conference\", \"lot\", \"event\", \"speaker\", \"thing\", \"year\", \"great\", \"taught\", \"time\", \"topic\", \"researcher\", \"best\", \"course\", \"practical\", \"way\", \"like\", \"workshop\", \"attendee\", \"work\", \"learning\", \"new\", \"attended\", \"experience\", \"ux\", \"design\", \"day\", \"really\", \"covered\", \"life\", \"topic covered\", \"variety topic\", \"ixda\", \"ask\", \"real life\", \"2013\", \"ticket\", \"wonderful\", \"food\", \"spool\", \"jared\", \"jared spool\", \"learnt\", \"listening session\", \"ask question\", \"great variety\", \"doing work\", \"learn new\", \"cheap\", \"talk workshop\", \"spoke\", \"fullday workshop\", \"fullday\", \"mix talk\", \"affordable\", \"campus\", \"wa really\", \"time ask\", \"time ask question\", \"offered\", \"attending\", \"expert\", \"remember\", \"variety\", \"environment\", \"master\", \"participant\", \"sxsw\", \"session\", \"job\", \"day\", \"good\", \"course\", \"service\", \"day workshop\", \"online\", \"workshop\", \"learn\", \"topic\", \"great\", \"design\", \"real\", \"learning\", \"different\", \"doing\", \"training\", \"new\", \"experience\", \"research\", \"event\", \"talk\", \"conference\", \"like\", \"ux\", \"speaker\", \"time\", \"lot\", \"really\", \"ve\"], \"Total\": [31.0, 36.0, 58.0, 23.0, 9.0, 133.0, 22.0, 19.0, 47.0, 17.0, 8.0, 8.0, 23.0, 13.0, 96.0, 17.0, 7.0, 16.0, 12.0, 78.0, 6.0, 13.0, 9.0, 12.0, 12.0, 31.0, 10.0, 16.0, 9.0, 10.0, 12.098592595787494, 13.829068787186483, 8.637735112121987, 8.6377373275751, 9.502601158100283, 6.907039013734259, 6.041701135858434, 6.041700764643578, 6.041697324702145, 6.041689138859822, 6.041439595175494, 6.037645076312111, 5.1758522727438, 5.176323752153131, 5.176303895391829, 5.174159975094963, 4.311015582668245, 4.3110150659006665, 4.3110144562747195, 4.311011292508584, 4.311007267122671, 4.311004646597703, 4.310979621533143, 4.310989469109048, 4.310366469874122, 4.310237231171943, 4.310994191935273, 4.3100927046987465, 4.310092703338106, 10.366909162479406, 12.91345203626084, 10.366159153294529, 8.59609712421648, 23.344863371471423, 96.23773719748522, 11.188081496708635, 13.827015811234942, 13.737074262359279, 183.417018802102, 133.9428989140776, 18.95817019127943, 7.716755083643244, 7.7165607444605735, 73.64925370229875, 37.034322297860804, 51.40476229909646, 31.799163536869, 17.183268224973986, 76.74365968140413, 116.17068899803772, 74.24753422696213, 48.875150112210406, 44.65950998483585, 21.60991394510878, 17.2855545188202, 74.63338601003284, 46.53898262854571, 78.46753924492273, 31.78550050785441, 74.54081506874202, 85.71492237216893, 31.186404653339874, 58.40011978192524, 27.28688699278724, 23.681162243943255, 47.37965174806435, 77.17175698548301, 28.87707988021417, 25.543451655752794, 34.14297651726314, 43.48019823049336, 41.987539588302766, 58.69377356913139, 9.492450147371907, 8.629589330716675, 7.765511039264485, 7.764281469547117, 6.900842845913933, 6.036328198600819, 6.036557243327978, 6.036345099170044, 12.908769388316921, 13.817591971483893, 5.172065339089111, 5.172063724099063, 5.172057150914991, 5.172065701614868, 5.17206751607701, 5.171776042672525, 4.307575066109361, 4.307566988425881, 4.307572119301335, 4.30758052224985, 4.307580744765079, 4.307249679172906, 4.307249679115676, 4.307560707329026, 4.307560707329479, 4.307584392044896, 4.30645494794069, 4.307547361300502, 17.276202028587328, 6.025689293393701, 13.769886545538698, 5.172201521773527, 21.509902115208455, 11.129623171341262, 16.220433921811793, 78.46753924492273, 9.496012317329185, 77.17175698548301, 85.71492237216893, 36.707948144075004, 6.856386337921143, 9.398067737875737, 183.417018802102, 48.7855399130967, 74.54081506874202, 74.63338601003284, 31.615144762775625, 46.53898262854571, 116.17068899803772, 11.079398819826093, 39.25988015464356, 58.69377356913139, 23.859505590191635, 41.987539588302766, 36.31007146368495, 22.234109394922147, 24.032005372211035, 39.25995465799966, 133.9428989140776, 24.99346871570451, 44.65950998483585, 74.24753422696213, 43.48019823049336, 48.875150112210406, 73.64925370229875, 96.23773719748522, 76.74365968140413, 58.40011978192524, 51.40476229909646, 9.041443728943298, 8.222329879567548, 8.222512537144457, 6.583735308551673, 5.76667434602278, 7.4159914786856795, 4.945279238968013, 4.946989507349091, 4.125944714639446, 4.125947761364304, 4.126248581955156, 4.126709200578411, 4.126709201394482, 4.126709201789324, 3.30687099288758, 3.3068729703604562, 3.306873244860428, 3.3068732920039707, 3.3068840954635252, 3.3068886775669206, 3.306990567079364, 3.3075223398898626, 3.307860584288435, 3.307942339137759, 3.3079429069771455, 3.3087251141531837, 4.136243691200898, 2.487792934198229, 2.487793006398297, 2.487794511521101, 2.487794511521101, 8.305882426091298, 9.974837300735887, 6.646924659231081, 8.321962766667571, 22.618056660778052, 8.328414015262286, 9.168235761807155, 12.55881033527907, 6.66005593115439, 31.186404653339874, 17.625248506686454, 58.40011978192524, 47.37965174806435, 36.31007146368495, 19.345891417334762, 10.038932196233807, 10.884275348034409, 133.9428989140776, 31.28590818608818, 58.69377356913139, 116.17068899803772, 76.74365968140413, 23.681162243943255, 74.24753422696213, 21.990032643339667, 22.004898762349608, 28.87707988021417, 43.48019823049336, 73.64925370229875, 85.71492237216893, 74.54081506874202, 77.17175698548301, 183.417018802102, 39.25995465799966, 96.23773719748522, 74.63338601003284, 39.25988015464356, 48.7855399130967, 51.40476229909646, 36.707948144075004], \"loglift\": [30.0, 29.0, 28.0, 27.0, 26.0, 25.0, 24.0, 23.0, 22.0, 21.0, 20.0, 19.0, 18.0, 17.0, 16.0, 15.0, 14.0, 13.0, 12.0, 11.0, 10.0, 9.0, 8.0, 7.0, 6.0, 5.0, 4.0, 3.0, 2.0, 1.0, 0.8811, 0.8762, 0.8624, 0.8617, 0.8599, 0.8448, 0.8321, 0.8321, 0.8321, 0.832, 0.8277, 0.8188, 0.8092, 0.8081, 0.8055, 0.8043, 0.7901, 0.7901, 0.7901, 0.7901, 0.7901, 0.79, 0.7898, 0.7893, 0.787, 0.7864, 0.7857, 0.7844, 0.7844, 0.7842, 0.7793, 0.7615, 0.7658, 0.7328, 0.5108, 0.7018, 0.6534, 0.6419, 0.2467, 0.2797, 0.572, 0.7056, 0.705, 0.3432, 0.4476, 0.379, 0.465, 0.5555, 0.2193, 0.0573, 0.164, 0.2216, 0.2068, 0.437, 0.5055, 0.0071, 0.1567, -0.0625, 0.2622, -0.1156, -0.215, 0.2534, -0.0541, 0.3074, 0.3779, 0.0088, -0.2788, 0.2551, 0.3249, 0.105, -0.0887, -0.0661, -0.3415, 0.9097, 0.9024, 0.8998, 0.8967, 0.8879, 0.8772, 0.8772, 0.8752, 0.8648, 0.8614, 0.8608, 0.8608, 0.8607, 0.8599, 0.8575, 0.8567, 0.836, 0.8359, 0.8346, 0.8345, 0.8345, 0.8344, 0.8344, 0.8342, 0.8342, 0.8337, 0.8301, 0.83, 0.822, 0.8213, 0.7829, 0.8176, 0.7024, 0.7468, 0.6929, 0.4248, 0.7153, 0.3747, 0.3248, 0.468, 0.7533, 0.6941, 0.0966, 0.3404, 0.242, 0.1903, 0.3445, 0.2303, -0.0536, 0.6378, 0.244, 0.1099, 0.3963, 0.2079, 0.2322, 0.397, 0.3407, 0.1223, -0.4998, 0.319, 0.0271, -0.2528, 0.0078, -0.072, -0.3594, -0.5349, -0.4084, -0.4788, -0.41, 1.4085, 1.4015, 1.401, 1.3833, 1.362, 1.3574, 1.3516, 1.3443, 1.3261, 1.3261, 1.3246, 1.3221, 1.3221, 1.3221, 1.2851, 1.285, 1.285, 1.285, 1.285, 1.2849, 1.2842, 1.2806, 1.2783, 1.2778, 1.2777, 1.2723, 1.2701, 1.213, 1.213, 1.213, 1.213, 1.1736, 1.1537, 1.1629, 1.1265, 0.9325, 1.1057, 1.0856, 0.9541, 1.111, 0.725, 0.8635, 0.5417, 0.5601, 0.6335, 0.8023, 0.9795, 0.9443, 0.0875, 0.5825, 0.2686, -0.0159, 0.1218, 0.5846, 0.0588, 0.5652, 0.5334, 0.3714, 0.1256, -0.2349, -0.3552, -0.3052, -0.4001, -1.0525, 0.0441, -0.632, -0.4436, 0.0401, -0.2035, -0.276, 0.0134], \"logprob\": [30.0, 29.0, 28.0, 27.0, 26.0, 25.0, 24.0, 23.0, 22.0, 21.0, 20.0, 19.0, 18.0, 17.0, 16.0, 15.0, 14.0, 13.0, 12.0, 11.0, 10.0, 9.0, 8.0, 7.0, 6.0, 5.0, 4.0, 3.0, 2.0, 1.0, -5.7886, -5.6597, -6.1442, -6.1449, -6.0512, -6.3854, -6.532, -6.532, -6.532, -6.532, -6.5364, -6.5459, -6.7095, -6.7105, -6.7131, -6.7147, -6.9114, -6.9114, -6.9114, -6.9115, -6.9115, -6.9115, -6.9117, -6.9123, -6.9147, -6.9154, -6.9158, -6.9173, -6.9173, -6.0399, -5.8252, -6.0627, -6.2456, -5.2795, -4.0851, -6.0461, -5.8827, -5.9008, -3.7043, -3.9856, -5.6485, -6.4137, -6.4144, -4.5202, -5.1033, -4.844, -5.2383, -5.7633, -4.6029, -4.3503, -4.6913, -5.0519, -5.1568, -5.6526, -5.8074, -4.843, -5.1657, -4.8625, -5.4415, -4.967, -4.9267, -5.4693, -5.1495, -5.5489, -5.6202, -5.2958, -5.0955, -5.5446, -5.5975, -5.5272, -5.4791, -5.4915, -5.4319, -6.0026, -6.1051, -6.2133, -6.2165, -6.3432, -6.4877, -6.4877, -6.4898, -5.74, -5.6753, -6.6587, -6.6587, -6.6587, -6.6596, -6.6619, -6.6628, -6.8664, -6.8664, -6.8678, -6.8679, -6.8679, -6.868, -6.868, -6.8681, -6.8681, -6.8687, -6.8725, -6.8724, -5.4914, -6.5453, -5.7574, -6.7018, -5.3918, -6.0063, -5.6835, -4.3752, -6.1965, -4.442, -4.3869, -5.0917, -6.4842, -6.2281, -3.8543, -4.9349, -4.6094, -4.6598, -5.3646, -5.0921, -4.4613, -6.1198, -5.2486, -4.9804, -5.5943, -5.2175, -5.3385, -5.6641, -5.6426, -5.3702, -4.7651, -5.6251, -5.3366, -5.1081, -5.3827, -5.3454, -5.2228, -5.1308, -5.2306, -5.5742, -5.633, -5.5525, -5.6544, -5.6548, -5.8949, -6.0486, -5.8017, -6.2127, -6.2197, -6.4193, -6.4193, -6.4208, -6.4232, -6.4232, -6.4232, -6.6817, -6.6817, -6.6817, -6.6817, -6.6818, -6.6818, -6.6825, -6.6859, -6.6881, -6.6886, -6.6886, -6.6939, -6.4728, -7.0383, -7.0383, -7.0384, -7.0384, -5.8722, -5.709, -6.1057, -5.9174, -5.1114, -5.9373, -5.8613, -5.6782, -6.1556, -4.9977, -5.4298, -4.5537, -4.7445, -4.9372, -5.3979, -5.8767, -5.8311, -4.1779, -5.137, -4.8218, -4.4236, -4.7004, -5.4135, -4.7965, -5.5069, -5.5381, -5.4283, -5.2648, -5.0983, -5.0669, -5.1566, -5.2168, -5.0034, -5.4484, -5.2279, -5.2937, -5.4524, -5.4788, -5.499, -5.5464]}, \"token.table\": {\"Topic\": [3, 2, 3, 1, 2, 2, 1, 2, 1, 3, 3, 1, 1, 2, 3, 1, 2, 3, 1, 2, 3, 2, 1, 2, 3, 2, 2, 3, 2, 1, 3, 1, 2, 3, 1, 2, 3, 1, 2, 3, 1, 1, 2, 3, 3, 1, 2, 3, 1, 3, 1, 1, 2, 3, 1, 2, 3, 1, 2, 1, 2, 3, 1, 1, 2, 1, 1, 2, 3, 3, 2, 1, 2, 1, 2, 3, 1, 1, 1, 3, 1, 2, 3, 1, 2, 3, 2, 3, 3, 3, 3, 1, 3, 1, 1, 1, 2, 3, 2, 2, 1, 2, 3, 3, 1, 2, 3, 1, 2, 1, 2, 3, 1, 2, 1, 2, 3, 1, 2, 3, 3, 3, 2, 3, 1, 1, 2, 1, 2, 3, 3, 1, 2, 3, 1, 2, 3, 3, 3, 1, 2, 3, 1, 2, 3, 1, 2, 3, 1, 3, 1, 1, 3, 1, 2, 3, 1, 2, 3, 1, 1, 2, 3, 1, 2, 3, 1, 3, 1, 2, 1, 2, 3, 1, 2, 3, 2, 1, 1, 2, 3, 1, 3, 2, 2, 3, 1, 3, 3, 1, 2, 3, 1, 1, 3, 1, 1, 2, 3, 1, 2, 3, 1, 3, 1, 3, 1, 2, 3, 1, 1, 2, 3, 1, 2, 2, 1, 1, 2, 3, 2, 2, 3, 3, 2, 1, 2, 3, 2, 2, 2, 3, 1, 2, 3, 2, 3, 2, 3, 2, 2, 1, 1, 2, 3, 1, 2, 3, 3, 1, 2, 3, 3, 3, 1, 2, 3, 3, 1, 1, 2, 3, 1, 2, 3, 1, 2, 3, 2, 2, 3, 1, 2, 3, 3, 1, 2, 3, 2, 2, 3, 1, 2, 3, 1, 2, 3, 3, 1, 2, 3, 2, 3, 1, 2, 3, 1, 1, 2, 3, 2, 1, 2, 3, 1, 2], \"Freq\": [0.808572566013679, 0.9667313863281657, 0.7252957572064604, 0.6015757412556675, 0.3702004561573338, 0.901564430328194, 0.8682097068845077, 0.09646774520938975, 0.13484373638698247, 0.9439061547088772, 0.907201388702342, 0.9280542842243992, 0.491047085173128, 0.347825018664299, 0.163682361724376, 0.4001045278567738, 0.520135886213806, 0.08002090557135477, 0.1002522617512995, 0.1002522617512995, 0.7017658322590966, 0.9285997973734526, 0.3810654340998207, 0.4525152029935371, 0.16671612741867156, 0.9286668519344442, 0.9286668519221052, 0.8039254282409015, 0.9285984433318643, 0.827581536189333, 0.9071692038872403, 0.6857201865388819, 0.21099082662734828, 0.05274770665683707, 0.5070412800697761, 0.41435631489573105, 0.08178085162415744, 0.43932900789759205, 0.32217460579156754, 0.2343088042120491, 0.9279953405253764, 0.08262170464193141, 0.46818965963761133, 0.4406490914236342, 0.8848144433383522, 0.376711556108982, 0.2397255357057158, 0.39383480865939025, 0.39844875150174186, 0.5976731272526128, 0.9663404347887858, 0.49515491126894795, 0.24757745563447398, 0.2606078480362884, 0.8276173122698842, 0.8086527155002845, 0.17970060344450767, 0.11576618499196491, 0.8682463874397368, 0.13642544550331256, 0.45475148501104184, 0.40927633650993767, 0.8281374504137098, 0.7232218532559025, 0.21696655597677073, 0.927856534950618, 0.13633327889392527, 0.4544442629797509, 0.4089998366817758, 0.907198411978056, 0.9285955258036126, 0.0723715103227649, 0.8684581238731789, 0.6983537615131516, 0.1745884403782879, 0.11639229358552527, 0.9261687116073974, 0.8686790371488183, 0.2401417600439757, 0.7204252801319271, 0.34880219616625646, 0.482956886999432, 0.17440109808312823, 0.5566926742493292, 0.2579795319692013, 0.17651231134734827, 0.30089102893959396, 0.752227572348985, 0.9694035442975334, 0.906908034498531, 0.9069081901778172, 0.777548469932952, 0.129591411655492, 0.9280542845173739, 0.8275831286717926, 0.4010160332336387, 0.21106107012296774, 0.4010160332336387, 0.9285954778354705, 0.9286026744445012, 0.42179314268186596, 0.35292895612156133, 0.22380860632099012, 0.9072013757690712, 0.6289473613609786, 0.25157894454439145, 0.12578947227219572, 0.8138835382184734, 0.17134390278283648, 0.8044274617277023, 0.0893808290808558, 0.0893808290808558, 0.9278574013329723, 0.9667317254765065, 0.7279570459483377, 0.14559140918966754, 0.14559140918966754, 0.9918509037305858, 0.9270429557434817, 0.8670508684868692, 0.969295340376379, 0.9692953402836373, 0.45389430945981024, 0.5673678868247628, 0.8275814853409786, 0.2106147225978444, 0.7371515290924554, 0.2876694499794641, 0.2876694499794641, 0.4155225388592259, 0.9071971549424164, 0.5033741720079661, 0.37753062900597456, 0.12584354300199152, 0.47139612600481695, 0.29630613634588493, 0.24243229337390587, 0.9072020065047598, 0.9729602335561801, 0.33112621023751243, 0.4330111980029009, 0.229241222472124, 0.926168474058688, 0.9285946915833075, 0.9072014640081544, 0.28697027899944666, 0.5329448038561152, 0.18448089364250142, 0.32721671627352095, 0.6544334325470419, 0.966024479935441, 0.9278579653484829, 0.9066936347076396, 0.5497145938254135, 0.21988583753016544, 0.25653347711852637, 0.3679836029077472, 0.3909825780894814, 0.2529887269990762, 0.92786021551199, 0.12039659950623627, 0.12039659950623627, 0.7223795970374176, 0.8275820073867237, 0.367502646900821, 0.5512539703512315, 0.7775288881096991, 0.1295881480182832, 0.8681468949851888, 0.09646076610946543, 0.3185015055736261, 0.07962537639340653, 0.5573776347538457, 0.36957957747956843, 0.5734855512613993, 0.05097649344545772, 0.9285973372510309, 0.9471090967895825, 0.22487970672402585, 0.539711296137662, 0.17990376537922068, 0.8143230467091819, 0.11633186381559742, 0.8283157967041126, 0.7292471213802693, 0.14584942427605385, 0.5911872000108723, 0.4222765714363374, 0.8088522016068652, 0.5836035156712962, 0.252894856790895, 0.17508105470138888, 0.927855611582887, 0.24032791975598752, 0.7209837592679625, 0.9278558540155125, 0.3149976602996577, 0.5249961004994296, 0.16333212015537807, 0.1676480673448805, 0.5448562188708617, 0.25147210101732076, 0.46521505811490327, 0.5169056201276703, 0.49918021830021286, 0.4367826910126863, 0.5130440708973003, 0.03206525443108127, 0.4809788164662191, 0.9659364907228247, 0.6210455213683912, 0.2970217710892306, 0.08100593756979016, 0.940048834817087, 0.9667317932376672, 0.8283181158305751, 0.9278612320123992, 0.40196487930973884, 0.45556019655103736, 0.1473871224135709, 0.9014216790892631, 0.8694590115977888, 0.9069306047084629, 0.9692953405680607, 0.7733650715582359, 0.0726222396018208, 0.7988446356200289, 0.0726222396018208, 0.9667320951021277, 0.9288382319923644, 0.30029777837816735, 0.7507444459454183, 0.2980364954542449, 0.5442405569164472, 0.15549730197612777, 0.8297805871739484, 0.9070233521385368, 0.7220608383267471, 0.27077281437253015, 0.948121913760248, 0.8282866870062976, 0.9278633515269211, 0.25304328226323286, 0.5377169748093698, 0.22141287198032875, 0.1394706486311189, 0.7438434593659675, 0.09298043242074594, 0.9694749388685273, 0.28018424805861125, 0.48395461028305575, 0.2292416575025001, 0.8039249185324189, 0.8039249185324189, 0.2726013174319878, 0.42593955848748094, 0.30667648211098625, 0.9729386199000273, 0.927855722806274, 0.5194431037425503, 0.17314770124751677, 0.34629540249503354, 0.9659401961409603, 0.7398075820809867, 0.24660252736032892, 0.6546288580198065, 0.2182096193399355, 0.1246912110513917, 0.9285997973735501, 0.9296006179226192, 0.07746671816021826, 0.2210623164929326, 0.2210623164929326, 0.5747620228816248, 0.9113367592719813, 0.16345233943478954, 0.5993252445942283, 0.2179364525797194, 0.9285967019984714, 0.966785869833652, 0.8039254049095912, 0.3328894062769581, 0.540945285200057, 0.1248335273538593, 0.5480856772482029, 0.15659590778520083, 0.27404283862410145, 0.9694742229788538, 0.49261624248609326, 0.3806580055574357, 0.13434988431438907, 0.7448339589838096, 0.21280970256680273, 0.5226107585210916, 0.23144190734505488, 0.24637364330280034, 0.9280231656558751, 0.8518249008175439, 0.07743862734704945, 0.07743862734704945, 0.9667333237250574, 0.45123461695785305, 0.47272197967013174, 0.06446208813683615, 0.6363695181443788, 0.34711064626057025], \"Term\": [\"2013\", \"actionable\", \"affordable\", \"ago\", \"ago\", \"answer\", \"area\", \"area\", \"ask\", \"ask\", \"ask question\", \"assembly\", \"attended\", \"attended\", \"attended\", \"attendee\", \"attendee\", \"attendee\", \"attending\", \"attending\", \"attending\", \"australia\", \"best\", \"best\", \"best\", \"best professional\", \"best professional learning\", \"campus\", \"certification\", \"change\", \"cheap\", \"community\", \"community\", \"community\", \"conference\", \"conference\", \"conference\", \"content\", \"content\", \"content\", \"context\", \"course\", \"course\", \"course\", \"covered\", \"day\", \"day\", \"day\", \"day workshop\", \"day workshop\", \"degree\", \"design\", \"design\", \"design\", \"design conference\", \"designer\", \"designer\", \"did\", \"did\", \"different\", \"different\", \"different\", \"digital\", \"diversity\", \"diversity\", \"diversity speaker\", \"doing\", \"doing\", \"doing\", \"doing work\", \"dont\", \"engaging\", \"engaging\", \"enjoyed\", \"enjoyed\", \"enjoyed\", \"enterprise\", \"enterprise ux\", \"environment\", \"environment\", \"event\", \"event\", \"event\", \"experience\", \"experience\", \"experience\", \"expert\", \"expert\", \"food\", \"fullday\", \"fullday workshop\", \"general\", \"general\", \"general assembly\", \"global\", \"good\", \"good\", \"good\", \"google\", \"grad\", \"great\", \"great\", \"great\", \"great variety\", \"group\", \"group\", \"group\", \"hand\", \"hand\", \"handson\", \"handson\", \"handson\", \"handson learning\", \"hearing\", \"idea\", \"idea\", \"idea\", \"inspiring\", \"instructor\", \"ixda\", \"jared\", \"jared spool\", \"job\", \"job\", \"key\", \"leadership\", \"leadership\", \"learn\", \"learn\", \"learn\", \"learn new\", \"learned\", \"learned\", \"learned\", \"learning\", \"learning\", \"learning\", \"learnt\", \"life\", \"like\", \"like\", \"like\", \"liked\", \"likely\", \"listening session\", \"lot\", \"lot\", \"lot\", \"master\", \"master\", \"methodology\", \"minimal\", \"mix talk\", \"networking\", \"networking\", \"networking\", \"new\", \"new\", \"new\", \"note\", \"offered\", \"offered\", \"offered\", \"old\", \"online\", \"online\", \"overall\", \"overall\", \"panel\", \"panel\", \"participant\", \"participant\", \"participant\", \"people\", \"people\", \"people\", \"phd\", \"point\", \"practical\", \"practical\", \"practical\", \"pretty\", \"pretty\", \"professional learning\", \"qualitative\", \"qualitative\", \"real\", \"real\", \"real life\", \"really\", \"really\", \"really\", \"really inspiring\", \"remember\", \"remember\", \"remote\", \"research\", \"research\", \"research\", \"researcher\", \"researcher\", \"researcher\", \"service\", \"service\", \"service design\", \"service design\", \"session\", \"session\", \"session\", \"single track\", \"small\", \"small\", \"small\", \"small group\", \"solution\", \"sorry\", \"spain\", \"speaker\", \"speaker\", \"speaker\", \"speaker wa\", \"specifically\", \"spoke\", \"spool\", \"strategy\", \"strive\", \"strive\", \"strive\", \"strive conference\", \"summer\", \"sxsw\", \"sxsw\", \"talk\", \"talk\", \"talk\", \"talk wa\", \"talk workshop\", \"taught\", \"taught\", \"teaching\", \"technique\", \"theme\", \"thing\", \"thing\", \"thing\", \"think\", \"think\", \"think\", \"ticket\", \"time\", \"time\", \"time\", \"time ask\", \"time ask question\", \"topic\", \"topic\", \"topic\", \"topic covered\", \"trainer\", \"training\", \"training\", \"training\", \"truly\", \"user\", \"user\", \"ux\", \"ux\", \"ux\", \"ux australia\", \"uxpa\", \"uxpa\", \"variety\", \"variety\", \"variety\", \"variety topic\", \"ve\", \"ve\", \"ve\", \"wa engaging\", \"wa incredible\", \"wa really\", \"way\", \"way\", \"way\", \"went\", \"went\", \"went\", \"wonderful\", \"work\", \"work\", \"work\", \"worked\", \"worked\", \"workshop\", \"workshop\", \"workshop\", \"workshop hand\", \"workshop wa\", \"workshop wa\", \"workshop wa\", \"worthwhile\", \"year\", \"year\", \"year\", \"year ago\", \"year ago\"]}, \"R\": 30, \"lambda.step\": 0.01, \"plot.opts\": {\"xlab\": \"PC1\", \"ylab\": \"PC2\"}, \"topic.order\": [1, 3, 2]};\n",
       "\n",
       "function LDAvis_load_lib(url, callback){\n",
       "  var s = document.createElement('script');\n",
       "  s.src = url;\n",
       "  s.async = true;\n",
       "  s.onreadystatechange = s.onload = callback;\n",
       "  s.onerror = function(){console.warn(\"failed to load library \" + url);};\n",
       "  document.getElementsByTagName(\"head\")[0].appendChild(s);\n",
       "}\n",
       "\n",
       "if(typeof(LDAvis) !== \"undefined\"){\n",
       "   // already loaded: just create the visualization\n",
       "   !function(LDAvis){\n",
       "       new LDAvis(\"#\" + \"ldavis_el319141123117783044526806637\", ldavis_el319141123117783044526806637_data);\n",
       "   }(LDAvis);\n",
       "}else if(typeof define === \"function\" && define.amd){\n",
       "   // require.js is available: use it to load d3/LDAvis\n",
       "   require.config({paths: {d3: \"https://cdnjs.cloudflare.com/ajax/libs/d3/3.5.5/d3.min\"}});\n",
       "   require([\"d3\"], function(d3){\n",
       "      window.d3 = d3;\n",
       "      LDAvis_load_lib(\"https://cdn.rawgit.com/bmabey/pyLDAvis/files/ldavis.v1.0.0.js\", function(){\n",
       "        new LDAvis(\"#\" + \"ldavis_el319141123117783044526806637\", ldavis_el319141123117783044526806637_data);\n",
       "      });\n",
       "    });\n",
       "}else{\n",
       "    // require.js not available: dynamically load d3 & LDAvis\n",
       "    LDAvis_load_lib(\"https://cdnjs.cloudflare.com/ajax/libs/d3/3.5.5/d3.min.js\", function(){\n",
       "         LDAvis_load_lib(\"https://cdn.rawgit.com/bmabey/pyLDAvis/files/ldavis.v1.0.0.js\", function(){\n",
       "                 new LDAvis(\"#\" + \"ldavis_el319141123117783044526806637\", ldavis_el319141123117783044526806637_data);\n",
       "            })\n",
       "         });\n",
       "}\n",
       "</script>"
      ],
      "text/plain": [
       "PreparedData(topic_coordinates=              x         y  topics  cluster       Freq\n",
       "topic                                                \n",
       "0     -0.034824 -0.081708       1        1  39.469059\n",
       "2     -0.058105  0.069113       2        1  37.691908\n",
       "1      0.092929  0.012595       3        1  22.839033, topic_info=     Category       Freq     Term      Total  loglift  logprob\n",
       "1210  Default  31.000000  session  31.000000  30.0000  30.0000\n",
       "303   Default  36.000000   course  36.000000  29.0000  29.0000\n",
       "329   Default  58.000000      day  58.000000  28.0000  28.0000\n",
       "1113  Default  23.000000     real  23.000000  27.0000  27.0000\n",
       "309   Default   9.000000  covered   9.000000  26.0000  26.0000\n",
       "...       ...        ...      ...        ...      ...      ...\n",
       "1253   Topic3  10.938464  speaker  74.633386  -0.4436  -5.2937\n",
       "1378   Topic3   9.333877     time  39.259880   0.0401  -5.4524\n",
       "829    Topic3   9.090132      lot  48.785540  -0.2035  -5.4788\n",
       "1116   Topic3   8.908441   really  51.404762  -0.2760  -5.4990\n",
       "1471   Topic3   8.496596       ve  36.707948   0.0134  -5.5464\n",
       "\n",
       "[243 rows x 6 columns], token_table=      Topic      Freq        Term\n",
       "term                             \n",
       "10        3  0.808573        2013\n",
       "45        2  0.966731  actionable\n",
       "60        3  0.725296  affordable\n",
       "64        1  0.601576         ago\n",
       "64        2  0.370200         ago\n",
       "...     ...       ...         ...\n",
       "1617      1  0.451235        year\n",
       "1617      2  0.472722        year\n",
       "1617      3  0.064462        year\n",
       "1618      1  0.636370    year ago\n",
       "1618      2  0.347111    year ago\n",
       "\n",
       "[306 rows x 3 columns], R=30, lambda_step=0.01, plot_opts={'xlab': 'PC1', 'ylab': 'PC2'}, topic_order=[1, 3, 2])"
      ]
     },
     "execution_count": 52,
     "metadata": {},
     "output_type": "execute_result"
    }
   ],
   "source": [
    "pyLDAvis.sklearn.prepare(lda15, best_event_matrix, best_event_vector)"
   ]
  },
  {
   "cell_type": "markdown",
   "metadata": {},
   "source": [
    "#### Topic groups (4) - 3 is almost entirely enclosed by 2\n",
    "1. research\n",
    "2. networking\n",
    "3. day\n",
    "4. variety\n",
    "\n",
    "#### Topic groups (6) - 2 intersects with 1 & 4\n",
    "1. think\n",
    "2. practical\n",
    "3. learn\n",
    "4. design\n",
    "5. variety\n",
    "6. intimate\n",
    "\n",
    "#### Topic groups (8) - overlap between 1 & 2 and 3 & 4\n",
    "1. strive\n",
    "2. world\n",
    "3. concept\n",
    "4. uxpa\n",
    "5. immediately\n",
    "6. sxsw\n",
    "7. relevant\n",
    "8. start\n"
   ]
  },
  {
   "cell_type": "code",
   "execution_count": null,
   "metadata": {},
   "outputs": [],
   "source": [
    "#To Be Decided"
   ]
  },
  {
   "cell_type": "code",
   "execution_count": 67,
   "metadata": {},
   "outputs": [],
   "source": [
    "lda_W15 = lda15.transform(best_event_matrix)"
   ]
  },
  {
   "cell_type": "code",
   "execution_count": 68,
   "metadata": {},
   "outputs": [],
   "source": [
    "top_doc_column15 = datadf.best_event.dropna()"
   ]
  },
  {
   "cell_type": "code",
   "execution_count": 69,
   "metadata": {},
   "outputs": [],
   "source": [
    "word_count_matrix15, count_vect15 = nlp.create_wordcount_matrix(datadf.best_event.dropna(), max_df=0.8, min_df=2, ngram=(1,3))"
   ]
  },
  {
   "cell_type": "code",
   "execution_count": 70,
   "metadata": {},
   "outputs": [
    {
     "data": {
      "text/plain": [
       "LatentDirichletAllocation(batch_size=128, doc_topic_prior=None,\n",
       "                          evaluate_every=-1, learning_decay=0.7,\n",
       "                          learning_method='batch', learning_offset=10.0,\n",
       "                          max_doc_update_iter=100, max_iter=10,\n",
       "                          mean_change_tol=0.001, n_components=5, n_jobs=None,\n",
       "                          perp_tol=0.1, random_state=42, topic_word_prior=None,\n",
       "                          total_samples=1000000.0, verbose=0)"
      ]
     },
     "execution_count": 70,
     "metadata": {},
     "output_type": "execute_result"
    }
   ],
   "source": [
    "LDA15a = LatentDirichletAllocation(n_components=5, random_state=42)\n",
    "LDA15a.fit(word_count_matrix15)"
   ]
  },
  {
   "cell_type": "code",
   "execution_count": 71,
   "metadata": {},
   "outputs": [],
   "source": [
    "lda_H = LDA15a.transform(word_count_matrix15)"
   ]
  },
  {
   "cell_type": "code",
   "execution_count": 72,
   "metadata": {},
   "outputs": [
    {
     "name": "stdout",
     "output_type": "stream",
     "text": [
      "Top 3 Documents for Topic 0: \n",
      "\n",
      "Document 1\n",
      "two polar opposite experience c2mtl highly produced inspiring talk specific networking and meeting discussion and opportunity in an adjacent area to my own not my core sme so not the same old people i used what i learned from that experience to design an incredible offsite for my organization a few month after i returned a 2day immersive workshopclass on analyzing data that i took from iit many year ago it wa full of tool some of which were new to me and handson feedback not only did i walk away with tool and skill that i didn't have before i used that experience to design immersive learning course in the future it wa one of the earliest learnbydoing class that i'd taken\n",
      "\n",
      "Document 2\n",
      "the best experience i had not ux focussed wa the impact factory training workshop that wa over 2 day called 'train the trainer' fantastic and engaging trainer and really interactive session with no slide deck at all i liked the ucd london conference in 2010 or 2011 a while ago and they had amazing and really inspiring speaker they stopped doing this conference or it not the same anymore not sure also really liked the ux cambridge in 2016 really intimate and easy to network really good talk and sometimes it's the meetups too i also liked one of the nng training course i went to\n",
      "\n",
      "Document 3\n",
      "ux research conference in toronto in 2018 at the university of toronto campus it wa a last minute ticket purchase but i loved seeing dr sam ladner speak they also offered wonderful afternoon 45 minute seminar that were really refreshing and scrappy i think the ticket wa 90 it wa possibly the best value i've got from a conference ticket price ever there weren't a tonne of frill but honestly i wa there for the content and it wa a perfect one day injection of local research in action the creativemornings summit in 2018 held on some camp ground in upper state new york were the pinnacle of experience design seth godin spoke and conducted a riveting real talk qa that wa really illuminating sota the society of typography aficionado hilarious title offered the most wonderful fullday workshop with master typographer and it wa 810 studentsit wa so intimate and robust in content it wa maybe another 100 on top of the conference price but it wa worth it for the quality of the interaction\n",
      "\n",
      "Top 3 Documents for Topic 1: \n",
      "\n",
      "Document 1\n",
      "hard to remember but it's usually a combination of amazing venue right amount of attendee good networking opportunity longer break good food option good social option it's also an opportunity to see internet friend i've attended event like ixda ia summit confab an event apart uie sxsw ixda and confab had nice detail from what i remember schwag venuelocation savannah and nola respectively plus good branding and social variety\n",
      "\n",
      "Document 2\n",
      "it is difficult to pick the best because there were many that really stood out to me for different reason of the smaller event what made it great wa how engaging and knowledgable the speaker wa and more specifically one that made me think a bit more philosophically or lended a perspective that wa larger than the topic at hand of larger conference i've attended what stood out were the topic themselves opening my eye to method or idea that i knew little about and wanted to a well a hearing how the industry leading company operate and what they value to have it a inspiration\n",
      "\n",
      "Document 3\n",
      "i can't think of the best because i have had many excellent experience however an aspect the best have had in common were that the instructor were academic who were not getting paid for running the course and had no motivation other than we learn how to do the technique that had been rigorously tested herb simon teaching thinkaloud protocol elicitation clayton lewis teaching cognitive walkthrough peter polson and dave kieras teaching goms dennis wixon teaching contextual inquiry when he wa at dec working with karen holtzblatt all of these except the first were at chi conference course and all were quite a while ago sadly chi ha changed their course structure and fewer academic teach practical course now though some still do see below i find the consultant who teach are often trying to make their student into client so they don't teach in a much detail or with a much honesty about when the technique is not appropriate a i need to do the technique myself\n",
      "\n",
      "Top 3 Documents for Topic 2: \n",
      "\n",
      "Document 1\n",
      "i really enjoyed a half day workshop i took with indie young which went into detail on how to conduct a listening session i would love to do more of these since one that are just a few hour are often too high level that said i've been to some good service design workshop a part of the healthcare design meetup where you actually learn and implement a skill eg service design blueprinting that i've taken back to my current job\n",
      "\n",
      "Document 2\n",
      "for inspiration uxrc's strive conference which i attended for the first time this year it wa very thoughtfully produced and it felt like i wa being welcomed to a community not paying to network for information google design's monthly series of free talk in sf the range of topic the quality of speaker and the fact that they're free i still haven't attended a learning event where i actually learned much\n",
      "\n",
      "Document 3\n",
      "cooper u ux bootcamp wa the greatest learning experience ever it wa 4 day long and wa an intensive workshop with outstanding teacher it wa held at alan cooper's ranch in northern ca so the setting wa beautiful and inspiring and away from the noise and distraction of the city there were only 30 or so participant to a staff of 4 teacher and alan and sue stopped by throughout to hang out and answer question everything wa focused to teaching goaldirected design and i had little free time which wa fine because i wa there to learn some of the most important factor were ample time 4 day to learn the material and practice quality teacher not just outstanding in their field but quality teacher environment everything wa designed around learning sometimes i wonder if i fell in love with ux design or the experience of learning it\n",
      "\n",
      "Top 3 Documents for Topic 3: \n",
      "\n",
      "Document 1\n",
      "i recently went to the strive ux research conference in toronto and while it wasn't perfect the conference itself appealed to me in the sense that it wa specifically focussed on research so the topic were a lot more relevant to me than more generic ux conference in term of social event ia summit come out on top followed by uxpa i think it's super important to organise social event outside of the actual conference because that's often where the magic happens\n",
      "\n",
      "Document 2\n",
      "the full day user research toolkit preconference workshop by kelly moran and jessie webster at last year's big design conference wa probably the single best workshop i've attended due to their ability to tie concept and technique into handson activity note taking affinity mapping user shrine synthesis and persona development were all somehow fit in and i wa able to immediately up my game and level of confidence the most special conference i've attended wa the ia summit in chicago a sense of true community feeling that would be hard to reproduce elsewhere\n",
      "\n",
      "Document 3\n",
      "i really loved the format of uie's ux immersion conference when i went 1 day of fullday workshop 1 day of keynote talk another day of fullday workshop had 3 workshop to choose from made a couple friend in the group work portion of the day 1 workshop that i wa able to talk to and go out to lunch with on day 2 for the keynote i didn't have to choose track of talk andor miss out on talk because there wa only one stagetrack they were all great talk too so that contributed to my overall satisfaction got to choose from 3 different workshop on day 3 i remember deciding on which workshop to attend being an easy choice maybe they were all pretty different from one another\n",
      "\n",
      "Top 3 Documents for Topic 4: \n",
      "\n",
      "Document 1\n",
      "i went to a talk hosted by aiga on the design process around creating alexandria ocasiocortezs campaign branding and identity the topic wa socially and professionally relevant the speaker wa prepared and engaging and the quality of the content he shared wa incredible there wa an anonymous qa that followed where the moderator used an app called pigeonhole to curate question from the crowd and deliver it to the speaker to answer there wa also refreshment and networking afterward it wa well worth the 35 i spent on the talk\n",
      "\n",
      "Document 2\n",
      "i think epic doe a great job every year great speaker i love to listen to talk and dont always want workshopping to take place i go to conference to listen and learn from an expert in their field not play with postits or brainstorm with novice researcher sorry i also attended a workshop with erika hall that wa lovely great talk but also a great little workshop for practice sorry this isnt exactly an answer to the question but there you go\n",
      "\n",
      "Document 3\n",
      "i enjoyed an experience mapping workshop put on many year ago at adaptive path it wa a good small group of peer around 20 and wa split between lecture and handson work in small group we reported back on our insight and the lecturer went pretty deep into the subject matter what made it great wa coming away feeling like i learned a new skill had experience applying it and had reference material to refer back to in week and month after i also miss the research friday that nate bolt used to put on those were nice singleday conference with quality smart indepth speakerstopics\n",
      "\n"
     ]
    }
   ],
   "source": [
    "nlp.find_top_documents_per_topic(lda_H, top_doc_column15, 3)"
   ]
  },
  {
   "cell_type": "markdown",
   "metadata": {},
   "source": [
    "## 16. What if any events have you attended on the subject of research in the past few years?"
   ]
  },
  {
   "cell_type": "code",
   "execution_count": 61,
   "metadata": {},
   "outputs": [],
   "source": [
    "stop_words = ['nan', 'Nan', 'NaN', 'NAN']"
   ]
  },
  {
   "cell_type": "code",
   "execution_count": 62,
   "metadata": {},
   "outputs": [],
   "source": [
    "stopWords = nlp.set_stop_words(stop_words)"
   ]
  },
  {
   "cell_type": "code",
   "execution_count": 77,
   "metadata": {},
   "outputs": [
    {
     "data": {
      "text/plain": [
       "['nan',\n",
       " 'Nan',\n",
       " 'NaN',\n",
       " 'NAN',\n",
       " 'by',\n",
       " 'mine',\n",
       " 'when',\n",
       " 'almost',\n",
       " 'sometime',\n",
       " 'fifteen',\n",
       " 'eg',\n",
       " 'besides',\n",
       " 'others',\n",
       " 'this',\n",
       " 'so',\n",
       " 'afterwards',\n",
       " 'indeed',\n",
       " 'toward',\n",
       " 'anyone',\n",
       " 'get',\n",
       " 'made',\n",
       " 'may',\n",
       " 'here',\n",
       " 'found',\n",
       " 'herself',\n",
       " 'often',\n",
       " 'two',\n",
       " 'might',\n",
       " 'see',\n",
       " 'how',\n",
       " 'seemed',\n",
       " 'own',\n",
       " 'itself',\n",
       " 'however',\n",
       " 'beforehand',\n",
       " 'therein',\n",
       " 'few',\n",
       " 'show',\n",
       " 'whereupon',\n",
       " 'while',\n",
       " 'to',\n",
       " 'take',\n",
       " 'bottom',\n",
       " 'whose',\n",
       " 'was',\n",
       " 'co',\n",
       " 'nevertheless',\n",
       " 'most',\n",
       " 'where',\n",
       " 'behind',\n",
       " 'those',\n",
       " 'their',\n",
       " 'etc',\n",
       " 'about',\n",
       " 'across',\n",
       " 'together',\n",
       " 'still',\n",
       " 'my',\n",
       " 'except',\n",
       " 'it',\n",
       " 'because',\n",
       " 'everyone',\n",
       " 'no',\n",
       " 'into',\n",
       " 'myself',\n",
       " 'either',\n",
       " 'an',\n",
       " 'move',\n",
       " 'you',\n",
       " 'yourself',\n",
       " 'hers',\n",
       " 'who',\n",
       " 'well',\n",
       " 'them',\n",
       " 'con',\n",
       " 'thus',\n",
       " 'latterly',\n",
       " 'describe',\n",
       " 'serious',\n",
       " 'within',\n",
       " 'moreover',\n",
       " 'before',\n",
       " 'we',\n",
       " 'other',\n",
       " 'or',\n",
       " 'among',\n",
       " 'cant',\n",
       " 'should',\n",
       " 'forty',\n",
       " 'his',\n",
       " 'although',\n",
       " 'bill',\n",
       " 'himself',\n",
       " 'every',\n",
       " 'off',\n",
       " 'your',\n",
       " 'whither',\n",
       " 'latter',\n",
       " 'cry',\n",
       " 'more',\n",
       " 'mostly',\n",
       " 'around',\n",
       " 'put',\n",
       " 'during',\n",
       " 'with',\n",
       " 'amongst',\n",
       " 'seeming',\n",
       " 'very',\n",
       " 'the',\n",
       " 'cannot',\n",
       " 'there',\n",
       " 'de',\n",
       " 'formerly',\n",
       " 'third',\n",
       " 'thence',\n",
       " 'being',\n",
       " 'both',\n",
       " 'upon',\n",
       " 'what',\n",
       " 'several',\n",
       " 'hereafter',\n",
       " 'anyhow',\n",
       " 'anyway',\n",
       " 'which',\n",
       " 'sometimes',\n",
       " 'becoming',\n",
       " 'again',\n",
       " 'else',\n",
       " 'detail',\n",
       " 'as',\n",
       " 'empty',\n",
       " 'from',\n",
       " 'never',\n",
       " 'noone',\n",
       " 'onto',\n",
       " 'that',\n",
       " 'former',\n",
       " 'becomes',\n",
       " 'same',\n",
       " 'had',\n",
       " 'nobody',\n",
       " 'everything',\n",
       " 'three',\n",
       " 'interest',\n",
       " 'nothing',\n",
       " 'why',\n",
       " 'meanwhile',\n",
       " 'rather',\n",
       " 'thru',\n",
       " 'until',\n",
       " 'herein',\n",
       " 'beyond',\n",
       " 'fire',\n",
       " 'yourselves',\n",
       " 'please',\n",
       " 'all',\n",
       " 'would',\n",
       " 'everywhere',\n",
       " 'each',\n",
       " 'due',\n",
       " 'thereupon',\n",
       " 'twelve',\n",
       " 'out',\n",
       " 'must',\n",
       " 'done',\n",
       " 'give',\n",
       " 'only',\n",
       " 'has',\n",
       " 'another',\n",
       " 'nowhere',\n",
       " 'against',\n",
       " 'further',\n",
       " 'fifty',\n",
       " 'her',\n",
       " 'once',\n",
       " 'and',\n",
       " 'under',\n",
       " 'thereby',\n",
       " 'anything',\n",
       " 'him',\n",
       " 'much',\n",
       " 'anywhere',\n",
       " 'been',\n",
       " 'hundred',\n",
       " 'she',\n",
       " 'these',\n",
       " 'whatever',\n",
       " 'ourselves',\n",
       " 'couldnt',\n",
       " 'without',\n",
       " 'though',\n",
       " 'if',\n",
       " 'whenever',\n",
       " 'next',\n",
       " 'whence',\n",
       " 'become',\n",
       " 'up',\n",
       " 'of',\n",
       " 'whereby',\n",
       " 'already',\n",
       " 'some',\n",
       " 'fill',\n",
       " 'he',\n",
       " 'over',\n",
       " 'wherein',\n",
       " 'became',\n",
       " 'than',\n",
       " 'call',\n",
       " 'i',\n",
       " 'front',\n",
       " 'will',\n",
       " 'on',\n",
       " 'were',\n",
       " 'via',\n",
       " 're',\n",
       " 'is',\n",
       " 'un',\n",
       " 'neither',\n",
       " 'wherever',\n",
       " 'something',\n",
       " 'can',\n",
       " 'but',\n",
       " 'me',\n",
       " 'ie',\n",
       " 'not',\n",
       " 'hereby',\n",
       " 'themselves',\n",
       " 'ours',\n",
       " 'system',\n",
       " 'namely',\n",
       " 'side',\n",
       " 'too',\n",
       " 'seem',\n",
       " 'go',\n",
       " 'eight',\n",
       " 'us',\n",
       " 'at',\n",
       " 'seems',\n",
       " 'enough',\n",
       " 'towards',\n",
       " 'otherwise',\n",
       " 'ever',\n",
       " 'part',\n",
       " 'am',\n",
       " 'somewhere',\n",
       " 'are',\n",
       " 'alone',\n",
       " 'six',\n",
       " 'amount',\n",
       " 'find',\n",
       " 'since',\n",
       " 'such',\n",
       " 'sixty',\n",
       " 'then',\n",
       " 'perhaps',\n",
       " 'between',\n",
       " 'now',\n",
       " 'back',\n",
       " 'name',\n",
       " 'our',\n",
       " 'down',\n",
       " 'hereupon',\n",
       " 'mill',\n",
       " 'always',\n",
       " 'full',\n",
       " 'whereas',\n",
       " 'ltd',\n",
       " 'nor',\n",
       " 'below',\n",
       " 'whoever',\n",
       " 'top',\n",
       " 'do',\n",
       " 'a',\n",
       " 'twenty',\n",
       " 'along',\n",
       " 'hence',\n",
       " 'have',\n",
       " 'keep',\n",
       " 'amoungst',\n",
       " 'somehow',\n",
       " 'also',\n",
       " 'many',\n",
       " 'whereafter',\n",
       " 'four',\n",
       " 'five',\n",
       " 'inc',\n",
       " 'yours',\n",
       " 'throughout',\n",
       " 'above',\n",
       " 'for',\n",
       " 'whether',\n",
       " 'be',\n",
       " 'in',\n",
       " 'ten',\n",
       " 'elsewhere',\n",
       " 'sincere',\n",
       " 'through',\n",
       " 'beside',\n",
       " 'none',\n",
       " 'any',\n",
       " 'whole',\n",
       " 'thick',\n",
       " 'less',\n",
       " 'thin',\n",
       " 'could',\n",
       " 'one',\n",
       " 'therefore',\n",
       " 'least',\n",
       " 'nine',\n",
       " 'someone',\n",
       " 'whom',\n",
       " 'eleven',\n",
       " 'first',\n",
       " 'yet',\n",
       " 'even',\n",
       " 'after',\n",
       " 'hasnt',\n",
       " 'last',\n",
       " 'thereafter',\n",
       " 'its',\n",
       " 'they',\n",
       " 'per']"
      ]
     },
     "execution_count": 77,
     "metadata": {},
     "output_type": "execute_result"
    }
   ],
   "source": [
    "stopWords"
   ]
  },
  {
   "cell_type": "code",
   "execution_count": 66,
   "metadata": {},
   "outputs": [],
   "source": [
    "from sklearn.feature_extraction.text import CountVectorizer\n",
    "\n",
    "def create_wordcount_matrix(input_column, max_df=0.8, min_df=2, ngram=(1,1), stop_words='english'):\n",
    "    \"\"\"\n",
    "    Creates a feature matrix. Matrix is as wide as the terms that meet the min/max parameters. Each document/row\n",
    "    will have a wordcount for each term.\n",
    "    Can find ngrams, but has default set to 1-word ngrams. Set ngrams to (1,n) to look for ngrams.\n",
    "    \"\"\"\n",
    "    count_vect = CountVectorizer(max_df=max_df, min_df=min_df, stop_words='english', ngram_range=ngram)\n",
    "    doc_term_matrix = count_vect.fit_transform(input_column.values.astype('U'))\n",
    "    return doc_term_matrix, count_vect\n",
    "\n",
    "word_count_matrix10, count_vect10 = create_wordcount_matrix(datadf.research_educ_desc.dropna(), max_df=0.8, min_df=2, ngram=(1,3), stop_words=)"
   ]
  },
  {
   "cell_type": "code",
   "execution_count": 104,
   "metadata": {},
   "outputs": [],
   "source": [
    "events_attend_recent = datadf.events_attend_recent.fillna('nan')"
   ]
  },
  {
   "cell_type": "code",
   "execution_count": 106,
   "metadata": {},
   "outputs": [
    {
     "data": {
      "text/plain": [
       "(726,)"
      ]
     },
     "execution_count": 106,
     "metadata": {},
     "output_type": "execute_result"
    }
   ],
   "source": [
    "events_attend_recent.shape"
   ]
  },
  {
   "cell_type": "code",
   "execution_count": 105,
   "metadata": {},
   "outputs": [
    {
     "data": {
      "text/plain": [
       "0"
      ]
     },
     "execution_count": 105,
     "metadata": {},
     "output_type": "execute_result"
    }
   ],
   "source": [
    "events_attend_recent.isna().sum()"
   ]
  },
  {
   "cell_type": "code",
   "execution_count": 98,
   "metadata": {},
   "outputs": [],
   "source": [
    "events_attend_recent = events_attend_recent.astype('str')"
   ]
  },
  {
   "cell_type": "code",
   "execution_count": 99,
   "metadata": {},
   "outputs": [],
   "source": [
    "events_attend_recent = events_attend_recent.apply(nlp.basic_clean)\n",
    "events_attend_recent = events_attend_recent.apply(nlp.lemmatize)"
   ]
  },
  {
   "cell_type": "code",
   "execution_count": null,
   "metadata": {},
   "outputs": [],
   "source": []
  },
  {
   "cell_type": "code",
   "execution_count": 100,
   "metadata": {},
   "outputs": [],
   "source": [
    "events_attend_recent_matrix, events_attend_recent_vector = create_wordcount_matrix(events_attend_recent, ngram=(1,3), max_df=.3, stop_words=stopWords)"
   ]
  },
  {
   "cell_type": "code",
   "execution_count": 73,
   "metadata": {},
   "outputs": [
    {
     "data": {
      "text/plain": [
       "(<726x641 sparse matrix of type '<class 'numpy.int64'>'\n",
       " \twith 3538 stored elements in Compressed Sparse Row format>,\n",
       " CountVectorizer(analyzer='word', binary=False, decode_error='strict',\n",
       "                 dtype=<class 'numpy.int64'>, encoding='utf-8', input='content',\n",
       "                 lowercase=True, max_df=0.3, max_features=None, min_df=2,\n",
       "                 ngram_range=(1, 3), preprocessor=None, stop_words='english',\n",
       "                 strip_accents=None, token_pattern='(?u)\\\\b\\\\w\\\\w+\\\\b',\n",
       "                 tokenizer=None, vocabulary=None))"
      ]
     },
     "execution_count": 73,
     "metadata": {},
     "output_type": "execute_result"
    }
   ],
   "source": [
    "# events_attend_recent_matrix, events_attend_recent_vector = nlp.create_wordcount_matrix(datadf.events_attend_recent.dropna(), ngram=(1,3), max_df=.3)\n",
    "# events_attend_recent_matrix, events_attend_recent_vector"
   ]
  },
  {
   "cell_type": "code",
   "execution_count": 101,
   "metadata": {},
   "outputs": [],
   "source": [
    "lda16 = LatentDirichletAllocation(n_components= 7, random_state = 42)"
   ]
  },
  {
   "cell_type": "code",
   "execution_count": 102,
   "metadata": {},
   "outputs": [
    {
     "data": {
      "text/plain": [
       "LatentDirichletAllocation(batch_size=128, doc_topic_prior=None,\n",
       "                          evaluate_every=-1, learning_decay=0.7,\n",
       "                          learning_method='batch', learning_offset=10.0,\n",
       "                          max_doc_update_iter=100, max_iter=10,\n",
       "                          mean_change_tol=0.001, n_components=7, n_jobs=None,\n",
       "                          perp_tol=0.1, random_state=42, topic_word_prior=None,\n",
       "                          total_samples=1000000.0, verbose=0)"
      ]
     },
     "execution_count": 102,
     "metadata": {},
     "output_type": "execute_result"
    }
   ],
   "source": [
    "lda16.fit(events_attend_recent_matrix)"
   ]
  },
  {
   "cell_type": "code",
   "execution_count": 103,
   "metadata": {},
   "outputs": [
    {
     "data": {
      "text/html": [
       "\n",
       "<link rel=\"stylesheet\" type=\"text/css\" href=\"https://cdn.rawgit.com/bmabey/pyLDAvis/files/ldavis.v1.0.0.css\">\n",
       "\n",
       "\n",
       "<div id=\"ldavis_el319141122863622649254591012\"></div>\n",
       "<script type=\"text/javascript\">\n",
       "\n",
       "var ldavis_el319141122863622649254591012_data = {\"mdsDat\": {\"x\": [0.14624177205768593, -0.030670992135033617, -0.01617285232092061, 0.013718078054230708, 0.12590216004971727, -0.06253403415226366, -0.1764841315534157], \"y\": [-0.11938277449303357, -0.14214246615027398, -0.025204737725354868, 0.03838065628456979, 0.16565496743995256, 0.05180232372488465, 0.030892030919255582], \"topics\": [1, 2, 3, 4, 5, 6, 7], \"cluster\": [1, 1, 1, 1, 1, 1, 1], \"Freq\": [24.4137225651007, 19.566921000024536, 17.696422852267997, 11.507297910250637, 10.872132274079984, 8.694740722595782, 7.248762675680358]}, \"tinfo\": {\"Category\": [\"Default\", \"Default\", \"Default\", \"Default\", \"Default\", \"Default\", \"Default\", \"Default\", \"Default\", \"Default\", \"Default\", \"Default\", \"Default\", \"Default\", \"Default\", \"Default\", \"Default\", \"Default\", \"Default\", \"Default\", \"Default\", \"Default\", \"Default\", \"Default\", \"Default\", \"Default\", \"Default\", \"Default\", \"Default\", \"Default\", \"Topic1\", \"Topic1\", \"Topic1\", \"Topic1\", \"Topic1\", \"Topic1\", \"Topic1\", \"Topic1\", \"Topic1\", \"Topic1\", \"Topic1\", \"Topic1\", \"Topic1\", \"Topic1\", \"Topic1\", \"Topic1\", \"Topic1\", \"Topic1\", \"Topic1\", \"Topic1\", \"Topic1\", \"Topic1\", \"Topic1\", \"Topic1\", \"Topic1\", \"Topic1\", \"Topic1\", \"Topic1\", \"Topic1\", \"Topic1\", \"Topic1\", \"Topic1\", \"Topic1\", \"Topic1\", \"Topic1\", \"Topic1\", \"Topic1\", \"Topic1\", \"Topic1\", \"Topic1\", \"Topic1\", \"Topic1\", \"Topic1\", \"Topic1\", \"Topic1\", \"Topic1\", \"Topic1\", \"Topic1\", \"Topic1\", \"Topic1\", \"Topic1\", \"Topic1\", \"Topic2\", \"Topic2\", \"Topic2\", \"Topic2\", \"Topic2\", \"Topic2\", \"Topic2\", \"Topic2\", \"Topic2\", \"Topic2\", \"Topic2\", \"Topic2\", \"Topic2\", \"Topic2\", \"Topic2\", \"Topic2\", \"Topic2\", \"Topic2\", \"Topic2\", \"Topic2\", \"Topic2\", \"Topic2\", \"Topic2\", \"Topic2\", \"Topic2\", \"Topic2\", \"Topic2\", \"Topic2\", \"Topic2\", \"Topic2\", \"Topic2\", \"Topic2\", \"Topic2\", \"Topic2\", \"Topic2\", \"Topic2\", \"Topic2\", \"Topic2\", \"Topic2\", \"Topic2\", \"Topic2\", \"Topic2\", \"Topic2\", \"Topic2\", \"Topic2\", \"Topic2\", \"Topic2\", \"Topic2\", \"Topic2\", \"Topic2\", \"Topic3\", \"Topic3\", \"Topic3\", \"Topic3\", \"Topic3\", \"Topic3\", \"Topic3\", \"Topic3\", \"Topic3\", \"Topic3\", \"Topic3\", \"Topic3\", \"Topic3\", \"Topic3\", \"Topic3\", \"Topic3\", \"Topic3\", \"Topic3\", \"Topic3\", \"Topic3\", \"Topic3\", \"Topic3\", \"Topic3\", \"Topic3\", \"Topic3\", \"Topic3\", \"Topic3\", \"Topic3\", \"Topic3\", \"Topic3\", \"Topic3\", \"Topic3\", \"Topic3\", \"Topic3\", \"Topic3\", \"Topic3\", \"Topic3\", \"Topic3\", \"Topic3\", \"Topic3\", \"Topic3\", \"Topic3\", \"Topic3\", \"Topic3\", \"Topic3\", \"Topic3\", \"Topic3\", \"Topic3\", \"Topic3\", \"Topic3\", \"Topic3\", \"Topic3\", \"Topic3\", \"Topic3\", \"Topic4\", \"Topic4\", \"Topic4\", \"Topic4\", \"Topic4\", \"Topic4\", \"Topic4\", \"Topic4\", \"Topic4\", \"Topic4\", \"Topic4\", \"Topic4\", \"Topic4\", \"Topic4\", \"Topic4\", \"Topic4\", \"Topic4\", \"Topic4\", \"Topic4\", \"Topic4\", \"Topic4\", \"Topic4\", \"Topic4\", \"Topic4\", \"Topic4\", \"Topic4\", \"Topic4\", \"Topic4\", \"Topic4\", \"Topic4\", \"Topic4\", \"Topic4\", \"Topic4\", \"Topic4\", \"Topic4\", \"Topic4\", \"Topic4\", \"Topic4\", \"Topic4\", \"Topic4\", \"Topic4\", \"Topic4\", \"Topic4\", \"Topic4\", \"Topic4\", \"Topic4\", \"Topic4\", \"Topic4\", \"Topic4\", \"Topic4\", \"Topic4\", \"Topic4\", \"Topic4\", \"Topic4\", \"Topic4\", \"Topic4\", \"Topic5\", \"Topic5\", \"Topic5\", \"Topic5\", \"Topic5\", \"Topic5\", \"Topic5\", \"Topic5\", \"Topic5\", \"Topic5\", \"Topic5\", \"Topic5\", \"Topic5\", \"Topic5\", \"Topic5\", \"Topic5\", \"Topic5\", \"Topic5\", \"Topic5\", \"Topic5\", \"Topic5\", \"Topic5\", \"Topic5\", \"Topic5\", \"Topic5\", \"Topic5\", \"Topic5\", \"Topic5\", \"Topic5\", \"Topic5\", \"Topic5\", \"Topic5\", \"Topic5\", \"Topic5\", \"Topic5\", \"Topic5\", \"Topic5\", \"Topic5\", \"Topic5\", \"Topic5\", \"Topic5\", \"Topic5\", \"Topic5\", \"Topic5\", \"Topic5\", \"Topic5\", \"Topic5\", \"Topic5\", \"Topic5\", \"Topic5\", \"Topic5\", \"Topic5\", \"Topic6\", \"Topic6\", \"Topic6\", \"Topic6\", \"Topic6\", \"Topic6\", \"Topic6\", \"Topic6\", \"Topic6\", \"Topic6\", \"Topic6\", \"Topic6\", \"Topic6\", \"Topic6\", \"Topic6\", \"Topic6\", \"Topic6\", \"Topic6\", \"Topic6\", \"Topic6\", \"Topic6\", \"Topic6\", \"Topic6\", \"Topic6\", \"Topic6\", \"Topic6\", \"Topic6\", \"Topic6\", \"Topic6\", \"Topic6\", \"Topic6\", \"Topic6\", \"Topic6\", \"Topic6\", \"Topic6\", \"Topic6\", \"Topic6\", \"Topic6\", \"Topic6\", \"Topic6\", \"Topic6\", \"Topic6\", \"Topic6\", \"Topic6\", \"Topic6\", \"Topic6\", \"Topic6\", \"Topic6\", \"Topic7\", \"Topic7\", \"Topic7\", \"Topic7\", \"Topic7\", \"Topic7\", \"Topic7\", \"Topic7\", \"Topic7\", \"Topic7\", \"Topic7\", \"Topic7\", \"Topic7\", \"Topic7\", \"Topic7\", \"Topic7\", \"Topic7\", \"Topic7\", \"Topic7\", \"Topic7\", \"Topic7\", \"Topic7\", \"Topic7\", \"Topic7\", \"Topic7\", \"Topic7\", \"Topic7\", \"Topic7\", \"Topic7\", \"Topic7\", \"Topic7\", \"Topic7\", \"Topic7\", \"Topic7\", \"Topic7\", \"Topic7\", \"Topic7\", \"Topic7\", \"Topic7\", \"Topic7\", \"Topic7\", \"Topic7\"], \"Freq\": [129.0, 44.0, 60.0, 14.0, 68.0, 18.0, 25.0, 19.0, 32.0, 20.0, 161.0, 20.0, 64.0, 11.0, 131.0, 25.0, 22.0, 22.0, 51.0, 16.0, 20.0, 8.0, 9.0, 16.0, 15.0, 14.0, 18.0, 10.0, 46.0, 14.0, 24.42206182465956, 20.083450997823125, 15.744409668337166, 14.87658330169396, 11.323504236675294, 7.066066722960698, 5.3300084476544045, 4.462226511647966, 9.49026852220557, 5.060842655006863, 27.58111320993226, 3.5951670618181297, 3.5951670618181297, 3.595166647400973, 3.595166647400973, 3.595136156938604, 3.595136156938604, 3.595001105085373, 2.727414076833772, 2.7274136713992383, 2.7270645871797985, 2.7270221394131253, 2.726755694280834, 2.726317149332679, 5.3304143716883186, 15.804139799118644, 4.462867340304066, 4.462905088846582, 1.8596005113674734, 1.8596005113674734, 1.8596005113674734, 4.256422134930776, 4.256422134869004, 61.08753863665175, 6.796297601641201, 8.636201602461364, 59.36324696361543, 5.211923406987948, 19.21715137211955, 14.25124534790582, 9.095857519172236, 10.76988900581001, 17.440617855126366, 6.64172064322003, 5.43166387704664, 8.765841058808324, 5.3313059898476025, 6.2166233312912516, 10.520931169193966, 7.859299956467942, 5.112210315987286, 7.082041648863864, 18.58749463522666, 18.292345824194403, 4.521443511011025, 4.521443511011025, 4.52116752451929, 4.521102737757141, 8.917850787880766, 3.6423117101578075, 3.642288166317191, 3.642288166317191, 3.642264441843932, 3.6421824630803377, 3.64160053469897, 12.270062245197957, 6.279951114508214, 2.763133055250108, 2.763133055250108, 2.7630796943117444, 2.7630796943117444, 2.763036066095873, 2.7630086770221194, 2.762954770489967, 2.7629547704899675, 2.762941711476566, 2.762801717466805, 2.762602610376417, 2.762580094383248, 2.7593310517215115, 19.1947222344721, 44.93694267182996, 4.521541236639722, 4.07271957698472, 4.07271957698472, 8.180870559631321, 12.461172445888819, 6.532893429794223, 26.69826573350862, 22.7848179236748, 25.289105479545775, 13.028294841200259, 5.830864451047193, 9.920766784189349, 3.6423436051699394, 7.911287534968512, 8.081080921683283, 6.014959175432397, 5.965692115889024, 4.311654714808113, 4.612349241885484, 4.656989556910963, 4.453761695366387, 4.453664366123538, 3.587806494323365, 6.964773426770607, 2.7217918115142683, 2.7217914705536703, 2.7217907853589285, 2.721777936668372, 2.721777936668372, 2.721651711376546, 2.7216191740613143, 2.7216191740613143, 2.7215667816195444, 2.721562916103577, 2.721289310414249, 2.721092406496328, 2.719852316676985, 6.063150794266544, 12.103628368744134, 2.6790010240437456, 5.32009498006128, 4.453740852408711, 4.97224421696236, 1.8557670754876472, 1.8557670754876472, 1.8557670421527077, 1.8557668496031348, 1.855766814853326, 1.8557664677901924, 1.855728177185919, 13.452676393223497, 5.914921201617007, 19.626912541960536, 4.453698950017798, 42.49168718089931, 3.588146204108178, 17.83654233298009, 6.679710860608804, 19.701533230434997, 27.325580854928937, 23.339328183889748, 8.026106425178165, 12.324587182208928, 9.50675507857004, 3.4157029790926385, 3.096916245381454, 3.3393312691912844, 3.5880897908851956, 4.906543594482845, 3.913548385135905, 3.724666313973286, 3.8888582619262624, 3.805566715042227, 3.4347363000060307, 4.270534300018035, 4.270528170592097, 4.270528170592097, 3.440179313988241, 3.4397399047334853, 2.6097979401427263, 2.6097979401427263, 2.609742929626391, 2.6097183777151685, 2.6096498952978804, 4.2707743916154906, 1.7794360007813825, 1.7794360007813825, 1.7794358794592284, 1.7794358794592284, 1.7794358794592284, 1.7794358794592284, 1.7794358794592284, 1.7794358601757505, 1.779435818468284, 1.779435818468284, 1.7794358158527992, 1.779435805742734, 1.7794355453186967, 1.7793553399919777, 1.7793383768480495, 1.7792538725405893, 1.779242004772055, 1.7790105412269812, 1.7790023793394514, 7.5183929390835145, 3.4388834969901416, 9.753360826533617, 4.270119494176285, 4.24434777509176, 9.125303578289463, 2.609682782975646, 2.609682782975646, 14.672461217419102, 20.22412502103546, 3.441185912636631, 6.412028872337159, 19.821832304784483, 2.610059341657062, 7.234740807777811, 4.031505822026893, 2.6114672173113727, 2.412951204457412, 8.902650846813545, 4.212925213036386, 5.121875135142173, 3.440666559612917, 3.659193120938635, 2.709803306175467, 2.6111978145863857, 2.6100910669151935, 8.416377755487316, 5.9594016652589685, 5.959401665258788, 3.456614141436732, 2.6223726605804156, 2.6223471251474497, 2.622200255472211, 2.622200255472211, 5.125296995793311, 6.793872869460813, 4.291163903468584, 1.787981920436558, 1.787981920436558, 1.7879818658392366, 1.7879818658392366, 1.7879816632444594, 1.7879208194668923, 1.7879206093787205, 1.7877922872908714, 1.7877922872908714, 1.787782268499755, 1.7877698397194441, 1.7877328132971184, 1.7877328132971184, 1.7876036444441343, 1.7872396896841205, 3.4574596721791258, 5.08271805361472, 3.2736563761954605, 2.6223541651619096, 8.644811153283506, 5.544842644848259, 4.056113900598578, 9.950668671907868, 7.19033298118402, 2.6229860712238815, 3.190623992251635, 4.760218715847478, 27.43452980475557, 2.513454054248874, 3.3321878639036036, 6.429396014798712, 6.9218904578820935, 3.357133821594052, 2.9122127080905034, 4.71489130770334, 7.749233618811092, 3.9860519078640526, 6.21368371454476, 4.8834470343330745, 3.2281584386596505, 3.498849118484099, 7.3152401849884265, 2.5143351277648627, 8.77210650969844, 1.7145438851560977, 1.7145438851560977, 1.7145438851560977, 1.7145436873637423, 1.714543433646834, 1.7144978685031738, 1.7144994524103292, 1.7143686037886094, 1.7143393506093934, 1.7143393506093934, 1.7140728772297857, 1.7137279937667291, 1.713572893996329, 1.7135336714728873, 12.68329394154517, 2.514339909509647, 1.7145913510967128, 1.7145913510967128, 1.7146522044986594, 1.7147823218156275, 1.714480641039733, 1.7151204320101716, 1.7100680005484439, 2.514925427885916, 1.6433988259810877, 4.116266550898705, 4.118146051609175, 15.311341243706321, 14.459364097704078, 10.341965317789334, 10.676183848609327, 6.416371592019156, 4.08258670673435, 3.581897048295587, 3.551762169755137, 5.5653114422596905, 2.769904506895951, 1.9022590986042072, 1.9786175173859293, 1.857373654521473, 1.9583143747170761, 1.7150319402504723, 1.7148126045462828, 1.7147945948781145, 1.7146301624071172, 14.147826451480508, 4.010301061139012, 3.2305980096005706, 2.450851108184704, 2.450737558088693, 2.450737558088693, 2.450737558088693, 2.450730265891728, 2.4504874840057895, 1.6710499124230531, 1.6710498984494484, 1.6710498984494484, 1.6710497839657346, 1.6710482164606715, 1.671002889437284, 1.671002889437284, 1.670979598494868, 1.6709710129838309, 1.6709618356703004, 1.6709618356703004, 1.6709299178063448, 3.2301387153682803, 2.4185353725598704, 2.335066366269965, 1.6713243656022974, 1.6713817640738182, 1.6710037488406975, 4.7340530002846455, 2.450920985059121, 0.8913935050333398, 2.4501693693884676, 12.947400409115039, 26.52723763801251, 2.4511036817271856, 2.7874065041248146, 4.971997886490601, 2.590667614671344, 3.470975705248026, 2.988061112901891, 1.8905614367570127, 1.6722046565352742, 1.671258205306874], \"Term\": [\"conference\", \"uxpa\", \"design\", \"qrca\", \"meetups\", \"local meetups\", \"user\", \"service design\", \"london\", \"service\", \"research\", \"user research\", \"local\", \"boston\", \"ux\", \"day\", \"attended\", \"strive\", \"workshop\", \"research london\", \"year\", \"uxpa boston\", \"specifically research\", \"uxr\", \"user research london\", \"specifically\", \"chi\", \"toronto\", \"event\", \"design research\", \"user\", \"user research\", \"research london\", \"user research london\", \"focused\", \"ux insight\", \"research focused\", \"london ux\", \"insight\", \"focused research\", \"london\", \"past\", \"past year\", \"bay\", \"bay area\", \"ux strat\", \"strat\", \"good\", \"research method\", \"ha\", \"mlux\", \"singapore\", \"conference year\", \"healthcare\", \"aaa\", \"year\", \"camp\", \"ux london\", \"ux insight user\", \"insight user\", \"insight user research\", \"ux brighton\", \"brighton\", \"ux\", \"ux australia\", \"2019\", \"research\", \"just\", \"epic\", \"meetup\", \"wa\", \"talk\", \"local\", \"australia\", \"specific\", \"ux research\", \"nyc\", \"week\", \"meetups\", \"event\", \"meet\", \"conference\", \"service design\", \"service\", \"design day\", \"service design day\", \"ia day\", \"research design\", \"world\", \"world usability\", \"world ia day\", \"world ia\", \"austin\", \"steve\", \"ux research design\", \"design research\", \"nux\", \"usability day\", \"world usability day\", \"research australia\", \"design research australia\", \"research thing\", \"norman group\", \"steve portigal\", \"portigal\", \"mentoring\", \"design workshop\", \"service design conference\", \"think\", \"meetups ux research\", \"day\", \"design\", \"dinner\", \"meet ups\", \"ups\", \"ia\", \"meetup\", \"group\", \"ux\", \"conference\", \"research\", \"workshop\", \"australia\", \"event\", \"usability\", \"uxpa\", \"local\", \"ux research\", \"meetups\", \"meet\", \"summit\", \"london\", \"workshop ux\", \"online course\", \"ux research conference\", \"research conference\", \"workshop ux research\", \"online webinars\", \"conference workshop\", \"strive ux\", \"strive ux research\", \"jtbd\", \"design thinking\", \"thinking\", \"conference research\", \"bad\", \"ux research meetups\", \"strive conference toronto\", \"iiex\", \"research meetups\", \"online\", \"ny\", \"uxpa event\", \"company\", \"strive conference\", \"strategy\", \"ux strategy\", \"local research meetups\", \"local uxpa event\", \"attended wa\", \"qual360\", \"event research\", \"strive\", \"course\", \"event\", \"ux conference\", \"conference\", \"local event\", \"workshop\", \"webinars\", \"meetups\", \"ux\", \"research\", \"ux research\", \"local\", \"uxpa\", \"nielsen\", \"conference toronto\", \"norman\", \"topic\", \"epic\", \"wa\", \"local meetups\", \"talk\", \"design\", \"day\", \"ux meetups\", \"radical\", \"radical research\", \"fluxible\", \"seattle\", \"radical research summit\", \"research summit\", \"uxr toronto\", \"conference ve\", \"collective\", \"prague\", \"summit vancouver\", \"research summit vancouver\", \"research tomer\", \"sharon\", \"tomer sharon\", \"tomer\", \"research tomer sharon\", \"local ux meetups\", \"research tuesday\", \"tuesday\", \"epic year\", \"strive toronto\", \"generally\", \"mind product\", \"uxr collective\", \"health\", \"conference ve attended\", \"chi conference\", \"couple meetups\", \"toronto\", \"hosted\", \"uxr\", \"product\", \"focus\", \"chi\", \"applied\", \"society applied\", \"meetups\", \"conference\", \"anthropology\", \"strive\", \"research\", \"couple\", \"epic\", \"group\", \"big\", \"uxr conference\", \"ux\", \"year\", \"local\", \"summit\", \"design\", \"event\", \"society\", \"management\", \"specifically research\", \"nerd\", \"people nerd\", \"research event\", \"masterclass\", \"time\", \"research ops workshop\", \"ops workshop\", \"research ops\", \"people\", \"epic 2018\", \"2018 research\", \"2018 research ops\", \"community practice\", \"practice\", \"forum\", \"mixed method\", \"storytelling\", \"attended specifically\", \"attended specifically research\", \"learn\", \"chi uxpa\", \"nerd dscout\", \"people nerd dscout\", \"haven attended\", \"gov\", \"great\", \"ia summit\", \"data\", \"jan\", \"specifically\", \"ops\", \"dscout\", \"attended\", \"2018\", \"designops\", \"ve attended\", \"ve\", \"research\", \"specific research\", \"haven\", \"summit\", \"talk\", \"international\", \"community\", \"ia\", \"workshop\", \"session\", \"event\", \"epic\", \"various\", \"uxpa\", \"uxpa boston\", \"know\", \"boston\", \"called research\", \"called research rewind\", \"called\", \"free\", \"small\", \"meetups workshop\", \"boston area\", \"stuff\", \"ive\", \"ive attended\", \"person\", \"experience fighter\", \"agile\", \"attended local meetups\", \"local meetups\", \"uk\", \"research rewind\", \"rewind\", \"ethnography\", \"nngroup\", \"attended conference\", \"philadelphia\", \"interaction\", \"canux\", \"local conference\", \"lot\", \"attend\", \"local\", \"meetups\", \"uxpa\", \"conference\", \"workshop\", \"attended\", \"summit\", \"meetup\", \"research\", \"design\", \"spain\", \"ia\", \"ve\", \"ux\", \"nyc\", \"ixda\", \"design conference\", \"researcher\", \"qrca\", \"quirk\", \"annual\", \"worldwide\", \"annual conference\", \"qrca annual\", \"qrca annual conference\", \"uxpa conference\", \"qrca conference\", \"worldwide conference\", \"uxpa international boston\", \"international boston\", \"uxpa 2019\", \"sadly\", \"chapter meeting\", \"chapter\", \"usability testing\", \"day conference\", \"convey ux\", \"convey\", \"honolulu\", \"training\", \"meeting\", \"testing\", \"education\", \"hfes\", \"na\", \"nng\", \"epic conference\", \"business\", \"usability\", \"uxpa\", \"conference\", \"international\", \"webinars\", \"ux\", \"boston\", \"local\", \"epic\", \"2017\", \"2019\", \"uxpa international\"], \"Total\": [129.0, 44.0, 60.0, 14.0, 68.0, 18.0, 25.0, 19.0, 32.0, 20.0, 161.0, 20.0, 64.0, 11.0, 131.0, 25.0, 22.0, 22.0, 51.0, 16.0, 20.0, 8.0, 9.0, 16.0, 15.0, 14.0, 18.0, 10.0, 46.0, 14.0, 25.135595518196368, 20.79653499186068, 16.45746608310058, 15.589652196927664, 12.112046783732742, 7.7793233474343095, 6.043709981492837, 5.175868286770668, 11.248352187378142, 6.0226679421521725, 32.99769002943052, 4.308077934666363, 4.308077934666363, 4.308077946799499, 4.308077946799499, 4.308077599372228, 4.308077599372228, 4.308076690371118, 3.4402634441337354, 3.4402634224408244, 3.4402543156639798, 3.4402684994231603, 3.4402258149592733, 3.440203070091812, 6.878084663255453, 20.612046346881336, 6.041904806550984, 6.055068981020932, 2.5724497442605254, 2.5724497442605254, 2.5724497442605254, 6.041435568640166, 6.0414355686400345, 131.06381989765248, 10.42040522315481, 14.435747263946537, 161.72939283809498, 7.790455040824058, 40.79531744385869, 31.896003168868713, 18.102581099006038, 24.012874238661038, 64.02399704594171, 13.059963403075407, 9.350929688969206, 24.282028171238117, 9.340359756823533, 12.877368335685793, 68.31685641792514, 46.55640600753916, 11.17359338065915, 129.90558288240686, 19.299562067161602, 20.16356029864198, 5.232712151620738, 5.232712151620738, 5.232712209869579, 5.232710811314455, 10.463009334860134, 4.353537567450776, 4.3535372756544595, 4.3535372756544595, 4.353536974950609, 4.353530397785549, 4.353527229072548, 14.878820903240323, 7.79120384496932, 3.474358763915624, 3.474358763915624, 3.474352738331881, 3.474352738331881, 3.474354719907029, 3.4743571550222367, 3.4743488722009643, 3.4743488722009648, 3.474356268074259, 3.474353942767244, 3.4743297264311446, 3.474338131597379, 3.474301952448115, 25.27452635915861, 60.03544318886874, 6.100526416339725, 5.961858046614447, 5.961858046614447, 16.131829929213048, 31.896003168868713, 12.75737219442592, 131.06381989765248, 129.90558288240686, 161.72939283809498, 51.227268391736175, 13.059963403075407, 46.55640600753916, 6.69303272545495, 44.462589102952066, 64.02399704594171, 24.282028171238117, 68.31685641792514, 11.17359338065915, 19.982801890695292, 32.99769002943052, 5.166946285617281, 5.166935459864084, 4.300921382576355, 8.536427835204863, 3.4348966038348534, 3.434896585676184, 3.4348965493064973, 3.434896631297936, 3.434896631297936, 3.43489688075366, 3.4348979452229895, 3.4348979452229895, 3.4348992870003503, 3.4348978839438353, 3.4348871649670873, 3.434867830031313, 3.434703625687981, 7.728908029511424, 15.456182738783294, 3.430637358064792, 6.912143909005237, 5.9467639065438265, 6.849076089552256, 2.568871847055236, 2.568871847055236, 2.568871845267761, 2.568871834955069, 2.568871833064125, 2.568871814147709, 2.5688719136864657, 22.09694982123823, 10.20634572799467, 46.55640600753916, 7.607570298529399, 129.90558288240686, 6.0031207694006685, 51.227268391736175, 14.379968916009204, 68.31685641792514, 131.06381989765248, 161.72939283809498, 24.282028171238117, 64.02399704594171, 44.462589102952066, 6.061893191141421, 5.1111454613444325, 6.942230559124397, 9.469401899401783, 40.79531744385869, 18.102581099006038, 18.868678799379378, 24.012874238661038, 60.03544318886874, 25.27452635915861, 4.9888449010015234, 4.988845386675499, 4.988845386675499, 4.158433638022977, 4.158405934616048, 3.3280348707713054, 3.3280348707713054, 3.3280386598657596, 3.3280335799899765, 3.3280414037225694, 5.8548533661309285, 2.497629447218835, 2.497629447218835, 2.497629446385283, 2.497629446385283, 2.497629446385283, 2.497629446385283, 2.497629446385283, 2.497629446164703, 2.497629445804766, 2.497629445804766, 2.4976294457816026, 2.497629445490029, 2.4976294441006175, 2.4976330666804856, 2.497633631529845, 2.497618380405419, 2.4976303766983996, 2.497603563488923, 2.497627244727308, 10.911698163027275, 4.938231703186871, 16.044936628091847, 6.720914958702009, 6.7238649202787455, 18.588135548403137, 4.128162952174858, 4.128162952174858, 68.31685641792514, 129.90558288240686, 7.492486223554955, 22.09694982123823, 161.72939283809498, 5.06184864699065, 40.79531744385869, 12.75737219442592, 5.898023346355663, 5.068528703115189, 131.06381989765248, 20.612046346881336, 64.02399704594171, 19.982801890695292, 60.03544318886874, 46.55640600753916, 6.621462473187857, 6.660307175236599, 9.178837260978424, 6.677559013813663, 6.677559013813652, 4.1743954233022516, 3.3399973167892822, 3.3399983417046397, 3.340004880257695, 3.340004880257695, 6.673596685832964, 9.112196833391247, 5.788614048053062, 2.5056056669239903, 2.5056056669239903, 2.5056056661676767, 2.5056056661676767, 2.505605663387048, 2.50560811310766, 2.5056081102973886, 2.5055978787623703, 2.5055978787623703, 2.5055999750093503, 2.5055918257536764, 2.5056151045359325, 2.505615104535933, 2.5056234618478954, 2.5056454083736153, 5.040384121090037, 7.60381995280123, 5.047363809744322, 4.170400783947642, 14.236683374814561, 9.275440810652608, 6.66849271779563, 22.64278205829858, 16.06621762632021, 4.219109822587764, 5.799539966913385, 10.82904335140242, 161.72939283809498, 4.212173846231093, 6.713340988886401, 19.982801890695292, 24.012874238661038, 7.30989435454053, 5.961976228401534, 16.131829929213048, 51.227268391736175, 11.994670649999643, 46.55640600753916, 40.79531744385869, 8.27701597445844, 44.462589102952066, 8.03791038089964, 3.2371981050443837, 11.973984201557474, 2.4370634503996103, 2.4370634503996103, 2.4370634503996103, 2.4370634580081845, 2.437063467807227, 2.437065192071452, 2.4370678171919153, 2.437070084632161, 2.437072210347607, 2.437072210347607, 2.4371026152962534, 2.4371440346503173, 2.4371593267352916, 2.4371067198091834, 18.868678799379378, 4.116371190567543, 3.2674652057712157, 3.2674652057712157, 3.2714504709047096, 3.3030584380222225, 3.303074553969809, 3.304826795140767, 3.303254200033361, 4.897986587271841, 3.310256974806592, 9.099183023255682, 9.148358105167352, 64.02399704594171, 68.31685641792514, 44.462589102952066, 129.90558288240686, 51.227268391736175, 22.64278205829858, 19.982801890695292, 31.896003168868713, 161.72939283809498, 60.03544318886874, 5.056052122838121, 16.131829929213048, 10.82904335140242, 131.06381989765248, 9.340359756823533, 5.894214108533043, 5.886652641069594, 7.672621002962398, 14.873681705048165, 4.735963568546079, 3.9561267953247317, 3.1762949206110154, 3.1763075434367583, 3.1763075434367583, 3.1763075434367583, 3.1763017503541713, 3.176341620119052, 2.396469100925954, 2.3964691018908697, 2.3964691018908697, 2.3964691104908438, 2.396469227394861, 2.3964744088064327, 2.3964744088064327, 2.3964770334458225, 2.396479152207488, 2.396474815365593, 2.396474815365593, 2.3964774974359324, 4.786591660519256, 4.047754956915235, 4.057173053862178, 3.1965825441531024, 3.2624573416468032, 3.2624988900982927, 9.84381262598913, 5.774358415053966, 2.416761968859846, 6.69303272545495, 44.462589102952066, 129.90558288240686, 7.30989435454053, 14.379968916009204, 131.06381989765248, 11.973984201557474, 64.02399704594171, 40.79531744385869, 10.12662187441384, 14.435747263946537, 4.85519188600159], \"loglift\": [30.0, 29.0, 28.0, 27.0, 26.0, 25.0, 24.0, 23.0, 22.0, 21.0, 20.0, 19.0, 18.0, 17.0, 16.0, 15.0, 14.0, 13.0, 12.0, 11.0, 10.0, 9.0, 8.0, 7.0, 6.0, 5.0, 4.0, 3.0, 2.0, 1.0, 1.3812, 1.3751, 1.3657, 1.3632, 1.3427, 1.3139, 1.2844, 1.2617, 1.2401, 1.236, 1.2307, 1.2291, 1.2291, 1.2291, 1.2291, 1.2291, 1.2291, 1.2291, 1.1778, 1.1778, 1.1777, 1.1777, 1.1776, 1.1774, 1.1551, 1.1444, 1.1071, 1.1049, 1.0855, 1.0855, 1.0855, 1.0598, 1.0598, 0.6466, 0.9826, 0.8963, 0.4078, 1.0081, 0.6573, 0.6044, 0.7218, 0.6082, 0.1096, 0.7338, 0.8668, 0.3912, 0.8493, 0.6818, -0.4608, -0.3689, 0.6281, -1.4992, 1.5937, 1.5339, 1.4852, 1.4852, 1.4852, 1.4852, 1.4715, 1.453, 1.453, 1.453, 1.4529, 1.4529, 1.4528, 1.4386, 1.4157, 1.4023, 1.4023, 1.4023, 1.4023, 1.4023, 1.4022, 1.4022, 1.4022, 1.4022, 1.4022, 1.4021, 1.4021, 1.4009, 1.3562, 1.3417, 1.3318, 1.2503, 1.2503, 0.9523, 0.6915, 0.9621, 0.0402, -0.1094, -0.2242, 0.2622, 0.8249, 0.0853, 1.0229, -0.095, -0.4384, 0.2358, -0.8068, 0.6791, 0.1652, -0.3267, 1.5833, 1.5833, 1.5505, 1.5283, 1.4991, 1.4991, 1.4991, 1.4991, 1.4991, 1.4991, 1.499, 1.499, 1.499, 1.499, 1.4989, 1.4989, 1.4985, 1.4891, 1.4873, 1.4845, 1.47, 1.4427, 1.4116, 1.4066, 1.4066, 1.4066, 1.4066, 1.4066, 1.4066, 1.4066, 1.2355, 1.1863, 0.868, 1.1964, 0.6143, 1.2172, 0.6768, 0.965, 0.4883, 0.1639, -0.204, 0.6248, 0.0841, 0.1892, 1.1582, 1.2308, 1.0, 0.7614, -0.3862, 0.2002, 0.1093, -0.0887, -1.0267, -0.264, 2.0067, 2.0067, 2.0067, 1.9726, 1.9725, 1.9191, 1.9191, 1.9191, 1.919, 1.919, 1.8467, 1.8231, 1.8231, 1.8231, 1.8231, 1.8231, 1.8231, 1.8231, 1.8231, 1.8231, 1.8231, 1.8231, 1.8231, 1.8231, 1.8231, 1.8231, 1.823, 1.823, 1.8229, 1.8229, 1.7897, 1.8003, 1.6644, 1.7086, 1.7021, 1.4507, 1.7036, 1.7036, 0.624, 0.3023, 1.3841, 0.9249, 0.063, 1.4998, 0.4325, 1.0102, 1.3475, 1.42, -0.5271, 0.5745, -0.3635, 0.403, -0.6355, -0.6816, 1.2317, 1.2254, 2.1322, 2.1052, 2.1052, 2.0303, 1.9771, 1.9771, 1.977, 1.977, 1.955, 1.9254, 1.9196, 1.8815, 1.8815, 1.8815, 1.8815, 1.8815, 1.8815, 1.8815, 1.8814, 1.8814, 1.8814, 1.8814, 1.8814, 1.8814, 1.8813, 1.8811, 1.842, 1.8162, 1.786, 1.755, 1.7201, 1.7045, 1.7218, 1.3968, 1.415, 1.7437, 1.6214, 1.397, 0.4448, 1.7026, 1.5185, 1.085, 0.9751, 1.4408, 1.5025, 0.9889, 0.3303, 1.1173, 0.2051, 0.0963, 1.2774, -0.3232, 2.3482, 2.1898, 2.1313, 2.0908, 2.0908, 2.0908, 2.0908, 2.0908, 2.0908, 2.0908, 2.0907, 2.0907, 2.0907, 2.0905, 2.0903, 2.0902, 2.0902, 2.0452, 1.9495, 1.7976, 1.7976, 1.7964, 1.7869, 1.7867, 1.7866, 1.7841, 1.7759, 1.7422, 1.6492, 1.6443, 1.0118, 0.8896, 0.984, -0.0563, 0.365, 0.7293, 0.7235, 0.2474, -0.9269, -0.6337, 1.4649, 0.3441, 0.6794, -1.7611, 0.7475, 1.2078, 1.2091, 0.944, 2.5743, 2.458, 2.4217, 2.3651, 2.365, 2.365, 2.365, 2.365, 2.3649, 2.2638, 2.2638, 2.2638, 2.2638, 2.2638, 2.2638, 2.2638, 2.2637, 2.2637, 2.2637, 2.2637, 2.2637, 2.231, 2.1093, 2.0719, 1.9759, 1.9555, 1.9553, 1.8923, 1.7674, 1.6269, 1.6194, 1.3906, 1.0357, 1.5316, 0.9836, -0.6475, 1.0935, -0.2905, 0.0104, 0.946, 0.4688, 1.5579], \"logprob\": [30.0, 29.0, 28.0, 27.0, 26.0, 25.0, 24.0, 23.0, 22.0, 21.0, 20.0, 19.0, 18.0, 17.0, 16.0, 15.0, 14.0, 13.0, 12.0, 11.0, 10.0, 9.0, 8.0, 7.0, 6.0, 5.0, 4.0, 3.0, 2.0, 1.0, -3.5779, -3.7735, -4.0169, -4.0736, -4.3465, -4.8181, -5.1, -5.2777, -4.5231, -5.1518, -3.4562, -5.4938, -5.4938, -5.4938, -5.4938, -5.4938, -5.4938, -5.4938, -5.77, -5.77, -5.7701, -5.7702, -5.7703, -5.7704, -5.0999, -4.0131, -5.2776, -5.2776, -6.153, -6.153, -6.153, -5.3249, -5.3249, -2.6611, -4.857, -4.6174, -2.6897, -5.1224, -3.8176, -4.1165, -4.5656, -4.3966, -3.9146, -4.88, -5.0811, -4.6025, -5.0998, -4.9461, -4.42, -4.7117, -5.1417, -4.8158, -3.6296, -3.6456, -5.0432, -5.0432, -5.0433, -5.0433, -4.364, -5.2594, -5.2595, -5.2595, -5.2595, -5.2595, -5.2596, -4.0449, -4.7147, -5.5357, -5.5357, -5.5357, -5.5357, -5.5357, -5.5357, -5.5358, -5.5358, -5.5358, -5.5358, -5.5359, -5.5359, -5.5371, -3.5974, -2.7468, -5.0432, -5.1478, -5.1478, -4.4503, -4.0295, -4.6752, -3.2675, -3.426, -3.3217, -3.9849, -4.7889, -4.2574, -5.2594, -4.4838, -4.4625, -4.7578, -4.766, -5.0907, -5.0233, -5.0137, -4.9578, -4.9579, -5.174, -4.5107, -5.4503, -5.4503, -5.4503, -5.4503, -5.4503, -5.4504, -5.4504, -5.4504, -5.4504, -5.4504, -5.4505, -5.4506, -5.451, -4.6494, -3.9581, -5.4661, -4.7801, -4.9578, -4.8477, -5.8333, -5.8333, -5.8333, -5.8333, -5.8333, -5.8333, -5.8333, -3.8524, -4.6741, -3.4747, -4.9579, -2.7023, -5.174, -3.5703, -4.5525, -3.4709, -3.1438, -3.3014, -4.3689, -3.94, -4.1996, -5.2232, -5.3212, -5.2458, -5.174, -4.861, -5.0871, -5.1366, -5.0935, -5.1151, -5.2176, -4.5695, -4.5695, -4.5695, -4.7857, -4.7858, -5.0619, -5.0619, -5.062, -5.062, -5.062, -4.5694, -5.4449, -5.4449, -5.4449, -5.4449, -5.4449, -5.4449, -5.4449, -5.4449, -5.4449, -5.4449, -5.4449, -5.4449, -5.4449, -5.445, -5.445, -5.445, -5.445, -5.4452, -5.4452, -4.0039, -4.7861, -3.7436, -4.5696, -4.5756, -3.8102, -5.062, -5.062, -3.3352, -3.0143, -4.7854, -4.163, -3.0344, -5.0618, -4.0423, -4.6271, -5.0613, -5.1404, -3.8349, -4.5831, -4.3877, -4.7855, -4.724, -5.0243, -5.0614, -5.0618, -3.8343, -4.1795, -4.1795, -4.7241, -5.0004, -5.0004, -5.0004, -5.0004, -4.3302, -4.0484, -4.5079, -5.3833, -5.3833, -5.3833, -5.3833, -5.3833, -5.3834, -5.3834, -5.3834, -5.3834, -5.3835, -5.3835, -5.3835, -5.3835, -5.3836, -5.3838, -4.7239, -4.3386, -4.7785, -5.0004, -3.8075, -4.2516, -4.5642, -3.6668, -3.9917, -5.0001, -4.8042, -4.4041, -2.6526, -5.0428, -4.7608, -4.1035, -4.0297, -4.7533, -4.8955, -4.4137, -3.9168, -4.5816, -4.1377, -4.3786, -4.7925, -4.712, -3.751, -4.8189, -3.5694, -5.2018, -5.2018, -5.2018, -5.2018, -5.2018, -5.2018, -5.2018, -5.2019, -5.2019, -5.2019, -5.2021, -5.2023, -5.2024, -5.2024, -3.2007, -4.8189, -5.2018, -5.2018, -5.2017, -5.2017, -5.2018, -5.2015, -5.2044, -4.8187, -5.2442, -4.326, -4.3255, -3.0124, -3.0696, -3.4047, -3.3729, -3.8821, -4.3342, -4.4651, -4.4735, -4.0244, -4.7221, -5.0979, -5.0585, -5.1218, -5.0689, -5.2015, -5.2016, -5.2017, -5.2017, -2.9095, -4.1702, -4.3864, -4.6626, -4.6627, -4.6627, -4.6627, -4.6627, -4.6628, -5.0456, -5.0456, -5.0456, -5.0456, -5.0456, -5.0456, -5.0456, -5.0456, -5.0457, -5.0457, -5.0457, -5.0457, -4.3865, -4.6759, -4.711, -5.0454, -5.0454, -5.0456, -4.0043, -4.6626, -5.674, -4.6629, -2.9982, -2.2809, -4.6625, -4.5339, -3.9552, -4.6071, -4.3146, -4.4644, -4.9222, -5.0449, -5.0455]}, \"token.table\": {\"Topic\": [1, 2, 3, 5, 7, 1, 2, 4, 5, 7, 5, 5, 1, 3, 4, 6, 7, 1, 5, 6, 7, 7, 1, 3, 4, 6, 4, 6, 1, 2, 3, 4, 6, 1, 3, 4, 5, 6, 3, 6, 6, 5, 5, 3, 2, 1, 2, 3, 1, 1, 1, 4, 5, 6, 7, 6, 1, 3, 6, 7, 6, 6, 6, 1, 3, 4, 6, 7, 7, 1, 2, 4, 5, 4, 5, 4, 2, 5, 5, 3, 7, 1, 2, 3, 4, 6, 7, 3, 3, 4, 4, 4, 3, 1, 7, 7, 1, 3, 4, 4, 1, 2, 3, 7, 3, 5, 1, 2, 3, 7, 7, 1, 2, 3, 4, 6, 2, 6, 7, 2, 1, 2, 2, 3, 2, 2, 5, 1, 2, 4, 5, 6, 7, 1, 2, 3, 4, 5, 7, 5, 7, 3, 7, 4, 5, 6, 1, 2, 3, 4, 5, 3, 6, 4, 1, 3, 4, 1, 1, 5, 6, 4, 1, 5, 3, 5, 2, 4, 6, 1, 1, 3, 5, 6, 5, 4, 1, 3, 7, 7, 4, 7, 2, 5, 6, 7, 2, 2, 5, 3, 1, 3, 1, 1, 3, 6, 5, 6, 7, 7, 6, 6, 1, 2, 5, 6, 4, 5, 3, 1, 2, 3, 6, 5, 1, 2, 3, 4, 5, 6, 7, 1, 6, 1, 3, 5, 1, 2, 3, 6, 3, 4, 3, 1, 2, 1, 1, 3, 4, 6, 3, 4, 6, 5, 1, 2, 7, 2, 7, 1, 7, 1, 2, 4, 6, 1, 2, 3, 4, 5, 6, 2, 6, 2, 4, 5, 1, 3, 7, 5, 5, 2, 3, 2, 3, 4, 7, 3, 6, 2, 3, 2, 2, 6, 3, 1, 3, 4, 6, 1, 3, 4, 6, 3, 3, 2, 3, 4, 5, 5, 1, 1, 5, 6, 5, 5, 6, 1, 6, 2, 5, 3, 4, 3, 4, 7, 7, 7, 7, 3, 7, 4, 4, 4, 1, 2, 3, 4, 5, 6, 7, 2, 3, 7, 2, 5, 1, 1, 3, 5, 1, 4, 5, 5, 4, 6, 4, 4, 2, 4, 4, 4, 2, 3, 6, 4, 6, 7, 4, 1, 2, 2, 2, 2, 1, 2, 3, 5, 4, 1, 6, 2, 4, 5, 6, 7, 4, 6, 2, 6, 1, 5, 6, 1, 5, 1, 4, 5, 6, 5, 2, 2, 5, 1, 3, 3, 4, 5, 7, 3, 4, 3, 4, 3, 3, 6, 2, 4, 5, 6, 7, 4, 1, 2, 3, 5, 1, 7, 2, 3, 5, 4, 4, 1, 3, 4, 3, 4, 4, 7, 4, 2, 6, 2, 7, 2, 7, 2, 7, 1, 1, 1, 1, 2, 3, 4, 6, 7, 1, 2, 1, 3, 3, 4, 7, 1, 1, 1, 2, 4, 1, 2, 3, 4, 3, 2, 3, 1, 3, 2, 3, 5, 6, 7, 7, 6, 7, 2, 3, 5, 6, 7, 7, 1, 2, 3, 4, 4, 3, 4, 4, 1, 4, 5, 6, 7, 3, 4, 5, 6, 4, 5, 6, 1, 2, 3, 5, 2, 3, 5, 7, 1, 2, 3, 6, 1, 2, 3, 5, 6, 7, 3, 3, 2, 5, 2, 2, 2, 2, 7, 7, 1, 4], \"Freq\": [0.19749922775859213, 0.29624884163788817, 0.09874961387929607, 0.19749922775859213, 0.19749922775859213, 0.24896961394616413, 0.12448480697308206, 0.06224240348654103, 0.4356968244057872, 0.06224240348654103, 0.7982101997938496, 0.7982101997938496, 0.6234523115043455, 0.1385449581120768, 0.0692724790560384, 0.0692724790560384, 0.1385449581120768, 0.7269465621310716, 0.1453893124262143, 0.820627514196665, 0.7583174542194496, 0.6296619494962393, 0.13346704553906147, 0.13346704553906147, 0.40040113661718446, 0.26693409107812294, 0.7267154990622395, 0.2422384996874132, 0.2186184643198785, 0.10930923215993925, 0.10930923215993925, 0.10930923215993925, 0.437236928639757, 0.2208209215248574, 0.13249255291491446, 0.04416418430497148, 0.4416418430497148, 0.17665673721988592, 0.30274823763761166, 0.6054964752752233, 0.8206452281074473, 0.7982126808743515, 0.7982126808743515, 0.7785518819031231, 0.9187931612882144, 0.5359892508084375, 0.4594193578358036, 0.873388409601132, 0.9284883071745783, 0.9284883071745783, 0.33909665705812825, 0.5086449855871924, 0.16954832852906412, 0.7516295201750272, 0.2505431733916757, 0.8206583279674499, 0.6620942910925434, 0.16552357277313584, 0.41377678599923073, 0.41377678599923073, 0.8206597984439248, 0.8206597984439248, 0.8206597984439248, 0.6620428702655109, 0.16551071756637772, 0.4083310487614038, 0.6124965731421057, 0.8345592978796309, 0.8345592978796309, 0.2151910281471791, 0.16139327111038432, 0.48417981333115295, 0.16139327111038432, 0.8007675954810793, 0.7982146091965336, 0.901431092967882, 0.3354592375716701, 0.5031888563575052, 0.7982102000347883, 0.6726347409888587, 0.16815868524721467, 0.053885289951984126, 0.1770516669850907, 0.3233117397119048, 0.15395797129138322, 0.08467688421026077, 0.20784326124336736, 0.8733880528473539, 0.5869525770082235, 0.19565085900274115, 0.9014332121038982, 0.8007589988730783, 0.8733887489583049, 0.8720357794406921, 0.8345591562976185, 0.8345591562976185, 0.19755628224769542, 0.19755628224769542, 0.5926688467430863, 0.800760003007719, 0.09797826045193932, 0.09797826045193932, 0.5878695627116359, 0.19595652090387863, 0.19812322584502895, 0.5943696775350868, 0.03956552877746153, 0.7517450467717691, 0.1186965863323846, 0.03956552877746153, 0.8345576460190458, 0.08328413574411753, 0.7495572216970577, 0.06662730859529402, 0.06662730859529402, 0.04997048144647052, 0.5096274883063094, 0.339751658870873, 0.1698758294354365, 0.9555274311145397, 0.13441925358241513, 0.8065155214944908, 0.8634701845041707, 0.8733883940197366, 0.8634698851696635, 0.2370168215689291, 0.7110504647067872, 0.16392028027640168, 0.8196014013820084, 0.29991785020065675, 0.5998357004013135, 0.3128340927185218, 0.6256681854370436, 0.46573972677494757, 0.02451261719868145, 0.12256308599340726, 0.17158832039077015, 0.12256308599340726, 0.07353785159604435, 0.691011694128296, 0.172752923532074, 0.5195382385996147, 0.3463588257330764, 0.8007592973320846, 0.3056748096581921, 0.6113496193163842, 0.17183456984855128, 0.2147932123106891, 0.4295864246213782, 0.06443796369320673, 0.12887592738641346, 0.7785518574687889, 0.8206326632996729, 0.7214254840017779, 0.1487239871497216, 0.1487239871497216, 0.5948959485988864, 0.9081867166145451, 0.8301968576094655, 0.7982102009206125, 0.8206597958818039, 0.8007592978710214, 0.9284885779634116, 0.7981975395705238, 0.19839757764012225, 0.5951927329203668, 0.5487023419335928, 0.31354419539062445, 0.15677209769531222, 0.8720262467202401, 0.1489571290443089, 0.1489571290443089, 0.44687138713292673, 0.1489571290443089, 0.7982045309094454, 0.8007628449928991, 0.8720415448963413, 0.3065174177864426, 0.6130348355728852, 0.834558222282439, 0.6075049087032429, 0.2025016362344143, 0.49591398093732947, 0.3099462380858309, 0.12397849523433237, 0.061989247617166184, 0.9555274204779209, 0.26302569135177967, 0.6575642283794492, 0.8734378062675179, 0.8001171949522496, 0.08890191055024996, 0.7774690271257053, 0.7774690271257053, 0.30273177280449703, 0.6054635456089941, 0.4104026480405362, 0.13680088268017873, 0.27360176536035746, 0.8345611459884684, 0.8206568486186685, 0.8206568486186685, 0.1696579020691328, 0.3393158041382656, 0.1696579020691328, 0.3393158041382656, 0.2397851074287911, 0.7193553222863733, 0.8733886646814742, 0.6418110333476889, 0.12836220666953777, 0.12836220666953777, 0.9267273434162808, 0.7982120130698582, 0.2655254402158195, 0.12495314833685624, 0.18742972250528434, 0.07809571771053514, 0.03123828708421406, 0.23428715313160545, 0.046857430626321084, 0.30209135049354496, 0.6041827009870899, 0.16658002369321592, 0.6663200947728637, 0.16658002369321592, 0.05299788133723977, 0.05299788133723977, 0.21199152534895907, 0.6889724573841169, 0.7785518782045487, 0.8007592972092598, 0.7785518813300317, 0.8485442458252956, 0.1515257581830885, 0.7728171928609264, 0.21979995290658538, 0.10989997645329269, 0.21979995290658538, 0.43959990581317077, 0.30028645036615037, 0.4504296755492255, 0.30028645036615037, 0.8982043143926476, 0.4474836187125543, 0.35798689497004343, 0.08949672374251086, 0.6709317747462094, 0.16773294368655234, 0.24705052816786438, 0.49410105633572876, 0.4389264675539143, 0.3762226864747837, 0.0313518905395653, 0.1254075621582612, 0.16101443445682015, 0.08782605515826554, 0.29275351719421844, 0.21956513789566384, 0.04391302757913277, 0.2049274620359529, 0.8634828063479326, 0.8206592119515866, 0.8634693072690609, 0.8007581364456101, 0.798209420514462, 0.8720285550811062, 0.3065135142375089, 0.6130270284750178, 0.8985319317415216, 0.7982071932673881, 0.3299299306234412, 0.4948948959351619, 0.2031733105849356, 0.2031733105849356, 0.1015866552924678, 0.507933276462339, 0.30274971477609447, 0.6054994295521889, 0.43213776529749554, 0.43213776529749554, 0.863469086839116, 0.7700992195030455, 0.12834986991717426, 0.8744730750825518, 0.5353112867357476, 0.10706225734714953, 0.10706225734714953, 0.21412451469429905, 0.06469902801360898, 0.7763883361633078, 0.06469902801360898, 0.06469902801360898, 0.7741532734580006, 0.87338873971061, 0.10781158765538404, 0.10781158765538404, 0.10781158765538404, 0.6468695259323042, 0.8982022804016195, 0.9284883097895438, 0.9284883097895438, 0.7682011405140862, 0.21948604014688175, 0.898531931741523, 0.798207193267388, 0.8206466102195211, 0.3025877185062601, 0.6051754370125202, 0.8634711453428482, 0.7982102000347883, 0.1707984705107707, 0.6831938820430828, 0.2975785309424975, 0.595157061884995, 0.9412598896242592, 0.6296619494962393, 0.6296619494962393, 0.6296551943065363, 0.77855188763615, 0.8446010916481741, 0.8017887286472005, 0.8017887286472005, 0.9014328624822131, 0.3648069096448292, 0.15457919900204625, 0.14221286308188255, 0.12366335920163701, 0.16694553492220995, 0.037099007760491104, 0.006183167960081851, 0.8634701845041707, 0.8200151322232796, 0.11714501888903994, 0.9555276758632878, 0.718666943541918, 0.8273064086978188, 0.9722031276995714, 0.7763063005912473, 0.12938438343187453, 0.872026241221595, 0.1498442364853796, 0.7492211824268978, 0.8982022804016195, 0.3060476354067162, 0.6120952708134324, 0.9014328624822131, 0.8007592968712968, 0.8634696920296836, 0.8007592971385401, 0.8007592971385401, 0.8007592973246583, 0.39100067614987116, 0.39100067614987116, 0.26066711743324744, 0.3060476354067162, 0.6120952708134324, 0.8345611022821886, 0.7214302901568446, 0.04959441612438604, 0.8926994902389488, 0.9844782971696902, 0.8634759036188602, 0.9555274311145397, 0.25011107745589406, 0.25011107745589406, 0.1667407183039294, 0.3334814366078588, 0.8007592971385401, 0.8720249598259608, 0.8206597925820621, 0.15102403797488517, 0.4530721139246555, 0.15102403797488517, 0.15102403797488517, 0.15102403797488517, 0.7267154990622395, 0.2422384996874132, 0.5933483134893012, 0.3955655423262007, 0.5347061913959458, 0.32082371483756744, 0.10694123827918915, 0.2374071053346398, 0.7122213160039194, 0.21072323665687173, 0.0702410788856239, 0.6321697099706152, 0.0702410788856239, 0.8715700880774996, 0.9187945493695475, 0.8634711453428483, 0.7982094214097278, 0.928488382053025, 0.778551877662816, 0.5883164918764127, 0.27153068855834434, 0.045255114759724054, 0.045255114759724054, 0.7300254712642364, 0.1460050942528473, 0.873396051449424, 0.8007592974255653, 0.8733887281103995, 0.8733887281103995, 0.8206575644302284, 0.2502151613847595, 0.1501290968308557, 0.3002581936617114, 0.2001721291078076, 0.1000860645539038, 0.8007592968712968, 0.45808760295299666, 0.08328865508236304, 0.16657731016472607, 0.2915102927882706, 0.24647703874698215, 0.4929540774939643, 0.8634738146861672, 0.8733883940197366, 0.8982040387687396, 0.8007592971385401, 0.8007592971385401, 0.42241316215047275, 0.42241316215047275, 0.10560329053761819, 0.27493429117798274, 0.7331581098079539, 0.2089169227131271, 0.6267507681393812, 0.8007592973246583, 0.24293241636989626, 0.7287972491096888, 0.6709317747462094, 0.16773294368655234, 0.5976364025215647, 0.29881820126078235, 0.863468686987, 0.8345583838641091, 0.9548212208708452, 0.9616986679669269, 0.9621766932655579, 0.46542211304107267, 0.2060065090509666, 0.2060065090509666, 0.0686688363503222, 0.01525974141118271, 0.03814935352795677, 0.6717589047732567, 0.2878966734742529, 0.6620942910925289, 0.16552357277313223, 0.5257920522631556, 0.2628960261315778, 0.1314480130657889, 0.899821191043391, 0.7774690271257053, 0.6606035393713332, 0.1651508848428333, 0.8017888067029283, 0.37064449215409584, 0.24709632810273055, 0.32946177080364075, 0.041182721350455094, 0.9300332752429675, 0.9187952181137818, 0.873391135114258, 0.928488382053025, 0.778551877662816, 0.1799265441217602, 0.22490818015220027, 0.06747245404566009, 0.22490818015220027, 0.29238063419786037, 0.8345611429935605, 0.8708731085922516, 0.6296630979021409, 0.14467291381147115, 0.7233645690573558, 0.4119301660901122, 0.2059650830450561, 0.4119301660901122, 0.8345611459884684, 0.18697487372729976, 0.12464991581819984, 0.06232495790909992, 0.6232495790909992, 0.8007579553511075, 0.3945918267703154, 0.3945918267703154, 0.901431836167735, 0.12081648786058183, 0.24163297572116366, 0.3624494635817455, 0.12081648786058183, 0.12081648786058183, 0.18468852096164054, 0.18468852096164054, 0.46172130240410136, 0.18468852096164054, 0.1724274693691295, 0.5172824081073885, 0.1724274693691295, 0.4971666720219342, 0.11048148267154094, 0.22096296534308188, 0.1657222240073114, 0.20862353858498978, 0.4867882566983095, 0.13908235905665986, 0.20862353858498978, 0.46593370971402487, 0.15531123657134163, 0.15531123657134163, 0.15531123657134163, 0.09760426735552007, 0.2537710951243522, 0.3513753624798722, 0.15616682776883212, 0.11712512082662407, 0.019520853471104015, 0.7741516514569554, 0.873388735093418, 0.8601731788591881, 0.09557479765102089, 0.9187930978261091, 0.9187930978261091, 0.9187930362439043, 0.863468686987, 0.6296644518183675, 0.8345611463244966, 0.7762451010799735, 0.19406127526999337], \"Term\": [\"2017\", \"2017\", \"2017\", \"2017\", \"2017\", \"2018\", \"2018\", \"2018\", \"2018\", \"2018\", \"2018 research\", \"2018 research ops\", \"2019\", \"2019\", \"2019\", \"2019\", \"2019\", \"aaa\", \"aaa\", \"agile\", \"annual\", \"annual conference\", \"anthropology\", \"anthropology\", \"anthropology\", \"anthropology\", \"applied\", \"applied\", \"attend\", \"attend\", \"attend\", \"attend\", \"attend\", \"attended\", \"attended\", \"attended\", \"attended\", \"attended\", \"attended conference\", \"attended conference\", \"attended local meetups\", \"attended specifically\", \"attended specifically research\", \"attended wa\", \"austin\", \"australia\", \"australia\", \"bad\", \"bay\", \"bay area\", \"big\", \"big\", \"big\", \"boston\", \"boston\", \"boston area\", \"brighton\", \"brighton\", \"business\", \"business\", \"called\", \"called research\", \"called research rewind\", \"camp\", \"camp\", \"canux\", \"canux\", \"chapter\", \"chapter meeting\", \"chi\", \"chi\", \"chi\", \"chi\", \"chi conference\", \"chi uxpa\", \"collective\", \"community\", \"community\", \"community practice\", \"company\", \"company\", \"conference\", \"conference\", \"conference\", \"conference\", \"conference\", \"conference\", \"conference research\", \"conference toronto\", \"conference toronto\", \"conference ve\", \"conference ve attended\", \"conference workshop\", \"conference year\", \"convey\", \"convey ux\", \"couple\", \"couple\", \"couple\", \"couple meetups\", \"course\", \"course\", \"course\", \"course\", \"data\", \"data\", \"day\", \"day\", \"day\", \"day\", \"day conference\", \"design\", \"design\", \"design\", \"design\", \"design\", \"design conference\", \"design conference\", \"design conference\", \"design day\", \"design research\", \"design research\", \"design research australia\", \"design thinking\", \"design workshop\", \"designops\", \"designops\", \"dinner\", \"dinner\", \"dscout\", \"dscout\", \"education\", \"education\", \"epic\", \"epic\", \"epic\", \"epic\", \"epic\", \"epic\", \"epic 2018\", \"epic 2018\", \"epic conference\", \"epic conference\", \"epic year\", \"ethnography\", \"ethnography\", \"event\", \"event\", \"event\", \"event\", \"event\", \"event research\", \"experience fighter\", \"fluxible\", \"focus\", \"focus\", \"focus\", \"focused\", \"focused research\", \"forum\", \"free\", \"generally\", \"good\", \"gov\", \"great\", \"great\", \"group\", \"group\", \"group\", \"ha\", \"haven\", \"haven\", \"haven\", \"haven\", \"haven attended\", \"health\", \"healthcare\", \"hfes\", \"hfes\", \"honolulu\", \"hosted\", \"hosted\", \"ia\", \"ia\", \"ia\", \"ia\", \"ia day\", \"ia summit\", \"ia summit\", \"iiex\", \"insight\", \"insight\", \"insight user\", \"insight user research\", \"interaction\", \"interaction\", \"international\", \"international\", \"international\", \"international boston\", \"ive\", \"ive attended\", \"ixda\", \"ixda\", \"ixda\", \"ixda\", \"jan\", \"jan\", \"jtbd\", \"just\", \"just\", \"just\", \"know\", \"learn\", \"local\", \"local\", \"local\", \"local\", \"local\", \"local\", \"local\", \"local conference\", \"local conference\", \"local event\", \"local event\", \"local event\", \"local meetups\", \"local meetups\", \"local meetups\", \"local meetups\", \"local research meetups\", \"local ux meetups\", \"local uxpa event\", \"london\", \"london\", \"london ux\", \"lot\", \"lot\", \"lot\", \"lot\", \"management\", \"management\", \"management\", \"masterclass\", \"meet\", \"meet\", \"meet\", \"meet ups\", \"meet ups\", \"meeting\", \"meeting\", \"meetup\", \"meetup\", \"meetup\", \"meetup\", \"meetups\", \"meetups\", \"meetups\", \"meetups\", \"meetups\", \"meetups\", \"meetups ux research\", \"meetups workshop\", \"mentoring\", \"mind product\", \"mixed method\", \"mlux\", \"na\", \"na\", \"nerd\", \"nerd dscout\", \"nielsen\", \"nielsen\", \"nng\", \"nng\", \"nng\", \"nng\", \"nngroup\", \"nngroup\", \"norman\", \"norman\", \"norman group\", \"nux\", \"nux\", \"ny\", \"nyc\", \"nyc\", \"nyc\", \"nyc\", \"online\", \"online\", \"online\", \"online\", \"online course\", \"online webinars\", \"ops\", \"ops\", \"ops\", \"ops\", \"ops workshop\", \"past\", \"past year\", \"people\", \"people\", \"people nerd\", \"people nerd dscout\", \"person\", \"philadelphia\", \"philadelphia\", \"portigal\", \"practice\", \"prague\", \"prague\", \"product\", \"product\", \"qrca\", \"qrca annual\", \"qrca annual conference\", \"qrca conference\", \"qual360\", \"quirk\", \"radical\", \"radical research\", \"radical research summit\", \"research\", \"research\", \"research\", \"research\", \"research\", \"research\", \"research\", \"research australia\", \"research conference\", \"research conference\", \"research design\", \"research event\", \"research focused\", \"research london\", \"research meetups\", \"research meetups\", \"research method\", \"research ops\", \"research ops\", \"research ops workshop\", \"research rewind\", \"research rewind\", \"research summit\", \"research summit vancouver\", \"research thing\", \"research tomer\", \"research tomer sharon\", \"research tuesday\", \"researcher\", \"researcher\", \"researcher\", \"rewind\", \"rewind\", \"sadly\", \"seattle\", \"service\", \"service\", \"service design\", \"service design conference\", \"service design day\", \"session\", \"session\", \"session\", \"session\", \"sharon\", \"singapore\", \"small\", \"society\", \"society\", \"society\", \"society\", \"society\", \"society applied\", \"society applied\", \"spain\", \"spain\", \"specific\", \"specific\", \"specific\", \"specific research\", \"specific research\", \"specifically\", \"specifically\", \"specifically\", \"specifically\", \"specifically research\", \"steve\", \"steve portigal\", \"storytelling\", \"strat\", \"strategy\", \"strive\", \"strive\", \"strive\", \"strive\", \"strive conference\", \"strive conference\", \"strive conference toronto\", \"strive toronto\", \"strive ux\", \"strive ux research\", \"stuff\", \"summit\", \"summit\", \"summit\", \"summit\", \"summit\", \"summit vancouver\", \"talk\", \"talk\", \"talk\", \"talk\", \"testing\", \"testing\", \"think\", \"thinking\", \"time\", \"tomer\", \"tomer sharon\", \"topic\", \"topic\", \"topic\", \"toronto\", \"toronto\", \"training\", \"training\", \"tuesday\", \"uk\", \"uk\", \"ups\", \"ups\", \"usability\", \"usability\", \"usability day\", \"usability testing\", \"user\", \"user research\", \"user research london\", \"ux\", \"ux\", \"ux\", \"ux\", \"ux\", \"ux\", \"ux australia\", \"ux australia\", \"ux brighton\", \"ux brighton\", \"ux conference\", \"ux conference\", \"ux conference\", \"ux insight\", \"ux insight user\", \"ux london\", \"ux london\", \"ux meetups\", \"ux research\", \"ux research\", \"ux research\", \"ux research\", \"ux research conference\", \"ux research design\", \"ux research meetups\", \"ux strat\", \"ux strategy\", \"uxpa\", \"uxpa\", \"uxpa\", \"uxpa\", \"uxpa\", \"uxpa 2019\", \"uxpa boston\", \"uxpa conference\", \"uxpa event\", \"uxpa event\", \"uxpa international\", \"uxpa international\", \"uxpa international\", \"uxpa international boston\", \"uxr\", \"uxr\", \"uxr\", \"uxr\", \"uxr collective\", \"uxr conference\", \"uxr conference\", \"uxr toronto\", \"various\", \"various\", \"various\", \"various\", \"various\", \"ve\", \"ve\", \"ve\", \"ve\", \"ve attended\", \"ve attended\", \"ve attended\", \"wa\", \"wa\", \"wa\", \"wa\", \"webinars\", \"webinars\", \"webinars\", \"webinars\", \"week\", \"week\", \"week\", \"week\", \"workshop\", \"workshop\", \"workshop\", \"workshop\", \"workshop\", \"workshop\", \"workshop ux\", \"workshop ux research\", \"world\", \"world\", \"world ia\", \"world ia day\", \"world usability\", \"world usability day\", \"worldwide\", \"worldwide conference\", \"year\", \"year\"]}, \"R\": 30, \"lambda.step\": 0.01, \"plot.opts\": {\"xlab\": \"PC1\", \"ylab\": \"PC2\"}, \"topic.order\": [2, 4, 3, 7, 1, 6, 5]};\n",
       "\n",
       "function LDAvis_load_lib(url, callback){\n",
       "  var s = document.createElement('script');\n",
       "  s.src = url;\n",
       "  s.async = true;\n",
       "  s.onreadystatechange = s.onload = callback;\n",
       "  s.onerror = function(){console.warn(\"failed to load library \" + url);};\n",
       "  document.getElementsByTagName(\"head\")[0].appendChild(s);\n",
       "}\n",
       "\n",
       "if(typeof(LDAvis) !== \"undefined\"){\n",
       "   // already loaded: just create the visualization\n",
       "   !function(LDAvis){\n",
       "       new LDAvis(\"#\" + \"ldavis_el319141122863622649254591012\", ldavis_el319141122863622649254591012_data);\n",
       "   }(LDAvis);\n",
       "}else if(typeof define === \"function\" && define.amd){\n",
       "   // require.js is available: use it to load d3/LDAvis\n",
       "   require.config({paths: {d3: \"https://cdnjs.cloudflare.com/ajax/libs/d3/3.5.5/d3.min\"}});\n",
       "   require([\"d3\"], function(d3){\n",
       "      window.d3 = d3;\n",
       "      LDAvis_load_lib(\"https://cdn.rawgit.com/bmabey/pyLDAvis/files/ldavis.v1.0.0.js\", function(){\n",
       "        new LDAvis(\"#\" + \"ldavis_el319141122863622649254591012\", ldavis_el319141122863622649254591012_data);\n",
       "      });\n",
       "    });\n",
       "}else{\n",
       "    // require.js not available: dynamically load d3 & LDAvis\n",
       "    LDAvis_load_lib(\"https://cdnjs.cloudflare.com/ajax/libs/d3/3.5.5/d3.min.js\", function(){\n",
       "         LDAvis_load_lib(\"https://cdn.rawgit.com/bmabey/pyLDAvis/files/ldavis.v1.0.0.js\", function(){\n",
       "                 new LDAvis(\"#\" + \"ldavis_el319141122863622649254591012\", ldavis_el319141122863622649254591012_data);\n",
       "            })\n",
       "         });\n",
       "}\n",
       "</script>"
      ],
      "text/plain": [
       "PreparedData(topic_coordinates=              x         y  topics  cluster       Freq\n",
       "topic                                                \n",
       "1      0.146242 -0.119383       1        1  24.413723\n",
       "3     -0.030671 -0.142142       2        1  19.566921\n",
       "2     -0.016173 -0.025205       3        1  17.696423\n",
       "6      0.013718  0.038381       4        1  11.507298\n",
       "0      0.125902  0.165655       5        1  10.872132\n",
       "5     -0.062534  0.051802       6        1   8.694741\n",
       "4     -0.176484  0.030892       7        1   7.248763, topic_info=    Category        Freq                Term       Total  loglift  logprob\n",
       "102  Default  129.000000          conference  129.000000  30.0000  30.0000\n",
       "598  Default   44.000000                uxpa   44.000000  29.0000  29.0000\n",
       "142  Default   60.000000              design   60.000000  28.0000  28.0000\n",
       "407  Default   14.000000                qrca   14.000000  27.0000  27.0000\n",
       "320  Default   68.000000             meetups   68.000000  26.0000  26.0000\n",
       "..       ...         ...                 ...         ...      ...      ...\n",
       "277   Topic7    3.470976               local   64.023997  -0.2905  -4.3146\n",
       "167   Topic7    2.988061                epic   40.795317   0.0104  -4.4644\n",
       "2     Topic7    1.890561                2017   10.126622   0.9460  -4.9222\n",
       "9     Topic7    1.672205                2019   14.435747   0.4688  -5.0449\n",
       "604   Topic7    1.671258  uxpa international    4.855192   1.5579  -5.0455\n",
       "\n",
       "[384 rows x 6 columns], token_table=      Topic      Freq                  Term\n",
       "term                                       \n",
       "2         1  0.197499                  2017\n",
       "2         2  0.296249                  2017\n",
       "2         3  0.098750                  2017\n",
       "2         5  0.197499                  2017\n",
       "2         7  0.197499                  2017\n",
       "...     ...       ...                   ...\n",
       "634       2  0.863469   world usability day\n",
       "635       7  0.629664             worldwide\n",
       "636       7  0.834561  worldwide conference\n",
       "637       1  0.776245                  year\n",
       "637       4  0.194061                  year\n",
       "\n",
       "[533 rows x 3 columns], R=30, lambda_step=0.01, plot_opts={'xlab': 'PC1', 'ylab': 'PC2'}, topic_order=[2, 4, 3, 7, 1, 6, 5])"
      ]
     },
     "execution_count": 103,
     "metadata": {},
     "output_type": "execute_result"
    }
   ],
   "source": [
    "pyLDAvis.sklearn.prepare(lda16, events_attend_recent_matrix, events_attend_recent_vector)"
   ]
  },
  {
   "cell_type": "markdown",
   "metadata": {},
   "source": [
    "# Topic groups (4)\n",
    "\n",
    "1. day\n",
    "2. london\n",
    "3. epic\n",
    "4. uxpa\n",
    "\n",
    "#### Topic groups (6)\n",
    "1. london\n",
    "2. summit\n",
    "3. session\n",
    "4. design research\n",
    "5. epic\n",
    "6. uxr\n",
    "\n",
    "#### Topic groups (8)\n",
    "Heavy overlap among 6 of the 8 topics\n",
    "1. local meetups\n",
    "2. qrca\n",
    "3. design research\n",
    "4. uxpa\n",
    "5. attended\n",
    "6. epic\n",
    "7. user research\n",
    "8. focused\n"
   ]
  },
  {
   "cell_type": "code",
   "execution_count": null,
   "metadata": {},
   "outputs": [],
   "source": [
    "#7 topics"
   ]
  },
  {
   "cell_type": "code",
   "execution_count": 79,
   "metadata": {},
   "outputs": [],
   "source": [
    "lda_W16 = lda16.transform(events_attend_recent_matrix)"
   ]
  },
  {
   "cell_type": "code",
   "execution_count": 80,
   "metadata": {},
   "outputs": [],
   "source": [
    "top_doc_column16 = datadf.events_attend_recent.dropna()"
   ]
  },
  {
   "cell_type": "code",
   "execution_count": 81,
   "metadata": {},
   "outputs": [],
   "source": [
    "word_count_matrix16, count_vect16 = nlp.create_wordcount_matrix(datadf.events_attend_recent.dropna(), max_df=0.8, min_df=2, ngram=(1,3))"
   ]
  },
  {
   "cell_type": "code",
   "execution_count": 82,
   "metadata": {},
   "outputs": [
    {
     "data": {
      "text/plain": [
       "LatentDirichletAllocation(batch_size=128, doc_topic_prior=None,\n",
       "                          evaluate_every=-1, learning_decay=0.7,\n",
       "                          learning_method='batch', learning_offset=10.0,\n",
       "                          max_doc_update_iter=100, max_iter=10,\n",
       "                          mean_change_tol=0.001, n_components=5, n_jobs=None,\n",
       "                          perp_tol=0.1, random_state=42, topic_word_prior=None,\n",
       "                          total_samples=1000000.0, verbose=0)"
      ]
     },
     "execution_count": 82,
     "metadata": {},
     "output_type": "execute_result"
    }
   ],
   "source": [
    "LDA16a = LatentDirichletAllocation(n_components=5, random_state=42)\n",
    "LDA16a.fit(word_count_matrix16)"
   ]
  },
  {
   "cell_type": "code",
   "execution_count": 83,
   "metadata": {},
   "outputs": [],
   "source": [
    "lda_H = LDA16a.transform(word_count_matrix16)"
   ]
  },
  {
   "cell_type": "code",
   "execution_count": 84,
   "metadata": {},
   "outputs": [
    {
     "name": "stdout",
     "output_type": "stream",
     "text": [
      "Top 3 Documents for Topic 0: \n",
      "\n",
      "Document 1\n",
      "uxr collective's strive conference in toronto\n",
      "\n",
      "Document 2\n",
      "nux manchester steve portigal's research networking dinner meetup at answerlab how to minimize research bias in your project\n",
      "\n",
      "Document 3\n",
      "strive local uxpa chapter meeting boston uxpa conference\n",
      "\n",
      "Top 3 Documents for Topic 1: \n",
      "\n",
      "Document 1\n",
      "researchops workshop user research sydney user research london ux insight utrecht\n",
      "\n",
      "Document 2\n",
      "research ops remote meetups ux monday in prague research tuesday in prague some ux conference meetups and barcamps in berlin bratislava brno prague and vienna\n",
      "\n",
      "Document 3\n",
      "not really research only but when i go to ux or web conference i pick research speaches nng exconf bratislava doer budapest webexpo prague ux salon tel aviv ux camp europe in berlin best thing ever mostly and i have a ticket for ux brighton\n",
      "\n",
      "Top 3 Documents for Topic 2: \n",
      "\n",
      "Document 1\n",
      "a 2 day ux design and research course numerous monthly nux event an nux conference in manchester\n",
      "\n",
      "Document 2\n",
      "actually the san francisco baychi design research bird of a feather bof seminar are really informative i saw jeff sauro the fall of 2018 which wa really good for example\n",
      "\n",
      "Document 3\n",
      "nielsen norman group conference rustbelt refresh a cleveland ohio area conference world usability day world ia day\n",
      "\n",
      "Top 3 Documents for Topic 3: \n",
      "\n",
      "Document 1\n",
      "epic for the past two year go to a meetup in the bay area every month or two video from epic and other random place occasional academic event in the bay area workshop or talk by visiting professor at local university\n",
      "\n",
      "Document 2\n",
      "local meetup talk on specific research method networking dinner epic qualtrics conference epic online class in ethnographic research method\n",
      "\n",
      "Document 3\n",
      "people nerd conference hosted by dscout i also run a meetup group for design research we hold monthly event talk workshop with lot of great local speakersfacilitators\n",
      "\n",
      "Top 3 Documents for Topic 4: \n",
      "\n",
      "Document 1\n",
      "qrca annual conference qrca local chapter meeting insight association local conference\n",
      "\n",
      "Document 2\n",
      "i go regulary to ux monday where topic of research is included two month ago i wa at protyping workshop where ux research wa included a well but maginaly\n",
      "\n",
      "Document 3\n",
      "local ux community meetups ux research design and service design congress interaccion ux spain ux fighter service design day in barcelona\n",
      "\n"
     ]
    }
   ],
   "source": [
    "nlp.find_top_documents_per_topic(lda_H, top_doc_column16, 3)"
   ]
  },
  {
   "cell_type": "markdown",
   "metadata": {},
   "source": [
    " "
   ]
  },
  {
   "cell_type": "markdown",
   "metadata": {},
   "source": [
    "## 20. Did we miss any other types of conference sessions that you'd like to mention?"
   ]
  },
  {
   "cell_type": "code",
   "execution_count": 107,
   "metadata": {},
   "outputs": [],
   "source": [
    "other_conference_types = datadf.other_conference_types.fillna('nan').apply(nlp.basic_clean)\n",
    "other_conference_types = other_conference_types.apply(nlp.lemmatize)"
   ]
  },
  {
   "cell_type": "code",
   "execution_count": 119,
   "metadata": {},
   "outputs": [
    {
     "data": {
      "text/plain": [
       "(726,)"
      ]
     },
     "execution_count": 119,
     "metadata": {},
     "output_type": "execute_result"
    }
   ],
   "source": [
    "other_conference_types.shape"
   ]
  },
  {
   "cell_type": "code",
   "execution_count": 108,
   "metadata": {},
   "outputs": [
    {
     "data": {
      "text/plain": [
       "(<726x295 sparse matrix of type '<class 'numpy.int64'>'\n",
       " \twith 1136 stored elements in Compressed Sparse Row format>,\n",
       " CountVectorizer(analyzer='word', binary=False, decode_error='strict',\n",
       "                 dtype=<class 'numpy.int64'>, encoding='utf-8', input='content',\n",
       "                 lowercase=True, max_df=0.3, max_features=None, min_df=2,\n",
       "                 ngram_range=(1, 3), preprocessor=None, stop_words='english',\n",
       "                 strip_accents=None, token_pattern='(?u)\\\\b\\\\w\\\\w+\\\\b',\n",
       "                 tokenizer=None, vocabulary=None))"
      ]
     },
     "execution_count": 108,
     "metadata": {},
     "output_type": "execute_result"
    }
   ],
   "source": [
    "other_conference_types_matrix, other_conference_types_vector = nlp.create_wordcount_matrix(other_conference_types, ngram=(1,3), max_df=.3)\n",
    "other_conference_types_matrix, other_conference_types_vector"
   ]
  },
  {
   "cell_type": "code",
   "execution_count": 112,
   "metadata": {},
   "outputs": [],
   "source": [
    "lda20 = LatentDirichletAllocation(n_components= 6, random_state = 42)"
   ]
  },
  {
   "cell_type": "code",
   "execution_count": 113,
   "metadata": {},
   "outputs": [
    {
     "data": {
      "text/plain": [
       "LatentDirichletAllocation(batch_size=128, doc_topic_prior=None,\n",
       "                          evaluate_every=-1, learning_decay=0.7,\n",
       "                          learning_method='batch', learning_offset=10.0,\n",
       "                          max_doc_update_iter=100, max_iter=10,\n",
       "                          mean_change_tol=0.001, n_components=6, n_jobs=None,\n",
       "                          perp_tol=0.1, random_state=42, topic_word_prior=None,\n",
       "                          total_samples=1000000.0, verbose=0)"
      ]
     },
     "execution_count": 113,
     "metadata": {},
     "output_type": "execute_result"
    }
   ],
   "source": [
    "lda20.fit(other_conference_types_matrix)"
   ]
  },
  {
   "cell_type": "code",
   "execution_count": 114,
   "metadata": {},
   "outputs": [
    {
     "data": {
      "text/html": [
       "\n",
       "<link rel=\"stylesheet\" type=\"text/css\" href=\"https://cdn.rawgit.com/bmabey/pyLDAvis/files/ldavis.v1.0.0.css\">\n",
       "\n",
       "\n",
       "<div id=\"ldavis_el319141122855772889078521592\"></div>\n",
       "<script type=\"text/javascript\">\n",
       "\n",
       "var ldavis_el319141122855772889078521592_data = {\"mdsDat\": {\"x\": [-0.01563532520270333, 0.06223731165308139, 0.07346018200339718, 0.10273065490112729, -0.03788352716857227, -0.18490929618633006], \"y\": [0.02431937471800181, 0.05391520228143633, 0.053091876093905546, -0.013471831421525386, -0.1855720943261471, 0.06771747265432881], \"topics\": [1, 2, 3, 4, 5, 6], \"cluster\": [1, 1, 1, 1, 1, 1], \"Freq\": [21.176149685160038, 20.176508645065496, 18.80532610642974, 17.4087231673182, 11.481832722783555, 10.951459673242962]}, \"tinfo\": {\"Category\": [\"Default\", \"Default\", \"Default\", \"Default\", \"Default\", \"Default\", \"Default\", \"Default\", \"Default\", \"Default\", \"Default\", \"Default\", \"Default\", \"Default\", \"Default\", \"Default\", \"Default\", \"Default\", \"Default\", \"Default\", \"Default\", \"Default\", \"Default\", \"Default\", \"Default\", \"Default\", \"Default\", \"Default\", \"Default\", \"Default\", \"Topic1\", \"Topic1\", \"Topic1\", \"Topic1\", \"Topic1\", \"Topic1\", \"Topic1\", \"Topic1\", \"Topic1\", \"Topic1\", \"Topic1\", \"Topic1\", \"Topic1\", \"Topic1\", \"Topic1\", \"Topic1\", \"Topic1\", \"Topic1\", \"Topic1\", \"Topic1\", \"Topic1\", \"Topic1\", \"Topic1\", \"Topic1\", \"Topic1\", \"Topic1\", \"Topic1\", \"Topic1\", \"Topic1\", \"Topic1\", \"Topic1\", \"Topic1\", \"Topic1\", \"Topic1\", \"Topic1\", \"Topic1\", \"Topic1\", \"Topic1\", \"Topic1\", \"Topic1\", \"Topic1\", \"Topic1\", \"Topic1\", \"Topic1\", \"Topic1\", \"Topic2\", \"Topic2\", \"Topic2\", \"Topic2\", \"Topic2\", \"Topic2\", \"Topic2\", \"Topic2\", \"Topic2\", \"Topic2\", \"Topic2\", \"Topic2\", \"Topic2\", \"Topic2\", \"Topic2\", \"Topic2\", \"Topic2\", \"Topic2\", \"Topic2\", \"Topic2\", \"Topic2\", \"Topic2\", \"Topic2\", \"Topic2\", \"Topic2\", \"Topic2\", \"Topic2\", \"Topic2\", \"Topic2\", \"Topic2\", \"Topic2\", \"Topic2\", \"Topic2\", \"Topic2\", \"Topic2\", \"Topic2\", \"Topic2\", \"Topic2\", \"Topic2\", \"Topic2\", \"Topic2\", \"Topic2\", \"Topic2\", \"Topic2\", \"Topic2\", \"Topic2\", \"Topic2\", \"Topic3\", \"Topic3\", \"Topic3\", \"Topic3\", \"Topic3\", \"Topic3\", \"Topic3\", \"Topic3\", \"Topic3\", \"Topic3\", \"Topic3\", \"Topic3\", \"Topic3\", \"Topic3\", \"Topic3\", \"Topic3\", \"Topic3\", \"Topic3\", \"Topic3\", \"Topic3\", \"Topic3\", \"Topic3\", \"Topic3\", \"Topic3\", \"Topic3\", \"Topic3\", \"Topic3\", \"Topic3\", \"Topic3\", \"Topic3\", \"Topic3\", \"Topic3\", \"Topic3\", \"Topic3\", \"Topic3\", \"Topic3\", \"Topic3\", \"Topic3\", \"Topic3\", \"Topic3\", \"Topic3\", \"Topic3\", \"Topic3\", \"Topic3\", \"Topic4\", \"Topic4\", \"Topic4\", \"Topic4\", \"Topic4\", \"Topic4\", \"Topic4\", \"Topic4\", \"Topic4\", \"Topic4\", \"Topic4\", \"Topic4\", \"Topic4\", \"Topic4\", \"Topic4\", \"Topic4\", \"Topic4\", \"Topic4\", \"Topic4\", \"Topic4\", \"Topic4\", \"Topic4\", \"Topic4\", \"Topic4\", \"Topic4\", \"Topic4\", \"Topic4\", \"Topic4\", \"Topic4\", \"Topic4\", \"Topic4\", \"Topic4\", \"Topic4\", \"Topic4\", \"Topic4\", \"Topic4\", \"Topic4\", \"Topic4\", \"Topic4\", \"Topic4\", \"Topic4\", \"Topic5\", \"Topic5\", \"Topic5\", \"Topic5\", \"Topic5\", \"Topic5\", \"Topic5\", \"Topic5\", \"Topic5\", \"Topic5\", \"Topic5\", \"Topic5\", \"Topic5\", \"Topic5\", \"Topic5\", \"Topic5\", \"Topic5\", \"Topic5\", \"Topic5\", \"Topic5\", \"Topic5\", \"Topic5\", \"Topic5\", \"Topic5\", \"Topic5\", \"Topic5\", \"Topic5\", \"Topic5\", \"Topic5\", \"Topic5\", \"Topic5\", \"Topic5\", \"Topic5\", \"Topic5\", \"Topic5\", \"Topic5\", \"Topic5\", \"Topic5\", \"Topic5\", \"Topic5\", \"Topic5\", \"Topic5\", \"Topic5\", \"Topic5\", \"Topic5\", \"Topic6\", \"Topic6\", \"Topic6\", \"Topic6\", \"Topic6\", \"Topic6\", \"Topic6\", \"Topic6\", \"Topic6\", \"Topic6\", \"Topic6\", \"Topic6\", \"Topic6\", \"Topic6\", \"Topic6\", \"Topic6\", \"Topic6\", \"Topic6\", \"Topic6\", \"Topic6\", \"Topic6\", \"Topic6\", \"Topic6\", \"Topic6\", \"Topic6\", \"Topic6\", \"Topic6\", \"Topic6\", \"Topic6\", \"Topic6\", \"Topic6\", \"Topic6\", \"Topic6\", \"Topic6\", \"Topic6\", \"Topic6\", \"Topic6\", \"Topic6\", \"Topic6\", \"Topic6\", \"Topic6\"], \"Freq\": [14.0, 35.0, 20.0, 6.0, 19.0, 18.0, 5.0, 6.0, 8.0, 8.0, 31.0, 9.0, 6.0, 4.0, 9.0, 24.0, 8.0, 7.0, 5.0, 5.0, 14.0, 5.0, 8.0, 5.0, 4.0, 6.0, 3.0, 3.0, 6.0, 4.0, 4.287672186396385, 1.7980655130043104, 1.7980655130043104, 1.7980654013042476, 1.7980654013042476, 1.7980652402608321, 1.7980627104655664, 1.7980627104655664, 1.7980626123992813, 1.7977988833043392, 1.7970692776056767, 3.4597422757162177, 3.4559420108601935, 5.1190768632129675, 3.268446076143706, 2.6282817475445057, 2.628008626168685, 4.288224082810997, 10.91747840708542, 1.7987839935876813, 1.798130420983019, 1.7984126687359736, 2.6267322743382815, 2.6275886441436924, 14.866018973573043, 3.461198675636596, 3.3494727848825514, 1.7983980405030886, 1.7975606696193176, 1.7968806893802818, 3.851963492925644, 2.627653404361653, 6.521579609108837, 2.9569853482506656, 5.23041545017844, 2.3626228254446096, 2.628009411463067, 2.6265701379123083, 2.6273293271056333, 2.628084336202546, 2.569337931056998, 2.360910837539048, 2.188936351324044, 1.9512451116300862, 2.0994146738049513, 4.381285615814701, 1.8374367920612023, 1.8374367920612023, 1.8374359242533942, 1.8374359242533942, 1.836689742845754, 1.8365909394678932, 1.8365904808714177, 1.8365904745460815, 1.8365900541160645, 1.8365899447861462, 1.8365897810915173, 1.8365896035214782, 1.8365883753925976, 1.836588303794792, 1.8358418366240083, 1.8358418287917722, 6.079725950402309, 3.5347900269579773, 3.532941690799428, 3.5349028167530996, 3.451511095002878, 1.8373770669928773, 1.836922931431175, 1.8320731951732134, 1.8376156364989868, 1.8358533588741268, 1.8374766704417254, 2.686107600487814, 7.712490628736781, 11.803977337736898, 4.046327283093898, 3.9792748561039266, 2.685345200267691, 7.456878504936984, 4.036617415678725, 2.6043116991091013, 3.6974399928610118, 2.6860372384434816, 2.684229258677134, 2.7411348094085075, 2.2858123646346677, 1.8722914630105743, 1.8400823446360113, 1.8380798467007218, 1.8377996157489658, 1.8376073215270152, 3.402298613837071, 6.668582051796654, 2.5857480361969554, 2.585736805429165, 2.585163366913703, 1.7691972016419777, 1.7691966810858508, 1.7691956958990043, 1.769195268839916, 1.769195268839916, 1.7691948263315254, 1.769191559589708, 1.768269126380621, 5.038922285606024, 1.7697390513269429, 1.7691906969966336, 1.7695397357347151, 1.7691828397076363, 3.4036823003565826, 3.4019351453682933, 5.852350039349506, 1.76920686088422, 1.7699194449099398, 1.769443709268082, 1.7694266785704855, 1.7692467867584172, 4.217844313252431, 3.403833431724977, 0.9526662723981615, 0.9526360122148971, 7.060492707507583, 2.585549873590412, 5.858296066877804, 6.6688527653996745, 6.246227599564386, 4.219598209677972, 3.402437209364524, 2.257488117700224, 1.7697918368333168, 1.7696837315499345, 1.7696686617500816, 1.7695368331989774, 1.769352157463233, 1.769260343508807, 3.3599905849803537, 2.554921660339159, 4.168709739099821, 1.7481050426205784, 1.7481042383408774, 1.7481035430390466, 1.748100901563494, 1.7480943428458149, 1.7479405338442695, 1.7479405338442695, 2.5560328876505336, 4.168535881033191, 4.999701363469543, 1.748257410261307, 1.7489692926861498, 1.7478163279518788, 1.7480741679737317, 18.22561025882725, 4.170274183999054, 2.5557844299403927, 1.7482900071693723, 1.7464464347275732, 1.7484069038187284, 1.6782140019744474, 0.9412374995735632, 0.9406061949351907, 2.5556725702602225, 0.9414592301212449, 0.9412810228478737, 0.9411164983963425, 7.336323211373964, 4.977293497790402, 2.5551240869942213, 5.724691309773927, 1.747923127228741, 2.5554491404505866, 2.6019650268253263, 2.5516131964363207, 1.7497939543441456, 1.7485314823579785, 1.7481905328844585, 6.255157522646913, 4.723032629584293, 4.723678270513946, 1.659703832272966, 1.6597036088996993, 1.6597028649375807, 1.659534771319001, 3.1897949711004605, 1.6598036502053417, 1.660301397110693, 1.65985843264309, 3.191432273611848, 1.5813545984514437, 3.8153415878199413, 3.1954521499980024, 0.8939183324750407, 2.426729254543862, 0.8939711093503903, 0.8938885178759801, 0.8938650204083014, 0.893847392914845, 0.8936922104753123, 0.8935214713064694, 0.893773375660665, 0.8936824897616465, 0.8942565894259017, 0.8940286502321321, 0.8937382932806478, 0.8937084146236545, 0.8937217402849637, 1.660670345151683, 1.6603502347068706, 1.6595121053062925, 1.6613785862644934, 1.659537832703284, 1.573033306191609, 1.6580817496063196, 1.5879705994758098, 2.4263579040729146, 1.660555544666353, 2.4278290172098815, 2.4845730880494283, 1.7004912967472339, 0.9609312226259036, 0.9680844112549809, 14.119272762098833, 2.3327916053950366, 2.3314737050099703, 1.5961203253359466, 1.5961202052332724, 1.596119244642925, 1.596119244642925, 1.5955121131461685, 1.5955113731043873, 1.5961949978904895, 1.596133858690071, 1.5968524623038733, 2.333473634528729, 2.3337078864861054, 2.1680013415060597, 2.3338088643636827, 8.433027873798453, 1.596540803686543, 3.8074332557182604, 0.8592244612620868, 0.8600667467998836, 0.859495460626549, 0.8594994684503011, 0.8594564568488139, 0.8594301724423733, 0.8595505490337411, 0.8595347935360413, 0.8594642734583183, 0.8594533174714863, 0.8593308648985905, 1.8151783988784853, 1.5974240008301082, 1.3439924526126334, 2.3337757904188634, 1.5966638882108417, 1.596366896510132, 1.5970252017771789, 3.1159864181731676, 0.9579178772961107, 0.9367240633547678, 0.8605491640037736], \"Term\": [\"nope\", \"session\", \"workshop\", \"case\", \"think\", \"research\", \"case study\", \"study\", \"track\", \"don\", \"conference\", \"work\", \"format\", \"maybe\", \"working\", \"people\", \"poster\", \"discussion\", \"poster session\", \"people working\", \"event\", \"problem\", \"panel\", \"meet\", \"come\", \"idea\", \"method\", \"tutorial\", \"love\", \"na\", \"na\", \"attended\", \"ve attended\", \"ted style\", \"ted\", \"conference attendee\", \"discussion circle\", \"circle\", \"enjoyable\", \"conference really\", \"space\", \"ha\", \"retreat\", \"attendee\", \"learn\", \"note\", \"quality\", \"great\", \"think\", \"style\", \"unique\", \"technique\", \"good\", \"having\", \"conference\", \"day\", \"really\", \"away\", \"le\", \"project\", \"ve\", \"format\", \"workshop\", \"group\", \"people\", \"question\", \"learning\", \"discussion\", \"panel\", \"talk\", \"like\", \"way\", \"work\", \"track\", \"session\", \"people working\", \"size\", \"conference size\", \"social event\", \"social\", \"engage\", \"taking\", \"feedback\", \"advantage\", \"studio\", \"group people\", \"interested\", \"lunch\", \"tour\", \"price\", \"research team\", \"example\", \"working\", \"opportunity\", \"meet\", \"industry\", \"interesting\", \"creative\", \"appreciate\", \"pick\", \"academic\", \"team\", \"conversation\", \"know\", \"event\", \"people\", \"group\", \"ve\", \"small\", \"session\", \"research\", \"researcher\", \"conference\", \"just\", \"talk\", \"like\", \"work\", \"workshop\", \"think\", \"issue\", \"having\", \"activity\", \"don think\", \"don\", \"pecha\", \"webinars\", \"nice\", \"present\", \"template\", \"range\", \"pecha kucha\", \"kucha\", \"pay\", \"presentation\", \"mean\", \"topic\", \"virtual\", \"video\", \"data\", \"feel\", \"love\", \"important\", \"way\", \"level\", \"different\", \"field\", \"attend\", \"single\", \"just\", \"researcher\", \"dunno\", \"add\", \"research\", \"make\", \"think\", \"conference\", \"session\", \"like\", \"people\", \"poster\", \"larger\", \"small\", \"networking\", \"expert\", \"day\", \"want\", \"demo\", \"break\", \"poster session\", \"unconference session\", \"solution\", \"minute\", \"break session\", \"resource\", \"like poster session\", \"like poster\", \"panel discussion\", \"discussion\", \"poster\", \"outside\", \"context\", \"depth\", \"term\", \"session\", \"panel\", \"long\", \"project\", \"le\", \"use\", \"focused\", \"engaging\", \"11\", \"practice\", \"provides\", \"skill like\", \"secret\", \"research\", \"talk\", \"learning\", \"like\", \"content\", \"way\", \"people\", \"conference\", \"unconference\", \"best\", \"idea\", \"case\", \"case study\", \"study\", \"thought\", \"xoxo\", \"deep\", \"theory\", \"maybe\", \"little\", \"material\", \"game\", \"format\", \"cover\", \"track\", \"time\", \"solve\", \"idea\", \"remote\", \"short\", \"mentoring\", \"secret\", \"skill like\", \"provides\", \"lot\", \"gathering\", \"room\", \"curated\", \"relationship\", \"cool\", \"meet people\", \"content\", \"variety\", \"experience\", \"thing\", \"meet\", \"unconference\", \"love\", \"real\", \"talk\", \"new\", \"event\", \"like\", \"people\", \"focused\", \"interesting\", \"nope\", \"method\", \"tutorial\", \"work progress\", \"did\", \"mind\", \"come mind\", \"interactive session\", \"powerpoint\", \"progress\", \"fun\", \"usually\", \"come\", \"tool\", \"interactive\", \"problem\", \"workshop\", \"practical\", \"work\", \"solve\", \"11\", \"engaging\", \"ux\", \"add\", \"dunno\", \"workshop conference\", \"conference workshop\", \"immersion\", \"using\", \"coming\", \"experience\", \"handson\", \"helpful\", \"track\", \"networking\", \"new\", \"wa\", \"conference\", \"really\", \"session\", \"design\"], \"Total\": [14.0, 35.0, 20.0, 6.0, 19.0, 18.0, 5.0, 6.0, 8.0, 8.0, 31.0, 9.0, 6.0, 4.0, 9.0, 24.0, 8.0, 7.0, 5.0, 5.0, 14.0, 5.0, 8.0, 5.0, 4.0, 6.0, 3.0, 3.0, 6.0, 4.0, 4.9500489880144665, 2.460418736654427, 2.460418736654427, 2.460418730236926, 2.460418730236926, 2.4604187238620305, 2.460418593339093, 2.460418593339093, 2.4604185863707095, 2.4603887629736345, 2.4604405334429686, 4.8571834246362915, 4.886184439481402, 7.3645620692993745, 4.972368545046259, 4.097124002564783, 4.106850060328971, 7.446259870233218, 19.000974358502813, 3.2672572622649576, 3.267239228706, 3.276977420683398, 4.945144403764938, 4.98640104521519, 31.027904827465314, 7.297057516982132, 7.347366459688519, 4.013688564568527, 4.073988807819754, 4.074072684033986, 9.15861840777115, 6.3544044760461444, 20.420099964654618, 8.339924421735704, 24.862066066222592, 5.716988521127963, 7.263973935805171, 7.324376649780222, 8.090446478714972, 13.789850238167071, 18.597715975595307, 13.046546107650261, 9.495767420552964, 8.5122687745562, 35.09253905323809, 5.0409017644311716, 2.496761798935525, 2.496761798935525, 2.4967617311170964, 2.4967617311170964, 2.496704570062313, 2.496743763522694, 2.496743728585328, 2.4967437284497858, 2.4967436963677274, 2.496743688186067, 2.496743676786467, 2.496743662045925, 2.4967435701239316, 2.4967435659084525, 2.4966864045254717, 2.496686404347852, 9.177030152583198, 5.695684654868974, 5.724895323964648, 5.816293946352815, 5.68772466379467, 3.2334261993674422, 3.303578522241567, 3.3030388138625466, 3.313321656897289, 3.313240009458749, 3.326639830882938, 4.991273431104212, 14.726622482626853, 24.862066066222592, 8.339924421735704, 9.15861840777115, 5.743990464820586, 35.09253905323809, 18.82260742030694, 8.150772053002703, 31.027904827465314, 9.871013872005578, 13.789850238167071, 18.597715975595307, 9.495767420552964, 20.420099964654618, 19.000974358502813, 4.95003811393397, 4.98640104521519, 4.950014457025761, 4.066877038203428, 8.163015349390216, 3.2503239289375765, 3.250323541800341, 3.250316752116529, 2.433770812579094, 2.433770795505682, 2.4337707603316594, 2.433770746659135, 2.433770746659135, 2.433770729136325, 2.43377062211264, 2.4337596854803016, 8.909475958647953, 3.2636384310388538, 3.2636479081451695, 3.281806219383456, 3.2818200877090544, 6.335714926836009, 6.481225287184499, 13.046546107650261, 4.000371015452851, 4.029700308381133, 4.0478664232116905, 4.0704519780751065, 4.093494288719942, 9.871013872005578, 8.150772053002703, 2.353891369950483, 2.3538885071739957, 18.82260742030694, 7.260413151629303, 19.000974358502813, 31.027904827465314, 35.09253905323809, 18.597715975595307, 24.862066066222592, 8.950660330281535, 4.959661452630239, 5.743990464820586, 5.58494058276128, 4.9415570673225595, 7.297057516982132, 4.951290799972794, 4.027972150765917, 3.2211204924656656, 5.682761314938663, 2.4143018313930167, 2.414301814369702, 2.4143018011420585, 2.414301744567897, 2.414301605404892, 2.414293530913283, 2.414293530913283, 4.050965790373419, 7.324376649780222, 8.950660330281535, 3.1509867612909455, 3.2308443939108566, 3.2308583866473586, 3.2623521688491954, 35.09253905323809, 8.090446478714972, 5.72886978003116, 4.074072684033986, 4.073988807819754, 4.078885911383355, 3.9932794164402687, 2.3441504170006513, 2.3440960276837703, 6.383625558043188, 2.373509356470972, 2.373500277882699, 2.3734920059975813, 18.82260742030694, 13.789850238167071, 7.263973935805171, 18.597715975595307, 4.762828292555941, 13.046546107650261, 24.862066066222592, 31.027904827465314, 5.599981170053755, 4.826710985787176, 6.345392960330808, 6.928862319908937, 5.396836715736948, 6.2266600365179885, 2.3326993107156357, 2.33269932028894, 2.3326993540768135, 2.332710435363951, 4.601526806504035, 3.139512679984441, 3.149213017269072, 3.149242278020331, 6.3544044760461444, 3.1576276803497176, 8.5122687745562, 8.005431371146758, 2.303362677930526, 6.345392960330808, 2.3734853727913032, 2.3734898115919716, 2.373490968911197, 2.3734920059975813, 2.373500277882699, 2.373509356470972, 2.383229337186507, 2.3832353438801355, 2.3965112979482837, 2.396530368595653, 2.3965547158565466, 2.3965572144753065, 2.396611102853377, 4.762828292555941, 4.795633433872432, 5.4381205703483735, 5.647132789409019, 5.724895323964648, 5.599981170053755, 6.335714926836009, 6.468603955783337, 13.789850238167071, 7.13513989539446, 14.726622482626853, 18.597715975595307, 24.862066066222592, 3.9932794164402687, 5.68772466379467, 14.79745779729172, 3.010679297397096, 3.0108048015614557, 2.274007714114866, 2.2740077262275937, 2.274007819049886, 2.274007819049886, 2.2740656315320558, 2.2740657037449266, 3.1039304176796505, 3.1039381256291603, 3.1219456569979416, 4.637009208964814, 4.67514228408462, 4.681220698256418, 5.390264319282707, 20.420099964654618, 3.9106537159080252, 9.495767420552964, 2.303362677930526, 2.3440960276837703, 2.3441504170006513, 2.3538838527272974, 2.3538885071739957, 2.353891369950483, 2.36720044088425, 2.3672024261380047, 2.3672113310930185, 2.367212754147245, 2.3672281755166917, 5.4381205703483735, 4.768324568655321, 3.919984923571805, 8.5122687745562, 5.58494058276128, 7.13513989539446, 7.171053672637969, 31.027904827465314, 7.347366459688519, 35.09253905323809, 5.591137805530129], \"loglift\": [30.0, 29.0, 28.0, 27.0, 26.0, 25.0, 24.0, 23.0, 22.0, 21.0, 20.0, 19.0, 18.0, 17.0, 16.0, 15.0, 14.0, 13.0, 12.0, 11.0, 10.0, 9.0, 8.0, 7.0, 6.0, 5.0, 4.0, 3.0, 2.0, 1.0, 1.4086, 1.2387, 1.2387, 1.2387, 1.2387, 1.2387, 1.2387, 1.2387, 1.2387, 1.2385, 1.2381, 1.213, 1.206, 1.1886, 1.1327, 1.1083, 1.1059, 1.0005, 0.9982, 0.9555, 0.9551, 0.9523, 0.9196, 0.9116, 0.8165, 0.8064, 0.7668, 0.7495, 0.7341, 0.7337, 0.6862, 0.6692, 0.4109, 0.5154, -0.0066, 0.6686, 0.5356, 0.5268, 0.4276, -0.1054, -0.4271, -0.1572, 0.0849, 0.0793, -1.264, 1.4604, 1.294, 1.294, 1.294, 1.294, 1.2936, 1.2936, 1.2936, 1.2936, 1.2936, 1.2936, 1.2936, 1.2936, 1.2936, 1.2936, 1.2932, 1.2932, 1.1889, 1.1236, 1.118, 1.1027, 1.1012, 1.0354, 1.0137, 1.0113, 1.0112, 1.0102, 1.0071, 0.9811, 0.9538, 0.8557, 0.8774, 0.7671, 0.8403, 0.0518, 0.061, 0.4597, -0.5266, 0.2991, -0.0359, -0.314, 0.1765, -0.7887, -0.734, 0.61, 0.6025, 0.6097, 1.4926, 1.4688, 1.4423, 1.4423, 1.4421, 1.3521, 1.3521, 1.3521, 1.3521, 1.3521, 1.3521, 1.3521, 1.3516, 1.1011, 1.059, 1.0587, 1.0534, 1.0531, 1.0497, 1.0265, 0.8693, 0.8552, 0.8483, 0.8435, 0.8379, 0.8322, 0.8208, 0.7978, 0.7665, 0.7664, 0.6905, 0.6385, 0.4944, 0.1336, -0.055, 0.1877, -0.3178, 0.2936, 0.6406, 0.4937, 0.5217, 0.6441, 0.2542, 0.6419, 1.5669, 1.5165, 1.4384, 1.4253, 1.4253, 1.4253, 1.4253, 1.4253, 1.4252, 1.4252, 1.2877, 1.1846, 1.1658, 1.1591, 1.1345, 1.1338, 1.1243, 1.093, 1.0855, 0.941, 0.9022, 0.9012, 0.9011, 0.8813, 0.8357, 0.8351, 0.8328, 0.8235, 0.8233, 0.8231, 0.806, 0.7292, 0.7034, 0.5699, 0.7458, 0.1179, -0.5089, -0.75, 0.5849, 0.7328, 0.4591, 2.0621, 2.031, 1.8882, 1.824, 1.824, 1.824, 1.8239, 1.798, 1.527, 1.5243, 1.524, 1.4757, 1.4729, 1.3619, 1.246, 1.2179, 1.2032, 1.188, 1.1879, 1.1878, 1.1878, 1.1876, 1.1874, 1.1836, 1.1835, 1.1786, 1.1784, 1.178, 1.178, 1.178, 1.1108, 1.1037, 0.9775, 0.9409, 0.9261, 0.8946, 0.8239, 0.7599, 0.4269, 0.7065, 0.3617, 0.1515, -0.518, 0.7399, 0.3937, 2.1648, 1.9566, 1.956, 1.8577, 1.8577, 1.8577, 1.8577, 1.8573, 1.8573, 1.5467, 1.5466, 1.5413, 1.525, 1.5169, 1.4419, 1.3746, 1.3273, 1.3158, 1.2978, 1.2256, 1.2091, 1.2084, 1.2042, 1.2042, 1.2041, 1.1986, 1.1986, 1.1985, 1.1985, 1.1984, 1.1144, 1.1181, 1.1413, 0.9177, 0.9595, 0.7144, 0.7098, -0.0866, 0.1744, -1.4117, 0.3403], \"logprob\": [30.0, 29.0, 28.0, 27.0, 26.0, 25.0, 24.0, 23.0, 22.0, 21.0, 20.0, 19.0, 18.0, 17.0, 16.0, 15.0, 14.0, 13.0, 12.0, 11.0, 10.0, 9.0, 8.0, 7.0, 6.0, 5.0, 4.0, 3.0, 2.0, 1.0, -4.1156, -4.9847, -4.9847, -4.9847, -4.9847, -4.9847, -4.9847, -4.9847, -4.9847, -4.9848, -4.9852, -4.3302, -4.3313, -3.9384, -4.3871, -4.605, -4.6052, -4.1155, -3.181, -4.9843, -4.9846, -4.9845, -4.6056, -4.6053, -2.8723, -4.3298, -4.3626, -4.9845, -4.9849, -4.9853, -4.2228, -4.6053, -3.6963, -4.4872, -3.9169, -4.7116, -4.6052, -4.6057, -4.6054, -4.6051, -4.6277, -4.7123, -4.788, -4.9029, -4.8297, -4.0457, -4.9147, -4.9147, -4.9147, -4.9147, -4.9151, -4.9151, -4.9151, -4.9151, -4.9151, -4.9151, -4.9151, -4.9151, -4.9151, -4.9151, -4.9155, -4.9155, -3.7181, -4.2604, -4.2609, -4.2603, -4.2842, -4.9147, -4.9149, -4.9176, -4.9146, -4.9155, -4.9146, -4.5349, -3.4802, -3.0546, -4.1252, -4.1419, -4.5352, -3.5139, -4.1276, -4.5659, -4.2154, -4.535, -4.5356, -4.5146, -4.6963, -4.8959, -4.9132, -4.9143, -4.9145, -4.9146, -4.2282, -3.5552, -4.5026, -4.5026, -4.5029, -4.8821, -4.8821, -4.8821, -4.8821, -4.8821, -4.8821, -4.8821, -4.8826, -3.8355, -4.8818, -4.8821, -4.8819, -4.8821, -4.2278, -4.2283, -3.6858, -4.8821, -4.8817, -4.882, -4.882, -4.8821, -4.0133, -4.2277, -5.5011, -5.5012, -3.4981, -4.5027, -3.6848, -3.5552, -3.6207, -4.0129, -4.2282, -4.6384, -4.8818, -4.8818, -4.8819, -4.8819, -4.882, -4.8821, -4.1635, -4.4375, -3.9479, -4.8169, -4.8169, -4.8169, -4.8169, -4.8169, -4.817, -4.817, -4.437, -3.9479, -3.7661, -4.8169, -4.8164, -4.8171, -4.817, -2.4726, -3.9475, -4.4371, -4.8168, -4.8179, -4.8168, -4.8577, -5.436, -5.4367, -4.4372, -5.4358, -5.436, -5.4362, -3.3826, -3.7706, -4.4374, -3.6307, -4.817, -4.4372, -4.4192, -4.4387, -4.816, -4.8167, -4.8169, -3.1259, -3.4068, -3.4067, -4.4526, -4.4526, -4.4526, -4.4527, -3.7993, -4.4526, -4.4523, -4.4525, -3.7988, -4.501, -3.6202, -3.7975, -5.0714, -4.0727, -5.0714, -5.0714, -5.0715, -5.0715, -5.0717, -5.0719, -5.0716, -5.0717, -5.071, -5.0713, -5.0716, -5.0716, -5.0716, -4.452, -4.4522, -4.4527, -4.4516, -4.4527, -4.5063, -4.4536, -4.4968, -4.0729, -4.4521, -4.0723, -4.0492, -4.4284, -4.9991, -4.9917, -2.2644, -4.0649, -4.0655, -4.4444, -4.4444, -4.4444, -4.4444, -4.4448, -4.4448, -4.4444, -4.4444, -4.4439, -4.0646, -4.0645, -4.1382, -4.0645, -2.7798, -4.4441, -3.575, -5.0637, -5.0627, -5.0634, -5.0634, -5.0634, -5.0635, -5.0633, -5.0633, -5.0634, -5.0634, -5.0636, -4.3158, -4.4436, -4.6163, -4.0645, -4.4441, -4.4442, -4.4438, -3.7754, -4.955, -4.9773, -5.0622]}, \"token.table\": {\"Topic\": [4, 6, 2, 3, 1, 2, 3, 4, 3, 6, 2, 2, 4, 1, 3, 4, 1, 1, 2, 6, 1, 3, 6, 1, 3, 4, 5, 4, 4, 5, 5, 1, 4, 6, 6, 1, 6, 1, 2, 3, 4, 6, 1, 1, 2, 1, 6, 3, 4, 5, 3, 4, 1, 2, 1, 5, 3, 5, 2, 6, 1, 5, 2, 3, 1, 3, 4, 6, 5, 4, 3, 4, 2, 3, 4, 5, 6, 6, 1, 3, 5, 1, 4, 1, 1, 3, 3, 3, 6, 2, 4, 6, 1, 1, 2, 3, 4, 5, 6, 2, 1, 5, 6, 1, 2, 3, 2, 2, 3, 2, 3, 5, 3, 4, 5, 1, 5, 1, 6, 3, 5, 3, 5, 1, 2, 4, 1, 2, 4, 1, 2, 3, 2, 1, 6, 1, 2, 3, 6, 1, 2, 2, 5, 6, 3, 4, 5, 1, 6, 1, 2, 3, 6, 2, 3, 4, 2, 4, 6, 6, 2, 2, 5, 6, 1, 2, 3, 4, 1, 2, 3, 4, 1, 2, 3, 3, 1, 2, 3, 1, 4, 1, 2, 1, 3, 4, 6, 1, 3, 6, 1, 2, 3, 4, 5, 6, 4, 4, 4, 5, 1, 2, 4, 3, 5, 3, 5, 6, 2, 1, 3, 4, 6, 3, 5, 5, 6, 3, 2, 5, 1, 5, 4, 5, 6, 6, 4, 1, 1, 2, 3, 6, 2, 3, 5, 6, 3, 6, 1, 4, 2, 5, 6, 4, 6, 1, 4, 5, 1, 4, 3, 3, 3, 1, 2, 3, 4, 5, 2, 2, 4, 2, 3, 4, 2, 4, 6, 1, 4, 6, 1, 4, 5, 6, 3, 3, 2, 4, 5, 6, 1, 6, 1, 4, 4, 5, 1, 3, 1, 2, 4, 5, 3, 1, 2, 3, 4, 5, 1, 2, 4, 6, 1, 5, 4, 5, 2, 3, 4, 2, 2, 3, 4, 6, 4, 1, 5, 1, 5, 4, 5, 1, 2, 3, 4, 6, 4, 5, 1, 3, 2, 4, 5, 2, 3, 5, 2, 2, 4, 5, 6, 1, 2, 1, 5, 1, 4, 2, 1, 2, 3, 4, 5, 2, 3, 1, 3, 1, 1, 3, 2, 4, 5, 1, 2, 4, 5, 1, 2, 3, 5, 1, 2, 3, 4, 5, 2, 3, 6, 1, 3, 4, 5, 2, 1, 5, 6, 6, 1, 3, 4, 5, 4, 1, 4, 2, 3, 4, 1, 6, 2, 6, 3, 6, 1, 3, 5, 1, 2, 4, 1, 1, 3, 1, 3, 1, 2, 3, 4, 5, 6, 1, 2, 3, 1, 2, 3, 4, 5, 3, 1, 2, 3, 6, 6, 2, 3, 4, 1, 2, 3, 4, 5, 6, 1, 6, 5], \"Freq\": [0.4266036835479441, 0.4266036835479441, 0.6036238575981996, 0.3018119287990998, 0.2020196119994475, 0.404039223998895, 0.2020196119994475, 0.2020196119994475, 0.4248289572561652, 0.4248289572561652, 0.801043365889133, 0.6054041054374413, 0.30270205271872064, 0.24567296344149336, 0.4913459268829867, 0.24567296344149336, 0.8128697648919367, 0.6789269956517148, 0.13578539913034296, 0.13578539913034296, 0.4982947649838399, 0.24914738249191995, 0.24914738249191995, 0.20718041808275217, 0.20718041808275217, 0.41436083616550434, 0.20718041808275217, 0.9313529273484566, 0.8283968665059938, 0.865943025417029, 0.926468645126915, 0.8128698122402627, 0.21565624628622299, 0.43131249257244597, 0.8795044516758213, 0.4224349855001753, 0.4224349855001753, 0.4834358002388316, 0.12891621339702175, 0.2256033734447881, 0.09668716004776633, 0.09668716004776633, 0.8128697691182711, 0.8128796676760923, 0.8010375682825187, 0.42243958056069575, 0.42243958056069575, 0.2099592801955404, 0.4199185603910808, 0.4199185603910808, 0.30951660868740416, 0.6190332173748083, 0.300603627334849, 0.601207254669698, 0.41726523112402986, 0.41726523112402986, 0.3166934487631698, 0.6333868975263396, 0.6185389356934331, 0.30926946784671655, 0.41726990531982777, 0.41726990531982777, 0.30471025196236823, 0.6094205039247365, 0.41112462016617346, 0.2740830801107823, 0.13704154005539115, 0.13704154005539115, 0.8573758107767462, 0.7447916439614786, 0.30951526818162206, 0.6190305363632441, 0.17885447198438068, 0.35770894396876135, 0.17885447198438068, 0.17885447198438068, 0.17885447198438068, 0.8795044875761474, 0.2481574120835139, 0.4963148241670278, 0.2481574120835139, 0.4095911697946363, 0.5461215597261817, 0.8128698122402627, 0.12250375102806843, 0.857526257196479, 0.7376667580107786, 0.4248284405839154, 0.4248284405839154, 0.8010559294767037, 0.4265937854276022, 0.4265937854276022, 0.812869814542468, 0.06790423270371126, 0.5432338616296901, 0.06790423270371126, 0.13580846540742253, 0.13580846540742253, 0.06790423270371126, 0.8010617579032361, 0.3677741186734808, 0.3677741186734808, 0.3677741186734808, 0.4047307301630825, 0.20236536508154124, 0.4047307301630825, 0.8010433658456463, 0.30470896431683175, 0.6094179286336635, 0.24704372512533948, 0.49408745025067896, 0.24704372512533948, 0.25042074338274845, 0.5008414867654969, 0.25042074338274845, 0.47211347834544337, 0.47211347834544337, 0.3221713705382908, 0.6443427410765816, 0.31753669985296196, 0.6350733997059239, 0.41959767111035884, 0.41959767111035884, 0.6066556919381321, 0.20221856397937735, 0.20221856397937735, 0.537182433826973, 0.2685912169134865, 0.13429560845674324, 0.3597154900086781, 0.4796206533449041, 0.11990516333622603, 0.8010433788071529, 0.6176419001974671, 0.20588063339915572, 0.20971726769052604, 0.20971726769052604, 0.20971726769052604, 0.4194345353810521, 0.6016363250362133, 0.4010908833574756, 0.25510302194959, 0.25510302194959, 0.25510302194959, 0.3151893054540995, 0.3151893054540995, 0.3151893054540995, 0.4224379914311526, 0.4224379914311526, 0.15429181299673797, 0.15429181299673797, 0.4628754389902139, 0.15429181299673797, 0.687723151012382, 0.1719307877530955, 0.1719307877530955, 0.21361949466994007, 0.21361949466994007, 0.42723898933988014, 0.879482092455082, 0.8010433824645465, 0.5274516924309931, 0.17581723081033104, 0.17581723081033104, 0.20201864652013046, 0.4040372930402609, 0.20201864652013046, 0.20201864652013046, 0.10130671610502169, 0.30392014831506503, 0.40522686442008676, 0.20261343221004338, 0.20034967304501516, 0.6010490191350455, 0.20034967304501516, 0.821770087731321, 0.20162666535831267, 0.40325333071662534, 0.40325333071662534, 0.49091936535543035, 0.49091936535543035, 0.6033342003558367, 0.20111140011861223, 0.4129970766019092, 0.1376656922006364, 0.4129970766019092, 0.1376656922006364, 0.24997681368481714, 0.4999536273696343, 0.24997681368481714, 0.16131013098257466, 0.16131013098257466, 0.21508017464343288, 0.3226202619651493, 0.10754008732171644, 0.05377004366085822, 0.828399684790373, 0.828399684790373, 0.31852077119336747, 0.6370415423867349, 0.34910899999355927, 0.17455449999677963, 0.5236634999903389, 0.41959872866475284, 0.41959872866475284, 0.47350615276154306, 0.3156707685076954, 0.1578353842538477, 0.801043387193832, 0.2754664174381291, 0.41319962615719363, 0.2754664174381291, 0.13773320871906455, 0.31753965022892544, 0.6350793004578509, 0.6519575189173397, 0.21731917297244657, 0.8217738225889384, 0.6987027314291381, 0.34935136571456904, 0.41725584881477507, 0.41725584881477507, 0.4213203307273315, 0.4213203307273315, 0.6643019074562722, 0.8795044516758213, 0.8283968470942292, 0.8080728109328178, 0.17905293443705445, 0.17905293443705445, 0.3581058688741089, 0.3581058688741089, 0.2803028432968702, 0.2803028432968702, 0.2803028432968702, 0.2803028432968702, 0.9229869667460784, 0.9461084594248566, 0.7322209428179406, 0.24407364760598022, 0.7022860713646756, 0.1755715178411689, 0.1755715178411689, 0.6347218035218304, 0.3173609017609152, 0.3708077184482529, 0.49441029126433717, 0.12360257281608429, 0.24685471360344907, 0.7405641408103472, 0.8217700936479511, 0.9229849287608084, 0.821770087731321, 0.20110959349404034, 0.4826630243856968, 0.1206657560964242, 0.1206657560964242, 0.08044383739761614, 0.793508817851635, 0.6055030269720677, 0.30275151348603385, 0.11172360061713413, 0.22344720123426826, 0.5586180030856707, 0.17597079035701035, 0.7038831614280414, 0.8794820645271613, 0.2557117230636227, 0.2557117230636227, 0.5114234461272454, 0.3133015841569931, 0.4699523762354897, 0.15665079207849655, 0.15665079207849655, 0.8217700654732473, 0.8217701297848257, 0.8010434180381236, 0.37103931858134626, 0.18551965929067313, 0.37103931858134626, 0.3221721705822104, 0.6443443411644209, 0.4909092584032347, 0.4909092584032347, 0.4213170667617842, 0.4213170667617842, 0.7304868587677854, 0.2434956195892618, 0.349834531346129, 0.1749172656730645, 0.1749172656730645, 0.1749172656730645, 0.8217700831147516, 0.3091857244115053, 0.15459286220575266, 0.15459286220575266, 0.15459286220575266, 0.3091857244115053, 0.4083095645847479, 0.2722063763898319, 0.13610318819491596, 0.13610318819491596, 0.41726566615967814, 0.41726566615967814, 0.42132132410151085, 0.42132132410151085, 0.2125104089290288, 0.3718932156258004, 0.3718932156258004, 0.8010617578462468, 0.3680632927152975, 0.3680632927152975, 0.1226877642384325, 0.1226877642384325, 0.8283969142557019, 0.6139760046222092, 0.20465866820740308, 0.41727322581626314, 0.41727322581626314, 0.4213201466333563, 0.4213201466333563, 0.05699217138337712, 0.19947259984181992, 0.17097651415013138, 0.5129295424503941, 0.02849608569168856, 0.42132053616411763, 0.42132053616411763, 0.4885801369043588, 0.4885801369043588, 0.8010375682825187, 0.4213186782906377, 0.4213186782906377, 0.5222849895684333, 0.3481899930456222, 0.1740949965228111, 0.801037590040746, 0.801037590040746, 0.8283968425555513, 0.43414786979984316, 0.43414786979984316, 0.8128625637626525, 0.801043376182188, 0.16059974274092698, 0.8029987137046349, 0.6121342274142019, 0.30606711370710094, 0.8010433546365084, 0.21755131115903664, 0.21755131115903664, 0.07251710371967889, 0.3625855185983944, 0.14503420743935777, 0.6036387325670138, 0.3018193662835069, 0.6103185171116955, 0.30515925855584775, 0.812869767012142, 0.812869767012142, 0.8217700712381363, 0.30652729939721773, 0.6130545987944355, 0.8573717379062347, 0.3541620278083284, 0.1770810139041642, 0.1770810139041642, 0.3541620278083284, 0.5789176803492486, 0.10525776006349974, 0.3157732801904992, 0.8573758267140017, 0.12491519240352349, 0.12491519240352349, 0.12491519240352349, 0.12491519240352349, 0.37474557721057045, 0.21389723333218238, 0.21389723333218238, 0.42779446666436477, 0.1122400469613876, 0.561200234806938, 0.2244800939227752, 0.1122400469613876, 0.8010434166856493, 0.23495498708618645, 0.4699099741723729, 0.23495498708618645, 0.6642742163034832, 0.17857202901816202, 0.17857202901816202, 0.35714405803632404, 0.35714405803632404, 0.8283968367145004, 0.612137606095072, 0.306068803047536, 0.24516498419561084, 0.24516498419561084, 0.49032996839122167, 0.4224377374817904, 0.4224377374817904, 0.3203130707155225, 0.640626141431045, 0.42482979729070436, 0.42482979729070436, 0.2085230269971883, 0.4170460539943766, 0.4170460539943766, 0.4367470967679986, 0.4367470967679986, 0.10918677419199965, 0.8128697648919367, 0.30640560138373824, 0.6128112027674765, 0.3064064911386916, 0.6128129822773832, 0.27889904207958227, 0.13944952103979114, 0.13944952103979114, 0.13944952103979114, 0.13944952103979114, 0.27889904207958227, 0.20196753541631907, 0.20196753541631907, 0.40393507083263813, 0.15329727757043957, 0.07664863878521978, 0.45989183271131867, 0.22994591635565934, 0.07664863878521978, 0.922985038695044, 0.21062015437226606, 0.21062015437226606, 0.10531007718613303, 0.4212403087445321, 0.8795044922609153, 0.6538062859378411, 0.21793542864594703, 0.10896771432297352, 0.3427994971678091, 0.0979427134765169, 0.0979427134765169, 0.04897135673825845, 0.04897135673825845, 0.3917708539060676, 0.42243993483984715, 0.42243993483984715, 0.8573758231953656], \"Term\": [\"11\", \"11\", \"academic\", \"academic\", \"activity\", \"activity\", \"activity\", \"activity\", \"add\", \"add\", \"advantage\", \"appreciate\", \"appreciate\", \"attend\", \"attend\", \"attend\", \"attended\", \"attendee\", \"attendee\", \"attendee\", \"away\", \"away\", \"away\", \"best\", \"best\", \"best\", \"best\", \"break\", \"break session\", \"case\", \"case study\", \"circle\", \"come\", \"come\", \"come mind\", \"coming\", \"coming\", \"conference\", \"conference\", \"conference\", \"conference\", \"conference\", \"conference attendee\", \"conference really\", \"conference size\", \"conference workshop\", \"conference workshop\", \"content\", \"content\", \"content\", \"context\", \"context\", \"conversation\", \"conversation\", \"cool\", \"cool\", \"cover\", \"cover\", \"creative\", \"creative\", \"curated\", \"curated\", \"data\", \"data\", \"day\", \"day\", \"day\", \"day\", \"deep\", \"demo\", \"depth\", \"depth\", \"design\", \"design\", \"design\", \"design\", \"design\", \"did\", \"different\", \"different\", \"different\", \"discussion\", \"discussion\", \"discussion circle\", \"don\", \"don\", \"don think\", \"dunno\", \"dunno\", \"engage\", \"engaging\", \"engaging\", \"enjoyable\", \"event\", \"event\", \"event\", \"event\", \"event\", \"event\", \"example\", \"experience\", \"experience\", \"experience\", \"expert\", \"expert\", \"expert\", \"feedback\", \"feel\", \"feel\", \"field\", \"field\", \"field\", \"focused\", \"focused\", \"focused\", \"format\", \"format\", \"fun\", \"fun\", \"game\", \"game\", \"gathering\", \"gathering\", \"good\", \"good\", \"good\", \"great\", \"great\", \"great\", \"group\", \"group\", \"group\", \"group people\", \"ha\", \"ha\", \"handson\", \"handson\", \"handson\", \"handson\", \"having\", \"having\", \"helpful\", \"helpful\", \"helpful\", \"idea\", \"idea\", \"idea\", \"immersion\", \"immersion\", \"important\", \"important\", \"important\", \"important\", \"industry\", \"industry\", \"industry\", \"interactive\", \"interactive\", \"interactive\", \"interactive session\", \"interested\", \"interesting\", \"interesting\", \"interesting\", \"issue\", \"issue\", \"issue\", \"issue\", \"just\", \"just\", \"just\", \"just\", \"know\", \"know\", \"know\", \"kucha\", \"larger\", \"larger\", \"larger\", \"le\", \"le\", \"learn\", \"learn\", \"learning\", \"learning\", \"learning\", \"learning\", \"level\", \"level\", \"level\", \"like\", \"like\", \"like\", \"like\", \"like\", \"like\", \"like poster\", \"like poster session\", \"little\", \"little\", \"long\", \"long\", \"long\", \"lot\", \"lot\", \"love\", \"love\", \"love\", \"lunch\", \"make\", \"make\", \"make\", \"make\", \"material\", \"material\", \"maybe\", \"maybe\", \"mean\", \"meet\", \"meet\", \"meet people\", \"meet people\", \"mentoring\", \"mentoring\", \"method\", \"mind\", \"minute\", \"na\", \"networking\", \"networking\", \"networking\", \"networking\", \"new\", \"new\", \"new\", \"new\", \"nice\", \"nope\", \"note\", \"note\", \"opportunity\", \"opportunity\", \"opportunity\", \"outside\", \"outside\", \"panel\", \"panel\", \"panel\", \"panel discussion\", \"panel discussion\", \"pay\", \"pecha\", \"pecha kucha\", \"people\", \"people\", \"people\", \"people\", \"people\", \"people working\", \"pick\", \"pick\", \"poster\", \"poster\", \"poster\", \"poster session\", \"poster session\", \"powerpoint\", \"practical\", \"practical\", \"practical\", \"practice\", \"practice\", \"practice\", \"practice\", \"present\", \"presentation\", \"price\", \"problem\", \"problem\", \"problem\", \"progress\", \"progress\", \"project\", \"project\", \"provides\", \"provides\", \"quality\", \"quality\", \"question\", \"question\", \"question\", \"question\", \"range\", \"real\", \"real\", \"real\", \"real\", \"real\", \"really\", \"really\", \"really\", \"really\", \"relationship\", \"relationship\", \"remote\", \"remote\", \"research\", \"research\", \"research\", \"research team\", \"researcher\", \"researcher\", \"researcher\", \"researcher\", \"resource\", \"retreat\", \"retreat\", \"room\", \"room\", \"secret\", \"secret\", \"session\", \"session\", \"session\", \"session\", \"session\", \"short\", \"short\", \"single\", \"single\", \"size\", \"skill like\", \"skill like\", \"small\", \"small\", \"small\", \"social\", \"social event\", \"solution\", \"solve\", \"solve\", \"space\", \"studio\", \"study\", \"study\", \"style\", \"style\", \"taking\", \"talk\", \"talk\", \"talk\", \"talk\", \"talk\", \"team\", \"team\", \"technique\", \"technique\", \"ted\", \"ted style\", \"template\", \"term\", \"term\", \"theory\", \"thing\", \"thing\", \"thing\", \"thing\", \"think\", \"think\", \"think\", \"thought\", \"time\", \"time\", \"time\", \"time\", \"time\", \"tool\", \"tool\", \"tool\", \"topic\", \"topic\", \"topic\", \"topic\", \"tour\", \"track\", \"track\", \"track\", \"tutorial\", \"unconference\", \"unconference\", \"unconference\", \"unconference\", \"unconference session\", \"unique\", \"unique\", \"use\", \"use\", \"use\", \"using\", \"using\", \"usually\", \"usually\", \"ux\", \"ux\", \"variety\", \"variety\", \"variety\", \"ve\", \"ve\", \"ve\", \"ve attended\", \"video\", \"video\", \"virtual\", \"virtual\", \"wa\", \"wa\", \"wa\", \"wa\", \"wa\", \"wa\", \"want\", \"want\", \"want\", \"way\", \"way\", \"way\", \"way\", \"way\", \"webinars\", \"work\", \"work\", \"work\", \"work\", \"work progress\", \"working\", \"working\", \"working\", \"workshop\", \"workshop\", \"workshop\", \"workshop\", \"workshop\", \"workshop\", \"workshop conference\", \"workshop conference\", \"xoxo\"]}, \"R\": 30, \"lambda.step\": 0.01, \"plot.opts\": {\"xlab\": \"PC1\", \"ylab\": \"PC2\"}, \"topic.order\": [1, 4, 6, 3, 5, 2]};\n",
       "\n",
       "function LDAvis_load_lib(url, callback){\n",
       "  var s = document.createElement('script');\n",
       "  s.src = url;\n",
       "  s.async = true;\n",
       "  s.onreadystatechange = s.onload = callback;\n",
       "  s.onerror = function(){console.warn(\"failed to load library \" + url);};\n",
       "  document.getElementsByTagName(\"head\")[0].appendChild(s);\n",
       "}\n",
       "\n",
       "if(typeof(LDAvis) !== \"undefined\"){\n",
       "   // already loaded: just create the visualization\n",
       "   !function(LDAvis){\n",
       "       new LDAvis(\"#\" + \"ldavis_el319141122855772889078521592\", ldavis_el319141122855772889078521592_data);\n",
       "   }(LDAvis);\n",
       "}else if(typeof define === \"function\" && define.amd){\n",
       "   // require.js is available: use it to load d3/LDAvis\n",
       "   require.config({paths: {d3: \"https://cdnjs.cloudflare.com/ajax/libs/d3/3.5.5/d3.min\"}});\n",
       "   require([\"d3\"], function(d3){\n",
       "      window.d3 = d3;\n",
       "      LDAvis_load_lib(\"https://cdn.rawgit.com/bmabey/pyLDAvis/files/ldavis.v1.0.0.js\", function(){\n",
       "        new LDAvis(\"#\" + \"ldavis_el319141122855772889078521592\", ldavis_el319141122855772889078521592_data);\n",
       "      });\n",
       "    });\n",
       "}else{\n",
       "    // require.js not available: dynamically load d3 & LDAvis\n",
       "    LDAvis_load_lib(\"https://cdnjs.cloudflare.com/ajax/libs/d3/3.5.5/d3.min.js\", function(){\n",
       "         LDAvis_load_lib(\"https://cdn.rawgit.com/bmabey/pyLDAvis/files/ldavis.v1.0.0.js\", function(){\n",
       "                 new LDAvis(\"#\" + \"ldavis_el319141122855772889078521592\", ldavis_el319141122855772889078521592_data);\n",
       "            })\n",
       "         });\n",
       "}\n",
       "</script>"
      ],
      "text/plain": [
       "PreparedData(topic_coordinates=              x         y  topics  cluster       Freq\n",
       "topic                                                \n",
       "0     -0.015635  0.024319       1        1  21.176150\n",
       "3      0.062237  0.053915       2        1  20.176509\n",
       "5      0.073460  0.053092       3        1  18.805326\n",
       "2      0.102731 -0.013472       4        1  17.408723\n",
       "4     -0.037884 -0.185572       5        1  11.481833\n",
       "1     -0.184909  0.067717       6        1  10.951460, topic_info=    Category       Freq        Term      Total  loglift  logprob\n",
       "159  Default  14.000000        nope  14.000000  30.0000  30.0000\n",
       "216  Default  35.000000     session  35.000000  29.0000  29.0000\n",
       "289  Default  20.000000    workshop  20.000000  28.0000  28.0000\n",
       "22   Default   6.000000        case   6.000000  27.0000  27.0000\n",
       "256  Default  19.000000       think  19.000000  26.0000  26.0000\n",
       "..       ...        ...         ...        ...      ...      ...\n",
       "282   Topic6   1.597025          wa   7.171054   0.7098  -4.4438\n",
       "33    Topic6   3.115986  conference  31.027905  -0.0866  -3.7754\n",
       "200   Topic6   0.957918      really   7.347366   0.1744  -4.9550\n",
       "216   Topic6   0.936724     session  35.092539  -1.4117  -4.9773\n",
       "54    Topic6   0.860549      design   5.591138   0.3403  -5.0622\n",
       "\n",
       "[293 rows x 6 columns], token_table=      Topic      Freq                 Term\n",
       "term                                      \n",
       "0         4  0.426604                   11\n",
       "0         6  0.426604                   11\n",
       "1         2  0.603624             academic\n",
       "1         3  0.301812             academic\n",
       "2         1  0.202020             activity\n",
       "...     ...       ...                  ...\n",
       "289       5  0.048971             workshop\n",
       "289       6  0.391771             workshop\n",
       "290       1  0.422440  workshop conference\n",
       "290       6  0.422440  workshop conference\n",
       "293       5  0.857376                 xoxo\n",
       "\n",
       "[447 rows x 3 columns], R=30, lambda_step=0.01, plot_opts={'xlab': 'PC1', 'ylab': 'PC2'}, topic_order=[1, 4, 6, 3, 5, 2])"
      ]
     },
     "execution_count": 114,
     "metadata": {},
     "output_type": "execute_result"
    }
   ],
   "source": [
    "pyLDAvis.sklearn.prepare(lda20, other_conference_types_matrix, other_conference_types_vector)"
   ]
  },
  {
   "cell_type": "markdown",
   "metadata": {},
   "source": [
    "#### Topic groups (4)\n",
    "1. case study\n",
    "2. talk\n",
    "3. poster session\n",
    "4. nope\n",
    "\n",
    "#### Topic groups (6)\n",
    "1. reatreat\n",
    "2. working\n",
    "3. quality\n",
    "4. case study\n",
    "5. panel discussion\n",
    "6. tutorial\n",
    "\n",
    "#### Topic groups (8) - 3 is completely inside 1; 4 and 5 share about 75% of the same area\n",
    "1. working\n",
    "2. case study\n",
    "3. nice\n",
    "4. outside\n",
    "5. variety\n",
    "6. multitrack\n",
    "7. panel\n",
    "8. method"
   ]
  },
  {
   "cell_type": "code",
   "execution_count": null,
   "metadata": {},
   "outputs": [],
   "source": [
    "#topics"
   ]
  },
  {
   "cell_type": "code",
   "execution_count": 90,
   "metadata": {},
   "outputs": [],
   "source": [
    "lda_W20 = lda20.transform(other_conference_types_matrix)"
   ]
  },
  {
   "cell_type": "code",
   "execution_count": 91,
   "metadata": {},
   "outputs": [],
   "source": [
    "top_doc_column20 = datadf.other_conference_types.dropna()"
   ]
  },
  {
   "cell_type": "code",
   "execution_count": 92,
   "metadata": {},
   "outputs": [],
   "source": [
    "word_count_matrix20, count_vect20 = nlp.create_wordcount_matrix(datadf.other_conference_types.dropna(), max_df=0.8, min_df=2, ngram=(1,3))"
   ]
  },
  {
   "cell_type": "code",
   "execution_count": 93,
   "metadata": {},
   "outputs": [
    {
     "data": {
      "text/plain": [
       "LatentDirichletAllocation(batch_size=128, doc_topic_prior=None,\n",
       "                          evaluate_every=-1, learning_decay=0.7,\n",
       "                          learning_method='batch', learning_offset=10.0,\n",
       "                          max_doc_update_iter=100, max_iter=10,\n",
       "                          mean_change_tol=0.001, n_components=5, n_jobs=None,\n",
       "                          perp_tol=0.1, random_state=42, topic_word_prior=None,\n",
       "                          total_samples=1000000.0, verbose=0)"
      ]
     },
     "execution_count": 93,
     "metadata": {},
     "output_type": "execute_result"
    }
   ],
   "source": [
    "LDA20a = LatentDirichletAllocation(n_components=6, random_state=42)\n",
    "LDA20a.fit(word_count_matrix20)"
   ]
  },
  {
   "cell_type": "code",
   "execution_count": 94,
   "metadata": {},
   "outputs": [],
   "source": [
    "lda_H = LDA20a.transform(word_count_matrix20)"
   ]
  },
  {
   "cell_type": "code",
   "execution_count": 95,
   "metadata": {},
   "outputs": [
    {
     "name": "stdout",
     "output_type": "stream",
     "text": [
      "Top 3 Documents for Topic 0: \n",
      "\n",
      "Document 1\n",
      "i am there to learn efficiently not socialize so the thing you didn't mention is the availability of course note at least the speakers' slide that i can study before and after the talk i have also been at conference that have a knowledgeable discussant associated with each 1hour talk the discussant ha studied the work before and asks pointed question about pro and con relationship to other technique point of failure etc when the speaker know this is coming you are le likely to get just a canned talk and you really get to the meat of the issue\n",
      "\n",
      "Document 2\n",
      "to make a conference really be incredible making something that they take away is critical cocreation is a good way to crystalize learning and having a physical artifact to take away and help you remember what you learned is great now that i wrote that i think it might be pretty cool to do a handson session on sketchnoting at the beginning of the conference so people who haven't ever done it before will learn how and then people can practice using sketchnoting during the conference which creates an artifact to remind them later then people can share note and it give everyone a common nonwork networking conversation prompt\n",
      "\n",
      "Document 3\n",
      "it would be fun to meet up with people who are in similar domain experience level or with similar interest i'm not a fan of filter bubble but sometimes it can be exhausting at event to be inundated with question from people who are new to something and want to pick your brain i like how at chi you can also get grouped with people to lunch with and you virtually meet them in advance le intimidating for introvert it could be interesting to do working studio session like you could bring a project that you've been meaning to work on but never get to and then buddy up with a small group of people who are working on something similar then your goal would be by the end of the session to make some progress during that time and shareget feedback on it taking advantage of the location and somehow incorporating it into the conference for example if it were in seattle it would be interesting to tour the space needle and learn about howwhat their research team ha been up to i have always been interested in the retreat format but price ha always been a barrier i can't afford 4000 travel cost is there a way to do retreat that don't cost a bundle i can appreciate that a an organizer a retreat is probably a logistical nightmare\n",
      "\n",
      "Top 3 Documents for Topic 1: \n",
      "\n",
      "Document 1\n",
      "maybe this is a workshop but anything where we can get our hand dirty in a new skill i also like inspirational event like curated exhibit that are freeform\n",
      "\n",
      "Document 2\n",
      "i like the variety of conference session i also have enjoyed poster and pecha kucha i think the session type should fit the topic\n",
      "\n",
      "Document 3\n",
      "workshop in their original definition where participant brought their own problem and worked through them together with help from a facilitator not modern workshop that are tutorial rather than workshop i deeply crave and so doe the list about indepth problemsolving interactive session everything else is so not important for where i am in my career ux leadership level\n",
      "\n",
      "Top 3 Documents for Topic 2: \n",
      "\n",
      "Document 1\n",
      "i find most workshop at conference to be chaotic and mundane and i come to conference usually to escape work workshop usually make you do work i'd rather experience something interactive and engaging and fun that isn't really work\n",
      "\n",
      "Document 2\n",
      "all session are tactical have full hand on research project session where you practice what you learned on a real project or mock interview session to hone interview skill i would like it to be a research textbook lab session come to life practical and tactical\n",
      "\n",
      "Document 3\n",
      "i enjoy fresh approach if the organizer decided to design the event in context and succeed in creating unique engagement then i'm happy a little delight go a long way it's a branding thing too if the hotel conference find a way to use your door key to test open a giveaway box that show me they are thinking outside the box that could support a feeling that their content is leading edge too\n",
      "\n",
      "Top 3 Documents for Topic 3: \n",
      "\n",
      "Document 1\n",
      "fullerlength talk 30 minute is not a full talk 60 rarely provides much depth unless the domain is focused workshop often include activity just for the sake of keeping people engaged i'd eagerly attend a 24 hour talk with a break if the speaker wa engaging and the topic were good\n",
      "\n",
      "Document 2\n",
      "i think that networking is important but often unsuccessful because people have different level of skill andor comfort for it i would love to see networking session that are facilitatedguided and use alternative approach role play game speed dating drawing etc for bringing people together around relevant topic\n",
      "\n",
      "Document 3\n",
      "having a mixture of people working in academia and in industry should be more of a focus in conference i think sigchi doe a pretty good job at this i feel like there is a divide between user researcher working in industry and hci and ucd people in academia from the conversation i've been having with practitioner in both field there is a tendency to 'look down' on each other i find people who work in academic setting find people working in industry taking a bit of a 'fast and loose' approach to research on the other hand i find people working in industry see people working in academic background to work in an overly philosophicalivory towerslow way in term of their research approch i think there is a real opportunity to bridge the gap between the two there's a ton the two could learn from each other\n",
      "\n",
      "Top 3 Documents for Topic 4: \n",
      "\n",
      "Document 1\n",
      "nah more interactivity is better more learning more handson practice with tool all those are welcome maybe there are track for that like this is the tool track the bootcamp track for method i dunno\n",
      "\n",
      "Document 2\n",
      "i'd like to see more interdisciplinary event bring researcher from different field together not just ux the echo chamber is deafening i'd love to sit at a table with an archeologist a data scientist a machine learning expert natural history researcher cognitive scientist ethnographer hci researcher etc etc combination of academic and industry folk etc\n",
      "\n",
      "Document 3\n",
      "it's not so much about the format for me a the content i thought the ia summit and xoxo and eyeo had the best program idea and mix in my own experience eyeo wa dual track smallish focused lot of time to meet people a wide variety of speaker and interesting talk\n",
      "\n"
     ]
    }
   ],
   "source": [
    "nlp.find_top_documents_per_topic(lda_H, top_doc_column20, 3)"
   ]
  },
  {
   "cell_type": "markdown",
   "metadata": {},
   "source": [
    "## 21. Subjects you most want to see covered at a research conference"
   ]
  },
  {
   "cell_type": "code",
   "execution_count": 115,
   "metadata": {},
   "outputs": [],
   "source": [
    "ideal_topics = datadf.ideal_topics.fillna('nan').apply(nlp.basic_clean)\n",
    "ideal_topics = ideal_topics.apply(nlp.lemmatize)"
   ]
  },
  {
   "cell_type": "code",
   "execution_count": 116,
   "metadata": {},
   "outputs": [
    {
     "data": {
      "text/plain": [
       "(<726x1123 sparse matrix of type '<class 'numpy.int64'>'\n",
       " \twith 6020 stored elements in Compressed Sparse Row format>,\n",
       " CountVectorizer(analyzer='word', binary=False, decode_error='strict',\n",
       "                 dtype=<class 'numpy.int64'>, encoding='utf-8', input='content',\n",
       "                 lowercase=True, max_df=0.3, max_features=None, min_df=2,\n",
       "                 ngram_range=(1, 3), preprocessor=None, stop_words='english',\n",
       "                 strip_accents=None, token_pattern='(?u)\\\\b\\\\w\\\\w+\\\\b',\n",
       "                 tokenizer=None, vocabulary=None))"
      ]
     },
     "execution_count": 116,
     "metadata": {},
     "output_type": "execute_result"
    }
   ],
   "source": [
    "ideal_topics_matrix, ideal_topics_vector = nlp.create_wordcount_matrix(ideal_topics, ngram=(1,3), max_df=.3)\n",
    "ideal_topics_matrix, ideal_topics_vector"
   ]
  },
  {
   "cell_type": "code",
   "execution_count": 117,
   "metadata": {},
   "outputs": [],
   "source": [
    "lda21 = LatentDirichletAllocation(n_components= 4, random_state = 42)"
   ]
  },
  {
   "cell_type": "code",
   "execution_count": 118,
   "metadata": {},
   "outputs": [
    {
     "data": {
      "text/plain": [
       "LatentDirichletAllocation(batch_size=128, doc_topic_prior=None,\n",
       "                          evaluate_every=-1, learning_decay=0.7,\n",
       "                          learning_method='batch', learning_offset=10.0,\n",
       "                          max_doc_update_iter=100, max_iter=10,\n",
       "                          mean_change_tol=0.001, n_components=4, n_jobs=None,\n",
       "                          perp_tol=0.1, random_state=42, topic_word_prior=None,\n",
       "                          total_samples=1000000.0, verbose=0)"
      ]
     },
     "execution_count": 118,
     "metadata": {},
     "output_type": "execute_result"
    }
   ],
   "source": [
    "lda21.fit(ideal_topics_matrix)"
   ]
  },
  {
   "cell_type": "code",
   "execution_count": 389,
   "metadata": {},
   "outputs": [
    {
     "data": {
      "text/html": [
       "\n",
       "<link rel=\"stylesheet\" type=\"text/css\" href=\"https://cdn.rawgit.com/bmabey/pyLDAvis/files/ldavis.v1.0.0.css\">\n",
       "\n",
       "\n",
       "<div id=\"ldavis_el2761750057004561893319763\"></div>\n",
       "<script type=\"text/javascript\">\n",
       "\n",
       "var ldavis_el2761750057004561893319763_data = {\"mdsDat\": {\"x\": [0.14943505579505556, -0.06358830749445836, -0.030393284116894383, -0.055453464183702644], \"y\": [0.004902128685700727, -0.062168532804281536, -0.060259789050006465, 0.11752619316858727], \"topics\": [1, 2, 3, 4], \"cluster\": [1, 1, 1, 1], \"Freq\": [28.179037655243704, 25.64158702461184, 24.99732813668481, 21.182047183459638]}, \"tinfo\": {\"Category\": [\"Default\", \"Default\", \"Default\", \"Default\", \"Default\", \"Default\", \"Default\", \"Default\", \"Default\", \"Default\", \"Default\", \"Default\", \"Default\", \"Default\", \"Default\", \"Default\", \"Default\", \"Default\", \"Default\", \"Default\", \"Default\", \"Default\", \"Default\", \"Default\", \"Default\", \"Default\", \"Default\", \"Default\", \"Default\", \"Default\", \"Topic1\", \"Topic1\", \"Topic1\", \"Topic1\", \"Topic1\", \"Topic1\", \"Topic1\", \"Topic1\", \"Topic1\", \"Topic1\", \"Topic1\", \"Topic1\", \"Topic1\", \"Topic1\", \"Topic1\", \"Topic1\", \"Topic1\", \"Topic1\", \"Topic1\", \"Topic1\", \"Topic1\", \"Topic1\", \"Topic1\", \"Topic1\", \"Topic1\", \"Topic1\", \"Topic1\", \"Topic1\", \"Topic1\", \"Topic1\", \"Topic1\", \"Topic1\", \"Topic1\", \"Topic1\", \"Topic1\", \"Topic1\", \"Topic1\", \"Topic1\", \"Topic1\", \"Topic1\", \"Topic1\", \"Topic1\", \"Topic1\", \"Topic1\", \"Topic1\", \"Topic1\", \"Topic1\", \"Topic1\", \"Topic1\", \"Topic1\", \"Topic1\", \"Topic1\", \"Topic1\", \"Topic1\", \"Topic1\", \"Topic1\", \"Topic1\", \"Topic1\", \"Topic1\", \"Topic1\", \"Topic1\", \"Topic1\", \"Topic1\", \"Topic1\", \"Topic1\", \"Topic1\", \"Topic2\", \"Topic2\", \"Topic2\", \"Topic2\", \"Topic2\", \"Topic2\", \"Topic2\", \"Topic2\", \"Topic2\", \"Topic2\", \"Topic2\", \"Topic2\", \"Topic2\", \"Topic2\", \"Topic2\", \"Topic2\", \"Topic2\", \"Topic2\", \"Topic2\", \"Topic2\", \"Topic2\", \"Topic2\", \"Topic2\", \"Topic2\", \"Topic2\", \"Topic2\", \"Topic2\", \"Topic2\", \"Topic2\", \"Topic2\", \"Topic2\", \"Topic2\", \"Topic2\", \"Topic2\", \"Topic2\", \"Topic2\", \"Topic2\", \"Topic2\", \"Topic2\", \"Topic2\", \"Topic2\", \"Topic2\", \"Topic2\", \"Topic2\", \"Topic2\", \"Topic2\", \"Topic2\", \"Topic2\", \"Topic2\", \"Topic2\", \"Topic2\", \"Topic2\", \"Topic2\", \"Topic2\", \"Topic2\", \"Topic2\", \"Topic2\", \"Topic2\", \"Topic2\", \"Topic2\", \"Topic2\", \"Topic2\", \"Topic2\", \"Topic3\", \"Topic3\", \"Topic3\", \"Topic3\", \"Topic3\", \"Topic3\", \"Topic3\", \"Topic3\", \"Topic3\", \"Topic3\", \"Topic3\", \"Topic3\", \"Topic3\", \"Topic3\", \"Topic3\", \"Topic3\", \"Topic3\", \"Topic3\", \"Topic3\", \"Topic3\", \"Topic3\", \"Topic3\", \"Topic3\", \"Topic3\", \"Topic3\", \"Topic3\", \"Topic3\", \"Topic3\", \"Topic3\", \"Topic3\", \"Topic3\", \"Topic3\", \"Topic3\", \"Topic3\", \"Topic3\", \"Topic3\", \"Topic3\", \"Topic3\", \"Topic3\", \"Topic3\", \"Topic3\", \"Topic3\", \"Topic3\", \"Topic3\", \"Topic3\", \"Topic3\", \"Topic3\", \"Topic3\", \"Topic3\", \"Topic3\", \"Topic3\", \"Topic3\", \"Topic3\", \"Topic3\", \"Topic3\", \"Topic3\", \"Topic3\", \"Topic3\", \"Topic3\", \"Topic3\", \"Topic3\", \"Topic3\", \"Topic3\", \"Topic3\", \"Topic3\", \"Topic3\", \"Topic3\", \"Topic4\", \"Topic4\", \"Topic4\", \"Topic4\", \"Topic4\", \"Topic4\", \"Topic4\", \"Topic4\", \"Topic4\", \"Topic4\", \"Topic4\", \"Topic4\", \"Topic4\", \"Topic4\", \"Topic4\", \"Topic4\", \"Topic4\", \"Topic4\", \"Topic4\", \"Topic4\", \"Topic4\", \"Topic4\", \"Topic4\", \"Topic4\", \"Topic4\", \"Topic4\", \"Topic4\", \"Topic4\", \"Topic4\", \"Topic4\", \"Topic4\", \"Topic4\", \"Topic4\", \"Topic4\", \"Topic4\", \"Topic4\", \"Topic4\", \"Topic4\", \"Topic4\", \"Topic4\", \"Topic4\", \"Topic4\", \"Topic4\", \"Topic4\", \"Topic4\", \"Topic4\", \"Topic4\", \"Topic4\", \"Topic4\", \"Topic4\", \"Topic4\", \"Topic4\", \"Topic4\", \"Topic4\", \"Topic4\", \"Topic4\", \"Topic4\", \"Topic4\", \"Topic4\", \"Topic4\", \"Topic4\", \"Topic4\", \"Topic4\", \"Topic4\", \"Topic4\", \"Topic4\", \"Topic4\"], \"Freq\": [58.0, 51.0, 43.0, 126.0, 28.0, 46.0, 19.0, 20.0, 14.0, 61.0, 14.0, 11.0, 15.0, 12.0, 18.0, 16.0, 22.0, 15.0, 26.0, 14.0, 12.0, 19.0, 10.0, 10.0, 21.0, 9.0, 10.0, 23.0, 25.0, 17.0, 50.56453929477162, 42.837752955940815, 55.25129862159947, 26.437807422532618, 5.36242116845018, 4.516907250074304, 4.516907250074266, 4.514620738914311, 4.5134661191915155, 4.510778492777576, 4.475281800831309, 4.461368519516961, 3.6566800422286545, 3.6550399354425354, 3.6550399354425194, 3.6524937126462507, 3.6495988650256446, 3.6493205017435963, 2.797359692575651, 2.797355823374591, 2.797347752445799, 2.7973438228508294, 2.7973341890176098, 2.797330476956766, 2.797326372053574, 2.797321434611432, 2.7973032647998877, 2.7972861012268475, 2.7972521325849757, 2.796575711061352, 15.308489115266573, 11.150824642320817, 12.543889115458606, 14.069977157396014, 17.974875789007616, 4.52201569009441, 4.529843243382959, 11.319357561735352, 4.493528755282365, 13.997526254450056, 8.939928437789636, 4.366978485488709, 6.653239018326482, 43.34200803927679, 16.954190997215093, 6.470849151309619, 13.50576523501374, 7.634610737768197, 5.71643061976316, 12.899158604247193, 9.339044751619575, 12.669986321252807, 11.514594518171268, 8.543906731455252, 8.514469633947941, 10.87399175184685, 8.534583670858664, 7.795949020615576, 5.589654945481161, 6.470317530242596, 8.190309843449963, 6.784476802544729, 7.672431969771392, 7.637128111549684, 7.422881411117974, 7.085519860728549, 18.877287102571895, 11.242472553318411, 6.152739189123805, 4.453530136382159, 4.453085675763172, 8.738785803279455, 3.6076349857699204, 3.6003132580893493, 3.5990513370590205, 3.596436856217144, 6.976362013699132, 2.7589618127897007, 2.758950943566283, 2.7589473144329255, 2.758942619052871, 2.758649436274645, 2.75805163246499, 2.7572410150837445, 2.7567901208850363, 2.756423169498111, 2.754923869868862, 2.7534185202471746, 2.75248920967001, 2.7524892090049056, 2.752434237572836, 2.748687172170078, 5.313974417464077, 5.303898029738108, 1.9100565237588625, 1.910051162130116, 4.455593329199958, 11.166492713436305, 11.254754214774335, 30.125479097011695, 15.355487550753598, 10.186503323180238, 9.701051644117143, 12.329347618344837, 6.799144525946387, 17.02215996124653, 5.303840173624957, 12.03512806727453, 5.9108890398201375, 4.46393441205727, 4.458200576236745, 14.219460911316732, 10.570427901413705, 11.629119792915315, 8.686528965954672, 12.380708796960786, 7.498492562486637, 8.118972237197564, 9.948416057436113, 10.281365746717125, 11.446381622228175, 10.712756604492288, 8.422972758047054, 11.393230361726795, 9.256653729071637, 10.654546373486765, 14.9354282777072, 10.101610622059182, 9.30748742979535, 6.109562736428424, 18.013660934710582, 12.67108371528083, 4.446793884492268, 4.446793884492268, 4.441265983576247, 3.596593733252324, 12.78629375608197, 2.7527610744985975, 2.752717607094009, 2.752713251673448, 2.752651366392804, 2.7522359037837316, 2.750574191680425, 2.749826334857087, 2.7484812261729723, 2.745902446120062, 7.548735551075731, 2.743627087432889, 2.6906100558296018, 5.292746907451986, 4.44585795619103, 1.905759148928202, 1.905759148928202, 1.9057560816464745, 1.905754128475456, 1.9057527744006846, 1.9057527744006846, 1.9057523362699753, 1.9057521090225413, 6.995343469059348, 9.96389055634253, 6.743018156384481, 4.8691024894270605, 6.594063417445294, 3.599527075059895, 3.6054505066336695, 6.123683796806632, 6.154267715138077, 6.097122688052486, 8.750124302558818, 7.215025555959939, 24.49009714686259, 12.430833868311773, 14.704837878658454, 19.775829400930245, 9.316510315149964, 12.905940748430968, 4.455691670984956, 4.444596229129216, 6.825780189665324, 10.301233771887484, 8.733613440825922, 14.587407118902217, 11.216165219866598, 12.531705620029758, 13.295081560790502, 14.071406815169405, 12.381211845249375, 12.752608333023334, 11.566402503878905, 9.7521588491346, 14.978791561489121, 9.72255538857813, 8.551960160455934, 7.944716128374165, 8.216456538323303, 5.164688007507863, 12.276379793700867, 3.5156131763032743, 7.667295810698631, 2.6884059246043432, 2.6884059246043432, 2.688393725739777, 2.6883207574976185, 2.6869745164277394, 2.6865287588086155, 2.6863656617328244, 2.68627996934528, 2.6848118393864002, 2.6847249940919347, 2.6804520107779686, 2.6800774334557382, 2.6791128333006653, 2.675662840949901, 9.862218325991593, 2.5556503009348166, 2.5556503009348086, 8.13862778608279, 8.13862778608279, 6.8304110178823265, 1.861179861036522, 1.861178343118272, 1.861178343118272, 1.8611775919102418, 1.8611746989677689, 1.8611715995139095, 4.337140396214524, 6.000978270311965, 6.003194651593107, 8.352468969719066, 3.518038457400037, 3.5185630665693113, 12.687644610631484, 53.245652868324974, 8.417527769601199, 7.392381597255607, 10.022700233126999, 8.340564744481828, 21.828668538659315, 4.350216459478865, 11.765330900030726, 6.663045682762273, 5.995217894665089, 4.28131575275588, 3.517819532894013, 3.516331509536027, 3.5111456677593966, 3.509936572140638, 7.909151378962368, 9.332829391655137, 12.03258544852934, 10.079504367745033, 5.995963744901907, 12.209708635001178, 7.807205857204969, 8.3540415641025, 7.746346120109697, 7.7018722081889885, 8.51561483954397, 7.950357073820462, 7.621961737494373, 7.010153829137719, 6.696866969835676], \"Term\": [\"study\", \"case\", \"case study\", \"method\", \"organization\", \"data\", \"finding\", \"ops\", \"new method\", \"new\", \"ai\", \"research finding\", \"research ops\", \"presentation\", \"project\", \"quant\", \"stakeholder\", \"qual\", \"ethic\", \"application\", \"working\", \"practical\", \"mixed method\", \"mixed\", \"strategy\", \"content\", \"buyin\", \"field\", \"methodology\", \"need\", \"case\", \"case study\", \"study\", \"organization\", \"research project\", \"case study research\", \"study research\", \"issue\", \"research organization\", \"selling\", \"organisation\", \"research case\", \"selling research\", \"method case\", \"method case study\", \"research case study\", \"research ethic\", \"promoting\", \"large organization\", \"study best\", \"heard\", \"research approach\", \"advanced research\", \"practical application\", \"advanced method\", \"inhouse research\", \"align\", \"research stuff\", \"participatory\", \"topic case\", \"project\", \"best practice\", \"need\", \"practical\", \"ethic\", \"ethic research\", \"kind\", \"advanced\", \"advice\", \"field\", \"example\", \"advocating research\", \"hear\", \"method\", \"practice\", \"future\", \"best\", \"learning\", \"conference\", \"design\", \"methodology\", \"team\", \"ux\", \"different\", \"research method\", \"analysis\", \"qualitative\", \"want\", \"market\", \"quantitative\", \"user\", \"leadership\", \"people\", \"researcher\", \"way\", \"work\", \"finding\", \"research finding\", \"value research\", \"qual quant\", \"data visualization\", \"buyin\", \"present\", \"fit\", \"usability test\", \"mentoring\", \"role\", \"avoiding bias\", \"research action\", \"creation\", \"bias research\", \"researcher role\", \"convince\", \"worked\", \"research program\", \"everyday\", \"qual research\", \"gdpr\", \"soft skill\", \"soft\", \"qualitative analysis\", \"advance\", \"manager\", \"visualization\", \"ux researcher role\", \"course\", \"ethnography\", \"qual\", \"quant\", \"data\", \"stakeholder\", \"value\", \"bias\", \"management\", \"recruiting\", \"way\", \"apply\", \"impact\", \"research technique\", \"analytics\", \"analyzing\", \"researcher\", \"work\", \"best\", \"ux research\", \"technique\", \"emerging\", \"workshop\", \"qualitative\", \"people\", \"ux\", \"product\", \"skill\", \"team\", \"user\", \"analysis\", \"method\", \"design\", \"new\", \"deep\", \"ops\", \"ai\", \"leading research team\", \"leading research\", \"new technique\", \"new tool\", \"research ops\", \"growing research\", \"listening\", \"usability testing\", \"roi\", \"challenge research\", \"research question\", \"org research\", \"scale\", \"today\", \"leading\", \"research ai\", \"ops research\", \"teach\", \"tech\", \"research infrastructure\", \"infrastructure\", \"skill set\", \"article\", \"consideration\", \"special consideration\", \"latest tool\", \"scaling research practice\", \"world\", \"question\", \"human\", \"failure\", \"testing\", \"research planning\", \"discussion\", \"book\", \"org\", \"creative\", \"good\", \"planning\", \"new\", \"methodology\", \"tool\", \"team\", \"technology\", \"user\", \"change\", \"science\", \"research practice\", \"insight\", \"research team\", \"design\", \"topic\", \"product\", \"ux\", \"data\", \"technique\", \"analysis\", \"practice\", \"approach\", \"method\", \"way\", \"qualitative\", \"make\", \"like\", \"operation\", \"new method\", \"don know\", \"content\", \"know don know\", \"know don\", \"large orgs\", \"like new\", \"look\", \"planning research\", \"new interesting\", \"presented\", \"presentation skill\", \"research working\", \"new research method\", \"research want\", \"research operation\", \"explain\", \"presentation\", \"generative\", \"generative research\", \"mixed method\", \"mixed\", \"know\", \"contact\", \"research agile process\", \"agile process\", \"mixing\", \"sharing insight\", \"method impact\", \"talking\", \"scaling research\", \"academic\", \"working\", \"firm\", \"real life\", \"strategy\", \"method\", \"application\", \"think\", \"business\", \"problem\", \"new\", \"life\", \"like\", \"industry\", \"scaling\", \"interesting\", \"leadership research\", \"difficult\", \"new research\", \"orgs\", \"leadership\", \"research method\", \"researcher\", \"people\", \"career\", \"analysis\", \"want\", \"impact\", \"insight\", \"topic\", \"technique\", \"practice\", \"product\", \"tool\", \"approach\"], \"Total\": [58.0, 51.0, 43.0, 126.0, 28.0, 46.0, 19.0, 20.0, 14.0, 61.0, 14.0, 11.0, 15.0, 12.0, 18.0, 16.0, 22.0, 15.0, 26.0, 14.0, 12.0, 19.0, 10.0, 10.0, 21.0, 9.0, 10.0, 23.0, 25.0, 17.0, 51.62341602859213, 43.877059435150095, 58.47911690432873, 28.368407844391324, 6.009751312169132, 5.149627529686692, 5.149627529686692, 5.149599808472792, 5.14957266747774, 5.149346076519184, 5.148382195763473, 5.1488351996815345, 4.288867484195292, 4.288847155791111, 4.288847155791109, 4.288801280476406, 4.288784856186103, 4.2885804034975035, 3.428183619807883, 3.428183514630092, 3.4281833297483963, 3.4281832323106527, 3.4281829926389302, 3.4281829271596522, 3.4281827978511568, 3.4281827035498993, 3.4281823464220085, 3.4281818260315817, 3.428181030014832, 3.4281710268376484, 18.847826596218376, 14.576849014300247, 17.142459163701687, 19.612895450575756, 26.465442211193412, 5.977054272199944, 5.998726928744726, 17.926358918509635, 5.996272787410473, 23.795733188293543, 14.518700930092784, 5.9964026370284484, 10.265791627385175, 126.5018807467981, 39.89737782151433, 10.26578941735158, 32.36412351051094, 14.470683896875155, 9.355182447862752, 44.11689891204999, 25.476241390727104, 48.39840998166889, 40.758317200252044, 22.10673255530562, 23.632764393072, 46.49085509335813, 27.25765651996972, 22.816169061102716, 9.385461447560344, 14.459990540282526, 30.637210895620335, 17.71239695095045, 30.396659459085072, 37.13432232741373, 38.17640421345128, 25.496480203647163, 19.522290047872392, 11.882062612372046, 6.788466097896071, 5.090654630526843, 5.090601248399222, 10.195455006780001, 4.241684435709855, 4.241514583591367, 4.241662120330899, 4.241694331816591, 8.498459062736067, 3.3927547035203176, 3.392754600757839, 3.392754644029706, 3.392754588812119, 3.392759614289383, 3.3927668615125186, 3.3927791062507606, 3.392749576484776, 3.3927273036423298, 3.3927452871284025, 3.392741252868504, 3.3927847929995236, 3.3927847929984263, 3.3927847064093983, 3.392631065075474, 6.7670189001898, 6.800250608185167, 2.5438272729234397, 2.5438272177244468, 5.937394143874434, 15.188929770180474, 16.018294727244026, 46.604795519613134, 22.878199664533685, 15.244557941965928, 15.214211797790862, 20.39699451094963, 11.036153053432887, 38.17640421345128, 8.421272409800281, 27.81759484704817, 10.116595532541911, 6.784771822263939, 6.784657147877202, 37.13432232741373, 25.496480203647163, 32.36412351051094, 20.328785682842152, 38.0152254843234, 16.11013950316437, 18.69971216030892, 27.25765651996972, 30.396659459085072, 40.758317200252044, 36.35074155580641, 21.927390150261246, 48.39840998166889, 30.637210895620335, 46.49085509335813, 126.5018807467981, 44.11689891204999, 61.42284613583137, 6.775604519078462, 20.344612240484473, 14.400734285575068, 5.081063547252673, 5.081063547252673, 5.081123746303406, 4.234067908531765, 15.26226267596125, 3.387027013424634, 3.38702690907936, 3.387026868791574, 3.3870267415350517, 3.3870357202821464, 3.38706254802709, 3.3869579770159395, 3.3870366454501126, 3.3871375457230197, 9.318892476184512, 3.3870466186395918, 3.387166888263131, 6.755390796876285, 5.908430715510034, 2.5400087734456545, 2.5400087734456545, 2.5400087892797085, 2.5400087572613765, 2.540008744740589, 2.540008744740589, 2.5400087646129803, 2.5400086912928526, 9.33169506285929, 13.53683942035134, 9.333043441794443, 6.7461181593413295, 9.320860650859148, 5.0612478287137765, 5.082660614581103, 9.256818309103458, 9.3337739416078, 9.357987983649052, 14.434863727654717, 11.763703743386046, 61.42284613583137, 25.476241390727104, 32.0870740035019, 48.39840998166889, 18.586258737426583, 30.637210895620335, 6.768892738117307, 6.778929511318044, 12.697423986857128, 23.55922665464214, 18.66922476437372, 44.11689891204999, 28.73028901890538, 36.35074155580641, 40.758317200252044, 46.604795519613134, 38.0152254843234, 46.49085509335813, 39.89737782151433, 27.910901341752783, 126.5018807467981, 38.17640421345128, 27.25765651996972, 21.213821436186002, 28.60387156411212, 5.809423626506018, 14.109323761326632, 4.154797191757603, 9.150863019156555, 3.3275911071478026, 3.3275911071478026, 3.327591460251532, 3.3275936420938805, 3.327628865832187, 3.3276503792678858, 3.327673557346248, 3.327676939833016, 3.3277362105376587, 3.3276880079048263, 3.3277820083626213, 3.3279269356247756, 3.3279668088575525, 3.3279537391779312, 12.477469039696725, 3.3312171888971274, 3.331217188897128, 10.824831369391898, 10.824831369391898, 9.157577950165322, 2.5003855842448126, 2.50038562215773, 2.50038562215773, 2.5003856645968368, 2.500385734088236, 2.500385821823488, 5.831244398487707, 8.33036295202477, 8.33411161971771, 12.509149235255908, 5.001757735276147, 5.003647518853088, 21.760061760391967, 126.5018807467981, 14.284892166902821, 12.538025251959613, 20.122136449311714, 15.9470548277149, 61.42284613583137, 6.691423455986067, 28.60387156411212, 12.572161814426487, 10.871570253616603, 6.694548005841251, 5.003671035257762, 5.001834797608252, 5.003829509127266, 5.003875972316955, 17.71239695095045, 23.632764393072, 37.13432232741373, 30.396659459085072, 12.613922819784126, 46.49085509335813, 22.816169061102716, 27.81759484704817, 23.55922665464214, 28.73028901890538, 38.0152254843234, 39.89737782151433, 36.35074155580641, 32.0870740035019, 27.910901341752783], \"loglift\": [30.0, 29.0, 28.0, 27.0, 26.0, 25.0, 24.0, 23.0, 22.0, 21.0, 20.0, 19.0, 18.0, 17.0, 16.0, 15.0, 14.0, 13.0, 12.0, 11.0, 10.0, 9.0, 8.0, 7.0, 6.0, 5.0, 4.0, 3.0, 2.0, 1.0, 1.2459, 1.2426, 1.2098, 1.1961, 1.1526, 1.1355, 1.1355, 1.135, 1.1347, 1.1342, 1.1265, 1.1233, 1.1071, 1.1067, 1.1067, 1.106, 1.1052, 1.1052, 1.0632, 1.0632, 1.0632, 1.0632, 1.0632, 1.0632, 1.0632, 1.0632, 1.0632, 1.0632, 1.0632, 1.063, 1.0586, 0.9987, 0.9543, 0.9344, 0.8797, 0.9876, 0.9857, 0.8068, 0.9781, 0.736, 0.7817, 0.9495, 0.8329, 0.1955, 0.4108, 0.8051, 0.3927, 0.6272, 0.774, 0.0369, 0.263, -0.0736, 0.0025, 0.3159, 0.2457, -0.1863, 0.1054, 0.1927, 0.7483, 0.4624, -0.0527, 0.307, -0.1101, -0.3149, -0.3711, -0.0139, 1.3274, 1.3056, 1.2626, 1.2272, 1.2272, 1.2068, 1.199, 1.1971, 1.1967, 1.1959, 1.1636, 1.1542, 1.1542, 1.1542, 1.1542, 1.1541, 1.1538, 1.1535, 1.1534, 1.1533, 1.1527, 1.1522, 1.1518, 1.1518, 1.1518, 1.1505, 1.1192, 1.1124, 1.0744, 1.0744, 1.0738, 1.0533, 1.008, 0.9246, 0.9622, 0.9578, 0.911, 0.8575, 0.8766, 0.5533, 0.8986, 0.5231, 0.8236, 0.9423, 0.941, 0.401, 0.4805, 0.3374, 0.5107, 0.2391, 0.5962, 0.5267, 0.353, 0.277, 0.091, 0.1392, 0.4042, -0.0855, 0.1641, -0.1123, -0.7756, -0.1132, -0.526, 1.2829, 1.2647, 1.2584, 1.2531, 1.2531, 1.2518, 1.2232, 1.2094, 1.1791, 1.179, 1.179, 1.179, 1.1789, 1.1782, 1.178, 1.1775, 1.1765, 1.1757, 1.1757, 1.1562, 1.1424, 1.102, 1.0991, 1.0991, 1.0991, 1.0991, 1.0991, 1.0991, 1.0991, 1.0991, 1.0982, 1.08, 1.0613, 1.0603, 1.0403, 1.0456, 1.043, 0.9732, 0.9699, 0.958, 0.8858, 0.8975, 0.4669, 0.6688, 0.6061, 0.4914, 0.6958, 0.5219, 0.9682, 0.9643, 0.7657, 0.5591, 0.6267, 0.2797, 0.4458, 0.3214, 0.2661, 0.1888, 0.2646, 0.0929, 0.1482, 0.3349, -0.7472, 0.0186, 0.2272, 0.4043, 0.139, 1.4344, 1.4129, 1.385, 1.3751, 1.3387, 1.3387, 1.3387, 1.3387, 1.3382, 1.338, 1.3379, 1.3379, 1.3373, 1.3373, 1.3357, 1.3355, 1.3351, 1.3339, 1.3168, 1.287, 1.287, 1.2668, 1.2668, 1.2588, 1.2568, 1.2568, 1.2568, 1.2568, 1.2568, 1.2568, 1.256, 1.224, 1.224, 1.1481, 1.2001, 1.1999, 1.0126, 0.6867, 1.0231, 1.0237, 0.855, 0.9039, 0.5175, 1.1214, 0.6636, 0.9171, 0.9568, 1.105, 1.1997, 1.1996, 1.1978, 1.1974, 0.7458, 0.6229, 0.4251, 0.4482, 0.8083, 0.215, 0.4796, 0.3491, 0.4397, 0.2355, 0.0559, -0.0611, -0.0102, 0.0309, 0.1246], \"logprob\": [30.0, 29.0, 28.0, 27.0, 26.0, 25.0, 24.0, 23.0, 22.0, 21.0, 20.0, 19.0, 18.0, 17.0, 16.0, 15.0, 14.0, 13.0, 12.0, 11.0, 10.0, 9.0, 8.0, 7.0, 6.0, 5.0, 4.0, 3.0, 2.0, 1.0, -3.5444, -3.7102, -3.4558, -4.1929, -5.7882, -5.9598, -5.9598, -5.9603, -5.9606, -5.9612, -5.9691, -5.9722, -6.1711, -6.1715, -6.1715, -6.1722, -6.173, -6.1731, -6.439, -6.439, -6.439, -6.439, -6.439, -6.439, -6.439, -6.439, -6.439, -6.439, -6.439, -6.4393, -4.7392, -5.0561, -4.9384, -4.8236, -4.5787, -5.9587, -5.957, -5.0411, -5.965, -4.8288, -5.2771, -5.9936, -5.5725, -3.6985, -4.6371, -5.6003, -4.8645, -5.435, -5.7243, -4.9105, -5.2334, -4.9284, -5.024, -5.3224, -5.3259, -5.0813, -5.3235, -5.414, -5.7467, -5.6004, -5.3647, -5.553, -5.43, -5.4346, -5.4631, -5.5096, -4.4353, -4.9536, -5.5564, -5.8796, -5.8797, -5.2055, -6.0902, -6.0923, -6.0926, -6.0933, -5.4308, -6.3584, -6.3584, -6.3584, -6.3584, -6.3585, -6.3588, -6.3591, -6.3592, -6.3593, -6.3599, -6.3604, -6.3608, -6.3608, -6.3608, -6.3622, -5.7029, -5.7048, -6.7262, -6.7262, -5.8791, -4.9604, -4.9525, -3.9679, -4.6418, -5.0522, -5.101, -4.8613, -5.4565, -4.5388, -5.7049, -4.8855, -5.5965, -5.8773, -5.8785, -4.7187, -5.0152, -4.9198, -5.2115, -4.8571, -5.3586, -5.2791, -5.0759, -5.043, -4.9356, -5.0018, -5.2423, -4.9403, -5.1479, -5.0073, -4.6695, -5.0606, -5.1425, -5.538, -4.4567, -4.8085, -5.8557, -5.8557, -5.8569, -6.0678, -4.7995, -6.3352, -6.3352, -6.3352, -6.3353, -6.3354, -6.336, -6.3363, -6.3368, -6.3377, -5.3265, -6.3386, -6.3581, -5.6815, -5.8559, -6.703, -6.703, -6.703, -6.703, -6.703, -6.703, -6.703, -6.703, -5.4026, -5.0489, -5.4393, -5.7649, -5.4617, -6.067, -6.0654, -5.5357, -5.5307, -5.54, -5.1788, -5.3717, -4.1496, -4.8277, -4.6597, -4.3634, -5.116, -4.7901, -5.8537, -5.8561, -5.4271, -5.0156, -5.1807, -4.6677, -4.9305, -4.8196, -4.7604, -4.7037, -4.8317, -4.8021, -4.8997, -5.0703, -4.6412, -5.0734, -5.2017, -5.2753, -5.2417, -5.5404, -4.6745, -5.925, -5.1453, -6.1933, -6.1933, -6.1933, -6.1933, -6.1938, -6.194, -6.194, -6.1941, -6.1946, -6.1946, -6.1962, -6.1964, -6.1967, -6.198, -4.8935, -6.2439, -6.2439, -5.0856, -5.0856, -5.2608, -6.561, -6.561, -6.561, -6.561, -6.561, -6.561, -5.715, -5.3903, -5.3899, -5.0597, -5.9243, -5.9242, -4.6416, -3.2073, -5.0519, -5.1818, -4.8774, -5.0611, -4.099, -5.712, -4.7171, -5.2856, -5.3913, -5.728, -5.9244, -5.9248, -5.9263, -5.9266, -5.1142, -4.9487, -4.6946, -4.8717, -5.3911, -4.68, -5.1272, -5.0595, -5.135, -5.1408, -5.0403, -5.109, -5.1512, -5.2349, -5.2806]}, \"token.table\": {\"Topic\": [2, 4, 2, 1, 2, 3, 4, 1, 1, 1, 3, 1, 2, 4, 2, 3, 1, 1, 2, 3, 4, 2, 3, 2, 3, 1, 4, 2, 4, 1, 2, 3, 4, 3, 2, 1, 2, 3, 4, 1, 2, 3, 1, 2, 3, 4, 2, 3, 4, 1, 2, 3, 4, 1, 2, 1, 2, 4, 1, 2, 1, 2, 1, 3, 1, 3, 4, 1, 3, 4, 3, 4, 1, 4, 2, 2, 2, 1, 3, 2, 3, 4, 2, 3, 1, 2, 3, 4, 1, 2, 3, 4, 3, 4, 2, 3, 4, 1, 2, 3, 4, 1, 3, 4, 1, 4, 2, 3, 2, 1, 2, 3, 4, 4, 3, 4, 1, 2, 4, 2, 3, 4, 2, 1, 2, 3, 2, 4, 4, 1, 3, 4, 3, 1, 3, 1, 1, 2, 3, 1, 2, 3, 4, 1, 2, 3, 4, 3, 1, 1, 2, 3, 4, 1, 3, 4, 1, 1, 2, 3, 4, 4, 4, 1, 4, 3, 1, 2, 4, 2, 4, 2, 3, 3, 3, 1, 2, 3, 4, 1, 2, 4, 1, 2, 3, 4, 4, 3, 4, 1, 2, 3, 4, 1, 2, 3, 4, 2, 4, 1, 2, 3, 4, 2, 1, 2, 3, 4, 1, 1, 4, 1, 3, 4, 2, 4, 2, 4, 4, 1, 2, 3, 1, 2, 3, 4, 4, 3, 4, 2, 4, 4, 3, 3, 4, 1, 2, 3, 3, 1, 2, 3, 3, 1, 1, 3, 2, 4, 1, 1, 2, 3, 4, 3, 4, 4, 1, 2, 4, 1, 1, 2, 3, 4, 2, 2, 4, 4, 4, 1, 2, 3, 4, 1, 2, 3, 4, 1, 2, 4, 1, 2, 4, 2, 2, 1, 2, 3, 2, 2, 4, 1, 2, 3, 4, 2, 3, 4, 2, 4, 1, 2, 3, 4, 2, 4, 3, 1, 1, 1, 1, 2, 3, 1, 2, 3, 4, 4, 1, 2, 3, 1, 3, 4, 1, 3, 4, 2, 1, 3, 1, 1, 2, 3, 4, 2, 3, 4, 4, 4, 1, 2, 3, 4, 2, 3, 1, 2, 3, 3, 4, 3, 4, 3, 2, 3, 1, 1, 4, 1, 2, 3, 4, 3, 2, 2, 3, 1, 2, 4, 1, 2, 3, 4, 1, 2, 1, 1, 2, 4, 3, 4, 1, 2, 3, 4, 3, 4, 1, 2, 3, 4, 2, 3, 4, 2, 3, 2, 3, 4, 3, 1, 2, 3, 4, 1, 2, 3, 4, 1, 2, 3, 1, 2, 3, 1, 2, 3, 4, 1, 2, 3, 4, 2, 1, 2, 3, 4, 2, 1, 2, 1, 2, 3, 4, 1, 2, 3, 4, 1, 2, 3, 4, 2, 3, 4, 1, 2, 3, 4, 1, 2, 3], \"Freq\": [0.2399775874453363, 0.7199327623360089, 0.8842694482411281, 0.6136215418872423, 0.05578377653520385, 0.16735132960561155, 0.1115675530704077, 0.8750991930419961, 0.8750991433192644, 0.6670810588201116, 0.1667702647050279, 0.6670666134558006, 0.16676665336395016, 0.7998766199407603, 0.06944090351015506, 0.9027317456320157, 0.8750993082766143, 0.23660567175869185, 0.23660567175869185, 0.2796248848057267, 0.25811527828220926, 0.589555567200384, 0.294777783600192, 0.5895655318782804, 0.2947827659391402, 0.35002014307008067, 0.560032228912129, 0.5937345043227951, 0.35624070259367707, 0.2507980632473693, 0.17914147374812095, 0.3582829474962419, 0.2507980632473693, 0.7873988600560531, 0.8842372237778358, 0.4325777583765925, 0.370780935751365, 0.15449205656306875, 0.09269523393784125, 0.7546212483376022, 0.1372038633341095, 0.06860193166705475, 0.06572801886097066, 0.6572801886097065, 0.06572801886097066, 0.19718405658291197, 0.8842372536736789, 0.6481708725015596, 0.3240854362507798, 0.04969651222269718, 0.24848256111348588, 0.14908953666809152, 0.49696512222697176, 0.09808292021640992, 0.8827462819476893, 0.23783243665441597, 0.3171099155392213, 0.47566487330883195, 0.9879237741987696, 0.019371054396054306, 0.9800109796225889, 0.02279095301447881, 0.9709440092853094, 0.8857302513922394, 0.14773465006599276, 0.590938600263971, 0.14773465006599276, 0.641355744095695, 0.10689262401594915, 0.2137852480318983, 0.7873988639374783, 0.7998766320691522, 0.10927931036740304, 0.8742344829392243, 0.8842340551105771, 0.7862169199483126, 0.884237239282586, 0.32058173244524524, 0.6411634648904905, 0.6437105809717547, 0.30039827112015216, 0.04291403873145031, 0.785761799995203, 0.8855298421130472, 0.29467166370683434, 0.22667051054371873, 0.34000576581557806, 0.1586693573806031, 0.407115795040457, 0.22617544168914275, 0.2714105300269713, 0.13570526501348565, 0.19992663501764876, 0.799706540070595, 0.1967473486486992, 0.7869893945947968, 0.9627425396202988, 0.31036354458742554, 0.43450896242239573, 0.062072708917485106, 0.1862181267524553, 0.6801322213458803, 0.1889256170405223, 0.11335537022431337, 0.8365324744089492, 0.16730649488178984, 0.6736962214520945, 0.16842405536302363, 0.8842443649329819, 0.6198901708448157, 0.13775337129884793, 0.13775337129884793, 0.06887668564942397, 0.9014548383539304, 0.7411669766080979, 0.14823339532161958, 0.5883407705582859, 0.12607302226248984, 0.2521460445249797, 0.9732464763820414, 0.19992971529733436, 0.7997188611893374, 0.9430593532495007, 0.5844655248683165, 0.19482184162277214, 0.19482184162277214, 0.8842407293699607, 0.9005717219516437, 0.9005717219516436, 0.2771068764810497, 0.6234904720823617, 0.06927671912026243, 0.8857325282938001, 0.6818762988844131, 0.29223269952189135, 0.8750990572666305, 0.1071461850827657, 0.1071461850827657, 0.7500232955793599, 0.07189694188145197, 0.4313816512887118, 0.17974235470362993, 0.2875877675258079, 0.07954081523612792, 0.23862244570838378, 0.15908163047225585, 0.5567857066528955, 0.7873988550389516, 0.8750992171139205, 0.042446215007781625, 0.1697848600311265, 0.42446215007781624, 0.339569720062253, 0.1493752825623868, 0.1493752825623868, 0.5975011302495472, 0.9709492360500226, 0.8335101863098615, 0.1667020372619723, 0.21839835935700594, 0.7643942577495209, 0.901553076505066, 0.901553076505066, 0.875098983224277, 0.901552980837747, 0.7873988577770671, 0.3952034283888595, 0.16937289788093982, 0.45166106101583947, 0.19985326632259018, 0.7994130652903607, 0.10730888917922528, 0.8584711134338022, 0.7872367591550389, 0.7872367591550389, 0.5528418737505243, 0.13821046843763107, 0.20731570265644664, 0.13821046843763107, 0.1494450331200325, 0.1494450331200325, 0.59778013248013, 0.17480151205381778, 0.13984120964305422, 0.27968241928610843, 0.4195236289291627, 0.9015523897059309, 0.8857325555808593, 0.9015428465607289, 0.2356953939223381, 0.28283447270680573, 0.37711263027574093, 0.09427815756893523, 0.1961073234516339, 0.5883219703549017, 0.09805366172581695, 0.049026830862908474, 0.7388777944538859, 0.14777555889077718, 0.6392866278897389, 0.21309554262991298, 0.10654777131495649, 0.10654777131495649, 0.9430193896802836, 0.3399158948954075, 0.11857531217281658, 0.11857531217281658, 0.4189661030106186, 0.9326515622266723, 0.9326515622266727, 0.7998765560674291, 0.3532703220215145, 0.471027096028686, 0.1177567740071715, 0.1847603839497366, 0.7390415357989464, 0.1847603839497366, 0.7390415357989464, 0.7998766063644349, 0.7583509387921926, 0.1750040627981983, 0.058334687599399436, 0.09768352294733319, 0.1465252844209998, 0.39073409178933277, 0.35817291747355506, 0.9015307386077974, 0.07087511895793189, 0.8505014274951826, 0.1998469368662429, 0.7993877474649717, 0.9015013581001056, 0.7872274322998059, 0.944717960696825, 0.8606705796401298, 0.049153062647714865, 0.049153062647714865, 0.8847551276588675, 0.8856959515030975, 0.10713779937847347, 0.21427559875694693, 0.6428267962708407, 0.885750582191496, 0.776943095501251, 0.9165124860942953, 0.07050096046879194, 0.19984508119951822, 0.7993803247980729, 0.8750996443110884, 0.2631868153396352, 0.32898351917454405, 0.0657967038349088, 0.32898351917454405, 0.5950506874959035, 0.3400289642833734, 0.9015370180385441, 0.7138160724549732, 0.05098686231821238, 0.20394744927284952, 0.8750991600339093, 0.4260931652213216, 0.075192911509645, 0.30077164603858, 0.20051443069238664, 0.9430215898016447, 0.16028891705818343, 0.8014445852909171, 0.9015137649733641, 0.9015298222280378, 0.18812251117279682, 0.0627075037242656, 0.18812251117279682, 0.5016600297941248, 0.1375487757883535, 0.3026073067343777, 0.3576268170497191, 0.2200780412613656, 0.7958477293615168, 0.10611303058153557, 0.05305651529076778, 0.9327095737176444, 0.7242116572028431, 0.26334969352830656, 0.7857535602618619, 0.8842396779332587, 0.3301824569330217, 0.3668693965922463, 0.3301824569330217, 0.8842294043393386, 0.6867147962567529, 0.24971447136609196, 0.4149380307881425, 0.2766253538587617, 0.13831267692938085, 0.13831267692938085, 0.1477449748715488, 0.738724874357744, 0.0738724874357744, 0.19985420560343853, 0.7994168224137541, 0.18122256825514788, 0.6342789888930176, 0.09061128412757394, 0.09061128412757394, 0.8842372505603237, 0.7998766199407603, 0.8857274014152633, 0.875099082139186, 0.7768747386297017, 0.9326615383671203, 0.9326651100790093, 0.9257651940452148, 0.7873988550389516, 0.3808272214924789, 0.08462827144277309, 0.16925654288554617, 0.3808272214924789, 0.9014512981365522, 0.0655210843392864, 0.0655210843392864, 0.8517740964107232, 0.9709543534704598, 0.790318936232871, 0.19757973405821774, 0.23626839610185854, 0.55129292423767, 0.1575122640679057, 0.8842385600142927, 0.8319811819626398, 0.8857232358308388, 0.8750994411147558, 0.16069226429395544, 0.3213845285879109, 0.4820767928818664, 0.05356408809798515, 0.5930848950815404, 0.09884748251359007, 0.2965424475407702, 0.901462098787571, 0.9015268236906786, 0.21543411858883305, 0.37700970753045787, 0.0807877944708124, 0.3231511778832496, 0.8842359439097346, 0.8857325993949356, 0.11766839054209097, 0.8236787337946369, 0.8857300094553071, 0.3679321300130802, 0.5518981950196203, 0.24008557748541823, 0.7202567324562547, 0.787398880506196, 0.2950318330734693, 0.5900636661469386, 0.9709970791825011, 0.9326471416382568, 0.799876584134047, 0.13681518773743612, 0.364840500633163, 0.1824202503165815, 0.3192354380540176, 0.7873988501304189, 0.8842293817724594, 0.8842293817721734, 0.7873988639374783, 0.17483893219976102, 0.6556459957491038, 0.17483893219976102, 0.09191150383775261, 0.18382300767550522, 0.13786725575662892, 0.5974247749453919, 0.9405066784777115, 0.051300364280602445, 0.8750990100725999, 0.9709440092853094, 0.1714899825257441, 0.6859599301029764, 0.7401496301756542, 0.14802992603513082, 0.26860386539400377, 0.22728019379492628, 0.41323671599077505, 0.10330917899769376, 0.6769987146501907, 0.16924967866254767, 0.131526248662181, 0.31566299678923443, 0.31566299678923443, 0.2367472475919258, 0.3228191366946799, 0.4842287050420198, 0.16140956834733994, 0.2145724600888278, 0.7510036103108974, 0.23927212935953523, 0.15951475290635683, 0.5583016351722488, 0.8857036242263433, 0.09349559263872387, 0.21815638282368904, 0.46747796319361934, 0.21815638282368904, 0.24364530392972353, 0.10441941596988151, 0.38287119188956553, 0.278451775919684, 0.8751021977941925, 0.943026551037015, 0.885732566116413, 0.26112037506467733, 0.293760421947762, 0.42432060948010064, 0.2944184358996498, 0.26988356624134563, 0.3189533055579539, 0.12267434829152074, 0.14757398925859364, 0.44272196777578093, 0.29514797851718727, 0.14757398925859364, 0.7862169028880417, 0.0655971792561563, 0.6559717925615629, 0.1311943585123126, 0.1311943585123126, 0.8838520975835118, 0.14705340400195593, 0.7352670200097797, 0.35062853797128013, 0.17531426898564006, 0.13148570173923005, 0.35062853797128013, 0.18335933266165447, 0.445301236464018, 0.26194190380236354, 0.10477676152094541, 0.27454770007817314, 0.4314321001228435, 0.23532660006700554, 0.07844220002233518, 0.8842308638581523, 0.3197659508870804, 0.6395319017741607, 0.21390703587888382, 0.42781407175776764, 0.26738379484860475, 0.053476758969720956, 0.10716166712091359, 0.10716166712091359, 0.7501316698463951], \"Term\": [\"academic\", \"academic\", \"advance\", \"advanced\", \"advanced\", \"advanced\", \"advanced\", \"advanced method\", \"advanced research\", \"advice\", \"advice\", \"advocating research\", \"advocating research\", \"agile process\", \"ai\", \"ai\", \"align\", \"analysis\", \"analysis\", \"analysis\", \"analysis\", \"analytics\", \"analytics\", \"analyzing\", \"analyzing\", \"application\", \"application\", \"apply\", \"apply\", \"approach\", \"approach\", \"approach\", \"approach\", \"article\", \"avoiding bias\", \"best\", \"best\", \"best\", \"best\", \"best practice\", \"best practice\", \"best practice\", \"bias\", \"bias\", \"bias\", \"bias\", \"bias research\", \"book\", \"book\", \"business\", \"business\", \"business\", \"business\", \"buyin\", \"buyin\", \"career\", \"career\", \"career\", \"case\", \"case\", \"case study\", \"case study\", \"case study research\", \"challenge research\", \"change\", \"change\", \"change\", \"conference\", \"conference\", \"conference\", \"consideration\", \"contact\", \"content\", \"content\", \"convince\", \"course\", \"creation\", \"creative\", \"creative\", \"data\", \"data\", \"data\", \"data visualization\", \"deep\", \"design\", \"design\", \"design\", \"design\", \"different\", \"different\", \"different\", \"different\", \"difficult\", \"difficult\", \"discussion\", \"discussion\", \"don know\", \"emerging\", \"emerging\", \"emerging\", \"emerging\", \"ethic\", \"ethic\", \"ethic\", \"ethic research\", \"ethic research\", \"ethnography\", \"ethnography\", \"everyday\", \"example\", \"example\", \"example\", \"example\", \"explain\", \"failure\", \"failure\", \"field\", \"field\", \"field\", \"finding\", \"firm\", \"firm\", \"fit\", \"future\", \"future\", \"future\", \"gdpr\", \"generative\", \"generative research\", \"good\", \"good\", \"good\", \"growing research\", \"hear\", \"hear\", \"heard\", \"human\", \"human\", \"human\", \"impact\", \"impact\", \"impact\", \"impact\", \"industry\", \"industry\", \"industry\", \"industry\", \"infrastructure\", \"inhouse research\", \"insight\", \"insight\", \"insight\", \"insight\", \"interesting\", \"interesting\", \"interesting\", \"issue\", \"kind\", \"kind\", \"know\", \"know\", \"know don\", \"know don know\", \"large organization\", \"large orgs\", \"latest tool\", \"leadership\", \"leadership\", \"leadership\", \"leadership research\", \"leadership research\", \"leading\", \"leading\", \"leading research\", \"leading research team\", \"learning\", \"learning\", \"learning\", \"learning\", \"life\", \"life\", \"life\", \"like\", \"like\", \"like\", \"like\", \"like new\", \"listening\", \"look\", \"make\", \"make\", \"make\", \"make\", \"management\", \"management\", \"management\", \"management\", \"manager\", \"manager\", \"market\", \"market\", \"market\", \"market\", \"mentoring\", \"method\", \"method\", \"method\", \"method\", \"method case\", \"method case study\", \"method impact\", \"methodology\", \"methodology\", \"methodology\", \"mixed\", \"mixed\", \"mixed method\", \"mixed method\", \"mixing\", \"need\", \"need\", \"need\", \"new\", \"new\", \"new\", \"new\", \"new interesting\", \"new method\", \"new method\", \"new research\", \"new research\", \"new research method\", \"new technique\", \"new tool\", \"operation\", \"ops\", \"ops\", \"ops\", \"ops research\", \"org\", \"org\", \"org\", \"org research\", \"organisation\", \"organization\", \"organization\", \"orgs\", \"orgs\", \"participatory\", \"people\", \"people\", \"people\", \"people\", \"planning\", \"planning\", \"planning research\", \"practical\", \"practical\", \"practical\", \"practical application\", \"practice\", \"practice\", \"practice\", \"practice\", \"present\", \"presentation\", \"presentation\", \"presentation skill\", \"presented\", \"problem\", \"problem\", \"problem\", \"problem\", \"product\", \"product\", \"product\", \"product\", \"project\", \"project\", \"project\", \"promoting\", \"qual\", \"qual\", \"qual quant\", \"qual research\", \"qualitative\", \"qualitative\", \"qualitative\", \"qualitative analysis\", \"quant\", \"quant\", \"quantitative\", \"quantitative\", \"quantitative\", \"quantitative\", \"question\", \"question\", \"question\", \"real life\", \"real life\", \"recruiting\", \"recruiting\", \"recruiting\", \"recruiting\", \"research action\", \"research agile process\", \"research ai\", \"research approach\", \"research case\", \"research case study\", \"research ethic\", \"research finding\", \"research infrastructure\", \"research method\", \"research method\", \"research method\", \"research method\", \"research operation\", \"research ops\", \"research ops\", \"research ops\", \"research organization\", \"research planning\", \"research planning\", \"research practice\", \"research practice\", \"research practice\", \"research program\", \"research project\", \"research question\", \"research stuff\", \"research team\", \"research team\", \"research team\", \"research team\", \"research technique\", \"research technique\", \"research technique\", \"research want\", \"research working\", \"researcher\", \"researcher\", \"researcher\", \"researcher\", \"researcher role\", \"roi\", \"role\", \"role\", \"scale\", \"scaling\", \"scaling\", \"scaling research\", \"scaling research\", \"scaling research practice\", \"science\", \"science\", \"selling\", \"selling research\", \"sharing insight\", \"skill\", \"skill\", \"skill\", \"skill\", \"skill set\", \"soft\", \"soft skill\", \"special consideration\", \"stakeholder\", \"stakeholder\", \"stakeholder\", \"strategy\", \"strategy\", \"strategy\", \"strategy\", \"study\", \"study\", \"study best\", \"study research\", \"talking\", \"talking\", \"teach\", \"teach\", \"team\", \"team\", \"team\", \"team\", \"tech\", \"tech\", \"technique\", \"technique\", \"technique\", \"technique\", \"technology\", \"technology\", \"technology\", \"testing\", \"testing\", \"think\", \"think\", \"think\", \"today\", \"tool\", \"tool\", \"tool\", \"tool\", \"topic\", \"topic\", \"topic\", \"topic\", \"topic case\", \"usability test\", \"usability testing\", \"user\", \"user\", \"user\", \"ux\", \"ux\", \"ux\", \"ux\", \"ux research\", \"ux research\", \"ux research\", \"ux research\", \"ux researcher role\", \"value\", \"value\", \"value\", \"value\", \"value research\", \"visualization\", \"visualization\", \"want\", \"want\", \"want\", \"want\", \"way\", \"way\", \"way\", \"way\", \"work\", \"work\", \"work\", \"work\", \"worked\", \"working\", \"working\", \"workshop\", \"workshop\", \"workshop\", \"workshop\", \"world\", \"world\", \"world\"]}, \"R\": 30, \"lambda.step\": 0.01, \"plot.opts\": {\"xlab\": \"PC1\", \"ylab\": \"PC2\"}, \"topic.order\": [4, 2, 3, 1]};\n",
       "\n",
       "function LDAvis_load_lib(url, callback){\n",
       "  var s = document.createElement('script');\n",
       "  s.src = url;\n",
       "  s.async = true;\n",
       "  s.onreadystatechange = s.onload = callback;\n",
       "  s.onerror = function(){console.warn(\"failed to load library \" + url);};\n",
       "  document.getElementsByTagName(\"head\")[0].appendChild(s);\n",
       "}\n",
       "\n",
       "if(typeof(LDAvis) !== \"undefined\"){\n",
       "   // already loaded: just create the visualization\n",
       "   !function(LDAvis){\n",
       "       new LDAvis(\"#\" + \"ldavis_el2761750057004561893319763\", ldavis_el2761750057004561893319763_data);\n",
       "   }(LDAvis);\n",
       "}else if(typeof define === \"function\" && define.amd){\n",
       "   // require.js is available: use it to load d3/LDAvis\n",
       "   require.config({paths: {d3: \"https://cdnjs.cloudflare.com/ajax/libs/d3/3.5.5/d3.min\"}});\n",
       "   require([\"d3\"], function(d3){\n",
       "      window.d3 = d3;\n",
       "      LDAvis_load_lib(\"https://cdn.rawgit.com/bmabey/pyLDAvis/files/ldavis.v1.0.0.js\", function(){\n",
       "        new LDAvis(\"#\" + \"ldavis_el2761750057004561893319763\", ldavis_el2761750057004561893319763_data);\n",
       "      });\n",
       "    });\n",
       "}else{\n",
       "    // require.js not available: dynamically load d3 & LDAvis\n",
       "    LDAvis_load_lib(\"https://cdnjs.cloudflare.com/ajax/libs/d3/3.5.5/d3.min.js\", function(){\n",
       "         LDAvis_load_lib(\"https://cdn.rawgit.com/bmabey/pyLDAvis/files/ldavis.v1.0.0.js\", function(){\n",
       "                 new LDAvis(\"#\" + \"ldavis_el2761750057004561893319763\", ldavis_el2761750057004561893319763_data);\n",
       "            })\n",
       "         });\n",
       "}\n",
       "</script>"
      ],
      "text/plain": [
       "PreparedData(topic_coordinates=              x         y  topics  cluster       Freq\n",
       "topic                                                \n",
       "3      0.149435  0.004902       1        1  28.179038\n",
       "1     -0.063588 -0.062169       2        1  25.641587\n",
       "2     -0.030393 -0.060260       3        1  24.997328\n",
       "0     -0.055453  0.117526       4        1  21.182047, topic_info=     Category        Freq                 Term       Total  loglift  logprob\n",
       "989   Default   58.000000                study   58.000000  30.0000  30.0000\n",
       "132   Default   51.000000                 case   51.000000  29.0000  29.0000\n",
       "134   Default   43.000000           case study   43.000000  28.0000  28.0000\n",
       "582   Default  126.000000               method  126.000000  27.0000  27.0000\n",
       "663   Default   28.000000         organization   28.000000  26.0000  26.0000\n",
       "221   Default   46.000000                 data   46.000000  25.0000  25.0000\n",
       "351   Default   19.000000              finding   19.000000  24.0000  24.0000\n",
       "654   Default   20.000000                  ops   20.000000  23.0000  23.0000\n",
       "632   Default   14.000000           new method   14.000000  22.0000  22.0000\n",
       "627   Default   61.000000                  new   61.000000  21.0000  21.0000\n",
       "37    Default   14.000000                   ai   14.000000  20.0000  20.0000\n",
       "826   Default   11.000000     research finding   11.000000  19.0000  19.0000\n",
       "853   Default   15.000000         research ops   15.000000  18.0000  18.0000\n",
       "720   Default   12.000000         presentation   12.000000  17.0000  17.0000\n",
       "737   Default   18.000000              project   18.000000  16.0000  16.0000\n",
       "755   Default   16.000000                quant   16.000000  15.0000  15.0000\n",
       "968   Default   22.000000          stakeholder   22.000000  14.0000  14.0000\n",
       "744   Default   15.000000                 qual   15.000000  13.0000  13.0000\n",
       "315   Default   26.000000                ethic   26.000000  12.0000  12.0000\n",
       "58    Default   14.000000          application   14.000000  11.0000  11.0000\n",
       "1114  Default   12.000000              working   12.000000  10.0000  10.0000\n",
       "707   Default   19.000000            practical   19.000000   9.0000   9.0000\n",
       "611   Default   10.000000         mixed method   10.000000   8.0000   8.0000\n",
       "610   Default   10.000000                mixed   10.000000   7.0000   7.0000\n",
       "985   Default   21.000000             strategy   21.000000   6.0000   6.0000\n",
       "185   Default    9.000000              content    9.000000   5.0000   5.0000\n",
       "126   Default   10.000000                buyin   10.000000   4.0000   4.0000\n",
       "349   Default   23.000000                field   23.000000   3.0000   3.0000\n",
       "600   Default   25.000000          methodology   25.000000   2.0000   2.0000\n",
       "622   Default   17.000000                 need   17.000000   1.0000   1.0000\n",
       "...       ...         ...                  ...         ...      ...      ...\n",
       "582    Topic4   53.245653               method  126.501881   0.6867  -3.2073\n",
       "58     Topic4    8.417528          application   14.284892   1.0231  -5.0519\n",
       "1029   Topic4    7.392382                think   12.538025   1.0237  -5.1818\n",
       "121    Topic4   10.022700             business   20.122136   0.8550  -4.8774\n",
       "727    Topic4    8.340565              problem   15.947055   0.9039  -5.0611\n",
       "627    Topic4   21.828669                  new   61.422846   0.5175  -4.0990\n",
       "528    Topic4    4.350216                 life    6.691423   1.1214  -5.7120\n",
       "529    Topic4   11.765331                 like   28.603872   0.6636  -4.7171\n",
       "441    Topic4    6.663046             industry   12.572162   0.9171  -5.2856\n",
       "916    Topic4    5.995218              scaling   10.871570   0.9568  -5.3913\n",
       "471    Topic4    4.281316          interesting    6.694548   1.1050  -5.7280\n",
       "510    Topic4    3.517820  leadership research    5.003671   1.1997  -5.9244\n",
       "262    Topic4    3.516332            difficult    5.001835   1.1996  -5.9248\n",
       "634    Topic4    3.511146         new research    5.003830   1.1978  -5.9263\n",
       "668    Topic4    3.509937                 orgs    5.003876   1.1974  -5.9266\n",
       "509    Topic4    7.909151           leadership   17.712397   0.7458  -5.1142\n",
       "843    Topic4    9.332829      research method   23.632764   0.6229  -4.9487\n",
       "900    Topic4   12.032585           researcher   37.134322   0.4251  -4.6946\n",
       "685    Topic4   10.079504               people   30.396659   0.4482  -4.8717\n",
       "129    Topic4    5.995964               career   12.613923   0.8083  -5.3911\n",
       "41     Topic4   12.209709             analysis   46.490855   0.2150  -4.6800\n",
       "1102   Topic4    7.807206                 want   22.816169   0.4796  -5.1272\n",
       "425    Topic4    8.354042               impact   27.817595   0.3491  -5.0595\n",
       "456    Topic4    7.746346              insight   23.559227   0.4397  -5.1350\n",
       "1041   Topic4    7.701872                topic   28.730289   0.2355  -5.1408\n",
       "1016   Topic4    8.515615            technique   38.015225   0.0559  -5.0403\n",
       "712    Topic4    7.950357             practice   39.897378  -0.0611  -5.1090\n",
       "731    Topic4    7.621962              product   36.350742  -0.0102  -5.1512\n",
       "1037   Topic4    7.010154                 tool   32.087074   0.0309  -5.2349\n",
       "67     Topic4    6.696867             approach   27.910901   0.1246  -5.2806\n",
       "\n",
       "[293 rows x 6 columns], token_table=      Topic      Freq                 Term\n",
       "term                                      \n",
       "4         2  0.239978             academic\n",
       "4         4  0.719933             academic\n",
       "21        2  0.884269              advance\n",
       "22        1  0.613622             advanced\n",
       "22        2  0.055784             advanced\n",
       "22        3  0.167351             advanced\n",
       "22        4  0.111568             advanced\n",
       "23        1  0.875099      advanced method\n",
       "24        1  0.875099    advanced research\n",
       "28        1  0.667081               advice\n",
       "28        3  0.166770               advice\n",
       "31        1  0.667067  advocating research\n",
       "31        2  0.166767  advocating research\n",
       "35        4  0.799877        agile process\n",
       "37        2  0.069441                   ai\n",
       "37        3  0.902732                   ai\n",
       "40        1  0.875099                align\n",
       "41        1  0.236606             analysis\n",
       "41        2  0.236606             analysis\n",
       "41        3  0.279625             analysis\n",
       "41        4  0.258115             analysis\n",
       "51        2  0.589556            analytics\n",
       "51        3  0.294778            analytics\n",
       "52        2  0.589566            analyzing\n",
       "52        3  0.294783            analyzing\n",
       "58        1  0.350020          application\n",
       "58        4  0.560032          application\n",
       "63        2  0.593735                apply\n",
       "63        4  0.356241                apply\n",
       "67        1  0.250798             approach\n",
       "...     ...       ...                  ...\n",
       "1086      2  0.786217   ux researcher role\n",
       "1091      1  0.065597                value\n",
       "1091      2  0.655972                value\n",
       "1091      3  0.131194                value\n",
       "1091      4  0.131194                value\n",
       "1092      2  0.883852       value research\n",
       "1099      1  0.147053        visualization\n",
       "1099      2  0.735267        visualization\n",
       "1102      1  0.350629                 want\n",
       "1102      2  0.175314                 want\n",
       "1102      3  0.131486                 want\n",
       "1102      4  0.350629                 want\n",
       "1107      1  0.183359                  way\n",
       "1107      2  0.445301                  way\n",
       "1107      3  0.261942                  way\n",
       "1107      4  0.104777                  way\n",
       "1111      1  0.274548                 work\n",
       "1111      2  0.431432                 work\n",
       "1111      3  0.235327                 work\n",
       "1111      4  0.078442                 work\n",
       "1113      2  0.884231               worked\n",
       "1114      3  0.319766              working\n",
       "1114      4  0.639532              working\n",
       "1117      1  0.213907             workshop\n",
       "1117      2  0.427814             workshop\n",
       "1117      3  0.267384             workshop\n",
       "1117      4  0.053477             workshop\n",
       "1119      1  0.107162                world\n",
       "1119      2  0.107162                world\n",
       "1119      3  0.750132                world\n",
       "\n",
       "[453 rows x 3 columns], R=30, lambda_step=0.01, plot_opts={'xlab': 'PC1', 'ylab': 'PC2'}, topic_order=[4, 2, 3, 1])"
      ]
     },
     "execution_count": 389,
     "metadata": {},
     "output_type": "execute_result"
    }
   ],
   "source": [
    "pyLDAvis.sklearn.prepare(lda21, ideal_topics_matrix, ideal_topics_vector)"
   ]
  },
  {
   "cell_type": "markdown",
   "metadata": {},
   "source": [
    "#### Topic groups (4) - considerable overlap between 2 & 3\n",
    "1. case study\n",
    "2. finding\n",
    "3. ops\n",
    "4. new method\n",
    "\n",
    "#### Topic groups (6)\n",
    "1. case study\n",
    "2. ops\n",
    "3. stakeholder\n",
    "4. new method\n",
    "5. user research\n",
    "6. quantitative\n",
    "\n",
    "#### Topic groups (8)\n",
    "1. case study\n",
    "2. ops\n",
    "3. user research\n",
    "4. working\n",
    "5. quant\n",
    "6. mixed method\n",
    "7. ethic\n",
    "8. qualitative data\n"
   ]
  },
  {
   "cell_type": "code",
   "execution_count": 101,
   "metadata": {},
   "outputs": [],
   "source": [
    "lda_W21 = lda21.transform(ideal_topics_matrix)"
   ]
  },
  {
   "cell_type": "code",
   "execution_count": 102,
   "metadata": {},
   "outputs": [],
   "source": [
    "top_doc_column21 = datadf.ideal_topics.dropna()"
   ]
  },
  {
   "cell_type": "code",
   "execution_count": 103,
   "metadata": {},
   "outputs": [],
   "source": [
    "word_count_matrix21, count_vect21 = nlp.create_wordcount_matrix(datadf.ideal_topics.dropna(), max_df=0.8, min_df=2, ngram=(1,3))"
   ]
  },
  {
   "cell_type": "code",
   "execution_count": 104,
   "metadata": {},
   "outputs": [
    {
     "data": {
      "text/plain": [
       "LatentDirichletAllocation(batch_size=128, doc_topic_prior=None,\n",
       "                          evaluate_every=-1, learning_decay=0.7,\n",
       "                          learning_method='batch', learning_offset=10.0,\n",
       "                          max_doc_update_iter=100, max_iter=10,\n",
       "                          mean_change_tol=0.001, n_components=5, n_jobs=None,\n",
       "                          perp_tol=0.1, random_state=42, topic_word_prior=None,\n",
       "                          total_samples=1000000.0, verbose=0)"
      ]
     },
     "execution_count": 104,
     "metadata": {},
     "output_type": "execute_result"
    }
   ],
   "source": [
    "LDA21a = LatentDirichletAllocation(n_components=5, random_state=42)\n",
    "LDA21a.fit(word_count_matrix21)"
   ]
  },
  {
   "cell_type": "code",
   "execution_count": 105,
   "metadata": {},
   "outputs": [],
   "source": [
    "lda_H = LDA21a.transform(word_count_matrix21)"
   ]
  },
  {
   "cell_type": "code",
   "execution_count": 106,
   "metadata": {},
   "outputs": [
    {
     "name": "stdout",
     "output_type": "stream",
     "text": [
      "Top 3 Documents for Topic 0: \n",
      "\n",
      "Document 1\n",
      "researchops integrating research with design product and engineering growing and scaling a research practice leading a research team enterprise org structure for research team scaling the impact of research across an org research with emerging tech aimachine learning mrvrar multimodal experience etc\n",
      "\n",
      "Document 2\n",
      "facilitation skill conversation design master class teaching research basic to others skill for new research manager former ic moving into research management mixed method research design lightning improv shareout how to setup ux dashboard cxos qualinformed touchpoint specific outcome that matter most to people and ongoing quant measurement of those key experiencesmoments ethicalmoral framework for research that advance ai how do we consider downstream impact and just because we can doesnt mean we should\n",
      "\n",
      "Document 3\n",
      "i'd like to see if organization are still focusing on usability in my recent role there ha no longer been an emphasis on this but rather on strategic research to identify opportunity it feel like market research and ux research are blending to some degree a someone with 15 year of experience i have started to see usability of product decrease a organization more and more emphasize strategic research evaluative method seem to be just taken for granted or ignored completely i'd love to learn if some organization are keeping a good balance and not ignoring one critical aspect of what we do i'd also love to talk about this more with others in term of the future of ux research in organization\n",
      "\n",
      "Top 3 Documents for Topic 1: \n",
      "\n",
      "Document 1\n",
      "how to turn research into a great product what make a good product how research can contribute to innovation how to get shortterm win in product development general analysis of successful startup and metric for success do they indicate a useful product also i already have lichaw's book on narrative which is quite useful and i'd like more on the topic also more on machine learningai and how qualitative research can practically be part of that because we are using that in everything these daysalso how can i get up to speed on ml so i can be a translator\n",
      "\n",
      "Document 2\n",
      "qualitative research grounded theory inductive v deductive how to advocate for and legitimize the value in qualitative data when faced with people obsessed with analytics dealing with large amount of data advocating for spending more time on data analysis recruiting technique crash course in advertising for research study recruiting data retention and privacy gdpr research opslogistics best format for research report interview critique\n",
      "\n",
      "Document 3\n",
      "cultural anthropology sociology applied psychology ststhe stuff i didn't learn because i don't have an advanced degree and the book on these topic are often abstruse andor unconnected to my concern a a practicing researcher i desperately want more crosspollination between academia and industry i want sam ladner to spend several hour on theoretical framework mixed method etc cameron tonkinwise on design philosophy and i don't know who else because i don't know who i don't know in academia also context ethic emerging technology etc substantive treatment of complex relevant topic\n",
      "\n",
      "Top 3 Documents for Topic 2: \n",
      "\n",
      "Document 1\n",
      "research consulting service design is undergoing a shift where 'everybody is a designer' and i'm noticing a similar challenge in research discussion around how do we teach and enable others without undermining our own process would be valuable similarly a lot of deep research take time and resource a a consultant that's often not a reality but some user engagement is better than none in the right way so how do we manage this balance in a different vein strategic foresight based on research is also a topic i would love to learn more about\n",
      "\n",
      "Document 2\n",
      "field study what we learned and how our method changed international study how best to conduct study when you don't speak the language social context method for understanding the effect of product on group usable privacy and security ethic in ux research montiero running a ux practice cooper guerilla research chipchase how to be a successful independent uxr consultant which corner to cut or not when you have to do research fast and cheaply vigorous debate on the level of detail in deliverable\n",
      "\n",
      "Document 3\n",
      "effectivity od research report best practice to set and communicate the suitable format according to the client or colleague need inhouse research offering research insight and checkup during later stage of the design process to make sure it ha been incorporated experimenting with research method creative use and adjustment according to current need of the project synthesis workshop with the team how to design the workshop modelling technique\n",
      "\n",
      "Top 3 Documents for Topic 3: \n",
      "\n",
      "Document 1\n",
      "more quant research and way to bridge the gap between quant and qual problem framing toolsstrategies to use with your stakeholder how to run effective workshop with your stakeholder uxr manager trainingadvicelessonsapproaches to managing research team newer tool and platform real world experience from researcher not just sale booth demo macgeyvering clever way of using tool combining method and borrowing from other discipline\n",
      "\n",
      "Document 2\n",
      "new form of research with practical advice personal experience with different kind of research an reconmendations recommendation when to do what kind of researchbit not the und typical advice but some creative approach advice or practical activity for the analysis and synthesis phase how to conduct research for the job to be done approach how to combine quantitative and qualitative research which kind of quantitative research is useful and how to conduct it\n",
      "\n",
      "Document 3\n",
      "case study that connect the research to a business impact new methologies for me eg using lego piece in research chance to also walk around booth to learn about new software and tool new way to present research to plan research and how ux research can partner with other kid of researcher eg data analyst data scientist and how ux research is happening with emerging technology eg voice computer vision machine learning\n",
      "\n",
      "Top 3 Documents for Topic 4: \n",
      "\n",
      "Document 1\n",
      "i want to see way to take whatever i'm being taught and apply it i love some of the high level we did this cool type of research but i often have a hard time finding way to apply that in real life so anything that i could take away and directly apply would be awesome\n",
      "\n",
      "Document 2\n",
      "i want to see more emphasis put on qualitative analysis best practice presenting finding and recommendation in a compelling way i want to learn soft skill i want to hear how leader dealt with resistance and convincing team in catherine courage book she had example of how to counter tough question i want a whole workshop on that based on method eg card sort here are typical question team will challenge you on here a way to respond etc\n",
      "\n",
      "Document 3\n",
      "i would love if if veteran member of the community share more of their war story with those who are just starting out or midcareer i think the whole community could benefit from lesson learned also i would love to learn more about the softer side that make research successful and influential such a conflict management stakeholder management often the same thing effective communication and career management there ha to be knowledge transfer in the community in term of soft skill like these a well if we want to maximize the impact of research\n",
      "\n"
     ]
    }
   ],
   "source": [
    "nlp.find_top_documents_per_topic(lda_H, top_doc_column21, 3)"
   ]
  },
  {
   "cell_type": "markdown",
   "metadata": {},
   "source": [
    "## 22. If attending a conference about research, who might you be excited to see there?"
   ]
  },
  {
   "cell_type": "code",
   "execution_count": 107,
   "metadata": {},
   "outputs": [],
   "source": [
    "ideal_attendees = datadf.ideal_attendees.fillna('nan').apply(nlp.basic_clean)\n",
    "ideal_attendees = ideal_attendees.apply(nlp.lemmatize)"
   ]
  },
  {
   "cell_type": "code",
   "execution_count": 108,
   "metadata": {},
   "outputs": [
    {
     "data": {
      "text/plain": [
       "(<471x923 sparse matrix of type '<class 'numpy.int64'>'\n",
       " \twith 4277 stored elements in Compressed Sparse Row format>,\n",
       " CountVectorizer(analyzer='word', binary=False, decode_error='strict',\n",
       "                 dtype=<class 'numpy.int64'>, encoding='utf-8', input='content',\n",
       "                 lowercase=True, max_df=0.3, max_features=None, min_df=2,\n",
       "                 ngram_range=(1, 3), preprocessor=None, stop_words='english',\n",
       "                 strip_accents=None, token_pattern='(?u)\\\\b\\\\w\\\\w+\\\\b',\n",
       "                 tokenizer=None, vocabulary=None))"
      ]
     },
     "execution_count": 108,
     "metadata": {},
     "output_type": "execute_result"
    }
   ],
   "source": [
    "ideal_att_matrix, ideal_att_vector = nlp.create_wordcount_matrix(ideal_attendees, ngram=(1,3), max_df=.3)\n",
    "ideal_att_matrix, ideal_att_vector"
   ]
  },
  {
   "cell_type": "code",
   "execution_count": 394,
   "metadata": {},
   "outputs": [],
   "source": [
    "lda22 = LatentDirichletAllocation(n_components= 4, random_state = 42)"
   ]
  },
  {
   "cell_type": "code",
   "execution_count": 395,
   "metadata": {},
   "outputs": [
    {
     "data": {
      "text/plain": [
       "LatentDirichletAllocation(batch_size=128, doc_topic_prior=None,\n",
       "                          evaluate_every=-1, learning_decay=0.7,\n",
       "                          learning_method='batch', learning_offset=10.0,\n",
       "                          max_doc_update_iter=100, max_iter=10,\n",
       "                          mean_change_tol=0.001, n_components=4, n_jobs=None,\n",
       "                          perp_tol=0.1, random_state=42, topic_word_prior=None,\n",
       "                          total_samples=1000000.0, verbose=0)"
      ]
     },
     "execution_count": 395,
     "metadata": {},
     "output_type": "execute_result"
    }
   ],
   "source": [
    "lda22.fit(ideal_att_matrix)"
   ]
  },
  {
   "cell_type": "code",
   "execution_count": 396,
   "metadata": {},
   "outputs": [
    {
     "data": {
      "text/html": [
       "\n",
       "<link rel=\"stylesheet\" type=\"text/css\" href=\"https://cdn.rawgit.com/bmabey/pyLDAvis/files/ldavis.v1.0.0.css\">\n",
       "\n",
       "\n",
       "<div id=\"ldavis_el2761750055212085655054086\"></div>\n",
       "<script type=\"text/javascript\">\n",
       "\n",
       "var ldavis_el2761750055212085655054086_data = {\"mdsDat\": {\"x\": [0.09925647018871635, 0.06889300334194917, -0.020913682988880897, -0.14723579054178462], \"y\": [0.012284627471640618, -0.08743780042775816, 0.12562932218285705, -0.05047614922673951], \"topics\": [1, 2, 3, 4], \"cluster\": [1, 1, 1, 1], \"Freq\": [26.978009961531157, 25.507302220001304, 25.4951054435312, 22.01958237493635]}, \"tinfo\": {\"Category\": [\"Default\", \"Default\", \"Default\", \"Default\", \"Default\", \"Default\", \"Default\", \"Default\", \"Default\", \"Default\", \"Default\", \"Default\", \"Default\", \"Default\", \"Default\", \"Default\", \"Default\", \"Default\", \"Default\", \"Default\", \"Default\", \"Default\", \"Default\", \"Default\", \"Default\", \"Default\", \"Default\", \"Default\", \"Default\", \"Default\", \"Topic1\", \"Topic1\", \"Topic1\", \"Topic1\", \"Topic1\", \"Topic1\", \"Topic1\", \"Topic1\", \"Topic1\", \"Topic1\", \"Topic1\", \"Topic1\", \"Topic1\", \"Topic1\", \"Topic1\", \"Topic1\", \"Topic1\", \"Topic1\", \"Topic1\", \"Topic1\", \"Topic1\", \"Topic1\", \"Topic1\", \"Topic1\", \"Topic1\", \"Topic1\", \"Topic1\", \"Topic1\", \"Topic1\", \"Topic1\", \"Topic1\", \"Topic1\", \"Topic1\", \"Topic1\", \"Topic1\", \"Topic1\", \"Topic1\", \"Topic1\", \"Topic1\", \"Topic1\", \"Topic1\", \"Topic1\", \"Topic1\", \"Topic1\", \"Topic1\", \"Topic1\", \"Topic1\", \"Topic1\", \"Topic1\", \"Topic1\", \"Topic1\", \"Topic1\", \"Topic1\", \"Topic1\", \"Topic1\", \"Topic1\", \"Topic1\", \"Topic1\", \"Topic1\", \"Topic1\", \"Topic1\", \"Topic1\", \"Topic1\", \"Topic1\", \"Topic1\", \"Topic2\", \"Topic2\", \"Topic2\", \"Topic2\", \"Topic2\", \"Topic2\", \"Topic2\", \"Topic2\", \"Topic2\", \"Topic2\", \"Topic2\", \"Topic2\", \"Topic2\", \"Topic2\", \"Topic2\", \"Topic2\", \"Topic2\", \"Topic2\", \"Topic2\", \"Topic2\", \"Topic2\", \"Topic2\", \"Topic2\", \"Topic2\", \"Topic2\", \"Topic2\", \"Topic2\", \"Topic2\", \"Topic2\", \"Topic2\", \"Topic2\", \"Topic2\", \"Topic2\", \"Topic2\", \"Topic2\", \"Topic2\", \"Topic2\", \"Topic2\", \"Topic2\", \"Topic2\", \"Topic2\", \"Topic2\", \"Topic2\", \"Topic2\", \"Topic2\", \"Topic2\", \"Topic2\", \"Topic2\", \"Topic2\", \"Topic2\", \"Topic2\", \"Topic2\", \"Topic2\", \"Topic2\", \"Topic2\", \"Topic2\", \"Topic2\", \"Topic2\", \"Topic2\", \"Topic2\", \"Topic2\", \"Topic2\", \"Topic3\", \"Topic3\", \"Topic3\", \"Topic3\", \"Topic3\", \"Topic3\", \"Topic3\", \"Topic3\", \"Topic3\", \"Topic3\", \"Topic3\", \"Topic3\", \"Topic3\", \"Topic3\", \"Topic3\", \"Topic3\", \"Topic3\", \"Topic3\", \"Topic3\", \"Topic3\", \"Topic3\", \"Topic3\", \"Topic3\", \"Topic3\", \"Topic3\", \"Topic3\", \"Topic3\", \"Topic3\", \"Topic3\", \"Topic3\", \"Topic3\", \"Topic3\", \"Topic3\", \"Topic3\", \"Topic3\", \"Topic3\", \"Topic3\", \"Topic3\", \"Topic3\", \"Topic3\", \"Topic3\", \"Topic3\", \"Topic3\", \"Topic3\", \"Topic3\", \"Topic3\", \"Topic3\", \"Topic3\", \"Topic3\", \"Topic3\", \"Topic3\", \"Topic3\", \"Topic3\", \"Topic3\", \"Topic3\", \"Topic3\", \"Topic3\", \"Topic3\", \"Topic3\", \"Topic3\", \"Topic3\", \"Topic3\", \"Topic3\", \"Topic4\", \"Topic4\", \"Topic4\", \"Topic4\", \"Topic4\", \"Topic4\", \"Topic4\", \"Topic4\", \"Topic4\", \"Topic4\", \"Topic4\", \"Topic4\", \"Topic4\", \"Topic4\", \"Topic4\", \"Topic4\", \"Topic4\", \"Topic4\", \"Topic4\", \"Topic4\", \"Topic4\", \"Topic4\", \"Topic4\", \"Topic4\", \"Topic4\", \"Topic4\", \"Topic4\", \"Topic4\", \"Topic4\", \"Topic4\", \"Topic4\", \"Topic4\", \"Topic4\", \"Topic4\", \"Topic4\", \"Topic4\", \"Topic4\", \"Topic4\", \"Topic4\", \"Topic4\", \"Topic4\", \"Topic4\", \"Topic4\", \"Topic4\", \"Topic4\", \"Topic4\", \"Topic4\", \"Topic4\", \"Topic4\", \"Topic4\", \"Topic4\", \"Topic4\", \"Topic4\", \"Topic4\", \"Topic4\", \"Topic4\"], \"Freq\": [40.0, 16.0, 18.0, 14.0, 12.0, 12.0, 13.0, 31.0, 22.0, 22.0, 15.0, 8.0, 8.0, 15.0, 15.0, 15.0, 9.0, 18.0, 11.0, 20.0, 7.0, 17.0, 8.0, 54.0, 43.0, 11.0, 6.0, 6.0, 32.0, 9.0, 5.919711060954518, 4.3637127851203985, 3.5391623658515496, 3.5379853469617526, 3.5323163861506512, 3.5323163861120053, 3.529112731238837, 3.5282181910003465, 3.525845894334656, 3.519963309238027, 7.702437807167899, 3.494854328381574, 3.418494853904326, 3.3819355251524823, 2.7064525293663944, 2.7064400341586854, 2.706435191502291, 2.7064184841956425, 2.7064158340975375, 2.706398309780926, 2.7063930522801596, 2.7063653870012083, 2.7032427881665297, 2.6986777623768785, 2.697940718305928, 2.697940718305928, 2.697940718305928, 2.6961255041973424, 2.6919714339337997, 2.6871402101979602, 31.96962253702812, 5.9494887708995785, 5.213654273725597, 7.360263515398996, 7.588763324646577, 5.214172719564357, 5.2212815394002945, 11.47470463045576, 10.62039424042206, 9.828263203354789, 6.897561910062373, 4.2246122301316325, 20.160748632670632, 4.180849897052486, 6.781552266007505, 7.37029261029324, 29.53704372727377, 12.151861163424472, 6.527776973694558, 5.89964245642618, 14.616053605835507, 5.057811397837565, 9.090442008427146, 8.712003890597176, 4.714993329067336, 5.849173915776376, 8.330101636159275, 8.775458794977958, 6.031337279103565, 7.424264513178616, 6.091559522310982, 10.11370924258705, 9.259901387618225, 6.044292373959509, 6.55024145562551, 8.480417530728253, 7.655065144526485, 16.83100729144882, 4.356176854787017, 3.528395141766274, 3.5252870059958865, 3.523311031580064, 3.5223048917072117, 3.520008030543528, 3.515934849895792, 3.513508967541042, 2.6981684941889634, 2.6981564039334605, 2.6981564039334605, 2.698140648382824, 2.6981254196722353, 2.6965383713660707, 2.696295079164842, 2.6957327093790124, 2.6957327093790124, 2.69382144733298, 2.6891091628471457, 2.686911520311313, 2.6867119384873366, 2.6852746910095497, 2.5242375917128137, 3.1213503479134035, 4.371604618542419, 1.8679837732055922, 1.8679783432879502, 4.270165488305522, 6.025895337494456, 8.2877247267597, 6.003479588818571, 9.276056567242959, 20.501436161791684, 8.786460086129852, 5.88538141860241, 5.200937859393938, 23.995478390376412, 19.496528390023077, 28.496558972711302, 5.607639372689082, 5.941475314062647, 6.269934195043191, 9.55205153361559, 9.694282240999286, 7.594625459341416, 10.350099446869704, 8.236655387848515, 7.240157020174754, 9.259536720203156, 6.204805933925421, 6.307436630759686, 4.856062360317202, 7.912123676741268, 10.305988625176209, 5.910418556761342, 7.482173169781135, 7.533488361461922, 6.0519338638207145, 5.947928485996875, 13.608801603574976, 12.76913241325341, 4.401248348474155, 4.400827903480425, 4.399480934881393, 4.3978451736340105, 4.381985923810577, 3.5630196655325523, 3.559346317947368, 3.5590083747815795, 3.558487563513941, 3.5584875635137276, 3.5574320317356065, 3.556793835694026, 3.5438790148383252, 3.5436204897929264, 2.7246830420998513, 2.7246745859455554, 2.7246745859455554, 2.7246745859455554, 2.7246578736678213, 2.7246424054201315, 2.724625517692465, 2.7246114538628556, 2.7246114538628556, 2.7246114538628556, 2.724586818256174, 2.723970203284396, 2.7226359250502674, 2.722425369698045, 9.412403583922346, 11.91337715349002, 15.427511527191244, 4.400928576471344, 4.407145334811779, 5.736528084073493, 9.436157338368703, 8.602408557646186, 15.814070703371522, 7.005623175748208, 4.405870786385904, 9.145713561832135, 5.9330764163829235, 3.564577024940913, 15.956743557496887, 8.004531695416782, 13.97811173575636, 9.19118325782838, 6.232740135703489, 12.953521154548529, 8.516269754418879, 6.011579466267839, 4.842170857914893, 5.256475278734546, 9.993171734313378, 6.335788394851634, 6.3357883900258605, 6.335788380723865, 9.147640997576312, 7.585784773948047, 6.189128784307625, 5.514370210176489, 5.244076283927985, 11.585704921209228, 11.585704886769376, 7.5265830370473035, 7.522715378289935, 6.711516077618244, 14.805301911892478, 5.897488746007464, 5.895218401455103, 4.271646943978615, 4.269790293597921, 4.245963885596585, 3.458361182135654, 3.458361182135654, 3.4583495769973, 3.457750437334677, 3.4560709916109813, 3.453128941065565, 3.4444433563105528, 2.644635222652151, 2.644635222652151, 2.644635222652151, 2.6446308927802624, 2.6438625050437343, 2.643532858476932, 2.6405629098453045, 2.6403925401812707, 2.637632757647703, 5.911239969412338, 5.088393070068495, 1.8309028567911665, 1.8309028567911665, 5.861215138260778, 14.034419821749994, 10.760933754075092, 4.1639900138846695, 10.012088814680515, 8.592002717976795, 8.59200271181976, 8.592002702000544, 7.34920936916538, 4.294067473595543, 8.297746421058912, 8.716442759856728, 13.352545326087068, 6.047930450058528, 5.003475499223448, 6.4958601339079705, 6.259013947726035, 14.07476385117689, 8.992285374707254, 8.273261840693296, 5.650954596739811, 5.604968022215288, 5.872583728167677, 5.900530709870916, 6.084701529564474], \"Term\": [\"industry\", \"young\", \"new\", \"erika\", \"indi young\", \"indi\", \"erika hall\", \"field\", \"steve\", \"experience\", \"hall\", \"norman\", \"tomer\", \"ladner\", \"sam\", \"sam ladner\", \"research team\", \"portigal\", \"love\", \"tech\", \"sharon\", \"steve portigal\", \"leader field\", \"leader\", \"like\", \"data\", \"tomer sharon\", \"nielsen\", \"organization\", \"real\", \"industry leader\", \"color\", \"people color\", \"tell\", \"sauro\", \"jeff sauro\", \"like hear\", \"woman\", \"people field\", \"people outside\", \"real\", \"nice\", \"specifically\", \"industry research\", \"look\", \"long time\", \"practical\", \"real problem\", \"company like\", \"mid\", \"range industry\", \"concerned\", \"senior people\", \"turned\", \"tricia\", \"tricia wang\", \"wang\", \"success\", \"ia\", \"cross\", \"industry\", \"story\", \"doe\", \"designer\", \"senior\", \"did\", \"big company\", \"ux\", \"google\", \"folk\", \"time\", \"market\", \"like\", \"jeff\", \"consultant\", \"know\", \"researcher\", \"want\", \"expert\", \"client\", \"leader\", \"range\", \"different\", \"just\", \"world\", \"professional\", \"academic\", \"big\", \"practice\", \"product\", \"conference\", \"company\", \"work\", \"mix\", \"field\", \"research team\", \"leader field\", \"new\", \"quant\", \"sharing\", \"qual\", \"social scientist\", \"traditional\", \"different type\", \"valuable\", \"seasoned\", \"complex\", \"b2b b2c\", \"b2c\", \"helped\", \"methodology\", \"research work\", \"research role\", \"mix academic professional\", \"academic professional\", \"qual quant\", \"effective\", \"elizabeth\", \"key\", \"field people\", \"academic researcher\", \"different background\", \"role\", \"way working\", \"setting\", \"b2b\", \"important\", \"data\", \"research leader\", \"diversity\", \"field\", \"practitioner\", \"share\", \"idea\", \"leader\", \"work\", \"researcher\", \"enterprise\", \"method\", \"social\", \"team\", \"product\", \"le\", \"academic\", \"mix\", \"background\", \"just\", \"type\", \"agency\", \"scientist\", \"want\", \"company\", \"small\", \"doing\", \"like\", \"learn\", \"working\", \"erika\", \"erika hall\", \"event\", \"particular\", \"related\", \"kate\", \"hall steve\", \"leisa reichelt\", \"feel\", \"erika hall steve\", \"kate towsey\", \"towsey\", \"use research\", \"innovation\", \"conduct\", \"conduct research\", \"love hear\", \"reichelt erika hall\", \"leisa reichelt erika\", \"reichelt erika\", \"bubble\", \"data scientist\", \"people different\", \"silicon\", \"silicon valley\", \"valley\", \"honestly\", \"example\", \"area\", \"hear people\", \"love\", \"hall\", \"experience\", \"like people\", \"speak\", \"public\", \"really\", \"lot\", \"organization\", \"great\", \"leisa\", \"tech\", \"diverse\", \"reichelt\", \"company\", \"hear\", \"like\", \"different\", \"thing\", \"leader\", \"doing\", \"think\", \"need\", \"individual\", \"work\", \"ladner\", \"sam\", \"sam ladner\", \"researcher\", \"industry\", \"big\", \"learn\", \"group\", \"indi young\", \"indi\", \"norman\", \"tomer\", \"sharon\", \"young\", \"tomer sharon\", \"nielsen\", \"don norman\", \"genevieve\", \"mixed\", \"genevieve bell\", \"bell\", \"liz\", \"nielsen norman\", \"people doing research\", \"microsoft\", \"john\", \"young steve\", \"indi young steve\", \"young steve portigal\", \"ppl\", \"conducting\", \"hire\", \"steve krug\", \"sander\", \"google microsoft\", \"tech company\", \"leading\", \"nate bolt\", \"scott\", \"user research\", \"steve\", \"portigal\", \"anthropologist\", \"steve portigal\", \"ladner\", \"sam\", \"sam ladner\", \"spool\", \"ideo\", \"don\", \"tech\", \"company\", \"orgs\", \"startup\", \"jared\", \"agency\", \"researcher\", \"organization\", \"big\", \"jared spool\", \"user\", \"design\", \"doing\", \"work\"], \"Total\": [40.0, 16.0, 18.0, 14.0, 12.0, 12.0, 13.0, 31.0, 22.0, 22.0, 15.0, 8.0, 8.0, 15.0, 15.0, 15.0, 9.0, 18.0, 11.0, 20.0, 7.0, 17.0, 8.0, 54.0, 43.0, 11.0, 6.0, 6.0, 32.0, 9.0, 6.655593724407977, 4.99256535222146, 4.159827577307719, 4.1598240196068845, 4.159711758443421, 4.15971175844309, 4.159797154103235, 4.15979402570764, 4.159780573095655, 4.159390121857098, 9.161966796412635, 4.1601235892784585, 4.157126278308413, 4.156236917633969, 3.3270651168769847, 3.3270650370921677, 3.327065003713345, 3.327064870552372, 3.3270648562435703, 3.3270647705252387, 3.327064693443904, 3.3270644606419046, 3.3270458892550367, 3.327041110310114, 3.3268723577680164, 3.3268723577680164, 3.3268723577680164, 3.327133119405537, 3.3269491288948774, 3.3270958225830833, 40.016884929190844, 7.4881157636499145, 6.655607632467931, 9.983056734898696, 11.645295897790017, 7.469495102788917, 7.493079502659544, 19.954129327200206, 18.263014202625452, 16.619086793444275, 10.795851472917587, 5.822369438970562, 43.33529511841142, 5.801999618137882, 10.835730095413245, 12.475357297774318, 81.25600754873827, 25.721523083376006, 11.641145820674872, 9.909973715932011, 54.08408446568428, 8.323583185701752, 26.61651728940498, 24.936007563207923, 7.468645882766707, 11.598379157310955, 24.036833357253087, 27.316773604059, 12.5004487701062, 20.712041113962094, 13.342657508786209, 49.728986751347215, 44.834303041519156, 18.31635449789603, 31.606640927770265, 9.130821663610432, 8.30106469188595, 18.265985257700937, 4.979922341083563, 4.149687192435226, 4.1496968874214355, 4.149729088697791, 4.149566586876724, 4.1496486373035815, 4.149797088730104, 4.1498329712342406, 3.3194595391859893, 3.3194594833008195, 3.3194594833008195, 3.319459438088401, 3.3194593845355262, 3.319464545733506, 3.319464762649998, 3.3194110585525483, 3.3194110585525483, 3.3194729908424043, 3.3195486215576486, 3.319404331649693, 3.319541887991234, 3.319480213958968, 3.3211178593252955, 4.144658647174556, 5.81814849851714, 2.48923196705771, 2.4892319366295843, 5.791907236871383, 8.31698559046459, 11.648319422773783, 8.317135686685416, 13.274236775711207, 31.606640927770265, 13.275233516802256, 8.29394201003279, 7.456748165334432, 54.08408446568428, 44.834303041519156, 81.25600754873827, 9.131001936305722, 9.898103795491549, 10.803486269377691, 19.870026831363273, 20.712041113962094, 14.981398983748186, 24.036833357253087, 18.31635449789603, 14.917571865336544, 24.936007563207923, 12.487271481556709, 13.999627489104338, 8.328496051199586, 25.721523083376006, 49.728986751347215, 13.256861343350268, 25.71187021276438, 43.33529511841142, 15.836099863149917, 17.39219960211411, 14.242309125693517, 13.403903325408672, 5.020625507348098, 5.020621925455683, 5.020608329577079, 5.020567010558265, 5.0200575438840325, 4.182257092615351, 4.18222689741581, 4.182139186015465, 4.182179898294325, 4.182179898294323, 4.1822079895040485, 4.182207009539474, 4.181695146709667, 4.181687553554864, 3.3438873794791246, 3.3438872139257882, 3.3438872139257882, 3.3438872139257882, 3.3438869959530706, 3.3438867153408594, 3.343886455488487, 3.3438862981094, 3.3438862981094, 3.3438862981094, 3.3438859534456613, 3.3438820168781436, 3.343865730968587, 3.3438722450578364, 11.711075575704793, 15.835804743808524, 22.529947384410274, 5.834558224890477, 5.850910464598284, 8.3606005516543, 15.851383045860377, 14.149315294443271, 32.360333416493134, 11.670022506878595, 6.648251908017482, 20.6758845399033, 10.830819927909953, 5.012499690651086, 49.728986751347215, 17.508282484439192, 43.33529511841142, 26.61651728940498, 12.490637022468238, 54.08408446568428, 25.71187021276438, 13.324738489431482, 8.30728410202979, 10.015696777430119, 44.834303041519156, 15.663440155029098, 15.663440155140659, 15.663440155307786, 81.25600754873827, 40.016884929190844, 27.316773604059, 15.836099863149917, 12.43489369454245, 12.22151332165228, 12.221513322694072, 8.152506443086121, 8.152612137928834, 7.338802049461778, 16.31008546462038, 6.5250644706647725, 6.525122366453746, 4.897522442001667, 4.897562757946856, 4.898149465768524, 4.08376251226619, 4.08376251226619, 4.0837627892744734, 4.083776756891379, 4.083816018510105, 4.083905005295255, 4.084079874088476, 3.2700159371000628, 3.2700159371000628, 3.2700159371000628, 3.2700160598886567, 3.2700393322867525, 3.2700417775409565, 3.2701391464382157, 3.2701027667319833, 3.270207780765752, 7.3629989238113325, 6.543947395978215, 2.456269520940784, 2.456269520940784, 8.188759015424974, 22.179972074452174, 18.085203024131904, 5.738417446846487, 17.270354611981823, 15.663440155029098, 15.663440155140659, 15.663440155307786, 13.995643987965018, 6.565607547906648, 17.304115187498937, 20.6758845399033, 49.728986751347215, 11.536891136044595, 8.228056918435838, 14.01233870486266, 13.999627489104338, 81.25600754873827, 32.360333416493134, 27.316773604059, 12.369436425403727, 13.177847703751109, 16.530825139682868, 25.71187021276438, 44.834303041519156], \"loglift\": [30.0, 29.0, 28.0, 27.0, 26.0, 25.0, 24.0, 23.0, 22.0, 21.0, 20.0, 19.0, 18.0, 17.0, 16.0, 15.0, 14.0, 13.0, 12.0, 11.0, 10.0, 9.0, 8.0, 7.0, 6.0, 5.0, 4.0, 3.0, 2.0, 1.0, 1.193, 1.1755, 1.1486, 1.1482, 1.1467, 1.1467, 1.1457, 1.1455, 1.1448, 1.1432, 1.1366, 1.1359, 1.1145, 1.104, 1.1037, 1.1037, 1.1037, 1.1037, 1.1037, 1.1037, 1.1037, 1.1037, 1.1025, 1.1008, 1.1006, 1.1006, 1.1006, 1.0999, 1.0984, 1.0965, 1.0856, 1.0801, 1.066, 1.0054, 0.8819, 0.9507, 0.9489, 0.7569, 0.768, 0.7849, 0.8622, 0.9894, 0.5449, 0.9825, 0.8415, 0.7839, 0.2982, 0.5603, 0.7317, 0.7915, 0.0017, 0.812, 0.2358, 0.2585, 0.8502, 0.6256, 0.2504, 0.1746, 0.5814, 0.2842, 0.5261, -0.2825, -0.2671, 0.2015, -0.2637, 1.2923, 1.2852, 1.2844, 1.2324, 1.204, 1.2031, 1.2026, 1.2023, 1.2016, 1.2005, 1.1998, 1.159, 1.159, 1.159, 1.159, 1.159, 1.1584, 1.1583, 1.1581, 1.1581, 1.1574, 1.1556, 1.1548, 1.1547, 1.1542, 1.0918, 1.0827, 1.0804, 1.0791, 1.0791, 1.0614, 1.044, 1.0258, 1.0402, 1.0078, 0.9333, 0.9535, 1.0232, 1.0059, 0.5535, 0.5335, 0.3184, 0.8787, 0.8558, 0.8221, 0.6337, 0.607, 0.6868, 0.5236, 0.567, 0.6433, 0.3755, 0.6668, 0.5689, 0.8268, 0.1873, -0.2077, 0.5584, 0.1318, -0.3834, 0.4043, 0.2932, 1.3212, 1.3182, 1.235, 1.2349, 1.2346, 1.2343, 1.2307, 1.2064, 1.2054, 1.2053, 1.2052, 1.2052, 1.2049, 1.2047, 1.2012, 1.2011, 1.1619, 1.1619, 1.1619, 1.1619, 1.1619, 1.1619, 1.1619, 1.1619, 1.1619, 1.1619, 1.1619, 1.1616, 1.1612, 1.1611, 1.1482, 1.0821, 0.988, 1.0847, 1.0833, 0.99, 0.848, 0.8691, 0.6507, 0.8564, 0.9553, 0.551, 0.7648, 1.0258, 0.23, 0.584, 0.2352, 0.3034, 0.6715, -0.0625, 0.2617, 0.5707, 0.8269, 0.722, -0.1344, 0.4616, 0.4616, 0.4616, -0.8174, -0.2963, -0.118, 0.3117, 0.5033, 1.4598, 1.4598, 1.4334, 1.4328, 1.4239, 1.4164, 1.4121, 1.4117, 1.3765, 1.3761, 1.3703, 1.347, 1.347, 1.347, 1.3468, 1.3463, 1.3455, 1.3429, 1.301, 1.301, 1.301, 1.301, 1.3007, 1.3006, 1.2994, 1.2993, 1.2983, 1.2936, 1.2617, 1.2194, 1.2194, 1.1788, 1.0556, 0.9941, 1.1925, 0.968, 0.9127, 0.9127, 0.9127, 0.8691, 1.0886, 0.7783, 0.6495, 0.1984, 0.8674, 1.0158, 0.7445, 0.7082, -0.24, 0.2327, 0.3188, 0.7298, 0.6584, 0.4783, 0.0413, -0.484], \"logprob\": [30.0, 29.0, 28.0, 27.0, 26.0, 25.0, 24.0, 23.0, 22.0, 21.0, 20.0, 19.0, 18.0, 17.0, 16.0, 15.0, 14.0, 13.0, 12.0, 11.0, 10.0, 9.0, 8.0, 7.0, 6.0, 5.0, 4.0, 3.0, 2.0, 1.0, -5.3196, -5.6246, -5.834, -5.8343, -5.8359, -5.8359, -5.8369, -5.8371, -5.8378, -5.8394, -5.0564, -5.8466, -5.8687, -5.8795, -6.1023, -6.1023, -6.1023, -6.1023, -6.1023, -6.1023, -6.1023, -6.1023, -6.1034, -6.1051, -6.1054, -6.1054, -6.1054, -6.1061, -6.1076, -6.1094, -3.6331, -5.3146, -5.4466, -5.1018, -5.0712, -5.4465, -5.4452, -4.6578, -4.7351, -4.8126, -5.1667, -5.657, -4.0942, -5.6674, -5.1837, -5.1004, -3.7123, -4.6004, -5.2218, -5.323, -4.4158, -5.477, -4.8907, -4.9332, -5.5472, -5.3316, -4.978, -4.9259, -5.3009, -5.0931, -5.291, -4.784, -4.8722, -5.2988, -5.2184, -4.9041, -5.0065, -4.2186, -5.5702, -5.781, -5.7819, -5.7824, -5.7827, -5.7834, -5.7845, -5.7852, -6.0493, -6.0493, -6.0493, -6.0493, -6.0493, -6.0499, -6.05, -6.0502, -6.0502, -6.0509, -6.0526, -6.0534, -6.0535, -6.0541, -6.1159, -5.9036, -5.5667, -6.417, -6.417, -5.5902, -5.2458, -4.9271, -5.2495, -4.8144, -4.0213, -4.8686, -5.2694, -5.393, -3.864, -4.0716, -3.6921, -5.3177, -5.2599, -5.2061, -4.7851, -4.7703, -5.0144, -4.7048, -4.9332, -5.0622, -4.8162, -5.2165, -5.2001, -5.4616, -4.9734, -4.7091, -5.2651, -5.0293, -5.0225, -5.2415, -5.2588, -4.4306, -4.4943, -5.5595, -5.5596, -5.5599, -5.5602, -5.5639, -5.7708, -5.7718, -5.7719, -5.772, -5.772, -5.7723, -5.7725, -5.7761, -5.7762, -6.039, -6.039, -6.039, -6.039, -6.039, -6.039, -6.039, -6.039, -6.039, -6.039, -6.039, -6.0393, -6.0398, -6.0398, -4.7993, -4.5637, -4.3052, -5.5595, -5.5581, -5.2945, -4.7968, -4.8893, -4.2805, -5.0947, -5.5584, -4.8281, -5.2608, -5.7703, -4.2715, -4.9614, -4.4039, -4.8231, -5.2115, -4.48, -4.8994, -5.2477, -5.464, -5.3819, -4.7395, -5.1951, -5.1951, -5.1951, -4.8279, -5.0151, -5.2186, -5.334, -5.3843, -4.445, -4.445, -4.8764, -4.8769, -4.991, -4.1998, -5.1203, -5.1207, -5.4428, -5.4432, -5.4488, -5.654, -5.654, -5.654, -5.6542, -5.6547, -5.6555, -5.658, -5.9223, -5.9223, -5.9223, -5.9223, -5.9226, -5.9227, -5.9238, -5.9239, -5.9249, -5.118, -5.2678, -6.29, -6.29, -5.1265, -4.2533, -4.5189, -5.4683, -4.591, -4.744, -4.744, -4.744, -4.9002, -5.4376, -4.7788, -4.7296, -4.3031, -5.0951, -5.2847, -5.0236, -5.0608, -4.2504, -4.6984, -4.7818, -5.163, -5.1712, -5.1245, -5.1198, -5.089]}, \"token.table\": {\"Topic\": [1, 2, 3, 4, 2, 2, 2, 3, 4, 3, 4, 3, 2, 4, 2, 2, 1, 2, 3, 4, 4, 1, 2, 3, 4, 1, 2, 3, 3, 1, 4, 1, 1, 2, 3, 4, 1, 2, 1, 3, 3, 4, 1, 2, 3, 1, 2, 3, 1, 2, 3, 3, 1, 2, 3, 4, 1, 2, 1, 2, 4, 1, 2, 3, 4, 2, 2, 2, 3, 4, 2, 3, 4, 1, 2, 1, 2, 3, 4, 1, 2, 3, 4, 4, 2, 2, 2, 3, 4, 3, 3, 3, 3, 3, 2, 3, 4, 1, 2, 3, 1, 2, 3, 2, 1, 3, 4, 4, 4, 1, 2, 3, 4, 4, 1, 3, 4, 2, 3, 4, 2, 3, 4, 3, 1, 2, 3, 4, 3, 2, 4, 3, 1, 1, 2, 4, 2, 3, 4, 2, 3, 4, 4, 4, 1, 2, 3, 1, 3, 1, 1, 3, 2, 3, 4, 2, 3, 4, 1, 4, 1, 4, 1, 2, 3, 4, 3, 3, 2, 1, 3, 4, 1, 3, 4, 1, 2, 3, 1, 2, 3, 4, 2, 1, 4, 1, 2, 3, 3, 4, 3, 3, 1, 2, 3, 4, 1, 3, 4, 4, 1, 1, 1, 3, 4, 2, 3, 3, 1, 2, 2, 4, 2, 4, 1, 1, 2, 3, 2, 4, 4, 2, 3, 4, 1, 2, 1, 4, 4, 4, 1, 2, 3, 4, 1, 3, 4, 3, 1, 3, 4, 1, 1, 2, 3, 4, 4, 1, 1, 3, 4, 1, 2, 4, 1, 2, 4, 1, 2, 4, 1, 3, 2, 2, 2, 1, 2, 3, 1, 1, 3, 1, 1, 2, 3, 4, 2, 3, 3, 3, 3, 2, 3, 2, 2, 2, 1, 2, 3, 4, 2, 3, 1, 3, 4, 1, 3, 4, 4, 1, 2, 3, 4, 2, 1, 2, 3, 4, 1, 2, 2, 3, 4, 2, 4, 3, 3, 1, 2, 3, 4, 1, 2, 2, 2, 3, 1, 2, 3, 4, 3, 4, 2, 3, 4, 4, 2, 3, 4, 1, 2, 1, 1, 2, 3, 4, 1, 3, 4, 3, 4, 1, 2, 3, 4, 1, 2, 3, 4, 1, 3, 4, 4, 4, 3, 2, 1, 1, 1, 1, 2, 3, 3, 1, 2, 4, 1, 2, 4, 1, 2, 3, 4, 3, 2, 1, 1, 2, 3, 4, 2, 1, 1, 2, 3, 4, 1, 2, 3, 4, 1, 3, 4, 1, 4, 4, 4], \"Freq\": [0.33282254284905666, 0.4160281785613208, 0.04160281785613208, 0.16641127142452833, 0.9037747802491718, 0.9033103090805298, 0.42858283226962246, 0.07143047204493708, 0.42858283226962246, 0.17426407354688775, 0.697056294187551, 0.897165209779825, 0.6906187955732319, 0.17265469889330798, 0.9037615958538063, 0.9037615958538063, 0.13407007642090413, 0.4692452674731645, 0.20110511463135622, 0.20110511463135622, 0.734616665633482, 0.32946789875150884, 0.1464301772228928, 0.21964526583433922, 0.2928603544457856, 0.6672823901341676, 0.1334564780268335, 0.1334564780268335, 0.8971595043823972, 0.6054506471953557, 0.40363376479690377, 0.8011913150461186, 0.2010899608713441, 0.2010899608713441, 0.3217439373941505, 0.2614169491327473, 0.9016956776091093, 0.9037615806384167, 0.9016957848244387, 0.9565498822044375, 0.9565516191183602, 0.9174201577269981, 0.44968552899217934, 0.14989517633072644, 0.3747379408268161, 0.6460109229707645, 0.09228727471010921, 0.2768618241303276, 0.9016872852405154, 0.6867943528711185, 0.2575478823266694, 0.8971595796702087, 0.36295828848838124, 0.12098609616279375, 0.18147914424419062, 0.36295828848838124, 0.7011880414872783, 0.20033944042493665, 0.6693892868519492, 0.13387785737038985, 0.13387785737038985, 0.33813589892854073, 0.18785327718252262, 0.33813589892854073, 0.11271196630951358, 0.723823179514463, 0.9639370341001154, 0.36931645310549344, 0.5539746796582401, 0.09232911327637336, 0.6780050824818739, 0.15066779610708309, 0.15066779610708309, 0.7512462086269314, 0.15024924172538626, 0.1555701692214611, 0.27224779613755695, 0.3500328807482875, 0.23335525383219166, 0.11557944329016406, 0.23115888658032813, 0.1733691649352461, 0.46231777316065625, 0.8167394937684369, 0.9037373275744625, 0.9037766117841528, 0.6571020400448537, 0.2190340133482846, 0.1095170066741423, 0.9829866685552847, 0.9698667383967903, 0.956448320365684, 0.7967134760690021, 0.8971608402621835, 0.22192683873996877, 0.6657805162199063, 0.0887707354959875, 0.6013153780419005, 0.42951098431564316, 0.9564282613340735, 0.22147244359174062, 0.6644173307752218, 0.1265556820524232, 0.9037559517253634, 0.6017177793393976, 0.24068711173575907, 0.1805153338018193, 0.8167327705009072, 0.734616665633482, 0.6023102144014466, 0.054755474036495146, 0.16426642210948542, 0.16426642210948542, 0.9173729013932931, 0.257068912954686, 0.599827463560934, 0.085689637651562, 0.3216754479980444, 0.40209430999755547, 0.24125658599853328, 0.06314803801751721, 0.7577764562102065, 0.18944411405255163, 0.7968036153038176, 0.28557912544784686, 0.1713474752687081, 0.456926600716555, 0.057115825089569375, 0.897163462041329, 0.9037616081634153, 0.9174194717035005, 0.8971597840855461, 0.9017270429369382, 0.13410671486116232, 0.6705335743058117, 0.13410671486116232, 0.15230882941196142, 0.15230882941196142, 0.6092353176478457, 0.7214152212646598, 0.24047174042155328, 0.9818751314305124, 0.9818751315142099, 0.9174267213695845, 0.19968655645675115, 0.29952983468512673, 0.4992163911418779, 0.7996624439064516, 0.1999156109766129, 0.901497334189176, 0.7218067832638899, 0.9564328094893758, 0.28546269714504485, 0.21409702285878365, 0.4281940457175673, 0.2425332809697579, 0.2425332809697579, 0.4850665619395158, 0.6894174876357156, 0.1723543719089289, 0.9616050900356452, 0.7345595807353226, 0.36092385588136966, 0.36092385588136966, 0.20051325326742758, 0.08020530130697104, 0.7967227589210522, 0.9564390096254287, 0.9037391607717896, 0.5611061737886132, 0.24047407448083422, 0.1603160496538895, 0.063842935530285, 0.38305761318171, 0.574586419772565, 0.26699776198065334, 0.5339955239613067, 0.20024832148549002, 0.2773459169770605, 0.44375346716329683, 0.2403664613801191, 0.055469183395412104, 0.9637317979005474, 0.15281296433015046, 0.7640648216507524, 0.25258744479806344, 0.3788811671970952, 0.3788811671970952, 0.6016619188536142, 0.3008309594268071, 0.9564213560813457, 0.8971594459006714, 0.46151756773205416, 0.18460702709282167, 0.3230622974124379, 0.04615175677320542, 0.9615853494332984, 0.685570328690153, 0.17139258217253825, 0.7346166158032367, 0.9016956285958208, 0.901695606972673, 0.21202439394209854, 0.6360731818262956, 0.21202439394209854, 0.1707785068135927, 0.7685032806611671, 0.8971594014829855, 0.6870055296091327, 0.1717513824022832, 0.6061767106072294, 0.3030883553036147, 0.9037616227438112, 0.7345910338536654, 0.901695700840352, 0.32757610149384314, 0.4367681353251242, 0.2183840676625621, 0.9037747802491718, 0.8166349410026418, 0.8142428927074636, 0.12037628516348219, 0.6018814258174109, 0.24075257032696437, 0.05474656778113845, 0.9306916522793537, 0.7211324220587223, 0.9195229856295954, 0.7346141032164639, 0.9812933060340655, 0.09270609055192819, 0.12360812073590424, 0.49443248294361697, 0.27811827165578457, 0.17335692747861856, 0.26003539121792785, 0.5200707824358557, 0.7967140444730761, 0.9615783168082267, 0.8971596493881995, 0.7346070406703795, 0.9615891823407531, 0.961679448864505, 0.16588146652249158, 0.22117528869665545, 0.6082320439158025, 0.9174266869203539, 0.9016956376420939, 0.47998276784658395, 0.3999856398721533, 0.07999712797443066, 0.22598472533104197, 0.6779541759931259, 0.07532824177701399, 0.33796765666331474, 0.4828109380904496, 0.1448432814271349, 0.5173136624196273, 0.25865683120981364, 0.17243788747320907, 0.23921726527220138, 0.7176517958166041, 0.9639258260343794, 0.903757918282887, 0.8032253770306094, 0.6007028329564842, 0.24028113318259367, 0.12014056659129684, 0.9016957217308108, 0.8731749609846214, 0.10914687012307768, 0.9016956737311613, 0.18925793360242193, 0.12617195573494797, 0.5677738008072658, 0.06308597786747398, 0.1995012591951118, 0.7980050367804472, 0.8971594459006714, 0.8971594459006714, 0.7967162019860148, 0.7214022021553851, 0.24046740071846168, 0.9037601584916471, 0.8761533512238928, 0.9037602175495104, 0.3692034706726843, 0.344589905961172, 0.11076104120180529, 0.172294952980586, 0.6875039372094871, 0.17187598430237178, 0.06384293552983028, 0.38305761317898174, 0.5745864197684726, 0.06384293552914909, 0.38305761317489456, 0.5745864197623418, 0.9174023613325419, 0.9616050900355688, 0.6003484866009908, 0.36020909196059453, 0.8142428927074636, 0.9638942164003104, 0.6869726686393772, 0.08587158357992215, 0.1717431671598443, 0.08587158357992215, 0.9017008180406354, 0.8034606862340021, 0.7234195745210279, 0.12056992908683799, 0.12056992908683799, 0.9639280780710165, 0.9538341479742425, 0.897159691612771, 0.897159691612771, 0.3017305451419259, 0.4525958177128888, 0.07543263628548147, 0.15086527257096294, 0.3702508523880792, 0.5553762785821188, 0.9639183461143057, 0.1709135708110103, 0.6836542832440412, 0.7216523625115228, 0.21435240869085606, 0.21435240869085606, 0.5001556202786641, 0.36460613116058793, 0.6076768852676465, 0.13525715857214834, 0.22542859762024725, 0.6312000733366924, 0.9173921553972872, 0.17370807186082102, 0.2316107624810947, 0.5790269062027367, 0.8012696637418749, 0.13354494395697916, 0.9016771774181412, 0.25163529181087435, 0.5032705836217487, 0.05032705836217487, 0.20130823344869947, 0.14509657346026322, 0.43528972038078967, 0.43528972038078967, 0.13581422601680443, 0.8148853561008265, 0.9615791392007039, 0.40029983987253553, 0.48035980784704263, 0.08005996797450711, 0.22514513154456656, 0.22514513154456656, 0.4502902630891331, 0.07504837718152219, 0.6483972123514445, 0.185256346386127, 0.185256346386127, 0.9812805840205707, 0.9195311444008952, 0.956439009625429, 0.9639560942702454, 0.9017478512499008, 0.9017478512499008, 0.9017021132391027, 0.24024463666309342, 0.48048927332618685, 0.24024463666309342, 0.9564325853804186, 0.15176985232806225, 0.37942463082015565, 0.45530955698418674, 0.1221186260477715, 0.1221186260477715, 0.732711756286629, 0.5512643433159219, 0.1002298806028949, 0.2004597612057898, 0.1002298806028949, 0.897159691612771, 0.9639025510098028, 0.9017478512499008, 0.46653535877724445, 0.311023572518163, 0.07775589312954075, 0.1555117862590815, 0.803460676412578, 0.9615860725987612, 0.2007391526007548, 0.4237826554904824, 0.22304350288972757, 0.13382610173383655, 0.22998816087148513, 0.3449822413072277, 0.17249112065361386, 0.22998816087148513, 0.669465399549481, 0.1338930799098962, 0.1338930799098962, 0.06131175720502426, 0.919676358075364, 0.9174267213695845, 0.9174267213695845], \"Term\": [\"academic\", \"academic\", \"academic\", \"academic\", \"academic professional\", \"academic researcher\", \"agency\", \"agency\", \"agency\", \"anthropologist\", \"anthropologist\", \"area\", \"b2b\", \"b2b\", \"b2b b2c\", \"b2c\", \"background\", \"background\", \"background\", \"background\", \"bell\", \"big\", \"big\", \"big\", \"big\", \"big company\", \"big company\", \"big company\", \"bubble\", \"client\", \"client\", \"color\", \"company\", \"company\", \"company\", \"company\", \"company like\", \"complex\", \"concerned\", \"conduct\", \"conduct research\", \"conducting\", \"conference\", \"conference\", \"conference\", \"consultant\", \"consultant\", \"consultant\", \"cross\", \"data\", \"data\", \"data scientist\", \"design\", \"design\", \"design\", \"design\", \"designer\", \"designer\", \"did\", \"did\", \"did\", \"different\", \"different\", \"different\", \"different\", \"different background\", \"different type\", \"diverse\", \"diverse\", \"diverse\", \"diversity\", \"diversity\", \"diversity\", \"doe\", \"doe\", \"doing\", \"doing\", \"doing\", \"doing\", \"don\", \"don\", \"don\", \"don\", \"don norman\", \"effective\", \"elizabeth\", \"enterprise\", \"enterprise\", \"enterprise\", \"erika\", \"erika hall\", \"erika hall steve\", \"event\", \"example\", \"experience\", \"experience\", \"experience\", \"expert\", \"expert\", \"feel\", \"field\", \"field\", \"field\", \"field people\", \"folk\", \"folk\", \"folk\", \"genevieve\", \"genevieve bell\", \"google\", \"google\", \"google\", \"google\", \"google microsoft\", \"great\", \"great\", \"great\", \"group\", \"group\", \"group\", \"hall\", \"hall\", \"hall\", \"hall steve\", \"hear\", \"hear\", \"hear\", \"hear\", \"hear people\", \"helped\", \"hire\", \"honestly\", \"ia\", \"idea\", \"idea\", \"idea\", \"ideo\", \"ideo\", \"ideo\", \"important\", \"important\", \"indi\", \"indi young\", \"indi young steve\", \"individual\", \"individual\", \"individual\", \"industry\", \"industry\", \"industry leader\", \"industry research\", \"innovation\", \"jared\", \"jared\", \"jared\", \"jared spool\", \"jared spool\", \"jared spool\", \"jeff\", \"jeff\", \"jeff sauro\", \"john\", \"just\", \"just\", \"just\", \"just\", \"kate\", \"kate towsey\", \"key\", \"know\", \"know\", \"know\", \"ladner\", \"ladner\", \"ladner\", \"le\", \"le\", \"le\", \"leader\", \"leader\", \"leader\", \"leader\", \"leader field\", \"leading\", \"leading\", \"learn\", \"learn\", \"learn\", \"leisa\", \"leisa\", \"leisa reichelt\", \"leisa reichelt erika\", \"like\", \"like\", \"like\", \"like\", \"like hear\", \"like people\", \"like people\", \"liz\", \"long time\", \"look\", \"lot\", \"lot\", \"lot\", \"love\", \"love\", \"love hear\", \"market\", \"market\", \"method\", \"method\", \"methodology\", \"microsoft\", \"mid\", \"mix\", \"mix\", \"mix\", \"mix academic professional\", \"mixed\", \"nate bolt\", \"need\", \"need\", \"need\", \"new\", \"new\", \"nice\", \"nielsen\", \"nielsen norman\", \"norman\", \"organization\", \"organization\", \"organization\", \"organization\", \"orgs\", \"orgs\", \"orgs\", \"particular\", \"people color\", \"people different\", \"people doing research\", \"people field\", \"people outside\", \"portigal\", \"portigal\", \"portigal\", \"ppl\", \"practical\", \"practice\", \"practice\", \"practice\", \"practitioner\", \"practitioner\", \"practitioner\", \"product\", \"product\", \"product\", \"professional\", \"professional\", \"professional\", \"public\", \"public\", \"qual\", \"qual quant\", \"quant\", \"range\", \"range\", \"range\", \"range industry\", \"real\", \"real\", \"real problem\", \"really\", \"really\", \"really\", \"really\", \"reichelt\", \"reichelt\", \"reichelt erika\", \"reichelt erika hall\", \"related\", \"research leader\", \"research leader\", \"research role\", \"research team\", \"research work\", \"researcher\", \"researcher\", \"researcher\", \"researcher\", \"role\", \"role\", \"sam\", \"sam\", \"sam\", \"sam ladner\", \"sam ladner\", \"sam ladner\", \"sander\", \"sauro\", \"scientist\", \"scientist\", \"scott\", \"seasoned\", \"senior\", \"senior\", \"senior\", \"senior\", \"senior people\", \"setting\", \"share\", \"share\", \"share\", \"sharing\", \"sharon\", \"silicon\", \"silicon valley\", \"small\", \"small\", \"small\", \"small\", \"social\", \"social\", \"social scientist\", \"speak\", \"speak\", \"specifically\", \"spool\", \"spool\", \"spool\", \"startup\", \"startup\", \"steve\", \"steve\", \"steve\", \"steve krug\", \"steve portigal\", \"steve portigal\", \"steve portigal\", \"story\", \"story\", \"success\", \"team\", \"team\", \"team\", \"team\", \"tech\", \"tech\", \"tech\", \"tech company\", \"tech company\", \"tell\", \"thing\", \"thing\", \"thing\", \"think\", \"think\", \"think\", \"think\", \"time\", \"time\", \"time\", \"tomer\", \"tomer sharon\", \"towsey\", \"traditional\", \"tricia\", \"tricia wang\", \"turned\", \"type\", \"type\", \"type\", \"use research\", \"user\", \"user\", \"user\", \"user research\", \"user research\", \"user research\", \"ux\", \"ux\", \"ux\", \"ux\", \"valley\", \"valuable\", \"wang\", \"want\", \"want\", \"want\", \"want\", \"way working\", \"woman\", \"work\", \"work\", \"work\", \"work\", \"working\", \"working\", \"working\", \"working\", \"world\", \"world\", \"world\", \"young\", \"young\", \"young steve\", \"young steve portigal\"]}, \"R\": 30, \"lambda.step\": 0.01, \"plot.opts\": {\"xlab\": \"PC1\", \"ylab\": \"PC2\"}, \"topic.order\": [1, 4, 3, 2]};\n",
       "\n",
       "function LDAvis_load_lib(url, callback){\n",
       "  var s = document.createElement('script');\n",
       "  s.src = url;\n",
       "  s.async = true;\n",
       "  s.onreadystatechange = s.onload = callback;\n",
       "  s.onerror = function(){console.warn(\"failed to load library \" + url);};\n",
       "  document.getElementsByTagName(\"head\")[0].appendChild(s);\n",
       "}\n",
       "\n",
       "if(typeof(LDAvis) !== \"undefined\"){\n",
       "   // already loaded: just create the visualization\n",
       "   !function(LDAvis){\n",
       "       new LDAvis(\"#\" + \"ldavis_el2761750055212085655054086\", ldavis_el2761750055212085655054086_data);\n",
       "   }(LDAvis);\n",
       "}else if(typeof define === \"function\" && define.amd){\n",
       "   // require.js is available: use it to load d3/LDAvis\n",
       "   require.config({paths: {d3: \"https://cdnjs.cloudflare.com/ajax/libs/d3/3.5.5/d3.min\"}});\n",
       "   require([\"d3\"], function(d3){\n",
       "      window.d3 = d3;\n",
       "      LDAvis_load_lib(\"https://cdn.rawgit.com/bmabey/pyLDAvis/files/ldavis.v1.0.0.js\", function(){\n",
       "        new LDAvis(\"#\" + \"ldavis_el2761750055212085655054086\", ldavis_el2761750055212085655054086_data);\n",
       "      });\n",
       "    });\n",
       "}else{\n",
       "    // require.js not available: dynamically load d3 & LDAvis\n",
       "    LDAvis_load_lib(\"https://cdnjs.cloudflare.com/ajax/libs/d3/3.5.5/d3.min.js\", function(){\n",
       "         LDAvis_load_lib(\"https://cdn.rawgit.com/bmabey/pyLDAvis/files/ldavis.v1.0.0.js\", function(){\n",
       "                 new LDAvis(\"#\" + \"ldavis_el2761750055212085655054086\", ldavis_el2761750055212085655054086_data);\n",
       "            })\n",
       "         });\n",
       "}\n",
       "</script>"
      ],
      "text/plain": [
       "PreparedData(topic_coordinates=              x         y  topics  cluster       Freq\n",
       "topic                                                \n",
       "0      0.099256  0.012285       1        1  26.978010\n",
       "3      0.068893 -0.087438       2        1  25.507302\n",
       "2     -0.020914  0.125629       3        1  25.495105\n",
       "1     -0.147236 -0.050476       4        1  22.019582, topic_info=    Category       Freq              Term      Total  loglift  logprob\n",
       "353  Default  40.000000          industry  40.000000  30.0000  30.0000\n",
       "920  Default  16.000000             young  16.000000  29.0000  29.0000\n",
       "514  Default  18.000000               new  18.000000  28.0000  28.0000\n",
       "226  Default  14.000000             erika  14.000000  27.0000  27.0000\n",
       "349  Default  12.000000        indi young  12.000000  26.0000  26.0000\n",
       "348  Default  12.000000              indi  12.000000  25.0000  25.0000\n",
       "227  Default  13.000000        erika hall  13.000000  24.0000  24.0000\n",
       "264  Default  31.000000             field  31.000000  23.0000  23.0000\n",
       "784  Default  22.000000             steve  22.000000  22.0000  22.0000\n",
       "244  Default  22.000000        experience  22.000000  21.0000  21.0000\n",
       "308  Default  15.000000              hall  15.000000  20.0000  20.0000\n",
       "532  Default   8.000000            norman   8.000000  19.0000  19.0000\n",
       "830  Default   8.000000             tomer   8.000000  18.0000  18.0000\n",
       "406  Default  15.000000            ladner  15.000000  17.0000  17.0000\n",
       "705  Default  15.000000               sam  15.000000  16.0000  16.0000\n",
       "706  Default  15.000000        sam ladner  15.000000  15.0000  15.0000\n",
       "687  Default   9.000000     research team   9.000000  14.0000  14.0000\n",
       "601  Default  18.000000          portigal  18.000000  13.0000  13.0000\n",
       "464  Default  11.000000              love  11.000000  12.0000  12.0000\n",
       "811  Default  20.000000              tech  20.000000  11.0000  11.0000\n",
       "734  Default   7.000000            sharon   7.000000  10.0000  10.0000\n",
       "786  Default  17.000000    steve portigal  17.000000   9.0000   9.0000\n",
       "422  Default   8.000000      leader field   8.000000   8.0000   8.0000\n",
       "419  Default  54.000000            leader  54.000000   7.0000   7.0000\n",
       "445  Default  43.000000              like  43.000000   6.0000   6.0000\n",
       "153  Default  11.000000              data  11.000000   5.0000   5.0000\n",
       "831  Default   6.000000      tomer sharon   6.000000   4.0000   4.0000\n",
       "520  Default   6.000000           nielsen   6.000000   3.0000   3.0000\n",
       "544  Default  32.000000      organization  32.000000   2.0000   2.0000\n",
       "650  Default   9.000000              real   9.000000   1.0000   1.0000\n",
       "..       ...        ...               ...        ...      ...      ...\n",
       "293   Topic4   2.637633  google microsoft   3.270208   1.2983  -5.9249\n",
       "812   Topic4   5.911240      tech company   7.362999   1.2936  -5.1180\n",
       "425   Topic4   5.088393           leading   6.543947   1.2617  -5.2678\n",
       "509   Topic4   1.830903         nate bolt   2.456270   1.2194  -6.2900\n",
       "718   Topic4   1.830903             scott   2.456270   1.2194  -6.2900\n",
       "865   Topic4   5.861215     user research   8.188759   1.1788  -5.1265\n",
       "784   Topic4  14.034420             steve  22.179972   1.0556  -4.2533\n",
       "601   Topic4  10.760934          portigal  18.085203   0.9941  -4.5189\n",
       "35    Topic4   4.163990    anthropologist   5.738417   1.1925  -5.4683\n",
       "786   Topic4  10.012089    steve portigal  17.270355   0.9680  -4.5910\n",
       "406   Topic4   8.592003            ladner  15.663440   0.9127  -4.7440\n",
       "705   Topic4   8.592003               sam  15.663440   0.9127  -4.7440\n",
       "706   Topic4   8.592003        sam ladner  15.663440   0.9127  -4.7440\n",
       "773   Topic4   7.349209             spool  13.995644   0.8691  -4.9002\n",
       "339   Topic4   4.294067              ideo   6.565608   1.0886  -5.4376\n",
       "202   Topic4   8.297746               don  17.304115   0.7783  -4.7788\n",
       "811   Topic4   8.716443              tech  20.675885   0.6495  -4.7296\n",
       "112   Topic4  13.352545           company  49.728987   0.1984  -4.3031\n",
       "547   Topic4   6.047930              orgs  11.536891   0.8674  -5.0951\n",
       "783   Topic4   5.003475           startup   8.228057   1.0158  -5.2847\n",
       "379   Topic4   6.495860             jared  14.012339   0.7445  -5.0236\n",
       "21    Topic4   6.259014            agency  13.999627   0.7082  -5.0608\n",
       "690   Topic4  14.074764        researcher  81.256008  -0.2400  -4.2504\n",
       "544   Topic4   8.992285      organization  32.360333   0.2327  -4.6984\n",
       "71    Topic4   8.273262               big  27.316774   0.3188  -4.7818\n",
       "380   Topic4   5.650955       jared spool  12.369436   0.7298  -5.1630\n",
       "864   Topic4   5.604968              user  13.177848   0.6584  -5.1712\n",
       "165   Topic4   5.872584            design  16.530825   0.4783  -5.1245\n",
       "195   Topic4   5.900531             doing  25.711870   0.0413  -5.1198\n",
       "906   Topic4   6.084702              work  44.834303  -0.4840  -5.0890\n",
       "\n",
       "[276 rows x 6 columns], token_table=      Topic      Freq                   Term\n",
       "term                                        \n",
       "4         1  0.332823               academic\n",
       "4         2  0.416028               academic\n",
       "4         3  0.041603               academic\n",
       "4         4  0.166411               academic\n",
       "8         2  0.903775  academic professional\n",
       "10        2  0.903310    academic researcher\n",
       "21        2  0.428583                 agency\n",
       "21        3  0.071430                 agency\n",
       "21        4  0.428583                 agency\n",
       "35        3  0.174264         anthropologist\n",
       "35        4  0.697056         anthropologist\n",
       "45        3  0.897165                   area\n",
       "56        2  0.690619                    b2b\n",
       "56        4  0.172655                    b2b\n",
       "57        2  0.903762                b2b b2c\n",
       "58        2  0.903762                    b2c\n",
       "59        1  0.134070             background\n",
       "59        2  0.469245             background\n",
       "59        3  0.201105             background\n",
       "59        4  0.201105             background\n",
       "67        4  0.734617                   bell\n",
       "71        1  0.329468                    big\n",
       "71        2  0.146430                    big\n",
       "71        3  0.219645                    big\n",
       "71        4  0.292860                    big\n",
       "72        1  0.667282            big company\n",
       "72        2  0.133456            big company\n",
       "72        3  0.133456            big company\n",
       "85        3  0.897160                 bubble\n",
       "105       1  0.605451                 client\n",
       "...     ...       ...                    ...\n",
       "865       2  0.122119          user research\n",
       "865       4  0.732712          user research\n",
       "871       1  0.551264                     ux\n",
       "871       2  0.100230                     ux\n",
       "871       3  0.200460                     ux\n",
       "871       4  0.100230                     ux\n",
       "875       3  0.897160                 valley\n",
       "876       2  0.963903               valuable\n",
       "886       1  0.901748                   wang\n",
       "887       1  0.466535                   want\n",
       "887       2  0.311024                   want\n",
       "887       3  0.077756                   want\n",
       "887       4  0.155512                   want\n",
       "896       2  0.803461            way working\n",
       "905       1  0.961586                  woman\n",
       "906       1  0.200739                   work\n",
       "906       2  0.423783                   work\n",
       "906       3  0.223044                   work\n",
       "906       4  0.133826                   work\n",
       "908       1  0.229988                working\n",
       "908       2  0.344982                working\n",
       "908       3  0.172491                working\n",
       "908       4  0.229988                working\n",
       "914       1  0.669465                  world\n",
       "914       3  0.133893                  world\n",
       "914       4  0.133893                  world\n",
       "920       1  0.061312                  young\n",
       "920       4  0.919676                  young\n",
       "921       4  0.917427            young steve\n",
       "922       4  0.917427   young steve portigal\n",
       "\n",
       "[407 rows x 3 columns], R=30, lambda_step=0.01, plot_opts={'xlab': 'PC1', 'ylab': 'PC2'}, topic_order=[1, 4, 3, 2])"
      ]
     },
     "execution_count": 396,
     "metadata": {},
     "output_type": "execute_result"
    }
   ],
   "source": [
    "pyLDAvis.sklearn.prepare(lda22, ideal_att_matrix, ideal_att_vector)"
   ]
  },
  {
   "cell_type": "markdown",
   "metadata": {},
   "source": [
    "#### Topic groups (4)\n",
    "1. industry\n",
    "2. field\n",
    "3. erika hall\n",
    "4. Indi young\n",
    "\n",
    "#### Topic groups (6) - some overlap between 2, 3, & 4; 5 is mostly overlapped with 2 & 4\n",
    "1. steve portigal\n",
    "2. expert\n",
    "3. diverse\n",
    "4. new\n",
    "5. startup\n",
    "6. doing research\n",
    "\n",
    "#### Topic groups (8)\n",
    "1. google\n",
    "2. jared spool\n",
    "3. different\n",
    "4. new\n",
    "5. consultant\n",
    "6. erika hall\n",
    "7. practioner\n",
    "8. steve portigal\n"
   ]
  },
  {
   "cell_type": "code",
   "execution_count": 112,
   "metadata": {},
   "outputs": [],
   "source": [
    "lda_W22 = lda22.transform(ideal_att_matrix)"
   ]
  },
  {
   "cell_type": "code",
   "execution_count": 113,
   "metadata": {
    "scrolled": true
   },
   "outputs": [],
   "source": [
    "top_doc_column22 = datadf.ideal_attendees.dropna()"
   ]
  },
  {
   "cell_type": "code",
   "execution_count": 114,
   "metadata": {},
   "outputs": [],
   "source": [
    "word_count_matrix22, count_vect22 = nlp.create_wordcount_matrix(datadf.ideal_attendees.dropna(), max_df=0.8, min_df=2, ngram=(1,3))"
   ]
  },
  {
   "cell_type": "code",
   "execution_count": 115,
   "metadata": {},
   "outputs": [
    {
     "data": {
      "text/plain": [
       "LatentDirichletAllocation(batch_size=128, doc_topic_prior=None,\n",
       "                          evaluate_every=-1, learning_decay=0.7,\n",
       "                          learning_method='batch', learning_offset=10.0,\n",
       "                          max_doc_update_iter=100, max_iter=10,\n",
       "                          mean_change_tol=0.001, n_components=5, n_jobs=None,\n",
       "                          perp_tol=0.1, random_state=42, topic_word_prior=None,\n",
       "                          total_samples=1000000.0, verbose=0)"
      ]
     },
     "execution_count": 115,
     "metadata": {},
     "output_type": "execute_result"
    }
   ],
   "source": [
    "LDA22a = LatentDirichletAllocation(n_components=5, random_state=42)\n",
    "LDA22a.fit(word_count_matrix22)"
   ]
  },
  {
   "cell_type": "code",
   "execution_count": 116,
   "metadata": {},
   "outputs": [],
   "source": [
    "lda_H = LDA22a.transform(word_count_matrix22)"
   ]
  },
  {
   "cell_type": "code",
   "execution_count": 117,
   "metadata": {},
   "outputs": [
    {
     "name": "stdout",
     "output_type": "stream",
     "text": [
      "Top 3 Documents for Topic 0: \n",
      "\n",
      "Document 1\n",
      "people with experience in building company by applying research knowledge i think there are people out there speaking from a consulting view they donat take a many risk a the one iad like to learn from company are usually led by people with a techdesign background if research is creating a real value in company and if we believe research can lead the strategic vision of a company iall be excited to see people who have managed to achieve that\n",
      "\n",
      "Document 2\n",
      "i would like to hear from and network with other organizational leader i want to meet people i can learn from no pr or salestype presentation no product pushing although i'd like to learn about tool that people are using i am much more interested in strategy and how to manage operation for large team also speaking a someone on the consulting side it would be nice to hear from leader in that space a well a leader within organization some of the advice from design executive doesn't really apply to people who are consultant we have our own challenge so let's get some variety there\n",
      "\n",
      "Document 3\n",
      "it's great to hear from people at leadingsuccessful organization it help sell conference attendance to my boss and learning from people who are doing great work is inspiring it's fascinating to hear a behindthescenes story about a wellknown product or service next on my list would be writer or educator in the field i also like having the opportunity to hear irl talk from people who are active in the professional community on social medium i also appreciate conference that have some public sector representation there's some interesting work going on in government and it need to be encouraged and promoted\n",
      "\n",
      "Top 3 Documents for Topic 1: \n",
      "\n",
      "Document 1\n",
      "senior people in the field people doing something different people getting work done in adverse circumstance not fucking google or facebook again i'm exhausted of well funded trust fund kid telling me about how their second year a a researcher is going\n",
      "\n",
      "Document 2\n",
      "steve portigal sam ladner kate towsey leisa reichelt erika hall nick bowmast dave hora\n",
      "\n",
      "Document 3\n",
      "rockstars like steve portigal sam ladner tomer sharon erika hall steve krug people from big company with established inhouse team capitol one google microsoft etc various consultant\n",
      "\n",
      "Top 3 Documents for Topic 2: \n",
      "\n",
      "Document 1\n",
      "type of people enterprise uxers a well a representation of individual from organization like nonprofit government esp library organization nn group people nerd researchops slackmedium community company optimal userzoom dscout aurelius dovetail\n",
      "\n",
      "Document 2\n",
      "indi young steve portigal jared sppol dana chisnell cyd harrell alan cooper bill scott nate bolt cooper design ideo psychology researcher anthropologist\n",
      "\n",
      "Document 3\n",
      "health and healthcare people trying to do innovation but not familiar with research kaiser permanente sutter health i would love to see some unlikely orgs at a researchdesign conferencelike dept of public health the va these people do research everyday with lot of red tape and constraint and industry folk could learn a lot from them academic toothere need to be more exchange across academia and industry bc this is their bread n butter for academic\n",
      "\n",
      "Top 3 Documents for Topic 3: \n",
      "\n",
      "Document 1\n",
      "it's great to learn from people who have oodles of experience are foundational to the industry come from hot company with big budget doing amazing work but you also don't want to hear from the same people over and over again diversity definitely enhances the conversation also opportunity for attendee to contribute their perspective a well a organized speaker\n",
      "\n",
      "Document 2\n",
      "i know who i dont want i dont want to see recruiter hr someone selling me something id rather get free access or trial code for tool and then make my decision i dont want to see pure market researcher or designer i want to be around anyone who doe user research full time in any organization i want to see leader of research being social and not hiding away which they always do i want to see evangelist of research known in the field\n",
      "\n",
      "Document 3\n",
      "i don't have specific name or organization that i would recommend i do think that finding more seasoned people in the research industry with a lot of experience are extremely valuable i feel like we're at a moment in time with research where everybody want to start a research practice in larger company but they're just aren't enough seasoned researcher out there to sort of lead these thing we have a bunch of more junior people trying to fill these roll without necessarily the background or the experience to do so in a thoughtful and effective way\n",
      "\n",
      "Top 3 Documents for Topic 4: \n",
      "\n",
      "Document 1\n",
      "it is a small world so it is a chance to see everyone anyway but i think that signal that we shouldn't be so clannish perhaps and bring in folk who have other form of parallel expertise to bear on similar problem not just user researcher but folk who study similar behavior in other discipline antidisciplinary perhaps not just multidisciplinary but when we did this in ethnic study back in the 90 we did not get the commingling that we should have gotten we should have and in retrospect you have to structure the content in track that make sense where those synergy can happen\n",
      "\n",
      "Document 2\n",
      "ux research leader research strategist and executive from many industry healthcare tech education finance nonprofit govt from all over the world africa europe asia america not just the same old google facebook apple ibm it would really be cool to have different type of researcher qual quant data science market research lean research scientist etc\n",
      "\n",
      "Document 3\n",
      "id love to hear from organization that use research in unexpected way or really just any company other than the big tech player usual suspect google facebook spotify airbnb id love to hear from nonprofit government agency etc who employ qualitative researcher especially anthropologist but thats just me\n",
      "\n"
     ]
    }
   ],
   "source": [
    "nlp.find_top_documents_per_topic(lda_H, top_doc_column22, 3)"
   ]
  },
  {
   "cell_type": "markdown",
   "metadata": {},
   "source": [
    "# Recommendations"
   ]
  },
  {
   "cell_type": "code",
   "execution_count": 383,
   "metadata": {},
   "outputs": [],
   "source": [
    "recommendations = datadf.recommendations.fillna('nan').apply(nlp.basic_clean)\n",
    "recommendations = recommendations.apply(nlp.lemmatize)"
   ]
  },
  {
   "cell_type": "code",
   "execution_count": 382,
   "metadata": {},
   "outputs": [
    {
     "data": {
      "text/plain": [
       "(<494x1409 sparse matrix of type '<class 'numpy.int64'>'\n",
       " \twith 7225 stored elements in Compressed Sparse Row format>,\n",
       " CountVectorizer(analyzer='word', binary=False, decode_error='strict',\n",
       "                 dtype=<class 'numpy.int64'>, encoding='utf-8', input='content',\n",
       "                 lowercase=True, max_df=0.3, max_features=None, min_df=2,\n",
       "                 ngram_range=(1, 3), preprocessor=None, stop_words='english',\n",
       "                 strip_accents=None, token_pattern='(?u)\\\\b\\\\w\\\\w+\\\\b',\n",
       "                 tokenizer=None, vocabulary=None))"
      ]
     },
     "execution_count": 382,
     "metadata": {},
     "output_type": "execute_result"
    }
   ],
   "source": [
    "recommendations_matrix, recommendations_vector = nlp.create_wordcount_matrix(recommendations, ngram=(1,3), max_df=.3)\n",
    "recommendations_matrix, recommendations_vector"
   ]
  },
  {
   "cell_type": "code",
   "execution_count": 407,
   "metadata": {},
   "outputs": [],
   "source": [
    "lda23 = LatentDirichletAllocation(n_components= 8, random_state = 42)"
   ]
  },
  {
   "cell_type": "code",
   "execution_count": 408,
   "metadata": {},
   "outputs": [
    {
     "data": {
      "text/plain": [
       "LatentDirichletAllocation(batch_size=128, doc_topic_prior=None,\n",
       "                          evaluate_every=-1, learning_decay=0.7,\n",
       "                          learning_method='batch', learning_offset=10.0,\n",
       "                          max_doc_update_iter=100, max_iter=10,\n",
       "                          mean_change_tol=0.001, n_components=8, n_jobs=None,\n",
       "                          perp_tol=0.1, random_state=42, topic_word_prior=None,\n",
       "                          total_samples=1000000.0, verbose=0)"
      ]
     },
     "execution_count": 408,
     "metadata": {},
     "output_type": "execute_result"
    }
   ],
   "source": [
    "lda23.fit(recommendations_matrix)"
   ]
  },
  {
   "cell_type": "code",
   "execution_count": 409,
   "metadata": {},
   "outputs": [
    {
     "data": {
      "text/html": [
       "\n",
       "<link rel=\"stylesheet\" type=\"text/css\" href=\"https://cdn.rawgit.com/bmabey/pyLDAvis/files/ldavis.v1.0.0.css\">\n",
       "\n",
       "\n",
       "<div id=\"ldavis_el2761750094351681966814528\"></div>\n",
       "<script type=\"text/javascript\">\n",
       "\n",
       "var ldavis_el2761750094351681966814528_data = {\"mdsDat\": {\"x\": [0.07587549410507513, 0.0618371565646979, 0.05880591698640998, 0.0033369324573119525, -0.007261001530068096, 0.020555951245995064, -0.0773823351459775, -0.13576811468344435], \"y\": [-0.005569592912255797, 0.052962639045783765, 0.004421176829040016, -0.03132939086614861, -0.01699224966091851, 0.025219348335219244, -0.12927572261588757, 0.10056379184516737], \"topics\": [1, 2, 3, 4, 5, 6, 7, 8], \"cluster\": [1, 1, 1, 1, 1, 1, 1, 1], \"Freq\": [18.59006906478575, 17.491367244422943, 15.921481115817695, 14.333301165556902, 13.461362971558517, 8.96794852174499, 6.142940685642126, 5.091529230471077]}, \"tinfo\": {\"Category\": [\"Default\", \"Default\", \"Default\", \"Default\", \"Default\", \"Default\", \"Default\", \"Default\", \"Default\", \"Default\", \"Default\", \"Default\", \"Default\", \"Default\", \"Default\", \"Default\", \"Default\", \"Default\", \"Default\", \"Default\", \"Default\", \"Default\", \"Default\", \"Default\", \"Default\", \"Default\", \"Default\", \"Default\", \"Default\", \"Default\", \"Topic1\", \"Topic1\", \"Topic1\", \"Topic1\", \"Topic1\", \"Topic1\", \"Topic1\", \"Topic1\", \"Topic1\", \"Topic1\", \"Topic1\", \"Topic1\", \"Topic1\", \"Topic1\", \"Topic1\", \"Topic1\", \"Topic1\", \"Topic1\", \"Topic1\", \"Topic1\", \"Topic1\", \"Topic1\", \"Topic1\", \"Topic1\", \"Topic1\", \"Topic1\", \"Topic1\", \"Topic1\", \"Topic1\", \"Topic1\", \"Topic1\", \"Topic1\", \"Topic1\", \"Topic1\", \"Topic1\", \"Topic1\", \"Topic1\", \"Topic1\", \"Topic1\", \"Topic1\", \"Topic1\", \"Topic1\", \"Topic1\", \"Topic1\", \"Topic1\", \"Topic1\", \"Topic1\", \"Topic1\", \"Topic1\", \"Topic1\", \"Topic1\", \"Topic1\", \"Topic1\", \"Topic1\", \"Topic1\", \"Topic1\", \"Topic1\", \"Topic1\", \"Topic1\", \"Topic1\", \"Topic1\", \"Topic1\", \"Topic1\", \"Topic1\", \"Topic1\", \"Topic1\", \"Topic1\", \"Topic1\", \"Topic1\", \"Topic1\", \"Topic1\", \"Topic1\", \"Topic1\", \"Topic2\", \"Topic2\", \"Topic2\", \"Topic2\", \"Topic2\", \"Topic2\", \"Topic2\", \"Topic2\", \"Topic2\", \"Topic2\", \"Topic2\", \"Topic2\", \"Topic2\", \"Topic2\", \"Topic2\", \"Topic2\", \"Topic2\", \"Topic2\", \"Topic2\", \"Topic2\", \"Topic2\", \"Topic2\", \"Topic2\", \"Topic2\", \"Topic2\", \"Topic2\", \"Topic2\", \"Topic2\", \"Topic2\", \"Topic2\", \"Topic2\", \"Topic2\", \"Topic2\", \"Topic2\", \"Topic2\", \"Topic2\", \"Topic2\", \"Topic2\", \"Topic2\", \"Topic2\", \"Topic2\", \"Topic2\", \"Topic2\", \"Topic2\", \"Topic2\", \"Topic2\", \"Topic2\", \"Topic2\", \"Topic2\", \"Topic2\", \"Topic2\", \"Topic2\", \"Topic2\", \"Topic2\", \"Topic2\", \"Topic2\", \"Topic2\", \"Topic2\", \"Topic2\", \"Topic2\", \"Topic2\", \"Topic2\", \"Topic2\", \"Topic2\", \"Topic2\", \"Topic2\", \"Topic2\", \"Topic2\", \"Topic2\", \"Topic2\", \"Topic2\", \"Topic2\", \"Topic2\", \"Topic2\", \"Topic2\", \"Topic3\", \"Topic3\", \"Topic3\", \"Topic3\", \"Topic3\", \"Topic3\", \"Topic3\", \"Topic3\", \"Topic3\", \"Topic3\", \"Topic3\", \"Topic3\", \"Topic3\", \"Topic3\", \"Topic3\", \"Topic3\", \"Topic3\", \"Topic3\", \"Topic3\", \"Topic3\", \"Topic3\", \"Topic3\", \"Topic3\", \"Topic3\", \"Topic3\", \"Topic3\", \"Topic3\", \"Topic3\", \"Topic3\", \"Topic3\", \"Topic3\", \"Topic3\", \"Topic3\", \"Topic3\", \"Topic3\", \"Topic3\", \"Topic3\", \"Topic3\", \"Topic3\", \"Topic3\", \"Topic3\", \"Topic3\", \"Topic3\", \"Topic3\", \"Topic3\", \"Topic3\", \"Topic3\", \"Topic3\", \"Topic3\", \"Topic3\", \"Topic3\", \"Topic3\", \"Topic3\", \"Topic3\", \"Topic3\", \"Topic3\", \"Topic3\", \"Topic3\", \"Topic3\", \"Topic3\", \"Topic3\", \"Topic3\", \"Topic3\", \"Topic3\", \"Topic3\", \"Topic3\", \"Topic3\", \"Topic3\", \"Topic4\", \"Topic4\", \"Topic4\", \"Topic4\", \"Topic4\", \"Topic4\", \"Topic4\", \"Topic4\", \"Topic4\", \"Topic4\", \"Topic4\", \"Topic4\", \"Topic4\", \"Topic4\", \"Topic4\", \"Topic4\", \"Topic4\", \"Topic4\", \"Topic4\", \"Topic4\", \"Topic4\", \"Topic4\", \"Topic4\", \"Topic4\", \"Topic4\", \"Topic4\", \"Topic4\", \"Topic4\", \"Topic4\", \"Topic4\", \"Topic4\", \"Topic4\", \"Topic4\", \"Topic4\", \"Topic4\", \"Topic4\", \"Topic4\", \"Topic4\", \"Topic4\", \"Topic4\", \"Topic4\", \"Topic4\", \"Topic4\", \"Topic4\", \"Topic4\", \"Topic4\", \"Topic4\", \"Topic4\", \"Topic4\", \"Topic4\", \"Topic4\", \"Topic4\", \"Topic4\", \"Topic4\", \"Topic4\", \"Topic4\", \"Topic4\", \"Topic4\", \"Topic4\", \"Topic4\", \"Topic4\", \"Topic4\", \"Topic4\", \"Topic4\", \"Topic4\", \"Topic4\", \"Topic4\", \"Topic4\", \"Topic4\", \"Topic4\", \"Topic5\", \"Topic5\", \"Topic5\", \"Topic5\", \"Topic5\", \"Topic5\", \"Topic5\", \"Topic5\", \"Topic5\", \"Topic5\", \"Topic5\", \"Topic5\", \"Topic5\", \"Topic5\", \"Topic5\", \"Topic5\", \"Topic5\", \"Topic5\", \"Topic5\", \"Topic5\", \"Topic5\", \"Topic5\", \"Topic5\", \"Topic5\", \"Topic5\", \"Topic5\", \"Topic5\", \"Topic5\", \"Topic5\", \"Topic5\", \"Topic5\", \"Topic5\", \"Topic5\", \"Topic5\", \"Topic5\", \"Topic5\", \"Topic5\", \"Topic5\", \"Topic5\", \"Topic5\", \"Topic5\", \"Topic5\", \"Topic5\", \"Topic5\", \"Topic5\", \"Topic5\", \"Topic5\", \"Topic5\", \"Topic5\", \"Topic5\", \"Topic5\", \"Topic5\", \"Topic5\", \"Topic5\", \"Topic5\", \"Topic5\", \"Topic5\", \"Topic5\", \"Topic5\", \"Topic5\", \"Topic5\", \"Topic5\", \"Topic5\", \"Topic5\", \"Topic5\", \"Topic5\", \"Topic5\", \"Topic5\", \"Topic5\", \"Topic5\", \"Topic5\", \"Topic5\", \"Topic5\", \"Topic5\", \"Topic6\", \"Topic6\", \"Topic6\", \"Topic6\", \"Topic6\", \"Topic6\", \"Topic6\", \"Topic6\", \"Topic6\", \"Topic6\", \"Topic6\", \"Topic6\", \"Topic6\", \"Topic6\", \"Topic6\", \"Topic6\", \"Topic6\", \"Topic6\", \"Topic6\", \"Topic6\", \"Topic6\", \"Topic6\", \"Topic6\", \"Topic6\", \"Topic6\", \"Topic6\", \"Topic6\", \"Topic6\", \"Topic6\", \"Topic6\", \"Topic6\", \"Topic6\", \"Topic6\", \"Topic6\", \"Topic6\", \"Topic6\", \"Topic6\", \"Topic6\", \"Topic6\", \"Topic6\", \"Topic6\", \"Topic6\", \"Topic6\", \"Topic6\", \"Topic6\", \"Topic6\", \"Topic6\", \"Topic6\", \"Topic6\", \"Topic6\", \"Topic6\", \"Topic6\", \"Topic6\", \"Topic6\", \"Topic6\", \"Topic6\", \"Topic6\", \"Topic6\", \"Topic6\", \"Topic6\", \"Topic6\", \"Topic6\", \"Topic6\", \"Topic6\", \"Topic6\", \"Topic6\", \"Topic6\", \"Topic7\", \"Topic7\", \"Topic7\", \"Topic7\", \"Topic7\", \"Topic7\", \"Topic7\", \"Topic7\", \"Topic7\", \"Topic7\", \"Topic7\", \"Topic7\", \"Topic7\", \"Topic7\", \"Topic7\", \"Topic7\", \"Topic7\", \"Topic7\", \"Topic7\", \"Topic7\", \"Topic7\", \"Topic7\", \"Topic7\", \"Topic7\", \"Topic7\", \"Topic7\", \"Topic7\", \"Topic7\", \"Topic7\", \"Topic7\", \"Topic7\", \"Topic7\", \"Topic7\", \"Topic7\", \"Topic7\", \"Topic7\", \"Topic7\", \"Topic7\", \"Topic7\", \"Topic7\", \"Topic7\", \"Topic7\", \"Topic7\", \"Topic7\", \"Topic7\", \"Topic7\", \"Topic7\", \"Topic7\", \"Topic7\", \"Topic7\", \"Topic7\", \"Topic7\", \"Topic7\", \"Topic7\", \"Topic7\", \"Topic7\", \"Topic7\", \"Topic7\", \"Topic7\", \"Topic8\", \"Topic8\", \"Topic8\", \"Topic8\", \"Topic8\", \"Topic8\", \"Topic8\", \"Topic8\", \"Topic8\", \"Topic8\", \"Topic8\", \"Topic8\", \"Topic8\", \"Topic8\", \"Topic8\", \"Topic8\", \"Topic8\", \"Topic8\", \"Topic8\", \"Topic8\", \"Topic8\", \"Topic8\", \"Topic8\", \"Topic8\", \"Topic8\", \"Topic8\", \"Topic8\", \"Topic8\", \"Topic8\", \"Topic8\", \"Topic8\", \"Topic8\", \"Topic8\", \"Topic8\", \"Topic8\", \"Topic8\", \"Topic8\", \"Topic8\", \"Topic8\", \"Topic8\", \"Topic8\", \"Topic8\", \"Topic8\", \"Topic8\", \"Topic8\", \"Topic8\", \"Topic8\", \"Topic8\", \"Topic8\", \"Topic8\", \"Topic8\", \"Topic8\", \"Topic8\", \"Topic8\", \"Topic8\", \"Topic8\", \"Topic8\"], \"Freq\": [118.0, 22.0, 130.0, 115.0, 35.0, 29.0, 73.0, 9.0, 28.0, 17.0, 10.0, 14.0, 17.0, 23.0, 40.0, 17.0, 11.0, 10.0, 22.0, 10.0, 5.0, 10.0, 6.0, 27.0, 65.0, 12.0, 28.0, 49.0, 15.0, 12.0, 5.435901396495724, 4.548485682253987, 4.548296706155432, 3.660961769006694, 2.7734732829238293, 2.773473258728858, 2.773455280989578, 2.773205223553738, 4.548478227150157, 1.8859618244101428, 1.885961824222739, 1.885961824222739, 1.885961823460715, 1.8859618225301797, 1.8859618182659768, 1.8859618081543195, 1.8859618075802542, 1.8859618059391832, 1.8859618050888773, 1.8859618023822957, 1.8859617940383535, 1.8859617933914168, 1.8859617825850339, 1.8859617824473915, 1.885961780013627, 1.8859617733702436, 1.885961768218888, 1.8859617536471487, 1.8859399952899538, 1.885939988507929, 8.738617407142266, 15.584777612328363, 3.6608097646744415, 4.548556102891399, 4.548555792380441, 5.436257646481043, 5.435940536406947, 7.96923522901917, 4.548508318362257, 3.6610125732275605, 7.211073232427421, 2.773481206856688, 2.7734722979452084, 2.773469958596291, 2.77348278252658, 10.64058417223963, 17.159180369168535, 8.512610583031147, 38.34410595390833, 8.806975603595419, 5.436163964314644, 13.757286498677074, 9.581235857095052, 23.349289415092056, 9.72932459236327, 9.089901852196927, 23.93490653833619, 8.951426909923242, 7.612231550811515, 7.683211521750347, 14.861802900461948, 13.773908124269086, 9.120725572088354, 17.691395421287268, 9.023380503565841, 8.729518414367323, 8.10072285183686, 10.071023042167928, 8.54609555398115, 8.687215008532496, 7.130758801382508, 6.323595745515728, 6.730796682355666, 9.779052303264084, 4.5049999265539675, 4.504999917586397, 1.8679267888797575, 1.8679267873111225, 1.8679267872913121, 1.8679267872913121, 1.8679267839509144, 1.86792678274131, 1.867926782066815, 1.867926780877071, 1.8679267790039649, 1.8679267789841538, 1.8679267789841538, 1.8679267786267766, 1.8679267785424676, 1.867926776980656, 1.8679267737617746, 1.8679267733370604, 1.8679267726803277, 1.8679267726803277, 1.867926768334059, 1.8679267661132843, 1.8679267646046445, 1.8679267612738288, 1.8679267605168612, 1.8679267602931564, 1.867926741814212, 1.867926722280981, 1.8679267008890414, 3.625835743594951, 5.3192863597268785, 3.625987273850165, 3.6259899682887986, 17.64549023126315, 60.29342826055928, 10.308498927035206, 3.626020212930058, 3.625958852568201, 3.6258721148708535, 4.936702452431706, 11.272935386374497, 6.26276446932262, 2.74697573916984, 2.7469352657158432, 2.746884622802878, 10.373269897385143, 5.965888221033138, 5.612931442490933, 3.4233613804904732, 6.08274976207162, 12.246535925213223, 24.023395007829574, 8.605844479553525, 9.451625277484226, 11.458130742190983, 2.6418331793077794, 23.553686258050146, 9.02808548346737, 11.231810876429801, 4.505144854993709, 5.384132525283486, 8.800275633392088, 9.013417055773083, 5.384138729718434, 6.771021394540702, 9.209076061969858, 7.141929747802355, 9.391704933499295, 6.837154168745155, 6.263142497556158, 8.545424877381338, 6.262891182209442, 6.765216598924796, 6.0758679697019575, 2.7242651690715607, 2.724265168329552, 2.72423674599515, 2.7242378422079727, 2.7239763704109103, 1.8525003197693592, 1.8525003197385674, 1.8525003174710009, 1.852500316372084, 1.8525003158229183, 1.8525003126750985, 1.8525003091029342, 1.8525003080921512, 1.852500307675844, 1.852500306153006, 1.8525003053900804, 1.8525003021577517, 1.8525002971887985, 1.8525002957831114, 1.852500292513802, 1.85250028721466, 1.8525002594209425, 1.852500243119697, 1.8525001929994565, 1.8524999053661462, 1.8524998993647248, 1.8524787174028363, 1.8524787174028363, 1.8524565021437147, 1.852392279842314, 12.19985421336092, 3.5960027884263277, 40.6131811960006, 2.724264317562015, 2.7242410071015923, 6.211554922411293, 17.585562284532045, 33.89773894255158, 5.339627047412585, 6.247375402631592, 10.237447189058202, 8.82715306975227, 6.1319147636281635, 7.863951042845197, 5.339754597921568, 18.829629433069236, 3.59617334035477, 7.0832733356910556, 10.186981358109636, 8.545831916596981, 10.3159812318395, 4.467853335816597, 4.467911644788443, 6.989336106588173, 15.771266888658618, 7.045485030520043, 6.057724510542437, 5.212473423943447, 5.339896500089859, 5.7055102557628805, 6.341399979107949, 5.339792318955081, 7.08185730855866, 6.621841436132861, 6.656494288522374, 5.211929444382076, 5.339591461468367, 5.339461253615591, 4.4137354656833985, 2.691326586797132, 2.6913040920396085, 2.6912197331235164, 2.6910562801761815, 1.83010208266532, 1.8301020805088917, 1.8301020770838408, 1.8301020770838408, 1.8301020761527367, 1.83010207509088, 1.8301020716269392, 1.8301020681614653, 1.830102061561538, 1.8301020601618052, 1.8301020601618052, 1.830102055100856, 1.8301020465638393, 1.8301020301558326, 1.8300979845758347, 1.8300979726991757, 1.8300659841365337, 1.830065106628037, 1.8300587545464282, 1.8300140417715787, 1.830011831769322, 1.8299674503628065, 1.82980204373039, 1.8297995952162593, 3.5525625596089427, 5.253082184037017, 3.5524794921985996, 3.552171285682985, 11.28428212792396, 9.28982348170358, 2.691345443524228, 21.32602717429251, 26.68087285926422, 7.685954323796849, 3.552536958234839, 8.229349697403892, 4.414253436956108, 6.136493952740343, 10.368279308045208, 33.25356870148897, 5.2753062613005035, 22.44633172359622, 6.777917401559181, 5.27502079354318, 12.612445791033956, 3.5530287891977186, 4.392764167058893, 3.511500779190304, 7.799106138460829, 4.413902832866748, 8.719759470254884, 6.961481875536704, 5.2751077464795175, 4.413865714733252, 5.698173605602683, 3.984609444583734, 5.274705082492173, 4.4139882325070285, 6.969761893255835, 4.41409359694047, 4.855749849965018, 5.273878576000008, 4.6905455023564855, 4.916218155254554, 4.691533052688228, 2.6700685058239886, 2.6700637062658292, 1.8156596494786799, 1.8156596491420847, 1.8156596458002248, 1.8156596450658802, 1.8156596417425328, 1.8156596306597543, 1.8156596153745728, 1.815659602284381, 1.8156595829820033, 1.8156595598873728, 1.8156595471407269, 1.8156547384374082, 1.8156547276530952, 1.8156547265257372, 1.8156547163267875, 1.8156497738745874, 1.8156336159844446, 1.8156336027175128, 1.8156335876885947, 1.815630972020982, 1.815597699442892, 1.815432427943643, 1.8154324098803711, 1.8153667334532344, 1.8152155055404455, 1.8152155015680325, 1.8152155015674865, 1.8151371991268141, 5.233441326581899, 3.524625351252268, 5.148198936700193, 2.6701125613662433, 2.6702767487827517, 6.94236404948318, 2.6701085349285263, 18.968580283541105, 3.0135856810849746, 12.774684968349238, 2.6197754734352325, 13.774616951460246, 4.845458557148951, 7.5526778060859945, 10.420607012715172, 19.178389038251083, 3.5246316488608898, 6.892620928310025, 6.942677311149322, 3.4848518136788695, 3.2324730588680315, 7.7900851520334085, 6.942723175204074, 16.63989005234264, 2.660872159131984, 2.6701238033549153, 6.040355401475474, 6.088005842012658, 4.051225513190927, 3.524453956790079, 14.465979761488295, 6.08789544557707, 4.378451774687411, 6.942031812262025, 5.223195907072003, 8.362510553804789, 5.369704956918048, 5.899015651619243, 5.434948656701386, 5.221165240671938, 5.647468904730473, 4.775322541830443, 4.336420536829238, 4.379029808604926, 1.712634827013811, 1.7126348194441625, 1.712634815153199, 1.7126348076526903, 1.7126347920952554, 1.7126347920952554, 1.7126347772434778, 1.7126346177175127, 1.7125996743425973, 1.7125996743425973, 1.7125996743425973, 1.7125996743425973, 1.7125968793525976, 1.7125931672038528, 1.7124498823995722, 1.7124553380244942, 1.7124553379919827, 1.7124553378563172, 1.712455329751694, 1.7124553297494003, 1.7124553297296794, 1.7122560800810913, 1.7122560800810913, 3.3245569665488715, 2.5185342941290276, 2.518604759750136, 1.7128335077240928, 1.712643515409739, 1.712704647743101, 1.7125973834148644, 2.5185653335273157, 2.5186133300160103, 3.3248148780789815, 7.087750555650628, 9.497974957858908, 4.936867431014143, 11.584534503986566, 6.548920782397059, 3.324699282779627, 13.29345391596922, 7.176279440246366, 8.207022644649678, 2.5186768148978103, 4.93663894023448, 5.07887813067797, 3.324585244451253, 3.683726573615844, 2.5186654315615287, 3.3245385271410512, 2.5187894291305835, 4.035659448696728, 4.130479026362309, 4.130761234702957, 2.5186986477959987, 2.920944577554426, 2.9004003925130917, 4.130756914701509, 5.089698210818407, 3.767842804335688, 4.130705930946883, 3.324669937414653, 3.5652177900779027, 3.762695422860772, 3.3247347296002943, 3.2184064698074635, 3.2169007244678736, 2.9652326841533196, 4.614413088625811, 1.6011779035450127, 1.6011327541151457, 3.108216409639012, 3.108171894077689, 6.12218434604032, 2.3547267263840324, 5.353882745993147, 1.5847679786830626, 2.3547995894350033, 1.601186612232219, 1.6012262219368798, 1.6012287520767905, 1.601207638149586, 1.59867168631631, 0.8477329613472672, 0.8816942087748526, 2.3547511310558185, 0.8478042605534191, 0.8477731575702441, 0.8477686306578325, 0.8476890565880105, 0.8476847093203397, 0.8476749151088029, 0.8477524665765541, 0.847714042489963, 0.8476883565688554, 0.8476878199949803, 0.8476861807180498, 0.8476861807180498, 5.850208654389531, 3.455281807053821, 1.6014068749207215, 3.861708044029027, 1.6000608144280337, 1.6013334394910166, 1.6012268081850294, 8.78218701439336, 1.6012554988171799, 2.214392500471816, 20.337939454114434, 4.641948451890936, 3.108399694274261, 2.354836037820541, 3.1393059024972754, 3.862081911108657, 3.150955797925273, 4.303489608280531, 2.3548632210853206, 4.7588279390100485, 3.4434100177080236, 2.3548153925865978, 3.8610461022939586, 2.3773124211024053, 2.3547740808509143, 2.3549844441091365, 2.369235622576573, 2.3548896615541284, 2.3916096960192417, 4.399593082111032, 2.963072498266381, 2.244779085537308, 2.244779085537308, 1.5264704099318385, 1.5264704041044905, 1.5264704020446067, 1.5264704003661191, 1.5264703837364826, 1.5264703837364826, 1.526470380535176, 1.5264703794617402, 1.526364615562358, 2.963121512820299, 1.309494404561717, 1.5265492593579648, 1.5265101619306445, 1.52650507442784, 1.526358086207222, 1.5269603010960282, 3.6816319365690906, 0.8080831582691408, 2.244990358321083, 0.8081450496429544, 0.8081409347176836, 0.8081304211570055, 0.8081304211570055, 0.8081281961519038, 0.8081217252927253, 0.8081214137866467, 3.681865547014492, 6.923220540798362, 1.5261720358161843, 1.5266064818881513, 1.5266759525063474, 3.9270778030814006, 6.902519142788045, 2.245028447429635, 2.6294216010669573, 2.963444045821862, 12.152369089561702, 7.394100735945293, 6.435792590733502, 2.440076763009037, 2.9974950105196045, 3.681802850369321, 2.867503360324848, 2.9635735588453658, 2.184749328228105, 2.24502809547603, 2.126078972007457, 1.815245555032731, 1.6562338014580733, 1.6129507032038748, 1.6040439140174128, 1.567689539071565, 1.5685354741346746], \"Term\": [\"make\", \"help\", \"people\", \"conference\", \"attend\", \"great\", \"don\", \"make accessible\", \"ux\", \"accessible\", \"affordable\", \"maybe\", \"practical\", \"events\", \"good\", \"world\", \"come\", \"europe\", \"sessions\", \"stuff\", \"north\", \"ux research\", \"offering\", \"talk\", \"conferences\", \"smaller\", \"want\", \"researchers\", \"food\", \"look\", \"schedule\", \"broad\", \"growing\", \"ones\", \"want learn\", \"research just\", \"typical\", \"strategies\", \"trying\", \"social events\", \"people similar\", \"hearing\", \"research team\", \"chances\", \"doing research just\", \"forced\", \"interesting people\", \"emphasize\", \"leads\", \"culture\", \"typical conference\", \"busy\", \"don make people\", \"novice\", \"comes mind\", \"immersive\", \"house\", \"events conferences\", \"new speakers\", \"site\", \"large\", \"events\", \"results\", \"make fun\", \"actionable\", \"diversity\", \"teams\", \"fun\", \"don know\", \"view\", \"things\", \"structured\", \"past\", \"agenda\", \"minute\", \"want\", \"just\", \"big\", \"research\", \"consider\", \"practitioners\", \"talks\", \"event\", \"conference\", \"need\", \"know\", \"people\", \"talk\", \"try\", \"feel\", \"don\", \"conferences\", \"think\", \"make\", \"topics\", \"work\", \"love\", \"like\", \"experience\", \"researchers\", \"new\", \"doing\", \"focus\", \"ux research\", \"data\", \"hope\", \"types research\", \"software\", \"intersection research\", \"intersection\", \"research like\", \"sells\", \"like biggest\", \"workshops presentations\", \"competencies\", \"quant\", \"qual quant\", \"bag\", \"don afraid\", \"fee\", \"define research\", \"designops\", \"industries\", \"industries backgrounds\", \"brand\", \"careful\", \"tiring\", \"delivering\", \"people title\", \"disciplines\", \"conference good\", \"real business\", \"diversity speakers\", \"areas\", \"types\", \"design research\", \"research design\", \"ux\", \"research\", \"design\", \"biggest\", \"asked\", \"ensure\", \"questions\", \"different\", \"survey\", \"day conference\", \"title\", \"address\", \"attendees\", \"academic\", \"days\", \"define\", \"field\", \"speakers\", \"conference\", \"day\", \"great\", \"good\", \"qual\", \"people\", \"time\", \"like\", \"important\", \"getting\", \"experience\", \"talks\", \"idea\", \"love\", \"conferences\", \"workshops\", \"don\", \"focus\", \"lot\", \"make\", \"topics\", \"just\", \"need\", \"world needs\", \"like idea\", \"real world\", \"don want\", \"organizations\", \"coaching\", \"small intimate\", \"writing\", \"track conference\", \"approaches\", \"online conference\", \"bring real\", \"communities\", \"really like\", \"cater\", \"ton\", \"community research\", \"connect people\", \"wants\", \"web\", \"presenter\", \"minds\", \"conference experience\", \"issue\", \"months\", \"submissions\", \"aaa conference\", \"aaa\", \"room attendees\", \"design conference\", \"world\", \"experienced researchers\", \"conference\", \"want attend\", \"materials\", \"place\", \"don\", \"research\", \"right\", \"having\", \"attend\", \"really\", \"real\", \"sure\", \"community\", \"make\", \"challenges\", \"day\", \"researchers\", \"focus\", \"like\", \"needs\", \"advice\", \"want\", \"people\", \"work\", \"know\", \"small\", \"feel\", \"love\", \"experience\", \"way\", \"just\", \"talks\", \"conferences\", \"ve\", \"think\", \"new\", \"user research\", \"takeaway\", \"make practical\", \"versus\", \"head\", \"snacks\", \"product design\", \"getting buyin\", \"buyin\", \"focus sharing\", \"away use\", \"practical workshops\", \"internal\", \"weeds\", \"don make big\", \"make big\", \"total\", \"talks great\", \"tell\", \"phds\", \"applied\", \"inspirational\", \"normal\", \"people use\", \"model\", \"conference especially\", \"try avoid\", \"practical advice\", \"lofty\", \"sharing\", \"user\", \"programs\", \"maturity\", \"practical\", \"interesting\", \"research practice\", \"don\", \"make\", \"use\", \"chance\", \"methods\", \"build\", \"include\", \"workshops\", \"research\", \"hard\", \"people\", \"try\", \"mix\", \"just\", \"price\", \"conduct\", \"traditional\", \"new\", \"don make\", \"talks\", \"topics\", \"sessions\", \"studies\", \"really\", \"hands\", \"lot\", \"make sure\", \"conference\", \"accessible\", \"need\", \"conferences\", \"different\", \"like\", \"focus\", \"high quality\", \"uxr collective\", \"multiple tracks\", \"introducing\", \"methodology\", \"conference consider\", \"memorable\", \"interactions\", \"diverse speakers\", \"make money\", \"limit speakers\", \"good food\", \"dont make\", \"significant\", \"heavily\", \"attendee experience\", \"untapped\", \"trend\", \"need ask\", \"dont limit\", \"truly\", \"strive uxr\", \"demand\", \"road\", \"communicate\", \"income\", \"help people\", \"invest\", \"huge\", \"countries\", \"uxr\", \"material\", \"quality\", \"people need\", \"consider having\", \"food\", \"discussions\", \"conferences\", \"collective\", \"good\", \"limit\", \"researchers\", \"companies\", \"content\", \"speakers\", \"make\", \"tracks\", \"dont\", \"consider\", \"professional\", \"session\", \"learn\", \"attendees\", \"people\", \"advanced\", \"recently\", \"sessions\", \"methods\", \"cost\", \"engage\", \"research\", \"workshops\", \"location\", \"like\", \"lot\", \"conference\", \"time\", \"talks\", \"experience\", \"focus\", \"just\", \"need\", \"way\", \"think\", \"designer\", \"500\", \"id love\", \"theres\", \"option purchase\", \"purchase\", \"famous people\", \"connections\", \"dont fall\", \"fall trap\", \"dont fall trap\", \"trap\", \"draw\", \"major research\", \"sounds\", \"introverts extroverts\", \"extroverts\", \"introverts\", \"reasonably\", \"priced\", \"reasonably priced\", \"walk away\", \"walk\", \"fall\", \"video\", \"research conferences\", \"canada\", \"networking events\", \"mix speakers\", \"crowd\", \"position\", \"groups\", \"diverse\", \"talk\", \"conferences\", \"provide\", \"people\", \"good\", \"opportunities\", \"research\", \"like\", \"don\", \"connect\", \"learn\", \"attend\", \"hear\", \"ways\", \"locations\", \"learning\", \"invite\", \"content\", \"love\", \"event\", \"read\", \"hands\", \"offer\", \"new\", \"just\", \"dont\", \"topics\", \"networking\", \"different\", \"researchers\", \"really\", \"time\", \"experience\", \"think\", \"offering\", \"attend want\", \"uk\", \"record\", \"make affordable\", \"make accessible\", \"record sessions\", \"affordable\", \"wide\", \"example\", \"people attend\", \"volunteer\", \"method\", \"stream\", \"students\", \"ll come\", \"scaling\", \"digital\", \"fluff\", \"let know\", \"obvious\", \"food good\", \"read article\", \"systems\", \"sessions time\", \"come new\", \"make virtual\", \"sort\", \"bay area\", \"bay\", \"accessible\", \"europe\", \"ll\", \"smaller\", \"hold\", \"andor\", \"support\", \"attend\", \"attendance\", \"live\", \"make\", \"sessions\", \"interested\", \"multiple\", \"networking\", \"want\", \"provide\", \"experience\", \"field\", \"people\", \"just\", \"make sure\", \"research\", \"sure\", \"event\", \"really\", \"time\", \"work\", \"conference\", \"north\", \"north america\", \"america europe\", \"north america europe\", \"innovative\", \"food great\", \"geographic\", \"mix theory\", \"art\", \"art gathering\", \"mid\", \"world outside\", \"participation\", \"america\", \"regional\", \"great idea\", \"lot researchers\", \"gathering\", \"yes\", \"excited\", \"stuff\", \"ll come\", \"book\", \"people dont\", \"aspect\", \"consider bringing\", \"bringing\", \"spaces\", \"act\", \"city conference\", \"come\", \"help\", \"sell\", \"strive\", \"theory\", \"maybe\", \"great\", \"area\", \"europe\", \"look\", \"people\", \"conference\", \"make\", \"outside\", \"way\", \"researchers\", \"dont\", \"lot\", \"start\", \"food\", \"learn\", \"remote\", \"mix\", \"new\", \"events\", \"event\", \"time\"], \"Total\": [118.0, 22.0, 130.0, 115.0, 35.0, 29.0, 73.0, 9.0, 28.0, 17.0, 10.0, 14.0, 17.0, 23.0, 40.0, 17.0, 11.0, 10.0, 22.0, 10.0, 5.0, 10.0, 6.0, 27.0, 65.0, 12.0, 28.0, 49.0, 15.0, 12.0, 6.15402565357407, 5.26652356752766, 5.266517761756061, 4.37901013686641, 3.491501059156645, 3.491501056698746, 3.4915003858179654, 3.4914958883790024, 6.120950712180701, 2.603989605425584, 2.6039896054079525, 2.6039896054079525, 2.603989605330465, 2.603989605236429, 2.603989604801415, 2.603989603774262, 2.603989603715568, 2.603989603548213, 2.6039896034571046, 2.6039896031831207, 2.603989602346384, 2.6039896022659397, 2.6039896011719734, 2.6039896011602037, 2.6039896009071333, 2.603989600235104, 2.6039895997144527, 2.603989598224984, 2.6039854438226744, 2.603985443131703, 12.838119271208363, 23.943613657859544, 5.240233847536373, 6.9926739098696595, 6.999514475430964, 8.630422543398927, 8.748238216324541, 15.536370057077605, 7.812715212893367, 6.039401833980338, 14.601974904238896, 4.297447596665077, 4.345927008733942, 4.363263501258309, 4.370525526534687, 28.06453607354647, 59.02516915129641, 22.45804490701899, 198.960659869164, 24.66223394485851, 12.225698168311045, 48.317272341913345, 28.735590897327704, 115.8657404736721, 30.351988031661794, 27.544249200733663, 130.84181299354213, 27.277284066123862, 20.799377034911828, 21.78550310927444, 73.33035302640525, 65.7962149917149, 30.767433781065034, 118.80246459491983, 32.60476960900066, 31.729494837464852, 27.689731526819887, 52.31289029973889, 39.22731132031035, 49.094739854223924, 31.433012892366754, 19.63297210015028, 37.57468026978981, 10.498232971639517, 5.224088589219928, 5.224088588386134, 2.587015455015274, 2.587015454869733, 2.587015454867787, 2.587015454867787, 2.5870154545579136, 2.5870154544462376, 2.5870154543843227, 2.587015454274917, 2.587015454099815, 2.5870154540978683, 2.5870154540978683, 2.587015454062333, 2.5870154540539803, 2.5870154539074166, 2.5870154536133314, 2.5870154535788785, 2.5870154535124508, 2.5870154535124508, 2.5870154531096095, 2.587015452903699, 2.5870154527620706, 2.5870154524555105, 2.5870154523825057, 2.5870154523602773, 2.5870154506559384, 2.587015448869929, 2.587015446864278, 5.19949139417526, 7.816954483670566, 5.206288962243711, 5.232575523485364, 28.364864666369986, 198.960659869164, 22.575085592978006, 6.012236587599257, 6.0227752094750375, 6.093795470812303, 9.376242524436272, 28.31104038453328, 13.152663900354801, 4.337804890416863, 4.337804848517192, 4.33780245422207, 26.841095355322864, 13.07483351282683, 12.182371885100906, 6.102665703431481, 14.186658013317892, 39.64978024057338, 115.8657404736721, 25.166207301152813, 29.7336303197031, 40.16720790027435, 4.354566208787296, 130.84181299354213, 33.05741664757622, 52.31289029973889, 10.480837629856964, 14.658821892368724, 39.22731132031035, 48.317272341913345, 15.128053653498526, 27.689731526819887, 65.7962149917149, 33.8059138368747, 73.33035302640525, 37.57468026978981, 27.68879314181334, 118.80246459491983, 32.60476960900066, 59.02516915129641, 30.351988031661794, 3.4442612859797106, 3.444261285912105, 3.4442574329163445, 3.444261514005714, 3.4442623081880073, 2.5724964245092523, 2.5724964245038557, 2.572496424313322, 2.5724964242166775, 2.5724964241716544, 2.5724964239063333, 2.572496423600768, 2.5724964235162915, 2.572496423482629, 2.572496423349298, 2.572496423282136, 2.5724964230027654, 2.572496422583867, 2.572496422468341, 2.572496422187012, 2.5724964217374024, 2.572496419371087, 2.5724964179988654, 2.5724964137701933, 2.572496389217358, 2.5724963887067354, 2.5724966012390946, 2.5724966012390946, 2.572496788687518, 2.5724951168964414, 17.926067948584464, 5.170454063995505, 115.8657404736721, 4.197756659740338, 4.19775743307455, 13.882817201617298, 73.33035302640525, 198.960659869164, 12.782174099225195, 16.39182326152245, 35.50331824120731, 28.970265704546442, 17.119423272839, 25.56839485441051, 14.584930140382069, 118.80246459491983, 7.822808854093093, 25.166207301152813, 49.094739854223924, 37.57468026978981, 52.31289029973889, 12.065599318913058, 12.095854403680592, 28.06453607354647, 130.84181299354213, 31.729494837464852, 27.544249200733663, 19.34452680464941, 21.78550310927444, 27.689731526819887, 39.22731132031035, 24.254263792724572, 59.02516915129641, 48.317272341913345, 65.7962149917149, 23.316892908769695, 30.767433781065034, 31.433012892366754, 5.135089207646196, 3.412640242549767, 3.4126387986164404, 3.4126333835876244, 3.4126458268551536, 2.551415728758238, 2.551415728600469, 2.5514157283488603, 2.5514157283488603, 2.551415728280109, 2.5514157282028678, 2.5514157279451295, 2.5514157276974547, 2.551415727205158, 2.55141572710744, 2.55141572710744, 2.5514157267269515, 2.551415726095621, 2.551415724907399, 2.5514158506586773, 2.5514158497887847, 2.5514134111415125, 2.551416489467927, 2.5514166178409763, 2.551415030728624, 2.551418481864208, 2.551417374617391, 2.551396470240928, 2.5513963129552892, 5.027361680631667, 7.629313429132867, 5.079815643169026, 5.128301152204324, 17.59007111226395, 22.183912598552695, 4.300151119349812, 73.33035302640525, 118.80246459491983, 19.97094780208894, 6.633198219085885, 23.17817459480828, 9.332901738971902, 15.43913099151112, 33.8059138368747, 198.960659869164, 12.577571961748795, 130.84181299354213, 20.799377034911828, 14.106155861334681, 59.02516915129641, 7.648306074325625, 11.298617782593693, 7.8009315316698045, 31.433012892366754, 12.005083601592192, 48.317272341913345, 32.60476960900066, 22.49618083752009, 13.79989796123375, 28.970265704546442, 11.051124950065066, 27.68879314181334, 16.04421026826388, 115.8657404736721, 17.016459901297623, 30.351988031661794, 65.7962149917149, 28.31104038453328, 52.31289029973889, 37.57468026978981, 3.392251483408083, 3.392250721434416, 2.5378228550823314, 2.5378228550594257, 2.5378228548396486, 2.5378228547947015, 2.537822854574201, 2.537822853849228, 2.537822852853936, 2.537822851976843, 2.537822850723046, 2.5378228491935473, 2.537822848351395, 2.537822274598359, 2.537822273894718, 2.5378222738169387, 2.5378222731502764, 2.5378231393797535, 2.537823603336017, 2.5378236024672822, 2.5378236014809317, 2.537823676892593, 2.537813195543926, 2.537796015915821, 2.5377960147225656, 2.537788259805277, 2.5378358948473365, 2.5378358945885378, 2.537835894588554, 2.5378430680778097, 9.45300544103854, 5.913855412785794, 10.239308337126662, 4.25347524840747, 4.264020726778204, 15.655954965785389, 4.279761578384197, 65.7962149917149, 5.140410672378255, 40.16720790027435, 4.272723635464459, 49.094739854223924, 11.763230671226907, 23.535593720401927, 39.64978024057338, 118.80246459491983, 7.671899540021765, 24.27729378897462, 24.66223394485851, 7.731599543356383, 6.820636286181879, 31.97264549727899, 26.841095355322864, 130.84181299354213, 5.023674987630168, 5.085709008854696, 22.49618083752009, 23.17817459480828, 10.985325235946254, 8.494811961392193, 198.960659869164, 33.8059138368747, 15.085748951772663, 52.31289029973889, 27.68879314181334, 115.8657404736721, 33.05741664757622, 48.317272341913345, 39.22731132031035, 37.57468026978981, 59.02516915129641, 30.351988031661794, 24.254263792724572, 30.767433781065034, 2.4408583193315736, 2.4408583193035716, 2.440858319279522, 2.4408583192696227, 2.440858319224385, 2.440858319224385, 2.4408583191777256, 2.4408583187278943, 2.440861190126269, 2.440861190126269, 2.440861190126269, 2.440861190126269, 2.440862157221815, 2.4408620288679046, 2.440855040605987, 2.440874594271602, 2.440874594274549, 2.440874594286851, 2.4408745942479633, 2.4408745942481715, 2.44087459424996, 2.440884291558996, 2.440884291558996, 4.907176517928358, 4.108033410308064, 4.134312396214162, 3.295296211197228, 3.295285873652861, 3.30207803983665, 3.3020866363142867, 4.872061164276226, 4.988738766631241, 8.373595589837807, 27.277284066123862, 65.7962149917149, 19.964949737075354, 130.84181299354213, 40.16720790027435, 9.908016671758713, 198.960659869164, 52.31289029973889, 73.33035302640525, 5.844755216164042, 31.97264549727899, 35.50331824120731, 12.797116233770153, 16.956903160197637, 6.50456410717343, 13.494291352825098, 6.72897917719469, 23.535593720401927, 27.689731526819887, 28.735590897327704, 7.163166028532703, 11.051124950065066, 10.872812355211945, 31.433012892366754, 59.02516915129641, 24.27729378897462, 32.60476960900066, 18.225889810333953, 28.31104038453328, 49.094739854223924, 28.970265704546442, 33.05741664757622, 39.22731132031035, 30.767433781065034, 6.237548981834502, 2.335957679968237, 2.3359608173369355, 4.648892763750014, 4.697375014766698, 9.440588102204991, 3.8953952665228555, 10.256111051630263, 3.2263877837519357, 5.709934057527063, 3.915521271196862, 4.013661243300194, 4.051603183483355, 4.058402456875223, 4.0796616980934735, 2.3008035774736006, 2.432334302094038, 6.6067585591004185, 2.3883995216181866, 2.388386989528508, 2.3884020002922446, 2.38840753797021, 2.3884078404219147, 2.3884085224522305, 2.4368808799904733, 2.4368860295141697, 2.436889470560006, 2.43688954404266, 2.436889760298114, 2.436889760298114, 17.016459901297623, 10.206414485108503, 4.7699445159394775, 12.236760478884555, 4.923783736273839, 4.930610262214548, 4.945908974961477, 35.50331824120731, 4.989991631662525, 7.340912757850236, 118.80246459491983, 22.49618083752009, 14.194015544114448, 9.868583074915405, 18.225889810333953, 28.06453607354647, 19.964949737075354, 39.22731132031035, 14.186658013317892, 130.84181299354213, 59.02516915129641, 16.04421026826388, 198.960659869164, 25.56839485441051, 28.735590897327704, 28.970265704546442, 33.05741664757622, 31.729494837464852, 115.8657404736721, 5.139024034747395, 3.70233537293044, 2.9839852437886902, 2.9839852437886902, 2.2656447383042893, 2.2656447392006904, 2.2656447395128434, 2.2656447397745776, 2.2656447423277624, 2.2656447423277624, 2.265644742827539, 2.2656447429923143, 2.2656673304599706, 4.556754164567506, 2.3167436727372945, 3.0715997072544208, 3.126861344548714, 3.932809358886944, 4.014405179894009, 4.024815402994856, 10.421496764736245, 2.3008035774736006, 6.443129335273582, 2.3532498641003796, 2.35325036580194, 2.3532516480142345, 2.3532516480142345, 2.35325192010444, 2.3532527090386406, 2.353252747652397, 11.203240868844837, 22.873665603042134, 4.8119208352442815, 4.856191661973755, 4.866986334802297, 14.851468586874079, 29.7336303197031, 8.116479497123173, 10.206414485108503, 12.981362418484565, 130.84181299354213, 115.8657404736721, 118.80246459491983, 12.384571951194072, 24.254263792724572, 49.094739854223924, 24.27729378897462, 27.68879314181334, 9.85722646678251, 15.655954965785389, 31.97264549727899, 9.120474394337934, 14.106155861334681, 31.433012892366754, 23.943613657859544, 28.735590897327704, 33.05741664757622], \"loglift\": [30.0, 29.0, 28.0, 27.0, 26.0, 25.0, 24.0, 23.0, 22.0, 21.0, 20.0, 19.0, 18.0, 17.0, 16.0, 15.0, 14.0, 13.0, 12.0, 11.0, 10.0, 9.0, 8.0, 7.0, 6.0, 5.0, 4.0, 3.0, 2.0, 1.0, 1.5585, 1.536, 1.5359, 1.5034, 1.4523, 1.4523, 1.4523, 1.4522, 1.3856, 1.3599, 1.3599, 1.3599, 1.3599, 1.3599, 1.3599, 1.3599, 1.3599, 1.3599, 1.3599, 1.3599, 1.3599, 1.3599, 1.3599, 1.3599, 1.3599, 1.3599, 1.3599, 1.3599, 1.3599, 1.3599, 1.2979, 1.2531, 1.3239, 1.2525, 1.2515, 1.2203, 1.2067, 1.0149, 1.1416, 1.182, 0.977, 1.2446, 1.2334, 1.2294, 1.2278, 0.7127, 0.4471, 0.7124, 0.036, 0.6528, 0.8721, 0.4263, 0.5842, 0.0807, 0.5448, 0.5739, -0.0161, 0.5683, 0.6774, 0.6403, 0.0864, 0.1188, 0.4666, -0.2218, 0.3979, 0.392, 0.4534, 0.035, 0.1586, -0.0494, 0.1991, 0.5496, -0.0371, 1.6725, 1.5954, 1.5954, 1.4178, 1.4178, 1.4178, 1.4178, 1.4178, 1.4178, 1.4178, 1.4178, 1.4178, 1.4178, 1.4178, 1.4178, 1.4178, 1.4178, 1.4178, 1.4178, 1.4178, 1.4178, 1.4178, 1.4178, 1.4178, 1.4178, 1.4178, 1.4178, 1.4178, 1.4178, 1.4178, 1.383, 1.3585, 1.3817, 1.3767, 1.2688, 0.5496, 0.9596, 1.2378, 1.236, 1.2243, 1.102, 0.8226, 1.0015, 1.2866, 1.2866, 1.2866, 0.7928, 0.9588, 0.9685, 1.1654, 0.8966, 0.5686, 0.1701, 0.6704, 0.5974, 0.4891, 1.2437, 0.0288, 0.4456, 0.205, 0.8991, 0.7419, 0.2489, 0.0644, 0.7104, 0.3351, -0.2229, 0.1888, -0.3117, 0.0395, 0.2571, -0.8886, 0.0936, -0.4227, 0.1349, 1.603, 1.603, 1.603, 1.603, 1.6029, 1.5092, 1.5092, 1.5092, 1.5092, 1.5092, 1.5092, 1.5092, 1.5092, 1.5092, 1.5092, 1.5092, 1.5092, 1.5092, 1.5092, 1.5092, 1.5092, 1.5092, 1.5092, 1.5092, 1.5092, 1.5092, 1.5091, 1.5091, 1.5091, 1.5091, 1.4527, 1.4744, 0.7892, 1.4051, 1.4051, 1.0333, 0.4096, 0.0677, 0.9646, 0.8729, 0.5939, 0.6491, 0.8108, 0.6584, 0.8327, -0.0045, 1.0603, 0.5697, 0.2649, 0.3566, 0.214, 0.8441, 0.8416, 0.4474, -0.2783, 0.3326, 0.323, 0.5261, 0.4315, 0.2579, 0.0152, 0.3241, -0.2829, -0.1499, -0.4535, 0.3393, 0.0862, 0.0648, 1.7912, 1.7051, 1.7051, 1.7051, 1.705, 1.6103, 1.6103, 1.6103, 1.6103, 1.6103, 1.6103, 1.6103, 1.6103, 1.6103, 1.6103, 1.6103, 1.6103, 1.6103, 1.6103, 1.6103, 1.6103, 1.6103, 1.6103, 1.6103, 1.6103, 1.6103, 1.6102, 1.6102, 1.6102, 1.5954, 1.5694, 1.585, 1.5754, 1.4987, 1.0721, 1.474, 0.7075, 0.4491, 0.9877, 1.3182, 0.9071, 1.1939, 1.0199, 0.7607, 0.1536, 1.0737, 0.1797, 0.8213, 0.959, 0.3993, 1.1759, 0.9979, 1.1444, 0.5487, 0.942, 0.2304, 0.3985, 0.4922, 0.8027, 0.3165, 0.9225, 0.2845, 0.652, -0.8683, 0.5932, 0.1099, -0.5812, 0.1449, -0.4221, -0.138, 1.766, 1.766, 1.6705, 1.6705, 1.6705, 1.6705, 1.6705, 1.6705, 1.6705, 1.6705, 1.6705, 1.6705, 1.6705, 1.6705, 1.6705, 1.6705, 1.6705, 1.6705, 1.6705, 1.6705, 1.6705, 1.6705, 1.6705, 1.6704, 1.6704, 1.6703, 1.6702, 1.6702, 1.6702, 1.6702, 1.4141, 1.4878, 1.3178, 1.5397, 1.5373, 1.1921, 1.5336, 0.7616, 1.4713, 0.8598, 1.5162, 0.7344, 1.1184, 0.8687, 0.669, 0.1817, 1.2276, 0.7463, 0.7378, 1.2085, 1.2586, 0.5933, 0.6531, -0.0568, 1.3698, 1.361, 0.6905, 0.6685, 1.0078, 1.1256, -0.616, 0.291, 0.7683, -0.0143, 0.3374, -0.6233, 0.1879, -0.0977, 0.0288, 0.0317, -0.3414, 0.1559, 0.2838, 0.0557, 2.0572, 2.0572, 2.0572, 2.0572, 2.0572, 2.0572, 2.0572, 2.0572, 2.0572, 2.0572, 2.0572, 2.0572, 2.0572, 2.0572, 2.0571, 2.0571, 2.0571, 2.0571, 2.0571, 2.0571, 2.0571, 2.057, 2.057, 2.0222, 1.9222, 1.9159, 1.7572, 1.7571, 1.755, 1.755, 1.7517, 1.728, 1.4878, 1.0638, 0.476, 1.0143, -0.0128, 0.5978, 1.3195, -0.2943, 0.4251, 0.2215, 1.5697, 0.5433, 0.467, 1.0636, 0.8848, 1.4627, 1.0106, 1.4289, 0.6482, 0.5088, 0.4718, 1.3663, 1.0809, 1.0901, 0.3821, -0.0392, 0.5485, 0.3455, 0.71, 0.3395, -0.1571, 0.2466, 0.0822, -0.0894, 0.072, 2.4885, 2.4122, 2.4122, 2.3873, 2.3769, 2.3568, 2.2865, 2.1398, 2.0789, 1.9041, 1.8957, 1.8709, 1.8615, 1.8598, 1.853, 1.7914, 1.7751, 1.7582, 1.7541, 1.7541, 1.7541, 1.754, 1.754, 1.754, 1.734, 1.7339, 1.7339, 1.7339, 1.7339, 1.7339, 1.7222, 1.7068, 1.6984, 1.6365, 1.6658, 1.6652, 1.6621, 1.393, 1.6532, 1.5914, 1.0249, 1.2117, 1.2712, 1.357, 1.031, 0.8066, 0.9436, 0.5799, 0.994, -0.5241, -0.0516, 0.871, -1.1523, 0.4145, 0.2882, 0.2801, 0.1542, 0.1891, -1.0906, 2.8222, 2.7549, 2.6929, 2.6929, 2.5827, 2.5827, 2.5827, 2.5827, 2.5827, 2.5827, 2.5827, 2.5827, 2.5826, 2.5472, 2.4071, 2.2784, 2.2605, 2.0312, 2.0106, 2.0084, 1.9371, 1.9312, 1.9233, 1.9088, 1.9088, 1.9088, 1.9088, 1.9088, 1.9088, 1.9088, 1.8648, 1.7825, 1.8293, 1.8204, 1.8182, 1.6474, 1.5172, 1.6924, 1.6213, 1.5004, 0.6011, 0.2258, 0.062, 1.3532, 0.8868, 0.3872, 0.8415, 0.743, 1.4709, 1.0355, 0.267, 1.3633, 0.8355, 0.0078, 0.2744, 0.0691, -0.0705], \"logprob\": [30.0, 29.0, 28.0, 27.0, 26.0, 25.0, 24.0, 23.0, 22.0, 21.0, 20.0, 19.0, 18.0, 17.0, 16.0, 15.0, 14.0, 13.0, 12.0, 11.0, 10.0, 9.0, 8.0, 7.0, 6.0, 5.0, 4.0, 3.0, 2.0, 1.0, -5.5969, -5.7751, -5.7752, -5.9922, -6.2698, -6.2698, -6.2698, -6.2699, -5.7751, -6.6555, -6.6555, -6.6555, -6.6555, -6.6555, -6.6555, -6.6555, -6.6555, -6.6555, -6.6555, -6.6555, -6.6555, -6.6555, -6.6555, -6.6555, -6.6555, -6.6555, -6.6555, -6.6555, -6.6555, -6.6555, -5.1222, -4.5436, -5.9922, -5.7751, -5.7751, -5.5968, -5.5969, -5.2143, -5.7751, -5.9922, -5.3143, -6.2698, -6.2698, -6.2698, -6.2698, -4.9252, -4.4474, -5.1484, -3.6433, -5.1144, -5.5968, -4.6684, -5.0301, -4.1394, -5.0148, -5.0828, -4.1146, -5.0981, -5.2602, -5.2509, -4.5911, -4.6671, -5.0794, -4.4168, -5.0901, -5.1232, -5.198, -4.9803, -5.1444, -5.1281, -5.3255, -5.4456, -5.3832, -4.9488, -5.7238, -5.7238, -6.6042, -6.6042, -6.6042, -6.6042, -6.6042, -6.6042, -6.6042, -6.6042, -6.6042, -6.6042, -6.6042, -6.6042, -6.6042, -6.6042, -6.6042, -6.6042, -6.6042, -6.6042, -6.6042, -6.6042, -6.6042, -6.6042, -6.6042, -6.6042, -6.6042, -6.6042, -6.6042, -5.9409, -5.5577, -5.9409, -5.9409, -4.3585, -3.1298, -4.896, -5.9409, -5.9409, -5.9409, -5.6323, -4.8066, -5.3944, -6.2185, -6.2185, -6.2185, -4.8898, -5.4429, -5.5039, -5.9984, -5.4235, -4.7238, -4.05, -5.0766, -4.9828, -4.7903, -6.2575, -4.0697, -5.0287, -4.8103, -5.7238, -5.5455, -5.0542, -5.0303, -5.5455, -5.3163, -5.0088, -5.263, -4.9892, -5.3066, -5.3943, -5.0836, -5.3944, -5.3172, -5.4247, -6.1328, -6.1328, -6.1328, -6.1328, -6.1329, -6.5184, -6.5184, -6.5184, -6.5184, -6.5184, -6.5184, -6.5184, -6.5184, -6.5184, -6.5184, -6.5184, -6.5184, -6.5184, -6.5184, -6.5184, -6.5184, -6.5184, -6.5184, -6.5184, -6.5184, -6.5184, -6.5184, -6.5184, -6.5185, -6.5185, -4.6335, -5.8551, -3.4309, -6.1328, -6.1328, -5.3086, -4.2679, -3.6116, -5.4598, -5.3028, -4.8089, -4.9571, -5.3215, -5.0727, -5.4598, -4.1995, -5.8551, -5.1772, -4.8139, -4.9895, -4.8013, -5.6381, -5.638, -5.1906, -4.3768, -5.1826, -5.3336, -5.4839, -5.4598, -5.3935, -5.2879, -5.4598, -5.1774, -5.2446, -5.2394, -5.484, -5.4598, -5.4598, -5.5452, -6.0398, -6.0399, -6.0399, -6.0399, -6.4255, -6.4255, -6.4255, -6.4255, -6.4255, -6.4255, -6.4255, -6.4255, -6.4255, -6.4255, -6.4255, -6.4255, -6.4255, -6.4255, -6.4255, -6.4255, -6.4255, -6.4255, -6.4255, -6.4256, -6.4256, -6.4256, -6.4257, -6.4257, -5.7622, -5.3711, -5.7622, -5.7623, -4.6065, -4.801, -6.0398, -3.97, -3.7459, -4.9905, -5.7622, -4.9222, -5.545, -5.2156, -4.6911, -3.5257, -5.3668, -3.9188, -5.1162, -5.3669, -4.4952, -5.7621, -5.5499, -5.7738, -4.9759, -5.5451, -4.8643, -5.0895, -5.3669, -5.5451, -5.2897, -5.6474, -5.367, -5.5451, -5.0883, -5.5451, -5.4497, -5.3671, -5.4843, -5.4373, -5.4841, -5.985, -5.985, -6.3707, -6.3707, -6.3707, -6.3707, -6.3707, -6.3707, -6.3707, -6.3707, -6.3707, -6.3707, -6.3707, -6.3707, -6.3707, -6.3707, -6.3707, -6.3707, -6.3707, -6.3707, -6.3707, -6.3707, -6.3707, -6.3708, -6.3708, -6.3708, -6.3709, -6.3709, -6.3709, -6.371, -5.312, -5.7073, -5.3285, -5.985, -5.9849, -5.0295, -5.985, -4.0243, -5.864, -4.4197, -6.004, -4.3443, -5.3891, -4.9452, -4.6233, -4.0133, -5.7073, -5.0367, -5.0294, -5.7187, -5.7939, -4.9143, -5.0294, -4.1553, -5.9885, -5.985, -5.1687, -5.1608, -5.5681, -5.7074, -4.2953, -5.1608, -5.4904, -5.0295, -5.314, -4.8434, -5.2863, -5.1923, -5.2743, -5.3144, -5.2359, -5.4037, -5.5001, -5.4903, -6.0229, -6.0229, -6.0229, -6.0229, -6.0229, -6.0229, -6.0229, -6.0229, -6.0229, -6.0229, -6.0229, -6.0229, -6.0229, -6.0229, -6.023, -6.023, -6.023, -6.023, -6.023, -6.023, -6.023, -6.0231, -6.0231, -5.3596, -5.6373, -5.6372, -6.0228, -6.0229, -6.0229, -6.0229, -5.6373, -5.6372, -5.3595, -4.6026, -4.3099, -4.9642, -4.1113, -4.6817, -5.3596, -3.9737, -4.5902, -4.456, -5.6372, -4.9643, -4.9359, -5.3596, -5.257, -5.6372, -5.3596, -5.6372, -5.1658, -5.1426, -5.1425, -5.6372, -5.489, -5.4961, -5.1425, -4.9337, -5.2344, -5.1425, -5.3596, -5.2897, -5.2358, -5.3596, -5.3921, -5.3925, -5.474, -4.6534, -5.7119, -5.7119, -5.0485, -5.0486, -4.3707, -5.3262, -4.5048, -5.7222, -5.3261, -5.7119, -5.7118, -5.7118, -5.7118, -5.7134, -6.3478, -6.3085, -5.3262, -6.3477, -6.3477, -6.3477, -6.3478, -6.3478, -6.3479, -6.3478, -6.3478, -6.3478, -6.3478, -6.3478, -6.3478, -4.4161, -4.9427, -5.7117, -4.8315, -5.7126, -5.7118, -5.7118, -4.0099, -5.7118, -5.3876, -3.1701, -4.6475, -5.0485, -5.3261, -5.0386, -4.8314, -5.0349, -4.7232, -5.3261, -4.6226, -4.9461, -5.3261, -4.8317, -5.3166, -5.3262, -5.3261, -5.32, -5.3261, -5.3106, -4.5134, -4.9086, -5.1863, -5.1863, -5.5719, -5.5719, -5.5719, -5.5719, -5.5719, -5.5719, -5.5719, -5.5719, -5.572, -4.9086, -5.7252, -5.5719, -5.5719, -5.5719, -5.572, -5.5716, -4.6915, -6.208, -5.1862, -6.2079, -6.2079, -6.2079, -6.2079, -6.2079, -6.2079, -6.2079, -4.6915, -4.06, -5.5721, -5.5718, -5.5718, -4.627, -4.063, -5.1862, -5.0281, -4.9085, -3.4973, -3.9942, -4.133, -5.1028, -4.8971, -4.6915, -4.9414, -4.9085, -5.2134, -5.1862, -5.2406, -5.3987, -5.4903, -5.5168, -5.5223, -5.5453, -5.5447]}, \"token.table\": {\"Topic\": [6, 3, 3, 1, 2, 3, 4, 1, 2, 3, 4, 6, 7, 8, 6, 8, 1, 3, 4, 2, 3, 2, 5, 7, 1, 2, 3, 4, 6, 3, 5, 7, 8, 1, 3, 5, 8, 8, 2, 4, 5, 7, 4, 3, 1, 2, 5, 7, 8, 2, 5, 8, 8, 2, 3, 6, 6, 8, 1, 2, 3, 4, 5, 6, 7, 8, 7, 1, 2, 7, 5, 1, 2, 3, 4, 5, 7, 4, 2, 5, 7, 5, 7, 1, 2, 3, 4, 5, 6, 8, 2, 4, 6, 3, 4, 5, 8, 2, 3, 6, 8, 1, 1, 2, 3, 4, 6, 7, 1, 4, 5, 6, 2, 3, 1, 2, 3, 4, 1, 4, 7, 8, 1, 6, 8, 3, 2, 5, 2, 5, 6, 7, 8, 5, 7, 1, 5, 3, 1, 2, 3, 4, 5, 6, 3, 1, 5, 6, 8, 2, 1, 2, 3, 4, 1, 2, 3, 4, 5, 6, 7, 8, 5, 4, 3, 2, 1, 2, 3, 4, 5, 6, 7, 8, 3, 5, 6, 3, 6, 1, 2, 3, 4, 5, 6, 7, 8, 6, 8, 3, 5, 1, 2, 3, 4, 5, 6, 7, 8, 1, 3, 4, 5, 6, 7, 5, 4, 6, 1, 2, 1, 2, 3, 5, 6, 2, 3, 1, 2, 3, 4, 5, 1, 2, 3, 2, 2, 5, 1, 2, 3, 4, 5, 6, 3, 2, 4, 6, 2, 1, 2, 3, 4, 5, 6, 8, 1, 2, 3, 7, 2, 1, 5, 2, 3, 4, 5, 6, 5, 1, 2, 8, 2, 1, 2, 3, 4, 6, 7, 1, 1, 2, 3, 4, 5, 6, 7, 2, 1, 2, 4, 6, 1, 3, 4, 5, 7, 4, 1, 3, 1, 2, 3, 4, 5, 6, 8, 6, 6, 5, 5, 6, 1, 1, 4, 5, 6, 1, 2, 4, 2, 3, 4, 7, 8, 1, 2, 3, 4, 5, 6, 7, 8, 1, 3, 5, 6, 7, 8, 1, 1, 3, 4, 7, 1, 3, 8, 1, 2, 3, 4, 5, 6, 7, 3, 5, 6, 5, 6, 6, 6, 2, 1, 2, 3, 4, 5, 6, 2, 3, 6, 7, 8, 6, 7, 1, 2, 3, 4, 5, 6, 7, 8, 4, 1, 4, 5, 6, 7, 8, 6, 7, 8, 1, 1, 3, 5, 6, 4, 6, 8, 8, 1, 2, 3, 4, 5, 8, 4, 1, 2, 3, 4, 5, 6, 7, 5, 1, 2, 3, 4, 5, 6, 7, 8, 6, 8, 1, 5, 6, 1, 1, 2, 3, 4, 6, 2, 3, 4, 5, 6, 8, 1, 2, 3, 5, 7, 4, 1, 3, 5, 6, 1, 5, 1, 3, 4, 5, 8, 5, 5, 2, 5, 7, 2, 1, 5, 6, 2, 3, 4, 7, 8, 1, 1, 2, 3, 4, 1, 2, 3, 4, 5, 6, 5, 2, 2, 8, 4, 5, 1, 2, 3, 5, 6, 7, 1, 2, 3, 4, 5, 6, 8, 1, 4, 2, 2, 5, 6, 6, 5, 1, 2, 4, 5, 6, 3, 1, 2, 3, 4, 5, 6, 7, 8, 1, 2, 3, 4, 5, 6, 7, 1, 2, 6, 7, 8, 1, 1, 2, 3, 4, 5, 6, 7, 8, 1, 3, 4, 5, 6, 7, 6, 7, 1, 2, 3, 4, 5, 6, 8, 2, 3, 2, 5, 5, 1, 2, 3, 7, 8, 4, 5, 7, 8, 7, 8, 2, 3, 4, 5, 6, 7, 8, 2, 3, 6, 7, 4, 2, 3, 5, 6, 7, 8, 1, 2, 3, 4, 5, 6, 7, 8, 4, 8, 1, 2, 3, 4, 6, 6, 1, 2, 3, 4, 5, 6, 7, 8, 4, 7, 5, 7, 4, 1, 3, 5, 5, 4, 1, 3, 4, 5, 6, 7, 5, 7, 4, 5, 6, 3, 7, 4, 5, 1, 2, 3, 6, 8, 5, 4, 5, 7, 5, 1, 2, 3, 4, 5, 8, 8, 3, 1, 2, 1, 4, 5, 6, 7, 8, 4, 6, 8, 4, 3, 1, 3, 5, 6, 7, 5, 1, 2, 3, 4, 5, 6, 7, 5, 1, 2, 3, 4, 8, 1, 3, 4, 5, 6, 7, 8, 5, 6, 1, 2, 3, 4, 5, 6, 7, 8, 1, 4, 8, 8, 8, 1, 6, 7, 1, 2, 5, 6, 8, 1, 7, 1, 3, 3, 4, 6, 7, 6, 3, 1, 2, 4, 5, 6, 8, 8, 1, 5, 1, 2, 3, 4, 5, 6, 7, 8, 4, 7, 8, 6, 8, 4, 5, 1, 2, 4, 4, 1, 2, 3, 5, 6, 3, 6, 7, 2, 4, 5, 7, 8, 4, 4, 1, 2, 3, 4, 5, 3, 1, 2, 4, 5, 7, 6, 4, 2, 3, 4, 5, 4, 6, 1, 2, 3, 4, 5, 6, 7, 6, 1, 2, 2, 1, 2, 5, 7, 2, 2, 3, 5, 6, 7, 3, 5, 6, 7, 8, 6, 7, 2, 3, 5, 7, 2, 3, 1, 2, 3, 4, 5, 6, 7, 3, 6, 6, 1, 5, 6, 6, 7, 6, 7, 8, 1, 2, 4, 7, 8, 1, 2, 3, 4, 5, 6, 7, 8, 1, 6, 1, 2, 1, 2, 1, 4, 1, 1, 2, 3, 4, 5, 6, 7, 8, 1, 4, 1, 2, 3, 4, 5, 7, 5, 3, 5, 7, 1, 2, 4, 6, 8, 2, 1, 3, 5, 6, 1, 2, 3, 4, 5, 6, 7, 5, 7, 4, 7, 5, 1, 1, 2, 3, 4, 5, 6, 7, 8, 3, 1, 4, 5, 7, 8, 4, 1, 2, 5, 7, 6, 6, 8, 1, 2, 3, 4, 5, 6, 7, 2, 3, 4, 5, 6, 8, 1, 4, 7, 2, 5, 8, 5, 1, 6, 3, 7, 1, 2, 3, 4, 5, 6, 2, 4, 5, 6, 8, 3, 1, 4, 7, 1, 2, 3, 4, 5, 6, 7, 1, 2, 3, 4, 6, 7, 4, 1, 2, 3, 5, 6, 8, 1, 2, 3, 4, 5, 6, 7, 8, 4, 1, 3, 4, 4, 2, 4, 8, 6, 1, 2, 3, 6, 7, 1, 2, 3, 4, 5, 6, 7, 8, 1, 2, 3, 4, 5, 6, 7, 8, 2, 2, 3, 3, 1, 2, 3, 4, 5, 6, 7, 4, 3, 2, 4, 5, 6, 1, 2, 3, 4, 6, 5, 5, 1, 3, 4, 6, 4, 1, 5, 2, 4, 5, 2, 1, 1, 7, 5, 1, 2, 3, 4, 5, 2, 4, 7, 4, 2, 3, 5, 7, 8, 2, 1, 4, 5, 5, 1, 2, 3, 4, 5, 6, 4, 4, 6, 1, 5, 6, 3, 6, 7, 6, 6, 1, 2, 3, 5, 6, 7, 8, 3, 7, 1, 3, 1, 2, 3, 4, 5, 6, 7, 8, 1, 2, 3, 4, 5, 6, 7, 3, 4, 1, 7, 1, 2, 3, 4, 5, 6, 7, 1, 2, 3, 4, 5, 6, 2, 2, 3, 4, 5, 8, 3, 8, 3, 1, 4, 8], \"Freq\": [0.8193838963052318, 0.777454865843811, 0.777454865843811, 0.07648280943837396, 0.45889685663024377, 0.30593123775349584, 0.15296561887674792, 0.058766629827849394, 0.11753325965569879, 0.058766629827849394, 0.23506651931139758, 0.11753325965569879, 0.3525997789670964, 0.058766629827849394, 0.4249437368792082, 0.4249437368792082, 0.7143352610456809, 0.14286705220913617, 0.14286705220913617, 0.6915944263621411, 0.23053147545404704, 0.19905746340324712, 0.5971723902097413, 0.19905746340324712, 0.24801885835258927, 0.08267295278419642, 0.3306918111367857, 0.16534590556839285, 0.08267295278419642, 0.09750284439841793, 0.2925085331952538, 0.4875142219920896, 0.09750284439841793, 0.6875587502645298, 0.2291862500881766, 0.21945445461504565, 0.6583633638451369, 0.6702446012972406, 0.20281465109165966, 0.20281465109165966, 0.20281465109165966, 0.40562930218331933, 0.7838784885519807, 0.7774549193567883, 0.12320612654223333, 0.3696183796267, 0.12320612654223333, 0.12320612654223333, 0.24641225308446665, 0.7693060141384228, 0.1923265035346057, 0.882750928526052, 0.882750928526052, 0.6641456572556775, 0.16603641431391938, 0.16603641431391938, 0.42494416001470386, 0.42494416001470386, 0.056332762656496664, 0.11266552531299333, 0.2816638132824833, 0.056332762656496664, 0.08449914398474499, 0.14083190664124165, 0.25349743195423496, 0.028166381328248332, 0.856179894503566, 0.40080227536046115, 0.20040113768023057, 0.40080227536046115, 0.7880772505759268, 0.14902521477040837, 0.3725630369260209, 0.07451260738520418, 0.11176891107780627, 0.26079412584821465, 0.03725630369260209, 0.7838785259071572, 0.7730916322356886, 0.4103591456175129, 0.4103591456175129, 0.4103591456175129, 0.4103591456175129, 0.40074726171676495, 0.17810989409633998, 0.044527473524084996, 0.17810989409633998, 0.133582420572255, 0.044527473524084996, 0.044527473524084996, 0.6653098130320314, 0.16632745325800785, 0.16632745325800785, 0.31040817216733363, 0.15520408608366681, 0.15520408608366681, 0.31040817216733363, 0.773091632520396, 0.7774549195293206, 0.42494392847608925, 0.42494392847608925, 0.949392884298289, 0.1071478118990845, 0.1071478118990845, 0.1071478118990845, 0.428591247596338, 0.1071478118990845, 0.1071478118990845, 0.7680522219672613, 0.7838785258623034, 0.3034628561165631, 0.6069257122331262, 0.7730916325819294, 0.7774549196053193, 0.12783132231037123, 0.25566264462074245, 0.5113252892414849, 0.12783132231037123, 0.15075683960757758, 0.6030273584303103, 0.15075683960757758, 0.15075683960757758, 0.7680522210911093, 0.42494372990644513, 0.42494372990644513, 0.7774549192547602, 0.38907397238646746, 0.5836109585797012, 0.3570395430061336, 0.1785197715030668, 0.0892598857515334, 0.0892598857515334, 0.3570395430061336, 0.4103597738624507, 0.4103597738624507, 0.7680522223680442, 0.7880854049724095, 0.7774549195548509, 0.06856392114153821, 0.06856392114153821, 0.34281960570769104, 0.20569176342461465, 0.20569176342461465, 0.13712784228307642, 0.7774549197100478, 0.3400426389481657, 0.42505329868520714, 0.08501065973704143, 0.17002131947408286, 0.7730916322244876, 0.17701280267053013, 0.35402560534106026, 0.08850640133526506, 0.35402560534106026, 0.1985056143945003, 0.2071362932812177, 0.35385783435541357, 0.060414752207021825, 0.06904543109373923, 0.02589203666015221, 0.017261357773434807, 0.060414752207021825, 0.7880770701632723, 0.7838776798930643, 0.7774549212223167, 0.7730916332536396, 0.21277819707049847, 0.13678598383103474, 0.10638909853524924, 0.07599221323946374, 0.2887704103099622, 0.13678598383103474, 0.030396885295785495, 0.015198442647892748, 0.34218712778062504, 0.17109356389031252, 0.5132806916709376, 0.7774549198366464, 0.8193838964984838, 0.36493044466785973, 0.04054782718531775, 0.0810956543706355, 0.04054782718531775, 0.2838347902972242, 0.12164348155595324, 0.0810956543706355, 0.04054782718531775, 0.42494392847608925, 0.42494392847608925, 0.23452043601007, 0.70356130803021, 0.1274665103264184, 0.1699553471018912, 0.0849776735509456, 0.0424888367754728, 0.3399106942037824, 0.1699553471018912, 0.0424888367754728, 0.0849776735509456, 0.09103053196165675, 0.1820610639233135, 0.1820610639233135, 0.364122127846627, 0.09103053196165675, 0.09103053196165675, 0.7880707933271942, 0.30283881379810706, 0.6056776275962141, 0.7680522216967368, 0.9571047493944989, 0.19867912316572867, 0.3576224216983116, 0.27815077243202013, 0.03973582463314573, 0.1192074738994372, 0.6915940379493878, 0.23053134598312927, 0.08208582117108117, 0.492514927026487, 0.2462574635132435, 0.08208582117108117, 0.16417164234216233, 0.16386281808582565, 0.49158845425747694, 0.16386281808582565, 0.7730916323698661, 0.7730916327158639, 0.7880800696882431, 0.04429662053246215, 0.4429662053246215, 0.1771864821298486, 0.1771864821298486, 0.0885932410649243, 0.04429662053246215, 0.7774553144391886, 0.7683015731566604, 0.1920753932891651, 0.8193838962958316, 0.7730916323801619, 0.10596572783100343, 0.3885410020470126, 0.07064381855400229, 0.1766095463850057, 0.10596572783100343, 0.14128763710800457, 0.03532190927700114, 0.15136015506765557, 0.30272031013531114, 0.15136015506765557, 0.30272031013531114, 0.7730916327443229, 0.23365787595521736, 0.7009736278656521, 0.11942301121081124, 0.11942301121081124, 0.11942301121081124, 0.23884602242162248, 0.35826903363243373, 0.7880770707659435, 0.5793459097578374, 0.23173836390313496, 0.11586918195156748, 0.7730916343867217, 0.30560833934837983, 0.10186944644945994, 0.2037388928989199, 0.15280416967418992, 0.15280416967418992, 0.10186944644945994, 0.7680522212194175, 0.20455376772287878, 0.12273226063372726, 0.24546452126745452, 0.2863752748120303, 0.013636917848191918, 0.10909534278553534, 0.013636917848191918, 0.7730916322381847, 0.6399823702454267, 0.12799647404908532, 0.12799647404908532, 0.12799647404908532, 0.16659609098721703, 0.33319218197443407, 0.33319218197443407, 0.08329804549360852, 0.08329804549360852, 0.7838785262437085, 0.768052222289929, 0.8710140004761041, 0.16476301002777233, 0.08238150501388616, 0.16476301002777233, 0.04119075250694308, 0.28833526754860156, 0.16476301002777233, 0.12357225752082923, 0.8193829325855836, 0.8193829325855836, 0.7880768379865298, 0.7880770721641298, 0.8193826079373513, 0.7680522215890521, 0.23543781888165835, 0.11771890944082918, 0.4708756377633167, 0.23543781888165835, 0.1641013395985704, 0.6564053583942816, 0.1641013395985704, 0.09797760040600283, 0.09797760040600283, 0.19595520081200565, 0.29393280121800847, 0.29393280121800847, 0.348000499997721, 0.1044001499993163, 0.1392001999990884, 0.1044001499993163, 0.0348000499997721, 0.1392001999990884, 0.0696000999995442, 0.0696000999995442, 0.668236642498112, 0.041764790156132, 0.083529580312264, 0.125294370468396, 0.041764790156132, 0.083529580312264, 0.7680522231591497, 0.17513337105561844, 0.17513337105561844, 0.17513337105561844, 0.3502667421112369, 0.2484585999288072, 0.2484585999288072, 0.4969171998576144, 0.22943198748725244, 0.22943198748725244, 0.15295465832483496, 0.05098488610827832, 0.1274622152706958, 0.07647732916241748, 0.10196977221655663, 0.7736264456644203, 0.19340661141610507, 0.8193784329155258, 0.20378317273619614, 0.6113495182085884, 0.8193829325855836, 0.8193838963474777, 0.7730916322819831, 0.36721667431193133, 0.13770625286697424, 0.2295104214449571, 0.18360833715596567, 0.04590208428899142, 0.04590208428899142, 0.42293258880050744, 0.21146629440025372, 0.14097752960016915, 0.14097752960016915, 0.07048876480008458, 0.4186904204881438, 0.4186904204881438, 0.18629566372193532, 0.18629566372193532, 0.23952299621391684, 0.1330683312299538, 0.1330683312299538, 0.05322733249198152, 0.05322733249198152, 0.05322733249198152, 0.7838785258834261, 0.06387345915246982, 0.19162037745740945, 0.4471142140672887, 0.12774691830493964, 0.06387345915246982, 0.12774691830493964, 0.41868901521297774, 0.41868901521297774, 0.8827509297444361, 0.7680522215223785, 0.5149207936351641, 0.12873019840879102, 0.19309529761318653, 0.19309529761318653, 0.25427116057387994, 0.25427116057387994, 0.5085423211477599, 0.8827509296228137, 0.20465491852123383, 0.34109153086872307, 0.13643661234748922, 0.13643661234748922, 0.13643661234748922, 0.06821830617374461, 0.7838785258623034, 0.12447965047542797, 0.27385523104594156, 0.024895930095085596, 0.07468779028525678, 0.32364709123611274, 0.17427151066559915, 0.024895930095085596, 0.788077071902614, 0.13452780427384897, 0.3026875596161602, 0.13452780427384897, 0.06726390213692449, 0.03363195106846224, 0.06726390213692449, 0.03363195106846224, 0.23542365747923572, 0.3255632554066948, 0.6511265108133896, 0.20045146614788023, 0.20045146614788023, 0.6013543984436407, 0.9493939309022298, 0.18097705066561795, 0.09048852533280898, 0.09048852533280898, 0.3619541013312359, 0.2714655759984269, 0.15901320271372302, 0.07950660135686151, 0.39753300678430753, 0.15901320271372302, 0.07950660135686151, 0.15901320271372302, 0.12201205247830635, 0.18301807871745954, 0.3660361574349191, 0.2440241049566127, 0.061006026239153174, 0.8790833131267484, 0.3907130253928273, 0.15628521015713093, 0.2344278152356964, 0.2344278152356964, 0.768052221040518, 0.7880772505517739, 0.17487358910536888, 0.17487358910536888, 0.17487358910536888, 0.13115519182902666, 0.30602878093439556, 0.7880730208208794, 0.8843683950536589, 0.20309584123951957, 0.40619168247903914, 0.40619168247903914, 0.9571047495472582, 0.7680522227198278, 0.7880730209012389, 0.8193838963133051, 0.33051178390312597, 0.26440942712250076, 0.13220471356125038, 0.13220471356125038, 0.13220471356125038, 0.7680522225662605, 0.28623666408625986, 0.4770611068104331, 0.09541222136208663, 0.19082444272417326, 0.06477048485111168, 0.12954096970222337, 0.19431145455333507, 0.38862290910667013, 0.12954096970222337, 0.12954096970222337, 0.7880878131863763, 0.7730916324000128, 0.7730916324000128, 0.8827509300936961, 0.783879237784986, 0.7880770704568728, 0.14090445327356996, 0.21135667991035495, 0.14090445327356996, 0.14090445327356996, 0.14090445327356996, 0.21135667991035495, 0.18031084382567233, 0.09015542191283617, 0.09015542191283617, 0.4056993986077628, 0.09015542191283617, 0.13523313286925426, 0.045077710956418084, 0.7680522215396903, 0.7838785260624367, 0.7730916319949904, 0.7730916319949904, 0.7880770700810668, 0.8193784329113962, 0.8193784329165151, 0.788073020901244, 0.14861095177543704, 0.14861095177543704, 0.14861095177543704, 0.14861095177543704, 0.4458328553263111, 0.7774549225002979, 0.2880127282045513, 0.11859347631952113, 0.11859347631952113, 0.22024502745053925, 0.1016515511310181, 0.08470962594251509, 0.05082577556550905, 0.01694192518850302, 0.3267469711884642, 0.14522087608376186, 0.2178313141256428, 0.1089156570628214, 0.07261043804188093, 0.1089156570628214, 0.07261043804188093, 0.701037263315041, 0.07789302925722678, 0.07789302925722678, 0.07789302925722678, 0.07789302925722678, 0.7680522216159247, 0.1876604174187158, 0.0938302087093579, 0.12510694494581054, 0.06255347247290527, 0.2502138898916211, 0.15638368118226317, 0.06255347247290527, 0.06255347247290527, 0.22231623147605561, 0.07410541049201853, 0.29642164196807413, 0.14821082098403707, 0.22231623147605561, 0.07410541049201853, 0.41869261739589786, 0.41869261739589786, 0.19115747462437405, 0.21027322208681146, 0.19115747462437405, 0.09557873731218702, 0.13381023223706184, 0.13381023223706184, 0.038231494924874806, 0.7730916321394666, 0.8710140581583501, 0.2340427524260639, 0.7021282572781916, 0.7880770714276546, 0.13622284217049418, 0.27244568434098837, 0.13622284217049418, 0.27244568434098837, 0.13622284217049418, 0.2096460444473414, 0.2096460444473414, 0.4192920888946828, 0.2096460444473414, 0.4346307567454545, 0.4346307567454545, 0.13257545292539077, 0.06628772646269539, 0.26515090585078155, 0.26515090585078155, 0.06628772646269539, 0.06628772646269539, 0.06628772646269539, 0.15373820344043804, 0.15373820344043804, 0.4612146103213141, 0.3074764068808761, 0.7838844909528754, 0.30813406721503095, 0.07703351680375774, 0.07703351680375774, 0.23110055041127323, 0.07703351680375774, 0.23110055041127323, 0.1444627788402785, 0.21669416826041774, 0.036115694710069625, 0.18057847355034812, 0.18057847355034812, 0.07223138942013925, 0.07223138942013925, 0.10834708413020887, 0.3198095117787596, 0.6396190235575192, 0.2889157662020418, 0.25280129542678653, 0.21668682465153133, 0.10834341232576566, 0.1444578831010209, 0.8193826510249821, 0.15151200828513542, 0.07575600414256771, 0.15992934207875406, 0.22726801242770314, 0.15992934207875406, 0.008417333793618635, 0.16834667587237268, 0.050504002761711804, 0.3177768130037688, 0.6355536260075376, 0.21288485523433698, 0.6386545657030109, 0.7838785262437085, 0.7150340577075756, 0.1430068115415151, 0.1430068115415151, 0.7880770710383096, 0.8790851235754181, 0.12465555901845066, 0.2493111180369013, 0.2493111180369013, 0.12465555901845066, 0.06232777950922533, 0.12465555901845066, 0.4103591944078598, 0.4103591944078598, 0.16909442828750826, 0.676377713150033, 0.16909442828750826, 0.7146673069679302, 0.23822243565597673, 0.7799853950231957, 0.19499634875579894, 0.2693336336808639, 0.13466681684043194, 0.2693336336808639, 0.06733340842021597, 0.2693336336808639, 0.7880770702317449, 0.24681587873081212, 0.24681587873081212, 0.49363175746162424, 0.7880770701493147, 0.08628807207483818, 0.12943210811225728, 0.12943210811225728, 0.34515228829935274, 0.25886421622451455, 0.04314403603741909, 0.8827509283313267, 0.7774549208076067, 0.6864163089281045, 0.22880543630936817, 0.14178207157642778, 0.3544551789410694, 0.21267310736464168, 0.14178207157642778, 0.07089103578821389, 0.14178207157642778, 0.3028396021947043, 0.6056792043894086, 0.8827509295208356, 0.7838787401941608, 0.7774549299206087, 0.20266333928765598, 0.10133166964382799, 0.20266333928765598, 0.20266333928765598, 0.20266333928765598, 0.7880770700739538, 0.32946771030511945, 0.19768062618307167, 0.09884031309153583, 0.16473385515255973, 0.16473385515255973, 0.03294677103051194, 0.03294677103051194, 0.7880768377167594, 0.248640777859865, 0.248640777859865, 0.3315210371464866, 0.08288025928662165, 0.08288025928662165, 0.2743350284695036, 0.05486700569390071, 0.10973401138780142, 0.16460101708170213, 0.16460101708170213, 0.16460101708170213, 0.05486700569390071, 0.3034638081009612, 0.6069276162019224, 0.2226958015119159, 0.0636273718605474, 0.1590684296513685, 0.2545094874421896, 0.0954410577908211, 0.1272547437210948, 0.0318136859302737, 0.0636273718605474, 0.7680534485108265, 0.7838782920216528, 0.778357908613404, 0.8102993645401352, 0.6702446012972406, 0.7680522222934004, 0.4186899859728974, 0.4186899859728974, 0.09197252443344561, 0.18394504886689123, 0.36789009773378245, 0.27591757330033684, 0.09197252443344561, 0.1603193823266609, 0.8015969116333045, 0.9134484449634942, 0.7774549194369732, 0.40371349105632703, 0.10092837276408176, 0.30278511829224525, 0.20185674552816352, 0.8193838963318143, 0.871013799636611, 0.16149124958712585, 0.16149124958712585, 0.16149124958712585, 0.16149124958712585, 0.16149124958712585, 0.16149124958712585, 0.8827421277217978, 0.6903015154122346, 0.23010050513741154, 0.1834276020096462, 0.1834276020096462, 0.1222850680064308, 0.16814196850884233, 0.12992788475683273, 0.0917138010048231, 0.038214083752009624, 0.0917138010048231, 0.25539383666643417, 0.5107876733328683, 0.25539383666643417, 0.42494425061075636, 0.42494425061075636, 0.23510187355020037, 0.7053056206506011, 0.768052221040518, 0.7730916327376803, 0.7838782525812706, 0.7838784882847213, 0.14406297878553118, 0.28812595757106235, 0.4321889363565935, 0.07203148939276559, 0.07203148939276559, 0.20525193881644466, 0.615755816449334, 0.20525193881644466, 0.05685025339680357, 0.6253527873648393, 0.11370050679360715, 0.05685025339680357, 0.11370050679360715, 0.7838844426288402, 0.7838785259863428, 0.4089745985190423, 0.1635898394076169, 0.1635898394076169, 0.08179491970380845, 0.1635898394076169, 0.7774549200924633, 0.13074790552078855, 0.13074790552078855, 0.5229916220831542, 0.13074790552078855, 0.13074790552078855, 0.8193784329243805, 0.7838785257850011, 0.12933934231750027, 0.25867868463500054, 0.12933934231750027, 0.3880180269525008, 0.7874301512061594, 0.19685753780153986, 0.05008777949202536, 0.10017555898405071, 0.20035111796810143, 0.10017555898405071, 0.15026333847607606, 0.25043889746012676, 0.15026333847607606, 0.8193838963318143, 0.2296439994372, 0.6889319983116, 0.7730916322250694, 0.09766284665675166, 0.19532569331350333, 0.4883142332837583, 0.09766284665675166, 0.7730916322250694, 0.5332626568659086, 0.10665253137318172, 0.10665253137318172, 0.10665253137318172, 0.10665253137318172, 0.13960307439709577, 0.13960307439709577, 0.4188092231912873, 0.13960307439709577, 0.27920614879419153, 0.418688962193052, 0.418688962193052, 0.29206591368838936, 0.3504790964260673, 0.2336527309507115, 0.11682636547535576, 0.7730916337873625, 0.871015032537745, 0.1380726031578047, 0.10355445236835352, 0.31066335710506054, 0.20710890473670704, 0.06903630157890235, 0.10355445236835352, 0.06903630157890235, 0.7774549195650242, 0.8193784329244505, 0.8193784329237802, 0.19662941750283122, 0.5898882525084936, 0.19662941750283122, 0.21510498323333085, 0.6453149496999926, 0.2567133581010457, 0.5134267162020913, 0.4316403285213134, 0.32893025848111856, 0.21928683898741236, 0.10964341949370618, 0.10964341949370618, 0.21928683898741236, 0.19099253101084757, 0.30156715422765407, 0.17088805406233729, 0.16586193482520972, 0.07036566931978594, 0.06533955008265838, 0.02010447694851027, 0.010052238474255135, 0.24187819017152926, 0.7256345705145878, 0.19111047619125626, 0.764441904765025, 0.8592292974519486, 0.7730916320875916, 0.23254996679074877, 0.6976499003722463, 0.768052221063373, 0.18331902820390797, 0.10184390455772664, 0.20368780911545328, 0.06110634273463599, 0.2851629327616346, 0.08147512364618131, 0.04073756182309066, 0.08147512364618131, 0.7633247134344106, 0.19083117835860264, 0.0782339523962998, 0.1564679047925996, 0.39116976198149894, 0.0782339523962998, 0.1564679047925996, 0.1564679047925996, 0.7880854046018568, 0.7774548091935211, 0.411127697018902, 0.411127697018902, 0.8124763011178142, 0.20781721774714818, 0.20781721774714818, 0.20781721774714818, 0.41563443549429635, 0.7730916321209643, 0.14661388733275935, 0.14661388733275935, 0.439841661998278, 0.14661388733275935, 0.044451989749840444, 0.08890397949968089, 0.08890397949968089, 0.2222599487492022, 0.2667119384990427, 0.08890397949968089, 0.2222599487492022, 0.41036064101906755, 0.41036064101906755, 0.7956459578809171, 0.19891148947022927, 0.7880772503332701, 0.7680534487146305, 0.20677683359194965, 0.05169420839798741, 0.25847104198993703, 0.05169420839798741, 0.20677683359194965, 0.05169420839798741, 0.10338841679597482, 0.10338841679597482, 0.7774549192563911, 0.16344195046157434, 0.24516292569236148, 0.24516292569236148, 0.3268839009231487, 0.08172097523078717, 0.7838785257365292, 0.7680522210353175, 0.7730916319944089, 0.410359182033773, 0.410359182033773, 0.8193849969490459, 0.4249438793427687, 0.4249438793427687, 0.15132492446604373, 0.30264984893208746, 0.10088328297736249, 0.07566246223302187, 0.2522082074434062, 0.050441641488681244, 0.050441641488681244, 0.10144841486292941, 0.20289682972585882, 0.20289682972585882, 0.20289682972585882, 0.10144841486292941, 0.20289682972585882, 0.8592305693342261, 0.4928047479894108, 0.4928047479894108, 0.20592267966490416, 0.4118453593298083, 0.4118453593298083, 0.7880768148750489, 0.6980887916650972, 0.23269626388836576, 0.49023672745577146, 0.49023672745577146, 0.28985721570091877, 0.07246430392522969, 0.07246430392522969, 0.28985721570091877, 0.21739291177568906, 0.07246430392522969, 0.19191101289476026, 0.19191101289476026, 0.19191101289476026, 0.09595550644738013, 0.3838220257895205, 0.777454930074928, 0.20218730370139673, 0.40437460740279346, 0.40437460740279346, 0.11733235571033528, 0.11733235571033528, 0.3128862818942274, 0.1564431409471137, 0.11733235571033528, 0.07822157047355685, 0.07822157047355685, 0.38015112663717665, 0.456181351964612, 0.07603022532743534, 0.07603022532743534, 0.4186888426328669, 0.4186888426328669, 0.8790847516228487, 0.32994487201081935, 0.14664216533814195, 0.14664216533814195, 0.07332108266907097, 0.2566237893417484, 0.03666054133453549, 0.2897514557719672, 0.18626879299626464, 0.1448757278859836, 0.18626879299626464, 0.1241791953308431, 0.041393065110281034, 0.041393065110281034, 0.020696532555140517, 0.7838785265545725, 0.5715436498596725, 0.11430872997193452, 0.22861745994386903, 0.7838785269196332, 0.20546595597553105, 0.4109319119510621, 0.4109319119510621, 0.8193838963166282, 0.479387209326591, 0.1369677740933117, 0.1369677740933117, 0.20545166113996757, 0.06848388704665585, 0.2925170836164699, 0.16250949089803882, 0.16250949089803882, 0.06500379635921552, 0.13000759271843104, 0.09750569453882328, 0.03250189817960776, 0.06500379635921552, 0.15125198842077703, 0.2722535791573987, 0.15125198842077703, 0.060500795368310815, 0.15125198842077703, 0.09075119305246622, 0.060500795368310815, 0.060500795368310815, 0.773091632624253, 0.6915940446296245, 0.2305313482098748, 0.7774549196256169, 0.2760332340307511, 0.1840221560205007, 0.09201107801025035, 0.21469251535725084, 0.06134071867350024, 0.12268143734700047, 0.06134071867350024, 0.7838785263606071, 0.7774549193431816, 0.2606916304842967, 0.13034581524214836, 0.5213832609685934, 0.13034581524214836, 0.25637963772409833, 0.12818981886204917, 0.12818981886204917, 0.5127592754481967, 0.8193829325855836, 0.7880769817903079, 0.7880768382928238, 0.3846269042852568, 0.1923134521426284, 0.3365485412495997, 0.0961567260713142, 0.7838780200749862, 0.816866567811107, 0.1633733135622214, 0.6396352966420468, 0.12792705932840936, 0.12792705932840936, 0.7730916319509161, 0.8592294625501466, 0.7680522219435341, 0.8561787445904419, 0.7880772507829474, 0.10014547230406372, 0.2503636807601593, 0.20029094460812744, 0.40058188921625487, 0.05007273615203186, 0.13107339333857437, 0.655366966692872, 0.13107339333857437, 0.7789543352127092, 0.634587903440315, 0.1410195340978478, 0.1410195340978478, 0.03525488352446195, 0.0705097670489239, 0.9525412540390873, 0.2115729238150394, 0.2115729238150394, 0.5289323095375985, 0.8843685937021328, 0.1715494433864112, 0.21443680423301403, 0.21443680423301403, 0.0428873608466028, 0.1715494433864112, 0.1286620825398084, 0.8790865184721858, 0.2434254788412272, 0.7302764365236816, 0.662317247627776, 0.165579311906944, 0.165579311906944, 0.24914907845530074, 0.24914907845530074, 0.4982981569106015, 0.8193751776421148, 0.8193751776421148, 0.39195374444007147, 0.10689647575638313, 0.2494251100982273, 0.07126431717092209, 0.035632158585461045, 0.14252863434184418, 0.035632158585461045, 0.7146674386279389, 0.23822247954264633, 0.8592292968470803, 0.7774549198715605, 0.12368959229757757, 0.12368959229757757, 0.20614932049596263, 0.1649194563967701, 0.1649194563967701, 0.04122986409919253, 0.08245972819838505, 0.12368959229757757, 0.058973032431255845, 0.17691909729376754, 0.23589212972502338, 0.17691909729376754, 0.11794606486251169, 0.23589212972502338, 0.058973032431255845, 0.7774549199565831, 0.7838785262136864, 0.3099441440474057, 0.6198882880948114, 0.28364775569553596, 0.12606566919801598, 0.22061492109652797, 0.12606566919801598, 0.09454925189851199, 0.09454925189851199, 0.06303283459900799, 0.17748373935259043, 0.2070643625780222, 0.08874186967629522, 0.2958062322543174, 0.17748373935259043, 0.02958062322543174, 0.773091632172161, 0.05578468199876288, 0.6694161839851546, 0.11156936399752576, 0.05578468199876288, 0.11156936399752576, 0.8710140581412534, 0.8827509282671262, 0.7774549193139739, 0.24910290695330425, 0.24910290695330425, 0.4982058139066085], \"Term\": [\"500\", \"aaa\", \"aaa conference\", \"academic\", \"academic\", \"academic\", \"academic\", \"accessible\", \"accessible\", \"accessible\", \"accessible\", \"accessible\", \"accessible\", \"accessible\", \"act\", \"act\", \"actionable\", \"actionable\", \"actionable\", \"address\", \"address\", \"advanced\", \"advanced\", \"advanced\", \"advice\", \"advice\", \"advice\", \"advice\", \"advice\", \"affordable\", \"affordable\", \"affordable\", \"affordable\", \"agenda\", \"agenda\", \"america\", \"america\", \"america europe\", \"andor\", \"andor\", \"andor\", \"andor\", \"applied\", \"approaches\", \"area\", \"area\", \"area\", \"area\", \"area\", \"areas\", \"areas\", \"art\", \"art gathering\", \"asked\", \"asked\", \"asked\", \"aspect\", \"aspect\", \"attend\", \"attend\", \"attend\", \"attend\", \"attend\", \"attend\", \"attend\", \"attend\", \"attend want\", \"attendance\", \"attendance\", \"attendance\", \"attendee experience\", \"attendees\", \"attendees\", \"attendees\", \"attendees\", \"attendees\", \"attendees\", \"away use\", \"bag\", \"bay\", \"bay\", \"bay area\", \"bay area\", \"big\", \"big\", \"big\", \"big\", \"big\", \"big\", \"big\", \"biggest\", \"biggest\", \"biggest\", \"book\", \"book\", \"book\", \"book\", \"brand\", \"bring real\", \"bringing\", \"bringing\", \"broad\", \"build\", \"build\", \"build\", \"build\", \"build\", \"build\", \"busy\", \"buyin\", \"canada\", \"canada\", \"careful\", \"cater\", \"challenges\", \"challenges\", \"challenges\", \"challenges\", \"chance\", \"chance\", \"chance\", \"chance\", \"chances\", \"city conference\", \"city conference\", \"coaching\", \"collective\", \"collective\", \"come\", \"come\", \"come\", \"come\", \"come\", \"come new\", \"come new\", \"comes mind\", \"communicate\", \"communities\", \"community\", \"community\", \"community\", \"community\", \"community\", \"community\", \"community research\", \"companies\", \"companies\", \"companies\", \"companies\", \"competencies\", \"conduct\", \"conduct\", \"conduct\", \"conduct\", \"conference\", \"conference\", \"conference\", \"conference\", \"conference\", \"conference\", \"conference\", \"conference\", \"conference consider\", \"conference especially\", \"conference experience\", \"conference good\", \"conferences\", \"conferences\", \"conferences\", \"conferences\", \"conferences\", \"conferences\", \"conferences\", \"conferences\", \"connect\", \"connect\", \"connect\", \"connect people\", \"connections\", \"consider\", \"consider\", \"consider\", \"consider\", \"consider\", \"consider\", \"consider\", \"consider\", \"consider bringing\", \"consider bringing\", \"consider having\", \"consider having\", \"content\", \"content\", \"content\", \"content\", \"content\", \"content\", \"content\", \"content\", \"cost\", \"cost\", \"cost\", \"cost\", \"cost\", \"cost\", \"countries\", \"crowd\", \"crowd\", \"culture\", \"data\", \"day\", \"day\", \"day\", \"day\", \"day\", \"day conference\", \"day conference\", \"days\", \"days\", \"days\", \"days\", \"days\", \"define\", \"define\", \"define\", \"define research\", \"delivering\", \"demand\", \"design\", \"design\", \"design\", \"design\", \"design\", \"design\", \"design conference\", \"design research\", \"design research\", \"designer\", \"designops\", \"different\", \"different\", \"different\", \"different\", \"different\", \"different\", \"different\", \"digital\", \"digital\", \"digital\", \"digital\", \"disciplines\", \"discussions\", \"discussions\", \"diverse\", \"diverse\", \"diverse\", \"diverse\", \"diverse\", \"diverse speakers\", \"diversity\", \"diversity\", \"diversity\", \"diversity speakers\", \"doing\", \"doing\", \"doing\", \"doing\", \"doing\", \"doing\", \"doing research just\", \"don\", \"don\", \"don\", \"don\", \"don\", \"don\", \"don\", \"don afraid\", \"don know\", \"don know\", \"don know\", \"don know\", \"don make\", \"don make\", \"don make\", \"don make\", \"don make\", \"don make big\", \"don make people\", \"don want\", \"dont\", \"dont\", \"dont\", \"dont\", \"dont\", \"dont\", \"dont\", \"dont fall\", \"dont fall trap\", \"dont limit\", \"dont make\", \"draw\", \"emphasize\", \"engage\", \"engage\", \"engage\", \"engage\", \"ensure\", \"ensure\", \"ensure\", \"europe\", \"europe\", \"europe\", \"europe\", \"europe\", \"event\", \"event\", \"event\", \"event\", \"event\", \"event\", \"event\", \"event\", \"events\", \"events\", \"events\", \"events\", \"events\", \"events\", \"events conferences\", \"example\", \"example\", \"example\", \"example\", \"excited\", \"excited\", \"excited\", \"experience\", \"experience\", \"experience\", \"experience\", \"experience\", \"experience\", \"experience\", \"experienced researchers\", \"experienced researchers\", \"extroverts\", \"fall\", \"fall\", \"fall trap\", \"famous people\", \"fee\", \"feel\", \"feel\", \"feel\", \"feel\", \"feel\", \"feel\", \"field\", \"field\", \"field\", \"field\", \"field\", \"fluff\", \"fluff\", \"focus\", \"focus\", \"focus\", \"focus\", \"focus\", \"focus\", \"focus\", \"focus\", \"focus sharing\", \"food\", \"food\", \"food\", \"food\", \"food\", \"food\", \"food good\", \"food good\", \"food great\", \"forced\", \"fun\", \"fun\", \"fun\", \"fun\", \"gathering\", \"gathering\", \"gathering\", \"geographic\", \"getting\", \"getting\", \"getting\", \"getting\", \"getting\", \"getting\", \"getting buyin\", \"good\", \"good\", \"good\", \"good\", \"good\", \"good\", \"good\", \"good food\", \"great\", \"great\", \"great\", \"great\", \"great\", \"great\", \"great\", \"great\", \"great idea\", \"great idea\", \"groups\", \"groups\", \"groups\", \"growing\", \"hands\", \"hands\", \"hands\", \"hands\", \"hands\", \"hard\", \"hard\", \"hard\", \"hard\", \"hard\", \"hard\", \"having\", \"having\", \"having\", \"having\", \"having\", \"head\", \"hear\", \"hear\", \"hear\", \"hear\", \"hearing\", \"heavily\", \"help\", \"help\", \"help\", \"help\", \"help\", \"help people\", \"high quality\", \"hold\", \"hold\", \"hold\", \"hope\", \"house\", \"huge\", \"id love\", \"idea\", \"idea\", \"idea\", \"idea\", \"idea\", \"immersive\", \"important\", \"important\", \"important\", \"important\", \"include\", \"include\", \"include\", \"include\", \"include\", \"include\", \"income\", \"industries\", \"industries backgrounds\", \"innovative\", \"inspirational\", \"interactions\", \"interested\", \"interested\", \"interested\", \"interested\", \"interested\", \"interested\", \"interesting\", \"interesting\", \"interesting\", \"interesting\", \"interesting\", \"interesting\", \"interesting\", \"interesting people\", \"internal\", \"intersection\", \"intersection research\", \"introducing\", \"introverts\", \"introverts extroverts\", \"invest\", \"invite\", \"invite\", \"invite\", \"invite\", \"invite\", \"issue\", \"just\", \"just\", \"just\", \"just\", \"just\", \"just\", \"just\", \"just\", \"know\", \"know\", \"know\", \"know\", \"know\", \"know\", \"know\", \"large\", \"large\", \"large\", \"large\", \"large\", \"leads\", \"learn\", \"learn\", \"learn\", \"learn\", \"learn\", \"learn\", \"learn\", \"learn\", \"learning\", \"learning\", \"learning\", \"learning\", \"learning\", \"learning\", \"let know\", \"let know\", \"like\", \"like\", \"like\", \"like\", \"like\", \"like\", \"like\", \"like biggest\", \"like idea\", \"limit\", \"limit\", \"limit speakers\", \"live\", \"live\", \"live\", \"live\", \"live\", \"ll\", \"ll\", \"ll\", \"ll\", \"ll come\", \"ll come\", \"location\", \"location\", \"location\", \"location\", \"location\", \"location\", \"location\", \"locations\", \"locations\", \"locations\", \"locations\", \"lofty\", \"look\", \"look\", \"look\", \"look\", \"look\", \"look\", \"lot\", \"lot\", \"lot\", \"lot\", \"lot\", \"lot\", \"lot\", \"lot\", \"lot researchers\", \"lot researchers\", \"love\", \"love\", \"love\", \"love\", \"love\", \"major research\", \"make\", \"make\", \"make\", \"make\", \"make\", \"make\", \"make\", \"make\", \"make accessible\", \"make accessible\", \"make affordable\", \"make affordable\", \"make big\", \"make fun\", \"make fun\", \"make fun\", \"make money\", \"make practical\", \"make sure\", \"make sure\", \"make sure\", \"make sure\", \"make sure\", \"make sure\", \"make virtual\", \"make virtual\", \"material\", \"material\", \"material\", \"materials\", \"materials\", \"maturity\", \"maturity\", \"maybe\", \"maybe\", \"maybe\", \"maybe\", \"maybe\", \"memorable\", \"method\", \"method\", \"method\", \"methodology\", \"methods\", \"methods\", \"methods\", \"methods\", \"methods\", \"methods\", \"mid\", \"minds\", \"minute\", \"minute\", \"mix\", \"mix\", \"mix\", \"mix\", \"mix\", \"mix\", \"mix speakers\", \"mix speakers\", \"mix theory\", \"model\", \"months\", \"multiple\", \"multiple\", \"multiple\", \"multiple\", \"multiple\", \"multiple tracks\", \"need\", \"need\", \"need\", \"need\", \"need\", \"need\", \"need\", \"need ask\", \"needs\", \"needs\", \"needs\", \"needs\", \"needs\", \"networking\", \"networking\", \"networking\", \"networking\", \"networking\", \"networking\", \"networking\", \"networking events\", \"networking events\", \"new\", \"new\", \"new\", \"new\", \"new\", \"new\", \"new\", \"new\", \"new speakers\", \"normal\", \"north\", \"north america\", \"north america europe\", \"novice\", \"obvious\", \"obvious\", \"offer\", \"offer\", \"offer\", \"offer\", \"offer\", \"offering\", \"offering\", \"ones\", \"online conference\", \"opportunities\", \"opportunities\", \"opportunities\", \"opportunities\", \"option purchase\", \"organizations\", \"outside\", \"outside\", \"outside\", \"outside\", \"outside\", \"outside\", \"participation\", \"past\", \"past\", \"people\", \"people\", \"people\", \"people\", \"people\", \"people\", \"people\", \"people\", \"people attend\", \"people attend\", \"people attend\", \"people dont\", \"people dont\", \"people need\", \"people need\", \"people similar\", \"people title\", \"people use\", \"phds\", \"place\", \"place\", \"place\", \"place\", \"place\", \"position\", \"position\", \"position\", \"practical\", \"practical\", \"practical\", \"practical\", \"practical\", \"practical advice\", \"practical workshops\", \"practitioners\", \"practitioners\", \"practitioners\", \"practitioners\", \"practitioners\", \"presenter\", \"price\", \"price\", \"price\", \"price\", \"price\", \"priced\", \"product design\", \"professional\", \"professional\", \"professional\", \"professional\", \"programs\", \"programs\", \"provide\", \"provide\", \"provide\", \"provide\", \"provide\", \"provide\", \"provide\", \"purchase\", \"qual\", \"qual\", \"qual quant\", \"quality\", \"quality\", \"quality\", \"quality\", \"quant\", \"questions\", \"questions\", \"questions\", \"questions\", \"questions\", \"read\", \"read\", \"read\", \"read\", \"read\", \"read article\", \"read article\", \"real\", \"real\", \"real\", \"real\", \"real business\", \"real world\", \"really\", \"really\", \"really\", \"really\", \"really\", \"really\", \"really\", \"really like\", \"reasonably\", \"reasonably priced\", \"recently\", \"recently\", \"recently\", \"record\", \"record\", \"record sessions\", \"record sessions\", \"regional\", \"remote\", \"remote\", \"remote\", \"remote\", \"remote\", \"research\", \"research\", \"research\", \"research\", \"research\", \"research\", \"research\", \"research\", \"research conferences\", \"research conferences\", \"research design\", \"research design\", \"research just\", \"research like\", \"research practice\", \"research practice\", \"research team\", \"researchers\", \"researchers\", \"researchers\", \"researchers\", \"researchers\", \"researchers\", \"researchers\", \"researchers\", \"results\", \"results\", \"right\", \"right\", \"right\", \"right\", \"right\", \"right\", \"road\", \"room attendees\", \"scaling\", \"scaling\", \"schedule\", \"sell\", \"sell\", \"sell\", \"sell\", \"sells\", \"session\", \"session\", \"session\", \"session\", \"sessions\", \"sessions\", \"sessions\", \"sessions\", \"sessions\", \"sessions\", \"sessions\", \"sessions time\", \"sessions time\", \"sharing\", \"sharing\", \"significant\", \"site\", \"small\", \"small\", \"small\", \"small\", \"small\", \"small\", \"small\", \"small\", \"small intimate\", \"smaller\", \"smaller\", \"smaller\", \"smaller\", \"smaller\", \"snacks\", \"social events\", \"software\", \"sort\", \"sort\", \"sounds\", \"spaces\", \"spaces\", \"speakers\", \"speakers\", \"speakers\", \"speakers\", \"speakers\", \"speakers\", \"speakers\", \"start\", \"start\", \"start\", \"start\", \"start\", \"start\", \"strategies\", \"stream\", \"stream\", \"strive\", \"strive\", \"strive\", \"strive uxr\", \"structured\", \"structured\", \"students\", \"students\", \"studies\", \"studies\", \"studies\", \"studies\", \"studies\", \"studies\", \"stuff\", \"stuff\", \"stuff\", \"stuff\", \"stuff\", \"submissions\", \"support\", \"support\", \"support\", \"sure\", \"sure\", \"sure\", \"sure\", \"sure\", \"sure\", \"sure\", \"survey\", \"survey\", \"survey\", \"survey\", \"systems\", \"systems\", \"takeaway\", \"talk\", \"talk\", \"talk\", \"talk\", \"talk\", \"talk\", \"talks\", \"talks\", \"talks\", \"talks\", \"talks\", \"talks\", \"talks\", \"talks\", \"talks great\", \"teams\", \"teams\", \"teams\", \"tell\", \"theory\", \"theory\", \"theory\", \"theres\", \"things\", \"things\", \"things\", \"things\", \"things\", \"think\", \"think\", \"think\", \"think\", \"think\", \"think\", \"think\", \"think\", \"time\", \"time\", \"time\", \"time\", \"time\", \"time\", \"time\", \"time\", \"tiring\", \"title\", \"title\", \"ton\", \"topics\", \"topics\", \"topics\", \"topics\", \"topics\", \"topics\", \"topics\", \"total\", \"track conference\", \"tracks\", \"tracks\", \"tracks\", \"tracks\", \"traditional\", \"traditional\", \"traditional\", \"traditional\", \"trap\", \"trend\", \"truly\", \"try\", \"try\", \"try\", \"try\", \"try avoid\", \"trying\", \"trying\", \"types\", \"types\", \"types\", \"types research\", \"typical\", \"typical conference\", \"uk\", \"untapped\", \"use\", \"use\", \"use\", \"use\", \"use\", \"user\", \"user\", \"user\", \"user research\", \"ux\", \"ux\", \"ux\", \"ux\", \"ux\", \"ux research\", \"uxr\", \"uxr\", \"uxr\", \"uxr collective\", \"ve\", \"ve\", \"ve\", \"ve\", \"ve\", \"ve\", \"versus\", \"video\", \"video\", \"view\", \"view\", \"view\", \"volunteer\", \"volunteer\", \"volunteer\", \"walk\", \"walk away\", \"want\", \"want\", \"want\", \"want\", \"want\", \"want\", \"want\", \"want attend\", \"want attend\", \"want learn\", \"wants\", \"way\", \"way\", \"way\", \"way\", \"way\", \"way\", \"way\", \"way\", \"ways\", \"ways\", \"ways\", \"ways\", \"ways\", \"ways\", \"ways\", \"web\", \"weeds\", \"wide\", \"wide\", \"work\", \"work\", \"work\", \"work\", \"work\", \"work\", \"work\", \"workshops\", \"workshops\", \"workshops\", \"workshops\", \"workshops\", \"workshops\", \"workshops presentations\", \"world\", \"world\", \"world\", \"world\", \"world\", \"world needs\", \"world outside\", \"writing\", \"yes\", \"yes\", \"yes\"]}, \"R\": 30, \"lambda.step\": 0.01, \"plot.opts\": {\"xlab\": \"PC1\", \"ylab\": \"PC2\"}, \"topic.order\": [8, 6, 7, 4, 3, 2, 5, 1]};\n",
       "\n",
       "function LDAvis_load_lib(url, callback){\n",
       "  var s = document.createElement('script');\n",
       "  s.src = url;\n",
       "  s.async = true;\n",
       "  s.onreadystatechange = s.onload = callback;\n",
       "  s.onerror = function(){console.warn(\"failed to load library \" + url);};\n",
       "  document.getElementsByTagName(\"head\")[0].appendChild(s);\n",
       "}\n",
       "\n",
       "if(typeof(LDAvis) !== \"undefined\"){\n",
       "   // already loaded: just create the visualization\n",
       "   !function(LDAvis){\n",
       "       new LDAvis(\"#\" + \"ldavis_el2761750094351681966814528\", ldavis_el2761750094351681966814528_data);\n",
       "   }(LDAvis);\n",
       "}else if(typeof define === \"function\" && define.amd){\n",
       "   // require.js is available: use it to load d3/LDAvis\n",
       "   require.config({paths: {d3: \"https://cdnjs.cloudflare.com/ajax/libs/d3/3.5.5/d3.min\"}});\n",
       "   require([\"d3\"], function(d3){\n",
       "      window.d3 = d3;\n",
       "      LDAvis_load_lib(\"https://cdn.rawgit.com/bmabey/pyLDAvis/files/ldavis.v1.0.0.js\", function(){\n",
       "        new LDAvis(\"#\" + \"ldavis_el2761750094351681966814528\", ldavis_el2761750094351681966814528_data);\n",
       "      });\n",
       "    });\n",
       "}else{\n",
       "    // require.js not available: dynamically load d3 & LDAvis\n",
       "    LDAvis_load_lib(\"https://cdnjs.cloudflare.com/ajax/libs/d3/3.5.5/d3.min.js\", function(){\n",
       "         LDAvis_load_lib(\"https://cdn.rawgit.com/bmabey/pyLDAvis/files/ldavis.v1.0.0.js\", function(){\n",
       "                 new LDAvis(\"#\" + \"ldavis_el2761750094351681966814528\", ldavis_el2761750094351681966814528_data);\n",
       "            })\n",
       "         });\n",
       "}\n",
       "</script>"
      ],
      "text/plain": [
       "PreparedData(topic_coordinates=              x         y  topics  cluster       Freq\n",
       "topic                                                \n",
       "7      0.075875 -0.005570       1        1  18.590069\n",
       "5      0.061837  0.052963       2        1  17.491367\n",
       "6      0.058806  0.004421       3        1  15.921481\n",
       "3      0.003337 -0.031329       4        1  14.333301\n",
       "2     -0.007261 -0.016992       5        1  13.461363\n",
       "1      0.020556  0.025219       6        1   8.967949\n",
       "4     -0.077382 -0.129276       7        1   6.142941\n",
       "0     -0.135768  0.100564       8        1   5.091529, topic_info=     Category        Freq             Term       Total  loglift  logprob\n",
       "735   Default  118.000000             make  118.000000  30.0000  30.0000\n",
       "528   Default   22.000000             help   22.000000  29.0000  29.0000\n",
       "895   Default  130.000000           people  130.000000  28.0000  28.0000\n",
       "217   Default  115.000000       conference  115.000000  27.0000  27.0000\n",
       "77    Default   35.000000           attend   35.000000  26.0000  26.0000\n",
       "497   Default   29.000000            great   29.000000  25.0000  25.0000\n",
       "348   Default   73.000000              don   73.000000  24.0000  24.0000\n",
       "736   Default    9.000000  make accessible    9.000000  23.0000  23.0000\n",
       "1327  Default   28.000000               ux   28.000000  22.0000  22.0000\n",
       "12    Default   17.000000       accessible   17.000000  21.0000  21.0000\n",
       "35    Default   10.000000       affordable   10.000000  20.0000  20.0000\n",
       "769   Default   14.000000            maybe   14.000000  19.0000  19.0000\n",
       "947   Default   17.000000        practical   17.000000  18.0000  18.0000\n",
       "400   Default   23.000000           events   23.000000  17.0000  17.0000\n",
       "489   Default   40.000000             good   40.000000  16.0000  16.0000\n",
       "1397  Default   17.000000            world   17.000000  15.0000  15.0000\n",
       "193   Default   11.000000             come   11.000000  14.0000  14.0000\n",
       "396   Default   10.000000           europe   10.000000  13.0000  13.0000\n",
       "1116  Default   22.000000         sessions   22.000000  12.0000  12.0000\n",
       "1193  Default   10.000000            stuff   10.000000  11.0000  11.0000\n",
       "834   Default    5.000000            north    5.000000  10.0000  10.0000\n",
       "1329  Default   10.000000      ux research   10.000000   9.0000   9.0000\n",
       "844   Default    6.000000         offering    6.000000   8.0000   8.0000\n",
       "1224  Default   27.000000             talk   27.000000   7.0000   7.0000\n",
       "230   Default   65.000000      conferences   65.000000   6.0000   6.0000\n",
       "1146  Default   12.000000          smaller   12.000000   5.0000   5.0000\n",
       "1362  Default   28.000000             want   28.000000   4.0000   4.0000\n",
       "1067  Default   49.000000      researchers   49.000000   3.0000   3.0000\n",
       "458   Default   15.000000             food   15.000000   2.0000   2.0000\n",
       "710   Default   12.000000             look   12.000000   1.0000   1.0000\n",
       "...       ...         ...              ...         ...      ...      ...\n",
       "1155   Topic8    0.808128           spaces    2.353252   1.9088  -6.2079\n",
       "15     Topic8    0.808122              act    2.353253   1.9088  -6.2079\n",
       "181    Topic8    0.808121  city conference    2.353253   1.9088  -6.2079\n",
       "193    Topic8    3.681866             come   11.203241   1.8648  -4.6915\n",
       "528    Topic8    6.923221             help   22.873666   1.7825  -4.0600\n",
       "1102   Topic8    1.526172             sell    4.811921   1.8293  -5.5721\n",
       "1185   Topic8    1.526606           strive    4.856192   1.8204  -5.5718\n",
       "1248   Topic8    1.526676           theory    4.866986   1.8182  -5.5718\n",
       "769    Topic8    3.927078            maybe   14.851469   1.6474  -4.6270\n",
       "497    Topic8    6.902519            great   29.733630   1.5172  -4.0630\n",
       "64     Topic8    2.245028             area    8.116479   1.6924  -5.1862\n",
       "396    Topic8    2.629422           europe   10.206414   1.6213  -5.0281\n",
       "710    Topic8    2.963444             look   12.981362   1.5004  -4.9085\n",
       "895    Topic8   12.152369           people  130.841813   0.6011  -3.4973\n",
       "217    Topic8    7.394101       conference  115.865740   0.2258  -3.9942\n",
       "735    Topic8    6.435793             make  118.802465   0.0620  -4.1330\n",
       "873    Topic8    2.440077          outside   12.384572   1.3532  -5.1028\n",
       "1370   Topic8    2.997495              way   24.254264   0.8868  -4.8971\n",
       "1067   Topic8    3.681803      researchers   49.094740   0.3872  -4.6915\n",
       "363    Topic8    2.867503             dont   24.277294   0.8415  -4.9414\n",
       "716    Topic8    2.963574              lot   27.688793   0.7430  -4.9085\n",
       "1174   Topic8    2.184749            start    9.857226   1.4709  -5.2134\n",
       "458    Topic8    2.245028             food   15.655955   1.0355  -5.1862\n",
       "658    Topic8    2.126079            learn   31.972645   0.2670  -5.2406\n",
       "1036   Topic8    1.815246           remote    9.120474   1.3633  -5.3987\n",
       "792    Topic8    1.656234              mix   14.106156   0.8355  -5.4903\n",
       "819    Topic8    1.612951              new   31.433013   0.0078  -5.5168\n",
       "400    Topic8    1.604044           events   23.943614   0.2744  -5.5223\n",
       "397    Topic8    1.567690            event   28.735591   0.0691  -5.5453\n",
       "1263   Topic8    1.568535             time   33.057417  -0.0705  -5.5447\n",
       "\n",
       "[573 rows x 6 columns], token_table=      Topic      Freq                     Term\n",
       "term                                          \n",
       "2         6  0.819384                      500\n",
       "3         3  0.777455                      aaa\n",
       "4         3  0.777455           aaa conference\n",
       "9         1  0.076483                 academic\n",
       "9         2  0.458897                 academic\n",
       "9         3  0.305931                 academic\n",
       "9         4  0.152966                 academic\n",
       "12        1  0.058767               accessible\n",
       "12        2  0.117533               accessible\n",
       "12        3  0.058767               accessible\n",
       "12        4  0.235067               accessible\n",
       "12        6  0.117533               accessible\n",
       "12        7  0.352600               accessible\n",
       "12        8  0.058767               accessible\n",
       "15        6  0.424944                      act\n",
       "15        8  0.424944                      act\n",
       "17        1  0.714335               actionable\n",
       "17        3  0.142867               actionable\n",
       "17        4  0.142867               actionable\n",
       "28        2  0.691594                  address\n",
       "28        3  0.230531                  address\n",
       "31        2  0.199057                 advanced\n",
       "31        5  0.597172                 advanced\n",
       "31        7  0.199057                 advanced\n",
       "32        1  0.248019                   advice\n",
       "32        2  0.082673                   advice\n",
       "32        3  0.330692                   advice\n",
       "32        4  0.165346                   advice\n",
       "32        6  0.082673                   advice\n",
       "35        3  0.097503               affordable\n",
       "...     ...       ...                      ...\n",
       "1374      7  0.058973                     ways\n",
       "1376      3  0.777455                      web\n",
       "1379      4  0.783879                    weeds\n",
       "1383      1  0.309944                     wide\n",
       "1383      7  0.619888                     wide\n",
       "1389      1  0.283648                     work\n",
       "1389      2  0.126066                     work\n",
       "1389      3  0.220615                     work\n",
       "1389      4  0.126066                     work\n",
       "1389      5  0.094549                     work\n",
       "1389      6  0.094549                     work\n",
       "1389      7  0.063033                     work\n",
       "1394      1  0.177484                workshops\n",
       "1394      2  0.207064                workshops\n",
       "1394      3  0.088742                workshops\n",
       "1394      4  0.295806                workshops\n",
       "1394      5  0.177484                workshops\n",
       "1394      6  0.029581                workshops\n",
       "1396      2  0.773092  workshops presentations\n",
       "1397      2  0.055785                    world\n",
       "1397      3  0.669416                    world\n",
       "1397      4  0.111569                    world\n",
       "1397      5  0.055785                    world\n",
       "1397      8  0.111569                    world\n",
       "1398      3  0.871014              world needs\n",
       "1399      8  0.882751            world outside\n",
       "1402      3  0.777455                  writing\n",
       "1407      1  0.249103                      yes\n",
       "1407      4  0.249103                      yes\n",
       "1407      8  0.498206                      yes\n",
       "\n",
       "[1152 rows x 3 columns], R=30, lambda_step=0.01, plot_opts={'xlab': 'PC1', 'ylab': 'PC2'}, topic_order=[8, 6, 7, 4, 3, 2, 5, 1])"
      ]
     },
     "execution_count": 409,
     "metadata": {},
     "output_type": "execute_result"
    }
   ],
   "source": [
    "pyLDAvis.sklearn.prepare(lda23, recommendations_matrix, recommendations_vector)"
   ]
  },
  {
   "cell_type": "markdown",
   "metadata": {},
   "source": [
    "#### Topic groups (4)\n",
    "1. pratical\n",
    "2. affordable\n",
    "3. expensive\n",
    "4. levels\n",
    "\n",
    "#### Topic groups (6) - some overlap between 2, 3, & 4; 5 is mostly overlapped with 2 & 4\n",
    "1. ux\n",
    "2. interesting\n",
    "3. content\n",
    "4. food\n",
    "5. learning\n",
    "6. affordalbe\n",
    "\n",
    "#### Topic groups (8) - significant overlap amoung 6 of the 8 groups\n",
    "1. events\n",
    "2. ux\n",
    "3. world\n",
    "4. new\n",
    "5. food\n",
    "6. diverse\n",
    "7. make accessible\n",
    "8. north america"
   ]
  },
  {
   "cell_type": "code",
   "execution_count": 410,
   "metadata": {},
   "outputs": [],
   "source": [
    "lda_W23 = lda23.transform(recommendations_matrix)"
   ]
  },
  {
   "cell_type": "code",
   "execution_count": 411,
   "metadata": {},
   "outputs": [],
   "source": [
    "top_doc_column23 = datadf.recommendations.dropna()"
   ]
  },
  {
   "cell_type": "code",
   "execution_count": 412,
   "metadata": {},
   "outputs": [],
   "source": [
    "word_count_matrix23, count_vect23 = nlp.create_wordcount_matrix(datadf.recommendations.dropna(), max_df=0.8, min_df=2, ngram=(1,3))"
   ]
  },
  {
   "cell_type": "code",
   "execution_count": 413,
   "metadata": {},
   "outputs": [
    {
     "data": {
      "text/plain": [
       "LatentDirichletAllocation(batch_size=128, doc_topic_prior=None,\n",
       "                          evaluate_every=-1, learning_decay=0.7,\n",
       "                          learning_method='batch', learning_offset=10.0,\n",
       "                          max_doc_update_iter=100, max_iter=10,\n",
       "                          mean_change_tol=0.001, n_components=5, n_jobs=None,\n",
       "                          perp_tol=0.1, random_state=42, topic_word_prior=None,\n",
       "                          total_samples=1000000.0, verbose=0)"
      ]
     },
     "execution_count": 413,
     "metadata": {},
     "output_type": "execute_result"
    }
   ],
   "source": [
    "LDA23a = LatentDirichletAllocation(n_components=5, random_state=42)\n",
    "LDA23a.fit(word_count_matrix23)"
   ]
  },
  {
   "cell_type": "code",
   "execution_count": 414,
   "metadata": {},
   "outputs": [
    {
     "data": {
      "text/plain": [
       "LatentDirichletAllocation(batch_size=128, doc_topic_prior=None,\n",
       "                          evaluate_every=-1, learning_decay=0.7,\n",
       "                          learning_method='batch', learning_offset=10.0,\n",
       "                          max_doc_update_iter=100, max_iter=10,\n",
       "                          mean_change_tol=0.001, n_components=8, n_jobs=None,\n",
       "                          perp_tol=0.1, random_state=42, topic_word_prior=None,\n",
       "                          total_samples=1000000.0, verbose=0)"
      ]
     },
     "execution_count": 414,
     "metadata": {},
     "output_type": "execute_result"
    }
   ],
   "source": [
    "lda23.fit(recommendations_matrix)"
   ]
  },
  {
   "cell_type": "code",
   "execution_count": 415,
   "metadata": {},
   "outputs": [],
   "source": [
    "lda_H = LDA23a.transform(word_count_matrix23)"
   ]
  },
  {
   "cell_type": "code",
   "execution_count": 416,
   "metadata": {},
   "outputs": [
    {
     "name": "stdout",
     "output_type": "stream",
     "text": [
      "Top 3 Documents for Topic 0: \n",
      "\n",
      "Document 1\n",
      "the deeper you go into the subject matter the better a lot of research literature is either design adjacent or academic focusing on a research practitioner daytoday someone that is in a software company or an agency or a startup would be super helpful anything that help me grow my skill and competency to ultimately be a better researcher\n",
      "\n",
      "Document 2\n",
      "put together a draft conference agenda go out to the community and research what option people desire the most use the insight to inform a single track conference which you can take around the world to multiple location so it accessible on a global scale keep it small and intimate make it feel like a community event repeat each year\n",
      "\n",
      "Document 3\n",
      "ha ha ha i wonder how this would be similar to or different from epic i like the idea of a small intimate conference that focus on interactive session and workshop rather than paper there is a place for that too but i feel there are enough of those i'd love a space where i can take my own challenge on my team and in term of my experience and work on those so i have a game plan when i get back to my officeie maybe some coaching in how to define challenge and possible approach with some solid material on tech trend in digital product i also see a space for retraining academic for this fieldi get asked about this a lot and have written about it on my website httpwwwrachelflemingnetfaqs and will be writing more a this is a critical need right now i want to get involved more in helping academic find new employment option i'm not sure where you're based but having the conference be within the u would probably help with getting my company to pay for it advertising well in advance is also helpful because i have to decide about the conference i'm attending several month before a for venue i prefer retreat setting to a hotel or conference center to set the tone of it being a transformational experience\n",
      "\n",
      "Top 3 Documents for Topic 1: \n",
      "\n",
      "Document 1\n",
      "make sure to consider the need of attendee at all stage of their career past conference i have attended have sometimes felt more appropriate for one audience v another eg early career qual researcher v veteran and this can result in a conference that is not a valuable a it should be to a large segment of attendee also consider offering speakingpresentation slot of 90 minute in addition to shorter 5060 minute session the qrca annual conference used to include both but ha recently eliminated the 90 minute slot for some topic and speaker 60 min is adequate but in some case a session would be much better in a longer format especially if it enables greater qaaudience interaction\n",
      "\n",
      "Document 2\n",
      "i tend to gravitate towards conference that offer a mix of engagement talk workshop etc i attended the qualtrics experience summit a couple of year ago and i would describe it a unexpected there were plenty of talk to attend but the keynote speaker really caught my attention lin manuel miranda tony hawk alex honnold etc these folk aren't industry leader but they were able to talk about subject that were analogous to the topic of experience people are at the very core of what i do while i do like to hear talk from leader in the research industry i also want to be inspired by others who are notpeople who have great story of human connection that have nothing to do with research while still being inspiring to researcher anthony bourdain come to mind\n",
      "\n",
      "Document 3\n",
      "tough to say i would probably want to get involved with a conference that took on some of the massive delusion in the industry today such a overreliance on tech the digital delusion a cleareyed discussion of the state of online research the big data crock etc the second largest gorilla in the room is the complete lack of training in our industry how many people just decided one day to be an ethnographer where's the training for how to become more empathetic how many have really taken a course on storytelling but the biggest gorilla is the industry's refusal to come to grip with insight to define it understand how only human have insight that you can't gather insight how people can become more insightful to admit that 999 of what the insight industry sell it client is just more data sometimes useful knowledge to admit that developing real insight is incredibly hard work that take a long time and lot of money and to realize that since we have commodified data collection the only place to go is to true insight anyway i've blogged about a lot of this stuff here wwwtheinsightsguycom best of luck\n",
      "\n",
      "Top 3 Documents for Topic 2: \n",
      "\n",
      "Document 1\n",
      "please do it1111 also advice talk that are vaguehigh level are scientifically engineered to make me upset i am pretty engaged in the researchdesign community conference panel workshop in a bunch of slack community way too plugged in to design twitter so when i go to conference i really want to be able to take deep dive and continue indepth conversation that i've been having online at the conference i think rm doe this exceptionally well and if you created a research specific conference i would give you all my money\n",
      "\n",
      "Document 2\n",
      "this go in the face of all of my previous answer because i don't really like workshop but i think opportunity to apply what's being presented are really impactful if there are creative way to build activity into the day that would be fun i went to the innovation learning network inperson event a few year ago and they organized surprise field trip to local organization who were doing innovation work that wa a cool nonworkshop way to bring the conference topic to life\n",
      "\n",
      "Document 3\n",
      "make it inclusive and accessible find way to make everyone comfortable establish a code of conduct and don't sway from it make it safe light snack andor refreshment are nice freely available water if it's long find some compelling bigtime speaker but stack them a keynoteplenary so they don't crowd out the more niche player market the smaller name with specific interesting information one of the best conference i went to offered some really helpful takeaway such a a free professional head shot oh and have plenty of clean accessible bathroom facility at various spot\n",
      "\n",
      "Top 3 Documents for Topic 3: \n",
      "\n",
      "Document 1\n",
      "i'd love to be involved in that a i'm pretty passionate about supporting and growing researcher i see a huge number of earlycareer folk who are struggling to get work in ux research role and we need to get them realworld experience not just the general assembly course or an academic degree the world will benefit greatly from having more skilled researcher in it but the current path we have for gaining experience are fairly limited we need to grow more senior researcher and research strategist we need to grow business acumen and help people gain strategy for dealing with organization that don't embrace research or apply the result i would love to have a conspiracy session to envision and map out how research can move from a supportive role to one that drive the direction that company invest in how might we change the powerstructure over time what type of event people action need to be embraced to get u there a a field i'd love to lead that conversation\n",
      "\n",
      "Document 2\n",
      "first please do it it is needed uxr collective's success demonstrates that there is significant untapped demand 2 speaking of which reach out to the uxr collective and learn from them they've done a fantastic job of fostering community while scaling dramatically andwhile i can't speak to the attendee experience in isolationmy experience a a speaker wa wonderful 3 please stress accessibility by paying speaker and offering heavily discounted tix for member of marginalized group and discounted tix for freelancer 4 a mentioned previously please focus or provide a topic track for advanced topic i'm getting tired of attending networking conference with superficial session that's more true of the emerging tech conference i attend than the uxr conference i've attended but still i'm sure i could come up with some more but i've spent a lot of time on this and have to get to a meeting also i suspect i'm an outlier but i'd be happy to help if you have additional questionscontact info below\n",
      "\n",
      "Document 3\n",
      "have a lot of them rather than one small exclusive one go do it where the interested attendee are offer daylong or multiday workshop for the people who need to learn method look into whether you could offer continuing education credit for people who need that ask attendee during registration to chip in to the scholarship fund for people who can't pay to go get some sponsorship for that no plastic water bottle and a few a possible disposable no junk swag no rmlogo tshirts recycle lanyard and badgeholders no photo without permission people can put what they want on their badge but focus on first name get someone to make a more usable attendify and use that start a mattermost for attendee to talk and network in across all your conference publish video of all the talk for free so you can help people not have to travel and so you can multiply the educational effectiveness over time and distance breakfast worth waking up for easy way to hang out with each other in the evening such a dinner party lottery bofs geeky fun session that start no earlier than 10 and quit no later than 6 long lunch break if people have to find it outside and do it during rushlunch coffee worth drinking an observational outing to a fascinating nearby place gee i better quit here before i end up on a committee or something\n",
      "\n",
      "Top 3 Documents for Topic 4: \n",
      "\n",
      "Document 1\n",
      "reminder that not all ux research project begin with an app or digital experience in mind much of the solution to today problem require behavior change that wont be cured with a shiny toy analog method are still very much relevant play is still very much a part of discovery other than that pick a location that is convenient and not to expensive and that is near reasonably priced dining and accommodation and transportation hub find way to welcome all type of people like activity that accommodate both introvert and extrovert healthy food option that address various diet time during break and comfortable hallway to network in if possible offer a one day or two day pas\n",
      "\n",
      "Document 2\n",
      "consider that the audience may be in different maturity level of the research practice at least for some session so you may have different track based on that to cover a wider range of people at a certain level of maturity coworking session can be more enlighting than workshop so it may be interesting to build some knowledge from the conference especially because product design research is a discipline that we are currently nailing and adapting to our need and there are lot of topic that we should build together a a community it is tricky in logistic term but very catchy a well to have different way to assist to the conference so you can afford a broader audience ie people that cannot attend due to the length of the event or it total price when it mean travelling abroad to expensive city such a sf or nyc\n",
      "\n",
      "Document 3\n",
      "don't be afraid to mimic conference that are doing thing right for instance an event apart limit their attendee to a manageable size and highly curate their speaker front utah did a great job with the welcoming committee and allowing for longer break between session 4 30minute talk and then a 30 minute break they also did a great job of getting folk out into the surrounding city where they host every swag bag had a 20 bill and a map of local restaurant win walking distance attendee were encouraged to group up and go find lunch lot of conference use slack for preconference introduction a channel for each speaker they handle qa through the slack channel which allows attendee to vote for their question if they've already been asked it's an interesting use of a communication platform like that\n",
      "\n"
     ]
    }
   ],
   "source": [
    "nlp.find_top_documents_per_topic(lda_H, top_doc_column23, 3)"
   ]
  },
  {
   "cell_type": "code",
   "execution_count": null,
   "metadata": {},
   "outputs": [],
   "source": []
  },
  {
   "cell_type": "code",
   "execution_count": null,
   "metadata": {},
   "outputs": [],
   "source": []
  },
  {
   "cell_type": "code",
   "execution_count": null,
   "metadata": {},
   "outputs": [],
   "source": []
  },
  {
   "cell_type": "code",
   "execution_count": null,
   "metadata": {},
   "outputs": [],
   "source": []
  }
 ],
 "metadata": {
  "kernelspec": {
   "display_name": "Python 3",
   "language": "python",
   "name": "python3"
  },
  "language_info": {
   "codemirror_mode": {
    "name": "ipython",
    "version": 3
   },
   "file_extension": ".py",
   "mimetype": "text/x-python",
   "name": "python",
   "nbconvert_exporter": "python",
   "pygments_lexer": "ipython3",
   "version": "3.7.3"
  }
 },
 "nbformat": 4,
 "nbformat_minor": 2
}

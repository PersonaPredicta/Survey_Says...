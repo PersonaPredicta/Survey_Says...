{
 "cells": [
  {
   "cell_type": "markdown",
   "metadata": {},
   "source": [
    "# Dom's Notebook"
   ]
  },
  {
   "cell_type": "markdown",
   "metadata": {},
   "source": [
    "hypothesis:\n",
    "\n",
    "(01/09/20)\n",
    "- Taxo ID [7,8] fall into Exec and consult\n",
    "- taxo ID [3,4,5,9] fall into specialists\n",
    "- Taxo ID [1,2,6] are further divided by experience level"
   ]
  },
  {
   "cell_type": "code",
   "execution_count": 65,
   "metadata": {},
   "outputs": [],
   "source": [
    "import pandas as pd\n",
    "import numpy as np"
   ]
  },
  {
   "cell_type": "code",
   "execution_count": 66,
   "metadata": {},
   "outputs": [],
   "source": [
    "data = pd.read_excel('../resources/researching_researchers_data_1_4_20.xlsx')"
   ]
  },
  {
   "cell_type": "code",
   "execution_count": 67,
   "metadata": {},
   "outputs": [
    {
     "data": {
      "text/plain": [
       "['Entry Id',\n",
       " 'Title',\n",
       " 'Job Taxo ID',\n",
       " 'Job ID',\n",
       " 'Conducting Research',\n",
       " 'Analyzing Research',\n",
       " 'Buying Research Reports',\n",
       " 'Managing Research Projects',\n",
       " 'Observing Research',\n",
       " 'Planning Research',\n",
       " 'Teaching Research',\n",
       " 'Advocating for Research',\n",
       " 'Hiring Research Vendors',\n",
       " 'Leading a Research Team or Organization',\n",
       " 'How many people does your company or organization employ?',\n",
       " 'How many people in your company or organization have research as part of their role?',\n",
       " 'Conducting Research.1',\n",
       " 'Analyzing Research.1',\n",
       " 'Buying Research Reports.1',\n",
       " 'Managing Research Projects.1',\n",
       " 'Observing Research.1',\n",
       " 'Planning Research.1',\n",
       " 'Teaching Research.1',\n",
       " 'Advocating for Research.1',\n",
       " 'Hiring Research Vendors.1',\n",
       " 'Leading a Research Team or Organization.1',\n",
       " 'Watch videos of talks',\n",
       " 'Read blogs and/or books',\n",
       " 'Attend a local meetup or talk',\n",
       " 'Attend a longer form workshop',\n",
       " 'Attend a conference',\n",
       " 'Watch a video of a talk',\n",
       " 'Read a blog post or Medium article',\n",
       " 'Read a book',\n",
       " 'Ask in a LinkedIn group, Slack channel, or mailing list',\n",
       " 'Ask a colleague or manager or mentor',\n",
       " 'Attend a local meetup or talk.1',\n",
       " 'Attend a conference.1',\n",
       " 'Attend a longer form workshop.1',\n",
       " \"Speakers you've heard of\",\n",
       " \"Diversity of speakers' backgrounds and perspectives\",\n",
       " 'Topics covered',\n",
       " 'Format of sessions',\n",
       " 'Networking opportunities',\n",
       " 'Variety of attendees to network with',\n",
       " 'Code of conduct in place',\n",
       " 'Conference location',\n",
       " \"Your (or your employer's) ability to pay\",\n",
       " 'Number of attendees/degree of intimacy',\n",
       " 'Keynotes from leaders in research',\n",
       " 'Full length talks (30-60 minutes)',\n",
       " 'Short or Lightning talks (< 30 minutes)',\n",
       " 'Workshops',\n",
       " 'Networking events',\n",
       " 'Social events (e.g., parties, karaoke, game night)',\n",
       " 'Q&A/AMA (ask me anything) sessions',\n",
       " 'Discussion circles/topic tables',\n",
       " \"Did we miss any other types of conference sessions that you'd like to mention?\",\n",
       " \"What is your company or organization's primary industry (e.g., fintech, healthcare)?\",\n",
       " 'What types of research do you (or your  team) currently use to make decisions?',\n",
       " 'What types of research are you (or your  team) considering using in the future?',\n",
       " 'Describe your educational background with research (e.g., you took classes, participated in running studies, majored in a research-related area).',\n",
       " 'How do you decide which events to attend? (If travel is a consideration, how so?)',\n",
       " \"What was the best professional learning event experience you've ever had? What made it great?\",\n",
       " 'What (if any) events have you attended on the subject of research in the past few years?',\n",
       " 'What would be the ideal audience size for a conference about research that *you* would want to attend?',\n",
       " 'Ideal Audience Size (Standardized)',\n",
       " 'What would be the ideal structure for a conference about research that *you* would want to attend?',\n",
       " 'If attending a conference about research, what subjects would *you* most want to see covered?',\n",
       " 'If attending a conference about research, who might you be excited to see there (e.g., types of people, specific individuals, organizations)?',\n",
       " 'Let’s say (hypothetically of course) that Rosenfeld Media was exploring the idea of a conference about research. What advice would you give us?',\n",
       " 'Did any part of your education include learning about how to conduct research?',\n",
       " 'What is your current job title?']"
      ]
     },
     "execution_count": 67,
     "metadata": {},
     "output_type": "execute_result"
    }
   ],
   "source": [
    "data = data[~data['What would be the ideal audience size for a conference about research that *you* would want to attend?'].isna()]\n",
    "data.columns.to_list()"
   ]
  },
  {
   "cell_type": "code",
   "execution_count": 68,
   "metadata": {},
   "outputs": [
    {
     "data": {
      "text/plain": [
       "Job Taxo ID  Title                  \n",
       "1            Principal UX Researcher     38\n",
       "             Senior UX Researcher        85\n",
       "             UX Researcher              170\n",
       "2            Principal UX Designer       22\n",
       "             Senior UX Designer          21\n",
       "             UX Designer                 68\n",
       "3            Analyst                      5\n",
       "             Anthropologist               3\n",
       "             Behavioral economist         1\n",
       "             Ethnographer                 1\n",
       "             Market Researcher            3\n",
       "             Research Scientist           1\n",
       "             Researcher                   9\n",
       "4            Academic                    20\n",
       "             Student                      3\n",
       "5            Content Strategist           4\n",
       "             Engineer                    13\n",
       "             Information Architect       10\n",
       "             Product Manager              7\n",
       "             Service Designer            10\n",
       "             Strategist                  21\n",
       "6            Design Manager              55\n",
       "             Research Manager            59\n",
       "7            Consultant                  51\n",
       "8            Executive                   45\n",
       "9            Author                       1\n",
       "             Intern                       5\n",
       "             Operations                   5\n",
       "             Writer                       1\n",
       "Name: Title, dtype: int64"
      ]
     },
     "execution_count": 68,
     "metadata": {},
     "output_type": "execute_result"
    }
   ],
   "source": [
    "data.groupby(['Job Taxo ID', 'Title']).Title.count()"
   ]
  },
  {
   "cell_type": "code",
   "execution_count": 60,
   "metadata": {},
   "outputs": [
    {
     "data": {
      "text/plain": [
       "0      5\n",
       "1      5\n",
       "2      4\n",
       "3      1\n",
       "4      4\n",
       "      ..\n",
       "831    1\n",
       "832    2\n",
       "833    5\n",
       "834    3\n",
       "867    3\n",
       "Length: 737, dtype: int64"
      ]
     },
     "execution_count": 60,
     "metadata": {},
     "output_type": "execute_result"
    }
   ],
   "source": [
    "research_columns =  ['Conducting Research.1',\n",
    "                     'Analyzing Research.1',\n",
    "                     'Buying Research Reports.1',\n",
    "                     'Managing Research Projects.1',\n",
    "                     'Observing Research.1',\n",
    "                     'Planning Research.1',\n",
    "                     'Teaching Research.1',\n",
    "                     'Advocating for Research.1',\n",
    "                     'Hiring Research Vendors.1',\n",
    "                     'Leading a Research Team or Organization.1']\n",
    "def encode_years(x):\n",
    "    if '0-1' in str(x):\n",
    "        return 0\n",
    "    elif '1-3' in str(x):\n",
    "        return 1\n",
    "    elif '3-5' in str(x):\n",
    "        return 2\n",
    "    elif '5-7' in str(x):\n",
    "        return 3\n",
    "    elif '7-10' in str(x):\n",
    "        return 4\n",
    "    elif '10+' in str(x):\n",
    "        return 5\n",
    "    else: \n",
    "        return x\n",
    "\n",
    "encoded_research_columns = pd.DataFrame()\n",
    "for i in research_columns:\n",
    "    col = data[i].apply(encode_years)\n",
    "    encoded_research_columns['encoded ' + i] = col\n",
    "max_research = encoded_research_columns.apply(max, axis = 1)\n",
    "max_research"
   ]
  },
  {
   "cell_type": "code",
   "execution_count": 61,
   "metadata": {},
   "outputs": [],
   "source": [
    "exec_and_consult_ids = [7,8]\n",
    "specialist_ids = [3,4,5,9]\n",
    "other_ids = [1,2,6]"
   ]
  },
  {
   "cell_type": "code",
   "execution_count": 63,
   "metadata": {},
   "outputs": [
    {
     "data": {
      "text/plain": [
       "3    270\n",
       "4    178\n",
       "2    123\n",
       "1     96\n",
       "5     70\n",
       "dtype: int64"
      ]
     },
     "execution_count": 63,
     "metadata": {},
     "output_type": "execute_result"
    }
   ],
   "source": [
    "id_col = 'Job Taxo ID'\n",
    "experiece_col = 'max_research'\n",
    "\n",
    "def label_data(x):\n",
    "    if x[id_col] in exec_and_consult_ids:\n",
    "        return 1\n",
    "    if x[id_col] in specialist_ids:\n",
    "        return 2\n",
    "    if x[id_col] in other_ids:\n",
    "        if x[experiece_col] in [4,5]:\n",
    "            return 3\n",
    "        if x[experiece_col] in [2,3]:\n",
    "            return 4\n",
    "        if x[experiece_col] in [0,1]:\n",
    "            return 5\n",
    "    return np.nan\n",
    "        \n",
    "        \n",
    "data.join(pd.DataFrame(max_research, columns = ['max_research'])).apply(label_data, axis = 1).value_counts()"
   ]
  },
  {
   "cell_type": "code",
   "execution_count": 70,
   "metadata": {},
   "outputs": [],
   "source": [
    "import sys\n",
    "sys.path.append('../')\n",
    "import wrangle"
   ]
  },
  {
   "cell_type": "code",
   "execution_count": 75,
   "metadata": {},
   "outputs": [
    {
     "data": {
      "text/plain": [
       "0      2\n",
       "1      2\n",
       "2      2\n",
       "3      2\n",
       "4      2\n",
       "      ..\n",
       "831    5\n",
       "832    4\n",
       "833    3\n",
       "834    4\n",
       "867    2\n",
       "Length: 737, dtype: int64"
      ]
     },
     "execution_count": 75,
     "metadata": {},
     "output_type": "execute_result"
    }
   ],
   "source": [
    "max_research = wrangle.get_max_research_years(data)\n",
    "data.join(pd.DataFrame(max_research, columns = ['max_experience'])).apply(wrangle.get_labels, axis = 1)"
   ]
  },
  {
   "cell_type": "code",
   "execution_count": null,
   "metadata": {},
   "outputs": [],
   "source": [
    "\n"
   ]
  },
  {
   "cell_type": "code",
   "execution_count": null,
   "metadata": {},
   "outputs": [],
   "source": []
  },
  {
   "cell_type": "code",
   "execution_count": null,
   "metadata": {},
   "outputs": [],
   "source": []
  },
  {
   "cell_type": "code",
   "execution_count": null,
   "metadata": {},
   "outputs": [],
   "source": []
  },
  {
   "cell_type": "code",
   "execution_count": null,
   "metadata": {},
   "outputs": [],
   "source": []
  },
  {
   "cell_type": "code",
   "execution_count": null,
   "metadata": {},
   "outputs": [],
   "source": []
  },
  {
   "cell_type": "code",
   "execution_count": null,
   "metadata": {},
   "outputs": [],
   "source": []
  }
 ],
 "metadata": {
  "kernelspec": {
   "display_name": "Python 3",
   "language": "python",
   "name": "python3"
  },
  "language_info": {
   "codemirror_mode": {
    "name": "ipython",
    "version": 3
   },
   "file_extension": ".py",
   "mimetype": "text/x-python",
   "name": "python",
   "nbconvert_exporter": "python",
   "pygments_lexer": "ipython3",
   "version": "3.7.4"
  }
 },
 "nbformat": 4,
 "nbformat_minor": 2
}

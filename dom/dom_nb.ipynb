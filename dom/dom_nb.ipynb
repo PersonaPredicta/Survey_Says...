{
 "cells": [
  {
   "cell_type": "markdown",
   "metadata": {},
   "source": [
    "# Dom's Notebook"
   ]
  },
  {
   "cell_type": "markdown",
   "metadata": {},
   "source": [
    "hypothesis:\n",
    "\n",
    "(01/09/20)\n",
    "- Taxo ID [7,8] fall into Exec and consult\n",
    "- taxo ID [3,4,5,9] fall into specialists\n",
    "- Taxo ID [1,2,6] are further divided by experience level\n",
    "        - we weren't satisfied on the results of this grouping"
   ]
  },
  {
   "cell_type": "code",
   "execution_count": 101,
   "metadata": {},
   "outputs": [],
   "source": [
    "import pandas as pd\n",
    "import numpy as np\n",
    "import matplotlib.pyplot as plt\n",
    "import seaborn as sns\n",
    "import sys\n",
    "sys.path.append('../')\n",
    "import wrangle\n",
    "from sklearn.linear_model import LinearRegression\n",
    "from sklearn.preprocessing import minmax_scale, OneHotEncoder\n",
    "from sklearn.model_selection import train_test_split\n",
    "from scipy.stats import ttest_ind\n"
   ]
  },
  {
   "cell_type": "code",
   "execution_count": 2,
   "metadata": {},
   "outputs": [
    {
     "data": {
      "text/html": [
       "<div>\n",
       "<style scoped>\n",
       "    .dataframe tbody tr th:only-of-type {\n",
       "        vertical-align: middle;\n",
       "    }\n",
       "\n",
       "    .dataframe tbody tr th {\n",
       "        vertical-align: top;\n",
       "    }\n",
       "\n",
       "    .dataframe thead th {\n",
       "        text-align: right;\n",
       "    }\n",
       "</style>\n",
       "<table border=\"1\" class=\"dataframe\">\n",
       "  <thead>\n",
       "    <tr style=\"text-align: right;\">\n",
       "      <th></th>\n",
       "      <th>q00</th>\n",
       "      <th>q01a</th>\n",
       "      <th>q01b</th>\n",
       "      <th>q01c</th>\n",
       "      <th>q02a</th>\n",
       "      <th>q02b</th>\n",
       "      <th>q02c</th>\n",
       "      <th>q02d</th>\n",
       "      <th>q02e</th>\n",
       "      <th>q02f</th>\n",
       "      <th>...</th>\n",
       "      <th>q14</th>\n",
       "      <th>q15</th>\n",
       "      <th>q16</th>\n",
       "      <th>q17a</th>\n",
       "      <th>q17b</th>\n",
       "      <th>q18a</th>\n",
       "      <th>q21</th>\n",
       "      <th>q22</th>\n",
       "      <th>q23</th>\n",
       "      <th>q09a</th>\n",
       "    </tr>\n",
       "  </thead>\n",
       "  <tbody>\n",
       "    <tr>\n",
       "      <td>0</td>\n",
       "      <td>284</td>\n",
       "      <td>Academic</td>\n",
       "      <td>4</td>\n",
       "      <td>1.0</td>\n",
       "      <td>Often</td>\n",
       "      <td>Neutral</td>\n",
       "      <td>Never</td>\n",
       "      <td>Often</td>\n",
       "      <td>Often</td>\n",
       "      <td>Often</td>\n",
       "      <td>...</td>\n",
       "      <td>NaN</td>\n",
       "      <td>NaN</td>\n",
       "      <td>CHI, INTERACT</td>\n",
       "      <td>depending on the professional values</td>\n",
       "      <td>7.0</td>\n",
       "      <td>any, depending on the values</td>\n",
       "      <td>research-practice connections</td>\n",
       "      <td>NaN</td>\n",
       "      <td>research-practice connections</td>\n",
       "      <td>sort of, psychology background.</td>\n",
       "    </tr>\n",
       "    <tr>\n",
       "      <td>1</td>\n",
       "      <td>288</td>\n",
       "      <td>Academic</td>\n",
       "      <td>4</td>\n",
       "      <td>1.0</td>\n",
       "      <td>Occasionally</td>\n",
       "      <td>Neutral</td>\n",
       "      <td>Occasionally</td>\n",
       "      <td>Often</td>\n",
       "      <td>Often</td>\n",
       "      <td>Often</td>\n",
       "      <td>...</td>\n",
       "      <td>Content, cost, timing (can I get away at this ...</td>\n",
       "      <td>Dagstuhl workshop - small, intense, intimate g...</td>\n",
       "      <td>Hawaii international conference on Education</td>\n",
       "      <td>I would attend any of these</td>\n",
       "      <td>6.0</td>\n",
       "      <td>Multi-track: Every attendee chooses their own ...</td>\n",
       "      <td>NaN</td>\n",
       "      <td>NaN</td>\n",
       "      <td>Don’t create schedule conflicts with other rel...</td>\n",
       "      <td>Yes, I was taught how to conduct research</td>\n",
       "    </tr>\n",
       "  </tbody>\n",
       "</table>\n",
       "<p>2 rows × 72 columns</p>\n",
       "</div>"
      ],
      "text/plain": [
       "   q00      q01a  q01b  q01c          q02a     q02b          q02c   q02d  \\\n",
       "0  284  Academic     4   1.0         Often  Neutral         Never  Often   \n",
       "1  288  Academic     4   1.0  Occasionally  Neutral  Occasionally  Often   \n",
       "\n",
       "    q02e   q02f  ...                                                q14  \\\n",
       "0  Often  Often  ...                                                NaN   \n",
       "1  Often  Often  ...  Content, cost, timing (can I get away at this ...   \n",
       "\n",
       "                                                 q15  \\\n",
       "0                                                NaN   \n",
       "1  Dagstuhl workshop - small, intense, intimate g...   \n",
       "\n",
       "                                            q16  \\\n",
       "0                                 CHI, INTERACT   \n",
       "1  Hawaii international conference on Education   \n",
       "\n",
       "                                   q17a q17b  \\\n",
       "0  depending on the professional values  7.0   \n",
       "1           I would attend any of these  6.0   \n",
       "\n",
       "                                                q18a  \\\n",
       "0                       any, depending on the values   \n",
       "1  Multi-track: Every attendee chooses their own ...   \n",
       "\n",
       "                             q21  q22  \\\n",
       "0  research-practice connections  NaN   \n",
       "1                            NaN  NaN   \n",
       "\n",
       "                                                 q23  \\\n",
       "0                      research-practice connections   \n",
       "1  Don’t create schedule conflicts with other rel...   \n",
       "\n",
       "                                        q09a  \n",
       "0            sort of, psychology background.  \n",
       "1  Yes, I was taught how to conduct research  \n",
       "\n",
       "[2 rows x 72 columns]"
      ]
     },
     "execution_count": 2,
     "metadata": {},
     "output_type": "execute_result"
    }
   ],
   "source": [
    "data = pd.read_excel('/Users/dom/codeup_data_science/capstone/kev/survey_responses.xlsx', )\n",
    "data.head(2)"
   ]
  },
  {
   "cell_type": "code",
   "execution_count": 3,
   "metadata": {},
   "outputs": [
    {
     "data": {
      "text/html": [
       "<div>\n",
       "<style scoped>\n",
       "    .dataframe tbody tr th:only-of-type {\n",
       "        vertical-align: middle;\n",
       "    }\n",
       "\n",
       "    .dataframe tbody tr th {\n",
       "        vertical-align: top;\n",
       "    }\n",
       "\n",
       "    .dataframe thead th {\n",
       "        text-align: right;\n",
       "    }\n",
       "</style>\n",
       "<table border=\"1\" class=\"dataframe\">\n",
       "  <thead>\n",
       "    <tr style=\"text-align: right;\">\n",
       "      <th></th>\n",
       "      <th>qid</th>\n",
       "      <th>column_name</th>\n",
       "      <th>is_required</th>\n",
       "      <th>from_orig_file</th>\n",
       "      <th>char_type</th>\n",
       "      <th>function</th>\n",
       "      <th>encoder</th>\n",
       "      <th>survey_section</th>\n",
       "      <th>question_group</th>\n",
       "      <th>question_text</th>\n",
       "    </tr>\n",
       "  </thead>\n",
       "  <tbody>\n",
       "    <tr>\n",
       "      <td>0</td>\n",
       "      <td>q00</td>\n",
       "      <td>resp_id</td>\n",
       "      <td>True</td>\n",
       "      <td>True</td>\n",
       "      <td>numeric</td>\n",
       "      <td>identification</td>\n",
       "      <td>NaN</td>\n",
       "      <td>Survey</td>\n",
       "      <td>ID</td>\n",
       "      <td>Entry Id</td>\n",
       "    </tr>\n",
       "    <tr>\n",
       "      <td>1</td>\n",
       "      <td>q01a</td>\n",
       "      <td>job_title</td>\n",
       "      <td>True</td>\n",
       "      <td>True</td>\n",
       "      <td>text</td>\n",
       "      <td>categorical</td>\n",
       "      <td>NaN</td>\n",
       "      <td>Work</td>\n",
       "      <td>Position</td>\n",
       "      <td>Title</td>\n",
       "    </tr>\n",
       "    <tr>\n",
       "      <td>2</td>\n",
       "      <td>q01b</td>\n",
       "      <td>job_taxo</td>\n",
       "      <td>True</td>\n",
       "      <td>True</td>\n",
       "      <td>numeric</td>\n",
       "      <td>categorical</td>\n",
       "      <td>NaN</td>\n",
       "      <td>Work</td>\n",
       "      <td>Position</td>\n",
       "      <td>Job Taxo ID</td>\n",
       "    </tr>\n",
       "    <tr>\n",
       "      <td>3</td>\n",
       "      <td>q01c</td>\n",
       "      <td>job_id</td>\n",
       "      <td>True</td>\n",
       "      <td>True</td>\n",
       "      <td>numeric</td>\n",
       "      <td>categorical</td>\n",
       "      <td>NaN</td>\n",
       "      <td>Work</td>\n",
       "      <td>Position</td>\n",
       "      <td>Job ID</td>\n",
       "    </tr>\n",
       "    <tr>\n",
       "      <td>4</td>\n",
       "      <td>q02a</td>\n",
       "      <td>job_conduct_res</td>\n",
       "      <td>True</td>\n",
       "      <td>True</td>\n",
       "      <td>numeric</td>\n",
       "      <td>quantitative</td>\n",
       "      <td>often5</td>\n",
       "      <td>Work</td>\n",
       "      <td>Research Duties</td>\n",
       "      <td>Conducting Research</td>\n",
       "    </tr>\n",
       "  </tbody>\n",
       "</table>\n",
       "</div>"
      ],
      "text/plain": [
       "    qid      column_name  is_required  from_orig_file char_type  \\\n",
       "0   q00          resp_id         True            True   numeric   \n",
       "1  q01a        job_title         True            True      text   \n",
       "2  q01b         job_taxo         True            True   numeric   \n",
       "3  q01c           job_id         True            True   numeric   \n",
       "4  q02a  job_conduct_res         True            True   numeric   \n",
       "\n",
       "         function encoder survey_section   question_group        question_text  \n",
       "0  identification     NaN         Survey               ID             Entry Id  \n",
       "1     categorical     NaN           Work         Position                Title  \n",
       "2     categorical     NaN           Work         Position          Job Taxo ID  \n",
       "3     categorical     NaN           Work         Position               Job ID  \n",
       "4    quantitative  often5           Work  Research Duties  Conducting Research  "
      ]
     },
     "execution_count": 3,
     "metadata": {},
     "output_type": "execute_result"
    }
   ],
   "source": [
    "data_dictionary = pd.read_excel('../data_files/data_dictionary.xlsx')\n",
    "data_dictionary.head()"
   ]
  },
  {
   "cell_type": "code",
   "execution_count": null,
   "metadata": {
    "scrolled": true
   },
   "outputs": [],
   "source": []
  },
  {
   "cell_type": "code",
   "execution_count": 4,
   "metadata": {},
   "outputs": [
    {
     "data": {
      "text/html": [
       "<div>\n",
       "<style scoped>\n",
       "    .dataframe tbody tr th:only-of-type {\n",
       "        vertical-align: middle;\n",
       "    }\n",
       "\n",
       "    .dataframe tbody tr th {\n",
       "        vertical-align: top;\n",
       "    }\n",
       "\n",
       "    .dataframe thead th {\n",
       "        text-align: right;\n",
       "    }\n",
       "</style>\n",
       "<table border=\"1\" class=\"dataframe\">\n",
       "  <thead>\n",
       "    <tr style=\"text-align: right;\">\n",
       "      <th></th>\n",
       "      <th>resp_id</th>\n",
       "      <th>job_title</th>\n",
       "      <th>job_taxo</th>\n",
       "      <th>job_id</th>\n",
       "      <th>job_conduct_res</th>\n",
       "      <th>job_analyze_res</th>\n",
       "      <th>job_buy_res_report</th>\n",
       "      <th>job_manage_res_proj</th>\n",
       "      <th>job_observe_res</th>\n",
       "      <th>job_plan_res</th>\n",
       "      <th>...</th>\n",
       "      <th>how_pick_events</th>\n",
       "      <th>best_event</th>\n",
       "      <th>events_attend_recent</th>\n",
       "      <th>ideal_conference_size</th>\n",
       "      <th>ideal_conference_size_cat_orig</th>\n",
       "      <th>ideal_structure</th>\n",
       "      <th>ideal_topics</th>\n",
       "      <th>ideal_attendees</th>\n",
       "      <th>recommendations</th>\n",
       "      <th>research_educ</th>\n",
       "    </tr>\n",
       "  </thead>\n",
       "  <tbody>\n",
       "    <tr>\n",
       "      <td>0</td>\n",
       "      <td>284</td>\n",
       "      <td>Academic</td>\n",
       "      <td>4</td>\n",
       "      <td>1.0</td>\n",
       "      <td>Often</td>\n",
       "      <td>Neutral</td>\n",
       "      <td>Never</td>\n",
       "      <td>Often</td>\n",
       "      <td>Often</td>\n",
       "      <td>Often</td>\n",
       "      <td>...</td>\n",
       "      <td>NaN</td>\n",
       "      <td>NaN</td>\n",
       "      <td>CHI, INTERACT</td>\n",
       "      <td>depending on the professional values</td>\n",
       "      <td>7.0</td>\n",
       "      <td>any, depending on the values</td>\n",
       "      <td>research-practice connections</td>\n",
       "      <td>NaN</td>\n",
       "      <td>research-practice connections</td>\n",
       "      <td>sort of, psychology background.</td>\n",
       "    </tr>\n",
       "    <tr>\n",
       "      <td>1</td>\n",
       "      <td>288</td>\n",
       "      <td>Academic</td>\n",
       "      <td>4</td>\n",
       "      <td>1.0</td>\n",
       "      <td>Occasionally</td>\n",
       "      <td>Neutral</td>\n",
       "      <td>Occasionally</td>\n",
       "      <td>Often</td>\n",
       "      <td>Often</td>\n",
       "      <td>Often</td>\n",
       "      <td>...</td>\n",
       "      <td>Content, cost, timing (can I get away at this ...</td>\n",
       "      <td>Dagstuhl workshop - small, intense, intimate g...</td>\n",
       "      <td>Hawaii international conference on Education</td>\n",
       "      <td>I would attend any of these</td>\n",
       "      <td>6.0</td>\n",
       "      <td>Multi-track: Every attendee chooses their own ...</td>\n",
       "      <td>NaN</td>\n",
       "      <td>NaN</td>\n",
       "      <td>Don’t create schedule conflicts with other rel...</td>\n",
       "      <td>Yes, I was taught how to conduct research</td>\n",
       "    </tr>\n",
       "  </tbody>\n",
       "</table>\n",
       "<p>2 rows × 72 columns</p>\n",
       "</div>"
      ],
      "text/plain": [
       "   resp_id job_title  job_taxo  job_id job_conduct_res job_analyze_res  \\\n",
       "0      284  Academic         4     1.0           Often         Neutral   \n",
       "1      288  Academic         4     1.0    Occasionally         Neutral   \n",
       "\n",
       "  job_buy_res_report job_manage_res_proj job_observe_res job_plan_res  ...  \\\n",
       "0              Never               Often           Often        Often  ...   \n",
       "1       Occasionally               Often           Often        Often  ...   \n",
       "\n",
       "                                     how_pick_events  \\\n",
       "0                                                NaN   \n",
       "1  Content, cost, timing (can I get away at this ...   \n",
       "\n",
       "                                          best_event  \\\n",
       "0                                                NaN   \n",
       "1  Dagstuhl workshop - small, intense, intimate g...   \n",
       "\n",
       "                           events_attend_recent  \\\n",
       "0                                 CHI, INTERACT   \n",
       "1  Hawaii international conference on Education   \n",
       "\n",
       "                  ideal_conference_size ideal_conference_size_cat_orig  \\\n",
       "0  depending on the professional values                            7.0   \n",
       "1           I would attend any of these                            6.0   \n",
       "\n",
       "                                     ideal_structure  \\\n",
       "0                       any, depending on the values   \n",
       "1  Multi-track: Every attendee chooses their own ...   \n",
       "\n",
       "                    ideal_topics ideal_attendees  \\\n",
       "0  research-practice connections             NaN   \n",
       "1                            NaN             NaN   \n",
       "\n",
       "                                     recommendations  \\\n",
       "0                      research-practice connections   \n",
       "1  Don’t create schedule conflicts with other rel...   \n",
       "\n",
       "                               research_educ  \n",
       "0            sort of, psychology background.  \n",
       "1  Yes, I was taught how to conduct research  \n",
       "\n",
       "[2 rows x 72 columns]"
      ]
     },
     "execution_count": 4,
     "metadata": {},
     "output_type": "execute_result"
    }
   ],
   "source": [
    "data.rename(columns = data_dictionary[['qid','column_name']].set_index('qid').column_name, inplace=True)\n",
    "data.head(2)"
   ]
  },
  {
   "cell_type": "code",
   "execution_count": 5,
   "metadata": {},
   "outputs": [
    {
     "data": {
      "text/html": [
       "<div>\n",
       "<style scoped>\n",
       "    .dataframe tbody tr th:only-of-type {\n",
       "        vertical-align: middle;\n",
       "    }\n",
       "\n",
       "    .dataframe tbody tr th {\n",
       "        vertical-align: top;\n",
       "    }\n",
       "\n",
       "    .dataframe thead th {\n",
       "        text-align: right;\n",
       "    }\n",
       "</style>\n",
       "<table border=\"1\" class=\"dataframe\">\n",
       "  <thead>\n",
       "    <tr style=\"text-align: right;\">\n",
       "      <th></th>\n",
       "      <th>job_title</th>\n",
       "      <th>job_taxo</th>\n",
       "      <th>job_id</th>\n",
       "      <th>job_conduct_res</th>\n",
       "      <th>job_analyze_res</th>\n",
       "      <th>job_buy_res_report</th>\n",
       "      <th>job_manage_res_proj</th>\n",
       "      <th>job_observe_res</th>\n",
       "      <th>job_plan_res</th>\n",
       "      <th>job_teach_res</th>\n",
       "      <th>...</th>\n",
       "      <th>best_event</th>\n",
       "      <th>events_attend_recent</th>\n",
       "      <th>ideal_conference_size</th>\n",
       "      <th>ideal_conference_size_cat_orig</th>\n",
       "      <th>ideal_structure</th>\n",
       "      <th>ideal_topics</th>\n",
       "      <th>ideal_attendees</th>\n",
       "      <th>recommendations</th>\n",
       "      <th>research_educ</th>\n",
       "      <th>persona_id</th>\n",
       "    </tr>\n",
       "    <tr>\n",
       "      <th>resp_id</th>\n",
       "      <th></th>\n",
       "      <th></th>\n",
       "      <th></th>\n",
       "      <th></th>\n",
       "      <th></th>\n",
       "      <th></th>\n",
       "      <th></th>\n",
       "      <th></th>\n",
       "      <th></th>\n",
       "      <th></th>\n",
       "      <th></th>\n",
       "      <th></th>\n",
       "      <th></th>\n",
       "      <th></th>\n",
       "      <th></th>\n",
       "      <th></th>\n",
       "      <th></th>\n",
       "      <th></th>\n",
       "      <th></th>\n",
       "      <th></th>\n",
       "      <th></th>\n",
       "    </tr>\n",
       "  </thead>\n",
       "  <tbody>\n",
       "    <tr>\n",
       "      <td>284</td>\n",
       "      <td>Academic</td>\n",
       "      <td>4</td>\n",
       "      <td>1.0</td>\n",
       "      <td>3</td>\n",
       "      <td>2</td>\n",
       "      <td>0</td>\n",
       "      <td>3</td>\n",
       "      <td>3</td>\n",
       "      <td>3</td>\n",
       "      <td>3</td>\n",
       "      <td>...</td>\n",
       "      <td>NaN</td>\n",
       "      <td>CHI, INTERACT</td>\n",
       "      <td>depending on the professional values</td>\n",
       "      <td>7.0</td>\n",
       "      <td>any, depending on the values</td>\n",
       "      <td>research-practice connections</td>\n",
       "      <td>NaN</td>\n",
       "      <td>research-practice connections</td>\n",
       "      <td>sort of, psychology background.</td>\n",
       "      <td>2.0</td>\n",
       "    </tr>\n",
       "    <tr>\n",
       "      <td>288</td>\n",
       "      <td>Academic</td>\n",
       "      <td>4</td>\n",
       "      <td>1.0</td>\n",
       "      <td>1</td>\n",
       "      <td>2</td>\n",
       "      <td>1</td>\n",
       "      <td>3</td>\n",
       "      <td>3</td>\n",
       "      <td>3</td>\n",
       "      <td>3</td>\n",
       "      <td>...</td>\n",
       "      <td>Dagstuhl workshop - small, intense, intimate g...</td>\n",
       "      <td>Hawaii international conference on Education</td>\n",
       "      <td>I would attend any of these</td>\n",
       "      <td>6.0</td>\n",
       "      <td>Multi-track: Every attendee chooses their own ...</td>\n",
       "      <td>NaN</td>\n",
       "      <td>NaN</td>\n",
       "      <td>Don’t create schedule conflicts with other rel...</td>\n",
       "      <td>Yes, I was taught how to conduct research</td>\n",
       "      <td>2.0</td>\n",
       "    </tr>\n",
       "    <tr>\n",
       "      <td>294</td>\n",
       "      <td>Academic</td>\n",
       "      <td>4</td>\n",
       "      <td>1.0</td>\n",
       "      <td>3</td>\n",
       "      <td>3</td>\n",
       "      <td>1</td>\n",
       "      <td>3</td>\n",
       "      <td>1</td>\n",
       "      <td>3</td>\n",
       "      <td>3</td>\n",
       "      <td>...</td>\n",
       "      <td>Courses at Copenhagen University  (deep knowle...</td>\n",
       "      <td>Research Tuesdays (Czech),  UX/Design Conferen...</td>\n",
       "      <td>It depends - I really enjoyed small conference...</td>\n",
       "      <td>7.0</td>\n",
       "      <td>It depends</td>\n",
       "      <td>NaN</td>\n",
       "      <td>NaN</td>\n",
       "      <td>Looking forward! \\n</td>\n",
       "      <td>Yes, I was taught how to conduct research</td>\n",
       "      <td>2.0</td>\n",
       "    </tr>\n",
       "    <tr>\n",
       "      <td>281</td>\n",
       "      <td>Academic</td>\n",
       "      <td>4</td>\n",
       "      <td>1.0</td>\n",
       "      <td>3</td>\n",
       "      <td>4</td>\n",
       "      <td>0</td>\n",
       "      <td>2</td>\n",
       "      <td>3</td>\n",
       "      <td>2</td>\n",
       "      <td>0</td>\n",
       "      <td>...</td>\n",
       "      <td>A workshop at the Society for Applied Anthropo...</td>\n",
       "      <td>A local education implementation conference.</td>\n",
       "      <td>Large conference: 500+ attendees</td>\n",
       "      <td>4.0</td>\n",
       "      <td>Multi-track: Every attendee chooses their own ...</td>\n",
       "      <td>Research design, innovative methods, communica...</td>\n",
       "      <td>NaN</td>\n",
       "      <td>NaN</td>\n",
       "      <td>Yes, I was taught how to conduct research</td>\n",
       "      <td>2.0</td>\n",
       "    </tr>\n",
       "    <tr>\n",
       "      <td>280</td>\n",
       "      <td>Academic</td>\n",
       "      <td>4</td>\n",
       "      <td>1.0</td>\n",
       "      <td>3</td>\n",
       "      <td>3</td>\n",
       "      <td>0</td>\n",
       "      <td>1</td>\n",
       "      <td>1</td>\n",
       "      <td>3</td>\n",
       "      <td>2</td>\n",
       "      <td>...</td>\n",
       "      <td>NaN</td>\n",
       "      <td>NaN</td>\n",
       "      <td>Large conference: 500+ attendees</td>\n",
       "      <td>4.0</td>\n",
       "      <td>Multi-track: Every attendee chooses their own ...</td>\n",
       "      <td>NaN</td>\n",
       "      <td>NaN</td>\n",
       "      <td>NaN</td>\n",
       "      <td>No, I was not taught how to conduct research</td>\n",
       "      <td>2.0</td>\n",
       "    </tr>\n",
       "  </tbody>\n",
       "</table>\n",
       "<p>5 rows × 72 columns</p>\n",
       "</div>"
      ],
      "text/plain": [
       "        job_title  job_taxo  job_id  job_conduct_res  job_analyze_res  \\\n",
       "resp_id                                                                 \n",
       "284      Academic         4     1.0                3                2   \n",
       "288      Academic         4     1.0                1                2   \n",
       "294      Academic         4     1.0                3                3   \n",
       "281      Academic         4     1.0                3                4   \n",
       "280      Academic         4     1.0                3                3   \n",
       "\n",
       "         job_buy_res_report  job_manage_res_proj  job_observe_res  \\\n",
       "resp_id                                                             \n",
       "284                       0                    3                3   \n",
       "288                       1                    3                3   \n",
       "294                       1                    3                1   \n",
       "281                       0                    2                3   \n",
       "280                       0                    1                1   \n",
       "\n",
       "         job_plan_res  job_teach_res  ...  \\\n",
       "resp_id                               ...   \n",
       "284                 3              3  ...   \n",
       "288                 3              3  ...   \n",
       "294                 3              3  ...   \n",
       "281                 2              0  ...   \n",
       "280                 3              2  ...   \n",
       "\n",
       "                                                best_event  \\\n",
       "resp_id                                                      \n",
       "284                                                    NaN   \n",
       "288      Dagstuhl workshop - small, intense, intimate g...   \n",
       "294      Courses at Copenhagen University  (deep knowle...   \n",
       "281      A workshop at the Society for Applied Anthropo...   \n",
       "280                                                    NaN   \n",
       "\n",
       "                                      events_attend_recent  \\\n",
       "resp_id                                                      \n",
       "284                                          CHI, INTERACT   \n",
       "288           Hawaii international conference on Education   \n",
       "294      Research Tuesdays (Czech),  UX/Design Conferen...   \n",
       "281           A local education implementation conference.   \n",
       "280                                                    NaN   \n",
       "\n",
       "                                     ideal_conference_size  \\\n",
       "resp_id                                                      \n",
       "284                   depending on the professional values   \n",
       "288                            I would attend any of these   \n",
       "294      It depends - I really enjoyed small conference...   \n",
       "281                       Large conference: 500+ attendees   \n",
       "280                       Large conference: 500+ attendees   \n",
       "\n",
       "         ideal_conference_size_cat_orig  \\\n",
       "resp_id                                   \n",
       "284                                 7.0   \n",
       "288                                 6.0   \n",
       "294                                 7.0   \n",
       "281                                 4.0   \n",
       "280                                 4.0   \n",
       "\n",
       "                                           ideal_structure  \\\n",
       "resp_id                                                      \n",
       "284                           any, depending on the values   \n",
       "288      Multi-track: Every attendee chooses their own ...   \n",
       "294                                             It depends   \n",
       "281      Multi-track: Every attendee chooses their own ...   \n",
       "280      Multi-track: Every attendee chooses their own ...   \n",
       "\n",
       "                                              ideal_topics  ideal_attendees  \\\n",
       "resp_id                                                                       \n",
       "284                          research-practice connections              NaN   \n",
       "288                                                    NaN              NaN   \n",
       "294                                                    NaN              NaN   \n",
       "281      Research design, innovative methods, communica...              NaN   \n",
       "280                                                    NaN              NaN   \n",
       "\n",
       "                                           recommendations  \\\n",
       "resp_id                                                      \n",
       "284                          research-practice connections   \n",
       "288      Don’t create schedule conflicts with other rel...   \n",
       "294                                    Looking forward! \\n   \n",
       "281                                                    NaN   \n",
       "280                                                    NaN   \n",
       "\n",
       "                                        research_educ  persona_id  \n",
       "resp_id                                                            \n",
       "284                   sort of, psychology background.         2.0  \n",
       "288         Yes, I was taught how to conduct research         2.0  \n",
       "294         Yes, I was taught how to conduct research         2.0  \n",
       "281         Yes, I was taught how to conduct research         2.0  \n",
       "280      No, I was not taught how to conduct research         2.0  \n",
       "\n",
       "[5 rows x 72 columns]"
      ]
     },
     "execution_count": 5,
     "metadata": {},
     "output_type": "execute_result"
    }
   ],
   "source": [
    "df = wrangle.wrangle_data()\n",
    "df.head()"
   ]
  },
  {
   "cell_type": "markdown",
   "metadata": {},
   "source": [
    "- Checking freds nlp functions"
   ]
  },
  {
   "cell_type": "code",
   "execution_count": 6,
   "metadata": {},
   "outputs": [],
   "source": [
    "sys.path.append('../fred')\n",
    "import nlp"
   ]
  },
  {
   "cell_type": "code",
   "execution_count": 7,
   "metadata": {},
   "outputs": [],
   "source": [
    "mat, vect = nlp.create_tfidf_matrix(df.best_event)"
   ]
  },
  {
   "cell_type": "markdown",
   "metadata": {},
   "source": [
    "#### Exploration"
   ]
  },
  {
   "cell_type": "code",
   "execution_count": 39,
   "metadata": {},
   "outputs": [
    {
     "data": {
      "text/html": [
       "<div>\n",
       "<style scoped>\n",
       "    .dataframe tbody tr th:only-of-type {\n",
       "        vertical-align: middle;\n",
       "    }\n",
       "\n",
       "    .dataframe tbody tr th {\n",
       "        vertical-align: top;\n",
       "    }\n",
       "\n",
       "    .dataframe thead th {\n",
       "        text-align: right;\n",
       "    }\n",
       "</style>\n",
       "<table border=\"1\" class=\"dataframe\">\n",
       "  <thead>\n",
       "    <tr style=\"text-align: right;\">\n",
       "      <th></th>\n",
       "      <th>job_title</th>\n",
       "      <th>job_taxo</th>\n",
       "      <th>job_id</th>\n",
       "      <th>job_conduct_res</th>\n",
       "      <th>job_analyze_res</th>\n",
       "      <th>job_buy_res_report</th>\n",
       "      <th>job_manage_res_proj</th>\n",
       "      <th>job_observe_res</th>\n",
       "      <th>job_plan_res</th>\n",
       "      <th>job_teach_res</th>\n",
       "      <th>...</th>\n",
       "      <th>best_event</th>\n",
       "      <th>events_attend_recent</th>\n",
       "      <th>ideal_conference_size</th>\n",
       "      <th>ideal_conference_size_cat_orig</th>\n",
       "      <th>ideal_structure</th>\n",
       "      <th>ideal_topics</th>\n",
       "      <th>ideal_attendees</th>\n",
       "      <th>recommendations</th>\n",
       "      <th>research_educ</th>\n",
       "      <th>persona_id</th>\n",
       "    </tr>\n",
       "    <tr>\n",
       "      <th>resp_id</th>\n",
       "      <th></th>\n",
       "      <th></th>\n",
       "      <th></th>\n",
       "      <th></th>\n",
       "      <th></th>\n",
       "      <th></th>\n",
       "      <th></th>\n",
       "      <th></th>\n",
       "      <th></th>\n",
       "      <th></th>\n",
       "      <th></th>\n",
       "      <th></th>\n",
       "      <th></th>\n",
       "      <th></th>\n",
       "      <th></th>\n",
       "      <th></th>\n",
       "      <th></th>\n",
       "      <th></th>\n",
       "      <th></th>\n",
       "      <th></th>\n",
       "      <th></th>\n",
       "    </tr>\n",
       "  </thead>\n",
       "  <tbody>\n",
       "    <tr>\n",
       "      <td>284</td>\n",
       "      <td>Academic</td>\n",
       "      <td>4</td>\n",
       "      <td>1.0</td>\n",
       "      <td>3</td>\n",
       "      <td>2</td>\n",
       "      <td>0</td>\n",
       "      <td>3</td>\n",
       "      <td>3</td>\n",
       "      <td>3</td>\n",
       "      <td>3</td>\n",
       "      <td>...</td>\n",
       "      <td>NaN</td>\n",
       "      <td>CHI, INTERACT</td>\n",
       "      <td>depending on the professional values</td>\n",
       "      <td>7.0</td>\n",
       "      <td>any, depending on the values</td>\n",
       "      <td>research-practice connections</td>\n",
       "      <td>NaN</td>\n",
       "      <td>research-practice connections</td>\n",
       "      <td>sort of, psychology background.</td>\n",
       "      <td>2.0</td>\n",
       "    </tr>\n",
       "    <tr>\n",
       "      <td>288</td>\n",
       "      <td>Academic</td>\n",
       "      <td>4</td>\n",
       "      <td>1.0</td>\n",
       "      <td>1</td>\n",
       "      <td>2</td>\n",
       "      <td>1</td>\n",
       "      <td>3</td>\n",
       "      <td>3</td>\n",
       "      <td>3</td>\n",
       "      <td>3</td>\n",
       "      <td>...</td>\n",
       "      <td>Dagstuhl workshop - small, intense, intimate g...</td>\n",
       "      <td>Hawaii international conference on Education</td>\n",
       "      <td>I would attend any of these</td>\n",
       "      <td>6.0</td>\n",
       "      <td>Multi-track: Every attendee chooses their own ...</td>\n",
       "      <td>NaN</td>\n",
       "      <td>NaN</td>\n",
       "      <td>Don’t create schedule conflicts with other rel...</td>\n",
       "      <td>Yes, I was taught how to conduct research</td>\n",
       "      <td>2.0</td>\n",
       "    </tr>\n",
       "  </tbody>\n",
       "</table>\n",
       "<p>2 rows × 72 columns</p>\n",
       "</div>"
      ],
      "text/plain": [
       "        job_title  job_taxo  job_id  job_conduct_res  job_analyze_res  \\\n",
       "resp_id                                                                 \n",
       "284      Academic         4     1.0                3                2   \n",
       "288      Academic         4     1.0                1                2   \n",
       "\n",
       "         job_buy_res_report  job_manage_res_proj  job_observe_res  \\\n",
       "resp_id                                                             \n",
       "284                       0                    3                3   \n",
       "288                       1                    3                3   \n",
       "\n",
       "         job_plan_res  job_teach_res  ...  \\\n",
       "resp_id                               ...   \n",
       "284                 3              3  ...   \n",
       "288                 3              3  ...   \n",
       "\n",
       "                                                best_event  \\\n",
       "resp_id                                                      \n",
       "284                                                    NaN   \n",
       "288      Dagstuhl workshop - small, intense, intimate g...   \n",
       "\n",
       "                                 events_attend_recent  \\\n",
       "resp_id                                                 \n",
       "284                                     CHI, INTERACT   \n",
       "288      Hawaii international conference on Education   \n",
       "\n",
       "                        ideal_conference_size  ideal_conference_size_cat_orig  \\\n",
       "resp_id                                                                         \n",
       "284      depending on the professional values                             7.0   \n",
       "288               I would attend any of these                             6.0   \n",
       "\n",
       "                                           ideal_structure  \\\n",
       "resp_id                                                      \n",
       "284                           any, depending on the values   \n",
       "288      Multi-track: Every attendee chooses their own ...   \n",
       "\n",
       "                          ideal_topics  ideal_attendees  \\\n",
       "resp_id                                                   \n",
       "284      research-practice connections              NaN   \n",
       "288                                NaN              NaN   \n",
       "\n",
       "                                           recommendations  \\\n",
       "resp_id                                                      \n",
       "284                          research-practice connections   \n",
       "288      Don’t create schedule conflicts with other rel...   \n",
       "\n",
       "                                     research_educ  persona_id  \n",
       "resp_id                                                         \n",
       "284                sort of, psychology background.         2.0  \n",
       "288      Yes, I was taught how to conduct research         2.0  \n",
       "\n",
       "[2 rows x 72 columns]"
      ]
     },
     "execution_count": 39,
     "metadata": {},
     "output_type": "execute_result"
    }
   ],
   "source": [
    "#dataframe\n",
    "df.head(2)"
   ]
  },
  {
   "cell_type": "code",
   "execution_count": 40,
   "metadata": {},
   "outputs": [
    {
     "data": {
      "text/plain": [
       "['job_taxo',\n",
       " 'job_id',\n",
       " 'job_conduct_res',\n",
       " 'job_analyze_res',\n",
       " 'job_buy_res_report',\n",
       " 'job_manage_res_proj',\n",
       " 'job_observe_res',\n",
       " 'job_plan_res',\n",
       " 'job_teach_res',\n",
       " 'job_advocate_res',\n",
       " 'job_hire_res_vendor',\n",
       " 'job_lead_res_team',\n",
       " 'num_employees',\n",
       " 'num_researchers',\n",
       " 'exp_conduct_res',\n",
       " 'exp_analyze_res',\n",
       " 'exp_buy_res_report',\n",
       " 'exp_manage_res_proj',\n",
       " 'exp_observe_res',\n",
       " 'exp_plan_res',\n",
       " 'exp_teach_res',\n",
       " 'exp_advocate_res',\n",
       " 'exp_hire_res_vendor',\n",
       " 'exp_lead_res_team',\n",
       " 'learning_talks',\n",
       " 'learning_read',\n",
       " 'learning_meetup',\n",
       " 'learning_workshop',\n",
       " 'learning_conference',\n",
       " 'likely_watch_video',\n",
       " 'likely_internet',\n",
       " 'likely_book',\n",
       " 'likely_online_group',\n",
       " 'likely_colleague',\n",
       " 'likely_meetup',\n",
       " 'likely_conference',\n",
       " 'likely_workshop',\n",
       " 'factor_speaker',\n",
       " 'factor_diverse_speak',\n",
       " 'factor_topics',\n",
       " 'factor_format_sessions',\n",
       " 'factor_size',\n",
       " 'factor_variety_attend',\n",
       " 'factor_code',\n",
       " 'factor_location',\n",
       " 'factor_ability_to_pay',\n",
       " 'factor_network',\n",
       " 'session_keynote',\n",
       " 'session_long_talk',\n",
       " 'session_short_talk',\n",
       " 'session_workshop',\n",
       " 'session_network',\n",
       " 'session_social_event',\n",
       " 'session_qa',\n",
       " 'sesson_topic_tables',\n",
       " 'ideal_conference_size_cat_orig',\n",
       " 'persona_id']"
      ]
     },
     "execution_count": 40,
     "metadata": {},
     "output_type": "execute_result"
    }
   ],
   "source": [
    "#Quantitative columns\n",
    "quant_cols = df.select_dtypes([int,float]).columns\n",
    "quant_cols.to_list()"
   ]
  },
  {
   "cell_type": "code",
   "execution_count": 42,
   "metadata": {},
   "outputs": [
    {
     "data": {
      "text/plain": [
       "job_taxo  job_title              \n",
       "1         Principal UX Researcher     44\n",
       "          Senior UX Researcher        97\n",
       "          UX Researcher              202\n",
       "2         Principal UX Designer       28\n",
       "          Senior UX Designer          25\n",
       "          UX Designer                 87\n",
       "3         Analyst                      5\n",
       "          Anthropologist               3\n",
       "          Behavioral economist         1\n",
       "          Ethnographer                 1\n",
       "          Market Researcher            4\n",
       "          Research Scientist           1\n",
       "          Researcher                   9\n",
       "4         Academic                    23\n",
       "          Student                      5\n",
       "5         Content Strategist           4\n",
       "          Engineer                    14\n",
       "          Information Architect       11\n",
       "          Product Manager             10\n",
       "          Service Designer            10\n",
       "          Strategist                  25\n",
       "6         Design Manager              65\n",
       "          Research Manager            70\n",
       "7         Consultant                  62\n",
       "8         Executive                   50\n",
       "9         Author                       1\n",
       "          Intern                       5\n",
       "          Operations                   5\n",
       "          Writer                       1\n",
       "Name: job_title, dtype: int64"
      ]
     },
     "execution_count": 42,
     "metadata": {},
     "output_type": "execute_result"
    }
   ],
   "source": [
    "#Jobs by taxo id\n",
    "    #1 is UX researchers\n",
    "    #2 is Developers\n",
    "    #3 is Researcher/Scientist\n",
    "    #4 is Academic/Students\n",
    "    #5 is Planners?\n",
    "    #6 is Design/Research Managers\n",
    "    #7 is Consultans\n",
    "    #8 is Executive\n",
    "    #9 is misc\n",
    "data.groupby(['job_taxo', 'job_title']).job_title.count()"
   ]
  },
  {
   "cell_type": "code",
   "execution_count": 23,
   "metadata": {},
   "outputs": [
    {
     "data": {
      "text/plain": [
       "persona_id  job_taxo\n",
       "1.0         7            62\n",
       "            8            50\n",
       "2.0         3            24\n",
       "            4            28\n",
       "            5            74\n",
       "            9            12\n",
       "3.0         1            93\n",
       "            2            26\n",
       "            6            84\n",
       "4.0         1           191\n",
       "            2            73\n",
       "            6            43\n",
       "5.0         1            45\n",
       "            2            28\n",
       "            6             3\n",
       "Name: persona_id, dtype: int64"
      ]
     },
     "execution_count": 23,
     "metadata": {},
     "output_type": "execute_result"
    }
   ],
   "source": [
    "df.groupby(['persona_id','job_taxo']).persona_id.count()"
   ]
  },
  {
   "cell_type": "code",
   "execution_count": 29,
   "metadata": {},
   "outputs": [
    {
     "data": {
      "text/plain": [
       "4.0    307\n",
       "3.0    203\n",
       "2.0    138\n",
       "1.0    112\n",
       "5.0     76\n",
       "Name: persona_id, dtype: int64"
      ]
     },
     "execution_count": 29,
     "metadata": {},
     "output_type": "execute_result"
    }
   ],
   "source": [
    "df.persona_id.value_counts()"
   ]
  },
  {
   "cell_type": "code",
   "execution_count": 27,
   "metadata": {
    "scrolled": true
   },
   "outputs": [
    {
     "data": {
      "text/plain": [
       "resp_id\n",
       "284    5.0\n",
       "288    4.7\n",
       "294    3.6\n",
       "281    0.6\n",
       "280    2.0\n",
       "      ... \n",
       "105    4.0\n",
       "104    2.3\n",
       "843    0.7\n",
       "876    3.3\n",
       "2      1.3\n",
       "Length: 868, dtype: float64"
      ]
     },
     "execution_count": 27,
     "metadata": {},
     "output_type": "execute_result"
    }
   ],
   "source": [
    "exp_cols = ['exp_conduct_res', 'exp_analyze_res',\n",
    "           'exp_buy_res_report', 'exp_manage_res_proj', 'exp_observe_res',\n",
    "           'exp_plan_res', 'exp_teach_res', 'exp_advocate_res',\n",
    "           'exp_hire_res_vendor', 'exp_lead_res_team']\n",
    "df[exp_cols].mean(axis = 1)"
   ]
  },
  {
   "cell_type": "code",
   "execution_count": null,
   "metadata": {},
   "outputs": [],
   "source": [
    "#show distributions of values\n"
   ]
  },
  {
   "cell_type": "code",
   "execution_count": 61,
   "metadata": {},
   "outputs": [],
   "source": [
    "#establish features and target and split train and test data\n",
    "\n",
    "\n",
    "x = quant_cols.drop(['job_id', 'likely_conference']).to_list()\n",
    "y = ['likely_conference']\n",
    "train, test = train_test_split(df[x+y].dropna(subset = y))"
   ]
  },
  {
   "cell_type": "code",
   "execution_count": null,
   "metadata": {},
   "outputs": [],
   "source": [
    "#1/14/20\n",
    "#use svm or \n",
    "#form hypothesis and test them"
   ]
  },
  {
   "cell_type": "code",
   "execution_count": 76,
   "metadata": {
    "scrolled": true
   },
   "outputs": [
    {
     "data": {
      "text/plain": [
       "<matplotlib.axes._subplots.AxesSubplot at 0x1a2ebf4690>"
      ]
     },
     "execution_count": 76,
     "metadata": {},
     "output_type": "execute_result"
    },
    {
     "data": {
      "image/png": "[encoded data removed]",
      "text/plain": [
       "<Figure size 1008x576 with 2 Axes>"
      ]
     },
     "metadata": {
      "needs_background": "light"
     },
     "output_type": "display_data"
    }
   ],
   "source": [
    "plt.figure(figsize=(14,8))\n",
    "sns.heatmap(test.corr(), cmap = 'icefire_r')"
   ]
  },
  {
   "cell_type": "code",
   "execution_count": 89,
   "metadata": {},
   "outputs": [
    {
     "data": {
      "image/png": "[encoded data removed]",
      "text/plain": [
       "<Figure size 432x288 with 1 Axes>"
      ]
     },
     "metadata": {
      "needs_background": "light"
     },
     "output_type": "display_data"
    },
    {
     "data": {
      "text/plain": [
       "persona_id\n",
       "1.0     78\n",
       "2.0     97\n",
       "3.0    151\n",
       "4.0    226\n",
       "5.0     53\n",
       "Name: likely_conference, dtype: int64"
      ]
     },
     "execution_count": 89,
     "metadata": {},
     "output_type": "execute_result"
    }
   ],
   "source": [
    "train.groupby('persona_id').likely_conference.agg(['mean', 'median']).plot.bar()\n",
    "plt.show()\n",
    "train.groupby('persona_id').likely_conference.count()"
   ]
  },
  {
   "cell_type": "code",
   "execution_count": 99,
   "metadata": {},
   "outputs": [
    {
     "data": {
      "image/png": "[encoded data removed]",
      "text/plain": [
       "<Figure size 432x288 with 1 Axes>"
      ]
     },
     "metadata": {
      "needs_background": "light"
     },
     "output_type": "display_data"
    }
   ],
   "source": [
    "train.groupby('persona_id').learning_conference.agg(['mean', 'median']).plot.bar()\n",
    "plt.show()\n"
   ]
  },
  {
   "cell_type": "code",
   "execution_count": 96,
   "metadata": {},
   "outputs": [],
   "source": [
    "df['target'] = df[['learning_conference','likely_conference']].apply('mean', axis = 1)"
   ]
  },
  {
   "cell_type": "code",
   "execution_count": 100,
   "metadata": {},
   "outputs": [
    {
     "data": {
      "image/png": "[encoded data removed]",
      "text/plain": [
       "<Figure size 432x288 with 1 Axes>"
      ]
     },
     "metadata": {
      "needs_background": "light"
     },
     "output_type": "display_data"
    },
    {
     "data": {
      "text/plain": [
       "persona_id\n",
       "1.0    105\n",
       "2.0    128\n",
       "3.0    197\n",
       "4.0    302\n",
       "5.0     75\n",
       "Name: target, dtype: int64"
      ]
     },
     "execution_count": 100,
     "metadata": {},
     "output_type": "execute_result"
    }
   ],
   "source": [
    "df.groupby('persona_id').target.agg(['mean', 'median']).plot.bar()\n",
    "plt.show()\n",
    "df.groupby('persona_id').target.count()"
   ]
  },
  {
   "cell_type": "code",
   "execution_count": 108,
   "metadata": {},
   "outputs": [
    {
     "data": {
      "text/plain": [
       "Ttest_indResult(statistic=0.038329465393023864, pvalue=0.9694581022356199)"
      ]
     },
     "execution_count": 108,
     "metadata": {},
     "output_type": "execute_result"
    }
   ],
   "source": [
    "ttest_ind(df[(df.persona_id == 1)].target,df[(df.persona_id == 2)].target)"
   ]
  },
  {
   "cell_type": "code",
   "execution_count": 110,
   "metadata": {},
   "outputs": [
    {
     "data": {
      "text/plain": [
       "Ttest_indResult(statistic=1.9142958081369854, pvalue=0.056533510385114234)"
      ]
     },
     "execution_count": 110,
     "metadata": {},
     "output_type": "execute_result"
    }
   ],
   "source": [
    "ttest_ind(df[(df.persona_id == 1)].target,df[(df.persona_id == 3)].target)"
   ]
  },
  {
   "cell_type": "code",
   "execution_count": 112,
   "metadata": {},
   "outputs": [
    {
     "data": {
      "text/plain": [
       "Ttest_indResult(statistic=3.2728386268110063, pvalue=0.0011560765310629614)"
      ]
     },
     "execution_count": 112,
     "metadata": {},
     "output_type": "execute_result"
    }
   ],
   "source": [
    "ttest_ind(df[(df.persona_id == 1)].target,df[(df.persona_id == 4)].target)"
   ]
  },
  {
   "cell_type": "code",
   "execution_count": 113,
   "metadata": {},
   "outputs": [
    {
     "data": {
      "text/plain": [
       "Ttest_indResult(statistic=2.7077362338275437, pvalue=0.007434911511818576)"
      ]
     },
     "execution_count": 113,
     "metadata": {},
     "output_type": "execute_result"
    }
   ],
   "source": [
    "ttest_ind(df[(df.persona_id == 1)].target,df[(df.persona_id == 5)].target)"
   ]
  },
  {
   "cell_type": "code",
   "execution_count": 114,
   "metadata": {},
   "outputs": [
    {
     "data": {
      "text/plain": [
       "Ttest_indResult(statistic=2.046606610979574, pvalue=0.04150583277631614)"
      ]
     },
     "execution_count": 114,
     "metadata": {},
     "output_type": "execute_result"
    }
   ],
   "source": [
    "ttest_ind(df[(df.persona_id == 2)].target,df[(df.persona_id == 3)].target)"
   ]
  },
  {
   "cell_type": "code",
   "execution_count": 115,
   "metadata": {},
   "outputs": [
    {
     "data": {
      "text/plain": [
       "Ttest_indResult(statistic=3.529891629782246, pvalue=0.00046081613406209504)"
      ]
     },
     "execution_count": 115,
     "metadata": {},
     "output_type": "execute_result"
    }
   ],
   "source": [
    "ttest_ind(df[(df.persona_id == 2)].target,df[(df.persona_id == 4)].target)"
   ]
  },
  {
   "cell_type": "code",
   "execution_count": 116,
   "metadata": {},
   "outputs": [
    {
     "data": {
      "text/plain": [
       "Ttest_indResult(statistic=2.910015640054613, pvalue=0.004021398099353864)"
      ]
     },
     "execution_count": 116,
     "metadata": {},
     "output_type": "execute_result"
    }
   ],
   "source": [
    "ttest_ind(df[(df.persona_id == 2)].target,df[(df.persona_id == 5)].target)"
   ]
  },
  {
   "cell_type": "code",
   "execution_count": 117,
   "metadata": {},
   "outputs": [
    {
     "data": {
      "text/plain": [
       "Ttest_indResult(statistic=1.3542497127821636, pvalue=0.1762721179674648)"
      ]
     },
     "execution_count": 117,
     "metadata": {},
     "output_type": "execute_result"
    }
   ],
   "source": [
    "ttest_ind(df[(df.persona_id == 3)].target,df[(df.persona_id == 4)].target)"
   ]
  },
  {
   "cell_type": "code",
   "execution_count": 118,
   "metadata": {},
   "outputs": [
    {
     "data": {
      "text/plain": [
       "Ttest_indResult(statistic=1.4614043917566018, pvalue=0.14506730551667094)"
      ]
     },
     "execution_count": 118,
     "metadata": {},
     "output_type": "execute_result"
    }
   ],
   "source": [
    "ttest_ind(df[(df.persona_id == 3)].target,df[(df.persona_id == 5)].target)"
   ]
  },
  {
   "cell_type": "code",
   "execution_count": 129,
   "metadata": {},
   "outputs": [
    {
     "data": {
      "text/plain": [
       "0.6874219900814996"
      ]
     },
     "execution_count": 129,
     "metadata": {},
     "output_type": "execute_result"
    }
   ],
   "source": [
    "ttest_ind(df[(df.persona_id == 4)].target,df[(df.persona_id == 5)].target)[0]"
   ]
  },
  {
   "cell_type": "code",
   "execution_count": 144,
   "metadata": {},
   "outputs": [
    {
     "data": {
      "text/plain": [
       "<matplotlib.axes._subplots.AxesSubplot at 0x1a31c6e790>"
      ]
     },
     "execution_count": 144,
     "metadata": {},
     "output_type": "execute_result"
    },
    {
     "data": {
      "image/png": "[encoded data removed]",
      "text/plain": [
       "<Figure size 432x288 with 2 Axes>"
      ]
     },
     "metadata": {
      "needs_background": "light"
     },
     "output_type": "display_data"
    }
   ],
   "source": [
    "ttests = {}\n",
    "row = {}\n",
    "for i in range(1,6):\n",
    "    for j in range(1,6):\n",
    "        ttests[j] = ttest_ind(df[(df.persona_id == i)].target,df[(df.persona_id == j)].target)[1]\n",
    "    row[i] = ttests.copy()\n",
    "sns.heatmap(pd.DataFrame(row))\n"
   ]
  },
  {
   "cell_type": "code",
   "execution_count": 147,
   "metadata": {},
   "outputs": [
    {
     "data": {
      "text/html": [
       "<div>\n",
       "<style scoped>\n",
       "    .dataframe tbody tr th:only-of-type {\n",
       "        vertical-align: middle;\n",
       "    }\n",
       "\n",
       "    .dataframe tbody tr th {\n",
       "        vertical-align: top;\n",
       "    }\n",
       "\n",
       "    .dataframe thead th {\n",
       "        text-align: right;\n",
       "    }\n",
       "</style>\n",
       "<table border=\"1\" class=\"dataframe\">\n",
       "  <thead>\n",
       "    <tr style=\"text-align: right;\">\n",
       "      <th></th>\n",
       "      <th>1</th>\n",
       "      <th>2</th>\n",
       "      <th>3</th>\n",
       "      <th>4</th>\n",
       "      <th>5</th>\n",
       "    </tr>\n",
       "  </thead>\n",
       "  <tbody>\n",
       "    <tr>\n",
       "      <td>1</td>\n",
       "      <td>1.000000</td>\n",
       "      <td>0.969458</td>\n",
       "      <td>0.056534</td>\n",
       "      <td>0.001156</td>\n",
       "      <td>0.007435</td>\n",
       "    </tr>\n",
       "    <tr>\n",
       "      <td>2</td>\n",
       "      <td>0.969458</td>\n",
       "      <td>1.000000</td>\n",
       "      <td>0.041506</td>\n",
       "      <td>0.000461</td>\n",
       "      <td>0.004021</td>\n",
       "    </tr>\n",
       "    <tr>\n",
       "      <td>3</td>\n",
       "      <td>0.056534</td>\n",
       "      <td>0.041506</td>\n",
       "      <td>1.000000</td>\n",
       "      <td>0.176272</td>\n",
       "      <td>0.145067</td>\n",
       "    </tr>\n",
       "    <tr>\n",
       "      <td>4</td>\n",
       "      <td>0.001156</td>\n",
       "      <td>0.000461</td>\n",
       "      <td>0.176272</td>\n",
       "      <td>1.000000</td>\n",
       "      <td>0.492242</td>\n",
       "    </tr>\n",
       "    <tr>\n",
       "      <td>5</td>\n",
       "      <td>0.007435</td>\n",
       "      <td>0.004021</td>\n",
       "      <td>0.145067</td>\n",
       "      <td>0.492242</td>\n",
       "      <td>1.000000</td>\n",
       "    </tr>\n",
       "  </tbody>\n",
       "</table>\n",
       "</div>"
      ],
      "text/plain": [
       "          1         2         3         4         5\n",
       "1  1.000000  0.969458  0.056534  0.001156  0.007435\n",
       "2  0.969458  1.000000  0.041506  0.000461  0.004021\n",
       "3  0.056534  0.041506  1.000000  0.176272  0.145067\n",
       "4  0.001156  0.000461  0.176272  1.000000  0.492242\n",
       "5  0.007435  0.004021  0.145067  0.492242  1.000000"
      ]
     },
     "execution_count": 147,
     "metadata": {},
     "output_type": "execute_result"
    }
   ],
   "source": [
    "pd.DataFrame(row)"
   ]
  },
  {
   "cell_type": "code",
   "execution_count": 153,
   "metadata": {},
   "outputs": [
    {
     "data": {
      "text/html": [
       "<div>\n",
       "<style scoped>\n",
       "    .dataframe tbody tr th:only-of-type {\n",
       "        vertical-align: middle;\n",
       "    }\n",
       "\n",
       "    .dataframe tbody tr th {\n",
       "        vertical-align: top;\n",
       "    }\n",
       "\n",
       "    .dataframe thead th {\n",
       "        text-align: right;\n",
       "    }\n",
       "</style>\n",
       "<table border=\"1\" class=\"dataframe\">\n",
       "  <thead>\n",
       "    <tr style=\"text-align: right;\">\n",
       "      <th></th>\n",
       "      <th>job_taxo</th>\n",
       "      <th>persona_id</th>\n",
       "      <th>experience</th>\n",
       "    </tr>\n",
       "    <tr>\n",
       "      <th>resp_id</th>\n",
       "      <th></th>\n",
       "      <th></th>\n",
       "      <th></th>\n",
       "    </tr>\n",
       "  </thead>\n",
       "  <tbody>\n",
       "    <tr>\n",
       "      <td>284</td>\n",
       "      <td>4</td>\n",
       "      <td>2.0</td>\n",
       "      <td>5.0</td>\n",
       "    </tr>\n",
       "    <tr>\n",
       "      <td>288</td>\n",
       "      <td>4</td>\n",
       "      <td>2.0</td>\n",
       "      <td>5.0</td>\n",
       "    </tr>\n",
       "    <tr>\n",
       "      <td>294</td>\n",
       "      <td>4</td>\n",
       "      <td>2.0</td>\n",
       "      <td>4.0</td>\n",
       "    </tr>\n",
       "    <tr>\n",
       "      <td>281</td>\n",
       "      <td>4</td>\n",
       "      <td>2.0</td>\n",
       "      <td>1.0</td>\n",
       "    </tr>\n",
       "    <tr>\n",
       "      <td>280</td>\n",
       "      <td>4</td>\n",
       "      <td>2.0</td>\n",
       "      <td>4.0</td>\n",
       "    </tr>\n",
       "    <tr>\n",
       "      <td>...</td>\n",
       "      <td>...</td>\n",
       "      <td>...</td>\n",
       "      <td>...</td>\n",
       "    </tr>\n",
       "    <tr>\n",
       "      <td>113</td>\n",
       "      <td>1</td>\n",
       "      <td>4.0</td>\n",
       "      <td>2.0</td>\n",
       "    </tr>\n",
       "    <tr>\n",
       "      <td>105</td>\n",
       "      <td>1</td>\n",
       "      <td>4.0</td>\n",
       "      <td>4.0</td>\n",
       "    </tr>\n",
       "    <tr>\n",
       "      <td>843</td>\n",
       "      <td>1</td>\n",
       "      <td>5.0</td>\n",
       "      <td>1.0</td>\n",
       "    </tr>\n",
       "    <tr>\n",
       "      <td>876</td>\n",
       "      <td>1</td>\n",
       "      <td>4.0</td>\n",
       "      <td>4.0</td>\n",
       "    </tr>\n",
       "    <tr>\n",
       "      <td>2</td>\n",
       "      <td>9</td>\n",
       "      <td>2.0</td>\n",
       "      <td>3.0</td>\n",
       "    </tr>\n",
       "  </tbody>\n",
       "</table>\n",
       "<p>807 rows × 3 columns</p>\n",
       "</div>"
      ],
      "text/plain": [
       "         job_taxo  persona_id  experience\n",
       "resp_id                                  \n",
       "284             4         2.0         5.0\n",
       "288             4         2.0         5.0\n",
       "294             4         2.0         4.0\n",
       "281             4         2.0         1.0\n",
       "280             4         2.0         4.0\n",
       "...           ...         ...         ...\n",
       "113             1         4.0         2.0\n",
       "105             1         4.0         4.0\n",
       "843             1         5.0         1.0\n",
       "876             1         4.0         4.0\n",
       "2               9         2.0         3.0\n",
       "\n",
       "[807 rows x 3 columns]"
      ]
     },
     "execution_count": 153,
     "metadata": {},
     "output_type": "execute_result"
    }
   ],
   "source": [
    "df[['job_taxo', 'persona_id', ]].join(pd.DataFrame(df[['exp_conduct_res', 'exp_analyze_res',\n",
    "       'exp_buy_res_report', 'exp_manage_res_proj', 'exp_observe_res',\n",
    "       'exp_plan_res', 'exp_teach_res', 'exp_advocate_res',\n",
    "       'exp_hire_res_vendor', 'exp_lead_res_team']].apply(max, axis = 1), columns = ['experience']),)"
   ]
  },
  {
   "cell_type": "code",
   "execution_count": 154,
   "metadata": {},
   "outputs": [
    {
     "data": {
      "text/plain": [
       "Index(['job_title', 'job_taxo', 'job_id', 'job_conduct_res', 'job_analyze_res',\n",
       "       'job_buy_res_report', 'job_manage_res_proj', 'job_observe_res',\n",
       "       'job_plan_res', 'job_teach_res', 'job_advocate_res',\n",
       "       'job_hire_res_vendor', 'job_lead_res_team', 'num_employees',\n",
       "       'num_researchers', 'exp_conduct_res', 'exp_analyze_res',\n",
       "       'exp_buy_res_report', 'exp_manage_res_proj', 'exp_observe_res',\n",
       "       'exp_plan_res', 'exp_teach_res', 'exp_advocate_res',\n",
       "       'exp_hire_res_vendor', 'exp_lead_res_team', 'learning_talks',\n",
       "       'learning_read', 'learning_meetup', 'learning_workshop',\n",
       "       'learning_conference', 'likely_watch_video', 'likely_internet',\n",
       "       'likely_book', 'likely_online_group', 'likely_colleague',\n",
       "       'likely_meetup', 'likely_conference', 'likely_workshop',\n",
       "       'factor_speaker', 'factor_diverse_speak', 'factor_topics',\n",
       "       'factor_format_sessions', 'factor_size', 'factor_variety_attend',\n",
       "       'factor_code', 'factor_location', 'factor_ability_to_pay',\n",
       "       'factor_network', 'session_keynote', 'session_long_talk',\n",
       "       'session_short_talk', 'session_workshop', 'session_network',\n",
       "       'session_social_event', 'session_qa', 'sesson_topic_tables',\n",
       "       'other_conference_types', 'primary_industry', 'types_res_used',\n",
       "       'future_res', 'research_educ_desc', 'how_pick_events', 'best_event',\n",
       "       'events_attend_recent', 'ideal_conference_size',\n",
       "       'ideal_conference_size_cat_orig', 'ideal_structure', 'ideal_topics',\n",
       "       'ideal_attendees', 'recommendations', 'research_educ', 'persona_id',\n",
       "       'target'],\n",
       "      dtype='object')"
      ]
     },
     "execution_count": 154,
     "metadata": {},
     "output_type": "execute_result"
    }
   ],
   "source": [
    "df.columns\n"
   ]
  },
  {
   "cell_type": "code",
   "execution_count": 155,
   "metadata": {},
   "outputs": [
    {
     "data": {
      "text/plain": [
       "resp_id\n",
       "284    3.0\n",
       "288    4.0\n",
       "294    3.0\n",
       "281    1.0\n",
       "280    3.0\n",
       "      ... \n",
       "113    2.0\n",
       "105    3.0\n",
       "843    NaN\n",
       "876    1.0\n",
       "2      1.0\n",
       "Name: factor_size, Length: 807, dtype: float64"
      ]
     },
     "execution_count": 155,
     "metadata": {},
     "output_type": "execute_result"
    }
   ],
   "source": [
    "df.factor_size"
   ]
  },
  {
   "cell_type": "code",
   "execution_count": null,
   "metadata": {},
   "outputs": [],
   "source": []
  }
 ],
 "metadata": {
  "kernelspec": {
   "display_name": "Python 3",
   "language": "python",
   "name": "python3"
  },
  "language_info": {
   "codemirror_mode": {
    "name": "ipython",
    "version": 3
   },
   "file_extension": ".py",
   "mimetype": "text/x-python",
   "name": "python",
   "nbconvert_exporter": "python",
   "pygments_lexer": "ipython3",
   "version": "3.7.4"
  }
 },
 "nbformat": 4,
 "nbformat_minor": 2
}

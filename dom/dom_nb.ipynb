{
 "cells": [
  {
   "cell_type": "markdown",
   "metadata": {},
   "source": [
    "# Dom's Notebook"
   ]
  },
  {
   "cell_type": "markdown",
   "metadata": {},
   "source": [
    "hypothesis:\n",
    "\n",
    "(01/09/20)\n",
    "- Taxo ID [7,8] fall into Exec and consult\n",
    "- taxo ID [3,4,5,9] fall into specialists\n",
    "- Taxo ID [1,2,6] are further divided by experience level"
   ]
  },
  {
   "cell_type": "code",
   "execution_count": 2,
   "metadata": {},
   "outputs": [],
   "source": [
    "import pandas as pd"
   ]
  },
  {
   "cell_type": "code",
   "execution_count": 3,
   "metadata": {},
   "outputs": [],
   "source": [
    "data = pd.read_excel('../resources/researching_researchers_data_1_4_20.xlsx')"
   ]
  },
  {
   "cell_type": "code",
   "execution_count": 17,
   "metadata": {},
   "outputs": [
    {
     "data": {
      "text/plain": [
       "['Entry Id',\n",
       " 'Title',\n",
       " 'Job Taxo ID',\n",
       " 'Job ID',\n",
       " 'Conducting Research',\n",
       " 'Analyzing Research',\n",
       " 'Buying Research Reports',\n",
       " 'Managing Research Projects',\n",
       " 'Observing Research',\n",
       " 'Planning Research',\n",
       " 'Teaching Research',\n",
       " 'Advocating for Research',\n",
       " 'Hiring Research Vendors',\n",
       " 'Leading a Research Team or Organization',\n",
       " 'How many people does your company or organization employ?',\n",
       " 'How many people in your company or organization have research as part of their role?',\n",
       " 'Conducting Research.1',\n",
       " 'Analyzing Research.1',\n",
       " 'Buying Research Reports.1',\n",
       " 'Managing Research Projects.1',\n",
       " 'Observing Research.1',\n",
       " 'Planning Research.1',\n",
       " 'Teaching Research.1',\n",
       " 'Advocating for Research.1',\n",
       " 'Hiring Research Vendors.1',\n",
       " 'Leading a Research Team or Organization.1',\n",
       " 'Watch videos of talks',\n",
       " 'Read blogs and/or books',\n",
       " 'Attend a local meetup or talk',\n",
       " 'Attend a longer form workshop',\n",
       " 'Attend a conference',\n",
       " 'Watch a video of a talk',\n",
       " 'Read a blog post or Medium article',\n",
       " 'Read a book',\n",
       " 'Ask in a LinkedIn group, Slack channel, or mailing list',\n",
       " 'Ask a colleague or manager or mentor',\n",
       " 'Attend a local meetup or talk.1',\n",
       " 'Attend a conference.1',\n",
       " 'Attend a longer form workshop.1',\n",
       " \"Speakers you've heard of\",\n",
       " \"Diversity of speakers' backgrounds and perspectives\",\n",
       " 'Topics covered',\n",
       " 'Format of sessions',\n",
       " 'Networking opportunities',\n",
       " 'Variety of attendees to network with',\n",
       " 'Code of conduct in place',\n",
       " 'Conference location',\n",
       " \"Your (or your employer's) ability to pay\",\n",
       " 'Number of attendees/degree of intimacy',\n",
       " 'Keynotes from leaders in research',\n",
       " 'Full length talks (30-60 minutes)',\n",
       " 'Short or Lightning talks (< 30 minutes)',\n",
       " 'Workshops',\n",
       " 'Networking events',\n",
       " 'Social events (e.g., parties, karaoke, game night)',\n",
       " 'Q&A/AMA (ask me anything) sessions',\n",
       " 'Discussion circles/topic tables',\n",
       " \"Did we miss any other types of conference sessions that you'd like to mention?\",\n",
       " \"What is your company or organization's primary industry (e.g., fintech, healthcare)?\",\n",
       " 'What types of research do you (or your  team) currently use to make decisions?',\n",
       " 'What types of research are you (or your  team) considering using in the future?',\n",
       " 'Describe your educational background with research (e.g., you took classes, participated in running studies, majored in a research-related area).',\n",
       " 'How do you decide which events to attend? (If travel is a consideration, how so?)',\n",
       " \"What was the best professional learning event experience you've ever had? What made it great?\",\n",
       " 'What (if any) events have you attended on the subject of research in the past few years?',\n",
       " 'What would be the ideal audience size for a conference about research that *you* would want to attend?',\n",
       " 'Ideal Audience Size (Standardized)',\n",
       " 'What would be the ideal structure for a conference about research that *you* would want to attend?',\n",
       " 'If attending a conference about research, what subjects would *you* most want to see covered?',\n",
       " 'If attending a conference about research, who might you be excited to see there (e.g., types of people, specific individuals, organizations)?',\n",
       " 'Let’s say (hypothetically of course) that Rosenfeld Media was exploring the idea of a conference about research. What advice would you give us?',\n",
       " 'Did any part of your education include learning about how to conduct research?',\n",
       " 'What is your current job title?']"
      ]
     },
     "execution_count": 17,
     "metadata": {},
     "output_type": "execute_result"
    }
   ],
   "source": [
    "data.columns.to_list()"
   ]
  },
  {
   "cell_type": "code",
   "execution_count": 14,
   "metadata": {},
   "outputs": [],
   "source": [
    "design_exec_cons_titles = ['consulatant', 'Executive']\n",
    "specialist_titles = data.Title.value_counts()[data.Title.value_counts() <= 5].index.tolist()"
   ]
  },
  {
   "cell_type": "code",
   "execution_count": 36,
   "metadata": {},
   "outputs": [
    {
     "data": {
      "text/plain": [
       "Series([], dtype: float64)"
      ]
     },
     "execution_count": 36,
     "metadata": {},
     "output_type": "execute_result"
    }
   ],
   "source": [
    "def encode_years(x):\n",
    "    if '0-1' in str(x):\n",
    "        return 1\n",
    "    elif '1-3' in str(x):\n",
    "        return 2\n",
    "    elif '3-5' in str(x):\n",
    "        return 3\n",
    "    elif '5-7' in str(x):\n",
    "        return 4\n",
    "    elif '7-10' in str(x):\n",
    "        return 5\n",
    "    elif '10+' in str(x):\n",
    "        return 6\n",
    "    else: \n",
    "        return x\n",
    "research_columns =  ['Conducting Research.1',\n",
    "                     'Analyzing Research.1',\n",
    "                     'Buying Research Reports.1',\n",
    "                     'Managing Research Projects.1',\n",
    "                     'Observing Research.1',\n",
    "                     'Planning Research.1',\n",
    "                     'Teaching Research.1',\n",
    "                     'Advocating for Research.1',\n",
    "                     'Hiring Research Vendors.1',\n",
    "                     'Leading a Research Team or Organization.1']\n",
    "data[research_columns].max()"
   ]
  },
  {
   "cell_type": "code",
   "execution_count": 16,
   "metadata": {},
   "outputs": [],
   "source": [
    "def label_data():\n",
    "    if x.strip() in design_exec_cons_titles:\n",
    "        return 1\n",
    "    if x.strip() in specialist_titles:\n",
    "        return 2\n",
    "    "
   ]
  },
  {
   "cell_type": "code",
   "execution_count": 11,
   "metadata": {},
   "outputs": [
    {
     "data": {
      "text/plain": [
       "['Student',\n",
       " 'Analyst',\n",
       " 'Operations',\n",
       " 'Intern',\n",
       " 'Content Strategist',\n",
       " 'Market Researcher',\n",
       " 'Anthropologist',\n",
       " 'Writer',\n",
       " 'Ethnographer',\n",
       " 'Author',\n",
       " 'Behavioral economist',\n",
       " 'Research Scientist']"
      ]
     },
     "execution_count": 11,
     "metadata": {},
     "output_type": "execute_result"
    }
   ],
   "source": [
    "data.Title.value_counts()[data.Title.value_counts() <= 5].index.tolist()"
   ]
  },
  {
   "cell_type": "code",
   "execution_count": 39,
   "metadata": {},
   "outputs": [
    {
     "data": {
      "text/plain": [
       "UX Researcher              202\n",
       "Senior UX Researcher        97\n",
       "UX Designer                 87\n",
       "Research Manager            70\n",
       "Design Manager              65\n",
       "Consultant                  62\n",
       "Executive                   50\n",
       "Principal UX Researcher     44\n",
       "Principal UX Designer       28\n",
       "Senior UX Designer          25\n",
       "Strategist                  25\n",
       "Academic                    23\n",
       "Engineer                    14\n",
       "Information Architect       11\n",
       "Product Manager             10\n",
       "Service Designer            10\n",
       "Researcher                   9\n",
       "Student                      5\n",
       "Analyst                      5\n",
       "Operations                   5\n",
       "Intern                       5\n",
       "Content Strategist           4\n",
       "Market Researcher            4\n",
       "Anthropologist               3\n",
       "Writer                       1\n",
       "Ethnographer                 1\n",
       "Author                       1\n",
       "Behavioral economist         1\n",
       "Research Scientist           1\n",
       "Name: Title, dtype: int64"
      ]
     },
     "execution_count": 39,
     "metadata": {},
     "output_type": "execute_result"
    }
   ],
   "source": [
    "data.Title.value_counts()"
   ]
  },
  {
   "cell_type": "code",
   "execution_count": null,
   "metadata": {},
   "outputs": [],
   "source": [
    "experience = max data[['Conducting Research']]"
   ]
  },
  {
   "cell_type": "code",
   "execution_count": 38,
   "metadata": {},
   "outputs": [
    {
     "data": {
      "text/plain": [
       "6.0    270\n",
       "3.0    142\n",
       "5.0    141\n",
       "4.0    127\n",
       "2.0    118\n",
       "1.0     26\n",
       "Name: Conducting Research.1, dtype: int64"
      ]
     },
     "execution_count": 38,
     "metadata": {},
     "output_type": "execute_result"
    }
   ],
   "source": [
    "data['Conducting Research.1'].apply(encode_years).value_counts()"
   ]
  },
  {
   "cell_type": "code",
   "execution_count": 32,
   "metadata": {},
   "outputs": [
    {
     "data": {
      "text/plain": [
       "True"
      ]
     },
     "execution_count": 32,
     "metadata": {},
     "output_type": "execute_result"
    }
   ],
   "source": [
    "'10+' in data['Conducting Research.1'][0]"
   ]
  },
  {
   "cell_type": "code",
   "execution_count": 43,
   "metadata": {},
   "outputs": [
    {
     "data": {
      "text/plain": [
       "Job Taxo ID  Title                  \n",
       "1            Principal UX Researcher     44\n",
       "             Senior UX Researcher        97\n",
       "             UX Researcher              202\n",
       "2            Principal UX Designer       28\n",
       "             Senior UX Designer          25\n",
       "             UX Designer                 87\n",
       "3            Analyst                      5\n",
       "             Anthropologist               3\n",
       "             Behavioral economist         1\n",
       "             Ethnographer                 1\n",
       "             Market Researcher            4\n",
       "             Research Scientist           1\n",
       "             Researcher                   9\n",
       "4            Academic                    23\n",
       "             Student                      5\n",
       "5            Content Strategist           4\n",
       "             Engineer                    14\n",
       "             Information Architect       11\n",
       "             Product Manager             10\n",
       "             Service Designer            10\n",
       "             Strategist                  25\n",
       "6            Design Manager              65\n",
       "             Research Manager            70\n",
       "7            Consultant                  62\n",
       "8            Executive                   50\n",
       "9            Author                       1\n",
       "             Intern                       5\n",
       "             Operations                   5\n",
       "             Writer                       1\n",
       "Name: Title, dtype: int64"
      ]
     },
     "execution_count": 43,
     "metadata": {},
     "output_type": "execute_result"
    }
   ],
   "source": [
    "data.groupby(['Job Taxo ID', 'Title']).Title.count()"
   ]
  },
  {
   "cell_type": "code",
   "execution_count": 44,
   "metadata": {},
   "outputs": [
    {
     "data": {
      "text/plain": [
       "1    343\n",
       "2    140\n",
       "6    135\n",
       "5     74\n",
       "7     62\n",
       "8     50\n",
       "4     28\n",
       "3     24\n",
       "9     12\n",
       "Name: Job Taxo ID, dtype: int64"
      ]
     },
     "execution_count": 44,
     "metadata": {},
     "output_type": "execute_result"
    }
   ],
   "source": [
    "data['Job Taxo ID'].value_counts()"
   ]
  },
  {
   "cell_type": "code",
   "execution_count": null,
   "metadata": {},
   "outputs": [],
   "source": []
  },
  {
   "cell_type": "code",
   "execution_count": null,
   "metadata": {},
   "outputs": [],
   "source": []
  }
 ],
 "metadata": {
  "kernelspec": {
   "display_name": "Python 3",
   "language": "python",
   "name": "python3"
  },
  "language_info": {
   "codemirror_mode": {
    "name": "ipython",
    "version": 3
   },
   "file_extension": ".py",
   "mimetype": "text/x-python",
   "name": "python",
   "nbconvert_exporter": "python",
   "pygments_lexer": "ipython3",
   "version": "3.7.4"
  }
 },
 "nbformat": 4,
 "nbformat_minor": 2
}

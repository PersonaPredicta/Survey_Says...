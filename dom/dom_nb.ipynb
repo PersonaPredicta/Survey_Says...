{
 "cells": [
  {
   "cell_type": "markdown",
   "metadata": {},
   "source": [
    "# Dom's Notebook"
   ]
  },
  {
   "cell_type": "markdown",
   "metadata": {},
   "source": [
    "hypothesis:\n",
    "\n",
    "(01/09/20)\n",
    "- Taxo ID [7,8] fall into Exec and consult\n",
    "- taxo ID [3,4,5,9] fall into specialists\n",
    "- Taxo ID [1,2,6] are further divided by experience level\n",
    "        - we weren't satisfied on the results of this grouping"
   ]
  },
  {
   "cell_type": "code",
   "execution_count": 168,
   "metadata": {},
   "outputs": [],
   "source": [
    "import pandas as pd\n",
    "import numpy as np\n",
    "import matplotlib.pyplot as plt\n",
    "import seaborn as sns\n",
    "import sys\n",
    "sys.path.append('../')\n",
    "import wrangle\n",
    "from sklearn.linear_model import LinearRegression\n",
    "from sklearn.preprocessing import minmax_scale, OneHotEncoder\n",
    "from sklearn.model_selection import train_test_split\n",
    "from sklearn.svm import SVC\n",
    "from sklearn.tree import DecisionTreeClassifier, DecisionTreeRegressor\n",
    "from sklearn.metrics import classification_report, accuracy_score\n",
    "from scipy.stats import ttest_ind\n"
   ]
  },
  {
   "cell_type": "code",
   "execution_count": 62,
   "metadata": {},
   "outputs": [
    {
     "data": {
      "text/html": [
       "<div>\n",
       "<style scoped>\n",
       "    .dataframe tbody tr th:only-of-type {\n",
       "        vertical-align: middle;\n",
       "    }\n",
       "\n",
       "    .dataframe tbody tr th {\n",
       "        vertical-align: top;\n",
       "    }\n",
       "\n",
       "    .dataframe thead th {\n",
       "        text-align: right;\n",
       "    }\n",
       "</style>\n",
       "<table border=\"1\" class=\"dataframe\">\n",
       "  <thead>\n",
       "    <tr style=\"text-align: right;\">\n",
       "      <th></th>\n",
       "      <th>q00</th>\n",
       "      <th>q01a</th>\n",
       "      <th>q01b</th>\n",
       "      <th>q01c</th>\n",
       "      <th>q02a</th>\n",
       "      <th>q02b</th>\n",
       "      <th>q02c</th>\n",
       "      <th>q02d</th>\n",
       "      <th>q02e</th>\n",
       "      <th>q02f</th>\n",
       "      <th>...</th>\n",
       "      <th>q14</th>\n",
       "      <th>q15</th>\n",
       "      <th>q16</th>\n",
       "      <th>q17a</th>\n",
       "      <th>q17b</th>\n",
       "      <th>q18a</th>\n",
       "      <th>q21</th>\n",
       "      <th>q22</th>\n",
       "      <th>q23</th>\n",
       "      <th>q09a</th>\n",
       "    </tr>\n",
       "  </thead>\n",
       "  <tbody>\n",
       "    <tr>\n",
       "      <td>0</td>\n",
       "      <td>284</td>\n",
       "      <td>Academic</td>\n",
       "      <td>4</td>\n",
       "      <td>1.0</td>\n",
       "      <td>Often</td>\n",
       "      <td>Neutral</td>\n",
       "      <td>Never</td>\n",
       "      <td>Often</td>\n",
       "      <td>Often</td>\n",
       "      <td>Often</td>\n",
       "      <td>...</td>\n",
       "      <td>NaN</td>\n",
       "      <td>NaN</td>\n",
       "      <td>CHI, INTERACT</td>\n",
       "      <td>depending on the professional values</td>\n",
       "      <td>7.0</td>\n",
       "      <td>any, depending on the values</td>\n",
       "      <td>research-practice connections</td>\n",
       "      <td>NaN</td>\n",
       "      <td>research-practice connections</td>\n",
       "      <td>sort of, psychology background.</td>\n",
       "    </tr>\n",
       "    <tr>\n",
       "      <td>1</td>\n",
       "      <td>288</td>\n",
       "      <td>Academic</td>\n",
       "      <td>4</td>\n",
       "      <td>1.0</td>\n",
       "      <td>Occasionally</td>\n",
       "      <td>Neutral</td>\n",
       "      <td>Occasionally</td>\n",
       "      <td>Often</td>\n",
       "      <td>Often</td>\n",
       "      <td>Often</td>\n",
       "      <td>...</td>\n",
       "      <td>Content, cost, timing (can I get away at this ...</td>\n",
       "      <td>Dagstuhl workshop - small, intense, intimate g...</td>\n",
       "      <td>Hawaii international conference on Education</td>\n",
       "      <td>I would attend any of these</td>\n",
       "      <td>6.0</td>\n",
       "      <td>Multi-track: Every attendee chooses their own ...</td>\n",
       "      <td>NaN</td>\n",
       "      <td>NaN</td>\n",
       "      <td>Don’t create schedule conflicts with other rel...</td>\n",
       "      <td>Yes, I was taught how to conduct research</td>\n",
       "    </tr>\n",
       "  </tbody>\n",
       "</table>\n",
       "<p>2 rows × 72 columns</p>\n",
       "</div>"
      ],
      "text/plain": [
       "   q00      q01a  q01b  q01c          q02a     q02b          q02c   q02d  \\\n",
       "0  284  Academic     4   1.0         Often  Neutral         Never  Often   \n",
       "1  288  Academic     4   1.0  Occasionally  Neutral  Occasionally  Often   \n",
       "\n",
       "    q02e   q02f  ...                                                q14  \\\n",
       "0  Often  Often  ...                                                NaN   \n",
       "1  Often  Often  ...  Content, cost, timing (can I get away at this ...   \n",
       "\n",
       "                                                 q15  \\\n",
       "0                                                NaN   \n",
       "1  Dagstuhl workshop - small, intense, intimate g...   \n",
       "\n",
       "                                            q16  \\\n",
       "0                                 CHI, INTERACT   \n",
       "1  Hawaii international conference on Education   \n",
       "\n",
       "                                   q17a q17b  \\\n",
       "0  depending on the professional values  7.0   \n",
       "1           I would attend any of these  6.0   \n",
       "\n",
       "                                                q18a  \\\n",
       "0                       any, depending on the values   \n",
       "1  Multi-track: Every attendee chooses their own ...   \n",
       "\n",
       "                             q21  q22  \\\n",
       "0  research-practice connections  NaN   \n",
       "1                            NaN  NaN   \n",
       "\n",
       "                                                 q23  \\\n",
       "0                      research-practice connections   \n",
       "1  Don’t create schedule conflicts with other rel...   \n",
       "\n",
       "                                        q09a  \n",
       "0            sort of, psychology background.  \n",
       "1  Yes, I was taught how to conduct research  \n",
       "\n",
       "[2 rows x 72 columns]"
      ]
     },
     "execution_count": 62,
     "metadata": {},
     "output_type": "execute_result"
    }
   ],
   "source": [
    "data = pd.read_excel('/Users/dom/codeup_data_science/capstone/kev/survey_responses.xlsx', )\n",
    "data.head(2)"
   ]
  },
  {
   "cell_type": "code",
   "execution_count": 63,
   "metadata": {},
   "outputs": [
    {
     "data": {
      "text/html": [
       "<div>\n",
       "<style scoped>\n",
       "    .dataframe tbody tr th:only-of-type {\n",
       "        vertical-align: middle;\n",
       "    }\n",
       "\n",
       "    .dataframe tbody tr th {\n",
       "        vertical-align: top;\n",
       "    }\n",
       "\n",
       "    .dataframe thead th {\n",
       "        text-align: right;\n",
       "    }\n",
       "</style>\n",
       "<table border=\"1\" class=\"dataframe\">\n",
       "  <thead>\n",
       "    <tr style=\"text-align: right;\">\n",
       "      <th></th>\n",
       "      <th>qid</th>\n",
       "      <th>column_name</th>\n",
       "      <th>is_required</th>\n",
       "      <th>from_orig_file</th>\n",
       "      <th>in_wrangle</th>\n",
       "      <th>char_type</th>\n",
       "      <th>function</th>\n",
       "      <th>data_type</th>\n",
       "      <th>encoder</th>\n",
       "      <th>survey_section</th>\n",
       "      <th>question_group</th>\n",
       "      <th>question_text</th>\n",
       "    </tr>\n",
       "  </thead>\n",
       "  <tbody>\n",
       "    <tr>\n",
       "      <td>0</td>\n",
       "      <td>q00</td>\n",
       "      <td>resp_id</td>\n",
       "      <td>True</td>\n",
       "      <td>True</td>\n",
       "      <td>True</td>\n",
       "      <td>numeric</td>\n",
       "      <td>identification</td>\n",
       "      <td>int64</td>\n",
       "      <td>NaN</td>\n",
       "      <td>Survey</td>\n",
       "      <td>ID</td>\n",
       "      <td>Entry Id</td>\n",
       "    </tr>\n",
       "    <tr>\n",
       "      <td>1</td>\n",
       "      <td>q01a</td>\n",
       "      <td>job_title</td>\n",
       "      <td>True</td>\n",
       "      <td>True</td>\n",
       "      <td>True</td>\n",
       "      <td>text</td>\n",
       "      <td>categorical</td>\n",
       "      <td>category</td>\n",
       "      <td>NaN</td>\n",
       "      <td>Work</td>\n",
       "      <td>Position</td>\n",
       "      <td>Title</td>\n",
       "    </tr>\n",
       "    <tr>\n",
       "      <td>2</td>\n",
       "      <td>q01b</td>\n",
       "      <td>job_taxo</td>\n",
       "      <td>True</td>\n",
       "      <td>True</td>\n",
       "      <td>True</td>\n",
       "      <td>numeric</td>\n",
       "      <td>categorical</td>\n",
       "      <td>category</td>\n",
       "      <td>NaN</td>\n",
       "      <td>Work</td>\n",
       "      <td>Position</td>\n",
       "      <td>Job Taxo ID</td>\n",
       "    </tr>\n",
       "    <tr>\n",
       "      <td>3</td>\n",
       "      <td>q01c</td>\n",
       "      <td>job_id</td>\n",
       "      <td>False</td>\n",
       "      <td>True</td>\n",
       "      <td>True</td>\n",
       "      <td>numeric</td>\n",
       "      <td>categorical</td>\n",
       "      <td>category</td>\n",
       "      <td>NaN</td>\n",
       "      <td>Work</td>\n",
       "      <td>Position</td>\n",
       "      <td>Job ID</td>\n",
       "    </tr>\n",
       "    <tr>\n",
       "      <td>4</td>\n",
       "      <td>q02a</td>\n",
       "      <td>job_conduct_res</td>\n",
       "      <td>True</td>\n",
       "      <td>True</td>\n",
       "      <td>True</td>\n",
       "      <td>numeric</td>\n",
       "      <td>quantitative</td>\n",
       "      <td>int64</td>\n",
       "      <td>often5</td>\n",
       "      <td>Work</td>\n",
       "      <td>Research Duties</td>\n",
       "      <td>Conducting Research</td>\n",
       "    </tr>\n",
       "  </tbody>\n",
       "</table>\n",
       "</div>"
      ],
      "text/plain": [
       "    qid      column_name  is_required  from_orig_file  in_wrangle char_type  \\\n",
       "0   q00          resp_id         True            True        True   numeric   \n",
       "1  q01a        job_title         True            True        True      text   \n",
       "2  q01b         job_taxo         True            True        True   numeric   \n",
       "3  q01c           job_id        False            True        True   numeric   \n",
       "4  q02a  job_conduct_res         True            True        True   numeric   \n",
       "\n",
       "         function data_type encoder survey_section   question_group  \\\n",
       "0  identification     int64     NaN         Survey               ID   \n",
       "1     categorical  category     NaN           Work         Position   \n",
       "2     categorical  category     NaN           Work         Position   \n",
       "3     categorical  category     NaN           Work         Position   \n",
       "4    quantitative     int64  often5           Work  Research Duties   \n",
       "\n",
       "         question_text  \n",
       "0             Entry Id  \n",
       "1                Title  \n",
       "2          Job Taxo ID  \n",
       "3               Job ID  \n",
       "4  Conducting Research  "
      ]
     },
     "execution_count": 63,
     "metadata": {},
     "output_type": "execute_result"
    }
   ],
   "source": [
    "data_dictionary = pd.read_excel('../data_files/data_dictionary.xlsx')\n",
    "data_dictionary.head()"
   ]
  },
  {
   "cell_type": "code",
   "execution_count": null,
   "metadata": {
    "scrolled": true
   },
   "outputs": [],
   "source": []
  },
  {
   "cell_type": "code",
   "execution_count": 64,
   "metadata": {},
   "outputs": [
    {
     "data": {
      "text/html": [
       "<div>\n",
       "<style scoped>\n",
       "    .dataframe tbody tr th:only-of-type {\n",
       "        vertical-align: middle;\n",
       "    }\n",
       "\n",
       "    .dataframe tbody tr th {\n",
       "        vertical-align: top;\n",
       "    }\n",
       "\n",
       "    .dataframe thead th {\n",
       "        text-align: right;\n",
       "    }\n",
       "</style>\n",
       "<table border=\"1\" class=\"dataframe\">\n",
       "  <thead>\n",
       "    <tr style=\"text-align: right;\">\n",
       "      <th></th>\n",
       "      <th>resp_id</th>\n",
       "      <th>job_title</th>\n",
       "      <th>job_taxo</th>\n",
       "      <th>job_id</th>\n",
       "      <th>job_conduct_res</th>\n",
       "      <th>job_analyze_res</th>\n",
       "      <th>job_buy_res_report</th>\n",
       "      <th>job_manage_res_proj</th>\n",
       "      <th>job_observe_res</th>\n",
       "      <th>job_plan_res</th>\n",
       "      <th>...</th>\n",
       "      <th>how_pick_events</th>\n",
       "      <th>best_event</th>\n",
       "      <th>events_attend_recent</th>\n",
       "      <th>ideal_conference_size</th>\n",
       "      <th>ideal_conference_size_cat_orig</th>\n",
       "      <th>ideal_structure</th>\n",
       "      <th>ideal_topics</th>\n",
       "      <th>ideal_attendees</th>\n",
       "      <th>recommendations</th>\n",
       "      <th>research_educ</th>\n",
       "    </tr>\n",
       "  </thead>\n",
       "  <tbody>\n",
       "    <tr>\n",
       "      <td>0</td>\n",
       "      <td>284</td>\n",
       "      <td>Academic</td>\n",
       "      <td>4</td>\n",
       "      <td>1.0</td>\n",
       "      <td>Often</td>\n",
       "      <td>Neutral</td>\n",
       "      <td>Never</td>\n",
       "      <td>Often</td>\n",
       "      <td>Often</td>\n",
       "      <td>Often</td>\n",
       "      <td>...</td>\n",
       "      <td>NaN</td>\n",
       "      <td>NaN</td>\n",
       "      <td>CHI, INTERACT</td>\n",
       "      <td>depending on the professional values</td>\n",
       "      <td>7.0</td>\n",
       "      <td>any, depending on the values</td>\n",
       "      <td>research-practice connections</td>\n",
       "      <td>NaN</td>\n",
       "      <td>research-practice connections</td>\n",
       "      <td>sort of, psychology background.</td>\n",
       "    </tr>\n",
       "    <tr>\n",
       "      <td>1</td>\n",
       "      <td>288</td>\n",
       "      <td>Academic</td>\n",
       "      <td>4</td>\n",
       "      <td>1.0</td>\n",
       "      <td>Occasionally</td>\n",
       "      <td>Neutral</td>\n",
       "      <td>Occasionally</td>\n",
       "      <td>Often</td>\n",
       "      <td>Often</td>\n",
       "      <td>Often</td>\n",
       "      <td>...</td>\n",
       "      <td>Content, cost, timing (can I get away at this ...</td>\n",
       "      <td>Dagstuhl workshop - small, intense, intimate g...</td>\n",
       "      <td>Hawaii international conference on Education</td>\n",
       "      <td>I would attend any of these</td>\n",
       "      <td>6.0</td>\n",
       "      <td>Multi-track: Every attendee chooses their own ...</td>\n",
       "      <td>NaN</td>\n",
       "      <td>NaN</td>\n",
       "      <td>Don’t create schedule conflicts with other rel...</td>\n",
       "      <td>Yes, I was taught how to conduct research</td>\n",
       "    </tr>\n",
       "  </tbody>\n",
       "</table>\n",
       "<p>2 rows × 72 columns</p>\n",
       "</div>"
      ],
      "text/plain": [
       "   resp_id job_title  job_taxo  job_id job_conduct_res job_analyze_res  \\\n",
       "0      284  Academic         4     1.0           Often         Neutral   \n",
       "1      288  Academic         4     1.0    Occasionally         Neutral   \n",
       "\n",
       "  job_buy_res_report job_manage_res_proj job_observe_res job_plan_res  ...  \\\n",
       "0              Never               Often           Often        Often  ...   \n",
       "1       Occasionally               Often           Often        Often  ...   \n",
       "\n",
       "                                     how_pick_events  \\\n",
       "0                                                NaN   \n",
       "1  Content, cost, timing (can I get away at this ...   \n",
       "\n",
       "                                          best_event  \\\n",
       "0                                                NaN   \n",
       "1  Dagstuhl workshop - small, intense, intimate g...   \n",
       "\n",
       "                           events_attend_recent  \\\n",
       "0                                 CHI, INTERACT   \n",
       "1  Hawaii international conference on Education   \n",
       "\n",
       "                  ideal_conference_size ideal_conference_size_cat_orig  \\\n",
       "0  depending on the professional values                            7.0   \n",
       "1           I would attend any of these                            6.0   \n",
       "\n",
       "                                     ideal_structure  \\\n",
       "0                       any, depending on the values   \n",
       "1  Multi-track: Every attendee chooses their own ...   \n",
       "\n",
       "                    ideal_topics ideal_attendees  \\\n",
       "0  research-practice connections             NaN   \n",
       "1                            NaN             NaN   \n",
       "\n",
       "                                     recommendations  \\\n",
       "0                      research-practice connections   \n",
       "1  Don’t create schedule conflicts with other rel...   \n",
       "\n",
       "                               research_educ  \n",
       "0            sort of, psychology background.  \n",
       "1  Yes, I was taught how to conduct research  \n",
       "\n",
       "[2 rows x 72 columns]"
      ]
     },
     "execution_count": 64,
     "metadata": {},
     "output_type": "execute_result"
    }
   ],
   "source": [
    "data.rename(columns = data_dictionary[['qid','column_name']].set_index('qid').column_name, inplace=True)\n",
    "data.head(2)"
   ]
  },
  {
   "cell_type": "code",
   "execution_count": 65,
   "metadata": {},
   "outputs": [
    {
     "data": {
      "text/html": [
       "<div>\n",
       "<style scoped>\n",
       "    .dataframe tbody tr th:only-of-type {\n",
       "        vertical-align: middle;\n",
       "    }\n",
       "\n",
       "    .dataframe tbody tr th {\n",
       "        vertical-align: top;\n",
       "    }\n",
       "\n",
       "    .dataframe thead th {\n",
       "        text-align: right;\n",
       "    }\n",
       "</style>\n",
       "<table border=\"1\" class=\"dataframe\">\n",
       "  <thead>\n",
       "    <tr style=\"text-align: right;\">\n",
       "      <th></th>\n",
       "      <th>job_title</th>\n",
       "      <th>job_taxo</th>\n",
       "      <th>job_id</th>\n",
       "      <th>job_conduct_res</th>\n",
       "      <th>job_analyze_res</th>\n",
       "      <th>job_buy_res_report</th>\n",
       "      <th>job_manage_res_proj</th>\n",
       "      <th>job_observe_res</th>\n",
       "      <th>job_plan_res</th>\n",
       "      <th>job_teach_res</th>\n",
       "      <th>...</th>\n",
       "      <th>session_workshop</th>\n",
       "      <th>session_network</th>\n",
       "      <th>session_social_event</th>\n",
       "      <th>session_qa</th>\n",
       "      <th>sesson_topic_tables</th>\n",
       "      <th>other_conference_types</th>\n",
       "      <th>ideal_topics</th>\n",
       "      <th>ideal_attendees</th>\n",
       "      <th>recommendations</th>\n",
       "      <th>persona_id</th>\n",
       "    </tr>\n",
       "    <tr>\n",
       "      <th>resp_id</th>\n",
       "      <th></th>\n",
       "      <th></th>\n",
       "      <th></th>\n",
       "      <th></th>\n",
       "      <th></th>\n",
       "      <th></th>\n",
       "      <th></th>\n",
       "      <th></th>\n",
       "      <th></th>\n",
       "      <th></th>\n",
       "      <th></th>\n",
       "      <th></th>\n",
       "      <th></th>\n",
       "      <th></th>\n",
       "      <th></th>\n",
       "      <th></th>\n",
       "      <th></th>\n",
       "      <th></th>\n",
       "      <th></th>\n",
       "      <th></th>\n",
       "      <th></th>\n",
       "    </tr>\n",
       "  </thead>\n",
       "  <tbody>\n",
       "    <tr>\n",
       "      <td>284</td>\n",
       "      <td>Academic</td>\n",
       "      <td>4</td>\n",
       "      <td>1.0</td>\n",
       "      <td>3</td>\n",
       "      <td>2</td>\n",
       "      <td>0</td>\n",
       "      <td>3</td>\n",
       "      <td>3</td>\n",
       "      <td>3</td>\n",
       "      <td>3</td>\n",
       "      <td>...</td>\n",
       "      <td>2</td>\n",
       "      <td>3</td>\n",
       "      <td>2</td>\n",
       "      <td>2</td>\n",
       "      <td>2</td>\n",
       "      <td>NaN</td>\n",
       "      <td>research-practice connections</td>\n",
       "      <td>NaN</td>\n",
       "      <td>research-practice connections</td>\n",
       "      <td>2</td>\n",
       "    </tr>\n",
       "    <tr>\n",
       "      <td>288</td>\n",
       "      <td>Academic</td>\n",
       "      <td>4</td>\n",
       "      <td>1.0</td>\n",
       "      <td>1</td>\n",
       "      <td>2</td>\n",
       "      <td>1</td>\n",
       "      <td>3</td>\n",
       "      <td>3</td>\n",
       "      <td>3</td>\n",
       "      <td>3</td>\n",
       "      <td>...</td>\n",
       "      <td>3</td>\n",
       "      <td>3</td>\n",
       "      <td>1</td>\n",
       "      <td>1</td>\n",
       "      <td>2</td>\n",
       "      <td>NaN</td>\n",
       "      <td>NaN</td>\n",
       "      <td>NaN</td>\n",
       "      <td>Don’t create schedule conflicts with other rel...</td>\n",
       "      <td>2</td>\n",
       "    </tr>\n",
       "    <tr>\n",
       "      <td>294</td>\n",
       "      <td>Academic</td>\n",
       "      <td>4</td>\n",
       "      <td>1.0</td>\n",
       "      <td>3</td>\n",
       "      <td>3</td>\n",
       "      <td>1</td>\n",
       "      <td>3</td>\n",
       "      <td>1</td>\n",
       "      <td>3</td>\n",
       "      <td>3</td>\n",
       "      <td>...</td>\n",
       "      <td>2</td>\n",
       "      <td>2</td>\n",
       "      <td>2</td>\n",
       "      <td>2</td>\n",
       "      <td>2</td>\n",
       "      <td>NaN</td>\n",
       "      <td>NaN</td>\n",
       "      <td>NaN</td>\n",
       "      <td>Looking forward! \\n</td>\n",
       "      <td>2</td>\n",
       "    </tr>\n",
       "    <tr>\n",
       "      <td>281</td>\n",
       "      <td>Academic</td>\n",
       "      <td>4</td>\n",
       "      <td>1.0</td>\n",
       "      <td>3</td>\n",
       "      <td>4</td>\n",
       "      <td>0</td>\n",
       "      <td>2</td>\n",
       "      <td>3</td>\n",
       "      <td>2</td>\n",
       "      <td>0</td>\n",
       "      <td>...</td>\n",
       "      <td>3</td>\n",
       "      <td>2</td>\n",
       "      <td>2</td>\n",
       "      <td>3</td>\n",
       "      <td>2</td>\n",
       "      <td>NaN</td>\n",
       "      <td>Research design, innovative methods, communica...</td>\n",
       "      <td>NaN</td>\n",
       "      <td>NaN</td>\n",
       "      <td>2</td>\n",
       "    </tr>\n",
       "    <tr>\n",
       "      <td>280</td>\n",
       "      <td>Academic</td>\n",
       "      <td>4</td>\n",
       "      <td>1.0</td>\n",
       "      <td>3</td>\n",
       "      <td>3</td>\n",
       "      <td>0</td>\n",
       "      <td>1</td>\n",
       "      <td>1</td>\n",
       "      <td>3</td>\n",
       "      <td>2</td>\n",
       "      <td>...</td>\n",
       "      <td>3</td>\n",
       "      <td>2</td>\n",
       "      <td>1</td>\n",
       "      <td>2</td>\n",
       "      <td>2</td>\n",
       "      <td>You should consider the combination of confere...</td>\n",
       "      <td>NaN</td>\n",
       "      <td>NaN</td>\n",
       "      <td>NaN</td>\n",
       "      <td>2</td>\n",
       "    </tr>\n",
       "  </tbody>\n",
       "</table>\n",
       "<p>5 rows × 78 columns</p>\n",
       "</div>"
      ],
      "text/plain": [
       "        job_title job_taxo job_id  job_conduct_res  job_analyze_res  \\\n",
       "resp_id                                                               \n",
       "284      Academic        4    1.0                3                2   \n",
       "288      Academic        4    1.0                1                2   \n",
       "294      Academic        4    1.0                3                3   \n",
       "281      Academic        4    1.0                3                4   \n",
       "280      Academic        4    1.0                3                3   \n",
       "\n",
       "         job_buy_res_report  job_manage_res_proj  job_observe_res  \\\n",
       "resp_id                                                             \n",
       "284                       0                    3                3   \n",
       "288                       1                    3                3   \n",
       "294                       1                    3                1   \n",
       "281                       0                    2                3   \n",
       "280                       0                    1                1   \n",
       "\n",
       "         job_plan_res  job_teach_res  ...  session_workshop  session_network  \\\n",
       "resp_id                               ...                                      \n",
       "284                 3              3  ...                 2                3   \n",
       "288                 3              3  ...                 3                3   \n",
       "294                 3              3  ...                 2                2   \n",
       "281                 2              0  ...                 3                2   \n",
       "280                 3              2  ...                 3                2   \n",
       "\n",
       "         session_social_event session_qa sesson_topic_tables  \\\n",
       "resp_id                                                        \n",
       "284                         2          2                   2   \n",
       "288                         1          1                   2   \n",
       "294                         2          2                   2   \n",
       "281                         2          3                   2   \n",
       "280                         1          2                   2   \n",
       "\n",
       "                                    other_conference_types  \\\n",
       "resp_id                                                      \n",
       "284                                                    NaN   \n",
       "288                                                    NaN   \n",
       "294                                                    NaN   \n",
       "281                                                    NaN   \n",
       "280      You should consider the combination of confere...   \n",
       "\n",
       "                                              ideal_topics ideal_attendees  \\\n",
       "resp_id                                                                      \n",
       "284                          research-practice connections             NaN   \n",
       "288                                                    NaN             NaN   \n",
       "294                                                    NaN             NaN   \n",
       "281      Research design, innovative methods, communica...             NaN   \n",
       "280                                                    NaN             NaN   \n",
       "\n",
       "                                           recommendations  persona_id  \n",
       "resp_id                                                                 \n",
       "284                          research-practice connections           2  \n",
       "288      Don’t create schedule conflicts with other rel...           2  \n",
       "294                                    Looking forward! \\n           2  \n",
       "281                                                    NaN           2  \n",
       "280                                                    NaN           2  \n",
       "\n",
       "[5 rows x 78 columns]"
      ]
     },
     "execution_count": 65,
     "metadata": {},
     "output_type": "execute_result"
    }
   ],
   "source": [
    "df,_ = wrangle.wrangle_data()\n",
    "df.head()"
   ]
  },
  {
   "cell_type": "markdown",
   "metadata": {},
   "source": [
    "- Checking freds nlp functions"
   ]
  },
  {
   "cell_type": "code",
   "execution_count": 66,
   "metadata": {},
   "outputs": [],
   "source": [
    "# sys.path.append('../fred')\n",
    "# import nlp"
   ]
  },
  {
   "cell_type": "code",
   "execution_count": 67,
   "metadata": {},
   "outputs": [],
   "source": [
    "# mat, vect = nlp.create_tfidf_matrix(df.best_event)"
   ]
  },
  {
   "cell_type": "markdown",
   "metadata": {},
   "source": [
    "#### Exploration"
   ]
  },
  {
   "cell_type": "code",
   "execution_count": 68,
   "metadata": {},
   "outputs": [
    {
     "data": {
      "text/html": [
       "<div>\n",
       "<style scoped>\n",
       "    .dataframe tbody tr th:only-of-type {\n",
       "        vertical-align: middle;\n",
       "    }\n",
       "\n",
       "    .dataframe tbody tr th {\n",
       "        vertical-align: top;\n",
       "    }\n",
       "\n",
       "    .dataframe thead th {\n",
       "        text-align: right;\n",
       "    }\n",
       "</style>\n",
       "<table border=\"1\" class=\"dataframe\">\n",
       "  <thead>\n",
       "    <tr style=\"text-align: right;\">\n",
       "      <th></th>\n",
       "      <th>job_title</th>\n",
       "      <th>job_taxo</th>\n",
       "      <th>job_id</th>\n",
       "      <th>job_conduct_res</th>\n",
       "      <th>job_analyze_res</th>\n",
       "      <th>job_buy_res_report</th>\n",
       "      <th>job_manage_res_proj</th>\n",
       "      <th>job_observe_res</th>\n",
       "      <th>job_plan_res</th>\n",
       "      <th>job_teach_res</th>\n",
       "      <th>...</th>\n",
       "      <th>session_workshop</th>\n",
       "      <th>session_network</th>\n",
       "      <th>session_social_event</th>\n",
       "      <th>session_qa</th>\n",
       "      <th>sesson_topic_tables</th>\n",
       "      <th>other_conference_types</th>\n",
       "      <th>ideal_topics</th>\n",
       "      <th>ideal_attendees</th>\n",
       "      <th>recommendations</th>\n",
       "      <th>persona_id</th>\n",
       "    </tr>\n",
       "    <tr>\n",
       "      <th>resp_id</th>\n",
       "      <th></th>\n",
       "      <th></th>\n",
       "      <th></th>\n",
       "      <th></th>\n",
       "      <th></th>\n",
       "      <th></th>\n",
       "      <th></th>\n",
       "      <th></th>\n",
       "      <th></th>\n",
       "      <th></th>\n",
       "      <th></th>\n",
       "      <th></th>\n",
       "      <th></th>\n",
       "      <th></th>\n",
       "      <th></th>\n",
       "      <th></th>\n",
       "      <th></th>\n",
       "      <th></th>\n",
       "      <th></th>\n",
       "      <th></th>\n",
       "      <th></th>\n",
       "    </tr>\n",
       "  </thead>\n",
       "  <tbody>\n",
       "    <tr>\n",
       "      <td>284</td>\n",
       "      <td>Academic</td>\n",
       "      <td>4</td>\n",
       "      <td>1.0</td>\n",
       "      <td>3</td>\n",
       "      <td>2</td>\n",
       "      <td>0</td>\n",
       "      <td>3</td>\n",
       "      <td>3</td>\n",
       "      <td>3</td>\n",
       "      <td>3</td>\n",
       "      <td>...</td>\n",
       "      <td>2</td>\n",
       "      <td>3</td>\n",
       "      <td>2</td>\n",
       "      <td>2</td>\n",
       "      <td>2</td>\n",
       "      <td>NaN</td>\n",
       "      <td>research-practice connections</td>\n",
       "      <td>NaN</td>\n",
       "      <td>research-practice connections</td>\n",
       "      <td>2</td>\n",
       "    </tr>\n",
       "    <tr>\n",
       "      <td>288</td>\n",
       "      <td>Academic</td>\n",
       "      <td>4</td>\n",
       "      <td>1.0</td>\n",
       "      <td>1</td>\n",
       "      <td>2</td>\n",
       "      <td>1</td>\n",
       "      <td>3</td>\n",
       "      <td>3</td>\n",
       "      <td>3</td>\n",
       "      <td>3</td>\n",
       "      <td>...</td>\n",
       "      <td>3</td>\n",
       "      <td>3</td>\n",
       "      <td>1</td>\n",
       "      <td>1</td>\n",
       "      <td>2</td>\n",
       "      <td>NaN</td>\n",
       "      <td>NaN</td>\n",
       "      <td>NaN</td>\n",
       "      <td>Don’t create schedule conflicts with other rel...</td>\n",
       "      <td>2</td>\n",
       "    </tr>\n",
       "  </tbody>\n",
       "</table>\n",
       "<p>2 rows × 78 columns</p>\n",
       "</div>"
      ],
      "text/plain": [
       "        job_title job_taxo job_id  job_conduct_res  job_analyze_res  \\\n",
       "resp_id                                                               \n",
       "284      Academic        4    1.0                3                2   \n",
       "288      Academic        4    1.0                1                2   \n",
       "\n",
       "         job_buy_res_report  job_manage_res_proj  job_observe_res  \\\n",
       "resp_id                                                             \n",
       "284                       0                    3                3   \n",
       "288                       1                    3                3   \n",
       "\n",
       "         job_plan_res  job_teach_res  ...  session_workshop  session_network  \\\n",
       "resp_id                               ...                                      \n",
       "284                 3              3  ...                 2                3   \n",
       "288                 3              3  ...                 3                3   \n",
       "\n",
       "         session_social_event session_qa sesson_topic_tables  \\\n",
       "resp_id                                                        \n",
       "284                         2          2                   2   \n",
       "288                         1          1                   2   \n",
       "\n",
       "        other_conference_types                   ideal_topics ideal_attendees  \\\n",
       "resp_id                                                                         \n",
       "284                        NaN  research-practice connections             NaN   \n",
       "288                        NaN                            NaN             NaN   \n",
       "\n",
       "                                           recommendations  persona_id  \n",
       "resp_id                                                                 \n",
       "284                          research-practice connections           2  \n",
       "288      Don’t create schedule conflicts with other rel...           2  \n",
       "\n",
       "[2 rows x 78 columns]"
      ]
     },
     "execution_count": 68,
     "metadata": {},
     "output_type": "execute_result"
    }
   ],
   "source": [
    "#dataframe\n",
    "df.head(2)"
   ]
  },
  {
   "cell_type": "code",
   "execution_count": 69,
   "metadata": {},
   "outputs": [
    {
     "data": {
      "text/plain": [
       "['job_conduct_res',\n",
       " 'job_analyze_res',\n",
       " 'job_buy_res_report',\n",
       " 'job_manage_res_proj',\n",
       " 'job_observe_res',\n",
       " 'job_plan_res',\n",
       " 'job_teach_res',\n",
       " 'job_advocate_res',\n",
       " 'job_hire_res_vendor',\n",
       " 'job_lead_res_team',\n",
       " 'exp_conduct_res',\n",
       " 'exp_analyze_res',\n",
       " 'exp_buy_res_report',\n",
       " 'exp_manage_res_proj',\n",
       " 'exp_observe_res',\n",
       " 'exp_plan_res',\n",
       " 'exp_teach_res',\n",
       " 'exp_advocate_res',\n",
       " 'exp_hire_res_vendor',\n",
       " 'exp_lead_res_team',\n",
       " 'learning_talks',\n",
       " 'learning_read',\n",
       " 'learning_meetup',\n",
       " 'learning_workshop',\n",
       " 'learning_conference',\n",
       " 'likely_watch_video',\n",
       " 'likely_internet',\n",
       " 'likely_book',\n",
       " 'likely_online_group',\n",
       " 'likely_colleague',\n",
       " 'likely_meetup',\n",
       " 'likely_conference',\n",
       " 'likely_workshop',\n",
       " 'factor_speaker',\n",
       " 'factor_diverse_speak',\n",
       " 'factor_topics',\n",
       " 'factor_format_sessions',\n",
       " 'factor_size',\n",
       " 'factor_network',\n",
       " 'factor_variety_attend',\n",
       " 'factor_code',\n",
       " 'factor_location',\n",
       " 'factor_ability_to_pay',\n",
       " 'ideal_multi_track',\n",
       " 'ideal_single_track',\n",
       " 'ideal_unconference',\n",
       " 'session_keynote',\n",
       " 'session_long_talk',\n",
       " 'session_short_talk',\n",
       " 'session_workshop',\n",
       " 'session_network',\n",
       " 'session_social_event',\n",
       " 'session_qa',\n",
       " 'sesson_topic_tables']"
      ]
     },
     "execution_count": 69,
     "metadata": {},
     "output_type": "execute_result"
    }
   ],
   "source": [
    "#Quantitative columns\n",
    "quant_cols = df.select_dtypes([int,float]).columns\n",
    "quant_cols.to_list()"
   ]
  },
  {
   "cell_type": "code",
   "execution_count": 70,
   "metadata": {},
   "outputs": [
    {
     "data": {
      "text/plain": [
       "job_taxo  job_title              \n",
       "1         Principal UX Researcher     44\n",
       "          Senior UX Researcher        97\n",
       "          UX Researcher              202\n",
       "2         Principal UX Designer       28\n",
       "          Senior UX Designer          25\n",
       "          UX Designer                 87\n",
       "3         Analyst                      5\n",
       "          Anthropologist               3\n",
       "          Behavioral economist         1\n",
       "          Ethnographer                 1\n",
       "          Market Researcher            4\n",
       "          Research Scientist           1\n",
       "          Researcher                   9\n",
       "4         Academic                    23\n",
       "          Student                      5\n",
       "5         Content Strategist           4\n",
       "          Engineer                    14\n",
       "          Information Architect       11\n",
       "          Product Manager             10\n",
       "          Service Designer            10\n",
       "          Strategist                  25\n",
       "6         Design Manager              65\n",
       "          Research Manager            70\n",
       "7         Consultant                  62\n",
       "8         Executive                   50\n",
       "9         Author                       1\n",
       "          Intern                       5\n",
       "          Operations                   5\n",
       "          Writer                       1\n",
       "Name: job_title, dtype: int64"
      ]
     },
     "execution_count": 70,
     "metadata": {},
     "output_type": "execute_result"
    }
   ],
   "source": [
    "#Jobs by taxo id\n",
    "    #1 is UX researchers\n",
    "    #2 is Developers\n",
    "    #3 is Researcher/Scientist\n",
    "    #4 is Academic/Students\n",
    "    #5 is Planners?\n",
    "    #6 is Design/Research Managers\n",
    "    #7 is Consultans\n",
    "    #8 is Executive\n",
    "    #9 is misc\n",
    "data.groupby(['job_taxo', 'job_title']).job_title.count()"
   ]
  },
  {
   "cell_type": "code",
   "execution_count": 71,
   "metadata": {},
   "outputs": [
    {
     "data": {
      "text/plain": [
       "persona_id  job_taxo\n",
       "1           7            49\n",
       "            8            45\n",
       "2           3            23\n",
       "            4            23\n",
       "            5            65\n",
       "            9            12\n",
       "3           1            87\n",
       "            2            21\n",
       "            6            72\n",
       "4           1           162\n",
       "            2            61\n",
       "            6            38\n",
       "5           1            38\n",
       "            2            27\n",
       "            6             3\n",
       "Name: persona_id, dtype: int64"
      ]
     },
     "execution_count": 71,
     "metadata": {},
     "output_type": "execute_result"
    }
   ],
   "source": [
    "df.groupby(['persona_id','job_taxo']).persona_id.count()"
   ]
  },
  {
   "cell_type": "code",
   "execution_count": 72,
   "metadata": {},
   "outputs": [
    {
     "data": {
      "text/plain": [
       "4    261\n",
       "3    180\n",
       "2    123\n",
       "1     94\n",
       "5     68\n",
       "Name: persona_id, dtype: int64"
      ]
     },
     "execution_count": 72,
     "metadata": {},
     "output_type": "execute_result"
    }
   ],
   "source": [
    "df.persona_id.value_counts()"
   ]
  },
  {
   "cell_type": "code",
   "execution_count": 73,
   "metadata": {
    "scrolled": true
   },
   "outputs": [
    {
     "data": {
      "text/plain": [
       "resp_id\n",
       "284    5.0\n",
       "288    4.7\n",
       "294    3.6\n",
       "281    0.6\n",
       "280    2.0\n",
       "      ... \n",
       "869    0.6\n",
       "879    1.0\n",
       "136    2.4\n",
       "74     1.5\n",
       "2      1.3\n",
       "Length: 726, dtype: float64"
      ]
     },
     "execution_count": 73,
     "metadata": {},
     "output_type": "execute_result"
    }
   ],
   "source": [
    "exp_cols = ['exp_conduct_res', 'exp_analyze_res',\n",
    "           'exp_buy_res_report', 'exp_manage_res_proj', 'exp_observe_res',\n",
    "           'exp_plan_res', 'exp_teach_res', 'exp_advocate_res',\n",
    "           'exp_hire_res_vendor', 'exp_lead_res_team']\n",
    "df[exp_cols].mean(axis = 1)"
   ]
  },
  {
   "cell_type": "code",
   "execution_count": 74,
   "metadata": {},
   "outputs": [],
   "source": [
    "#show distributions of values\n"
   ]
  },
  {
   "cell_type": "code",
   "execution_count": 156,
   "metadata": {},
   "outputs": [],
   "source": [
    "#establish features and target and split train and test data\n",
    "df['target'] = df[['learning_conference','likely_conference']].apply('mean', axis = 1)\n",
    "\n",
    "x = quant_cols.drop(['likely_conference','learning_conference']).to_list()+['persona_id', 'job_taxo']\n",
    "y = 'target'\n",
    "train, test = train_test_split(df[x+[y]].dropna(subset = [y]))"
   ]
  },
  {
   "cell_type": "code",
   "execution_count": 157,
   "metadata": {},
   "outputs": [],
   "source": [
    "#1/14/20\n",
    "#use svm or \n",
    "#form hypothesis and test them"
   ]
  },
  {
   "cell_type": "code",
   "execution_count": 158,
   "metadata": {
    "scrolled": true
   },
   "outputs": [
    {
     "data": {
      "image/png": "[encoded data removed]",
      "text/plain": [
       "<Figure size 576x792 with 2 Axes>"
      ]
     },
     "metadata": {
      "needs_background": "light"
     },
     "output_type": "display_data"
    }
   ],
   "source": [
    "plt.figure(figsize=(8,11))\n",
    "sns.heatmap(df.corr()[['likely_conference']], cmap = 'icefire_r')\n",
    "plt.show()"
   ]
  },
  {
   "cell_type": "code",
   "execution_count": 159,
   "metadata": {},
   "outputs": [
    {
     "data": {
      "image/png": "[encoded data removed]",
      "text/plain": [
       "<Figure size 432x288 with 1 Axes>"
      ]
     },
     "metadata": {
      "needs_background": "light"
     },
     "output_type": "display_data"
    },
    {
     "data": {
      "text/plain": [
       "persona_id\n",
       "1     94\n",
       "2    123\n",
       "3    180\n",
       "4    261\n",
       "5     68\n",
       "Name: likely_conference, dtype: int64"
      ]
     },
     "execution_count": 159,
     "metadata": {},
     "output_type": "execute_result"
    }
   ],
   "source": [
    "df.groupby('persona_id').likely_conference.agg(['mean', 'median']).plot.bar()\n",
    "plt.show()\n",
    "df.groupby('persona_id').likely_conference.count()"
   ]
  },
  {
   "cell_type": "code",
   "execution_count": 160,
   "metadata": {},
   "outputs": [
    {
     "data": {
      "image/png": "[encoded data removed]",
      "text/plain": [
       "<Figure size 432x288 with 1 Axes>"
      ]
     },
     "metadata": {
      "needs_background": "light"
     },
     "output_type": "display_data"
    }
   ],
   "source": [
    "df.groupby('persona_id').learning_conference.agg(['mean', 'median']).plot.bar()\n",
    "plt.show()\n"
   ]
  },
  {
   "cell_type": "code",
   "execution_count": null,
   "metadata": {},
   "outputs": [],
   "source": []
  },
  {
   "cell_type": "code",
   "execution_count": 161,
   "metadata": {},
   "outputs": [
    {
     "data": {
      "image/png": "[encoded data removed]",
      "text/plain": [
       "<Figure size 432x288 with 1 Axes>"
      ]
     },
     "metadata": {
      "needs_background": "light"
     },
     "output_type": "display_data"
    },
    {
     "data": {
      "text/plain": [
       "persona_id\n",
       "1     94\n",
       "2    123\n",
       "3    180\n",
       "4    261\n",
       "5     68\n",
       "Name: target, dtype: int64"
      ]
     },
     "execution_count": 161,
     "metadata": {},
     "output_type": "execute_result"
    }
   ],
   "source": [
    "df.groupby('persona_id').target.agg(['mean', 'median']).plot.bar()\n",
    "plt.ylim(1.5,2.5)\n",
    "plt.show()\n",
    "df.groupby('persona_id').target.count()\n"
   ]
  },
  {
   "cell_type": "code",
   "execution_count": 162,
   "metadata": {},
   "outputs": [
    {
     "data": {
      "text/plain": [
       "Text(0.5, 1, 'Statistical difference between persona groups of likelyhood to attend a conference')"
      ]
     },
     "execution_count": 162,
     "metadata": {},
     "output_type": "execute_result"
    },
    {
     "data": {
      "image/png": "[encoded data removed]",
      "text/plain": [
       "<Figure size 432x288 with 2 Axes>"
      ]
     },
     "metadata": {
      "needs_background": "light"
     },
     "output_type": "display_data"
    }
   ],
   "source": [
    "ttests = {}\n",
    "row = {}\n",
    "for i in range(1,6):\n",
    "    for j in range(1,6):\n",
    "        ttests[j] = ttest_ind(df[df.persona_id == i].target,df[(df.persona_id == j)].target, nan_policy='omit')[1]\n",
    "    row[i] = ttests.copy()\n",
    "sns.heatmap(pd.DataFrame(row))\n",
    "plt.title('Statistical difference between persona groups of likelyhood to attend a conference')"
   ]
  },
  {
   "cell_type": "code",
   "execution_count": 163,
   "metadata": {},
   "outputs": [
    {
     "data": {
      "text/html": [
       "<div>\n",
       "<style scoped>\n",
       "    .dataframe tbody tr th:only-of-type {\n",
       "        vertical-align: middle;\n",
       "    }\n",
       "\n",
       "    .dataframe tbody tr th {\n",
       "        vertical-align: top;\n",
       "    }\n",
       "\n",
       "    .dataframe thead th {\n",
       "        text-align: right;\n",
       "    }\n",
       "</style>\n",
       "<table border=\"1\" class=\"dataframe\">\n",
       "  <thead>\n",
       "    <tr style=\"text-align: right;\">\n",
       "      <th></th>\n",
       "      <th>1</th>\n",
       "      <th>2</th>\n",
       "      <th>3</th>\n",
       "      <th>4</th>\n",
       "      <th>5</th>\n",
       "    </tr>\n",
       "  </thead>\n",
       "  <tbody>\n",
       "    <tr>\n",
       "      <td>1</td>\n",
       "      <td>1.000000</td>\n",
       "      <td>0.659110</td>\n",
       "      <td>0.034562</td>\n",
       "      <td>0.000751</td>\n",
       "      <td>0.014948</td>\n",
       "    </tr>\n",
       "    <tr>\n",
       "      <td>2</td>\n",
       "      <td>0.659110</td>\n",
       "      <td>1.000000</td>\n",
       "      <td>0.070684</td>\n",
       "      <td>0.001597</td>\n",
       "      <td>0.023369</td>\n",
       "    </tr>\n",
       "    <tr>\n",
       "      <td>3</td>\n",
       "      <td>0.034562</td>\n",
       "      <td>0.070684</td>\n",
       "      <td>1.000000</td>\n",
       "      <td>0.192902</td>\n",
       "      <td>0.309731</td>\n",
       "    </tr>\n",
       "    <tr>\n",
       "      <td>4</td>\n",
       "      <td>0.000751</td>\n",
       "      <td>0.001597</td>\n",
       "      <td>0.192902</td>\n",
       "      <td>1.000000</td>\n",
       "      <td>0.842880</td>\n",
       "    </tr>\n",
       "    <tr>\n",
       "      <td>5</td>\n",
       "      <td>0.014948</td>\n",
       "      <td>0.023369</td>\n",
       "      <td>0.309731</td>\n",
       "      <td>0.842880</td>\n",
       "      <td>1.000000</td>\n",
       "    </tr>\n",
       "  </tbody>\n",
       "</table>\n",
       "</div>"
      ],
      "text/plain": [
       "          1         2         3         4         5\n",
       "1  1.000000  0.659110  0.034562  0.000751  0.014948\n",
       "2  0.659110  1.000000  0.070684  0.001597  0.023369\n",
       "3  0.034562  0.070684  1.000000  0.192902  0.309731\n",
       "4  0.000751  0.001597  0.192902  1.000000  0.842880\n",
       "5  0.014948  0.023369  0.309731  0.842880  1.000000"
      ]
     },
     "execution_count": 163,
     "metadata": {},
     "output_type": "execute_result"
    }
   ],
   "source": [
    "pd.DataFrame(row)"
   ]
  },
  {
   "cell_type": "code",
   "execution_count": 197,
   "metadata": {},
   "outputs": [],
   "source": [
    "tree = DecisionTreeRegressor(max_depth=1000, random_state=123)\n",
    "tree.fit(train[x], train[y])\n",
    "predicted = tree.predict(test[x]) \n"
   ]
  },
  {
   "cell_type": "code",
   "execution_count": 198,
   "metadata": {},
   "outputs": [
    {
     "data": {
      "text/plain": [
       "<matplotlib.axes._subplots.AxesSubplot at 0x1a382d76d0>"
      ]
     },
     "execution_count": 198,
     "metadata": {},
     "output_type": "execute_result"
    },
    {
     "data": {
      "image/png": "[encoded data removed]",
      "text/plain": [
       "<Figure size 432x288 with 1 Axes>"
      ]
     },
     "metadata": {
      "needs_background": "light"
     },
     "output_type": "display_data"
    }
   ],
   "source": [
    "sns.scatterplot(predicted, test[y], alpha=.2)"
   ]
  },
  {
   "cell_type": "code",
   "execution_count": 194,
   "metadata": {},
   "outputs": [],
   "source": [
    "reg = LinearRegression()\n",
    "reg.fit(train[x], train[y])\n",
    "predicted = reg.predict(test[x])"
   ]
  },
  {
   "cell_type": "code",
   "execution_count": 195,
   "metadata": {},
   "outputs": [
    {
     "data": {
      "text/plain": [
       "<matplotlib.axes._subplots.AxesSubplot at 0x1a381acc90>"
      ]
     },
     "execution_count": 195,
     "metadata": {},
     "output_type": "execute_result"
    },
    {
     "data": {
      "image/png": "[encoded data removed]",
      "text/plain": [
       "<Figure size 432x288 with 1 Axes>"
      ]
     },
     "metadata": {
      "needs_background": "light"
     },
     "output_type": "display_data"
    }
   ],
   "source": [
    "sns.scatterplot(predicted, test[y],alpha = .5)"
   ]
  },
  {
   "cell_type": "markdown",
   "metadata": {},
   "source": [
    "# MVP Model"
   ]
  },
  {
   "cell_type": "code",
   "execution_count": 30,
   "metadata": {},
   "outputs": [],
   "source": [
    "df_mvp = df[['job_taxo', 'persona_id', 'num_employees']].join(pd.DataFrame(df[['exp_conduct_res', 'exp_analyze_res',\n",
    "       'exp_buy_res_report', 'exp_manage_res_proj', 'exp_observe_res',\n",
    "       'exp_plan_res', 'exp_teach_res', 'exp_advocate_res',\n",
    "       'exp_hire_res_vendor', 'exp_lead_res_team']].apply(max, axis = 1), columns = ['experience']),).dropna()"
   ]
  },
  {
   "cell_type": "code",
   "execution_count": 31,
   "metadata": {},
   "outputs": [],
   "source": [
    "df_mvp_ohe = pd.get_dummies(df_mvp, columns=['job_taxo']) "
   ]
  },
  {
   "cell_type": "code",
   "execution_count": 32,
   "metadata": {},
   "outputs": [],
   "source": [
    "x = df_mvp_ohe.drop(columns=['persona_id']).columns.to_list()\n",
    "y = 'persona_id'\n",
    "train, test = train_test_split(df_mvp_ohe, random_state = 123, stratify = df_mvp_ohe.persona_id)"
   ]
  },
  {
   "cell_type": "code",
   "execution_count": 33,
   "metadata": {},
   "outputs": [
    {
     "name": "stderr",
     "output_type": "stream",
     "text": [
      "/usr/local/anaconda3/lib/python3.7/site-packages/sklearn/svm/base.py:193: FutureWarning: The default value of gamma will change from 'auto' to 'scale' in version 0.22 to account better for unscaled features. Set gamma explicitly to 'auto' or 'scale' to avoid this warning.\n",
      "  \"avoid this warning.\", FutureWarning)\n"
     ]
    }
   ],
   "source": [
    "classifier = SVC(random_state=123)\n",
    "classifier.fit(train[x], train[y])\n",
    "predicted = classifier.predict(test[x])"
   ]
  },
  {
   "cell_type": "code",
   "execution_count": 34,
   "metadata": {},
   "outputs": [
    {
     "name": "stdout",
     "output_type": "stream",
     "text": [
      "              precision    recall  f1-score   support\n",
      "\n",
      "           1       1.00      1.00      1.00        23\n",
      "           2       1.00      1.00      1.00        31\n",
      "           3       1.00      1.00      1.00        45\n",
      "           4       1.00      1.00      1.00        65\n",
      "           5       1.00      1.00      1.00        17\n",
      "\n",
      "    accuracy                           1.00       181\n",
      "   macro avg       1.00      1.00      1.00       181\n",
      "weighted avg       1.00      1.00      1.00       181\n",
      "\n"
     ]
    },
    {
     "data": {
      "text/html": [
       "<div>\n",
       "<style scoped>\n",
       "    .dataframe tbody tr th:only-of-type {\n",
       "        vertical-align: middle;\n",
       "    }\n",
       "\n",
       "    .dataframe tbody tr th {\n",
       "        vertical-align: top;\n",
       "    }\n",
       "\n",
       "    .dataframe thead th {\n",
       "        text-align: right;\n",
       "    }\n",
       "</style>\n",
       "<table border=\"1\" class=\"dataframe\">\n",
       "  <thead>\n",
       "    <tr style=\"text-align: right;\">\n",
       "      <th>col_0</th>\n",
       "      <th>1</th>\n",
       "      <th>2</th>\n",
       "      <th>3</th>\n",
       "      <th>4</th>\n",
       "      <th>5</th>\n",
       "    </tr>\n",
       "    <tr>\n",
       "      <th>persona_id</th>\n",
       "      <th></th>\n",
       "      <th></th>\n",
       "      <th></th>\n",
       "      <th></th>\n",
       "      <th></th>\n",
       "    </tr>\n",
       "  </thead>\n",
       "  <tbody>\n",
       "    <tr>\n",
       "      <td>1</td>\n",
       "      <td>23</td>\n",
       "      <td>0</td>\n",
       "      <td>0</td>\n",
       "      <td>0</td>\n",
       "      <td>0</td>\n",
       "    </tr>\n",
       "    <tr>\n",
       "      <td>2</td>\n",
       "      <td>0</td>\n",
       "      <td>31</td>\n",
       "      <td>0</td>\n",
       "      <td>0</td>\n",
       "      <td>0</td>\n",
       "    </tr>\n",
       "    <tr>\n",
       "      <td>3</td>\n",
       "      <td>0</td>\n",
       "      <td>0</td>\n",
       "      <td>45</td>\n",
       "      <td>0</td>\n",
       "      <td>0</td>\n",
       "    </tr>\n",
       "    <tr>\n",
       "      <td>4</td>\n",
       "      <td>0</td>\n",
       "      <td>0</td>\n",
       "      <td>0</td>\n",
       "      <td>65</td>\n",
       "      <td>0</td>\n",
       "    </tr>\n",
       "    <tr>\n",
       "      <td>5</td>\n",
       "      <td>0</td>\n",
       "      <td>0</td>\n",
       "      <td>0</td>\n",
       "      <td>0</td>\n",
       "      <td>17</td>\n",
       "    </tr>\n",
       "  </tbody>\n",
       "</table>\n",
       "</div>"
      ],
      "text/plain": [
       "col_0        1   2   3   4   5\n",
       "persona_id                    \n",
       "1           23   0   0   0   0\n",
       "2            0  31   0   0   0\n",
       "3            0   0  45   0   0\n",
       "4            0   0   0  65   0\n",
       "5            0   0   0   0  17"
      ]
     },
     "execution_count": 34,
     "metadata": {},
     "output_type": "execute_result"
    }
   ],
   "source": [
    "print(classification_report(test[y], predicted))\n",
    "pd.crosstab(test[y], predicted)"
   ]
  },
  {
   "cell_type": "code",
   "execution_count": 35,
   "metadata": {},
   "outputs": [],
   "source": [
    "tree = DecisionTreeClassifier()\n",
    "tree.fit(train[x], train[y])\n",
    "predicted = tree.predict(test[x]) "
   ]
  },
  {
   "cell_type": "code",
   "execution_count": 36,
   "metadata": {},
   "outputs": [
    {
     "name": "stdout",
     "output_type": "stream",
     "text": [
      "              precision    recall  f1-score   support\n",
      "\n",
      "           1       1.00      1.00      1.00        23\n",
      "           2       1.00      1.00      1.00        31\n",
      "           3       1.00      1.00      1.00        45\n",
      "           4       1.00      1.00      1.00        65\n",
      "           5       1.00      1.00      1.00        17\n",
      "\n",
      "    accuracy                           1.00       181\n",
      "   macro avg       1.00      1.00      1.00       181\n",
      "weighted avg       1.00      1.00      1.00       181\n",
      "\n"
     ]
    },
    {
     "data": {
      "text/html": [
       "<div>\n",
       "<style scoped>\n",
       "    .dataframe tbody tr th:only-of-type {\n",
       "        vertical-align: middle;\n",
       "    }\n",
       "\n",
       "    .dataframe tbody tr th {\n",
       "        vertical-align: top;\n",
       "    }\n",
       "\n",
       "    .dataframe thead th {\n",
       "        text-align: right;\n",
       "    }\n",
       "</style>\n",
       "<table border=\"1\" class=\"dataframe\">\n",
       "  <thead>\n",
       "    <tr style=\"text-align: right;\">\n",
       "      <th>col_0</th>\n",
       "      <th>1</th>\n",
       "      <th>2</th>\n",
       "      <th>3</th>\n",
       "      <th>4</th>\n",
       "      <th>5</th>\n",
       "    </tr>\n",
       "    <tr>\n",
       "      <th>persona_id</th>\n",
       "      <th></th>\n",
       "      <th></th>\n",
       "      <th></th>\n",
       "      <th></th>\n",
       "      <th></th>\n",
       "    </tr>\n",
       "  </thead>\n",
       "  <tbody>\n",
       "    <tr>\n",
       "      <td>1</td>\n",
       "      <td>23</td>\n",
       "      <td>0</td>\n",
       "      <td>0</td>\n",
       "      <td>0</td>\n",
       "      <td>0</td>\n",
       "    </tr>\n",
       "    <tr>\n",
       "      <td>2</td>\n",
       "      <td>0</td>\n",
       "      <td>31</td>\n",
       "      <td>0</td>\n",
       "      <td>0</td>\n",
       "      <td>0</td>\n",
       "    </tr>\n",
       "    <tr>\n",
       "      <td>3</td>\n",
       "      <td>0</td>\n",
       "      <td>0</td>\n",
       "      <td>45</td>\n",
       "      <td>0</td>\n",
       "      <td>0</td>\n",
       "    </tr>\n",
       "    <tr>\n",
       "      <td>4</td>\n",
       "      <td>0</td>\n",
       "      <td>0</td>\n",
       "      <td>0</td>\n",
       "      <td>65</td>\n",
       "      <td>0</td>\n",
       "    </tr>\n",
       "    <tr>\n",
       "      <td>5</td>\n",
       "      <td>0</td>\n",
       "      <td>0</td>\n",
       "      <td>0</td>\n",
       "      <td>0</td>\n",
       "      <td>17</td>\n",
       "    </tr>\n",
       "  </tbody>\n",
       "</table>\n",
       "</div>"
      ],
      "text/plain": [
       "col_0        1   2   3   4   5\n",
       "persona_id                    \n",
       "1           23   0   0   0   0\n",
       "2            0  31   0   0   0\n",
       "3            0   0  45   0   0\n",
       "4            0   0   0  65   0\n",
       "5            0   0   0   0  17"
      ]
     },
     "execution_count": 36,
     "metadata": {},
     "output_type": "execute_result"
    }
   ],
   "source": [
    "print(classification_report(test[y], predicted))\n",
    "pd.crosstab(test[y], predicted)"
   ]
  },
  {
   "cell_type": "code",
   "execution_count": null,
   "metadata": {},
   "outputs": [],
   "source": []
  },
  {
   "cell_type": "code",
   "execution_count": null,
   "metadata": {},
   "outputs": [],
   "source": []
  }
 ],
 "metadata": {
  "kernelspec": {
   "display_name": "Python 3",
   "language": "python",
   "name": "python3"
  },
  "language_info": {
   "codemirror_mode": {
    "name": "ipython",
    "version": 3
   },
   "file_extension": ".py",
   "mimetype": "text/x-python",
   "name": "python",
   "nbconvert_exporter": "python",
   "pygments_lexer": "ipython3",
   "version": "3.7.4"
  }
 },
 "nbformat": 4,
 "nbformat_minor": 2
}

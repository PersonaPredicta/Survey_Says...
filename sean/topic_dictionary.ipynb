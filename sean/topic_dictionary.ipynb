{
 "cells": [
  {
   "cell_type": "code",
   "execution_count": 2,
   "metadata": {},
   "outputs": [
    {
     "ename": "NameError",
     "evalue": "name 'TBD' is not defined",
     "output_type": "error",
     "traceback": [
      "\u001b[0;31m---------------------------------------------------------------------------\u001b[0m",
      "\u001b[0;31mNameError\u001b[0m                                 Traceback (most recent call last)",
      "\u001b[0;32m<ipython-input-2-0ea63bc1a990>\u001b[0m in \u001b[0;36m<module>\u001b[0;34m\u001b[0m\n\u001b[1;32m      4\u001b[0m \u001b[0mq10_dict\u001b[0m \u001b[0;34m=\u001b[0m \u001b[0;34m{\u001b[0m\u001b[0;34m'q10a'\u001b[0m \u001b[0;34m:\u001b[0m \u001b[0;34m'running study'\u001b[0m\u001b[0;34m,\u001b[0m \u001b[0;34m'q10b'\u001b[0m \u001b[0;34m:\u001b[0m \u001b[0;34m'design research'\u001b[0m\u001b[0;34m,\u001b[0m \u001b[0;34m'q10c'\u001b[0m \u001b[0;34m:\u001b[0m \u001b[0;34m'social science'\u001b[0m\u001b[0;34m,\u001b[0m \u001b[0;34m'q10d'\u001b[0m \u001b[0;34m:\u001b[0m \u001b[0;34m'grad school'\u001b[0m\u001b[0;34m,\u001b[0m \u001b[0;34m'q10e'\u001b[0m \u001b[0;34m:\u001b[0m \u001b[0;34m'human factor'\u001b[0m\u001b[0;34m,\u001b[0m \u001b[0;34m'q10f'\u001b[0m \u001b[0;34m:\u001b[0m \u001b[0;34m'master degree'\u001b[0m\u001b[0;34m}\u001b[0m\u001b[0;34m\u001b[0m\u001b[0;34m\u001b[0m\u001b[0m\n\u001b[1;32m      5\u001b[0m \u001b[0mq14_dict\u001b[0m \u001b[0;34m=\u001b[0m \u001b[0;34m{\u001b[0m\u001b[0;34m'q14a'\u001b[0m \u001b[0;34m:\u001b[0m \u001b[0;34m'pay'\u001b[0m\u001b[0;34m,\u001b[0m \u001b[0;34m'q14b'\u001b[0m \u001b[0;34m:\u001b[0m \u001b[0;34m'value'\u001b[0m\u001b[0;34m,\u001b[0m \u001b[0;34m'q14c'\u001b[0m \u001b[0;34m:\u001b[0m \u001b[0;34m'price'\u001b[0m\u001b[0;34m,\u001b[0m \u001b[0;34m'q14d'\u001b[0m \u001b[0;34m:\u001b[0m \u001b[0;34m'reputation'\u001b[0m\u001b[0;34m,\u001b[0m \u001b[0;34m'q14e'\u001b[0m \u001b[0;34m:\u001b[0m \u001b[0;34m'networking'\u001b[0m\u001b[0;34m,\u001b[0m \u001b[0;34m'q14f'\u001b[0m \u001b[0;34m:\u001b[0m \u001b[0;34m'relevance'\u001b[0m\u001b[0;34m}\u001b[0m\u001b[0;34m\u001b[0m\u001b[0;34m\u001b[0m\u001b[0m\n\u001b[0;32m----> 6\u001b[0;31m \u001b[0mq15_dict\u001b[0m \u001b[0;34m=\u001b[0m \u001b[0;34m{\u001b[0m\u001b[0mTBD\u001b[0m\u001b[0;34m}\u001b[0m\u001b[0;34m\u001b[0m\u001b[0;34m\u001b[0m\u001b[0m\n\u001b[0m\u001b[1;32m      7\u001b[0m \u001b[0mq16_dict\u001b[0m \u001b[0;34m=\u001b[0m \u001b[0;34m{\u001b[0m\u001b[0mERROR\u001b[0m\u001b[0;34m}\u001b[0m\u001b[0;34m\u001b[0m\u001b[0;34m\u001b[0m\u001b[0m\n\u001b[1;32m      8\u001b[0m \u001b[0mq20_dict\u001b[0m \u001b[0;34m=\u001b[0m \u001b[0;34m{\u001b[0m\u001b[0;34m'q20a'\u001b[0m \u001b[0;34m:\u001b[0m \u001b[0;34m'case study'\u001b[0m\u001b[0;34m,\u001b[0m \u001b[0;34m'q20b'\u001b[0m \u001b[0;34m:\u001b[0m \u001b[0;34m'talk'\u001b[0m\u001b[0;34m,\u001b[0m \u001b[0;34m'q20c'\u001b[0m \u001b[0;34m:\u001b[0m \u001b[0;34m'poster session'\u001b[0m\u001b[0;34m,\u001b[0m \u001b[0;34m'q20d'\u001b[0m \u001b[0;34m:\u001b[0m \u001b[0;34m'nope'\u001b[0m\u001b[0;34m}\u001b[0m\u001b[0;34m\u001b[0m\u001b[0;34m\u001b[0m\u001b[0m\n",
      "\u001b[0;31mNameError\u001b[0m: name 'TBD' is not defined"
     ]
    }
   ],
   "source": [
    "q5_dict = {'q5a' : 'fintech', 'q5b' : 'education', 'q5c' : 'technology', 'q5d' : 'consulting', 'q5e' : 'software', 'q5f' : 'healthcare', 'q5g' : 'government', 'q5h' : 'telecom'}\n",
    "q6_dict = {'q6a' : 'diary study', 'q6b' : 'contextual inquiry', 'q6c' : 'interview usability', 'q6d' : 'genertive evaluative', 'q6e' : 'market research', 'q6f' : 'ux research', 'q6g' : 'indepth interview', 'q6h' : 'concept validation'}\n",
    "q7_dict = {'q7a' : 'quantitative', 'q7b' : 'unmoderated usability', 'q7c' : 'diary study', 'q7d' : 'ab testing', 'q7e' : 'ux', 'q7f' : 'focus group', 'q7g' : 'ethnographic', 'q7h' : 'field study'}\n",
    "q10_dict = {'q10a' : 'running study', 'q10b' : 'design research', 'q10c' : 'social science', 'q10d' : 'grad school', 'q10e' : 'human factor', 'q10f' : 'master degree'}\n",
    "q14_dict = {'q14a' : 'pay', 'q14b' : 'value', 'q14c' : 'price', 'q14d' : 'reputation', 'q14e' : 'networking', 'q14f' : 'relevance'}\n",
    "q15_dict = {TBD}\n",
    "q16_dict = {ERROR}\n",
    "q20_dict = {'q20a' : 'case study', 'q20b' : 'talk', 'q20c' : 'poster session', 'q20d' : 'nope'}\n",
    "\n",
    "\n",
    "\n",
    "\n"
   ]
  },
  {
   "cell_type": "code",
   "execution_count": null,
   "metadata": {},
   "outputs": [],
   "source": []
  }
 ],
 "metadata": {
  "kernelspec": {
   "display_name": "Python 3",
   "language": "python",
   "name": "python3"
  },
  "language_info": {
   "codemirror_mode": {
    "name": "ipython",
    "version": 3
   },
   "file_extension": ".py",
   "mimetype": "text/x-python",
   "name": "python",
   "nbconvert_exporter": "python",
   "pygments_lexer": "ipython3",
   "version": "3.7.3"
  }
 },
 "nbformat": 4,
 "nbformat_minor": 2
}

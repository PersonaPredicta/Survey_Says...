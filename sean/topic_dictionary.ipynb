{
 "cells": [
  {
   "cell_type": "code",
   "execution_count": 5,
   "metadata": {},
   "outputs": [],
   "source": [
    "q5_dict = {'q5a' : 'fintech', 'q5b' : 'education', 'q5c' : 'technology', 'q5d' : 'consulting', 'q5e' : 'software', 'q5f' : 'healthcare', 'q5g' : 'government', 'q5h' : 'telecom'}\n",
    "q6_dict = {'q6a' : 'diary_study', 'q6b' : 'contextual_inquiry', 'q6c' : 'interview_usability', 'q6d' : 'genertive_evaluative', 'q6e' : 'market_research', 'q6f' : 'ux_research', 'q6g' : 'indepth_interview', 'q6h' : 'concept_validation'}\n",
    "q7_dict = {'q7a' : 'quantitative', 'q7b' : 'unmoderated usability', 'q7c' : 'diary study', 'q7d' : 'ab testing', 'q7e' : 'ux', 'q7f' : 'focus group', 'q7g' : 'ethnographic', 'q7h' : 'field study'}\n",
    "q10_dict = {'q10a' : 'running_study', 'q10b' : 'design_research', 'q10c' : 'social_science', 'q10d' : 'grad_school', 'q10e' : 'human_factor', 'q10f' : 'master_degree'}\n",
    "q14_dict = {'q14a' : 'pay', 'q14b' : 'value', 'q14c' : 'price', 'q14d' : 'reputation', 'q14e' : 'networking', 'q14f' : 'relevance'}\n",
    "# question 15 had no meaningful topics at multiple n values, omitted\n",
    "q16_dict = {'q16a' : 'user_research', 'q16b' : 'ia', 'q16c' : 'local_meetups', 'q16d' : 'service_design day', 'q16e' : 'epic', 'g16f' : 'design_research', 'g16g' : 'uxr'}\n",
    "q20_dict = {'q20a' : 'case_study', 'q20b' : 'talk', 'q20c' : 'poster_session', 'q20d' : 'nope'}\n",
    "q21_dict = {'q21a' : 'case_study', 'q21b' : 'finding/data', 'q21c' : 'ops/ai', 'q21d' : 'new_method'}\n",
    "q22_dict = {'q22a' : 'industry', 'q22b' : 'field', 'q22c' : 'erika hall', 'q22d' : 'indi young'}\n",
    "q23_dict = {'q23a' : 'pratical', 'q23b' : 'affordable', 'q23c' : 'expensive', 'q23d' : 'miscellaneous'}\n",
    "\n",
    "\n",
    "\n",
    "\n"
   ]
  },
  {
   "cell_type": "code",
   "execution_count": null,
   "metadata": {},
   "outputs": [],
   "source": []
  }
 ],
 "metadata": {
  "kernelspec": {
   "display_name": "Python 3",
   "language": "python",
   "name": "python3"
  },
  "language_info": {
   "codemirror_mode": {
    "name": "ipython",
    "version": 3
   },
   "file_extension": ".py",
   "mimetype": "text/x-python",
   "name": "python",
   "nbconvert_exporter": "python",
   "pygments_lexer": "ipython3",
   "version": "3.7.3"
  }
 },
 "nbformat": 4,
 "nbformat_minor": 2
}

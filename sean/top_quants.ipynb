{
 "cells": [
  {
   "cell_type": "markdown",
   "metadata": {},
   "source": []
  },
  {
   "cell_type": "markdown",
   "metadata": {},
   "source": [
    "## Contents\n",
    "\n",
    "- [Updates](#Updates)\n",
    "- [Wrangle](#Wrangle)\n",
    "- [Target](#Target)\n",
    "- [Quant_cols](#Quant_cols)\n",
    "- [Recoder](#Recoder)\n"
   ]
  },
  {
   "cell_type": "markdown",
   "metadata": {},
   "source": [
    "## Updates\n",
    "[*Back to top*](#Contents)"
   ]
  },
  {
   "cell_type": "code",
   "execution_count": 1,
   "metadata": {},
   "outputs": [],
   "source": [
    "# Python updates\n",
    "\n",
    "import pandas as pd\n",
    "import numpy as np\n",
    "import matplotlib.pyplot as plt\n",
    "import seaborn as sns\n",
    "from scipy import stats\n",
    "import itertools as it\n",
    "import re"
   ]
  },
  {
   "cell_type": "code",
   "execution_count": 2,
   "metadata": {},
   "outputs": [],
   "source": [
    "# Local updates\n",
    "\n",
    "import sys\n",
    "sys.path.append('')\n",
    "import wrangle\n",
    "import explore"
   ]
  },
  {
   "cell_type": "code",
   "execution_count": 3,
   "metadata": {},
   "outputs": [],
   "source": [
    " # Jupyter notebooks only #\n",
    "def ifull(obj):\n",
    "    with pd.option_context('display.max_rows', None, 'display.max_columns', None):  # more options can be specified also\n",
    "        display(obj)"
   ]
  },
  {
   "cell_type": "markdown",
   "metadata": {},
   "source": [
    "## Wrangle\n",
    "[*Back to top*](#Contents)"
   ]
  },
  {
   "cell_type": "code",
   "execution_count": 4,
   "metadata": {},
   "outputs": [
    {
     "name": "stdout",
     "output_type": "stream",
     "text": [
      "(726, 87)\n"
     ]
    }
   ],
   "source": [
    "df, dictdf = wrangle.wrangle_data()\n",
    "print(df.shape)"
   ]
  },
  {
   "cell_type": "code",
   "execution_count": 5,
   "metadata": {},
   "outputs": [
    {
     "name": "stdout",
     "output_type": "stream",
     "text": [
      "(90, 11)\n"
     ]
    }
   ],
   "source": [
    "print(dictdf.shape)\n",
    "# ifull(dictdf.describe().T)"
   ]
  },
  {
   "cell_type": "markdown",
   "metadata": {},
   "source": [
    "## Target\n",
    "[*Back to top*](#Contents)"
   ]
  },
  {
   "cell_type": "code",
   "execution_count": 6,
   "metadata": {},
   "outputs": [],
   "source": [
    "df = explore.add_target_to_df(df)"
   ]
  },
  {
   "cell_type": "code",
   "execution_count": 7,
   "metadata": {},
   "outputs": [
    {
     "name": "stdout",
     "output_type": "stream",
     "text": [
      "1.0    372\n",
      "0.5    202\n",
      "0.0    152\n",
      "Name: target, dtype: int64\n"
     ]
    }
   ],
   "source": [
    "print(df.target.value_counts())"
   ]
  },
  {
   "cell_type": "code",
   "execution_count": 8,
   "metadata": {},
   "outputs": [],
   "source": [
    "dfrecode2 = explore.make_recode_df(df=df, data_dictionary=dictdf, outputs = 2)"
   ]
  },
  {
   "cell_type": "code",
   "execution_count": 9,
   "metadata": {},
   "outputs": [],
   "source": [
    "agg_df = dfrecode2.copy()\n",
    "agg_df.persona_id = agg_df.persona_id.astype('object')\n",
    "agg_df = agg_df.groupby(['persona_id']).agg(['mean']).T\n",
    "agg_df = agg_df.reset_index()\n",
    "agg_df.index_name='idx'\n",
    "agg_df = agg_df.rename(columns={\n",
    "    'level_0': 'field', 'level_1': 'stat'\n",
    "})\n",
    "agg_df = agg_df.melt(id_vars=['field', 'stat'], var_name='persona_id', value_name='calc_val')\n",
    "agg_df = agg_df.pivot_table(values='calc_val', index=['field','persona_id'], columns='stat')\n",
    "\n",
    "# ifull(agg_df)"
   ]
  },
  {
   "cell_type": "code",
   "execution_count": 10,
   "metadata": {},
   "outputs": [],
   "source": [
    "qs_sessions = [\n",
    "    'session_keynote',\n",
    "    'session_long_talk',\n",
    "    'session_short_talk',\n",
    "    'session_workshop',\n",
    "    'session_network',\n",
    "    'session_social_event',\n",
    "    'session_qa',\n",
    "    'sesson_topic_tables',\n",
    "]"
   ]
  },
  {
   "cell_type": "code",
   "execution_count": 11,
   "metadata": {},
   "outputs": [],
   "source": [
    "qs_factors = [\n",
    "    'factor_speaker',\n",
    "    'factor_diverse_speak',\n",
    "    'factor_topics',\n",
    "    'factor_format_sessions',\n",
    "    'factor_size',\n",
    "    'factor_network',\n",
    "    'factor_variety_attend',\n",
    "    'factor_code',\n",
    "    'factor_location',\n",
    "    'factor_ability_to_pay',\n",
    "]"
   ]
  },
  {
   "cell_type": "code",
   "execution_count": 12,
   "metadata": {},
   "outputs": [],
   "source": [
    "qs_learning = [\n",
    "    'learning_talks',\n",
    "    'learning_read',\n",
    "    'learning_meetup',\n",
    "    'learning_workshop',\n",
    "    'likely_watch_video',\n",
    "    'likely_internet',\n",
    "    'likely_book',\n",
    "    'likely_online_group',\n",
    "    'likely_colleague',\n",
    "    'likely_meetup',\n",
    "    'likely_workshop',    \n",
    "]"
   ]
  },
  {
   "cell_type": "code",
   "execution_count": 13,
   "metadata": {},
   "outputs": [],
   "source": [
    "idx = pd.IndexSlice"
   ]
  },
  {
   "cell_type": "code",
   "execution_count": 14,
   "metadata": {},
   "outputs": [
    {
     "name": "stdout",
     "output_type": "stream",
     "text": [
      "1: Executives and Consultants\n"
     ]
    },
    {
     "data": {
      "text/html": [
       "<div>\n",
       "<style scoped>\n",
       "    .dataframe tbody tr th:only-of-type {\n",
       "        vertical-align: middle;\n",
       "    }\n",
       "\n",
       "    .dataframe tbody tr th {\n",
       "        vertical-align: top;\n",
       "    }\n",
       "\n",
       "    .dataframe thead th {\n",
       "        text-align: right;\n",
       "    }\n",
       "</style>\n",
       "<table border=\"1\" class=\"dataframe\">\n",
       "  <thead>\n",
       "    <tr style=\"text-align: right;\">\n",
       "      <th></th>\n",
       "      <th>stat</th>\n",
       "      <th>mean</th>\n",
       "    </tr>\n",
       "    <tr>\n",
       "      <th>field</th>\n",
       "      <th>persona_id</th>\n",
       "      <th></th>\n",
       "    </tr>\n",
       "  </thead>\n",
       "  <tbody>\n",
       "    <tr>\n",
       "      <th>session_workshop</th>\n",
       "      <th>1</th>\n",
       "      <td>0.776596</td>\n",
       "    </tr>\n",
       "    <tr>\n",
       "      <th>session_long_talk</th>\n",
       "      <th>1</th>\n",
       "      <td>0.691489</td>\n",
       "    </tr>\n",
       "    <tr>\n",
       "      <th>session_keynote</th>\n",
       "      <th>1</th>\n",
       "      <td>0.606383</td>\n",
       "    </tr>\n",
       "    <tr>\n",
       "      <th>sesson_topic_tables</th>\n",
       "      <th>1</th>\n",
       "      <td>0.606383</td>\n",
       "    </tr>\n",
       "    <tr>\n",
       "      <th>session_network</th>\n",
       "      <th>1</th>\n",
       "      <td>0.595745</td>\n",
       "    </tr>\n",
       "  </tbody>\n",
       "</table>\n",
       "</div>"
      ],
      "text/plain": [
       "stat                                mean\n",
       "field               persona_id          \n",
       "session_workshop    1           0.776596\n",
       "session_long_talk   1           0.691489\n",
       "session_keynote     1           0.606383\n",
       "sesson_topic_tables 1           0.606383\n",
       "session_network     1           0.595745"
      ]
     },
     "metadata": {},
     "output_type": "display_data"
    },
    {
     "name": "stdout",
     "output_type": "stream",
     "text": [
      "2: Specialists\n"
     ]
    },
    {
     "data": {
      "text/html": [
       "<div>\n",
       "<style scoped>\n",
       "    .dataframe tbody tr th:only-of-type {\n",
       "        vertical-align: middle;\n",
       "    }\n",
       "\n",
       "    .dataframe tbody tr th {\n",
       "        vertical-align: top;\n",
       "    }\n",
       "\n",
       "    .dataframe thead th {\n",
       "        text-align: right;\n",
       "    }\n",
       "</style>\n",
       "<table border=\"1\" class=\"dataframe\">\n",
       "  <thead>\n",
       "    <tr style=\"text-align: right;\">\n",
       "      <th></th>\n",
       "      <th>stat</th>\n",
       "      <th>mean</th>\n",
       "    </tr>\n",
       "    <tr>\n",
       "      <th>field</th>\n",
       "      <th>persona_id</th>\n",
       "      <th></th>\n",
       "    </tr>\n",
       "  </thead>\n",
       "  <tbody>\n",
       "    <tr>\n",
       "      <th>session_workshop</th>\n",
       "      <th>2</th>\n",
       "      <td>0.715447</td>\n",
       "    </tr>\n",
       "    <tr>\n",
       "      <th>session_keynote</th>\n",
       "      <th>2</th>\n",
       "      <td>0.691057</td>\n",
       "    </tr>\n",
       "    <tr>\n",
       "      <th>session_long_talk</th>\n",
       "      <th>2</th>\n",
       "      <td>0.650407</td>\n",
       "    </tr>\n",
       "    <tr>\n",
       "      <th>sesson_topic_tables</th>\n",
       "      <th>2</th>\n",
       "      <td>0.536585</td>\n",
       "    </tr>\n",
       "    <tr>\n",
       "      <th>session_short_talk</th>\n",
       "      <th>2</th>\n",
       "      <td>0.512195</td>\n",
       "    </tr>\n",
       "  </tbody>\n",
       "</table>\n",
       "</div>"
      ],
      "text/plain": [
       "stat                                mean\n",
       "field               persona_id          \n",
       "session_workshop    2           0.715447\n",
       "session_keynote     2           0.691057\n",
       "session_long_talk   2           0.650407\n",
       "sesson_topic_tables 2           0.536585\n",
       "session_short_talk  2           0.512195"
      ]
     },
     "metadata": {},
     "output_type": "display_data"
    },
    {
     "name": "stdout",
     "output_type": "stream",
     "text": [
      "3: Very Experienced Researchers and Designers\n"
     ]
    },
    {
     "data": {
      "text/html": [
       "<div>\n",
       "<style scoped>\n",
       "    .dataframe tbody tr th:only-of-type {\n",
       "        vertical-align: middle;\n",
       "    }\n",
       "\n",
       "    .dataframe tbody tr th {\n",
       "        vertical-align: top;\n",
       "    }\n",
       "\n",
       "    .dataframe thead th {\n",
       "        text-align: right;\n",
       "    }\n",
       "</style>\n",
       "<table border=\"1\" class=\"dataframe\">\n",
       "  <thead>\n",
       "    <tr style=\"text-align: right;\">\n",
       "      <th></th>\n",
       "      <th>stat</th>\n",
       "      <th>mean</th>\n",
       "    </tr>\n",
       "    <tr>\n",
       "      <th>field</th>\n",
       "      <th>persona_id</th>\n",
       "      <th></th>\n",
       "    </tr>\n",
       "  </thead>\n",
       "  <tbody>\n",
       "    <tr>\n",
       "      <th>session_long_talk</th>\n",
       "      <th>3</th>\n",
       "      <td>0.713675</td>\n",
       "    </tr>\n",
       "    <tr>\n",
       "      <th>session_workshop</th>\n",
       "      <th>3</th>\n",
       "      <td>0.700855</td>\n",
       "    </tr>\n",
       "    <tr>\n",
       "      <th>session_keynote</th>\n",
       "      <th>3</th>\n",
       "      <td>0.666667</td>\n",
       "    </tr>\n",
       "    <tr>\n",
       "      <th>session_short_talk</th>\n",
       "      <th>3</th>\n",
       "      <td>0.547009</td>\n",
       "    </tr>\n",
       "    <tr>\n",
       "      <th>sesson_topic_tables</th>\n",
       "      <th>3</th>\n",
       "      <td>0.542735</td>\n",
       "    </tr>\n",
       "  </tbody>\n",
       "</table>\n",
       "</div>"
      ],
      "text/plain": [
       "stat                                mean\n",
       "field               persona_id          \n",
       "session_long_talk   3           0.713675\n",
       "session_workshop    3           0.700855\n",
       "session_keynote     3           0.666667\n",
       "session_short_talk  3           0.547009\n",
       "sesson_topic_tables 3           0.542735"
      ]
     },
     "metadata": {},
     "output_type": "display_data"
    },
    {
     "name": "stdout",
     "output_type": "stream",
     "text": [
      "4: Somewhat Experienced Researchers\n"
     ]
    },
    {
     "data": {
      "text/html": [
       "<div>\n",
       "<style scoped>\n",
       "    .dataframe tbody tr th:only-of-type {\n",
       "        vertical-align: middle;\n",
       "    }\n",
       "\n",
       "    .dataframe tbody tr th {\n",
       "        vertical-align: top;\n",
       "    }\n",
       "\n",
       "    .dataframe thead th {\n",
       "        text-align: right;\n",
       "    }\n",
       "</style>\n",
       "<table border=\"1\" class=\"dataframe\">\n",
       "  <thead>\n",
       "    <tr style=\"text-align: right;\">\n",
       "      <th></th>\n",
       "      <th>stat</th>\n",
       "      <th>mean</th>\n",
       "    </tr>\n",
       "    <tr>\n",
       "      <th>field</th>\n",
       "      <th>persona_id</th>\n",
       "      <th></th>\n",
       "    </tr>\n",
       "  </thead>\n",
       "  <tbody>\n",
       "    <tr>\n",
       "      <th>session_workshop</th>\n",
       "      <th>4</th>\n",
       "      <td>0.767956</td>\n",
       "    </tr>\n",
       "    <tr>\n",
       "      <th>session_long_talk</th>\n",
       "      <th>4</th>\n",
       "      <td>0.751381</td>\n",
       "    </tr>\n",
       "    <tr>\n",
       "      <th>session_keynote</th>\n",
       "      <th>4</th>\n",
       "      <td>0.734807</td>\n",
       "    </tr>\n",
       "    <tr>\n",
       "      <th>sesson_topic_tables</th>\n",
       "      <th>4</th>\n",
       "      <td>0.585635</td>\n",
       "    </tr>\n",
       "    <tr>\n",
       "      <th>session_short_talk</th>\n",
       "      <th>4</th>\n",
       "      <td>0.535912</td>\n",
       "    </tr>\n",
       "  </tbody>\n",
       "</table>\n",
       "</div>"
      ],
      "text/plain": [
       "stat                                mean\n",
       "field               persona_id          \n",
       "session_workshop    4           0.767956\n",
       "session_long_talk   4           0.751381\n",
       "session_keynote     4           0.734807\n",
       "sesson_topic_tables 4           0.585635\n",
       "session_short_talk  4           0.535912"
      ]
     },
     "metadata": {},
     "output_type": "display_data"
    },
    {
     "name": "stdout",
     "output_type": "stream",
     "text": [
      "5: Less Experienced Researchers\n"
     ]
    },
    {
     "data": {
      "text/html": [
       "<div>\n",
       "<style scoped>\n",
       "    .dataframe tbody tr th:only-of-type {\n",
       "        vertical-align: middle;\n",
       "    }\n",
       "\n",
       "    .dataframe tbody tr th {\n",
       "        vertical-align: top;\n",
       "    }\n",
       "\n",
       "    .dataframe thead th {\n",
       "        text-align: right;\n",
       "    }\n",
       "</style>\n",
       "<table border=\"1\" class=\"dataframe\">\n",
       "  <thead>\n",
       "    <tr style=\"text-align: right;\">\n",
       "      <th></th>\n",
       "      <th>stat</th>\n",
       "      <th>mean</th>\n",
       "    </tr>\n",
       "    <tr>\n",
       "      <th>field</th>\n",
       "      <th>persona_id</th>\n",
       "      <th></th>\n",
       "    </tr>\n",
       "  </thead>\n",
       "  <tbody>\n",
       "    <tr>\n",
       "      <th>session_workshop</th>\n",
       "      <th>5</th>\n",
       "      <td>0.840426</td>\n",
       "    </tr>\n",
       "    <tr>\n",
       "      <th>session_keynote</th>\n",
       "      <th>5</th>\n",
       "      <td>0.765957</td>\n",
       "    </tr>\n",
       "    <tr>\n",
       "      <th>session_long_talk</th>\n",
       "      <th>5</th>\n",
       "      <td>0.691489</td>\n",
       "    </tr>\n",
       "    <tr>\n",
       "      <th>sesson_topic_tables</th>\n",
       "      <th>5</th>\n",
       "      <td>0.638298</td>\n",
       "    </tr>\n",
       "    <tr>\n",
       "      <th>session_qa</th>\n",
       "      <th>5</th>\n",
       "      <td>0.510638</td>\n",
       "    </tr>\n",
       "  </tbody>\n",
       "</table>\n",
       "</div>"
      ],
      "text/plain": [
       "stat                                mean\n",
       "field               persona_id          \n",
       "session_workshop    5           0.840426\n",
       "session_keynote     5           0.765957\n",
       "session_long_talk   5           0.691489\n",
       "sesson_topic_tables 5           0.638298\n",
       "session_qa          5           0.510638"
      ]
     },
     "metadata": {},
     "output_type": "display_data"
    },
    {
     "name": "stdout",
     "output_type": "stream",
     "text": [
      "1: Executives and Consultants\n"
     ]
    },
    {
     "data": {
      "text/html": [
       "<div>\n",
       "<style scoped>\n",
       "    .dataframe tbody tr th:only-of-type {\n",
       "        vertical-align: middle;\n",
       "    }\n",
       "\n",
       "    .dataframe tbody tr th {\n",
       "        vertical-align: top;\n",
       "    }\n",
       "\n",
       "    .dataframe thead th {\n",
       "        text-align: right;\n",
       "    }\n",
       "</style>\n",
       "<table border=\"1\" class=\"dataframe\">\n",
       "  <thead>\n",
       "    <tr style=\"text-align: right;\">\n",
       "      <th></th>\n",
       "      <th>stat</th>\n",
       "      <th>mean</th>\n",
       "    </tr>\n",
       "    <tr>\n",
       "      <th>field</th>\n",
       "      <th>persona_id</th>\n",
       "      <th></th>\n",
       "    </tr>\n",
       "  </thead>\n",
       "  <tbody>\n",
       "    <tr>\n",
       "      <th>factor_topics</th>\n",
       "      <th>1</th>\n",
       "      <td>0.968085</td>\n",
       "    </tr>\n",
       "    <tr>\n",
       "      <th>factor_ability_to_pay</th>\n",
       "      <th>1</th>\n",
       "      <td>0.861702</td>\n",
       "    </tr>\n",
       "    <tr>\n",
       "      <th>factor_location</th>\n",
       "      <th>1</th>\n",
       "      <td>0.723404</td>\n",
       "    </tr>\n",
       "    <tr>\n",
       "      <th>factor_diverse_speak</th>\n",
       "      <th>1</th>\n",
       "      <td>0.691489</td>\n",
       "    </tr>\n",
       "    <tr>\n",
       "      <th>factor_format_sessions</th>\n",
       "      <th>1</th>\n",
       "      <td>0.617021</td>\n",
       "    </tr>\n",
       "  </tbody>\n",
       "</table>\n",
       "</div>"
      ],
      "text/plain": [
       "stat                                   mean\n",
       "field                  persona_id          \n",
       "factor_topics          1           0.968085\n",
       "factor_ability_to_pay  1           0.861702\n",
       "factor_location        1           0.723404\n",
       "factor_diverse_speak   1           0.691489\n",
       "factor_format_sessions 1           0.617021"
      ]
     },
     "metadata": {},
     "output_type": "display_data"
    },
    {
     "name": "stdout",
     "output_type": "stream",
     "text": [
      "2: Specialists\n"
     ]
    },
    {
     "data": {
      "text/html": [
       "<div>\n",
       "<style scoped>\n",
       "    .dataframe tbody tr th:only-of-type {\n",
       "        vertical-align: middle;\n",
       "    }\n",
       "\n",
       "    .dataframe tbody tr th {\n",
       "        vertical-align: top;\n",
       "    }\n",
       "\n",
       "    .dataframe thead th {\n",
       "        text-align: right;\n",
       "    }\n",
       "</style>\n",
       "<table border=\"1\" class=\"dataframe\">\n",
       "  <thead>\n",
       "    <tr style=\"text-align: right;\">\n",
       "      <th></th>\n",
       "      <th>stat</th>\n",
       "      <th>mean</th>\n",
       "    </tr>\n",
       "    <tr>\n",
       "      <th>field</th>\n",
       "      <th>persona_id</th>\n",
       "      <th></th>\n",
       "    </tr>\n",
       "  </thead>\n",
       "  <tbody>\n",
       "    <tr>\n",
       "      <th>factor_topics</th>\n",
       "      <th>2</th>\n",
       "      <td>0.975610</td>\n",
       "    </tr>\n",
       "    <tr>\n",
       "      <th>factor_ability_to_pay</th>\n",
       "      <th>2</th>\n",
       "      <td>0.821138</td>\n",
       "    </tr>\n",
       "    <tr>\n",
       "      <th>factor_location</th>\n",
       "      <th>2</th>\n",
       "      <td>0.772358</td>\n",
       "    </tr>\n",
       "    <tr>\n",
       "      <th>factor_diverse_speak</th>\n",
       "      <th>2</th>\n",
       "      <td>0.674797</td>\n",
       "    </tr>\n",
       "    <tr>\n",
       "      <th>factor_format_sessions</th>\n",
       "      <th>2</th>\n",
       "      <td>0.634146</td>\n",
       "    </tr>\n",
       "  </tbody>\n",
       "</table>\n",
       "</div>"
      ],
      "text/plain": [
       "stat                                   mean\n",
       "field                  persona_id          \n",
       "factor_topics          2           0.975610\n",
       "factor_ability_to_pay  2           0.821138\n",
       "factor_location        2           0.772358\n",
       "factor_diverse_speak   2           0.674797\n",
       "factor_format_sessions 2           0.634146"
      ]
     },
     "metadata": {},
     "output_type": "display_data"
    },
    {
     "name": "stdout",
     "output_type": "stream",
     "text": [
      "3: Very Experienced Researchers and Designers\n"
     ]
    },
    {
     "data": {
      "text/html": [
       "<div>\n",
       "<style scoped>\n",
       "    .dataframe tbody tr th:only-of-type {\n",
       "        vertical-align: middle;\n",
       "    }\n",
       "\n",
       "    .dataframe tbody tr th {\n",
       "        vertical-align: top;\n",
       "    }\n",
       "\n",
       "    .dataframe thead th {\n",
       "        text-align: right;\n",
       "    }\n",
       "</style>\n",
       "<table border=\"1\" class=\"dataframe\">\n",
       "  <thead>\n",
       "    <tr style=\"text-align: right;\">\n",
       "      <th></th>\n",
       "      <th>stat</th>\n",
       "      <th>mean</th>\n",
       "    </tr>\n",
       "    <tr>\n",
       "      <th>field</th>\n",
       "      <th>persona_id</th>\n",
       "      <th></th>\n",
       "    </tr>\n",
       "  </thead>\n",
       "  <tbody>\n",
       "    <tr>\n",
       "      <th>factor_topics</th>\n",
       "      <th>3</th>\n",
       "      <td>0.978632</td>\n",
       "    </tr>\n",
       "    <tr>\n",
       "      <th>factor_ability_to_pay</th>\n",
       "      <th>3</th>\n",
       "      <td>0.846154</td>\n",
       "    </tr>\n",
       "    <tr>\n",
       "      <th>factor_diverse_speak</th>\n",
       "      <th>3</th>\n",
       "      <td>0.722222</td>\n",
       "    </tr>\n",
       "    <tr>\n",
       "      <th>factor_location</th>\n",
       "      <th>3</th>\n",
       "      <td>0.705128</td>\n",
       "    </tr>\n",
       "    <tr>\n",
       "      <th>factor_format_sessions</th>\n",
       "      <th>3</th>\n",
       "      <td>0.653846</td>\n",
       "    </tr>\n",
       "  </tbody>\n",
       "</table>\n",
       "</div>"
      ],
      "text/plain": [
       "stat                                   mean\n",
       "field                  persona_id          \n",
       "factor_topics          3           0.978632\n",
       "factor_ability_to_pay  3           0.846154\n",
       "factor_diverse_speak   3           0.722222\n",
       "factor_location        3           0.705128\n",
       "factor_format_sessions 3           0.653846"
      ]
     },
     "metadata": {},
     "output_type": "display_data"
    },
    {
     "name": "stdout",
     "output_type": "stream",
     "text": [
      "4: Somewhat Experienced Researchers\n"
     ]
    },
    {
     "data": {
      "text/html": [
       "<div>\n",
       "<style scoped>\n",
       "    .dataframe tbody tr th:only-of-type {\n",
       "        vertical-align: middle;\n",
       "    }\n",
       "\n",
       "    .dataframe tbody tr th {\n",
       "        vertical-align: top;\n",
       "    }\n",
       "\n",
       "    .dataframe thead th {\n",
       "        text-align: right;\n",
       "    }\n",
       "</style>\n",
       "<table border=\"1\" class=\"dataframe\">\n",
       "  <thead>\n",
       "    <tr style=\"text-align: right;\">\n",
       "      <th></th>\n",
       "      <th>stat</th>\n",
       "      <th>mean</th>\n",
       "    </tr>\n",
       "    <tr>\n",
       "      <th>field</th>\n",
       "      <th>persona_id</th>\n",
       "      <th></th>\n",
       "    </tr>\n",
       "  </thead>\n",
       "  <tbody>\n",
       "    <tr>\n",
       "      <th>factor_topics</th>\n",
       "      <th>4</th>\n",
       "      <td>0.972376</td>\n",
       "    </tr>\n",
       "    <tr>\n",
       "      <th>factor_ability_to_pay</th>\n",
       "      <th>4</th>\n",
       "      <td>0.878453</td>\n",
       "    </tr>\n",
       "    <tr>\n",
       "      <th>factor_diverse_speak</th>\n",
       "      <th>4</th>\n",
       "      <td>0.790055</td>\n",
       "    </tr>\n",
       "    <tr>\n",
       "      <th>factor_location</th>\n",
       "      <th>4</th>\n",
       "      <td>0.756906</td>\n",
       "    </tr>\n",
       "    <tr>\n",
       "      <th>factor_format_sessions</th>\n",
       "      <th>4</th>\n",
       "      <td>0.679558</td>\n",
       "    </tr>\n",
       "  </tbody>\n",
       "</table>\n",
       "</div>"
      ],
      "text/plain": [
       "stat                                   mean\n",
       "field                  persona_id          \n",
       "factor_topics          4           0.972376\n",
       "factor_ability_to_pay  4           0.878453\n",
       "factor_diverse_speak   4           0.790055\n",
       "factor_location        4           0.756906\n",
       "factor_format_sessions 4           0.679558"
      ]
     },
     "metadata": {},
     "output_type": "display_data"
    },
    {
     "name": "stdout",
     "output_type": "stream",
     "text": [
      "5: Less Experienced Researchers\n"
     ]
    },
    {
     "data": {
      "text/html": [
       "<div>\n",
       "<style scoped>\n",
       "    .dataframe tbody tr th:only-of-type {\n",
       "        vertical-align: middle;\n",
       "    }\n",
       "\n",
       "    .dataframe tbody tr th {\n",
       "        vertical-align: top;\n",
       "    }\n",
       "\n",
       "    .dataframe thead th {\n",
       "        text-align: right;\n",
       "    }\n",
       "</style>\n",
       "<table border=\"1\" class=\"dataframe\">\n",
       "  <thead>\n",
       "    <tr style=\"text-align: right;\">\n",
       "      <th></th>\n",
       "      <th>stat</th>\n",
       "      <th>mean</th>\n",
       "    </tr>\n",
       "    <tr>\n",
       "      <th>field</th>\n",
       "      <th>persona_id</th>\n",
       "      <th></th>\n",
       "    </tr>\n",
       "  </thead>\n",
       "  <tbody>\n",
       "    <tr>\n",
       "      <th>factor_topics</th>\n",
       "      <th>5</th>\n",
       "      <td>0.946809</td>\n",
       "    </tr>\n",
       "    <tr>\n",
       "      <th>factor_ability_to_pay</th>\n",
       "      <th>5</th>\n",
       "      <td>0.840426</td>\n",
       "    </tr>\n",
       "    <tr>\n",
       "      <th>factor_location</th>\n",
       "      <th>5</th>\n",
       "      <td>0.744681</td>\n",
       "    </tr>\n",
       "    <tr>\n",
       "      <th>factor_diverse_speak</th>\n",
       "      <th>5</th>\n",
       "      <td>0.734043</td>\n",
       "    </tr>\n",
       "    <tr>\n",
       "      <th>factor_format_sessions</th>\n",
       "      <th>5</th>\n",
       "      <td>0.702128</td>\n",
       "    </tr>\n",
       "  </tbody>\n",
       "</table>\n",
       "</div>"
      ],
      "text/plain": [
       "stat                                   mean\n",
       "field                  persona_id          \n",
       "factor_topics          5           0.946809\n",
       "factor_ability_to_pay  5           0.840426\n",
       "factor_location        5           0.744681\n",
       "factor_diverse_speak   5           0.734043\n",
       "factor_format_sessions 5           0.702128"
      ]
     },
     "metadata": {},
     "output_type": "display_data"
    }
   ],
   "source": [
    "personas = wrangle.persona_names\n",
    "for l in [qs_sessions, qs_factors]: # qs_learning not ready yet\n",
    "    for p in personas:\n",
    "        print(f'{p}: {personas[p]}')\n",
    "        display(agg_df.loc[idx[l, [p]], ['mean']].sort_values(by='mean', ascending=False).head(5))"
   ]
  },
  {
   "cell_type": "code",
   "execution_count": null,
   "metadata": {},
   "outputs": [],
   "source": []
  }
 ],
 "metadata": {
  "kernelspec": {
   "display_name": "Python 3",
   "language": "python",
   "name": "python3"
  },
  "language_info": {
   "codemirror_mode": {
    "name": "ipython",
    "version": 3
   },
   "file_extension": ".py",
   "mimetype": "text/x-python",
   "name": "python",
   "nbconvert_exporter": "python",
   "pygments_lexer": "ipython3",
   "version": "3.7.3"
  }
 },
 "nbformat": 4,
 "nbformat_minor": 2
}

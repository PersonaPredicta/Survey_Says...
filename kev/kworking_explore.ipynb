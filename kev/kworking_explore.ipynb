{
 "cells": [
  {
   "cell_type": "code",
   "execution_count": 1,
   "metadata": {},
   "outputs": [],
   "source": [
    "# Python updates\n",
    "\n",
    "import pandas as pd\n",
    "import numpy as np\n",
    "import matplotlib.pyplot as plt\n",
    "import seaborn as sns\n",
    "from scipy import stats\n",
    "import itertools as it"
   ]
  },
  {
   "cell_type": "code",
   "execution_count": 2,
   "metadata": {},
   "outputs": [],
   "source": [
    "# Local updates\n",
    "\n",
    "import sys\n",
    "sys.path.append('../')\n",
    "import wrangle"
   ]
  },
  {
   "cell_type": "code",
   "execution_count": 3,
   "metadata": {},
   "outputs": [],
   "source": [
    "def ifull(obj):\n",
    "    with pd.option_context('display.max_rows', None, 'display.max_columns', None):  # more options can be specified also\n",
    "        display(obj)"
   ]
  },
  {
   "cell_type": "code",
   "execution_count": 4,
   "metadata": {},
   "outputs": [
    {
     "name": "stdout",
     "output_type": "stream",
     "text": [
      "(726, 77)\n"
     ]
    },
    {
     "data": {
      "text/html": [
       "<div>\n",
       "<style scoped>\n",
       "    .dataframe tbody tr th:only-of-type {\n",
       "        vertical-align: middle;\n",
       "    }\n",
       "\n",
       "    .dataframe tbody tr th {\n",
       "        vertical-align: top;\n",
       "    }\n",
       "\n",
       "    .dataframe thead th {\n",
       "        text-align: right;\n",
       "    }\n",
       "</style>\n",
       "<table border=\"1\" class=\"dataframe\">\n",
       "  <thead>\n",
       "    <tr style=\"text-align: right;\">\n",
       "      <th></th>\n",
       "      <th>job_title</th>\n",
       "      <th>job_taxo</th>\n",
       "      <th>job_id</th>\n",
       "      <th>job_conduct_res</th>\n",
       "      <th>job_analyze_res</th>\n",
       "      <th>job_buy_res_report</th>\n",
       "      <th>job_manage_res_proj</th>\n",
       "      <th>job_observe_res</th>\n",
       "      <th>job_plan_res</th>\n",
       "      <th>job_teach_res</th>\n",
       "      <th>...</th>\n",
       "      <th>session_workshop</th>\n",
       "      <th>session_network</th>\n",
       "      <th>session_social_event</th>\n",
       "      <th>session_qa</th>\n",
       "      <th>sesson_topic_tables</th>\n",
       "      <th>other_conference_types</th>\n",
       "      <th>ideal_topics</th>\n",
       "      <th>ideal_attendees</th>\n",
       "      <th>recommendations</th>\n",
       "      <th>persona_id</th>\n",
       "    </tr>\n",
       "    <tr>\n",
       "      <th>resp_id</th>\n",
       "      <th></th>\n",
       "      <th></th>\n",
       "      <th></th>\n",
       "      <th></th>\n",
       "      <th></th>\n",
       "      <th></th>\n",
       "      <th></th>\n",
       "      <th></th>\n",
       "      <th></th>\n",
       "      <th></th>\n",
       "      <th></th>\n",
       "      <th></th>\n",
       "      <th></th>\n",
       "      <th></th>\n",
       "      <th></th>\n",
       "      <th></th>\n",
       "      <th></th>\n",
       "      <th></th>\n",
       "      <th></th>\n",
       "      <th></th>\n",
       "      <th></th>\n",
       "    </tr>\n",
       "  </thead>\n",
       "  <tbody>\n",
       "    <tr>\n",
       "      <th>284</th>\n",
       "      <td>Academic</td>\n",
       "      <td>4</td>\n",
       "      <td>1.0</td>\n",
       "      <td>3</td>\n",
       "      <td>2</td>\n",
       "      <td>0</td>\n",
       "      <td>3</td>\n",
       "      <td>3</td>\n",
       "      <td>3</td>\n",
       "      <td>3</td>\n",
       "      <td>...</td>\n",
       "      <td>2</td>\n",
       "      <td>3</td>\n",
       "      <td>2</td>\n",
       "      <td>2</td>\n",
       "      <td>2</td>\n",
       "      <td>NaN</td>\n",
       "      <td>research-practice connections</td>\n",
       "      <td>NaN</td>\n",
       "      <td>research-practice connections</td>\n",
       "      <td>2</td>\n",
       "    </tr>\n",
       "    <tr>\n",
       "      <th>288</th>\n",
       "      <td>Academic</td>\n",
       "      <td>4</td>\n",
       "      <td>1.0</td>\n",
       "      <td>1</td>\n",
       "      <td>2</td>\n",
       "      <td>1</td>\n",
       "      <td>3</td>\n",
       "      <td>3</td>\n",
       "      <td>3</td>\n",
       "      <td>3</td>\n",
       "      <td>...</td>\n",
       "      <td>3</td>\n",
       "      <td>3</td>\n",
       "      <td>1</td>\n",
       "      <td>1</td>\n",
       "      <td>2</td>\n",
       "      <td>NaN</td>\n",
       "      <td>NaN</td>\n",
       "      <td>NaN</td>\n",
       "      <td>Don’t create schedule conflicts with other rel...</td>\n",
       "      <td>2</td>\n",
       "    </tr>\n",
       "    <tr>\n",
       "      <th>294</th>\n",
       "      <td>Academic</td>\n",
       "      <td>4</td>\n",
       "      <td>1.0</td>\n",
       "      <td>3</td>\n",
       "      <td>3</td>\n",
       "      <td>1</td>\n",
       "      <td>3</td>\n",
       "      <td>1</td>\n",
       "      <td>3</td>\n",
       "      <td>3</td>\n",
       "      <td>...</td>\n",
       "      <td>2</td>\n",
       "      <td>2</td>\n",
       "      <td>2</td>\n",
       "      <td>2</td>\n",
       "      <td>2</td>\n",
       "      <td>NaN</td>\n",
       "      <td>NaN</td>\n",
       "      <td>NaN</td>\n",
       "      <td>Looking forward! \\n</td>\n",
       "      <td>2</td>\n",
       "    </tr>\n",
       "    <tr>\n",
       "      <th>281</th>\n",
       "      <td>Academic</td>\n",
       "      <td>4</td>\n",
       "      <td>1.0</td>\n",
       "      <td>3</td>\n",
       "      <td>4</td>\n",
       "      <td>0</td>\n",
       "      <td>2</td>\n",
       "      <td>3</td>\n",
       "      <td>2</td>\n",
       "      <td>0</td>\n",
       "      <td>...</td>\n",
       "      <td>3</td>\n",
       "      <td>2</td>\n",
       "      <td>2</td>\n",
       "      <td>3</td>\n",
       "      <td>2</td>\n",
       "      <td>NaN</td>\n",
       "      <td>Research design, innovative methods, communica...</td>\n",
       "      <td>NaN</td>\n",
       "      <td>NaN</td>\n",
       "      <td>2</td>\n",
       "    </tr>\n",
       "    <tr>\n",
       "      <th>280</th>\n",
       "      <td>Academic</td>\n",
       "      <td>4</td>\n",
       "      <td>1.0</td>\n",
       "      <td>3</td>\n",
       "      <td>3</td>\n",
       "      <td>0</td>\n",
       "      <td>1</td>\n",
       "      <td>1</td>\n",
       "      <td>3</td>\n",
       "      <td>2</td>\n",
       "      <td>...</td>\n",
       "      <td>3</td>\n",
       "      <td>2</td>\n",
       "      <td>1</td>\n",
       "      <td>2</td>\n",
       "      <td>2</td>\n",
       "      <td>You should consider the combination of confere...</td>\n",
       "      <td>NaN</td>\n",
       "      <td>NaN</td>\n",
       "      <td>NaN</td>\n",
       "      <td>2</td>\n",
       "    </tr>\n",
       "  </tbody>\n",
       "</table>\n",
       "<p>5 rows × 77 columns</p>\n",
       "</div>"
      ],
      "text/plain": [
       "        job_title job_taxo job_id  job_conduct_res  job_analyze_res  \\\n",
       "resp_id                                                               \n",
       "284      Academic        4    1.0                3                2   \n",
       "288      Academic        4    1.0                1                2   \n",
       "294      Academic        4    1.0                3                3   \n",
       "281      Academic        4    1.0                3                4   \n",
       "280      Academic        4    1.0                3                3   \n",
       "\n",
       "         job_buy_res_report  job_manage_res_proj  job_observe_res  \\\n",
       "resp_id                                                             \n",
       "284                       0                    3                3   \n",
       "288                       1                    3                3   \n",
       "294                       1                    3                1   \n",
       "281                       0                    2                3   \n",
       "280                       0                    1                1   \n",
       "\n",
       "         job_plan_res  job_teach_res  ...  session_workshop  session_network  \\\n",
       "resp_id                               ...                                      \n",
       "284                 3              3  ...                 2                3   \n",
       "288                 3              3  ...                 3                3   \n",
       "294                 3              3  ...                 2                2   \n",
       "281                 2              0  ...                 3                2   \n",
       "280                 3              2  ...                 3                2   \n",
       "\n",
       "         session_social_event session_qa sesson_topic_tables  \\\n",
       "resp_id                                                        \n",
       "284                         2          2                   2   \n",
       "288                         1          1                   2   \n",
       "294                         2          2                   2   \n",
       "281                         2          3                   2   \n",
       "280                         1          2                   2   \n",
       "\n",
       "                                    other_conference_types  \\\n",
       "resp_id                                                      \n",
       "284                                                    NaN   \n",
       "288                                                    NaN   \n",
       "294                                                    NaN   \n",
       "281                                                    NaN   \n",
       "280      You should consider the combination of confere...   \n",
       "\n",
       "                                              ideal_topics ideal_attendees  \\\n",
       "resp_id                                                                      \n",
       "284                          research-practice connections             NaN   \n",
       "288                                                    NaN             NaN   \n",
       "294                                                    NaN             NaN   \n",
       "281      Research design, innovative methods, communica...             NaN   \n",
       "280                                                    NaN             NaN   \n",
       "\n",
       "                                           recommendations  persona_id  \n",
       "resp_id                                                                 \n",
       "284                          research-practice connections           2  \n",
       "288      Don’t create schedule conflicts with other rel...           2  \n",
       "294                                    Looking forward! \\n           2  \n",
       "281                                                    NaN           2  \n",
       "280                                                    NaN           2  \n",
       "\n",
       "[5 rows x 77 columns]"
      ]
     },
     "metadata": {},
     "output_type": "display_data"
    },
    {
     "data": {
      "text/html": [
       "<div>\n",
       "<style scoped>\n",
       "    .dataframe tbody tr th:only-of-type {\n",
       "        vertical-align: middle;\n",
       "    }\n",
       "\n",
       "    .dataframe tbody tr th {\n",
       "        vertical-align: top;\n",
       "    }\n",
       "\n",
       "    .dataframe thead th {\n",
       "        text-align: right;\n",
       "    }\n",
       "</style>\n",
       "<table border=\"1\" class=\"dataframe\">\n",
       "  <thead>\n",
       "    <tr style=\"text-align: right;\">\n",
       "      <th></th>\n",
       "      <th>count</th>\n",
       "      <th>mean</th>\n",
       "      <th>std</th>\n",
       "      <th>min</th>\n",
       "      <th>25%</th>\n",
       "      <th>50%</th>\n",
       "      <th>75%</th>\n",
       "      <th>max</th>\n",
       "    </tr>\n",
       "  </thead>\n",
       "  <tbody>\n",
       "    <tr>\n",
       "      <th>job_conduct_res</th>\n",
       "      <td>726.0</td>\n",
       "      <td>2.856749</td>\n",
       "      <td>1.025941</td>\n",
       "      <td>0.0</td>\n",
       "      <td>3.0</td>\n",
       "      <td>3.0</td>\n",
       "      <td>4.0</td>\n",
       "      <td>4.0</td>\n",
       "    </tr>\n",
       "    <tr>\n",
       "      <th>job_analyze_res</th>\n",
       "      <td>726.0</td>\n",
       "      <td>2.913223</td>\n",
       "      <td>0.939210</td>\n",
       "      <td>0.0</td>\n",
       "      <td>3.0</td>\n",
       "      <td>3.0</td>\n",
       "      <td>3.0</td>\n",
       "      <td>4.0</td>\n",
       "    </tr>\n",
       "    <tr>\n",
       "      <th>job_buy_res_report</th>\n",
       "      <td>726.0</td>\n",
       "      <td>0.402204</td>\n",
       "      <td>0.720686</td>\n",
       "      <td>0.0</td>\n",
       "      <td>0.0</td>\n",
       "      <td>0.0</td>\n",
       "      <td>1.0</td>\n",
       "      <td>4.0</td>\n",
       "    </tr>\n",
       "    <tr>\n",
       "      <th>job_manage_res_proj</th>\n",
       "      <td>726.0</td>\n",
       "      <td>2.600551</td>\n",
       "      <td>1.166285</td>\n",
       "      <td>0.0</td>\n",
       "      <td>2.0</td>\n",
       "      <td>3.0</td>\n",
       "      <td>3.0</td>\n",
       "      <td>4.0</td>\n",
       "    </tr>\n",
       "    <tr>\n",
       "      <th>job_observe_res</th>\n",
       "      <td>726.0</td>\n",
       "      <td>1.982094</td>\n",
       "      <td>1.134273</td>\n",
       "      <td>0.0</td>\n",
       "      <td>1.0</td>\n",
       "      <td>2.0</td>\n",
       "      <td>3.0</td>\n",
       "      <td>4.0</td>\n",
       "    </tr>\n",
       "    <tr>\n",
       "      <th>job_plan_res</th>\n",
       "      <td>726.0</td>\n",
       "      <td>2.931129</td>\n",
       "      <td>0.950177</td>\n",
       "      <td>0.0</td>\n",
       "      <td>3.0</td>\n",
       "      <td>3.0</td>\n",
       "      <td>4.0</td>\n",
       "      <td>4.0</td>\n",
       "    </tr>\n",
       "    <tr>\n",
       "      <th>job_teach_res</th>\n",
       "      <td>726.0</td>\n",
       "      <td>1.845730</td>\n",
       "      <td>1.236637</td>\n",
       "      <td>0.0</td>\n",
       "      <td>1.0</td>\n",
       "      <td>2.0</td>\n",
       "      <td>3.0</td>\n",
       "      <td>4.0</td>\n",
       "    </tr>\n",
       "    <tr>\n",
       "      <th>job_advocate_res</th>\n",
       "      <td>726.0</td>\n",
       "      <td>2.924242</td>\n",
       "      <td>1.056235</td>\n",
       "      <td>0.0</td>\n",
       "      <td>3.0</td>\n",
       "      <td>3.0</td>\n",
       "      <td>4.0</td>\n",
       "      <td>4.0</td>\n",
       "    </tr>\n",
       "    <tr>\n",
       "      <th>job_hire_res_vendor</th>\n",
       "      <td>726.0</td>\n",
       "      <td>0.776860</td>\n",
       "      <td>0.914143</td>\n",
       "      <td>0.0</td>\n",
       "      <td>0.0</td>\n",
       "      <td>1.0</td>\n",
       "      <td>1.0</td>\n",
       "      <td>4.0</td>\n",
       "    </tr>\n",
       "    <tr>\n",
       "      <th>job_lead_res_team</th>\n",
       "      <td>726.0</td>\n",
       "      <td>1.860882</td>\n",
       "      <td>1.486931</td>\n",
       "      <td>0.0</td>\n",
       "      <td>0.0</td>\n",
       "      <td>2.0</td>\n",
       "      <td>3.0</td>\n",
       "      <td>4.0</td>\n",
       "    </tr>\n",
       "    <tr>\n",
       "      <th>exp_conduct_res</th>\n",
       "      <td>726.0</td>\n",
       "      <td>3.283747</td>\n",
       "      <td>1.571974</td>\n",
       "      <td>0.0</td>\n",
       "      <td>2.0</td>\n",
       "      <td>4.0</td>\n",
       "      <td>5.0</td>\n",
       "      <td>5.0</td>\n",
       "    </tr>\n",
       "    <tr>\n",
       "      <th>exp_analyze_res</th>\n",
       "      <td>726.0</td>\n",
       "      <td>3.323691</td>\n",
       "      <td>1.553165</td>\n",
       "      <td>0.0</td>\n",
       "      <td>2.0</td>\n",
       "      <td>4.0</td>\n",
       "      <td>5.0</td>\n",
       "      <td>5.0</td>\n",
       "    </tr>\n",
       "    <tr>\n",
       "      <th>exp_buy_res_report</th>\n",
       "      <td>726.0</td>\n",
       "      <td>0.960055</td>\n",
       "      <td>1.608530</td>\n",
       "      <td>0.0</td>\n",
       "      <td>0.0</td>\n",
       "      <td>0.0</td>\n",
       "      <td>1.0</td>\n",
       "      <td>5.0</td>\n",
       "    </tr>\n",
       "    <tr>\n",
       "      <th>exp_manage_res_proj</th>\n",
       "      <td>726.0</td>\n",
       "      <td>2.633609</td>\n",
       "      <td>1.702955</td>\n",
       "      <td>0.0</td>\n",
       "      <td>1.0</td>\n",
       "      <td>2.0</td>\n",
       "      <td>4.0</td>\n",
       "      <td>5.0</td>\n",
       "    </tr>\n",
       "    <tr>\n",
       "      <th>exp_observe_res</th>\n",
       "      <td>726.0</td>\n",
       "      <td>3.084022</td>\n",
       "      <td>1.694565</td>\n",
       "      <td>0.0</td>\n",
       "      <td>2.0</td>\n",
       "      <td>3.0</td>\n",
       "      <td>5.0</td>\n",
       "      <td>5.0</td>\n",
       "    </tr>\n",
       "    <tr>\n",
       "      <th>exp_plan_res</th>\n",
       "      <td>726.0</td>\n",
       "      <td>3.139118</td>\n",
       "      <td>1.589165</td>\n",
       "      <td>0.0</td>\n",
       "      <td>2.0</td>\n",
       "      <td>3.0</td>\n",
       "      <td>5.0</td>\n",
       "      <td>5.0</td>\n",
       "    </tr>\n",
       "    <tr>\n",
       "      <th>exp_teach_res</th>\n",
       "      <td>726.0</td>\n",
       "      <td>1.862259</td>\n",
       "      <td>1.684913</td>\n",
       "      <td>0.0</td>\n",
       "      <td>0.0</td>\n",
       "      <td>1.0</td>\n",
       "      <td>3.0</td>\n",
       "      <td>5.0</td>\n",
       "    </tr>\n",
       "    <tr>\n",
       "      <th>exp_advocate_res</th>\n",
       "      <td>726.0</td>\n",
       "      <td>2.906336</td>\n",
       "      <td>1.711475</td>\n",
       "      <td>0.0</td>\n",
       "      <td>1.0</td>\n",
       "      <td>3.0</td>\n",
       "      <td>5.0</td>\n",
       "      <td>5.0</td>\n",
       "    </tr>\n",
       "    <tr>\n",
       "      <th>exp_hire_res_vendor</th>\n",
       "      <td>726.0</td>\n",
       "      <td>1.326446</td>\n",
       "      <td>1.654099</td>\n",
       "      <td>0.0</td>\n",
       "      <td>0.0</td>\n",
       "      <td>1.0</td>\n",
       "      <td>2.0</td>\n",
       "      <td>5.0</td>\n",
       "    </tr>\n",
       "    <tr>\n",
       "      <th>exp_lead_res_team</th>\n",
       "      <td>726.0</td>\n",
       "      <td>1.632231</td>\n",
       "      <td>1.674476</td>\n",
       "      <td>0.0</td>\n",
       "      <td>0.0</td>\n",
       "      <td>1.0</td>\n",
       "      <td>3.0</td>\n",
       "      <td>5.0</td>\n",
       "    </tr>\n",
       "    <tr>\n",
       "      <th>learning_talks</th>\n",
       "      <td>726.0</td>\n",
       "      <td>2.074380</td>\n",
       "      <td>0.791318</td>\n",
       "      <td>0.0</td>\n",
       "      <td>2.0</td>\n",
       "      <td>2.0</td>\n",
       "      <td>3.0</td>\n",
       "      <td>3.0</td>\n",
       "    </tr>\n",
       "    <tr>\n",
       "      <th>learning_read</th>\n",
       "      <td>726.0</td>\n",
       "      <td>2.659780</td>\n",
       "      <td>0.571707</td>\n",
       "      <td>0.0</td>\n",
       "      <td>2.0</td>\n",
       "      <td>3.0</td>\n",
       "      <td>3.0</td>\n",
       "      <td>3.0</td>\n",
       "    </tr>\n",
       "    <tr>\n",
       "      <th>learning_meetup</th>\n",
       "      <td>726.0</td>\n",
       "      <td>1.801653</td>\n",
       "      <td>0.836609</td>\n",
       "      <td>0.0</td>\n",
       "      <td>1.0</td>\n",
       "      <td>2.0</td>\n",
       "      <td>2.0</td>\n",
       "      <td>3.0</td>\n",
       "    </tr>\n",
       "    <tr>\n",
       "      <th>learning_workshop</th>\n",
       "      <td>726.0</td>\n",
       "      <td>1.451791</td>\n",
       "      <td>0.784165</td>\n",
       "      <td>0.0</td>\n",
       "      <td>1.0</td>\n",
       "      <td>1.0</td>\n",
       "      <td>2.0</td>\n",
       "      <td>3.0</td>\n",
       "    </tr>\n",
       "    <tr>\n",
       "      <th>learning_conference</th>\n",
       "      <td>726.0</td>\n",
       "      <td>1.663912</td>\n",
       "      <td>0.761119</td>\n",
       "      <td>0.0</td>\n",
       "      <td>1.0</td>\n",
       "      <td>2.0</td>\n",
       "      <td>2.0</td>\n",
       "      <td>3.0</td>\n",
       "    </tr>\n",
       "    <tr>\n",
       "      <th>likely_watch_video</th>\n",
       "      <td>726.0</td>\n",
       "      <td>2.982094</td>\n",
       "      <td>0.960436</td>\n",
       "      <td>0.0</td>\n",
       "      <td>3.0</td>\n",
       "      <td>3.0</td>\n",
       "      <td>4.0</td>\n",
       "      <td>4.0</td>\n",
       "    </tr>\n",
       "    <tr>\n",
       "      <th>likely_internet</th>\n",
       "      <td>726.0</td>\n",
       "      <td>3.500000</td>\n",
       "      <td>0.711967</td>\n",
       "      <td>0.0</td>\n",
       "      <td>3.0</td>\n",
       "      <td>4.0</td>\n",
       "      <td>4.0</td>\n",
       "      <td>4.0</td>\n",
       "    </tr>\n",
       "    <tr>\n",
       "      <th>likely_book</th>\n",
       "      <td>726.0</td>\n",
       "      <td>3.263085</td>\n",
       "      <td>0.834391</td>\n",
       "      <td>0.0</td>\n",
       "      <td>3.0</td>\n",
       "      <td>3.0</td>\n",
       "      <td>4.0</td>\n",
       "      <td>4.0</td>\n",
       "    </tr>\n",
       "    <tr>\n",
       "      <th>likely_online_group</th>\n",
       "      <td>726.0</td>\n",
       "      <td>2.079890</td>\n",
       "      <td>1.213355</td>\n",
       "      <td>0.0</td>\n",
       "      <td>1.0</td>\n",
       "      <td>2.0</td>\n",
       "      <td>3.0</td>\n",
       "      <td>4.0</td>\n",
       "    </tr>\n",
       "    <tr>\n",
       "      <th>likely_colleague</th>\n",
       "      <td>726.0</td>\n",
       "      <td>3.053719</td>\n",
       "      <td>0.983242</td>\n",
       "      <td>0.0</td>\n",
       "      <td>3.0</td>\n",
       "      <td>3.0</td>\n",
       "      <td>4.0</td>\n",
       "      <td>4.0</td>\n",
       "    </tr>\n",
       "    <tr>\n",
       "      <th>likely_meetup</th>\n",
       "      <td>726.0</td>\n",
       "      <td>2.202479</td>\n",
       "      <td>1.150254</td>\n",
       "      <td>0.0</td>\n",
       "      <td>1.0</td>\n",
       "      <td>2.0</td>\n",
       "      <td>3.0</td>\n",
       "      <td>4.0</td>\n",
       "    </tr>\n",
       "    <tr>\n",
       "      <th>likely_conference</th>\n",
       "      <td>726.0</td>\n",
       "      <td>2.250689</td>\n",
       "      <td>1.143723</td>\n",
       "      <td>0.0</td>\n",
       "      <td>1.0</td>\n",
       "      <td>2.0</td>\n",
       "      <td>3.0</td>\n",
       "      <td>4.0</td>\n",
       "    </tr>\n",
       "    <tr>\n",
       "      <th>likely_workshop</th>\n",
       "      <td>726.0</td>\n",
       "      <td>2.360882</td>\n",
       "      <td>1.101378</td>\n",
       "      <td>0.0</td>\n",
       "      <td>2.0</td>\n",
       "      <td>2.0</td>\n",
       "      <td>3.0</td>\n",
       "      <td>4.0</td>\n",
       "    </tr>\n",
       "    <tr>\n",
       "      <th>factor_speaker</th>\n",
       "      <td>726.0</td>\n",
       "      <td>2.236915</td>\n",
       "      <td>1.157435</td>\n",
       "      <td>0.0</td>\n",
       "      <td>1.0</td>\n",
       "      <td>2.0</td>\n",
       "      <td>3.0</td>\n",
       "      <td>4.0</td>\n",
       "    </tr>\n",
       "    <tr>\n",
       "      <th>factor_diverse_speak</th>\n",
       "      <td>726.0</td>\n",
       "      <td>2.871901</td>\n",
       "      <td>1.071954</td>\n",
       "      <td>0.0</td>\n",
       "      <td>2.0</td>\n",
       "      <td>3.0</td>\n",
       "      <td>4.0</td>\n",
       "      <td>4.0</td>\n",
       "    </tr>\n",
       "    <tr>\n",
       "      <th>factor_topics</th>\n",
       "      <td>726.0</td>\n",
       "      <td>3.652893</td>\n",
       "      <td>0.590183</td>\n",
       "      <td>0.0</td>\n",
       "      <td>3.0</td>\n",
       "      <td>4.0</td>\n",
       "      <td>4.0</td>\n",
       "      <td>4.0</td>\n",
       "    </tr>\n",
       "    <tr>\n",
       "      <th>factor_format_sessions</th>\n",
       "      <td>726.0</td>\n",
       "      <td>2.776860</td>\n",
       "      <td>0.926135</td>\n",
       "      <td>0.0</td>\n",
       "      <td>2.0</td>\n",
       "      <td>3.0</td>\n",
       "      <td>3.0</td>\n",
       "      <td>4.0</td>\n",
       "    </tr>\n",
       "    <tr>\n",
       "      <th>factor_size</th>\n",
       "      <td>726.0</td>\n",
       "      <td>2.209366</td>\n",
       "      <td>1.168658</td>\n",
       "      <td>0.0</td>\n",
       "      <td>1.0</td>\n",
       "      <td>2.0</td>\n",
       "      <td>3.0</td>\n",
       "      <td>4.0</td>\n",
       "    </tr>\n",
       "    <tr>\n",
       "      <th>factor_network</th>\n",
       "      <td>726.0</td>\n",
       "      <td>1.998623</td>\n",
       "      <td>1.107341</td>\n",
       "      <td>0.0</td>\n",
       "      <td>1.0</td>\n",
       "      <td>2.0</td>\n",
       "      <td>3.0</td>\n",
       "      <td>4.0</td>\n",
       "    </tr>\n",
       "    <tr>\n",
       "      <th>factor_variety_attend</th>\n",
       "      <td>726.0</td>\n",
       "      <td>2.028926</td>\n",
       "      <td>1.158115</td>\n",
       "      <td>0.0</td>\n",
       "      <td>1.0</td>\n",
       "      <td>2.0</td>\n",
       "      <td>3.0</td>\n",
       "      <td>4.0</td>\n",
       "    </tr>\n",
       "    <tr>\n",
       "      <th>factor_code</th>\n",
       "      <td>726.0</td>\n",
       "      <td>1.903581</td>\n",
       "      <td>1.263411</td>\n",
       "      <td>0.0</td>\n",
       "      <td>1.0</td>\n",
       "      <td>2.0</td>\n",
       "      <td>3.0</td>\n",
       "      <td>4.0</td>\n",
       "    </tr>\n",
       "    <tr>\n",
       "      <th>factor_location</th>\n",
       "      <td>726.0</td>\n",
       "      <td>2.944904</td>\n",
       "      <td>1.019666</td>\n",
       "      <td>0.0</td>\n",
       "      <td>2.0</td>\n",
       "      <td>3.0</td>\n",
       "      <td>4.0</td>\n",
       "      <td>4.0</td>\n",
       "    </tr>\n",
       "    <tr>\n",
       "      <th>factor_ability_to_pay</th>\n",
       "      <td>726.0</td>\n",
       "      <td>3.336088</td>\n",
       "      <td>0.971309</td>\n",
       "      <td>0.0</td>\n",
       "      <td>3.0</td>\n",
       "      <td>4.0</td>\n",
       "      <td>4.0</td>\n",
       "      <td>4.0</td>\n",
       "    </tr>\n",
       "    <tr>\n",
       "      <th>session_keynote</th>\n",
       "      <td>726.0</td>\n",
       "      <td>2.706612</td>\n",
       "      <td>1.124344</td>\n",
       "      <td>0.0</td>\n",
       "      <td>2.0</td>\n",
       "      <td>3.0</td>\n",
       "      <td>3.0</td>\n",
       "      <td>4.0</td>\n",
       "    </tr>\n",
       "    <tr>\n",
       "      <th>session_long_talk</th>\n",
       "      <td>726.0</td>\n",
       "      <td>2.754821</td>\n",
       "      <td>0.977229</td>\n",
       "      <td>0.0</td>\n",
       "      <td>2.0</td>\n",
       "      <td>3.0</td>\n",
       "      <td>3.0</td>\n",
       "      <td>4.0</td>\n",
       "    </tr>\n",
       "    <tr>\n",
       "      <th>session_short_talk</th>\n",
       "      <td>726.0</td>\n",
       "      <td>2.341598</td>\n",
       "      <td>1.106273</td>\n",
       "      <td>0.0</td>\n",
       "      <td>2.0</td>\n",
       "      <td>3.0</td>\n",
       "      <td>3.0</td>\n",
       "      <td>4.0</td>\n",
       "    </tr>\n",
       "    <tr>\n",
       "      <th>session_workshop</th>\n",
       "      <td>726.0</td>\n",
       "      <td>2.988981</td>\n",
       "      <td>1.109154</td>\n",
       "      <td>0.0</td>\n",
       "      <td>2.0</td>\n",
       "      <td>3.0</td>\n",
       "      <td>4.0</td>\n",
       "      <td>4.0</td>\n",
       "    </tr>\n",
       "    <tr>\n",
       "      <th>session_network</th>\n",
       "      <td>726.0</td>\n",
       "      <td>2.173554</td>\n",
       "      <td>1.219458</td>\n",
       "      <td>0.0</td>\n",
       "      <td>1.0</td>\n",
       "      <td>2.0</td>\n",
       "      <td>3.0</td>\n",
       "      <td>4.0</td>\n",
       "    </tr>\n",
       "    <tr>\n",
       "      <th>session_social_event</th>\n",
       "      <td>726.0</td>\n",
       "      <td>1.480716</td>\n",
       "      <td>1.239149</td>\n",
       "      <td>0.0</td>\n",
       "      <td>0.0</td>\n",
       "      <td>1.0</td>\n",
       "      <td>2.0</td>\n",
       "      <td>4.0</td>\n",
       "    </tr>\n",
       "    <tr>\n",
       "      <th>session_qa</th>\n",
       "      <td>726.0</td>\n",
       "      <td>2.121212</td>\n",
       "      <td>1.179908</td>\n",
       "      <td>0.0</td>\n",
       "      <td>1.0</td>\n",
       "      <td>2.0</td>\n",
       "      <td>3.0</td>\n",
       "      <td>4.0</td>\n",
       "    </tr>\n",
       "    <tr>\n",
       "      <th>sesson_topic_tables</th>\n",
       "      <td>726.0</td>\n",
       "      <td>2.431129</td>\n",
       "      <td>1.211472</td>\n",
       "      <td>0.0</td>\n",
       "      <td>2.0</td>\n",
       "      <td>3.0</td>\n",
       "      <td>3.0</td>\n",
       "      <td>4.0</td>\n",
       "    </tr>\n",
       "  </tbody>\n",
       "</table>\n",
       "</div>"
      ],
      "text/plain": [
       "                        count      mean       std  min  25%  50%  75%  max\n",
       "job_conduct_res         726.0  2.856749  1.025941  0.0  3.0  3.0  4.0  4.0\n",
       "job_analyze_res         726.0  2.913223  0.939210  0.0  3.0  3.0  3.0  4.0\n",
       "job_buy_res_report      726.0  0.402204  0.720686  0.0  0.0  0.0  1.0  4.0\n",
       "job_manage_res_proj     726.0  2.600551  1.166285  0.0  2.0  3.0  3.0  4.0\n",
       "job_observe_res         726.0  1.982094  1.134273  0.0  1.0  2.0  3.0  4.0\n",
       "job_plan_res            726.0  2.931129  0.950177  0.0  3.0  3.0  4.0  4.0\n",
       "job_teach_res           726.0  1.845730  1.236637  0.0  1.0  2.0  3.0  4.0\n",
       "job_advocate_res        726.0  2.924242  1.056235  0.0  3.0  3.0  4.0  4.0\n",
       "job_hire_res_vendor     726.0  0.776860  0.914143  0.0  0.0  1.0  1.0  4.0\n",
       "job_lead_res_team       726.0  1.860882  1.486931  0.0  0.0  2.0  3.0  4.0\n",
       "exp_conduct_res         726.0  3.283747  1.571974  0.0  2.0  4.0  5.0  5.0\n",
       "exp_analyze_res         726.0  3.323691  1.553165  0.0  2.0  4.0  5.0  5.0\n",
       "exp_buy_res_report      726.0  0.960055  1.608530  0.0  0.0  0.0  1.0  5.0\n",
       "exp_manage_res_proj     726.0  2.633609  1.702955  0.0  1.0  2.0  4.0  5.0\n",
       "exp_observe_res         726.0  3.084022  1.694565  0.0  2.0  3.0  5.0  5.0\n",
       "exp_plan_res            726.0  3.139118  1.589165  0.0  2.0  3.0  5.0  5.0\n",
       "exp_teach_res           726.0  1.862259  1.684913  0.0  0.0  1.0  3.0  5.0\n",
       "exp_advocate_res        726.0  2.906336  1.711475  0.0  1.0  3.0  5.0  5.0\n",
       "exp_hire_res_vendor     726.0  1.326446  1.654099  0.0  0.0  1.0  2.0  5.0\n",
       "exp_lead_res_team       726.0  1.632231  1.674476  0.0  0.0  1.0  3.0  5.0\n",
       "learning_talks          726.0  2.074380  0.791318  0.0  2.0  2.0  3.0  3.0\n",
       "learning_read           726.0  2.659780  0.571707  0.0  2.0  3.0  3.0  3.0\n",
       "learning_meetup         726.0  1.801653  0.836609  0.0  1.0  2.0  2.0  3.0\n",
       "learning_workshop       726.0  1.451791  0.784165  0.0  1.0  1.0  2.0  3.0\n",
       "learning_conference     726.0  1.663912  0.761119  0.0  1.0  2.0  2.0  3.0\n",
       "likely_watch_video      726.0  2.982094  0.960436  0.0  3.0  3.0  4.0  4.0\n",
       "likely_internet         726.0  3.500000  0.711967  0.0  3.0  4.0  4.0  4.0\n",
       "likely_book             726.0  3.263085  0.834391  0.0  3.0  3.0  4.0  4.0\n",
       "likely_online_group     726.0  2.079890  1.213355  0.0  1.0  2.0  3.0  4.0\n",
       "likely_colleague        726.0  3.053719  0.983242  0.0  3.0  3.0  4.0  4.0\n",
       "likely_meetup           726.0  2.202479  1.150254  0.0  1.0  2.0  3.0  4.0\n",
       "likely_conference       726.0  2.250689  1.143723  0.0  1.0  2.0  3.0  4.0\n",
       "likely_workshop         726.0  2.360882  1.101378  0.0  2.0  2.0  3.0  4.0\n",
       "factor_speaker          726.0  2.236915  1.157435  0.0  1.0  2.0  3.0  4.0\n",
       "factor_diverse_speak    726.0  2.871901  1.071954  0.0  2.0  3.0  4.0  4.0\n",
       "factor_topics           726.0  3.652893  0.590183  0.0  3.0  4.0  4.0  4.0\n",
       "factor_format_sessions  726.0  2.776860  0.926135  0.0  2.0  3.0  3.0  4.0\n",
       "factor_size             726.0  2.209366  1.168658  0.0  1.0  2.0  3.0  4.0\n",
       "factor_network          726.0  1.998623  1.107341  0.0  1.0  2.0  3.0  4.0\n",
       "factor_variety_attend   726.0  2.028926  1.158115  0.0  1.0  2.0  3.0  4.0\n",
       "factor_code             726.0  1.903581  1.263411  0.0  1.0  2.0  3.0  4.0\n",
       "factor_location         726.0  2.944904  1.019666  0.0  2.0  3.0  4.0  4.0\n",
       "factor_ability_to_pay   726.0  3.336088  0.971309  0.0  3.0  4.0  4.0  4.0\n",
       "session_keynote         726.0  2.706612  1.124344  0.0  2.0  3.0  3.0  4.0\n",
       "session_long_talk       726.0  2.754821  0.977229  0.0  2.0  3.0  3.0  4.0\n",
       "session_short_talk      726.0  2.341598  1.106273  0.0  2.0  3.0  3.0  4.0\n",
       "session_workshop        726.0  2.988981  1.109154  0.0  2.0  3.0  4.0  4.0\n",
       "session_network         726.0  2.173554  1.219458  0.0  1.0  2.0  3.0  4.0\n",
       "session_social_event    726.0  1.480716  1.239149  0.0  0.0  1.0  2.0  4.0\n",
       "session_qa              726.0  2.121212  1.179908  0.0  1.0  2.0  3.0  4.0\n",
       "sesson_topic_tables     726.0  2.431129  1.211472  0.0  2.0  3.0  3.0  4.0"
      ]
     },
     "metadata": {},
     "output_type": "display_data"
    }
   ],
   "source": [
    "df, dictdf = wrangle.wrangle_data()\n",
    "print(df.shape)\n",
    "display(df.head(5))\n",
    "display(df.describe().T)"
   ]
  },
  {
   "cell_type": "code",
   "execution_count": 5,
   "metadata": {},
   "outputs": [],
   "source": [
    "learning_conference_int = np.array(df['learning_conference'] >1).astype('int32')\n",
    "likely_conference_int = np.array(df['likely_conference']>1).astype('int32')\n",
    "df['target'] = (learning_conference_int + likely_conference_int) / 2"
   ]
  },
  {
   "cell_type": "code",
   "execution_count": 6,
   "metadata": {},
   "outputs": [
    {
     "name": "stdout",
     "output_type": "stream",
     "text": [
      "<class 'pandas.core.frame.DataFrame'>\n",
      "Int64Index: 726 entries, 284 to 2\n",
      "Data columns (total 78 columns):\n",
      "job_title                    726 non-null category\n",
      "job_taxo                     726 non-null category\n",
      "job_id                       723 non-null category\n",
      "job_conduct_res              726 non-null int64\n",
      "job_analyze_res              726 non-null int64\n",
      "job_buy_res_report           726 non-null int64\n",
      "job_manage_res_proj          726 non-null int64\n",
      "job_observe_res              726 non-null int64\n",
      "job_plan_res                 726 non-null int64\n",
      "job_teach_res                726 non-null int64\n",
      "job_advocate_res             726 non-null int64\n",
      "job_hire_res_vendor          726 non-null int64\n",
      "job_lead_res_team            726 non-null int64\n",
      "num_employees                723 non-null category\n",
      "num_researchers              722 non-null category\n",
      "primary_industry             726 non-null category\n",
      "types_res_used               690 non-null category\n",
      "future_res                   609 non-null category\n",
      "exp_conduct_res              726 non-null int64\n",
      "exp_analyze_res              726 non-null int64\n",
      "exp_buy_res_report           726 non-null int64\n",
      "exp_manage_res_proj          726 non-null int64\n",
      "exp_observe_res              726 non-null int64\n",
      "exp_plan_res                 726 non-null int64\n",
      "exp_teach_res                726 non-null int64\n",
      "exp_advocate_res             726 non-null int64\n",
      "exp_hire_res_vendor          726 non-null int64\n",
      "exp_lead_res_team            726 non-null int64\n",
      "research_educ                726 non-null object\n",
      "research_educ_cat            726 non-null bool\n",
      "research_educ_desc           540 non-null object\n",
      "learning_talks               726 non-null int64\n",
      "learning_read                726 non-null int64\n",
      "learning_meetup              726 non-null int64\n",
      "learning_workshop            726 non-null int64\n",
      "learning_conference          726 non-null int64\n",
      "likely_watch_video           726 non-null int64\n",
      "likely_internet              726 non-null int64\n",
      "likely_book                  726 non-null int64\n",
      "likely_online_group          726 non-null int64\n",
      "likely_colleague             726 non-null int64\n",
      "likely_meetup                726 non-null int64\n",
      "likely_conference            726 non-null int64\n",
      "likely_workshop              726 non-null int64\n",
      "factor_speaker               726 non-null int64\n",
      "factor_diverse_speak         726 non-null int64\n",
      "factor_topics                726 non-null int64\n",
      "factor_format_sessions       726 non-null int64\n",
      "factor_size                  726 non-null int64\n",
      "factor_network               726 non-null int64\n",
      "factor_variety_attend        726 non-null int64\n",
      "factor_code                  726 non-null int64\n",
      "factor_location              726 non-null int64\n",
      "factor_ability_to_pay        726 non-null int64\n",
      "how_pick_events              644 non-null object\n",
      "best_event                   594 non-null object\n",
      "events_attend_recent         558 non-null object\n",
      "ideal_conference_size        726 non-null object\n",
      "ideal_conference_size_cat    726 non-null category\n",
      "ideal_structure              726 non-null object\n",
      "ideal_structure_cat          726 non-null category\n",
      "ideal_multi_track            726 non-null bool\n",
      "ideal_single_track           726 non-null bool\n",
      "ideal_unconference           726 non-null bool\n",
      "session_keynote              726 non-null int64\n",
      "session_long_talk            726 non-null int64\n",
      "session_short_talk           726 non-null int64\n",
      "session_workshop             726 non-null int64\n",
      "session_network              726 non-null int64\n",
      "session_social_event         726 non-null int64\n",
      "session_qa                   726 non-null int64\n",
      "sesson_topic_tables          726 non-null int64\n",
      "other_conference_types       258 non-null object\n",
      "ideal_topics                 560 non-null object\n",
      "ideal_attendees              471 non-null object\n",
      "recommendations              494 non-null object\n",
      "persona_id                   726 non-null category\n",
      "target                       726 non-null float64\n",
      "dtypes: bool(4), category(11), float64(1), int64(51), object(11)\n",
      "memory usage: 453.3+ KB\n"
     ]
    }
   ],
   "source": [
    "df.info()"
   ]
  },
  {
   "cell_type": "code",
   "execution_count": 7,
   "metadata": {},
   "outputs": [
    {
     "name": "stdout",
     "output_type": "stream",
     "text": [
      "(79, 11)\n"
     ]
    },
    {
     "data": {
      "text/html": [
       "<div>\n",
       "<style scoped>\n",
       "    .dataframe tbody tr th:only-of-type {\n",
       "        vertical-align: middle;\n",
       "    }\n",
       "\n",
       "    .dataframe tbody tr th {\n",
       "        vertical-align: top;\n",
       "    }\n",
       "\n",
       "    .dataframe thead th {\n",
       "        text-align: right;\n",
       "    }\n",
       "</style>\n",
       "<table border=\"1\" class=\"dataframe\">\n",
       "  <thead>\n",
       "    <tr style=\"text-align: right;\">\n",
       "      <th></th>\n",
       "      <th>column_name</th>\n",
       "      <th>is_required</th>\n",
       "      <th>from_orig_file</th>\n",
       "      <th>in_wrangle</th>\n",
       "      <th>char_type</th>\n",
       "      <th>function</th>\n",
       "      <th>data_type</th>\n",
       "      <th>encoder</th>\n",
       "      <th>survey_section</th>\n",
       "      <th>question_group</th>\n",
       "      <th>question_text</th>\n",
       "    </tr>\n",
       "    <tr>\n",
       "      <th>qid</th>\n",
       "      <th></th>\n",
       "      <th></th>\n",
       "      <th></th>\n",
       "      <th></th>\n",
       "      <th></th>\n",
       "      <th></th>\n",
       "      <th></th>\n",
       "      <th></th>\n",
       "      <th></th>\n",
       "      <th></th>\n",
       "      <th></th>\n",
       "    </tr>\n",
       "  </thead>\n",
       "  <tbody>\n",
       "    <tr>\n",
       "      <th>q00</th>\n",
       "      <td>resp_id</td>\n",
       "      <td>True</td>\n",
       "      <td>True</td>\n",
       "      <td>True</td>\n",
       "      <td>numeric</td>\n",
       "      <td>identification</td>\n",
       "      <td>int64</td>\n",
       "      <td>NaN</td>\n",
       "      <td>Survey</td>\n",
       "      <td>ID</td>\n",
       "      <td>Entry Id</td>\n",
       "    </tr>\n",
       "    <tr>\n",
       "      <th>q01a</th>\n",
       "      <td>job_title</td>\n",
       "      <td>True</td>\n",
       "      <td>True</td>\n",
       "      <td>True</td>\n",
       "      <td>text</td>\n",
       "      <td>categorical</td>\n",
       "      <td>category</td>\n",
       "      <td>NaN</td>\n",
       "      <td>Work</td>\n",
       "      <td>Position</td>\n",
       "      <td>Title</td>\n",
       "    </tr>\n",
       "    <tr>\n",
       "      <th>q01b</th>\n",
       "      <td>job_taxo</td>\n",
       "      <td>True</td>\n",
       "      <td>True</td>\n",
       "      <td>True</td>\n",
       "      <td>numeric</td>\n",
       "      <td>categorical</td>\n",
       "      <td>category</td>\n",
       "      <td>NaN</td>\n",
       "      <td>Work</td>\n",
       "      <td>Position</td>\n",
       "      <td>Job Taxo ID</td>\n",
       "    </tr>\n",
       "    <tr>\n",
       "      <th>q01c</th>\n",
       "      <td>job_id</td>\n",
       "      <td>False</td>\n",
       "      <td>True</td>\n",
       "      <td>True</td>\n",
       "      <td>numeric</td>\n",
       "      <td>categorical</td>\n",
       "      <td>category</td>\n",
       "      <td>NaN</td>\n",
       "      <td>Work</td>\n",
       "      <td>Position</td>\n",
       "      <td>Job ID</td>\n",
       "    </tr>\n",
       "    <tr>\n",
       "      <th>q02a</th>\n",
       "      <td>job_conduct_res</td>\n",
       "      <td>True</td>\n",
       "      <td>True</td>\n",
       "      <td>True</td>\n",
       "      <td>numeric</td>\n",
       "      <td>quantitative</td>\n",
       "      <td>int64</td>\n",
       "      <td>often5</td>\n",
       "      <td>Work</td>\n",
       "      <td>Research Duties</td>\n",
       "      <td>Conducting Research</td>\n",
       "    </tr>\n",
       "    <tr>\n",
       "      <th>...</th>\n",
       "      <td>...</td>\n",
       "      <td>...</td>\n",
       "      <td>...</td>\n",
       "      <td>...</td>\n",
       "      <td>...</td>\n",
       "      <td>...</td>\n",
       "      <td>...</td>\n",
       "      <td>...</td>\n",
       "      <td>...</td>\n",
       "      <td>...</td>\n",
       "      <td>...</td>\n",
       "    </tr>\n",
       "    <tr>\n",
       "      <th>q20</th>\n",
       "      <td>other_conference_types</td>\n",
       "      <td>False</td>\n",
       "      <td>True</td>\n",
       "      <td>True</td>\n",
       "      <td>text</td>\n",
       "      <td>qualitative</td>\n",
       "      <td>object</td>\n",
       "      <td>NaN</td>\n",
       "      <td>Conference 2</td>\n",
       "      <td>Sessions of Interest</td>\n",
       "      <td>Did we miss any other types of conference sess...</td>\n",
       "    </tr>\n",
       "    <tr>\n",
       "      <th>q21</th>\n",
       "      <td>ideal_topics</td>\n",
       "      <td>False</td>\n",
       "      <td>True</td>\n",
       "      <td>True</td>\n",
       "      <td>text</td>\n",
       "      <td>qualitative</td>\n",
       "      <td>object</td>\n",
       "      <td>NaN</td>\n",
       "      <td>Conference 2</td>\n",
       "      <td>Desired Topics</td>\n",
       "      <td>If attending a conference about research, what...</td>\n",
       "    </tr>\n",
       "    <tr>\n",
       "      <th>q22</th>\n",
       "      <td>ideal_attendees</td>\n",
       "      <td>False</td>\n",
       "      <td>True</td>\n",
       "      <td>True</td>\n",
       "      <td>text</td>\n",
       "      <td>qualitative</td>\n",
       "      <td>object</td>\n",
       "      <td>NaN</td>\n",
       "      <td>Conference 2</td>\n",
       "      <td>Desired Attendees</td>\n",
       "      <td>If attending a conference about research, who ...</td>\n",
       "    </tr>\n",
       "    <tr>\n",
       "      <th>q23</th>\n",
       "      <td>recommendations</td>\n",
       "      <td>False</td>\n",
       "      <td>True</td>\n",
       "      <td>True</td>\n",
       "      <td>text</td>\n",
       "      <td>qualitative</td>\n",
       "      <td>object</td>\n",
       "      <td>NaN</td>\n",
       "      <td>Conference 2</td>\n",
       "      <td>Conference Advice</td>\n",
       "      <td>Let’s say (hypothetically of course) that Rose...</td>\n",
       "    </tr>\n",
       "    <tr>\n",
       "      <th>x01</th>\n",
       "      <td>persona_id</td>\n",
       "      <td>False</td>\n",
       "      <td>False</td>\n",
       "      <td>True</td>\n",
       "      <td>numeric</td>\n",
       "      <td>categorical</td>\n",
       "      <td>category</td>\n",
       "      <td>NaN</td>\n",
       "      <td>NaN</td>\n",
       "      <td>NaN</td>\n",
       "      <td>NaN</td>\n",
       "    </tr>\n",
       "  </tbody>\n",
       "</table>\n",
       "<p>79 rows × 11 columns</p>\n",
       "</div>"
      ],
      "text/plain": [
       "                 column_name  is_required  from_orig_file  in_wrangle  \\\n",
       "qid                                                                     \n",
       "q00                  resp_id         True            True        True   \n",
       "q01a               job_title         True            True        True   \n",
       "q01b                job_taxo         True            True        True   \n",
       "q01c                  job_id        False            True        True   \n",
       "q02a         job_conduct_res         True            True        True   \n",
       "...                      ...          ...             ...         ...   \n",
       "q20   other_conference_types        False            True        True   \n",
       "q21             ideal_topics        False            True        True   \n",
       "q22          ideal_attendees        False            True        True   \n",
       "q23          recommendations        False            True        True   \n",
       "x01               persona_id        False           False        True   \n",
       "\n",
       "     char_type        function data_type encoder survey_section  \\\n",
       "qid                                                               \n",
       "q00    numeric  identification     int64     NaN         Survey   \n",
       "q01a      text     categorical  category     NaN           Work   \n",
       "q01b   numeric     categorical  category     NaN           Work   \n",
       "q01c   numeric     categorical  category     NaN           Work   \n",
       "q02a   numeric    quantitative     int64  often5           Work   \n",
       "...        ...             ...       ...     ...            ...   \n",
       "q20       text     qualitative    object     NaN   Conference 2   \n",
       "q21       text     qualitative    object     NaN   Conference 2   \n",
       "q22       text     qualitative    object     NaN   Conference 2   \n",
       "q23       text     qualitative    object     NaN   Conference 2   \n",
       "x01    numeric     categorical  category     NaN            NaN   \n",
       "\n",
       "            question_group                                      question_text  \n",
       "qid                                                                            \n",
       "q00                     ID                                           Entry Id  \n",
       "q01a              Position                                              Title  \n",
       "q01b              Position                                        Job Taxo ID  \n",
       "q01c              Position                                             Job ID  \n",
       "q02a       Research Duties                                Conducting Research  \n",
       "...                    ...                                                ...  \n",
       "q20   Sessions of Interest  Did we miss any other types of conference sess...  \n",
       "q21         Desired Topics  If attending a conference about research, what...  \n",
       "q22      Desired Attendees  If attending a conference about research, who ...  \n",
       "q23      Conference Advice  Let’s say (hypothetically of course) that Rose...  \n",
       "x01                    NaN                                                NaN  \n",
       "\n",
       "[79 rows x 11 columns]"
      ]
     },
     "metadata": {},
     "output_type": "display_data"
    },
    {
     "data": {
      "text/html": [
       "<div>\n",
       "<style scoped>\n",
       "    .dataframe tbody tr th:only-of-type {\n",
       "        vertical-align: middle;\n",
       "    }\n",
       "\n",
       "    .dataframe tbody tr th {\n",
       "        vertical-align: top;\n",
       "    }\n",
       "\n",
       "    .dataframe thead th {\n",
       "        text-align: right;\n",
       "    }\n",
       "</style>\n",
       "<table border=\"1\" class=\"dataframe\">\n",
       "  <thead>\n",
       "    <tr style=\"text-align: right;\">\n",
       "      <th></th>\n",
       "      <th>count</th>\n",
       "      <th>unique</th>\n",
       "      <th>top</th>\n",
       "      <th>freq</th>\n",
       "    </tr>\n",
       "  </thead>\n",
       "  <tbody>\n",
       "    <tr>\n",
       "      <th>column_name</th>\n",
       "      <td>79</td>\n",
       "      <td>79</td>\n",
       "      <td>job_title</td>\n",
       "      <td>1</td>\n",
       "    </tr>\n",
       "    <tr>\n",
       "      <th>is_required</th>\n",
       "      <td>79</td>\n",
       "      <td>2</td>\n",
       "      <td>True</td>\n",
       "      <td>61</td>\n",
       "    </tr>\n",
       "    <tr>\n",
       "      <th>from_orig_file</th>\n",
       "      <td>79</td>\n",
       "      <td>2</td>\n",
       "      <td>True</td>\n",
       "      <td>72</td>\n",
       "    </tr>\n",
       "    <tr>\n",
       "      <th>in_wrangle</th>\n",
       "      <td>79</td>\n",
       "      <td>2</td>\n",
       "      <td>True</td>\n",
       "      <td>78</td>\n",
       "    </tr>\n",
       "    <tr>\n",
       "      <th>char_type</th>\n",
       "      <td>79</td>\n",
       "      <td>3</td>\n",
       "      <td>numeric</td>\n",
       "      <td>66</td>\n",
       "    </tr>\n",
       "    <tr>\n",
       "      <th>function</th>\n",
       "      <td>79</td>\n",
       "      <td>5</td>\n",
       "      <td>quantitative</td>\n",
       "      <td>51</td>\n",
       "    </tr>\n",
       "    <tr>\n",
       "      <th>data_type</th>\n",
       "      <td>79</td>\n",
       "      <td>4</td>\n",
       "      <td>int64</td>\n",
       "      <td>52</td>\n",
       "    </tr>\n",
       "    <tr>\n",
       "      <th>encoder</th>\n",
       "      <td>59</td>\n",
       "      <td>11</td>\n",
       "      <td>important5</td>\n",
       "      <td>18</td>\n",
       "    </tr>\n",
       "    <tr>\n",
       "      <th>survey_section</th>\n",
       "      <td>78</td>\n",
       "      <td>6</td>\n",
       "      <td>Conference 2</td>\n",
       "      <td>20</td>\n",
       "    </tr>\n",
       "    <tr>\n",
       "      <th>question_group</th>\n",
       "      <td>78</td>\n",
       "      <td>23</td>\n",
       "      <td>Research Duties</td>\n",
       "      <td>10</td>\n",
       "    </tr>\n",
       "    <tr>\n",
       "      <th>question_text</th>\n",
       "      <td>78</td>\n",
       "      <td>64</td>\n",
       "      <td>Attend a longer form workshop</td>\n",
       "      <td>2</td>\n",
       "    </tr>\n",
       "  </tbody>\n",
       "</table>\n",
       "</div>"
      ],
      "text/plain": [
       "               count unique                            top freq\n",
       "column_name       79     79                      job_title    1\n",
       "is_required       79      2                           True   61\n",
       "from_orig_file    79      2                           True   72\n",
       "in_wrangle        79      2                           True   78\n",
       "char_type         79      3                        numeric   66\n",
       "function          79      5                   quantitative   51\n",
       "data_type         79      4                          int64   52\n",
       "encoder           59     11                     important5   18\n",
       "survey_section    78      6                   Conference 2   20\n",
       "question_group    78     23                Research Duties   10\n",
       "question_text     78     64  Attend a longer form workshop    2"
      ]
     },
     "metadata": {},
     "output_type": "display_data"
    }
   ],
   "source": [
    "print(dictdf.shape)\n",
    "display(dictdf)\n",
    "display(dictdf.describe().T)"
   ]
  },
  {
   "cell_type": "code",
   "execution_count": 8,
   "metadata": {},
   "outputs": [
    {
     "data": {
      "text/plain": [
       "True     546\n",
       "False    180\n",
       "Name: research_educ_cat, dtype: int64"
      ]
     },
     "execution_count": 8,
     "metadata": {},
     "output_type": "execute_result"
    }
   ],
   "source": [
    "df.research_educ_cat.value_counts()"
   ]
  },
  {
   "cell_type": "code",
   "execution_count": 9,
   "metadata": {},
   "outputs": [
    {
     "data": {
      "text/plain": [
       "True     546\n",
       "False    180\n",
       "Name: research_educ_cat, dtype: int64"
      ]
     },
     "execution_count": 9,
     "metadata": {},
     "output_type": "execute_result"
    }
   ],
   "source": [
    "df.research_educ_cat.astype('bool').value_counts()"
   ]
  },
  {
   "cell_type": "code",
   "execution_count": 10,
   "metadata": {},
   "outputs": [],
   "source": [
    "recoder_dictionaries = {\n",
    "    2: {\n",
    "        \"important5\": 'r5to2',\n",
    "        \"likely5\": 'r5to2',\n",
    "        \"often4\": 'r4to2',\n",
    "        \"often5\": 'r5to2',\n",
    "        \"tenure6\": 'r6to2',\n",
    "    },\n",
    "    3: {\n",
    "        \"important5\": 'r5to3',\n",
    "        \"likely5\": 'r5to3',\n",
    "        \"often4\": 'r4to2',\n",
    "        \"often5\": 'r5to3',\n",
    "        \"tenure6\": 'r6to3',            \n",
    "    },\n",
    "}"
   ]
  },
  {
   "cell_type": "code",
   "execution_count": 11,
   "metadata": {},
   "outputs": [],
   "source": [
    "recoder = {\n",
    "    'r2to2': {\n",
    "        0: 0,\n",
    "        1: 1,\n",
    "    },\n",
    "    'r4to2': {\n",
    "        0: 0,\n",
    "        1: 0,\n",
    "        2: 1,\n",
    "        3: 1,\n",
    "    },\n",
    "    'r5to2': {\n",
    "        0: 0,\n",
    "        1: 0,\n",
    "        2: 1,\n",
    "        3: 1,\n",
    "        4: 1,\n",
    "    },\n",
    "    'r5to3': {\n",
    "        0: 0,\n",
    "        1: 0,\n",
    "        2: .5,\n",
    "        3: 1,\n",
    "        4: 1,\n",
    "    },\n",
    "    'r6to2': {\n",
    "        0: 0,\n",
    "        1: 0,\n",
    "        2: 0,\n",
    "        3: 1,\n",
    "        4: 1,\n",
    "        5: 1,\n",
    "    },\n",
    "    'r6to3': {\n",
    "        0: 0,\n",
    "        1: 0,\n",
    "        2: .5,\n",
    "        3: .5,\n",
    "        4: 1,\n",
    "        5: 1,\n",
    "    },\n",
    "}"
   ]
  },
  {
   "cell_type": "code",
   "execution_count": 12,
   "metadata": {},
   "outputs": [],
   "source": [
    "# Get mapping dictionary\n",
    "def get_recoder_dictionary(data_dictionary, recoder_dictionaries):\n",
    "\n",
    "    recode_df = data_dictionary[['column_name','encoder']].copy().dropna()\n",
    "    recode_df['col'] = recode_df.column_name\n",
    "    recode_df=recode_df.set_index('column_name')\n",
    "    levels = [level for level in recoder_dictionaries]\n",
    "    for chk in range(len(levels)):\n",
    "        level = levels[chk]\n",
    "        recoder_dictionary = recoder_dictionaries[level]\n",
    "        recodes = [recode for recode in recoder_dictionary]\n",
    "        tempdf = recode_df[recode_df.encoder.isin(recodes)].copy()\n",
    "        tempdf[level] = tempdf.encoder.apply(lambda x: recoder_dictionary[x])\n",
    "        recode_df = recode_df.join(tempdf[[level]], how='left')\n",
    "    recode_df = recode_df.dropna(subset=[levels[0]])\n",
    "    return recode_df\n",
    "\n"
   ]
  },
  {
   "cell_type": "code",
   "execution_count": 13,
   "metadata": {},
   "outputs": [],
   "source": [
    "def recode_columns(df, recode_df, recoder, outputs):\n",
    "    '''\n",
    "    '''\n",
    "    use_df = df.copy()\n",
    "    allcols=recode_df.col\n",
    "    check_dicts=recode_df[outputs]\n",
    "    cols=[chkcol for chkcol in allcols if chkcol in use_df.columns]\n",
    "    for col in cols:\n",
    "        use_dict = recoder[check_dicts[col]]\n",
    "        encoded = use_df[col].apply(lambda x: use_dict[x])\n",
    "        use_df[col] = encoded\n",
    "    return use_df\n",
    "\n"
   ]
  },
  {
   "cell_type": "code",
   "execution_count": 14,
   "metadata": {},
   "outputs": [
    {
     "data": {
      "text/html": [
       "<div>\n",
       "<style scoped>\n",
       "    .dataframe tbody tr th:only-of-type {\n",
       "        vertical-align: middle;\n",
       "    }\n",
       "\n",
       "    .dataframe tbody tr th {\n",
       "        vertical-align: top;\n",
       "    }\n",
       "\n",
       "    .dataframe thead th {\n",
       "        text-align: right;\n",
       "    }\n",
       "</style>\n",
       "<table border=\"1\" class=\"dataframe\">\n",
       "  <thead>\n",
       "    <tr style=\"text-align: right;\">\n",
       "      <th></th>\n",
       "      <th>encoder</th>\n",
       "      <th>col</th>\n",
       "      <th>2</th>\n",
       "      <th>3</th>\n",
       "    </tr>\n",
       "    <tr>\n",
       "      <th>column_name</th>\n",
       "      <th></th>\n",
       "      <th></th>\n",
       "      <th></th>\n",
       "      <th></th>\n",
       "    </tr>\n",
       "  </thead>\n",
       "  <tbody>\n",
       "    <tr>\n",
       "      <th>job_conduct_res</th>\n",
       "      <td>often5</td>\n",
       "      <td>job_conduct_res</td>\n",
       "      <td>r5to2</td>\n",
       "      <td>r5to3</td>\n",
       "    </tr>\n",
       "    <tr>\n",
       "      <th>job_analyze_res</th>\n",
       "      <td>often5</td>\n",
       "      <td>job_analyze_res</td>\n",
       "      <td>r5to2</td>\n",
       "      <td>r5to3</td>\n",
       "    </tr>\n",
       "    <tr>\n",
       "      <th>job_buy_res_report</th>\n",
       "      <td>often5</td>\n",
       "      <td>job_buy_res_report</td>\n",
       "      <td>r5to2</td>\n",
       "      <td>r5to3</td>\n",
       "    </tr>\n",
       "    <tr>\n",
       "      <th>job_manage_res_proj</th>\n",
       "      <td>often5</td>\n",
       "      <td>job_manage_res_proj</td>\n",
       "      <td>r5to2</td>\n",
       "      <td>r5to3</td>\n",
       "    </tr>\n",
       "    <tr>\n",
       "      <th>job_observe_res</th>\n",
       "      <td>often5</td>\n",
       "      <td>job_observe_res</td>\n",
       "      <td>r5to2</td>\n",
       "      <td>r5to3</td>\n",
       "    </tr>\n",
       "    <tr>\n",
       "      <th>job_plan_res</th>\n",
       "      <td>often5</td>\n",
       "      <td>job_plan_res</td>\n",
       "      <td>r5to2</td>\n",
       "      <td>r5to3</td>\n",
       "    </tr>\n",
       "    <tr>\n",
       "      <th>job_teach_res</th>\n",
       "      <td>often5</td>\n",
       "      <td>job_teach_res</td>\n",
       "      <td>r5to2</td>\n",
       "      <td>r5to3</td>\n",
       "    </tr>\n",
       "    <tr>\n",
       "      <th>job_advocate_res</th>\n",
       "      <td>often5</td>\n",
       "      <td>job_advocate_res</td>\n",
       "      <td>r5to2</td>\n",
       "      <td>r5to3</td>\n",
       "    </tr>\n",
       "    <tr>\n",
       "      <th>job_hire_res_vendor</th>\n",
       "      <td>often5</td>\n",
       "      <td>job_hire_res_vendor</td>\n",
       "      <td>r5to2</td>\n",
       "      <td>r5to3</td>\n",
       "    </tr>\n",
       "    <tr>\n",
       "      <th>job_lead_res_team</th>\n",
       "      <td>often5</td>\n",
       "      <td>job_lead_res_team</td>\n",
       "      <td>r5to2</td>\n",
       "      <td>r5to3</td>\n",
       "    </tr>\n",
       "    <tr>\n",
       "      <th>exp_conduct_res</th>\n",
       "      <td>tenure6</td>\n",
       "      <td>exp_conduct_res</td>\n",
       "      <td>r6to2</td>\n",
       "      <td>r6to3</td>\n",
       "    </tr>\n",
       "    <tr>\n",
       "      <th>exp_analyze_res</th>\n",
       "      <td>tenure6</td>\n",
       "      <td>exp_analyze_res</td>\n",
       "      <td>r6to2</td>\n",
       "      <td>r6to3</td>\n",
       "    </tr>\n",
       "    <tr>\n",
       "      <th>exp_buy_res_report</th>\n",
       "      <td>tenure6</td>\n",
       "      <td>exp_buy_res_report</td>\n",
       "      <td>r6to2</td>\n",
       "      <td>r6to3</td>\n",
       "    </tr>\n",
       "    <tr>\n",
       "      <th>exp_manage_res_proj</th>\n",
       "      <td>tenure6</td>\n",
       "      <td>exp_manage_res_proj</td>\n",
       "      <td>r6to2</td>\n",
       "      <td>r6to3</td>\n",
       "    </tr>\n",
       "    <tr>\n",
       "      <th>exp_observe_res</th>\n",
       "      <td>tenure6</td>\n",
       "      <td>exp_observe_res</td>\n",
       "      <td>r6to2</td>\n",
       "      <td>r6to3</td>\n",
       "    </tr>\n",
       "    <tr>\n",
       "      <th>exp_plan_res</th>\n",
       "      <td>tenure6</td>\n",
       "      <td>exp_plan_res</td>\n",
       "      <td>r6to2</td>\n",
       "      <td>r6to3</td>\n",
       "    </tr>\n",
       "    <tr>\n",
       "      <th>exp_teach_res</th>\n",
       "      <td>tenure6</td>\n",
       "      <td>exp_teach_res</td>\n",
       "      <td>r6to2</td>\n",
       "      <td>r6to3</td>\n",
       "    </tr>\n",
       "    <tr>\n",
       "      <th>exp_advocate_res</th>\n",
       "      <td>tenure6</td>\n",
       "      <td>exp_advocate_res</td>\n",
       "      <td>r6to2</td>\n",
       "      <td>r6to3</td>\n",
       "    </tr>\n",
       "    <tr>\n",
       "      <th>exp_hire_res_vendor</th>\n",
       "      <td>tenure6</td>\n",
       "      <td>exp_hire_res_vendor</td>\n",
       "      <td>r6to2</td>\n",
       "      <td>r6to3</td>\n",
       "    </tr>\n",
       "    <tr>\n",
       "      <th>exp_lead_res_team</th>\n",
       "      <td>tenure6</td>\n",
       "      <td>exp_lead_res_team</td>\n",
       "      <td>r6to2</td>\n",
       "      <td>r6to3</td>\n",
       "    </tr>\n",
       "    <tr>\n",
       "      <th>learning_talks</th>\n",
       "      <td>often4</td>\n",
       "      <td>learning_talks</td>\n",
       "      <td>r4to2</td>\n",
       "      <td>r4to2</td>\n",
       "    </tr>\n",
       "    <tr>\n",
       "      <th>learning_read</th>\n",
       "      <td>often4</td>\n",
       "      <td>learning_read</td>\n",
       "      <td>r4to2</td>\n",
       "      <td>r4to2</td>\n",
       "    </tr>\n",
       "    <tr>\n",
       "      <th>learning_meetup</th>\n",
       "      <td>often4</td>\n",
       "      <td>learning_meetup</td>\n",
       "      <td>r4to2</td>\n",
       "      <td>r4to2</td>\n",
       "    </tr>\n",
       "    <tr>\n",
       "      <th>learning_workshop</th>\n",
       "      <td>often4</td>\n",
       "      <td>learning_workshop</td>\n",
       "      <td>r4to2</td>\n",
       "      <td>r4to2</td>\n",
       "    </tr>\n",
       "    <tr>\n",
       "      <th>learning_conference</th>\n",
       "      <td>often4</td>\n",
       "      <td>learning_conference</td>\n",
       "      <td>r4to2</td>\n",
       "      <td>r4to2</td>\n",
       "    </tr>\n",
       "    <tr>\n",
       "      <th>likely_watch_video</th>\n",
       "      <td>likely5</td>\n",
       "      <td>likely_watch_video</td>\n",
       "      <td>r5to2</td>\n",
       "      <td>r5to3</td>\n",
       "    </tr>\n",
       "    <tr>\n",
       "      <th>likely_internet</th>\n",
       "      <td>likely5</td>\n",
       "      <td>likely_internet</td>\n",
       "      <td>r5to2</td>\n",
       "      <td>r5to3</td>\n",
       "    </tr>\n",
       "    <tr>\n",
       "      <th>likely_book</th>\n",
       "      <td>likely5</td>\n",
       "      <td>likely_book</td>\n",
       "      <td>r5to2</td>\n",
       "      <td>r5to3</td>\n",
       "    </tr>\n",
       "    <tr>\n",
       "      <th>likely_online_group</th>\n",
       "      <td>likely5</td>\n",
       "      <td>likely_online_group</td>\n",
       "      <td>r5to2</td>\n",
       "      <td>r5to3</td>\n",
       "    </tr>\n",
       "    <tr>\n",
       "      <th>likely_colleague</th>\n",
       "      <td>likely5</td>\n",
       "      <td>likely_colleague</td>\n",
       "      <td>r5to2</td>\n",
       "      <td>r5to3</td>\n",
       "    </tr>\n",
       "    <tr>\n",
       "      <th>likely_meetup</th>\n",
       "      <td>likely5</td>\n",
       "      <td>likely_meetup</td>\n",
       "      <td>r5to2</td>\n",
       "      <td>r5to3</td>\n",
       "    </tr>\n",
       "    <tr>\n",
       "      <th>likely_conference</th>\n",
       "      <td>likely5</td>\n",
       "      <td>likely_conference</td>\n",
       "      <td>r5to2</td>\n",
       "      <td>r5to3</td>\n",
       "    </tr>\n",
       "    <tr>\n",
       "      <th>likely_workshop</th>\n",
       "      <td>likely5</td>\n",
       "      <td>likely_workshop</td>\n",
       "      <td>r5to2</td>\n",
       "      <td>r5to3</td>\n",
       "    </tr>\n",
       "    <tr>\n",
       "      <th>factor_speaker</th>\n",
       "      <td>important5</td>\n",
       "      <td>factor_speaker</td>\n",
       "      <td>r5to2</td>\n",
       "      <td>r5to3</td>\n",
       "    </tr>\n",
       "    <tr>\n",
       "      <th>factor_diverse_speak</th>\n",
       "      <td>important5</td>\n",
       "      <td>factor_diverse_speak</td>\n",
       "      <td>r5to2</td>\n",
       "      <td>r5to3</td>\n",
       "    </tr>\n",
       "    <tr>\n",
       "      <th>factor_topics</th>\n",
       "      <td>important5</td>\n",
       "      <td>factor_topics</td>\n",
       "      <td>r5to2</td>\n",
       "      <td>r5to3</td>\n",
       "    </tr>\n",
       "    <tr>\n",
       "      <th>factor_format_sessions</th>\n",
       "      <td>important5</td>\n",
       "      <td>factor_format_sessions</td>\n",
       "      <td>r5to2</td>\n",
       "      <td>r5to3</td>\n",
       "    </tr>\n",
       "    <tr>\n",
       "      <th>factor_size</th>\n",
       "      <td>important5</td>\n",
       "      <td>factor_size</td>\n",
       "      <td>r5to2</td>\n",
       "      <td>r5to3</td>\n",
       "    </tr>\n",
       "    <tr>\n",
       "      <th>factor_network</th>\n",
       "      <td>important5</td>\n",
       "      <td>factor_network</td>\n",
       "      <td>r5to2</td>\n",
       "      <td>r5to3</td>\n",
       "    </tr>\n",
       "    <tr>\n",
       "      <th>factor_variety_attend</th>\n",
       "      <td>important5</td>\n",
       "      <td>factor_variety_attend</td>\n",
       "      <td>r5to2</td>\n",
       "      <td>r5to3</td>\n",
       "    </tr>\n",
       "    <tr>\n",
       "      <th>factor_code</th>\n",
       "      <td>important5</td>\n",
       "      <td>factor_code</td>\n",
       "      <td>r5to2</td>\n",
       "      <td>r5to3</td>\n",
       "    </tr>\n",
       "    <tr>\n",
       "      <th>factor_location</th>\n",
       "      <td>important5</td>\n",
       "      <td>factor_location</td>\n",
       "      <td>r5to2</td>\n",
       "      <td>r5to3</td>\n",
       "    </tr>\n",
       "    <tr>\n",
       "      <th>factor_ability_to_pay</th>\n",
       "      <td>important5</td>\n",
       "      <td>factor_ability_to_pay</td>\n",
       "      <td>r5to2</td>\n",
       "      <td>r5to3</td>\n",
       "    </tr>\n",
       "    <tr>\n",
       "      <th>session_keynote</th>\n",
       "      <td>important5</td>\n",
       "      <td>session_keynote</td>\n",
       "      <td>r5to2</td>\n",
       "      <td>r5to3</td>\n",
       "    </tr>\n",
       "    <tr>\n",
       "      <th>session_long_talk</th>\n",
       "      <td>important5</td>\n",
       "      <td>session_long_talk</td>\n",
       "      <td>r5to2</td>\n",
       "      <td>r5to3</td>\n",
       "    </tr>\n",
       "    <tr>\n",
       "      <th>session_short_talk</th>\n",
       "      <td>important5</td>\n",
       "      <td>session_short_talk</td>\n",
       "      <td>r5to2</td>\n",
       "      <td>r5to3</td>\n",
       "    </tr>\n",
       "    <tr>\n",
       "      <th>session_workshop</th>\n",
       "      <td>important5</td>\n",
       "      <td>session_workshop</td>\n",
       "      <td>r5to2</td>\n",
       "      <td>r5to3</td>\n",
       "    </tr>\n",
       "    <tr>\n",
       "      <th>session_network</th>\n",
       "      <td>important5</td>\n",
       "      <td>session_network</td>\n",
       "      <td>r5to2</td>\n",
       "      <td>r5to3</td>\n",
       "    </tr>\n",
       "    <tr>\n",
       "      <th>session_social_event</th>\n",
       "      <td>important5</td>\n",
       "      <td>session_social_event</td>\n",
       "      <td>r5to2</td>\n",
       "      <td>r5to3</td>\n",
       "    </tr>\n",
       "    <tr>\n",
       "      <th>session_qa</th>\n",
       "      <td>important5</td>\n",
       "      <td>session_qa</td>\n",
       "      <td>r5to2</td>\n",
       "      <td>r5to3</td>\n",
       "    </tr>\n",
       "    <tr>\n",
       "      <th>sesson_topic_tables</th>\n",
       "      <td>important5</td>\n",
       "      <td>sesson_topic_tables</td>\n",
       "      <td>r5to2</td>\n",
       "      <td>r5to3</td>\n",
       "    </tr>\n",
       "  </tbody>\n",
       "</table>\n",
       "</div>"
      ],
      "text/plain": [
       "                           encoder                     col      2      3\n",
       "column_name                                                             \n",
       "job_conduct_res             often5         job_conduct_res  r5to2  r5to3\n",
       "job_analyze_res             often5         job_analyze_res  r5to2  r5to3\n",
       "job_buy_res_report          often5      job_buy_res_report  r5to2  r5to3\n",
       "job_manage_res_proj         often5     job_manage_res_proj  r5to2  r5to3\n",
       "job_observe_res             often5         job_observe_res  r5to2  r5to3\n",
       "job_plan_res                often5            job_plan_res  r5to2  r5to3\n",
       "job_teach_res               often5           job_teach_res  r5to2  r5to3\n",
       "job_advocate_res            often5        job_advocate_res  r5to2  r5to3\n",
       "job_hire_res_vendor         often5     job_hire_res_vendor  r5to2  r5to3\n",
       "job_lead_res_team           often5       job_lead_res_team  r5to2  r5to3\n",
       "exp_conduct_res            tenure6         exp_conduct_res  r6to2  r6to3\n",
       "exp_analyze_res            tenure6         exp_analyze_res  r6to2  r6to3\n",
       "exp_buy_res_report         tenure6      exp_buy_res_report  r6to2  r6to3\n",
       "exp_manage_res_proj        tenure6     exp_manage_res_proj  r6to2  r6to3\n",
       "exp_observe_res            tenure6         exp_observe_res  r6to2  r6to3\n",
       "exp_plan_res               tenure6            exp_plan_res  r6to2  r6to3\n",
       "exp_teach_res              tenure6           exp_teach_res  r6to2  r6to3\n",
       "exp_advocate_res           tenure6        exp_advocate_res  r6to2  r6to3\n",
       "exp_hire_res_vendor        tenure6     exp_hire_res_vendor  r6to2  r6to3\n",
       "exp_lead_res_team          tenure6       exp_lead_res_team  r6to2  r6to3\n",
       "learning_talks              often4          learning_talks  r4to2  r4to2\n",
       "learning_read               often4           learning_read  r4to2  r4to2\n",
       "learning_meetup             often4         learning_meetup  r4to2  r4to2\n",
       "learning_workshop           often4       learning_workshop  r4to2  r4to2\n",
       "learning_conference         often4     learning_conference  r4to2  r4to2\n",
       "likely_watch_video         likely5      likely_watch_video  r5to2  r5to3\n",
       "likely_internet            likely5         likely_internet  r5to2  r5to3\n",
       "likely_book                likely5             likely_book  r5to2  r5to3\n",
       "likely_online_group        likely5     likely_online_group  r5to2  r5to3\n",
       "likely_colleague           likely5        likely_colleague  r5to2  r5to3\n",
       "likely_meetup              likely5           likely_meetup  r5to2  r5to3\n",
       "likely_conference          likely5       likely_conference  r5to2  r5to3\n",
       "likely_workshop            likely5         likely_workshop  r5to2  r5to3\n",
       "factor_speaker          important5          factor_speaker  r5to2  r5to3\n",
       "factor_diverse_speak    important5    factor_diverse_speak  r5to2  r5to3\n",
       "factor_topics           important5           factor_topics  r5to2  r5to3\n",
       "factor_format_sessions  important5  factor_format_sessions  r5to2  r5to3\n",
       "factor_size             important5             factor_size  r5to2  r5to3\n",
       "factor_network          important5          factor_network  r5to2  r5to3\n",
       "factor_variety_attend   important5   factor_variety_attend  r5to2  r5to3\n",
       "factor_code             important5             factor_code  r5to2  r5to3\n",
       "factor_location         important5         factor_location  r5to2  r5to3\n",
       "factor_ability_to_pay   important5   factor_ability_to_pay  r5to2  r5to3\n",
       "session_keynote         important5         session_keynote  r5to2  r5to3\n",
       "session_long_talk       important5       session_long_talk  r5to2  r5to3\n",
       "session_short_talk      important5      session_short_talk  r5to2  r5to3\n",
       "session_workshop        important5        session_workshop  r5to2  r5to3\n",
       "session_network         important5         session_network  r5to2  r5to3\n",
       "session_social_event    important5    session_social_event  r5to2  r5to3\n",
       "session_qa              important5              session_qa  r5to2  r5to3\n",
       "sesson_topic_tables     important5     sesson_topic_tables  r5to2  r5to3"
      ]
     },
     "execution_count": 14,
     "metadata": {},
     "output_type": "execute_result"
    }
   ],
   "source": [
    "check_recoder = get_recoder_dictionary(dictdf, recoder_dictionaries)\n",
    "check_recoder"
   ]
  },
  {
   "cell_type": "code",
   "execution_count": 15,
   "metadata": {},
   "outputs": [
    {
     "data": {
      "text/html": [
       "<div>\n",
       "<style scoped>\n",
       "    .dataframe tbody tr th:only-of-type {\n",
       "        vertical-align: middle;\n",
       "    }\n",
       "\n",
       "    .dataframe tbody tr th {\n",
       "        vertical-align: top;\n",
       "    }\n",
       "\n",
       "    .dataframe thead th {\n",
       "        text-align: right;\n",
       "    }\n",
       "</style>\n",
       "<table border=\"1\" class=\"dataframe\">\n",
       "  <thead>\n",
       "    <tr style=\"text-align: right;\">\n",
       "      <th></th>\n",
       "      <th>job_title</th>\n",
       "      <th>job_taxo</th>\n",
       "      <th>job_id</th>\n",
       "      <th>job_conduct_res</th>\n",
       "      <th>job_analyze_res</th>\n",
       "      <th>job_buy_res_report</th>\n",
       "      <th>job_manage_res_proj</th>\n",
       "      <th>job_observe_res</th>\n",
       "      <th>job_plan_res</th>\n",
       "      <th>job_teach_res</th>\n",
       "      <th>...</th>\n",
       "      <th>session_network</th>\n",
       "      <th>session_social_event</th>\n",
       "      <th>session_qa</th>\n",
       "      <th>sesson_topic_tables</th>\n",
       "      <th>other_conference_types</th>\n",
       "      <th>ideal_topics</th>\n",
       "      <th>ideal_attendees</th>\n",
       "      <th>recommendations</th>\n",
       "      <th>persona_id</th>\n",
       "      <th>target</th>\n",
       "    </tr>\n",
       "    <tr>\n",
       "      <th>resp_id</th>\n",
       "      <th></th>\n",
       "      <th></th>\n",
       "      <th></th>\n",
       "      <th></th>\n",
       "      <th></th>\n",
       "      <th></th>\n",
       "      <th></th>\n",
       "      <th></th>\n",
       "      <th></th>\n",
       "      <th></th>\n",
       "      <th></th>\n",
       "      <th></th>\n",
       "      <th></th>\n",
       "      <th></th>\n",
       "      <th></th>\n",
       "      <th></th>\n",
       "      <th></th>\n",
       "      <th></th>\n",
       "      <th></th>\n",
       "      <th></th>\n",
       "      <th></th>\n",
       "    </tr>\n",
       "  </thead>\n",
       "  <tbody>\n",
       "    <tr>\n",
       "      <th>284</th>\n",
       "      <td>Academic</td>\n",
       "      <td>4</td>\n",
       "      <td>1.0</td>\n",
       "      <td>1.0</td>\n",
       "      <td>0.5</td>\n",
       "      <td>0.0</td>\n",
       "      <td>1.0</td>\n",
       "      <td>1.0</td>\n",
       "      <td>1.0</td>\n",
       "      <td>1.0</td>\n",
       "      <td>...</td>\n",
       "      <td>1.0</td>\n",
       "      <td>0.5</td>\n",
       "      <td>0.5</td>\n",
       "      <td>0.5</td>\n",
       "      <td>NaN</td>\n",
       "      <td>research-practice connections</td>\n",
       "      <td>NaN</td>\n",
       "      <td>research-practice connections</td>\n",
       "      <td>2</td>\n",
       "      <td>1.0</td>\n",
       "    </tr>\n",
       "    <tr>\n",
       "      <th>288</th>\n",
       "      <td>Academic</td>\n",
       "      <td>4</td>\n",
       "      <td>1.0</td>\n",
       "      <td>0.0</td>\n",
       "      <td>0.5</td>\n",
       "      <td>0.0</td>\n",
       "      <td>1.0</td>\n",
       "      <td>1.0</td>\n",
       "      <td>1.0</td>\n",
       "      <td>1.0</td>\n",
       "      <td>...</td>\n",
       "      <td>1.0</td>\n",
       "      <td>0.0</td>\n",
       "      <td>0.0</td>\n",
       "      <td>0.5</td>\n",
       "      <td>NaN</td>\n",
       "      <td>NaN</td>\n",
       "      <td>NaN</td>\n",
       "      <td>Don’t create schedule conflicts with other rel...</td>\n",
       "      <td>2</td>\n",
       "      <td>1.0</td>\n",
       "    </tr>\n",
       "    <tr>\n",
       "      <th>294</th>\n",
       "      <td>Academic</td>\n",
       "      <td>4</td>\n",
       "      <td>1.0</td>\n",
       "      <td>1.0</td>\n",
       "      <td>1.0</td>\n",
       "      <td>0.0</td>\n",
       "      <td>1.0</td>\n",
       "      <td>0.0</td>\n",
       "      <td>1.0</td>\n",
       "      <td>1.0</td>\n",
       "      <td>...</td>\n",
       "      <td>0.5</td>\n",
       "      <td>0.5</td>\n",
       "      <td>0.5</td>\n",
       "      <td>0.5</td>\n",
       "      <td>NaN</td>\n",
       "      <td>NaN</td>\n",
       "      <td>NaN</td>\n",
       "      <td>Looking forward! \\n</td>\n",
       "      <td>2</td>\n",
       "      <td>1.0</td>\n",
       "    </tr>\n",
       "    <tr>\n",
       "      <th>281</th>\n",
       "      <td>Academic</td>\n",
       "      <td>4</td>\n",
       "      <td>1.0</td>\n",
       "      <td>1.0</td>\n",
       "      <td>1.0</td>\n",
       "      <td>0.0</td>\n",
       "      <td>0.5</td>\n",
       "      <td>1.0</td>\n",
       "      <td>0.5</td>\n",
       "      <td>0.0</td>\n",
       "      <td>...</td>\n",
       "      <td>0.5</td>\n",
       "      <td>0.5</td>\n",
       "      <td>1.0</td>\n",
       "      <td>0.5</td>\n",
       "      <td>NaN</td>\n",
       "      <td>Research design, innovative methods, communica...</td>\n",
       "      <td>NaN</td>\n",
       "      <td>NaN</td>\n",
       "      <td>2</td>\n",
       "      <td>1.0</td>\n",
       "    </tr>\n",
       "    <tr>\n",
       "      <th>280</th>\n",
       "      <td>Academic</td>\n",
       "      <td>4</td>\n",
       "      <td>1.0</td>\n",
       "      <td>1.0</td>\n",
       "      <td>1.0</td>\n",
       "      <td>0.0</td>\n",
       "      <td>0.0</td>\n",
       "      <td>0.0</td>\n",
       "      <td>1.0</td>\n",
       "      <td>0.5</td>\n",
       "      <td>...</td>\n",
       "      <td>0.5</td>\n",
       "      <td>0.0</td>\n",
       "      <td>0.5</td>\n",
       "      <td>0.5</td>\n",
       "      <td>You should consider the combination of confere...</td>\n",
       "      <td>NaN</td>\n",
       "      <td>NaN</td>\n",
       "      <td>NaN</td>\n",
       "      <td>2</td>\n",
       "      <td>1.0</td>\n",
       "    </tr>\n",
       "  </tbody>\n",
       "</table>\n",
       "<p>5 rows × 78 columns</p>\n",
       "</div>"
      ],
      "text/plain": [
       "        job_title job_taxo job_id  job_conduct_res  job_analyze_res  \\\n",
       "resp_id                                                               \n",
       "284      Academic        4    1.0              1.0              0.5   \n",
       "288      Academic        4    1.0              0.0              0.5   \n",
       "294      Academic        4    1.0              1.0              1.0   \n",
       "281      Academic        4    1.0              1.0              1.0   \n",
       "280      Academic        4    1.0              1.0              1.0   \n",
       "\n",
       "         job_buy_res_report  job_manage_res_proj  job_observe_res  \\\n",
       "resp_id                                                             \n",
       "284                     0.0                  1.0              1.0   \n",
       "288                     0.0                  1.0              1.0   \n",
       "294                     0.0                  1.0              0.0   \n",
       "281                     0.0                  0.5              1.0   \n",
       "280                     0.0                  0.0              0.0   \n",
       "\n",
       "         job_plan_res  job_teach_res  ...  session_network  \\\n",
       "resp_id                               ...                    \n",
       "284               1.0            1.0  ...              1.0   \n",
       "288               1.0            1.0  ...              1.0   \n",
       "294               1.0            1.0  ...              0.5   \n",
       "281               0.5            0.0  ...              0.5   \n",
       "280               1.0            0.5  ...              0.5   \n",
       "\n",
       "         session_social_event  session_qa sesson_topic_tables  \\\n",
       "resp_id                                                         \n",
       "284                       0.5         0.5                 0.5   \n",
       "288                       0.0         0.0                 0.5   \n",
       "294                       0.5         0.5                 0.5   \n",
       "281                       0.5         1.0                 0.5   \n",
       "280                       0.0         0.5                 0.5   \n",
       "\n",
       "                                    other_conference_types  \\\n",
       "resp_id                                                      \n",
       "284                                                    NaN   \n",
       "288                                                    NaN   \n",
       "294                                                    NaN   \n",
       "281                                                    NaN   \n",
       "280      You should consider the combination of confere...   \n",
       "\n",
       "                                              ideal_topics ideal_attendees  \\\n",
       "resp_id                                                                      \n",
       "284                          research-practice connections             NaN   \n",
       "288                                                    NaN             NaN   \n",
       "294                                                    NaN             NaN   \n",
       "281      Research design, innovative methods, communica...             NaN   \n",
       "280                                                    NaN             NaN   \n",
       "\n",
       "                                           recommendations  persona_id  target  \n",
       "resp_id                                                                         \n",
       "284                          research-practice connections           2     1.0  \n",
       "288      Don’t create schedule conflicts with other rel...           2     1.0  \n",
       "294                                    Looking forward! \\n           2     1.0  \n",
       "281                                                    NaN           2     1.0  \n",
       "280                                                    NaN           2     1.0  \n",
       "\n",
       "[5 rows x 78 columns]"
      ]
     },
     "metadata": {},
     "output_type": "display_data"
    },
    {
     "data": {
      "text/html": [
       "<div>\n",
       "<style scoped>\n",
       "    .dataframe tbody tr th:only-of-type {\n",
       "        vertical-align: middle;\n",
       "    }\n",
       "\n",
       "    .dataframe tbody tr th {\n",
       "        vertical-align: top;\n",
       "    }\n",
       "\n",
       "    .dataframe thead th {\n",
       "        text-align: right;\n",
       "    }\n",
       "</style>\n",
       "<table border=\"1\" class=\"dataframe\">\n",
       "  <thead>\n",
       "    <tr style=\"text-align: right;\">\n",
       "      <th></th>\n",
       "      <th>count</th>\n",
       "      <th>mean</th>\n",
       "      <th>std</th>\n",
       "      <th>min</th>\n",
       "      <th>25%</th>\n",
       "      <th>50%</th>\n",
       "      <th>75%</th>\n",
       "      <th>max</th>\n",
       "    </tr>\n",
       "  </thead>\n",
       "  <tbody>\n",
       "    <tr>\n",
       "      <th>job_conduct_res</th>\n",
       "      <td>726.0</td>\n",
       "      <td>0.811295</td>\n",
       "      <td>0.372591</td>\n",
       "      <td>0.0</td>\n",
       "      <td>1.0</td>\n",
       "      <td>1.0</td>\n",
       "      <td>1.0</td>\n",
       "      <td>1.0</td>\n",
       "    </tr>\n",
       "    <tr>\n",
       "      <th>job_analyze_res</th>\n",
       "      <td>726.0</td>\n",
       "      <td>0.840220</td>\n",
       "      <td>0.343342</td>\n",
       "      <td>0.0</td>\n",
       "      <td>1.0</td>\n",
       "      <td>1.0</td>\n",
       "      <td>1.0</td>\n",
       "      <td>1.0</td>\n",
       "    </tr>\n",
       "    <tr>\n",
       "      <th>job_buy_res_report</th>\n",
       "      <td>726.0</td>\n",
       "      <td>0.045455</td>\n",
       "      <td>0.180038</td>\n",
       "      <td>0.0</td>\n",
       "      <td>0.0</td>\n",
       "      <td>0.0</td>\n",
       "      <td>0.0</td>\n",
       "      <td>1.0</td>\n",
       "    </tr>\n",
       "    <tr>\n",
       "      <th>job_manage_res_proj</th>\n",
       "      <td>726.0</td>\n",
       "      <td>0.715565</td>\n",
       "      <td>0.416908</td>\n",
       "      <td>0.0</td>\n",
       "      <td>0.5</td>\n",
       "      <td>1.0</td>\n",
       "      <td>1.0</td>\n",
       "      <td>1.0</td>\n",
       "    </tr>\n",
       "    <tr>\n",
       "      <th>job_observe_res</th>\n",
       "      <td>726.0</td>\n",
       "      <td>0.488292</td>\n",
       "      <td>0.455844</td>\n",
       "      <td>0.0</td>\n",
       "      <td>0.0</td>\n",
       "      <td>0.5</td>\n",
       "      <td>1.0</td>\n",
       "      <td>1.0</td>\n",
       "    </tr>\n",
       "    <tr>\n",
       "      <th>job_plan_res</th>\n",
       "      <td>726.0</td>\n",
       "      <td>0.835399</td>\n",
       "      <td>0.340548</td>\n",
       "      <td>0.0</td>\n",
       "      <td>1.0</td>\n",
       "      <td>1.0</td>\n",
       "      <td>1.0</td>\n",
       "      <td>1.0</td>\n",
       "    </tr>\n",
       "    <tr>\n",
       "      <th>job_teach_res</th>\n",
       "      <td>726.0</td>\n",
       "      <td>0.457300</td>\n",
       "      <td>0.463385</td>\n",
       "      <td>0.0</td>\n",
       "      <td>0.0</td>\n",
       "      <td>0.5</td>\n",
       "      <td>1.0</td>\n",
       "      <td>1.0</td>\n",
       "    </tr>\n",
       "    <tr>\n",
       "      <th>job_advocate_res</th>\n",
       "      <td>726.0</td>\n",
       "      <td>0.811983</td>\n",
       "      <td>0.352500</td>\n",
       "      <td>0.0</td>\n",
       "      <td>1.0</td>\n",
       "      <td>1.0</td>\n",
       "      <td>1.0</td>\n",
       "      <td>1.0</td>\n",
       "    </tr>\n",
       "    <tr>\n",
       "      <th>job_hire_res_vendor</th>\n",
       "      <td>726.0</td>\n",
       "      <td>0.111570</td>\n",
       "      <td>0.294695</td>\n",
       "      <td>0.0</td>\n",
       "      <td>0.0</td>\n",
       "      <td>0.0</td>\n",
       "      <td>0.0</td>\n",
       "      <td>1.0</td>\n",
       "    </tr>\n",
       "    <tr>\n",
       "      <th>job_lead_res_team</th>\n",
       "      <td>726.0</td>\n",
       "      <td>0.460744</td>\n",
       "      <td>0.463318</td>\n",
       "      <td>0.0</td>\n",
       "      <td>0.0</td>\n",
       "      <td>0.5</td>\n",
       "      <td>1.0</td>\n",
       "      <td>1.0</td>\n",
       "    </tr>\n",
       "    <tr>\n",
       "      <th>exp_conduct_res</th>\n",
       "      <td>726.0</td>\n",
       "      <td>0.665289</td>\n",
       "      <td>0.379047</td>\n",
       "      <td>0.0</td>\n",
       "      <td>0.5</td>\n",
       "      <td>1.0</td>\n",
       "      <td>1.0</td>\n",
       "      <td>1.0</td>\n",
       "    </tr>\n",
       "    <tr>\n",
       "      <th>exp_analyze_res</th>\n",
       "      <td>726.0</td>\n",
       "      <td>0.672176</td>\n",
       "      <td>0.373202</td>\n",
       "      <td>0.0</td>\n",
       "      <td>0.5</td>\n",
       "      <td>1.0</td>\n",
       "      <td>1.0</td>\n",
       "      <td>1.0</td>\n",
       "    </tr>\n",
       "    <tr>\n",
       "      <th>exp_buy_res_report</th>\n",
       "      <td>726.0</td>\n",
       "      <td>0.174931</td>\n",
       "      <td>0.341969</td>\n",
       "      <td>0.0</td>\n",
       "      <td>0.0</td>\n",
       "      <td>0.0</td>\n",
       "      <td>0.0</td>\n",
       "      <td>1.0</td>\n",
       "    </tr>\n",
       "    <tr>\n",
       "      <th>exp_manage_res_proj</th>\n",
       "      <td>726.0</td>\n",
       "      <td>0.511708</td>\n",
       "      <td>0.412980</td>\n",
       "      <td>0.0</td>\n",
       "      <td>0.0</td>\n",
       "      <td>0.5</td>\n",
       "      <td>1.0</td>\n",
       "      <td>1.0</td>\n",
       "    </tr>\n",
       "    <tr>\n",
       "      <th>exp_observe_res</th>\n",
       "      <td>726.0</td>\n",
       "      <td>0.619835</td>\n",
       "      <td>0.402705</td>\n",
       "      <td>0.0</td>\n",
       "      <td>0.5</td>\n",
       "      <td>0.5</td>\n",
       "      <td>1.0</td>\n",
       "      <td>1.0</td>\n",
       "    </tr>\n",
       "    <tr>\n",
       "      <th>exp_plan_res</th>\n",
       "      <td>726.0</td>\n",
       "      <td>0.628788</td>\n",
       "      <td>0.386333</td>\n",
       "      <td>0.0</td>\n",
       "      <td>0.5</td>\n",
       "      <td>0.5</td>\n",
       "      <td>1.0</td>\n",
       "      <td>1.0</td>\n",
       "    </tr>\n",
       "    <tr>\n",
       "      <th>exp_teach_res</th>\n",
       "      <td>726.0</td>\n",
       "      <td>0.345730</td>\n",
       "      <td>0.390794</td>\n",
       "      <td>0.0</td>\n",
       "      <td>0.0</td>\n",
       "      <td>0.0</td>\n",
       "      <td>0.5</td>\n",
       "      <td>1.0</td>\n",
       "    </tr>\n",
       "    <tr>\n",
       "      <th>exp_advocate_res</th>\n",
       "      <td>726.0</td>\n",
       "      <td>0.577824</td>\n",
       "      <td>0.404889</td>\n",
       "      <td>0.0</td>\n",
       "      <td>0.0</td>\n",
       "      <td>0.5</td>\n",
       "      <td>1.0</td>\n",
       "      <td>1.0</td>\n",
       "    </tr>\n",
       "    <tr>\n",
       "      <th>exp_hire_res_vendor</th>\n",
       "      <td>726.0</td>\n",
       "      <td>0.233471</td>\n",
       "      <td>0.366110</td>\n",
       "      <td>0.0</td>\n",
       "      <td>0.0</td>\n",
       "      <td>0.0</td>\n",
       "      <td>0.5</td>\n",
       "      <td>1.0</td>\n",
       "    </tr>\n",
       "    <tr>\n",
       "      <th>exp_lead_res_team</th>\n",
       "      <td>726.0</td>\n",
       "      <td>0.295455</td>\n",
       "      <td>0.386630</td>\n",
       "      <td>0.0</td>\n",
       "      <td>0.0</td>\n",
       "      <td>0.0</td>\n",
       "      <td>0.5</td>\n",
       "      <td>1.0</td>\n",
       "    </tr>\n",
       "    <tr>\n",
       "      <th>learning_talks</th>\n",
       "      <td>726.0</td>\n",
       "      <td>0.779614</td>\n",
       "      <td>0.414792</td>\n",
       "      <td>0.0</td>\n",
       "      <td>1.0</td>\n",
       "      <td>1.0</td>\n",
       "      <td>1.0</td>\n",
       "      <td>1.0</td>\n",
       "    </tr>\n",
       "    <tr>\n",
       "      <th>learning_read</th>\n",
       "      <td>726.0</td>\n",
       "      <td>0.954545</td>\n",
       "      <td>0.208443</td>\n",
       "      <td>0.0</td>\n",
       "      <td>1.0</td>\n",
       "      <td>1.0</td>\n",
       "      <td>1.0</td>\n",
       "      <td>1.0</td>\n",
       "    </tr>\n",
       "    <tr>\n",
       "      <th>learning_meetup</th>\n",
       "      <td>726.0</td>\n",
       "      <td>0.636364</td>\n",
       "      <td>0.481377</td>\n",
       "      <td>0.0</td>\n",
       "      <td>0.0</td>\n",
       "      <td>1.0</td>\n",
       "      <td>1.0</td>\n",
       "      <td>1.0</td>\n",
       "    </tr>\n",
       "    <tr>\n",
       "      <th>learning_workshop</th>\n",
       "      <td>726.0</td>\n",
       "      <td>0.472452</td>\n",
       "      <td>0.499585</td>\n",
       "      <td>0.0</td>\n",
       "      <td>0.0</td>\n",
       "      <td>0.0</td>\n",
       "      <td>1.0</td>\n",
       "      <td>1.0</td>\n",
       "    </tr>\n",
       "    <tr>\n",
       "      <th>learning_conference</th>\n",
       "      <td>726.0</td>\n",
       "      <td>0.585399</td>\n",
       "      <td>0.492993</td>\n",
       "      <td>0.0</td>\n",
       "      <td>0.0</td>\n",
       "      <td>1.0</td>\n",
       "      <td>1.0</td>\n",
       "      <td>1.0</td>\n",
       "    </tr>\n",
       "    <tr>\n",
       "      <th>likely_watch_video</th>\n",
       "      <td>726.0</td>\n",
       "      <td>0.838843</td>\n",
       "      <td>0.312155</td>\n",
       "      <td>0.0</td>\n",
       "      <td>1.0</td>\n",
       "      <td>1.0</td>\n",
       "      <td>1.0</td>\n",
       "      <td>1.0</td>\n",
       "    </tr>\n",
       "    <tr>\n",
       "      <th>likely_internet</th>\n",
       "      <td>726.0</td>\n",
       "      <td>0.952479</td>\n",
       "      <td>0.178540</td>\n",
       "      <td>0.0</td>\n",
       "      <td>1.0</td>\n",
       "      <td>1.0</td>\n",
       "      <td>1.0</td>\n",
       "      <td>1.0</td>\n",
       "    </tr>\n",
       "    <tr>\n",
       "      <th>likely_book</th>\n",
       "      <td>726.0</td>\n",
       "      <td>0.903581</td>\n",
       "      <td>0.244246</td>\n",
       "      <td>0.0</td>\n",
       "      <td>1.0</td>\n",
       "      <td>1.0</td>\n",
       "      <td>1.0</td>\n",
       "      <td>1.0</td>\n",
       "    </tr>\n",
       "    <tr>\n",
       "      <th>likely_online_group</th>\n",
       "      <td>726.0</td>\n",
       "      <td>0.509642</td>\n",
       "      <td>0.428200</td>\n",
       "      <td>0.0</td>\n",
       "      <td>0.0</td>\n",
       "      <td>0.5</td>\n",
       "      <td>1.0</td>\n",
       "      <td>1.0</td>\n",
       "    </tr>\n",
       "    <tr>\n",
       "      <th>likely_colleague</th>\n",
       "      <td>726.0</td>\n",
       "      <td>0.843664</td>\n",
       "      <td>0.305142</td>\n",
       "      <td>0.0</td>\n",
       "      <td>1.0</td>\n",
       "      <td>1.0</td>\n",
       "      <td>1.0</td>\n",
       "      <td>1.0</td>\n",
       "    </tr>\n",
       "    <tr>\n",
       "      <th>likely_meetup</th>\n",
       "      <td>726.0</td>\n",
       "      <td>0.561983</td>\n",
       "      <td>0.420526</td>\n",
       "      <td>0.0</td>\n",
       "      <td>0.0</td>\n",
       "      <td>0.5</td>\n",
       "      <td>1.0</td>\n",
       "      <td>1.0</td>\n",
       "    </tr>\n",
       "    <tr>\n",
       "      <th>likely_conference</th>\n",
       "      <td>726.0</td>\n",
       "      <td>0.586088</td>\n",
       "      <td>0.420787</td>\n",
       "      <td>0.0</td>\n",
       "      <td>0.0</td>\n",
       "      <td>0.5</td>\n",
       "      <td>1.0</td>\n",
       "      <td>1.0</td>\n",
       "    </tr>\n",
       "    <tr>\n",
       "      <th>likely_workshop</th>\n",
       "      <td>726.0</td>\n",
       "      <td>0.626033</td>\n",
       "      <td>0.412257</td>\n",
       "      <td>0.0</td>\n",
       "      <td>0.5</td>\n",
       "      <td>0.5</td>\n",
       "      <td>1.0</td>\n",
       "      <td>1.0</td>\n",
       "    </tr>\n",
       "    <tr>\n",
       "      <th>factor_speaker</th>\n",
       "      <td>726.0</td>\n",
       "      <td>0.595041</td>\n",
       "      <td>0.439345</td>\n",
       "      <td>0.0</td>\n",
       "      <td>0.0</td>\n",
       "      <td>0.5</td>\n",
       "      <td>1.0</td>\n",
       "      <td>1.0</td>\n",
       "    </tr>\n",
       "    <tr>\n",
       "      <th>factor_diverse_speak</th>\n",
       "      <td>726.0</td>\n",
       "      <td>0.801653</td>\n",
       "      <td>0.350247</td>\n",
       "      <td>0.0</td>\n",
       "      <td>0.5</td>\n",
       "      <td>1.0</td>\n",
       "      <td>1.0</td>\n",
       "      <td>1.0</td>\n",
       "    </tr>\n",
       "    <tr>\n",
       "      <th>factor_topics</th>\n",
       "      <td>726.0</td>\n",
       "      <td>0.980716</td>\n",
       "      <td>0.118787</td>\n",
       "      <td>0.0</td>\n",
       "      <td>1.0</td>\n",
       "      <td>1.0</td>\n",
       "      <td>1.0</td>\n",
       "      <td>1.0</td>\n",
       "    </tr>\n",
       "    <tr>\n",
       "      <th>factor_format_sessions</th>\n",
       "      <td>726.0</td>\n",
       "      <td>0.785813</td>\n",
       "      <td>0.323651</td>\n",
       "      <td>0.0</td>\n",
       "      <td>0.5</td>\n",
       "      <td>1.0</td>\n",
       "      <td>1.0</td>\n",
       "      <td>1.0</td>\n",
       "    </tr>\n",
       "    <tr>\n",
       "      <th>factor_size</th>\n",
       "      <td>726.0</td>\n",
       "      <td>0.569559</td>\n",
       "      <td>0.423022</td>\n",
       "      <td>0.0</td>\n",
       "      <td>0.0</td>\n",
       "      <td>0.5</td>\n",
       "      <td>1.0</td>\n",
       "      <td>1.0</td>\n",
       "    </tr>\n",
       "    <tr>\n",
       "      <th>factor_network</th>\n",
       "      <td>726.0</td>\n",
       "      <td>0.513774</td>\n",
       "      <td>0.403198</td>\n",
       "      <td>0.0</td>\n",
       "      <td>0.0</td>\n",
       "      <td>0.5</td>\n",
       "      <td>1.0</td>\n",
       "      <td>1.0</td>\n",
       "    </tr>\n",
       "    <tr>\n",
       "      <th>factor_variety_attend</th>\n",
       "      <td>726.0</td>\n",
       "      <td>0.525482</td>\n",
       "      <td>0.416519</td>\n",
       "      <td>0.0</td>\n",
       "      <td>0.0</td>\n",
       "      <td>0.5</td>\n",
       "      <td>1.0</td>\n",
       "      <td>1.0</td>\n",
       "    </tr>\n",
       "    <tr>\n",
       "      <th>factor_code</th>\n",
       "      <td>726.0</td>\n",
       "      <td>0.486915</td>\n",
       "      <td>0.417919</td>\n",
       "      <td>0.0</td>\n",
       "      <td>0.0</td>\n",
       "      <td>0.5</td>\n",
       "      <td>1.0</td>\n",
       "      <td>1.0</td>\n",
       "    </tr>\n",
       "    <tr>\n",
       "      <th>factor_location</th>\n",
       "      <td>726.0</td>\n",
       "      <td>0.814738</td>\n",
       "      <td>0.334937</td>\n",
       "      <td>0.0</td>\n",
       "      <td>0.5</td>\n",
       "      <td>1.0</td>\n",
       "      <td>1.0</td>\n",
       "      <td>1.0</td>\n",
       "    </tr>\n",
       "    <tr>\n",
       "      <th>factor_ability_to_pay</th>\n",
       "      <td>726.0</td>\n",
       "      <td>0.890496</td>\n",
       "      <td>0.279271</td>\n",
       "      <td>0.0</td>\n",
       "      <td>1.0</td>\n",
       "      <td>1.0</td>\n",
       "      <td>1.0</td>\n",
       "      <td>1.0</td>\n",
       "    </tr>\n",
       "    <tr>\n",
       "      <th>session_keynote</th>\n",
       "      <td>726.0</td>\n",
       "      <td>0.758264</td>\n",
       "      <td>0.388322</td>\n",
       "      <td>0.0</td>\n",
       "      <td>0.5</td>\n",
       "      <td>1.0</td>\n",
       "      <td>1.0</td>\n",
       "      <td>1.0</td>\n",
       "    </tr>\n",
       "    <tr>\n",
       "      <th>session_long_talk</th>\n",
       "      <td>726.0</td>\n",
       "      <td>0.792011</td>\n",
       "      <td>0.349569</td>\n",
       "      <td>0.0</td>\n",
       "      <td>0.5</td>\n",
       "      <td>1.0</td>\n",
       "      <td>1.0</td>\n",
       "      <td>1.0</td>\n",
       "    </tr>\n",
       "    <tr>\n",
       "      <th>session_short_talk</th>\n",
       "      <td>726.0</td>\n",
       "      <td>0.649449</td>\n",
       "      <td>0.411113</td>\n",
       "      <td>0.0</td>\n",
       "      <td>0.5</td>\n",
       "      <td>1.0</td>\n",
       "      <td>1.0</td>\n",
       "      <td>1.0</td>\n",
       "    </tr>\n",
       "    <tr>\n",
       "      <th>session_workshop</th>\n",
       "      <td>726.0</td>\n",
       "      <td>0.814050</td>\n",
       "      <td>0.344207</td>\n",
       "      <td>0.0</td>\n",
       "      <td>0.5</td>\n",
       "      <td>1.0</td>\n",
       "      <td>1.0</td>\n",
       "      <td>1.0</td>\n",
       "    </tr>\n",
       "    <tr>\n",
       "      <th>session_network</th>\n",
       "      <td>726.0</td>\n",
       "      <td>0.553719</td>\n",
       "      <td>0.431365</td>\n",
       "      <td>0.0</td>\n",
       "      <td>0.0</td>\n",
       "      <td>0.5</td>\n",
       "      <td>1.0</td>\n",
       "      <td>1.0</td>\n",
       "    </tr>\n",
       "    <tr>\n",
       "      <th>session_social_event</th>\n",
       "      <td>726.0</td>\n",
       "      <td>0.347107</td>\n",
       "      <td>0.410263</td>\n",
       "      <td>0.0</td>\n",
       "      <td>0.0</td>\n",
       "      <td>0.0</td>\n",
       "      <td>0.5</td>\n",
       "      <td>1.0</td>\n",
       "    </tr>\n",
       "    <tr>\n",
       "      <th>session_qa</th>\n",
       "      <td>726.0</td>\n",
       "      <td>0.548898</td>\n",
       "      <td>0.420204</td>\n",
       "      <td>0.0</td>\n",
       "      <td>0.0</td>\n",
       "      <td>0.5</td>\n",
       "      <td>1.0</td>\n",
       "      <td>1.0</td>\n",
       "    </tr>\n",
       "    <tr>\n",
       "      <th>sesson_topic_tables</th>\n",
       "      <td>726.0</td>\n",
       "      <td>0.670799</td>\n",
       "      <td>0.414930</td>\n",
       "      <td>0.0</td>\n",
       "      <td>0.5</td>\n",
       "      <td>1.0</td>\n",
       "      <td>1.0</td>\n",
       "      <td>1.0</td>\n",
       "    </tr>\n",
       "    <tr>\n",
       "      <th>target</th>\n",
       "      <td>726.0</td>\n",
       "      <td>0.651515</td>\n",
       "      <td>0.397116</td>\n",
       "      <td>0.0</td>\n",
       "      <td>0.5</td>\n",
       "      <td>1.0</td>\n",
       "      <td>1.0</td>\n",
       "      <td>1.0</td>\n",
       "    </tr>\n",
       "  </tbody>\n",
       "</table>\n",
       "</div>"
      ],
      "text/plain": [
       "                        count      mean       std  min  25%  50%  75%  max\n",
       "job_conduct_res         726.0  0.811295  0.372591  0.0  1.0  1.0  1.0  1.0\n",
       "job_analyze_res         726.0  0.840220  0.343342  0.0  1.0  1.0  1.0  1.0\n",
       "job_buy_res_report      726.0  0.045455  0.180038  0.0  0.0  0.0  0.0  1.0\n",
       "job_manage_res_proj     726.0  0.715565  0.416908  0.0  0.5  1.0  1.0  1.0\n",
       "job_observe_res         726.0  0.488292  0.455844  0.0  0.0  0.5  1.0  1.0\n",
       "job_plan_res            726.0  0.835399  0.340548  0.0  1.0  1.0  1.0  1.0\n",
       "job_teach_res           726.0  0.457300  0.463385  0.0  0.0  0.5  1.0  1.0\n",
       "job_advocate_res        726.0  0.811983  0.352500  0.0  1.0  1.0  1.0  1.0\n",
       "job_hire_res_vendor     726.0  0.111570  0.294695  0.0  0.0  0.0  0.0  1.0\n",
       "job_lead_res_team       726.0  0.460744  0.463318  0.0  0.0  0.5  1.0  1.0\n",
       "exp_conduct_res         726.0  0.665289  0.379047  0.0  0.5  1.0  1.0  1.0\n",
       "exp_analyze_res         726.0  0.672176  0.373202  0.0  0.5  1.0  1.0  1.0\n",
       "exp_buy_res_report      726.0  0.174931  0.341969  0.0  0.0  0.0  0.0  1.0\n",
       "exp_manage_res_proj     726.0  0.511708  0.412980  0.0  0.0  0.5  1.0  1.0\n",
       "exp_observe_res         726.0  0.619835  0.402705  0.0  0.5  0.5  1.0  1.0\n",
       "exp_plan_res            726.0  0.628788  0.386333  0.0  0.5  0.5  1.0  1.0\n",
       "exp_teach_res           726.0  0.345730  0.390794  0.0  0.0  0.0  0.5  1.0\n",
       "exp_advocate_res        726.0  0.577824  0.404889  0.0  0.0  0.5  1.0  1.0\n",
       "exp_hire_res_vendor     726.0  0.233471  0.366110  0.0  0.0  0.0  0.5  1.0\n",
       "exp_lead_res_team       726.0  0.295455  0.386630  0.0  0.0  0.0  0.5  1.0\n",
       "learning_talks          726.0  0.779614  0.414792  0.0  1.0  1.0  1.0  1.0\n",
       "learning_read           726.0  0.954545  0.208443  0.0  1.0  1.0  1.0  1.0\n",
       "learning_meetup         726.0  0.636364  0.481377  0.0  0.0  1.0  1.0  1.0\n",
       "learning_workshop       726.0  0.472452  0.499585  0.0  0.0  0.0  1.0  1.0\n",
       "learning_conference     726.0  0.585399  0.492993  0.0  0.0  1.0  1.0  1.0\n",
       "likely_watch_video      726.0  0.838843  0.312155  0.0  1.0  1.0  1.0  1.0\n",
       "likely_internet         726.0  0.952479  0.178540  0.0  1.0  1.0  1.0  1.0\n",
       "likely_book             726.0  0.903581  0.244246  0.0  1.0  1.0  1.0  1.0\n",
       "likely_online_group     726.0  0.509642  0.428200  0.0  0.0  0.5  1.0  1.0\n",
       "likely_colleague        726.0  0.843664  0.305142  0.0  1.0  1.0  1.0  1.0\n",
       "likely_meetup           726.0  0.561983  0.420526  0.0  0.0  0.5  1.0  1.0\n",
       "likely_conference       726.0  0.586088  0.420787  0.0  0.0  0.5  1.0  1.0\n",
       "likely_workshop         726.0  0.626033  0.412257  0.0  0.5  0.5  1.0  1.0\n",
       "factor_speaker          726.0  0.595041  0.439345  0.0  0.0  0.5  1.0  1.0\n",
       "factor_diverse_speak    726.0  0.801653  0.350247  0.0  0.5  1.0  1.0  1.0\n",
       "factor_topics           726.0  0.980716  0.118787  0.0  1.0  1.0  1.0  1.0\n",
       "factor_format_sessions  726.0  0.785813  0.323651  0.0  0.5  1.0  1.0  1.0\n",
       "factor_size             726.0  0.569559  0.423022  0.0  0.0  0.5  1.0  1.0\n",
       "factor_network          726.0  0.513774  0.403198  0.0  0.0  0.5  1.0  1.0\n",
       "factor_variety_attend   726.0  0.525482  0.416519  0.0  0.0  0.5  1.0  1.0\n",
       "factor_code             726.0  0.486915  0.417919  0.0  0.0  0.5  1.0  1.0\n",
       "factor_location         726.0  0.814738  0.334937  0.0  0.5  1.0  1.0  1.0\n",
       "factor_ability_to_pay   726.0  0.890496  0.279271  0.0  1.0  1.0  1.0  1.0\n",
       "session_keynote         726.0  0.758264  0.388322  0.0  0.5  1.0  1.0  1.0\n",
       "session_long_talk       726.0  0.792011  0.349569  0.0  0.5  1.0  1.0  1.0\n",
       "session_short_talk      726.0  0.649449  0.411113  0.0  0.5  1.0  1.0  1.0\n",
       "session_workshop        726.0  0.814050  0.344207  0.0  0.5  1.0  1.0  1.0\n",
       "session_network         726.0  0.553719  0.431365  0.0  0.0  0.5  1.0  1.0\n",
       "session_social_event    726.0  0.347107  0.410263  0.0  0.0  0.0  0.5  1.0\n",
       "session_qa              726.0  0.548898  0.420204  0.0  0.0  0.5  1.0  1.0\n",
       "sesson_topic_tables     726.0  0.670799  0.414930  0.0  0.5  1.0  1.0  1.0\n",
       "target                  726.0  0.651515  0.397116  0.0  0.5  1.0  1.0  1.0"
      ]
     },
     "metadata": {},
     "output_type": "display_data"
    }
   ],
   "source": [
    "dfrecode3 = recode_columns(df, check_recoder, recoder, outputs=3)\n",
    "display(dfrecode3.head())\n",
    "display(dfrecode3.describe().T)"
   ]
  },
  {
   "cell_type": "code",
   "execution_count": 16,
   "metadata": {},
   "outputs": [
    {
     "data": {
      "text/html": [
       "<div>\n",
       "<style scoped>\n",
       "    .dataframe tbody tr th:only-of-type {\n",
       "        vertical-align: middle;\n",
       "    }\n",
       "\n",
       "    .dataframe tbody tr th {\n",
       "        vertical-align: top;\n",
       "    }\n",
       "\n",
       "    .dataframe thead th {\n",
       "        text-align: right;\n",
       "    }\n",
       "</style>\n",
       "<table border=\"1\" class=\"dataframe\">\n",
       "  <thead>\n",
       "    <tr style=\"text-align: right;\">\n",
       "      <th></th>\n",
       "      <th>job_title</th>\n",
       "      <th>job_taxo</th>\n",
       "      <th>job_id</th>\n",
       "      <th>job_conduct_res</th>\n",
       "      <th>job_analyze_res</th>\n",
       "      <th>job_buy_res_report</th>\n",
       "      <th>job_manage_res_proj</th>\n",
       "      <th>job_observe_res</th>\n",
       "      <th>job_plan_res</th>\n",
       "      <th>job_teach_res</th>\n",
       "      <th>...</th>\n",
       "      <th>session_network</th>\n",
       "      <th>session_social_event</th>\n",
       "      <th>session_qa</th>\n",
       "      <th>sesson_topic_tables</th>\n",
       "      <th>other_conference_types</th>\n",
       "      <th>ideal_topics</th>\n",
       "      <th>ideal_attendees</th>\n",
       "      <th>recommendations</th>\n",
       "      <th>persona_id</th>\n",
       "      <th>target</th>\n",
       "    </tr>\n",
       "    <tr>\n",
       "      <th>resp_id</th>\n",
       "      <th></th>\n",
       "      <th></th>\n",
       "      <th></th>\n",
       "      <th></th>\n",
       "      <th></th>\n",
       "      <th></th>\n",
       "      <th></th>\n",
       "      <th></th>\n",
       "      <th></th>\n",
       "      <th></th>\n",
       "      <th></th>\n",
       "      <th></th>\n",
       "      <th></th>\n",
       "      <th></th>\n",
       "      <th></th>\n",
       "      <th></th>\n",
       "      <th></th>\n",
       "      <th></th>\n",
       "      <th></th>\n",
       "      <th></th>\n",
       "      <th></th>\n",
       "    </tr>\n",
       "  </thead>\n",
       "  <tbody>\n",
       "    <tr>\n",
       "      <th>284</th>\n",
       "      <td>Academic</td>\n",
       "      <td>4</td>\n",
       "      <td>1.0</td>\n",
       "      <td>1</td>\n",
       "      <td>1</td>\n",
       "      <td>0</td>\n",
       "      <td>1</td>\n",
       "      <td>1</td>\n",
       "      <td>1</td>\n",
       "      <td>1</td>\n",
       "      <td>...</td>\n",
       "      <td>1</td>\n",
       "      <td>1</td>\n",
       "      <td>1</td>\n",
       "      <td>1</td>\n",
       "      <td>NaN</td>\n",
       "      <td>research-practice connections</td>\n",
       "      <td>NaN</td>\n",
       "      <td>research-practice connections</td>\n",
       "      <td>2</td>\n",
       "      <td>1.0</td>\n",
       "    </tr>\n",
       "    <tr>\n",
       "      <th>288</th>\n",
       "      <td>Academic</td>\n",
       "      <td>4</td>\n",
       "      <td>1.0</td>\n",
       "      <td>0</td>\n",
       "      <td>1</td>\n",
       "      <td>0</td>\n",
       "      <td>1</td>\n",
       "      <td>1</td>\n",
       "      <td>1</td>\n",
       "      <td>1</td>\n",
       "      <td>...</td>\n",
       "      <td>1</td>\n",
       "      <td>0</td>\n",
       "      <td>0</td>\n",
       "      <td>1</td>\n",
       "      <td>NaN</td>\n",
       "      <td>NaN</td>\n",
       "      <td>NaN</td>\n",
       "      <td>Don’t create schedule conflicts with other rel...</td>\n",
       "      <td>2</td>\n",
       "      <td>1.0</td>\n",
       "    </tr>\n",
       "    <tr>\n",
       "      <th>294</th>\n",
       "      <td>Academic</td>\n",
       "      <td>4</td>\n",
       "      <td>1.0</td>\n",
       "      <td>1</td>\n",
       "      <td>1</td>\n",
       "      <td>0</td>\n",
       "      <td>1</td>\n",
       "      <td>0</td>\n",
       "      <td>1</td>\n",
       "      <td>1</td>\n",
       "      <td>...</td>\n",
       "      <td>1</td>\n",
       "      <td>1</td>\n",
       "      <td>1</td>\n",
       "      <td>1</td>\n",
       "      <td>NaN</td>\n",
       "      <td>NaN</td>\n",
       "      <td>NaN</td>\n",
       "      <td>Looking forward! \\n</td>\n",
       "      <td>2</td>\n",
       "      <td>1.0</td>\n",
       "    </tr>\n",
       "    <tr>\n",
       "      <th>281</th>\n",
       "      <td>Academic</td>\n",
       "      <td>4</td>\n",
       "      <td>1.0</td>\n",
       "      <td>1</td>\n",
       "      <td>1</td>\n",
       "      <td>0</td>\n",
       "      <td>1</td>\n",
       "      <td>1</td>\n",
       "      <td>1</td>\n",
       "      <td>0</td>\n",
       "      <td>...</td>\n",
       "      <td>1</td>\n",
       "      <td>1</td>\n",
       "      <td>1</td>\n",
       "      <td>1</td>\n",
       "      <td>NaN</td>\n",
       "      <td>Research design, innovative methods, communica...</td>\n",
       "      <td>NaN</td>\n",
       "      <td>NaN</td>\n",
       "      <td>2</td>\n",
       "      <td>1.0</td>\n",
       "    </tr>\n",
       "    <tr>\n",
       "      <th>280</th>\n",
       "      <td>Academic</td>\n",
       "      <td>4</td>\n",
       "      <td>1.0</td>\n",
       "      <td>1</td>\n",
       "      <td>1</td>\n",
       "      <td>0</td>\n",
       "      <td>0</td>\n",
       "      <td>0</td>\n",
       "      <td>1</td>\n",
       "      <td>1</td>\n",
       "      <td>...</td>\n",
       "      <td>1</td>\n",
       "      <td>0</td>\n",
       "      <td>1</td>\n",
       "      <td>1</td>\n",
       "      <td>You should consider the combination of confere...</td>\n",
       "      <td>NaN</td>\n",
       "      <td>NaN</td>\n",
       "      <td>NaN</td>\n",
       "      <td>2</td>\n",
       "      <td>1.0</td>\n",
       "    </tr>\n",
       "  </tbody>\n",
       "</table>\n",
       "<p>5 rows × 78 columns</p>\n",
       "</div>"
      ],
      "text/plain": [
       "        job_title job_taxo job_id  job_conduct_res  job_analyze_res  \\\n",
       "resp_id                                                               \n",
       "284      Academic        4    1.0                1                1   \n",
       "288      Academic        4    1.0                0                1   \n",
       "294      Academic        4    1.0                1                1   \n",
       "281      Academic        4    1.0                1                1   \n",
       "280      Academic        4    1.0                1                1   \n",
       "\n",
       "         job_buy_res_report  job_manage_res_proj  job_observe_res  \\\n",
       "resp_id                                                             \n",
       "284                       0                    1                1   \n",
       "288                       0                    1                1   \n",
       "294                       0                    1                0   \n",
       "281                       0                    1                1   \n",
       "280                       0                    0                0   \n",
       "\n",
       "         job_plan_res  job_teach_res  ...  session_network  \\\n",
       "resp_id                               ...                    \n",
       "284                 1              1  ...                1   \n",
       "288                 1              1  ...                1   \n",
       "294                 1              1  ...                1   \n",
       "281                 1              0  ...                1   \n",
       "280                 1              1  ...                1   \n",
       "\n",
       "         session_social_event  session_qa sesson_topic_tables  \\\n",
       "resp_id                                                         \n",
       "284                         1           1                   1   \n",
       "288                         0           0                   1   \n",
       "294                         1           1                   1   \n",
       "281                         1           1                   1   \n",
       "280                         0           1                   1   \n",
       "\n",
       "                                    other_conference_types  \\\n",
       "resp_id                                                      \n",
       "284                                                    NaN   \n",
       "288                                                    NaN   \n",
       "294                                                    NaN   \n",
       "281                                                    NaN   \n",
       "280      You should consider the combination of confere...   \n",
       "\n",
       "                                              ideal_topics ideal_attendees  \\\n",
       "resp_id                                                                      \n",
       "284                          research-practice connections             NaN   \n",
       "288                                                    NaN             NaN   \n",
       "294                                                    NaN             NaN   \n",
       "281      Research design, innovative methods, communica...             NaN   \n",
       "280                                                    NaN             NaN   \n",
       "\n",
       "                                           recommendations  persona_id  target  \n",
       "resp_id                                                                         \n",
       "284                          research-practice connections           2     1.0  \n",
       "288      Don’t create schedule conflicts with other rel...           2     1.0  \n",
       "294                                    Looking forward! \\n           2     1.0  \n",
       "281                                                    NaN           2     1.0  \n",
       "280                                                    NaN           2     1.0  \n",
       "\n",
       "[5 rows x 78 columns]"
      ]
     },
     "metadata": {},
     "output_type": "display_data"
    },
    {
     "data": {
      "text/html": [
       "<div>\n",
       "<style scoped>\n",
       "    .dataframe tbody tr th:only-of-type {\n",
       "        vertical-align: middle;\n",
       "    }\n",
       "\n",
       "    .dataframe tbody tr th {\n",
       "        vertical-align: top;\n",
       "    }\n",
       "\n",
       "    .dataframe thead th {\n",
       "        text-align: right;\n",
       "    }\n",
       "</style>\n",
       "<table border=\"1\" class=\"dataframe\">\n",
       "  <thead>\n",
       "    <tr style=\"text-align: right;\">\n",
       "      <th></th>\n",
       "      <th>count</th>\n",
       "      <th>mean</th>\n",
       "      <th>std</th>\n",
       "      <th>min</th>\n",
       "      <th>25%</th>\n",
       "      <th>50%</th>\n",
       "      <th>75%</th>\n",
       "      <th>max</th>\n",
       "    </tr>\n",
       "  </thead>\n",
       "  <tbody>\n",
       "    <tr>\n",
       "      <th>job_conduct_res</th>\n",
       "      <td>726.0</td>\n",
       "      <td>0.840220</td>\n",
       "      <td>0.366654</td>\n",
       "      <td>0.0</td>\n",
       "      <td>1.0</td>\n",
       "      <td>1.0</td>\n",
       "      <td>1.0</td>\n",
       "      <td>1.0</td>\n",
       "    </tr>\n",
       "    <tr>\n",
       "      <th>job_analyze_res</th>\n",
       "      <td>726.0</td>\n",
       "      <td>0.873278</td>\n",
       "      <td>0.332890</td>\n",
       "      <td>0.0</td>\n",
       "      <td>1.0</td>\n",
       "      <td>1.0</td>\n",
       "      <td>1.0</td>\n",
       "      <td>1.0</td>\n",
       "    </tr>\n",
       "    <tr>\n",
       "      <th>job_buy_res_report</th>\n",
       "      <td>726.0</td>\n",
       "      <td>0.067493</td>\n",
       "      <td>0.251047</td>\n",
       "      <td>0.0</td>\n",
       "      <td>0.0</td>\n",
       "      <td>0.0</td>\n",
       "      <td>0.0</td>\n",
       "      <td>1.0</td>\n",
       "    </tr>\n",
       "    <tr>\n",
       "      <th>job_manage_res_proj</th>\n",
       "      <td>726.0</td>\n",
       "      <td>0.775482</td>\n",
       "      <td>0.417552</td>\n",
       "      <td>0.0</td>\n",
       "      <td>1.0</td>\n",
       "      <td>1.0</td>\n",
       "      <td>1.0</td>\n",
       "      <td>1.0</td>\n",
       "    </tr>\n",
       "    <tr>\n",
       "      <th>job_observe_res</th>\n",
       "      <td>726.0</td>\n",
       "      <td>0.573003</td>\n",
       "      <td>0.494983</td>\n",
       "      <td>0.0</td>\n",
       "      <td>0.0</td>\n",
       "      <td>1.0</td>\n",
       "      <td>1.0</td>\n",
       "      <td>1.0</td>\n",
       "    </tr>\n",
       "    <tr>\n",
       "      <th>job_plan_res</th>\n",
       "      <td>726.0</td>\n",
       "      <td>0.878788</td>\n",
       "      <td>0.326599</td>\n",
       "      <td>0.0</td>\n",
       "      <td>1.0</td>\n",
       "      <td>1.0</td>\n",
       "      <td>1.0</td>\n",
       "      <td>1.0</td>\n",
       "    </tr>\n",
       "    <tr>\n",
       "      <th>job_teach_res</th>\n",
       "      <td>726.0</td>\n",
       "      <td>0.524793</td>\n",
       "      <td>0.499729</td>\n",
       "      <td>0.0</td>\n",
       "      <td>0.0</td>\n",
       "      <td>1.0</td>\n",
       "      <td>1.0</td>\n",
       "      <td>1.0</td>\n",
       "    </tr>\n",
       "    <tr>\n",
       "      <th>job_advocate_res</th>\n",
       "      <td>726.0</td>\n",
       "      <td>0.869146</td>\n",
       "      <td>0.337473</td>\n",
       "      <td>0.0</td>\n",
       "      <td>1.0</td>\n",
       "      <td>1.0</td>\n",
       "      <td>1.0</td>\n",
       "      <td>1.0</td>\n",
       "    </tr>\n",
       "    <tr>\n",
       "      <th>job_hire_res_vendor</th>\n",
       "      <td>726.0</td>\n",
       "      <td>0.136364</td>\n",
       "      <td>0.343411</td>\n",
       "      <td>0.0</td>\n",
       "      <td>0.0</td>\n",
       "      <td>0.0</td>\n",
       "      <td>0.0</td>\n",
       "      <td>1.0</td>\n",
       "    </tr>\n",
       "    <tr>\n",
       "      <th>job_lead_res_team</th>\n",
       "      <td>726.0</td>\n",
       "      <td>0.528926</td>\n",
       "      <td>0.499507</td>\n",
       "      <td>0.0</td>\n",
       "      <td>0.0</td>\n",
       "      <td>1.0</td>\n",
       "      <td>1.0</td>\n",
       "      <td>1.0</td>\n",
       "    </tr>\n",
       "    <tr>\n",
       "      <th>exp_conduct_res</th>\n",
       "      <td>726.0</td>\n",
       "      <td>0.650138</td>\n",
       "      <td>0.477255</td>\n",
       "      <td>0.0</td>\n",
       "      <td>0.0</td>\n",
       "      <td>1.0</td>\n",
       "      <td>1.0</td>\n",
       "      <td>1.0</td>\n",
       "    </tr>\n",
       "    <tr>\n",
       "      <th>exp_analyze_res</th>\n",
       "      <td>726.0</td>\n",
       "      <td>0.665289</td>\n",
       "      <td>0.472215</td>\n",
       "      <td>0.0</td>\n",
       "      <td>0.0</td>\n",
       "      <td>1.0</td>\n",
       "      <td>1.0</td>\n",
       "      <td>1.0</td>\n",
       "    </tr>\n",
       "    <tr>\n",
       "      <th>exp_buy_res_report</th>\n",
       "      <td>726.0</td>\n",
       "      <td>0.168044</td>\n",
       "      <td>0.374163</td>\n",
       "      <td>0.0</td>\n",
       "      <td>0.0</td>\n",
       "      <td>0.0</td>\n",
       "      <td>0.0</td>\n",
       "      <td>1.0</td>\n",
       "    </tr>\n",
       "    <tr>\n",
       "      <th>exp_manage_res_proj</th>\n",
       "      <td>726.0</td>\n",
       "      <td>0.494490</td>\n",
       "      <td>0.500314</td>\n",
       "      <td>0.0</td>\n",
       "      <td>0.0</td>\n",
       "      <td>0.0</td>\n",
       "      <td>1.0</td>\n",
       "      <td>1.0</td>\n",
       "    </tr>\n",
       "    <tr>\n",
       "      <th>exp_observe_res</th>\n",
       "      <td>726.0</td>\n",
       "      <td>0.595041</td>\n",
       "      <td>0.491222</td>\n",
       "      <td>0.0</td>\n",
       "      <td>0.0</td>\n",
       "      <td>1.0</td>\n",
       "      <td>1.0</td>\n",
       "      <td>1.0</td>\n",
       "    </tr>\n",
       "    <tr>\n",
       "      <th>exp_plan_res</th>\n",
       "      <td>726.0</td>\n",
       "      <td>0.622590</td>\n",
       "      <td>0.485073</td>\n",
       "      <td>0.0</td>\n",
       "      <td>0.0</td>\n",
       "      <td>1.0</td>\n",
       "      <td>1.0</td>\n",
       "      <td>1.0</td>\n",
       "    </tr>\n",
       "    <tr>\n",
       "      <th>exp_teach_res</th>\n",
       "      <td>726.0</td>\n",
       "      <td>0.318182</td>\n",
       "      <td>0.466092</td>\n",
       "      <td>0.0</td>\n",
       "      <td>0.0</td>\n",
       "      <td>0.0</td>\n",
       "      <td>1.0</td>\n",
       "      <td>1.0</td>\n",
       "    </tr>\n",
       "    <tr>\n",
       "      <th>exp_advocate_res</th>\n",
       "      <td>726.0</td>\n",
       "      <td>0.556474</td>\n",
       "      <td>0.497143</td>\n",
       "      <td>0.0</td>\n",
       "      <td>0.0</td>\n",
       "      <td>1.0</td>\n",
       "      <td>1.0</td>\n",
       "      <td>1.0</td>\n",
       "    </tr>\n",
       "    <tr>\n",
       "      <th>exp_hire_res_vendor</th>\n",
       "      <td>726.0</td>\n",
       "      <td>0.207989</td>\n",
       "      <td>0.406149</td>\n",
       "      <td>0.0</td>\n",
       "      <td>0.0</td>\n",
       "      <td>0.0</td>\n",
       "      <td>0.0</td>\n",
       "      <td>1.0</td>\n",
       "    </tr>\n",
       "    <tr>\n",
       "      <th>exp_lead_res_team</th>\n",
       "      <td>726.0</td>\n",
       "      <td>0.267218</td>\n",
       "      <td>0.442812</td>\n",
       "      <td>0.0</td>\n",
       "      <td>0.0</td>\n",
       "      <td>0.0</td>\n",
       "      <td>1.0</td>\n",
       "      <td>1.0</td>\n",
       "    </tr>\n",
       "    <tr>\n",
       "      <th>learning_talks</th>\n",
       "      <td>726.0</td>\n",
       "      <td>0.779614</td>\n",
       "      <td>0.414792</td>\n",
       "      <td>0.0</td>\n",
       "      <td>1.0</td>\n",
       "      <td>1.0</td>\n",
       "      <td>1.0</td>\n",
       "      <td>1.0</td>\n",
       "    </tr>\n",
       "    <tr>\n",
       "      <th>learning_read</th>\n",
       "      <td>726.0</td>\n",
       "      <td>0.954545</td>\n",
       "      <td>0.208443</td>\n",
       "      <td>0.0</td>\n",
       "      <td>1.0</td>\n",
       "      <td>1.0</td>\n",
       "      <td>1.0</td>\n",
       "      <td>1.0</td>\n",
       "    </tr>\n",
       "    <tr>\n",
       "      <th>learning_meetup</th>\n",
       "      <td>726.0</td>\n",
       "      <td>0.636364</td>\n",
       "      <td>0.481377</td>\n",
       "      <td>0.0</td>\n",
       "      <td>0.0</td>\n",
       "      <td>1.0</td>\n",
       "      <td>1.0</td>\n",
       "      <td>1.0</td>\n",
       "    </tr>\n",
       "    <tr>\n",
       "      <th>learning_workshop</th>\n",
       "      <td>726.0</td>\n",
       "      <td>0.472452</td>\n",
       "      <td>0.499585</td>\n",
       "      <td>0.0</td>\n",
       "      <td>0.0</td>\n",
       "      <td>0.0</td>\n",
       "      <td>1.0</td>\n",
       "      <td>1.0</td>\n",
       "    </tr>\n",
       "    <tr>\n",
       "      <th>learning_conference</th>\n",
       "      <td>726.0</td>\n",
       "      <td>0.585399</td>\n",
       "      <td>0.492993</td>\n",
       "      <td>0.0</td>\n",
       "      <td>0.0</td>\n",
       "      <td>1.0</td>\n",
       "      <td>1.0</td>\n",
       "      <td>1.0</td>\n",
       "    </tr>\n",
       "    <tr>\n",
       "      <th>likely_watch_video</th>\n",
       "      <td>726.0</td>\n",
       "      <td>0.914601</td>\n",
       "      <td>0.279668</td>\n",
       "      <td>0.0</td>\n",
       "      <td>1.0</td>\n",
       "      <td>1.0</td>\n",
       "      <td>1.0</td>\n",
       "      <td>1.0</td>\n",
       "    </tr>\n",
       "    <tr>\n",
       "      <th>likely_internet</th>\n",
       "      <td>726.0</td>\n",
       "      <td>0.979339</td>\n",
       "      <td>0.142345</td>\n",
       "      <td>0.0</td>\n",
       "      <td>1.0</td>\n",
       "      <td>1.0</td>\n",
       "      <td>1.0</td>\n",
       "      <td>1.0</td>\n",
       "    </tr>\n",
       "    <tr>\n",
       "      <th>likely_book</th>\n",
       "      <td>726.0</td>\n",
       "      <td>0.958678</td>\n",
       "      <td>0.199172</td>\n",
       "      <td>0.0</td>\n",
       "      <td>1.0</td>\n",
       "      <td>1.0</td>\n",
       "      <td>1.0</td>\n",
       "      <td>1.0</td>\n",
       "    </tr>\n",
       "    <tr>\n",
       "      <th>likely_online_group</th>\n",
       "      <td>726.0</td>\n",
       "      <td>0.643251</td>\n",
       "      <td>0.479370</td>\n",
       "      <td>0.0</td>\n",
       "      <td>0.0</td>\n",
       "      <td>1.0</td>\n",
       "      <td>1.0</td>\n",
       "      <td>1.0</td>\n",
       "    </tr>\n",
       "    <tr>\n",
       "      <th>likely_colleague</th>\n",
       "      <td>726.0</td>\n",
       "      <td>0.921488</td>\n",
       "      <td>0.269162</td>\n",
       "      <td>0.0</td>\n",
       "      <td>1.0</td>\n",
       "      <td>1.0</td>\n",
       "      <td>1.0</td>\n",
       "      <td>1.0</td>\n",
       "    </tr>\n",
       "    <tr>\n",
       "      <th>likely_meetup</th>\n",
       "      <td>726.0</td>\n",
       "      <td>0.701102</td>\n",
       "      <td>0.458091</td>\n",
       "      <td>0.0</td>\n",
       "      <td>0.0</td>\n",
       "      <td>1.0</td>\n",
       "      <td>1.0</td>\n",
       "      <td>1.0</td>\n",
       "    </tr>\n",
       "    <tr>\n",
       "      <th>likely_conference</th>\n",
       "      <td>726.0</td>\n",
       "      <td>0.717631</td>\n",
       "      <td>0.450462</td>\n",
       "      <td>0.0</td>\n",
       "      <td>0.0</td>\n",
       "      <td>1.0</td>\n",
       "      <td>1.0</td>\n",
       "      <td>1.0</td>\n",
       "    </tr>\n",
       "    <tr>\n",
       "      <th>likely_workshop</th>\n",
       "      <td>726.0</td>\n",
       "      <td>0.754821</td>\n",
       "      <td>0.430490</td>\n",
       "      <td>0.0</td>\n",
       "      <td>1.0</td>\n",
       "      <td>1.0</td>\n",
       "      <td>1.0</td>\n",
       "      <td>1.0</td>\n",
       "    </tr>\n",
       "    <tr>\n",
       "      <th>factor_speaker</th>\n",
       "      <td>726.0</td>\n",
       "      <td>0.691460</td>\n",
       "      <td>0.462209</td>\n",
       "      <td>0.0</td>\n",
       "      <td>0.0</td>\n",
       "      <td>1.0</td>\n",
       "      <td>1.0</td>\n",
       "      <td>1.0</td>\n",
       "    </tr>\n",
       "    <tr>\n",
       "      <th>factor_diverse_speak</th>\n",
       "      <td>726.0</td>\n",
       "      <td>0.874656</td>\n",
       "      <td>0.331337</td>\n",
       "      <td>0.0</td>\n",
       "      <td>1.0</td>\n",
       "      <td>1.0</td>\n",
       "      <td>1.0</td>\n",
       "      <td>1.0</td>\n",
       "    </tr>\n",
       "    <tr>\n",
       "      <th>factor_topics</th>\n",
       "      <td>726.0</td>\n",
       "      <td>0.990358</td>\n",
       "      <td>0.097786</td>\n",
       "      <td>0.0</td>\n",
       "      <td>1.0</td>\n",
       "      <td>1.0</td>\n",
       "      <td>1.0</td>\n",
       "      <td>1.0</td>\n",
       "    </tr>\n",
       "    <tr>\n",
       "      <th>factor_format_sessions</th>\n",
       "      <td>726.0</td>\n",
       "      <td>0.913223</td>\n",
       "      <td>0.281702</td>\n",
       "      <td>0.0</td>\n",
       "      <td>1.0</td>\n",
       "      <td>1.0</td>\n",
       "      <td>1.0</td>\n",
       "      <td>1.0</td>\n",
       "    </tr>\n",
       "    <tr>\n",
       "      <th>factor_size</th>\n",
       "      <td>726.0</td>\n",
       "      <td>0.702479</td>\n",
       "      <td>0.457483</td>\n",
       "      <td>0.0</td>\n",
       "      <td>0.0</td>\n",
       "      <td>1.0</td>\n",
       "      <td>1.0</td>\n",
       "      <td>1.0</td>\n",
       "    </tr>\n",
       "    <tr>\n",
       "      <th>factor_network</th>\n",
       "      <td>726.0</td>\n",
       "      <td>0.688705</td>\n",
       "      <td>0.463342</td>\n",
       "      <td>0.0</td>\n",
       "      <td>0.0</td>\n",
       "      <td>1.0</td>\n",
       "      <td>1.0</td>\n",
       "      <td>1.0</td>\n",
       "    </tr>\n",
       "    <tr>\n",
       "      <th>factor_variety_attend</th>\n",
       "      <td>726.0</td>\n",
       "      <td>0.677686</td>\n",
       "      <td>0.467685</td>\n",
       "      <td>0.0</td>\n",
       "      <td>0.0</td>\n",
       "      <td>1.0</td>\n",
       "      <td>1.0</td>\n",
       "      <td>1.0</td>\n",
       "    </tr>\n",
       "    <tr>\n",
       "      <th>factor_code</th>\n",
       "      <td>726.0</td>\n",
       "      <td>0.637741</td>\n",
       "      <td>0.480984</td>\n",
       "      <td>0.0</td>\n",
       "      <td>0.0</td>\n",
       "      <td>1.0</td>\n",
       "      <td>1.0</td>\n",
       "      <td>1.0</td>\n",
       "    </tr>\n",
       "    <tr>\n",
       "      <th>factor_location</th>\n",
       "      <td>726.0</td>\n",
       "      <td>0.892562</td>\n",
       "      <td>0.309883</td>\n",
       "      <td>0.0</td>\n",
       "      <td>1.0</td>\n",
       "      <td>1.0</td>\n",
       "      <td>1.0</td>\n",
       "      <td>1.0</td>\n",
       "    </tr>\n",
       "    <tr>\n",
       "      <th>factor_ability_to_pay</th>\n",
       "      <td>726.0</td>\n",
       "      <td>0.929752</td>\n",
       "      <td>0.255741</td>\n",
       "      <td>0.0</td>\n",
       "      <td>1.0</td>\n",
       "      <td>1.0</td>\n",
       "      <td>1.0</td>\n",
       "      <td>1.0</td>\n",
       "    </tr>\n",
       "    <tr>\n",
       "      <th>session_keynote</th>\n",
       "      <td>726.0</td>\n",
       "      <td>0.823691</td>\n",
       "      <td>0.381345</td>\n",
       "      <td>0.0</td>\n",
       "      <td>1.0</td>\n",
       "      <td>1.0</td>\n",
       "      <td>1.0</td>\n",
       "      <td>1.0</td>\n",
       "    </tr>\n",
       "    <tr>\n",
       "      <th>session_long_talk</th>\n",
       "      <td>726.0</td>\n",
       "      <td>0.877410</td>\n",
       "      <td>0.328192</td>\n",
       "      <td>0.0</td>\n",
       "      <td>1.0</td>\n",
       "      <td>1.0</td>\n",
       "      <td>1.0</td>\n",
       "      <td>1.0</td>\n",
       "    </tr>\n",
       "    <tr>\n",
       "      <th>session_short_talk</th>\n",
       "      <td>726.0</td>\n",
       "      <td>0.767218</td>\n",
       "      <td>0.422896</td>\n",
       "      <td>0.0</td>\n",
       "      <td>1.0</td>\n",
       "      <td>1.0</td>\n",
       "      <td>1.0</td>\n",
       "      <td>1.0</td>\n",
       "    </tr>\n",
       "    <tr>\n",
       "      <th>session_workshop</th>\n",
       "      <td>726.0</td>\n",
       "      <td>0.880165</td>\n",
       "      <td>0.324992</td>\n",
       "      <td>0.0</td>\n",
       "      <td>1.0</td>\n",
       "      <td>1.0</td>\n",
       "      <td>1.0</td>\n",
       "      <td>1.0</td>\n",
       "    </tr>\n",
       "    <tr>\n",
       "      <th>session_network</th>\n",
       "      <td>726.0</td>\n",
       "      <td>0.676309</td>\n",
       "      <td>0.468206</td>\n",
       "      <td>0.0</td>\n",
       "      <td>0.0</td>\n",
       "      <td>1.0</td>\n",
       "      <td>1.0</td>\n",
       "      <td>1.0</td>\n",
       "    </tr>\n",
       "    <tr>\n",
       "      <th>session_social_event</th>\n",
       "      <td>726.0</td>\n",
       "      <td>0.464187</td>\n",
       "      <td>0.499060</td>\n",
       "      <td>0.0</td>\n",
       "      <td>0.0</td>\n",
       "      <td>0.0</td>\n",
       "      <td>1.0</td>\n",
       "      <td>1.0</td>\n",
       "    </tr>\n",
       "    <tr>\n",
       "      <th>session_qa</th>\n",
       "      <td>726.0</td>\n",
       "      <td>0.691460</td>\n",
       "      <td>0.462209</td>\n",
       "      <td>0.0</td>\n",
       "      <td>0.0</td>\n",
       "      <td>1.0</td>\n",
       "      <td>1.0</td>\n",
       "      <td>1.0</td>\n",
       "    </tr>\n",
       "    <tr>\n",
       "      <th>sesson_topic_tables</th>\n",
       "      <td>726.0</td>\n",
       "      <td>0.768595</td>\n",
       "      <td>0.422021</td>\n",
       "      <td>0.0</td>\n",
       "      <td>1.0</td>\n",
       "      <td>1.0</td>\n",
       "      <td>1.0</td>\n",
       "      <td>1.0</td>\n",
       "    </tr>\n",
       "    <tr>\n",
       "      <th>target</th>\n",
       "      <td>726.0</td>\n",
       "      <td>0.651515</td>\n",
       "      <td>0.397116</td>\n",
       "      <td>0.0</td>\n",
       "      <td>0.5</td>\n",
       "      <td>1.0</td>\n",
       "      <td>1.0</td>\n",
       "      <td>1.0</td>\n",
       "    </tr>\n",
       "  </tbody>\n",
       "</table>\n",
       "</div>"
      ],
      "text/plain": [
       "                        count      mean       std  min  25%  50%  75%  max\n",
       "job_conduct_res         726.0  0.840220  0.366654  0.0  1.0  1.0  1.0  1.0\n",
       "job_analyze_res         726.0  0.873278  0.332890  0.0  1.0  1.0  1.0  1.0\n",
       "job_buy_res_report      726.0  0.067493  0.251047  0.0  0.0  0.0  0.0  1.0\n",
       "job_manage_res_proj     726.0  0.775482  0.417552  0.0  1.0  1.0  1.0  1.0\n",
       "job_observe_res         726.0  0.573003  0.494983  0.0  0.0  1.0  1.0  1.0\n",
       "job_plan_res            726.0  0.878788  0.326599  0.0  1.0  1.0  1.0  1.0\n",
       "job_teach_res           726.0  0.524793  0.499729  0.0  0.0  1.0  1.0  1.0\n",
       "job_advocate_res        726.0  0.869146  0.337473  0.0  1.0  1.0  1.0  1.0\n",
       "job_hire_res_vendor     726.0  0.136364  0.343411  0.0  0.0  0.0  0.0  1.0\n",
       "job_lead_res_team       726.0  0.528926  0.499507  0.0  0.0  1.0  1.0  1.0\n",
       "exp_conduct_res         726.0  0.650138  0.477255  0.0  0.0  1.0  1.0  1.0\n",
       "exp_analyze_res         726.0  0.665289  0.472215  0.0  0.0  1.0  1.0  1.0\n",
       "exp_buy_res_report      726.0  0.168044  0.374163  0.0  0.0  0.0  0.0  1.0\n",
       "exp_manage_res_proj     726.0  0.494490  0.500314  0.0  0.0  0.0  1.0  1.0\n",
       "exp_observe_res         726.0  0.595041  0.491222  0.0  0.0  1.0  1.0  1.0\n",
       "exp_plan_res            726.0  0.622590  0.485073  0.0  0.0  1.0  1.0  1.0\n",
       "exp_teach_res           726.0  0.318182  0.466092  0.0  0.0  0.0  1.0  1.0\n",
       "exp_advocate_res        726.0  0.556474  0.497143  0.0  0.0  1.0  1.0  1.0\n",
       "exp_hire_res_vendor     726.0  0.207989  0.406149  0.0  0.0  0.0  0.0  1.0\n",
       "exp_lead_res_team       726.0  0.267218  0.442812  0.0  0.0  0.0  1.0  1.0\n",
       "learning_talks          726.0  0.779614  0.414792  0.0  1.0  1.0  1.0  1.0\n",
       "learning_read           726.0  0.954545  0.208443  0.0  1.0  1.0  1.0  1.0\n",
       "learning_meetup         726.0  0.636364  0.481377  0.0  0.0  1.0  1.0  1.0\n",
       "learning_workshop       726.0  0.472452  0.499585  0.0  0.0  0.0  1.0  1.0\n",
       "learning_conference     726.0  0.585399  0.492993  0.0  0.0  1.0  1.0  1.0\n",
       "likely_watch_video      726.0  0.914601  0.279668  0.0  1.0  1.0  1.0  1.0\n",
       "likely_internet         726.0  0.979339  0.142345  0.0  1.0  1.0  1.0  1.0\n",
       "likely_book             726.0  0.958678  0.199172  0.0  1.0  1.0  1.0  1.0\n",
       "likely_online_group     726.0  0.643251  0.479370  0.0  0.0  1.0  1.0  1.0\n",
       "likely_colleague        726.0  0.921488  0.269162  0.0  1.0  1.0  1.0  1.0\n",
       "likely_meetup           726.0  0.701102  0.458091  0.0  0.0  1.0  1.0  1.0\n",
       "likely_conference       726.0  0.717631  0.450462  0.0  0.0  1.0  1.0  1.0\n",
       "likely_workshop         726.0  0.754821  0.430490  0.0  1.0  1.0  1.0  1.0\n",
       "factor_speaker          726.0  0.691460  0.462209  0.0  0.0  1.0  1.0  1.0\n",
       "factor_diverse_speak    726.0  0.874656  0.331337  0.0  1.0  1.0  1.0  1.0\n",
       "factor_topics           726.0  0.990358  0.097786  0.0  1.0  1.0  1.0  1.0\n",
       "factor_format_sessions  726.0  0.913223  0.281702  0.0  1.0  1.0  1.0  1.0\n",
       "factor_size             726.0  0.702479  0.457483  0.0  0.0  1.0  1.0  1.0\n",
       "factor_network          726.0  0.688705  0.463342  0.0  0.0  1.0  1.0  1.0\n",
       "factor_variety_attend   726.0  0.677686  0.467685  0.0  0.0  1.0  1.0  1.0\n",
       "factor_code             726.0  0.637741  0.480984  0.0  0.0  1.0  1.0  1.0\n",
       "factor_location         726.0  0.892562  0.309883  0.0  1.0  1.0  1.0  1.0\n",
       "factor_ability_to_pay   726.0  0.929752  0.255741  0.0  1.0  1.0  1.0  1.0\n",
       "session_keynote         726.0  0.823691  0.381345  0.0  1.0  1.0  1.0  1.0\n",
       "session_long_talk       726.0  0.877410  0.328192  0.0  1.0  1.0  1.0  1.0\n",
       "session_short_talk      726.0  0.767218  0.422896  0.0  1.0  1.0  1.0  1.0\n",
       "session_workshop        726.0  0.880165  0.324992  0.0  1.0  1.0  1.0  1.0\n",
       "session_network         726.0  0.676309  0.468206  0.0  0.0  1.0  1.0  1.0\n",
       "session_social_event    726.0  0.464187  0.499060  0.0  0.0  0.0  1.0  1.0\n",
       "session_qa              726.0  0.691460  0.462209  0.0  0.0  1.0  1.0  1.0\n",
       "sesson_topic_tables     726.0  0.768595  0.422021  0.0  1.0  1.0  1.0  1.0\n",
       "target                  726.0  0.651515  0.397116  0.0  0.5  1.0  1.0  1.0"
      ]
     },
     "metadata": {},
     "output_type": "display_data"
    }
   ],
   "source": [
    "dfrecode2 = recode_columns(df, check_recoder, recoder, outputs=2)\n",
    "display(dfrecode2.head())\n",
    "display(dfrecode2.describe().T)"
   ]
  },
  {
   "cell_type": "code",
   "execution_count": 17,
   "metadata": {},
   "outputs": [
    {
     "data": {
      "text/plain": [
       "['job_conduct_res',\n",
       " 'job_analyze_res',\n",
       " 'job_buy_res_report',\n",
       " 'job_manage_res_proj',\n",
       " 'job_observe_res',\n",
       " 'job_plan_res',\n",
       " 'job_teach_res',\n",
       " 'job_advocate_res',\n",
       " 'job_hire_res_vendor',\n",
       " 'job_lead_res_team',\n",
       " 'exp_conduct_res',\n",
       " 'exp_analyze_res',\n",
       " 'exp_buy_res_report',\n",
       " 'exp_manage_res_proj',\n",
       " 'exp_observe_res',\n",
       " 'exp_plan_res',\n",
       " 'exp_teach_res',\n",
       " 'exp_advocate_res',\n",
       " 'exp_hire_res_vendor',\n",
       " 'exp_lead_res_team',\n",
       " 'research_educ_cat',\n",
       " 'learning_talks',\n",
       " 'learning_read',\n",
       " 'learning_meetup',\n",
       " 'learning_workshop',\n",
       " 'learning_conference',\n",
       " 'likely_watch_video',\n",
       " 'likely_internet',\n",
       " 'likely_book',\n",
       " 'likely_online_group',\n",
       " 'likely_colleague',\n",
       " 'likely_meetup',\n",
       " 'likely_conference',\n",
       " 'likely_workshop',\n",
       " 'factor_speaker',\n",
       " 'factor_diverse_speak',\n",
       " 'factor_topics',\n",
       " 'factor_format_sessions',\n",
       " 'factor_size',\n",
       " 'factor_network',\n",
       " 'factor_variety_attend',\n",
       " 'factor_code',\n",
       " 'factor_location',\n",
       " 'factor_ability_to_pay',\n",
       " 'ideal_multi_track',\n",
       " 'ideal_single_track',\n",
       " 'ideal_unconference',\n",
       " 'session_keynote',\n",
       " 'session_long_talk',\n",
       " 'session_short_talk',\n",
       " 'session_workshop',\n",
       " 'session_network',\n",
       " 'session_social_event',\n",
       " 'session_qa',\n",
       " 'sesson_topic_tables',\n",
       " 'target']"
      ]
     },
     "execution_count": 17,
     "metadata": {},
     "output_type": "execute_result"
    }
   ],
   "source": [
    "#Quantitative columns\n",
    "quant_cols = df.select_dtypes([int,float,bool]).columns\n",
    "quant_cols.to_list()"
   ]
  },
  {
   "cell_type": "code",
   "execution_count": 18,
   "metadata": {},
   "outputs": [],
   "source": [
    "x = quant_cols.drop(['likely_conference','learning_conference']).to_list()+['persona_id', 'job_taxo']\n",
    "y = 'target'"
   ]
  },
  {
   "cell_type": "code",
   "execution_count": 19,
   "metadata": {},
   "outputs": [],
   "source": [
    "def countplot_cols(df, cols):\n",
    "    chk_cols = [col for col in cols if col in df.columns]\n",
    "    for chk_col in chk_cols:\n",
    "        plot_col = df[chk_col].value_counts().sort_index()\n",
    "        use_bins = plot_col.nunique()\n",
    "        print(f'Column: {chk_col}, {use_bins} unique values')\n",
    "        print(plot_col)\n",
    "        plot_col.plot.bar()\n",
    "        plt.show()\n",
    "\n",
    "        "
   ]
  },
  {
   "cell_type": "code",
   "execution_count": 47,
   "metadata": {},
   "outputs": [],
   "source": [
    "def countplot_tricols(df0, df1, df2, cols):\n",
    "    cols0 = df0.columns.to_list()\n",
    "    cols1 = df1.columns.to_list()\n",
    "    cols2 = df2.columns.to_list()\n",
    "    chk_col_list = set(cols0 + cols1 + cols2)\n",
    "    chk_cols = [col for col in cols if col in chk_col_list]\n",
    "#     print(chk_col_list)\n",
    "#     chk_cols1 = [col for col in cols if col in df1.columns]\n",
    "    for chk_col in chk_cols:\n",
    "        print(chk_col)\n",
    "        plot0, plot1, plot2, plot_it = False, False, False, False\n",
    "        if chk_col in cols0:\n",
    "            plot_col0 = df0[chk_col].value_counts().sort_index()\n",
    "            x0 = plot_col0.index\n",
    "            y0 = plot_col0.to_list()\n",
    "            plot0 = True\n",
    "            plot_it=True\n",
    "        if chk_col in cols1:\n",
    "            plot_col1 = df1[chk_col].value_counts().sort_index()\n",
    "            x1 = plot_col1.index\n",
    "            y1 = plot_col1.to_list()\n",
    "            plot1 = True\n",
    "            plot_it=True\n",
    "        if chk_col in cols2:\n",
    "            plot_col2 = df2[chk_col].value_counts().sort_index()\n",
    "            x2 = plot_col2.index\n",
    "            y2 = plot_col2.to_list()\n",
    "            plot2 = True\n",
    "            plot_it=True\n",
    "        if plot_it:\n",
    "            fig, axs = plt.subplots(\n",
    "                nrows=1, \n",
    "                ncols=3, \n",
    "                figsize=(9,3),\n",
    "                sharey=True, \n",
    "#                 squeeze=False, \n",
    "#                 subplot_kw=None, \n",
    "#                 gridspec_kw=None,\n",
    "            )\n",
    "            fig.suptitle(chk_col)\n",
    "            if plot0:\n",
    "                axs[0].bar(x0,y0,align='center',width=.5)\n",
    "            if plot1:\n",
    "                axs[1].bar(x1,y1,align='center',width=.25)\n",
    "            if plot2:\n",
    "                axs[2].bar(x2,y2,align='center',width=.25)\n",
    "            plt.show()\n",
    "        print('*****')\n",
    "\n",
    "        "
   ]
  },
  {
   "cell_type": "code",
   "execution_count": 48,
   "metadata": {},
   "outputs": [
    {
     "name": "stdout",
     "output_type": "stream",
     "text": [
      "job_conduct_res\n"
     ]
    },
    {
     "data": {
      "image/png": "[encoded data removed]",
      "text/plain": [
       "<Figure size 648x216 with 3 Axes>"
      ]
     },
     "metadata": {
      "needs_background": "light"
     },
     "output_type": "display_data"
    },
    {
     "name": "stdout",
     "output_type": "stream",
     "text": [
      "*****\n",
      "job_analyze_res\n"
     ]
    },
    {
     "data": {
      "image/png": "[encoded data removed]",
      "text/plain": [
       "<Figure size 648x216 with 3 Axes>"
      ]
     },
     "metadata": {
      "needs_background": "light"
     },
     "output_type": "display_data"
    },
    {
     "name": "stdout",
     "output_type": "stream",
     "text": [
      "*****\n",
      "job_buy_res_report\n"
     ]
    },
    {
     "data": {
      "image/png": "[encoded data removed]",
      "text/plain": [
       "<Figure size 648x216 with 3 Axes>"
      ]
     },
     "metadata": {
      "needs_background": "light"
     },
     "output_type": "display_data"
    },
    {
     "name": "stdout",
     "output_type": "stream",
     "text": [
      "*****\n",
      "job_manage_res_proj\n"
     ]
    },
    {
     "data": {
      "image/png": "[encoded data removed]",
      "text/plain": [
       "<Figure size 648x216 with 3 Axes>"
      ]
     },
     "metadata": {
      "needs_background": "light"
     },
     "output_type": "display_data"
    },
    {
     "name": "stdout",
     "output_type": "stream",
     "text": [
      "*****\n",
      "job_observe_res\n"
     ]
    },
    {
     "data": {
      "image/png": "[encoded data removed]",
      "text/plain": [
       "<Figure size 648x216 with 3 Axes>"
      ]
     },
     "metadata": {
      "needs_background": "light"
     },
     "output_type": "display_data"
    },
    {
     "name": "stdout",
     "output_type": "stream",
     "text": [
      "*****\n",
      "job_plan_res\n"
     ]
    },
    {
     "data": {
      "image/png": "[encoded data removed]",
      "text/plain": [
       "<Figure size 648x216 with 3 Axes>"
      ]
     },
     "metadata": {
      "needs_background": "light"
     },
     "output_type": "display_data"
    },
    {
     "name": "stdout",
     "output_type": "stream",
     "text": [
      "*****\n",
      "job_teach_res\n"
     ]
    },
    {
     "data": {
      "image/png": "[encoded data removed]",
      "text/plain": [
       "<Figure size 648x216 with 3 Axes>"
      ]
     },
     "metadata": {
      "needs_background": "light"
     },
     "output_type": "display_data"
    },
    {
     "name": "stdout",
     "output_type": "stream",
     "text": [
      "*****\n",
      "job_advocate_res\n"
     ]
    },
    {
     "data": {
      "image/png": "[encoded data removed]",
      "text/plain": [
       "<Figure size 648x216 with 3 Axes>"
      ]
     },
     "metadata": {
      "needs_background": "light"
     },
     "output_type": "display_data"
    },
    {
     "name": "stdout",
     "output_type": "stream",
     "text": [
      "*****\n",
      "job_hire_res_vendor\n"
     ]
    },
    {
     "data": {
      "image/png": "[encoded data removed]",
      "text/plain": [
       "<Figure size 648x216 with 3 Axes>"
      ]
     },
     "metadata": {
      "needs_background": "light"
     },
     "output_type": "display_data"
    },
    {
     "name": "stdout",
     "output_type": "stream",
     "text": [
      "*****\n",
      "job_lead_res_team\n"
     ]
    },
    {
     "data": {
      "image/png": "[encoded data removed]",
      "text/plain": [
       "<Figure size 648x216 with 3 Axes>"
      ]
     },
     "metadata": {
      "needs_background": "light"
     },
     "output_type": "display_data"
    },
    {
     "name": "stdout",
     "output_type": "stream",
     "text": [
      "*****\n",
      "exp_conduct_res\n"
     ]
    },
    {
     "data": {
      "image/png": "[encoded data removed]",
      "text/plain": [
       "<Figure size 648x216 with 3 Axes>"
      ]
     },
     "metadata": {
      "needs_background": "light"
     },
     "output_type": "display_data"
    },
    {
     "name": "stdout",
     "output_type": "stream",
     "text": [
      "*****\n",
      "exp_analyze_res\n"
     ]
    },
    {
     "data": {
      "image/png": "[encoded data removed]",
      "text/plain": [
       "<Figure size 648x216 with 3 Axes>"
      ]
     },
     "metadata": {
      "needs_background": "light"
     },
     "output_type": "display_data"
    },
    {
     "name": "stdout",
     "output_type": "stream",
     "text": [
      "*****\n",
      "exp_buy_res_report\n"
     ]
    },
    {
     "data": {
      "image/png": "[encoded data removed]",
      "text/plain": [
       "<Figure size 648x216 with 3 Axes>"
      ]
     },
     "metadata": {
      "needs_background": "light"
     },
     "output_type": "display_data"
    },
    {
     "name": "stdout",
     "output_type": "stream",
     "text": [
      "*****\n",
      "exp_manage_res_proj\n"
     ]
    },
    {
     "data": {
      "image/png": "[encoded data removed]",
      "text/plain": [
       "<Figure size 648x216 with 3 Axes>"
      ]
     },
     "metadata": {
      "needs_background": "light"
     },
     "output_type": "display_data"
    },
    {
     "name": "stdout",
     "output_type": "stream",
     "text": [
      "*****\n",
      "exp_observe_res\n"
     ]
    },
    {
     "data": {
      "image/png": "[encoded data removed]",
      "text/plain": [
       "<Figure size 648x216 with 3 Axes>"
      ]
     },
     "metadata": {
      "needs_background": "light"
     },
     "output_type": "display_data"
    },
    {
     "name": "stdout",
     "output_type": "stream",
     "text": [
      "*****\n",
      "exp_plan_res\n"
     ]
    },
    {
     "data": {
      "image/png": "[encoded data removed]",
      "text/plain": [
       "<Figure size 648x216 with 3 Axes>"
      ]
     },
     "metadata": {
      "needs_background": "light"
     },
     "output_type": "display_data"
    },
    {
     "name": "stdout",
     "output_type": "stream",
     "text": [
      "*****\n",
      "exp_teach_res\n"
     ]
    },
    {
     "data": {
      "image/png": "[encoded data removed]",
      "text/plain": [
       "<Figure size 648x216 with 3 Axes>"
      ]
     },
     "metadata": {
      "needs_background": "light"
     },
     "output_type": "display_data"
    },
    {
     "name": "stdout",
     "output_type": "stream",
     "text": [
      "*****\n",
      "exp_advocate_res\n"
     ]
    },
    {
     "data": {
      "image/png": "[encoded data removed]",
      "text/plain": [
       "<Figure size 648x216 with 3 Axes>"
      ]
     },
     "metadata": {
      "needs_background": "light"
     },
     "output_type": "display_data"
    },
    {
     "name": "stdout",
     "output_type": "stream",
     "text": [
      "*****\n",
      "exp_hire_res_vendor\n"
     ]
    },
    {
     "data": {
      "image/png": "[encoded data removed]",
      "text/plain": [
       "<Figure size 648x216 with 3 Axes>"
      ]
     },
     "metadata": {
      "needs_background": "light"
     },
     "output_type": "display_data"
    },
    {
     "name": "stdout",
     "output_type": "stream",
     "text": [
      "*****\n",
      "exp_lead_res_team\n"
     ]
    },
    {
     "data": {
      "image/png": "[encoded data removed]",
      "text/plain": [
       "<Figure size 648x216 with 3 Axes>"
      ]
     },
     "metadata": {
      "needs_background": "light"
     },
     "output_type": "display_data"
    },
    {
     "name": "stdout",
     "output_type": "stream",
     "text": [
      "*****\n",
      "research_educ_cat\n"
     ]
    },
    {
     "data": {
      "image/png": "[encoded data removed]",
      "text/plain": [
       "<Figure size 648x216 with 3 Axes>"
      ]
     },
     "metadata": {
      "needs_background": "light"
     },
     "output_type": "display_data"
    },
    {
     "name": "stdout",
     "output_type": "stream",
     "text": [
      "*****\n",
      "learning_talks\n"
     ]
    },
    {
     "data": {
      "image/png": "[encoded data removed]",
      "text/plain": [
       "<Figure size 648x216 with 3 Axes>"
      ]
     },
     "metadata": {
      "needs_background": "light"
     },
     "output_type": "display_data"
    },
    {
     "name": "stdout",
     "output_type": "stream",
     "text": [
      "*****\n",
      "learning_read\n"
     ]
    },
    {
     "data": {
      "image/png": "[encoded data removed]",
      "text/plain": [
       "<Figure size 648x216 with 3 Axes>"
      ]
     },
     "metadata": {
      "needs_background": "light"
     },
     "output_type": "display_data"
    },
    {
     "name": "stdout",
     "output_type": "stream",
     "text": [
      "*****\n",
      "learning_meetup\n"
     ]
    },
    {
     "data": {
      "image/png": "[encoded data removed]",
      "text/plain": [
       "<Figure size 648x216 with 3 Axes>"
      ]
     },
     "metadata": {
      "needs_background": "light"
     },
     "output_type": "display_data"
    },
    {
     "name": "stdout",
     "output_type": "stream",
     "text": [
      "*****\n",
      "learning_workshop\n"
     ]
    },
    {
     "data": {
      "image/png": "[encoded data removed]",
      "text/plain": [
       "<Figure size 648x216 with 3 Axes>"
      ]
     },
     "metadata": {
      "needs_background": "light"
     },
     "output_type": "display_data"
    },
    {
     "name": "stdout",
     "output_type": "stream",
     "text": [
      "*****\n",
      "likely_watch_video\n"
     ]
    },
    {
     "data": {
      "image/png": "[encoded data removed]",
      "text/plain": [
       "<Figure size 648x216 with 3 Axes>"
      ]
     },
     "metadata": {
      "needs_background": "light"
     },
     "output_type": "display_data"
    },
    {
     "name": "stdout",
     "output_type": "stream",
     "text": [
      "*****\n",
      "likely_internet\n"
     ]
    },
    {
     "data": {
      "image/png": "[encoded data removed]",
      "text/plain": [
       "<Figure size 648x216 with 3 Axes>"
      ]
     },
     "metadata": {
      "needs_background": "light"
     },
     "output_type": "display_data"
    },
    {
     "name": "stdout",
     "output_type": "stream",
     "text": [
      "*****\n",
      "likely_book\n"
     ]
    },
    {
     "data": {
      "image/png": "[encoded data removed]",
      "text/plain": [
       "<Figure size 648x216 with 3 Axes>"
      ]
     },
     "metadata": {
      "needs_background": "light"
     },
     "output_type": "display_data"
    },
    {
     "name": "stdout",
     "output_type": "stream",
     "text": [
      "*****\n",
      "likely_online_group\n"
     ]
    },
    {
     "data": {
      "image/png": "[encoded data removed]",
      "text/plain": [
       "<Figure size 648x216 with 3 Axes>"
      ]
     },
     "metadata": {
      "needs_background": "light"
     },
     "output_type": "display_data"
    },
    {
     "name": "stdout",
     "output_type": "stream",
     "text": [
      "*****\n",
      "likely_colleague\n"
     ]
    },
    {
     "data": {
      "image/png": "[encoded data removed]",
      "text/plain": [
       "<Figure size 648x216 with 3 Axes>"
      ]
     },
     "metadata": {
      "needs_background": "light"
     },
     "output_type": "display_data"
    },
    {
     "name": "stdout",
     "output_type": "stream",
     "text": [
      "*****\n",
      "likely_meetup\n"
     ]
    },
    {
     "data": {
      "image/png": "[encoded data removed]",
      "text/plain": [
       "<Figure size 648x216 with 3 Axes>"
      ]
     },
     "metadata": {
      "needs_background": "light"
     },
     "output_type": "display_data"
    },
    {
     "name": "stdout",
     "output_type": "stream",
     "text": [
      "*****\n",
      "likely_workshop\n"
     ]
    },
    {
     "data": {
      "image/png": "[encoded data removed]",
      "text/plain": [
       "<Figure size 648x216 with 3 Axes>"
      ]
     },
     "metadata": {
      "needs_background": "light"
     },
     "output_type": "display_data"
    },
    {
     "name": "stdout",
     "output_type": "stream",
     "text": [
      "*****\n",
      "factor_speaker\n"
     ]
    },
    {
     "data": {
      "image/png": "[encoded data removed]",
      "text/plain": [
       "<Figure size 648x216 with 3 Axes>"
      ]
     },
     "metadata": {
      "needs_background": "light"
     },
     "output_type": "display_data"
    },
    {
     "name": "stdout",
     "output_type": "stream",
     "text": [
      "*****\n",
      "factor_diverse_speak\n"
     ]
    },
    {
     "data": {
      "image/png": "[encoded data removed]",
      "text/plain": [
       "<Figure size 648x216 with 3 Axes>"
      ]
     },
     "metadata": {
      "needs_background": "light"
     },
     "output_type": "display_data"
    },
    {
     "name": "stdout",
     "output_type": "stream",
     "text": [
      "*****\n",
      "factor_topics\n"
     ]
    },
    {
     "data": {
      "image/png": "[encoded data removed]",
      "text/plain": [
       "<Figure size 648x216 with 3 Axes>"
      ]
     },
     "metadata": {
      "needs_background": "light"
     },
     "output_type": "display_data"
    },
    {
     "name": "stdout",
     "output_type": "stream",
     "text": [
      "*****\n",
      "factor_format_sessions\n"
     ]
    },
    {
     "data": {
      "image/png": "[encoded data removed]",
      "text/plain": [
       "<Figure size 648x216 with 3 Axes>"
      ]
     },
     "metadata": {
      "needs_background": "light"
     },
     "output_type": "display_data"
    },
    {
     "name": "stdout",
     "output_type": "stream",
     "text": [
      "*****\n",
      "factor_size\n"
     ]
    },
    {
     "data": {
      "image/png": "[encoded data removed]",
      "text/plain": [
       "<Figure size 648x216 with 3 Axes>"
      ]
     },
     "metadata": {
      "needs_background": "light"
     },
     "output_type": "display_data"
    },
    {
     "name": "stdout",
     "output_type": "stream",
     "text": [
      "*****\n",
      "factor_network\n"
     ]
    },
    {
     "data": {
      "image/png": "[encoded data removed]",
      "text/plain": [
       "<Figure size 648x216 with 3 Axes>"
      ]
     },
     "metadata": {
      "needs_background": "light"
     },
     "output_type": "display_data"
    },
    {
     "name": "stdout",
     "output_type": "stream",
     "text": [
      "*****\n",
      "factor_variety_attend\n"
     ]
    },
    {
     "data": {
      "image/png": "[encoded data removed]",
      "text/plain": [
       "<Figure size 648x216 with 3 Axes>"
      ]
     },
     "metadata": {
      "needs_background": "light"
     },
     "output_type": "display_data"
    },
    {
     "name": "stdout",
     "output_type": "stream",
     "text": [
      "*****\n",
      "factor_code\n"
     ]
    },
    {
     "data": {
      "image/png": "[encoded data removed]",
      "text/plain": [
       "<Figure size 648x216 with 3 Axes>"
      ]
     },
     "metadata": {
      "needs_background": "light"
     },
     "output_type": "display_data"
    },
    {
     "name": "stdout",
     "output_type": "stream",
     "text": [
      "*****\n",
      "factor_location\n"
     ]
    },
    {
     "data": {
      "image/png": "[encoded data removed]",
      "text/plain": [
       "<Figure size 648x216 with 3 Axes>"
      ]
     },
     "metadata": {
      "needs_background": "light"
     },
     "output_type": "display_data"
    },
    {
     "name": "stdout",
     "output_type": "stream",
     "text": [
      "*****\n",
      "factor_ability_to_pay\n"
     ]
    },
    {
     "data": {
      "image/png": "[encoded data removed]",
      "text/plain": [
       "<Figure size 648x216 with 3 Axes>"
      ]
     },
     "metadata": {
      "needs_background": "light"
     },
     "output_type": "display_data"
    },
    {
     "name": "stdout",
     "output_type": "stream",
     "text": [
      "*****\n",
      "ideal_multi_track\n"
     ]
    },
    {
     "data": {
      "image/png": "[encoded data removed]",
      "text/plain": [
       "<Figure size 648x216 with 3 Axes>"
      ]
     },
     "metadata": {
      "needs_background": "light"
     },
     "output_type": "display_data"
    },
    {
     "name": "stdout",
     "output_type": "stream",
     "text": [
      "*****\n",
      "ideal_single_track\n"
     ]
    },
    {
     "data": {
      "image/png": "[encoded data removed]",
      "text/plain": [
       "<Figure size 648x216 with 3 Axes>"
      ]
     },
     "metadata": {
      "needs_background": "light"
     },
     "output_type": "display_data"
    },
    {
     "name": "stdout",
     "output_type": "stream",
     "text": [
      "*****\n",
      "ideal_unconference\n"
     ]
    },
    {
     "data": {
      "image/png": "[encoded data removed]",
      "text/plain": [
       "<Figure size 648x216 with 3 Axes>"
      ]
     },
     "metadata": {
      "needs_background": "light"
     },
     "output_type": "display_data"
    },
    {
     "name": "stdout",
     "output_type": "stream",
     "text": [
      "*****\n",
      "session_keynote\n"
     ]
    },
    {
     "data": {
      "image/png": "[encoded data removed]",
      "text/plain": [
       "<Figure size 648x216 with 3 Axes>"
      ]
     },
     "metadata": {
      "needs_background": "light"
     },
     "output_type": "display_data"
    },
    {
     "name": "stdout",
     "output_type": "stream",
     "text": [
      "*****\n",
      "session_long_talk\n"
     ]
    },
    {
     "data": {
      "image/png": "[encoded data removed]",
      "text/plain": [
       "<Figure size 648x216 with 3 Axes>"
      ]
     },
     "metadata": {
      "needs_background": "light"
     },
     "output_type": "display_data"
    },
    {
     "name": "stdout",
     "output_type": "stream",
     "text": [
      "*****\n",
      "session_short_talk\n"
     ]
    },
    {
     "data": {
      "image/png": "[encoded data removed]",
      "text/plain": [
       "<Figure size 648x216 with 3 Axes>"
      ]
     },
     "metadata": {
      "needs_background": "light"
     },
     "output_type": "display_data"
    },
    {
     "name": "stdout",
     "output_type": "stream",
     "text": [
      "*****\n",
      "session_workshop\n"
     ]
    },
    {
     "data": {
      "image/png": "[encoded data removed]",
      "text/plain": [
       "<Figure size 648x216 with 3 Axes>"
      ]
     },
     "metadata": {
      "needs_background": "light"
     },
     "output_type": "display_data"
    },
    {
     "name": "stdout",
     "output_type": "stream",
     "text": [
      "*****\n",
      "session_network\n"
     ]
    },
    {
     "data": {
      "image/png": "[encoded data removed]",
      "text/plain": [
       "<Figure size 648x216 with 3 Axes>"
      ]
     },
     "metadata": {
      "needs_background": "light"
     },
     "output_type": "display_data"
    },
    {
     "name": "stdout",
     "output_type": "stream",
     "text": [
      "*****\n",
      "session_social_event\n"
     ]
    },
    {
     "data": {
      "image/png": "[encoded data removed]",
      "text/plain": [
       "<Figure size 648x216 with 3 Axes>"
      ]
     },
     "metadata": {
      "needs_background": "light"
     },
     "output_type": "display_data"
    },
    {
     "name": "stdout",
     "output_type": "stream",
     "text": [
      "*****\n",
      "session_qa\n"
     ]
    },
    {
     "data": {
      "image/png": "[encoded data removed]",
      "text/plain": [
       "<Figure size 648x216 with 3 Axes>"
      ]
     },
     "metadata": {
      "needs_background": "light"
     },
     "output_type": "display_data"
    },
    {
     "name": "stdout",
     "output_type": "stream",
     "text": [
      "*****\n",
      "sesson_topic_tables\n"
     ]
    },
    {
     "data": {
      "image/png": "[encoded data removed]",
      "text/plain": [
       "<Figure size 648x216 with 3 Axes>"
      ]
     },
     "metadata": {
      "needs_background": "light"
     },
     "output_type": "display_data"
    },
    {
     "name": "stdout",
     "output_type": "stream",
     "text": [
      "*****\n",
      "target\n"
     ]
    },
    {
     "data": {
      "image/png": "[encoded data removed]",
      "text/plain": [
       "<Figure size 648x216 with 3 Axes>"
      ]
     },
     "metadata": {
      "needs_background": "light"
     },
     "output_type": "display_data"
    },
    {
     "name": "stdout",
     "output_type": "stream",
     "text": [
      "*****\n",
      "persona_id\n"
     ]
    },
    {
     "data": {
      "image/png": "[encoded data removed]",
      "text/plain": [
       "<Figure size 648x216 with 3 Axes>"
      ]
     },
     "metadata": {
      "needs_background": "light"
     },
     "output_type": "display_data"
    },
    {
     "name": "stdout",
     "output_type": "stream",
     "text": [
      "*****\n",
      "job_taxo\n"
     ]
    },
    {
     "data": {
      "image/png": "[encoded data removed]",
      "text/plain": [
       "<Figure size 648x216 with 3 Axes>"
      ]
     },
     "metadata": {
      "needs_background": "light"
     },
     "output_type": "display_data"
    },
    {
     "name": "stdout",
     "output_type": "stream",
     "text": [
      "*****\n"
     ]
    }
   ],
   "source": [
    "countplot_tricols(df0=df, df1=dfrecode3, df2=dfrecode2, cols=x)"
   ]
  },
  {
   "cell_type": "code",
   "execution_count": 38,
   "metadata": {},
   "outputs": [
    {
     "name": "stdout",
     "output_type": "stream",
     "text": [
      "Column: job_conduct_res, 5 unique values\n",
      "0     17\n",
      "1     99\n",
      "2     42\n",
      "3    381\n",
      "4    187\n",
      "Name: job_conduct_res, dtype: int64\n"
     ]
    },
    {
     "data": {
      "image/png": "[encoded data removed]",
      "text/plain": [
       "<Figure size 432x288 with 1 Axes>"
      ]
     },
     "metadata": {
      "needs_background": "light"
     },
     "output_type": "display_data"
    },
    {
     "name": "stdout",
     "output_type": "stream",
     "text": [
      "Column: job_analyze_res, 5 unique values\n",
      "0     10\n",
      "1     82\n",
      "2     48\n",
      "3    407\n",
      "4    179\n",
      "Name: job_analyze_res, dtype: int64\n"
     ]
    },
    {
     "data": {
      "image/png": "[encoded data removed]",
      "text/plain": [
       "<Figure size 432x288 with 1 Axes>"
      ]
     },
     "metadata": {
      "needs_background": "light"
     },
     "output_type": "display_data"
    },
    {
     "name": "stdout",
     "output_type": "stream",
     "text": [
      "Column: job_buy_res_report, 5 unique values\n",
      "0    506\n",
      "1    171\n",
      "2     32\n",
      "3     11\n",
      "4      6\n",
      "Name: job_buy_res_report, dtype: int64\n"
     ]
    },
    {
     "data": {
      "image/png": "[encoded data removed]",
      "text/plain": [
       "<Figure size 432x288 with 1 Axes>"
      ]
     },
     "metadata": {
      "needs_background": "light"
     },
     "output_type": "display_data"
    },
    {
     "name": "stdout",
     "output_type": "stream",
     "text": [
      "Column: job_manage_res_proj, 5 unique values\n",
      "0     40\n",
      "1    123\n",
      "2     87\n",
      "3    313\n",
      "4    163\n",
      "Name: job_manage_res_proj, dtype: int64\n"
     ]
    },
    {
     "data": {
      "image/png": "[encoded data removed]",
      "text/plain": [
       "<Figure size 432x288 with 1 Axes>"
      ]
     },
     "metadata": {
      "needs_background": "light"
     },
     "output_type": "display_data"
    },
    {
     "name": "stdout",
     "output_type": "stream",
     "text": [
      "Column: job_observe_res, 5 unique values\n",
      "0     53\n",
      "1    257\n",
      "2    123\n",
      "3    236\n",
      "4     57\n",
      "Name: job_observe_res, dtype: int64\n"
     ]
    },
    {
     "data": {
      "image/png": "[encoded data removed]",
      "text/plain": [
       "<Figure size 432x288 with 1 Axes>"
      ]
     },
     "metadata": {
      "needs_background": "light"
     },
     "output_type": "display_data"
    },
    {
     "name": "stdout",
     "output_type": "stream",
     "text": [
      "Column: job_plan_res, 5 unique values\n",
      "0      9\n",
      "1     79\n",
      "2     63\n",
      "3    377\n",
      "4    198\n",
      "Name: job_plan_res, dtype: int64\n"
     ]
    },
    {
     "data": {
      "image/png": "[encoded data removed]",
      "text/plain": [
       "<Figure size 432x288 with 1 Axes>"
      ]
     },
     "metadata": {
      "needs_background": "light"
     },
     "output_type": "display_data"
    },
    {
     "name": "stdout",
     "output_type": "stream",
     "text": [
      "Column: job_teach_res, 5 unique values\n",
      "0    108\n",
      "1    237\n",
      "2     98\n",
      "3    225\n",
      "4     58\n",
      "Name: job_teach_res, dtype: int64\n"
     ]
    },
    {
     "data": {
      "image/png": "[encoded data removed]",
      "text/plain": [
       "<Figure size 432x288 with 1 Axes>"
      ]
     },
     "metadata": {
      "needs_background": "light"
     },
     "output_type": "display_data"
    },
    {
     "name": "stdout",
     "output_type": "stream",
     "text": [
      "Column: job_advocate_res, 5 unique values\n",
      "0     22\n",
      "1     73\n",
      "2     83\n",
      "3    308\n",
      "4    240\n",
      "Name: job_advocate_res, dtype: int64\n"
     ]
    },
    {
     "data": {
      "image/png": "[encoded data removed]",
      "text/plain": [
       "<Figure size 432x288 with 1 Axes>"
      ]
     },
     "metadata": {
      "needs_background": "light"
     },
     "output_type": "display_data"
    },
    {
     "name": "stdout",
     "output_type": "stream",
     "text": [
      "Column: job_hire_res_vendor, 5 unique values\n",
      "0    329\n",
      "1    298\n",
      "2     36\n",
      "3     58\n",
      "4      5\n",
      "Name: job_hire_res_vendor, dtype: int64\n"
     ]
    },
    {
     "data": {
      "image/png": "[encoded data removed]",
      "text/plain": [
       "<Figure size 432x288 with 1 Axes>"
      ]
     },
     "metadata": {
      "needs_background": "light"
     },
     "output_type": "display_data"
    },
    {
     "name": "stdout",
     "output_type": "stream",
     "text": [
      "Column: job_lead_res_team, 5 unique values\n",
      "0    187\n",
      "1    155\n",
      "2     99\n",
      "3    142\n",
      "4    143\n",
      "Name: job_lead_res_team, dtype: int64\n"
     ]
    },
    {
     "data": {
      "image/png": "[encoded data removed]",
      "text/plain": [
       "<Figure size 432x288 with 1 Axes>"
      ]
     },
     "metadata": {
      "needs_background": "light"
     },
     "output_type": "display_data"
    },
    {
     "name": "stdout",
     "output_type": "stream",
     "text": [
      "Column: exp_conduct_res, 6 unique values\n",
      "0     23\n",
      "1    105\n",
      "2    126\n",
      "3    104\n",
      "4    125\n",
      "5    243\n",
      "Name: exp_conduct_res, dtype: int64\n"
     ]
    },
    {
     "data": {
      "image/png": "[encoded data removed]",
      "text/plain": [
       "<Figure size 432x288 with 1 Axes>"
      ]
     },
     "metadata": {
      "needs_background": "light"
     },
     "output_type": "display_data"
    },
    {
     "name": "stdout",
     "output_type": "stream",
     "text": [
      "Column: exp_analyze_res, 6 unique values\n",
      "0     21\n",
      "1     99\n",
      "2    123\n",
      "3    113\n",
      "4    121\n",
      "5    249\n",
      "Name: exp_analyze_res, dtype: int64\n"
     ]
    },
    {
     "data": {
      "image/png": "[encoded data removed]",
      "text/plain": [
       "<Figure size 432x288 with 1 Axes>"
      ]
     },
     "metadata": {
      "needs_background": "light"
     },
     "output_type": "display_data"
    },
    {
     "name": "stdout",
     "output_type": "stream",
     "text": [
      "Column: exp_buy_res_report, 6 unique values\n",
      "0    468\n",
      "1     91\n",
      "2     45\n",
      "3     35\n",
      "4     24\n",
      "5     63\n",
      "Name: exp_buy_res_report, dtype: int64\n"
     ]
    },
    {
     "data": {
      "image/png": "[encoded data removed]",
      "text/plain": [
       "<Figure size 432x288 with 1 Axes>"
      ]
     },
     "metadata": {
      "needs_background": "light"
     },
     "output_type": "display_data"
    },
    {
     "name": "stdout",
     "output_type": "stream",
     "text": [
      "Column: exp_manage_res_proj, 6 unique values\n",
      "0     76\n",
      "1    163\n",
      "2    128\n",
      "3    103\n",
      "4     96\n",
      "5    160\n",
      "Name: exp_manage_res_proj, dtype: int64\n"
     ]
    },
    {
     "data": {
      "image/png": "[encoded data removed]",
      "text/plain": [
       "<Figure size 432x288 with 1 Axes>"
      ]
     },
     "metadata": {
      "needs_background": "light"
     },
     "output_type": "display_data"
    },
    {
     "name": "stdout",
     "output_type": "stream",
     "text": [
      "Column: exp_observe_res, 6 unique values\n",
      "0     50\n",
      "1    119\n",
      "2    125\n",
      "3     89\n",
      "4    112\n",
      "5    231\n",
      "Name: exp_observe_res, dtype: int64\n"
     ]
    },
    {
     "data": {
      "image/png": "[encoded data removed]",
      "text/plain": [
       "<Figure size 432x288 with 1 Axes>"
      ]
     },
     "metadata": {
      "needs_background": "light"
     },
     "output_type": "display_data"
    },
    {
     "name": "stdout",
     "output_type": "stream",
     "text": [
      "Column: exp_plan_res, 5 unique values\n",
      "0     29\n",
      "1    118\n",
      "2    127\n",
      "3    118\n",
      "4    117\n",
      "5    217\n",
      "Name: exp_plan_res, dtype: int64\n"
     ]
    },
    {
     "data": {
      "image/png": "[encoded data removed]",
      "text/plain": [
       "<Figure size 432x288 with 1 Axes>"
      ]
     },
     "metadata": {
      "needs_background": "light"
     },
     "output_type": "display_data"
    },
    {
     "name": "stdout",
     "output_type": "stream",
     "text": [
      "Column: exp_teach_res, 6 unique values\n",
      "0    197\n",
      "1    171\n",
      "2    127\n",
      "3     87\n",
      "4     54\n",
      "5     90\n",
      "Name: exp_teach_res, dtype: int64\n"
     ]
    },
    {
     "data": {
      "image/png": "[encoded data removed]",
      "text/plain": [
       "<Figure size 432x288 with 1 Axes>"
      ]
     },
     "metadata": {
      "needs_background": "light"
     },
     "output_type": "display_data"
    },
    {
     "name": "stdout",
     "output_type": "stream",
     "text": [
      "Column: exp_advocate_res, 6 unique values\n",
      "0     64\n",
      "1    126\n",
      "2    132\n",
      "3    101\n",
      "4     98\n",
      "5    205\n",
      "Name: exp_advocate_res, dtype: int64\n"
     ]
    },
    {
     "data": {
      "image/png": "[encoded data removed]",
      "text/plain": [
       "<Figure size 432x288 with 1 Axes>"
      ]
     },
     "metadata": {
      "needs_background": "light"
     },
     "output_type": "display_data"
    },
    {
     "name": "stdout",
     "output_type": "stream",
     "text": [
      "Column: exp_hire_res_vendor, 6 unique values\n",
      "0    328\n",
      "1    163\n",
      "2     84\n",
      "3     47\n",
      "4     29\n",
      "5     75\n",
      "Name: exp_hire_res_vendor, dtype: int64\n"
     ]
    },
    {
     "data": {
      "image/png": "[encoded data removed]",
      "text/plain": [
       "<Figure size 432x288 with 1 Axes>"
      ]
     },
     "metadata": {
      "needs_background": "light"
     },
     "output_type": "display_data"
    },
    {
     "name": "stdout",
     "output_type": "stream",
     "text": [
      "Column: exp_lead_res_team, 6 unique values\n",
      "0    243\n",
      "1    183\n",
      "2    106\n",
      "3     65\n",
      "4     50\n",
      "5     79\n",
      "Name: exp_lead_res_team, dtype: int64\n"
     ]
    },
    {
     "data": {
      "image/png": "[encoded data removed]",
      "text/plain": [
       "<Figure size 432x288 with 1 Axes>"
      ]
     },
     "metadata": {
      "needs_background": "light"
     },
     "output_type": "display_data"
    },
    {
     "name": "stdout",
     "output_type": "stream",
     "text": [
      "Column: research_educ_cat, 2 unique values\n",
      "False    180\n",
      "True     546\n",
      "Name: research_educ_cat, dtype: int64\n"
     ]
    },
    {
     "data": {
      "image/png": "[encoded data removed]",
      "text/plain": [
       "<Figure size 432x288 with 1 Axes>"
      ]
     },
     "metadata": {
      "needs_background": "light"
     },
     "output_type": "display_data"
    },
    {
     "name": "stdout",
     "output_type": "stream",
     "text": [
      "Column: learning_talks, 4 unique values\n",
      "0     21\n",
      "1    139\n",
      "2    331\n",
      "3    235\n",
      "Name: learning_talks, dtype: int64\n"
     ]
    },
    {
     "data": {
      "image/png": "[encoded data removed]",
      "text/plain": [
       "<Figure size 432x288 with 1 Axes>"
      ]
     },
     "metadata": {
      "needs_background": "light"
     },
     "output_type": "display_data"
    },
    {
     "name": "stdout",
     "output_type": "stream",
     "text": [
      "Column: learning_read, 4 unique values\n",
      "0      2\n",
      "1     31\n",
      "2    179\n",
      "3    514\n",
      "Name: learning_read, dtype: int64\n"
     ]
    },
    {
     "data": {
      "image/png": "[encoded data removed]",
      "text/plain": [
       "<Figure size 432x288 with 1 Axes>"
      ]
     },
     "metadata": {
      "needs_background": "light"
     },
     "output_type": "display_data"
    },
    {
     "name": "stdout",
     "output_type": "stream",
     "text": [
      "Column: learning_meetup, 4 unique values\n",
      "0     38\n",
      "1    226\n",
      "2    304\n",
      "3    158\n",
      "Name: learning_meetup, dtype: int64\n"
     ]
    },
    {
     "data": {
      "image/png": "[encoded data removed]",
      "text/plain": [
       "<Figure size 432x288 with 1 Axes>"
      ]
     },
     "metadata": {
      "needs_background": "light"
     },
     "output_type": "display_data"
    },
    {
     "name": "stdout",
     "output_type": "stream",
     "text": [
      "Column: learning_workshop, 4 unique values\n",
      "0     74\n",
      "1    309\n",
      "2    284\n",
      "3     59\n",
      "Name: learning_workshop, dtype: int64\n"
     ]
    },
    {
     "data": {
      "image/png": "[encoded data removed]",
      "text/plain": [
       "<Figure size 432x288 with 1 Axes>"
      ]
     },
     "metadata": {
      "needs_background": "light"
     },
     "output_type": "display_data"
    },
    {
     "name": "stdout",
     "output_type": "stream",
     "text": [
      "Column: likely_watch_video, 5 unique values\n",
      "0     15\n",
      "1     47\n",
      "2    110\n",
      "3    318\n",
      "4    236\n",
      "Name: likely_watch_video, dtype: int64\n"
     ]
    },
    {
     "data": {
      "image/png": "[encoded data removed]",
      "text/plain": [
       "<Figure size 432x288 with 1 Axes>"
      ]
     },
     "metadata": {
      "needs_background": "light"
     },
     "output_type": "display_data"
    },
    {
     "name": "stdout",
     "output_type": "stream",
     "text": [
      "Column: likely_internet, 5 unique values\n",
      "0      3\n",
      "1     12\n",
      "2     39\n",
      "3    237\n",
      "4    435\n",
      "Name: likely_internet, dtype: int64\n"
     ]
    },
    {
     "data": {
      "image/png": "[encoded data removed]",
      "text/plain": [
       "<Figure size 432x288 with 1 Axes>"
      ]
     },
     "metadata": {
      "needs_background": "light"
     },
     "output_type": "display_data"
    },
    {
     "name": "stdout",
     "output_type": "stream",
     "text": [
      "Column: likely_book, 5 unique values\n",
      "0      4\n",
      "1     26\n",
      "2     80\n",
      "3    281\n",
      "4    335\n",
      "Name: likely_book, dtype: int64\n"
     ]
    },
    {
     "data": {
      "image/png": "[encoded data removed]",
      "text/plain": [
       "<Figure size 432x288 with 1 Axes>"
      ]
     },
     "metadata": {
      "needs_background": "light"
     },
     "output_type": "display_data"
    },
    {
     "name": "stdout",
     "output_type": "stream",
     "text": [
      "Column: likely_online_group, 5 unique values\n",
      "0     68\n",
      "1    191\n",
      "2    194\n",
      "3    161\n",
      "4    112\n",
      "Name: likely_online_group, dtype: int64\n"
     ]
    },
    {
     "data": {
      "image/png": "[encoded data removed]",
      "text/plain": [
       "<Figure size 432x288 with 1 Axes>"
      ]
     },
     "metadata": {
      "needs_background": "light"
     },
     "output_type": "display_data"
    },
    {
     "name": "stdout",
     "output_type": "stream",
     "text": [
      "Column: likely_colleague, 5 unique values\n",
      "0     16\n",
      "1     41\n",
      "2    113\n",
      "3    274\n",
      "4    282\n",
      "Name: likely_colleague, dtype: int64\n"
     ]
    },
    {
     "data": {
      "image/png": "[encoded data removed]",
      "text/plain": [
       "<Figure size 432x288 with 1 Axes>"
      ]
     },
     "metadata": {
      "needs_background": "light"
     },
     "output_type": "display_data"
    },
    {
     "name": "stdout",
     "output_type": "stream",
     "text": [
      "Column: likely_meetup, 5 unique values\n",
      "0     49\n",
      "1    168\n",
      "2    202\n",
      "3    201\n",
      "4    106\n",
      "Name: likely_meetup, dtype: int64\n"
     ]
    },
    {
     "data": {
      "image/png": "[encoded data removed]",
      "text/plain": [
       "<Figure size 432x288 with 1 Axes>"
      ]
     },
     "metadata": {
      "needs_background": "light"
     },
     "output_type": "display_data"
    },
    {
     "name": "stdout",
     "output_type": "stream",
     "text": [
      "Column: likely_workshop, 5 unique values\n",
      "0     33\n",
      "1    145\n",
      "2    187\n",
      "3    249\n",
      "4    112\n",
      "Name: likely_workshop, dtype: int64\n"
     ]
    },
    {
     "data": {
      "image/png": "[encoded data removed]",
      "text/plain": [
       "<Figure size 432x288 with 1 Axes>"
      ]
     },
     "metadata": {
      "needs_background": "light"
     },
     "output_type": "display_data"
    },
    {
     "name": "stdout",
     "output_type": "stream",
     "text": [
      "Column: factor_speaker, 5 unique values\n",
      "0     54\n",
      "1    170\n",
      "2    140\n",
      "3    274\n",
      "4     88\n",
      "Name: factor_speaker, dtype: int64\n"
     ]
    },
    {
     "data": {
      "image/png": "[encoded data removed]",
      "text/plain": [
       "<Figure size 432x288 with 1 Axes>"
      ]
     },
     "metadata": {
      "needs_background": "light"
     },
     "output_type": "display_data"
    },
    {
     "name": "stdout",
     "output_type": "stream",
     "text": [
      "Column: factor_diverse_speak, 5 unique values\n",
      "0     30\n",
      "1     61\n",
      "2    106\n",
      "3    304\n",
      "4    225\n",
      "Name: factor_diverse_speak, dtype: int64\n"
     ]
    },
    {
     "data": {
      "image/png": "[encoded data removed]",
      "text/plain": [
       "<Figure size 432x288 with 1 Axes>"
      ]
     },
     "metadata": {
      "needs_background": "light"
     },
     "output_type": "display_data"
    },
    {
     "name": "stdout",
     "output_type": "stream",
     "text": [
      "Column: factor_topics, 5 unique values\n",
      "0      3\n",
      "1      4\n",
      "2     14\n",
      "3    200\n",
      "4    505\n",
      "Name: factor_topics, dtype: int64\n"
     ]
    },
    {
     "data": {
      "image/png": "[encoded data removed]",
      "text/plain": [
       "<Figure size 432x288 with 1 Axes>"
      ]
     },
     "metadata": {
      "needs_background": "light"
     },
     "output_type": "display_data"
    },
    {
     "name": "stdout",
     "output_type": "stream",
     "text": [
      "Column: factor_format_sessions, 5 unique values\n",
      "0     12\n",
      "1     51\n",
      "2    185\n",
      "3    317\n",
      "4    161\n",
      "Name: factor_format_sessions, dtype: int64\n"
     ]
    },
    {
     "data": {
      "image/png": "[encoded data removed]",
      "text/plain": [
       "<Figure size 432x288 with 1 Axes>"
      ]
     },
     "metadata": {
      "needs_background": "light"
     },
     "output_type": "display_data"
    },
    {
     "name": "stdout",
     "output_type": "stream",
     "text": [
      "Column: factor_size, 5 unique values\n",
      "0     56\n",
      "1    160\n",
      "2    193\n",
      "3    210\n",
      "4    107\n",
      "Name: factor_size, dtype: int64\n"
     ]
    },
    {
     "data": {
      "image/png": "[encoded data removed]",
      "text/plain": [
       "<Figure size 432x288 with 1 Axes>"
      ]
     },
     "metadata": {
      "needs_background": "light"
     },
     "output_type": "display_data"
    },
    {
     "name": "stdout",
     "output_type": "stream",
     "text": [
      "Column: factor_network, 5 unique values\n",
      "0     80\n",
      "1    146\n",
      "2    254\n",
      "3    187\n",
      "4     59\n",
      "Name: factor_network, dtype: int64\n"
     ]
    },
    {
     "data": {
      "image/png": "[encoded data removed]",
      "text/plain": [
       "<Figure size 432x288 with 1 Axes>"
      ]
     },
     "metadata": {
      "needs_background": "light"
     },
     "output_type": "display_data"
    },
    {
     "name": "stdout",
     "output_type": "stream",
     "text": [
      "Column: factor_variety_attend, 5 unique values\n",
      "0     86\n",
      "1    148\n",
      "2    221\n",
      "3    201\n",
      "4     70\n",
      "Name: factor_variety_attend, dtype: int64\n"
     ]
    },
    {
     "data": {
      "image/png": "[encoded data removed]",
      "text/plain": [
       "<Figure size 432x288 with 1 Axes>"
      ]
     },
     "metadata": {
      "needs_background": "light"
     },
     "output_type": "display_data"
    },
    {
     "name": "stdout",
     "output_type": "stream",
     "text": [
      "Column: factor_code, 5 unique values\n",
      "0    135\n",
      "1    128\n",
      "2    219\n",
      "3    160\n",
      "4     84\n",
      "Name: factor_code, dtype: int64\n"
     ]
    },
    {
     "data": {
      "image/png": "[encoded data removed]",
      "text/plain": [
       "<Figure size 432x288 with 1 Axes>"
      ]
     },
     "metadata": {
      "needs_background": "light"
     },
     "output_type": "display_data"
    },
    {
     "name": "stdout",
     "output_type": "stream",
     "text": [
      "Column: factor_location, 5 unique values\n",
      "0     17\n",
      "1     61\n",
      "2    113\n",
      "3    289\n",
      "4    246\n",
      "Name: factor_location, dtype: int64\n"
     ]
    },
    {
     "data": {
      "image/png": "[encoded data removed]",
      "text/plain": [
       "<Figure size 432x288 with 1 Axes>"
      ]
     },
     "metadata": {
      "needs_background": "light"
     },
     "output_type": "display_data"
    },
    {
     "name": "stdout",
     "output_type": "stream",
     "text": [
      "Column: factor_ability_to_pay, 5 unique values\n",
      "0     17\n",
      "1     34\n",
      "2     57\n",
      "3    198\n",
      "4    420\n",
      "Name: factor_ability_to_pay, dtype: int64\n"
     ]
    },
    {
     "data": {
      "image/png": "[encoded data removed]",
      "text/plain": [
       "<Figure size 432x288 with 1 Axes>"
      ]
     },
     "metadata": {
      "needs_background": "light"
     },
     "output_type": "display_data"
    },
    {
     "name": "stdout",
     "output_type": "stream",
     "text": [
      "Column: ideal_multi_track, 2 unique values\n",
      "False    272\n",
      "True     454\n",
      "Name: ideal_multi_track, dtype: int64\n"
     ]
    },
    {
     "data": {
      "image/png": "[encoded data removed]",
      "text/plain": [
       "<Figure size 432x288 with 1 Axes>"
      ]
     },
     "metadata": {
      "needs_background": "light"
     },
     "output_type": "display_data"
    },
    {
     "name": "stdout",
     "output_type": "stream",
     "text": [
      "Column: ideal_single_track, 2 unique values\n",
      "False    483\n",
      "True     243\n",
      "Name: ideal_single_track, dtype: int64\n"
     ]
    },
    {
     "data": {
      "image/png": "[encoded data removed]",
      "text/plain": [
       "<Figure size 432x288 with 1 Axes>"
      ]
     },
     "metadata": {
      "needs_background": "light"
     },
     "output_type": "display_data"
    },
    {
     "name": "stdout",
     "output_type": "stream",
     "text": [
      "Column: ideal_unconference, 2 unique values\n",
      "False    681\n",
      "True      45\n",
      "Name: ideal_unconference, dtype: int64\n"
     ]
    },
    {
     "data": {
      "image/png": "[encoded data removed]",
      "text/plain": [
       "<Figure size 432x288 with 1 Axes>"
      ]
     },
     "metadata": {
      "needs_background": "light"
     },
     "output_type": "display_data"
    },
    {
     "name": "stdout",
     "output_type": "stream",
     "text": [
      "Column: session_keynote, 5 unique values\n",
      "0     39\n",
      "1     89\n",
      "2     95\n",
      "3    326\n",
      "4    177\n",
      "Name: session_keynote, dtype: int64\n"
     ]
    },
    {
     "data": {
      "image/png": "[encoded data removed]",
      "text/plain": [
       "<Figure size 432x288 with 1 Axes>"
      ]
     },
     "metadata": {
      "needs_background": "light"
     },
     "output_type": "display_data"
    },
    {
     "name": "stdout",
     "output_type": "stream",
     "text": [
      "Column: session_long_talk, 5 unique values\n",
      "0     22\n",
      "1     67\n",
      "2    124\n",
      "3    367\n",
      "4    146\n",
      "Name: session_long_talk, dtype: int64\n"
     ]
    },
    {
     "data": {
      "image/png": "[encoded data removed]",
      "text/plain": [
       "<Figure size 432x288 with 1 Axes>"
      ]
     },
     "metadata": {
      "needs_background": "light"
     },
     "output_type": "display_data"
    },
    {
     "name": "stdout",
     "output_type": "stream",
     "text": [
      "Column: session_short_talk, 5 unique values\n",
      "0     54\n",
      "1    115\n",
      "2    171\n",
      "3    301\n",
      "4     85\n",
      "Name: session_short_talk, dtype: int64\n"
     ]
    },
    {
     "data": {
      "image/png": "[encoded data removed]",
      "text/plain": [
       "<Figure size 432x288 with 1 Axes>"
      ]
     },
     "metadata": {
      "needs_background": "light"
     },
     "output_type": "display_data"
    },
    {
     "name": "stdout",
     "output_type": "stream",
     "text": [
      "Column: session_workshop, 5 unique values\n",
      "0     31\n",
      "1     56\n",
      "2     96\n",
      "3    250\n",
      "4    293\n",
      "Name: session_workshop, dtype: int64\n"
     ]
    },
    {
     "data": {
      "image/png": "[encoded data removed]",
      "text/plain": [
       "<Figure size 432x288 with 1 Axes>"
      ]
     },
     "metadata": {
      "needs_background": "light"
     },
     "output_type": "display_data"
    },
    {
     "name": "stdout",
     "output_type": "stream",
     "text": [
      "Column: session_network, 5 unique values\n",
      "0     68\n",
      "1    167\n",
      "2    178\n",
      "3    197\n",
      "4    116\n",
      "Name: session_network, dtype: int64\n"
     ]
    },
    {
     "data": {
      "image/png": "[encoded data removed]",
      "text/plain": [
       "<Figure size 432x288 with 1 Axes>"
      ]
     },
     "metadata": {
      "needs_background": "light"
     },
     "output_type": "display_data"
    },
    {
     "name": "stdout",
     "output_type": "stream",
     "text": [
      "Column: session_social_event, 5 unique values\n",
      "0    203\n",
      "1    186\n",
      "2    170\n",
      "3    119\n",
      "4     48\n",
      "Name: session_social_event, dtype: int64\n"
     ]
    },
    {
     "data": {
      "image/png": "[encoded data removed]",
      "text/plain": [
       "<Figure size 432x288 with 1 Axes>"
      ]
     },
     "metadata": {
      "needs_background": "light"
     },
     "output_type": "display_data"
    },
    {
     "name": "stdout",
     "output_type": "stream",
     "text": [
      "Column: session_qa, 5 unique values\n",
      "0     75\n",
      "1    149\n",
      "2    207\n",
      "3    203\n",
      "4     92\n",
      "Name: session_qa, dtype: int64\n"
     ]
    },
    {
     "data": {
      "image/png": "[encoded data removed]",
      "text/plain": [
       "<Figure size 432x288 with 1 Axes>"
      ]
     },
     "metadata": {
      "needs_background": "light"
     },
     "output_type": "display_data"
    },
    {
     "name": "stdout",
     "output_type": "stream",
     "text": [
      "Column: sesson_topic_tables, 5 unique values\n",
      "0     70\n",
      "1     98\n",
      "2    142\n",
      "3    281\n",
      "4    135\n",
      "Name: sesson_topic_tables, dtype: int64\n"
     ]
    },
    {
     "data": {
      "image/png": "[encoded data removed]",
      "text/plain": [
       "<Figure size 432x288 with 1 Axes>"
      ]
     },
     "metadata": {
      "needs_background": "light"
     },
     "output_type": "display_data"
    },
    {
     "name": "stdout",
     "output_type": "stream",
     "text": [
      "Column: target, 3 unique values\n",
      "0.0    152\n",
      "0.5    202\n",
      "1.0    372\n",
      "Name: target, dtype: int64\n"
     ]
    },
    {
     "data": {
      "image/png": "[encoded data removed]",
      "text/plain": [
       "<Figure size 432x288 with 1 Axes>"
      ]
     },
     "metadata": {
      "needs_background": "light"
     },
     "output_type": "display_data"
    },
    {
     "name": "stdout",
     "output_type": "stream",
     "text": [
      "Column: persona_id, 4 unique values\n",
      "1     94\n",
      "2    123\n",
      "3    234\n",
      "4    181\n",
      "5     94\n",
      "Name: persona_id, dtype: int64\n"
     ]
    },
    {
     "data": {
      "image/png": "[encoded data removed]",
      "text/plain": [
       "<Figure size 432x288 with 1 Axes>"
      ]
     },
     "metadata": {
      "needs_background": "light"
     },
     "output_type": "display_data"
    },
    {
     "name": "stdout",
     "output_type": "stream",
     "text": [
      "Column: job_taxo, 8 unique values\n",
      "1    287\n",
      "2    109\n",
      "3     23\n",
      "4     23\n",
      "5     65\n",
      "6    113\n",
      "7     49\n",
      "8     45\n",
      "9     12\n",
      "Name: job_taxo, dtype: int64\n"
     ]
    },
    {
     "data": {
      "image/png": "[encoded data removed]",
      "text/plain": [
       "<Figure size 432x288 with 1 Axes>"
      ]
     },
     "metadata": {
      "needs_background": "light"
     },
     "output_type": "display_data"
    }
   ],
   "source": [
    "countplot_cols(df, x)"
   ]
  },
  {
   "cell_type": "code",
   "execution_count": 35,
   "metadata": {},
   "outputs": [
    {
     "name": "stdout",
     "output_type": "stream",
     "text": [
      "job_conduct_res <class 'pandas.core.frame.DataFrame'>\n",
      "job_analyze_res <class 'pandas.core.frame.DataFrame'>\n",
      "job_buy_res_report <class 'pandas.core.frame.DataFrame'>\n",
      "job_manage_res_proj <class 'pandas.core.frame.DataFrame'>\n",
      "job_observe_res <class 'pandas.core.frame.DataFrame'>\n",
      "job_plan_res <class 'pandas.core.frame.DataFrame'>\n",
      "job_teach_res <class 'pandas.core.frame.DataFrame'>\n",
      "job_advocate_res <class 'pandas.core.frame.DataFrame'>\n",
      "job_hire_res_vendor <class 'pandas.core.frame.DataFrame'>\n",
      "job_lead_res_team <class 'pandas.core.frame.DataFrame'>\n",
      "exp_conduct_res <class 'pandas.core.frame.DataFrame'>\n",
      "exp_analyze_res <class 'pandas.core.frame.DataFrame'>\n",
      "exp_buy_res_report <class 'pandas.core.frame.DataFrame'>\n",
      "exp_manage_res_proj <class 'pandas.core.frame.DataFrame'>\n",
      "exp_observe_res <class 'pandas.core.frame.DataFrame'>\n",
      "exp_plan_res <class 'pandas.core.frame.DataFrame'>\n",
      "exp_teach_res <class 'pandas.core.frame.DataFrame'>\n",
      "exp_advocate_res <class 'pandas.core.frame.DataFrame'>\n",
      "exp_hire_res_vendor <class 'pandas.core.frame.DataFrame'>\n",
      "exp_lead_res_team <class 'pandas.core.frame.DataFrame'>\n",
      "research_educ_cat <class 'pandas.core.frame.DataFrame'>\n",
      "learning_talks <class 'pandas.core.frame.DataFrame'>\n",
      "learning_read <class 'pandas.core.frame.DataFrame'>\n",
      "learning_meetup <class 'pandas.core.frame.DataFrame'>\n",
      "learning_workshop <class 'pandas.core.frame.DataFrame'>\n",
      "likely_watch_video <class 'pandas.core.frame.DataFrame'>\n",
      "likely_internet <class 'pandas.core.frame.DataFrame'>\n",
      "likely_book <class 'pandas.core.frame.DataFrame'>\n",
      "likely_online_group <class 'pandas.core.frame.DataFrame'>\n",
      "likely_colleague <class 'pandas.core.frame.DataFrame'>\n",
      "likely_meetup <class 'pandas.core.frame.DataFrame'>\n",
      "likely_workshop <class 'pandas.core.frame.DataFrame'>\n",
      "factor_speaker <class 'pandas.core.frame.DataFrame'>\n",
      "factor_diverse_speak <class 'pandas.core.frame.DataFrame'>\n",
      "factor_topics <class 'pandas.core.frame.DataFrame'>\n",
      "factor_format_sessions <class 'pandas.core.frame.DataFrame'>\n",
      "factor_size <class 'pandas.core.frame.DataFrame'>\n",
      "factor_network <class 'pandas.core.frame.DataFrame'>\n",
      "factor_variety_attend <class 'pandas.core.frame.DataFrame'>\n",
      "factor_code <class 'pandas.core.frame.DataFrame'>\n",
      "factor_location <class 'pandas.core.frame.DataFrame'>\n",
      "factor_ability_to_pay <class 'pandas.core.frame.DataFrame'>\n",
      "ideal_multi_track <class 'pandas.core.frame.DataFrame'>\n",
      "ideal_single_track <class 'pandas.core.frame.DataFrame'>\n",
      "ideal_unconference <class 'pandas.core.frame.DataFrame'>\n",
      "session_keynote <class 'pandas.core.frame.DataFrame'>\n",
      "session_long_talk <class 'pandas.core.frame.DataFrame'>\n",
      "session_short_talk <class 'pandas.core.frame.DataFrame'>\n",
      "session_workshop <class 'pandas.core.frame.DataFrame'>\n",
      "session_network <class 'pandas.core.frame.DataFrame'>\n",
      "session_social_event <class 'pandas.core.frame.DataFrame'>\n",
      "session_qa <class 'pandas.core.frame.DataFrame'>\n",
      "sesson_topic_tables <class 'pandas.core.frame.DataFrame'>\n",
      "target <class 'pandas.core.frame.DataFrame'>\n",
      "persona_id <class 'pandas.core.frame.DataFrame'>\n",
      "job_taxo <class 'pandas.core.frame.DataFrame'>\n"
     ]
    }
   ],
   "source": [
    "for xs in x:\n",
    "    print(xs, type(df[[xs]]))"
   ]
  },
  {
   "cell_type": "code",
   "execution_count": null,
   "metadata": {},
   "outputs": [],
   "source": [
    "def display_cats(col):\n",
    "\n",
    "    display(df[col].value_counts().sort_index())\n",
    "    display(dfrecode3[col].value_counts().sort_index())\n",
    "    display(dfrecode2[col].value_counts().sort_index())"
   ]
  },
  {
   "cell_type": "code",
   "execution_count": null,
   "metadata": {},
   "outputs": [],
   "source": [
    "chk_df = dfrecode2\n",
    "chk_col = 'job_manage_res_proj'\n",
    "vs_col = 'target'\n",
    "\n",
    "observed = pd.crosstab(index=chk_df[chk_col], columns=chk_df[vs_col])\n",
    "observed"
   ]
  },
  {
   "cell_type": "code",
   "execution_count": null,
   "metadata": {},
   "outputs": [],
   "source": []
  },
  {
   "cell_type": "code",
   "execution_count": null,
   "metadata": {},
   "outputs": [],
   "source": []
  },
  {
   "cell_type": "code",
   "execution_count": null,
   "metadata": {},
   "outputs": [],
   "source": []
  }
 ],
 "metadata": {
  "kernelspec": {
   "display_name": "Python 3",
   "language": "python",
   "name": "python3"
  },
  "language_info": {
   "codemirror_mode": {
    "name": "ipython",
    "version": 3
   },
   "file_extension": ".py",
   "mimetype": "text/x-python",
   "name": "python",
   "nbconvert_exporter": "python",
   "pygments_lexer": "ipython3",
   "version": "3.7.3"
  }
 },
 "nbformat": 4,
 "nbformat_minor": 2
}

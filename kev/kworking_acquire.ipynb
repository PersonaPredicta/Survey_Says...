{
 "cells": [
  {
   "cell_type": "code",
   "execution_count": 10,
   "metadata": {},
   "outputs": [],
   "source": [
    "import pandas as pd\n",
    "import numpy as np\n",
    "import json\n",
    "\n",
    "\n",
    "import matplotlib.pyplot as plt\n",
    "import seaborn as sns"
   ]
  },
  {
   "cell_type": "code",
   "execution_count": 2,
   "metadata": {},
   "outputs": [],
   "source": [
    "import sys\n",
    "sys.path.append('../')\n",
    "import wrangle"
   ]
  },
  {
   "cell_type": "code",
   "execution_count": 3,
   "metadata": {},
   "outputs": [],
   "source": [
    "datadf, dictionarydf = wrangle.wrangle_data(path_prefix='../')"
   ]
  },
  {
   "cell_type": "code",
   "execution_count": 4,
   "metadata": {},
   "outputs": [
    {
     "name": "stdout",
     "output_type": "stream",
     "text": [
      "<class 'pandas.core.frame.DataFrame'>\n",
      "Int64Index: 726 entries, 284 to 2\n",
      "Data columns (total 78 columns):\n",
      "job_title                         726 non-null category\n",
      "job_taxo                          726 non-null category\n",
      "job_id                            723 non-null category\n",
      "job_conduct_res                   726 non-null int64\n",
      "job_analyze_res                   726 non-null int64\n",
      "job_buy_res_report                726 non-null int64\n",
      "job_manage_res_proj               726 non-null int64\n",
      "job_observe_res                   726 non-null int64\n",
      "job_plan_res                      726 non-null int64\n",
      "job_teach_res                     726 non-null int64\n",
      "job_advocate_res                  726 non-null int64\n",
      "job_hire_res_vendor               726 non-null int64\n",
      "job_lead_res_team                 726 non-null int64\n",
      "num_employees                     723 non-null category\n",
      "num_researchers                   722 non-null category\n",
      "primary_industry                  726 non-null category\n",
      "types_res_used                    690 non-null category\n",
      "future_res                        609 non-null category\n",
      "exp_conduct_res                   726 non-null int64\n",
      "exp_analyze_res                   726 non-null int64\n",
      "exp_buy_res_report                726 non-null int64\n",
      "exp_manage_res_proj               726 non-null int64\n",
      "exp_observe_res                   726 non-null int64\n",
      "exp_plan_res                      726 non-null int64\n",
      "exp_teach_res                     726 non-null int64\n",
      "exp_advocate_res                  726 non-null int64\n",
      "exp_hire_res_vendor               726 non-null int64\n",
      "exp_lead_res_team                 726 non-null int64\n",
      "research_educ                     726 non-null object\n",
      "research_educ_cat                 726 non-null category\n",
      "research_educ_desc                540 non-null object\n",
      "learning_talks                    726 non-null int64\n",
      "learning_read                     726 non-null int64\n",
      "learning_meetup                   726 non-null int64\n",
      "learning_workshop                 726 non-null int64\n",
      "learning_conference               726 non-null int64\n",
      "likely_watch_video                726 non-null int64\n",
      "likely_internet                   726 non-null int64\n",
      "likely_book                       726 non-null int64\n",
      "likely_online_group               726 non-null int64\n",
      "likely_colleague                  726 non-null int64\n",
      "likely_meetup                     726 non-null int64\n",
      "likely_conference                 726 non-null int64\n",
      "likely_workshop                   726 non-null int64\n",
      "factor_speaker                    726 non-null int64\n",
      "factor_diverse_speak              726 non-null int64\n",
      "factor_topics                     726 non-null int64\n",
      "factor_format_sessions            726 non-null int64\n",
      "factor_size                       726 non-null int64\n",
      "factor_network                    726 non-null int64\n",
      "factor_variety_attend             726 non-null int64\n",
      "factor_code                       726 non-null int64\n",
      "factor_location                   726 non-null int64\n",
      "factor_ability_to_pay             726 non-null int64\n",
      "how_pick_events                   644 non-null object\n",
      "best_event                        594 non-null object\n",
      "events_attend_recent              558 non-null object\n",
      "ideal_conference_size             726 non-null object\n",
      "ideal_conference_size_cat_orig    724 non-null category\n",
      "ideal_conference_size_cat         726 non-null category\n",
      "ideal_structure                   726 non-null object\n",
      "ideal_structure_cat               726 non-null category\n",
      "ideal_multi_track                 726 non-null int64\n",
      "ideal_single_track                726 non-null int64\n",
      "ideal_unconference                726 non-null int64\n",
      "session_keynote                   726 non-null int64\n",
      "session_long_talk                 726 non-null int64\n",
      "session_short_talk                726 non-null int64\n",
      "session_workshop                  726 non-null int64\n",
      "session_network                   726 non-null int64\n",
      "session_social_event              726 non-null int64\n",
      "session_qa                        726 non-null int64\n",
      "sesson_topic_tables               726 non-null int64\n",
      "other_conference_types            258 non-null object\n",
      "ideal_topics                      560 non-null object\n",
      "ideal_attendees                   471 non-null object\n",
      "recommendations                   494 non-null object\n",
      "persona_id                        726 non-null category\n",
      "dtypes: category(13), int64(54), object(11)\n",
      "memory usage: 463.7+ KB\n"
     ]
    }
   ],
   "source": [
    "datadf.info()"
   ]
  },
  {
   "cell_type": "code",
   "execution_count": 5,
   "metadata": {},
   "outputs": [
    {
     "name": "stdout",
     "output_type": "stream",
     "text": [
      "<class 'pandas.core.frame.DataFrame'>\n",
      "Index: 79 entries, q00 to x01\n",
      "Data columns (total 11 columns):\n",
      "column_name       79 non-null object\n",
      "is_required       79 non-null bool\n",
      "from_orig_file    79 non-null bool\n",
      "in_wrangle        79 non-null bool\n",
      "char_type         79 non-null object\n",
      "function          79 non-null object\n",
      "data_type         79 non-null object\n",
      "encoder           59 non-null object\n",
      "survey_section    78 non-null object\n",
      "question_group    78 non-null object\n",
      "question_text     78 non-null object\n",
      "dtypes: bool(3), object(8)\n",
      "memory usage: 8.3+ KB\n"
     ]
    }
   ],
   "source": [
    "dictionarydf.info()"
   ]
  },
  {
   "cell_type": "code",
   "execution_count": 7,
   "metadata": {},
   "outputs": [
    {
     "data": {
      "text/html": [
       "<div>\n",
       "<style scoped>\n",
       "    .dataframe tbody tr th:only-of-type {\n",
       "        vertical-align: middle;\n",
       "    }\n",
       "\n",
       "    .dataframe tbody tr th {\n",
       "        vertical-align: top;\n",
       "    }\n",
       "\n",
       "    .dataframe thead th {\n",
       "        text-align: right;\n",
       "    }\n",
       "</style>\n",
       "<table border=\"1\" class=\"dataframe\">\n",
       "  <thead>\n",
       "    <tr style=\"text-align: right;\">\n",
       "      <th></th>\n",
       "      <th>learning_conference</th>\n",
       "      <th>likely_conference</th>\n",
       "    </tr>\n",
       "  </thead>\n",
       "  <tbody>\n",
       "    <tr>\n",
       "      <th>count</th>\n",
       "      <td>726.000000</td>\n",
       "      <td>726.000000</td>\n",
       "    </tr>\n",
       "    <tr>\n",
       "      <th>mean</th>\n",
       "      <td>1.663912</td>\n",
       "      <td>2.250689</td>\n",
       "    </tr>\n",
       "    <tr>\n",
       "      <th>std</th>\n",
       "      <td>0.761119</td>\n",
       "      <td>1.143723</td>\n",
       "    </tr>\n",
       "    <tr>\n",
       "      <th>min</th>\n",
       "      <td>0.000000</td>\n",
       "      <td>0.000000</td>\n",
       "    </tr>\n",
       "    <tr>\n",
       "      <th>25%</th>\n",
       "      <td>1.000000</td>\n",
       "      <td>1.000000</td>\n",
       "    </tr>\n",
       "    <tr>\n",
       "      <th>50%</th>\n",
       "      <td>2.000000</td>\n",
       "      <td>2.000000</td>\n",
       "    </tr>\n",
       "    <tr>\n",
       "      <th>75%</th>\n",
       "      <td>2.000000</td>\n",
       "      <td>3.000000</td>\n",
       "    </tr>\n",
       "    <tr>\n",
       "      <th>max</th>\n",
       "      <td>3.000000</td>\n",
       "      <td>4.000000</td>\n",
       "    </tr>\n",
       "  </tbody>\n",
       "</table>\n",
       "</div>"
      ],
      "text/plain": [
       "       learning_conference  likely_conference\n",
       "count           726.000000         726.000000\n",
       "mean              1.663912           2.250689\n",
       "std               0.761119           1.143723\n",
       "min               0.000000           0.000000\n",
       "25%               1.000000           1.000000\n",
       "50%               2.000000           2.000000\n",
       "75%               2.000000           3.000000\n",
       "max               3.000000           4.000000"
      ]
     },
     "execution_count": 7,
     "metadata": {},
     "output_type": "execute_result"
    }
   ],
   "source": [
    "datadf[['learning_conference', 'likely_conference']].describe()"
   ]
  },
  {
   "cell_type": "code",
   "execution_count": 11,
   "metadata": {},
   "outputs": [
    {
     "data": {
      "image/png": "[encoded data removed]",
      "text/plain": [
       "<Figure size 432x288 with 1 Axes>"
      ]
     },
     "metadata": {
      "needs_background": "light"
     },
     "output_type": "display_data"
    }
   ],
   "source": [
    "datadf.learning_conference.plot.hist()\n",
    "plt.show()"
   ]
  },
  {
   "cell_type": "code",
   "execution_count": 12,
   "metadata": {},
   "outputs": [
    {
     "data": {
      "image/png": "[encoded data removed]",
      "text/plain": [
       "<Figure size 432x288 with 1 Axes>"
      ]
     },
     "metadata": {
      "needs_background": "light"
     },
     "output_type": "display_data"
    }
   ],
   "source": [
    "datadf.likely_conference.plot.hist()\n",
    "plt.show()"
   ]
  },
  {
   "cell_type": "code",
   "execution_count": null,
   "metadata": {},
   "outputs": [],
   "source": []
  },
  {
   "cell_type": "code",
   "execution_count": null,
   "metadata": {},
   "outputs": [],
   "source": []
  },
  {
   "cell_type": "code",
   "execution_count": null,
   "metadata": {},
   "outputs": [],
   "source": []
  },
  {
   "cell_type": "code",
   "execution_count": null,
   "metadata": {},
   "outputs": [],
   "source": []
  },
  {
   "cell_type": "code",
   "execution_count": null,
   "metadata": {},
   "outputs": [],
   "source": []
  },
  {
   "cell_type": "code",
   "execution_count": null,
   "metadata": {},
   "outputs": [],
   "source": [
    "def get_objs(df, **kwargs):\n",
    "    '''\n",
    "    get_objs(df, **kwargs)\n",
    "    RETURNS pd Series\n",
    "    '''\n",
    "    return df.columns[df.dtypes=='object']"
   ]
  },
  {
   "cell_type": "code",
   "execution_count": null,
   "metadata": {},
   "outputs": [],
   "source": [
    "def get_uniques(df, max_uniques=10, target_col='', **kwargs):\n",
    "    '''\n",
    "    get_uniques(df, max_uniques=10, target_col='', **kwargs)\n",
    "    RETURNS summary dataframe\n",
    "    Receives dataframe as input, examines all columns defined as objects, and\n",
    "    returns a summary report with column name as its index.\n",
    "    Report showss on the number of unique values (column 'nunuiques') within \n",
    "    each column and provides the unique values column('uniques') if the unique \n",
    "    value count is is less than or equal to max_uniques.\n",
    "    If the input dataframe contains the target column, enter that name as the \n",
    "    target_col argument so it can be removed from the analysis.\n",
    "    '''\n",
    "    df_objs = pd.DataFrame(get_objs(df), columns=['cols'])\n",
    "    df_objs = df_objs[df_objs.cols != target_col]\n",
    "    df_objs['nuniques'] = df_objs.cols.apply(lambda x: df[x].nunique())\n",
    "    df_cats = df_objs[df_objs.nuniques <= max_uniques]\n",
    "    df_cats['uniques'] = df_cats.cols.apply(lambda x: df[x].unique())\n",
    "    df_objs = df_objs.join(df_cats.uniques, how='left')\n",
    "    return df_objs.set_index('cols')"
   ]
  },
  {
   "cell_type": "code",
   "execution_count": null,
   "metadata": {},
   "outputs": [],
   "source": [
    "df_uniques = get_uniques(df, truncate=False).sort_values('cols')\n",
    "df_uniques.to_json('df_uniques.json')"
   ]
  },
  {
   "cell_type": "code",
   "execution_count": null,
   "metadata": {},
   "outputs": [],
   "source": [
    "df_uniques"
   ]
  },
  {
   "cell_type": "code",
   "execution_count": null,
   "metadata": {},
   "outputs": [],
   "source": [
    "qlib = pd.read_csv('question_library.txt').dropna().set_index('qid2')\n",
    "qlib['col'] = qlib.index\n",
    "qlib"
   ]
  },
  {
   "cell_type": "code",
   "execution_count": null,
   "metadata": {},
   "outputs": [],
   "source": [
    "checkcol = 'q19g'\n",
    "use_dict = dict_list[qlib.cat_lib[checkcol]]\n",
    "print(use_dict)\n",
    "\n",
    "\n",
    "encoded = df[checkcol].apply(lambda x: use_dict[x])\n",
    "encoded.head(10)"
   ]
  },
  {
   "cell_type": "code",
   "execution_count": null,
   "metadata": {},
   "outputs": [],
   "source": [
    "def encode_columns(df, cols, dicts, check_dicts):\n",
    "#     print('***** cols *****')\n",
    "#     print(cols.head())\n",
    "#     print('***** dicts *****')\n",
    "#     print(dicts)\n",
    "#     print('***** check_dicts *****')\n",
    "#     print(check_dicts.head())\n",
    "    for col in cols:\n",
    "#         print('*****\\n','col',col)\n",
    "        use_dict = dicts[check_dicts[col]]\n",
    "#         print(use_dict)\n",
    "        encoded = df[col].apply(lambda x: use_dict[x])\n",
    "#         print('*****\\n',encoded.head())\n",
    "        df[col] = encoded\n",
    "    return df\n",
    "    pass\n",
    "    "
   ]
  },
  {
   "cell_type": "code",
   "execution_count": null,
   "metadata": {},
   "outputs": [],
   "source": [
    "df2 = df.copy()\n",
    "# display(df2.info())\n",
    "display(df2.head())\n",
    "\n",
    "encode_columns(df=df2, cols=qlib.col, dicts=dict_list, check_dicts=qlib.cat_lib)\n",
    "display(df2.head())\n",
    "df2.info()"
   ]
  },
  {
   "cell_type": "code",
   "execution_count": 13,
   "metadata": {},
   "outputs": [
    {
     "data": {
      "text/plain": [
       "['/Users/kevineliasen/GoogleDrive/CodingStuff/Codeup/Capstone/kev']"
      ]
     },
     "execution_count": 13,
     "metadata": {},
     "output_type": "execute_result"
    }
   ],
   "source": [
    "x = !pwd\n",
    "x"
   ]
  },
  {
   "cell_type": "code",
   "execution_count": null,
   "metadata": {},
   "outputs": [],
   "source": []
  },
  {
   "cell_type": "code",
   "execution_count": null,
   "metadata": {},
   "outputs": [],
   "source": []
  },
  {
   "cell_type": "code",
   "execution_count": null,
   "metadata": {},
   "outputs": [],
   "source": []
  },
  {
   "cell_type": "code",
   "execution_count": null,
   "metadata": {},
   "outputs": [],
   "source": [
    "data_dictionary = pd.read_excel('../data_files/data_dictionary.xlsx')"
   ]
  },
  {
   "cell_type": "code",
   "execution_count": null,
   "metadata": {},
   "outputs": [],
   "source": []
  }
 ],
 "metadata": {
  "kernelspec": {
   "display_name": "Python 3",
   "language": "python",
   "name": "python3"
  },
  "language_info": {
   "codemirror_mode": {
    "name": "ipython",
    "version": 3
   },
   "file_extension": ".py",
   "mimetype": "text/x-python",
   "name": "python",
   "nbconvert_exporter": "python",
   "pygments_lexer": "ipython3",
   "version": "3.7.3"
  }
 },
 "nbformat": 4,
 "nbformat_minor": 2
}
